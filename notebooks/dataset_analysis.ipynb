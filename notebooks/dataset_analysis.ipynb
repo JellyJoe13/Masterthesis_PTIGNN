{
 "cells": [
  {
   "cell_type": "markdown",
   "source": [
    "# Analysis of datasets"
   ],
   "metadata": {
    "collapsed": false
   }
  },
  {
   "cell_type": "markdown",
   "source": [
    "## Import section"
   ],
   "metadata": {
    "collapsed": false
   }
  },
  {
   "cell_type": "code",
   "execution_count": 1,
   "outputs": [],
   "source": [
    "import os\n",
    "import pickle\n",
    "from functools import partial\n",
    "\n",
    "import numpy as np\n",
    "import pandas as pd\n",
    "from multiprocess.pool import Pool\n",
    "from rdkit import Chem\n",
    "from tqdm import tqdm\n",
    "\n",
    "from ptgnn.features.chienn.molecule3d import smiles_to_3d_mol"
   ],
   "metadata": {
    "collapsed": false,
    "ExecuteTime": {
     "start_time": "2024-04-04T20:57:06.900818Z",
     "end_time": "2024-04-04T20:57:10.759235Z"
    }
   }
  },
  {
   "cell_type": "markdown",
   "source": [
    "## Load dataset (csv's) (assumes to be downloaded in dev/source by default)"
   ],
   "metadata": {
    "collapsed": false
   }
  },
  {
   "cell_type": "code",
   "execution_count": 2,
   "outputs": [],
   "source": [
    "ds_source_path = \"dev/src/\""
   ],
   "metadata": {
    "collapsed": false,
    "ExecuteTime": {
     "start_time": "2024-04-04T20:57:10.759235Z",
     "end_time": "2024-04-04T20:57:10.775238Z"
    }
   }
  },
  {
   "cell_type": "code",
   "execution_count": 3,
   "outputs": [],
   "source": [
    "dataset_dict = {}"
   ],
   "metadata": {
    "collapsed": false,
    "ExecuteTime": {
     "start_time": "2024-04-04T20:57:10.777238Z",
     "end_time": "2024-04-04T20:57:10.815236Z"
    }
   }
  },
  {
   "cell_type": "code",
   "execution_count": 4,
   "outputs": [],
   "source": [
    "# rs dataset\n",
    "with open(os.path.join(ds_source_path, \"rs\", \"raw\", 'train.pickle'), 'rb') as f:\n",
    "    split_df = pickle.load(f)\n",
    "\n",
    "dataset_dict['rs'] = split_df.rdkit_mol_cistrans_stereo.tolist()"
   ],
   "metadata": {
    "collapsed": false,
    "ExecuteTime": {
     "start_time": "2024-04-04T20:57:10.790236Z",
     "end_time": "2024-04-04T20:57:17.707915Z"
    }
   }
  },
  {
   "cell_type": "code",
   "execution_count": 5,
   "outputs": [
    {
     "data": {
      "text/plain": "                                                       ID  \\\n0       BrC1=C[C@@H](c2ccc(-c3ccccc3)cc2)CC(c2nc(-c3cc...   \n1       BrC1=C[C@@H](c2ccc(-c3ccccc3)cc2)CC(c2nc(-c3cc...   \n2       BrC1=C[C@@H](c2ccc(-c3ccccc3)cc2)CC(c2nc(-c3cc...   \n3       BrC1=C[C@@H](c2ccc(-c3ccccc3)cc2)CC(c2nc(-c3cc...   \n4       BrC1=C[C@@H](c2ccc(-c3ccccc3)cc2)CC(c2nc(-c3cc...   \n...                                                   ...   \n326860                         c1nnc([C@H]2CNCCO2)n1C1CC1   \n326861                         c1nnc([C@H]2CNCCO2)n1C1CC1   \n326862                         c1nnc([C@H]2CNCCO2)n1C1CC1   \n326863                         c1nnc([C@H]2CNCCO2)n1C1CC1   \n326864                         c1nnc([C@H]2CNCCO2)n1C1CC1   \n\n                                          SMILES_nostereo  \\\n0       BrC1=CC(c2ccc(-c3ccccc3)cc2)CC(c2nc(-c3ccccc3)...   \n1       BrC1=CC(c2ccc(-c3ccccc3)cc2)CC(c2nc(-c3ccccc3)...   \n2       BrC1=CC(c2ccc(-c3ccccc3)cc2)CC(c2nc(-c3ccccc3)...   \n3       BrC1=CC(c2ccc(-c3ccccc3)cc2)CC(c2nc(-c3ccccc3)...   \n4       BrC1=CC(c2ccc(-c3ccccc3)cc2)CC(c2nc(-c3ccccc3)...   \n...                                                   ...   \n326860                             c1nnc(C2CNCCO2)n1C1CC1   \n326861                             c1nnc(C2CNCCO2)n1C1CC1   \n326862                             c1nnc(C2CNCCO2)n1C1CC1   \n326863                             c1nnc(C2CNCCO2)n1C1CC1   \n326864                             c1nnc(C2CNCCO2)n1C1CC1   \n\n                                rdkit_mol_cistrans_stereo RS_label  \\\n0       <rdkit.Chem.rdchem.Mol object at 0x000001E77ED...        S   \n1       <rdkit.Chem.rdchem.Mol object at 0x000001E77ED...        S   \n2       <rdkit.Chem.rdchem.Mol object at 0x000001E77ED...        S   \n3       <rdkit.Chem.rdchem.Mol object at 0x000001E77ED...        S   \n4       <rdkit.Chem.rdchem.Mol object at 0x000001E77ED...        S   \n...                                                   ...      ...   \n326860  <rdkit.Chem.rdchem.Mol object at 0x000001E815C...        R   \n326861  <rdkit.Chem.rdchem.Mol object at 0x000001E815C...        R   \n326862  <rdkit.Chem.rdchem.Mol object at 0x000001E815C...        R   \n326863  <rdkit.Chem.rdchem.Mol object at 0x000001E815C...        R   \n326864  <rdkit.Chem.rdchem.Mol object at 0x000001E815C...        R   \n\n        RS_label_binary  \n0                     1  \n1                     1  \n2                     1  \n3                     1  \n4                     1  \n...                 ...  \n326860                0  \n326861                0  \n326862                0  \n326863                0  \n326864                0  \n\n[326865 rows x 5 columns]",
      "text/html": "<div>\n<style scoped>\n    .dataframe tbody tr th:only-of-type {\n        vertical-align: middle;\n    }\n\n    .dataframe tbody tr th {\n        vertical-align: top;\n    }\n\n    .dataframe thead th {\n        text-align: right;\n    }\n</style>\n<table border=\"1\" class=\"dataframe\">\n  <thead>\n    <tr style=\"text-align: right;\">\n      <th></th>\n      <th>ID</th>\n      <th>SMILES_nostereo</th>\n      <th>rdkit_mol_cistrans_stereo</th>\n      <th>RS_label</th>\n      <th>RS_label_binary</th>\n    </tr>\n  </thead>\n  <tbody>\n    <tr>\n      <th>0</th>\n      <td>BrC1=C[C@@H](c2ccc(-c3ccccc3)cc2)CC(c2nc(-c3cc...</td>\n      <td>BrC1=CC(c2ccc(-c3ccccc3)cc2)CC(c2nc(-c3ccccc3)...</td>\n      <td>&lt;rdkit.Chem.rdchem.Mol object at 0x000001E77ED...</td>\n      <td>S</td>\n      <td>1</td>\n    </tr>\n    <tr>\n      <th>1</th>\n      <td>BrC1=C[C@@H](c2ccc(-c3ccccc3)cc2)CC(c2nc(-c3cc...</td>\n      <td>BrC1=CC(c2ccc(-c3ccccc3)cc2)CC(c2nc(-c3ccccc3)...</td>\n      <td>&lt;rdkit.Chem.rdchem.Mol object at 0x000001E77ED...</td>\n      <td>S</td>\n      <td>1</td>\n    </tr>\n    <tr>\n      <th>2</th>\n      <td>BrC1=C[C@@H](c2ccc(-c3ccccc3)cc2)CC(c2nc(-c3cc...</td>\n      <td>BrC1=CC(c2ccc(-c3ccccc3)cc2)CC(c2nc(-c3ccccc3)...</td>\n      <td>&lt;rdkit.Chem.rdchem.Mol object at 0x000001E77ED...</td>\n      <td>S</td>\n      <td>1</td>\n    </tr>\n    <tr>\n      <th>3</th>\n      <td>BrC1=C[C@@H](c2ccc(-c3ccccc3)cc2)CC(c2nc(-c3cc...</td>\n      <td>BrC1=CC(c2ccc(-c3ccccc3)cc2)CC(c2nc(-c3ccccc3)...</td>\n      <td>&lt;rdkit.Chem.rdchem.Mol object at 0x000001E77ED...</td>\n      <td>S</td>\n      <td>1</td>\n    </tr>\n    <tr>\n      <th>4</th>\n      <td>BrC1=C[C@@H](c2ccc(-c3ccccc3)cc2)CC(c2nc(-c3cc...</td>\n      <td>BrC1=CC(c2ccc(-c3ccccc3)cc2)CC(c2nc(-c3ccccc3)...</td>\n      <td>&lt;rdkit.Chem.rdchem.Mol object at 0x000001E77ED...</td>\n      <td>S</td>\n      <td>1</td>\n    </tr>\n    <tr>\n      <th>...</th>\n      <td>...</td>\n      <td>...</td>\n      <td>...</td>\n      <td>...</td>\n      <td>...</td>\n    </tr>\n    <tr>\n      <th>326860</th>\n      <td>c1nnc([C@H]2CNCCO2)n1C1CC1</td>\n      <td>c1nnc(C2CNCCO2)n1C1CC1</td>\n      <td>&lt;rdkit.Chem.rdchem.Mol object at 0x000001E815C...</td>\n      <td>R</td>\n      <td>0</td>\n    </tr>\n    <tr>\n      <th>326861</th>\n      <td>c1nnc([C@H]2CNCCO2)n1C1CC1</td>\n      <td>c1nnc(C2CNCCO2)n1C1CC1</td>\n      <td>&lt;rdkit.Chem.rdchem.Mol object at 0x000001E815C...</td>\n      <td>R</td>\n      <td>0</td>\n    </tr>\n    <tr>\n      <th>326862</th>\n      <td>c1nnc([C@H]2CNCCO2)n1C1CC1</td>\n      <td>c1nnc(C2CNCCO2)n1C1CC1</td>\n      <td>&lt;rdkit.Chem.rdchem.Mol object at 0x000001E815C...</td>\n      <td>R</td>\n      <td>0</td>\n    </tr>\n    <tr>\n      <th>326863</th>\n      <td>c1nnc([C@H]2CNCCO2)n1C1CC1</td>\n      <td>c1nnc(C2CNCCO2)n1C1CC1</td>\n      <td>&lt;rdkit.Chem.rdchem.Mol object at 0x000001E815C...</td>\n      <td>R</td>\n      <td>0</td>\n    </tr>\n    <tr>\n      <th>326864</th>\n      <td>c1nnc([C@H]2CNCCO2)n1C1CC1</td>\n      <td>c1nnc(C2CNCCO2)n1C1CC1</td>\n      <td>&lt;rdkit.Chem.rdchem.Mol object at 0x000001E815C...</td>\n      <td>R</td>\n      <td>0</td>\n    </tr>\n  </tbody>\n</table>\n<p>326865 rows × 5 columns</p>\n</div>"
     },
     "execution_count": 5,
     "metadata": {},
     "output_type": "execute_result"
    }
   ],
   "source": [
    "split_df"
   ],
   "metadata": {
    "collapsed": false,
    "ExecuteTime": {
     "start_time": "2024-04-04T20:57:17.709917Z",
     "end_time": "2024-04-04T20:57:17.726917Z"
    }
   }
  },
  {
   "cell_type": "code",
   "execution_count": 6,
   "outputs": [],
   "source": [
    "# ba dataset\n",
    "with open(os.path.join(ds_source_path, \"bindingaffinity\", \"raw\", 'train.pickle'), 'rb') as f:\n",
    "    split_df = pickle.load(f)\n",
    "\n",
    "dataset_dict['ba'] = split_df.rdkit_mol_cistrans_stereo.tolist()"
   ],
   "metadata": {
    "collapsed": false,
    "ExecuteTime": {
     "start_time": "2024-04-04T20:57:17.724918Z",
     "end_time": "2024-04-04T20:57:20.507673Z"
    }
   }
  },
  {
   "cell_type": "code",
   "execution_count": 7,
   "outputs": [
    {
     "data": {
      "text/plain": "                             ID     SMILES_nostereo  \\\n0       BrC1([C@@H]2CC23CC3)CC1  BrC1(C2CC23CC3)CC1   \n1       BrC1([C@@H]2CC23CC3)CC1  BrC1(C2CC23CC3)CC1   \n2       BrC1([C@@H]2CC23CC3)CC1  BrC1(C2CC23CC3)CC1   \n3        BrC1([C@H]2CC23CC3)CC1  BrC1(C2CC23CC3)CC1   \n4        BrC1([C@H]2CC23CC3)CC1  BrC1(C2CC23CC3)CC1   \n...                         ...                 ...   \n234617     c1snnc1C[C@H]1CCCCN1    c1snnc1CC1CCCCN1   \n234618     c1snnc1C[C@H]1CCCCN1    c1snnc1CC1CCCCN1   \n234619     c1snnc1C[C@H]1CCCCN1    c1snnc1CC1CCCCN1   \n234620     c1snnc1C[C@H]1CCCCN1    c1snnc1CC1CCCCN1   \n234621     c1snnc1C[C@H]1CCCCN1    c1snnc1CC1CCCCN1   \n\n                                rdkit_mol_cistrans_stereo  score0  score1  \\\n0       <rdkit.Chem.rdchem.Mol object at 0x000001E815C...    -4.6    -4.6   \n1       <rdkit.Chem.rdchem.Mol object at 0x000001E7ADE...    -4.6    -4.6   \n2       <rdkit.Chem.rdchem.Mol object at 0x000001E7ADE...    -4.6    -4.6   \n3       <rdkit.Chem.rdchem.Mol object at 0x000001E7ADE...    -5.0    -5.0   \n4       <rdkit.Chem.rdchem.Mol object at 0x000001E7ADE...    -5.0    -5.0   \n...                                                   ...     ...     ...   \n234617  <rdkit.Chem.rdchem.Mol object at 0x000001E8803...    -5.1    -5.1   \n234618  <rdkit.Chem.rdchem.Mol object at 0x000001E8803...    -5.1    -5.1   \n234619  <rdkit.Chem.rdchem.Mol object at 0x000001E8803...    -5.1    -5.1   \n234620  <rdkit.Chem.rdchem.Mol object at 0x000001E8803...    -5.1    -5.1   \n234621  <rdkit.Chem.rdchem.Mol object at 0x000001E8803...    -5.1    -5.1   \n\n        score2  top_score  range_scores  mean_score  \\\n0         -4.6       -4.6           0.0        -4.6   \n1         -4.6       -4.6           0.0        -4.6   \n2         -4.6       -4.6           0.0        -4.6   \n3         -5.0       -5.0           0.0        -5.0   \n4         -5.0       -5.0           0.0        -5.0   \n...        ...        ...           ...         ...   \n234617    -5.1       -5.1           0.0        -5.1   \n234618    -5.1       -5.1           0.0        -5.1   \n234619    -5.1       -5.1           0.0        -5.1   \n234620    -5.1       -5.1           0.0        -5.1   \n234621    -5.1       -5.1           0.0        -5.1   \n\n        top_score_enantiomers_range  \n0                               0.4  \n1                               0.4  \n2                               0.4  \n3                               0.4  \n4                               0.4  \n...                             ...  \n234617                          0.5  \n234618                          0.5  \n234619                          0.5  \n234620                          0.5  \n234621                          0.5  \n\n[234622 rows x 10 columns]",
      "text/html": "<div>\n<style scoped>\n    .dataframe tbody tr th:only-of-type {\n        vertical-align: middle;\n    }\n\n    .dataframe tbody tr th {\n        vertical-align: top;\n    }\n\n    .dataframe thead th {\n        text-align: right;\n    }\n</style>\n<table border=\"1\" class=\"dataframe\">\n  <thead>\n    <tr style=\"text-align: right;\">\n      <th></th>\n      <th>ID</th>\n      <th>SMILES_nostereo</th>\n      <th>rdkit_mol_cistrans_stereo</th>\n      <th>score0</th>\n      <th>score1</th>\n      <th>score2</th>\n      <th>top_score</th>\n      <th>range_scores</th>\n      <th>mean_score</th>\n      <th>top_score_enantiomers_range</th>\n    </tr>\n  </thead>\n  <tbody>\n    <tr>\n      <th>0</th>\n      <td>BrC1([C@@H]2CC23CC3)CC1</td>\n      <td>BrC1(C2CC23CC3)CC1</td>\n      <td>&lt;rdkit.Chem.rdchem.Mol object at 0x000001E815C...</td>\n      <td>-4.6</td>\n      <td>-4.6</td>\n      <td>-4.6</td>\n      <td>-4.6</td>\n      <td>0.0</td>\n      <td>-4.6</td>\n      <td>0.4</td>\n    </tr>\n    <tr>\n      <th>1</th>\n      <td>BrC1([C@@H]2CC23CC3)CC1</td>\n      <td>BrC1(C2CC23CC3)CC1</td>\n      <td>&lt;rdkit.Chem.rdchem.Mol object at 0x000001E7ADE...</td>\n      <td>-4.6</td>\n      <td>-4.6</td>\n      <td>-4.6</td>\n      <td>-4.6</td>\n      <td>0.0</td>\n      <td>-4.6</td>\n      <td>0.4</td>\n    </tr>\n    <tr>\n      <th>2</th>\n      <td>BrC1([C@@H]2CC23CC3)CC1</td>\n      <td>BrC1(C2CC23CC3)CC1</td>\n      <td>&lt;rdkit.Chem.rdchem.Mol object at 0x000001E7ADE...</td>\n      <td>-4.6</td>\n      <td>-4.6</td>\n      <td>-4.6</td>\n      <td>-4.6</td>\n      <td>0.0</td>\n      <td>-4.6</td>\n      <td>0.4</td>\n    </tr>\n    <tr>\n      <th>3</th>\n      <td>BrC1([C@H]2CC23CC3)CC1</td>\n      <td>BrC1(C2CC23CC3)CC1</td>\n      <td>&lt;rdkit.Chem.rdchem.Mol object at 0x000001E7ADE...</td>\n      <td>-5.0</td>\n      <td>-5.0</td>\n      <td>-5.0</td>\n      <td>-5.0</td>\n      <td>0.0</td>\n      <td>-5.0</td>\n      <td>0.4</td>\n    </tr>\n    <tr>\n      <th>4</th>\n      <td>BrC1([C@H]2CC23CC3)CC1</td>\n      <td>BrC1(C2CC23CC3)CC1</td>\n      <td>&lt;rdkit.Chem.rdchem.Mol object at 0x000001E7ADE...</td>\n      <td>-5.0</td>\n      <td>-5.0</td>\n      <td>-5.0</td>\n      <td>-5.0</td>\n      <td>0.0</td>\n      <td>-5.0</td>\n      <td>0.4</td>\n    </tr>\n    <tr>\n      <th>...</th>\n      <td>...</td>\n      <td>...</td>\n      <td>...</td>\n      <td>...</td>\n      <td>...</td>\n      <td>...</td>\n      <td>...</td>\n      <td>...</td>\n      <td>...</td>\n      <td>...</td>\n    </tr>\n    <tr>\n      <th>234617</th>\n      <td>c1snnc1C[C@H]1CCCCN1</td>\n      <td>c1snnc1CC1CCCCN1</td>\n      <td>&lt;rdkit.Chem.rdchem.Mol object at 0x000001E8803...</td>\n      <td>-5.1</td>\n      <td>-5.1</td>\n      <td>-5.1</td>\n      <td>-5.1</td>\n      <td>0.0</td>\n      <td>-5.1</td>\n      <td>0.5</td>\n    </tr>\n    <tr>\n      <th>234618</th>\n      <td>c1snnc1C[C@H]1CCCCN1</td>\n      <td>c1snnc1CC1CCCCN1</td>\n      <td>&lt;rdkit.Chem.rdchem.Mol object at 0x000001E8803...</td>\n      <td>-5.1</td>\n      <td>-5.1</td>\n      <td>-5.1</td>\n      <td>-5.1</td>\n      <td>0.0</td>\n      <td>-5.1</td>\n      <td>0.5</td>\n    </tr>\n    <tr>\n      <th>234619</th>\n      <td>c1snnc1C[C@H]1CCCCN1</td>\n      <td>c1snnc1CC1CCCCN1</td>\n      <td>&lt;rdkit.Chem.rdchem.Mol object at 0x000001E8803...</td>\n      <td>-5.1</td>\n      <td>-5.1</td>\n      <td>-5.1</td>\n      <td>-5.1</td>\n      <td>0.0</td>\n      <td>-5.1</td>\n      <td>0.5</td>\n    </tr>\n    <tr>\n      <th>234620</th>\n      <td>c1snnc1C[C@H]1CCCCN1</td>\n      <td>c1snnc1CC1CCCCN1</td>\n      <td>&lt;rdkit.Chem.rdchem.Mol object at 0x000001E8803...</td>\n      <td>-5.1</td>\n      <td>-5.1</td>\n      <td>-5.1</td>\n      <td>-5.1</td>\n      <td>0.0</td>\n      <td>-5.1</td>\n      <td>0.5</td>\n    </tr>\n    <tr>\n      <th>234621</th>\n      <td>c1snnc1C[C@H]1CCCCN1</td>\n      <td>c1snnc1CC1CCCCN1</td>\n      <td>&lt;rdkit.Chem.rdchem.Mol object at 0x000001E8803...</td>\n      <td>-5.1</td>\n      <td>-5.1</td>\n      <td>-5.1</td>\n      <td>-5.1</td>\n      <td>0.0</td>\n      <td>-5.1</td>\n      <td>0.5</td>\n    </tr>\n  </tbody>\n</table>\n<p>234622 rows × 10 columns</p>\n</div>"
     },
     "execution_count": 7,
     "metadata": {},
     "output_type": "execute_result"
    }
   ],
   "source": [
    "split_df"
   ],
   "metadata": {
    "collapsed": false,
    "ExecuteTime": {
     "start_time": "2024-04-04T20:57:20.515673Z",
     "end_time": "2024-04-04T20:57:20.523672Z"
    }
   }
  },
  {
   "cell_type": "code",
   "execution_count": 8,
   "outputs": [
    {
     "name": "stderr",
     "output_type": "stream",
     "text": [
      "100%|██████████| 1513/1513 [00:19<00:00, 76.58it/s] \n"
     ]
    }
   ],
   "source": [
    "# bace\n",
    "df = pd.read_csv(os.path.join(ds_source_path, \"bace\", \"raw\", 'bace.csv'))\n",
    "\n",
    "fn = partial(\n",
    "    smiles_to_3d_mol,\n",
    "    max_number_of_attempts=100,\n",
    "    max_number_of_atoms=100\n",
    ")\n",
    "\n",
    "with Pool(processes=os.cpu_count()) as p:\n",
    "    dataset_dict['bace'] = list(p.imap(\n",
    "        fn,\n",
    "        tqdm(df.mol.tolist(), position=0)\n",
    "    ))"
   ],
   "metadata": {
    "collapsed": false,
    "ExecuteTime": {
     "start_time": "2024-04-04T20:57:20.526675Z",
     "end_time": "2024-04-04T20:57:40.891278Z"
    }
   }
  },
  {
   "cell_type": "code",
   "execution_count": 9,
   "outputs": [
    {
     "data": {
      "text/plain": "                                                    mol        CID  Class  \\\n0     O1CC[C@@H](NC(=O)[C@@H](Cc2cc3cc(ccc3nc2N)-c2c...     BACE_1      1   \n1     Fc1cc(cc(F)c1)C[C@H](NC(=O)[C@@H](N1CC[C@](NC(...     BACE_2      1   \n2     S1(=O)(=O)N(c2cc(cc3c2n(cc3CC)CC1)C(=O)N[C@H](...     BACE_3      1   \n3     S1(=O)(=O)C[C@@H](Cc2cc(O[C@H](COCC)C(F)(F)F)c...     BACE_4      1   \n4     S1(=O)(=O)N(c2cc(cc3c2n(cc3CC)CC1)C(=O)N[C@H](...     BACE_5      1   \n...                                                 ...        ...    ...   \n1508          Clc1cc2nc(n(c2cc1)C(CC(=O)NCC1CCOCC1)CC)N  BACE_1543      0   \n1509          Clc1cc2nc(n(c2cc1)C(CC(=O)NCc1ncccc1)CC)N  BACE_1544      0   \n1510             Brc1cc(ccc1)C1CC1C=1N=C(N)N(C)C(=O)C=1  BACE_1545      0   \n1511       O=C1N(C)C(=NC(=C1)C1CC1c1cc(ccc1)-c1ccccc1)N  BACE_1546      0   \n1512                Clc1cc2nc(n(c2cc1)CCCC(=O)NCC1CC1)N  BACE_1547      0   \n\n      Model     pIC50         MW   AlogP  HBA  HBD  RB  ...  PEOE6 (PEOE6)  \\\n0     Train  9.154901  431.56979  4.4014    3    2   5  ...      53.205711   \n1     Train  8.853872  657.81073  2.6412    5    4  16  ...      73.817162   \n2     Train  8.698970  591.74091  2.5499    4    3  11  ...      70.365707   \n3     Train  8.698970  591.67828  3.1680    4    3  12  ...      56.657166   \n4     Train  8.698970  629.71283  3.5086    3    3  11  ...      78.945702   \n...     ...       ...        ...     ...  ...  ...  ..  ...            ...   \n1508   Test  3.000000  364.86969  2.5942    3    2   6  ...      37.212799   \n1509   Test  3.000000  357.83731  2.8229    3    2   6  ...      45.792797   \n1510   Test  2.953115  320.18451  3.0895    2    1   2  ...      47.790600   \n1511   Test  2.733298  317.38440  3.8595    2    1   3  ...      77.219978   \n1512   Test  2.544546  306.79059  3.4271    2    2   6  ...      26.907076   \n\n      PEOE7 (PEOE7)  PEOE8 (PEOE8)  PEOE9 (PEOE9)  PEOE10 (PEOE10)  \\\n0         78.640335     226.855410     107.434910        37.133846   \n1         47.171600     365.676940     174.076750        34.923889   \n2         47.941147     192.406520     255.752550        23.654478   \n3         37.954151     194.353040     202.763350        36.498634   \n4         39.361153     179.712880     220.461300        23.654478   \n...             ...            ...            ...              ...   \n1508      37.681076     180.226410      95.670128        30.107586   \n1509      47.349350     122.401500      99.877144        30.107586   \n1510      22.563574      96.290794      58.798935        20.071724   \n1511       9.316234      95.907784     112.609720        20.071724   \n1512      37.681076     161.450780      40.882919        30.107586   \n\n      PEOE11 (PEOE11)  PEOE12 (PEOE12)  PEOE13 (PEOE13)  PEOE14 (PEOE14)  \\\n0            0.000000         7.980170         0.000000         0.000000   \n1            7.980170        24.148668         0.000000        24.663788   \n2            0.230159        15.879790         0.000000        24.663788   \n3            0.980913         8.188327         0.000000        26.385181   \n4            0.230159        15.879790         0.000000        26.100143   \n...               ...              ...              ...              ...   \n1508         9.368159         7.980170         0.000000         0.000000   \n1509         9.368159         7.980170         0.000000         0.000000   \n1510         9.368159         0.000000         6.904104         0.000000   \n1511         9.368159         0.000000         6.904104         0.000000   \n1512         9.368159         7.980170         0.000000         0.000000   \n\n      canvasUID  \n0             1  \n1             2  \n2             3  \n3             4  \n4             5  \n...         ...  \n1508       1543  \n1509       1544  \n1510       1545  \n1511       1546  \n1512       1547  \n\n[1513 rows x 595 columns]",
      "text/html": "<div>\n<style scoped>\n    .dataframe tbody tr th:only-of-type {\n        vertical-align: middle;\n    }\n\n    .dataframe tbody tr th {\n        vertical-align: top;\n    }\n\n    .dataframe thead th {\n        text-align: right;\n    }\n</style>\n<table border=\"1\" class=\"dataframe\">\n  <thead>\n    <tr style=\"text-align: right;\">\n      <th></th>\n      <th>mol</th>\n      <th>CID</th>\n      <th>Class</th>\n      <th>Model</th>\n      <th>pIC50</th>\n      <th>MW</th>\n      <th>AlogP</th>\n      <th>HBA</th>\n      <th>HBD</th>\n      <th>RB</th>\n      <th>...</th>\n      <th>PEOE6 (PEOE6)</th>\n      <th>PEOE7 (PEOE7)</th>\n      <th>PEOE8 (PEOE8)</th>\n      <th>PEOE9 (PEOE9)</th>\n      <th>PEOE10 (PEOE10)</th>\n      <th>PEOE11 (PEOE11)</th>\n      <th>PEOE12 (PEOE12)</th>\n      <th>PEOE13 (PEOE13)</th>\n      <th>PEOE14 (PEOE14)</th>\n      <th>canvasUID</th>\n    </tr>\n  </thead>\n  <tbody>\n    <tr>\n      <th>0</th>\n      <td>O1CC[C@@H](NC(=O)[C@@H](Cc2cc3cc(ccc3nc2N)-c2c...</td>\n      <td>BACE_1</td>\n      <td>1</td>\n      <td>Train</td>\n      <td>9.154901</td>\n      <td>431.56979</td>\n      <td>4.4014</td>\n      <td>3</td>\n      <td>2</td>\n      <td>5</td>\n      <td>...</td>\n      <td>53.205711</td>\n      <td>78.640335</td>\n      <td>226.855410</td>\n      <td>107.434910</td>\n      <td>37.133846</td>\n      <td>0.000000</td>\n      <td>7.980170</td>\n      <td>0.000000</td>\n      <td>0.000000</td>\n      <td>1</td>\n    </tr>\n    <tr>\n      <th>1</th>\n      <td>Fc1cc(cc(F)c1)C[C@H](NC(=O)[C@@H](N1CC[C@](NC(...</td>\n      <td>BACE_2</td>\n      <td>1</td>\n      <td>Train</td>\n      <td>8.853872</td>\n      <td>657.81073</td>\n      <td>2.6412</td>\n      <td>5</td>\n      <td>4</td>\n      <td>16</td>\n      <td>...</td>\n      <td>73.817162</td>\n      <td>47.171600</td>\n      <td>365.676940</td>\n      <td>174.076750</td>\n      <td>34.923889</td>\n      <td>7.980170</td>\n      <td>24.148668</td>\n      <td>0.000000</td>\n      <td>24.663788</td>\n      <td>2</td>\n    </tr>\n    <tr>\n      <th>2</th>\n      <td>S1(=O)(=O)N(c2cc(cc3c2n(cc3CC)CC1)C(=O)N[C@H](...</td>\n      <td>BACE_3</td>\n      <td>1</td>\n      <td>Train</td>\n      <td>8.698970</td>\n      <td>591.74091</td>\n      <td>2.5499</td>\n      <td>4</td>\n      <td>3</td>\n      <td>11</td>\n      <td>...</td>\n      <td>70.365707</td>\n      <td>47.941147</td>\n      <td>192.406520</td>\n      <td>255.752550</td>\n      <td>23.654478</td>\n      <td>0.230159</td>\n      <td>15.879790</td>\n      <td>0.000000</td>\n      <td>24.663788</td>\n      <td>3</td>\n    </tr>\n    <tr>\n      <th>3</th>\n      <td>S1(=O)(=O)C[C@@H](Cc2cc(O[C@H](COCC)C(F)(F)F)c...</td>\n      <td>BACE_4</td>\n      <td>1</td>\n      <td>Train</td>\n      <td>8.698970</td>\n      <td>591.67828</td>\n      <td>3.1680</td>\n      <td>4</td>\n      <td>3</td>\n      <td>12</td>\n      <td>...</td>\n      <td>56.657166</td>\n      <td>37.954151</td>\n      <td>194.353040</td>\n      <td>202.763350</td>\n      <td>36.498634</td>\n      <td>0.980913</td>\n      <td>8.188327</td>\n      <td>0.000000</td>\n      <td>26.385181</td>\n      <td>4</td>\n    </tr>\n    <tr>\n      <th>4</th>\n      <td>S1(=O)(=O)N(c2cc(cc3c2n(cc3CC)CC1)C(=O)N[C@H](...</td>\n      <td>BACE_5</td>\n      <td>1</td>\n      <td>Train</td>\n      <td>8.698970</td>\n      <td>629.71283</td>\n      <td>3.5086</td>\n      <td>3</td>\n      <td>3</td>\n      <td>11</td>\n      <td>...</td>\n      <td>78.945702</td>\n      <td>39.361153</td>\n      <td>179.712880</td>\n      <td>220.461300</td>\n      <td>23.654478</td>\n      <td>0.230159</td>\n      <td>15.879790</td>\n      <td>0.000000</td>\n      <td>26.100143</td>\n      <td>5</td>\n    </tr>\n    <tr>\n      <th>...</th>\n      <td>...</td>\n      <td>...</td>\n      <td>...</td>\n      <td>...</td>\n      <td>...</td>\n      <td>...</td>\n      <td>...</td>\n      <td>...</td>\n      <td>...</td>\n      <td>...</td>\n      <td>...</td>\n      <td>...</td>\n      <td>...</td>\n      <td>...</td>\n      <td>...</td>\n      <td>...</td>\n      <td>...</td>\n      <td>...</td>\n      <td>...</td>\n      <td>...</td>\n      <td>...</td>\n    </tr>\n    <tr>\n      <th>1508</th>\n      <td>Clc1cc2nc(n(c2cc1)C(CC(=O)NCC1CCOCC1)CC)N</td>\n      <td>BACE_1543</td>\n      <td>0</td>\n      <td>Test</td>\n      <td>3.000000</td>\n      <td>364.86969</td>\n      <td>2.5942</td>\n      <td>3</td>\n      <td>2</td>\n      <td>6</td>\n      <td>...</td>\n      <td>37.212799</td>\n      <td>37.681076</td>\n      <td>180.226410</td>\n      <td>95.670128</td>\n      <td>30.107586</td>\n      <td>9.368159</td>\n      <td>7.980170</td>\n      <td>0.000000</td>\n      <td>0.000000</td>\n      <td>1543</td>\n    </tr>\n    <tr>\n      <th>1509</th>\n      <td>Clc1cc2nc(n(c2cc1)C(CC(=O)NCc1ncccc1)CC)N</td>\n      <td>BACE_1544</td>\n      <td>0</td>\n      <td>Test</td>\n      <td>3.000000</td>\n      <td>357.83731</td>\n      <td>2.8229</td>\n      <td>3</td>\n      <td>2</td>\n      <td>6</td>\n      <td>...</td>\n      <td>45.792797</td>\n      <td>47.349350</td>\n      <td>122.401500</td>\n      <td>99.877144</td>\n      <td>30.107586</td>\n      <td>9.368159</td>\n      <td>7.980170</td>\n      <td>0.000000</td>\n      <td>0.000000</td>\n      <td>1544</td>\n    </tr>\n    <tr>\n      <th>1510</th>\n      <td>Brc1cc(ccc1)C1CC1C=1N=C(N)N(C)C(=O)C=1</td>\n      <td>BACE_1545</td>\n      <td>0</td>\n      <td>Test</td>\n      <td>2.953115</td>\n      <td>320.18451</td>\n      <td>3.0895</td>\n      <td>2</td>\n      <td>1</td>\n      <td>2</td>\n      <td>...</td>\n      <td>47.790600</td>\n      <td>22.563574</td>\n      <td>96.290794</td>\n      <td>58.798935</td>\n      <td>20.071724</td>\n      <td>9.368159</td>\n      <td>0.000000</td>\n      <td>6.904104</td>\n      <td>0.000000</td>\n      <td>1545</td>\n    </tr>\n    <tr>\n      <th>1511</th>\n      <td>O=C1N(C)C(=NC(=C1)C1CC1c1cc(ccc1)-c1ccccc1)N</td>\n      <td>BACE_1546</td>\n      <td>0</td>\n      <td>Test</td>\n      <td>2.733298</td>\n      <td>317.38440</td>\n      <td>3.8595</td>\n      <td>2</td>\n      <td>1</td>\n      <td>3</td>\n      <td>...</td>\n      <td>77.219978</td>\n      <td>9.316234</td>\n      <td>95.907784</td>\n      <td>112.609720</td>\n      <td>20.071724</td>\n      <td>9.368159</td>\n      <td>0.000000</td>\n      <td>6.904104</td>\n      <td>0.000000</td>\n      <td>1546</td>\n    </tr>\n    <tr>\n      <th>1512</th>\n      <td>Clc1cc2nc(n(c2cc1)CCCC(=O)NCC1CC1)N</td>\n      <td>BACE_1547</td>\n      <td>0</td>\n      <td>Test</td>\n      <td>2.544546</td>\n      <td>306.79059</td>\n      <td>3.4271</td>\n      <td>2</td>\n      <td>2</td>\n      <td>6</td>\n      <td>...</td>\n      <td>26.907076</td>\n      <td>37.681076</td>\n      <td>161.450780</td>\n      <td>40.882919</td>\n      <td>30.107586</td>\n      <td>9.368159</td>\n      <td>7.980170</td>\n      <td>0.000000</td>\n      <td>0.000000</td>\n      <td>1547</td>\n    </tr>\n  </tbody>\n</table>\n<p>1513 rows × 595 columns</p>\n</div>"
     },
     "execution_count": 9,
     "metadata": {},
     "output_type": "execute_result"
    }
   ],
   "source": [
    "df"
   ],
   "metadata": {
    "collapsed": false,
    "ExecuteTime": {
     "start_time": "2024-04-04T20:57:40.892278Z",
     "end_time": "2024-04-04T20:57:40.931281Z"
    }
   }
  },
  {
   "cell_type": "code",
   "execution_count": 10,
   "outputs": [
    {
     "name": "stderr",
     "output_type": "stream",
     "text": [
      "100%|██████████| 7831/7831 [00:40<00:00, 192.11it/s]\n"
     ]
    }
   ],
   "source": [
    "# tox\n",
    "df = pd.read_csv(os.path.join(ds_source_path, \"tox21\", \"raw\", 'tox21.csv.gz'))\n",
    "\n",
    "with Pool(processes=os.cpu_count()) as p:\n",
    "    dataset_dict['tox'] = list(p.imap(\n",
    "        fn,\n",
    "        tqdm(df.smiles.tolist(), position=0)\n",
    "    ))"
   ],
   "metadata": {
    "collapsed": false,
    "ExecuteTime": {
     "start_time": "2024-04-04T20:57:47.229735Z",
     "end_time": "2024-04-04T20:58:54.377444Z"
    }
   }
  },
  {
   "cell_type": "code",
   "execution_count": 11,
   "outputs": [
    {
     "data": {
      "text/plain": "      NR-AR  NR-AR-LBD  NR-AhR  NR-Aromatase  NR-ER  NR-ER-LBD  NR-PPAR-gamma  \\\n0       0.0        0.0     1.0           NaN    NaN        0.0            0.0   \n1       0.0        0.0     0.0           0.0    0.0        0.0            0.0   \n2       NaN        NaN     NaN           NaN    NaN        NaN            NaN   \n3       0.0        0.0     0.0           0.0    0.0        0.0            0.0   \n4       0.0        0.0     0.0           0.0    0.0        0.0            0.0   \n...     ...        ...     ...           ...    ...        ...            ...   \n7826    NaN        NaN     NaN           NaN    NaN        NaN            NaN   \n7827    1.0        1.0     0.0           0.0    1.0        0.0            NaN   \n7828    1.0        1.0     0.0           0.0    1.0        1.0            0.0   \n7829    1.0        1.0     0.0           NaN    1.0        1.0            0.0   \n7830    0.0        0.0     NaN           0.0    0.0        0.0            0.0   \n\n      SR-ARE  SR-ATAD5  SR-HSE  SR-MMP  SR-p53    mol_id  \\\n0        1.0       0.0     0.0     0.0     0.0   TOX3021   \n1        NaN       0.0     NaN     0.0     0.0   TOX3020   \n2        0.0       NaN     0.0     NaN     NaN   TOX3024   \n3        NaN       0.0     NaN     0.0     0.0   TOX3027   \n4        0.0       0.0     0.0     0.0     0.0  TOX20800   \n...      ...       ...     ...     ...     ...       ...   \n7826     0.0       NaN     0.0     NaN     NaN   TOX2725   \n7827     NaN       0.0     0.0     NaN     0.0   TOX2370   \n7828     1.0       0.0     0.0     0.0     0.0   TOX2371   \n7829     0.0       0.0     0.0     1.0     1.0   TOX2377   \n7830     0.0       0.0     0.0     1.0     0.0   TOX2724   \n\n                                                 smiles  \n0                          CCOc1ccc2nc(S(N)(=O)=O)sc2c1  \n1                             CCN1C(=O)NC(c2ccccc2)C1=O  \n2     CC[C@]1(O)CC[C@H]2[C@@H]3CCC4=CCCC[C@@H]4[C@H]...  \n3                       CCCN(CC)C(CC)C(=O)Nc1c(C)cccc1C  \n4                             CC(O)(P(=O)(O)O)P(=O)(O)O  \n...                                                 ...  \n7826  CCOc1nc2cccc(C(=O)O)c2n1Cc1ccc(-c2ccccc2-c2nnn...  \n7827  CC(=O)[C@H]1CC[C@H]2[C@@H]3CCC4=CC(=O)CC[C@]4(...  \n7828  C[C@]12CC[C@H]3[C@@H](CCC4=CC(=O)CC[C@@]43C)[C...  \n7829  C[C@]12CC[C@@H]3c4ccc(O)cc4CC[C@H]3[C@@H]1CC[C...  \n7830            COc1ccc2c(c1OC)CN1CCc3cc4c(cc3C1C2)OCO4  \n\n[7831 rows x 14 columns]",
      "text/html": "<div>\n<style scoped>\n    .dataframe tbody tr th:only-of-type {\n        vertical-align: middle;\n    }\n\n    .dataframe tbody tr th {\n        vertical-align: top;\n    }\n\n    .dataframe thead th {\n        text-align: right;\n    }\n</style>\n<table border=\"1\" class=\"dataframe\">\n  <thead>\n    <tr style=\"text-align: right;\">\n      <th></th>\n      <th>NR-AR</th>\n      <th>NR-AR-LBD</th>\n      <th>NR-AhR</th>\n      <th>NR-Aromatase</th>\n      <th>NR-ER</th>\n      <th>NR-ER-LBD</th>\n      <th>NR-PPAR-gamma</th>\n      <th>SR-ARE</th>\n      <th>SR-ATAD5</th>\n      <th>SR-HSE</th>\n      <th>SR-MMP</th>\n      <th>SR-p53</th>\n      <th>mol_id</th>\n      <th>smiles</th>\n    </tr>\n  </thead>\n  <tbody>\n    <tr>\n      <th>0</th>\n      <td>0.0</td>\n      <td>0.0</td>\n      <td>1.0</td>\n      <td>NaN</td>\n      <td>NaN</td>\n      <td>0.0</td>\n      <td>0.0</td>\n      <td>1.0</td>\n      <td>0.0</td>\n      <td>0.0</td>\n      <td>0.0</td>\n      <td>0.0</td>\n      <td>TOX3021</td>\n      <td>CCOc1ccc2nc(S(N)(=O)=O)sc2c1</td>\n    </tr>\n    <tr>\n      <th>1</th>\n      <td>0.0</td>\n      <td>0.0</td>\n      <td>0.0</td>\n      <td>0.0</td>\n      <td>0.0</td>\n      <td>0.0</td>\n      <td>0.0</td>\n      <td>NaN</td>\n      <td>0.0</td>\n      <td>NaN</td>\n      <td>0.0</td>\n      <td>0.0</td>\n      <td>TOX3020</td>\n      <td>CCN1C(=O)NC(c2ccccc2)C1=O</td>\n    </tr>\n    <tr>\n      <th>2</th>\n      <td>NaN</td>\n      <td>NaN</td>\n      <td>NaN</td>\n      <td>NaN</td>\n      <td>NaN</td>\n      <td>NaN</td>\n      <td>NaN</td>\n      <td>0.0</td>\n      <td>NaN</td>\n      <td>0.0</td>\n      <td>NaN</td>\n      <td>NaN</td>\n      <td>TOX3024</td>\n      <td>CC[C@]1(O)CC[C@H]2[C@@H]3CCC4=CCCC[C@@H]4[C@H]...</td>\n    </tr>\n    <tr>\n      <th>3</th>\n      <td>0.0</td>\n      <td>0.0</td>\n      <td>0.0</td>\n      <td>0.0</td>\n      <td>0.0</td>\n      <td>0.0</td>\n      <td>0.0</td>\n      <td>NaN</td>\n      <td>0.0</td>\n      <td>NaN</td>\n      <td>0.0</td>\n      <td>0.0</td>\n      <td>TOX3027</td>\n      <td>CCCN(CC)C(CC)C(=O)Nc1c(C)cccc1C</td>\n    </tr>\n    <tr>\n      <th>4</th>\n      <td>0.0</td>\n      <td>0.0</td>\n      <td>0.0</td>\n      <td>0.0</td>\n      <td>0.0</td>\n      <td>0.0</td>\n      <td>0.0</td>\n      <td>0.0</td>\n      <td>0.0</td>\n      <td>0.0</td>\n      <td>0.0</td>\n      <td>0.0</td>\n      <td>TOX20800</td>\n      <td>CC(O)(P(=O)(O)O)P(=O)(O)O</td>\n    </tr>\n    <tr>\n      <th>...</th>\n      <td>...</td>\n      <td>...</td>\n      <td>...</td>\n      <td>...</td>\n      <td>...</td>\n      <td>...</td>\n      <td>...</td>\n      <td>...</td>\n      <td>...</td>\n      <td>...</td>\n      <td>...</td>\n      <td>...</td>\n      <td>...</td>\n      <td>...</td>\n    </tr>\n    <tr>\n      <th>7826</th>\n      <td>NaN</td>\n      <td>NaN</td>\n      <td>NaN</td>\n      <td>NaN</td>\n      <td>NaN</td>\n      <td>NaN</td>\n      <td>NaN</td>\n      <td>0.0</td>\n      <td>NaN</td>\n      <td>0.0</td>\n      <td>NaN</td>\n      <td>NaN</td>\n      <td>TOX2725</td>\n      <td>CCOc1nc2cccc(C(=O)O)c2n1Cc1ccc(-c2ccccc2-c2nnn...</td>\n    </tr>\n    <tr>\n      <th>7827</th>\n      <td>1.0</td>\n      <td>1.0</td>\n      <td>0.0</td>\n      <td>0.0</td>\n      <td>1.0</td>\n      <td>0.0</td>\n      <td>NaN</td>\n      <td>NaN</td>\n      <td>0.0</td>\n      <td>0.0</td>\n      <td>NaN</td>\n      <td>0.0</td>\n      <td>TOX2370</td>\n      <td>CC(=O)[C@H]1CC[C@H]2[C@@H]3CCC4=CC(=O)CC[C@]4(...</td>\n    </tr>\n    <tr>\n      <th>7828</th>\n      <td>1.0</td>\n      <td>1.0</td>\n      <td>0.0</td>\n      <td>0.0</td>\n      <td>1.0</td>\n      <td>1.0</td>\n      <td>0.0</td>\n      <td>1.0</td>\n      <td>0.0</td>\n      <td>0.0</td>\n      <td>0.0</td>\n      <td>0.0</td>\n      <td>TOX2371</td>\n      <td>C[C@]12CC[C@H]3[C@@H](CCC4=CC(=O)CC[C@@]43C)[C...</td>\n    </tr>\n    <tr>\n      <th>7829</th>\n      <td>1.0</td>\n      <td>1.0</td>\n      <td>0.0</td>\n      <td>NaN</td>\n      <td>1.0</td>\n      <td>1.0</td>\n      <td>0.0</td>\n      <td>0.0</td>\n      <td>0.0</td>\n      <td>0.0</td>\n      <td>1.0</td>\n      <td>1.0</td>\n      <td>TOX2377</td>\n      <td>C[C@]12CC[C@@H]3c4ccc(O)cc4CC[C@H]3[C@@H]1CC[C...</td>\n    </tr>\n    <tr>\n      <th>7830</th>\n      <td>0.0</td>\n      <td>0.0</td>\n      <td>NaN</td>\n      <td>0.0</td>\n      <td>0.0</td>\n      <td>0.0</td>\n      <td>0.0</td>\n      <td>0.0</td>\n      <td>0.0</td>\n      <td>0.0</td>\n      <td>1.0</td>\n      <td>0.0</td>\n      <td>TOX2724</td>\n      <td>COc1ccc2c(c1OC)CN1CCc3cc4c(cc3C1C2)OCO4</td>\n    </tr>\n  </tbody>\n</table>\n<p>7831 rows × 14 columns</p>\n</div>"
     },
     "execution_count": 11,
     "metadata": {},
     "output_type": "execute_result"
    }
   ],
   "source": [
    "df"
   ],
   "metadata": {
    "collapsed": false,
    "ExecuteTime": {
     "start_time": "2024-04-04T20:58:54.366940Z",
     "end_time": "2024-04-04T20:58:54.398447Z"
    }
   }
  },
  {
   "cell_type": "code",
   "execution_count": 12,
   "outputs": [],
   "source": [
    "dataset_dict = {\n",
    "    key: [\n",
    "        v\n",
    "        for v in value\n",
    "        if v is not None\n",
    "    ]\n",
    "    for key, value in dataset_dict.items()\n",
    "}"
   ],
   "metadata": {
    "collapsed": false,
    "ExecuteTime": {
     "start_time": "2024-04-04T20:58:54.398447Z",
     "end_time": "2024-04-04T20:58:54.473950Z"
    }
   }
  },
  {
   "cell_type": "markdown",
   "source": [
    "## Check for number of stereo-centers"
   ],
   "metadata": {
    "collapsed": false
   }
  },
  {
   "cell_type": "code",
   "execution_count": 13,
   "outputs": [],
   "source": [
    "test_mol = dataset_dict['rs'][0]"
   ],
   "metadata": {
    "collapsed": false,
    "ExecuteTime": {
     "start_time": "2024-03-30T15:47:29.290902Z",
     "end_time": "2024-03-30T15:47:29.346902Z"
    }
   }
  },
  {
   "cell_type": "code",
   "execution_count": 14,
   "outputs": [],
   "source": [
    "def stereo_center_count(molecule):\n",
    "    from rdkit import Chem\n",
    "    return len(Chem.FindMolChiralCenters(molecule))"
   ],
   "metadata": {
    "collapsed": false,
    "ExecuteTime": {
     "start_time": "2024-03-30T15:47:29.303902Z",
     "end_time": "2024-03-30T15:47:29.347902Z"
    }
   }
  },
  {
   "cell_type": "code",
   "execution_count": 15,
   "outputs": [
    {
     "name": "stderr",
     "output_type": "stream",
     "text": [
      "100%|██████████| 326865/326865 [01:22<00:00, 3963.73it/s]\n",
      "100%|██████████| 234622/234622 [00:59<00:00, 3975.59it/s]\n",
      "100%|██████████| 1513/1513 [00:00<00:00, 2426.39it/s]\n",
      "100%|██████████| 7818/7818 [00:02<00:00, 3502.34it/s]\n"
     ]
    }
   ],
   "source": [
    "results = {}\n",
    "\n",
    "for key in dataset_dict.keys():\n",
    "    with Pool(processes=os.cpu_count()) as p:\n",
    "        results[key] = np.unique(np.array(list(p.imap(\n",
    "            stereo_center_count,\n",
    "            tqdm(dataset_dict[key], position=0)\n",
    "        ))), return_counts=True)[1]"
   ],
   "metadata": {
    "collapsed": false,
    "ExecuteTime": {
     "start_time": "2024-03-30T15:47:29.320904Z",
     "end_time": "2024-03-30T15:49:54.422099Z"
    }
   }
  },
  {
   "cell_type": "code",
   "execution_count": 16,
   "outputs": [
    {
     "data": {
      "text/plain": "{'rs': array([326865], dtype=int64),\n 'ba': array([234622], dtype=int64),\n 'bace': array([1130,  178,   87,   65,   35,    8,    3,    2,    3,    1,    1],\n       dtype=int64),\n 'tox': array([6525,  260,  227,  160,  160,   86,   99,   65,   61,   55,   30,\n           9,    6,    4,    9,   12,    4,    3,   10,   11,    5,    3,\n           1,    4,    2,    2,    1,    1,    1,    1,    1], dtype=int64)}"
     },
     "execution_count": 16,
     "metadata": {},
     "output_type": "execute_result"
    }
   ],
   "source": [
    "results"
   ],
   "metadata": {
    "collapsed": false,
    "ExecuteTime": {
     "start_time": "2024-03-30T15:49:54.423099Z",
     "end_time": "2024-03-30T15:49:54.437100Z"
    }
   }
  },
  {
   "cell_type": "markdown",
   "source": [
    "## Check for number of double bonds with stereo information"
   ],
   "metadata": {
    "collapsed": false
   }
  },
  {
   "cell_type": "code",
   "execution_count": 13,
   "outputs": [],
   "source": [
    "def cis_trans_count(molecule):\n",
    "    from rdkit import Chem\n",
    "    return sum([\n",
    "        (bond.GetBondType() == Chem.rdchem.BondType.DOUBLE) and (\n",
    "            bond.GetStereo() in [\n",
    "                Chem.rdchem.BondStereo.STEREOZ,\n",
    "                Chem.rdchem.BondStereo.STEREOE\n",
    "            ]\n",
    "        )\n",
    "        for bond in molecule.GetBonds()\n",
    "    ])"
   ],
   "metadata": {
    "collapsed": false,
    "ExecuteTime": {
     "start_time": "2024-04-04T20:59:03.862448Z",
     "end_time": "2024-04-04T20:59:03.892696Z"
    }
   }
  },
  {
   "cell_type": "code",
   "execution_count": 14,
   "outputs": [
    {
     "name": "stderr",
     "output_type": "stream",
     "text": [
      "100%|██████████| 326865/326865 [02:12<00:00, 2464.57it/s]\n",
      "100%|██████████| 234622/234622 [01:31<00:00, 2574.09it/s]\n",
      "100%|██████████| 1513/1513 [00:00<00:00, 1519.15it/s]\n",
      "100%|██████████| 7818/7818 [00:03<00:00, 2061.89it/s]\n"
     ]
    }
   ],
   "source": [
    "results = {}\n",
    "\n",
    "for key in dataset_dict.keys():\n",
    "    with Pool(processes=os.cpu_count()) as p:\n",
    "        results[key] = np.unique(np.array(list(p.imap(\n",
    "            cis_trans_count,\n",
    "            tqdm(dataset_dict[key], position=0)\n",
    "        ))), return_counts=True)[1]"
   ],
   "metadata": {
    "collapsed": false,
    "ExecuteTime": {
     "start_time": "2024-04-04T20:59:04.323085Z",
     "end_time": "2024-04-04T21:02:53.858847Z"
    }
   }
  },
  {
   "cell_type": "code",
   "execution_count": 15,
   "outputs": [
    {
     "data": {
      "text/plain": "{'rs': array([295161,  29929,   1218,    281,    216,     30,     10,     20],\n       dtype=int64),\n 'ba': array([222990,  10362,   1165,     71,     24,     10], dtype=int64),\n 'bace': array([1458,   54,    1], dtype=int64),\n 'tox': array([7354,  359,   69,   12,   14,    1,    1,    7,    1], dtype=int64)}"
     },
     "execution_count": 15,
     "metadata": {},
     "output_type": "execute_result"
    }
   ],
   "source": [
    "results"
   ],
   "metadata": {
    "collapsed": false,
    "ExecuteTime": {
     "start_time": "2024-04-04T21:02:53.854848Z",
     "end_time": "2024-04-04T21:02:53.879848Z"
    }
   }
  },
  {
   "cell_type": "code",
   "execution_count": 16,
   "outputs": [],
   "source": [
    "def cis_trans_count(molecule):\n",
    "    from rdkit import Chem\n",
    "    return sum([\n",
    "        (bond.GetBondType() == Chem.rdchem.BondType.DOUBLE) and (\n",
    "            bond.GetStereo() in [\n",
    "                Chem.rdchem.BondStereo.STEREOCIS,\n",
    "                Chem.rdchem.BondStereo.STEREOTRANS,\n",
    "            ]\n",
    "        )\n",
    "        for bond in molecule.GetBonds()\n",
    "    ])"
   ],
   "metadata": {
    "collapsed": false,
    "ExecuteTime": {
     "start_time": "2024-04-04T21:02:53.869848Z",
     "end_time": "2024-04-04T21:02:53.893850Z"
    }
   }
  },
  {
   "cell_type": "code",
   "execution_count": 17,
   "outputs": [
    {
     "name": "stderr",
     "output_type": "stream",
     "text": [
      "100%|██████████| 326865/326865 [02:13<00:00, 2441.20it/s]\n",
      "100%|██████████| 234622/234622 [01:28<00:00, 2647.93it/s]\n",
      "100%|██████████| 1513/1513 [00:00<00:00, 1784.72it/s]\n",
      "100%|██████████| 7818/7818 [00:03<00:00, 2286.12it/s]\n"
     ]
    }
   ],
   "source": [
    "results = {}\n",
    "\n",
    "for key in dataset_dict.keys():\n",
    "    with Pool(processes=os.cpu_count()) as p:\n",
    "        results[key] = np.unique(np.array(list(p.imap(\n",
    "            cis_trans_count,\n",
    "            tqdm(dataset_dict[key], position=0)\n",
    "        ))), return_counts=True)[1]"
   ],
   "metadata": {
    "collapsed": false,
    "ExecuteTime": {
     "start_time": "2024-04-04T21:02:53.883848Z",
     "end_time": "2024-04-04T21:06:41.584628Z"
    }
   }
  },
  {
   "cell_type": "code",
   "execution_count": 18,
   "outputs": [
    {
     "data": {
      "text/plain": "{'rs': array([326865], dtype=int64),\n 'ba': array([234622], dtype=int64),\n 'bace': array([1513], dtype=int64),\n 'tox': array([7818], dtype=int64)}"
     },
     "execution_count": 18,
     "metadata": {},
     "output_type": "execute_result"
    }
   ],
   "source": [
    "results"
   ],
   "metadata": {
    "collapsed": false,
    "ExecuteTime": {
     "start_time": "2024-04-04T21:06:41.572628Z",
     "end_time": "2024-04-04T21:06:41.597628Z"
    }
   }
  },
  {
   "cell_type": "code",
   "execution_count": 17,
   "outputs": [],
   "source": [
    "def cis_trans_count(molecule):\n",
    "    from rdkit import Chem\n",
    "    return sum([\n",
    "        (bond.GetBondType() == Chem.rdchem.BondType.DOUBLE) and (\n",
    "            bond.GetStereo() in [\n",
    "                Chem.rdchem.BondStereo.STEREOCIS,\n",
    "                Chem.rdchem.BondStereo.STEREOTRANS,\n",
    "                Chem.rdchem.BondStereo.STEREOZ,\n",
    "                Chem.rdchem.BondStereo.STEREOE\n",
    "            ]\n",
    "        )\n",
    "        for bond in molecule.GetBonds()\n",
    "    ])"
   ],
   "metadata": {
    "collapsed": false,
    "ExecuteTime": {
     "start_time": "2024-03-30T15:49:54.439099Z",
     "end_time": "2024-03-30T15:49:54.468562Z"
    }
   }
  },
  {
   "cell_type": "code",
   "execution_count": 18,
   "outputs": [
    {
     "name": "stderr",
     "output_type": "stream",
     "text": [
      "100%|██████████| 326865/326865 [01:47<00:00, 3050.87it/s]\n",
      "100%|██████████| 234622/234622 [01:22<00:00, 2836.87it/s]\n",
      "100%|██████████| 1513/1513 [00:00<00:00, 1705.14it/s]\n",
      "100%|██████████| 7818/7818 [00:03<00:00, 2274.18it/s]\n"
     ]
    }
   ],
   "source": [
    "results = {}\n",
    "\n",
    "for key in dataset_dict.keys():\n",
    "    with Pool(processes=os.cpu_count()) as p:\n",
    "        results[key] = np.unique(np.array(list(p.imap(\n",
    "            cis_trans_count,\n",
    "            tqdm(dataset_dict[key], position=0)\n",
    "        ))), return_counts=True)[1]"
   ],
   "metadata": {
    "collapsed": false,
    "ExecuteTime": {
     "start_time": "2024-03-30T15:49:54.455104Z",
     "end_time": "2024-03-30T15:53:09.388636Z"
    }
   }
  },
  {
   "cell_type": "code",
   "execution_count": 19,
   "outputs": [
    {
     "data": {
      "text/plain": "{'rs': array([295161,  29929,   1218,    281,    216,     30,     10,     20],\n       dtype=int64),\n 'ba': array([222990,  10362,   1165,     71,     24,     10], dtype=int64),\n 'bace': array([1458,   54,    1], dtype=int64),\n 'tox': array([7354,  359,   69,   12,   14,    1,    1,    7,    1], dtype=int64)}"
     },
     "execution_count": 19,
     "metadata": {},
     "output_type": "execute_result"
    }
   ],
   "source": [
    "results"
   ],
   "metadata": {
    "collapsed": false,
    "ExecuteTime": {
     "start_time": "2024-03-30T15:53:09.379126Z",
     "end_time": "2024-03-30T15:53:09.394141Z"
    }
   }
  },
  {
   "cell_type": "code",
   "execution_count": 22,
   "outputs": [],
   "source": [
    "def cis_trans_count(molecule):\n",
    "    from rdkit import Chem\n",
    "    return sum([\n",
    "        (bond.GetBondType() == Chem.rdchem.BondType.DOUBLE) and\n",
    "        (\n",
    "            bond.GetStereo() in [\n",
    "            Chem.rdchem.BondStereo.STEREOZ,\n",
    "            Chem.rdchem.BondStereo.STEREOE\n",
    "            ]\n",
    "        ) and\n",
    "        (bond.GetBeginAtom().GetDegree() == 3) and\n",
    "        (bond.GetEndAtom().GetDegree() == 3)\n",
    "        for bond in molecule.GetBonds()\n",
    "    ])"
   ],
   "metadata": {
    "collapsed": false,
    "ExecuteTime": {
     "start_time": "2024-04-04T21:15:17.994203Z",
     "end_time": "2024-04-04T21:15:18.003792Z"
    }
   }
  },
  {
   "cell_type": "code",
   "execution_count": 23,
   "outputs": [
    {
     "name": "stderr",
     "output_type": "stream",
     "text": [
      "100%|██████████| 326865/326865 [02:19<00:00, 2337.02it/s]\n",
      "100%|██████████| 234622/234622 [01:38<00:00, 2371.97it/s]\n",
      "100%|██████████| 1513/1513 [00:00<00:00, 1667.67it/s]\n",
      "100%|██████████| 7818/7818 [00:03<00:00, 2115.42it/s]\n"
     ]
    }
   ],
   "source": [
    "results = {}\n",
    "\n",
    "for key in dataset_dict.keys():\n",
    "    with Pool(processes=os.cpu_count()) as p:\n",
    "        results[key] = np.unique(np.array(list(p.imap(\n",
    "            cis_trans_count,\n",
    "            tqdm(dataset_dict[key], position=0)\n",
    "        ))), return_counts=True)[1]"
   ],
   "metadata": {
    "collapsed": false,
    "ExecuteTime": {
     "start_time": "2024-04-04T21:15:18.723405Z",
     "end_time": "2024-04-04T21:19:22.997383Z"
    }
   }
  },
  {
   "cell_type": "code",
   "execution_count": 24,
   "outputs": [
    {
     "data": {
      "text/plain": "{'rs': array([322273,   4582,     10], dtype=int64),\n 'ba': array([234063,    559], dtype=int64),\n 'bace': array([1484,   28,    1], dtype=int64),\n 'tox': array([7472,  255,   58,    9,   14,    1,    1,    7,    1], dtype=int64)}"
     },
     "execution_count": 24,
     "metadata": {},
     "output_type": "execute_result"
    }
   ],
   "source": [
    "results"
   ],
   "metadata": {
    "collapsed": false,
    "ExecuteTime": {
     "start_time": "2024-04-04T21:19:22.984381Z",
     "end_time": "2024-04-04T21:19:23.011382Z"
    }
   }
  },
  {
   "cell_type": "markdown",
   "source": [
    "## Check number of rings"
   ],
   "metadata": {
    "collapsed": false
   }
  },
  {
   "cell_type": "code",
   "execution_count": 22,
   "outputs": [],
   "source": [
    "def n_rings_count(molecule):\n",
    "    return len(molecule.GetRingInfo().AtomRings())"
   ],
   "metadata": {
    "collapsed": false,
    "ExecuteTime": {
     "start_time": "2024-03-30T16:02:04.907783Z",
     "end_time": "2024-03-30T16:02:04.920786Z"
    }
   }
  },
  {
   "cell_type": "code",
   "execution_count": 23,
   "outputs": [
    {
     "name": "stderr",
     "output_type": "stream",
     "text": [
      "100%|██████████| 326865/326865 [01:43<00:00, 3157.56it/s]\n",
      "100%|██████████| 234622/234622 [01:13<00:00, 3192.22it/s]\n",
      "100%|██████████| 1513/1513 [00:00<00:00, 2011.95it/s]\n",
      "100%|██████████| 7818/7818 [00:02<00:00, 2779.11it/s]\n"
     ]
    }
   ],
   "source": [
    "results = {}\n",
    "\n",
    "for key in dataset_dict.keys():\n",
    "    with Pool(processes=os.cpu_count()) as p:\n",
    "        results[key] = np.unique(np.array(list(p.imap(\n",
    "            n_rings_count,\n",
    "            tqdm(dataset_dict[key], position=0)\n",
    "        ))), return_counts=True)[1]"
   ],
   "metadata": {
    "collapsed": false,
    "ExecuteTime": {
     "start_time": "2024-03-30T16:02:05.804125Z",
     "end_time": "2024-03-30T16:05:07.214332Z"
    }
   }
  },
  {
   "cell_type": "code",
   "execution_count": 24,
   "outputs": [
    {
     "data": {
      "text/plain": "{'rs': array([  9785,  54040, 111602,  80860,  45217,  17607,   6461,    772,\n           211,    182,     70,     58], dtype=int64),\n 'ba': array([ 17142,  98182, 106348,  12702,    240,      8], dtype=int64),\n 'bace': array([  5,  13,  43, 512, 656, 251,  30,   3], dtype=int64),\n 'tox': array([1804, 2321, 1627, 1020,  653,  244,   78,   35,   17,   12,    2,\n           2,    1,    1,    1], dtype=int64)}"
     },
     "execution_count": 24,
     "metadata": {},
     "output_type": "execute_result"
    }
   ],
   "source": [
    "results"
   ],
   "metadata": {
    "collapsed": false,
    "ExecuteTime": {
     "start_time": "2024-03-30T16:05:07.202825Z",
     "end_time": "2024-03-30T16:05:07.218332Z"
    }
   }
  },
  {
   "cell_type": "code",
   "execution_count": null,
   "outputs": [],
   "source": [],
   "metadata": {
    "collapsed": false
   }
  }
 ],
 "metadata": {
  "kernelspec": {
   "display_name": "Python 3",
   "language": "python",
   "name": "python3"
  },
  "language_info": {
   "codemirror_mode": {
    "name": "ipython",
    "version": 2
   },
   "file_extension": ".py",
   "mimetype": "text/x-python",
   "name": "python",
   "nbconvert_exporter": "python",
   "pygments_lexer": "ipython2",
   "version": "2.7.6"
  }
 },
 "nbformat": 4,
 "nbformat_minor": 0
}
