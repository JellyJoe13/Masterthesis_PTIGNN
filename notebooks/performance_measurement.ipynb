{
 "cells": [
  {
   "cell_type": "markdown",
   "source": [
    "# Notebook to measure performance of ChiENN and Ptree model"
   ],
   "metadata": {
    "collapsed": false
   }
  },
  {
   "cell_type": "code",
   "execution_count": 1,
   "outputs": [],
   "source": [
    "import os\n",
    "import sys\n",
    "\n",
    "from ptgnn.runtime_config.run_config import run_config\n",
    "\n",
    "sys.path.append(\"../\")\n",
    "\n",
    "from ptgnn.runtime_config.config import import_as\n",
    "from ptgnn.runtime_config.config_helpers import load_and_merge_default_configs"
   ],
   "metadata": {
    "collapsed": false,
    "ExecuteTime": {
     "start_time": "2024-04-06T07:39:57.510601Z",
     "end_time": "2024-04-06T07:40:01.273830Z"
    }
   }
  },
  {
   "cell_type": "code",
   "execution_count": 2,
   "outputs": [],
   "source": [
    "benchmark_config_chienn = import_as(\"hyperoptimization/configs/benchmarking/rs/benchmark_instructions_rs_chienn.yaml\")\n",
    "benchmark_config_ptree = import_as(\"hyperoptimization/configs/benchmarking/rs/benchmark_instructions_rs_ptree_default.yaml\")"
   ],
   "metadata": {
    "collapsed": false,
    "ExecuteTime": {
     "start_time": "2024-04-06T07:40:01.275830Z",
     "end_time": "2024-04-06T07:40:01.289259Z"
    }
   }
  },
  {
   "cell_type": "code",
   "execution_count": 3,
   "outputs": [],
   "source": [
    "default_config_chienn = load_and_merge_default_configs(\n",
    "    [\n",
    "        \"hyperoptimization/\" + path\n",
    "        for path in benchmark_config_chienn['config_files']\n",
    "    ]\n",
    ")\n",
    "default_config_ptree = load_and_merge_default_configs(\n",
    "    [\n",
    "        \"hyperoptimization/\" + path\n",
    "        for path in benchmark_config_ptree['config_files']\n",
    "    ]\n",
    ")"
   ],
   "metadata": {
    "collapsed": false,
    "ExecuteTime": {
     "start_time": "2024-04-06T07:40:01.291260Z",
     "end_time": "2024-04-06T07:40:01.309259Z"
    }
   }
  },
  {
   "cell_type": "code",
   "execution_count": 4,
   "outputs": [],
   "source": [
    "default_config_chienn['training']['n_max_epochs'] = 3\n",
    "default_config_ptree['training']['n_max_epochs'] = 3"
   ],
   "metadata": {
    "collapsed": false,
    "ExecuteTime": {
     "start_time": "2024-04-06T07:40:01.306260Z",
     "end_time": "2024-04-06T07:40:01.322261Z"
    }
   }
  },
  {
   "cell_type": "code",
   "execution_count": 5,
   "outputs": [],
   "source": [
    "default_config_chienn['data']['dataset']['root'] = os.path.abspath(\n",
    "    os.path.join(\"hyperoptimization\", \"src\", default_config_chienn['data']['dataset']['type'])\n",
    ")\n",
    "default_config_ptree['data']['dataset']['root'] = os.path.abspath(\n",
    "    os.path.join(\"hyperoptimization\", \"src\", default_config_ptree['data']['dataset']['type'])\n",
    ")"
   ],
   "metadata": {
    "collapsed": false,
    "ExecuteTime": {
     "start_time": "2024-04-06T07:40:01.324355Z",
     "end_time": "2024-04-06T07:40:01.340359Z"
    }
   }
  },
  {
   "cell_type": "code",
   "execution_count": 6,
   "outputs": [
    {
     "data": {
      "text/plain": "{'data': {'subset_size': 10000,\n  'dataset': {'type': 'rs',\n   'mask_chiral_tasks': True,\n   'root': 'D:\\\\DATEN\\\\Masterarbeit_PTGNN\\\\notebooks\\\\hyperoptimization\\\\src\\\\rs'},\n  'loader': {'general': {'n_neighbors_in_circle': 3,\n    'batch_size': 32,\n    'num_workers': 0},\n   'train': {'sampler': 'single_conformer_sampler'},\n   'val': {'sampler': 'full_batch'},\n   'test': {'sampler': 'full_batch'}}},\n 'training': {'n_max_epochs': 3,\n  'loss_function': 'cross_entropy',\n  'optimization_metric': 'accuracy',\n  'optimization_metric_mode': 'max',\n  'task_type': 'classification',\n  'clip_grad_norm': True},\n 'model': {'out_dim': 1,\n  'mode': 'custom',\n  'hidden_dim': 128,\n  'modules': {0: {'type': 'graph_embedding',\n    'parameter': {'node_type': 'linear', 'edge_type': 'linear'}},\n   1: {'type': 'gps_layer',\n    'parameter': {'local_model': 'chienn', 'local_model_params': {}},\n    'times': 5}},\n  'head': {'type': 'san_head', 'n_layer': 3, 'pool_function': 'add'}},\n 'optimizer': {'type': 'adam_w',\n  'base_learning_rate': 0.001,\n  'weight_decay': 1e-05},\n 'scheduler': {'type': 'cosine_with_warmup',\n  'num_warmup_epochs': 10,\n  'max_epochs': 100}}"
     },
     "execution_count": 6,
     "metadata": {},
     "output_type": "execute_result"
    }
   ],
   "source": [
    "default_config_chienn"
   ],
   "metadata": {
    "collapsed": false,
    "ExecuteTime": {
     "start_time": "2024-04-06T07:40:01.341359Z",
     "end_time": "2024-04-06T07:40:01.379862Z"
    }
   }
  },
  {
   "cell_type": "code",
   "execution_count": 7,
   "outputs": [
    {
     "data": {
      "text/plain": "{'data': {'subset_size': 10000,\n  'dataset': {'type': 'rs',\n   'mask_chiral_tasks': True,\n   'graph_mode': 'edge',\n   'transformation_mode': 'permutation_tree',\n   'transformation_parameters': {'k': 3},\n   'root': 'D:\\\\DATEN\\\\Masterarbeit_PTGNN\\\\notebooks\\\\hyperoptimization\\\\src\\\\rs'},\n  'loader': {'general': {'n_neighbors_in_circle': 3,\n    'batch_size': 32,\n    'num_workers': 0},\n   'train': {'sampler': 'single_conformer_sampler'},\n   'val': {'sampler': 'full_batch'},\n   'test': {'sampler': 'full_batch'}}},\n 'training': {'n_max_epochs': 3,\n  'loss_function': 'cross_entropy',\n  'optimization_metric': 'accuracy',\n  'optimization_metric_mode': 'max',\n  'task_type': 'classification',\n  'clip_grad_norm': True},\n 'model': {'out_dim': 1,\n  'mode': 'custom',\n  'hidden_dim': 128,\n  'modules': {0: {'type': 'graph_embedding',\n    'parameter': {'node_type': 'linear', 'edge_type': 'linear'}},\n   1: {'type': 'gps_layer',\n    'parameter': {'local_model': 'permutation_tree',\n     'local_model_params': {'k': 3}},\n    'times': 5}},\n  'head': {'type': 'san_head', 'n_layer': 3, 'pool_function': 'add'}},\n 'optimizer': {'type': 'adam_w',\n  'base_learning_rate': 0.001,\n  'weight_decay': 1e-05},\n 'scheduler': {'type': 'cosine_with_warmup',\n  'num_warmup_epochs': 10,\n  'max_epochs': 100}}"
     },
     "execution_count": 7,
     "metadata": {},
     "output_type": "execute_result"
    }
   ],
   "source": [
    "default_config_ptree"
   ],
   "metadata": {
    "collapsed": false,
    "ExecuteTime": {
     "start_time": "2024-04-06T07:40:01.353863Z",
     "end_time": "2024-04-06T07:40:01.398863Z"
    }
   }
  },
  {
   "cell_type": "markdown",
   "source": [
    "## CPU"
   ],
   "metadata": {
    "collapsed": false
   }
  },
  {
   "cell_type": "code",
   "execution_count": 8,
   "outputs": [
    {
     "name": "stdout",
     "output_type": "stream",
     "text": [
      "ChiENN:\n",
      "\n",
      "Epoch: 0\n"
     ]
    },
    {
     "name": "stderr",
     "output_type": "stream",
     "text": [
      "312it [02:42,  1.92it/s]\n",
      "100%|██████████| 313/313 [00:39<00:00,  7.85it/s]\n"
     ]
    },
    {
     "name": "stdout",
     "output_type": "stream",
     "text": [
      "\n",
      "Epoch: 1\n"
     ]
    },
    {
     "name": "stderr",
     "output_type": "stream",
     "text": [
      "312it [02:41,  1.93it/s]\n",
      "100%|██████████| 313/313 [00:37<00:00,  8.39it/s]\n"
     ]
    },
    {
     "name": "stdout",
     "output_type": "stream",
     "text": [
      "\n",
      "Epoch: 2\n"
     ]
    },
    {
     "name": "stderr",
     "output_type": "stream",
     "text": [
      "312it [02:41,  1.94it/s]\n",
      "100%|██████████| 313/313 [00:37<00:00,  8.42it/s]\n"
     ]
    },
    {
     "data": {
      "text/plain": "   train_accuracy  train_precision  train_recall  train_f1  train_auc  \\\n0            0.51             0.67          0.05      0.10       0.55   \n1            0.99             1.00          0.99      0.99       1.00   \n2            1.00             1.00          1.00      1.00       1.00   \n\n   train_mean_loss  train_sum_loss  val_accuracy  val_precision  val_recall  \\\n0         0.981054      306.088998          0.51           0.67        0.05   \n1         0.017814        5.557868          1.00           1.00        1.00   \n2         0.002556        0.797349          1.00           1.00        1.00   \n\n   val_f1  val_auc  val_mean_loss  val_sum_loss  \n0    0.09     0.55       0.976364    305.601886  \n1    1.00     1.00       0.000068      0.021398  \n2    1.00     1.00       0.000809      0.253319  ",
      "text/html": "<div>\n<style scoped>\n    .dataframe tbody tr th:only-of-type {\n        vertical-align: middle;\n    }\n\n    .dataframe tbody tr th {\n        vertical-align: top;\n    }\n\n    .dataframe thead th {\n        text-align: right;\n    }\n</style>\n<table border=\"1\" class=\"dataframe\">\n  <thead>\n    <tr style=\"text-align: right;\">\n      <th></th>\n      <th>train_accuracy</th>\n      <th>train_precision</th>\n      <th>train_recall</th>\n      <th>train_f1</th>\n      <th>train_auc</th>\n      <th>train_mean_loss</th>\n      <th>train_sum_loss</th>\n      <th>val_accuracy</th>\n      <th>val_precision</th>\n      <th>val_recall</th>\n      <th>val_f1</th>\n      <th>val_auc</th>\n      <th>val_mean_loss</th>\n      <th>val_sum_loss</th>\n    </tr>\n  </thead>\n  <tbody>\n    <tr>\n      <th>0</th>\n      <td>0.51</td>\n      <td>0.67</td>\n      <td>0.05</td>\n      <td>0.10</td>\n      <td>0.55</td>\n      <td>0.981054</td>\n      <td>306.088998</td>\n      <td>0.51</td>\n      <td>0.67</td>\n      <td>0.05</td>\n      <td>0.09</td>\n      <td>0.55</td>\n      <td>0.976364</td>\n      <td>305.601886</td>\n    </tr>\n    <tr>\n      <th>1</th>\n      <td>0.99</td>\n      <td>1.00</td>\n      <td>0.99</td>\n      <td>0.99</td>\n      <td>1.00</td>\n      <td>0.017814</td>\n      <td>5.557868</td>\n      <td>1.00</td>\n      <td>1.00</td>\n      <td>1.00</td>\n      <td>1.00</td>\n      <td>1.00</td>\n      <td>0.000068</td>\n      <td>0.021398</td>\n    </tr>\n    <tr>\n      <th>2</th>\n      <td>1.00</td>\n      <td>1.00</td>\n      <td>1.00</td>\n      <td>1.00</td>\n      <td>1.00</td>\n      <td>0.002556</td>\n      <td>0.797349</td>\n      <td>1.00</td>\n      <td>1.00</td>\n      <td>1.00</td>\n      <td>1.00</td>\n      <td>1.00</td>\n      <td>0.000809</td>\n      <td>0.253319</td>\n    </tr>\n  </tbody>\n</table>\n</div>"
     },
     "metadata": {},
     "output_type": "display_data"
    },
    {
     "name": "stdout",
     "output_type": "stream",
     "text": [
      "Ptree:\n",
      "\n",
      "Epoch: 0\n"
     ]
    },
    {
     "name": "stderr",
     "output_type": "stream",
     "text": [
      "312it [05:13,  1.00s/it]\n",
      "100%|██████████| 313/313 [00:57<00:00,  5.47it/s]\n"
     ]
    },
    {
     "name": "stdout",
     "output_type": "stream",
     "text": [
      "\n",
      "Epoch: 1\n"
     ]
    },
    {
     "name": "stderr",
     "output_type": "stream",
     "text": [
      "312it [05:11,  1.00it/s]\n",
      "100%|██████████| 313/313 [00:54<00:00,  5.73it/s]\n"
     ]
    },
    {
     "name": "stdout",
     "output_type": "stream",
     "text": [
      "\n",
      "Epoch: 2\n"
     ]
    },
    {
     "name": "stderr",
     "output_type": "stream",
     "text": [
      "312it [05:11,  1.00it/s]\n",
      "100%|██████████| 313/313 [00:54<00:00,  5.70it/s]\n"
     ]
    },
    {
     "data": {
      "text/plain": "   train_accuracy  train_precision  train_recall  train_f1  train_auc  \\\n0            0.55             0.58          0.38      0.46       0.55   \n1            0.99             0.99          0.99      0.99       1.00   \n2            1.00             1.00          1.00      1.00       1.00   \n\n   train_mean_loss  train_sum_loss  val_accuracy  val_precision  val_recall  \\\n0         0.854530      266.613364          0.55           0.57         0.4   \n1         0.020242        6.315516          1.00           1.00         1.0   \n2         0.000027        0.008385          1.00           1.00         1.0   \n\n   val_f1  val_auc  val_mean_loss  val_sum_loss  \n0    0.47     0.55       0.854351    267.411992  \n1    1.00     1.00       0.000048      0.014968  \n2    1.00     1.00       0.000016      0.005043  ",
      "text/html": "<div>\n<style scoped>\n    .dataframe tbody tr th:only-of-type {\n        vertical-align: middle;\n    }\n\n    .dataframe tbody tr th {\n        vertical-align: top;\n    }\n\n    .dataframe thead th {\n        text-align: right;\n    }\n</style>\n<table border=\"1\" class=\"dataframe\">\n  <thead>\n    <tr style=\"text-align: right;\">\n      <th></th>\n      <th>train_accuracy</th>\n      <th>train_precision</th>\n      <th>train_recall</th>\n      <th>train_f1</th>\n      <th>train_auc</th>\n      <th>train_mean_loss</th>\n      <th>train_sum_loss</th>\n      <th>val_accuracy</th>\n      <th>val_precision</th>\n      <th>val_recall</th>\n      <th>val_f1</th>\n      <th>val_auc</th>\n      <th>val_mean_loss</th>\n      <th>val_sum_loss</th>\n    </tr>\n  </thead>\n  <tbody>\n    <tr>\n      <th>0</th>\n      <td>0.55</td>\n      <td>0.58</td>\n      <td>0.38</td>\n      <td>0.46</td>\n      <td>0.55</td>\n      <td>0.854530</td>\n      <td>266.613364</td>\n      <td>0.55</td>\n      <td>0.57</td>\n      <td>0.4</td>\n      <td>0.47</td>\n      <td>0.55</td>\n      <td>0.854351</td>\n      <td>267.411992</td>\n    </tr>\n    <tr>\n      <th>1</th>\n      <td>0.99</td>\n      <td>0.99</td>\n      <td>0.99</td>\n      <td>0.99</td>\n      <td>1.00</td>\n      <td>0.020242</td>\n      <td>6.315516</td>\n      <td>1.00</td>\n      <td>1.00</td>\n      <td>1.0</td>\n      <td>1.00</td>\n      <td>1.00</td>\n      <td>0.000048</td>\n      <td>0.014968</td>\n    </tr>\n    <tr>\n      <th>2</th>\n      <td>1.00</td>\n      <td>1.00</td>\n      <td>1.00</td>\n      <td>1.00</td>\n      <td>1.00</td>\n      <td>0.000027</td>\n      <td>0.008385</td>\n      <td>1.00</td>\n      <td>1.00</td>\n      <td>1.0</td>\n      <td>1.00</td>\n      <td>1.00</td>\n      <td>0.000016</td>\n      <td>0.005043</td>\n    </tr>\n  </tbody>\n</table>\n</div>"
     },
     "metadata": {},
     "output_type": "display_data"
    }
   ],
   "source": [
    "print(\"ChiENN:\")\n",
    "display(run_config(\n",
    "    default_config_chienn,\n",
    "    device=\"cpu\"\n",
    "))\n",
    "print(\"Ptree:\")\n",
    "display(run_config(\n",
    "    default_config_ptree,\n",
    "    device=\"cpu\"\n",
    "))"
   ],
   "metadata": {
    "collapsed": false,
    "ExecuteTime": {
     "start_time": "2024-04-06T07:40:01.369864Z",
     "end_time": "2024-04-06T08:09:55.418470Z"
    }
   }
  },
  {
   "cell_type": "markdown",
   "source": [
    "## GPU"
   ],
   "metadata": {
    "collapsed": false
   }
  },
  {
   "cell_type": "code",
   "execution_count": 9,
   "outputs": [
    {
     "name": "stdout",
     "output_type": "stream",
     "text": [
      "ChiENN:\n",
      "\n",
      "Epoch: 0\n"
     ]
    },
    {
     "name": "stderr",
     "output_type": "stream",
     "text": [
      "312it [01:07,  4.60it/s]\n",
      "100%|██████████| 313/313 [00:16<00:00, 19.27it/s]\n"
     ]
    },
    {
     "name": "stdout",
     "output_type": "stream",
     "text": [
      "\n",
      "Epoch: 1\n"
     ]
    },
    {
     "name": "stderr",
     "output_type": "stream",
     "text": [
      "312it [01:06,  4.69it/s]\n",
      "100%|██████████| 313/313 [00:14<00:00, 21.59it/s]\n"
     ]
    },
    {
     "name": "stdout",
     "output_type": "stream",
     "text": [
      "\n",
      "Epoch: 2\n"
     ]
    },
    {
     "name": "stderr",
     "output_type": "stream",
     "text": [
      "312it [01:05,  4.75it/s]\n",
      "100%|██████████| 313/313 [00:13<00:00, 22.69it/s]\n"
     ]
    },
    {
     "data": {
      "text/plain": "   train_accuracy  train_precision  train_recall  train_f1  train_auc  \\\n0            0.51             0.67          0.05      0.10       0.55   \n1            0.99             1.00          0.99      0.99       1.00   \n2            1.00             1.00          1.00      1.00       1.00   \n\n   train_mean_loss  train_sum_loss  val_accuracy  val_precision  val_recall  \\\n0         0.981054      306.088993          0.51           0.67        0.05   \n1         0.017814        5.557894          1.00           1.00        1.00   \n2         0.002396        0.747695          1.00           1.00        1.00   \n\n   val_f1  val_auc  val_mean_loss  val_sum_loss  \n0    0.09     0.55       0.976364    305.601840  \n1    1.00     1.00       0.000068      0.021352  \n2    1.00     1.00       0.000016      0.005117  ",
      "text/html": "<div>\n<style scoped>\n    .dataframe tbody tr th:only-of-type {\n        vertical-align: middle;\n    }\n\n    .dataframe tbody tr th {\n        vertical-align: top;\n    }\n\n    .dataframe thead th {\n        text-align: right;\n    }\n</style>\n<table border=\"1\" class=\"dataframe\">\n  <thead>\n    <tr style=\"text-align: right;\">\n      <th></th>\n      <th>train_accuracy</th>\n      <th>train_precision</th>\n      <th>train_recall</th>\n      <th>train_f1</th>\n      <th>train_auc</th>\n      <th>train_mean_loss</th>\n      <th>train_sum_loss</th>\n      <th>val_accuracy</th>\n      <th>val_precision</th>\n      <th>val_recall</th>\n      <th>val_f1</th>\n      <th>val_auc</th>\n      <th>val_mean_loss</th>\n      <th>val_sum_loss</th>\n    </tr>\n  </thead>\n  <tbody>\n    <tr>\n      <th>0</th>\n      <td>0.51</td>\n      <td>0.67</td>\n      <td>0.05</td>\n      <td>0.10</td>\n      <td>0.55</td>\n      <td>0.981054</td>\n      <td>306.088993</td>\n      <td>0.51</td>\n      <td>0.67</td>\n      <td>0.05</td>\n      <td>0.09</td>\n      <td>0.55</td>\n      <td>0.976364</td>\n      <td>305.601840</td>\n    </tr>\n    <tr>\n      <th>1</th>\n      <td>0.99</td>\n      <td>1.00</td>\n      <td>0.99</td>\n      <td>0.99</td>\n      <td>1.00</td>\n      <td>0.017814</td>\n      <td>5.557894</td>\n      <td>1.00</td>\n      <td>1.00</td>\n      <td>1.00</td>\n      <td>1.00</td>\n      <td>1.00</td>\n      <td>0.000068</td>\n      <td>0.021352</td>\n    </tr>\n    <tr>\n      <th>2</th>\n      <td>1.00</td>\n      <td>1.00</td>\n      <td>1.00</td>\n      <td>1.00</td>\n      <td>1.00</td>\n      <td>0.002396</td>\n      <td>0.747695</td>\n      <td>1.00</td>\n      <td>1.00</td>\n      <td>1.00</td>\n      <td>1.00</td>\n      <td>1.00</td>\n      <td>0.000016</td>\n      <td>0.005117</td>\n    </tr>\n  </tbody>\n</table>\n</div>"
     },
     "metadata": {},
     "output_type": "display_data"
    },
    {
     "name": "stdout",
     "output_type": "stream",
     "text": [
      "Ptree:\n",
      "\n",
      "Epoch: 0\n"
     ]
    },
    {
     "name": "stderr",
     "output_type": "stream",
     "text": [
      "312it [02:04,  2.51it/s]\n",
      "100%|██████████| 313/313 [00:31<00:00,  9.93it/s]\n"
     ]
    },
    {
     "name": "stdout",
     "output_type": "stream",
     "text": [
      "\n",
      "Epoch: 1\n"
     ]
    },
    {
     "name": "stderr",
     "output_type": "stream",
     "text": [
      "312it [02:04,  2.51it/s]\n",
      "100%|██████████| 313/313 [00:27<00:00, 11.36it/s]\n"
     ]
    },
    {
     "name": "stdout",
     "output_type": "stream",
     "text": [
      "\n",
      "Epoch: 2\n"
     ]
    },
    {
     "name": "stderr",
     "output_type": "stream",
     "text": [
      "312it [02:03,  2.53it/s]\n",
      "100%|██████████| 313/313 [00:29<00:00, 10.61it/s]\n"
     ]
    },
    {
     "data": {
      "text/plain": "   train_accuracy  train_precision  train_recall  train_f1  train_auc  \\\n0            0.55             0.58          0.38      0.46       0.55   \n1            0.99             0.99          0.99      0.99       1.00   \n2            1.00             1.00          1.00      1.00       1.00   \n\n   train_mean_loss  train_sum_loss  val_accuracy  val_precision  val_recall  \\\n0         0.854530      266.613370          0.55           0.57         0.4   \n1         0.020242        6.315528          1.00           1.00         1.0   \n2         0.000027        0.008385          1.00           1.00         1.0   \n\n   val_f1  val_auc  val_mean_loss  val_sum_loss  \n0    0.47     0.55       0.854351    267.411990  \n1    1.00     1.00       0.000048      0.014972  \n2    1.00     1.00       0.000016      0.005045  ",
      "text/html": "<div>\n<style scoped>\n    .dataframe tbody tr th:only-of-type {\n        vertical-align: middle;\n    }\n\n    .dataframe tbody tr th {\n        vertical-align: top;\n    }\n\n    .dataframe thead th {\n        text-align: right;\n    }\n</style>\n<table border=\"1\" class=\"dataframe\">\n  <thead>\n    <tr style=\"text-align: right;\">\n      <th></th>\n      <th>train_accuracy</th>\n      <th>train_precision</th>\n      <th>train_recall</th>\n      <th>train_f1</th>\n      <th>train_auc</th>\n      <th>train_mean_loss</th>\n      <th>train_sum_loss</th>\n      <th>val_accuracy</th>\n      <th>val_precision</th>\n      <th>val_recall</th>\n      <th>val_f1</th>\n      <th>val_auc</th>\n      <th>val_mean_loss</th>\n      <th>val_sum_loss</th>\n    </tr>\n  </thead>\n  <tbody>\n    <tr>\n      <th>0</th>\n      <td>0.55</td>\n      <td>0.58</td>\n      <td>0.38</td>\n      <td>0.46</td>\n      <td>0.55</td>\n      <td>0.854530</td>\n      <td>266.613370</td>\n      <td>0.55</td>\n      <td>0.57</td>\n      <td>0.4</td>\n      <td>0.47</td>\n      <td>0.55</td>\n      <td>0.854351</td>\n      <td>267.411990</td>\n    </tr>\n    <tr>\n      <th>1</th>\n      <td>0.99</td>\n      <td>0.99</td>\n      <td>0.99</td>\n      <td>0.99</td>\n      <td>1.00</td>\n      <td>0.020242</td>\n      <td>6.315528</td>\n      <td>1.00</td>\n      <td>1.00</td>\n      <td>1.0</td>\n      <td>1.00</td>\n      <td>1.00</td>\n      <td>0.000048</td>\n      <td>0.014972</td>\n    </tr>\n    <tr>\n      <th>2</th>\n      <td>1.00</td>\n      <td>1.00</td>\n      <td>1.00</td>\n      <td>1.00</td>\n      <td>1.00</td>\n      <td>0.000027</td>\n      <td>0.008385</td>\n      <td>1.00</td>\n      <td>1.00</td>\n      <td>1.0</td>\n      <td>1.00</td>\n      <td>1.00</td>\n      <td>0.000016</td>\n      <td>0.005045</td>\n    </tr>\n  </tbody>\n</table>\n</div>"
     },
     "metadata": {},
     "output_type": "display_data"
    }
   ],
   "source": [
    "print(\"ChiENN:\")\n",
    "display(run_config(\n",
    "    default_config_chienn,\n",
    "    device=\"cuda\"\n",
    "))\n",
    "print(\"Ptree:\")\n",
    "display(run_config(\n",
    "    default_config_ptree,\n",
    "    device=\"cuda\"\n",
    "))"
   ],
   "metadata": {
    "collapsed": false,
    "ExecuteTime": {
     "start_time": "2024-04-06T08:09:55.420417Z",
     "end_time": "2024-04-06T08:22:35.728557Z"
    }
   }
  }
 ],
 "metadata": {
  "kernelspec": {
   "display_name": "Python 3",
   "language": "python",
   "name": "python3"
  },
  "language_info": {
   "codemirror_mode": {
    "name": "ipython",
    "version": 2
   },
   "file_extension": ".py",
   "mimetype": "text/x-python",
   "name": "python",
   "nbconvert_exporter": "python",
   "pygments_lexer": "ipython2",
   "version": "2.7.6"
  }
 },
 "nbformat": 4,
 "nbformat_minor": 0
}
