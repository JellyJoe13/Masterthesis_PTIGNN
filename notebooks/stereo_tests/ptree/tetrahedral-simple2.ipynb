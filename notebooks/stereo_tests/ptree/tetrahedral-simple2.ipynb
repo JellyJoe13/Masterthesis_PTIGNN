{
 "cells": [
  {
   "cell_type": "markdown",
   "id": "cce7ba2e-6183-4900-9e1c-608c46435893",
   "metadata": {},
   "source": [
    "# Stereoisomer testing on ptree - enantiomers"
   ]
  },
  {
   "cell_type": "markdown",
   "id": "cd5b739d-220a-4c13-9ce0-a3933e034d4d",
   "metadata": {},
   "source": [
    "## Importing section"
   ]
  },
  {
   "cell_type": "code",
   "execution_count": 1,
   "outputs": [],
   "source": [
    "import numpy as np\n",
    "from rdkit import Chem\n",
    "from rdkit.Chem import AllChem\n",
    "import sys\n",
    "\n",
    "sys.path.append(\"../../\")\n",
    "\n",
    "from ptgnn.features.chienn.molecule3d import smiles_to_3d_mol\n",
    "from ptgnn.features.chienn.mol_to_data import mol_to_data\n",
    "from ptgnn.transform import edge_graph_transform, vertex_graph_transform\n",
    "from ptgnn.model.modules.ptree.complex_ptree_layer import ComplexPtreeLayer"
   ],
   "metadata": {
    "collapsed": false,
    "ExecuteTime": {
     "start_time": "2024-03-19T18:11:18.367583Z",
     "end_time": "2024-03-19T18:11:20.237933Z"
    }
   }
  },
  {
   "cell_type": "markdown",
   "id": "4ce50022-5637-4a30-b409-1e45a433f047",
   "metadata": {},
   "source": [
    "## Define SMILES strings"
   ]
  },
  {
   "cell_type": "code",
   "execution_count": 2,
   "id": "fe716171-6aec-40ab-a31a-1fb0bd635c46",
   "metadata": {
    "tags": [],
    "ExecuteTime": {
     "start_time": "2024-03-19T18:11:20.237933Z",
     "end_time": "2024-03-19T18:11:20.250933Z"
    }
   },
   "outputs": [],
   "source": [
    "smiles_list = [\n",
    "    \"C(Br)(Cl)F\",\n",
    "    \"[C@H](Br)(Cl)F\",\n",
    "    \"[C@@H](Br)(Cl)F\",\n",
    "]"
   ]
  },
  {
   "cell_type": "markdown",
   "id": "1663655e-0dd3-492e-b007-344f18fffb87",
   "metadata": {},
   "source": [
    "## Visualize and confirm stereomer classification (E/Z)"
   ]
  },
  {
   "cell_type": "code",
   "execution_count": 3,
   "id": "13fe0401-cc1a-424a-80c2-df1760e4df84",
   "metadata": {
    "tags": [],
    "ExecuteTime": {
     "start_time": "2024-03-19T18:11:20.253933Z",
     "end_time": "2024-03-19T18:11:20.278010Z"
    }
   },
   "outputs": [],
   "source": [
    "def showAndChiral(smiles):\n",
    "    mol = Chem.MolFromSmiles(smiles)\n",
    "    display(mol)\n",
    "    print(AllChem.FindMolChiralCenters(mol, includeUnassigned=True))\n",
    "    for bond in mol.GetBonds():\n",
    "        if bond.GetBondType() == Chem.rdchem.BondType.DOUBLE:\n",
    "            print(\"Bond\", bond.GetIdx(), \"stereo:\", bond.GetStereo())"
   ]
  },
  {
   "cell_type": "code",
   "execution_count": 4,
   "id": "f54309f1-465b-4834-aeda-cdc857767776",
   "metadata": {
    "tags": [],
    "ExecuteTime": {
     "start_time": "2024-03-19T18:11:20.272010Z",
     "end_time": "2024-03-19T18:11:20.282012Z"
    }
   },
   "outputs": [
    {
     "data": {
      "text/plain": "<rdkit.Chem.rdchem.Mol at 0x1458b9905f0>",
      "image/png": "[encoded data removed]"
     },
     "metadata": {},
     "output_type": "display_data"
    },
    {
     "name": "stdout",
     "output_type": "stream",
     "text": [
      "[(0, '?')]\n"
     ]
    },
    {
     "data": {
      "text/plain": "<rdkit.Chem.rdchem.Mol at 0x1458b990510>",
      "image/png": "[encoded data removed]"
     },
     "metadata": {},
     "output_type": "display_data"
    },
    {
     "name": "stdout",
     "output_type": "stream",
     "text": [
      "[(0, 'R')]\n"
     ]
    },
    {
     "data": {
      "text/plain": "<rdkit.Chem.rdchem.Mol at 0x1458b9902e0>",
      "image/png": "[encoded data removed]"
     },
     "metadata": {},
     "output_type": "display_data"
    },
    {
     "name": "stdout",
     "output_type": "stream",
     "text": [
      "[(0, 'S')]\n"
     ]
    }
   ],
   "source": [
    "for smile in smiles_list:\n",
    "    showAndChiral(smile)"
   ]
  },
  {
   "cell_type": "markdown",
   "id": "910c1424-4c1d-4421-ad82-628ccf16464e",
   "metadata": {},
   "source": [
    "##  Convert to (edge) graph with ptree"
   ]
  },
  {
   "cell_type": "code",
   "execution_count": 5,
   "outputs": [],
   "source": [
    "# get molecules\n",
    "mol_list = [\n",
    "    smiles_to_3d_mol(\n",
    "        smiles,\n",
    "        max_number_of_attempts=100,\n",
    "        max_number_of_atoms=100\n",
    "    )\n",
    "    for smiles in smiles_list\n",
    "]"
   ],
   "metadata": {
    "collapsed": false,
    "ExecuteTime": {
     "start_time": "2024-03-19T18:11:26.064369Z",
     "end_time": "2024-03-19T18:11:26.100368Z"
    }
   }
  },
  {
   "cell_type": "code",
   "execution_count": 6,
   "outputs": [],
   "source": [
    "data_list = [\n",
    "    mol_to_data(mol)\n",
    "    for mol in mol_list\n",
    "]"
   ],
   "metadata": {
    "collapsed": false,
    "ExecuteTime": {
     "start_time": "2024-03-19T18:11:26.647323Z",
     "end_time": "2024-03-19T18:11:26.662319Z"
    }
   }
  },
  {
   "cell_type": "code",
   "execution_count": 7,
   "outputs": [],
   "source": [
    "data_list = [\n",
    "    vertex_graph_transform(\n",
    "        data,\n",
    "        transformation_mode=\"permutation_tree\",\n",
    "        mol=mol,\n",
    "        transformation_parameters={\n",
    "            'k':  3,\n",
    "            'tetrahedral_chiral': True\n",
    "        }\n",
    "    )\n",
    "    for data, mol in zip(data_list, mol_list)\n",
    "]"
   ],
   "metadata": {
    "collapsed": false,
    "ExecuteTime": {
     "start_time": "2024-03-19T18:11:27.118923Z",
     "end_time": "2024-03-19T18:11:27.141431Z"
    }
   }
  },
  {
   "cell_type": "code",
   "execution_count": 8,
   "outputs": [],
   "source": [
    "from ptgnn.transform.ptree_matrix import permutation_tree_to_order_matrix\n",
    "\n",
    "data_list[0].ptree = [\n",
    "    '{\"S\": [0, {\"P\": [1]}]}',\n",
    "    '{\"S\": [1, {\"P\": [{\"Z\": [2,3,4]}, {\"Z\": [0,3,4]}, {\"Z\": [0,2,4]}, {\"Z\": [0,2,3]}]}]}',\n",
    "    '{\"S\": [2, {\"P\": [1]}]}',\n",
    "    '{\"S\": [3, {\"P\": [1]}]}',\n",
    "    '{\"S\": [4, {\"P\": [1]}]}'\n",
    "]\n",
    "data_list[1].ptree = [\n",
    "    '{\"S\": [0, {\"P\": [1]}]}',\n",
    "    '{\"S\": [1, {\"P\": [{\"Z\": [2,3,4]}, {\"Z\": [0,3,4]}, {\"Z\": [0,2,4]}, {\"Z\": [0,2,3]}]}]}',\n",
    "    '{\"S\": [2, {\"P\": [1]}]}',\n",
    "    '{\"S\": [3, {\"P\": [1]}]}',\n",
    "    '{\"S\": [4, {\"P\": [1]}]}'\n",
    "]\n",
    "data_list[2].ptree = [\n",
    "    '{\"S\": [0, {\"P\": [1]}]}',\n",
    "    '{\"S\": [1, {\"P\": [{\"Z\": [4,3,2]}, {\"Z\": [4,3,0]}, {\"Z\": [4,2,0]}, {\"Z\": [3,2,0]}]}]}',\n",
    "    '{\"S\": [2, {\"P\": [1]}]}',\n",
    "    '{\"S\": [3, {\"P\": [1]}]}',\n",
    "    '{\"S\": [4, {\"P\": [1]}]}'\n",
    "]\n",
    "data_list = [\n",
    "    permutation_tree_to_order_matrix(data, 3)\n",
    "    for data in data_list\n",
    "]"
   ],
   "metadata": {
    "collapsed": false,
    "ExecuteTime": {
     "start_time": "2024-03-19T18:11:27.844766Z",
     "end_time": "2024-03-19T18:11:27.861766Z"
    }
   }
  },
  {
   "cell_type": "code",
   "execution_count": 8,
   "outputs": [],
   "source": [
    "from ptgnn.transform.ptree_matrix import permutation_tree_to_order_matrix\n",
    "\n",
    "data_list[0].ptree = [\n",
    "    '{\"P\": [1]}',\n",
    "    '{\"P\": [{\"Z\": [2,3,4]}, {\"Z\": [0,3,4]}, {\"Z\": [0,2,4]}, {\"Z\": [0,2,3]}]}',\n",
    "    '{\"P\": [1]}',\n",
    "    '{\"P\": [1]}',\n",
    "    '{\"P\": [1]}'\n",
    "]\n",
    "data_list[1].ptree = [\n",
    "    '{\"P\": [1]}',\n",
    "    '{\"P\": [{\"Z\": [2,3,4]}, {\"Z\": [0,3,4]}, {\"Z\": [0,2,4]}, {\"Z\": [0,2,3]}]}',\n",
    "    '{\"P\": [1]}',\n",
    "    '{\"P\": [1]}',\n",
    "    '{\"P\": [1]}'\n",
    "]\n",
    "data_list[2].ptree = [\n",
    "    '{\"P\": [1]}',\n",
    "    '{\"P\": [{\"Z\": [4,3,2]}, {\"Z\": [4,3,0]}, {\"Z\": [4,2,0]}, {\"Z\": [3,2,0]}]}',\n",
    "    '{\"P\": [1]}',\n",
    "    '{\"P\": [1]}',\n",
    "    '{\"P\": [1]}'\n",
    "]\n",
    "data_list = [\n",
    "    permutation_tree_to_order_matrix(data, 3)\n",
    "    for data in data_list\n",
    "]"
   ],
   "metadata": {
    "collapsed": false,
    "ExecuteTime": {
     "start_time": "2024-03-19T18:04:47.655951Z",
     "end_time": "2024-03-19T18:04:47.671949Z"
    }
   }
  },
  {
   "cell_type": "code",
   "execution_count": 10,
   "outputs": [],
   "source": [
    "from ptgnn.transform.ptree_matrix import permutation_tree_to_order_matrix\n",
    "\n",
    "data_list[0].ptree = [\n",
    "    '{\"P\": [0, {\"P\": [1]}]}',\n",
    "    '{\"P\": [1, {\"P\": [{\"Z\": [2,3,4]}, {\"Z\": [0,3,4]}, {\"Z\": [0,2,4]}, {\"Z\": [0,2,3]}]}]}',\n",
    "    '{\"P\": [2, {\"P\": [1]}]}',\n",
    "    '{\"P\": [3, {\"P\": [1]}]}',\n",
    "    '{\"P\": [4, {\"P\": [1]}]}'\n",
    "]\n",
    "data_list[1].ptree = [\n",
    "    '{\"P\": [0, {\"P\": [1]}]}',\n",
    "    '{\"P\": [1, {\"P\": [{\"Z\": [2,3,4]}, {\"Z\": [0,3,4]}, {\"Z\": [0,2,4]}, {\"Z\": [0,2,3]}]}]}',\n",
    "    '{\"P\": [2, {\"P\": [1]}]}',\n",
    "    '{\"P\": [3, {\"P\": [1]}]}',\n",
    "    '{\"P\": [4, {\"P\": [1]}]}'\n",
    "]\n",
    "data_list[2].ptree = [\n",
    "    '{\"P\": [0, {\"P\": [1]}]}',\n",
    "    '{\"P\": [1, {\"P\": [{\"Z\": [4,3,2]}, {\"Z\": [4,3,0]}, {\"Z\": [4,2,0]}, {\"Z\": [3,2,0]}]}]}',\n",
    "    '{\"P\": [2, {\"P\": [1]}]}',\n",
    "    '{\"P\": [3, {\"P\": [1]}]}',\n",
    "    '{\"P\": [4, {\"P\": [1]}]}'\n",
    "]\n",
    "data_list = [\n",
    "    permutation_tree_to_order_matrix(data, 3)\n",
    "    for data in data_list\n",
    "]"
   ],
   "metadata": {
    "collapsed": false,
    "ExecuteTime": {
     "start_time": "2024-03-19T17:47:33.645141Z",
     "end_time": "2024-03-19T17:47:33.659140Z"
    }
   }
  },
  {
   "cell_type": "code",
   "execution_count": 11,
   "outputs": [],
   "source": [
    "from ptgnn.transform.ptree_matrix import permutation_tree_to_order_matrix\n",
    "\n",
    "data_list[0].ptree = [\n",
    "    '{\"P\": [0, {\"P\": [1]}]}',\n",
    "    '{\"P\": [1, {\"P\": [{\"Z\": [2,3,4]}, {\"Z\": [0,3,4]}, {\"Z\": [0,2,4]}, {\"Z\": [0,2,3]}]}]}',\n",
    "    '{\"P\": [2, {\"P\": [1]}]}',\n",
    "    '{\"P\": [3, {\"P\": [1]}]}',\n",
    "    '{\"P\": [4, {\"P\": [1]}]}'\n",
    "]\n",
    "data_list[1].ptree = [\n",
    "    '{\"P\": [0, {\"P\": [1]}]}',\n",
    "    '{\"P\": [1, {\"P\": [{\"Z\": [2,3,4]}, {\"Z\": [0,3,4]}, {\"Z\": [0,2,4]}, {\"Z\": [0,2,3]}]}]}',\n",
    "    '{\"P\": [2, {\"P\": [1]}]}',\n",
    "    '{\"P\": [3, {\"P\": [1]}]}',\n",
    "    '{\"P\": [4, {\"P\": [1]}]}'\n",
    "]\n",
    "data_list[2].ptree = [\n",
    "    '{\"P\": [0, {\"P\": [1]}]}',\n",
    "    '{\"P\": [1, {\"P\": [{\"Z\": [2,4,3]}, {\"Z\": [0,4,3]}, {\"Z\": [0,4,2]}, {\"Z\": [0,3,2]}]}]}',\n",
    "    '{\"P\": [2, {\"P\": [1]}]}',\n",
    "    '{\"P\": [3, {\"P\": [1]}]}',\n",
    "    '{\"P\": [4, {\"P\": [1]}]}'\n",
    "]\n",
    "data_list = [\n",
    "    permutation_tree_to_order_matrix(data, 3)\n",
    "    for data in data_list\n",
    "]"
   ],
   "metadata": {
    "collapsed": false,
    "ExecuteTime": {
     "start_time": "2024-03-19T17:47:33.661141Z",
     "end_time": "2024-03-19T17:47:33.677141Z"
    }
   }
  },
  {
   "cell_type": "code",
   "execution_count": 9,
   "outputs": [],
   "source": [
    "from ptgnn.transform.ptree_matrix import permutation_tree_to_order_matrix\n",
    "\n",
    "data_list[0].ptree = [\n",
    "    '{\"P\": [0, {\"P\": [1]}]}',\n",
    "    '{\"P\": [1, {\"P\": [{\"P\": [2,3,4]}, {\"P\": [0,3,4]}, {\"P\": [0,2,4]}, {\"P\": [0,2,3]}]}]}',\n",
    "    '{\"P\": [2, {\"P\": [1]}]}',\n",
    "    '{\"P\": [3, {\"P\": [1]}]}',\n",
    "    '{\"P\": [4, {\"P\": [1]}]}'\n",
    "]\n",
    "data_list[1].ptree = [\n",
    "    '{\"P\": [0, {\"P\": [1]}]}',\n",
    "    '{\"P\": [1, {\"P\": [{\"P\": [2,3,4]}, {\"P\": [0,3,4]}, {\"P\": [0,2,4]}, {\"P\": [0,2,3]}]}]}',\n",
    "    '{\"P\": [2, {\"P\": [1]}]}',\n",
    "    '{\"P\": [3, {\"P\": [1]}]}',\n",
    "    '{\"P\": [4, {\"P\": [1]}]}'\n",
    "]\n",
    "data_list[2].ptree = [\n",
    "    '{\"P\": [0, {\"P\": [1]}]}',\n",
    "    '{\"P\": [1, {\"P\": [{\"P\": [2,4,3]}, {\"P\": [0,4,3]}, {\"P\": [0,4,2]}, {\"P\": [0,3,2]}]}]}',\n",
    "    '{\"P\": [2, {\"P\": [1]}]}',\n",
    "    '{\"P\": [3, {\"P\": [1]}]}',\n",
    "    '{\"P\": [4, {\"P\": [1]}]}'\n",
    "]\n",
    "data_list = [\n",
    "    permutation_tree_to_order_matrix(data, 3)\n",
    "    for data in data_list\n",
    "]"
   ],
   "metadata": {
    "collapsed": false,
    "ExecuteTime": {
     "start_time": "2024-03-19T18:11:37.973947Z",
     "end_time": "2024-03-19T18:11:37.989947Z"
    }
   }
  },
  {
   "cell_type": "code",
   "execution_count": 10,
   "id": "6ccede64-7dc3-40d1-a75a-1701625f2bd9",
   "metadata": {
    "tags": [],
    "ExecuteTime": {
     "start_time": "2024-03-19T18:11:38.875273Z",
     "end_time": "2024-03-19T18:11:38.880271Z"
    }
   },
   "outputs": [
    {
     "name": "stdout",
     "output_type": "stream",
     "text": [
      "Data(x=[5, 43], edge_index=[2, 8], edge_attr=[8, 7], pos=[5, 3], ptree=[5], initial_map=[21], layer0_order_matrix=[1], layer0_type_mask=[1], layer0_pooling=[1], num_layer=3, layer1_order_matrix=[1], layer1_type_mask=[1], layer1_pooling=[1], layer2_order_matrix=[1], layer2_type_mask=[1], layer2_pooling=[1])\n",
      "['{\"P\": [0, {\"P\": [1]}]}', '{\"P\": [1, {\"P\": [{\"P\": [2,3,4]}, {\"P\": [0,3,4]}, {\"P\": [0,2,4]}, {\"P\": [0,2,3]}]}]}', '{\"P\": [2, {\"P\": [1]}]}', '{\"P\": [3, {\"P\": [1]}]}', '{\"P\": [4, {\"P\": [1]}]}']\n",
      "Data(x=[5, 43], edge_index=[2, 8], edge_attr=[8, 7], pos=[5, 3], ptree=[5], initial_map=[21], layer0_order_matrix=[1], layer0_type_mask=[1], layer0_pooling=[1], num_layer=3, layer1_order_matrix=[1], layer1_type_mask=[1], layer1_pooling=[1], layer2_order_matrix=[1], layer2_type_mask=[1], layer2_pooling=[1])\n",
      "['{\"P\": [0, {\"P\": [1]}]}', '{\"P\": [1, {\"P\": [{\"P\": [2,3,4]}, {\"P\": [0,3,4]}, {\"P\": [0,2,4]}, {\"P\": [0,2,3]}]}]}', '{\"P\": [2, {\"P\": [1]}]}', '{\"P\": [3, {\"P\": [1]}]}', '{\"P\": [4, {\"P\": [1]}]}']\n",
      "Data(x=[5, 43], edge_index=[2, 8], edge_attr=[8, 7], pos=[5, 3], ptree=[5], initial_map=[21], layer0_order_matrix=[1], layer0_type_mask=[1], layer0_pooling=[1], num_layer=3, layer1_order_matrix=[1], layer1_type_mask=[1], layer1_pooling=[1], layer2_order_matrix=[1], layer2_type_mask=[1], layer2_pooling=[1])\n",
      "['{\"P\": [0, {\"P\": [1]}]}', '{\"P\": [1, {\"P\": [{\"P\": [2,4,3]}, {\"P\": [0,4,3]}, {\"P\": [0,4,2]}, {\"P\": [0,3,2]}]}]}', '{\"P\": [2, {\"P\": [1]}]}', '{\"P\": [3, {\"P\": [1]}]}', '{\"P\": [4, {\"P\": [1]}]}']\n"
     ]
    }
   ],
   "source": [
    "for data in data_list:\n",
    "    print(data)\n",
    "    print(data.ptree)"
   ]
  },
  {
   "cell_type": "markdown",
   "id": "c4c65150-2907-4220-baf9-2d95f5a44656",
   "metadata": {},
   "source": [
    "## Create Model"
   ]
  },
  {
   "cell_type": "code",
   "execution_count": 11,
   "outputs": [
    {
     "data": {
      "text/plain": "ComplexPtreeLayer(\n  (s_layer): ModuleList(\n    (0-2): 3 x Linear(in_features=43, out_features=43, bias=True)\n  )\n  (s_intermediate_layer): Linear(in_features=43, out_features=43, bias=True)\n  (s_final_layer): Linear(in_features=43, out_features=43, bias=True)\n  (s_elu): ELU(alpha=1.0)\n  (z_layer): ModuleList(\n    (0-2): 3 x Linear(in_features=43, out_features=43, bias=True)\n  )\n  (z_intermediate_layer): Linear(in_features=43, out_features=43, bias=True)\n  (z_final_layer): Linear(in_features=43, out_features=43, bias=True)\n  (z_elu): ELU(alpha=1.0)\n  (p_layer): Linear(in_features=43, out_features=43, bias=True)\n  (p_elu): ELU(alpha=1.0)\n  (p_final_layer): Linear(in_features=43, out_features=43, bias=True)\n  (final_elu): ELU(alpha=1.0)\n)"
     },
     "execution_count": 11,
     "metadata": {},
     "output_type": "execute_result"
    }
   ],
   "source": [
    "from ptgnn.model.modules.ptree.recursive_simple_ptree_layer import RecursiveSimplePtreeLayer\n",
    "\n",
    "k = 3\n",
    "# model = RecursiveSimplePtreeLayer( #  ComplexPtreeLayer(\n",
    "model = ComplexPtreeLayer(\n",
    "    hidden_dim=43,  #93,\n",
    "    k=k\n",
    ")\n",
    "model"
   ],
   "metadata": {
    "collapsed": false,
    "ExecuteTime": {
     "start_time": "2024-03-19T18:11:39.980924Z",
     "end_time": "2024-03-19T18:11:40.026928Z"
    }
   }
  },
  {
   "cell_type": "markdown",
   "id": "8d7bb4a1-a7fd-47b8-ae93-b12fe24ee239",
   "metadata": {},
   "source": [
    "## Create batches"
   ]
  },
  {
   "cell_type": "code",
   "execution_count": 12,
   "outputs": [],
   "source": [
    "from ptgnn.loading.collate import permutation_tree_collation\n",
    "\n",
    "batch_list = [\n",
    "    permutation_tree_collation([data])\n",
    "    for data in data_list\n",
    "]"
   ],
   "metadata": {
    "collapsed": false,
    "ExecuteTime": {
     "start_time": "2024-03-19T18:11:41.294468Z",
     "end_time": "2024-03-19T18:11:41.314466Z"
    }
   }
  },
  {
   "cell_type": "code",
   "execution_count": 13,
   "outputs": [
    {
     "data": {
      "text/plain": "array([[ True,  True,  True],\n       [ True,  True,  True],\n       [ True,  True,  True]])"
     },
     "metadata": {},
     "output_type": "display_data"
    }
   ],
   "source": [
    "# compare output\n",
    "display(np.array(\n",
    "    [\n",
    "        [\n",
    "            (batch_list[i].x == batch_list[j].x).all()\n",
    "            for j in range(len(batch_list))\n",
    "        ]\n",
    "        for i in range(len(batch_list))\n",
    "    ]\n",
    "))"
   ],
   "metadata": {
    "collapsed": false,
    "ExecuteTime": {
     "start_time": "2024-03-19T18:11:41.944526Z",
     "end_time": "2024-03-19T18:11:41.952525Z"
    }
   }
  },
  {
   "cell_type": "markdown",
   "id": "b86ffd2b-ec5f-49bf-8ab7-86f384b6e0c6",
   "metadata": {},
   "source": [
    "## Put batches through model"
   ]
  },
  {
   "cell_type": "code",
   "execution_count": 14,
   "id": "ca6a5499-e4a0-43a8-8a09-9bfc1f9eb67d",
   "metadata": {
    "tags": [],
    "ExecuteTime": {
     "start_time": "2024-03-19T18:11:43.257869Z",
     "end_time": "2024-03-19T18:11:43.279952Z"
    }
   },
   "outputs": [],
   "source": [
    "out_list = [\n",
    "    model(batch)\n",
    "    for batch in batch_list\n",
    "]"
   ]
  },
  {
   "cell_type": "markdown",
   "id": "4e024847-717f-4fac-bace-f9ee10ccf416",
   "metadata": {},
   "source": [
    "## Compare batches"
   ]
  },
  {
   "cell_type": "code",
   "execution_count": 15,
   "id": "7e8d1cd2-87c7-44c9-830d-21b2392a7d42",
   "metadata": {
    "tags": [],
    "ExecuteTime": {
     "start_time": "2024-03-19T18:04:08.591865Z",
     "end_time": "2024-03-19T18:04:08.599871Z"
    }
   },
   "outputs": [
    {
     "ename": "AttributeError",
     "evalue": "'bool' object has no attribute 'all'",
     "output_type": "error",
     "traceback": [
      "\u001B[1;31m---------------------------------------------------------------------------\u001B[0m",
      "\u001B[1;31mAttributeError\u001B[0m                            Traceback (most recent call last)",
      "Cell \u001B[1;32mIn[15], line 3\u001B[0m\n\u001B[0;32m      1\u001B[0m \u001B[38;5;66;03m# compare output\u001B[39;00m\n\u001B[0;32m      2\u001B[0m display(np\u001B[38;5;241m.\u001B[39marray(\n\u001B[1;32m----> 3\u001B[0m     [\n\u001B[0;32m      4\u001B[0m         [\n\u001B[0;32m      5\u001B[0m             (out_list[i] \u001B[38;5;241m==\u001B[39m out_list[j])\u001B[38;5;241m.\u001B[39mall()\n\u001B[0;32m      6\u001B[0m             \u001B[38;5;28;01mfor\u001B[39;00m j \u001B[38;5;129;01min\u001B[39;00m \u001B[38;5;28mrange\u001B[39m(\u001B[38;5;28mlen\u001B[39m(out_list))\n\u001B[0;32m      7\u001B[0m         ]\n\u001B[0;32m      8\u001B[0m         \u001B[38;5;28;01mfor\u001B[39;00m i \u001B[38;5;129;01min\u001B[39;00m \u001B[38;5;28mrange\u001B[39m(\u001B[38;5;28mlen\u001B[39m(out_list))\n\u001B[0;32m      9\u001B[0m     ]\n\u001B[0;32m     10\u001B[0m ))\n",
      "Cell \u001B[1;32mIn[15], line 4\u001B[0m, in \u001B[0;36m<listcomp>\u001B[1;34m(.0)\u001B[0m\n\u001B[0;32m      1\u001B[0m \u001B[38;5;66;03m# compare output\u001B[39;00m\n\u001B[0;32m      2\u001B[0m display(np\u001B[38;5;241m.\u001B[39marray(\n\u001B[0;32m      3\u001B[0m     [\n\u001B[1;32m----> 4\u001B[0m         [\n\u001B[0;32m      5\u001B[0m             (out_list[i] \u001B[38;5;241m==\u001B[39m out_list[j])\u001B[38;5;241m.\u001B[39mall()\n\u001B[0;32m      6\u001B[0m             \u001B[38;5;28;01mfor\u001B[39;00m j \u001B[38;5;129;01min\u001B[39;00m \u001B[38;5;28mrange\u001B[39m(\u001B[38;5;28mlen\u001B[39m(out_list))\n\u001B[0;32m      7\u001B[0m         ]\n\u001B[0;32m      8\u001B[0m         \u001B[38;5;28;01mfor\u001B[39;00m i \u001B[38;5;129;01min\u001B[39;00m \u001B[38;5;28mrange\u001B[39m(\u001B[38;5;28mlen\u001B[39m(out_list))\n\u001B[0;32m      9\u001B[0m     ]\n\u001B[0;32m     10\u001B[0m ))\n",
      "Cell \u001B[1;32mIn[15], line 5\u001B[0m, in \u001B[0;36m<listcomp>\u001B[1;34m(.0)\u001B[0m\n\u001B[0;32m      1\u001B[0m \u001B[38;5;66;03m# compare output\u001B[39;00m\n\u001B[0;32m      2\u001B[0m display(np\u001B[38;5;241m.\u001B[39marray(\n\u001B[0;32m      3\u001B[0m     [\n\u001B[0;32m      4\u001B[0m         [\n\u001B[1;32m----> 5\u001B[0m             \u001B[43m(\u001B[49m\u001B[43mout_list\u001B[49m\u001B[43m[\u001B[49m\u001B[43mi\u001B[49m\u001B[43m]\u001B[49m\u001B[43m \u001B[49m\u001B[38;5;241;43m==\u001B[39;49m\u001B[43m \u001B[49m\u001B[43mout_list\u001B[49m\u001B[43m[\u001B[49m\u001B[43mj\u001B[49m\u001B[43m]\u001B[49m\u001B[43m)\u001B[49m\u001B[38;5;241;43m.\u001B[39;49m\u001B[43mall\u001B[49m()\n\u001B[0;32m      6\u001B[0m             \u001B[38;5;28;01mfor\u001B[39;00m j \u001B[38;5;129;01min\u001B[39;00m \u001B[38;5;28mrange\u001B[39m(\u001B[38;5;28mlen\u001B[39m(out_list))\n\u001B[0;32m      7\u001B[0m         ]\n\u001B[0;32m      8\u001B[0m         \u001B[38;5;28;01mfor\u001B[39;00m i \u001B[38;5;129;01min\u001B[39;00m \u001B[38;5;28mrange\u001B[39m(\u001B[38;5;28mlen\u001B[39m(out_list))\n\u001B[0;32m      9\u001B[0m     ]\n\u001B[0;32m     10\u001B[0m ))\n",
      "\u001B[1;31mAttributeError\u001B[0m: 'bool' object has no attribute 'all'"
     ]
    }
   ],
   "source": [
    "# compare output\n",
    "display(np.array(\n",
    "    [\n",
    "        [\n",
    "            (out_list[i] == out_list[j]).all()\n",
    "            for j in range(len(out_list))\n",
    "        ]\n",
    "        for i in range(len(out_list))\n",
    "    ]\n",
    "))"
   ]
  },
  {
   "cell_type": "code",
   "execution_count": 16,
   "id": "eb9843ec-704c-4097-a76b-ed3e0b3a1fdf",
   "metadata": {
    "tags": [],
    "ExecuteTime": {
     "start_time": "2024-03-19T18:04:09.254498Z",
     "end_time": "2024-03-19T18:04:09.261498Z"
    }
   },
   "outputs": [
    {
     "ename": "AttributeError",
     "evalue": "'GlobalStorage' object has no attribute 'sum'",
     "output_type": "error",
     "traceback": [
      "\u001B[1;31m---------------------------------------------------------------------------\u001B[0m",
      "\u001B[1;31mAttributeError\u001B[0m                            Traceback (most recent call last)",
      "Cell \u001B[1;32mIn[16], line 3\u001B[0m\n\u001B[0;32m      1\u001B[0m \u001B[38;5;66;03m# compare sum pooled version itself\u001B[39;00m\n\u001B[0;32m      2\u001B[0m display(np\u001B[38;5;241m.\u001B[39marray(\n\u001B[1;32m----> 3\u001B[0m     [\n\u001B[0;32m      4\u001B[0m         [\n\u001B[0;32m      5\u001B[0m             out_list[i]\u001B[38;5;241m.\u001B[39msum()\u001B[38;5;241m.\u001B[39mitem() \u001B[38;5;241m-\u001B[39m out_list[j]\u001B[38;5;241m.\u001B[39msum()\u001B[38;5;241m.\u001B[39mitem()\n\u001B[0;32m      6\u001B[0m             \u001B[38;5;28;01mfor\u001B[39;00m j \u001B[38;5;129;01min\u001B[39;00m \u001B[38;5;28mrange\u001B[39m(\u001B[38;5;28mlen\u001B[39m(out_list))\n\u001B[0;32m      7\u001B[0m         ]\n\u001B[0;32m      8\u001B[0m         \u001B[38;5;28;01mfor\u001B[39;00m i \u001B[38;5;129;01min\u001B[39;00m \u001B[38;5;28mrange\u001B[39m(\u001B[38;5;28mlen\u001B[39m(out_list))\n\u001B[0;32m      9\u001B[0m     ]\n\u001B[0;32m     10\u001B[0m ) \u001B[38;5;241m==\u001B[39m \u001B[38;5;241m0\u001B[39m)\n",
      "Cell \u001B[1;32mIn[16], line 4\u001B[0m, in \u001B[0;36m<listcomp>\u001B[1;34m(.0)\u001B[0m\n\u001B[0;32m      1\u001B[0m \u001B[38;5;66;03m# compare sum pooled version itself\u001B[39;00m\n\u001B[0;32m      2\u001B[0m display(np\u001B[38;5;241m.\u001B[39marray(\n\u001B[0;32m      3\u001B[0m     [\n\u001B[1;32m----> 4\u001B[0m         [\n\u001B[0;32m      5\u001B[0m             out_list[i]\u001B[38;5;241m.\u001B[39msum()\u001B[38;5;241m.\u001B[39mitem() \u001B[38;5;241m-\u001B[39m out_list[j]\u001B[38;5;241m.\u001B[39msum()\u001B[38;5;241m.\u001B[39mitem()\n\u001B[0;32m      6\u001B[0m             \u001B[38;5;28;01mfor\u001B[39;00m j \u001B[38;5;129;01min\u001B[39;00m \u001B[38;5;28mrange\u001B[39m(\u001B[38;5;28mlen\u001B[39m(out_list))\n\u001B[0;32m      7\u001B[0m         ]\n\u001B[0;32m      8\u001B[0m         \u001B[38;5;28;01mfor\u001B[39;00m i \u001B[38;5;129;01min\u001B[39;00m \u001B[38;5;28mrange\u001B[39m(\u001B[38;5;28mlen\u001B[39m(out_list))\n\u001B[0;32m      9\u001B[0m     ]\n\u001B[0;32m     10\u001B[0m ) \u001B[38;5;241m==\u001B[39m \u001B[38;5;241m0\u001B[39m)\n",
      "Cell \u001B[1;32mIn[16], line 5\u001B[0m, in \u001B[0;36m<listcomp>\u001B[1;34m(.0)\u001B[0m\n\u001B[0;32m      1\u001B[0m \u001B[38;5;66;03m# compare sum pooled version itself\u001B[39;00m\n\u001B[0;32m      2\u001B[0m display(np\u001B[38;5;241m.\u001B[39marray(\n\u001B[0;32m      3\u001B[0m     [\n\u001B[0;32m      4\u001B[0m         [\n\u001B[1;32m----> 5\u001B[0m             \u001B[43mout_list\u001B[49m\u001B[43m[\u001B[49m\u001B[43mi\u001B[49m\u001B[43m]\u001B[49m\u001B[38;5;241;43m.\u001B[39;49m\u001B[43msum\u001B[49m()\u001B[38;5;241m.\u001B[39mitem() \u001B[38;5;241m-\u001B[39m out_list[j]\u001B[38;5;241m.\u001B[39msum()\u001B[38;5;241m.\u001B[39mitem()\n\u001B[0;32m      6\u001B[0m             \u001B[38;5;28;01mfor\u001B[39;00m j \u001B[38;5;129;01min\u001B[39;00m \u001B[38;5;28mrange\u001B[39m(\u001B[38;5;28mlen\u001B[39m(out_list))\n\u001B[0;32m      7\u001B[0m         ]\n\u001B[0;32m      8\u001B[0m         \u001B[38;5;28;01mfor\u001B[39;00m i \u001B[38;5;129;01min\u001B[39;00m \u001B[38;5;28mrange\u001B[39m(\u001B[38;5;28mlen\u001B[39m(out_list))\n\u001B[0;32m      9\u001B[0m     ]\n\u001B[0;32m     10\u001B[0m ) \u001B[38;5;241m==\u001B[39m \u001B[38;5;241m0\u001B[39m)\n",
      "File \u001B[1;32m~\\.conda\\envs\\Masterarbeit_PTGNN\\lib\\site-packages\\torch_geometric\\data\\data.py:559\u001B[0m, in \u001B[0;36mData.__getattr__\u001B[1;34m(self, key)\u001B[0m\n\u001B[0;32m    553\u001B[0m \u001B[38;5;28;01mif\u001B[39;00m \u001B[38;5;124m'\u001B[39m\u001B[38;5;124m_store\u001B[39m\u001B[38;5;124m'\u001B[39m \u001B[38;5;129;01mnot\u001B[39;00m \u001B[38;5;129;01min\u001B[39;00m \u001B[38;5;28mself\u001B[39m\u001B[38;5;241m.\u001B[39m\u001B[38;5;18m__dict__\u001B[39m:\n\u001B[0;32m    554\u001B[0m     \u001B[38;5;28;01mraise\u001B[39;00m \u001B[38;5;167;01mRuntimeError\u001B[39;00m(\n\u001B[0;32m    555\u001B[0m         \u001B[38;5;124m\"\u001B[39m\u001B[38;5;124mThe \u001B[39m\u001B[38;5;124m'\u001B[39m\u001B[38;5;124mdata\u001B[39m\u001B[38;5;124m'\u001B[39m\u001B[38;5;124m object was created by an older version of PyG. \u001B[39m\u001B[38;5;124m\"\u001B[39m\n\u001B[0;32m    556\u001B[0m         \u001B[38;5;124m\"\u001B[39m\u001B[38;5;124mIf this error occurred while loading an already existing \u001B[39m\u001B[38;5;124m\"\u001B[39m\n\u001B[0;32m    557\u001B[0m         \u001B[38;5;124m\"\u001B[39m\u001B[38;5;124mdataset, remove the \u001B[39m\u001B[38;5;124m'\u001B[39m\u001B[38;5;124mprocessed/\u001B[39m\u001B[38;5;124m'\u001B[39m\u001B[38;5;124m directory in the dataset\u001B[39m\u001B[38;5;124m'\u001B[39m\u001B[38;5;124ms \u001B[39m\u001B[38;5;124m\"\u001B[39m\n\u001B[0;32m    558\u001B[0m         \u001B[38;5;124m\"\u001B[39m\u001B[38;5;124mroot folder and try again.\u001B[39m\u001B[38;5;124m\"\u001B[39m)\n\u001B[1;32m--> 559\u001B[0m \u001B[38;5;28;01mreturn\u001B[39;00m \u001B[38;5;28;43mgetattr\u001B[39;49m\u001B[43m(\u001B[49m\u001B[38;5;28;43mself\u001B[39;49m\u001B[38;5;241;43m.\u001B[39;49m\u001B[43m_store\u001B[49m\u001B[43m,\u001B[49m\u001B[43m \u001B[49m\u001B[43mkey\u001B[49m\u001B[43m)\u001B[49m\n",
      "File \u001B[1;32m~\\.conda\\envs\\Masterarbeit_PTGNN\\lib\\site-packages\\torch_geometric\\data\\storage.py:96\u001B[0m, in \u001B[0;36mBaseStorage.__getattr__\u001B[1;34m(self, key)\u001B[0m\n\u001B[0;32m     94\u001B[0m     \u001B[38;5;28;01mreturn\u001B[39;00m \u001B[38;5;28mself\u001B[39m[key]\n\u001B[0;32m     95\u001B[0m \u001B[38;5;28;01mexcept\u001B[39;00m \u001B[38;5;167;01mKeyError\u001B[39;00m:\n\u001B[1;32m---> 96\u001B[0m     \u001B[38;5;28;01mraise\u001B[39;00m \u001B[38;5;167;01mAttributeError\u001B[39;00m(\n\u001B[0;32m     97\u001B[0m         \u001B[38;5;124mf\u001B[39m\u001B[38;5;124m\"\u001B[39m\u001B[38;5;124m'\u001B[39m\u001B[38;5;132;01m{\u001B[39;00m\u001B[38;5;28mself\u001B[39m\u001B[38;5;241m.\u001B[39m\u001B[38;5;18m__class__\u001B[39m\u001B[38;5;241m.\u001B[39m\u001B[38;5;18m__name__\u001B[39m\u001B[38;5;132;01m}\u001B[39;00m\u001B[38;5;124m'\u001B[39m\u001B[38;5;124m object has no attribute \u001B[39m\u001B[38;5;124m'\u001B[39m\u001B[38;5;132;01m{\u001B[39;00mkey\u001B[38;5;132;01m}\u001B[39;00m\u001B[38;5;124m'\u001B[39m\u001B[38;5;124m\"\u001B[39m\n\u001B[0;32m     98\u001B[0m     ) \u001B[38;5;28;01mfrom\u001B[39;00m \u001B[38;5;28;01mNone\u001B[39;00m\n",
      "\u001B[1;31mAttributeError\u001B[0m: 'GlobalStorage' object has no attribute 'sum'"
     ]
    }
   ],
   "source": [
    "# compare sum pooled version itself\n",
    "display(np.array(\n",
    "    [\n",
    "        [\n",
    "            out_list[i].sum().item() - out_list[j].sum().item()\n",
    "            for j in range(len(out_list))\n",
    "        ]\n",
    "        for i in range(len(out_list))\n",
    "    ]\n",
    ") == 0)"
   ]
  },
  {
   "cell_type": "markdown",
   "id": "24a6e73b-7376-40eb-a53e-0e39f9910e4a",
   "metadata": {},
   "source": [
    "Differentiation between tetrahedral chirality(designed for this purpose)"
   ]
  },
  {
   "cell_type": "code",
   "execution_count": 17,
   "outputs": [
    {
     "data": {
      "text/plain": "array([[ True,  True, False],\n       [ True,  True, False],\n       [False, False,  True]])"
     },
     "metadata": {},
     "output_type": "display_data"
    }
   ],
   "source": [
    "# compare output\n",
    "display(np.array(\n",
    "    [\n",
    "        [\n",
    "            (out_list[i].x == out_list[j].x).all()\n",
    "            for j in range(len(out_list))\n",
    "        ]\n",
    "        for i in range(len(out_list))\n",
    "    ]\n",
    "))"
   ],
   "metadata": {
    "collapsed": false,
    "ExecuteTime": {
     "start_time": "2024-03-19T18:11:46.501728Z",
     "end_time": "2024-03-19T18:11:46.518727Z"
    }
   }
  },
  {
   "cell_type": "code",
   "execution_count": 18,
   "outputs": [
    {
     "data": {
      "text/plain": "array([[ True,  True,  True],\n       [ True,  True,  True],\n       [ True,  True,  True]])"
     },
     "metadata": {},
     "output_type": "display_data"
    }
   ],
   "source": [
    "# compare sum pooled version itself\n",
    "display(np.array(\n",
    "    [\n",
    "        [\n",
    "            out_list[i].x.sum().item() - out_list[j].x.sum().item()\n",
    "            for j in range(len(out_list))\n",
    "        ]\n",
    "        for i in range(len(out_list))\n",
    "    ]\n",
    ") == 0)"
   ],
   "metadata": {
    "collapsed": false,
    "ExecuteTime": {
     "start_time": "2024-03-19T18:11:47.942924Z",
     "end_time": "2024-03-19T18:11:47.973434Z"
    }
   }
  },
  {
   "cell_type": "code",
   "execution_count": null,
   "outputs": [],
   "source": [],
   "metadata": {
    "collapsed": false
   }
  }
 ],
 "metadata": {
  "kernelspec": {
   "display_name": "Python 3 (ipykernel)",
   "language": "python",
   "name": "python3"
  },
  "language_info": {
   "codemirror_mode": {
    "name": "ipython",
    "version": 3
   },
   "file_extension": ".py",
   "mimetype": "text/x-python",
   "name": "python",
   "nbconvert_exporter": "python",
   "pygments_lexer": "ipython3",
   "version": "3.9.16"
  }
 },
 "nbformat": 4,
 "nbformat_minor": 5
}
