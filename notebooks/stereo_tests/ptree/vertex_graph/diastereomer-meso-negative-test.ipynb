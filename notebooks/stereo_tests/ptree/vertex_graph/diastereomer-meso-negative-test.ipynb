{
 "cells": [
  {
   "cell_type": "markdown",
   "id": "cce7ba2e-6183-4900-9e1c-608c46435893",
   "metadata": {},
   "source": [
    "# Stereoisomer testing on ChiENN - diastereomere(meso) (multiple centers)"
   ]
  },
  {
   "cell_type": "markdown",
   "id": "cd5b739d-220a-4c13-9ce0-a3933e034d4d",
   "metadata": {},
   "source": [
    "## Importing section"
   ]
  },
  {
   "cell_type": "code",
   "execution_count": 1,
   "outputs": [],
   "source": [
    "import numpy as np\n",
    "from rdkit import Chem\n",
    "from rdkit.Chem import AllChem\n",
    "import sys\n",
    "sys.path.append(\"../../\")\n",
    "sys.path.append(\"ChiENN-master\")\n",
    "from ptgnn.features.chienn.molecule3d import smiles_to_data_with_circle_index\n",
    "from ptgnn.model.chienn.chienn_layer import ChiENNLayer\n",
    "from ptgnn.loading.chienn_collate import collate_with_circle_index\n",
    "from ptgnn.features.chienn.molecule3d import smiles_to_3d_mol\n",
    "from ptgnn.features.chienn.mol_to_data import mol_to_data\n",
    "from ptgnn.transform import edge_graph_transform, vertex_graph_transform"
   ],
   "metadata": {
    "collapsed": false,
    "ExecuteTime": {
     "start_time": "2024-03-24T09:54:33.675358Z",
     "end_time": "2024-03-24T09:54:35.470697Z"
    }
   }
  },
  {
   "cell_type": "markdown",
   "id": "4ce50022-5637-4a30-b409-1e45a433f047",
   "metadata": {},
   "source": [
    "## Define SMILES strings"
   ]
  },
  {
   "cell_type": "code",
   "execution_count": 2,
   "outputs": [],
   "source": [
    "smiles_list = [\n",
    "    \"[C@](Br)(Cl)(F)[C@](Br)(Cl)(I)\",\n",
    "    \"[C@@](Br)(Cl)(F)[C@](Br)(Cl)(I)\",\n",
    "    \"[C@](Br)(Cl)(F)[C@@](Br)(Cl)(I)\",\n",
    "    \"[C@@](Br)(Cl)(F)[C@@](Br)(Cl)(I)\",\n",
    "]"
   ],
   "metadata": {
    "collapsed": false,
    "ExecuteTime": {
     "start_time": "2024-03-24T09:54:35.471696Z",
     "end_time": "2024-03-24T09:54:35.486190Z"
    }
   }
  },
  {
   "cell_type": "markdown",
   "id": "1663655e-0dd3-492e-b007-344f18fffb87",
   "metadata": {},
   "source": [
    "## Visualize and confirm stereomer classification (E/Z)"
   ]
  },
  {
   "cell_type": "code",
   "execution_count": 3,
   "id": "13fe0401-cc1a-424a-80c2-df1760e4df84",
   "metadata": {
    "tags": [],
    "ExecuteTime": {
     "start_time": "2024-03-24T09:54:35.488194Z",
     "end_time": "2024-03-24T09:54:35.528876Z"
    }
   },
   "outputs": [],
   "source": [
    "def showAndChiral(smiles):\n",
    "    mol = Chem.MolFromSmiles(smiles)\n",
    "    display(mol)\n",
    "    print(AllChem.FindMolChiralCenters(mol))\n",
    "    for bond in mol.GetBonds():\n",
    "        if bond.GetBondType() == Chem.rdchem.BondType.DOUBLE:\n",
    "            print(\"Bond\", bond.GetIdx(), \"stereo:\", bond.GetStereo())"
   ]
  },
  {
   "cell_type": "code",
   "execution_count": 4,
   "id": "f54309f1-465b-4834-aeda-cdc857767776",
   "metadata": {
    "tags": [],
    "ExecuteTime": {
     "start_time": "2024-03-24T09:54:35.506192Z",
     "end_time": "2024-03-24T09:54:35.533877Z"
    }
   },
   "outputs": [
    {
     "data": {
      "text/plain": "<rdkit.Chem.rdchem.Mol at 0x17b9d053dd0>",
      "image/png": "[encoded data removed]"
     },
     "metadata": {},
     "output_type": "display_data"
    },
    {
     "name": "stdout",
     "output_type": "stream",
     "text": [
      "[(0, 'S'), (4, 'R')]\n"
     ]
    },
    {
     "data": {
      "text/plain": "<rdkit.Chem.rdchem.Mol at 0x17b9d0539e0>",
      "image/png": "[encoded data removed]"
     },
     "metadata": {},
     "output_type": "display_data"
    },
    {
     "name": "stdout",
     "output_type": "stream",
     "text": [
      "[(0, 'R'), (4, 'R')]\n"
     ]
    },
    {
     "data": {
      "text/plain": "<rdkit.Chem.rdchem.Mol at 0x17b9d053f20>",
      "image/png": "[encoded data removed]"
     },
     "metadata": {},
     "output_type": "display_data"
    },
    {
     "name": "stdout",
     "output_type": "stream",
     "text": [
      "[(0, 'S'), (4, 'S')]\n"
     ]
    },
    {
     "data": {
      "text/plain": "<rdkit.Chem.rdchem.Mol at 0x17b9d053eb0>",
      "image/png": "[encoded data removed]"
     },
     "metadata": {},
     "output_type": "display_data"
    },
    {
     "name": "stdout",
     "output_type": "stream",
     "text": [
      "[(0, 'R'), (4, 'S')]\n"
     ]
    }
   ],
   "source": [
    "for smile in smiles_list:\n",
    "    showAndChiral(smile)"
   ]
  },
  {
   "cell_type": "markdown",
   "source": [
    "##  Convert to (edge) graph with ptree"
   ],
   "metadata": {
    "collapsed": false
   }
  },
  {
   "cell_type": "code",
   "execution_count": 5,
   "outputs": [],
   "source": [
    "# get molecules\n",
    "mol_list = [\n",
    "    smiles_to_3d_mol(\n",
    "        smiles,\n",
    "        max_number_of_attempts=100,\n",
    "        max_number_of_atoms=100\n",
    "    )\n",
    "    for smiles in smiles_list\n",
    "]"
   ],
   "metadata": {
    "collapsed": false,
    "ExecuteTime": {
     "start_time": "2024-03-24T09:54:35.534877Z",
     "end_time": "2024-03-24T09:54:35.548877Z"
    }
   }
  },
  {
   "cell_type": "code",
   "execution_count": 6,
   "outputs": [],
   "source": [
    "data_list = [\n",
    "    mol_to_data(mol)\n",
    "    for mol in mol_list\n",
    "]"
   ],
   "metadata": {
    "collapsed": false,
    "ExecuteTime": {
     "start_time": "2024-03-24T09:54:35.549876Z",
     "end_time": "2024-03-24T09:54:35.624130Z"
    }
   }
  },
  {
   "cell_type": "code",
   "execution_count": 7,
   "outputs": [],
   "source": [
    "data_list = [\n",
    "    vertex_graph_transform(\n",
    "        data,\n",
    "        transformation_mode=\"permutation_tree\",\n",
    "        mol=mol,\n",
    "        transformation_parameters={\n",
    "            'k':  3,\n",
    "            'tetrahedral_chiral': True,\n",
    "            'chiral_center_selective': True,\n",
    "            'chiral_center_select_potential': False,\n",
    "        }\n",
    "    )\n",
    "    for data, mol in zip(data_list, mol_list)\n",
    "]"
   ],
   "metadata": {
    "collapsed": false,
    "ExecuteTime": {
     "start_time": "2024-03-24T09:54:35.565192Z",
     "end_time": "2024-03-24T09:54:35.645129Z"
    }
   }
  },
  {
   "cell_type": "code",
   "execution_count": 8,
   "outputs": [
    {
     "name": "stdout",
     "output_type": "stream",
     "text": [
      "Data(x=[8, 43], edge_index=[2, 14], edge_attr=[14, 7], pos=[8, 3], ptree=[8], initial_map=[38], layer0_order_matrix=[1], layer0_type_mask=[1], layer0_pooling=[1], num_layer=3, layer1_order_matrix=[1], layer1_type_mask=[1], layer1_pooling=[1], layer2_order_matrix=[1], layer2_type_mask=[1], layer2_pooling=[1])\n",
      "['{\"S\": [0, {\"P\": [1]}]}', '{\"S\": [1, {\"P\": [{\"Z\": [2, 3, 4]}, {\"Z\": [0, 4, 3]}, {\"Z\": [0, 2, 4]}, {\"Z\": [0, 3, 2]}]}]}', '{\"S\": [2, {\"P\": [1]}]}', '{\"S\": [3, {\"P\": [1]}]}', '{\"S\": [4, {\"P\": [{\"Z\": [5, 6, 7]}, {\"Z\": [1, 7, 6]}, {\"Z\": [1, 5, 7]}, {\"Z\": [1, 6, 5]}]}]}', '{\"S\": [5, {\"P\": [4]}]}', '{\"S\": [6, {\"P\": [4]}]}', '{\"S\": [7, {\"P\": [4]}]}']\n",
      "Data(x=[8, 43], edge_index=[2, 14], edge_attr=[14, 7], pos=[8, 3], ptree=[8], initial_map=[38], layer0_order_matrix=[1], layer0_type_mask=[1], layer0_pooling=[1], num_layer=3, layer1_order_matrix=[1], layer1_type_mask=[1], layer1_pooling=[1], layer2_order_matrix=[1], layer2_type_mask=[1], layer2_pooling=[1])\n",
      "['{\"S\": [0, {\"P\": [1]}]}', '{\"S\": [1, {\"P\": [{\"Z\": [2, 4, 3]}, {\"Z\": [0, 3, 4]}, {\"Z\": [0, 4, 2]}, {\"Z\": [0, 2, 3]}]}]}', '{\"S\": [2, {\"P\": [1]}]}', '{\"S\": [3, {\"P\": [1]}]}', '{\"S\": [4, {\"P\": [{\"Z\": [5, 6, 7]}, {\"Z\": [1, 7, 6]}, {\"Z\": [1, 5, 7]}, {\"Z\": [1, 6, 5]}]}]}', '{\"S\": [5, {\"P\": [4]}]}', '{\"S\": [6, {\"P\": [4]}]}', '{\"S\": [7, {\"P\": [4]}]}']\n",
      "Data(x=[8, 43], edge_index=[2, 14], edge_attr=[14, 7], pos=[8, 3], ptree=[8], initial_map=[38], layer0_order_matrix=[1], layer0_type_mask=[1], layer0_pooling=[1], num_layer=3, layer1_order_matrix=[1], layer1_type_mask=[1], layer1_pooling=[1], layer2_order_matrix=[1], layer2_type_mask=[1], layer2_pooling=[1])\n",
      "['{\"S\": [0, {\"P\": [1]}]}', '{\"S\": [1, {\"P\": [{\"Z\": [2, 3, 4]}, {\"Z\": [0, 4, 3]}, {\"Z\": [0, 2, 4]}, {\"Z\": [0, 3, 2]}]}]}', '{\"S\": [2, {\"P\": [1]}]}', '{\"S\": [3, {\"P\": [1]}]}', '{\"S\": [4, {\"P\": [{\"Z\": [5, 7, 6]}, {\"Z\": [1, 6, 7]}, {\"Z\": [1, 7, 5]}, {\"Z\": [1, 5, 6]}]}]}', '{\"S\": [5, {\"P\": [4]}]}', '{\"S\": [6, {\"P\": [4]}]}', '{\"S\": [7, {\"P\": [4]}]}']\n",
      "Data(x=[8, 43], edge_index=[2, 14], edge_attr=[14, 7], pos=[8, 3], ptree=[8], initial_map=[38], layer0_order_matrix=[1], layer0_type_mask=[1], layer0_pooling=[1], num_layer=3, layer1_order_matrix=[1], layer1_type_mask=[1], layer1_pooling=[1], layer2_order_matrix=[1], layer2_type_mask=[1], layer2_pooling=[1])\n",
      "['{\"S\": [0, {\"P\": [1]}]}', '{\"S\": [1, {\"P\": [{\"Z\": [2, 4, 3]}, {\"Z\": [0, 3, 4]}, {\"Z\": [0, 4, 2]}, {\"Z\": [0, 2, 3]}]}]}', '{\"S\": [2, {\"P\": [1]}]}', '{\"S\": [3, {\"P\": [1]}]}', '{\"S\": [4, {\"P\": [{\"Z\": [5, 7, 6]}, {\"Z\": [1, 6, 7]}, {\"Z\": [1, 7, 5]}, {\"Z\": [1, 5, 6]}]}]}', '{\"S\": [5, {\"P\": [4]}]}', '{\"S\": [6, {\"P\": [4]}]}', '{\"S\": [7, {\"P\": [4]}]}']\n"
     ]
    }
   ],
   "source": [
    "for data in data_list:\n",
    "    print(data)\n",
    "    print(data.ptree)"
   ],
   "metadata": {
    "collapsed": false,
    "ExecuteTime": {
     "start_time": "2024-03-24T09:54:35.595375Z",
     "end_time": "2024-03-24T09:54:35.646130Z"
    }
   }
  },
  {
   "cell_type": "markdown",
   "id": "c4c65150-2907-4220-baf9-2d95f5a44656",
   "metadata": {},
   "source": [
    "## Create Model"
   ]
  },
  {
   "cell_type": "code",
   "execution_count": 9,
   "outputs": [],
   "source": [
    "from ptgnn.model.modules.ptree.advanced_tree_layer import AdvancedPermutationTreeLayer\n",
    "\n",
    "k = 3\n",
    "\n",
    "model = AdvancedPermutationTreeLayer(\n",
    "    hidden_dim=43,\n",
    "    k=k,\n",
    "    batch_norm=False\n",
    ")"
   ],
   "metadata": {
    "collapsed": false,
    "ExecuteTime": {
     "start_time": "2024-03-24T09:54:35.611131Z",
     "end_time": "2024-03-24T09:54:35.646130Z"
    }
   }
  },
  {
   "cell_type": "markdown",
   "id": "8d7bb4a1-a7fd-47b8-ae93-b12fe24ee239",
   "metadata": {},
   "source": [
    "## Create batches"
   ]
  },
  {
   "cell_type": "code",
   "execution_count": 10,
   "outputs": [],
   "source": [
    "from ptgnn.loading.collate import permutation_tree_collation\n",
    "\n",
    "batch_list = [\n",
    "    permutation_tree_collation([data])\n",
    "    for data in data_list\n",
    "]"
   ],
   "metadata": {
    "collapsed": false,
    "ExecuteTime": {
     "start_time": "2024-03-24T09:54:35.627131Z",
     "end_time": "2024-03-24T09:54:35.646130Z"
    }
   }
  },
  {
   "cell_type": "code",
   "execution_count": 11,
   "outputs": [
    {
     "data": {
      "text/plain": "array([[ True,  True,  True,  True],\n       [ True,  True,  True,  True],\n       [ True,  True,  True,  True],\n       [ True,  True,  True,  True]])"
     },
     "metadata": {},
     "output_type": "display_data"
    }
   ],
   "source": [
    "# compare output\n",
    "display(np.array(\n",
    "    [\n",
    "        [\n",
    "            (batch_list[i].x == batch_list[j].x).all() if batch_list[i].x.shape == batch_list[j].x.shape else np.nan\n",
    "            for j in range(len(batch_list))\n",
    "        ]\n",
    "        for i in range(len(batch_list))\n",
    "    ]\n",
    "))"
   ],
   "metadata": {
    "collapsed": false,
    "ExecuteTime": {
     "start_time": "2024-03-24T09:54:35.642130Z",
     "end_time": "2024-03-24T09:54:35.720128Z"
    }
   }
  },
  {
   "cell_type": "markdown",
   "id": "b86ffd2b-ec5f-49bf-8ab7-86f384b6e0c6",
   "metadata": {},
   "source": [
    "## Put batches through model"
   ]
  },
  {
   "cell_type": "code",
   "execution_count": 12,
   "id": "ca6a5499-e4a0-43a8-8a09-9bfc1f9eb67d",
   "metadata": {
    "tags": [],
    "ExecuteTime": {
     "start_time": "2024-03-24T09:54:35.658130Z",
     "end_time": "2024-03-24T09:54:35.720128Z"
    }
   },
   "outputs": [],
   "source": [
    "out_list = [\n",
    "    model(batch)\n",
    "    for batch in batch_list\n",
    "]"
   ]
  },
  {
   "cell_type": "markdown",
   "id": "4e024847-717f-4fac-bace-f9ee10ccf416",
   "metadata": {},
   "source": [
    "## Compare batches"
   ]
  },
  {
   "cell_type": "code",
   "execution_count": 13,
   "id": "6d25e298-a314-4f26-8085-6599266d7305",
   "metadata": {
    "tags": [],
    "ExecuteTime": {
     "start_time": "2024-03-24T09:54:35.674131Z",
     "end_time": "2024-03-24T09:54:35.721129Z"
    }
   },
   "outputs": [
    {
     "data": {
      "text/plain": "array([[ True, False, False, False],\n       [False,  True, False, False],\n       [False, False,  True, False],\n       [False, False, False,  True]])"
     },
     "metadata": {},
     "output_type": "display_data"
    }
   ],
   "source": [
    "# compare output\n",
    "display(np.array(\n",
    "    [\n",
    "        [\n",
    "            (out_list[i] == out_list[j]).all() if out_list[i].shape==out_list[j].shape else np.nan\n",
    "            for j in range(len(out_list))\n",
    "        ]\n",
    "        for i in range(len(out_list))\n",
    "    ]\n",
    "))"
   ]
  },
  {
   "cell_type": "code",
   "execution_count": 14,
   "id": "e3177a99-89f5-4554-babd-f609a565f6c8",
   "metadata": {
    "tags": [],
    "ExecuteTime": {
     "start_time": "2024-03-24T09:54:35.691131Z",
     "end_time": "2024-03-24T09:54:35.721129Z"
    }
   },
   "outputs": [
    {
     "data": {
      "text/plain": "array([[ True, False, False, False],\n       [False,  True, False, False],\n       [False, False,  True, False],\n       [False, False, False,  True]])"
     },
     "metadata": {},
     "output_type": "display_data"
    }
   ],
   "source": [
    "# compare sum pooled version itself\n",
    "display(np.array(\n",
    "    [\n",
    "        [\n",
    "            out_list[i].sum().item() - out_list[j].sum().item()\n",
    "            for j in range(len(out_list))\n",
    "        ]\n",
    "        for i in range(len(out_list))\n",
    "    ]\n",
    ") == 0)"
   ]
  },
  {
   "cell_type": "code",
   "execution_count": 15,
   "outputs": [
    {
     "data": {
      "text/plain": "array([[0.        , 0.03202975, 0.07447258, 0.10650232],\n       [0.03202975, 0.        , 0.10650232, 0.07447258],\n       [0.07447258, 0.10650232, 0.        , 0.03202975],\n       [0.10650232, 0.07447258, 0.03202975, 0.        ]], dtype=float32)"
     },
     "metadata": {},
     "output_type": "display_data"
    }
   ],
   "source": [
    "# compare output\n",
    "display(np.array(\n",
    "    [\n",
    "        [\n",
    "            (out_list[i] - out_list[j]).detach().abs().sum() if batch_list[i].x.shape == batch_list[j].x.shape else np.nan\n",
    "            for j in range(len(out_list))\n",
    "        ]\n",
    "        for i in range(len(out_list))\n",
    "    ]\n",
    "))"
   ],
   "metadata": {
    "collapsed": false,
    "ExecuteTime": {
     "start_time": "2024-03-24T09:54:35.707128Z",
     "end_time": "2024-03-24T09:54:35.737135Z"
    }
   }
  },
  {
   "cell_type": "markdown",
   "source": [
    "No negative meso detection - good"
   ],
   "metadata": {
    "collapsed": false
   }
  }
 ],
 "metadata": {
  "kernelspec": {
   "display_name": "Python 3 (ipykernel)",
   "language": "python",
   "name": "python3"
  },
  "language_info": {
   "codemirror_mode": {
    "name": "ipython",
    "version": 3
   },
   "file_extension": ".py",
   "mimetype": "text/x-python",
   "name": "python",
   "nbconvert_exporter": "python",
   "pygments_lexer": "ipython3",
   "version": "3.9.16"
  }
 },
 "nbformat": 4,
 "nbformat_minor": 5
}
