{
 "cells": [
  {
   "cell_type": "markdown",
   "id": "cce7ba2e-6183-4900-9e1c-608c46435893",
   "metadata": {},
   "source": [
    "# Stereoisomer testing on ChiENN - skelettisomere"
   ]
  },
  {
   "cell_type": "markdown",
   "id": "cd5b739d-220a-4c13-9ce0-a3933e034d4d",
   "metadata": {},
   "source": [
    "## Importing section"
   ]
  },
  {
   "cell_type": "code",
   "execution_count": 1,
   "outputs": [],
   "source": [
    "import numpy as np\n",
    "from rdkit import Chem\n",
    "from rdkit.Chem import AllChem\n",
    "import sys\n",
    "\n",
    "sys.path.append(\"../../../../\")\n",
    "\n",
    "from ptgnn.features.chienn.mol_to_data import mol_to_data\n",
    "from ptgnn.features.chienn.molecule3d import smiles_to_3d_mol\n",
    "from ptgnn.transform import edge_graph_transform, vertex_graph_transform"
   ],
   "metadata": {
    "collapsed": false,
    "ExecuteTime": {
     "start_time": "2024-03-24T10:12:55.922093Z",
     "end_time": "2024-03-24T10:12:57.756067Z"
    }
   }
  },
  {
   "cell_type": "markdown",
   "id": "4ce50022-5637-4a30-b409-1e45a433f047",
   "metadata": {},
   "source": [
    "## Define SMILES strings"
   ]
  },
  {
   "cell_type": "code",
   "execution_count": 2,
   "id": "fe716171-6aec-40ab-a31a-1fb0bd635c46",
   "metadata": {
    "tags": [],
    "ExecuteTime": {
     "start_time": "2024-03-24T10:12:57.757071Z",
     "end_time": "2024-03-24T10:12:57.772537Z"
    }
   },
   "outputs": [],
   "source": [
    "smiles_list = [\n",
    "    \"CCCCCC\",\n",
    "    \"CCCC(C)C\",\n",
    "    \"CCC(C)CC\",\n",
    "    \"CC(C)C(C)C\",\n",
    "    \"CCC(C)(C)C\",\n",
    "]"
   ]
  },
  {
   "cell_type": "markdown",
   "id": "1663655e-0dd3-492e-b007-344f18fffb87",
   "metadata": {},
   "source": [
    "## Visualize and confirm stereomer classification (E/Z)"
   ]
  },
  {
   "cell_type": "code",
   "execution_count": 3,
   "id": "13fe0401-cc1a-424a-80c2-df1760e4df84",
   "metadata": {
    "tags": [],
    "ExecuteTime": {
     "start_time": "2024-03-24T10:12:57.773537Z",
     "end_time": "2024-03-24T10:12:57.792537Z"
    }
   },
   "outputs": [],
   "source": [
    "def showAndChiral(smiles):\n",
    "    mol = Chem.MolFromSmiles(smiles)\n",
    "    display(mol)\n",
    "    print(AllChem.FindMolChiralCenters(mol))\n",
    "    for bond in mol.GetBonds():\n",
    "        if bond.GetBondType() == Chem.rdchem.BondType.DOUBLE:\n",
    "            print(\"Bond\", bond.GetIdx(), \"stereo:\", bond.GetStereo())"
   ]
  },
  {
   "cell_type": "code",
   "execution_count": 4,
   "id": "f54309f1-465b-4834-aeda-cdc857767776",
   "metadata": {
    "tags": [],
    "ExecuteTime": {
     "start_time": "2024-03-24T10:12:57.787536Z",
     "end_time": "2024-03-24T10:12:57.905040Z"
    }
   },
   "outputs": [
    {
     "data": {
      "text/plain": "<rdkit.Chem.rdchem.Mol at 0x2efc88f8660>",
      "image/png": "[encoded data removed]"
     },
     "metadata": {},
     "output_type": "display_data"
    },
    {
     "name": "stdout",
     "output_type": "stream",
     "text": [
      "[]\n"
     ]
    },
    {
     "data": {
      "text/plain": "<rdkit.Chem.rdchem.Mol at 0x2efc88f8b30>",
      "image/png": "[encoded data removed]"
     },
     "metadata": {},
     "output_type": "display_data"
    },
    {
     "name": "stdout",
     "output_type": "stream",
     "text": [
      "[]\n"
     ]
    },
    {
     "data": {
      "text/plain": "<rdkit.Chem.rdchem.Mol at 0x2efc88f8ba0>",
      "image/png": "[encoded data removed]"
     },
     "metadata": {},
     "output_type": "display_data"
    },
    {
     "name": "stdout",
     "output_type": "stream",
     "text": [
      "[]\n"
     ]
    },
    {
     "data": {
      "text/plain": "<rdkit.Chem.rdchem.Mol at 0x2efc88f8660>",
      "image/png": "[encoded data removed]"
     },
     "metadata": {},
     "output_type": "display_data"
    },
    {
     "name": "stdout",
     "output_type": "stream",
     "text": [
      "[]\n"
     ]
    },
    {
     "data": {
      "text/plain": "<rdkit.Chem.rdchem.Mol at 0x2efc88f8b30>",
      "image/png": "[encoded data removed]"
     },
     "metadata": {},
     "output_type": "display_data"
    },
    {
     "name": "stdout",
     "output_type": "stream",
     "text": [
      "[]\n"
     ]
    }
   ],
   "source": [
    "for smile in smiles_list:\n",
    "    showAndChiral(smile)"
   ]
  },
  {
   "cell_type": "markdown",
   "source": [
    "##  Convert to (edge) graph with ptree"
   ],
   "metadata": {
    "collapsed": false
   }
  },
  {
   "cell_type": "code",
   "execution_count": 5,
   "outputs": [],
   "source": [
    "# get molecules\n",
    "mol_list = [\n",
    "    smiles_to_3d_mol(\n",
    "        smiles,\n",
    "        max_number_of_attempts=100,\n",
    "        max_number_of_atoms=100\n",
    "    )\n",
    "    for smiles in smiles_list\n",
    "]"
   ],
   "metadata": {
    "collapsed": false,
    "ExecuteTime": {
     "start_time": "2024-03-24T10:12:57.819536Z",
     "end_time": "2024-03-24T10:12:57.905040Z"
    }
   }
  },
  {
   "cell_type": "code",
   "execution_count": 6,
   "outputs": [],
   "source": [
    "data_list = [\n",
    "    mol_to_data(mol)\n",
    "    for mol in mol_list\n",
    "]"
   ],
   "metadata": {
    "collapsed": false,
    "ExecuteTime": {
     "start_time": "2024-03-24T10:12:57.850535Z",
     "end_time": "2024-03-24T10:12:57.906039Z"
    }
   }
  },
  {
   "cell_type": "code",
   "execution_count": 7,
   "outputs": [],
   "source": [
    "data_list = [\n",
    "    vertex_graph_transform(\n",
    "        data,\n",
    "        transformation_mode=\"permutation_tree\",\n",
    "        mol=mol,\n",
    "        transformation_parameters={\n",
    "            'k':  3,\n",
    "            'tetrahedral_chiral': True,\n",
    "            'chiral_center_selective': True,\n",
    "            'chiral_center_select_potential': False,\n",
    "        }\n",
    "    )\n",
    "    for data, mol in zip(data_list, mol_list)\n",
    "]"
   ],
   "metadata": {
    "collapsed": false,
    "ExecuteTime": {
     "start_time": "2024-03-24T10:12:57.866536Z",
     "end_time": "2024-03-24T10:12:57.956420Z"
    }
   }
  },
  {
   "cell_type": "code",
   "execution_count": 8,
   "outputs": [
    {
     "name": "stdout",
     "output_type": "stream",
     "text": [
      "Data(x=[20, 43], edge_index=[2, 38], edge_attr=[38, 7], pos=[20, 3], ptree=[20], initial_map=[58], layer0_order_matrix=[1], layer0_type_mask=[1], layer0_pooling=[1], num_layer=2, layer1_order_matrix=[1], layer1_type_mask=[1], layer1_pooling=[1])\n",
      "['{\"S\": [0, {\"P\": [1, 6, 7, 8]}]}', '{\"S\": [1, {\"P\": [0, 2, 9, 10]}]}', '{\"S\": [2, {\"P\": [1, 3, 11, 12]}]}', '{\"S\": [3, {\"P\": [2, 4, 13, 14]}]}', '{\"S\": [4, {\"P\": [3, 5, 15, 16]}]}', '{\"S\": [5, {\"P\": [4, 17, 18, 19]}]}', '{\"S\": [6, {\"P\": [0]}]}', '{\"S\": [7, {\"P\": [0]}]}', '{\"S\": [8, {\"P\": [0]}]}', '{\"S\": [9, {\"P\": [1]}]}', '{\"S\": [10, {\"P\": [1]}]}', '{\"S\": [11, {\"P\": [2]}]}', '{\"S\": [12, {\"P\": [2]}]}', '{\"S\": [13, {\"P\": [3]}]}', '{\"S\": [14, {\"P\": [3]}]}', '{\"S\": [15, {\"P\": [4]}]}', '{\"S\": [16, {\"P\": [4]}]}', '{\"S\": [17, {\"P\": [5]}]}', '{\"S\": [18, {\"P\": [5]}]}', '{\"S\": [19, {\"P\": [5]}]}']\n",
      "Data(x=[20, 43], edge_index=[2, 38], edge_attr=[38, 7], pos=[20, 3], ptree=[20], initial_map=[58], layer0_order_matrix=[1], layer0_type_mask=[1], layer0_pooling=[1], num_layer=2, layer1_order_matrix=[1], layer1_type_mask=[1], layer1_pooling=[1])\n",
      "['{\"S\": [0, {\"P\": [1, 6, 7, 8]}]}', '{\"S\": [1, {\"P\": [0, 2, 9, 10]}]}', '{\"S\": [2, {\"P\": [1, 3, 11, 12]}]}', '{\"S\": [3, {\"P\": [2, 4, 5, 13]}]}', '{\"S\": [4, {\"P\": [3, 14, 15, 16]}]}', '{\"S\": [5, {\"P\": [3, 17, 18, 19]}]}', '{\"S\": [6, {\"P\": [0]}]}', '{\"S\": [7, {\"P\": [0]}]}', '{\"S\": [8, {\"P\": [0]}]}', '{\"S\": [9, {\"P\": [1]}]}', '{\"S\": [10, {\"P\": [1]}]}', '{\"S\": [11, {\"P\": [2]}]}', '{\"S\": [12, {\"P\": [2]}]}', '{\"S\": [13, {\"P\": [3]}]}', '{\"S\": [14, {\"P\": [4]}]}', '{\"S\": [15, {\"P\": [4]}]}', '{\"S\": [16, {\"P\": [4]}]}', '{\"S\": [17, {\"P\": [5]}]}', '{\"S\": [18, {\"P\": [5]}]}', '{\"S\": [19, {\"P\": [5]}]}']\n",
      "Data(x=[20, 43], edge_index=[2, 38], edge_attr=[38, 7], pos=[20, 3], ptree=[20], initial_map=[58], layer0_order_matrix=[1], layer0_type_mask=[1], layer0_pooling=[1], num_layer=2, layer1_order_matrix=[1], layer1_type_mask=[1], layer1_pooling=[1])\n",
      "['{\"S\": [0, {\"P\": [1, 6, 7, 8]}]}', '{\"S\": [1, {\"P\": [0, 2, 9, 10]}]}', '{\"S\": [2, {\"P\": [1, 3, 4, 11]}]}', '{\"S\": [3, {\"P\": [2, 12, 13, 14]}]}', '{\"S\": [4, {\"P\": [2, 5, 15, 16]}]}', '{\"S\": [5, {\"P\": [4, 17, 18, 19]}]}', '{\"S\": [6, {\"P\": [0]}]}', '{\"S\": [7, {\"P\": [0]}]}', '{\"S\": [8, {\"P\": [0]}]}', '{\"S\": [9, {\"P\": [1]}]}', '{\"S\": [10, {\"P\": [1]}]}', '{\"S\": [11, {\"P\": [2]}]}', '{\"S\": [12, {\"P\": [3]}]}', '{\"S\": [13, {\"P\": [3]}]}', '{\"S\": [14, {\"P\": [3]}]}', '{\"S\": [15, {\"P\": [4]}]}', '{\"S\": [16, {\"P\": [4]}]}', '{\"S\": [17, {\"P\": [5]}]}', '{\"S\": [18, {\"P\": [5]}]}', '{\"S\": [19, {\"P\": [5]}]}']\n",
      "Data(x=[20, 43], edge_index=[2, 38], edge_attr=[38, 7], pos=[20, 3], ptree=[20], initial_map=[58], layer0_order_matrix=[1], layer0_type_mask=[1], layer0_pooling=[1], num_layer=2, layer1_order_matrix=[1], layer1_type_mask=[1], layer1_pooling=[1])\n",
      "['{\"S\": [0, {\"P\": [1, 6, 7, 8]}]}', '{\"S\": [1, {\"P\": [0, 2, 3, 9]}]}', '{\"S\": [2, {\"P\": [1, 10, 11, 12]}]}', '{\"S\": [3, {\"P\": [1, 4, 5, 13]}]}', '{\"S\": [4, {\"P\": [3, 14, 15, 16]}]}', '{\"S\": [5, {\"P\": [3, 17, 18, 19]}]}', '{\"S\": [6, {\"P\": [0]}]}', '{\"S\": [7, {\"P\": [0]}]}', '{\"S\": [8, {\"P\": [0]}]}', '{\"S\": [9, {\"P\": [1]}]}', '{\"S\": [10, {\"P\": [2]}]}', '{\"S\": [11, {\"P\": [2]}]}', '{\"S\": [12, {\"P\": [2]}]}', '{\"S\": [13, {\"P\": [3]}]}', '{\"S\": [14, {\"P\": [4]}]}', '{\"S\": [15, {\"P\": [4]}]}', '{\"S\": [16, {\"P\": [4]}]}', '{\"S\": [17, {\"P\": [5]}]}', '{\"S\": [18, {\"P\": [5]}]}', '{\"S\": [19, {\"P\": [5]}]}']\n",
      "Data(x=[20, 43], edge_index=[2, 38], edge_attr=[38, 7], pos=[20, 3], ptree=[20], initial_map=[58], layer0_order_matrix=[1], layer0_type_mask=[1], layer0_pooling=[1], num_layer=2, layer1_order_matrix=[1], layer1_type_mask=[1], layer1_pooling=[1])\n",
      "['{\"S\": [0, {\"P\": [1, 6, 7, 8]}]}', '{\"S\": [1, {\"P\": [0, 2, 9, 10]}]}', '{\"S\": [2, {\"P\": [1, 3, 4, 5]}]}', '{\"S\": [3, {\"P\": [2, 11, 12, 13]}]}', '{\"S\": [4, {\"P\": [2, 14, 15, 16]}]}', '{\"S\": [5, {\"P\": [2, 17, 18, 19]}]}', '{\"S\": [6, {\"P\": [0]}]}', '{\"S\": [7, {\"P\": [0]}]}', '{\"S\": [8, {\"P\": [0]}]}', '{\"S\": [9, {\"P\": [1]}]}', '{\"S\": [10, {\"P\": [1]}]}', '{\"S\": [11, {\"P\": [3]}]}', '{\"S\": [12, {\"P\": [3]}]}', '{\"S\": [13, {\"P\": [3]}]}', '{\"S\": [14, {\"P\": [4]}]}', '{\"S\": [15, {\"P\": [4]}]}', '{\"S\": [16, {\"P\": [4]}]}', '{\"S\": [17, {\"P\": [5]}]}', '{\"S\": [18, {\"P\": [5]}]}', '{\"S\": [19, {\"P\": [5]}]}']\n"
     ]
    }
   ],
   "source": [
    "for data in data_list:\n",
    "    print(data)\n",
    "    print(data.ptree)"
   ],
   "metadata": {
    "collapsed": false,
    "ExecuteTime": {
     "start_time": "2024-03-24T10:12:57.928351Z",
     "end_time": "2024-03-24T10:12:57.956420Z"
    }
   }
  },
  {
   "cell_type": "markdown",
   "id": "c4c65150-2907-4220-baf9-2d95f5a44656",
   "metadata": {},
   "source": [
    "## Create Model"
   ]
  },
  {
   "cell_type": "code",
   "execution_count": 9,
   "outputs": [],
   "source": [
    "from ptgnn.model.modules.ptree.advanced_tree_layer import AdvancedPermutationTreeLayer\n",
    "\n",
    "k = 3\n",
    "\n",
    "model = AdvancedPermutationTreeLayer(\n",
    "    hidden_dim=43,\n",
    "    k=k,\n",
    "    batch_norm=False\n",
    ")"
   ],
   "metadata": {
    "collapsed": false,
    "ExecuteTime": {
     "start_time": "2024-03-24T10:12:57.945201Z",
     "end_time": "2024-03-24T10:12:57.987421Z"
    }
   }
  },
  {
   "cell_type": "markdown",
   "id": "8d7bb4a1-a7fd-47b8-ae93-b12fe24ee239",
   "metadata": {},
   "source": [
    "## Create batches"
   ]
  },
  {
   "cell_type": "code",
   "execution_count": 10,
   "outputs": [],
   "source": [
    "from ptgnn.loading.collate import permutation_tree_collation\n",
    "\n",
    "batch_list = [\n",
    "    permutation_tree_collation([data])\n",
    "    for data in data_list\n",
    "]"
   ],
   "metadata": {
    "collapsed": false,
    "ExecuteTime": {
     "start_time": "2024-03-24T10:12:57.959421Z",
     "end_time": "2024-03-24T10:12:57.988421Z"
    }
   }
  },
  {
   "cell_type": "code",
   "execution_count": 11,
   "outputs": [
    {
     "data": {
      "text/plain": "array([[ True,  True,  True,  True,  True],\n       [ True,  True,  True,  True,  True],\n       [ True,  True,  True,  True,  True],\n       [ True,  True,  True,  True,  True],\n       [ True,  True,  True,  True,  True]])"
     },
     "metadata": {},
     "output_type": "display_data"
    }
   ],
   "source": [
    "# compare output\n",
    "display(np.array(\n",
    "    [\n",
    "        [\n",
    "            (batch_list[i].x == batch_list[j].x).all() if batch_list[i].x.shape == batch_list[j].x.shape else np.nan\n",
    "            for j in range(len(batch_list))\n",
    "        ]\n",
    "        for i in range(len(batch_list))\n",
    "    ]\n",
    "))"
   ],
   "metadata": {
    "collapsed": false,
    "ExecuteTime": {
     "start_time": "2024-03-24T10:12:57.974421Z",
     "end_time": "2024-03-24T10:12:58.034825Z"
    }
   }
  },
  {
   "cell_type": "markdown",
   "id": "b86ffd2b-ec5f-49bf-8ab7-86f384b6e0c6",
   "metadata": {},
   "source": [
    "## Put batches through model"
   ]
  },
  {
   "cell_type": "code",
   "execution_count": 12,
   "id": "ca6a5499-e4a0-43a8-8a09-9bfc1f9eb67d",
   "metadata": {
    "tags": [],
    "ExecuteTime": {
     "start_time": "2024-03-24T10:12:57.990461Z",
     "end_time": "2024-03-24T10:12:58.043902Z"
    }
   },
   "outputs": [],
   "source": [
    "out_list = [\n",
    "    model(batch)\n",
    "    for batch in batch_list\n",
    "]"
   ]
  },
  {
   "cell_type": "markdown",
   "id": "4e024847-717f-4fac-bace-f9ee10ccf416",
   "metadata": {},
   "source": [
    "## Compare batches"
   ]
  },
  {
   "cell_type": "code",
   "execution_count": 13,
   "outputs": [
    {
     "data": {
      "text/plain": "array([[ True, False, False, False, False],\n       [False,  True, False, False, False],\n       [False, False,  True, False, False],\n       [False, False, False,  True, False],\n       [False, False, False, False,  True]])"
     },
     "metadata": {},
     "output_type": "display_data"
    }
   ],
   "source": [
    "# compare output\n",
    "display(np.array(\n",
    "    [\n",
    "        [\n",
    "            (out_list[i] == out_list[j]).all() if out_list[i].shape==out_list[j].shape else np.nan\n",
    "            for j in range(len(out_list))\n",
    "        ]\n",
    "        for i in range(len(out_list))\n",
    "    ]\n",
    "))"
   ],
   "metadata": {
    "collapsed": false,
    "ExecuteTime": {
     "start_time": "2024-03-24T10:12:58.005802Z",
     "end_time": "2024-03-24T10:12:58.045297Z"
    }
   }
  },
  {
   "cell_type": "code",
   "execution_count": 14,
   "outputs": [
    {
     "data": {
      "text/plain": "array([[ True, False, False, False, False],\n       [False,  True,  True, False, False],\n       [False,  True,  True, False, False],\n       [False, False, False,  True, False],\n       [False, False, False, False,  True]])"
     },
     "metadata": {},
     "output_type": "display_data"
    }
   ],
   "source": [
    "# compare sum pooled version itself\n",
    "display(np.array(\n",
    "    [\n",
    "        [\n",
    "            out_list[i].sum().item() - out_list[j].sum().item()\n",
    "            for j in range(len(out_list))\n",
    "        ]\n",
    "        for i in range(len(out_list))\n",
    "    ]\n",
    ") == 0)"
   ],
   "metadata": {
    "collapsed": false,
    "ExecuteTime": {
     "start_time": "2024-03-24T10:12:58.023827Z",
     "end_time": "2024-03-24T10:12:58.045297Z"
    }
   }
  },
  {
   "cell_type": "code",
   "execution_count": 15,
   "outputs": [
    {
     "data": {
      "text/plain": "array([[0.       , 2.658502 , 2.6585019, 5.317004 , 4.0396714],\n       [2.658502 , 0.       , 5.3168697, 2.658502 , 3.9357007],\n       [2.6585019, 5.3168697, 0.       , 7.9752374, 1.3811693],\n       [5.317004 , 2.658502 , 7.9752374, 0.       , 6.5940685],\n       [4.0396714, 3.9357007, 1.3811693, 6.5940685, 0.       ]],\n      dtype=float32)"
     },
     "metadata": {},
     "output_type": "display_data"
    }
   ],
   "source": [
    "# compare output\n",
    "display(np.array(\n",
    "    [\n",
    "        [\n",
    "            (out_list[i] - out_list[j]).detach().abs().sum() if batch_list[i].x.shape == batch_list[j].x.shape else np.nan\n",
    "            for j in range(len(out_list))\n",
    "        ]\n",
    "        for i in range(len(out_list))\n",
    "    ]\n",
    "))"
   ],
   "metadata": {
    "collapsed": false,
    "ExecuteTime": {
     "start_time": "2024-03-24T10:12:58.038897Z",
     "end_time": "2024-03-24T10:12:58.053173Z"
    }
   }
  },
  {
   "cell_type": "markdown",
   "id": "8879e0f2-d8d0-419a-af50-5d0b4100309a",
   "metadata": {},
   "source": [
    "Distinguishes correctly"
   ]
  }
 ],
 "metadata": {
  "kernelspec": {
   "display_name": "Python 3 (ipykernel)",
   "language": "python",
   "name": "python3"
  },
  "language_info": {
   "codemirror_mode": {
    "name": "ipython",
    "version": 3
   },
   "file_extension": ".py",
   "mimetype": "text/x-python",
   "name": "python",
   "nbconvert_exporter": "python",
   "pygments_lexer": "ipython3",
   "version": "3.9.16"
  }
 },
 "nbformat": 4,
 "nbformat_minor": 5
}
