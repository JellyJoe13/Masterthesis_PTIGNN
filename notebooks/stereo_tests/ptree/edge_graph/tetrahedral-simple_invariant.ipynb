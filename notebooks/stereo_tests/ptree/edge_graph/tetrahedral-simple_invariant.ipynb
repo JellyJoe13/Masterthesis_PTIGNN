{
 "cells": [
  {
   "cell_type": "markdown",
   "id": "cce7ba2e-6183-4900-9e1c-608c46435893",
   "metadata": {},
   "source": [
    "# Stereoisomer testing on ptree - enantiomers"
   ]
  },
  {
   "cell_type": "markdown",
   "id": "cd5b739d-220a-4c13-9ce0-a3933e034d4d",
   "metadata": {},
   "source": [
    "## Importing section"
   ]
  },
  {
   "cell_type": "code",
   "execution_count": 1,
   "outputs": [],
   "source": [
    "import numpy as np\n",
    "from rdkit import Chem\n",
    "from rdkit.Chem import AllChem\n",
    "import sys\n",
    "\n",
    "sys.path.append(\"../../../../\")\n",
    "\n",
    "from ptgnn.features.chienn.molecule3d import smiles_to_3d_mol\n",
    "from ptgnn.features.chienn.mol_to_data import mol_to_data\n",
    "from ptgnn.transform import edge_graph_transform, vertex_graph_transform"
   ],
   "metadata": {
    "collapsed": false,
    "ExecuteTime": {
     "start_time": "2024-03-23T14:23:13.652337Z",
     "end_time": "2024-03-23T14:23:15.460034Z"
    }
   }
  },
  {
   "cell_type": "markdown",
   "id": "4ce50022-5637-4a30-b409-1e45a433f047",
   "metadata": {},
   "source": [
    "## Define SMILES strings"
   ]
  },
  {
   "cell_type": "code",
   "execution_count": 2,
   "id": "fe716171-6aec-40ab-a31a-1fb0bd635c46",
   "metadata": {
    "tags": [],
    "ExecuteTime": {
     "start_time": "2024-03-23T14:23:15.461036Z",
     "end_time": "2024-03-23T14:23:15.475459Z"
    }
   },
   "outputs": [],
   "source": [
    "smiles_list = [\n",
    "    \"C(Br)(Cl)F\",\n",
    "    \"[C@H](Br)(Cl)F\",\n",
    "    \"[C@H](Br)(Cl)F\",\n",
    "    \"[C@@H](Br)(Cl)F\",\n",
    "]"
   ]
  },
  {
   "cell_type": "markdown",
   "id": "1663655e-0dd3-492e-b007-344f18fffb87",
   "metadata": {},
   "source": [
    "## Visualize and confirm stereomer classification (E/Z)"
   ]
  },
  {
   "cell_type": "code",
   "execution_count": 3,
   "id": "13fe0401-cc1a-424a-80c2-df1760e4df84",
   "metadata": {
    "tags": [],
    "ExecuteTime": {
     "start_time": "2024-03-23T14:23:15.477461Z",
     "end_time": "2024-03-23T14:23:15.504460Z"
    }
   },
   "outputs": [],
   "source": [
    "def showAndChiral(smiles):\n",
    "    mol = Chem.MolFromSmiles(smiles)\n",
    "    display(mol)\n",
    "    print(AllChem.FindMolChiralCenters(mol, includeUnassigned=True))\n",
    "    for bond in mol.GetBonds():\n",
    "        if bond.GetBondType() == Chem.rdchem.BondType.DOUBLE:\n",
    "            print(\"Bond\", bond.GetIdx(), \"stereo:\", bond.GetStereo())"
   ]
  },
  {
   "cell_type": "code",
   "execution_count": 4,
   "id": "f54309f1-465b-4834-aeda-cdc857767776",
   "metadata": {
    "tags": [],
    "ExecuteTime": {
     "start_time": "2024-03-23T14:23:15.496459Z",
     "end_time": "2024-03-23T14:23:15.523537Z"
    }
   },
   "outputs": [
    {
     "data": {
      "text/plain": "<rdkit.Chem.rdchem.Mol at 0x280832b9580>",
      "image/png": "[encoded data removed]"
     },
     "metadata": {},
     "output_type": "display_data"
    },
    {
     "name": "stdout",
     "output_type": "stream",
     "text": [
      "[(0, '?')]\n"
     ]
    },
    {
     "data": {
      "text/plain": "<rdkit.Chem.rdchem.Mol at 0x280832b90b0>",
      "image/png": "[encoded data removed]"
     },
     "metadata": {},
     "output_type": "display_data"
    },
    {
     "name": "stdout",
     "output_type": "stream",
     "text": [
      "[(0, 'R')]\n"
     ]
    },
    {
     "data": {
      "text/plain": "<rdkit.Chem.rdchem.Mol at 0x280832b96d0>",
      "image/png": "[encoded data removed]"
     },
     "metadata": {},
     "output_type": "display_data"
    },
    {
     "name": "stdout",
     "output_type": "stream",
     "text": [
      "[(0, 'R')]\n"
     ]
    },
    {
     "data": {
      "text/plain": "<rdkit.Chem.rdchem.Mol at 0x280832b9660>",
      "image/png": "[encoded data removed]"
     },
     "metadata": {},
     "output_type": "display_data"
    },
    {
     "name": "stdout",
     "output_type": "stream",
     "text": [
      "[(0, 'S')]\n"
     ]
    }
   ],
   "source": [
    "for smile in smiles_list:\n",
    "    showAndChiral(smile)"
   ]
  },
  {
   "cell_type": "markdown",
   "id": "910c1424-4c1d-4421-ad82-628ccf16464e",
   "metadata": {},
   "source": [
    "##  Convert to (edge) graph with ptree"
   ]
  },
  {
   "cell_type": "code",
   "execution_count": 5,
   "outputs": [],
   "source": [
    "# get molecules\n",
    "mol_list = [\n",
    "    smiles_to_3d_mol(\n",
    "        smiles,\n",
    "        max_number_of_attempts=100,\n",
    "        max_number_of_atoms=100\n",
    "    )\n",
    "    for smiles in smiles_list\n",
    "]"
   ],
   "metadata": {
    "collapsed": false,
    "ExecuteTime": {
     "start_time": "2024-03-23T14:23:15.524537Z",
     "end_time": "2024-03-23T14:23:15.585961Z"
    }
   }
  },
  {
   "cell_type": "code",
   "execution_count": 6,
   "outputs": [],
   "source": [
    "data_list = [\n",
    "    mol_to_data(mol)\n",
    "    for mol in mol_list\n",
    "]"
   ],
   "metadata": {
    "collapsed": false,
    "ExecuteTime": {
     "start_time": "2024-03-23T14:23:15.539961Z",
     "end_time": "2024-03-23T14:23:15.595961Z"
    }
   }
  },
  {
   "cell_type": "code",
   "execution_count": 7,
   "outputs": [],
   "source": [
    "data_list = [\n",
    "    edge_graph_transform(\n",
    "        data,\n",
    "        transformation_mode=\"permutation_tree\",\n",
    "        mol=mol,\n",
    "        transformation_parameters={\n",
    "            'k':  3,\n",
    "            'tetrahedral_chiral': False\n",
    "        }\n",
    "    )\n",
    "    for data, mol in zip(data_list, mol_list)\n",
    "]"
   ],
   "metadata": {
    "collapsed": false,
    "ExecuteTime": {
     "start_time": "2024-03-23T14:23:15.555962Z",
     "end_time": "2024-03-23T14:23:15.595961Z"
    }
   }
  },
  {
   "cell_type": "code",
   "execution_count": 8,
   "outputs": [
    {
     "data": {
      "text/plain": "['{\"S\": [0, 1]}',\n '{\"S\": [1, 0, {\"P\": [3, 7, 5]}]}',\n '{\"S\": [2, 3, {\"P\": [0, 5, 7]}]}',\n '{\"S\": [3, 2]}',\n '{\"S\": [4, 5, {\"P\": [0, 7, 3]}]}',\n '{\"S\": [5, 4]}',\n '{\"S\": [6, 7, {\"P\": [0, 3, 5]}]}',\n '{\"S\": [7, 6]}']"
     },
     "metadata": {},
     "output_type": "display_data"
    },
    {
     "data": {
      "text/plain": "tensor([0, 1, 1, 0, 3, 7, 5, 2, 3, 0, 5, 7, 3, 2, 4, 5, 0, 7, 3, 5, 4, 6, 7, 0,\n        3, 5, 7, 6])"
     },
     "metadata": {},
     "output_type": "display_data"
    },
    {
     "data": {
      "text/plain": "'layer: 0'"
     },
     "metadata": {},
     "output_type": "display_data"
    },
    {
     "data": {
      "text/plain": "[[tensor([[ 0,  1,  2,  3,  4,  5,  6,  7,  8,  9, 10, 11, 12, 13, 14, 15, 16, 17,\n           18, 19, 20, 21, 22, 23, 24, 25, 26, 27],\n          [-1, -1, -1, -1, -1, -1, -1, -1, -1, -1, -1, -1, -1, -1, -1, -1, -1, -1,\n           -1, -1, -1, -1, -1, -1, -1, -1, -1, -1],\n          [-1, -1, -1, -1, -1, -1, -1, -1, -1, -1, -1, -1, -1, -1, -1, -1, -1, -1,\n           -1, -1, -1, -1, -1, -1, -1, -1, -1, -1]], dtype=torch.int32)]]"
     },
     "metadata": {},
     "output_type": "display_data"
    },
    {
     "data": {
      "text/plain": "[[tensor([0, 0, 0, 0, 1, 1, 1, 0, 0, 1, 1, 1, 0, 0, 0, 0, 1, 1, 1, 0, 0, 0, 0, 1,\n          1, 1, 0, 0])]]"
     },
     "metadata": {},
     "output_type": "display_data"
    },
    {
     "data": {
      "text/plain": "[[tensor([ 0,  1,  2,  3,  4,  4,  4,  5,  6,  7,  7,  7,  8,  9, 10, 11, 12, 12,\n          12, 13, 14, 15, 16, 17, 17, 17, 18, 19])]]"
     },
     "metadata": {},
     "output_type": "display_data"
    },
    {
     "data": {
      "text/plain": "'layer: 1'"
     },
     "metadata": {},
     "output_type": "display_data"
    },
    {
     "data": {
      "text/plain": "[[tensor([[ 0, -1,  2, -1, -1,  5, -1, -1,  8, -1, 10, -1, -1, 13, -1, 15, -1, -1,\n           18, -1],\n          [ 1, -1,  3, -1, -1,  6, -1, -1,  9, -1, 11, -1, -1, 14, -1, 16, -1, -1,\n           19, -1],\n          [-1, -1,  4, -1, -1,  7, -1, -1, -1, -1, 12, -1, -1, -1, -1, 17, -1, -1,\n           -1, -1]], dtype=torch.int32)]]"
     },
     "metadata": {},
     "output_type": "display_data"
    },
    {
     "data": {
      "text/plain": "[[tensor([3, 3, 3, 3, 3, 3, 3, 3, 3, 3, 3, 3, 3, 3, 3, 3, 3, 3, 3, 3])]]"
     },
     "metadata": {},
     "output_type": "display_data"
    },
    {
     "data": {
      "text/plain": "[[tensor([0, 0, 1, 1, 1, 2, 2, 2, 3, 3, 4, 4, 4, 5, 5, 6, 6, 6, 7, 7])]]"
     },
     "metadata": {},
     "output_type": "display_data"
    }
   ],
   "source": [
    "d = data_list[0]\n",
    "display(d.ptree, d.initial_map)\n",
    "for i in range(d.num_layer):\n",
    "    display(f\"layer: {i}\")\n",
    "    display(d[f\"layer{i}_order_matrix\"], d[f\"layer{i}_type_mask\"], d[f\"layer{i}_pooling\"])"
   ],
   "metadata": {
    "collapsed": false,
    "ExecuteTime": {
     "start_time": "2024-03-23T14:23:15.587962Z",
     "end_time": "2024-03-23T14:23:15.606963Z"
    }
   }
  },
  {
   "cell_type": "code",
   "execution_count": 9,
   "outputs": [
    {
     "name": "stdout",
     "output_type": "stream",
     "text": [
      "Data(x=[8, 93], edge_index=[2, 20], edge_attr=[20, 57], pos=[8, 6], parallel_node_index=[8], circle_index=[8], ptree=[8], initial_map=[28], layer0_order_matrix=[1], layer0_type_mask=[1], layer0_pooling=[1], num_layer=2, layer1_order_matrix=[1], layer1_type_mask=[1], layer1_pooling=[1])\n",
      "['{\"S\": [0, 1]}', '{\"S\": [1, 0, {\"P\": [3, 7, 5]}]}', '{\"S\": [2, 3, {\"P\": [0, 5, 7]}]}', '{\"S\": [3, 2]}', '{\"S\": [4, 5, {\"P\": [0, 7, 3]}]}', '{\"S\": [5, 4]}', '{\"S\": [6, 7, {\"P\": [0, 3, 5]}]}', '{\"S\": [7, 6]}']\n",
      "Data(x=[8, 93], edge_index=[2, 20], edge_attr=[20, 57], pos=[8, 6], parallel_node_index=[8], circle_index=[8], ptree=[8], initial_map=[28], layer0_order_matrix=[1], layer0_type_mask=[1], layer0_pooling=[1], num_layer=2, layer1_order_matrix=[1], layer1_type_mask=[1], layer1_pooling=[1])\n",
      "['{\"S\": [0, 1]}', '{\"S\": [1, 0, {\"P\": [3, 7, 5]}]}', '{\"S\": [2, 3, {\"P\": [0, 5, 7]}]}', '{\"S\": [3, 2]}', '{\"S\": [4, 5, {\"P\": [0, 7, 3]}]}', '{\"S\": [5, 4]}', '{\"S\": [6, 7, {\"P\": [0, 3, 5]}]}', '{\"S\": [7, 6]}']\n",
      "Data(x=[8, 93], edge_index=[2, 20], edge_attr=[20, 57], pos=[8, 6], parallel_node_index=[8], circle_index=[8], ptree=[8], initial_map=[28], layer0_order_matrix=[1], layer0_type_mask=[1], layer0_pooling=[1], num_layer=2, layer1_order_matrix=[1], layer1_type_mask=[1], layer1_pooling=[1])\n",
      "['{\"S\": [0, 1]}', '{\"S\": [1, 0, {\"P\": [3, 7, 5]}]}', '{\"S\": [2, 3, {\"P\": [0, 5, 7]}]}', '{\"S\": [3, 2]}', '{\"S\": [4, 5, {\"P\": [0, 7, 3]}]}', '{\"S\": [5, 4]}', '{\"S\": [6, 7, {\"P\": [0, 3, 5]}]}', '{\"S\": [7, 6]}']\n",
      "Data(x=[8, 93], edge_index=[2, 20], edge_attr=[20, 57], pos=[8, 6], parallel_node_index=[8], circle_index=[8], ptree=[8], initial_map=[28], layer0_order_matrix=[1], layer0_type_mask=[1], layer0_pooling=[1], num_layer=2, layer1_order_matrix=[1], layer1_type_mask=[1], layer1_pooling=[1])\n",
      "['{\"S\": [0, 1]}', '{\"S\": [1, 0, {\"P\": [3, 5, 7]}]}', '{\"S\": [2, 3, {\"P\": [0, 7, 5]}]}', '{\"S\": [3, 2]}', '{\"S\": [4, 5, {\"P\": [0, 3, 7]}]}', '{\"S\": [5, 4]}', '{\"S\": [6, 7, {\"P\": [0, 5, 3]}]}', '{\"S\": [7, 6]}']\n"
     ]
    }
   ],
   "source": [
    "for data in data_list:\n",
    "    print(data)\n",
    "    print(data.ptree)"
   ],
   "metadata": {
    "collapsed": false,
    "ExecuteTime": {
     "start_time": "2024-03-23T14:23:15.603962Z",
     "end_time": "2024-03-23T14:23:15.665960Z"
    }
   }
  },
  {
   "cell_type": "markdown",
   "id": "c4c65150-2907-4220-baf9-2d95f5a44656",
   "metadata": {},
   "source": [
    "## Create Model"
   ]
  },
  {
   "cell_type": "code",
   "execution_count": 10,
   "outputs": [],
   "source": [
    "from ptgnn.model.modules.ptree.advanced_tree_layer import AdvancedPermutationTreeLayer\n",
    "\n",
    "k = 3\n",
    "\n",
    "model = AdvancedPermutationTreeLayer(\n",
    "    hidden_dim=93,\n",
    "    k=k,\n",
    "    batch_norm=False\n",
    ")"
   ],
   "metadata": {
    "collapsed": false,
    "ExecuteTime": {
     "start_time": "2024-03-23T14:23:15.619961Z",
     "end_time": "2024-03-23T14:23:15.696703Z"
    }
   }
  },
  {
   "cell_type": "markdown",
   "id": "8d7bb4a1-a7fd-47b8-ae93-b12fe24ee239",
   "metadata": {},
   "source": [
    "## Create batches"
   ]
  },
  {
   "cell_type": "code",
   "execution_count": 11,
   "outputs": [],
   "source": [
    "from ptgnn.loading.collate import permutation_tree_collation\n",
    "\n",
    "batch_list = [\n",
    "    permutation_tree_collation([data])\n",
    "    for data in data_list\n",
    "]"
   ],
   "metadata": {
    "collapsed": false,
    "ExecuteTime": {
     "start_time": "2024-03-23T14:23:15.635962Z",
     "end_time": "2024-03-23T14:23:15.706112Z"
    }
   }
  },
  {
   "cell_type": "code",
   "execution_count": 12,
   "outputs": [
    {
     "data": {
      "text/plain": "'Batch: 0'"
     },
     "metadata": {},
     "output_type": "display_data"
    },
    {
     "data": {
      "text/plain": "['{\"S\": [0, 1]}',\n '{\"S\": [1, 0, {\"P\": [3, 7, 5]}]}',\n '{\"S\": [2, 3, {\"P\": [0, 5, 7]}]}',\n '{\"S\": [3, 2]}',\n '{\"S\": [4, 5, {\"P\": [0, 7, 3]}]}',\n '{\"S\": [5, 4]}',\n '{\"S\": [6, 7, {\"P\": [0, 3, 5]}]}',\n '{\"S\": [7, 6]}']"
     },
     "metadata": {},
     "output_type": "display_data"
    },
    {
     "data": {
      "text/plain": "tensor([0, 1, 1, 0, 3, 7, 5, 2, 3, 0, 5, 7, 3, 2, 4, 5, 0, 7, 3, 5, 4, 6, 7, 0,\n        3, 5, 7, 6])"
     },
     "metadata": {},
     "output_type": "display_data"
    },
    {
     "data": {
      "text/plain": "'Layer: 0'"
     },
     "metadata": {},
     "output_type": "display_data"
    },
    {
     "data": {
      "text/plain": "tensor([[ 0,  1,  2,  3,  4,  5,  6,  7,  8,  9, 10, 11, 12, 13, 14, 15, 16, 17,\n         18, 19, 20, 21, 22, 23, 24, 25, 26, 27],\n        [-1, -1, -1, -1, -1, -1, -1, -1, -1, -1, -1, -1, -1, -1, -1, -1, -1, -1,\n         -1, -1, -1, -1, -1, -1, -1, -1, -1, -1],\n        [-1, -1, -1, -1, -1, -1, -1, -1, -1, -1, -1, -1, -1, -1, -1, -1, -1, -1,\n         -1, -1, -1, -1, -1, -1, -1, -1, -1, -1]], dtype=torch.int32)"
     },
     "metadata": {},
     "output_type": "display_data"
    },
    {
     "data": {
      "text/plain": "tensor([0, 0, 0, 0, 1, 1, 1, 0, 0, 1, 1, 1, 0, 0, 0, 0, 1, 1, 1, 0, 0, 0, 0, 1,\n        1, 1, 0, 0])"
     },
     "metadata": {},
     "output_type": "display_data"
    },
    {
     "data": {
      "text/plain": "tensor([ 0,  1,  2,  3,  4,  4,  4,  5,  6,  7,  7,  7,  8,  9, 10, 11, 12, 12,\n        12, 13, 14, 15, 16, 17, 17, 17, 18, 19])"
     },
     "metadata": {},
     "output_type": "display_data"
    },
    {
     "data": {
      "text/plain": "'Layer: 1'"
     },
     "metadata": {},
     "output_type": "display_data"
    },
    {
     "data": {
      "text/plain": "tensor([[ 0, -1,  2, -1, -1,  5, -1, -1,  8, -1, 10, -1, -1, 13, -1, 15, -1, -1,\n         18, -1],\n        [ 1, -1,  3, -1, -1,  6, -1, -1,  9, -1, 11, -1, -1, 14, -1, 16, -1, -1,\n         19, -1],\n        [-1, -1,  4, -1, -1,  7, -1, -1, -1, -1, 12, -1, -1, -1, -1, 17, -1, -1,\n         -1, -1]], dtype=torch.int32)"
     },
     "metadata": {},
     "output_type": "display_data"
    },
    {
     "data": {
      "text/plain": "tensor([3, 3, 3, 3, 3, 3, 3, 3, 3, 3, 3, 3, 3, 3, 3, 3, 3, 3, 3, 3])"
     },
     "metadata": {},
     "output_type": "display_data"
    },
    {
     "data": {
      "text/plain": "tensor([0, 0, 1, 1, 1, 2, 2, 2, 3, 3, 4, 4, 4, 5, 5, 6, 6, 6, 7, 7])"
     },
     "metadata": {},
     "output_type": "display_data"
    },
    {
     "data": {
      "text/plain": "'Batch: 1'"
     },
     "metadata": {},
     "output_type": "display_data"
    },
    {
     "data": {
      "text/plain": "['{\"S\": [0, 1]}',\n '{\"S\": [1, 0, {\"P\": [3, 7, 5]}]}',\n '{\"S\": [2, 3, {\"P\": [0, 5, 7]}]}',\n '{\"S\": [3, 2]}',\n '{\"S\": [4, 5, {\"P\": [0, 7, 3]}]}',\n '{\"S\": [5, 4]}',\n '{\"S\": [6, 7, {\"P\": [0, 3, 5]}]}',\n '{\"S\": [7, 6]}']"
     },
     "metadata": {},
     "output_type": "display_data"
    },
    {
     "data": {
      "text/plain": "tensor([0, 1, 1, 0, 3, 7, 5, 2, 3, 0, 5, 7, 3, 2, 4, 5, 0, 7, 3, 5, 4, 6, 7, 0,\n        3, 5, 7, 6])"
     },
     "metadata": {},
     "output_type": "display_data"
    },
    {
     "data": {
      "text/plain": "'Layer: 0'"
     },
     "metadata": {},
     "output_type": "display_data"
    },
    {
     "data": {
      "text/plain": "tensor([[ 0,  1,  2,  3,  4,  5,  6,  7,  8,  9, 10, 11, 12, 13, 14, 15, 16, 17,\n         18, 19, 20, 21, 22, 23, 24, 25, 26, 27],\n        [-1, -1, -1, -1, -1, -1, -1, -1, -1, -1, -1, -1, -1, -1, -1, -1, -1, -1,\n         -1, -1, -1, -1, -1, -1, -1, -1, -1, -1],\n        [-1, -1, -1, -1, -1, -1, -1, -1, -1, -1, -1, -1, -1, -1, -1, -1, -1, -1,\n         -1, -1, -1, -1, -1, -1, -1, -1, -1, -1]], dtype=torch.int32)"
     },
     "metadata": {},
     "output_type": "display_data"
    },
    {
     "data": {
      "text/plain": "tensor([0, 0, 0, 0, 1, 1, 1, 0, 0, 1, 1, 1, 0, 0, 0, 0, 1, 1, 1, 0, 0, 0, 0, 1,\n        1, 1, 0, 0])"
     },
     "metadata": {},
     "output_type": "display_data"
    },
    {
     "data": {
      "text/plain": "tensor([ 0,  1,  2,  3,  4,  4,  4,  5,  6,  7,  7,  7,  8,  9, 10, 11, 12, 12,\n        12, 13, 14, 15, 16, 17, 17, 17, 18, 19])"
     },
     "metadata": {},
     "output_type": "display_data"
    },
    {
     "data": {
      "text/plain": "'Layer: 1'"
     },
     "metadata": {},
     "output_type": "display_data"
    },
    {
     "data": {
      "text/plain": "tensor([[ 0, -1,  2, -1, -1,  5, -1, -1,  8, -1, 10, -1, -1, 13, -1, 15, -1, -1,\n         18, -1],\n        [ 1, -1,  3, -1, -1,  6, -1, -1,  9, -1, 11, -1, -1, 14, -1, 16, -1, -1,\n         19, -1],\n        [-1, -1,  4, -1, -1,  7, -1, -1, -1, -1, 12, -1, -1, -1, -1, 17, -1, -1,\n         -1, -1]], dtype=torch.int32)"
     },
     "metadata": {},
     "output_type": "display_data"
    },
    {
     "data": {
      "text/plain": "tensor([3, 3, 3, 3, 3, 3, 3, 3, 3, 3, 3, 3, 3, 3, 3, 3, 3, 3, 3, 3])"
     },
     "metadata": {},
     "output_type": "display_data"
    },
    {
     "data": {
      "text/plain": "tensor([0, 0, 1, 1, 1, 2, 2, 2, 3, 3, 4, 4, 4, 5, 5, 6, 6, 6, 7, 7])"
     },
     "metadata": {},
     "output_type": "display_data"
    },
    {
     "data": {
      "text/plain": "'Batch: 2'"
     },
     "metadata": {},
     "output_type": "display_data"
    },
    {
     "data": {
      "text/plain": "['{\"S\": [0, 1]}',\n '{\"S\": [1, 0, {\"P\": [3, 7, 5]}]}',\n '{\"S\": [2, 3, {\"P\": [0, 5, 7]}]}',\n '{\"S\": [3, 2]}',\n '{\"S\": [4, 5, {\"P\": [0, 7, 3]}]}',\n '{\"S\": [5, 4]}',\n '{\"S\": [6, 7, {\"P\": [0, 3, 5]}]}',\n '{\"S\": [7, 6]}']"
     },
     "metadata": {},
     "output_type": "display_data"
    },
    {
     "data": {
      "text/plain": "tensor([0, 1, 1, 0, 3, 7, 5, 2, 3, 0, 5, 7, 3, 2, 4, 5, 0, 7, 3, 5, 4, 6, 7, 0,\n        3, 5, 7, 6])"
     },
     "metadata": {},
     "output_type": "display_data"
    },
    {
     "data": {
      "text/plain": "'Layer: 0'"
     },
     "metadata": {},
     "output_type": "display_data"
    },
    {
     "data": {
      "text/plain": "tensor([[ 0,  1,  2,  3,  4,  5,  6,  7,  8,  9, 10, 11, 12, 13, 14, 15, 16, 17,\n         18, 19, 20, 21, 22, 23, 24, 25, 26, 27],\n        [-1, -1, -1, -1, -1, -1, -1, -1, -1, -1, -1, -1, -1, -1, -1, -1, -1, -1,\n         -1, -1, -1, -1, -1, -1, -1, -1, -1, -1],\n        [-1, -1, -1, -1, -1, -1, -1, -1, -1, -1, -1, -1, -1, -1, -1, -1, -1, -1,\n         -1, -1, -1, -1, -1, -1, -1, -1, -1, -1]], dtype=torch.int32)"
     },
     "metadata": {},
     "output_type": "display_data"
    },
    {
     "data": {
      "text/plain": "tensor([0, 0, 0, 0, 1, 1, 1, 0, 0, 1, 1, 1, 0, 0, 0, 0, 1, 1, 1, 0, 0, 0, 0, 1,\n        1, 1, 0, 0])"
     },
     "metadata": {},
     "output_type": "display_data"
    },
    {
     "data": {
      "text/plain": "tensor([ 0,  1,  2,  3,  4,  4,  4,  5,  6,  7,  7,  7,  8,  9, 10, 11, 12, 12,\n        12, 13, 14, 15, 16, 17, 17, 17, 18, 19])"
     },
     "metadata": {},
     "output_type": "display_data"
    },
    {
     "data": {
      "text/plain": "'Layer: 1'"
     },
     "metadata": {},
     "output_type": "display_data"
    },
    {
     "data": {
      "text/plain": "tensor([[ 0, -1,  2, -1, -1,  5, -1, -1,  8, -1, 10, -1, -1, 13, -1, 15, -1, -1,\n         18, -1],\n        [ 1, -1,  3, -1, -1,  6, -1, -1,  9, -1, 11, -1, -1, 14, -1, 16, -1, -1,\n         19, -1],\n        [-1, -1,  4, -1, -1,  7, -1, -1, -1, -1, 12, -1, -1, -1, -1, 17, -1, -1,\n         -1, -1]], dtype=torch.int32)"
     },
     "metadata": {},
     "output_type": "display_data"
    },
    {
     "data": {
      "text/plain": "tensor([3, 3, 3, 3, 3, 3, 3, 3, 3, 3, 3, 3, 3, 3, 3, 3, 3, 3, 3, 3])"
     },
     "metadata": {},
     "output_type": "display_data"
    },
    {
     "data": {
      "text/plain": "tensor([0, 0, 1, 1, 1, 2, 2, 2, 3, 3, 4, 4, 4, 5, 5, 6, 6, 6, 7, 7])"
     },
     "metadata": {},
     "output_type": "display_data"
    },
    {
     "data": {
      "text/plain": "'Batch: 3'"
     },
     "metadata": {},
     "output_type": "display_data"
    },
    {
     "data": {
      "text/plain": "['{\"S\": [0, 1]}',\n '{\"S\": [1, 0, {\"P\": [3, 5, 7]}]}',\n '{\"S\": [2, 3, {\"P\": [0, 7, 5]}]}',\n '{\"S\": [3, 2]}',\n '{\"S\": [4, 5, {\"P\": [0, 3, 7]}]}',\n '{\"S\": [5, 4]}',\n '{\"S\": [6, 7, {\"P\": [0, 5, 3]}]}',\n '{\"S\": [7, 6]}']"
     },
     "metadata": {},
     "output_type": "display_data"
    },
    {
     "data": {
      "text/plain": "tensor([0, 1, 1, 0, 3, 5, 7, 2, 3, 0, 7, 5, 3, 2, 4, 5, 0, 3, 7, 5, 4, 6, 7, 0,\n        5, 3, 7, 6])"
     },
     "metadata": {},
     "output_type": "display_data"
    },
    {
     "data": {
      "text/plain": "'Layer: 0'"
     },
     "metadata": {},
     "output_type": "display_data"
    },
    {
     "data": {
      "text/plain": "tensor([[ 0,  1,  2,  3,  4,  5,  6,  7,  8,  9, 10, 11, 12, 13, 14, 15, 16, 17,\n         18, 19, 20, 21, 22, 23, 24, 25, 26, 27],\n        [-1, -1, -1, -1, -1, -1, -1, -1, -1, -1, -1, -1, -1, -1, -1, -1, -1, -1,\n         -1, -1, -1, -1, -1, -1, -1, -1, -1, -1],\n        [-1, -1, -1, -1, -1, -1, -1, -1, -1, -1, -1, -1, -1, -1, -1, -1, -1, -1,\n         -1, -1, -1, -1, -1, -1, -1, -1, -1, -1]], dtype=torch.int32)"
     },
     "metadata": {},
     "output_type": "display_data"
    },
    {
     "data": {
      "text/plain": "tensor([0, 0, 0, 0, 1, 1, 1, 0, 0, 1, 1, 1, 0, 0, 0, 0, 1, 1, 1, 0, 0, 0, 0, 1,\n        1, 1, 0, 0])"
     },
     "metadata": {},
     "output_type": "display_data"
    },
    {
     "data": {
      "text/plain": "tensor([ 0,  1,  2,  3,  4,  4,  4,  5,  6,  7,  7,  7,  8,  9, 10, 11, 12, 12,\n        12, 13, 14, 15, 16, 17, 17, 17, 18, 19])"
     },
     "metadata": {},
     "output_type": "display_data"
    },
    {
     "data": {
      "text/plain": "'Layer: 1'"
     },
     "metadata": {},
     "output_type": "display_data"
    },
    {
     "data": {
      "text/plain": "tensor([[ 0, -1,  2, -1, -1,  5, -1, -1,  8, -1, 10, -1, -1, 13, -1, 15, -1, -1,\n         18, -1],\n        [ 1, -1,  3, -1, -1,  6, -1, -1,  9, -1, 11, -1, -1, 14, -1, 16, -1, -1,\n         19, -1],\n        [-1, -1,  4, -1, -1,  7, -1, -1, -1, -1, 12, -1, -1, -1, -1, 17, -1, -1,\n         -1, -1]], dtype=torch.int32)"
     },
     "metadata": {},
     "output_type": "display_data"
    },
    {
     "data": {
      "text/plain": "tensor([3, 3, 3, 3, 3, 3, 3, 3, 3, 3, 3, 3, 3, 3, 3, 3, 3, 3, 3, 3])"
     },
     "metadata": {},
     "output_type": "display_data"
    },
    {
     "data": {
      "text/plain": "tensor([0, 0, 1, 1, 1, 2, 2, 2, 3, 3, 4, 4, 4, 5, 5, 6, 6, 6, 7, 7])"
     },
     "metadata": {},
     "output_type": "display_data"
    }
   ],
   "source": [
    "for idx, batch in enumerate(batch_list):\n",
    "    display(f\"Batch: {idx}\")\n",
    "    display(batch.ptree)\n",
    "    display(batch.initial_map)\n",
    "    for layer_idx in range(batch.num_layer):\n",
    "        display(f\"Layer: {layer_idx}\")\n",
    "        display(\n",
    "            batch[f\"layer{layer_idx}_order_matrix\"],\n",
    "            batch[f\"layer{layer_idx}_type_mask\"],\n",
    "            batch[f\"layer{layer_idx}_pooling\"]\n",
    "        )"
   ],
   "metadata": {
    "collapsed": false,
    "ExecuteTime": {
     "start_time": "2024-03-23T14:23:15.651962Z",
     "end_time": "2024-03-23T14:23:15.820584Z"
    }
   }
  },
  {
   "cell_type": "code",
   "execution_count": 13,
   "outputs": [
    {
     "data": {
      "text/plain": "array([[ True,  True,  True,  True],\n       [ True,  True,  True,  True],\n       [ True,  True,  True,  True],\n       [ True,  True,  True,  True]])"
     },
     "metadata": {},
     "output_type": "display_data"
    }
   ],
   "source": [
    "# compare output\n",
    "display(np.array(\n",
    "    [\n",
    "        [\n",
    "            (batch_list[i].x == batch_list[j].x).all()\n",
    "            for j in range(len(batch_list))\n",
    "        ]\n",
    "        for i in range(len(batch_list))\n",
    "    ]\n",
    "))"
   ],
   "metadata": {
    "collapsed": false,
    "ExecuteTime": {
     "start_time": "2024-03-23T14:23:15.698705Z",
     "end_time": "2024-03-23T14:23:15.867653Z"
    }
   }
  },
  {
   "cell_type": "markdown",
   "id": "b86ffd2b-ec5f-49bf-8ab7-86f384b6e0c6",
   "metadata": {},
   "source": [
    "## Put batches through model"
   ]
  },
  {
   "cell_type": "code",
   "execution_count": 14,
   "id": "ca6a5499-e4a0-43a8-8a09-9bfc1f9eb67d",
   "metadata": {
    "tags": [],
    "ExecuteTime": {
     "start_time": "2024-03-23T14:23:15.714114Z",
     "end_time": "2024-03-23T14:23:15.898241Z"
    }
   },
   "outputs": [],
   "source": [
    "out_list = [\n",
    "    model(batch)\n",
    "    for batch in batch_list\n",
    "]"
   ]
  },
  {
   "cell_type": "code",
   "execution_count": 15,
   "outputs": [
    {
     "data": {
      "text/plain": "[tensor([[-2.8054e-03, -1.0353e-01,  1.4862e-01,  4.8282e-02, -5.3588e-02,\n           6.5182e-02,  2.5675e-01,  3.8169e-02,  3.0738e-02,  8.9791e-02,\n           2.3581e-02, -3.5193e-02, -8.7633e-03,  1.3439e-01,  1.7682e-01,\n           9.9367e-02, -2.5466e-02, -2.4421e-01, -9.5512e-02, -7.2281e-02,\n           1.1519e-01,  3.3909e-01,  1.6885e-01,  8.1385e-02,  9.5498e-02,\n           1.5835e-01, -1.2520e-01, -1.1227e-01, -2.2769e-01,  5.4134e-02,\n           5.4943e-02, -2.9149e-02, -9.7116e-02,  1.2383e-01,  1.0220e-01,\n           1.2629e-01,  1.5137e-02, -1.0077e-01, -1.7068e-01, -1.6280e-01,\n          -8.8139e-02,  9.1917e-02,  2.5457e-02, -1.7959e-01,  9.9417e-02,\n          -4.6096e-02,  1.5935e-01,  1.5484e-01,  6.5409e-02,  1.0322e-02,\n          -2.4014e-02,  2.0436e-01,  1.2207e-01, -2.1212e-01,  1.3485e-02,\n          -1.7377e-02, -8.0368e-02, -1.9536e-01, -8.4683e-02,  1.3595e-01,\n           3.6067e-01,  1.0449e-01, -3.4834e-02, -2.1258e-01,  1.3331e-01,\n           1.7384e-01, -1.4212e-01,  3.4423e-02,  4.1422e-02,  1.2325e-01,\n           1.8072e-01, -9.3471e-02,  1.6368e-01,  1.5986e-01,  1.2664e-02,\n           1.7285e-01, -1.3583e-01,  1.2638e-01, -6.4921e-02, -4.5602e-02,\n           1.5868e-01,  3.1027e-01, -7.6506e-02,  1.4692e-01, -1.5722e-01,\n          -4.5404e-02, -6.1180e-02,  4.2271e-02, -1.0014e-01,  2.2450e-02,\n           6.1471e-02,  1.4767e-01, -3.5247e-02],\n         [-1.5465e-01, -8.0927e-02,  1.8045e-01,  1.0150e-01, -1.5771e-01,\n          -5.2760e-02,  2.5580e-01, -1.2422e-01, -9.7490e-02,  3.3652e-01,\n           7.4477e-03,  7.5532e-02, -6.2916e-03,  3.3318e-01,  1.7289e-01,\n          -1.0589e-01,  6.1593e-02,  2.4842e-01,  5.5230e-02, -1.5729e-01,\n           2.8999e-01,  1.4466e-01, -5.4292e-02, -2.2898e-01,  2.9402e-02,\n           9.5753e-02, -1.9229e-01, -2.0044e-02, -2.6674e-01, -1.7169e-01,\n           2.4230e-02,  1.2520e-01, -1.6832e-01,  1.6886e-02, -9.3274e-02,\n          -1.5988e-01,  2.1336e-01, -6.0610e-02,  1.9812e-01, -1.5540e-01,\n           1.2214e-01,  1.1821e-01, -1.9382e-01, -1.6645e-01,  1.9773e-01,\n          -8.6516e-02, -1.7991e-03, -8.4199e-02, -6.7696e-02, -5.4989e-02,\n          -3.0864e-02,  6.3137e-02,  8.8945e-02, -1.6816e-01,  7.8915e-02,\n          -7.7279e-02, -1.2151e-01, -3.0060e-01, -3.1766e-01,  1.1009e-01,\n           4.5854e-01,  4.0843e-02, -1.2112e-01, -1.8560e-01,  2.1181e-01,\n           6.3336e-03, -7.9357e-02,  1.8532e-01,  1.3568e-01,  4.7439e-02,\n           1.8514e-01, -1.6852e-01,  8.1696e-03,  1.8034e-01, -2.7130e-01,\n          -5.8917e-03, -2.3179e-01,  8.4325e-02, -1.3714e-01,  1.6105e-01,\n           2.8748e-01,  8.5068e-02,  1.0567e-01,  6.4189e-02, -1.4429e-01,\n           9.7977e-02,  9.1270e-02, -3.4804e-03, -6.7690e-02,  2.7776e-01,\n           1.4336e-01,  1.9890e-01,  1.0990e-01],\n         [-1.6789e-01, -6.8574e-02,  1.1210e-01,  9.6173e-02, -2.0405e-01,\n          -3.5598e-02,  1.5686e-01, -7.8246e-02, -1.7814e-01,  3.0637e-01,\n           7.2216e-02,  4.1542e-02, -2.3012e-02,  2.6335e-01,  1.4859e-01,\n          -7.1837e-02,  1.0700e-01,  2.1066e-01,  2.2712e-02, -1.4504e-01,\n           2.6182e-01,  1.4717e-01, -1.2096e-01, -2.1254e-01,  3.5048e-02,\n           5.8906e-02, -1.3786e-01,  8.4860e-02, -2.4791e-01, -1.4840e-01,\n           6.7678e-02,  1.1636e-01, -9.8970e-02, -1.6273e-02, -5.3335e-02,\n          -1.2839e-01,  1.3874e-01,  6.3942e-02,  2.0262e-01, -1.7310e-01,\n           9.1842e-02,  1.6316e-01, -1.1389e-01, -1.1635e-01,  2.8215e-01,\n           2.0063e-04,  4.8156e-02, -2.1184e-01, -4.6312e-03, -2.0664e-02,\n          -5.6448e-02, -7.5382e-02,  1.1630e-03, -1.0641e-01,  1.7533e-01,\n          -7.3125e-02, -1.6454e-01, -3.0561e-01, -2.9225e-01,  8.1373e-02,\n           3.5532e-01,  8.1291e-02, -8.5010e-02, -1.7365e-01,  2.2107e-01,\n          -1.8197e-02, -8.5583e-02,  1.8306e-01,  1.7777e-01, -2.9866e-02,\n           1.5994e-01, -1.7331e-01,  1.1413e-01,  7.7998e-02, -3.1837e-01,\n           1.4059e-02, -1.4947e-01,  5.2336e-02, -1.9237e-01,  2.5716e-01,\n           2.8169e-01,  9.7888e-02,  2.1309e-02, -3.1294e-02, -1.7070e-01,\n           1.5203e-01,  1.5999e-01,  2.2904e-02, -4.8545e-02,  2.9880e-01,\n           1.9224e-01,  1.9776e-01,  7.6991e-02],\n         [-2.4581e-02, -1.1636e-01,  1.6111e-01,  9.4822e-02, -2.8242e-03,\n          -9.0886e-03,  2.4415e-01,  4.9152e-02, -1.2138e-02,  1.2399e-01,\n           5.5299e-02, -5.2146e-02,  6.5031e-02,  8.1313e-02,  2.0640e-01,\n          -2.4088e-02,  5.5618e-03, -8.0443e-02, -5.7862e-02, -1.5697e-02,\n           7.0469e-02,  3.0209e-01,  1.5566e-01,  4.7889e-02,  1.6964e-03,\n           1.7213e-01, -1.5595e-01, -1.0339e-01, -1.6590e-01, -3.2232e-03,\n           1.0094e-01, -7.7000e-02, -4.5461e-02,  4.4919e-03,  1.7949e-03,\n           8.2649e-02, -7.2084e-02, -4.7029e-03, -1.8150e-01, -1.5664e-01,\n           1.1014e-02,  7.0564e-02, -3.3842e-02, -2.2772e-01, -1.2255e-02,\n          -1.0744e-01,  2.3093e-01,  1.3085e-01, -4.8052e-02, -1.0576e-01,\n           2.7007e-02,  2.2600e-01,  5.5237e-02, -1.3987e-01, -7.4549e-02,\n          -1.0337e-02, -1.3094e-02, -2.2180e-01, -6.9584e-02,  1.8424e-01,\n           4.7374e-01,  9.1527e-02, -3.9890e-02, -1.9968e-01,  2.5799e-02,\n           7.5636e-02, -1.2063e-01, -1.7384e-02, -1.0781e-02,  1.7565e-01,\n           1.3932e-01, -4.1151e-02,  1.7014e-01,  1.8903e-02, -4.6699e-02,\n           1.4274e-01, -1.8339e-01,  1.9732e-01, -1.1107e-01, -1.5383e-01,\n           1.8658e-01,  4.0087e-01, -2.2340e-01,  6.8009e-02, -6.0597e-02,\n          -2.1784e-02, -8.2576e-02,  5.9027e-02, -9.1396e-02, -3.0225e-02,\n          -2.0188e-04,  2.0543e-01,  9.1727e-02],\n         [-7.4558e-02, -9.3328e-02,  1.5139e-01,  8.8976e-02, -1.7095e-01,\n          -9.5536e-02,  1.3876e-01, -2.0997e-01, -1.2245e-01,  1.0624e-01,\n           1.4919e-01, -2.8695e-02,  3.8530e-02,  2.7270e-01,  2.9887e-01,\n          -5.1535e-02,  1.4271e-01,  1.1364e-01,  7.3391e-02, -3.3068e-02,\n           3.3633e-01,  1.0735e-01, -2.8465e-02, -2.0730e-01,  8.6502e-02,\n           1.3141e-01, -1.8426e-01, -6.9414e-02, -2.4466e-01, -1.6832e-01,\n           5.4263e-02,  1.3719e-01, -8.9637e-02, -1.0376e-01,  1.4034e-02,\n          -1.2764e-01,  1.2767e-01, -1.1866e-01,  1.0351e-01, -2.2100e-01,\n           1.5216e-01,  1.4261e-01, -1.7648e-01, -1.1831e-01,  7.9709e-02,\n           5.9753e-03,  1.7359e-02, -1.4888e-01, -8.5667e-02,  1.1137e-01,\n          -9.5775e-02, -1.9713e-02,  7.3188e-02, -2.4818e-01,  1.3668e-01,\n          -3.0359e-02, -1.5171e-01, -2.7079e-01, -3.0093e-01,  1.2219e-01,\n           3.1325e-01,  6.5725e-02, -6.3875e-02, -1.5414e-01,  1.6306e-01,\n           8.5636e-03, -6.2573e-02,  1.0480e-01,  2.3972e-01,  4.1194e-02,\n           8.4171e-02, -7.6146e-02,  9.2285e-02,  7.4522e-02, -3.1885e-01,\n           8.3742e-02, -2.0320e-01,  9.0311e-02, -2.2859e-01,  2.5441e-01,\n           3.1097e-01, -6.7329e-04, -4.9600e-02, -8.6022e-03, -2.0176e-01,\n           1.0010e-01,  2.4185e-02,  6.1670e-02,  6.7208e-03,  3.7061e-01,\n           2.3969e-01,  8.0684e-02,  1.3306e-01],\n         [-9.0578e-02, -1.2194e-01,  1.3180e-01,  1.8731e-01, -6.1101e-02,\n           4.8855e-02,  1.5294e-01,  1.0050e-02,  1.0484e-01,  8.1068e-02,\n          -5.1849e-02,  2.2599e-02,  6.8126e-02,  1.9565e-01,  2.4870e-01,\n          -4.8278e-03, -9.7329e-03, -1.2005e-01, -1.6716e-02, -3.9206e-02,\n           1.6161e-01,  2.1816e-01,  1.9871e-01,  4.3606e-02,  1.6677e-01,\n           1.2938e-01, -1.0283e-01, -1.0093e-01, -1.9865e-01,  1.8116e-02,\n          -5.7651e-02, -9.4677e-02,  1.9288e-02,  3.7688e-02,  1.1949e-01,\n           6.9399e-02, -3.0443e-02, -4.8059e-02, -1.4324e-01, -1.3495e-01,\n          -4.8989e-02,  8.3758e-02,  4.0504e-02, -1.5984e-01, -1.9561e-02,\n          -1.0813e-01,  2.1374e-01,  1.3624e-01,  1.5662e-02, -1.1997e-01,\n           2.7343e-02,  3.1653e-01,  9.8359e-02, -1.8481e-01, -6.8434e-02,\n          -6.4823e-02,  7.0443e-02, -1.3048e-01, -5.3898e-02,  2.2221e-01,\n           3.6150e-01, -8.3785e-03, -1.5220e-01, -1.7439e-01,  4.9949e-02,\n           8.2329e-02, -1.1454e-01, -4.7869e-02,  1.3419e-02,  1.4398e-01,\n           2.0054e-01, -1.0551e-01,  1.0780e-01,  6.4187e-02,  6.3725e-02,\n           5.0919e-02, -1.9423e-01,  2.3310e-01, -1.2625e-01,  1.8270e-02,\n           1.9689e-01,  3.4924e-01, -1.1911e-01,  8.7617e-02, -7.9562e-02,\n           3.5441e-02, -1.7868e-01,  1.5333e-02, -1.7570e-01,  6.6378e-02,\n          -3.7842e-02,  1.8291e-01, -1.3860e-03],\n         [-1.3427e-01, -1.4067e-01,  1.7334e-01,  1.8558e-01, -1.9629e-01,\n           5.5157e-02,  1.5865e-01, -1.1123e-01, -1.3737e-01,  3.2619e-01,\n          -1.5086e-02,  2.1729e-01,  1.4791e-01,  3.6318e-01,  2.6324e-01,\n          -6.9206e-03,  6.9168e-02,  1.2918e-01,  8.2473e-02, -1.8240e-01,\n           3.6260e-01,  3.0089e-01, -6.5475e-02, -2.2142e-01,  1.3645e-01,\n           4.9475e-02, -6.0947e-02,  1.9337e-01, -2.6105e-01, -6.0864e-02,\n          -1.0154e-01,  1.6461e-01,  8.5849e-03, -1.4341e-01,  1.1093e-01,\n          -1.3463e-01,  5.8796e-02,  6.4752e-02,  1.3022e-01, -1.6757e-01,\n           6.4641e-02,  4.6365e-02, -3.2035e-02, -1.3045e-01,  1.8060e-01,\n          -6.5568e-02,  1.1299e-01, -7.0371e-02,  3.6745e-02,  1.1054e-01,\n           4.4038e-02,  7.6904e-02,  7.1064e-03, -1.3287e-01,  1.6243e-01,\n          -5.9940e-02, -1.3131e-01, -2.1215e-01, -2.0758e-01,  3.4073e-02,\n           2.5737e-01,  2.1359e-02, -1.5063e-01, -2.0950e-01,  2.2635e-01,\n          -5.0142e-02, -1.1633e-01,  2.4346e-01,  1.3110e-01,  9.9234e-02,\n           1.6607e-01, -1.4130e-01,  1.3006e-01,  1.8706e-01, -1.9683e-01,\n          -1.3418e-02, -1.1175e-01,  6.3873e-02, -4.3213e-02,  3.4369e-01,\n           3.6773e-01,  5.0010e-02, -3.2557e-02,  9.0377e-02, -1.1841e-01,\n           1.9791e-01,  8.1042e-02,  9.3075e-02,  3.2128e-02,  2.6889e-01,\n           1.2309e-01,  1.1706e-01,  1.0879e-01],\n         [ 3.8011e-02, -1.3722e-01,  2.0604e-01,  2.0486e-01, -1.3175e-02,\n          -1.0156e-01,  2.3542e-01, -3.6178e-02,  9.0982e-02,  7.5425e-02,\n          -3.1477e-02, -9.2816e-04,  3.3770e-02,  1.0501e-01,  1.7697e-01,\n          -1.2056e-01,  5.7675e-02, -1.4045e-01, -3.0031e-02, -9.8579e-02,\n           7.3056e-02,  1.8760e-01,  1.8061e-01,  5.2100e-02,  7.9405e-02,\n           1.0644e-01, -7.6801e-02, -1.7775e-01, -1.7950e-01, -1.0418e-01,\n           2.4919e-02, -1.9144e-01,  4.2875e-02, -7.1636e-02,  1.7840e-01,\n           1.6821e-01,  2.7299e-02, -6.7219e-02, -9.5335e-02, -1.1450e-01,\n           1.3779e-03, -5.8520e-04, -1.6940e-03, -1.9859e-01, -1.1995e-01,\n          -1.9076e-02,  2.3841e-01,  3.0962e-01,  9.2927e-02, -1.1894e-01,\n           5.2513e-02, -8.5294e-03,  4.9870e-02, -1.0991e-01, -1.1815e-01,\n           2.1605e-02,  4.0062e-03, -1.5785e-01, -8.3377e-02,  2.5277e-01,\n           3.2649e-01,  1.8957e-04, -1.3653e-02, -5.5240e-02,  3.6195e-02,\n           1.0872e-01, -6.2571e-02, -7.5530e-02, -1.3396e-02,  2.6109e-02,\n           1.4243e-01, -1.3144e-01,  3.5208e-01,  1.7465e-01, -3.7798e-02,\n          -8.7357e-02, -1.8200e-01,  1.1464e-01, -1.2135e-01, -1.3955e-01,\n           2.6561e-01,  2.8866e-01, -1.5933e-01,  1.2739e-01, -1.0323e-01,\n          -4.9838e-02, -1.3554e-01, -1.5373e-02, -8.6839e-02, -5.5733e-02,\n           6.4806e-02,  1.6362e-01,  8.8037e-02]], grad_fn=<IndexPutBackward0>),\n tensor([[-2.8054e-03, -1.0353e-01,  1.4862e-01,  4.8282e-02, -5.3588e-02,\n           6.5182e-02,  2.5675e-01,  3.8169e-02,  3.0738e-02,  8.9791e-02,\n           2.3581e-02, -3.5193e-02, -8.7633e-03,  1.3439e-01,  1.7682e-01,\n           9.9367e-02, -2.5466e-02, -2.4421e-01, -9.5512e-02, -7.2281e-02,\n           1.1519e-01,  3.3909e-01,  1.6885e-01,  8.1385e-02,  9.5498e-02,\n           1.5835e-01, -1.2520e-01, -1.1227e-01, -2.2769e-01,  5.4134e-02,\n           5.4943e-02, -2.9149e-02, -9.7116e-02,  1.2383e-01,  1.0220e-01,\n           1.2629e-01,  1.5137e-02, -1.0077e-01, -1.7068e-01, -1.6280e-01,\n          -8.8139e-02,  9.1917e-02,  2.5457e-02, -1.7959e-01,  9.9417e-02,\n          -4.6096e-02,  1.5935e-01,  1.5484e-01,  6.5409e-02,  1.0322e-02,\n          -2.4014e-02,  2.0436e-01,  1.2207e-01, -2.1212e-01,  1.3485e-02,\n          -1.7377e-02, -8.0368e-02, -1.9536e-01, -8.4683e-02,  1.3595e-01,\n           3.6067e-01,  1.0449e-01, -3.4834e-02, -2.1258e-01,  1.3331e-01,\n           1.7384e-01, -1.4212e-01,  3.4423e-02,  4.1422e-02,  1.2325e-01,\n           1.8072e-01, -9.3471e-02,  1.6368e-01,  1.5986e-01,  1.2664e-02,\n           1.7285e-01, -1.3583e-01,  1.2638e-01, -6.4921e-02, -4.5602e-02,\n           1.5868e-01,  3.1027e-01, -7.6506e-02,  1.4692e-01, -1.5722e-01,\n          -4.5404e-02, -6.1180e-02,  4.2271e-02, -1.0014e-01,  2.2450e-02,\n           6.1471e-02,  1.4767e-01, -3.5247e-02],\n         [-1.5465e-01, -8.0927e-02,  1.8045e-01,  1.0150e-01, -1.5771e-01,\n          -5.2760e-02,  2.5580e-01, -1.2422e-01, -9.7490e-02,  3.3652e-01,\n           7.4477e-03,  7.5532e-02, -6.2916e-03,  3.3318e-01,  1.7289e-01,\n          -1.0589e-01,  6.1593e-02,  2.4842e-01,  5.5230e-02, -1.5729e-01,\n           2.8999e-01,  1.4466e-01, -5.4292e-02, -2.2898e-01,  2.9402e-02,\n           9.5753e-02, -1.9229e-01, -2.0044e-02, -2.6674e-01, -1.7169e-01,\n           2.4230e-02,  1.2520e-01, -1.6832e-01,  1.6886e-02, -9.3274e-02,\n          -1.5988e-01,  2.1336e-01, -6.0610e-02,  1.9812e-01, -1.5540e-01,\n           1.2214e-01,  1.1821e-01, -1.9382e-01, -1.6645e-01,  1.9773e-01,\n          -8.6516e-02, -1.7991e-03, -8.4199e-02, -6.7696e-02, -5.4989e-02,\n          -3.0864e-02,  6.3137e-02,  8.8945e-02, -1.6816e-01,  7.8915e-02,\n          -7.7279e-02, -1.2151e-01, -3.0060e-01, -3.1766e-01,  1.1009e-01,\n           4.5854e-01,  4.0843e-02, -1.2112e-01, -1.8560e-01,  2.1181e-01,\n           6.3336e-03, -7.9357e-02,  1.8532e-01,  1.3568e-01,  4.7439e-02,\n           1.8514e-01, -1.6852e-01,  8.1696e-03,  1.8034e-01, -2.7130e-01,\n          -5.8917e-03, -2.3179e-01,  8.4325e-02, -1.3714e-01,  1.6105e-01,\n           2.8748e-01,  8.5068e-02,  1.0567e-01,  6.4189e-02, -1.4429e-01,\n           9.7977e-02,  9.1270e-02, -3.4804e-03, -6.7690e-02,  2.7776e-01,\n           1.4336e-01,  1.9890e-01,  1.0990e-01],\n         [-1.6789e-01, -6.8574e-02,  1.1210e-01,  9.6173e-02, -2.0405e-01,\n          -3.5598e-02,  1.5686e-01, -7.8246e-02, -1.7814e-01,  3.0637e-01,\n           7.2216e-02,  4.1542e-02, -2.3012e-02,  2.6335e-01,  1.4859e-01,\n          -7.1837e-02,  1.0700e-01,  2.1066e-01,  2.2712e-02, -1.4504e-01,\n           2.6182e-01,  1.4717e-01, -1.2096e-01, -2.1254e-01,  3.5048e-02,\n           5.8906e-02, -1.3786e-01,  8.4860e-02, -2.4791e-01, -1.4840e-01,\n           6.7678e-02,  1.1636e-01, -9.8970e-02, -1.6273e-02, -5.3335e-02,\n          -1.2839e-01,  1.3874e-01,  6.3942e-02,  2.0262e-01, -1.7310e-01,\n           9.1842e-02,  1.6316e-01, -1.1389e-01, -1.1635e-01,  2.8215e-01,\n           2.0063e-04,  4.8156e-02, -2.1184e-01, -4.6312e-03, -2.0664e-02,\n          -5.6448e-02, -7.5382e-02,  1.1630e-03, -1.0641e-01,  1.7533e-01,\n          -7.3125e-02, -1.6454e-01, -3.0561e-01, -2.9225e-01,  8.1373e-02,\n           3.5532e-01,  8.1291e-02, -8.5010e-02, -1.7365e-01,  2.2107e-01,\n          -1.8197e-02, -8.5583e-02,  1.8306e-01,  1.7777e-01, -2.9866e-02,\n           1.5994e-01, -1.7331e-01,  1.1413e-01,  7.7998e-02, -3.1837e-01,\n           1.4059e-02, -1.4947e-01,  5.2336e-02, -1.9237e-01,  2.5716e-01,\n           2.8169e-01,  9.7888e-02,  2.1309e-02, -3.1294e-02, -1.7070e-01,\n           1.5203e-01,  1.5999e-01,  2.2904e-02, -4.8545e-02,  2.9880e-01,\n           1.9224e-01,  1.9776e-01,  7.6991e-02],\n         [-2.4581e-02, -1.1636e-01,  1.6111e-01,  9.4822e-02, -2.8242e-03,\n          -9.0886e-03,  2.4415e-01,  4.9152e-02, -1.2138e-02,  1.2399e-01,\n           5.5299e-02, -5.2146e-02,  6.5031e-02,  8.1313e-02,  2.0640e-01,\n          -2.4088e-02,  5.5618e-03, -8.0443e-02, -5.7862e-02, -1.5697e-02,\n           7.0469e-02,  3.0209e-01,  1.5566e-01,  4.7889e-02,  1.6964e-03,\n           1.7213e-01, -1.5595e-01, -1.0339e-01, -1.6590e-01, -3.2232e-03,\n           1.0094e-01, -7.7000e-02, -4.5461e-02,  4.4919e-03,  1.7949e-03,\n           8.2649e-02, -7.2084e-02, -4.7029e-03, -1.8150e-01, -1.5664e-01,\n           1.1014e-02,  7.0564e-02, -3.3842e-02, -2.2772e-01, -1.2255e-02,\n          -1.0744e-01,  2.3093e-01,  1.3085e-01, -4.8052e-02, -1.0576e-01,\n           2.7007e-02,  2.2600e-01,  5.5237e-02, -1.3987e-01, -7.4549e-02,\n          -1.0337e-02, -1.3094e-02, -2.2180e-01, -6.9584e-02,  1.8424e-01,\n           4.7374e-01,  9.1527e-02, -3.9890e-02, -1.9968e-01,  2.5799e-02,\n           7.5636e-02, -1.2063e-01, -1.7384e-02, -1.0781e-02,  1.7565e-01,\n           1.3932e-01, -4.1151e-02,  1.7014e-01,  1.8903e-02, -4.6699e-02,\n           1.4274e-01, -1.8339e-01,  1.9732e-01, -1.1107e-01, -1.5383e-01,\n           1.8658e-01,  4.0087e-01, -2.2340e-01,  6.8009e-02, -6.0597e-02,\n          -2.1784e-02, -8.2576e-02,  5.9027e-02, -9.1396e-02, -3.0225e-02,\n          -2.0188e-04,  2.0543e-01,  9.1727e-02],\n         [-7.4558e-02, -9.3328e-02,  1.5139e-01,  8.8976e-02, -1.7095e-01,\n          -9.5536e-02,  1.3876e-01, -2.0997e-01, -1.2245e-01,  1.0624e-01,\n           1.4919e-01, -2.8695e-02,  3.8530e-02,  2.7270e-01,  2.9887e-01,\n          -5.1535e-02,  1.4271e-01,  1.1364e-01,  7.3391e-02, -3.3068e-02,\n           3.3633e-01,  1.0735e-01, -2.8465e-02, -2.0730e-01,  8.6502e-02,\n           1.3141e-01, -1.8426e-01, -6.9414e-02, -2.4466e-01, -1.6832e-01,\n           5.4263e-02,  1.3719e-01, -8.9637e-02, -1.0376e-01,  1.4034e-02,\n          -1.2764e-01,  1.2767e-01, -1.1866e-01,  1.0351e-01, -2.2100e-01,\n           1.5216e-01,  1.4261e-01, -1.7648e-01, -1.1831e-01,  7.9709e-02,\n           5.9753e-03,  1.7359e-02, -1.4888e-01, -8.5667e-02,  1.1137e-01,\n          -9.5775e-02, -1.9713e-02,  7.3188e-02, -2.4818e-01,  1.3668e-01,\n          -3.0359e-02, -1.5171e-01, -2.7079e-01, -3.0093e-01,  1.2219e-01,\n           3.1325e-01,  6.5725e-02, -6.3875e-02, -1.5414e-01,  1.6306e-01,\n           8.5636e-03, -6.2573e-02,  1.0480e-01,  2.3972e-01,  4.1194e-02,\n           8.4171e-02, -7.6146e-02,  9.2285e-02,  7.4522e-02, -3.1885e-01,\n           8.3742e-02, -2.0320e-01,  9.0311e-02, -2.2859e-01,  2.5441e-01,\n           3.1097e-01, -6.7329e-04, -4.9600e-02, -8.6022e-03, -2.0176e-01,\n           1.0010e-01,  2.4185e-02,  6.1670e-02,  6.7208e-03,  3.7061e-01,\n           2.3969e-01,  8.0684e-02,  1.3306e-01],\n         [-9.0578e-02, -1.2194e-01,  1.3180e-01,  1.8731e-01, -6.1101e-02,\n           4.8855e-02,  1.5294e-01,  1.0050e-02,  1.0484e-01,  8.1068e-02,\n          -5.1849e-02,  2.2599e-02,  6.8126e-02,  1.9565e-01,  2.4870e-01,\n          -4.8278e-03, -9.7329e-03, -1.2005e-01, -1.6716e-02, -3.9206e-02,\n           1.6161e-01,  2.1816e-01,  1.9871e-01,  4.3606e-02,  1.6677e-01,\n           1.2938e-01, -1.0283e-01, -1.0093e-01, -1.9865e-01,  1.8116e-02,\n          -5.7651e-02, -9.4677e-02,  1.9288e-02,  3.7688e-02,  1.1949e-01,\n           6.9399e-02, -3.0443e-02, -4.8059e-02, -1.4324e-01, -1.3495e-01,\n          -4.8989e-02,  8.3758e-02,  4.0504e-02, -1.5984e-01, -1.9561e-02,\n          -1.0813e-01,  2.1374e-01,  1.3624e-01,  1.5662e-02, -1.1997e-01,\n           2.7343e-02,  3.1653e-01,  9.8359e-02, -1.8481e-01, -6.8434e-02,\n          -6.4823e-02,  7.0443e-02, -1.3048e-01, -5.3898e-02,  2.2221e-01,\n           3.6150e-01, -8.3785e-03, -1.5220e-01, -1.7439e-01,  4.9949e-02,\n           8.2329e-02, -1.1454e-01, -4.7869e-02,  1.3419e-02,  1.4398e-01,\n           2.0054e-01, -1.0551e-01,  1.0780e-01,  6.4187e-02,  6.3725e-02,\n           5.0919e-02, -1.9423e-01,  2.3310e-01, -1.2625e-01,  1.8270e-02,\n           1.9689e-01,  3.4924e-01, -1.1911e-01,  8.7617e-02, -7.9562e-02,\n           3.5441e-02, -1.7868e-01,  1.5333e-02, -1.7570e-01,  6.6378e-02,\n          -3.7842e-02,  1.8291e-01, -1.3860e-03],\n         [-1.3427e-01, -1.4067e-01,  1.7334e-01,  1.8558e-01, -1.9629e-01,\n           5.5157e-02,  1.5865e-01, -1.1123e-01, -1.3737e-01,  3.2619e-01,\n          -1.5086e-02,  2.1729e-01,  1.4791e-01,  3.6318e-01,  2.6324e-01,\n          -6.9206e-03,  6.9168e-02,  1.2918e-01,  8.2473e-02, -1.8240e-01,\n           3.6260e-01,  3.0089e-01, -6.5475e-02, -2.2142e-01,  1.3645e-01,\n           4.9475e-02, -6.0947e-02,  1.9337e-01, -2.6105e-01, -6.0864e-02,\n          -1.0154e-01,  1.6461e-01,  8.5849e-03, -1.4341e-01,  1.1093e-01,\n          -1.3463e-01,  5.8796e-02,  6.4752e-02,  1.3022e-01, -1.6757e-01,\n           6.4641e-02,  4.6365e-02, -3.2035e-02, -1.3045e-01,  1.8060e-01,\n          -6.5568e-02,  1.1299e-01, -7.0371e-02,  3.6745e-02,  1.1054e-01,\n           4.4038e-02,  7.6904e-02,  7.1064e-03, -1.3287e-01,  1.6243e-01,\n          -5.9940e-02, -1.3131e-01, -2.1215e-01, -2.0758e-01,  3.4073e-02,\n           2.5737e-01,  2.1359e-02, -1.5063e-01, -2.0950e-01,  2.2635e-01,\n          -5.0142e-02, -1.1633e-01,  2.4346e-01,  1.3110e-01,  9.9234e-02,\n           1.6607e-01, -1.4130e-01,  1.3006e-01,  1.8706e-01, -1.9683e-01,\n          -1.3418e-02, -1.1175e-01,  6.3873e-02, -4.3213e-02,  3.4369e-01,\n           3.6773e-01,  5.0010e-02, -3.2557e-02,  9.0377e-02, -1.1841e-01,\n           1.9791e-01,  8.1042e-02,  9.3075e-02,  3.2128e-02,  2.6889e-01,\n           1.2309e-01,  1.1706e-01,  1.0879e-01],\n         [ 3.8011e-02, -1.3722e-01,  2.0604e-01,  2.0486e-01, -1.3175e-02,\n          -1.0156e-01,  2.3542e-01, -3.6178e-02,  9.0982e-02,  7.5425e-02,\n          -3.1477e-02, -9.2816e-04,  3.3770e-02,  1.0501e-01,  1.7697e-01,\n          -1.2056e-01,  5.7675e-02, -1.4045e-01, -3.0031e-02, -9.8579e-02,\n           7.3056e-02,  1.8760e-01,  1.8061e-01,  5.2100e-02,  7.9405e-02,\n           1.0644e-01, -7.6801e-02, -1.7775e-01, -1.7950e-01, -1.0418e-01,\n           2.4919e-02, -1.9144e-01,  4.2875e-02, -7.1636e-02,  1.7840e-01,\n           1.6821e-01,  2.7299e-02, -6.7219e-02, -9.5335e-02, -1.1450e-01,\n           1.3779e-03, -5.8520e-04, -1.6940e-03, -1.9859e-01, -1.1995e-01,\n          -1.9076e-02,  2.3841e-01,  3.0962e-01,  9.2927e-02, -1.1894e-01,\n           5.2513e-02, -8.5294e-03,  4.9870e-02, -1.0991e-01, -1.1815e-01,\n           2.1605e-02,  4.0062e-03, -1.5785e-01, -8.3377e-02,  2.5277e-01,\n           3.2649e-01,  1.8957e-04, -1.3653e-02, -5.5240e-02,  3.6195e-02,\n           1.0872e-01, -6.2571e-02, -7.5530e-02, -1.3396e-02,  2.6109e-02,\n           1.4243e-01, -1.3144e-01,  3.5208e-01,  1.7465e-01, -3.7798e-02,\n          -8.7357e-02, -1.8200e-01,  1.1464e-01, -1.2135e-01, -1.3955e-01,\n           2.6561e-01,  2.8866e-01, -1.5933e-01,  1.2739e-01, -1.0323e-01,\n          -4.9838e-02, -1.3554e-01, -1.5373e-02, -8.6839e-02, -5.5733e-02,\n           6.4806e-02,  1.6362e-01,  8.8037e-02]], grad_fn=<IndexPutBackward0>),\n tensor([[-2.8054e-03, -1.0353e-01,  1.4862e-01,  4.8282e-02, -5.3588e-02,\n           6.5182e-02,  2.5675e-01,  3.8169e-02,  3.0738e-02,  8.9791e-02,\n           2.3581e-02, -3.5193e-02, -8.7633e-03,  1.3439e-01,  1.7682e-01,\n           9.9367e-02, -2.5466e-02, -2.4421e-01, -9.5512e-02, -7.2281e-02,\n           1.1519e-01,  3.3909e-01,  1.6885e-01,  8.1385e-02,  9.5498e-02,\n           1.5835e-01, -1.2520e-01, -1.1227e-01, -2.2769e-01,  5.4134e-02,\n           5.4943e-02, -2.9149e-02, -9.7116e-02,  1.2383e-01,  1.0220e-01,\n           1.2629e-01,  1.5137e-02, -1.0077e-01, -1.7068e-01, -1.6280e-01,\n          -8.8139e-02,  9.1917e-02,  2.5457e-02, -1.7959e-01,  9.9417e-02,\n          -4.6096e-02,  1.5935e-01,  1.5484e-01,  6.5409e-02,  1.0322e-02,\n          -2.4014e-02,  2.0436e-01,  1.2207e-01, -2.1212e-01,  1.3485e-02,\n          -1.7377e-02, -8.0368e-02, -1.9536e-01, -8.4683e-02,  1.3595e-01,\n           3.6067e-01,  1.0449e-01, -3.4834e-02, -2.1258e-01,  1.3331e-01,\n           1.7384e-01, -1.4212e-01,  3.4423e-02,  4.1422e-02,  1.2325e-01,\n           1.8072e-01, -9.3471e-02,  1.6368e-01,  1.5986e-01,  1.2664e-02,\n           1.7285e-01, -1.3583e-01,  1.2638e-01, -6.4921e-02, -4.5602e-02,\n           1.5868e-01,  3.1027e-01, -7.6506e-02,  1.4692e-01, -1.5722e-01,\n          -4.5404e-02, -6.1180e-02,  4.2271e-02, -1.0014e-01,  2.2450e-02,\n           6.1471e-02,  1.4767e-01, -3.5247e-02],\n         [-1.5465e-01, -8.0927e-02,  1.8045e-01,  1.0150e-01, -1.5771e-01,\n          -5.2760e-02,  2.5580e-01, -1.2422e-01, -9.7490e-02,  3.3652e-01,\n           7.4477e-03,  7.5532e-02, -6.2916e-03,  3.3318e-01,  1.7289e-01,\n          -1.0589e-01,  6.1593e-02,  2.4842e-01,  5.5230e-02, -1.5729e-01,\n           2.8999e-01,  1.4466e-01, -5.4292e-02, -2.2898e-01,  2.9402e-02,\n           9.5753e-02, -1.9229e-01, -2.0044e-02, -2.6674e-01, -1.7169e-01,\n           2.4230e-02,  1.2520e-01, -1.6832e-01,  1.6886e-02, -9.3274e-02,\n          -1.5988e-01,  2.1336e-01, -6.0610e-02,  1.9812e-01, -1.5540e-01,\n           1.2214e-01,  1.1821e-01, -1.9382e-01, -1.6645e-01,  1.9773e-01,\n          -8.6516e-02, -1.7991e-03, -8.4199e-02, -6.7696e-02, -5.4989e-02,\n          -3.0864e-02,  6.3137e-02,  8.8945e-02, -1.6816e-01,  7.8915e-02,\n          -7.7279e-02, -1.2151e-01, -3.0060e-01, -3.1766e-01,  1.1009e-01,\n           4.5854e-01,  4.0843e-02, -1.2112e-01, -1.8560e-01,  2.1181e-01,\n           6.3336e-03, -7.9357e-02,  1.8532e-01,  1.3568e-01,  4.7439e-02,\n           1.8514e-01, -1.6852e-01,  8.1696e-03,  1.8034e-01, -2.7130e-01,\n          -5.8917e-03, -2.3179e-01,  8.4325e-02, -1.3714e-01,  1.6105e-01,\n           2.8748e-01,  8.5068e-02,  1.0567e-01,  6.4189e-02, -1.4429e-01,\n           9.7977e-02,  9.1270e-02, -3.4804e-03, -6.7690e-02,  2.7776e-01,\n           1.4336e-01,  1.9890e-01,  1.0990e-01],\n         [-1.6789e-01, -6.8574e-02,  1.1210e-01,  9.6173e-02, -2.0405e-01,\n          -3.5598e-02,  1.5686e-01, -7.8246e-02, -1.7814e-01,  3.0637e-01,\n           7.2216e-02,  4.1542e-02, -2.3012e-02,  2.6335e-01,  1.4859e-01,\n          -7.1837e-02,  1.0700e-01,  2.1066e-01,  2.2712e-02, -1.4504e-01,\n           2.6182e-01,  1.4717e-01, -1.2096e-01, -2.1254e-01,  3.5048e-02,\n           5.8906e-02, -1.3786e-01,  8.4860e-02, -2.4791e-01, -1.4840e-01,\n           6.7678e-02,  1.1636e-01, -9.8970e-02, -1.6273e-02, -5.3335e-02,\n          -1.2839e-01,  1.3874e-01,  6.3942e-02,  2.0262e-01, -1.7310e-01,\n           9.1842e-02,  1.6316e-01, -1.1389e-01, -1.1635e-01,  2.8215e-01,\n           2.0063e-04,  4.8156e-02, -2.1184e-01, -4.6312e-03, -2.0664e-02,\n          -5.6448e-02, -7.5382e-02,  1.1630e-03, -1.0641e-01,  1.7533e-01,\n          -7.3125e-02, -1.6454e-01, -3.0561e-01, -2.9225e-01,  8.1373e-02,\n           3.5532e-01,  8.1291e-02, -8.5010e-02, -1.7365e-01,  2.2107e-01,\n          -1.8197e-02, -8.5583e-02,  1.8306e-01,  1.7777e-01, -2.9866e-02,\n           1.5994e-01, -1.7331e-01,  1.1413e-01,  7.7998e-02, -3.1837e-01,\n           1.4059e-02, -1.4947e-01,  5.2336e-02, -1.9237e-01,  2.5716e-01,\n           2.8169e-01,  9.7888e-02,  2.1309e-02, -3.1294e-02, -1.7070e-01,\n           1.5203e-01,  1.5999e-01,  2.2904e-02, -4.8545e-02,  2.9880e-01,\n           1.9224e-01,  1.9776e-01,  7.6991e-02],\n         [-2.4581e-02, -1.1636e-01,  1.6111e-01,  9.4822e-02, -2.8242e-03,\n          -9.0886e-03,  2.4415e-01,  4.9152e-02, -1.2138e-02,  1.2399e-01,\n           5.5299e-02, -5.2146e-02,  6.5031e-02,  8.1313e-02,  2.0640e-01,\n          -2.4088e-02,  5.5618e-03, -8.0443e-02, -5.7862e-02, -1.5697e-02,\n           7.0469e-02,  3.0209e-01,  1.5566e-01,  4.7889e-02,  1.6964e-03,\n           1.7213e-01, -1.5595e-01, -1.0339e-01, -1.6590e-01, -3.2232e-03,\n           1.0094e-01, -7.7000e-02, -4.5461e-02,  4.4919e-03,  1.7949e-03,\n           8.2649e-02, -7.2084e-02, -4.7029e-03, -1.8150e-01, -1.5664e-01,\n           1.1014e-02,  7.0564e-02, -3.3842e-02, -2.2772e-01, -1.2255e-02,\n          -1.0744e-01,  2.3093e-01,  1.3085e-01, -4.8052e-02, -1.0576e-01,\n           2.7007e-02,  2.2600e-01,  5.5237e-02, -1.3987e-01, -7.4549e-02,\n          -1.0337e-02, -1.3094e-02, -2.2180e-01, -6.9584e-02,  1.8424e-01,\n           4.7374e-01,  9.1527e-02, -3.9890e-02, -1.9968e-01,  2.5799e-02,\n           7.5636e-02, -1.2063e-01, -1.7384e-02, -1.0781e-02,  1.7565e-01,\n           1.3932e-01, -4.1151e-02,  1.7014e-01,  1.8903e-02, -4.6699e-02,\n           1.4274e-01, -1.8339e-01,  1.9732e-01, -1.1107e-01, -1.5383e-01,\n           1.8658e-01,  4.0087e-01, -2.2340e-01,  6.8009e-02, -6.0597e-02,\n          -2.1784e-02, -8.2576e-02,  5.9027e-02, -9.1396e-02, -3.0225e-02,\n          -2.0188e-04,  2.0543e-01,  9.1727e-02],\n         [-7.4558e-02, -9.3328e-02,  1.5139e-01,  8.8976e-02, -1.7095e-01,\n          -9.5536e-02,  1.3876e-01, -2.0997e-01, -1.2245e-01,  1.0624e-01,\n           1.4919e-01, -2.8695e-02,  3.8530e-02,  2.7270e-01,  2.9887e-01,\n          -5.1535e-02,  1.4271e-01,  1.1364e-01,  7.3391e-02, -3.3068e-02,\n           3.3633e-01,  1.0735e-01, -2.8465e-02, -2.0730e-01,  8.6502e-02,\n           1.3141e-01, -1.8426e-01, -6.9414e-02, -2.4466e-01, -1.6832e-01,\n           5.4263e-02,  1.3719e-01, -8.9637e-02, -1.0376e-01,  1.4034e-02,\n          -1.2764e-01,  1.2767e-01, -1.1866e-01,  1.0351e-01, -2.2100e-01,\n           1.5216e-01,  1.4261e-01, -1.7648e-01, -1.1831e-01,  7.9709e-02,\n           5.9753e-03,  1.7359e-02, -1.4888e-01, -8.5667e-02,  1.1137e-01,\n          -9.5775e-02, -1.9713e-02,  7.3188e-02, -2.4818e-01,  1.3668e-01,\n          -3.0359e-02, -1.5171e-01, -2.7079e-01, -3.0093e-01,  1.2219e-01,\n           3.1325e-01,  6.5725e-02, -6.3875e-02, -1.5414e-01,  1.6306e-01,\n           8.5636e-03, -6.2573e-02,  1.0480e-01,  2.3972e-01,  4.1194e-02,\n           8.4171e-02, -7.6146e-02,  9.2285e-02,  7.4522e-02, -3.1885e-01,\n           8.3742e-02, -2.0320e-01,  9.0311e-02, -2.2859e-01,  2.5441e-01,\n           3.1097e-01, -6.7329e-04, -4.9600e-02, -8.6022e-03, -2.0176e-01,\n           1.0010e-01,  2.4185e-02,  6.1670e-02,  6.7208e-03,  3.7061e-01,\n           2.3969e-01,  8.0684e-02,  1.3306e-01],\n         [-9.0578e-02, -1.2194e-01,  1.3180e-01,  1.8731e-01, -6.1101e-02,\n           4.8855e-02,  1.5294e-01,  1.0050e-02,  1.0484e-01,  8.1068e-02,\n          -5.1849e-02,  2.2599e-02,  6.8126e-02,  1.9565e-01,  2.4870e-01,\n          -4.8278e-03, -9.7329e-03, -1.2005e-01, -1.6716e-02, -3.9206e-02,\n           1.6161e-01,  2.1816e-01,  1.9871e-01,  4.3606e-02,  1.6677e-01,\n           1.2938e-01, -1.0283e-01, -1.0093e-01, -1.9865e-01,  1.8116e-02,\n          -5.7651e-02, -9.4677e-02,  1.9288e-02,  3.7688e-02,  1.1949e-01,\n           6.9399e-02, -3.0443e-02, -4.8059e-02, -1.4324e-01, -1.3495e-01,\n          -4.8989e-02,  8.3758e-02,  4.0504e-02, -1.5984e-01, -1.9561e-02,\n          -1.0813e-01,  2.1374e-01,  1.3624e-01,  1.5662e-02, -1.1997e-01,\n           2.7343e-02,  3.1653e-01,  9.8359e-02, -1.8481e-01, -6.8434e-02,\n          -6.4823e-02,  7.0443e-02, -1.3048e-01, -5.3898e-02,  2.2221e-01,\n           3.6150e-01, -8.3785e-03, -1.5220e-01, -1.7439e-01,  4.9949e-02,\n           8.2329e-02, -1.1454e-01, -4.7869e-02,  1.3419e-02,  1.4398e-01,\n           2.0054e-01, -1.0551e-01,  1.0780e-01,  6.4187e-02,  6.3725e-02,\n           5.0919e-02, -1.9423e-01,  2.3310e-01, -1.2625e-01,  1.8270e-02,\n           1.9689e-01,  3.4924e-01, -1.1911e-01,  8.7617e-02, -7.9562e-02,\n           3.5441e-02, -1.7868e-01,  1.5333e-02, -1.7570e-01,  6.6378e-02,\n          -3.7842e-02,  1.8291e-01, -1.3860e-03],\n         [-1.3427e-01, -1.4067e-01,  1.7334e-01,  1.8558e-01, -1.9629e-01,\n           5.5157e-02,  1.5865e-01, -1.1123e-01, -1.3737e-01,  3.2619e-01,\n          -1.5086e-02,  2.1729e-01,  1.4791e-01,  3.6318e-01,  2.6324e-01,\n          -6.9206e-03,  6.9168e-02,  1.2918e-01,  8.2473e-02, -1.8240e-01,\n           3.6260e-01,  3.0089e-01, -6.5475e-02, -2.2142e-01,  1.3645e-01,\n           4.9475e-02, -6.0947e-02,  1.9337e-01, -2.6105e-01, -6.0864e-02,\n          -1.0154e-01,  1.6461e-01,  8.5849e-03, -1.4341e-01,  1.1093e-01,\n          -1.3463e-01,  5.8796e-02,  6.4752e-02,  1.3022e-01, -1.6757e-01,\n           6.4641e-02,  4.6365e-02, -3.2035e-02, -1.3045e-01,  1.8060e-01,\n          -6.5568e-02,  1.1299e-01, -7.0371e-02,  3.6745e-02,  1.1054e-01,\n           4.4038e-02,  7.6904e-02,  7.1064e-03, -1.3287e-01,  1.6243e-01,\n          -5.9940e-02, -1.3131e-01, -2.1215e-01, -2.0758e-01,  3.4073e-02,\n           2.5737e-01,  2.1359e-02, -1.5063e-01, -2.0950e-01,  2.2635e-01,\n          -5.0142e-02, -1.1633e-01,  2.4346e-01,  1.3110e-01,  9.9234e-02,\n           1.6607e-01, -1.4130e-01,  1.3006e-01,  1.8706e-01, -1.9683e-01,\n          -1.3418e-02, -1.1175e-01,  6.3873e-02, -4.3213e-02,  3.4369e-01,\n           3.6773e-01,  5.0010e-02, -3.2557e-02,  9.0377e-02, -1.1841e-01,\n           1.9791e-01,  8.1042e-02,  9.3075e-02,  3.2128e-02,  2.6889e-01,\n           1.2309e-01,  1.1706e-01,  1.0879e-01],\n         [ 3.8011e-02, -1.3722e-01,  2.0604e-01,  2.0486e-01, -1.3175e-02,\n          -1.0156e-01,  2.3542e-01, -3.6178e-02,  9.0982e-02,  7.5425e-02,\n          -3.1477e-02, -9.2816e-04,  3.3770e-02,  1.0501e-01,  1.7697e-01,\n          -1.2056e-01,  5.7675e-02, -1.4045e-01, -3.0031e-02, -9.8579e-02,\n           7.3056e-02,  1.8760e-01,  1.8061e-01,  5.2100e-02,  7.9405e-02,\n           1.0644e-01, -7.6801e-02, -1.7775e-01, -1.7950e-01, -1.0418e-01,\n           2.4919e-02, -1.9144e-01,  4.2875e-02, -7.1636e-02,  1.7840e-01,\n           1.6821e-01,  2.7299e-02, -6.7219e-02, -9.5335e-02, -1.1450e-01,\n           1.3779e-03, -5.8520e-04, -1.6940e-03, -1.9859e-01, -1.1995e-01,\n          -1.9076e-02,  2.3841e-01,  3.0962e-01,  9.2927e-02, -1.1894e-01,\n           5.2513e-02, -8.5294e-03,  4.9870e-02, -1.0991e-01, -1.1815e-01,\n           2.1605e-02,  4.0062e-03, -1.5785e-01, -8.3377e-02,  2.5277e-01,\n           3.2649e-01,  1.8957e-04, -1.3653e-02, -5.5240e-02,  3.6195e-02,\n           1.0872e-01, -6.2571e-02, -7.5530e-02, -1.3396e-02,  2.6109e-02,\n           1.4243e-01, -1.3144e-01,  3.5208e-01,  1.7465e-01, -3.7798e-02,\n          -8.7357e-02, -1.8200e-01,  1.1464e-01, -1.2135e-01, -1.3955e-01,\n           2.6561e-01,  2.8866e-01, -1.5933e-01,  1.2739e-01, -1.0323e-01,\n          -4.9838e-02, -1.3554e-01, -1.5373e-02, -8.6839e-02, -5.5733e-02,\n           6.4806e-02,  1.6362e-01,  8.8037e-02]], grad_fn=<IndexPutBackward0>),\n tensor([[-2.8054e-03, -1.0353e-01,  1.4862e-01,  4.8282e-02, -5.3588e-02,\n           6.5182e-02,  2.5675e-01,  3.8169e-02,  3.0738e-02,  8.9791e-02,\n           2.3581e-02, -3.5193e-02, -8.7633e-03,  1.3439e-01,  1.7682e-01,\n           9.9367e-02, -2.5466e-02, -2.4421e-01, -9.5512e-02, -7.2281e-02,\n           1.1519e-01,  3.3909e-01,  1.6885e-01,  8.1385e-02,  9.5498e-02,\n           1.5835e-01, -1.2520e-01, -1.1227e-01, -2.2769e-01,  5.4134e-02,\n           5.4943e-02, -2.9149e-02, -9.7116e-02,  1.2383e-01,  1.0220e-01,\n           1.2629e-01,  1.5137e-02, -1.0077e-01, -1.7068e-01, -1.6280e-01,\n          -8.8139e-02,  9.1917e-02,  2.5457e-02, -1.7959e-01,  9.9417e-02,\n          -4.6096e-02,  1.5935e-01,  1.5484e-01,  6.5409e-02,  1.0322e-02,\n          -2.4014e-02,  2.0436e-01,  1.2207e-01, -2.1212e-01,  1.3485e-02,\n          -1.7377e-02, -8.0368e-02, -1.9536e-01, -8.4683e-02,  1.3595e-01,\n           3.6067e-01,  1.0449e-01, -3.4834e-02, -2.1258e-01,  1.3331e-01,\n           1.7384e-01, -1.4212e-01,  3.4423e-02,  4.1422e-02,  1.2325e-01,\n           1.8072e-01, -9.3471e-02,  1.6368e-01,  1.5986e-01,  1.2664e-02,\n           1.7285e-01, -1.3583e-01,  1.2638e-01, -6.4921e-02, -4.5602e-02,\n           1.5868e-01,  3.1027e-01, -7.6506e-02,  1.4692e-01, -1.5722e-01,\n          -4.5404e-02, -6.1180e-02,  4.2271e-02, -1.0014e-01,  2.2450e-02,\n           6.1471e-02,  1.4767e-01, -3.5247e-02],\n         [-1.5465e-01, -8.0927e-02,  1.8045e-01,  1.0150e-01, -1.5771e-01,\n          -5.2760e-02,  2.5580e-01, -1.2422e-01, -9.7490e-02,  3.3652e-01,\n           7.4477e-03,  7.5532e-02, -6.2916e-03,  3.3318e-01,  1.7289e-01,\n          -1.0589e-01,  6.1593e-02,  2.4842e-01,  5.5230e-02, -1.5729e-01,\n           2.8999e-01,  1.4466e-01, -5.4292e-02, -2.2898e-01,  2.9402e-02,\n           9.5753e-02, -1.9229e-01, -2.0044e-02, -2.6674e-01, -1.7169e-01,\n           2.4230e-02,  1.2520e-01, -1.6832e-01,  1.6886e-02, -9.3274e-02,\n          -1.5988e-01,  2.1336e-01, -6.0610e-02,  1.9812e-01, -1.5540e-01,\n           1.2214e-01,  1.1821e-01, -1.9382e-01, -1.6645e-01,  1.9773e-01,\n          -8.6516e-02, -1.7990e-03, -8.4199e-02, -6.7696e-02, -5.4989e-02,\n          -3.0864e-02,  6.3137e-02,  8.8945e-02, -1.6816e-01,  7.8915e-02,\n          -7.7279e-02, -1.2151e-01, -3.0060e-01, -3.1766e-01,  1.1009e-01,\n           4.5854e-01,  4.0843e-02, -1.2112e-01, -1.8560e-01,  2.1181e-01,\n           6.3336e-03, -7.9357e-02,  1.8532e-01,  1.3568e-01,  4.7439e-02,\n           1.8514e-01, -1.6852e-01,  8.1696e-03,  1.8034e-01, -2.7130e-01,\n          -5.8916e-03, -2.3179e-01,  8.4325e-02, -1.3714e-01,  1.6105e-01,\n           2.8748e-01,  8.5068e-02,  1.0567e-01,  6.4189e-02, -1.4429e-01,\n           9.7977e-02,  9.1270e-02, -3.4804e-03, -6.7690e-02,  2.7776e-01,\n           1.4336e-01,  1.9890e-01,  1.0990e-01],\n         [-1.6789e-01, -6.8574e-02,  1.1210e-01,  9.6173e-02, -2.0405e-01,\n          -3.5598e-02,  1.5686e-01, -7.8246e-02, -1.7814e-01,  3.0637e-01,\n           7.2216e-02,  4.1542e-02, -2.3012e-02,  2.6335e-01,  1.4859e-01,\n          -7.1837e-02,  1.0700e-01,  2.1066e-01,  2.2712e-02, -1.4504e-01,\n           2.6182e-01,  1.4717e-01, -1.2096e-01, -2.1254e-01,  3.5048e-02,\n           5.8906e-02, -1.3786e-01,  8.4860e-02, -2.4791e-01, -1.4840e-01,\n           6.7678e-02,  1.1636e-01, -9.8970e-02, -1.6273e-02, -5.3335e-02,\n          -1.2839e-01,  1.3874e-01,  6.3942e-02,  2.0262e-01, -1.7310e-01,\n           9.1842e-02,  1.6316e-01, -1.1389e-01, -1.1635e-01,  2.8215e-01,\n           2.0062e-04,  4.8156e-02, -2.1184e-01, -4.6312e-03, -2.0664e-02,\n          -5.6448e-02, -7.5382e-02,  1.1630e-03, -1.0641e-01,  1.7533e-01,\n          -7.3125e-02, -1.6454e-01, -3.0561e-01, -2.9225e-01,  8.1373e-02,\n           3.5532e-01,  8.1291e-02, -8.5010e-02, -1.7365e-01,  2.2107e-01,\n          -1.8197e-02, -8.5583e-02,  1.8306e-01,  1.7777e-01, -2.9865e-02,\n           1.5994e-01, -1.7331e-01,  1.1413e-01,  7.7998e-02, -3.1837e-01,\n           1.4059e-02, -1.4947e-01,  5.2336e-02, -1.9237e-01,  2.5716e-01,\n           2.8169e-01,  9.7888e-02,  2.1309e-02, -3.1294e-02, -1.7070e-01,\n           1.5203e-01,  1.5999e-01,  2.2904e-02, -4.8545e-02,  2.9880e-01,\n           1.9224e-01,  1.9776e-01,  7.6991e-02],\n         [-2.4581e-02, -1.1636e-01,  1.6111e-01,  9.4822e-02, -2.8242e-03,\n          -9.0886e-03,  2.4415e-01,  4.9152e-02, -1.2138e-02,  1.2399e-01,\n           5.5299e-02, -5.2146e-02,  6.5031e-02,  8.1313e-02,  2.0640e-01,\n          -2.4088e-02,  5.5618e-03, -8.0443e-02, -5.7862e-02, -1.5697e-02,\n           7.0469e-02,  3.0209e-01,  1.5566e-01,  4.7889e-02,  1.6964e-03,\n           1.7213e-01, -1.5595e-01, -1.0339e-01, -1.6590e-01, -3.2232e-03,\n           1.0094e-01, -7.7000e-02, -4.5461e-02,  4.4919e-03,  1.7949e-03,\n           8.2649e-02, -7.2084e-02, -4.7029e-03, -1.8150e-01, -1.5664e-01,\n           1.1014e-02,  7.0564e-02, -3.3842e-02, -2.2772e-01, -1.2255e-02,\n          -1.0744e-01,  2.3093e-01,  1.3085e-01, -4.8052e-02, -1.0576e-01,\n           2.7007e-02,  2.2600e-01,  5.5237e-02, -1.3987e-01, -7.4549e-02,\n          -1.0337e-02, -1.3094e-02, -2.2180e-01, -6.9584e-02,  1.8424e-01,\n           4.7374e-01,  9.1527e-02, -3.9890e-02, -1.9968e-01,  2.5799e-02,\n           7.5636e-02, -1.2063e-01, -1.7384e-02, -1.0781e-02,  1.7565e-01,\n           1.3932e-01, -4.1151e-02,  1.7014e-01,  1.8903e-02, -4.6699e-02,\n           1.4274e-01, -1.8339e-01,  1.9732e-01, -1.1107e-01, -1.5383e-01,\n           1.8658e-01,  4.0087e-01, -2.2340e-01,  6.8009e-02, -6.0597e-02,\n          -2.1784e-02, -8.2576e-02,  5.9027e-02, -9.1396e-02, -3.0225e-02,\n          -2.0188e-04,  2.0543e-01,  9.1727e-02],\n         [-7.4558e-02, -9.3328e-02,  1.5139e-01,  8.8976e-02, -1.7095e-01,\n          -9.5536e-02,  1.3876e-01, -2.0997e-01, -1.2245e-01,  1.0624e-01,\n           1.4919e-01, -2.8695e-02,  3.8530e-02,  2.7270e-01,  2.9887e-01,\n          -5.1535e-02,  1.4271e-01,  1.1364e-01,  7.3391e-02, -3.3068e-02,\n           3.3633e-01,  1.0735e-01, -2.8465e-02, -2.0730e-01,  8.6502e-02,\n           1.3141e-01, -1.8426e-01, -6.9414e-02, -2.4466e-01, -1.6832e-01,\n           5.4263e-02,  1.3719e-01, -8.9637e-02, -1.0376e-01,  1.4034e-02,\n          -1.2764e-01,  1.2767e-01, -1.1866e-01,  1.0351e-01, -2.2100e-01,\n           1.5216e-01,  1.4261e-01, -1.7648e-01, -1.1831e-01,  7.9709e-02,\n           5.9753e-03,  1.7359e-02, -1.4888e-01, -8.5667e-02,  1.1137e-01,\n          -9.5775e-02, -1.9713e-02,  7.3188e-02, -2.4818e-01,  1.3668e-01,\n          -3.0359e-02, -1.5171e-01, -2.7079e-01, -3.0093e-01,  1.2219e-01,\n           3.1325e-01,  6.5725e-02, -6.3875e-02, -1.5414e-01,  1.6306e-01,\n           8.5636e-03, -6.2573e-02,  1.0480e-01,  2.3972e-01,  4.1194e-02,\n           8.4171e-02, -7.6146e-02,  9.2285e-02,  7.4522e-02, -3.1885e-01,\n           8.3742e-02, -2.0320e-01,  9.0311e-02, -2.2859e-01,  2.5441e-01,\n           3.1097e-01, -6.7329e-04, -4.9600e-02, -8.6022e-03, -2.0176e-01,\n           1.0010e-01,  2.4185e-02,  6.1670e-02,  6.7208e-03,  3.7061e-01,\n           2.3969e-01,  8.0684e-02,  1.3306e-01],\n         [-9.0578e-02, -1.2194e-01,  1.3180e-01,  1.8731e-01, -6.1101e-02,\n           4.8855e-02,  1.5294e-01,  1.0050e-02,  1.0484e-01,  8.1068e-02,\n          -5.1849e-02,  2.2599e-02,  6.8126e-02,  1.9565e-01,  2.4870e-01,\n          -4.8278e-03, -9.7329e-03, -1.2005e-01, -1.6716e-02, -3.9206e-02,\n           1.6161e-01,  2.1816e-01,  1.9871e-01,  4.3606e-02,  1.6677e-01,\n           1.2938e-01, -1.0283e-01, -1.0093e-01, -1.9865e-01,  1.8116e-02,\n          -5.7651e-02, -9.4677e-02,  1.9288e-02,  3.7688e-02,  1.1949e-01,\n           6.9399e-02, -3.0443e-02, -4.8059e-02, -1.4324e-01, -1.3495e-01,\n          -4.8989e-02,  8.3758e-02,  4.0504e-02, -1.5984e-01, -1.9561e-02,\n          -1.0813e-01,  2.1374e-01,  1.3624e-01,  1.5662e-02, -1.1997e-01,\n           2.7343e-02,  3.1653e-01,  9.8359e-02, -1.8481e-01, -6.8434e-02,\n          -6.4823e-02,  7.0443e-02, -1.3048e-01, -5.3898e-02,  2.2221e-01,\n           3.6150e-01, -8.3785e-03, -1.5220e-01, -1.7439e-01,  4.9949e-02,\n           8.2329e-02, -1.1454e-01, -4.7869e-02,  1.3419e-02,  1.4398e-01,\n           2.0054e-01, -1.0551e-01,  1.0780e-01,  6.4187e-02,  6.3725e-02,\n           5.0919e-02, -1.9423e-01,  2.3310e-01, -1.2625e-01,  1.8270e-02,\n           1.9689e-01,  3.4924e-01, -1.1911e-01,  8.7617e-02, -7.9562e-02,\n           3.5441e-02, -1.7868e-01,  1.5333e-02, -1.7570e-01,  6.6378e-02,\n          -3.7842e-02,  1.8291e-01, -1.3860e-03],\n         [-1.3427e-01, -1.4067e-01,  1.7334e-01,  1.8558e-01, -1.9629e-01,\n           5.5157e-02,  1.5865e-01, -1.1123e-01, -1.3737e-01,  3.2619e-01,\n          -1.5086e-02,  2.1729e-01,  1.4791e-01,  3.6318e-01,  2.6324e-01,\n          -6.9206e-03,  6.9168e-02,  1.2918e-01,  8.2473e-02, -1.8240e-01,\n           3.6260e-01,  3.0089e-01, -6.5475e-02, -2.2142e-01,  1.3645e-01,\n           4.9475e-02, -6.0947e-02,  1.9337e-01, -2.6105e-01, -6.0864e-02,\n          -1.0154e-01,  1.6461e-01,  8.5849e-03, -1.4341e-01,  1.1093e-01,\n          -1.3463e-01,  5.8796e-02,  6.4752e-02,  1.3022e-01, -1.6757e-01,\n           6.4641e-02,  4.6365e-02, -3.2035e-02, -1.3045e-01,  1.8060e-01,\n          -6.5568e-02,  1.1299e-01, -7.0371e-02,  3.6745e-02,  1.1054e-01,\n           4.4038e-02,  7.6904e-02,  7.1064e-03, -1.3287e-01,  1.6243e-01,\n          -5.9940e-02, -1.3131e-01, -2.1215e-01, -2.0758e-01,  3.4073e-02,\n           2.5737e-01,  2.1359e-02, -1.5063e-01, -2.0950e-01,  2.2635e-01,\n          -5.0142e-02, -1.1633e-01,  2.4346e-01,  1.3110e-01,  9.9234e-02,\n           1.6607e-01, -1.4130e-01,  1.3006e-01,  1.8706e-01, -1.9683e-01,\n          -1.3418e-02, -1.1175e-01,  6.3873e-02, -4.3213e-02,  3.4369e-01,\n           3.6773e-01,  5.0010e-02, -3.2557e-02,  9.0377e-02, -1.1841e-01,\n           1.9791e-01,  8.1042e-02,  9.3074e-02,  3.2128e-02,  2.6889e-01,\n           1.2309e-01,  1.1706e-01,  1.0879e-01],\n         [ 3.8011e-02, -1.3722e-01,  2.0604e-01,  2.0486e-01, -1.3175e-02,\n          -1.0156e-01,  2.3542e-01, -3.6178e-02,  9.0982e-02,  7.5425e-02,\n          -3.1477e-02, -9.2816e-04,  3.3770e-02,  1.0501e-01,  1.7697e-01,\n          -1.2056e-01,  5.7675e-02, -1.4045e-01, -3.0031e-02, -9.8579e-02,\n           7.3056e-02,  1.8760e-01,  1.8061e-01,  5.2100e-02,  7.9405e-02,\n           1.0644e-01, -7.6801e-02, -1.7775e-01, -1.7950e-01, -1.0418e-01,\n           2.4919e-02, -1.9144e-01,  4.2875e-02, -7.1636e-02,  1.7840e-01,\n           1.6821e-01,  2.7299e-02, -6.7219e-02, -9.5335e-02, -1.1450e-01,\n           1.3779e-03, -5.8520e-04, -1.6940e-03, -1.9859e-01, -1.1995e-01,\n          -1.9076e-02,  2.3841e-01,  3.0962e-01,  9.2927e-02, -1.1894e-01,\n           5.2513e-02, -8.5294e-03,  4.9870e-02, -1.0991e-01, -1.1815e-01,\n           2.1605e-02,  4.0062e-03, -1.5785e-01, -8.3377e-02,  2.5277e-01,\n           3.2649e-01,  1.8957e-04, -1.3653e-02, -5.5240e-02,  3.6195e-02,\n           1.0872e-01, -6.2571e-02, -7.5530e-02, -1.3396e-02,  2.6109e-02,\n           1.4243e-01, -1.3144e-01,  3.5208e-01,  1.7465e-01, -3.7798e-02,\n          -8.7357e-02, -1.8200e-01,  1.1464e-01, -1.2135e-01, -1.3955e-01,\n           2.6561e-01,  2.8866e-01, -1.5933e-01,  1.2739e-01, -1.0323e-01,\n          -4.9838e-02, -1.3554e-01, -1.5373e-02, -8.6839e-02, -5.5733e-02,\n           6.4806e-02,  1.6362e-01,  8.8037e-02]], grad_fn=<IndexPutBackward0>)]"
     },
     "execution_count": 15,
     "metadata": {},
     "output_type": "execute_result"
    }
   ],
   "source": [
    "out_list"
   ],
   "metadata": {
    "collapsed": false,
    "ExecuteTime": {
     "start_time": "2024-03-23T14:23:15.730427Z",
     "end_time": "2024-03-23T14:23:15.906246Z"
    }
   }
  },
  {
   "cell_type": "markdown",
   "id": "4e024847-717f-4fac-bace-f9ee10ccf416",
   "metadata": {},
   "source": [
    "## Compare batches"
   ]
  },
  {
   "cell_type": "code",
   "execution_count": 16,
   "outputs": [
    {
     "data": {
      "text/plain": "array([[ True,  True,  True, False],\n       [ True,  True,  True, False],\n       [ True,  True,  True, False],\n       [False, False, False,  True]])"
     },
     "metadata": {},
     "output_type": "display_data"
    }
   ],
   "source": [
    "# compare output\n",
    "display(np.array(\n",
    "    [\n",
    "        [\n",
    "            (out_list[i] == out_list[j]).all()\n",
    "            for j in range(len(out_list))\n",
    "        ]\n",
    "        for i in range(len(out_list))\n",
    "    ]\n",
    "))"
   ],
   "metadata": {
    "collapsed": false,
    "ExecuteTime": {
     "start_time": "2024-03-23T14:23:15.745115Z",
     "end_time": "2024-03-23T14:23:15.906246Z"
    }
   }
  },
  {
   "cell_type": "code",
   "execution_count": 17,
   "outputs": [
    {
     "data": {
      "text/plain": "array([[ True,  True,  True,  True],\n       [ True,  True,  True,  True],\n       [ True,  True,  True,  True],\n       [ True,  True,  True,  True]])"
     },
     "metadata": {},
     "output_type": "display_data"
    }
   ],
   "source": [
    "# compare sum pooled version itself\n",
    "display(np.array(\n",
    "    [\n",
    "        [\n",
    "            out_list[i].sum().item() - out_list[j].sum().item()\n",
    "            for j in range(len(out_list))\n",
    "        ]\n",
    "        for i in range(len(out_list))\n",
    "    ]\n",
    ") == 0)"
   ],
   "metadata": {
    "collapsed": false,
    "ExecuteTime": {
     "start_time": "2024-03-23T14:23:15.761116Z",
     "end_time": "2024-03-23T14:23:15.906246Z"
    }
   }
  },
  {
   "cell_type": "code",
   "execution_count": 18,
   "outputs": [
    {
     "data": {
      "text/plain": "array([[0.000000e+00, 0.000000e+00, 0.000000e+00, 8.190516e-06],\n       [0.000000e+00, 0.000000e+00, 0.000000e+00, 8.190516e-06],\n       [0.000000e+00, 0.000000e+00, 0.000000e+00, 8.190516e-06],\n       [8.190516e-06, 8.190516e-06, 8.190516e-06, 0.000000e+00]],\n      dtype=float32)"
     },
     "metadata": {},
     "output_type": "display_data"
    }
   ],
   "source": [
    "# compare output\n",
    "display(np.array(\n",
    "    [\n",
    "        [\n",
    "            (out_list[i] - out_list[j]).detach().abs().sum()\n",
    "            for j in range(len(out_list))\n",
    "        ]\n",
    "        for i in range(len(out_list))\n",
    "    ]\n",
    "))"
   ],
   "metadata": {
    "collapsed": false,
    "ExecuteTime": {
     "start_time": "2024-03-23T14:23:15.777115Z",
     "end_time": "2024-03-23T14:23:15.906246Z"
    }
   }
  },
  {
   "cell_type": "markdown",
   "source": [
    "Cannot distinguish, only machine precision error"
   ],
   "metadata": {
    "collapsed": false
   }
  }
 ],
 "metadata": {
  "kernelspec": {
   "display_name": "Python 3 (ipykernel)",
   "language": "python",
   "name": "python3"
  },
  "language_info": {
   "codemirror_mode": {
    "name": "ipython",
    "version": 3
   },
   "file_extension": ".py",
   "mimetype": "text/x-python",
   "name": "python",
   "nbconvert_exporter": "python",
   "pygments_lexer": "ipython3",
   "version": "3.9.16"
  }
 },
 "nbformat": 4,
 "nbformat_minor": 5
}
