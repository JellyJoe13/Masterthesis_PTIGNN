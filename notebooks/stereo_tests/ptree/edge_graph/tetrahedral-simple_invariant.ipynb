{
 "cells": [
  {
   "cell_type": "markdown",
   "id": "cce7ba2e-6183-4900-9e1c-608c46435893",
   "metadata": {},
   "source": [
    "# Stereoisomer testing on ptree - enantiomers"
   ]
  },
  {
   "cell_type": "markdown",
   "id": "cd5b739d-220a-4c13-9ce0-a3933e034d4d",
   "metadata": {},
   "source": [
    "## Importing section"
   ]
  },
  {
   "cell_type": "code",
   "execution_count": 1,
   "outputs": [],
   "source": [
    "import numpy as np\n",
    "from rdkit import Chem\n",
    "from rdkit.Chem import AllChem\n",
    "import sys\n",
    "\n",
    "sys.path.append(\"../../../../\")\n",
    "\n",
    "from ptgnn.features.chienn.molecule3d import smiles_to_3d_mol\n",
    "from ptgnn.features.chienn.mol_to_data import mol_to_data\n",
    "from ptgnn.transform import edge_graph_transform, vertex_graph_transform\n",
    "from ptgnn.model.modules.ptree.complex_ptree_layer import ComplexPtreeLayer"
   ],
   "metadata": {
    "collapsed": false,
    "ExecuteTime": {
     "start_time": "2024-03-21T17:22:09.318772Z",
     "end_time": "2024-03-21T17:22:11.129771Z"
    }
   }
  },
  {
   "cell_type": "markdown",
   "id": "4ce50022-5637-4a30-b409-1e45a433f047",
   "metadata": {},
   "source": [
    "## Define SMILES strings"
   ]
  },
  {
   "cell_type": "code",
   "execution_count": 2,
   "id": "fe716171-6aec-40ab-a31a-1fb0bd635c46",
   "metadata": {
    "tags": [],
    "ExecuteTime": {
     "start_time": "2024-03-21T17:22:11.129771Z",
     "end_time": "2024-03-21T17:22:11.143572Z"
    }
   },
   "outputs": [],
   "source": [
    "smiles_list = [\n",
    "    \"C(Br)(Cl)F\",\n",
    "    \"[C@H](Br)(Cl)F\",\n",
    "    \"[C@H](Br)(Cl)F\",\n",
    "    \"[C@@H](Br)(Cl)F\",\n",
    "]"
   ]
  },
  {
   "cell_type": "markdown",
   "id": "1663655e-0dd3-492e-b007-344f18fffb87",
   "metadata": {},
   "source": [
    "## Visualize and confirm stereomer classification (E/Z)"
   ]
  },
  {
   "cell_type": "code",
   "execution_count": 3,
   "id": "13fe0401-cc1a-424a-80c2-df1760e4df84",
   "metadata": {
    "tags": [],
    "ExecuteTime": {
     "start_time": "2024-03-21T17:22:11.145580Z",
     "end_time": "2024-03-21T17:22:11.172572Z"
    }
   },
   "outputs": [],
   "source": [
    "def showAndChiral(smiles):\n",
    "    mol = Chem.MolFromSmiles(smiles)\n",
    "    display(mol)\n",
    "    print(AllChem.FindMolChiralCenters(mol, includeUnassigned=True))\n",
    "    for bond in mol.GetBonds():\n",
    "        if bond.GetBondType() == Chem.rdchem.BondType.DOUBLE:\n",
    "            print(\"Bond\", bond.GetIdx(), \"stereo:\", bond.GetStereo())"
   ]
  },
  {
   "cell_type": "code",
   "execution_count": 4,
   "id": "f54309f1-465b-4834-aeda-cdc857767776",
   "metadata": {
    "tags": [],
    "ExecuteTime": {
     "start_time": "2024-03-21T17:22:11.163571Z",
     "end_time": "2024-03-21T17:22:11.190584Z"
    }
   },
   "outputs": [
    {
     "data": {
      "text/plain": "<rdkit.Chem.rdchem.Mol at 0x16b570f5350>",
      "image/png": "[encoded data removed]"
     },
     "metadata": {},
     "output_type": "display_data"
    },
    {
     "name": "stdout",
     "output_type": "stream",
     "text": [
      "[(0, '?')]\n"
     ]
    },
    {
     "data": {
      "text/plain": "<rdkit.Chem.rdchem.Mol at 0x16b570f5270>",
      "image/png": "[encoded data removed]"
     },
     "metadata": {},
     "output_type": "display_data"
    },
    {
     "name": "stdout",
     "output_type": "stream",
     "text": [
      "[(0, 'R')]\n"
     ]
    },
    {
     "data": {
      "text/plain": "<rdkit.Chem.rdchem.Mol at 0x16b570f5040>",
      "image/png": "[encoded data removed]"
     },
     "metadata": {},
     "output_type": "display_data"
    },
    {
     "name": "stdout",
     "output_type": "stream",
     "text": [
      "[(0, 'R')]\n"
     ]
    },
    {
     "data": {
      "text/plain": "<rdkit.Chem.rdchem.Mol at 0x16b570f5350>",
      "image/png": "[encoded data removed]"
     },
     "metadata": {},
     "output_type": "display_data"
    },
    {
     "name": "stdout",
     "output_type": "stream",
     "text": [
      "[(0, 'S')]\n"
     ]
    }
   ],
   "source": [
    "for smile in smiles_list:\n",
    "    showAndChiral(smile)"
   ]
  },
  {
   "cell_type": "markdown",
   "id": "910c1424-4c1d-4421-ad82-628ccf16464e",
   "metadata": {},
   "source": [
    "##  Convert to (edge) graph with ptree"
   ]
  },
  {
   "cell_type": "code",
   "execution_count": 5,
   "outputs": [],
   "source": [
    "# get molecules\n",
    "mol_list = [\n",
    "    smiles_to_3d_mol(\n",
    "        smiles,\n",
    "        max_number_of_attempts=100,\n",
    "        max_number_of_atoms=100\n",
    "    )\n",
    "    for smiles in smiles_list\n",
    "]"
   ],
   "metadata": {
    "collapsed": false,
    "ExecuteTime": {
     "start_time": "2024-03-21T17:22:11.402756Z",
     "end_time": "2024-03-21T17:22:11.438750Z"
    }
   }
  },
  {
   "cell_type": "code",
   "execution_count": 6,
   "outputs": [],
   "source": [
    "data_list = [\n",
    "    mol_to_data(mol)\n",
    "    for mol in mol_list\n",
    "]"
   ],
   "metadata": {
    "collapsed": false,
    "ExecuteTime": {
     "start_time": "2024-03-21T17:22:12.394822Z",
     "end_time": "2024-03-21T17:22:12.409940Z"
    }
   }
  },
  {
   "cell_type": "code",
   "execution_count": 7,
   "outputs": [],
   "source": [
    "data_list = [\n",
    "    edge_graph_transform(\n",
    "        data,\n",
    "        transformation_mode=\"permutation_tree\",\n",
    "        mol=mol,\n",
    "        transformation_parameters={\n",
    "            'k':  3,\n",
    "            'tetrahedral_chiral': False\n",
    "        }\n",
    "    )\n",
    "    for data, mol in zip(data_list, mol_list)\n",
    "]"
   ],
   "metadata": {
    "collapsed": false,
    "ExecuteTime": {
     "start_time": "2024-03-21T17:22:18.212090Z",
     "end_time": "2024-03-21T17:22:18.241089Z"
    }
   }
  },
  {
   "cell_type": "code",
   "execution_count": 8,
   "outputs": [
    {
     "data": {
      "text/plain": "['{\"S\": [0, 1]}',\n '{\"S\": [1, 0, {\"P\": [3, 7, 5]}]}',\n '{\"S\": [2, 3, {\"P\": [0, 5, 7]}]}',\n '{\"S\": [3, 2]}',\n '{\"S\": [4, 5, {\"P\": [0, 7, 3]}]}',\n '{\"S\": [5, 4]}',\n '{\"S\": [6, 7, {\"P\": [0, 3, 5]}]}',\n '{\"S\": [7, 6]}']"
     },
     "metadata": {},
     "output_type": "display_data"
    },
    {
     "data": {
      "text/plain": "tensor([0, 1, 1, 0, 3, 7, 5, 2, 3, 0, 5, 7, 3, 2, 4, 5, 0, 7, 3, 5, 4, 6, 7, 0,\n        3, 5, 7, 6])"
     },
     "metadata": {},
     "output_type": "display_data"
    },
    {
     "data": {
      "text/plain": "'layer: 0'"
     },
     "metadata": {},
     "output_type": "display_data"
    },
    {
     "data": {
      "text/plain": "[[tensor([[ 0,  1,  2,  3,  4,  5,  6,  7,  8,  9, 10, 11, 12, 13, 14, 15, 16, 17,\n           18, 19, 20, 21, 22, 23, 24, 25, 26, 27],\n          [-1, -1, -1, -1, -1, -1, -1, -1, -1, -1, -1, -1, -1, -1, -1, -1, -1, -1,\n           -1, -1, -1, -1, -1, -1, -1, -1, -1, -1],\n          [-1, -1, -1, -1, -1, -1, -1, -1, -1, -1, -1, -1, -1, -1, -1, -1, -1, -1,\n           -1, -1, -1, -1, -1, -1, -1, -1, -1, -1]], dtype=torch.int32)]]"
     },
     "metadata": {},
     "output_type": "display_data"
    },
    {
     "data": {
      "text/plain": "[[tensor([0, 0, 0, 0, 1, 1, 1, 0, 0, 1, 1, 1, 0, 0, 0, 0, 1, 1, 1, 0, 0, 0, 0, 1,\n          1, 1, 0, 0])]]"
     },
     "metadata": {},
     "output_type": "display_data"
    },
    {
     "data": {
      "text/plain": "[[tensor([ 0,  1,  2,  3,  4,  4,  4,  5,  6,  7,  7,  7,  8,  9, 10, 11, 12, 12,\n          12, 13, 14, 15, 16, 17, 17, 17, 18, 19])]]"
     },
     "metadata": {},
     "output_type": "display_data"
    },
    {
     "data": {
      "text/plain": "'layer: 1'"
     },
     "metadata": {},
     "output_type": "display_data"
    },
    {
     "data": {
      "text/plain": "[[tensor([[ 0, -1,  2, -1, -1,  5, -1, -1,  8, -1, 10, -1, -1, 13, -1, 15, -1, -1,\n           18, -1],\n          [ 1, -1,  3, -1, -1,  6, -1, -1,  9, -1, 11, -1, -1, 14, -1, 16, -1, -1,\n           19, -1],\n          [-1, -1,  4, -1, -1,  7, -1, -1, -1, -1, 12, -1, -1, -1, -1, 17, -1, -1,\n           -1, -1]], dtype=torch.int32)]]"
     },
     "metadata": {},
     "output_type": "display_data"
    },
    {
     "data": {
      "text/plain": "[[tensor([3, 3, 3, 3, 3, 3, 3, 3, 3, 3, 3, 3, 3, 3, 3, 3, 3, 3, 3, 3])]]"
     },
     "metadata": {},
     "output_type": "display_data"
    },
    {
     "data": {
      "text/plain": "[[tensor([0, 0, 1, 1, 1, 2, 2, 2, 3, 3, 4, 4, 4, 5, 5, 6, 6, 6, 7, 7])]]"
     },
     "metadata": {},
     "output_type": "display_data"
    }
   ],
   "source": [
    "d = data_list[0]\n",
    "display(d.ptree, d.initial_map)\n",
    "for i in range(d.num_layer):\n",
    "    display(f\"layer: {i}\")\n",
    "    display(d[f\"layer{i}_order_matrix\"], d[f\"layer{i}_type_mask\"], d[f\"layer{i}_pooling\"])"
   ],
   "metadata": {
    "collapsed": false,
    "ExecuteTime": {
     "start_time": "2024-03-21T17:22:18.715422Z",
     "end_time": "2024-03-21T17:22:18.741421Z"
    }
   }
  },
  {
   "cell_type": "code",
   "execution_count": 9,
   "outputs": [
    {
     "name": "stdout",
     "output_type": "stream",
     "text": [
      "Data(x=[8, 93], edge_index=[2, 20], edge_attr=[20, 57], pos=[8, 6], parallel_node_index=[8], circle_index=[8], ptree=[8], initial_map=[28], layer0_order_matrix=[1], layer0_type_mask=[1], layer0_pooling=[1], num_layer=2, layer1_order_matrix=[1], layer1_type_mask=[1], layer1_pooling=[1])\n",
      "['{\"S\": [0, 1]}', '{\"S\": [1, 0, {\"P\": [3, 7, 5]}]}', '{\"S\": [2, 3, {\"P\": [0, 5, 7]}]}', '{\"S\": [3, 2]}', '{\"S\": [4, 5, {\"P\": [0, 7, 3]}]}', '{\"S\": [5, 4]}', '{\"S\": [6, 7, {\"P\": [0, 3, 5]}]}', '{\"S\": [7, 6]}']\n",
      "Data(x=[8, 93], edge_index=[2, 20], edge_attr=[20, 57], pos=[8, 6], parallel_node_index=[8], circle_index=[8], ptree=[8], initial_map=[28], layer0_order_matrix=[1], layer0_type_mask=[1], layer0_pooling=[1], num_layer=2, layer1_order_matrix=[1], layer1_type_mask=[1], layer1_pooling=[1])\n",
      "['{\"S\": [0, 1]}', '{\"S\": [1, 0, {\"P\": [3, 7, 5]}]}', '{\"S\": [2, 3, {\"P\": [0, 5, 7]}]}', '{\"S\": [3, 2]}', '{\"S\": [4, 5, {\"P\": [0, 7, 3]}]}', '{\"S\": [5, 4]}', '{\"S\": [6, 7, {\"P\": [0, 3, 5]}]}', '{\"S\": [7, 6]}']\n",
      "Data(x=[8, 93], edge_index=[2, 20], edge_attr=[20, 57], pos=[8, 6], parallel_node_index=[8], circle_index=[8], ptree=[8], initial_map=[28], layer0_order_matrix=[1], layer0_type_mask=[1], layer0_pooling=[1], num_layer=2, layer1_order_matrix=[1], layer1_type_mask=[1], layer1_pooling=[1])\n",
      "['{\"S\": [0, 1]}', '{\"S\": [1, 0, {\"P\": [3, 7, 5]}]}', '{\"S\": [2, 3, {\"P\": [0, 5, 7]}]}', '{\"S\": [3, 2]}', '{\"S\": [4, 5, {\"P\": [0, 7, 3]}]}', '{\"S\": [5, 4]}', '{\"S\": [6, 7, {\"P\": [0, 3, 5]}]}', '{\"S\": [7, 6]}']\n",
      "Data(x=[8, 93], edge_index=[2, 20], edge_attr=[20, 57], pos=[8, 6], parallel_node_index=[8], circle_index=[8], ptree=[8], initial_map=[28], layer0_order_matrix=[1], layer0_type_mask=[1], layer0_pooling=[1], num_layer=2, layer1_order_matrix=[1], layer1_type_mask=[1], layer1_pooling=[1])\n",
      "['{\"S\": [0, 1]}', '{\"S\": [1, 0, {\"P\": [3, 5, 7]}]}', '{\"S\": [2, 3, {\"P\": [0, 7, 5]}]}', '{\"S\": [3, 2]}', '{\"S\": [4, 5, {\"P\": [0, 3, 7]}]}', '{\"S\": [5, 4]}', '{\"S\": [6, 7, {\"P\": [0, 5, 3]}]}', '{\"S\": [7, 6]}']\n"
     ]
    }
   ],
   "source": [
    "for data in data_list:\n",
    "    print(data)\n",
    "    print(data.ptree)"
   ],
   "metadata": {
    "collapsed": false,
    "ExecuteTime": {
     "start_time": "2024-03-21T17:22:19.250763Z",
     "end_time": "2024-03-21T17:22:19.275762Z"
    }
   }
  },
  {
   "cell_type": "markdown",
   "id": "c4c65150-2907-4220-baf9-2d95f5a44656",
   "metadata": {},
   "source": [
    "## Create Model"
   ]
  },
  {
   "cell_type": "code",
   "execution_count": 10,
   "outputs": [],
   "source": [
    "from ptgnn.model.modules.ptree.advanced_tree_layer import AdvancedPermutationTreeLayer\n",
    "\n",
    "k = 3\n",
    "\n",
    "model = AdvancedPermutationTreeLayer(\n",
    "    hidden_dim=93,\n",
    "    k=k\n",
    ")"
   ],
   "metadata": {
    "collapsed": false,
    "ExecuteTime": {
     "start_time": "2024-03-21T17:22:20.701275Z",
     "end_time": "2024-03-21T17:22:20.724274Z"
    }
   }
  },
  {
   "cell_type": "markdown",
   "id": "8d7bb4a1-a7fd-47b8-ae93-b12fe24ee239",
   "metadata": {},
   "source": [
    "## Create batches"
   ]
  },
  {
   "cell_type": "code",
   "execution_count": 11,
   "outputs": [],
   "source": [
    "from ptgnn.loading.collate import permutation_tree_collation\n",
    "\n",
    "batch_list = [\n",
    "    permutation_tree_collation([data])\n",
    "    for data in data_list\n",
    "]"
   ],
   "metadata": {
    "collapsed": false,
    "ExecuteTime": {
     "start_time": "2024-03-21T17:22:21.914363Z",
     "end_time": "2024-03-21T17:22:21.931362Z"
    }
   }
  },
  {
   "cell_type": "code",
   "execution_count": 12,
   "outputs": [
    {
     "data": {
      "text/plain": "'Batch: 0'"
     },
     "metadata": {},
     "output_type": "display_data"
    },
    {
     "data": {
      "text/plain": "['{\"S\": [0, 1]}',\n '{\"S\": [1, 0, {\"P\": [3, 7, 5]}]}',\n '{\"S\": [2, 3, {\"P\": [0, 5, 7]}]}',\n '{\"S\": [3, 2]}',\n '{\"S\": [4, 5, {\"P\": [0, 7, 3]}]}',\n '{\"S\": [5, 4]}',\n '{\"S\": [6, 7, {\"P\": [0, 3, 5]}]}',\n '{\"S\": [7, 6]}']"
     },
     "metadata": {},
     "output_type": "display_data"
    },
    {
     "data": {
      "text/plain": "tensor([0, 1, 1, 0, 3, 7, 5, 2, 3, 0, 5, 7, 3, 2, 4, 5, 0, 7, 3, 5, 4, 6, 7, 0,\n        3, 5, 7, 6])"
     },
     "metadata": {},
     "output_type": "display_data"
    },
    {
     "data": {
      "text/plain": "'Layer: 0'"
     },
     "metadata": {},
     "output_type": "display_data"
    },
    {
     "data": {
      "text/plain": "tensor([[ 0,  1,  2,  3,  4,  5,  6,  7,  8,  9, 10, 11, 12, 13, 14, 15, 16, 17,\n         18, 19, 20, 21, 22, 23, 24, 25, 26, 27],\n        [-1, -1, -1, -1, -1, -1, -1, -1, -1, -1, -1, -1, -1, -1, -1, -1, -1, -1,\n         -1, -1, -1, -1, -1, -1, -1, -1, -1, -1],\n        [-1, -1, -1, -1, -1, -1, -1, -1, -1, -1, -1, -1, -1, -1, -1, -1, -1, -1,\n         -1, -1, -1, -1, -1, -1, -1, -1, -1, -1]], dtype=torch.int32)"
     },
     "metadata": {},
     "output_type": "display_data"
    },
    {
     "data": {
      "text/plain": "tensor([0, 0, 0, 0, 1, 1, 1, 0, 0, 1, 1, 1, 0, 0, 0, 0, 1, 1, 1, 0, 0, 0, 0, 1,\n        1, 1, 0, 0])"
     },
     "metadata": {},
     "output_type": "display_data"
    },
    {
     "data": {
      "text/plain": "tensor([ 0,  1,  2,  3,  4,  4,  4,  5,  6,  7,  7,  7,  8,  9, 10, 11, 12, 12,\n        12, 13, 14, 15, 16, 17, 17, 17, 18, 19])"
     },
     "metadata": {},
     "output_type": "display_data"
    },
    {
     "data": {
      "text/plain": "'Layer: 1'"
     },
     "metadata": {},
     "output_type": "display_data"
    },
    {
     "data": {
      "text/plain": "tensor([[ 0, -1,  2, -1, -1,  5, -1, -1,  8, -1, 10, -1, -1, 13, -1, 15, -1, -1,\n         18, -1],\n        [ 1, -1,  3, -1, -1,  6, -1, -1,  9, -1, 11, -1, -1, 14, -1, 16, -1, -1,\n         19, -1],\n        [-1, -1,  4, -1, -1,  7, -1, -1, -1, -1, 12, -1, -1, -1, -1, 17, -1, -1,\n         -1, -1]], dtype=torch.int32)"
     },
     "metadata": {},
     "output_type": "display_data"
    },
    {
     "data": {
      "text/plain": "tensor([3, 3, 3, 3, 3, 3, 3, 3, 3, 3, 3, 3, 3, 3, 3, 3, 3, 3, 3, 3])"
     },
     "metadata": {},
     "output_type": "display_data"
    },
    {
     "data": {
      "text/plain": "tensor([0, 0, 1, 1, 1, 2, 2, 2, 3, 3, 4, 4, 4, 5, 5, 6, 6, 6, 7, 7])"
     },
     "metadata": {},
     "output_type": "display_data"
    },
    {
     "data": {
      "text/plain": "'Batch: 1'"
     },
     "metadata": {},
     "output_type": "display_data"
    },
    {
     "data": {
      "text/plain": "['{\"S\": [0, 1]}',\n '{\"S\": [1, 0, {\"P\": [3, 7, 5]}]}',\n '{\"S\": [2, 3, {\"P\": [0, 5, 7]}]}',\n '{\"S\": [3, 2]}',\n '{\"S\": [4, 5, {\"P\": [0, 7, 3]}]}',\n '{\"S\": [5, 4]}',\n '{\"S\": [6, 7, {\"P\": [0, 3, 5]}]}',\n '{\"S\": [7, 6]}']"
     },
     "metadata": {},
     "output_type": "display_data"
    },
    {
     "data": {
      "text/plain": "tensor([0, 1, 1, 0, 3, 7, 5, 2, 3, 0, 5, 7, 3, 2, 4, 5, 0, 7, 3, 5, 4, 6, 7, 0,\n        3, 5, 7, 6])"
     },
     "metadata": {},
     "output_type": "display_data"
    },
    {
     "data": {
      "text/plain": "'Layer: 0'"
     },
     "metadata": {},
     "output_type": "display_data"
    },
    {
     "data": {
      "text/plain": "tensor([[ 0,  1,  2,  3,  4,  5,  6,  7,  8,  9, 10, 11, 12, 13, 14, 15, 16, 17,\n         18, 19, 20, 21, 22, 23, 24, 25, 26, 27],\n        [-1, -1, -1, -1, -1, -1, -1, -1, -1, -1, -1, -1, -1, -1, -1, -1, -1, -1,\n         -1, -1, -1, -1, -1, -1, -1, -1, -1, -1],\n        [-1, -1, -1, -1, -1, -1, -1, -1, -1, -1, -1, -1, -1, -1, -1, -1, -1, -1,\n         -1, -1, -1, -1, -1, -1, -1, -1, -1, -1]], dtype=torch.int32)"
     },
     "metadata": {},
     "output_type": "display_data"
    },
    {
     "data": {
      "text/plain": "tensor([0, 0, 0, 0, 1, 1, 1, 0, 0, 1, 1, 1, 0, 0, 0, 0, 1, 1, 1, 0, 0, 0, 0, 1,\n        1, 1, 0, 0])"
     },
     "metadata": {},
     "output_type": "display_data"
    },
    {
     "data": {
      "text/plain": "tensor([ 0,  1,  2,  3,  4,  4,  4,  5,  6,  7,  7,  7,  8,  9, 10, 11, 12, 12,\n        12, 13, 14, 15, 16, 17, 17, 17, 18, 19])"
     },
     "metadata": {},
     "output_type": "display_data"
    },
    {
     "data": {
      "text/plain": "'Layer: 1'"
     },
     "metadata": {},
     "output_type": "display_data"
    },
    {
     "data": {
      "text/plain": "tensor([[ 0, -1,  2, -1, -1,  5, -1, -1,  8, -1, 10, -1, -1, 13, -1, 15, -1, -1,\n         18, -1],\n        [ 1, -1,  3, -1, -1,  6, -1, -1,  9, -1, 11, -1, -1, 14, -1, 16, -1, -1,\n         19, -1],\n        [-1, -1,  4, -1, -1,  7, -1, -1, -1, -1, 12, -1, -1, -1, -1, 17, -1, -1,\n         -1, -1]], dtype=torch.int32)"
     },
     "metadata": {},
     "output_type": "display_data"
    },
    {
     "data": {
      "text/plain": "tensor([3, 3, 3, 3, 3, 3, 3, 3, 3, 3, 3, 3, 3, 3, 3, 3, 3, 3, 3, 3])"
     },
     "metadata": {},
     "output_type": "display_data"
    },
    {
     "data": {
      "text/plain": "tensor([0, 0, 1, 1, 1, 2, 2, 2, 3, 3, 4, 4, 4, 5, 5, 6, 6, 6, 7, 7])"
     },
     "metadata": {},
     "output_type": "display_data"
    },
    {
     "data": {
      "text/plain": "'Batch: 2'"
     },
     "metadata": {},
     "output_type": "display_data"
    },
    {
     "data": {
      "text/plain": "['{\"S\": [0, 1]}',\n '{\"S\": [1, 0, {\"P\": [3, 7, 5]}]}',\n '{\"S\": [2, 3, {\"P\": [0, 5, 7]}]}',\n '{\"S\": [3, 2]}',\n '{\"S\": [4, 5, {\"P\": [0, 7, 3]}]}',\n '{\"S\": [5, 4]}',\n '{\"S\": [6, 7, {\"P\": [0, 3, 5]}]}',\n '{\"S\": [7, 6]}']"
     },
     "metadata": {},
     "output_type": "display_data"
    },
    {
     "data": {
      "text/plain": "tensor([0, 1, 1, 0, 3, 7, 5, 2, 3, 0, 5, 7, 3, 2, 4, 5, 0, 7, 3, 5, 4, 6, 7, 0,\n        3, 5, 7, 6])"
     },
     "metadata": {},
     "output_type": "display_data"
    },
    {
     "data": {
      "text/plain": "'Layer: 0'"
     },
     "metadata": {},
     "output_type": "display_data"
    },
    {
     "data": {
      "text/plain": "tensor([[ 0,  1,  2,  3,  4,  5,  6,  7,  8,  9, 10, 11, 12, 13, 14, 15, 16, 17,\n         18, 19, 20, 21, 22, 23, 24, 25, 26, 27],\n        [-1, -1, -1, -1, -1, -1, -1, -1, -1, -1, -1, -1, -1, -1, -1, -1, -1, -1,\n         -1, -1, -1, -1, -1, -1, -1, -1, -1, -1],\n        [-1, -1, -1, -1, -1, -1, -1, -1, -1, -1, -1, -1, -1, -1, -1, -1, -1, -1,\n         -1, -1, -1, -1, -1, -1, -1, -1, -1, -1]], dtype=torch.int32)"
     },
     "metadata": {},
     "output_type": "display_data"
    },
    {
     "data": {
      "text/plain": "tensor([0, 0, 0, 0, 1, 1, 1, 0, 0, 1, 1, 1, 0, 0, 0, 0, 1, 1, 1, 0, 0, 0, 0, 1,\n        1, 1, 0, 0])"
     },
     "metadata": {},
     "output_type": "display_data"
    },
    {
     "data": {
      "text/plain": "tensor([ 0,  1,  2,  3,  4,  4,  4,  5,  6,  7,  7,  7,  8,  9, 10, 11, 12, 12,\n        12, 13, 14, 15, 16, 17, 17, 17, 18, 19])"
     },
     "metadata": {},
     "output_type": "display_data"
    },
    {
     "data": {
      "text/plain": "'Layer: 1'"
     },
     "metadata": {},
     "output_type": "display_data"
    },
    {
     "data": {
      "text/plain": "tensor([[ 0, -1,  2, -1, -1,  5, -1, -1,  8, -1, 10, -1, -1, 13, -1, 15, -1, -1,\n         18, -1],\n        [ 1, -1,  3, -1, -1,  6, -1, -1,  9, -1, 11, -1, -1, 14, -1, 16, -1, -1,\n         19, -1],\n        [-1, -1,  4, -1, -1,  7, -1, -1, -1, -1, 12, -1, -1, -1, -1, 17, -1, -1,\n         -1, -1]], dtype=torch.int32)"
     },
     "metadata": {},
     "output_type": "display_data"
    },
    {
     "data": {
      "text/plain": "tensor([3, 3, 3, 3, 3, 3, 3, 3, 3, 3, 3, 3, 3, 3, 3, 3, 3, 3, 3, 3])"
     },
     "metadata": {},
     "output_type": "display_data"
    },
    {
     "data": {
      "text/plain": "tensor([0, 0, 1, 1, 1, 2, 2, 2, 3, 3, 4, 4, 4, 5, 5, 6, 6, 6, 7, 7])"
     },
     "metadata": {},
     "output_type": "display_data"
    },
    {
     "data": {
      "text/plain": "'Batch: 3'"
     },
     "metadata": {},
     "output_type": "display_data"
    },
    {
     "data": {
      "text/plain": "['{\"S\": [0, 1]}',\n '{\"S\": [1, 0, {\"P\": [3, 5, 7]}]}',\n '{\"S\": [2, 3, {\"P\": [0, 7, 5]}]}',\n '{\"S\": [3, 2]}',\n '{\"S\": [4, 5, {\"P\": [0, 3, 7]}]}',\n '{\"S\": [5, 4]}',\n '{\"S\": [6, 7, {\"P\": [0, 5, 3]}]}',\n '{\"S\": [7, 6]}']"
     },
     "metadata": {},
     "output_type": "display_data"
    },
    {
     "data": {
      "text/plain": "tensor([0, 1, 1, 0, 3, 5, 7, 2, 3, 0, 7, 5, 3, 2, 4, 5, 0, 3, 7, 5, 4, 6, 7, 0,\n        5, 3, 7, 6])"
     },
     "metadata": {},
     "output_type": "display_data"
    },
    {
     "data": {
      "text/plain": "'Layer: 0'"
     },
     "metadata": {},
     "output_type": "display_data"
    },
    {
     "data": {
      "text/plain": "tensor([[ 0,  1,  2,  3,  4,  5,  6,  7,  8,  9, 10, 11, 12, 13, 14, 15, 16, 17,\n         18, 19, 20, 21, 22, 23, 24, 25, 26, 27],\n        [-1, -1, -1, -1, -1, -1, -1, -1, -1, -1, -1, -1, -1, -1, -1, -1, -1, -1,\n         -1, -1, -1, -1, -1, -1, -1, -1, -1, -1],\n        [-1, -1, -1, -1, -1, -1, -1, -1, -1, -1, -1, -1, -1, -1, -1, -1, -1, -1,\n         -1, -1, -1, -1, -1, -1, -1, -1, -1, -1]], dtype=torch.int32)"
     },
     "metadata": {},
     "output_type": "display_data"
    },
    {
     "data": {
      "text/plain": "tensor([0, 0, 0, 0, 1, 1, 1, 0, 0, 1, 1, 1, 0, 0, 0, 0, 1, 1, 1, 0, 0, 0, 0, 1,\n        1, 1, 0, 0])"
     },
     "metadata": {},
     "output_type": "display_data"
    },
    {
     "data": {
      "text/plain": "tensor([ 0,  1,  2,  3,  4,  4,  4,  5,  6,  7,  7,  7,  8,  9, 10, 11, 12, 12,\n        12, 13, 14, 15, 16, 17, 17, 17, 18, 19])"
     },
     "metadata": {},
     "output_type": "display_data"
    },
    {
     "data": {
      "text/plain": "'Layer: 1'"
     },
     "metadata": {},
     "output_type": "display_data"
    },
    {
     "data": {
      "text/plain": "tensor([[ 0, -1,  2, -1, -1,  5, -1, -1,  8, -1, 10, -1, -1, 13, -1, 15, -1, -1,\n         18, -1],\n        [ 1, -1,  3, -1, -1,  6, -1, -1,  9, -1, 11, -1, -1, 14, -1, 16, -1, -1,\n         19, -1],\n        [-1, -1,  4, -1, -1,  7, -1, -1, -1, -1, 12, -1, -1, -1, -1, 17, -1, -1,\n         -1, -1]], dtype=torch.int32)"
     },
     "metadata": {},
     "output_type": "display_data"
    },
    {
     "data": {
      "text/plain": "tensor([3, 3, 3, 3, 3, 3, 3, 3, 3, 3, 3, 3, 3, 3, 3, 3, 3, 3, 3, 3])"
     },
     "metadata": {},
     "output_type": "display_data"
    },
    {
     "data": {
      "text/plain": "tensor([0, 0, 1, 1, 1, 2, 2, 2, 3, 3, 4, 4, 4, 5, 5, 6, 6, 6, 7, 7])"
     },
     "metadata": {},
     "output_type": "display_data"
    }
   ],
   "source": [
    "for idx, batch in enumerate(batch_list):\n",
    "    display(f\"Batch: {idx}\")\n",
    "    display(batch.ptree)\n",
    "    display(batch.initial_map)\n",
    "    for layer_idx in range(batch.num_layer):\n",
    "        display(f\"Layer: {layer_idx}\")\n",
    "        display(\n",
    "            batch[f\"layer{layer_idx}_order_matrix\"],\n",
    "            batch[f\"layer{layer_idx}_type_mask\"],\n",
    "            batch[f\"layer{layer_idx}_pooling\"]\n",
    "        )"
   ],
   "metadata": {
    "collapsed": false,
    "ExecuteTime": {
     "start_time": "2024-03-21T17:22:22.678700Z",
     "end_time": "2024-03-21T17:22:22.743751Z"
    }
   }
  },
  {
   "cell_type": "code",
   "execution_count": 13,
   "outputs": [
    {
     "data": {
      "text/plain": "array([[ True,  True,  True,  True],\n       [ True,  True,  True,  True],\n       [ True,  True,  True,  True],\n       [ True,  True,  True,  True]])"
     },
     "metadata": {},
     "output_type": "display_data"
    }
   ],
   "source": [
    "# compare output\n",
    "display(np.array(\n",
    "    [\n",
    "        [\n",
    "            (batch_list[i].x == batch_list[j].x).all()\n",
    "            for j in range(len(batch_list))\n",
    "        ]\n",
    "        for i in range(len(batch_list))\n",
    "    ]\n",
    "))"
   ],
   "metadata": {
    "collapsed": false,
    "ExecuteTime": {
     "start_time": "2024-03-21T17:22:23.621446Z",
     "end_time": "2024-03-21T17:22:23.652446Z"
    }
   }
  },
  {
   "cell_type": "markdown",
   "id": "b86ffd2b-ec5f-49bf-8ab7-86f384b6e0c6",
   "metadata": {},
   "source": [
    "## Put batches through model"
   ]
  },
  {
   "cell_type": "code",
   "execution_count": 14,
   "id": "ca6a5499-e4a0-43a8-8a09-9bfc1f9eb67d",
   "metadata": {
    "tags": [],
    "ExecuteTime": {
     "start_time": "2024-03-21T17:22:24.962513Z",
     "end_time": "2024-03-21T17:22:24.991569Z"
    }
   },
   "outputs": [],
   "source": [
    "out_list = [\n",
    "    model(batch)\n",
    "    for batch in batch_list\n",
    "]"
   ]
  },
  {
   "cell_type": "code",
   "execution_count": 15,
   "outputs": [
    {
     "data": {
      "text/plain": "[tensor([[-4.4191e-02,  3.7564e-01, -3.4068e-01,  1.8457e-01, -9.2140e-02,\n          -3.4469e-02, -1.2673e-01,  1.3412e-01,  2.4889e-01, -3.6339e-02,\n          -1.2080e-01,  1.1216e-01,  3.3973e-01, -5.9182e-02,  1.8331e-01,\n          -4.2451e-02, -7.3896e-02,  3.8357e-02, -8.0386e-02,  1.8329e-01,\n           1.3826e-02, -1.8220e-01, -1.0260e-01, -1.2480e-01, -1.6995e-01,\n          -2.6801e-01, -8.9155e-02, -2.5587e-02, -1.2324e-01,  3.4821e-02,\n          -1.5104e-01, -7.6424e-02,  1.1215e-01,  1.2972e-01,  1.6971e-01,\n           2.7645e-01, -2.0175e-01,  2.0760e-01, -1.4197e-01, -1.9704e-01,\n           1.0928e-02, -1.7327e-01,  4.5348e-02, -1.1208e-01,  2.0262e-02,\n          -3.4954e-02, -2.9550e-02,  2.9360e-01,  1.6929e-02,  1.3186e-01,\n          -1.8967e-01, -2.5985e-01,  1.1595e-01, -1.7775e-01, -6.8590e-02,\n          -8.6716e-03, -2.0346e-02,  1.8528e-01,  9.4934e-02,  4.1732e-02,\n           7.1158e-02, -5.6045e-02, -5.2776e-02, -5.1579e-02,  1.9683e-01,\n          -8.1481e-03,  1.1772e-01, -8.2547e-02, -6.8437e-02, -8.9691e-02,\n          -7.3204e-02,  1.6634e-01,  8.9073e-02,  6.5629e-02,  9.1790e-02,\n           2.3429e-01, -8.1608e-02, -4.9825e-02,  6.6192e-02,  2.2018e-01,\n          -5.5476e-02, -3.2645e-02,  1.0818e-01,  9.5096e-02, -6.4262e-02,\n          -6.2015e-02, -1.7771e-01,  1.9701e-02,  3.4262e-02,  6.2884e-03,\n          -1.3079e-01,  1.3422e-01, -1.6845e-01],\n         [-7.2516e-02,  3.6400e-01, -3.7958e-01,  1.5944e-02, -2.0319e-01,\n          -2.9720e-01, -1.1325e-01, -8.0986e-02,  1.0461e-01,  1.4403e-02,\n          -1.2373e-01,  1.4685e-01,  3.0775e-01,  4.1231e-02, -3.8309e-02,\n           1.7607e-02, -2.0315e-01,  1.1018e-01, -2.3430e-01,  4.7896e-02,\n           1.0632e-01, -2.3769e-01, -2.6223e-01, -2.4284e-01, -9.0592e-02,\n          -1.0958e-01, -2.1986e-01, -1.8018e-01,  1.7729e-01, -7.0074e-02,\n          -1.5144e-01,  5.9257e-02, -3.1440e-01,  8.3902e-02,  1.9171e-01,\n           3.0707e-01, -8.7475e-02,  1.4177e-01,  4.3108e-02, -2.9137e-01,\n           6.6521e-02, -1.0253e-01, -3.7629e-02, -2.3121e-01,  3.6062e-03,\n          -3.8997e-03,  6.4867e-02,  1.9398e-01,  1.9849e-01,  1.5861e-01,\n          -2.3144e-01, -4.6000e-01,  2.8103e-01, -2.0539e-01, -1.1256e-01,\n           1.3501e-02, -5.9108e-02,  8.6606e-02,  1.3145e-01,  6.1241e-02,\n           1.9306e-01,  7.6606e-02,  5.1331e-02, -2.7607e-01,  6.3245e-02,\n          -5.8395e-02,  7.2523e-02, -3.2961e-01, -2.3958e-01,  3.8086e-03,\n           2.9452e-02, -1.6548e-02,  1.0663e-01, -1.3919e-01, -4.6927e-02,\n           8.7240e-02,  5.7471e-02, -2.1795e-01,  1.3416e-01,  7.7114e-02,\n          -8.6656e-03, -5.3112e-02,  4.9717e-02,  2.7091e-01,  1.4855e-01,\n          -8.0129e-02, -1.1748e-01, -1.4701e-01,  2.0997e-02, -2.4384e-02,\n          -1.2059e-01,  3.4334e-01, -4.0300e-01],\n         [-3.6384e-02,  2.9990e-01, -3.1693e-01, -8.7490e-02, -2.2967e-01,\n          -2.4121e-01, -8.3728e-02, -1.3169e-01,  1.6245e-01,  2.1701e-02,\n          -1.3030e-01,  1.6122e-01,  2.7791e-01, -3.0086e-02,  8.2780e-02,\n           9.3991e-03, -2.7001e-01,  1.1833e-01, -2.7037e-01, -3.2905e-02,\n           2.5854e-02, -2.2594e-01, -1.8007e-01, -2.1213e-01, -6.5484e-02,\n          -9.0043e-02, -3.0113e-01, -2.4047e-01,  1.9047e-01, -5.6040e-02,\n          -1.9201e-01,  5.2812e-02, -3.0567e-01, -2.9940e-02,  1.5358e-01,\n           2.2759e-01,  4.0730e-02,  2.0637e-01,  9.1727e-02, -2.8187e-01,\n           1.3428e-01, -8.3763e-02,  4.9762e-02, -2.7067e-01,  9.0334e-02,\n          -3.0699e-02,  1.3903e-01,  1.6730e-01,  2.0256e-01,  1.9187e-01,\n          -2.9623e-01, -4.8901e-01,  1.9449e-01, -1.9048e-01, -1.0652e-01,\n          -1.4327e-01,  9.2449e-03, -1.2577e-02,  7.6342e-02,  1.0465e-02,\n           2.3572e-01,  6.2992e-02,  3.5191e-03, -2.4041e-01,  8.6969e-02,\n          -1.1209e-02,  4.6188e-02, -3.4391e-01, -1.3328e-01, -4.0982e-02,\n           1.5452e-02, -5.5949e-02,  1.9026e-01, -1.5427e-01, -1.2460e-01,\n           1.3726e-01,  7.6841e-02, -2.0870e-01,  1.8265e-01,  4.3865e-02,\n          -6.3767e-02, -1.0277e-02,  1.3920e-01,  2.8829e-01,  2.2058e-01,\n          -6.9605e-02,  1.0259e-03, -1.7997e-01,  8.2519e-02,  5.5087e-02,\n          -1.0300e-01,  3.1792e-01, -3.6606e-01],\n         [-1.5940e-01,  4.5752e-01, -2.9050e-01,  1.2549e-01, -1.2638e-01,\n          -1.2438e-01, -1.6647e-01, -4.2272e-02,  2.2060e-01, -5.6458e-02,\n          -1.0575e-01,  1.6507e-01,  4.1152e-01, -6.2966e-02,  1.7079e-01,\n           1.6153e-02, -3.3567e-02,  6.6303e-02, -1.7586e-01,  1.3214e-01,\n          -6.6940e-02, -2.1034e-01, -1.4369e-01, -2.1129e-01, -1.2272e-01,\n          -2.5382e-01, -1.2565e-01, -1.9827e-02, -9.3621e-02,  1.0434e-01,\n          -1.6088e-01, -1.4272e-01,  1.0351e-02,  7.3227e-02,  1.1842e-01,\n           1.4739e-01, -1.2664e-01,  1.8822e-01, -1.0997e-01, -2.8350e-01,\n           4.3494e-02, -1.4833e-01,  3.4206e-02, -1.9982e-01,  4.6388e-03,\n          -7.6671e-02, -9.1026e-03,  2.5658e-01,  6.6868e-02,  1.5372e-01,\n          -1.7591e-01, -3.3214e-01,  8.7694e-02, -1.2524e-01, -5.9722e-02,\n          -7.4891e-02, -6.5889e-02,  1.2272e-01,  6.7328e-02,  2.4559e-02,\n           5.4836e-03, -7.2573e-02, -4.6018e-02, -9.3212e-02,  8.5998e-02,\n          -2.7506e-02,  4.7225e-02, -1.1988e-01, -8.0825e-02, -5.8405e-02,\n           1.1972e-02,  3.0891e-01,  1.5924e-01,  1.2205e-01,  3.6028e-02,\n           2.4944e-01, -7.5978e-02, -1.1158e-01, -6.4492e-05,  1.5847e-01,\n          -6.7319e-02, -1.1059e-01,  7.8810e-02,  1.0867e-01, -3.5786e-02,\n          -1.0510e-01, -9.0137e-02, -1.8919e-02, -2.5898e-02, -1.9493e-03,\n          -1.3848e-01,  1.7995e-01, -1.9917e-01],\n         [-4.5176e-02,  3.7519e-01, -3.4393e-01,  4.0073e-03, -1.5645e-01,\n          -2.4805e-01, -3.0997e-02, -7.7884e-02,  1.5810e-01,  5.6350e-02,\n          -1.1998e-01,  1.2947e-01,  2.7218e-01,  3.0402e-02,  1.0845e-01,\n           3.2013e-03, -1.5979e-01,  5.6637e-02, -2.3479e-01,  8.5521e-02,\n           1.6866e-01, -8.6432e-02, -2.6185e-01, -1.4512e-01, -5.4650e-02,\n          -2.9653e-02, -1.6618e-01, -1.2691e-01,  1.9379e-01, -1.6484e-01,\n          -1.6633e-01, -2.1946e-02, -2.5965e-01,  3.7700e-02,  2.4354e-01,\n           1.7071e-01, -8.4848e-02,  1.4407e-01, -2.1766e-03, -3.2639e-01,\n           1.6524e-01, -5.4412e-02,  8.5460e-02, -2.2032e-01,  2.6815e-02,\n          -2.6657e-02,  1.5214e-01,  2.5720e-01,  2.0932e-01,  8.4007e-02,\n          -2.4253e-01, -4.9695e-01,  2.6247e-01, -1.7905e-01, -6.4636e-02,\n           4.4402e-02,  3.4072e-02, -1.0578e-02,  1.2645e-01,  2.1847e-02,\n           3.0496e-01,  5.1102e-02, -5.8945e-02, -2.8166e-01,  1.2152e-01,\n          -7.5129e-02,  9.2686e-02, -3.3575e-01, -1.2726e-01, -1.3599e-02,\n          -2.1400e-02, -9.9686e-03,  2.1799e-01, -1.6658e-01, -1.4839e-01,\n           1.6088e-01,  7.1977e-02, -2.2999e-01,  1.4012e-01,  5.5614e-02,\n           2.1183e-02, -2.0653e-02,  1.4521e-01,  1.7411e-01,  1.2330e-01,\n          -6.4654e-02, -1.6314e-02, -2.1071e-01,  4.4435e-02,  5.9881e-02,\n          -9.6405e-02,  2.5651e-01, -3.7822e-01],\n         [-9.6503e-02,  4.2909e-01, -2.7228e-01,  1.2327e-01, -1.2298e-01,\n          -7.8863e-02, -9.3894e-02, -6.7513e-02,  2.1766e-01, -8.0042e-02,\n          -9.5815e-02,  7.0617e-02,  3.9188e-01, -4.2929e-02,  1.4287e-01,\n          -5.2788e-02,  3.2167e-02,  8.6374e-02, -1.2668e-01,  1.7492e-01,\n          -7.0781e-02, -9.7463e-02, -8.9942e-02, -2.1687e-01, -4.4691e-02,\n          -2.6871e-01, -1.2050e-01, -2.4369e-02, -1.8521e-02,  1.0565e-01,\n          -1.2230e-01, -8.8338e-02,  3.9582e-02,  1.0091e-01,  1.2114e-01,\n           1.6084e-01, -1.8860e-01,  1.9243e-01, -9.4245e-02, -2.4472e-01,\n           3.5885e-02, -1.4161e-01,  7.0151e-02, -2.3256e-01,  5.9618e-02,\n          -8.0846e-02,  7.3667e-02,  2.9164e-01,  7.3474e-02,  9.4586e-02,\n          -2.4284e-01, -3.4051e-01,  8.2260e-02, -5.0845e-02, -1.4641e-01,\n          -1.6294e-02,  1.1938e-02,  1.1596e-01, -7.3978e-03, -1.3870e-02,\n           8.9832e-02, -9.1514e-03, -4.0033e-02, -7.9580e-02,  3.1870e-02,\n           3.1265e-02,  6.1399e-02, -1.4063e-01, -8.0576e-02, -5.8981e-02,\n          -3.5884e-02,  2.5351e-01,  4.6376e-02,  5.1181e-02,  6.1082e-02,\n           2.3550e-01, -4.9393e-02, -1.2914e-01,  3.1820e-02,  1.0722e-01,\n          -1.2440e-02, -1.3934e-01,  1.5587e-02,  1.2879e-01, -1.7702e-02,\n          -4.3179e-02, -8.7213e-02, -1.3155e-01,  3.9829e-02,  7.5491e-02,\n           1.1969e-03,  1.0772e-01, -1.8582e-01],\n         [-5.6809e-02,  3.3363e-01, -3.8990e-01,  7.6983e-02, -2.2869e-01,\n          -2.6587e-01, -1.7430e-01, -2.2778e-01,  2.2609e-01, -5.1947e-02,\n          -1.8535e-01,  1.9610e-01,  3.2027e-01, -2.7247e-02, -9.4601e-02,\n           4.2076e-02, -2.5239e-01,  1.1263e-01, -1.5134e-01,  1.5634e-02,\n           2.5287e-01, -9.0813e-02, -2.9634e-01, -2.1130e-01, -1.1115e-02,\n          -9.8642e-02, -1.8316e-01, -1.5870e-01,  3.9621e-02, -9.9592e-02,\n          -8.8417e-02,  6.6626e-02, -2.1056e-01,  3.0238e-02,  2.5038e-01,\n           1.1003e-01, -8.2188e-02,  2.1201e-01, -1.1363e-02, -3.2987e-01,\n           1.3491e-01, -7.3455e-02,  5.4735e-02, -1.6418e-01,  2.2369e-03,\n          -1.8846e-02,  7.4274e-02,  2.6251e-01,  2.0101e-01,  1.2903e-01,\n          -1.6212e-01, -3.1587e-01,  2.9434e-01, -1.8481e-01, -7.8878e-02,\n          -7.7474e-03,  1.9449e-02, -6.3259e-02,  9.4371e-02, -2.8975e-02,\n           2.0050e-01,  1.7101e-01, -6.2642e-02, -2.5720e-01,  6.6201e-02,\n          -8.0512e-02, -3.3337e-02, -3.2746e-01, -7.2738e-02, -1.5122e-01,\n          -1.0326e-01,  1.7357e-02,  1.0035e-01, -1.4236e-01, -9.3971e-02,\n           2.0209e-01,  3.0481e-01, -2.4522e-01,  2.2790e-01, -4.8304e-03,\n          -9.8513e-02,  1.3229e-01,  2.2088e-01,  5.6084e-02,  7.3297e-02,\n          -8.3609e-02,  2.1731e-02, -2.4462e-01,  9.7104e-02,  1.8782e-02,\n          -1.3526e-01,  1.9780e-01, -3.9030e-01],\n         [-2.3220e-02,  2.9243e-01, -1.6563e-01,  1.0747e-01, -1.7631e-01,\n           1.5034e-01, -1.7184e-02,  1.2243e-01,  2.6896e-01,  4.1595e-02,\n          -1.9420e-01,  1.1213e-01,  2.8846e-01, -1.6997e-01,  2.4561e-01,\n          -9.0237e-02,  2.0302e-02,  5.6648e-03, -3.2767e-02, -2.9542e-02,\n           9.0030e-04, -2.0216e-01, -2.9879e-02, -6.0757e-02, -1.9790e-01,\n          -1.9528e-01, -1.1436e-01, -1.6983e-02, -1.2510e-01,  1.4378e-01,\n          -1.4002e-01, -1.6311e-02,  1.5179e-01, -7.7861e-02,  1.8453e-01,\n           2.1553e-01, -1.0653e-01,  1.6762e-01, -1.5600e-01, -3.0062e-01,\n           4.7501e-02, -2.1931e-01,  1.0703e-01, -1.7784e-01, -3.6501e-02,\n          -8.3824e-02, -1.2053e-01,  1.3369e-01,  8.6093e-02,  5.6633e-02,\n          -3.0093e-01, -3.4843e-01,  1.9472e-02,  5.1520e-03, -1.6180e-01,\n           4.3741e-02,  6.9291e-02,  9.3359e-02, -9.3671e-02,  3.3592e-02,\n           9.5083e-04, -9.8207e-02, -1.1874e-01, -1.5085e-01, -3.4250e-03,\n           1.0594e-01,  9.3834e-02, -3.1786e-02, -3.5103e-02, -6.2030e-02,\n           1.3652e-01,  1.0596e-01, -8.5605e-02,  1.7205e-01, -1.8377e-02,\n           3.3342e-01,  4.8658e-02, -5.5252e-03,  7.3274e-02,  1.9395e-01,\n          -1.0011e-01, -9.3343e-02,  7.7798e-02,  6.4025e-02, -5.3268e-02,\n          -1.0706e-01, -4.9688e-02,  3.5291e-02,  9.7075e-02,  1.4644e-01,\n           5.9137e-02,  2.2968e-02, -1.9076e-01]], grad_fn=<IndexPutBackward0>),\n tensor([[-4.4191e-02,  3.7564e-01, -3.4068e-01,  1.8457e-01, -9.2140e-02,\n          -3.4469e-02, -1.2673e-01,  1.3412e-01,  2.4889e-01, -3.6339e-02,\n          -1.2080e-01,  1.1216e-01,  3.3973e-01, -5.9182e-02,  1.8331e-01,\n          -4.2451e-02, -7.3896e-02,  3.8357e-02, -8.0386e-02,  1.8329e-01,\n           1.3826e-02, -1.8220e-01, -1.0260e-01, -1.2480e-01, -1.6995e-01,\n          -2.6801e-01, -8.9155e-02, -2.5587e-02, -1.2324e-01,  3.4821e-02,\n          -1.5104e-01, -7.6424e-02,  1.1215e-01,  1.2972e-01,  1.6971e-01,\n           2.7645e-01, -2.0175e-01,  2.0760e-01, -1.4197e-01, -1.9704e-01,\n           1.0928e-02, -1.7327e-01,  4.5348e-02, -1.1208e-01,  2.0262e-02,\n          -3.4954e-02, -2.9550e-02,  2.9360e-01,  1.6929e-02,  1.3186e-01,\n          -1.8967e-01, -2.5985e-01,  1.1595e-01, -1.7775e-01, -6.8590e-02,\n          -8.6716e-03, -2.0346e-02,  1.8528e-01,  9.4934e-02,  4.1732e-02,\n           7.1158e-02, -5.6045e-02, -5.2776e-02, -5.1579e-02,  1.9683e-01,\n          -8.1481e-03,  1.1772e-01, -8.2547e-02, -6.8437e-02, -8.9691e-02,\n          -7.3204e-02,  1.6634e-01,  8.9073e-02,  6.5629e-02,  9.1790e-02,\n           2.3429e-01, -8.1608e-02, -4.9825e-02,  6.6192e-02,  2.2018e-01,\n          -5.5476e-02, -3.2645e-02,  1.0818e-01,  9.5096e-02, -6.4262e-02,\n          -6.2015e-02, -1.7771e-01,  1.9701e-02,  3.4262e-02,  6.2884e-03,\n          -1.3079e-01,  1.3422e-01, -1.6845e-01],\n         [-7.2516e-02,  3.6400e-01, -3.7958e-01,  1.5944e-02, -2.0319e-01,\n          -2.9720e-01, -1.1325e-01, -8.0986e-02,  1.0461e-01,  1.4403e-02,\n          -1.2373e-01,  1.4685e-01,  3.0775e-01,  4.1231e-02, -3.8309e-02,\n           1.7607e-02, -2.0315e-01,  1.1018e-01, -2.3430e-01,  4.7896e-02,\n           1.0632e-01, -2.3769e-01, -2.6223e-01, -2.4284e-01, -9.0592e-02,\n          -1.0958e-01, -2.1986e-01, -1.8018e-01,  1.7729e-01, -7.0074e-02,\n          -1.5144e-01,  5.9257e-02, -3.1440e-01,  8.3902e-02,  1.9171e-01,\n           3.0707e-01, -8.7475e-02,  1.4177e-01,  4.3108e-02, -2.9137e-01,\n           6.6521e-02, -1.0253e-01, -3.7629e-02, -2.3121e-01,  3.6062e-03,\n          -3.8997e-03,  6.4867e-02,  1.9398e-01,  1.9849e-01,  1.5861e-01,\n          -2.3144e-01, -4.6000e-01,  2.8103e-01, -2.0539e-01, -1.1256e-01,\n           1.3501e-02, -5.9108e-02,  8.6606e-02,  1.3145e-01,  6.1241e-02,\n           1.9306e-01,  7.6606e-02,  5.1331e-02, -2.7607e-01,  6.3245e-02,\n          -5.8395e-02,  7.2523e-02, -3.2961e-01, -2.3958e-01,  3.8086e-03,\n           2.9452e-02, -1.6548e-02,  1.0663e-01, -1.3919e-01, -4.6927e-02,\n           8.7240e-02,  5.7471e-02, -2.1795e-01,  1.3416e-01,  7.7114e-02,\n          -8.6656e-03, -5.3112e-02,  4.9717e-02,  2.7091e-01,  1.4855e-01,\n          -8.0129e-02, -1.1748e-01, -1.4701e-01,  2.0997e-02, -2.4384e-02,\n          -1.2059e-01,  3.4334e-01, -4.0300e-01],\n         [-3.6384e-02,  2.9990e-01, -3.1693e-01, -8.7490e-02, -2.2967e-01,\n          -2.4121e-01, -8.3728e-02, -1.3169e-01,  1.6245e-01,  2.1701e-02,\n          -1.3030e-01,  1.6122e-01,  2.7791e-01, -3.0086e-02,  8.2780e-02,\n           9.3991e-03, -2.7001e-01,  1.1833e-01, -2.7037e-01, -3.2905e-02,\n           2.5854e-02, -2.2594e-01, -1.8007e-01, -2.1213e-01, -6.5484e-02,\n          -9.0043e-02, -3.0113e-01, -2.4047e-01,  1.9047e-01, -5.6040e-02,\n          -1.9201e-01,  5.2812e-02, -3.0567e-01, -2.9940e-02,  1.5358e-01,\n           2.2759e-01,  4.0730e-02,  2.0637e-01,  9.1727e-02, -2.8187e-01,\n           1.3428e-01, -8.3763e-02,  4.9762e-02, -2.7067e-01,  9.0334e-02,\n          -3.0699e-02,  1.3903e-01,  1.6730e-01,  2.0256e-01,  1.9187e-01,\n          -2.9623e-01, -4.8901e-01,  1.9449e-01, -1.9048e-01, -1.0652e-01,\n          -1.4327e-01,  9.2449e-03, -1.2577e-02,  7.6342e-02,  1.0465e-02,\n           2.3572e-01,  6.2992e-02,  3.5191e-03, -2.4041e-01,  8.6969e-02,\n          -1.1209e-02,  4.6188e-02, -3.4391e-01, -1.3328e-01, -4.0982e-02,\n           1.5452e-02, -5.5949e-02,  1.9026e-01, -1.5427e-01, -1.2460e-01,\n           1.3726e-01,  7.6841e-02, -2.0870e-01,  1.8265e-01,  4.3865e-02,\n          -6.3767e-02, -1.0277e-02,  1.3920e-01,  2.8829e-01,  2.2058e-01,\n          -6.9605e-02,  1.0259e-03, -1.7997e-01,  8.2519e-02,  5.5087e-02,\n          -1.0300e-01,  3.1792e-01, -3.6606e-01],\n         [-1.5940e-01,  4.5752e-01, -2.9050e-01,  1.2549e-01, -1.2638e-01,\n          -1.2438e-01, -1.6647e-01, -4.2272e-02,  2.2060e-01, -5.6458e-02,\n          -1.0575e-01,  1.6507e-01,  4.1152e-01, -6.2966e-02,  1.7079e-01,\n           1.6153e-02, -3.3567e-02,  6.6303e-02, -1.7586e-01,  1.3214e-01,\n          -6.6940e-02, -2.1034e-01, -1.4369e-01, -2.1129e-01, -1.2272e-01,\n          -2.5382e-01, -1.2565e-01, -1.9827e-02, -9.3621e-02,  1.0434e-01,\n          -1.6088e-01, -1.4272e-01,  1.0351e-02,  7.3227e-02,  1.1842e-01,\n           1.4739e-01, -1.2664e-01,  1.8822e-01, -1.0997e-01, -2.8350e-01,\n           4.3494e-02, -1.4833e-01,  3.4206e-02, -1.9982e-01,  4.6388e-03,\n          -7.6671e-02, -9.1026e-03,  2.5658e-01,  6.6868e-02,  1.5372e-01,\n          -1.7591e-01, -3.3214e-01,  8.7694e-02, -1.2524e-01, -5.9722e-02,\n          -7.4891e-02, -6.5889e-02,  1.2272e-01,  6.7328e-02,  2.4559e-02,\n           5.4836e-03, -7.2573e-02, -4.6018e-02, -9.3212e-02,  8.5998e-02,\n          -2.7506e-02,  4.7225e-02, -1.1988e-01, -8.0825e-02, -5.8405e-02,\n           1.1972e-02,  3.0891e-01,  1.5924e-01,  1.2205e-01,  3.6028e-02,\n           2.4944e-01, -7.5978e-02, -1.1158e-01, -6.4492e-05,  1.5847e-01,\n          -6.7319e-02, -1.1059e-01,  7.8810e-02,  1.0867e-01, -3.5786e-02,\n          -1.0510e-01, -9.0137e-02, -1.8919e-02, -2.5898e-02, -1.9493e-03,\n          -1.3848e-01,  1.7995e-01, -1.9917e-01],\n         [-4.5176e-02,  3.7519e-01, -3.4393e-01,  4.0073e-03, -1.5645e-01,\n          -2.4805e-01, -3.0997e-02, -7.7884e-02,  1.5810e-01,  5.6350e-02,\n          -1.1998e-01,  1.2947e-01,  2.7218e-01,  3.0402e-02,  1.0845e-01,\n           3.2013e-03, -1.5979e-01,  5.6637e-02, -2.3479e-01,  8.5521e-02,\n           1.6866e-01, -8.6432e-02, -2.6185e-01, -1.4512e-01, -5.4650e-02,\n          -2.9653e-02, -1.6618e-01, -1.2691e-01,  1.9379e-01, -1.6484e-01,\n          -1.6633e-01, -2.1946e-02, -2.5965e-01,  3.7700e-02,  2.4354e-01,\n           1.7071e-01, -8.4848e-02,  1.4407e-01, -2.1766e-03, -3.2639e-01,\n           1.6524e-01, -5.4412e-02,  8.5460e-02, -2.2032e-01,  2.6815e-02,\n          -2.6657e-02,  1.5214e-01,  2.5720e-01,  2.0932e-01,  8.4007e-02,\n          -2.4253e-01, -4.9695e-01,  2.6247e-01, -1.7905e-01, -6.4636e-02,\n           4.4402e-02,  3.4072e-02, -1.0578e-02,  1.2645e-01,  2.1847e-02,\n           3.0496e-01,  5.1102e-02, -5.8945e-02, -2.8166e-01,  1.2152e-01,\n          -7.5129e-02,  9.2686e-02, -3.3575e-01, -1.2726e-01, -1.3599e-02,\n          -2.1400e-02, -9.9686e-03,  2.1799e-01, -1.6658e-01, -1.4839e-01,\n           1.6088e-01,  7.1977e-02, -2.2999e-01,  1.4012e-01,  5.5614e-02,\n           2.1183e-02, -2.0653e-02,  1.4521e-01,  1.7411e-01,  1.2330e-01,\n          -6.4654e-02, -1.6314e-02, -2.1071e-01,  4.4435e-02,  5.9881e-02,\n          -9.6405e-02,  2.5651e-01, -3.7822e-01],\n         [-9.6503e-02,  4.2909e-01, -2.7228e-01,  1.2327e-01, -1.2298e-01,\n          -7.8863e-02, -9.3894e-02, -6.7513e-02,  2.1766e-01, -8.0042e-02,\n          -9.5815e-02,  7.0617e-02,  3.9188e-01, -4.2929e-02,  1.4287e-01,\n          -5.2788e-02,  3.2167e-02,  8.6374e-02, -1.2668e-01,  1.7492e-01,\n          -7.0781e-02, -9.7463e-02, -8.9942e-02, -2.1687e-01, -4.4691e-02,\n          -2.6871e-01, -1.2050e-01, -2.4369e-02, -1.8521e-02,  1.0565e-01,\n          -1.2230e-01, -8.8338e-02,  3.9582e-02,  1.0091e-01,  1.2114e-01,\n           1.6084e-01, -1.8860e-01,  1.9243e-01, -9.4245e-02, -2.4472e-01,\n           3.5885e-02, -1.4161e-01,  7.0151e-02, -2.3256e-01,  5.9618e-02,\n          -8.0846e-02,  7.3667e-02,  2.9164e-01,  7.3474e-02,  9.4586e-02,\n          -2.4284e-01, -3.4051e-01,  8.2260e-02, -5.0845e-02, -1.4641e-01,\n          -1.6294e-02,  1.1938e-02,  1.1596e-01, -7.3978e-03, -1.3870e-02,\n           8.9832e-02, -9.1514e-03, -4.0033e-02, -7.9580e-02,  3.1870e-02,\n           3.1265e-02,  6.1399e-02, -1.4063e-01, -8.0576e-02, -5.8981e-02,\n          -3.5884e-02,  2.5351e-01,  4.6376e-02,  5.1181e-02,  6.1082e-02,\n           2.3550e-01, -4.9393e-02, -1.2914e-01,  3.1820e-02,  1.0722e-01,\n          -1.2440e-02, -1.3934e-01,  1.5587e-02,  1.2879e-01, -1.7702e-02,\n          -4.3179e-02, -8.7213e-02, -1.3155e-01,  3.9829e-02,  7.5491e-02,\n           1.1969e-03,  1.0772e-01, -1.8582e-01],\n         [-5.6809e-02,  3.3363e-01, -3.8990e-01,  7.6983e-02, -2.2869e-01,\n          -2.6587e-01, -1.7430e-01, -2.2778e-01,  2.2609e-01, -5.1947e-02,\n          -1.8535e-01,  1.9610e-01,  3.2027e-01, -2.7247e-02, -9.4601e-02,\n           4.2076e-02, -2.5239e-01,  1.1263e-01, -1.5134e-01,  1.5634e-02,\n           2.5287e-01, -9.0813e-02, -2.9634e-01, -2.1130e-01, -1.1115e-02,\n          -9.8642e-02, -1.8316e-01, -1.5870e-01,  3.9621e-02, -9.9592e-02,\n          -8.8417e-02,  6.6626e-02, -2.1056e-01,  3.0238e-02,  2.5038e-01,\n           1.1003e-01, -8.2188e-02,  2.1201e-01, -1.1363e-02, -3.2987e-01,\n           1.3491e-01, -7.3455e-02,  5.4735e-02, -1.6418e-01,  2.2369e-03,\n          -1.8846e-02,  7.4274e-02,  2.6251e-01,  2.0101e-01,  1.2903e-01,\n          -1.6212e-01, -3.1587e-01,  2.9434e-01, -1.8481e-01, -7.8878e-02,\n          -7.7474e-03,  1.9449e-02, -6.3259e-02,  9.4371e-02, -2.8975e-02,\n           2.0050e-01,  1.7101e-01, -6.2642e-02, -2.5720e-01,  6.6201e-02,\n          -8.0512e-02, -3.3337e-02, -3.2746e-01, -7.2738e-02, -1.5122e-01,\n          -1.0326e-01,  1.7357e-02,  1.0035e-01, -1.4236e-01, -9.3971e-02,\n           2.0209e-01,  3.0481e-01, -2.4522e-01,  2.2790e-01, -4.8304e-03,\n          -9.8513e-02,  1.3229e-01,  2.2088e-01,  5.6084e-02,  7.3297e-02,\n          -8.3609e-02,  2.1731e-02, -2.4462e-01,  9.7104e-02,  1.8782e-02,\n          -1.3526e-01,  1.9780e-01, -3.9030e-01],\n         [-2.3220e-02,  2.9243e-01, -1.6563e-01,  1.0747e-01, -1.7631e-01,\n           1.5034e-01, -1.7184e-02,  1.2243e-01,  2.6896e-01,  4.1595e-02,\n          -1.9420e-01,  1.1213e-01,  2.8846e-01, -1.6997e-01,  2.4561e-01,\n          -9.0237e-02,  2.0302e-02,  5.6648e-03, -3.2767e-02, -2.9542e-02,\n           9.0030e-04, -2.0216e-01, -2.9879e-02, -6.0757e-02, -1.9790e-01,\n          -1.9528e-01, -1.1436e-01, -1.6983e-02, -1.2510e-01,  1.4378e-01,\n          -1.4002e-01, -1.6311e-02,  1.5179e-01, -7.7861e-02,  1.8453e-01,\n           2.1553e-01, -1.0653e-01,  1.6762e-01, -1.5600e-01, -3.0062e-01,\n           4.7501e-02, -2.1931e-01,  1.0703e-01, -1.7784e-01, -3.6501e-02,\n          -8.3824e-02, -1.2053e-01,  1.3369e-01,  8.6093e-02,  5.6633e-02,\n          -3.0093e-01, -3.4843e-01,  1.9472e-02,  5.1520e-03, -1.6180e-01,\n           4.3741e-02,  6.9291e-02,  9.3359e-02, -9.3671e-02,  3.3592e-02,\n           9.5083e-04, -9.8207e-02, -1.1874e-01, -1.5085e-01, -3.4250e-03,\n           1.0594e-01,  9.3834e-02, -3.1786e-02, -3.5103e-02, -6.2030e-02,\n           1.3652e-01,  1.0596e-01, -8.5605e-02,  1.7205e-01, -1.8377e-02,\n           3.3342e-01,  4.8658e-02, -5.5252e-03,  7.3274e-02,  1.9395e-01,\n          -1.0011e-01, -9.3343e-02,  7.7798e-02,  6.4025e-02, -5.3268e-02,\n          -1.0706e-01, -4.9688e-02,  3.5291e-02,  9.7075e-02,  1.4644e-01,\n           5.9137e-02,  2.2968e-02, -1.9076e-01]], grad_fn=<IndexPutBackward0>),\n tensor([[-4.4191e-02,  3.7564e-01, -3.4068e-01,  1.8457e-01, -9.2140e-02,\n          -3.4469e-02, -1.2673e-01,  1.3412e-01,  2.4889e-01, -3.6339e-02,\n          -1.2080e-01,  1.1216e-01,  3.3973e-01, -5.9182e-02,  1.8331e-01,\n          -4.2451e-02, -7.3896e-02,  3.8357e-02, -8.0386e-02,  1.8329e-01,\n           1.3826e-02, -1.8220e-01, -1.0260e-01, -1.2480e-01, -1.6995e-01,\n          -2.6801e-01, -8.9155e-02, -2.5587e-02, -1.2324e-01,  3.4821e-02,\n          -1.5104e-01, -7.6424e-02,  1.1215e-01,  1.2972e-01,  1.6971e-01,\n           2.7645e-01, -2.0175e-01,  2.0760e-01, -1.4197e-01, -1.9704e-01,\n           1.0928e-02, -1.7327e-01,  4.5348e-02, -1.1208e-01,  2.0262e-02,\n          -3.4954e-02, -2.9550e-02,  2.9360e-01,  1.6929e-02,  1.3186e-01,\n          -1.8967e-01, -2.5985e-01,  1.1595e-01, -1.7775e-01, -6.8590e-02,\n          -8.6716e-03, -2.0346e-02,  1.8528e-01,  9.4934e-02,  4.1732e-02,\n           7.1158e-02, -5.6045e-02, -5.2776e-02, -5.1579e-02,  1.9683e-01,\n          -8.1481e-03,  1.1772e-01, -8.2547e-02, -6.8437e-02, -8.9691e-02,\n          -7.3204e-02,  1.6634e-01,  8.9073e-02,  6.5629e-02,  9.1790e-02,\n           2.3429e-01, -8.1608e-02, -4.9825e-02,  6.6192e-02,  2.2018e-01,\n          -5.5476e-02, -3.2645e-02,  1.0818e-01,  9.5096e-02, -6.4262e-02,\n          -6.2015e-02, -1.7771e-01,  1.9701e-02,  3.4262e-02,  6.2884e-03,\n          -1.3079e-01,  1.3422e-01, -1.6845e-01],\n         [-7.2516e-02,  3.6400e-01, -3.7958e-01,  1.5944e-02, -2.0319e-01,\n          -2.9720e-01, -1.1325e-01, -8.0986e-02,  1.0461e-01,  1.4403e-02,\n          -1.2373e-01,  1.4685e-01,  3.0775e-01,  4.1231e-02, -3.8309e-02,\n           1.7607e-02, -2.0315e-01,  1.1018e-01, -2.3430e-01,  4.7896e-02,\n           1.0632e-01, -2.3769e-01, -2.6223e-01, -2.4284e-01, -9.0592e-02,\n          -1.0958e-01, -2.1986e-01, -1.8018e-01,  1.7729e-01, -7.0074e-02,\n          -1.5144e-01,  5.9257e-02, -3.1440e-01,  8.3902e-02,  1.9171e-01,\n           3.0707e-01, -8.7475e-02,  1.4177e-01,  4.3108e-02, -2.9137e-01,\n           6.6521e-02, -1.0253e-01, -3.7629e-02, -2.3121e-01,  3.6062e-03,\n          -3.8997e-03,  6.4867e-02,  1.9398e-01,  1.9849e-01,  1.5861e-01,\n          -2.3144e-01, -4.6000e-01,  2.8103e-01, -2.0539e-01, -1.1256e-01,\n           1.3501e-02, -5.9108e-02,  8.6606e-02,  1.3145e-01,  6.1241e-02,\n           1.9306e-01,  7.6606e-02,  5.1331e-02, -2.7607e-01,  6.3245e-02,\n          -5.8395e-02,  7.2523e-02, -3.2961e-01, -2.3958e-01,  3.8086e-03,\n           2.9452e-02, -1.6548e-02,  1.0663e-01, -1.3919e-01, -4.6927e-02,\n           8.7240e-02,  5.7471e-02, -2.1795e-01,  1.3416e-01,  7.7114e-02,\n          -8.6656e-03, -5.3112e-02,  4.9717e-02,  2.7091e-01,  1.4855e-01,\n          -8.0129e-02, -1.1748e-01, -1.4701e-01,  2.0997e-02, -2.4384e-02,\n          -1.2059e-01,  3.4334e-01, -4.0300e-01],\n         [-3.6384e-02,  2.9990e-01, -3.1693e-01, -8.7490e-02, -2.2967e-01,\n          -2.4121e-01, -8.3728e-02, -1.3169e-01,  1.6245e-01,  2.1701e-02,\n          -1.3030e-01,  1.6122e-01,  2.7791e-01, -3.0086e-02,  8.2780e-02,\n           9.3991e-03, -2.7001e-01,  1.1833e-01, -2.7037e-01, -3.2905e-02,\n           2.5854e-02, -2.2594e-01, -1.8007e-01, -2.1213e-01, -6.5484e-02,\n          -9.0043e-02, -3.0113e-01, -2.4047e-01,  1.9047e-01, -5.6040e-02,\n          -1.9201e-01,  5.2812e-02, -3.0567e-01, -2.9940e-02,  1.5358e-01,\n           2.2759e-01,  4.0730e-02,  2.0637e-01,  9.1727e-02, -2.8187e-01,\n           1.3428e-01, -8.3763e-02,  4.9762e-02, -2.7067e-01,  9.0334e-02,\n          -3.0699e-02,  1.3903e-01,  1.6730e-01,  2.0256e-01,  1.9187e-01,\n          -2.9623e-01, -4.8901e-01,  1.9449e-01, -1.9048e-01, -1.0652e-01,\n          -1.4327e-01,  9.2449e-03, -1.2577e-02,  7.6342e-02,  1.0465e-02,\n           2.3572e-01,  6.2992e-02,  3.5191e-03, -2.4041e-01,  8.6969e-02,\n          -1.1209e-02,  4.6188e-02, -3.4391e-01, -1.3328e-01, -4.0982e-02,\n           1.5452e-02, -5.5949e-02,  1.9026e-01, -1.5427e-01, -1.2460e-01,\n           1.3726e-01,  7.6841e-02, -2.0870e-01,  1.8265e-01,  4.3865e-02,\n          -6.3767e-02, -1.0277e-02,  1.3920e-01,  2.8829e-01,  2.2058e-01,\n          -6.9605e-02,  1.0259e-03, -1.7997e-01,  8.2519e-02,  5.5087e-02,\n          -1.0300e-01,  3.1792e-01, -3.6606e-01],\n         [-1.5940e-01,  4.5752e-01, -2.9050e-01,  1.2549e-01, -1.2638e-01,\n          -1.2438e-01, -1.6647e-01, -4.2272e-02,  2.2060e-01, -5.6458e-02,\n          -1.0575e-01,  1.6507e-01,  4.1152e-01, -6.2966e-02,  1.7079e-01,\n           1.6153e-02, -3.3567e-02,  6.6303e-02, -1.7586e-01,  1.3214e-01,\n          -6.6940e-02, -2.1034e-01, -1.4369e-01, -2.1129e-01, -1.2272e-01,\n          -2.5382e-01, -1.2565e-01, -1.9827e-02, -9.3621e-02,  1.0434e-01,\n          -1.6088e-01, -1.4272e-01,  1.0351e-02,  7.3227e-02,  1.1842e-01,\n           1.4739e-01, -1.2664e-01,  1.8822e-01, -1.0997e-01, -2.8350e-01,\n           4.3494e-02, -1.4833e-01,  3.4206e-02, -1.9982e-01,  4.6388e-03,\n          -7.6671e-02, -9.1026e-03,  2.5658e-01,  6.6868e-02,  1.5372e-01,\n          -1.7591e-01, -3.3214e-01,  8.7694e-02, -1.2524e-01, -5.9722e-02,\n          -7.4891e-02, -6.5889e-02,  1.2272e-01,  6.7328e-02,  2.4559e-02,\n           5.4836e-03, -7.2573e-02, -4.6018e-02, -9.3212e-02,  8.5998e-02,\n          -2.7506e-02,  4.7225e-02, -1.1988e-01, -8.0825e-02, -5.8405e-02,\n           1.1972e-02,  3.0891e-01,  1.5924e-01,  1.2205e-01,  3.6028e-02,\n           2.4944e-01, -7.5978e-02, -1.1158e-01, -6.4492e-05,  1.5847e-01,\n          -6.7319e-02, -1.1059e-01,  7.8810e-02,  1.0867e-01, -3.5786e-02,\n          -1.0510e-01, -9.0137e-02, -1.8919e-02, -2.5898e-02, -1.9493e-03,\n          -1.3848e-01,  1.7995e-01, -1.9917e-01],\n         [-4.5176e-02,  3.7519e-01, -3.4393e-01,  4.0073e-03, -1.5645e-01,\n          -2.4805e-01, -3.0997e-02, -7.7884e-02,  1.5810e-01,  5.6350e-02,\n          -1.1998e-01,  1.2947e-01,  2.7218e-01,  3.0402e-02,  1.0845e-01,\n           3.2013e-03, -1.5979e-01,  5.6637e-02, -2.3479e-01,  8.5521e-02,\n           1.6866e-01, -8.6432e-02, -2.6185e-01, -1.4512e-01, -5.4650e-02,\n          -2.9653e-02, -1.6618e-01, -1.2691e-01,  1.9379e-01, -1.6484e-01,\n          -1.6633e-01, -2.1946e-02, -2.5965e-01,  3.7700e-02,  2.4354e-01,\n           1.7071e-01, -8.4848e-02,  1.4407e-01, -2.1766e-03, -3.2639e-01,\n           1.6524e-01, -5.4412e-02,  8.5460e-02, -2.2032e-01,  2.6815e-02,\n          -2.6657e-02,  1.5214e-01,  2.5720e-01,  2.0932e-01,  8.4007e-02,\n          -2.4253e-01, -4.9695e-01,  2.6247e-01, -1.7905e-01, -6.4636e-02,\n           4.4402e-02,  3.4072e-02, -1.0578e-02,  1.2645e-01,  2.1847e-02,\n           3.0496e-01,  5.1102e-02, -5.8945e-02, -2.8166e-01,  1.2152e-01,\n          -7.5129e-02,  9.2686e-02, -3.3575e-01, -1.2726e-01, -1.3599e-02,\n          -2.1400e-02, -9.9686e-03,  2.1799e-01, -1.6658e-01, -1.4839e-01,\n           1.6088e-01,  7.1977e-02, -2.2999e-01,  1.4012e-01,  5.5614e-02,\n           2.1183e-02, -2.0653e-02,  1.4521e-01,  1.7411e-01,  1.2330e-01,\n          -6.4654e-02, -1.6314e-02, -2.1071e-01,  4.4435e-02,  5.9881e-02,\n          -9.6405e-02,  2.5651e-01, -3.7822e-01],\n         [-9.6503e-02,  4.2909e-01, -2.7228e-01,  1.2327e-01, -1.2298e-01,\n          -7.8863e-02, -9.3894e-02, -6.7513e-02,  2.1766e-01, -8.0042e-02,\n          -9.5815e-02,  7.0617e-02,  3.9188e-01, -4.2929e-02,  1.4287e-01,\n          -5.2788e-02,  3.2167e-02,  8.6374e-02, -1.2668e-01,  1.7492e-01,\n          -7.0781e-02, -9.7463e-02, -8.9942e-02, -2.1687e-01, -4.4691e-02,\n          -2.6871e-01, -1.2050e-01, -2.4369e-02, -1.8521e-02,  1.0565e-01,\n          -1.2230e-01, -8.8338e-02,  3.9582e-02,  1.0091e-01,  1.2114e-01,\n           1.6084e-01, -1.8860e-01,  1.9243e-01, -9.4245e-02, -2.4472e-01,\n           3.5885e-02, -1.4161e-01,  7.0151e-02, -2.3256e-01,  5.9618e-02,\n          -8.0846e-02,  7.3667e-02,  2.9164e-01,  7.3474e-02,  9.4586e-02,\n          -2.4284e-01, -3.4051e-01,  8.2260e-02, -5.0845e-02, -1.4641e-01,\n          -1.6294e-02,  1.1938e-02,  1.1596e-01, -7.3978e-03, -1.3870e-02,\n           8.9832e-02, -9.1514e-03, -4.0033e-02, -7.9580e-02,  3.1870e-02,\n           3.1265e-02,  6.1399e-02, -1.4063e-01, -8.0576e-02, -5.8981e-02,\n          -3.5884e-02,  2.5351e-01,  4.6376e-02,  5.1181e-02,  6.1082e-02,\n           2.3550e-01, -4.9393e-02, -1.2914e-01,  3.1820e-02,  1.0722e-01,\n          -1.2440e-02, -1.3934e-01,  1.5587e-02,  1.2879e-01, -1.7702e-02,\n          -4.3179e-02, -8.7213e-02, -1.3155e-01,  3.9829e-02,  7.5491e-02,\n           1.1969e-03,  1.0772e-01, -1.8582e-01],\n         [-5.6809e-02,  3.3363e-01, -3.8990e-01,  7.6983e-02, -2.2869e-01,\n          -2.6587e-01, -1.7430e-01, -2.2778e-01,  2.2609e-01, -5.1947e-02,\n          -1.8535e-01,  1.9610e-01,  3.2027e-01, -2.7247e-02, -9.4601e-02,\n           4.2076e-02, -2.5239e-01,  1.1263e-01, -1.5134e-01,  1.5634e-02,\n           2.5287e-01, -9.0813e-02, -2.9634e-01, -2.1130e-01, -1.1115e-02,\n          -9.8642e-02, -1.8316e-01, -1.5870e-01,  3.9621e-02, -9.9592e-02,\n          -8.8417e-02,  6.6626e-02, -2.1056e-01,  3.0238e-02,  2.5038e-01,\n           1.1003e-01, -8.2188e-02,  2.1201e-01, -1.1363e-02, -3.2987e-01,\n           1.3491e-01, -7.3455e-02,  5.4735e-02, -1.6418e-01,  2.2369e-03,\n          -1.8846e-02,  7.4274e-02,  2.6251e-01,  2.0101e-01,  1.2903e-01,\n          -1.6212e-01, -3.1587e-01,  2.9434e-01, -1.8481e-01, -7.8878e-02,\n          -7.7474e-03,  1.9449e-02, -6.3259e-02,  9.4371e-02, -2.8975e-02,\n           2.0050e-01,  1.7101e-01, -6.2642e-02, -2.5720e-01,  6.6201e-02,\n          -8.0512e-02, -3.3337e-02, -3.2746e-01, -7.2738e-02, -1.5122e-01,\n          -1.0326e-01,  1.7357e-02,  1.0035e-01, -1.4236e-01, -9.3971e-02,\n           2.0209e-01,  3.0481e-01, -2.4522e-01,  2.2790e-01, -4.8304e-03,\n          -9.8513e-02,  1.3229e-01,  2.2088e-01,  5.6084e-02,  7.3297e-02,\n          -8.3609e-02,  2.1731e-02, -2.4462e-01,  9.7104e-02,  1.8782e-02,\n          -1.3526e-01,  1.9780e-01, -3.9030e-01],\n         [-2.3220e-02,  2.9243e-01, -1.6563e-01,  1.0747e-01, -1.7631e-01,\n           1.5034e-01, -1.7184e-02,  1.2243e-01,  2.6896e-01,  4.1595e-02,\n          -1.9420e-01,  1.1213e-01,  2.8846e-01, -1.6997e-01,  2.4561e-01,\n          -9.0237e-02,  2.0302e-02,  5.6648e-03, -3.2767e-02, -2.9542e-02,\n           9.0030e-04, -2.0216e-01, -2.9879e-02, -6.0757e-02, -1.9790e-01,\n          -1.9528e-01, -1.1436e-01, -1.6983e-02, -1.2510e-01,  1.4378e-01,\n          -1.4002e-01, -1.6311e-02,  1.5179e-01, -7.7861e-02,  1.8453e-01,\n           2.1553e-01, -1.0653e-01,  1.6762e-01, -1.5600e-01, -3.0062e-01,\n           4.7501e-02, -2.1931e-01,  1.0703e-01, -1.7784e-01, -3.6501e-02,\n          -8.3824e-02, -1.2053e-01,  1.3369e-01,  8.6093e-02,  5.6633e-02,\n          -3.0093e-01, -3.4843e-01,  1.9472e-02,  5.1520e-03, -1.6180e-01,\n           4.3741e-02,  6.9291e-02,  9.3359e-02, -9.3671e-02,  3.3592e-02,\n           9.5083e-04, -9.8207e-02, -1.1874e-01, -1.5085e-01, -3.4250e-03,\n           1.0594e-01,  9.3834e-02, -3.1786e-02, -3.5103e-02, -6.2030e-02,\n           1.3652e-01,  1.0596e-01, -8.5605e-02,  1.7205e-01, -1.8377e-02,\n           3.3342e-01,  4.8658e-02, -5.5252e-03,  7.3274e-02,  1.9395e-01,\n          -1.0011e-01, -9.3343e-02,  7.7798e-02,  6.4025e-02, -5.3268e-02,\n          -1.0706e-01, -4.9688e-02,  3.5291e-02,  9.7075e-02,  1.4644e-01,\n           5.9137e-02,  2.2968e-02, -1.9076e-01]], grad_fn=<IndexPutBackward0>),\n tensor([[-4.4191e-02,  3.7564e-01, -3.4068e-01,  1.8457e-01, -9.2140e-02,\n          -3.4469e-02, -1.2673e-01,  1.3412e-01,  2.4889e-01, -3.6339e-02,\n          -1.2080e-01,  1.1216e-01,  3.3973e-01, -5.9182e-02,  1.8331e-01,\n          -4.2451e-02, -7.3896e-02,  3.8357e-02, -8.0386e-02,  1.8329e-01,\n           1.3826e-02, -1.8220e-01, -1.0260e-01, -1.2480e-01, -1.6995e-01,\n          -2.6801e-01, -8.9155e-02, -2.5587e-02, -1.2324e-01,  3.4821e-02,\n          -1.5104e-01, -7.6424e-02,  1.1215e-01,  1.2972e-01,  1.6971e-01,\n           2.7645e-01, -2.0175e-01,  2.0760e-01, -1.4197e-01, -1.9704e-01,\n           1.0928e-02, -1.7327e-01,  4.5348e-02, -1.1208e-01,  2.0262e-02,\n          -3.4954e-02, -2.9550e-02,  2.9360e-01,  1.6929e-02,  1.3186e-01,\n          -1.8967e-01, -2.5985e-01,  1.1595e-01, -1.7775e-01, -6.8590e-02,\n          -8.6716e-03, -2.0346e-02,  1.8528e-01,  9.4934e-02,  4.1732e-02,\n           7.1158e-02, -5.6045e-02, -5.2776e-02, -5.1579e-02,  1.9683e-01,\n          -8.1481e-03,  1.1772e-01, -8.2547e-02, -6.8437e-02, -8.9691e-02,\n          -7.3204e-02,  1.6634e-01,  8.9073e-02,  6.5629e-02,  9.1790e-02,\n           2.3429e-01, -8.1608e-02, -4.9825e-02,  6.6192e-02,  2.2018e-01,\n          -5.5476e-02, -3.2645e-02,  1.0818e-01,  9.5096e-02, -6.4262e-02,\n          -6.2015e-02, -1.7771e-01,  1.9701e-02,  3.4262e-02,  6.2884e-03,\n          -1.3079e-01,  1.3422e-01, -1.6845e-01],\n         [-7.2516e-02,  3.6400e-01, -3.7958e-01,  1.5944e-02, -2.0319e-01,\n          -2.9720e-01, -1.1325e-01, -8.0986e-02,  1.0461e-01,  1.4403e-02,\n          -1.2373e-01,  1.4685e-01,  3.0775e-01,  4.1231e-02, -3.8309e-02,\n           1.7607e-02, -2.0315e-01,  1.1018e-01, -2.3430e-01,  4.7896e-02,\n           1.0632e-01, -2.3769e-01, -2.6223e-01, -2.4284e-01, -9.0592e-02,\n          -1.0958e-01, -2.1986e-01, -1.8018e-01,  1.7729e-01, -7.0074e-02,\n          -1.5144e-01,  5.9257e-02, -3.1440e-01,  8.3902e-02,  1.9171e-01,\n           3.0707e-01, -8.7475e-02,  1.4177e-01,  4.3108e-02, -2.9137e-01,\n           6.6521e-02, -1.0253e-01, -3.7629e-02, -2.3121e-01,  3.6062e-03,\n          -3.8997e-03,  6.4867e-02,  1.9398e-01,  1.9849e-01,  1.5860e-01,\n          -2.3144e-01, -4.6000e-01,  2.8103e-01, -2.0539e-01, -1.1256e-01,\n           1.3501e-02, -5.9108e-02,  8.6606e-02,  1.3145e-01,  6.1241e-02,\n           1.9306e-01,  7.6606e-02,  5.1331e-02, -2.7607e-01,  6.3245e-02,\n          -5.8395e-02,  7.2523e-02, -3.2961e-01, -2.3958e-01,  3.8086e-03,\n           2.9452e-02, -1.6548e-02,  1.0663e-01, -1.3919e-01, -4.6927e-02,\n           8.7240e-02,  5.7471e-02, -2.1795e-01,  1.3416e-01,  7.7114e-02,\n          -8.6656e-03, -5.3112e-02,  4.9717e-02,  2.7091e-01,  1.4855e-01,\n          -8.0129e-02, -1.1748e-01, -1.4701e-01,  2.0997e-02, -2.4384e-02,\n          -1.2059e-01,  3.4334e-01, -4.0300e-01],\n         [-3.6384e-02,  2.9990e-01, -3.1693e-01, -8.7490e-02, -2.2967e-01,\n          -2.4121e-01, -8.3728e-02, -1.3169e-01,  1.6245e-01,  2.1701e-02,\n          -1.3030e-01,  1.6122e-01,  2.7791e-01, -3.0086e-02,  8.2780e-02,\n           9.3991e-03, -2.7001e-01,  1.1833e-01, -2.7037e-01, -3.2905e-02,\n           2.5854e-02, -2.2594e-01, -1.8007e-01, -2.1213e-01, -6.5484e-02,\n          -9.0043e-02, -3.0113e-01, -2.4047e-01,  1.9047e-01, -5.6040e-02,\n          -1.9201e-01,  5.2812e-02, -3.0567e-01, -2.9940e-02,  1.5358e-01,\n           2.2759e-01,  4.0730e-02,  2.0637e-01,  9.1727e-02, -2.8187e-01,\n           1.3428e-01, -8.3763e-02,  4.9762e-02, -2.7067e-01,  9.0334e-02,\n          -3.0699e-02,  1.3903e-01,  1.6730e-01,  2.0256e-01,  1.9187e-01,\n          -2.9623e-01, -4.8901e-01,  1.9449e-01, -1.9048e-01, -1.0652e-01,\n          -1.4327e-01,  9.2449e-03, -1.2577e-02,  7.6342e-02,  1.0465e-02,\n           2.3572e-01,  6.2992e-02,  3.5191e-03, -2.4041e-01,  8.6969e-02,\n          -1.1209e-02,  4.6188e-02, -3.4391e-01, -1.3328e-01, -4.0982e-02,\n           1.5452e-02, -5.5949e-02,  1.9026e-01, -1.5427e-01, -1.2460e-01,\n           1.3726e-01,  7.6841e-02, -2.0870e-01,  1.8265e-01,  4.3865e-02,\n          -6.3767e-02, -1.0277e-02,  1.3920e-01,  2.8829e-01,  2.2058e-01,\n          -6.9605e-02,  1.0259e-03, -1.7997e-01,  8.2519e-02,  5.5087e-02,\n          -1.0300e-01,  3.1792e-01, -3.6606e-01],\n         [-1.5940e-01,  4.5752e-01, -2.9050e-01,  1.2549e-01, -1.2638e-01,\n          -1.2438e-01, -1.6647e-01, -4.2272e-02,  2.2060e-01, -5.6458e-02,\n          -1.0575e-01,  1.6507e-01,  4.1152e-01, -6.2966e-02,  1.7079e-01,\n           1.6153e-02, -3.3567e-02,  6.6303e-02, -1.7586e-01,  1.3214e-01,\n          -6.6940e-02, -2.1034e-01, -1.4369e-01, -2.1129e-01, -1.2272e-01,\n          -2.5382e-01, -1.2565e-01, -1.9827e-02, -9.3621e-02,  1.0434e-01,\n          -1.6088e-01, -1.4272e-01,  1.0351e-02,  7.3227e-02,  1.1842e-01,\n           1.4739e-01, -1.2664e-01,  1.8822e-01, -1.0997e-01, -2.8350e-01,\n           4.3494e-02, -1.4833e-01,  3.4206e-02, -1.9982e-01,  4.6388e-03,\n          -7.6671e-02, -9.1026e-03,  2.5658e-01,  6.6868e-02,  1.5372e-01,\n          -1.7591e-01, -3.3214e-01,  8.7694e-02, -1.2524e-01, -5.9722e-02,\n          -7.4891e-02, -6.5889e-02,  1.2272e-01,  6.7328e-02,  2.4559e-02,\n           5.4836e-03, -7.2573e-02, -4.6018e-02, -9.3212e-02,  8.5998e-02,\n          -2.7506e-02,  4.7225e-02, -1.1988e-01, -8.0825e-02, -5.8405e-02,\n           1.1972e-02,  3.0891e-01,  1.5924e-01,  1.2205e-01,  3.6028e-02,\n           2.4944e-01, -7.5978e-02, -1.1158e-01, -6.4492e-05,  1.5847e-01,\n          -6.7319e-02, -1.1059e-01,  7.8810e-02,  1.0867e-01, -3.5786e-02,\n          -1.0510e-01, -9.0137e-02, -1.8919e-02, -2.5898e-02, -1.9493e-03,\n          -1.3848e-01,  1.7995e-01, -1.9917e-01],\n         [-4.5176e-02,  3.7519e-01, -3.4393e-01,  4.0073e-03, -1.5645e-01,\n          -2.4805e-01, -3.0997e-02, -7.7884e-02,  1.5810e-01,  5.6350e-02,\n          -1.1998e-01,  1.2947e-01,  2.7218e-01,  3.0402e-02,  1.0845e-01,\n           3.2013e-03, -1.5979e-01,  5.6637e-02, -2.3479e-01,  8.5521e-02,\n           1.6866e-01, -8.6432e-02, -2.6185e-01, -1.4512e-01, -5.4650e-02,\n          -2.9653e-02, -1.6618e-01, -1.2691e-01,  1.9379e-01, -1.6484e-01,\n          -1.6633e-01, -2.1946e-02, -2.5965e-01,  3.7700e-02,  2.4354e-01,\n           1.7071e-01, -8.4848e-02,  1.4407e-01, -2.1766e-03, -3.2639e-01,\n           1.6524e-01, -5.4412e-02,  8.5460e-02, -2.2032e-01,  2.6815e-02,\n          -2.6657e-02,  1.5214e-01,  2.5720e-01,  2.0932e-01,  8.4007e-02,\n          -2.4253e-01, -4.9695e-01,  2.6247e-01, -1.7905e-01, -6.4636e-02,\n           4.4402e-02,  3.4072e-02, -1.0578e-02,  1.2645e-01,  2.1847e-02,\n           3.0496e-01,  5.1102e-02, -5.8945e-02, -2.8166e-01,  1.2152e-01,\n          -7.5129e-02,  9.2686e-02, -3.3575e-01, -1.2726e-01, -1.3599e-02,\n          -2.1400e-02, -9.9686e-03,  2.1799e-01, -1.6658e-01, -1.4839e-01,\n           1.6088e-01,  7.1977e-02, -2.2999e-01,  1.4012e-01,  5.5614e-02,\n           2.1183e-02, -2.0653e-02,  1.4521e-01,  1.7411e-01,  1.2330e-01,\n          -6.4654e-02, -1.6314e-02, -2.1071e-01,  4.4435e-02,  5.9881e-02,\n          -9.6405e-02,  2.5651e-01, -3.7822e-01],\n         [-9.6503e-02,  4.2909e-01, -2.7228e-01,  1.2327e-01, -1.2298e-01,\n          -7.8863e-02, -9.3894e-02, -6.7513e-02,  2.1766e-01, -8.0042e-02,\n          -9.5815e-02,  7.0617e-02,  3.9188e-01, -4.2929e-02,  1.4287e-01,\n          -5.2788e-02,  3.2167e-02,  8.6374e-02, -1.2668e-01,  1.7492e-01,\n          -7.0781e-02, -9.7463e-02, -8.9942e-02, -2.1687e-01, -4.4691e-02,\n          -2.6871e-01, -1.2050e-01, -2.4369e-02, -1.8521e-02,  1.0565e-01,\n          -1.2230e-01, -8.8338e-02,  3.9582e-02,  1.0091e-01,  1.2114e-01,\n           1.6084e-01, -1.8860e-01,  1.9243e-01, -9.4245e-02, -2.4472e-01,\n           3.5885e-02, -1.4161e-01,  7.0151e-02, -2.3256e-01,  5.9618e-02,\n          -8.0846e-02,  7.3667e-02,  2.9164e-01,  7.3474e-02,  9.4586e-02,\n          -2.4284e-01, -3.4051e-01,  8.2260e-02, -5.0845e-02, -1.4641e-01,\n          -1.6294e-02,  1.1938e-02,  1.1596e-01, -7.3978e-03, -1.3870e-02,\n           8.9832e-02, -9.1514e-03, -4.0033e-02, -7.9580e-02,  3.1870e-02,\n           3.1265e-02,  6.1399e-02, -1.4063e-01, -8.0576e-02, -5.8981e-02,\n          -3.5884e-02,  2.5351e-01,  4.6376e-02,  5.1181e-02,  6.1082e-02,\n           2.3550e-01, -4.9393e-02, -1.2914e-01,  3.1820e-02,  1.0722e-01,\n          -1.2440e-02, -1.3934e-01,  1.5587e-02,  1.2879e-01, -1.7702e-02,\n          -4.3179e-02, -8.7213e-02, -1.3155e-01,  3.9829e-02,  7.5491e-02,\n           1.1969e-03,  1.0772e-01, -1.8582e-01],\n         [-5.6809e-02,  3.3363e-01, -3.8990e-01,  7.6983e-02, -2.2869e-01,\n          -2.6587e-01, -1.7430e-01, -2.2778e-01,  2.2609e-01, -5.1947e-02,\n          -1.8535e-01,  1.9610e-01,  3.2027e-01, -2.7247e-02, -9.4601e-02,\n           4.2077e-02, -2.5239e-01,  1.1263e-01, -1.5134e-01,  1.5634e-02,\n           2.5287e-01, -9.0813e-02, -2.9634e-01, -2.1130e-01, -1.1115e-02,\n          -9.8642e-02, -1.8316e-01, -1.5870e-01,  3.9621e-02, -9.9592e-02,\n          -8.8417e-02,  6.6626e-02, -2.1056e-01,  3.0238e-02,  2.5038e-01,\n           1.1003e-01, -8.2188e-02,  2.1201e-01, -1.1363e-02, -3.2987e-01,\n           1.3491e-01, -7.3455e-02,  5.4735e-02, -1.6418e-01,  2.2369e-03,\n          -1.8846e-02,  7.4274e-02,  2.6251e-01,  2.0101e-01,  1.2903e-01,\n          -1.6212e-01, -3.1587e-01,  2.9434e-01, -1.8481e-01, -7.8878e-02,\n          -7.7474e-03,  1.9449e-02, -6.3259e-02,  9.4371e-02, -2.8975e-02,\n           2.0050e-01,  1.7101e-01, -6.2642e-02, -2.5720e-01,  6.6201e-02,\n          -8.0512e-02, -3.3337e-02, -3.2746e-01, -7.2738e-02, -1.5122e-01,\n          -1.0326e-01,  1.7357e-02,  1.0035e-01, -1.4236e-01, -9.3971e-02,\n           2.0209e-01,  3.0481e-01, -2.4522e-01,  2.2790e-01, -4.8304e-03,\n          -9.8513e-02,  1.3229e-01,  2.2088e-01,  5.6084e-02,  7.3297e-02,\n          -8.3609e-02,  2.1731e-02, -2.4462e-01,  9.7104e-02,  1.8782e-02,\n          -1.3526e-01,  1.9780e-01, -3.9030e-01],\n         [-2.3220e-02,  2.9243e-01, -1.6563e-01,  1.0747e-01, -1.7631e-01,\n           1.5034e-01, -1.7184e-02,  1.2243e-01,  2.6896e-01,  4.1595e-02,\n          -1.9420e-01,  1.1213e-01,  2.8846e-01, -1.6997e-01,  2.4561e-01,\n          -9.0237e-02,  2.0302e-02,  5.6648e-03, -3.2767e-02, -2.9542e-02,\n           9.0030e-04, -2.0216e-01, -2.9879e-02, -6.0757e-02, -1.9790e-01,\n          -1.9528e-01, -1.1436e-01, -1.6983e-02, -1.2510e-01,  1.4378e-01,\n          -1.4002e-01, -1.6311e-02,  1.5179e-01, -7.7861e-02,  1.8453e-01,\n           2.1553e-01, -1.0653e-01,  1.6762e-01, -1.5600e-01, -3.0062e-01,\n           4.7501e-02, -2.1931e-01,  1.0703e-01, -1.7784e-01, -3.6501e-02,\n          -8.3824e-02, -1.2053e-01,  1.3369e-01,  8.6093e-02,  5.6633e-02,\n          -3.0093e-01, -3.4843e-01,  1.9472e-02,  5.1520e-03, -1.6180e-01,\n           4.3741e-02,  6.9291e-02,  9.3359e-02, -9.3671e-02,  3.3592e-02,\n           9.5083e-04, -9.8207e-02, -1.1874e-01, -1.5085e-01, -3.4250e-03,\n           1.0594e-01,  9.3834e-02, -3.1786e-02, -3.5103e-02, -6.2030e-02,\n           1.3652e-01,  1.0596e-01, -8.5605e-02,  1.7205e-01, -1.8377e-02,\n           3.3342e-01,  4.8658e-02, -5.5252e-03,  7.3274e-02,  1.9395e-01,\n          -1.0011e-01, -9.3343e-02,  7.7798e-02,  6.4025e-02, -5.3268e-02,\n          -1.0706e-01, -4.9688e-02,  3.5291e-02,  9.7075e-02,  1.4644e-01,\n           5.9137e-02,  2.2968e-02, -1.9076e-01]], grad_fn=<IndexPutBackward0>)]"
     },
     "execution_count": 15,
     "metadata": {},
     "output_type": "execute_result"
    }
   ],
   "source": [
    "out_list"
   ],
   "metadata": {
    "collapsed": false,
    "ExecuteTime": {
     "start_time": "2024-03-21T17:22:25.421137Z",
     "end_time": "2024-03-21T17:22:25.485136Z"
    }
   }
  },
  {
   "cell_type": "markdown",
   "id": "4e024847-717f-4fac-bace-f9ee10ccf416",
   "metadata": {},
   "source": [
    "## Compare batches"
   ]
  },
  {
   "cell_type": "code",
   "execution_count": 16,
   "outputs": [
    {
     "data": {
      "text/plain": "array([[ True,  True,  True, False],\n       [ True,  True,  True, False],\n       [ True,  True,  True, False],\n       [False, False, False,  True]])"
     },
     "metadata": {},
     "output_type": "display_data"
    }
   ],
   "source": [
    "# compare output\n",
    "display(np.array(\n",
    "    [\n",
    "        [\n",
    "            (out_list[i] == out_list[j]).all()\n",
    "            for j in range(len(out_list))\n",
    "        ]\n",
    "        for i in range(len(out_list))\n",
    "    ]\n",
    "))"
   ],
   "metadata": {
    "collapsed": false,
    "ExecuteTime": {
     "start_time": "2024-03-21T17:22:26.830057Z",
     "end_time": "2024-03-21T17:22:26.850058Z"
    }
   }
  },
  {
   "cell_type": "code",
   "execution_count": 17,
   "outputs": [
    {
     "data": {
      "text/plain": "array([[ True,  True,  True, False],\n       [ True,  True,  True, False],\n       [ True,  True,  True, False],\n       [False, False, False,  True]])"
     },
     "metadata": {},
     "output_type": "display_data"
    }
   ],
   "source": [
    "# compare sum pooled version itself\n",
    "display(np.array(\n",
    "    [\n",
    "        [\n",
    "            out_list[i].sum().item() - out_list[j].sum().item()\n",
    "            for j in range(len(out_list))\n",
    "        ]\n",
    "        for i in range(len(out_list))\n",
    "    ]\n",
    ") == 0)"
   ],
   "metadata": {
    "collapsed": false,
    "ExecuteTime": {
     "start_time": "2024-03-21T17:22:28.503546Z",
     "end_time": "2024-03-21T17:22:28.545711Z"
    }
   }
  },
  {
   "cell_type": "code",
   "execution_count": 18,
   "outputs": [
    {
     "data": {
      "text/plain": "array([[0.000000e+00, 0.000000e+00, 0.000000e+00, 7.977127e-06],\n       [0.000000e+00, 0.000000e+00, 0.000000e+00, 7.977127e-06],\n       [0.000000e+00, 0.000000e+00, 0.000000e+00, 7.977127e-06],\n       [7.977127e-06, 7.977127e-06, 7.977127e-06, 0.000000e+00]],\n      dtype=float32)"
     },
     "metadata": {},
     "output_type": "display_data"
    }
   ],
   "source": [
    "# compare output\n",
    "display(np.array(\n",
    "    [\n",
    "        [\n",
    "            (out_list[i] - out_list[j]).detach().abs().sum()\n",
    "            for j in range(len(out_list))\n",
    "        ]\n",
    "        for i in range(len(out_list))\n",
    "    ]\n",
    "))"
   ],
   "metadata": {
    "collapsed": false,
    "ExecuteTime": {
     "start_time": "2024-03-21T17:22:29.507313Z",
     "end_time": "2024-03-21T17:22:29.523310Z"
    }
   }
  },
  {
   "cell_type": "markdown",
   "source": [
    "Cannot distinguish, only machine precision error"
   ],
   "metadata": {
    "collapsed": false
   }
  }
 ],
 "metadata": {
  "kernelspec": {
   "display_name": "Python 3 (ipykernel)",
   "language": "python",
   "name": "python3"
  },
  "language_info": {
   "codemirror_mode": {
    "name": "ipython",
    "version": 3
   },
   "file_extension": ".py",
   "mimetype": "text/x-python",
   "name": "python",
   "nbconvert_exporter": "python",
   "pygments_lexer": "ipython3",
   "version": "3.9.16"
  }
 },
 "nbformat": 4,
 "nbformat_minor": 5
}
