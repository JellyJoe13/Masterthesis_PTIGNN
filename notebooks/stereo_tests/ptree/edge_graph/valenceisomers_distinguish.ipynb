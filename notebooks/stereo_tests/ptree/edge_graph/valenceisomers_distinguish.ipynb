{
 "cells": [
  {
   "cell_type": "markdown",
   "id": "cce7ba2e-6183-4900-9e1c-608c46435893",
   "metadata": {},
   "source": [
    "# Stereoisomer testing on ChiENN - valenzisomerie"
   ]
  },
  {
   "cell_type": "markdown",
   "id": "cd5b739d-220a-4c13-9ce0-a3933e034d4d",
   "metadata": {},
   "source": [
    "## Importing section"
   ]
  },
  {
   "cell_type": "code",
   "execution_count": 1,
   "outputs": [],
   "source": [
    "import numpy as np\n",
    "from rdkit import Chem\n",
    "from rdkit.Chem import AllChem\n",
    "import sys\n",
    "\n",
    "sys.path.append(\"../../../../\")\n",
    "\n",
    "from ptgnn.features.chienn.mol_to_data import mol_to_data\n",
    "from ptgnn.features.chienn.molecule3d import smiles_to_3d_mol\n",
    "from ptgnn.transform import edge_graph_transform"
   ],
   "metadata": {
    "collapsed": false,
    "ExecuteTime": {
     "start_time": "2024-03-24T10:26:47.815032Z",
     "end_time": "2024-03-24T10:26:49.884000Z"
    }
   }
  },
  {
   "cell_type": "markdown",
   "id": "4ce50022-5637-4a30-b409-1e45a433f047",
   "metadata": {},
   "source": [
    "## Define SMILES strings"
   ]
  },
  {
   "cell_type": "code",
   "execution_count": 2,
   "id": "fe716171-6aec-40ab-a31a-1fb0bd635c46",
   "metadata": {
    "tags": [],
    "ExecuteTime": {
     "start_time": "2024-03-24T10:26:49.885004Z",
     "end_time": "2024-03-24T10:26:49.899001Z"
    }
   },
   "outputs": [],
   "source": [
    "smiles_list = [\n",
    "    \"ClC(Br)C=CC=CC\",\n",
    "    \"ClC(Br)=CC=CC=C\",\n",
    "]"
   ]
  },
  {
   "cell_type": "markdown",
   "id": "1663655e-0dd3-492e-b007-344f18fffb87",
   "metadata": {},
   "source": [
    "## Visualize and confirm stereomer classification (E/Z)"
   ]
  },
  {
   "cell_type": "code",
   "execution_count": 3,
   "id": "13fe0401-cc1a-424a-80c2-df1760e4df84",
   "metadata": {
    "tags": [],
    "ExecuteTime": {
     "start_time": "2024-03-24T10:26:49.901002Z",
     "end_time": "2024-03-24T10:26:49.926000Z"
    }
   },
   "outputs": [],
   "source": [
    "def showAndChiral(smiles):\n",
    "    mol = Chem.MolFromSmiles(smiles)\n",
    "    display(mol)\n",
    "    print(AllChem.FindMolChiralCenters(mol))\n",
    "    for bond in mol.GetBonds():\n",
    "        if bond.GetBondType() == Chem.rdchem.BondType.DOUBLE:\n",
    "            print(\"Bond\", bond.GetIdx(), \"stereo:\", bond.GetStereo())"
   ]
  },
  {
   "cell_type": "code",
   "execution_count": 4,
   "id": "f54309f1-465b-4834-aeda-cdc857767776",
   "metadata": {
    "tags": [],
    "ExecuteTime": {
     "start_time": "2024-03-24T10:26:49.917003Z",
     "end_time": "2024-03-24T10:26:49.944998Z"
    }
   },
   "outputs": [
    {
     "data": {
      "text/plain": "<rdkit.Chem.rdchem.Mol at 0x1c361528890>",
      "image/png": "[encoded data removed]"
     },
     "metadata": {},
     "output_type": "display_data"
    },
    {
     "name": "stdout",
     "output_type": "stream",
     "text": [
      "[]\n",
      "Bond 3 stereo: STEREONONE\n",
      "Bond 5 stereo: STEREONONE\n"
     ]
    },
    {
     "data": {
      "text/plain": "<rdkit.Chem.rdchem.Mol at 0x1c361528c80>",
      "image/png": "[encoded data removed]"
     },
     "metadata": {},
     "output_type": "display_data"
    },
    {
     "name": "stdout",
     "output_type": "stream",
     "text": [
      "[]\n",
      "Bond 2 stereo: STEREONONE\n",
      "Bond 4 stereo: STEREONONE\n",
      "Bond 6 stereo: STEREONONE\n"
     ]
    }
   ],
   "source": [
    "for smile in smiles_list:\n",
    "    showAndChiral(smile)"
   ]
  },
  {
   "cell_type": "markdown",
   "source": [
    "##  Convert to (edge) graph with ptree"
   ],
   "metadata": {
    "collapsed": false
   }
  },
  {
   "cell_type": "code",
   "execution_count": 5,
   "outputs": [],
   "source": [
    "# get molecules\n",
    "mol_list = [\n",
    "    smiles_to_3d_mol(\n",
    "        smiles,\n",
    "        max_number_of_attempts=100,\n",
    "        max_number_of_atoms=100\n",
    "    )\n",
    "    for smiles in smiles_list\n",
    "]"
   ],
   "metadata": {
    "collapsed": false,
    "ExecuteTime": {
     "start_time": "2024-03-24T10:26:49.934002Z",
     "end_time": "2024-03-24T10:26:49.993998Z"
    }
   }
  },
  {
   "cell_type": "code",
   "execution_count": 6,
   "outputs": [],
   "source": [
    "data_list = [\n",
    "    mol_to_data(mol)\n",
    "    for mol in mol_list\n",
    "]"
   ],
   "metadata": {
    "collapsed": false,
    "ExecuteTime": {
     "start_time": "2024-03-24T10:26:49.964001Z",
     "end_time": "2024-03-24T10:26:49.993998Z"
    }
   }
  },
  {
   "cell_type": "code",
   "execution_count": 7,
   "outputs": [],
   "source": [
    "data_list = [\n",
    "    edge_graph_transform(\n",
    "        data,\n",
    "        transformation_mode=\"permutation_tree\",\n",
    "        mol=mol,\n",
    "        transformation_parameters={\n",
    "            'k':  3,\n",
    "            'tetrahedral_chiral': True,\n",
    "            'chiral_center_selective': True,\n",
    "            'chiral_center_select_potential': False,\n",
    "        }\n",
    "    )\n",
    "    for data, mol in zip(data_list, mol_list)\n",
    "]"
   ],
   "metadata": {
    "collapsed": false,
    "ExecuteTime": {
     "start_time": "2024-03-24T10:26:49.980998Z",
     "end_time": "2024-03-24T10:26:50.016998Z"
    }
   }
  },
  {
   "cell_type": "code",
   "execution_count": 8,
   "outputs": [
    {
     "name": "stdout",
     "output_type": "stream",
     "text": [
      "Data(x=[30, 93], edge_index=[2, 78], edge_attr=[78, 57], pos=[30, 6], parallel_node_index=[30], circle_index=[30], ptree=[30], initial_map=[108], layer0_order_matrix=[1], layer0_type_mask=[1], layer0_pooling=[1], num_layer=2, layer1_order_matrix=[1], layer1_type_mask=[1], layer1_pooling=[1])\n",
      "['{\"S\": [0, 1, {\"P\": [3, 7, 5]}]}', '{\"S\": [1, 0, {\"P\": [9, 11]}]}', '{\"S\": [2, 3, {\"P\": [1, 5, 7]}]}', '{\"S\": [3, 2]}', '{\"S\": [4, 5, {\"P\": [1, 7, 3]}]}', '{\"S\": [5, 4]}', '{\"S\": [6, 7, {\"P\": [1, 3, 5]}]}', '{\"S\": [7, 6]}', '{\"S\": [8, 9, {\"P\": [0, 11]}]}', '{\"S\": [9, 8, {\"P\": [13, 15]}]}', '{\"S\": [10, 11, {\"P\": [0, 9]}]}', '{\"S\": [11, 10]}', '{\"S\": [12, 13, {\"P\": [8, 15]}]}', '{\"S\": [13, 12, {\"P\": [17, 19]}]}', '{\"S\": [14, 15, {\"P\": [8, 13]}]}', '{\"S\": [15, 14]}', '{\"S\": [16, 17, {\"P\": [12, 19]}]}', '{\"S\": [17, 16, {\"P\": [21, 23]}]}', '{\"S\": [18, 19, {\"P\": [12, 17]}]}', '{\"S\": [19, 18]}', '{\"S\": [20, 21, {\"P\": [16, 23]}]}', '{\"S\": [21, 20, {\"P\": [25, 29, 27]}]}', '{\"S\": [22, 23, {\"P\": [16, 21]}]}', '{\"S\": [23, 22]}', '{\"S\": [24, 25, {\"P\": [20, 27, 29]}]}', '{\"S\": [25, 24]}', '{\"S\": [26, 27, {\"P\": [20, 29, 25]}]}', '{\"S\": [27, 26]}', '{\"S\": [28, 29, {\"P\": [20, 25, 27]}]}', '{\"S\": [29, 28]}']\n",
      "Data(x=[26, 93], edge_index=[2, 62], edge_attr=[62, 57], pos=[26, 6], parallel_node_index=[26], circle_index=[26], ptree=[26], initial_map=[88], layer0_order_matrix=[1], layer0_type_mask=[1], layer0_pooling=[1], num_layer=2, layer1_order_matrix=[1], layer1_type_mask=[1], layer1_pooling=[1])\n",
      "['{\"S\": [0, 1, {\"P\": [3, 5]}]}', '{\"S\": [1, 0, {\"P\": [7, 9]}]}', '{\"S\": [2, 3, {\"P\": [1, 5]}]}', '{\"S\": [3, 2]}', '{\"S\": [4, 5, {\"P\": [1, 3]}]}', '{\"S\": [5, 4]}', '{\"S\": [6, 7, {\"P\": [0, 9]}]}', '{\"S\": [7, 6, {\"P\": [11, 13]}]}', '{\"S\": [8, 9, {\"P\": [0, 7]}]}', '{\"S\": [9, 8]}', '{\"S\": [10, 11, {\"P\": [6, 13]}]}', '{\"S\": [11, 10, {\"P\": [15, 17]}]}', '{\"S\": [12, 13, {\"P\": [6, 11]}]}', '{\"S\": [13, 12]}', '{\"S\": [14, 15, {\"P\": [10, 17]}]}', '{\"S\": [15, 14, {\"P\": [19, 21]}]}', '{\"S\": [16, 17, {\"P\": [10, 15]}]}', '{\"S\": [17, 16]}', '{\"S\": [18, 19, {\"P\": [14, 21]}]}', '{\"S\": [19, 18, {\"P\": [23, 25]}]}', '{\"S\": [20, 21, {\"P\": [14, 19]}]}', '{\"S\": [21, 20]}', '{\"S\": [22, 23, {\"P\": [18, 25]}]}', '{\"S\": [23, 22]}', '{\"S\": [24, 25, {\"P\": [18, 23]}]}', '{\"S\": [25, 24]}']\n"
     ]
    }
   ],
   "source": [
    "for data in data_list:\n",
    "    print(data)\n",
    "    print(data.ptree)"
   ],
   "metadata": {
    "collapsed": false,
    "ExecuteTime": {
     "start_time": "2024-03-24T10:26:50.012000Z",
     "end_time": "2024-03-24T10:26:50.056996Z"
    }
   }
  },
  {
   "cell_type": "markdown",
   "id": "c4c65150-2907-4220-baf9-2d95f5a44656",
   "metadata": {},
   "source": [
    "## Create Model"
   ]
  },
  {
   "cell_type": "code",
   "execution_count": 9,
   "outputs": [],
   "source": [
    "from ptgnn.model.modules.ptree.advanced_tree_layer import AdvancedPermutationTreeLayer\n",
    "\n",
    "k = 3\n",
    "\n",
    "model = AdvancedPermutationTreeLayer(\n",
    "    hidden_dim=93,\n",
    "    k=k,\n",
    "    batch_norm=False\n",
    ")"
   ],
   "metadata": {
    "collapsed": false,
    "ExecuteTime": {
     "start_time": "2024-03-24T10:26:50.027999Z",
     "end_time": "2024-03-24T10:26:50.070997Z"
    }
   }
  },
  {
   "cell_type": "markdown",
   "id": "8d7bb4a1-a7fd-47b8-ae93-b12fe24ee239",
   "metadata": {},
   "source": [
    "## Create batches"
   ]
  },
  {
   "cell_type": "code",
   "execution_count": 10,
   "outputs": [],
   "source": [
    "from ptgnn.loading.collate import permutation_tree_collation\n",
    "\n",
    "batch_list = [\n",
    "    permutation_tree_collation([data])\n",
    "    for data in data_list\n",
    "]"
   ],
   "metadata": {
    "collapsed": false,
    "ExecuteTime": {
     "start_time": "2024-03-24T10:26:50.043000Z",
     "end_time": "2024-03-24T10:26:50.071996Z"
    }
   }
  },
  {
   "cell_type": "code",
   "execution_count": 11,
   "outputs": [
    {
     "data": {
      "text/plain": "array([[ 1., nan],\n       [nan,  1.]])"
     },
     "metadata": {},
     "output_type": "display_data"
    }
   ],
   "source": [
    "# compare output\n",
    "display(np.array(\n",
    "    [\n",
    "        [\n",
    "            (batch_list[i].x == batch_list[j].x).all() if batch_list[i].x.shape == batch_list[j].x.shape else np.nan\n",
    "            for j in range(len(batch_list))\n",
    "        ]\n",
    "        for i in range(len(batch_list))\n",
    "    ]\n",
    "))"
   ],
   "metadata": {
    "collapsed": false,
    "ExecuteTime": {
     "start_time": "2024-03-24T10:26:50.058997Z",
     "end_time": "2024-03-24T10:26:50.080998Z"
    }
   }
  },
  {
   "cell_type": "markdown",
   "id": "b86ffd2b-ec5f-49bf-8ab7-86f384b6e0c6",
   "metadata": {},
   "source": [
    "## Put batches through model"
   ]
  },
  {
   "cell_type": "code",
   "execution_count": 12,
   "id": "ca6a5499-e4a0-43a8-8a09-9bfc1f9eb67d",
   "metadata": {
    "tags": [],
    "ExecuteTime": {
     "start_time": "2024-03-24T10:26:50.075000Z",
     "end_time": "2024-03-24T10:26:50.116996Z"
    }
   },
   "outputs": [],
   "source": [
    "out_list = [\n",
    "    model(batch)\n",
    "    for batch in batch_list\n",
    "]"
   ]
  },
  {
   "cell_type": "markdown",
   "id": "4e024847-717f-4fac-bace-f9ee10ccf416",
   "metadata": {},
   "source": [
    "## Compare batches"
   ]
  },
  {
   "cell_type": "code",
   "execution_count": 13,
   "outputs": [
    {
     "data": {
      "text/plain": "array([[ 1., nan],\n       [nan,  1.]])"
     },
     "metadata": {},
     "output_type": "display_data"
    }
   ],
   "source": [
    "# compare output\n",
    "display(np.array(\n",
    "    [\n",
    "        [\n",
    "            (out_list[i] == out_list[j]).all() if out_list[i].shape==out_list[j].shape else np.nan\n",
    "            for j in range(len(out_list))\n",
    "        ]\n",
    "        for i in range(len(out_list))\n",
    "    ]\n",
    "))"
   ],
   "metadata": {
    "collapsed": false,
    "ExecuteTime": {
     "start_time": "2024-03-24T10:26:50.090996Z",
     "end_time": "2024-03-24T10:26:50.116996Z"
    }
   }
  },
  {
   "cell_type": "code",
   "execution_count": 14,
   "outputs": [
    {
     "data": {
      "text/plain": "array([[ True, False],\n       [False,  True]])"
     },
     "metadata": {},
     "output_type": "display_data"
    }
   ],
   "source": [
    "# compare sum pooled version itself\n",
    "display(np.array(\n",
    "    [\n",
    "        [\n",
    "            out_list[i].sum().item() - out_list[j].sum().item()\n",
    "            for j in range(len(out_list))\n",
    "        ]\n",
    "        for i in range(len(out_list))\n",
    "    ]\n",
    ") == 0)"
   ],
   "metadata": {
    "collapsed": false,
    "ExecuteTime": {
     "start_time": "2024-03-24T10:26:50.107998Z",
     "end_time": "2024-03-24T10:26:50.124998Z"
    }
   }
  },
  {
   "cell_type": "code",
   "execution_count": 15,
   "outputs": [
    {
     "data": {
      "text/plain": "array([[ 0., nan],\n       [nan,  0.]])"
     },
     "metadata": {},
     "output_type": "display_data"
    }
   ],
   "source": [
    "# compare output\n",
    "display(np.array(\n",
    "    [\n",
    "        [\n",
    "            (out_list[i] - out_list[j]).detach().abs().sum() if batch_list[i].x.shape == batch_list[j].x.shape else np.nan\n",
    "            for j in range(len(out_list))\n",
    "        ]\n",
    "        for i in range(len(out_list))\n",
    "    ]\n",
    "))"
   ],
   "metadata": {
    "collapsed": false,
    "ExecuteTime": {
     "start_time": "2024-03-24T10:26:50.123995Z",
     "end_time": "2024-03-24T10:26:50.137999Z"
    }
   }
  },
  {
   "cell_type": "markdown",
   "id": "fb79c92f-e9f2-4e3d-9bd0-0c82dacf63a6",
   "metadata": {},
   "source": [
    "Differntiated"
   ]
  }
 ],
 "metadata": {
  "kernelspec": {
   "display_name": "Python 3 (ipykernel)",
   "language": "python",
   "name": "python3"
  },
  "language_info": {
   "codemirror_mode": {
    "name": "ipython",
    "version": 3
   },
   "file_extension": ".py",
   "mimetype": "text/x-python",
   "name": "python",
   "nbconvert_exporter": "python",
   "pygments_lexer": "ipython3",
   "version": "3.9.16"
  }
 },
 "nbformat": 4,
 "nbformat_minor": 5
}
