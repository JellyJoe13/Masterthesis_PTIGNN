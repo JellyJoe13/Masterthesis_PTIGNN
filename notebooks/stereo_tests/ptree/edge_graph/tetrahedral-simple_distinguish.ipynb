{
 "cells": [
  {
   "cell_type": "markdown",
   "id": "cce7ba2e-6183-4900-9e1c-608c46435893",
   "metadata": {},
   "source": [
    "# Stereoisomer testing on ptree - enantiomers"
   ]
  },
  {
   "cell_type": "markdown",
   "id": "cd5b739d-220a-4c13-9ce0-a3933e034d4d",
   "metadata": {},
   "source": [
    "## Importing section"
   ]
  },
  {
   "cell_type": "code",
   "execution_count": 1,
   "outputs": [],
   "source": [
    "import numpy as np\n",
    "from rdkit import Chem\n",
    "from rdkit.Chem import AllChem\n",
    "import sys\n",
    "\n",
    "sys.path.append(\"../../../../\")\n",
    "\n",
    "from ptgnn.features.chienn.molecule3d import smiles_to_3d_mol\n",
    "from ptgnn.features.chienn.mol_to_data import mol_to_data\n",
    "from ptgnn.transform import edge_graph_transform, vertex_graph_transform\n",
    "from ptgnn.model.modules.ptree.complex_ptree_layer import ComplexPtreeLayer"
   ],
   "metadata": {
    "collapsed": false,
    "ExecuteTime": {
     "start_time": "2024-03-21T16:32:27.064335Z",
     "end_time": "2024-03-21T16:32:28.937372Z"
    }
   }
  },
  {
   "cell_type": "markdown",
   "id": "4ce50022-5637-4a30-b409-1e45a433f047",
   "metadata": {},
   "source": [
    "## Define SMILES strings"
   ]
  },
  {
   "cell_type": "code",
   "execution_count": 2,
   "id": "fe716171-6aec-40ab-a31a-1fb0bd635c46",
   "metadata": {
    "tags": [],
    "ExecuteTime": {
     "start_time": "2024-03-21T16:32:28.937372Z",
     "end_time": "2024-03-21T16:32:28.949454Z"
    }
   },
   "outputs": [],
   "source": [
    "smiles_list = [\n",
    "    \"C(Br)(Cl)F\",\n",
    "    \"[C@H](Br)(Cl)F\",\n",
    "    \"[C@H](Br)(Cl)F\",\n",
    "    \"[C@@H](Br)(Cl)F\",\n",
    "]"
   ]
  },
  {
   "cell_type": "markdown",
   "id": "1663655e-0dd3-492e-b007-344f18fffb87",
   "metadata": {},
   "source": [
    "## Visualize and confirm stereomer classification (E/Z)"
   ]
  },
  {
   "cell_type": "code",
   "execution_count": 3,
   "id": "13fe0401-cc1a-424a-80c2-df1760e4df84",
   "metadata": {
    "tags": [],
    "ExecuteTime": {
     "start_time": "2024-03-21T16:32:28.951454Z",
     "end_time": "2024-03-21T16:32:28.969504Z"
    }
   },
   "outputs": [],
   "source": [
    "def showAndChiral(smiles):\n",
    "    mol = Chem.MolFromSmiles(smiles)\n",
    "    display(mol)\n",
    "    print(AllChem.FindMolChiralCenters(mol, includeUnassigned=True))\n",
    "    for bond in mol.GetBonds():\n",
    "        if bond.GetBondType() == Chem.rdchem.BondType.DOUBLE:\n",
    "            print(\"Bond\", bond.GetIdx(), \"stereo:\", bond.GetStereo())"
   ]
  },
  {
   "cell_type": "code",
   "execution_count": 4,
   "id": "f54309f1-465b-4834-aeda-cdc857767776",
   "metadata": {
    "tags": [],
    "ExecuteTime": {
     "start_time": "2024-03-21T16:32:28.966455Z",
     "end_time": "2024-03-21T16:32:29.059454Z"
    }
   },
   "outputs": [
    {
     "data": {
      "text/plain": "<rdkit.Chem.rdchem.Mol at 0x2ac6521a2e0>",
      "image/png": "[encoded data removed]"
     },
     "metadata": {},
     "output_type": "display_data"
    },
    {
     "name": "stdout",
     "output_type": "stream",
     "text": [
      "[(0, '?')]\n"
     ]
    },
    {
     "data": {
      "text/plain": "<rdkit.Chem.rdchem.Mol at 0x2ac6521a270>",
      "image/png": "[encoded data removed]"
     },
     "metadata": {},
     "output_type": "display_data"
    },
    {
     "name": "stdout",
     "output_type": "stream",
     "text": [
      "[(0, 'R')]\n"
     ]
    },
    {
     "data": {
      "text/plain": "<rdkit.Chem.rdchem.Mol at 0x2ac6521a3c0>",
      "image/png": "[encoded data removed]"
     },
     "metadata": {},
     "output_type": "display_data"
    },
    {
     "name": "stdout",
     "output_type": "stream",
     "text": [
      "[(0, 'R')]\n"
     ]
    },
    {
     "data": {
      "text/plain": "<rdkit.Chem.rdchem.Mol at 0x2ac6521a2e0>",
      "image/png": "[encoded data removed]"
     },
     "metadata": {},
     "output_type": "display_data"
    },
    {
     "name": "stdout",
     "output_type": "stream",
     "text": [
      "[(0, 'S')]\n"
     ]
    }
   ],
   "source": [
    "for smile in smiles_list:\n",
    "    showAndChiral(smile)"
   ]
  },
  {
   "cell_type": "markdown",
   "id": "910c1424-4c1d-4421-ad82-628ccf16464e",
   "metadata": {},
   "source": [
    "##  Convert to (edge) graph with ptree"
   ]
  },
  {
   "cell_type": "code",
   "execution_count": 5,
   "outputs": [],
   "source": [
    "# get molecules\n",
    "mol_list = [\n",
    "    smiles_to_3d_mol(\n",
    "        smiles,\n",
    "        max_number_of_attempts=100,\n",
    "        max_number_of_atoms=100\n",
    "    )\n",
    "    for smiles in smiles_list\n",
    "]"
   ],
   "metadata": {
    "collapsed": false,
    "ExecuteTime": {
     "start_time": "2024-03-21T16:32:46.914403Z",
     "end_time": "2024-03-21T16:32:46.938404Z"
    }
   }
  },
  {
   "cell_type": "code",
   "execution_count": 6,
   "outputs": [],
   "source": [
    "data_list = [\n",
    "    mol_to_data(mol)\n",
    "    for mol in mol_list\n",
    "]"
   ],
   "metadata": {
    "collapsed": false,
    "ExecuteTime": {
     "start_time": "2024-03-21T16:32:47.308518Z",
     "end_time": "2024-03-21T16:32:47.317517Z"
    }
   }
  },
  {
   "cell_type": "code",
   "execution_count": 7,
   "outputs": [],
   "source": [
    "data_list = [\n",
    "    edge_graph_transform(\n",
    "        data,\n",
    "        transformation_mode=\"permutation_tree\",\n",
    "        mol=mol,\n",
    "        transformation_parameters={\n",
    "            'k':  3,\n",
    "            'tetrahedral_chiral': True\n",
    "        }\n",
    "    )\n",
    "    for data, mol in zip(data_list, mol_list)\n",
    "]"
   ],
   "metadata": {
    "collapsed": false,
    "ExecuteTime": {
     "start_time": "2024-03-21T16:32:48.708090Z",
     "end_time": "2024-03-21T16:32:48.737089Z"
    }
   }
  },
  {
   "cell_type": "code",
   "execution_count": 8,
   "outputs": [
    {
     "data": {
      "text/plain": "['{\"S\": [0, 1]}',\n '{\"S\": [1, 0, {\"Z\": [3, 7, 5]}]}',\n '{\"S\": [2, 3, {\"Z\": [0, 5, 7]}]}',\n '{\"S\": [3, 2]}',\n '{\"S\": [4, 5, {\"Z\": [0, 7, 3]}]}',\n '{\"S\": [5, 4]}',\n '{\"S\": [6, 7, {\"Z\": [0, 3, 5]}]}',\n '{\"S\": [7, 6]}']"
     },
     "metadata": {},
     "output_type": "display_data"
    },
    {
     "data": {
      "text/plain": "tensor([0, 1, 1, 0, 3, 7, 5, 2, 3, 0, 5, 7, 3, 2, 4, 5, 0, 7, 3, 5, 4, 6, 7, 0,\n        3, 5, 7, 6])"
     },
     "metadata": {},
     "output_type": "display_data"
    },
    {
     "data": {
      "text/plain": "'layer: 0'"
     },
     "metadata": {},
     "output_type": "display_data"
    },
    {
     "data": {
      "text/plain": "[[tensor([[ 0,  1,  2,  3,  4,  5,  6,  7,  8,  9, 10, 11, 12, 13, 14, 15, 16, 17,\n           18, 19, 20, 21, 22, 23, 24, 25, 26, 27],\n          [-1, -1, -1, -1,  5,  6,  4, -1, -1, 10, 11,  9, -1, -1, -1, -1, 17, 18,\n           16, -1, -1, -1, -1, 24, 25, 23, -1, -1],\n          [-1, -1, -1, -1,  6,  4,  5, -1, -1, 11,  9, 10, -1, -1, -1, -1, 18, 16,\n           17, -1, -1, -1, -1, 25, 23, 24, -1, -1]], dtype=torch.int32)]]"
     },
     "metadata": {},
     "output_type": "display_data"
    },
    {
     "data": {
      "text/plain": "[[tensor([0, 0, 0, 0, 2, 2, 2, 0, 0, 2, 2, 2, 0, 0, 0, 0, 2, 2, 2, 0, 0, 0, 0, 2,\n          2, 2, 0, 0])]]"
     },
     "metadata": {},
     "output_type": "display_data"
    },
    {
     "data": {
      "text/plain": "[[tensor([ 0,  1,  2,  3,  4,  4,  4,  5,  6,  7,  7,  7,  8,  9, 10, 11, 12, 12,\n          12, 13, 14, 15, 16, 17, 17, 17, 18, 19])]]"
     },
     "metadata": {},
     "output_type": "display_data"
    },
    {
     "data": {
      "text/plain": "'layer: 1'"
     },
     "metadata": {},
     "output_type": "display_data"
    },
    {
     "data": {
      "text/plain": "[[tensor([[ 0, -1,  2, -1, -1,  5, -1, -1,  8, -1, 10, -1, -1, 13, -1, 15, -1, -1,\n           18, -1],\n          [ 1, -1,  3, -1, -1,  6, -1, -1,  9, -1, 11, -1, -1, 14, -1, 16, -1, -1,\n           19, -1],\n          [-1, -1,  4, -1, -1,  7, -1, -1, -1, -1, 12, -1, -1, -1, -1, 17, -1, -1,\n           -1, -1]], dtype=torch.int32)]]"
     },
     "metadata": {},
     "output_type": "display_data"
    },
    {
     "data": {
      "text/plain": "[[tensor([3, 3, 3, 3, 3, 3, 3, 3, 3, 3, 3, 3, 3, 3, 3, 3, 3, 3, 3, 3])]]"
     },
     "metadata": {},
     "output_type": "display_data"
    },
    {
     "data": {
      "text/plain": "[[tensor([0, 0, 1, 1, 1, 2, 2, 2, 3, 3, 4, 4, 4, 5, 5, 6, 6, 6, 7, 7])]]"
     },
     "metadata": {},
     "output_type": "display_data"
    }
   ],
   "source": [
    "d = data_list[0]\n",
    "display(d.ptree, d.initial_map)\n",
    "for i in range(d.num_layer):\n",
    "    display(f\"layer: {i}\")\n",
    "    display(d[f\"layer{i}_order_matrix\"], d[f\"layer{i}_type_mask\"], d[f\"layer{i}_pooling\"])"
   ],
   "metadata": {
    "collapsed": false,
    "ExecuteTime": {
     "start_time": "2024-03-21T16:32:53.979224Z",
     "end_time": "2024-03-21T16:32:54.016223Z"
    }
   }
  },
  {
   "cell_type": "code",
   "execution_count": 9,
   "outputs": [
    {
     "name": "stdout",
     "output_type": "stream",
     "text": [
      "Data(x=[8, 93], edge_index=[2, 20], edge_attr=[20, 57], pos=[8, 6], parallel_node_index=[8], circle_index=[8], ptree=[8], initial_map=[28], layer0_order_matrix=[1], layer0_type_mask=[1], layer0_pooling=[1], num_layer=2, layer1_order_matrix=[1], layer1_type_mask=[1], layer1_pooling=[1])\n",
      "['{\"S\": [0, 1]}', '{\"S\": [1, 0, {\"Z\": [3, 7, 5]}]}', '{\"S\": [2, 3, {\"Z\": [0, 5, 7]}]}', '{\"S\": [3, 2]}', '{\"S\": [4, 5, {\"Z\": [0, 7, 3]}]}', '{\"S\": [5, 4]}', '{\"S\": [6, 7, {\"Z\": [0, 3, 5]}]}', '{\"S\": [7, 6]}']\n",
      "Data(x=[8, 93], edge_index=[2, 20], edge_attr=[20, 57], pos=[8, 6], parallel_node_index=[8], circle_index=[8], ptree=[8], initial_map=[28], layer0_order_matrix=[1], layer0_type_mask=[1], layer0_pooling=[1], num_layer=2, layer1_order_matrix=[1], layer1_type_mask=[1], layer1_pooling=[1])\n",
      "['{\"S\": [0, 1]}', '{\"S\": [1, 0, {\"Z\": [3, 7, 5]}]}', '{\"S\": [2, 3, {\"Z\": [0, 5, 7]}]}', '{\"S\": [3, 2]}', '{\"S\": [4, 5, {\"Z\": [0, 7, 3]}]}', '{\"S\": [5, 4]}', '{\"S\": [6, 7, {\"Z\": [0, 3, 5]}]}', '{\"S\": [7, 6]}']\n",
      "Data(x=[8, 93], edge_index=[2, 20], edge_attr=[20, 57], pos=[8, 6], parallel_node_index=[8], circle_index=[8], ptree=[8], initial_map=[28], layer0_order_matrix=[1], layer0_type_mask=[1], layer0_pooling=[1], num_layer=2, layer1_order_matrix=[1], layer1_type_mask=[1], layer1_pooling=[1])\n",
      "['{\"S\": [0, 1]}', '{\"S\": [1, 0, {\"Z\": [3, 7, 5]}]}', '{\"S\": [2, 3, {\"Z\": [0, 5, 7]}]}', '{\"S\": [3, 2]}', '{\"S\": [4, 5, {\"Z\": [0, 7, 3]}]}', '{\"S\": [5, 4]}', '{\"S\": [6, 7, {\"Z\": [0, 3, 5]}]}', '{\"S\": [7, 6]}']\n",
      "Data(x=[8, 93], edge_index=[2, 20], edge_attr=[20, 57], pos=[8, 6], parallel_node_index=[8], circle_index=[8], ptree=[8], initial_map=[28], layer0_order_matrix=[1], layer0_type_mask=[1], layer0_pooling=[1], num_layer=2, layer1_order_matrix=[1], layer1_type_mask=[1], layer1_pooling=[1])\n",
      "['{\"S\": [0, 1]}', '{\"S\": [1, 0, {\"Z\": [3, 5, 7]}]}', '{\"S\": [2, 3, {\"Z\": [0, 7, 5]}]}', '{\"S\": [3, 2]}', '{\"S\": [4, 5, {\"Z\": [0, 3, 7]}]}', '{\"S\": [5, 4]}', '{\"S\": [6, 7, {\"Z\": [0, 5, 3]}]}', '{\"S\": [7, 6]}']\n"
     ]
    }
   ],
   "source": [
    "for data in data_list:\n",
    "    print(data)\n",
    "    print(data.ptree)"
   ],
   "metadata": {
    "collapsed": false,
    "ExecuteTime": {
     "start_time": "2024-03-21T16:33:00.214804Z",
     "end_time": "2024-03-21T16:33:00.228803Z"
    }
   }
  },
  {
   "cell_type": "markdown",
   "id": "c4c65150-2907-4220-baf9-2d95f5a44656",
   "metadata": {},
   "source": [
    "## Create Model"
   ]
  },
  {
   "cell_type": "code",
   "execution_count": 10,
   "outputs": [],
   "source": [
    "from ptgnn.model.modules.ptree.advanced_tree_layer import AdvancedPermutationTreeLayer\n",
    "\n",
    "k = 3\n",
    "\n",
    "model = AdvancedPermutationTreeLayer(\n",
    "    hidden_dim=93,\n",
    "    k=k\n",
    ")"
   ],
   "metadata": {
    "collapsed": false,
    "ExecuteTime": {
     "start_time": "2024-03-21T16:33:10.585199Z",
     "end_time": "2024-03-21T16:33:10.610199Z"
    }
   }
  },
  {
   "cell_type": "markdown",
   "id": "8d7bb4a1-a7fd-47b8-ae93-b12fe24ee239",
   "metadata": {},
   "source": [
    "## Create batches"
   ]
  },
  {
   "cell_type": "code",
   "execution_count": 12,
   "outputs": [],
   "source": [
    "from ptgnn.loading.collate import permutation_tree_collation\n",
    "\n",
    "batch_list = [\n",
    "    permutation_tree_collation([data])\n",
    "    for data in data_list\n",
    "]"
   ],
   "metadata": {
    "collapsed": false,
    "ExecuteTime": {
     "start_time": "2024-03-21T16:33:26.984707Z",
     "end_time": "2024-03-21T16:33:26.997707Z"
    }
   }
  },
  {
   "cell_type": "code",
   "execution_count": 13,
   "outputs": [
    {
     "data": {
      "text/plain": "'Batch: 0'"
     },
     "metadata": {},
     "output_type": "display_data"
    },
    {
     "data": {
      "text/plain": "['{\"S\": [0, 1]}',\n '{\"S\": [1, 0, {\"Z\": [3, 7, 5]}]}',\n '{\"S\": [2, 3, {\"Z\": [0, 5, 7]}]}',\n '{\"S\": [3, 2]}',\n '{\"S\": [4, 5, {\"Z\": [0, 7, 3]}]}',\n '{\"S\": [5, 4]}',\n '{\"S\": [6, 7, {\"Z\": [0, 3, 5]}]}',\n '{\"S\": [7, 6]}']"
     },
     "metadata": {},
     "output_type": "display_data"
    },
    {
     "data": {
      "text/plain": "tensor([0, 1, 1, 0, 3, 7, 5, 2, 3, 0, 5, 7, 3, 2, 4, 5, 0, 7, 3, 5, 4, 6, 7, 0,\n        3, 5, 7, 6])"
     },
     "metadata": {},
     "output_type": "display_data"
    },
    {
     "data": {
      "text/plain": "'Layer: 0'"
     },
     "metadata": {},
     "output_type": "display_data"
    },
    {
     "data": {
      "text/plain": "tensor([[ 0,  1,  2,  3,  4,  5,  6,  7,  8,  9, 10, 11, 12, 13, 14, 15, 16, 17,\n         18, 19, 20, 21, 22, 23, 24, 25, 26, 27],\n        [-1, -1, -1, -1,  5,  6,  4, -1, -1, 10, 11,  9, -1, -1, -1, -1, 17, 18,\n         16, -1, -1, -1, -1, 24, 25, 23, -1, -1],\n        [-1, -1, -1, -1,  6,  4,  5, -1, -1, 11,  9, 10, -1, -1, -1, -1, 18, 16,\n         17, -1, -1, -1, -1, 25, 23, 24, -1, -1]], dtype=torch.int32)"
     },
     "metadata": {},
     "output_type": "display_data"
    },
    {
     "data": {
      "text/plain": "tensor([0, 0, 0, 0, 2, 2, 2, 0, 0, 2, 2, 2, 0, 0, 0, 0, 2, 2, 2, 0, 0, 0, 0, 2,\n        2, 2, 0, 0])"
     },
     "metadata": {},
     "output_type": "display_data"
    },
    {
     "data": {
      "text/plain": "tensor([ 0,  1,  2,  3,  4,  4,  4,  5,  6,  7,  7,  7,  8,  9, 10, 11, 12, 12,\n        12, 13, 14, 15, 16, 17, 17, 17, 18, 19])"
     },
     "metadata": {},
     "output_type": "display_data"
    },
    {
     "data": {
      "text/plain": "'Layer: 1'"
     },
     "metadata": {},
     "output_type": "display_data"
    },
    {
     "data": {
      "text/plain": "tensor([[ 0, -1,  2, -1, -1,  5, -1, -1,  8, -1, 10, -1, -1, 13, -1, 15, -1, -1,\n         18, -1],\n        [ 1, -1,  3, -1, -1,  6, -1, -1,  9, -1, 11, -1, -1, 14, -1, 16, -1, -1,\n         19, -1],\n        [-1, -1,  4, -1, -1,  7, -1, -1, -1, -1, 12, -1, -1, -1, -1, 17, -1, -1,\n         -1, -1]], dtype=torch.int32)"
     },
     "metadata": {},
     "output_type": "display_data"
    },
    {
     "data": {
      "text/plain": "tensor([3, 3, 3, 3, 3, 3, 3, 3, 3, 3, 3, 3, 3, 3, 3, 3, 3, 3, 3, 3])"
     },
     "metadata": {},
     "output_type": "display_data"
    },
    {
     "data": {
      "text/plain": "tensor([0, 0, 1, 1, 1, 2, 2, 2, 3, 3, 4, 4, 4, 5, 5, 6, 6, 6, 7, 7])"
     },
     "metadata": {},
     "output_type": "display_data"
    },
    {
     "data": {
      "text/plain": "'Batch: 1'"
     },
     "metadata": {},
     "output_type": "display_data"
    },
    {
     "data": {
      "text/plain": "['{\"S\": [0, 1]}',\n '{\"S\": [1, 0, {\"Z\": [3, 7, 5]}]}',\n '{\"S\": [2, 3, {\"Z\": [0, 5, 7]}]}',\n '{\"S\": [3, 2]}',\n '{\"S\": [4, 5, {\"Z\": [0, 7, 3]}]}',\n '{\"S\": [5, 4]}',\n '{\"S\": [6, 7, {\"Z\": [0, 3, 5]}]}',\n '{\"S\": [7, 6]}']"
     },
     "metadata": {},
     "output_type": "display_data"
    },
    {
     "data": {
      "text/plain": "tensor([0, 1, 1, 0, 3, 7, 5, 2, 3, 0, 5, 7, 3, 2, 4, 5, 0, 7, 3, 5, 4, 6, 7, 0,\n        3, 5, 7, 6])"
     },
     "metadata": {},
     "output_type": "display_data"
    },
    {
     "data": {
      "text/plain": "'Layer: 0'"
     },
     "metadata": {},
     "output_type": "display_data"
    },
    {
     "data": {
      "text/plain": "tensor([[ 0,  1,  2,  3,  4,  5,  6,  7,  8,  9, 10, 11, 12, 13, 14, 15, 16, 17,\n         18, 19, 20, 21, 22, 23, 24, 25, 26, 27],\n        [-1, -1, -1, -1,  5,  6,  4, -1, -1, 10, 11,  9, -1, -1, -1, -1, 17, 18,\n         16, -1, -1, -1, -1, 24, 25, 23, -1, -1],\n        [-1, -1, -1, -1,  6,  4,  5, -1, -1, 11,  9, 10, -1, -1, -1, -1, 18, 16,\n         17, -1, -1, -1, -1, 25, 23, 24, -1, -1]], dtype=torch.int32)"
     },
     "metadata": {},
     "output_type": "display_data"
    },
    {
     "data": {
      "text/plain": "tensor([0, 0, 0, 0, 2, 2, 2, 0, 0, 2, 2, 2, 0, 0, 0, 0, 2, 2, 2, 0, 0, 0, 0, 2,\n        2, 2, 0, 0])"
     },
     "metadata": {},
     "output_type": "display_data"
    },
    {
     "data": {
      "text/plain": "tensor([ 0,  1,  2,  3,  4,  4,  4,  5,  6,  7,  7,  7,  8,  9, 10, 11, 12, 12,\n        12, 13, 14, 15, 16, 17, 17, 17, 18, 19])"
     },
     "metadata": {},
     "output_type": "display_data"
    },
    {
     "data": {
      "text/plain": "'Layer: 1'"
     },
     "metadata": {},
     "output_type": "display_data"
    },
    {
     "data": {
      "text/plain": "tensor([[ 0, -1,  2, -1, -1,  5, -1, -1,  8, -1, 10, -1, -1, 13, -1, 15, -1, -1,\n         18, -1],\n        [ 1, -1,  3, -1, -1,  6, -1, -1,  9, -1, 11, -1, -1, 14, -1, 16, -1, -1,\n         19, -1],\n        [-1, -1,  4, -1, -1,  7, -1, -1, -1, -1, 12, -1, -1, -1, -1, 17, -1, -1,\n         -1, -1]], dtype=torch.int32)"
     },
     "metadata": {},
     "output_type": "display_data"
    },
    {
     "data": {
      "text/plain": "tensor([3, 3, 3, 3, 3, 3, 3, 3, 3, 3, 3, 3, 3, 3, 3, 3, 3, 3, 3, 3])"
     },
     "metadata": {},
     "output_type": "display_data"
    },
    {
     "data": {
      "text/plain": "tensor([0, 0, 1, 1, 1, 2, 2, 2, 3, 3, 4, 4, 4, 5, 5, 6, 6, 6, 7, 7])"
     },
     "metadata": {},
     "output_type": "display_data"
    },
    {
     "data": {
      "text/plain": "'Batch: 2'"
     },
     "metadata": {},
     "output_type": "display_data"
    },
    {
     "data": {
      "text/plain": "['{\"S\": [0, 1]}',\n '{\"S\": [1, 0, {\"Z\": [3, 7, 5]}]}',\n '{\"S\": [2, 3, {\"Z\": [0, 5, 7]}]}',\n '{\"S\": [3, 2]}',\n '{\"S\": [4, 5, {\"Z\": [0, 7, 3]}]}',\n '{\"S\": [5, 4]}',\n '{\"S\": [6, 7, {\"Z\": [0, 3, 5]}]}',\n '{\"S\": [7, 6]}']"
     },
     "metadata": {},
     "output_type": "display_data"
    },
    {
     "data": {
      "text/plain": "tensor([0, 1, 1, 0, 3, 7, 5, 2, 3, 0, 5, 7, 3, 2, 4, 5, 0, 7, 3, 5, 4, 6, 7, 0,\n        3, 5, 7, 6])"
     },
     "metadata": {},
     "output_type": "display_data"
    },
    {
     "data": {
      "text/plain": "'Layer: 0'"
     },
     "metadata": {},
     "output_type": "display_data"
    },
    {
     "data": {
      "text/plain": "tensor([[ 0,  1,  2,  3,  4,  5,  6,  7,  8,  9, 10, 11, 12, 13, 14, 15, 16, 17,\n         18, 19, 20, 21, 22, 23, 24, 25, 26, 27],\n        [-1, -1, -1, -1,  5,  6,  4, -1, -1, 10, 11,  9, -1, -1, -1, -1, 17, 18,\n         16, -1, -1, -1, -1, 24, 25, 23, -1, -1],\n        [-1, -1, -1, -1,  6,  4,  5, -1, -1, 11,  9, 10, -1, -1, -1, -1, 18, 16,\n         17, -1, -1, -1, -1, 25, 23, 24, -1, -1]], dtype=torch.int32)"
     },
     "metadata": {},
     "output_type": "display_data"
    },
    {
     "data": {
      "text/plain": "tensor([0, 0, 0, 0, 2, 2, 2, 0, 0, 2, 2, 2, 0, 0, 0, 0, 2, 2, 2, 0, 0, 0, 0, 2,\n        2, 2, 0, 0])"
     },
     "metadata": {},
     "output_type": "display_data"
    },
    {
     "data": {
      "text/plain": "tensor([ 0,  1,  2,  3,  4,  4,  4,  5,  6,  7,  7,  7,  8,  9, 10, 11, 12, 12,\n        12, 13, 14, 15, 16, 17, 17, 17, 18, 19])"
     },
     "metadata": {},
     "output_type": "display_data"
    },
    {
     "data": {
      "text/plain": "'Layer: 1'"
     },
     "metadata": {},
     "output_type": "display_data"
    },
    {
     "data": {
      "text/plain": "tensor([[ 0, -1,  2, -1, -1,  5, -1, -1,  8, -1, 10, -1, -1, 13, -1, 15, -1, -1,\n         18, -1],\n        [ 1, -1,  3, -1, -1,  6, -1, -1,  9, -1, 11, -1, -1, 14, -1, 16, -1, -1,\n         19, -1],\n        [-1, -1,  4, -1, -1,  7, -1, -1, -1, -1, 12, -1, -1, -1, -1, 17, -1, -1,\n         -1, -1]], dtype=torch.int32)"
     },
     "metadata": {},
     "output_type": "display_data"
    },
    {
     "data": {
      "text/plain": "tensor([3, 3, 3, 3, 3, 3, 3, 3, 3, 3, 3, 3, 3, 3, 3, 3, 3, 3, 3, 3])"
     },
     "metadata": {},
     "output_type": "display_data"
    },
    {
     "data": {
      "text/plain": "tensor([0, 0, 1, 1, 1, 2, 2, 2, 3, 3, 4, 4, 4, 5, 5, 6, 6, 6, 7, 7])"
     },
     "metadata": {},
     "output_type": "display_data"
    },
    {
     "data": {
      "text/plain": "'Batch: 3'"
     },
     "metadata": {},
     "output_type": "display_data"
    },
    {
     "data": {
      "text/plain": "['{\"S\": [0, 1]}',\n '{\"S\": [1, 0, {\"Z\": [3, 5, 7]}]}',\n '{\"S\": [2, 3, {\"Z\": [0, 7, 5]}]}',\n '{\"S\": [3, 2]}',\n '{\"S\": [4, 5, {\"Z\": [0, 3, 7]}]}',\n '{\"S\": [5, 4]}',\n '{\"S\": [6, 7, {\"Z\": [0, 5, 3]}]}',\n '{\"S\": [7, 6]}']"
     },
     "metadata": {},
     "output_type": "display_data"
    },
    {
     "data": {
      "text/plain": "tensor([0, 1, 1, 0, 3, 5, 7, 2, 3, 0, 7, 5, 3, 2, 4, 5, 0, 3, 7, 5, 4, 6, 7, 0,\n        5, 3, 7, 6])"
     },
     "metadata": {},
     "output_type": "display_data"
    },
    {
     "data": {
      "text/plain": "'Layer: 0'"
     },
     "metadata": {},
     "output_type": "display_data"
    },
    {
     "data": {
      "text/plain": "tensor([[ 0,  1,  2,  3,  4,  5,  6,  7,  8,  9, 10, 11, 12, 13, 14, 15, 16, 17,\n         18, 19, 20, 21, 22, 23, 24, 25, 26, 27],\n        [-1, -1, -1, -1,  5,  6,  4, -1, -1, 10, 11,  9, -1, -1, -1, -1, 17, 18,\n         16, -1, -1, -1, -1, 24, 25, 23, -1, -1],\n        [-1, -1, -1, -1,  6,  4,  5, -1, -1, 11,  9, 10, -1, -1, -1, -1, 18, 16,\n         17, -1, -1, -1, -1, 25, 23, 24, -1, -1]], dtype=torch.int32)"
     },
     "metadata": {},
     "output_type": "display_data"
    },
    {
     "data": {
      "text/plain": "tensor([0, 0, 0, 0, 2, 2, 2, 0, 0, 2, 2, 2, 0, 0, 0, 0, 2, 2, 2, 0, 0, 0, 0, 2,\n        2, 2, 0, 0])"
     },
     "metadata": {},
     "output_type": "display_data"
    },
    {
     "data": {
      "text/plain": "tensor([ 0,  1,  2,  3,  4,  4,  4,  5,  6,  7,  7,  7,  8,  9, 10, 11, 12, 12,\n        12, 13, 14, 15, 16, 17, 17, 17, 18, 19])"
     },
     "metadata": {},
     "output_type": "display_data"
    },
    {
     "data": {
      "text/plain": "'Layer: 1'"
     },
     "metadata": {},
     "output_type": "display_data"
    },
    {
     "data": {
      "text/plain": "tensor([[ 0, -1,  2, -1, -1,  5, -1, -1,  8, -1, 10, -1, -1, 13, -1, 15, -1, -1,\n         18, -1],\n        [ 1, -1,  3, -1, -1,  6, -1, -1,  9, -1, 11, -1, -1, 14, -1, 16, -1, -1,\n         19, -1],\n        [-1, -1,  4, -1, -1,  7, -1, -1, -1, -1, 12, -1, -1, -1, -1, 17, -1, -1,\n         -1, -1]], dtype=torch.int32)"
     },
     "metadata": {},
     "output_type": "display_data"
    },
    {
     "data": {
      "text/plain": "tensor([3, 3, 3, 3, 3, 3, 3, 3, 3, 3, 3, 3, 3, 3, 3, 3, 3, 3, 3, 3])"
     },
     "metadata": {},
     "output_type": "display_data"
    },
    {
     "data": {
      "text/plain": "tensor([0, 0, 1, 1, 1, 2, 2, 2, 3, 3, 4, 4, 4, 5, 5, 6, 6, 6, 7, 7])"
     },
     "metadata": {},
     "output_type": "display_data"
    }
   ],
   "source": [
    "for idx, batch in enumerate(batch_list):\n",
    "    display(f\"Batch: {idx}\")\n",
    "    display(batch.ptree)\n",
    "    display(batch.initial_map)\n",
    "    for layer_idx in range(batch.num_layer):\n",
    "        display(f\"Layer: {layer_idx}\")\n",
    "        display(\n",
    "            batch[f\"layer{layer_idx}_order_matrix\"],\n",
    "            batch[f\"layer{layer_idx}_type_mask\"],\n",
    "            batch[f\"layer{layer_idx}_pooling\"]\n",
    "        )"
   ],
   "metadata": {
    "collapsed": false,
    "ExecuteTime": {
     "start_time": "2024-03-21T16:34:07.750953Z",
     "end_time": "2024-03-21T16:34:07.829408Z"
    }
   }
  },
  {
   "cell_type": "code",
   "execution_count": 14,
   "outputs": [
    {
     "data": {
      "text/plain": "array([[ True,  True,  True,  True],\n       [ True,  True,  True,  True],\n       [ True,  True,  True,  True],\n       [ True,  True,  True,  True]])"
     },
     "metadata": {},
     "output_type": "display_data"
    }
   ],
   "source": [
    "# compare output\n",
    "display(np.array(\n",
    "    [\n",
    "        [\n",
    "            (batch_list[i].x == batch_list[j].x).all()\n",
    "            for j in range(len(batch_list))\n",
    "        ]\n",
    "        for i in range(len(batch_list))\n",
    "    ]\n",
    "))"
   ],
   "metadata": {
    "collapsed": false,
    "ExecuteTime": {
     "start_time": "2024-03-21T16:34:16.986469Z",
     "end_time": "2024-03-21T16:34:17.008467Z"
    }
   }
  },
  {
   "cell_type": "markdown",
   "id": "b86ffd2b-ec5f-49bf-8ab7-86f384b6e0c6",
   "metadata": {},
   "source": [
    "## Put batches through model"
   ]
  },
  {
   "cell_type": "code",
   "execution_count": 15,
   "id": "ca6a5499-e4a0-43a8-8a09-9bfc1f9eb67d",
   "metadata": {
    "tags": [],
    "ExecuteTime": {
     "start_time": "2024-03-21T16:34:18.660706Z",
     "end_time": "2024-03-21T16:34:18.705778Z"
    }
   },
   "outputs": [],
   "source": [
    "out_list = [\n",
    "    model(batch)\n",
    "    for batch in batch_list\n",
    "]"
   ]
  },
  {
   "cell_type": "code",
   "execution_count": 16,
   "outputs": [
    {
     "data": {
      "text/plain": "[tensor([[-2.0188e-01, -1.8541e-01, -6.8832e-02, -8.5293e-02, -1.0203e-01,\n           2.6727e-01, -2.6114e-01,  1.7088e-01, -1.1827e-01,  2.7355e-02,\n          -2.1236e-01,  1.1431e-01,  2.9615e-01,  1.0904e-01,  5.2518e-02,\n           3.5079e-03,  1.3786e-02, -3.6141e-02, -7.6425e-02, -1.4975e-01,\n           3.9476e-02,  1.1799e-01, -1.4267e-01, -4.3577e-02,  2.4822e-02,\n           5.1190e-05,  2.0979e-01,  3.8638e-02,  1.2955e-01,  3.3094e-01,\n           9.1369e-02,  1.7914e-01, -2.9443e-02, -2.4777e-01,  2.0739e-01,\n          -8.9972e-02, -4.2540e-02,  5.6063e-02, -4.6134e-02, -1.9425e-01,\n          -8.9796e-02, -1.3797e-01, -5.9405e-02,  4.6593e-01, -2.6565e-01,\n           1.6601e-01, -2.6030e-01, -2.2472e-01,  1.5248e-01, -1.2581e-01,\n          -1.6206e-01,  2.7150e-01,  3.9490e-03,  8.2810e-02,  8.0382e-02,\n          -3.0168e-02,  1.5749e-02,  1.7271e-01, -4.2086e-02, -4.0406e-02,\n           2.4766e-01,  1.5169e-01, -2.6738e-01,  2.1730e-01,  1.9236e-01,\n          -2.4536e-01, -1.2391e-01,  1.5182e-02,  7.9800e-02,  1.7158e-01,\n          -1.4869e-01,  2.7376e-02, -3.9919e-02, -1.6288e-01, -3.5524e-02,\n           4.3554e-01, -2.0392e-01, -5.3297e-02, -7.8595e-02, -1.0843e-01,\n           6.4633e-03, -1.1867e-01,  3.4508e-03,  2.5135e-01,  1.0759e-01,\n           7.8797e-02, -2.4545e-01, -6.7972e-02,  2.6368e-01,  7.7104e-02,\n           5.6481e-02, -3.8693e-02,  8.3245e-02],\n         [-6.9249e-03, -3.0079e-01, -1.6504e-01, -1.6383e-01,  3.5376e-02,\n           3.2233e-01, -1.3691e-01, -1.3074e-01, -1.4618e-01,  1.6474e-01,\n          -1.7799e-01,  2.8925e-01,  9.6303e-02,  2.2930e-01,  1.7862e-01,\n           2.2412e-01, -7.0329e-02,  1.5807e-01, -2.8430e-01,  9.1911e-02,\n          -1.0383e-01, -3.5981e-02, -2.1495e-01,  1.5393e-01, -2.8284e-01,\n           2.9196e-01,  1.0314e-01, -1.7244e-01,  2.5243e-02,  2.8952e-01,\n           1.1256e-01,  1.5625e-01, -5.9437e-02, -2.0947e-01,  1.5021e-01,\n           1.3975e-01, -1.4744e-01,  5.8614e-03, -1.3346e-02, -6.3929e-02,\n          -2.7099e-02, -1.0005e-01, -6.2592e-02,  2.5866e-01, -1.8824e-01,\n           1.8231e-01, -1.6892e-01,  1.6670e-01,  9.0870e-02, -7.4841e-02,\n          -8.7736e-03,  2.6189e-01, -3.8120e-01,  3.5042e-01,  1.5455e-01,\n          -4.7317e-02,  9.5646e-02,  7.4634e-02, -1.6204e-01,  1.3230e-01,\n           5.7141e-01,  2.1995e-01, -3.7857e-01, -3.9610e-02,  3.0400e-01,\n          -2.1969e-01, -1.8841e-01,  2.1133e-01, -6.9591e-02, -1.2145e-02,\n          -2.4977e-01, -1.2260e-01, -1.3666e-01,  9.2873e-03,  3.7670e-02,\n           4.6655e-01, -2.1562e-01,  9.5500e-03, -6.7633e-02, -1.5034e-01,\n           3.7599e-02, -1.7824e-01, -1.1527e-01,  3.8774e-02,  3.3315e-01,\n          -2.6732e-01, -9.6735e-02, -9.5766e-02,  2.1381e-02,  1.9272e-01,\n          -1.7507e-01, -1.3338e-01,  1.6944e-02],\n         [-4.8536e-02, -3.2010e-01, -1.5550e-01, -1.6701e-01, -7.5434e-03,\n           2.7732e-01, -2.5491e-01, -8.7456e-02, -2.2069e-01,  1.5664e-01,\n          -1.0522e-01,  3.5305e-01,  1.6120e-01,  3.2044e-01,  2.7980e-01,\n           1.8305e-01, -5.6306e-02,  1.3279e-01, -2.3694e-01,  7.0931e-02,\n          -4.8058e-02, -4.0167e-02, -2.0541e-01,  8.6613e-02, -3.5734e-01,\n           3.6574e-01,  1.5705e-01, -2.0501e-01, -2.8367e-02,  2.6932e-01,\n           2.2313e-02,  2.4558e-01,  3.5811e-02, -2.4573e-01,  1.8434e-01,\n           2.1139e-01, -1.6891e-01, -4.8087e-03, -7.3890e-03, -1.0180e-01,\n          -1.0732e-01, -1.1085e-01, -7.7171e-02,  3.0476e-01, -2.6222e-01,\n           1.6066e-01, -2.3037e-01,  2.1314e-01,  5.1877e-02,  1.7381e-02,\n          -3.0220e-02,  2.1238e-01, -4.3651e-01,  3.1261e-01,  8.2862e-02,\n          -9.3206e-02,  1.7005e-01,  6.4420e-02, -1.5692e-01, -3.2551e-03,\n           6.8837e-01,  1.4208e-01, -4.2588e-01,  2.4605e-02,  2.3678e-01,\n          -2.1084e-01, -9.2377e-02,  2.0801e-01, -1.7807e-02,  1.1282e-02,\n          -3.0348e-01, -1.7762e-01, -1.3542e-01,  3.6411e-04,  4.4826e-02,\n           5.5896e-01, -2.8125e-01,  3.9682e-02,  8.5732e-02, -1.5638e-01,\n           3.1234e-02, -1.7686e-01, -1.2295e-01,  1.2949e-01,  3.4363e-01,\n          -2.8192e-01, -8.5340e-02, -1.5070e-01, -3.7542e-02,  9.2284e-02,\n          -9.1910e-02, -2.4688e-01, -1.2340e-02],\n         [-2.0485e-01, -6.4589e-02, -3.0218e-02, -3.9195e-02, -1.5168e-01,\n           2.8971e-01, -3.4247e-01,  2.7782e-01, -2.0740e-01,  1.0627e-01,\n          -2.5181e-01,  6.2660e-02,  2.1876e-01,  5.2265e-02,  9.4428e-02,\n           2.9027e-02,  1.8064e-03,  3.3164e-02, -4.9021e-02, -1.4005e-01,\n           2.7435e-02,  1.2668e-01, -1.5053e-01, -4.6277e-02,  1.0345e-02,\n           5.3909e-02,  1.7065e-01,  9.8658e-02,  4.6291e-02,  3.2012e-01,\n           7.6347e-02,  2.3108e-01, -3.4336e-02, -2.7592e-01,  2.5330e-01,\n          -5.2298e-03, -5.2094e-04,  8.3611e-02,  5.3391e-02, -2.0543e-01,\n          -4.1078e-02, -2.1441e-01, -1.0110e-01,  5.3545e-01, -2.5072e-01,\n           1.9684e-01, -2.3420e-01, -2.3975e-01,  2.4280e-01, -7.1691e-02,\n          -1.4928e-01,  2.9960e-01, -1.4962e-01,  6.1831e-02,  1.6161e-01,\n           7.2381e-03, -3.0488e-02,  6.9099e-02, -1.3940e-01, -6.6137e-02,\n           1.5331e-01,  1.9294e-01, -2.4164e-01,  1.6825e-01,  1.8564e-01,\n          -3.3367e-01, -1.8606e-01,  2.8015e-02,  5.1344e-02,  1.7531e-01,\n          -1.8613e-01, -2.7886e-02,  4.6007e-02, -1.2214e-01,  1.1940e-01,\n           4.1024e-01, -1.9995e-01, -1.2663e-01, -2.6990e-02, -2.2505e-01,\n          -1.8584e-02, -2.6009e-02,  5.8841e-03,  2.1230e-01,  1.2221e-01,\n           1.4070e-01, -2.4115e-01,  5.4131e-02,  2.0555e-01,  2.1579e-02,\n          -4.7483e-03, -6.3756e-02, -4.7398e-04],\n         [ 2.7050e-02, -3.1679e-01, -1.0075e-01, -1.1114e-01, -4.1218e-02,\n           3.0042e-01, -2.7648e-01, -1.8099e-01, -1.6134e-01,  2.5265e-01,\n          -1.1621e-01,  2.3302e-01,  1.4744e-01,  4.1735e-01,  2.1052e-01,\n           2.1757e-01, -8.0187e-02,  4.6572e-02, -2.6615e-01,  1.0826e-01,\n          -1.3494e-01, -1.0335e-01, -2.4030e-01,  1.2928e-01, -3.1306e-01,\n           2.0359e-01,  1.7098e-01, -2.2413e-01,  8.8560e-03,  2.7173e-01,\n          -7.8937e-02,  4.4161e-02, -9.0815e-03, -2.2723e-01,  1.1119e-01,\n           7.9789e-02, -1.3618e-01, -2.1305e-02, -4.6805e-02, -1.4138e-01,\n          -7.9044e-03, -4.2442e-02,  1.2866e-03,  2.1007e-01, -1.5872e-01,\n           2.0304e-01, -2.0753e-01,  1.1404e-01, -3.7974e-04, -1.7172e-02,\n          -5.6059e-02,  2.1751e-01, -4.1691e-01,  3.0223e-01,  8.4561e-02,\n          -1.0669e-01,  1.5391e-01,  6.8921e-02, -1.5874e-01,  1.0869e-01,\n           6.4674e-01,  1.2872e-01, -3.9728e-01, -5.9285e-02,  2.4406e-01,\n          -2.2835e-01, -5.8633e-02,  1.7076e-01, -3.8581e-02,  3.1114e-02,\n          -2.6911e-01, -1.4512e-01, -5.4387e-02,  2.3389e-02,  7.8468e-02,\n           5.7451e-01, -2.7298e-01,  4.0510e-02, -5.2390e-03, -1.4533e-01,\n           3.1083e-02, -2.5170e-01, -8.4565e-02,  3.3134e-02,  2.8085e-01,\n          -2.6598e-01, -1.1202e-01, -1.6521e-02, -5.4365e-03,  2.5307e-01,\n          -1.4092e-01, -2.3328e-01,  6.8603e-02],\n         [-1.5286e-01, -5.3675e-02, -1.5518e-01, -2.9217e-02, -1.3600e-01,\n           2.6884e-01, -2.7981e-01,  1.9858e-01, -1.6357e-01, -1.9606e-02,\n          -2.6381e-01,  5.4255e-02,  2.7309e-01, -3.0984e-02,  1.6931e-02,\n           5.8346e-02, -5.9836e-02,  4.4347e-03, -8.0025e-02, -1.3277e-01,\n           4.6261e-02,  1.4015e-01, -2.0836e-01, -2.9759e-02,  1.2347e-01,\n           6.5483e-02,  1.6483e-01,  7.8357e-02, -4.1264e-02,  2.9015e-01,\n           9.7185e-02,  1.3148e-01, -1.9658e-04, -2.3651e-01,  1.1150e-01,\n          -7.2295e-02,  1.1079e-02,  1.6370e-01,  2.0188e-02, -2.2856e-01,\n          -5.0213e-02, -2.0880e-01, -1.0489e-01,  4.8594e-01, -2.3059e-01,\n           1.3351e-01, -2.0488e-01, -1.8709e-01,  2.1969e-01, -1.1820e-01,\n          -1.3029e-01,  2.9478e-01, -9.5330e-02,  1.2301e-01,  1.2217e-01,\n           4.1075e-02,  9.4402e-03,  1.2490e-01, -4.7981e-02, -4.2959e-02,\n           3.0747e-01,  1.7170e-01, -2.2444e-01,  1.4614e-01,  2.4477e-01,\n          -2.6391e-01, -1.6502e-01,  2.2177e-02, -3.9432e-03,  1.4258e-01,\n          -1.9226e-01,  5.8107e-02, -2.9747e-02, -9.0203e-02, -7.3904e-02,\n           3.4803e-01, -1.8438e-01, -9.5631e-02, -3.9361e-02, -1.8426e-01,\n           2.0852e-02, -6.0483e-02,  5.5965e-02,  1.9383e-01,  1.4439e-01,\n           4.2394e-02, -2.8948e-01, -1.3121e-01,  2.0550e-01, -4.7144e-02,\n           1.0864e-02, -2.9880e-03,  3.6880e-02],\n         [-6.1621e-03, -2.8745e-01, -6.2336e-02, -1.0756e-01, -1.0983e-01,\n           1.8042e-01, -2.6813e-01, -1.0958e-01, -1.9447e-01,  3.3995e-01,\n          -2.2857e-01,  3.6781e-01,  9.5142e-02,  2.1588e-01,  1.3847e-01,\n           2.0704e-01, -7.5789e-02,  2.0583e-01, -2.4350e-01,  6.1323e-02,\n          -1.0998e-01, -6.2761e-02, -1.4267e-01,  2.3378e-01, -2.9501e-01,\n           2.0009e-01,  1.0034e-01, -4.6786e-03, -5.0770e-02,  3.6311e-01,\n           3.5908e-03,  2.4348e-01, -1.7570e-01, -1.7810e-01,  1.2559e-01,\n           8.3564e-02, -1.1425e-01, -5.9370e-02, -9.6079e-03, -1.7922e-02,\n           2.7280e-03, -1.8016e-01,  1.0133e-01,  1.7943e-01, -1.0739e-01,\n           2.0873e-01, -1.5721e-01,  6.7463e-02,  4.4313e-02, -1.6053e-01,\n          -7.7957e-02,  2.8621e-01, -3.7220e-01,  2.2234e-01,  1.5247e-01,\n          -1.4639e-01,  1.7094e-01, -1.3712e-02, -9.8467e-02,  1.1084e-01,\n           4.7787e-01,  1.7947e-01, -2.9710e-01, -7.7591e-02,  2.6948e-01,\n          -1.6311e-01, -3.8021e-02,  2.5612e-01, -1.9034e-02,  8.7224e-02,\n          -3.6800e-01, -2.0983e-01, -1.1435e-01,  9.8143e-02,  3.2434e-02,\n           4.8118e-01, -2.5379e-01, -2.4411e-02,  1.5377e-01, -1.3299e-01,\n          -1.2007e-02, -1.7565e-01, -1.2311e-01, -6.2440e-02,  2.1731e-01,\n          -3.0912e-01, -1.6015e-01, -4.2201e-02,  9.4719e-02,  1.4127e-01,\n          -1.2331e-01, -1.4492e-01, -6.2499e-02],\n         [-6.9691e-02, -1.7325e-01, -9.9026e-02,  8.6589e-03, -1.4205e-01,\n           1.9092e-01, -3.3606e-01,  1.6407e-01, -8.7453e-02,  9.4640e-02,\n          -1.9061e-01,  1.3584e-01,  2.3989e-01,  1.0053e-01,  1.5427e-01,\n           5.3719e-02, -6.2649e-02,  6.4933e-02, -1.0897e-01, -1.1317e-01,\n           5.6558e-02, -3.6775e-02, -2.9586e-01,  1.1506e-02, -3.1097e-02,\n          -3.5194e-03,  2.5382e-01,  8.3379e-02,  1.0087e-01,  1.6138e-01,\n           3.4902e-02,  4.9298e-02,  1.5371e-01, -1.2369e-01,  6.5320e-02,\n          -6.0158e-02, -8.8147e-02,  1.6346e-01, -9.2445e-02, -1.6833e-01,\n          -1.7801e-03, -2.2332e-01, -1.7925e-01,  3.5386e-01, -1.5789e-01,\n           2.4105e-01, -2.3720e-01, -3.3174e-01,  1.4476e-01, -8.4101e-02,\n          -2.0694e-01,  3.3723e-01, -2.6222e-02,  6.0119e-02,  1.2711e-01,\n           3.1807e-02, -5.1846e-02, -2.6813e-02,  9.8815e-03, -2.1980e-02,\n           3.1440e-01,  2.6898e-02, -1.6822e-01,  2.4831e-01,  2.3476e-01,\n          -8.8689e-02, -6.2299e-02, -2.9519e-02,  1.0268e-01,  8.0567e-02,\n          -7.3454e-02,  5.3554e-02, -2.3924e-03, -9.4287e-02, -1.1158e-01,\n           3.4355e-01, -1.1977e-01, -9.7007e-02,  7.2202e-02, -1.9041e-01,\n           1.1909e-01, -1.4567e-01, -4.5444e-02,  1.3963e-01,  1.5950e-01,\n          -6.2075e-02, -2.3011e-01, -3.4302e-02,  7.8049e-02, -2.4655e-02,\n          -2.6108e-02, -3.1485e-02,  3.5443e-02]], grad_fn=<IndexPutBackward0>),\n tensor([[-2.0188e-01, -1.8541e-01, -6.8832e-02, -8.5293e-02, -1.0203e-01,\n           2.6727e-01, -2.6114e-01,  1.7088e-01, -1.1827e-01,  2.7355e-02,\n          -2.1236e-01,  1.1431e-01,  2.9615e-01,  1.0904e-01,  5.2518e-02,\n           3.5079e-03,  1.3786e-02, -3.6141e-02, -7.6425e-02, -1.4975e-01,\n           3.9476e-02,  1.1799e-01, -1.4267e-01, -4.3577e-02,  2.4822e-02,\n           5.1190e-05,  2.0979e-01,  3.8638e-02,  1.2955e-01,  3.3094e-01,\n           9.1369e-02,  1.7914e-01, -2.9443e-02, -2.4777e-01,  2.0739e-01,\n          -8.9972e-02, -4.2540e-02,  5.6063e-02, -4.6134e-02, -1.9425e-01,\n          -8.9796e-02, -1.3797e-01, -5.9405e-02,  4.6593e-01, -2.6565e-01,\n           1.6601e-01, -2.6030e-01, -2.2472e-01,  1.5248e-01, -1.2581e-01,\n          -1.6206e-01,  2.7150e-01,  3.9490e-03,  8.2810e-02,  8.0382e-02,\n          -3.0168e-02,  1.5749e-02,  1.7271e-01, -4.2086e-02, -4.0406e-02,\n           2.4766e-01,  1.5169e-01, -2.6738e-01,  2.1730e-01,  1.9236e-01,\n          -2.4536e-01, -1.2391e-01,  1.5182e-02,  7.9800e-02,  1.7158e-01,\n          -1.4869e-01,  2.7376e-02, -3.9919e-02, -1.6288e-01, -3.5524e-02,\n           4.3554e-01, -2.0392e-01, -5.3297e-02, -7.8595e-02, -1.0843e-01,\n           6.4633e-03, -1.1867e-01,  3.4508e-03,  2.5135e-01,  1.0759e-01,\n           7.8797e-02, -2.4545e-01, -6.7972e-02,  2.6368e-01,  7.7104e-02,\n           5.6481e-02, -3.8693e-02,  8.3245e-02],\n         [-6.9249e-03, -3.0079e-01, -1.6504e-01, -1.6383e-01,  3.5376e-02,\n           3.2233e-01, -1.3691e-01, -1.3074e-01, -1.4618e-01,  1.6474e-01,\n          -1.7799e-01,  2.8925e-01,  9.6303e-02,  2.2930e-01,  1.7862e-01,\n           2.2412e-01, -7.0329e-02,  1.5807e-01, -2.8430e-01,  9.1911e-02,\n          -1.0383e-01, -3.5981e-02, -2.1495e-01,  1.5393e-01, -2.8284e-01,\n           2.9196e-01,  1.0314e-01, -1.7244e-01,  2.5243e-02,  2.8952e-01,\n           1.1256e-01,  1.5625e-01, -5.9437e-02, -2.0947e-01,  1.5021e-01,\n           1.3975e-01, -1.4744e-01,  5.8614e-03, -1.3346e-02, -6.3929e-02,\n          -2.7099e-02, -1.0005e-01, -6.2592e-02,  2.5866e-01, -1.8824e-01,\n           1.8231e-01, -1.6892e-01,  1.6670e-01,  9.0870e-02, -7.4841e-02,\n          -8.7736e-03,  2.6189e-01, -3.8120e-01,  3.5042e-01,  1.5455e-01,\n          -4.7317e-02,  9.5646e-02,  7.4634e-02, -1.6204e-01,  1.3230e-01,\n           5.7141e-01,  2.1995e-01, -3.7857e-01, -3.9610e-02,  3.0400e-01,\n          -2.1969e-01, -1.8841e-01,  2.1133e-01, -6.9591e-02, -1.2145e-02,\n          -2.4977e-01, -1.2260e-01, -1.3666e-01,  9.2873e-03,  3.7670e-02,\n           4.6655e-01, -2.1562e-01,  9.5500e-03, -6.7633e-02, -1.5034e-01,\n           3.7599e-02, -1.7824e-01, -1.1527e-01,  3.8774e-02,  3.3315e-01,\n          -2.6732e-01, -9.6735e-02, -9.5766e-02,  2.1381e-02,  1.9272e-01,\n          -1.7507e-01, -1.3338e-01,  1.6944e-02],\n         [-4.8536e-02, -3.2010e-01, -1.5550e-01, -1.6701e-01, -7.5434e-03,\n           2.7732e-01, -2.5491e-01, -8.7456e-02, -2.2069e-01,  1.5664e-01,\n          -1.0522e-01,  3.5305e-01,  1.6120e-01,  3.2044e-01,  2.7980e-01,\n           1.8305e-01, -5.6306e-02,  1.3279e-01, -2.3694e-01,  7.0931e-02,\n          -4.8058e-02, -4.0167e-02, -2.0541e-01,  8.6613e-02, -3.5734e-01,\n           3.6574e-01,  1.5705e-01, -2.0501e-01, -2.8367e-02,  2.6932e-01,\n           2.2313e-02,  2.4558e-01,  3.5811e-02, -2.4573e-01,  1.8434e-01,\n           2.1139e-01, -1.6891e-01, -4.8087e-03, -7.3890e-03, -1.0180e-01,\n          -1.0732e-01, -1.1085e-01, -7.7171e-02,  3.0476e-01, -2.6222e-01,\n           1.6066e-01, -2.3037e-01,  2.1314e-01,  5.1877e-02,  1.7381e-02,\n          -3.0220e-02,  2.1238e-01, -4.3651e-01,  3.1261e-01,  8.2862e-02,\n          -9.3206e-02,  1.7005e-01,  6.4420e-02, -1.5692e-01, -3.2551e-03,\n           6.8837e-01,  1.4208e-01, -4.2588e-01,  2.4605e-02,  2.3678e-01,\n          -2.1084e-01, -9.2377e-02,  2.0801e-01, -1.7807e-02,  1.1282e-02,\n          -3.0348e-01, -1.7762e-01, -1.3542e-01,  3.6411e-04,  4.4826e-02,\n           5.5896e-01, -2.8125e-01,  3.9682e-02,  8.5732e-02, -1.5638e-01,\n           3.1234e-02, -1.7686e-01, -1.2295e-01,  1.2949e-01,  3.4363e-01,\n          -2.8192e-01, -8.5340e-02, -1.5070e-01, -3.7542e-02,  9.2284e-02,\n          -9.1910e-02, -2.4688e-01, -1.2340e-02],\n         [-2.0485e-01, -6.4589e-02, -3.0218e-02, -3.9195e-02, -1.5168e-01,\n           2.8971e-01, -3.4247e-01,  2.7782e-01, -2.0740e-01,  1.0627e-01,\n          -2.5181e-01,  6.2660e-02,  2.1876e-01,  5.2265e-02,  9.4428e-02,\n           2.9027e-02,  1.8064e-03,  3.3164e-02, -4.9021e-02, -1.4005e-01,\n           2.7435e-02,  1.2668e-01, -1.5053e-01, -4.6277e-02,  1.0345e-02,\n           5.3909e-02,  1.7065e-01,  9.8658e-02,  4.6291e-02,  3.2012e-01,\n           7.6347e-02,  2.3108e-01, -3.4336e-02, -2.7592e-01,  2.5330e-01,\n          -5.2298e-03, -5.2094e-04,  8.3611e-02,  5.3391e-02, -2.0543e-01,\n          -4.1078e-02, -2.1441e-01, -1.0110e-01,  5.3545e-01, -2.5072e-01,\n           1.9684e-01, -2.3420e-01, -2.3975e-01,  2.4280e-01, -7.1691e-02,\n          -1.4928e-01,  2.9960e-01, -1.4962e-01,  6.1831e-02,  1.6161e-01,\n           7.2381e-03, -3.0488e-02,  6.9099e-02, -1.3940e-01, -6.6137e-02,\n           1.5331e-01,  1.9294e-01, -2.4164e-01,  1.6825e-01,  1.8564e-01,\n          -3.3367e-01, -1.8606e-01,  2.8015e-02,  5.1344e-02,  1.7531e-01,\n          -1.8613e-01, -2.7886e-02,  4.6007e-02, -1.2214e-01,  1.1940e-01,\n           4.1024e-01, -1.9995e-01, -1.2663e-01, -2.6990e-02, -2.2505e-01,\n          -1.8584e-02, -2.6009e-02,  5.8841e-03,  2.1230e-01,  1.2221e-01,\n           1.4070e-01, -2.4115e-01,  5.4131e-02,  2.0555e-01,  2.1579e-02,\n          -4.7483e-03, -6.3756e-02, -4.7398e-04],\n         [ 2.7050e-02, -3.1679e-01, -1.0075e-01, -1.1114e-01, -4.1218e-02,\n           3.0042e-01, -2.7648e-01, -1.8099e-01, -1.6134e-01,  2.5265e-01,\n          -1.1621e-01,  2.3302e-01,  1.4744e-01,  4.1735e-01,  2.1052e-01,\n           2.1757e-01, -8.0187e-02,  4.6572e-02, -2.6615e-01,  1.0826e-01,\n          -1.3494e-01, -1.0335e-01, -2.4030e-01,  1.2928e-01, -3.1306e-01,\n           2.0359e-01,  1.7098e-01, -2.2413e-01,  8.8560e-03,  2.7173e-01,\n          -7.8937e-02,  4.4161e-02, -9.0815e-03, -2.2723e-01,  1.1119e-01,\n           7.9789e-02, -1.3618e-01, -2.1305e-02, -4.6805e-02, -1.4138e-01,\n          -7.9044e-03, -4.2442e-02,  1.2866e-03,  2.1007e-01, -1.5872e-01,\n           2.0304e-01, -2.0753e-01,  1.1404e-01, -3.7974e-04, -1.7172e-02,\n          -5.6059e-02,  2.1751e-01, -4.1691e-01,  3.0223e-01,  8.4561e-02,\n          -1.0669e-01,  1.5391e-01,  6.8921e-02, -1.5874e-01,  1.0869e-01,\n           6.4674e-01,  1.2872e-01, -3.9728e-01, -5.9285e-02,  2.4406e-01,\n          -2.2835e-01, -5.8633e-02,  1.7076e-01, -3.8581e-02,  3.1114e-02,\n          -2.6911e-01, -1.4512e-01, -5.4387e-02,  2.3389e-02,  7.8468e-02,\n           5.7451e-01, -2.7298e-01,  4.0510e-02, -5.2390e-03, -1.4533e-01,\n           3.1083e-02, -2.5170e-01, -8.4565e-02,  3.3134e-02,  2.8085e-01,\n          -2.6598e-01, -1.1202e-01, -1.6521e-02, -5.4365e-03,  2.5307e-01,\n          -1.4092e-01, -2.3328e-01,  6.8603e-02],\n         [-1.5286e-01, -5.3675e-02, -1.5518e-01, -2.9217e-02, -1.3600e-01,\n           2.6884e-01, -2.7981e-01,  1.9858e-01, -1.6357e-01, -1.9606e-02,\n          -2.6381e-01,  5.4255e-02,  2.7309e-01, -3.0984e-02,  1.6931e-02,\n           5.8346e-02, -5.9836e-02,  4.4347e-03, -8.0025e-02, -1.3277e-01,\n           4.6261e-02,  1.4015e-01, -2.0836e-01, -2.9759e-02,  1.2347e-01,\n           6.5483e-02,  1.6483e-01,  7.8357e-02, -4.1264e-02,  2.9015e-01,\n           9.7185e-02,  1.3148e-01, -1.9658e-04, -2.3651e-01,  1.1150e-01,\n          -7.2295e-02,  1.1079e-02,  1.6370e-01,  2.0188e-02, -2.2856e-01,\n          -5.0213e-02, -2.0880e-01, -1.0489e-01,  4.8594e-01, -2.3059e-01,\n           1.3351e-01, -2.0488e-01, -1.8709e-01,  2.1969e-01, -1.1820e-01,\n          -1.3029e-01,  2.9478e-01, -9.5330e-02,  1.2301e-01,  1.2217e-01,\n           4.1075e-02,  9.4402e-03,  1.2490e-01, -4.7981e-02, -4.2959e-02,\n           3.0747e-01,  1.7170e-01, -2.2444e-01,  1.4614e-01,  2.4477e-01,\n          -2.6391e-01, -1.6502e-01,  2.2177e-02, -3.9432e-03,  1.4258e-01,\n          -1.9226e-01,  5.8107e-02, -2.9747e-02, -9.0203e-02, -7.3904e-02,\n           3.4803e-01, -1.8438e-01, -9.5631e-02, -3.9361e-02, -1.8426e-01,\n           2.0852e-02, -6.0483e-02,  5.5965e-02,  1.9383e-01,  1.4439e-01,\n           4.2394e-02, -2.8948e-01, -1.3121e-01,  2.0550e-01, -4.7144e-02,\n           1.0864e-02, -2.9880e-03,  3.6880e-02],\n         [-6.1621e-03, -2.8745e-01, -6.2336e-02, -1.0756e-01, -1.0983e-01,\n           1.8042e-01, -2.6813e-01, -1.0958e-01, -1.9447e-01,  3.3995e-01,\n          -2.2857e-01,  3.6781e-01,  9.5142e-02,  2.1588e-01,  1.3847e-01,\n           2.0704e-01, -7.5789e-02,  2.0583e-01, -2.4350e-01,  6.1323e-02,\n          -1.0998e-01, -6.2761e-02, -1.4267e-01,  2.3378e-01, -2.9501e-01,\n           2.0009e-01,  1.0034e-01, -4.6786e-03, -5.0770e-02,  3.6311e-01,\n           3.5908e-03,  2.4348e-01, -1.7570e-01, -1.7810e-01,  1.2559e-01,\n           8.3564e-02, -1.1425e-01, -5.9370e-02, -9.6079e-03, -1.7922e-02,\n           2.7280e-03, -1.8016e-01,  1.0133e-01,  1.7943e-01, -1.0739e-01,\n           2.0873e-01, -1.5721e-01,  6.7463e-02,  4.4313e-02, -1.6053e-01,\n          -7.7957e-02,  2.8621e-01, -3.7220e-01,  2.2234e-01,  1.5247e-01,\n          -1.4639e-01,  1.7094e-01, -1.3712e-02, -9.8467e-02,  1.1084e-01,\n           4.7787e-01,  1.7947e-01, -2.9710e-01, -7.7591e-02,  2.6948e-01,\n          -1.6311e-01, -3.8021e-02,  2.5612e-01, -1.9034e-02,  8.7224e-02,\n          -3.6800e-01, -2.0983e-01, -1.1435e-01,  9.8143e-02,  3.2434e-02,\n           4.8118e-01, -2.5379e-01, -2.4411e-02,  1.5377e-01, -1.3299e-01,\n          -1.2007e-02, -1.7565e-01, -1.2311e-01, -6.2440e-02,  2.1731e-01,\n          -3.0912e-01, -1.6015e-01, -4.2201e-02,  9.4719e-02,  1.4127e-01,\n          -1.2331e-01, -1.4492e-01, -6.2499e-02],\n         [-6.9691e-02, -1.7325e-01, -9.9026e-02,  8.6589e-03, -1.4205e-01,\n           1.9092e-01, -3.3606e-01,  1.6407e-01, -8.7453e-02,  9.4640e-02,\n          -1.9061e-01,  1.3584e-01,  2.3989e-01,  1.0053e-01,  1.5427e-01,\n           5.3719e-02, -6.2649e-02,  6.4933e-02, -1.0897e-01, -1.1317e-01,\n           5.6558e-02, -3.6775e-02, -2.9586e-01,  1.1506e-02, -3.1097e-02,\n          -3.5194e-03,  2.5382e-01,  8.3379e-02,  1.0087e-01,  1.6138e-01,\n           3.4902e-02,  4.9298e-02,  1.5371e-01, -1.2369e-01,  6.5320e-02,\n          -6.0158e-02, -8.8147e-02,  1.6346e-01, -9.2445e-02, -1.6833e-01,\n          -1.7801e-03, -2.2332e-01, -1.7925e-01,  3.5386e-01, -1.5789e-01,\n           2.4105e-01, -2.3720e-01, -3.3174e-01,  1.4476e-01, -8.4101e-02,\n          -2.0694e-01,  3.3723e-01, -2.6222e-02,  6.0119e-02,  1.2711e-01,\n           3.1807e-02, -5.1846e-02, -2.6813e-02,  9.8815e-03, -2.1980e-02,\n           3.1440e-01,  2.6898e-02, -1.6822e-01,  2.4831e-01,  2.3476e-01,\n          -8.8689e-02, -6.2299e-02, -2.9519e-02,  1.0268e-01,  8.0567e-02,\n          -7.3454e-02,  5.3554e-02, -2.3924e-03, -9.4287e-02, -1.1158e-01,\n           3.4355e-01, -1.1977e-01, -9.7007e-02,  7.2202e-02, -1.9041e-01,\n           1.1909e-01, -1.4567e-01, -4.5444e-02,  1.3963e-01,  1.5950e-01,\n          -6.2075e-02, -2.3011e-01, -3.4302e-02,  7.8049e-02, -2.4655e-02,\n          -2.6108e-02, -3.1485e-02,  3.5443e-02]], grad_fn=<IndexPutBackward0>),\n tensor([[-2.0188e-01, -1.8541e-01, -6.8832e-02, -8.5293e-02, -1.0203e-01,\n           2.6727e-01, -2.6114e-01,  1.7088e-01, -1.1827e-01,  2.7355e-02,\n          -2.1236e-01,  1.1431e-01,  2.9615e-01,  1.0904e-01,  5.2518e-02,\n           3.5079e-03,  1.3786e-02, -3.6141e-02, -7.6425e-02, -1.4975e-01,\n           3.9476e-02,  1.1799e-01, -1.4267e-01, -4.3577e-02,  2.4822e-02,\n           5.1190e-05,  2.0979e-01,  3.8638e-02,  1.2955e-01,  3.3094e-01,\n           9.1369e-02,  1.7914e-01, -2.9443e-02, -2.4777e-01,  2.0739e-01,\n          -8.9972e-02, -4.2540e-02,  5.6063e-02, -4.6134e-02, -1.9425e-01,\n          -8.9796e-02, -1.3797e-01, -5.9405e-02,  4.6593e-01, -2.6565e-01,\n           1.6601e-01, -2.6030e-01, -2.2472e-01,  1.5248e-01, -1.2581e-01,\n          -1.6206e-01,  2.7150e-01,  3.9490e-03,  8.2810e-02,  8.0382e-02,\n          -3.0168e-02,  1.5749e-02,  1.7271e-01, -4.2086e-02, -4.0406e-02,\n           2.4766e-01,  1.5169e-01, -2.6738e-01,  2.1730e-01,  1.9236e-01,\n          -2.4536e-01, -1.2391e-01,  1.5182e-02,  7.9800e-02,  1.7158e-01,\n          -1.4869e-01,  2.7376e-02, -3.9919e-02, -1.6288e-01, -3.5524e-02,\n           4.3554e-01, -2.0392e-01, -5.3297e-02, -7.8595e-02, -1.0843e-01,\n           6.4633e-03, -1.1867e-01,  3.4508e-03,  2.5135e-01,  1.0759e-01,\n           7.8797e-02, -2.4545e-01, -6.7972e-02,  2.6368e-01,  7.7104e-02,\n           5.6481e-02, -3.8693e-02,  8.3245e-02],\n         [-6.9249e-03, -3.0079e-01, -1.6504e-01, -1.6383e-01,  3.5376e-02,\n           3.2233e-01, -1.3691e-01, -1.3074e-01, -1.4618e-01,  1.6474e-01,\n          -1.7799e-01,  2.8925e-01,  9.6303e-02,  2.2930e-01,  1.7862e-01,\n           2.2412e-01, -7.0329e-02,  1.5807e-01, -2.8430e-01,  9.1911e-02,\n          -1.0383e-01, -3.5981e-02, -2.1495e-01,  1.5393e-01, -2.8284e-01,\n           2.9196e-01,  1.0314e-01, -1.7244e-01,  2.5243e-02,  2.8952e-01,\n           1.1256e-01,  1.5625e-01, -5.9437e-02, -2.0947e-01,  1.5021e-01,\n           1.3975e-01, -1.4744e-01,  5.8614e-03, -1.3346e-02, -6.3929e-02,\n          -2.7099e-02, -1.0005e-01, -6.2592e-02,  2.5866e-01, -1.8824e-01,\n           1.8231e-01, -1.6892e-01,  1.6670e-01,  9.0870e-02, -7.4841e-02,\n          -8.7736e-03,  2.6189e-01, -3.8120e-01,  3.5042e-01,  1.5455e-01,\n          -4.7317e-02,  9.5646e-02,  7.4634e-02, -1.6204e-01,  1.3230e-01,\n           5.7141e-01,  2.1995e-01, -3.7857e-01, -3.9610e-02,  3.0400e-01,\n          -2.1969e-01, -1.8841e-01,  2.1133e-01, -6.9591e-02, -1.2145e-02,\n          -2.4977e-01, -1.2260e-01, -1.3666e-01,  9.2873e-03,  3.7670e-02,\n           4.6655e-01, -2.1562e-01,  9.5500e-03, -6.7633e-02, -1.5034e-01,\n           3.7599e-02, -1.7824e-01, -1.1527e-01,  3.8774e-02,  3.3315e-01,\n          -2.6732e-01, -9.6735e-02, -9.5766e-02,  2.1381e-02,  1.9272e-01,\n          -1.7507e-01, -1.3338e-01,  1.6944e-02],\n         [-4.8536e-02, -3.2010e-01, -1.5550e-01, -1.6701e-01, -7.5434e-03,\n           2.7732e-01, -2.5491e-01, -8.7456e-02, -2.2069e-01,  1.5664e-01,\n          -1.0522e-01,  3.5305e-01,  1.6120e-01,  3.2044e-01,  2.7980e-01,\n           1.8305e-01, -5.6306e-02,  1.3279e-01, -2.3694e-01,  7.0931e-02,\n          -4.8058e-02, -4.0167e-02, -2.0541e-01,  8.6613e-02, -3.5734e-01,\n           3.6574e-01,  1.5705e-01, -2.0501e-01, -2.8367e-02,  2.6932e-01,\n           2.2313e-02,  2.4558e-01,  3.5811e-02, -2.4573e-01,  1.8434e-01,\n           2.1139e-01, -1.6891e-01, -4.8087e-03, -7.3890e-03, -1.0180e-01,\n          -1.0732e-01, -1.1085e-01, -7.7171e-02,  3.0476e-01, -2.6222e-01,\n           1.6066e-01, -2.3037e-01,  2.1314e-01,  5.1877e-02,  1.7381e-02,\n          -3.0220e-02,  2.1238e-01, -4.3651e-01,  3.1261e-01,  8.2862e-02,\n          -9.3206e-02,  1.7005e-01,  6.4420e-02, -1.5692e-01, -3.2551e-03,\n           6.8837e-01,  1.4208e-01, -4.2588e-01,  2.4605e-02,  2.3678e-01,\n          -2.1084e-01, -9.2377e-02,  2.0801e-01, -1.7807e-02,  1.1282e-02,\n          -3.0348e-01, -1.7762e-01, -1.3542e-01,  3.6411e-04,  4.4826e-02,\n           5.5896e-01, -2.8125e-01,  3.9682e-02,  8.5732e-02, -1.5638e-01,\n           3.1234e-02, -1.7686e-01, -1.2295e-01,  1.2949e-01,  3.4363e-01,\n          -2.8192e-01, -8.5340e-02, -1.5070e-01, -3.7542e-02,  9.2284e-02,\n          -9.1910e-02, -2.4688e-01, -1.2340e-02],\n         [-2.0485e-01, -6.4589e-02, -3.0218e-02, -3.9195e-02, -1.5168e-01,\n           2.8971e-01, -3.4247e-01,  2.7782e-01, -2.0740e-01,  1.0627e-01,\n          -2.5181e-01,  6.2660e-02,  2.1876e-01,  5.2265e-02,  9.4428e-02,\n           2.9027e-02,  1.8064e-03,  3.3164e-02, -4.9021e-02, -1.4005e-01,\n           2.7435e-02,  1.2668e-01, -1.5053e-01, -4.6277e-02,  1.0345e-02,\n           5.3909e-02,  1.7065e-01,  9.8658e-02,  4.6291e-02,  3.2012e-01,\n           7.6347e-02,  2.3108e-01, -3.4336e-02, -2.7592e-01,  2.5330e-01,\n          -5.2298e-03, -5.2094e-04,  8.3611e-02,  5.3391e-02, -2.0543e-01,\n          -4.1078e-02, -2.1441e-01, -1.0110e-01,  5.3545e-01, -2.5072e-01,\n           1.9684e-01, -2.3420e-01, -2.3975e-01,  2.4280e-01, -7.1691e-02,\n          -1.4928e-01,  2.9960e-01, -1.4962e-01,  6.1831e-02,  1.6161e-01,\n           7.2381e-03, -3.0488e-02,  6.9099e-02, -1.3940e-01, -6.6137e-02,\n           1.5331e-01,  1.9294e-01, -2.4164e-01,  1.6825e-01,  1.8564e-01,\n          -3.3367e-01, -1.8606e-01,  2.8015e-02,  5.1344e-02,  1.7531e-01,\n          -1.8613e-01, -2.7886e-02,  4.6007e-02, -1.2214e-01,  1.1940e-01,\n           4.1024e-01, -1.9995e-01, -1.2663e-01, -2.6990e-02, -2.2505e-01,\n          -1.8584e-02, -2.6009e-02,  5.8841e-03,  2.1230e-01,  1.2221e-01,\n           1.4070e-01, -2.4115e-01,  5.4131e-02,  2.0555e-01,  2.1579e-02,\n          -4.7483e-03, -6.3756e-02, -4.7398e-04],\n         [ 2.7050e-02, -3.1679e-01, -1.0075e-01, -1.1114e-01, -4.1218e-02,\n           3.0042e-01, -2.7648e-01, -1.8099e-01, -1.6134e-01,  2.5265e-01,\n          -1.1621e-01,  2.3302e-01,  1.4744e-01,  4.1735e-01,  2.1052e-01,\n           2.1757e-01, -8.0187e-02,  4.6572e-02, -2.6615e-01,  1.0826e-01,\n          -1.3494e-01, -1.0335e-01, -2.4030e-01,  1.2928e-01, -3.1306e-01,\n           2.0359e-01,  1.7098e-01, -2.2413e-01,  8.8560e-03,  2.7173e-01,\n          -7.8937e-02,  4.4161e-02, -9.0815e-03, -2.2723e-01,  1.1119e-01,\n           7.9789e-02, -1.3618e-01, -2.1305e-02, -4.6805e-02, -1.4138e-01,\n          -7.9044e-03, -4.2442e-02,  1.2866e-03,  2.1007e-01, -1.5872e-01,\n           2.0304e-01, -2.0753e-01,  1.1404e-01, -3.7974e-04, -1.7172e-02,\n          -5.6059e-02,  2.1751e-01, -4.1691e-01,  3.0223e-01,  8.4561e-02,\n          -1.0669e-01,  1.5391e-01,  6.8921e-02, -1.5874e-01,  1.0869e-01,\n           6.4674e-01,  1.2872e-01, -3.9728e-01, -5.9285e-02,  2.4406e-01,\n          -2.2835e-01, -5.8633e-02,  1.7076e-01, -3.8581e-02,  3.1114e-02,\n          -2.6911e-01, -1.4512e-01, -5.4387e-02,  2.3389e-02,  7.8468e-02,\n           5.7451e-01, -2.7298e-01,  4.0510e-02, -5.2390e-03, -1.4533e-01,\n           3.1083e-02, -2.5170e-01, -8.4565e-02,  3.3134e-02,  2.8085e-01,\n          -2.6598e-01, -1.1202e-01, -1.6521e-02, -5.4365e-03,  2.5307e-01,\n          -1.4092e-01, -2.3328e-01,  6.8603e-02],\n         [-1.5286e-01, -5.3675e-02, -1.5518e-01, -2.9217e-02, -1.3600e-01,\n           2.6884e-01, -2.7981e-01,  1.9858e-01, -1.6357e-01, -1.9606e-02,\n          -2.6381e-01,  5.4255e-02,  2.7309e-01, -3.0984e-02,  1.6931e-02,\n           5.8346e-02, -5.9836e-02,  4.4347e-03, -8.0025e-02, -1.3277e-01,\n           4.6261e-02,  1.4015e-01, -2.0836e-01, -2.9759e-02,  1.2347e-01,\n           6.5483e-02,  1.6483e-01,  7.8357e-02, -4.1264e-02,  2.9015e-01,\n           9.7185e-02,  1.3148e-01, -1.9658e-04, -2.3651e-01,  1.1150e-01,\n          -7.2295e-02,  1.1079e-02,  1.6370e-01,  2.0188e-02, -2.2856e-01,\n          -5.0213e-02, -2.0880e-01, -1.0489e-01,  4.8594e-01, -2.3059e-01,\n           1.3351e-01, -2.0488e-01, -1.8709e-01,  2.1969e-01, -1.1820e-01,\n          -1.3029e-01,  2.9478e-01, -9.5330e-02,  1.2301e-01,  1.2217e-01,\n           4.1075e-02,  9.4402e-03,  1.2490e-01, -4.7981e-02, -4.2959e-02,\n           3.0747e-01,  1.7170e-01, -2.2444e-01,  1.4614e-01,  2.4477e-01,\n          -2.6391e-01, -1.6502e-01,  2.2177e-02, -3.9432e-03,  1.4258e-01,\n          -1.9226e-01,  5.8107e-02, -2.9747e-02, -9.0203e-02, -7.3904e-02,\n           3.4803e-01, -1.8438e-01, -9.5631e-02, -3.9361e-02, -1.8426e-01,\n           2.0852e-02, -6.0483e-02,  5.5965e-02,  1.9383e-01,  1.4439e-01,\n           4.2394e-02, -2.8948e-01, -1.3121e-01,  2.0550e-01, -4.7144e-02,\n           1.0864e-02, -2.9880e-03,  3.6880e-02],\n         [-6.1621e-03, -2.8745e-01, -6.2336e-02, -1.0756e-01, -1.0983e-01,\n           1.8042e-01, -2.6813e-01, -1.0958e-01, -1.9447e-01,  3.3995e-01,\n          -2.2857e-01,  3.6781e-01,  9.5142e-02,  2.1588e-01,  1.3847e-01,\n           2.0704e-01, -7.5789e-02,  2.0583e-01, -2.4350e-01,  6.1323e-02,\n          -1.0998e-01, -6.2761e-02, -1.4267e-01,  2.3378e-01, -2.9501e-01,\n           2.0009e-01,  1.0034e-01, -4.6786e-03, -5.0770e-02,  3.6311e-01,\n           3.5908e-03,  2.4348e-01, -1.7570e-01, -1.7810e-01,  1.2559e-01,\n           8.3564e-02, -1.1425e-01, -5.9370e-02, -9.6079e-03, -1.7922e-02,\n           2.7280e-03, -1.8016e-01,  1.0133e-01,  1.7943e-01, -1.0739e-01,\n           2.0873e-01, -1.5721e-01,  6.7463e-02,  4.4313e-02, -1.6053e-01,\n          -7.7957e-02,  2.8621e-01, -3.7220e-01,  2.2234e-01,  1.5247e-01,\n          -1.4639e-01,  1.7094e-01, -1.3712e-02, -9.8467e-02,  1.1084e-01,\n           4.7787e-01,  1.7947e-01, -2.9710e-01, -7.7591e-02,  2.6948e-01,\n          -1.6311e-01, -3.8021e-02,  2.5612e-01, -1.9034e-02,  8.7224e-02,\n          -3.6800e-01, -2.0983e-01, -1.1435e-01,  9.8143e-02,  3.2434e-02,\n           4.8118e-01, -2.5379e-01, -2.4411e-02,  1.5377e-01, -1.3299e-01,\n          -1.2007e-02, -1.7565e-01, -1.2311e-01, -6.2440e-02,  2.1731e-01,\n          -3.0912e-01, -1.6015e-01, -4.2201e-02,  9.4719e-02,  1.4127e-01,\n          -1.2331e-01, -1.4492e-01, -6.2499e-02],\n         [-6.9691e-02, -1.7325e-01, -9.9026e-02,  8.6589e-03, -1.4205e-01,\n           1.9092e-01, -3.3606e-01,  1.6407e-01, -8.7453e-02,  9.4640e-02,\n          -1.9061e-01,  1.3584e-01,  2.3989e-01,  1.0053e-01,  1.5427e-01,\n           5.3719e-02, -6.2649e-02,  6.4933e-02, -1.0897e-01, -1.1317e-01,\n           5.6558e-02, -3.6775e-02, -2.9586e-01,  1.1506e-02, -3.1097e-02,\n          -3.5194e-03,  2.5382e-01,  8.3379e-02,  1.0087e-01,  1.6138e-01,\n           3.4902e-02,  4.9298e-02,  1.5371e-01, -1.2369e-01,  6.5320e-02,\n          -6.0158e-02, -8.8147e-02,  1.6346e-01, -9.2445e-02, -1.6833e-01,\n          -1.7801e-03, -2.2332e-01, -1.7925e-01,  3.5386e-01, -1.5789e-01,\n           2.4105e-01, -2.3720e-01, -3.3174e-01,  1.4476e-01, -8.4101e-02,\n          -2.0694e-01,  3.3723e-01, -2.6222e-02,  6.0119e-02,  1.2711e-01,\n           3.1807e-02, -5.1846e-02, -2.6813e-02,  9.8815e-03, -2.1980e-02,\n           3.1440e-01,  2.6898e-02, -1.6822e-01,  2.4831e-01,  2.3476e-01,\n          -8.8689e-02, -6.2299e-02, -2.9519e-02,  1.0268e-01,  8.0567e-02,\n          -7.3454e-02,  5.3554e-02, -2.3924e-03, -9.4287e-02, -1.1158e-01,\n           3.4355e-01, -1.1977e-01, -9.7007e-02,  7.2202e-02, -1.9041e-01,\n           1.1909e-01, -1.4567e-01, -4.5444e-02,  1.3963e-01,  1.5950e-01,\n          -6.2075e-02, -2.3011e-01, -3.4302e-02,  7.8049e-02, -2.4655e-02,\n          -2.6108e-02, -3.1485e-02,  3.5443e-02]], grad_fn=<IndexPutBackward0>),\n tensor([[-2.0188e-01, -1.8541e-01, -6.8832e-02, -8.5293e-02, -1.0203e-01,\n           2.6727e-01, -2.6114e-01,  1.7088e-01, -1.1827e-01,  2.7355e-02,\n          -2.1236e-01,  1.1431e-01,  2.9615e-01,  1.0904e-01,  5.2518e-02,\n           3.5079e-03,  1.3786e-02, -3.6141e-02, -7.6425e-02, -1.4975e-01,\n           3.9476e-02,  1.1799e-01, -1.4267e-01, -4.3577e-02,  2.4822e-02,\n           5.1190e-05,  2.0979e-01,  3.8638e-02,  1.2955e-01,  3.3094e-01,\n           9.1369e-02,  1.7914e-01, -2.9443e-02, -2.4777e-01,  2.0739e-01,\n          -8.9972e-02, -4.2540e-02,  5.6063e-02, -4.6134e-02, -1.9425e-01,\n          -8.9796e-02, -1.3797e-01, -5.9405e-02,  4.6593e-01, -2.6565e-01,\n           1.6601e-01, -2.6030e-01, -2.2472e-01,  1.5248e-01, -1.2581e-01,\n          -1.6206e-01,  2.7150e-01,  3.9490e-03,  8.2810e-02,  8.0382e-02,\n          -3.0168e-02,  1.5749e-02,  1.7271e-01, -4.2086e-02, -4.0406e-02,\n           2.4766e-01,  1.5169e-01, -2.6738e-01,  2.1730e-01,  1.9236e-01,\n          -2.4536e-01, -1.2391e-01,  1.5182e-02,  7.9800e-02,  1.7158e-01,\n          -1.4869e-01,  2.7376e-02, -3.9919e-02, -1.6288e-01, -3.5524e-02,\n           4.3554e-01, -2.0392e-01, -5.3297e-02, -7.8595e-02, -1.0843e-01,\n           6.4633e-03, -1.1867e-01,  3.4508e-03,  2.5135e-01,  1.0759e-01,\n           7.8797e-02, -2.4545e-01, -6.7972e-02,  2.6368e-01,  7.7104e-02,\n           5.6481e-02, -3.8693e-02,  8.3245e-02],\n         [-6.6250e-03, -2.9963e-01, -1.6550e-01, -1.6355e-01,  3.5351e-02,\n           3.2249e-01, -1.3718e-01, -1.2990e-01, -1.4785e-01,  1.6518e-01,\n          -1.7883e-01,  2.8827e-01,  9.6561e-02,  2.2969e-01,  1.7824e-01,\n           2.2216e-01, -7.2368e-02,  1.5832e-01, -2.8449e-01,  9.2398e-02,\n          -1.0364e-01, -3.6023e-02, -2.1710e-01,  1.5424e-01, -2.8289e-01,\n           2.9229e-01,  9.9973e-02, -1.7328e-01,  2.4850e-02,  2.9089e-01,\n           1.1420e-01,  1.5473e-01, -6.0179e-02, -2.0954e-01,  1.5042e-01,\n           1.3985e-01, -1.4744e-01,  5.6523e-03, -1.2591e-02, -6.5046e-02,\n          -2.6736e-02, -1.0053e-01, -6.4280e-02,  2.5944e-01, -1.8912e-01,\n           1.8179e-01, -1.7005e-01,  1.6364e-01,  9.3109e-02, -7.5310e-02,\n          -9.9603e-03,  2.6188e-01, -3.8105e-01,  3.5065e-01,  1.5503e-01,\n          -4.7251e-02,  9.4433e-02,  7.6056e-02, -1.6319e-01,  1.3260e-01,\n           5.6985e-01,  2.2119e-01, -3.7771e-01, -3.5743e-02,  3.0228e-01,\n          -2.1956e-01, -1.8983e-01,  2.1206e-01, -6.8860e-02, -1.0837e-02,\n          -2.5127e-01, -1.2424e-01, -1.3693e-01,  7.1805e-03,  3.7002e-02,\n           4.6459e-01, -2.1572e-01,  8.7839e-03, -6.9107e-02, -1.5150e-01,\n           3.6781e-02, -1.7832e-01, -1.1611e-01,  3.9574e-02,  3.3421e-01,\n          -2.6725e-01, -9.6826e-02, -9.7586e-02,  2.1471e-02,  1.9151e-01,\n          -1.7549e-01, -1.3217e-01,  1.5504e-02],\n         [-4.8884e-02, -3.2123e-01, -1.5364e-01, -1.6652e-01, -6.3623e-03,\n           2.7623e-01, -2.5520e-01, -8.9263e-02, -2.2073e-01,  1.5746e-01,\n          -1.0678e-01,  3.5321e-01,  1.5868e-01,  3.2113e-01,  2.7896e-01,\n           1.8113e-01, -5.6229e-02,  1.3423e-01, -2.3704e-01,  7.2565e-02,\n          -4.7340e-02, -4.0382e-02, -2.0429e-01,  8.8230e-02, -3.5677e-01,\n           3.6532e-01,  1.5514e-01, -2.0522e-01, -2.7651e-02,  2.6980e-01,\n           2.2609e-02,  2.4564e-01,  3.5595e-02, -2.4503e-01,  1.8265e-01,\n           2.1365e-01, -1.6896e-01, -5.1005e-03, -5.0130e-03, -1.0223e-01,\n          -1.0790e-01, -1.1224e-01, -7.8507e-02,  3.0489e-01, -2.6223e-01,\n           1.6056e-01, -2.3212e-01,  2.1488e-01,  5.1586e-02,  1.6327e-02,\n          -2.6354e-02,  2.1387e-01, -4.3864e-01,  3.1341e-01,  8.4508e-02,\n          -9.1968e-02,  1.6995e-01,  6.5586e-02, -1.5793e-01, -4.2261e-03,\n           6.9125e-01,  1.4159e-01, -4.2536e-01,  2.3729e-02,  2.3859e-01,\n          -2.1156e-01, -9.4193e-02,  2.0756e-01, -1.8525e-02,  9.8566e-03,\n          -3.0271e-01, -1.7833e-01, -1.3541e-01, -6.6340e-05,  4.6146e-02,\n           5.6009e-01, -2.8150e-01,  3.9071e-02,  8.6560e-02, -1.5567e-01,\n           3.0519e-02, -1.7798e-01, -1.2430e-01,  1.3027e-01,  3.4743e-01,\n          -2.8038e-01, -8.6402e-02, -1.5025e-01, -3.9262e-02,  9.2036e-02,\n          -9.1997e-02, -2.4736e-01, -1.3082e-02],\n         [-2.0485e-01, -6.4589e-02, -3.0218e-02, -3.9195e-02, -1.5168e-01,\n           2.8971e-01, -3.4247e-01,  2.7782e-01, -2.0740e-01,  1.0627e-01,\n          -2.5181e-01,  6.2660e-02,  2.1876e-01,  5.2265e-02,  9.4428e-02,\n           2.9027e-02,  1.8064e-03,  3.3164e-02, -4.9021e-02, -1.4005e-01,\n           2.7435e-02,  1.2668e-01, -1.5053e-01, -4.6277e-02,  1.0345e-02,\n           5.3909e-02,  1.7065e-01,  9.8658e-02,  4.6291e-02,  3.2012e-01,\n           7.6347e-02,  2.3108e-01, -3.4336e-02, -2.7592e-01,  2.5330e-01,\n          -5.2298e-03, -5.2094e-04,  8.3611e-02,  5.3391e-02, -2.0543e-01,\n          -4.1078e-02, -2.1441e-01, -1.0110e-01,  5.3545e-01, -2.5072e-01,\n           1.9684e-01, -2.3420e-01, -2.3975e-01,  2.4280e-01, -7.1691e-02,\n          -1.4928e-01,  2.9960e-01, -1.4962e-01,  6.1831e-02,  1.6161e-01,\n           7.2381e-03, -3.0488e-02,  6.9099e-02, -1.3940e-01, -6.6137e-02,\n           1.5331e-01,  1.9294e-01, -2.4164e-01,  1.6825e-01,  1.8564e-01,\n          -3.3367e-01, -1.8606e-01,  2.8015e-02,  5.1344e-02,  1.7531e-01,\n          -1.8613e-01, -2.7886e-02,  4.6007e-02, -1.2214e-01,  1.1940e-01,\n           4.1024e-01, -1.9995e-01, -1.2663e-01, -2.6990e-02, -2.2505e-01,\n          -1.8584e-02, -2.6009e-02,  5.8841e-03,  2.1230e-01,  1.2221e-01,\n           1.4070e-01, -2.4115e-01,  5.4131e-02,  2.0555e-01,  2.1579e-02,\n          -4.7483e-03, -6.3756e-02, -4.7398e-04],\n         [ 2.4760e-02, -3.1677e-01, -9.9530e-02, -1.1112e-01, -4.0920e-02,\n           3.0176e-01, -2.7582e-01, -1.8020e-01, -1.5974e-01,  2.5257e-01,\n          -1.1392e-01,  2.3273e-01,  1.4719e-01,  4.1833e-01,  2.1302e-01,\n           2.1842e-01, -7.8707e-02,  4.6525e-02, -2.6393e-01,  1.0613e-01,\n          -1.3425e-01, -1.0244e-01, -2.3876e-01,  1.2871e-01, -3.1427e-01,\n           2.0293e-01,  1.7280e-01, -2.2216e-01,  9.6489e-03,  2.6871e-01,\n          -7.9596e-02,  4.5467e-02, -5.7909e-03, -2.2859e-01,  1.1166e-01,\n           7.7679e-02, -1.3673e-01, -2.0505e-02, -4.7891e-02, -1.4010e-01,\n          -9.1090e-03, -4.1527e-02,  1.7576e-03,  2.1084e-01, -1.5802e-01,\n           2.0175e-01, -2.0736e-01,  1.1459e-01, -1.3055e-03, -1.4656e-02,\n          -5.5931e-02,  2.1640e-01, -4.1572e-01,  2.9987e-01,  8.2693e-02,\n          -1.0827e-01,  1.5461e-01,  6.8293e-02, -1.5479e-01,  1.0793e-01,\n           6.4585e-01,  1.2729e-01, -3.9873e-01, -5.9760e-02,  2.4423e-01,\n          -2.2910e-01, -5.7124e-02,  1.7111e-01, -3.8191e-02,  3.1321e-02,\n          -2.6867e-01, -1.4401e-01, -5.4833e-02,  2.5907e-02,  7.9667e-02,\n           5.7594e-01, -2.7148e-01,  4.1076e-02, -2.3315e-03, -1.4490e-01,\n           3.3159e-02, -2.5082e-01, -8.2492e-02,  3.4732e-02,  2.7871e-01,\n          -2.6477e-01, -1.1110e-01, -1.5470e-02, -4.3564e-03,  2.5373e-01,\n          -1.3987e-01, -2.3448e-01,  6.9539e-02],\n         [-1.5286e-01, -5.3675e-02, -1.5518e-01, -2.9217e-02, -1.3600e-01,\n           2.6884e-01, -2.7981e-01,  1.9858e-01, -1.6357e-01, -1.9606e-02,\n          -2.6381e-01,  5.4255e-02,  2.7309e-01, -3.0984e-02,  1.6931e-02,\n           5.8346e-02, -5.9836e-02,  4.4347e-03, -8.0025e-02, -1.3277e-01,\n           4.6261e-02,  1.4015e-01, -2.0836e-01, -2.9759e-02,  1.2347e-01,\n           6.5483e-02,  1.6483e-01,  7.8357e-02, -4.1264e-02,  2.9015e-01,\n           9.7185e-02,  1.3148e-01, -1.9658e-04, -2.3651e-01,  1.1150e-01,\n          -7.2295e-02,  1.1079e-02,  1.6370e-01,  2.0188e-02, -2.2856e-01,\n          -5.0213e-02, -2.0880e-01, -1.0489e-01,  4.8594e-01, -2.3059e-01,\n           1.3351e-01, -2.0488e-01, -1.8709e-01,  2.1969e-01, -1.1820e-01,\n          -1.3029e-01,  2.9478e-01, -9.5330e-02,  1.2301e-01,  1.2217e-01,\n           4.1075e-02,  9.4402e-03,  1.2490e-01, -4.7981e-02, -4.2959e-02,\n           3.0747e-01,  1.7170e-01, -2.2444e-01,  1.4614e-01,  2.4477e-01,\n          -2.6391e-01, -1.6502e-01,  2.2177e-02, -3.9432e-03,  1.4258e-01,\n          -1.9226e-01,  5.8107e-02, -2.9747e-02, -9.0203e-02, -7.3904e-02,\n           3.4803e-01, -1.8438e-01, -9.5631e-02, -3.9361e-02, -1.8426e-01,\n           2.0852e-02, -6.0483e-02,  5.5965e-02,  1.9383e-01,  1.4439e-01,\n           4.2394e-02, -2.8948e-01, -1.3121e-01,  2.0550e-01, -4.7144e-02,\n           1.0864e-02, -2.9880e-03,  3.6880e-02],\n         [-3.8419e-03, -2.8714e-01, -6.4722e-02, -1.0868e-01, -1.1122e-01,\n           1.7942e-01, -2.6808e-01, -1.0994e-01, -1.9402e-01,  3.3854e-01,\n          -2.2837e-01,  3.6969e-01,  9.7822e-02,  2.1425e-01,  1.3709e-01,\n           2.0964e-01, -7.5274e-02,  2.0415e-01, -2.4511e-01,  6.1353e-02,\n          -1.1165e-01, -6.2825e-02, -1.4305e-01,  2.3252e-01, -2.9417e-01,\n           2.0117e-01,  1.0316e-01, -5.9935e-03, -5.1696e-02,  3.6360e-01,\n           3.0095e-03,  2.4356e-01, -1.7670e-01, -1.7651e-01,  1.2635e-01,\n           8.4119e-02, -1.1386e-01, -5.9929e-02, -1.1502e-02, -1.7913e-02,\n           3.3941e-03, -1.7965e-01,  1.0379e-01,  1.7768e-01, -1.0733e-01,\n           2.0967e-01, -1.5479e-01,  6.8364e-02,  4.2997e-02, -1.6127e-01,\n          -8.0729e-02,  2.8586e-01, -3.7131e-01,  2.2375e-01,  1.5224e-01,\n          -1.4595e-01,  1.7156e-01, -1.5645e-02, -1.0004e-01,  1.1241e-01,\n           4.7835e-01,  1.7937e-01, -2.9679e-01, -7.9629e-02,  2.6863e-01,\n          -1.6099e-01, -3.5702e-02,  2.5570e-01, -1.9772e-02,  8.6696e-02,\n          -3.6820e-01, -2.0830e-01, -1.1337e-01,  9.8506e-02,  3.0286e-02,\n           4.7987e-01, -2.5506e-01, -2.3405e-02,  1.5262e-01, -1.3238e-01,\n          -1.2049e-02, -1.7555e-01, -1.2371e-01, -6.5221e-02,  2.1508e-01,\n          -3.1197e-01, -1.5983e-01, -4.1647e-02,  9.5029e-02,  1.4178e-01,\n          -1.2360e-01, -1.4426e-01, -6.0726e-02],\n         [-6.9691e-02, -1.7325e-01, -9.9026e-02,  8.6589e-03, -1.4205e-01,\n           1.9092e-01, -3.3606e-01,  1.6407e-01, -8.7453e-02,  9.4640e-02,\n          -1.9061e-01,  1.3584e-01,  2.3989e-01,  1.0053e-01,  1.5427e-01,\n           5.3719e-02, -6.2649e-02,  6.4933e-02, -1.0897e-01, -1.1317e-01,\n           5.6558e-02, -3.6775e-02, -2.9586e-01,  1.1506e-02, -3.1097e-02,\n          -3.5194e-03,  2.5382e-01,  8.3379e-02,  1.0087e-01,  1.6138e-01,\n           3.4902e-02,  4.9298e-02,  1.5371e-01, -1.2369e-01,  6.5320e-02,\n          -6.0158e-02, -8.8147e-02,  1.6346e-01, -9.2445e-02, -1.6833e-01,\n          -1.7801e-03, -2.2332e-01, -1.7925e-01,  3.5386e-01, -1.5789e-01,\n           2.4105e-01, -2.3720e-01, -3.3174e-01,  1.4476e-01, -8.4101e-02,\n          -2.0694e-01,  3.3723e-01, -2.6222e-02,  6.0119e-02,  1.2711e-01,\n           3.1807e-02, -5.1846e-02, -2.6813e-02,  9.8815e-03, -2.1980e-02,\n           3.1440e-01,  2.6898e-02, -1.6822e-01,  2.4831e-01,  2.3476e-01,\n          -8.8689e-02, -6.2299e-02, -2.9519e-02,  1.0268e-01,  8.0567e-02,\n          -7.3454e-02,  5.3554e-02, -2.3924e-03, -9.4287e-02, -1.1158e-01,\n           3.4355e-01, -1.1977e-01, -9.7007e-02,  7.2202e-02, -1.9041e-01,\n           1.1909e-01, -1.4567e-01, -4.5444e-02,  1.3963e-01,  1.5950e-01,\n          -6.2075e-02, -2.3011e-01, -3.4302e-02,  7.8049e-02, -2.4655e-02,\n          -2.6108e-02, -3.1485e-02,  3.5443e-02]], grad_fn=<IndexPutBackward0>)]"
     },
     "execution_count": 16,
     "metadata": {},
     "output_type": "execute_result"
    }
   ],
   "source": [
    "out_list"
   ],
   "metadata": {
    "collapsed": false,
    "ExecuteTime": {
     "start_time": "2024-03-21T16:34:24.144407Z",
     "end_time": "2024-03-21T16:34:24.181407Z"
    }
   }
  },
  {
   "cell_type": "markdown",
   "id": "4e024847-717f-4fac-bace-f9ee10ccf416",
   "metadata": {},
   "source": [
    "## Compare batches"
   ]
  },
  {
   "cell_type": "code",
   "execution_count": 17,
   "outputs": [
    {
     "data": {
      "text/plain": "array([[ True,  True,  True, False],\n       [ True,  True,  True, False],\n       [ True,  True,  True, False],\n       [False, False, False,  True]])"
     },
     "metadata": {},
     "output_type": "display_data"
    }
   ],
   "source": [
    "# compare output\n",
    "display(np.array(\n",
    "    [\n",
    "        [\n",
    "            (out_list[i] == out_list[j]).all()\n",
    "            for j in range(len(out_list))\n",
    "        ]\n",
    "        for i in range(len(out_list))\n",
    "    ]\n",
    "))"
   ],
   "metadata": {
    "collapsed": false,
    "ExecuteTime": {
     "start_time": "2024-03-21T16:34:27.963063Z",
     "end_time": "2024-03-21T16:34:27.989060Z"
    }
   }
  },
  {
   "cell_type": "code",
   "execution_count": 18,
   "outputs": [
    {
     "data": {
      "text/plain": "array([[ True,  True,  True, False],\n       [ True,  True,  True, False],\n       [ True,  True,  True, False],\n       [False, False, False,  True]])"
     },
     "metadata": {},
     "output_type": "display_data"
    }
   ],
   "source": [
    "# compare sum pooled version itself\n",
    "display(np.array(\n",
    "    [\n",
    "        [\n",
    "            out_list[i].sum().item() - out_list[j].sum().item()\n",
    "            for j in range(len(out_list))\n",
    "        ]\n",
    "        for i in range(len(out_list))\n",
    "    ]\n",
    ") == 0)"
   ],
   "metadata": {
    "collapsed": false,
    "ExecuteTime": {
     "start_time": "2024-03-21T16:34:31.827988Z",
     "end_time": "2024-03-21T16:34:31.848985Z"
    }
   }
  },
  {
   "cell_type": "code",
   "execution_count": 19,
   "outputs": [
    {
     "data": {
      "text/plain": "array([[0.        , 0.        , 0.        , 0.38195536],\n       [0.        , 0.        , 0.        , 0.38195536],\n       [0.        , 0.        , 0.        , 0.38195536],\n       [0.38195536, 0.38195536, 0.38195536, 0.        ]], dtype=float32)"
     },
     "metadata": {},
     "output_type": "display_data"
    }
   ],
   "source": [
    "# compare output\n",
    "display(np.array(\n",
    "    [\n",
    "        [\n",
    "            (out_list[i] - out_list[j]).detach().abs().sum()\n",
    "            for j in range(len(out_list))\n",
    "        ]\n",
    "        for i in range(len(out_list))\n",
    "    ]\n",
    "))"
   ],
   "metadata": {
    "collapsed": false,
    "ExecuteTime": {
     "start_time": "2024-03-21T16:34:33.044511Z",
     "end_time": "2024-03-21T16:34:33.074508Z"
    }
   }
  }
 ],
 "metadata": {
  "kernelspec": {
   "display_name": "Python 3 (ipykernel)",
   "language": "python",
   "name": "python3"
  },
  "language_info": {
   "codemirror_mode": {
    "name": "ipython",
    "version": 3
   },
   "file_extension": ".py",
   "mimetype": "text/x-python",
   "name": "python",
   "nbconvert_exporter": "python",
   "pygments_lexer": "ipython3",
   "version": "3.9.16"
  }
 },
 "nbformat": 4,
 "nbformat_minor": 5
}
