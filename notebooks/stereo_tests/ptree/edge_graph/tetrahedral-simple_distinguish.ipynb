{
 "cells": [
  {
   "cell_type": "markdown",
   "id": "cce7ba2e-6183-4900-9e1c-608c46435893",
   "metadata": {},
   "source": [
    "# Stereoisomer testing on ptree - enantiomers"
   ]
  },
  {
   "cell_type": "markdown",
   "id": "cd5b739d-220a-4c13-9ce0-a3933e034d4d",
   "metadata": {},
   "source": [
    "## Importing section"
   ]
  },
  {
   "cell_type": "code",
   "execution_count": 1,
   "outputs": [],
   "source": [
    "import numpy as np\n",
    "from rdkit import Chem\n",
    "from rdkit.Chem import AllChem\n",
    "import sys\n",
    "\n",
    "sys.path.append(\"../../../../\")\n",
    "\n",
    "from ptgnn.features.chienn.molecule3d import smiles_to_3d_mol\n",
    "from ptgnn.features.chienn.mol_to_data import mol_to_data\n",
    "from ptgnn.transform import edge_graph_transform, vertex_graph_transform\n",
    "from ptgnn.model.modules.ptree.complex_ptree_layer import ComplexPtreeLayer"
   ],
   "metadata": {
    "collapsed": false,
    "ExecuteTime": {
     "start_time": "2024-03-23T14:19:14.455863Z",
     "end_time": "2024-03-23T14:19:16.251353Z"
    }
   }
  },
  {
   "cell_type": "markdown",
   "id": "4ce50022-5637-4a30-b409-1e45a433f047",
   "metadata": {},
   "source": [
    "## Define SMILES strings"
   ]
  },
  {
   "cell_type": "code",
   "execution_count": 2,
   "id": "fe716171-6aec-40ab-a31a-1fb0bd635c46",
   "metadata": {
    "tags": [],
    "ExecuteTime": {
     "start_time": "2024-03-23T14:19:16.251353Z",
     "end_time": "2024-03-23T14:19:16.263426Z"
    }
   },
   "outputs": [],
   "source": [
    "smiles_list = [\n",
    "    \"C(Br)(Cl)F\",\n",
    "    \"[C@H](Br)(Cl)F\",\n",
    "    \"[C@H](Br)(Cl)F\",\n",
    "    \"[C@@H](Br)(Cl)F\",\n",
    "]"
   ]
  },
  {
   "cell_type": "markdown",
   "id": "1663655e-0dd3-492e-b007-344f18fffb87",
   "metadata": {},
   "source": [
    "## Visualize and confirm stereomer classification (E/Z)"
   ]
  },
  {
   "cell_type": "code",
   "execution_count": 3,
   "id": "13fe0401-cc1a-424a-80c2-df1760e4df84",
   "metadata": {
    "tags": [],
    "ExecuteTime": {
     "start_time": "2024-03-23T14:19:16.265425Z",
     "end_time": "2024-03-23T14:19:16.292428Z"
    }
   },
   "outputs": [],
   "source": [
    "def showAndChiral(smiles):\n",
    "    mol = Chem.MolFromSmiles(smiles)\n",
    "    display(mol)\n",
    "    print(AllChem.FindMolChiralCenters(mol, includeUnassigned=True))\n",
    "    for bond in mol.GetBonds():\n",
    "        if bond.GetBondType() == Chem.rdchem.BondType.DOUBLE:\n",
    "            print(\"Bond\", bond.GetIdx(), \"stereo:\", bond.GetStereo())"
   ]
  },
  {
   "cell_type": "code",
   "execution_count": 4,
   "id": "f54309f1-465b-4834-aeda-cdc857767776",
   "metadata": {
    "tags": [],
    "ExecuteTime": {
     "start_time": "2024-03-23T14:19:16.284426Z",
     "end_time": "2024-03-23T14:19:16.311554Z"
    }
   },
   "outputs": [
    {
     "data": {
      "text/plain": "<rdkit.Chem.rdchem.Mol at 0x1b8adae7580>",
      "image/png": "[encoded data removed]"
     },
     "metadata": {},
     "output_type": "display_data"
    },
    {
     "name": "stdout",
     "output_type": "stream",
     "text": [
      "[(0, '?')]\n"
     ]
    },
    {
     "data": {
      "text/plain": "<rdkit.Chem.rdchem.Mol at 0x1b8adae7040>",
      "image/png": "[encoded data removed]"
     },
     "metadata": {},
     "output_type": "display_data"
    },
    {
     "name": "stdout",
     "output_type": "stream",
     "text": [
      "[(0, 'R')]\n"
     ]
    },
    {
     "data": {
      "text/plain": "<rdkit.Chem.rdchem.Mol at 0x1b8adae74a0>",
      "image/png": "[encoded data removed]"
     },
     "metadata": {},
     "output_type": "display_data"
    },
    {
     "name": "stdout",
     "output_type": "stream",
     "text": [
      "[(0, 'R')]\n"
     ]
    },
    {
     "data": {
      "text/plain": "<rdkit.Chem.rdchem.Mol at 0x1b8adae7660>",
      "image/png": "[encoded data removed]"
     },
     "metadata": {},
     "output_type": "display_data"
    },
    {
     "name": "stdout",
     "output_type": "stream",
     "text": [
      "[(0, 'S')]\n"
     ]
    }
   ],
   "source": [
    "for smile in smiles_list:\n",
    "    showAndChiral(smile)"
   ]
  },
  {
   "cell_type": "markdown",
   "id": "910c1424-4c1d-4421-ad82-628ccf16464e",
   "metadata": {},
   "source": [
    "##  Convert to (edge) graph with ptree"
   ]
  },
  {
   "cell_type": "code",
   "execution_count": 5,
   "outputs": [],
   "source": [
    "# get molecules\n",
    "mol_list = [\n",
    "    smiles_to_3d_mol(\n",
    "        smiles,\n",
    "        max_number_of_attempts=100,\n",
    "        max_number_of_atoms=100\n",
    "    )\n",
    "    for smiles in smiles_list\n",
    "]"
   ],
   "metadata": {
    "collapsed": false,
    "ExecuteTime": {
     "start_time": "2024-03-23T14:19:16.313559Z",
     "end_time": "2024-03-23T14:19:16.373558Z"
    }
   }
  },
  {
   "cell_type": "code",
   "execution_count": 6,
   "outputs": [],
   "source": [
    "data_list = [\n",
    "    mol_to_data(mol)\n",
    "    for mol in mol_list\n",
    "]"
   ],
   "metadata": {
    "collapsed": false,
    "ExecuteTime": {
     "start_time": "2024-03-23T14:19:16.328559Z",
     "end_time": "2024-03-23T14:19:16.383558Z"
    }
   }
  },
  {
   "cell_type": "code",
   "execution_count": 7,
   "outputs": [],
   "source": [
    "data_list = [\n",
    "    edge_graph_transform(\n",
    "        data,\n",
    "        transformation_mode=\"permutation_tree\",\n",
    "        mol=mol,\n",
    "        transformation_parameters={\n",
    "            'k':  3,\n",
    "            'tetrahedral_chiral': True,\n",
    "            'chiral_center_selective': True,\n",
    "            'chiral_center_select_potential': False,\n",
    "        }\n",
    "    )\n",
    "    for data, mol in zip(data_list, mol_list)\n",
    "]"
   ],
   "metadata": {
    "collapsed": false,
    "ExecuteTime": {
     "start_time": "2024-03-23T14:19:16.344559Z",
     "end_time": "2024-03-23T14:19:16.384558Z"
    }
   }
  },
  {
   "cell_type": "code",
   "execution_count": 8,
   "outputs": [
    {
     "data": {
      "text/plain": "['{\"S\": [0, 1]}',\n '{\"S\": [1, 0, {\"P\": [3, 7, 5]}]}',\n '{\"S\": [2, 3, {\"P\": [0, 5, 7]}]}',\n '{\"S\": [3, 2]}',\n '{\"S\": [4, 5, {\"P\": [0, 7, 3]}]}',\n '{\"S\": [5, 4]}',\n '{\"S\": [6, 7, {\"P\": [0, 3, 5]}]}',\n '{\"S\": [7, 6]}']"
     },
     "metadata": {},
     "output_type": "display_data"
    },
    {
     "data": {
      "text/plain": "tensor([0, 1, 1, 0, 3, 7, 5, 2, 3, 0, 5, 7, 3, 2, 4, 5, 0, 7, 3, 5, 4, 6, 7, 0,\n        3, 5, 7, 6])"
     },
     "metadata": {},
     "output_type": "display_data"
    },
    {
     "data": {
      "text/plain": "'layer: 0'"
     },
     "metadata": {},
     "output_type": "display_data"
    },
    {
     "data": {
      "text/plain": "[[tensor([[ 0,  1,  2,  3,  4,  5,  6,  7,  8,  9, 10, 11, 12, 13, 14, 15, 16, 17,\n           18, 19, 20, 21, 22, 23, 24, 25, 26, 27],\n          [-1, -1, -1, -1, -1, -1, -1, -1, -1, -1, -1, -1, -1, -1, -1, -1, -1, -1,\n           -1, -1, -1, -1, -1, -1, -1, -1, -1, -1],\n          [-1, -1, -1, -1, -1, -1, -1, -1, -1, -1, -1, -1, -1, -1, -1, -1, -1, -1,\n           -1, -1, -1, -1, -1, -1, -1, -1, -1, -1]], dtype=torch.int32)]]"
     },
     "metadata": {},
     "output_type": "display_data"
    },
    {
     "data": {
      "text/plain": "[[tensor([0, 0, 0, 0, 1, 1, 1, 0, 0, 1, 1, 1, 0, 0, 0, 0, 1, 1, 1, 0, 0, 0, 0, 1,\n          1, 1, 0, 0])]]"
     },
     "metadata": {},
     "output_type": "display_data"
    },
    {
     "data": {
      "text/plain": "[[tensor([ 0,  1,  2,  3,  4,  4,  4,  5,  6,  7,  7,  7,  8,  9, 10, 11, 12, 12,\n          12, 13, 14, 15, 16, 17, 17, 17, 18, 19])]]"
     },
     "metadata": {},
     "output_type": "display_data"
    },
    {
     "data": {
      "text/plain": "'layer: 1'"
     },
     "metadata": {},
     "output_type": "display_data"
    },
    {
     "data": {
      "text/plain": "[[tensor([[ 0, -1,  2, -1, -1,  5, -1, -1,  8, -1, 10, -1, -1, 13, -1, 15, -1, -1,\n           18, -1],\n          [ 1, -1,  3, -1, -1,  6, -1, -1,  9, -1, 11, -1, -1, 14, -1, 16, -1, -1,\n           19, -1],\n          [-1, -1,  4, -1, -1,  7, -1, -1, -1, -1, 12, -1, -1, -1, -1, 17, -1, -1,\n           -1, -1]], dtype=torch.int32)]]"
     },
     "metadata": {},
     "output_type": "display_data"
    },
    {
     "data": {
      "text/plain": "[[tensor([3, 3, 3, 3, 3, 3, 3, 3, 3, 3, 3, 3, 3, 3, 3, 3, 3, 3, 3, 3])]]"
     },
     "metadata": {},
     "output_type": "display_data"
    },
    {
     "data": {
      "text/plain": "[[tensor([0, 0, 1, 1, 1, 2, 2, 2, 3, 3, 4, 4, 4, 5, 5, 6, 6, 6, 7, 7])]]"
     },
     "metadata": {},
     "output_type": "display_data"
    }
   ],
   "source": [
    "d = data_list[0]\n",
    "display(d.ptree, d.initial_map)\n",
    "for i in range(d.num_layer):\n",
    "    display(f\"layer: {i}\")\n",
    "    display(d[f\"layer{i}_order_matrix\"], d[f\"layer{i}_type_mask\"], d[f\"layer{i}_pooling\"])"
   ],
   "metadata": {
    "collapsed": false,
    "ExecuteTime": {
     "start_time": "2024-03-23T14:19:16.376558Z",
     "end_time": "2024-03-23T14:19:16.391558Z"
    }
   }
  },
  {
   "cell_type": "code",
   "execution_count": 9,
   "outputs": [
    {
     "name": "stdout",
     "output_type": "stream",
     "text": [
      "Data(x=[8, 93], edge_index=[2, 20], edge_attr=[20, 57], pos=[8, 6], parallel_node_index=[8], circle_index=[8], ptree=[8], initial_map=[28], layer0_order_matrix=[1], layer0_type_mask=[1], layer0_pooling=[1], num_layer=2, layer1_order_matrix=[1], layer1_type_mask=[1], layer1_pooling=[1])\n",
      "['{\"S\": [0, 1]}', '{\"S\": [1, 0, {\"P\": [3, 7, 5]}]}', '{\"S\": [2, 3, {\"P\": [0, 5, 7]}]}', '{\"S\": [3, 2]}', '{\"S\": [4, 5, {\"P\": [0, 7, 3]}]}', '{\"S\": [5, 4]}', '{\"S\": [6, 7, {\"P\": [0, 3, 5]}]}', '{\"S\": [7, 6]}']\n",
      "Data(x=[8, 93], edge_index=[2, 20], edge_attr=[20, 57], pos=[8, 6], parallel_node_index=[8], circle_index=[8], ptree=[8], initial_map=[28], layer0_order_matrix=[1], layer0_type_mask=[1], layer0_pooling=[1], num_layer=2, layer1_order_matrix=[1], layer1_type_mask=[1], layer1_pooling=[1])\n",
      "['{\"S\": [0, 1]}', '{\"S\": [1, 0, {\"Z\": [3, 7, 5]}]}', '{\"S\": [2, 3, {\"Z\": [0, 5, 7]}]}', '{\"S\": [3, 2]}', '{\"S\": [4, 5, {\"Z\": [0, 7, 3]}]}', '{\"S\": [5, 4]}', '{\"S\": [6, 7, {\"Z\": [0, 3, 5]}]}', '{\"S\": [7, 6]}']\n",
      "Data(x=[8, 93], edge_index=[2, 20], edge_attr=[20, 57], pos=[8, 6], parallel_node_index=[8], circle_index=[8], ptree=[8], initial_map=[28], layer0_order_matrix=[1], layer0_type_mask=[1], layer0_pooling=[1], num_layer=2, layer1_order_matrix=[1], layer1_type_mask=[1], layer1_pooling=[1])\n",
      "['{\"S\": [0, 1]}', '{\"S\": [1, 0, {\"Z\": [3, 7, 5]}]}', '{\"S\": [2, 3, {\"Z\": [0, 5, 7]}]}', '{\"S\": [3, 2]}', '{\"S\": [4, 5, {\"Z\": [0, 7, 3]}]}', '{\"S\": [5, 4]}', '{\"S\": [6, 7, {\"Z\": [0, 3, 5]}]}', '{\"S\": [7, 6]}']\n",
      "Data(x=[8, 93], edge_index=[2, 20], edge_attr=[20, 57], pos=[8, 6], parallel_node_index=[8], circle_index=[8], ptree=[8], initial_map=[28], layer0_order_matrix=[1], layer0_type_mask=[1], layer0_pooling=[1], num_layer=2, layer1_order_matrix=[1], layer1_type_mask=[1], layer1_pooling=[1])\n",
      "['{\"S\": [0, 1]}', '{\"S\": [1, 0, {\"Z\": [3, 5, 7]}]}', '{\"S\": [2, 3, {\"Z\": [0, 7, 5]}]}', '{\"S\": [3, 2]}', '{\"S\": [4, 5, {\"Z\": [0, 3, 7]}]}', '{\"S\": [5, 4]}', '{\"S\": [6, 7, {\"Z\": [0, 5, 3]}]}', '{\"S\": [7, 6]}']\n"
     ]
    }
   ],
   "source": [
    "for data in data_list:\n",
    "    print(data)\n",
    "    print(data.ptree)"
   ],
   "metadata": {
    "collapsed": false,
    "ExecuteTime": {
     "start_time": "2024-03-23T14:19:16.392557Z",
     "end_time": "2024-03-23T14:19:16.436777Z"
    }
   }
  },
  {
   "cell_type": "markdown",
   "id": "c4c65150-2907-4220-baf9-2d95f5a44656",
   "metadata": {},
   "source": [
    "## Create Model"
   ]
  },
  {
   "cell_type": "code",
   "execution_count": 10,
   "outputs": [],
   "source": [
    "from ptgnn.model.modules.ptree.advanced_tree_layer import AdvancedPermutationTreeLayer\n",
    "\n",
    "k = 3\n",
    "\n",
    "model = AdvancedPermutationTreeLayer(\n",
    "    hidden_dim=93,\n",
    "    k=k,\n",
    "    batch_norm=False\n",
    ")"
   ],
   "metadata": {
    "collapsed": false,
    "ExecuteTime": {
     "start_time": "2024-03-23T14:19:16.408564Z",
     "end_time": "2024-03-23T14:19:16.451285Z"
    }
   }
  },
  {
   "cell_type": "markdown",
   "id": "8d7bb4a1-a7fd-47b8-ae93-b12fe24ee239",
   "metadata": {},
   "source": [
    "## Create batches"
   ]
  },
  {
   "cell_type": "code",
   "execution_count": 11,
   "outputs": [],
   "source": [
    "from ptgnn.loading.collate import permutation_tree_collation\n",
    "\n",
    "batch_list = [\n",
    "    permutation_tree_collation([data])\n",
    "    for data in data_list\n",
    "]"
   ],
   "metadata": {
    "collapsed": false,
    "ExecuteTime": {
     "start_time": "2024-03-23T14:19:16.424564Z",
     "end_time": "2024-03-23T14:19:16.452284Z"
    }
   }
  },
  {
   "cell_type": "code",
   "execution_count": 12,
   "outputs": [
    {
     "data": {
      "text/plain": "'Batch: 0'"
     },
     "metadata": {},
     "output_type": "display_data"
    },
    {
     "data": {
      "text/plain": "['{\"S\": [0, 1]}',\n '{\"S\": [1, 0, {\"P\": [3, 7, 5]}]}',\n '{\"S\": [2, 3, {\"P\": [0, 5, 7]}]}',\n '{\"S\": [3, 2]}',\n '{\"S\": [4, 5, {\"P\": [0, 7, 3]}]}',\n '{\"S\": [5, 4]}',\n '{\"S\": [6, 7, {\"P\": [0, 3, 5]}]}',\n '{\"S\": [7, 6]}']"
     },
     "metadata": {},
     "output_type": "display_data"
    },
    {
     "data": {
      "text/plain": "tensor([0, 1, 1, 0, 3, 7, 5, 2, 3, 0, 5, 7, 3, 2, 4, 5, 0, 7, 3, 5, 4, 6, 7, 0,\n        3, 5, 7, 6])"
     },
     "metadata": {},
     "output_type": "display_data"
    },
    {
     "data": {
      "text/plain": "'Layer: 0'"
     },
     "metadata": {},
     "output_type": "display_data"
    },
    {
     "data": {
      "text/plain": "tensor([[ 0,  1,  2,  3,  4,  5,  6,  7,  8,  9, 10, 11, 12, 13, 14, 15, 16, 17,\n         18, 19, 20, 21, 22, 23, 24, 25, 26, 27],\n        [-1, -1, -1, -1, -1, -1, -1, -1, -1, -1, -1, -1, -1, -1, -1, -1, -1, -1,\n         -1, -1, -1, -1, -1, -1, -1, -1, -1, -1],\n        [-1, -1, -1, -1, -1, -1, -1, -1, -1, -1, -1, -1, -1, -1, -1, -1, -1, -1,\n         -1, -1, -1, -1, -1, -1, -1, -1, -1, -1]], dtype=torch.int32)"
     },
     "metadata": {},
     "output_type": "display_data"
    },
    {
     "data": {
      "text/plain": "tensor([0, 0, 0, 0, 1, 1, 1, 0, 0, 1, 1, 1, 0, 0, 0, 0, 1, 1, 1, 0, 0, 0, 0, 1,\n        1, 1, 0, 0])"
     },
     "metadata": {},
     "output_type": "display_data"
    },
    {
     "data": {
      "text/plain": "tensor([ 0,  1,  2,  3,  4,  4,  4,  5,  6,  7,  7,  7,  8,  9, 10, 11, 12, 12,\n        12, 13, 14, 15, 16, 17, 17, 17, 18, 19])"
     },
     "metadata": {},
     "output_type": "display_data"
    },
    {
     "data": {
      "text/plain": "'Layer: 1'"
     },
     "metadata": {},
     "output_type": "display_data"
    },
    {
     "data": {
      "text/plain": "tensor([[ 0, -1,  2, -1, -1,  5, -1, -1,  8, -1, 10, -1, -1, 13, -1, 15, -1, -1,\n         18, -1],\n        [ 1, -1,  3, -1, -1,  6, -1, -1,  9, -1, 11, -1, -1, 14, -1, 16, -1, -1,\n         19, -1],\n        [-1, -1,  4, -1, -1,  7, -1, -1, -1, -1, 12, -1, -1, -1, -1, 17, -1, -1,\n         -1, -1]], dtype=torch.int32)"
     },
     "metadata": {},
     "output_type": "display_data"
    },
    {
     "data": {
      "text/plain": "tensor([3, 3, 3, 3, 3, 3, 3, 3, 3, 3, 3, 3, 3, 3, 3, 3, 3, 3, 3, 3])"
     },
     "metadata": {},
     "output_type": "display_data"
    },
    {
     "data": {
      "text/plain": "tensor([0, 0, 1, 1, 1, 2, 2, 2, 3, 3, 4, 4, 4, 5, 5, 6, 6, 6, 7, 7])"
     },
     "metadata": {},
     "output_type": "display_data"
    },
    {
     "data": {
      "text/plain": "'Batch: 1'"
     },
     "metadata": {},
     "output_type": "display_data"
    },
    {
     "data": {
      "text/plain": "['{\"S\": [0, 1]}',\n '{\"S\": [1, 0, {\"Z\": [3, 7, 5]}]}',\n '{\"S\": [2, 3, {\"Z\": [0, 5, 7]}]}',\n '{\"S\": [3, 2]}',\n '{\"S\": [4, 5, {\"Z\": [0, 7, 3]}]}',\n '{\"S\": [5, 4]}',\n '{\"S\": [6, 7, {\"Z\": [0, 3, 5]}]}',\n '{\"S\": [7, 6]}']"
     },
     "metadata": {},
     "output_type": "display_data"
    },
    {
     "data": {
      "text/plain": "tensor([0, 1, 1, 0, 3, 7, 5, 2, 3, 0, 5, 7, 3, 2, 4, 5, 0, 7, 3, 5, 4, 6, 7, 0,\n        3, 5, 7, 6])"
     },
     "metadata": {},
     "output_type": "display_data"
    },
    {
     "data": {
      "text/plain": "'Layer: 0'"
     },
     "metadata": {},
     "output_type": "display_data"
    },
    {
     "data": {
      "text/plain": "tensor([[ 0,  1,  2,  3,  4,  5,  6,  7,  8,  9, 10, 11, 12, 13, 14, 15, 16, 17,\n         18, 19, 20, 21, 22, 23, 24, 25, 26, 27],\n        [-1, -1, -1, -1,  5,  6,  4, -1, -1, 10, 11,  9, -1, -1, -1, -1, 17, 18,\n         16, -1, -1, -1, -1, 24, 25, 23, -1, -1],\n        [-1, -1, -1, -1,  6,  4,  5, -1, -1, 11,  9, 10, -1, -1, -1, -1, 18, 16,\n         17, -1, -1, -1, -1, 25, 23, 24, -1, -1]], dtype=torch.int32)"
     },
     "metadata": {},
     "output_type": "display_data"
    },
    {
     "data": {
      "text/plain": "tensor([0, 0, 0, 0, 2, 2, 2, 0, 0, 2, 2, 2, 0, 0, 0, 0, 2, 2, 2, 0, 0, 0, 0, 2,\n        2, 2, 0, 0])"
     },
     "metadata": {},
     "output_type": "display_data"
    },
    {
     "data": {
      "text/plain": "tensor([ 0,  1,  2,  3,  4,  4,  4,  5,  6,  7,  7,  7,  8,  9, 10, 11, 12, 12,\n        12, 13, 14, 15, 16, 17, 17, 17, 18, 19])"
     },
     "metadata": {},
     "output_type": "display_data"
    },
    {
     "data": {
      "text/plain": "'Layer: 1'"
     },
     "metadata": {},
     "output_type": "display_data"
    },
    {
     "data": {
      "text/plain": "tensor([[ 0, -1,  2, -1, -1,  5, -1, -1,  8, -1, 10, -1, -1, 13, -1, 15, -1, -1,\n         18, -1],\n        [ 1, -1,  3, -1, -1,  6, -1, -1,  9, -1, 11, -1, -1, 14, -1, 16, -1, -1,\n         19, -1],\n        [-1, -1,  4, -1, -1,  7, -1, -1, -1, -1, 12, -1, -1, -1, -1, 17, -1, -1,\n         -1, -1]], dtype=torch.int32)"
     },
     "metadata": {},
     "output_type": "display_data"
    },
    {
     "data": {
      "text/plain": "tensor([3, 3, 3, 3, 3, 3, 3, 3, 3, 3, 3, 3, 3, 3, 3, 3, 3, 3, 3, 3])"
     },
     "metadata": {},
     "output_type": "display_data"
    },
    {
     "data": {
      "text/plain": "tensor([0, 0, 1, 1, 1, 2, 2, 2, 3, 3, 4, 4, 4, 5, 5, 6, 6, 6, 7, 7])"
     },
     "metadata": {},
     "output_type": "display_data"
    },
    {
     "data": {
      "text/plain": "'Batch: 2'"
     },
     "metadata": {},
     "output_type": "display_data"
    },
    {
     "data": {
      "text/plain": "['{\"S\": [0, 1]}',\n '{\"S\": [1, 0, {\"Z\": [3, 7, 5]}]}',\n '{\"S\": [2, 3, {\"Z\": [0, 5, 7]}]}',\n '{\"S\": [3, 2]}',\n '{\"S\": [4, 5, {\"Z\": [0, 7, 3]}]}',\n '{\"S\": [5, 4]}',\n '{\"S\": [6, 7, {\"Z\": [0, 3, 5]}]}',\n '{\"S\": [7, 6]}']"
     },
     "metadata": {},
     "output_type": "display_data"
    },
    {
     "data": {
      "text/plain": "tensor([0, 1, 1, 0, 3, 7, 5, 2, 3, 0, 5, 7, 3, 2, 4, 5, 0, 7, 3, 5, 4, 6, 7, 0,\n        3, 5, 7, 6])"
     },
     "metadata": {},
     "output_type": "display_data"
    },
    {
     "data": {
      "text/plain": "'Layer: 0'"
     },
     "metadata": {},
     "output_type": "display_data"
    },
    {
     "data": {
      "text/plain": "tensor([[ 0,  1,  2,  3,  4,  5,  6,  7,  8,  9, 10, 11, 12, 13, 14, 15, 16, 17,\n         18, 19, 20, 21, 22, 23, 24, 25, 26, 27],\n        [-1, -1, -1, -1,  5,  6,  4, -1, -1, 10, 11,  9, -1, -1, -1, -1, 17, 18,\n         16, -1, -1, -1, -1, 24, 25, 23, -1, -1],\n        [-1, -1, -1, -1,  6,  4,  5, -1, -1, 11,  9, 10, -1, -1, -1, -1, 18, 16,\n         17, -1, -1, -1, -1, 25, 23, 24, -1, -1]], dtype=torch.int32)"
     },
     "metadata": {},
     "output_type": "display_data"
    },
    {
     "data": {
      "text/plain": "tensor([0, 0, 0, 0, 2, 2, 2, 0, 0, 2, 2, 2, 0, 0, 0, 0, 2, 2, 2, 0, 0, 0, 0, 2,\n        2, 2, 0, 0])"
     },
     "metadata": {},
     "output_type": "display_data"
    },
    {
     "data": {
      "text/plain": "tensor([ 0,  1,  2,  3,  4,  4,  4,  5,  6,  7,  7,  7,  8,  9, 10, 11, 12, 12,\n        12, 13, 14, 15, 16, 17, 17, 17, 18, 19])"
     },
     "metadata": {},
     "output_type": "display_data"
    },
    {
     "data": {
      "text/plain": "'Layer: 1'"
     },
     "metadata": {},
     "output_type": "display_data"
    },
    {
     "data": {
      "text/plain": "tensor([[ 0, -1,  2, -1, -1,  5, -1, -1,  8, -1, 10, -1, -1, 13, -1, 15, -1, -1,\n         18, -1],\n        [ 1, -1,  3, -1, -1,  6, -1, -1,  9, -1, 11, -1, -1, 14, -1, 16, -1, -1,\n         19, -1],\n        [-1, -1,  4, -1, -1,  7, -1, -1, -1, -1, 12, -1, -1, -1, -1, 17, -1, -1,\n         -1, -1]], dtype=torch.int32)"
     },
     "metadata": {},
     "output_type": "display_data"
    },
    {
     "data": {
      "text/plain": "tensor([3, 3, 3, 3, 3, 3, 3, 3, 3, 3, 3, 3, 3, 3, 3, 3, 3, 3, 3, 3])"
     },
     "metadata": {},
     "output_type": "display_data"
    },
    {
     "data": {
      "text/plain": "tensor([0, 0, 1, 1, 1, 2, 2, 2, 3, 3, 4, 4, 4, 5, 5, 6, 6, 6, 7, 7])"
     },
     "metadata": {},
     "output_type": "display_data"
    },
    {
     "data": {
      "text/plain": "'Batch: 3'"
     },
     "metadata": {},
     "output_type": "display_data"
    },
    {
     "data": {
      "text/plain": "['{\"S\": [0, 1]}',\n '{\"S\": [1, 0, {\"Z\": [3, 5, 7]}]}',\n '{\"S\": [2, 3, {\"Z\": [0, 7, 5]}]}',\n '{\"S\": [3, 2]}',\n '{\"S\": [4, 5, {\"Z\": [0, 3, 7]}]}',\n '{\"S\": [5, 4]}',\n '{\"S\": [6, 7, {\"Z\": [0, 5, 3]}]}',\n '{\"S\": [7, 6]}']"
     },
     "metadata": {},
     "output_type": "display_data"
    },
    {
     "data": {
      "text/plain": "tensor([0, 1, 1, 0, 3, 5, 7, 2, 3, 0, 7, 5, 3, 2, 4, 5, 0, 3, 7, 5, 4, 6, 7, 0,\n        5, 3, 7, 6])"
     },
     "metadata": {},
     "output_type": "display_data"
    },
    {
     "data": {
      "text/plain": "'Layer: 0'"
     },
     "metadata": {},
     "output_type": "display_data"
    },
    {
     "data": {
      "text/plain": "tensor([[ 0,  1,  2,  3,  4,  5,  6,  7,  8,  9, 10, 11, 12, 13, 14, 15, 16, 17,\n         18, 19, 20, 21, 22, 23, 24, 25, 26, 27],\n        [-1, -1, -1, -1,  5,  6,  4, -1, -1, 10, 11,  9, -1, -1, -1, -1, 17, 18,\n         16, -1, -1, -1, -1, 24, 25, 23, -1, -1],\n        [-1, -1, -1, -1,  6,  4,  5, -1, -1, 11,  9, 10, -1, -1, -1, -1, 18, 16,\n         17, -1, -1, -1, -1, 25, 23, 24, -1, -1]], dtype=torch.int32)"
     },
     "metadata": {},
     "output_type": "display_data"
    },
    {
     "data": {
      "text/plain": "tensor([0, 0, 0, 0, 2, 2, 2, 0, 0, 2, 2, 2, 0, 0, 0, 0, 2, 2, 2, 0, 0, 0, 0, 2,\n        2, 2, 0, 0])"
     },
     "metadata": {},
     "output_type": "display_data"
    },
    {
     "data": {
      "text/plain": "tensor([ 0,  1,  2,  3,  4,  4,  4,  5,  6,  7,  7,  7,  8,  9, 10, 11, 12, 12,\n        12, 13, 14, 15, 16, 17, 17, 17, 18, 19])"
     },
     "metadata": {},
     "output_type": "display_data"
    },
    {
     "data": {
      "text/plain": "'Layer: 1'"
     },
     "metadata": {},
     "output_type": "display_data"
    },
    {
     "data": {
      "text/plain": "tensor([[ 0, -1,  2, -1, -1,  5, -1, -1,  8, -1, 10, -1, -1, 13, -1, 15, -1, -1,\n         18, -1],\n        [ 1, -1,  3, -1, -1,  6, -1, -1,  9, -1, 11, -1, -1, 14, -1, 16, -1, -1,\n         19, -1],\n        [-1, -1,  4, -1, -1,  7, -1, -1, -1, -1, 12, -1, -1, -1, -1, 17, -1, -1,\n         -1, -1]], dtype=torch.int32)"
     },
     "metadata": {},
     "output_type": "display_data"
    },
    {
     "data": {
      "text/plain": "tensor([3, 3, 3, 3, 3, 3, 3, 3, 3, 3, 3, 3, 3, 3, 3, 3, 3, 3, 3, 3])"
     },
     "metadata": {},
     "output_type": "display_data"
    },
    {
     "data": {
      "text/plain": "tensor([0, 0, 1, 1, 1, 2, 2, 2, 3, 3, 4, 4, 4, 5, 5, 6, 6, 6, 7, 7])"
     },
     "metadata": {},
     "output_type": "display_data"
    }
   ],
   "source": [
    "for idx, batch in enumerate(batch_list):\n",
    "    display(f\"Batch: {idx}\")\n",
    "    display(batch.ptree)\n",
    "    display(batch.initial_map)\n",
    "    for layer_idx in range(batch.num_layer):\n",
    "        display(f\"Layer: {layer_idx}\")\n",
    "        display(\n",
    "            batch[f\"layer{layer_idx}_order_matrix\"],\n",
    "            batch[f\"layer{layer_idx}_type_mask\"],\n",
    "            batch[f\"layer{layer_idx}_pooling\"]\n",
    "        )"
   ],
   "metadata": {
    "collapsed": false,
    "ExecuteTime": {
     "start_time": "2024-03-23T14:19:16.439283Z",
     "end_time": "2024-03-23T14:19:16.654318Z"
    }
   }
  },
  {
   "cell_type": "code",
   "execution_count": 13,
   "outputs": [
    {
     "data": {
      "text/plain": "array([[ True,  True,  True,  True],\n       [ True,  True,  True,  True],\n       [ True,  True,  True,  True],\n       [ True,  True,  True,  True]])"
     },
     "metadata": {},
     "output_type": "display_data"
    }
   ],
   "source": [
    "# compare output\n",
    "display(np.array(\n",
    "    [\n",
    "        [\n",
    "            (batch_list[i].x == batch_list[j].x).all()\n",
    "            for j in range(len(batch_list))\n",
    "        ]\n",
    "        for i in range(len(batch_list))\n",
    "    ]\n",
    "))"
   ],
   "metadata": {
    "collapsed": false,
    "ExecuteTime": {
     "start_time": "2024-03-23T14:19:16.486167Z",
     "end_time": "2024-03-23T14:19:16.654318Z"
    }
   }
  },
  {
   "cell_type": "markdown",
   "id": "b86ffd2b-ec5f-49bf-8ab7-86f384b6e0c6",
   "metadata": {},
   "source": [
    "## Put batches through model"
   ]
  },
  {
   "cell_type": "code",
   "execution_count": 14,
   "id": "ca6a5499-e4a0-43a8-8a09-9bfc1f9eb67d",
   "metadata": {
    "tags": [],
    "ExecuteTime": {
     "start_time": "2024-03-23T14:19:16.501165Z",
     "end_time": "2024-03-23T14:19:16.654318Z"
    }
   },
   "outputs": [],
   "source": [
    "out_list = [\n",
    "    model(batch)\n",
    "    for batch in batch_list\n",
    "]"
   ]
  },
  {
   "cell_type": "code",
   "execution_count": 15,
   "outputs": [
    {
     "data": {
      "text/plain": "[tensor([[ 1.9770e-01, -1.2126e-01,  3.4168e-02,  3.0352e-02, -5.8661e-02,\n          -2.1608e-01, -1.0313e-01,  7.0726e-02,  7.1491e-02,  1.2083e-01,\n          -8.7067e-02, -1.7691e-01, -2.5325e-03,  1.0741e-01,  5.2632e-02,\n          -6.1580e-02, -1.1639e-01,  8.5972e-02, -3.0496e-01, -2.2457e-02,\n           1.1479e-01,  7.6352e-02, -2.1832e-01, -2.1720e-02,  9.0586e-02,\n          -1.6730e-01, -1.2439e-01,  3.4312e-01, -8.9895e-02,  8.3651e-02,\n          -9.6451e-02, -8.4765e-02,  4.3917e-01, -7.6347e-02, -6.5193e-02,\n          -1.8858e-01, -1.4742e-01,  2.2035e-01, -3.0944e-02, -1.1185e-01,\n          -6.8213e-02,  4.0522e-02,  2.8970e-02,  1.6000e-01,  8.8033e-03,\n           3.6497e-02, -5.9857e-02,  2.7175e-01, -1.0160e-01, -1.4350e-01,\n          -2.0404e-01,  9.2394e-02, -1.0713e-01, -1.5826e-02,  7.2088e-02,\n          -8.2683e-02,  5.6157e-02, -4.3599e-02,  3.9910e-02,  2.5353e-01,\n           3.0124e-03,  6.2079e-02, -9.9057e-02,  6.4954e-02, -9.8702e-02,\n          -2.8484e-01,  1.5710e-01,  7.4482e-02, -6.0610e-03, -5.4550e-02,\n          -6.1581e-03,  3.9945e-02, -9.6248e-02, -1.9257e-02,  4.5661e-02,\n           1.3785e-01, -2.8802e-02, -4.7028e-02, -9.9988e-02,  2.3279e-01,\n          -1.9619e-01, -1.3289e-01,  1.3636e-01,  1.6649e-01, -1.7739e-01,\n           4.6520e-02,  6.3273e-02,  1.2521e-01,  7.3280e-02,  1.6195e-02,\n          -7.9062e-02, -1.0378e-01,  1.0079e-01],\n         [ 2.0185e-02, -1.9708e-02,  1.1387e-01,  1.4372e-01, -9.3655e-03,\n          -2.7567e-01, -2.4932e-02,  1.9023e-01,  6.5857e-02, -1.4134e-01,\n           4.4823e-02, -1.0385e-01, -3.4408e-02,  9.0283e-02,  2.7910e-01,\n          -8.2009e-02, -1.5782e-01, -1.1151e-01, -3.2660e-01, -6.2241e-02,\n           1.5305e-01,  6.2118e-02, -2.9723e-01, -2.1627e-01,  5.3568e-02,\n          -1.7255e-01, -3.5218e-02,  1.6228e-01,  4.3644e-03, -1.0322e-01,\n          -5.3210e-02,  8.7613e-02,  6.8357e-01, -1.1065e-01, -1.3907e-01,\n          -1.5084e-01, -3.1781e-01,  2.7611e-01,  1.9764e-01, -3.4380e-01,\n          -1.6209e-01, -1.7904e-01,  5.7993e-02,  1.4253e-01,  1.0548e-01,\n           2.2123e-02, -1.2485e-01,  1.0902e-01, -2.5848e-02, -2.0888e-01,\n          -1.2457e-01, -7.0671e-02, -8.5469e-03,  1.5801e-01,  1.4016e-01,\n           1.7587e-01,  5.5097e-02,  1.6116e-01,  9.3612e-02,  1.6379e-01,\n          -1.0789e-01, -7.5661e-02, -2.0244e-01, -1.3401e-02, -3.6789e-02,\n          -9.0658e-02, -7.2101e-03,  8.2066e-02,  2.5272e-01,  1.3394e-01,\n          -4.2015e-02,  1.6447e-01, -4.3504e-03,  1.1988e-01,  2.2620e-01,\n           2.0355e-01, -1.4762e-01,  3.2046e-02,  1.1083e-01,  4.5550e-02,\n           1.1217e-02, -4.7883e-02,  2.2855e-03, -1.3869e-01, -1.3259e-01,\n           6.7420e-02,  1.7057e-01, -2.2180e-01,  4.3870e-02, -5.3397e-02,\n          -3.4367e-02, -1.9797e-02, -1.4314e-01],\n         [-5.3178e-02,  8.9757e-02,  2.3646e-02,  2.0998e-02,  5.7681e-02,\n          -2.1940e-01, -4.1021e-03,  1.5081e-01,  2.8929e-02, -1.6179e-01,\n           1.1891e-01, -1.1318e-01, -4.9328e-02,  1.4362e-01,  3.2717e-01,\n          -1.1080e-01, -1.6231e-01, -7.8005e-02, -2.4676e-01, -1.0552e-01,\n           2.5322e-01,  8.0234e-02, -3.3601e-01, -2.1078e-01,  1.0015e-01,\n          -1.7688e-01,  8.5750e-03,  2.4814e-01, -4.5684e-02, -2.9405e-02,\n           4.2599e-02, -4.9937e-03,  6.3665e-01, -8.9910e-02, -1.5376e-01,\n          -2.0829e-01, -2.2772e-01,  2.9167e-01,  1.5256e-01, -2.6785e-01,\n          -1.8328e-01, -1.9230e-01,  8.1268e-02,  2.7201e-01,  6.1319e-02,\n          -2.4419e-02, -2.7242e-01,  9.0749e-02,  2.9505e-02, -2.2936e-01,\n          -9.1663e-02, -7.0445e-02, -8.5056e-05,  7.6553e-02,  1.0580e-01,\n           1.0147e-02,  5.2100e-03,  1.6634e-01,  3.7747e-02,  1.6007e-01,\n          -1.0510e-01,  2.8684e-02, -2.2866e-01, -4.7301e-02, -6.0123e-02,\n          -1.4426e-01, -6.9547e-02,  1.0476e-01,  2.4579e-01,  1.0786e-01,\n          -6.7392e-02,  1.6233e-01, -3.0380e-02,  5.4662e-02,  2.5895e-01,\n           1.9475e-01, -1.4315e-01, -3.9329e-02,  2.4370e-02,  1.5267e-02,\n           4.8382e-02, -9.4657e-02,  2.9452e-02, -9.0393e-02, -1.4615e-01,\n           3.6028e-02,  1.9926e-01, -1.4328e-01,  5.0231e-02, -8.1124e-02,\n           1.1873e-02, -7.8364e-02, -1.2510e-01],\n         [ 5.1424e-02, -1.1553e-01,  4.4649e-02,  6.0563e-02,  7.6862e-02,\n          -1.2700e-01, -1.3470e-01,  6.1622e-02,  5.2081e-02,  9.5897e-02,\n          -5.6516e-02, -1.1554e-01, -6.0649e-02,  1.1091e-02,  2.4680e-01,\n          -2.8821e-02, -2.7735e-02,  1.8373e-01, -2.6550e-01,  5.8368e-02,\n           1.5909e-01,  1.4307e-01, -2.2727e-01, -8.0599e-02,  9.9971e-02,\n          -1.5305e-01, -1.7422e-01,  3.0879e-01, -7.0362e-02,  5.2874e-02,\n          -1.0593e-01, -8.7571e-02,  4.3784e-01, -4.4900e-02, -6.1569e-02,\n          -3.1502e-01, -1.1124e-01,  2.0862e-01, -5.6366e-02, -3.4172e-02,\n          -1.3194e-01,  1.4593e-02,  1.6568e-02,  1.0919e-01, -4.3642e-02,\n           8.8316e-02, -1.2436e-01,  2.3352e-01, -1.3360e-01, -1.0204e-01,\n          -1.2237e-01,  3.5979e-02, -9.4145e-02,  1.7483e-02,  1.3491e-01,\n          -5.3220e-02,  3.8359e-02, -3.1087e-02, -4.6278e-02,  1.7433e-01,\n          -1.3840e-02,  1.3504e-01, -1.8117e-01, -1.6263e-02, -1.3263e-01,\n          -2.6508e-01,  1.9281e-01,  1.7762e-01,  2.7355e-02,  3.5553e-03,\n          -1.8001e-02, -1.8841e-02,  2.3498e-02,  3.9207e-02, -1.4456e-02,\n           1.0416e-01, -2.1249e-02,  1.9201e-02, -1.3652e-01,  2.5147e-01,\n          -1.5501e-01, -5.5752e-02,  1.0832e-02,  8.2025e-02, -1.1983e-01,\n           7.1286e-02,  1.4933e-01,  7.7845e-02,  1.9128e-01, -6.6375e-02,\n           3.0677e-02, -1.6856e-01,  7.3338e-02],\n         [-5.0069e-02,  9.8047e-02,  5.4414e-02,  2.1515e-01, -3.2242e-03,\n          -2.6607e-01,  2.3861e-02,  1.9716e-01,  5.7693e-02, -2.4352e-01,\n           1.6304e-02, -1.7593e-01, -5.7967e-02,  1.1085e-01,  4.3322e-01,\n          -6.6755e-02, -1.0784e-01, -8.1455e-02, -2.4490e-01, -1.0624e-01,\n           2.4145e-01,  1.3216e-01, -3.0827e-01, -2.0304e-01,  1.0208e-01,\n          -1.3795e-01, -6.6762e-02,  1.3280e-01,  5.3057e-02, -1.1935e-01,\n           1.1867e-01,  2.7159e-02,  6.1407e-01, -8.3043e-02, -1.7313e-01,\n          -2.4598e-01, -2.8820e-01,  2.0652e-01,  8.7729e-02, -3.5352e-01,\n          -2.1012e-01, -1.8022e-01,  4.7981e-02,  1.7220e-01,  1.6575e-01,\n          -1.9094e-02, -1.0410e-01,  8.5077e-02,  1.5882e-03, -1.9277e-01,\n          -1.5142e-01, -7.3378e-02,  1.3361e-03,  6.6456e-02,  1.7426e-01,\n           6.7263e-02,  7.8507e-02,  1.4582e-01,  1.9880e-02,  1.5338e-01,\n          -7.9737e-02, -4.1002e-02, -2.3364e-01, -8.2612e-02, -1.0876e-01,\n           2.5287e-02, -4.3645e-02,  1.0706e-01,  2.4885e-01,  7.7650e-02,\n          -4.6885e-02,  1.4732e-01,  1.3059e-02,  3.3483e-02,  3.0286e-01,\n           1.3636e-01, -1.2059e-01,  1.5571e-02,  1.3930e-01, -3.7659e-02,\n          -5.1597e-02, -2.7326e-02, -8.9259e-02, -1.5376e-01, -1.2168e-01,\n           6.1763e-02,  1.0155e-01, -2.1863e-01,  3.6636e-02, -1.0331e-01,\n           3.6065e-02, -2.6194e-02, -1.0293e-01],\n         [ 3.9731e-02, -9.0311e-02,  4.8020e-02,  4.8538e-02,  1.0031e-01,\n          -1.8787e-01, -1.1822e-01,  6.1802e-02,  1.5013e-01,  1.6075e-01,\n          -8.1250e-02, -5.3469e-02, -9.8979e-02,  1.0300e-01,  1.8375e-01,\n          -1.3719e-01, -1.2432e-01,  1.7190e-01, -2.9959e-01, -3.1057e-03,\n           1.3230e-01,  8.5854e-02, -1.8559e-01, -7.7132e-02,  1.9013e-02,\n          -2.1134e-01, -1.0663e-01,  2.5162e-01, -6.1895e-02,  7.5741e-02,\n          -1.3361e-01, -7.9628e-02,  4.2205e-01, -1.6318e-02, -3.9966e-02,\n          -3.1204e-01, -1.3084e-01,  1.9550e-01,  4.0288e-02, -8.9720e-02,\n          -9.2525e-02,  1.2487e-01, -4.2981e-04,  1.2258e-01, -5.5923e-02,\n           1.4715e-01, -6.1689e-02,  3.5363e-01, -1.3645e-01, -1.0023e-01,\n          -1.3505e-01, -3.8053e-02, -5.1569e-02, -4.3881e-02,  1.2788e-01,\n          -8.3939e-02,  2.3799e-02, -7.9177e-02,  2.2451e-02,  1.7748e-01,\n           1.4410e-03,  7.9135e-02, -1.5535e-01,  7.3242e-02, -8.0354e-02,\n          -2.4892e-01,  1.3933e-01,  1.6952e-01, -4.0517e-02, -1.1177e-02,\n           5.4280e-02,  6.9674e-03, -1.2028e-01, -3.8254e-02,  5.6589e-02,\n           1.4444e-02, -3.9343e-02, -4.7461e-02, -2.1704e-01,  1.6675e-01,\n          -2.0199e-01, -1.0093e-01,  1.4714e-01,  9.2932e-02, -1.0099e-01,\n           1.0542e-01,  2.0959e-02,  8.2171e-02,  1.8545e-01,  2.5372e-02,\n           2.1348e-02, -1.6956e-01,  4.3279e-02],\n         [-1.5331e-03,  5.5880e-02,  5.2053e-02,  7.0498e-02,  2.7201e-01,\n          -2.0093e-01, -3.5531e-02,  1.4172e-01,  4.1414e-02, -2.3467e-01,\n           8.7404e-02, -1.4546e-02, -3.3629e-03,  1.4608e-01,  4.5637e-01,\n          -1.6753e-01, -8.9032e-02,  2.6188e-02, -2.5848e-01, -8.8038e-02,\n           1.2933e-02,  8.9504e-02, -3.3785e-01, -2.6398e-01,  4.3515e-02,\n          -2.2637e-01,  1.0422e-01,  2.4661e-01,  1.1026e-01, -4.3185e-02,\n           6.1408e-02,  5.2680e-02,  6.3769e-01, -6.2485e-02, -1.3016e-01,\n          -1.8360e-01, -2.5814e-01,  7.0373e-02,  1.9138e-01, -2.3921e-01,\n          -1.4879e-01, -1.6522e-01,  6.1428e-02, -3.0234e-02, -3.3793e-03,\n           1.4431e-02, -1.9027e-01,  2.1116e-01, -5.5155e-03, -2.6579e-01,\n          -1.3373e-01, -7.3293e-02, -2.7738e-02,  6.9168e-02,  2.7133e-01,\n           1.3219e-01, -7.4655e-02,  3.2446e-02,  4.1293e-02,  1.7722e-01,\n          -4.5237e-02, -4.4599e-03, -2.1776e-01, -6.4841e-02, -4.6277e-02,\n           2.5418e-02, -4.6444e-02,  9.9438e-02,  5.3940e-02,  9.4024e-02,\n          -1.4975e-01,  8.4622e-02,  5.9933e-03,  8.2403e-02,  2.4220e-01,\n           3.4675e-02,  4.6004e-02, -5.1960e-02, -1.4151e-01,  4.6090e-02,\n           4.3698e-02, -1.5646e-01,  8.9363e-03, -5.3738e-02, -9.3470e-02,\n           6.6038e-02,  1.6728e-01, -2.2588e-01, -2.8613e-03, -4.3197e-03,\n           7.0079e-02, -5.4296e-02, -6.9151e-02],\n         [ 2.3165e-02, -2.2353e-02,  3.5380e-02,  1.1636e-01,  1.3746e-01,\n           2.0594e-04, -2.2337e-01,  3.7872e-02,  6.9882e-03,  2.7999e-01,\n          -1.1416e-01, -2.0447e-01, -1.6948e-01, -3.5435e-02,  2.1051e-01,\n          -9.9621e-02, -9.2937e-02,  1.5229e-02, -1.4603e-01,  1.2450e-01,\n          -1.0258e-02,  1.0132e-01, -1.9464e-01, -6.7334e-02,  1.4063e-01,\n          -2.6261e-01, -2.3206e-01,  2.2985e-01, -1.4419e-01,  5.0921e-02,\n          -4.1847e-02, -4.0407e-02,  4.4891e-01, -1.9293e-01, -9.6233e-02,\n          -2.6665e-01, -1.1437e-01,  1.3923e-01, -5.2098e-02, -4.3406e-02,\n          -3.5584e-02, -5.6338e-02,  1.1573e-01,  1.2799e-01, -7.9280e-02,\n           1.0578e-01, -1.8412e-01,  2.7493e-01, -1.6217e-01, -9.6922e-02,\n          -1.2841e-01,  2.8733e-02, -1.2426e-01, -7.9748e-02, -7.0853e-02,\n          -3.1555e-02, -1.8925e-02, -1.0190e-01,  3.0410e-03,  1.8308e-02,\n           1.3113e-02,  2.2740e-02, -1.5939e-01,  6.5057e-02, -1.7037e-01,\n          -2.2192e-01,  2.4044e-01,  1.1158e-01, -3.4089e-02,  1.5825e-01,\n           8.5530e-02,  1.8878e-02, -2.9608e-02,  5.5571e-02,  4.9973e-02,\n           2.3716e-01,  1.4662e-01,  4.0512e-03, -1.0484e-01,  1.4834e-01,\n          -1.6985e-01,  7.9843e-02,  3.4318e-02,  1.4940e-01,  1.6522e-02,\n           3.3099e-03,  2.2654e-01,  2.8429e-02,  1.9562e-01, -8.1865e-02,\n           8.9531e-03, -1.0063e-01,  4.7463e-03]], grad_fn=<IndexPutBackward0>),\n tensor([[ 1.9770e-01, -1.2126e-01,  3.4168e-02,  3.0352e-02, -5.8661e-02,\n          -2.1608e-01, -1.0313e-01,  7.0726e-02,  7.1491e-02,  1.2083e-01,\n          -8.7067e-02, -1.7691e-01, -2.5325e-03,  1.0741e-01,  5.2632e-02,\n          -6.1580e-02, -1.1639e-01,  8.5972e-02, -3.0496e-01, -2.2457e-02,\n           1.1479e-01,  7.6352e-02, -2.1832e-01, -2.1720e-02,  9.0586e-02,\n          -1.6730e-01, -1.2439e-01,  3.4312e-01, -8.9895e-02,  8.3651e-02,\n          -9.6451e-02, -8.4765e-02,  4.3917e-01, -7.6347e-02, -6.5193e-02,\n          -1.8858e-01, -1.4742e-01,  2.2035e-01, -3.0944e-02, -1.1185e-01,\n          -6.8213e-02,  4.0522e-02,  2.8970e-02,  1.6000e-01,  8.8033e-03,\n           3.6497e-02, -5.9857e-02,  2.7175e-01, -1.0160e-01, -1.4350e-01,\n          -2.0404e-01,  9.2394e-02, -1.0713e-01, -1.5826e-02,  7.2088e-02,\n          -8.2683e-02,  5.6157e-02, -4.3599e-02,  3.9910e-02,  2.5353e-01,\n           3.0124e-03,  6.2079e-02, -9.9057e-02,  6.4954e-02, -9.8702e-02,\n          -2.8484e-01,  1.5710e-01,  7.4482e-02, -6.0610e-03, -5.4550e-02,\n          -6.1581e-03,  3.9945e-02, -9.6248e-02, -1.9257e-02,  4.5661e-02,\n           1.3785e-01, -2.8802e-02, -4.7028e-02, -9.9988e-02,  2.3279e-01,\n          -1.9619e-01, -1.3289e-01,  1.3636e-01,  1.6649e-01, -1.7739e-01,\n           4.6520e-02,  6.3273e-02,  1.2521e-01,  7.3280e-02,  1.6195e-02,\n          -7.9062e-02, -1.0378e-01,  1.0079e-01],\n         [ 4.5843e-02,  2.3936e-02, -5.9099e-02,  3.5344e-01,  2.3460e-01,\n          -1.7210e-01, -1.7134e-01, -2.1796e-02,  8.4635e-02, -1.2541e-01,\n           4.6732e-02,  1.5569e-01, -1.6831e-01,  4.6490e-02,  3.3370e-01,\n           6.0765e-02,  5.8772e-02,  1.6872e-01, -3.7206e-01, -1.4350e-01,\n           2.8493e-01, -1.5173e-01, -7.9607e-02, -7.9649e-02, -6.9127e-02,\n          -1.5960e-01, -2.8950e-01,  4.0695e-01,  5.8491e-02, -1.9563e-01,\n           8.6764e-02,  5.5274e-02,  5.2434e-01,  1.0916e-01,  5.9136e-02,\n          -4.0508e-01, -8.8652e-02,  1.3884e-01, -2.6149e-02, -2.5842e-01,\n          -1.7992e-01, -1.7700e-01, -8.1406e-02,  1.8518e-01,  1.5566e-02,\n           1.2224e-01, -1.6719e-01, -1.8236e-02, -9.7304e-02, -2.7205e-01,\n          -1.5349e-01, -1.9262e-01, -9.2517e-02,  1.8261e-01, -5.5332e-02,\n           1.9249e-01,  1.7558e-01,  1.4577e-01,  2.7713e-01,  3.1953e-02,\n          -1.1858e-01,  1.3409e-01, -1.4083e-01,  1.1186e-01, -3.4658e-02,\n          -2.9298e-02,  1.0526e-02,  3.4437e-01,  1.3280e-01,  1.8218e-01,\n           1.0930e-01,  1.4851e-01, -2.0087e-01,  4.3773e-02,  1.7512e-01,\n          -7.0469e-02,  1.2345e-01,  2.8190e-01, -1.3717e-01,  1.5328e-02,\n          -8.8305e-02, -8.9096e-02,  2.7287e-02, -1.8990e-03, -1.7595e-01,\n           2.7234e-01,  6.1703e-02, -2.5986e-01,  2.0996e-01,  1.3068e-01,\n          -3.8342e-02, -5.5133e-02, -1.7544e-01],\n         [-1.0763e-02,  9.1653e-02, -1.4491e-01,  2.2147e-01,  3.3291e-01,\n          -8.8811e-02, -1.4578e-01,  3.5696e-03,  3.7675e-02, -1.5809e-01,\n           1.1717e-01,  1.6412e-01, -1.7182e-01,  7.8908e-02,  3.8642e-01,\n           3.3879e-02,  5.0771e-02,  1.9640e-01, -3.1031e-01, -2.0569e-01,\n           3.6835e-01, -1.2367e-01, -1.2580e-01, -8.3400e-02, -3.2112e-02,\n          -1.9556e-01, -2.4099e-01,  5.2351e-01,  9.2522e-04, -7.9884e-02,\n           1.7592e-01, -4.2681e-02,  4.9460e-01,  9.3434e-02,  9.6689e-02,\n          -4.1607e-01,  1.6629e-02,  1.2280e-01, -3.2551e-02, -1.5400e-01,\n          -1.8443e-01, -1.9327e-01, -4.1432e-02,  2.5144e-01, -8.1255e-02,\n           1.0089e-01, -2.9970e-01,  3.7866e-03, -3.5899e-02, -2.4685e-01,\n          -1.5113e-01, -1.7401e-01, -1.2115e-01,  1.4106e-01, -6.5119e-02,\n           5.6091e-02,  1.2959e-01,  1.6865e-01,  2.1059e-01, -4.0407e-02,\n          -1.3262e-01,  1.9758e-01, -1.9232e-01,  1.2411e-01, -6.4274e-02,\n          -1.1433e-01, -3.7919e-02,  3.6068e-01,  1.7564e-01,  2.0945e-01,\n           8.8069e-02,  1.7580e-01, -1.9269e-01, -2.2413e-02,  2.0237e-01,\n          -9.0284e-02,  1.7831e-01,  2.2506e-01, -2.1662e-01,  2.6836e-02,\n           3.7993e-03, -1.6931e-01,  8.3230e-02,  4.7125e-02, -2.0768e-01,\n           2.0616e-01,  1.1025e-01, -1.9894e-01,  2.6910e-01,  1.0747e-01,\n           3.5847e-02, -1.1148e-01, -1.6891e-01],\n         [ 5.1424e-02, -1.1553e-01,  4.4649e-02,  6.0563e-02,  7.6862e-02,\n          -1.2700e-01, -1.3470e-01,  6.1622e-02,  5.2081e-02,  9.5897e-02,\n          -5.6516e-02, -1.1554e-01, -6.0649e-02,  1.1091e-02,  2.4680e-01,\n          -2.8821e-02, -2.7735e-02,  1.8373e-01, -2.6550e-01,  5.8368e-02,\n           1.5909e-01,  1.4307e-01, -2.2727e-01, -8.0599e-02,  9.9971e-02,\n          -1.5305e-01, -1.7422e-01,  3.0879e-01, -7.0362e-02,  5.2874e-02,\n          -1.0593e-01, -8.7571e-02,  4.3784e-01, -4.4900e-02, -6.1569e-02,\n          -3.1502e-01, -1.1124e-01,  2.0862e-01, -5.6366e-02, -3.4172e-02,\n          -1.3194e-01,  1.4593e-02,  1.6568e-02,  1.0919e-01, -4.3642e-02,\n           8.8316e-02, -1.2436e-01,  2.3352e-01, -1.3360e-01, -1.0204e-01,\n          -1.2237e-01,  3.5979e-02, -9.4145e-02,  1.7483e-02,  1.3491e-01,\n          -5.3220e-02,  3.8359e-02, -3.1087e-02, -4.6278e-02,  1.7433e-01,\n          -1.3840e-02,  1.3504e-01, -1.8117e-01, -1.6263e-02, -1.3263e-01,\n          -2.6508e-01,  1.9281e-01,  1.7762e-01,  2.7355e-02,  3.5553e-03,\n          -1.8001e-02, -1.8841e-02,  2.3498e-02,  3.9207e-02, -1.4456e-02,\n           1.0416e-01, -2.1249e-02,  1.9201e-02, -1.3652e-01,  2.5147e-01,\n          -1.5501e-01, -5.5752e-02,  1.0832e-02,  8.2025e-02, -1.1983e-01,\n           7.1286e-02,  1.4933e-01,  7.7845e-02,  1.9128e-01, -6.6375e-02,\n           3.0677e-02, -1.6856e-01,  7.3338e-02],\n         [-6.5661e-02,  1.1734e-01, -1.1274e-01,  3.9295e-01,  2.3960e-01,\n          -1.3453e-01, -1.0138e-01,  6.4813e-02,  1.0579e-01, -2.5704e-01,\n           2.5128e-02,  1.2501e-01, -1.9971e-01,  6.4699e-02,  5.0167e-01,\n           8.4760e-02,  1.3317e-01,  1.9577e-01, -2.7524e-01, -2.0880e-01,\n           3.4045e-01, -7.0073e-02, -9.0026e-02, -7.2631e-02, -6.9758e-02,\n          -1.5262e-01, -2.6997e-01,  3.5353e-01,  8.2160e-02, -1.6662e-01,\n           2.6652e-01, -3.9321e-02,  4.3768e-01,  1.0636e-01,  3.3629e-02,\n          -4.4073e-01, -5.0168e-02,  5.5423e-02, -1.1793e-01, -2.3580e-01,\n          -2.0901e-01, -1.6270e-01, -9.3522e-02,  1.5870e-01,  9.6419e-02,\n           1.1018e-01, -1.4276e-01,  3.1115e-03, -9.8684e-02, -2.1612e-01,\n          -2.2642e-01, -1.8005e-01, -1.2430e-01,  1.3599e-01, -6.2378e-03,\n           1.1898e-01,  1.6752e-01,  1.4279e-01,  2.0484e-01,  2.1922e-02,\n          -7.3214e-02,  1.2185e-01, -1.9398e-01,  1.0358e-01, -1.7065e-01,\n           5.1762e-02, -2.3107e-02,  3.8518e-01,  1.4977e-01,  1.6219e-01,\n           6.0476e-02,  1.4442e-01, -1.4582e-01, -3.4040e-02,  2.2380e-01,\n          -1.4170e-01,  1.8708e-01,  2.5458e-01, -1.2015e-01, -9.6703e-03,\n          -1.2116e-01, -5.8877e-02, -6.4191e-02,  4.4226e-02, -2.0925e-01,\n           2.2092e-01,  1.6788e-02, -2.6775e-01,  2.2131e-01,  6.9419e-02,\n           5.1647e-02, -8.3726e-02, -9.7748e-02],\n         [ 3.9731e-02, -9.0311e-02,  4.8020e-02,  4.8538e-02,  1.0031e-01,\n          -1.8787e-01, -1.1822e-01,  6.1802e-02,  1.5013e-01,  1.6075e-01,\n          -8.1250e-02, -5.3469e-02, -9.8979e-02,  1.0300e-01,  1.8375e-01,\n          -1.3719e-01, -1.2432e-01,  1.7190e-01, -2.9959e-01, -3.1057e-03,\n           1.3230e-01,  8.5854e-02, -1.8559e-01, -7.7132e-02,  1.9013e-02,\n          -2.1134e-01, -1.0663e-01,  2.5162e-01, -6.1895e-02,  7.5741e-02,\n          -1.3361e-01, -7.9628e-02,  4.2205e-01, -1.6318e-02, -3.9966e-02,\n          -3.1204e-01, -1.3084e-01,  1.9550e-01,  4.0288e-02, -8.9720e-02,\n          -9.2525e-02,  1.2487e-01, -4.2981e-04,  1.2258e-01, -5.5923e-02,\n           1.4715e-01, -6.1689e-02,  3.5363e-01, -1.3645e-01, -1.0023e-01,\n          -1.3505e-01, -3.8053e-02, -5.1569e-02, -4.3881e-02,  1.2788e-01,\n          -8.3939e-02,  2.3799e-02, -7.9177e-02,  2.2451e-02,  1.7748e-01,\n           1.4410e-03,  7.9135e-02, -1.5535e-01,  7.3242e-02, -8.0354e-02,\n          -2.4892e-01,  1.3933e-01,  1.6952e-01, -4.0517e-02, -1.1177e-02,\n           5.4280e-02,  6.9674e-03, -1.2028e-01, -3.8254e-02,  5.6589e-02,\n           1.4444e-02, -3.9343e-02, -4.7461e-02, -2.1704e-01,  1.6675e-01,\n          -2.0199e-01, -1.0093e-01,  1.4714e-01,  9.2932e-02, -1.0099e-01,\n           1.0542e-01,  2.0959e-02,  8.2171e-02,  1.8545e-01,  2.5372e-02,\n           2.1348e-02, -1.6956e-01,  4.3279e-02],\n         [ 1.6410e-02,  1.2504e-01, -9.8633e-02,  2.7875e-01,  5.6203e-01,\n          -7.0300e-02, -1.9134e-01, -1.9536e-02,  9.2014e-02, -1.9683e-01,\n           7.4245e-02,  2.5827e-01, -1.9081e-01,  5.3476e-02,  4.6761e-01,\n          -4.0794e-02,  1.3549e-01,  2.6829e-01, -2.8277e-01, -2.0093e-01,\n           1.6997e-01, -1.0918e-01, -1.1000e-01, -1.7177e-01, -1.4326e-01,\n          -2.3192e-01, -1.5368e-01,  4.6334e-01,  1.1069e-01, -1.5057e-01,\n           1.9085e-01,  1.7190e-02,  4.7820e-01,  1.2863e-01,  5.3251e-02,\n          -4.0378e-01, -9.5162e-03, -2.1599e-02, -2.6107e-02, -1.1202e-01,\n          -1.3605e-01, -1.8331e-01, -1.0448e-01,  3.6078e-02, -1.0108e-01,\n           1.3026e-01, -2.5013e-01,  6.6791e-02, -2.8195e-02, -2.6563e-01,\n          -1.7074e-01, -2.0940e-01, -1.1896e-01,  3.4797e-02,  5.0391e-02,\n           1.5341e-01,  4.7255e-02,  4.3893e-02,  1.8939e-01,  6.2440e-02,\n          -4.5834e-02,  1.9443e-01, -1.8756e-01,  1.2112e-01, -1.0448e-01,\n           6.9006e-02,  1.6776e-02,  4.2293e-01, -3.8058e-02,  1.9359e-01,\n          -1.3537e-02,  7.1021e-02, -1.9421e-01,  7.8367e-03,  1.8688e-01,\n          -2.1867e-01,  3.4681e-01,  1.7339e-01, -3.3882e-01,  5.2061e-02,\n          -7.8505e-02, -1.6001e-01,  4.5682e-02,  1.1482e-01, -1.5305e-01,\n           2.7275e-01,  6.7215e-02, -2.4326e-01,  1.6233e-01,  1.6068e-01,\n           1.1509e-01, -1.4153e-01, -1.4957e-01],\n         [ 2.3165e-02, -2.2353e-02,  3.5380e-02,  1.1636e-01,  1.3746e-01,\n           2.0594e-04, -2.2337e-01,  3.7872e-02,  6.9882e-03,  2.7999e-01,\n          -1.1416e-01, -2.0447e-01, -1.6948e-01, -3.5435e-02,  2.1051e-01,\n          -9.9621e-02, -9.2937e-02,  1.5229e-02, -1.4603e-01,  1.2450e-01,\n          -1.0258e-02,  1.0132e-01, -1.9464e-01, -6.7334e-02,  1.4063e-01,\n          -2.6261e-01, -2.3206e-01,  2.2985e-01, -1.4419e-01,  5.0921e-02,\n          -4.1847e-02, -4.0407e-02,  4.4891e-01, -1.9293e-01, -9.6233e-02,\n          -2.6665e-01, -1.1437e-01,  1.3923e-01, -5.2098e-02, -4.3406e-02,\n          -3.5584e-02, -5.6338e-02,  1.1573e-01,  1.2799e-01, -7.9280e-02,\n           1.0578e-01, -1.8412e-01,  2.7493e-01, -1.6217e-01, -9.6922e-02,\n          -1.2841e-01,  2.8733e-02, -1.2426e-01, -7.9748e-02, -7.0853e-02,\n          -3.1555e-02, -1.8925e-02, -1.0190e-01,  3.0410e-03,  1.8308e-02,\n           1.3113e-02,  2.2740e-02, -1.5939e-01,  6.5057e-02, -1.7037e-01,\n          -2.2192e-01,  2.4044e-01,  1.1158e-01, -3.4089e-02,  1.5825e-01,\n           8.5530e-02,  1.8878e-02, -2.9608e-02,  5.5571e-02,  4.9973e-02,\n           2.3716e-01,  1.4662e-01,  4.0512e-03, -1.0484e-01,  1.4834e-01,\n          -1.6985e-01,  7.9843e-02,  3.4318e-02,  1.4940e-01,  1.6522e-02,\n           3.3099e-03,  2.2654e-01,  2.8429e-02,  1.9562e-01, -8.1865e-02,\n           8.9531e-03, -1.0063e-01,  4.7463e-03]], grad_fn=<IndexPutBackward0>),\n tensor([[ 1.9770e-01, -1.2126e-01,  3.4168e-02,  3.0352e-02, -5.8661e-02,\n          -2.1608e-01, -1.0313e-01,  7.0726e-02,  7.1491e-02,  1.2083e-01,\n          -8.7067e-02, -1.7691e-01, -2.5325e-03,  1.0741e-01,  5.2632e-02,\n          -6.1580e-02, -1.1639e-01,  8.5972e-02, -3.0496e-01, -2.2457e-02,\n           1.1479e-01,  7.6352e-02, -2.1832e-01, -2.1720e-02,  9.0586e-02,\n          -1.6730e-01, -1.2439e-01,  3.4312e-01, -8.9895e-02,  8.3651e-02,\n          -9.6451e-02, -8.4765e-02,  4.3917e-01, -7.6347e-02, -6.5193e-02,\n          -1.8858e-01, -1.4742e-01,  2.2035e-01, -3.0944e-02, -1.1185e-01,\n          -6.8213e-02,  4.0522e-02,  2.8970e-02,  1.6000e-01,  8.8033e-03,\n           3.6497e-02, -5.9857e-02,  2.7175e-01, -1.0160e-01, -1.4350e-01,\n          -2.0404e-01,  9.2394e-02, -1.0713e-01, -1.5826e-02,  7.2088e-02,\n          -8.2683e-02,  5.6157e-02, -4.3599e-02,  3.9910e-02,  2.5353e-01,\n           3.0124e-03,  6.2079e-02, -9.9057e-02,  6.4954e-02, -9.8702e-02,\n          -2.8484e-01,  1.5710e-01,  7.4482e-02, -6.0610e-03, -5.4550e-02,\n          -6.1581e-03,  3.9945e-02, -9.6248e-02, -1.9257e-02,  4.5661e-02,\n           1.3785e-01, -2.8802e-02, -4.7028e-02, -9.9988e-02,  2.3279e-01,\n          -1.9619e-01, -1.3289e-01,  1.3636e-01,  1.6649e-01, -1.7739e-01,\n           4.6520e-02,  6.3273e-02,  1.2521e-01,  7.3280e-02,  1.6195e-02,\n          -7.9062e-02, -1.0378e-01,  1.0079e-01],\n         [ 4.5843e-02,  2.3936e-02, -5.9099e-02,  3.5344e-01,  2.3460e-01,\n          -1.7210e-01, -1.7134e-01, -2.1796e-02,  8.4635e-02, -1.2541e-01,\n           4.6732e-02,  1.5569e-01, -1.6831e-01,  4.6490e-02,  3.3370e-01,\n           6.0765e-02,  5.8772e-02,  1.6872e-01, -3.7206e-01, -1.4350e-01,\n           2.8493e-01, -1.5173e-01, -7.9607e-02, -7.9649e-02, -6.9127e-02,\n          -1.5960e-01, -2.8950e-01,  4.0695e-01,  5.8491e-02, -1.9563e-01,\n           8.6764e-02,  5.5274e-02,  5.2434e-01,  1.0916e-01,  5.9136e-02,\n          -4.0508e-01, -8.8652e-02,  1.3884e-01, -2.6149e-02, -2.5842e-01,\n          -1.7992e-01, -1.7700e-01, -8.1406e-02,  1.8518e-01,  1.5566e-02,\n           1.2224e-01, -1.6719e-01, -1.8236e-02, -9.7304e-02, -2.7205e-01,\n          -1.5349e-01, -1.9262e-01, -9.2517e-02,  1.8261e-01, -5.5332e-02,\n           1.9249e-01,  1.7558e-01,  1.4577e-01,  2.7713e-01,  3.1953e-02,\n          -1.1858e-01,  1.3409e-01, -1.4083e-01,  1.1186e-01, -3.4658e-02,\n          -2.9298e-02,  1.0526e-02,  3.4437e-01,  1.3280e-01,  1.8218e-01,\n           1.0930e-01,  1.4851e-01, -2.0087e-01,  4.3773e-02,  1.7512e-01,\n          -7.0469e-02,  1.2345e-01,  2.8190e-01, -1.3717e-01,  1.5328e-02,\n          -8.8305e-02, -8.9096e-02,  2.7287e-02, -1.8990e-03, -1.7595e-01,\n           2.7234e-01,  6.1703e-02, -2.5986e-01,  2.0996e-01,  1.3068e-01,\n          -3.8342e-02, -5.5133e-02, -1.7544e-01],\n         [-1.0763e-02,  9.1653e-02, -1.4491e-01,  2.2147e-01,  3.3291e-01,\n          -8.8811e-02, -1.4578e-01,  3.5696e-03,  3.7675e-02, -1.5809e-01,\n           1.1717e-01,  1.6412e-01, -1.7182e-01,  7.8908e-02,  3.8642e-01,\n           3.3879e-02,  5.0771e-02,  1.9640e-01, -3.1031e-01, -2.0569e-01,\n           3.6835e-01, -1.2367e-01, -1.2580e-01, -8.3400e-02, -3.2112e-02,\n          -1.9556e-01, -2.4099e-01,  5.2351e-01,  9.2522e-04, -7.9884e-02,\n           1.7592e-01, -4.2681e-02,  4.9460e-01,  9.3434e-02,  9.6689e-02,\n          -4.1607e-01,  1.6629e-02,  1.2280e-01, -3.2551e-02, -1.5400e-01,\n          -1.8443e-01, -1.9327e-01, -4.1432e-02,  2.5144e-01, -8.1255e-02,\n           1.0089e-01, -2.9970e-01,  3.7866e-03, -3.5899e-02, -2.4685e-01,\n          -1.5113e-01, -1.7401e-01, -1.2115e-01,  1.4106e-01, -6.5119e-02,\n           5.6091e-02,  1.2959e-01,  1.6865e-01,  2.1059e-01, -4.0407e-02,\n          -1.3262e-01,  1.9758e-01, -1.9232e-01,  1.2411e-01, -6.4274e-02,\n          -1.1433e-01, -3.7919e-02,  3.6068e-01,  1.7564e-01,  2.0945e-01,\n           8.8069e-02,  1.7580e-01, -1.9269e-01, -2.2413e-02,  2.0237e-01,\n          -9.0284e-02,  1.7831e-01,  2.2506e-01, -2.1662e-01,  2.6836e-02,\n           3.7993e-03, -1.6931e-01,  8.3230e-02,  4.7125e-02, -2.0768e-01,\n           2.0616e-01,  1.1025e-01, -1.9894e-01,  2.6910e-01,  1.0747e-01,\n           3.5847e-02, -1.1148e-01, -1.6891e-01],\n         [ 5.1424e-02, -1.1553e-01,  4.4649e-02,  6.0563e-02,  7.6862e-02,\n          -1.2700e-01, -1.3470e-01,  6.1622e-02,  5.2081e-02,  9.5897e-02,\n          -5.6516e-02, -1.1554e-01, -6.0649e-02,  1.1091e-02,  2.4680e-01,\n          -2.8821e-02, -2.7735e-02,  1.8373e-01, -2.6550e-01,  5.8368e-02,\n           1.5909e-01,  1.4307e-01, -2.2727e-01, -8.0599e-02,  9.9971e-02,\n          -1.5305e-01, -1.7422e-01,  3.0879e-01, -7.0362e-02,  5.2874e-02,\n          -1.0593e-01, -8.7571e-02,  4.3784e-01, -4.4900e-02, -6.1569e-02,\n          -3.1502e-01, -1.1124e-01,  2.0862e-01, -5.6366e-02, -3.4172e-02,\n          -1.3194e-01,  1.4593e-02,  1.6568e-02,  1.0919e-01, -4.3642e-02,\n           8.8316e-02, -1.2436e-01,  2.3352e-01, -1.3360e-01, -1.0204e-01,\n          -1.2237e-01,  3.5979e-02, -9.4145e-02,  1.7483e-02,  1.3491e-01,\n          -5.3220e-02,  3.8359e-02, -3.1087e-02, -4.6278e-02,  1.7433e-01,\n          -1.3840e-02,  1.3504e-01, -1.8117e-01, -1.6263e-02, -1.3263e-01,\n          -2.6508e-01,  1.9281e-01,  1.7762e-01,  2.7355e-02,  3.5553e-03,\n          -1.8001e-02, -1.8841e-02,  2.3498e-02,  3.9207e-02, -1.4456e-02,\n           1.0416e-01, -2.1249e-02,  1.9201e-02, -1.3652e-01,  2.5147e-01,\n          -1.5501e-01, -5.5752e-02,  1.0832e-02,  8.2025e-02, -1.1983e-01,\n           7.1286e-02,  1.4933e-01,  7.7845e-02,  1.9128e-01, -6.6375e-02,\n           3.0677e-02, -1.6856e-01,  7.3338e-02],\n         [-6.5661e-02,  1.1734e-01, -1.1274e-01,  3.9295e-01,  2.3960e-01,\n          -1.3453e-01, -1.0138e-01,  6.4813e-02,  1.0579e-01, -2.5704e-01,\n           2.5128e-02,  1.2501e-01, -1.9971e-01,  6.4699e-02,  5.0167e-01,\n           8.4760e-02,  1.3317e-01,  1.9577e-01, -2.7524e-01, -2.0880e-01,\n           3.4045e-01, -7.0073e-02, -9.0026e-02, -7.2631e-02, -6.9758e-02,\n          -1.5262e-01, -2.6997e-01,  3.5353e-01,  8.2160e-02, -1.6662e-01,\n           2.6652e-01, -3.9321e-02,  4.3768e-01,  1.0636e-01,  3.3629e-02,\n          -4.4073e-01, -5.0168e-02,  5.5423e-02, -1.1793e-01, -2.3580e-01,\n          -2.0901e-01, -1.6270e-01, -9.3522e-02,  1.5870e-01,  9.6419e-02,\n           1.1018e-01, -1.4276e-01,  3.1115e-03, -9.8684e-02, -2.1612e-01,\n          -2.2642e-01, -1.8005e-01, -1.2430e-01,  1.3599e-01, -6.2378e-03,\n           1.1898e-01,  1.6752e-01,  1.4279e-01,  2.0484e-01,  2.1922e-02,\n          -7.3214e-02,  1.2185e-01, -1.9398e-01,  1.0358e-01, -1.7065e-01,\n           5.1762e-02, -2.3107e-02,  3.8518e-01,  1.4977e-01,  1.6219e-01,\n           6.0476e-02,  1.4442e-01, -1.4582e-01, -3.4040e-02,  2.2380e-01,\n          -1.4170e-01,  1.8708e-01,  2.5458e-01, -1.2015e-01, -9.6703e-03,\n          -1.2116e-01, -5.8877e-02, -6.4191e-02,  4.4226e-02, -2.0925e-01,\n           2.2092e-01,  1.6788e-02, -2.6775e-01,  2.2131e-01,  6.9419e-02,\n           5.1647e-02, -8.3726e-02, -9.7748e-02],\n         [ 3.9731e-02, -9.0311e-02,  4.8020e-02,  4.8538e-02,  1.0031e-01,\n          -1.8787e-01, -1.1822e-01,  6.1802e-02,  1.5013e-01,  1.6075e-01,\n          -8.1250e-02, -5.3469e-02, -9.8979e-02,  1.0300e-01,  1.8375e-01,\n          -1.3719e-01, -1.2432e-01,  1.7190e-01, -2.9959e-01, -3.1057e-03,\n           1.3230e-01,  8.5854e-02, -1.8559e-01, -7.7132e-02,  1.9013e-02,\n          -2.1134e-01, -1.0663e-01,  2.5162e-01, -6.1895e-02,  7.5741e-02,\n          -1.3361e-01, -7.9628e-02,  4.2205e-01, -1.6318e-02, -3.9966e-02,\n          -3.1204e-01, -1.3084e-01,  1.9550e-01,  4.0288e-02, -8.9720e-02,\n          -9.2525e-02,  1.2487e-01, -4.2981e-04,  1.2258e-01, -5.5923e-02,\n           1.4715e-01, -6.1689e-02,  3.5363e-01, -1.3645e-01, -1.0023e-01,\n          -1.3505e-01, -3.8053e-02, -5.1569e-02, -4.3881e-02,  1.2788e-01,\n          -8.3939e-02,  2.3799e-02, -7.9177e-02,  2.2451e-02,  1.7748e-01,\n           1.4410e-03,  7.9135e-02, -1.5535e-01,  7.3242e-02, -8.0354e-02,\n          -2.4892e-01,  1.3933e-01,  1.6952e-01, -4.0517e-02, -1.1177e-02,\n           5.4280e-02,  6.9674e-03, -1.2028e-01, -3.8254e-02,  5.6589e-02,\n           1.4444e-02, -3.9343e-02, -4.7461e-02, -2.1704e-01,  1.6675e-01,\n          -2.0199e-01, -1.0093e-01,  1.4714e-01,  9.2932e-02, -1.0099e-01,\n           1.0542e-01,  2.0959e-02,  8.2171e-02,  1.8545e-01,  2.5372e-02,\n           2.1348e-02, -1.6956e-01,  4.3279e-02],\n         [ 1.6410e-02,  1.2504e-01, -9.8633e-02,  2.7875e-01,  5.6203e-01,\n          -7.0300e-02, -1.9134e-01, -1.9536e-02,  9.2014e-02, -1.9683e-01,\n           7.4245e-02,  2.5827e-01, -1.9081e-01,  5.3476e-02,  4.6761e-01,\n          -4.0794e-02,  1.3549e-01,  2.6829e-01, -2.8277e-01, -2.0093e-01,\n           1.6997e-01, -1.0918e-01, -1.1000e-01, -1.7177e-01, -1.4326e-01,\n          -2.3192e-01, -1.5368e-01,  4.6334e-01,  1.1069e-01, -1.5057e-01,\n           1.9085e-01,  1.7190e-02,  4.7820e-01,  1.2863e-01,  5.3251e-02,\n          -4.0378e-01, -9.5162e-03, -2.1599e-02, -2.6107e-02, -1.1202e-01,\n          -1.3605e-01, -1.8331e-01, -1.0448e-01,  3.6078e-02, -1.0108e-01,\n           1.3026e-01, -2.5013e-01,  6.6791e-02, -2.8195e-02, -2.6563e-01,\n          -1.7074e-01, -2.0940e-01, -1.1896e-01,  3.4797e-02,  5.0391e-02,\n           1.5341e-01,  4.7255e-02,  4.3893e-02,  1.8939e-01,  6.2440e-02,\n          -4.5834e-02,  1.9443e-01, -1.8756e-01,  1.2112e-01, -1.0448e-01,\n           6.9006e-02,  1.6776e-02,  4.2293e-01, -3.8058e-02,  1.9359e-01,\n          -1.3537e-02,  7.1021e-02, -1.9421e-01,  7.8367e-03,  1.8688e-01,\n          -2.1867e-01,  3.4681e-01,  1.7339e-01, -3.3882e-01,  5.2061e-02,\n          -7.8505e-02, -1.6001e-01,  4.5682e-02,  1.1482e-01, -1.5305e-01,\n           2.7275e-01,  6.7215e-02, -2.4326e-01,  1.6233e-01,  1.6068e-01,\n           1.1509e-01, -1.4153e-01, -1.4957e-01],\n         [ 2.3165e-02, -2.2353e-02,  3.5380e-02,  1.1636e-01,  1.3746e-01,\n           2.0594e-04, -2.2337e-01,  3.7872e-02,  6.9882e-03,  2.7999e-01,\n          -1.1416e-01, -2.0447e-01, -1.6948e-01, -3.5435e-02,  2.1051e-01,\n          -9.9621e-02, -9.2937e-02,  1.5229e-02, -1.4603e-01,  1.2450e-01,\n          -1.0258e-02,  1.0132e-01, -1.9464e-01, -6.7334e-02,  1.4063e-01,\n          -2.6261e-01, -2.3206e-01,  2.2985e-01, -1.4419e-01,  5.0921e-02,\n          -4.1847e-02, -4.0407e-02,  4.4891e-01, -1.9293e-01, -9.6233e-02,\n          -2.6665e-01, -1.1437e-01,  1.3923e-01, -5.2098e-02, -4.3406e-02,\n          -3.5584e-02, -5.6338e-02,  1.1573e-01,  1.2799e-01, -7.9280e-02,\n           1.0578e-01, -1.8412e-01,  2.7493e-01, -1.6217e-01, -9.6922e-02,\n          -1.2841e-01,  2.8733e-02, -1.2426e-01, -7.9748e-02, -7.0853e-02,\n          -3.1555e-02, -1.8925e-02, -1.0190e-01,  3.0410e-03,  1.8308e-02,\n           1.3113e-02,  2.2740e-02, -1.5939e-01,  6.5057e-02, -1.7037e-01,\n          -2.2192e-01,  2.4044e-01,  1.1158e-01, -3.4089e-02,  1.5825e-01,\n           8.5530e-02,  1.8878e-02, -2.9608e-02,  5.5571e-02,  4.9973e-02,\n           2.3716e-01,  1.4662e-01,  4.0512e-03, -1.0484e-01,  1.4834e-01,\n          -1.6985e-01,  7.9843e-02,  3.4318e-02,  1.4940e-01,  1.6522e-02,\n           3.3099e-03,  2.2654e-01,  2.8429e-02,  1.9562e-01, -8.1865e-02,\n           8.9531e-03, -1.0063e-01,  4.7463e-03]], grad_fn=<IndexPutBackward0>),\n tensor([[ 1.9770e-01, -1.2126e-01,  3.4168e-02,  3.0352e-02, -5.8661e-02,\n          -2.1608e-01, -1.0313e-01,  7.0726e-02,  7.1491e-02,  1.2083e-01,\n          -8.7067e-02, -1.7691e-01, -2.5325e-03,  1.0741e-01,  5.2632e-02,\n          -6.1580e-02, -1.1639e-01,  8.5972e-02, -3.0496e-01, -2.2457e-02,\n           1.1479e-01,  7.6352e-02, -2.1832e-01, -2.1720e-02,  9.0586e-02,\n          -1.6730e-01, -1.2439e-01,  3.4312e-01, -8.9895e-02,  8.3651e-02,\n          -9.6451e-02, -8.4765e-02,  4.3917e-01, -7.6347e-02, -6.5193e-02,\n          -1.8858e-01, -1.4742e-01,  2.2035e-01, -3.0944e-02, -1.1185e-01,\n          -6.8213e-02,  4.0522e-02,  2.8970e-02,  1.6000e-01,  8.8033e-03,\n           3.6497e-02, -5.9857e-02,  2.7175e-01, -1.0160e-01, -1.4350e-01,\n          -2.0404e-01,  9.2394e-02, -1.0713e-01, -1.5826e-02,  7.2088e-02,\n          -8.2683e-02,  5.6157e-02, -4.3599e-02,  3.9910e-02,  2.5353e-01,\n           3.0124e-03,  6.2079e-02, -9.9057e-02,  6.4954e-02, -9.8702e-02,\n          -2.8484e-01,  1.5710e-01,  7.4482e-02, -6.0610e-03, -5.4550e-02,\n          -6.1581e-03,  3.9945e-02, -9.6248e-02, -1.9257e-02,  4.5661e-02,\n           1.3785e-01, -2.8802e-02, -4.7028e-02, -9.9988e-02,  2.3279e-01,\n          -1.9619e-01, -1.3289e-01,  1.3636e-01,  1.6649e-01, -1.7739e-01,\n           4.6520e-02,  6.3273e-02,  1.2521e-01,  7.3280e-02,  1.6195e-02,\n          -7.9062e-02, -1.0378e-01,  1.0079e-01],\n         [ 4.4743e-02,  2.3866e-02, -5.8936e-02,  3.5232e-01,  2.3598e-01,\n          -1.7284e-01, -1.7160e-01, -1.9892e-02,  8.5018e-02, -1.2467e-01,\n           4.6031e-02,  1.5643e-01, -1.6754e-01,  4.8593e-02,  3.3652e-01,\n           6.1533e-02,  5.8739e-02,  1.6913e-01, -3.7208e-01, -1.4401e-01,\n           2.8352e-01, -1.5231e-01, -7.8648e-02, -8.0632e-02, -6.9697e-02,\n          -1.6120e-01, -2.8747e-01,  4.0531e-01,  5.9286e-02, -1.9348e-01,\n           8.9017e-02,  5.5550e-02,  5.2507e-01,  1.0888e-01,  5.9542e-02,\n          -4.0552e-01, -8.9713e-02,  1.3820e-01, -2.3577e-02, -2.5779e-01,\n          -1.7861e-01, -1.7803e-01, -8.0597e-02,  1.8294e-01,  1.6235e-02,\n           1.2156e-01, -1.7052e-01, -1.8647e-02, -9.7943e-02, -2.7054e-01,\n          -1.5303e-01, -1.9283e-01, -9.3864e-02,  1.8253e-01, -5.2783e-02,\n           1.9063e-01,  1.7538e-01,  1.4615e-01,  2.7635e-01,  3.0392e-02,\n          -1.1987e-01,  1.3563e-01, -1.4109e-01,  1.1014e-01, -3.6118e-02,\n          -2.8444e-02,  9.6152e-03,  3.4464e-01,  1.3462e-01,  1.8494e-01,\n           1.1115e-01,  1.4888e-01, -2.0069e-01,  4.4674e-02,  1.7629e-01,\n          -6.9695e-02,  1.2469e-01,  2.8293e-01, -1.3787e-01,  1.5134e-02,\n          -8.7180e-02, -9.0241e-02,  2.6230e-02, -9.3561e-04, -1.7448e-01,\n           2.7084e-01,  6.1264e-02, -2.5961e-01,  2.1043e-01,  1.3239e-01,\n          -3.8814e-02, -5.5435e-02, -1.7536e-01],\n         [-1.0303e-02,  9.1616e-02, -1.4663e-01,  2.2150e-01,  3.2952e-01,\n          -8.9413e-02, -1.4745e-01,  4.5138e-04,  3.5041e-02, -1.5834e-01,\n           1.1790e-01,  1.6218e-01, -1.6975e-01,  7.6188e-02,  3.8596e-01,\n           3.4424e-02,  5.0560e-02,  1.9412e-01, -3.1048e-01, -2.0624e-01,\n           3.6605e-01, -1.2375e-01, -1.2898e-01, -8.5738e-02, -3.0400e-02,\n          -1.9623e-01, -2.4333e-01,  5.2267e-01,  1.4004e-03, -8.0987e-02,\n           1.7520e-01, -4.0786e-02,  4.9266e-01,  9.6615e-02,  9.6596e-02,\n          -4.1460e-01,  1.5458e-02,  1.2168e-01, -3.2346e-02, -1.5593e-01,\n          -1.8540e-01, -1.9390e-01, -4.0398e-02,  2.5031e-01, -8.1844e-02,\n           1.0154e-01, -2.9919e-01,  2.0098e-03, -3.4106e-02, -2.4720e-01,\n          -1.5098e-01, -1.7217e-01, -1.2080e-01,  1.4270e-01, -6.5229e-02,\n           5.7582e-02,  1.2972e-01,  1.6611e-01,  2.0962e-01, -4.0638e-02,\n          -1.3139e-01,  1.9678e-01, -1.9068e-01,  1.2397e-01, -6.2383e-02,\n          -1.1363e-01, -3.8347e-02,  3.5805e-01,  1.7645e-01,  2.0871e-01,\n           8.7645e-02,  1.7765e-01, -1.9346e-01, -2.1658e-02,  2.0191e-01,\n          -9.1336e-02,  1.7696e-01,  2.2634e-01, -2.1462e-01,  2.6890e-02,\n           3.6505e-03, -1.7247e-01,  8.4762e-02,  4.4178e-02, -2.0977e-01,\n           2.0310e-01,  1.1066e-01, -1.9759e-01,  2.6638e-01,  1.0642e-01,\n           3.7143e-02, -1.1147e-01, -1.6778e-01],\n         [ 5.1424e-02, -1.1553e-01,  4.4649e-02,  6.0563e-02,  7.6862e-02,\n          -1.2700e-01, -1.3470e-01,  6.1622e-02,  5.2081e-02,  9.5897e-02,\n          -5.6516e-02, -1.1554e-01, -6.0649e-02,  1.1091e-02,  2.4680e-01,\n          -2.8821e-02, -2.7735e-02,  1.8373e-01, -2.6550e-01,  5.8368e-02,\n           1.5909e-01,  1.4307e-01, -2.2727e-01, -8.0599e-02,  9.9971e-02,\n          -1.5305e-01, -1.7422e-01,  3.0879e-01, -7.0362e-02,  5.2874e-02,\n          -1.0593e-01, -8.7571e-02,  4.3784e-01, -4.4900e-02, -6.1569e-02,\n          -3.1502e-01, -1.1124e-01,  2.0862e-01, -5.6366e-02, -3.4172e-02,\n          -1.3194e-01,  1.4593e-02,  1.6568e-02,  1.0919e-01, -4.3642e-02,\n           8.8316e-02, -1.2436e-01,  2.3352e-01, -1.3360e-01, -1.0204e-01,\n          -1.2237e-01,  3.5979e-02, -9.4145e-02,  1.7483e-02,  1.3491e-01,\n          -5.3220e-02,  3.8359e-02, -3.1087e-02, -4.6278e-02,  1.7433e-01,\n          -1.3840e-02,  1.3504e-01, -1.8117e-01, -1.6263e-02, -1.3263e-01,\n          -2.6508e-01,  1.9281e-01,  1.7762e-01,  2.7355e-02,  3.5553e-03,\n          -1.8001e-02, -1.8841e-02,  2.3498e-02,  3.9207e-02, -1.4456e-02,\n           1.0416e-01, -2.1249e-02,  1.9201e-02, -1.3652e-01,  2.5147e-01,\n          -1.5501e-01, -5.5752e-02,  1.0832e-02,  8.2025e-02, -1.1983e-01,\n           7.1286e-02,  1.4933e-01,  7.7845e-02,  1.9128e-01, -6.6375e-02,\n           3.0677e-02, -1.6856e-01,  7.3338e-02],\n         [-6.4833e-02,  1.1519e-01, -1.1088e-01,  3.9234e-01,  2.3891e-01,\n          -1.3438e-01, -1.0071e-01,  6.6320e-02,  1.0718e-01, -2.5733e-01,\n           2.5578e-02,  1.2756e-01, -2.0269e-01,  6.4456e-02,  4.9995e-01,\n           8.2284e-02,  1.3256e-01,  1.9756e-01, -2.7539e-01, -2.0738e-01,\n           3.4296e-01, -6.8256e-02, -9.0271e-02, -7.0052e-02, -7.0922e-02,\n          -1.5181e-01, -2.7014e-01,  3.5498e-01,  8.1367e-02, -1.6561e-01,\n           2.6520e-01, -4.1944e-02,  4.3866e-01,  1.0418e-01,  3.3944e-02,\n          -4.4114e-01, -5.0079e-02,  5.4904e-02, -1.2088e-01, -2.3595e-01,\n          -2.1153e-01, -1.6051e-01, -9.2961e-02,  1.5995e-01,  9.6888e-02,\n           1.1021e-01, -1.3924e-01,  4.8943e-03, -9.9944e-02, -2.1710e-01,\n          -2.2737e-01, -1.7997e-01, -1.2406e-01,  1.3460e-01, -8.9578e-03,\n           1.2052e-01,  1.6675e-01,  1.4506e-01,  2.0632e-01,  2.3280e-02,\n          -7.2870e-02,  1.2403e-01, -1.9491e-01,  1.0463e-01, -1.7119e-01,\n           5.1752e-02, -2.2611e-02,  3.8737e-01,  1.4702e-01,  1.5922e-01,\n           5.8682e-02,  1.4436e-01, -1.4581e-01, -3.5784e-02,  2.2319e-01,\n          -1.4207e-01,  1.8730e-01,  2.5281e-01, -1.2145e-01, -1.0092e-02,\n          -1.2300e-01, -5.6106e-02, -6.4212e-02,  4.4347e-02, -2.0998e-01,\n           2.2509e-01,  1.5088e-02, -2.6902e-01,  2.2413e-01,  6.8654e-02,\n           5.1019e-02, -8.2933e-02, -9.6894e-02],\n         [ 3.9731e-02, -9.0311e-02,  4.8020e-02,  4.8538e-02,  1.0031e-01,\n          -1.8787e-01, -1.1822e-01,  6.1802e-02,  1.5013e-01,  1.6075e-01,\n          -8.1250e-02, -5.3469e-02, -9.8979e-02,  1.0300e-01,  1.8375e-01,\n          -1.3719e-01, -1.2432e-01,  1.7190e-01, -2.9959e-01, -3.1057e-03,\n           1.3230e-01,  8.5854e-02, -1.8559e-01, -7.7132e-02,  1.9013e-02,\n          -2.1134e-01, -1.0663e-01,  2.5162e-01, -6.1895e-02,  7.5741e-02,\n          -1.3361e-01, -7.9628e-02,  4.2205e-01, -1.6318e-02, -3.9966e-02,\n          -3.1204e-01, -1.3084e-01,  1.9550e-01,  4.0288e-02, -8.9720e-02,\n          -9.2525e-02,  1.2487e-01, -4.2981e-04,  1.2258e-01, -5.5923e-02,\n           1.4715e-01, -6.1689e-02,  3.5363e-01, -1.3645e-01, -1.0023e-01,\n          -1.3505e-01, -3.8053e-02, -5.1569e-02, -4.3881e-02,  1.2788e-01,\n          -8.3939e-02,  2.3799e-02, -7.9177e-02,  2.2451e-02,  1.7748e-01,\n           1.4410e-03,  7.9135e-02, -1.5535e-01,  7.3242e-02, -8.0354e-02,\n          -2.4892e-01,  1.3933e-01,  1.6952e-01, -4.0517e-02, -1.1177e-02,\n           5.4280e-02,  6.9674e-03, -1.2028e-01, -3.8254e-02,  5.6589e-02,\n           1.4444e-02, -3.9343e-02, -4.7461e-02, -2.1704e-01,  1.6675e-01,\n          -2.0199e-01, -1.0093e-01,  1.4714e-01,  9.2932e-02, -1.0099e-01,\n           1.0542e-01,  2.0959e-02,  8.2171e-02,  1.8545e-01,  2.5372e-02,\n           2.1348e-02, -1.6956e-01,  4.3279e-02],\n         [ 1.6912e-02,  1.2815e-01, -9.9325e-02,  2.8137e-01,  5.6524e-01,\n          -6.9117e-02, -1.9028e-01, -2.0975e-02,  9.1925e-02, -1.9740e-01,\n           7.3509e-02,  2.5740e-01, -1.9004e-01,  5.4435e-02,  4.6772e-01,\n          -3.9995e-02,  1.3644e-01,  2.6826e-01, -2.8249e-01, -2.0164e-01,\n           1.7138e-01, -1.0988e-01, -1.0722e-01, -1.7105e-01, -1.4259e-01,\n          -2.3043e-01, -1.5417e-01,  4.6477e-01,  1.1083e-01, -1.5355e-01,\n           1.9115e-01,  1.8114e-02,  4.7850e-01,  1.2817e-01,  5.2016e-02,\n          -4.0484e-01, -7.6536e-03, -1.9110e-02, -2.5957e-02, -1.1122e-01,\n          -1.3347e-01, -1.8394e-01, -1.0709e-01,  3.8476e-02, -1.0214e-01,\n           1.3000e-01, -2.5093e-01,  6.6880e-02, -2.7956e-02, -2.6637e-01,\n          -1.7037e-01, -2.1083e-01, -1.1812e-01,  3.5036e-02,  5.0310e-02,\n           1.5206e-01,  4.8241e-02,  4.4221e-02,  1.8986e-01,  6.2163e-02,\n          -4.5424e-02,  1.9133e-01, -1.8841e-01,  1.2149e-01, -1.0354e-01,\n           6.6736e-02,  1.7898e-02,  4.2211e-01, -3.8671e-02,  1.9481e-01,\n          -1.3062e-02,  6.9079e-02, -1.9396e-01,  8.4746e-03,  1.8650e-01,\n          -2.1833e-01,  3.4654e-01,  1.7254e-01, -3.3851e-01,  5.1902e-02,\n          -7.6666e-02, -1.5863e-01,  4.5126e-02,  1.1632e-01, -1.5147e-01,\n           2.7343e-01,  6.9236e-02, -2.4434e-01,  1.6180e-01,  1.6010e-01,\n           1.1511e-01, -1.4224e-01, -1.5191e-01],\n         [ 2.3165e-02, -2.2353e-02,  3.5380e-02,  1.1636e-01,  1.3746e-01,\n           2.0594e-04, -2.2337e-01,  3.7872e-02,  6.9882e-03,  2.7999e-01,\n          -1.1416e-01, -2.0447e-01, -1.6948e-01, -3.5435e-02,  2.1051e-01,\n          -9.9621e-02, -9.2937e-02,  1.5229e-02, -1.4603e-01,  1.2450e-01,\n          -1.0258e-02,  1.0132e-01, -1.9464e-01, -6.7334e-02,  1.4063e-01,\n          -2.6261e-01, -2.3206e-01,  2.2985e-01, -1.4419e-01,  5.0921e-02,\n          -4.1847e-02, -4.0407e-02,  4.4891e-01, -1.9293e-01, -9.6233e-02,\n          -2.6665e-01, -1.1437e-01,  1.3923e-01, -5.2098e-02, -4.3406e-02,\n          -3.5584e-02, -5.6338e-02,  1.1573e-01,  1.2799e-01, -7.9280e-02,\n           1.0578e-01, -1.8412e-01,  2.7493e-01, -1.6217e-01, -9.6922e-02,\n          -1.2841e-01,  2.8733e-02, -1.2426e-01, -7.9748e-02, -7.0853e-02,\n          -3.1555e-02, -1.8925e-02, -1.0190e-01,  3.0410e-03,  1.8308e-02,\n           1.3113e-02,  2.2740e-02, -1.5939e-01,  6.5057e-02, -1.7037e-01,\n          -2.2192e-01,  2.4044e-01,  1.1158e-01, -3.4089e-02,  1.5825e-01,\n           8.5530e-02,  1.8878e-02, -2.9608e-02,  5.5571e-02,  4.9973e-02,\n           2.3716e-01,  1.4662e-01,  4.0512e-03, -1.0484e-01,  1.4834e-01,\n          -1.6985e-01,  7.9843e-02,  3.4318e-02,  1.4940e-01,  1.6522e-02,\n           3.3099e-03,  2.2654e-01,  2.8429e-02,  1.9562e-01, -8.1865e-02,\n           8.9531e-03, -1.0063e-01,  4.7463e-03]], grad_fn=<IndexPutBackward0>)]"
     },
     "execution_count": 15,
     "metadata": {},
     "output_type": "execute_result"
    }
   ],
   "source": [
    "out_list"
   ],
   "metadata": {
    "collapsed": false,
    "ExecuteTime": {
     "start_time": "2024-03-23T14:19:16.516455Z",
     "end_time": "2024-03-23T14:19:16.655322Z"
    }
   }
  },
  {
   "cell_type": "markdown",
   "id": "4e024847-717f-4fac-bace-f9ee10ccf416",
   "metadata": {},
   "source": [
    "## Compare batches"
   ]
  },
  {
   "cell_type": "code",
   "execution_count": 16,
   "outputs": [
    {
     "data": {
      "text/plain": "array([[ True, False, False, False],\n       [False,  True,  True, False],\n       [False,  True,  True, False],\n       [False, False, False,  True]])"
     },
     "metadata": {},
     "output_type": "display_data"
    }
   ],
   "source": [
    "# compare output\n",
    "display(np.array(\n",
    "    [\n",
    "        [\n",
    "            (out_list[i] == out_list[j]).all()\n",
    "            for j in range(len(out_list))\n",
    "        ]\n",
    "        for i in range(len(out_list))\n",
    "    ]\n",
    "))"
   ],
   "metadata": {
    "collapsed": false,
    "ExecuteTime": {
     "start_time": "2024-03-23T14:19:16.547597Z",
     "end_time": "2024-03-23T14:19:16.655322Z"
    }
   }
  },
  {
   "cell_type": "code",
   "execution_count": 17,
   "outputs": [
    {
     "data": {
      "text/plain": "array([[ True, False, False, False],\n       [False,  True,  True, False],\n       [False,  True,  True, False],\n       [False, False, False,  True]])"
     },
     "metadata": {},
     "output_type": "display_data"
    }
   ],
   "source": [
    "# compare sum pooled version itself\n",
    "display(np.array(\n",
    "    [\n",
    "        [\n",
    "            out_list[i].sum().item() - out_list[j].sum().item()\n",
    "            for j in range(len(out_list))\n",
    "        ]\n",
    "        for i in range(len(out_list))\n",
    "    ]\n",
    ") == 0)"
   ],
   "metadata": {
    "collapsed": false,
    "ExecuteTime": {
     "start_time": "2024-03-23T14:19:16.563596Z",
     "end_time": "2024-03-23T14:19:16.655322Z"
    }
   }
  },
  {
   "cell_type": "code",
   "execution_count": 18,
   "outputs": [
    {
     "data": {
      "text/plain": "array([[ 0.        , 43.5632    , 43.5632    , 43.56569   ],\n       [43.5632    ,  0.        ,  0.        ,  0.41736555],\n       [43.5632    ,  0.        ,  0.        ,  0.41736555],\n       [43.56569   ,  0.41736555,  0.41736555,  0.        ]],\n      dtype=float32)"
     },
     "metadata": {},
     "output_type": "display_data"
    }
   ],
   "source": [
    "# compare output\n",
    "display(np.array(\n",
    "    [\n",
    "        [\n",
    "            (out_list[i] - out_list[j]).detach().abs().sum()\n",
    "            for j in range(len(out_list))\n",
    "        ]\n",
    "        for i in range(len(out_list))\n",
    "    ]\n",
    "))"
   ],
   "metadata": {
    "collapsed": false,
    "ExecuteTime": {
     "start_time": "2024-03-23T14:19:16.579641Z",
     "end_time": "2024-03-23T14:19:16.711794Z"
    }
   }
  }
 ],
 "metadata": {
  "kernelspec": {
   "display_name": "Python 3 (ipykernel)",
   "language": "python",
   "name": "python3"
  },
  "language_info": {
   "codemirror_mode": {
    "name": "ipython",
    "version": 3
   },
   "file_extension": ".py",
   "mimetype": "text/x-python",
   "name": "python",
   "nbconvert_exporter": "python",
   "pygments_lexer": "ipython3",
   "version": "3.9.16"
  }
 },
 "nbformat": 4,
 "nbformat_minor": 5
}
