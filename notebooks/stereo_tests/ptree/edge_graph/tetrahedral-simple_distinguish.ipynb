{
 "cells": [
  {
   "cell_type": "markdown",
   "id": "cce7ba2e-6183-4900-9e1c-608c46435893",
   "metadata": {},
   "source": [
    "# Stereoisomer testing on ptree - enantiomers"
   ]
  },
  {
   "cell_type": "markdown",
   "id": "cd5b739d-220a-4c13-9ce0-a3933e034d4d",
   "metadata": {},
   "source": [
    "## Importing section"
   ]
  },
  {
   "cell_type": "code",
   "execution_count": 1,
   "outputs": [],
   "source": [
    "import numpy as np\n",
    "from rdkit import Chem\n",
    "from rdkit.Chem import AllChem\n",
    "import sys\n",
    "\n",
    "sys.path.append(\"../../../../\")\n",
    "\n",
    "from ptgnn.features.chienn.molecule3d import smiles_to_3d_mol\n",
    "from ptgnn.features.chienn.mol_to_data import mol_to_data\n",
    "from ptgnn.transform import edge_graph_transform, vertex_graph_transform\n",
    "from ptgnn.model.modules.ptree.complex_ptree_layer import ComplexPtreeLayer"
   ],
   "metadata": {
    "collapsed": false,
    "ExecuteTime": {
     "start_time": "2024-03-21T19:51:04.113543Z",
     "end_time": "2024-03-21T19:51:05.851256Z"
    }
   }
  },
  {
   "cell_type": "markdown",
   "id": "4ce50022-5637-4a30-b409-1e45a433f047",
   "metadata": {},
   "source": [
    "## Define SMILES strings"
   ]
  },
  {
   "cell_type": "code",
   "execution_count": 2,
   "id": "fe716171-6aec-40ab-a31a-1fb0bd635c46",
   "metadata": {
    "tags": [],
    "ExecuteTime": {
     "start_time": "2024-03-21T19:51:05.852256Z",
     "end_time": "2024-03-21T19:51:05.866723Z"
    }
   },
   "outputs": [],
   "source": [
    "smiles_list = [\n",
    "    \"C(Br)(Cl)F\",\n",
    "    \"[C@H](Br)(Cl)F\",\n",
    "    \"[C@H](Br)(Cl)F\",\n",
    "    \"[C@@H](Br)(Cl)F\",\n",
    "]"
   ]
  },
  {
   "cell_type": "markdown",
   "id": "1663655e-0dd3-492e-b007-344f18fffb87",
   "metadata": {},
   "source": [
    "## Visualize and confirm stereomer classification (E/Z)"
   ]
  },
  {
   "cell_type": "code",
   "execution_count": 3,
   "id": "13fe0401-cc1a-424a-80c2-df1760e4df84",
   "metadata": {
    "tags": [],
    "ExecuteTime": {
     "start_time": "2024-03-21T19:51:05.868722Z",
     "end_time": "2024-03-21T19:51:05.907723Z"
    }
   },
   "outputs": [],
   "source": [
    "def showAndChiral(smiles):\n",
    "    mol = Chem.MolFromSmiles(smiles)\n",
    "    display(mol)\n",
    "    print(AllChem.FindMolChiralCenters(mol, includeUnassigned=True))\n",
    "    for bond in mol.GetBonds():\n",
    "        if bond.GetBondType() == Chem.rdchem.BondType.DOUBLE:\n",
    "            print(\"Bond\", bond.GetIdx(), \"stereo:\", bond.GetStereo())"
   ]
  },
  {
   "cell_type": "code",
   "execution_count": 4,
   "id": "f54309f1-465b-4834-aeda-cdc857767776",
   "metadata": {
    "tags": [],
    "ExecuteTime": {
     "start_time": "2024-03-21T19:51:05.883722Z",
     "end_time": "2024-03-21T19:51:05.914725Z"
    }
   },
   "outputs": [
    {
     "data": {
      "text/plain": "<rdkit.Chem.rdchem.Mol at 0x173528df890>",
      "image/png": "[encoded data removed]"
     },
     "metadata": {},
     "output_type": "display_data"
    },
    {
     "name": "stdout",
     "output_type": "stream",
     "text": [
      "[(0, '?')]\n"
     ]
    },
    {
     "data": {
      "text/plain": "<rdkit.Chem.rdchem.Mol at 0x173528df890>",
      "image/png": "[encoded data removed]"
     },
     "metadata": {},
     "output_type": "display_data"
    },
    {
     "name": "stdout",
     "output_type": "stream",
     "text": [
      "[(0, 'R')]\n"
     ]
    },
    {
     "data": {
      "text/plain": "<rdkit.Chem.rdchem.Mol at 0x173528df890>",
      "image/png": "[encoded data removed]"
     },
     "metadata": {},
     "output_type": "display_data"
    },
    {
     "name": "stdout",
     "output_type": "stream",
     "text": [
      "[(0, 'R')]\n"
     ]
    },
    {
     "data": {
      "text/plain": "<rdkit.Chem.rdchem.Mol at 0x173528df890>",
      "image/png": "[encoded data removed]"
     },
     "metadata": {},
     "output_type": "display_data"
    },
    {
     "name": "stdout",
     "output_type": "stream",
     "text": [
      "[(0, 'S')]\n"
     ]
    }
   ],
   "source": [
    "for smile in smiles_list:\n",
    "    showAndChiral(smile)"
   ]
  },
  {
   "cell_type": "markdown",
   "id": "910c1424-4c1d-4421-ad82-628ccf16464e",
   "metadata": {},
   "source": [
    "##  Convert to (edge) graph with ptree"
   ]
  },
  {
   "cell_type": "code",
   "execution_count": 5,
   "outputs": [],
   "source": [
    "# get molecules\n",
    "mol_list = [\n",
    "    smiles_to_3d_mol(\n",
    "        smiles,\n",
    "        max_number_of_attempts=100,\n",
    "        max_number_of_atoms=100\n",
    "    )\n",
    "    for smiles in smiles_list\n",
    "]"
   ],
   "metadata": {
    "collapsed": false,
    "ExecuteTime": {
     "start_time": "2024-03-21T19:51:05.915725Z",
     "end_time": "2024-03-21T19:51:06.008723Z"
    }
   }
  },
  {
   "cell_type": "code",
   "execution_count": 6,
   "outputs": [],
   "source": [
    "data_list = [\n",
    "    mol_to_data(mol)\n",
    "    for mol in mol_list\n",
    "]"
   ],
   "metadata": {
    "collapsed": false,
    "ExecuteTime": {
     "start_time": "2024-03-21T19:51:05.930725Z",
     "end_time": "2024-03-21T19:51:06.019724Z"
    }
   }
  },
  {
   "cell_type": "code",
   "execution_count": 7,
   "outputs": [],
   "source": [
    "data_list = [\n",
    "    edge_graph_transform(\n",
    "        data,\n",
    "        transformation_mode=\"permutation_tree\",\n",
    "        mol=mol,\n",
    "        transformation_parameters={\n",
    "            'k':  3,\n",
    "            'tetrahedral_chiral': True,\n",
    "            'chiral_center_selective': True,\n",
    "            'chiral_center_select_potential': False,\n",
    "        }\n",
    "    )\n",
    "    for data, mol in zip(data_list, mol_list)\n",
    "]"
   ],
   "metadata": {
    "collapsed": false,
    "ExecuteTime": {
     "start_time": "2024-03-21T19:51:05.947726Z",
     "end_time": "2024-03-21T19:51:06.019724Z"
    }
   }
  },
  {
   "cell_type": "code",
   "execution_count": 8,
   "outputs": [
    {
     "data": {
      "text/plain": "['{\"S\": [0, 1]}',\n '{\"S\": [1, 0, {\"P\": [3, 7, 5]}]}',\n '{\"S\": [2, 3, {\"P\": [0, 5, 7]}]}',\n '{\"S\": [3, 2]}',\n '{\"S\": [4, 5, {\"P\": [0, 7, 3]}]}',\n '{\"S\": [5, 4]}',\n '{\"S\": [6, 7, {\"P\": [0, 3, 5]}]}',\n '{\"S\": [7, 6]}']"
     },
     "metadata": {},
     "output_type": "display_data"
    },
    {
     "data": {
      "text/plain": "tensor([0, 1, 1, 0, 3, 7, 5, 2, 3, 0, 5, 7, 3, 2, 4, 5, 0, 7, 3, 5, 4, 6, 7, 0,\n        3, 5, 7, 6])"
     },
     "metadata": {},
     "output_type": "display_data"
    },
    {
     "data": {
      "text/plain": "'layer: 0'"
     },
     "metadata": {},
     "output_type": "display_data"
    },
    {
     "data": {
      "text/plain": "[[tensor([[ 0,  1,  2,  3,  4,  5,  6,  7,  8,  9, 10, 11, 12, 13, 14, 15, 16, 17,\n           18, 19, 20, 21, 22, 23, 24, 25, 26, 27],\n          [-1, -1, -1, -1, -1, -1, -1, -1, -1, -1, -1, -1, -1, -1, -1, -1, -1, -1,\n           -1, -1, -1, -1, -1, -1, -1, -1, -1, -1],\n          [-1, -1, -1, -1, -1, -1, -1, -1, -1, -1, -1, -1, -1, -1, -1, -1, -1, -1,\n           -1, -1, -1, -1, -1, -1, -1, -1, -1, -1]], dtype=torch.int32)]]"
     },
     "metadata": {},
     "output_type": "display_data"
    },
    {
     "data": {
      "text/plain": "[[tensor([0, 0, 0, 0, 1, 1, 1, 0, 0, 1, 1, 1, 0, 0, 0, 0, 1, 1, 1, 0, 0, 0, 0, 1,\n          1, 1, 0, 0])]]"
     },
     "metadata": {},
     "output_type": "display_data"
    },
    {
     "data": {
      "text/plain": "[[tensor([ 0,  1,  2,  3,  4,  4,  4,  5,  6,  7,  7,  7,  8,  9, 10, 11, 12, 12,\n          12, 13, 14, 15, 16, 17, 17, 17, 18, 19])]]"
     },
     "metadata": {},
     "output_type": "display_data"
    },
    {
     "data": {
      "text/plain": "'layer: 1'"
     },
     "metadata": {},
     "output_type": "display_data"
    },
    {
     "data": {
      "text/plain": "[[tensor([[ 0, -1,  2, -1, -1,  5, -1, -1,  8, -1, 10, -1, -1, 13, -1, 15, -1, -1,\n           18, -1],\n          [ 1, -1,  3, -1, -1,  6, -1, -1,  9, -1, 11, -1, -1, 14, -1, 16, -1, -1,\n           19, -1],\n          [-1, -1,  4, -1, -1,  7, -1, -1, -1, -1, 12, -1, -1, -1, -1, 17, -1, -1,\n           -1, -1]], dtype=torch.int32)]]"
     },
     "metadata": {},
     "output_type": "display_data"
    },
    {
     "data": {
      "text/plain": "[[tensor([3, 3, 3, 3, 3, 3, 3, 3, 3, 3, 3, 3, 3, 3, 3, 3, 3, 3, 3, 3])]]"
     },
     "metadata": {},
     "output_type": "display_data"
    },
    {
     "data": {
      "text/plain": "[[tensor([0, 0, 1, 1, 1, 2, 2, 2, 3, 3, 4, 4, 4, 5, 5, 6, 6, 6, 7, 7])]]"
     },
     "metadata": {},
     "output_type": "display_data"
    }
   ],
   "source": [
    "d = data_list[0]\n",
    "display(d.ptree, d.initial_map)\n",
    "for i in range(d.num_layer):\n",
    "    display(f\"layer: {i}\")\n",
    "    display(d[f\"layer{i}_order_matrix\"], d[f\"layer{i}_type_mask\"], d[f\"layer{i}_pooling\"])"
   ],
   "metadata": {
    "collapsed": false,
    "ExecuteTime": {
     "start_time": "2024-03-21T19:51:05.979726Z",
     "end_time": "2024-03-21T19:51:06.020724Z"
    }
   }
  },
  {
   "cell_type": "code",
   "execution_count": 9,
   "outputs": [
    {
     "name": "stdout",
     "output_type": "stream",
     "text": [
      "Data(x=[8, 93], edge_index=[2, 20], edge_attr=[20, 57], pos=[8, 6], parallel_node_index=[8], circle_index=[8], ptree=[8], initial_map=[28], layer0_order_matrix=[1], layer0_type_mask=[1], layer0_pooling=[1], num_layer=2, layer1_order_matrix=[1], layer1_type_mask=[1], layer1_pooling=[1])\n",
      "['{\"S\": [0, 1]}', '{\"S\": [1, 0, {\"P\": [3, 7, 5]}]}', '{\"S\": [2, 3, {\"P\": [0, 5, 7]}]}', '{\"S\": [3, 2]}', '{\"S\": [4, 5, {\"P\": [0, 7, 3]}]}', '{\"S\": [5, 4]}', '{\"S\": [6, 7, {\"P\": [0, 3, 5]}]}', '{\"S\": [7, 6]}']\n",
      "Data(x=[8, 93], edge_index=[2, 20], edge_attr=[20, 57], pos=[8, 6], parallel_node_index=[8], circle_index=[8], ptree=[8], initial_map=[28], layer0_order_matrix=[1], layer0_type_mask=[1], layer0_pooling=[1], num_layer=2, layer1_order_matrix=[1], layer1_type_mask=[1], layer1_pooling=[1])\n",
      "['{\"S\": [0, 1]}', '{\"S\": [1, 0, {\"Z\": [3, 7, 5]}]}', '{\"S\": [2, 3, {\"Z\": [0, 5, 7]}]}', '{\"S\": [3, 2]}', '{\"S\": [4, 5, {\"Z\": [0, 7, 3]}]}', '{\"S\": [5, 4]}', '{\"S\": [6, 7, {\"Z\": [0, 3, 5]}]}', '{\"S\": [7, 6]}']\n",
      "Data(x=[8, 93], edge_index=[2, 20], edge_attr=[20, 57], pos=[8, 6], parallel_node_index=[8], circle_index=[8], ptree=[8], initial_map=[28], layer0_order_matrix=[1], layer0_type_mask=[1], layer0_pooling=[1], num_layer=2, layer1_order_matrix=[1], layer1_type_mask=[1], layer1_pooling=[1])\n",
      "['{\"S\": [0, 1]}', '{\"S\": [1, 0, {\"Z\": [3, 7, 5]}]}', '{\"S\": [2, 3, {\"Z\": [0, 5, 7]}]}', '{\"S\": [3, 2]}', '{\"S\": [4, 5, {\"Z\": [0, 7, 3]}]}', '{\"S\": [5, 4]}', '{\"S\": [6, 7, {\"Z\": [0, 3, 5]}]}', '{\"S\": [7, 6]}']\n",
      "Data(x=[8, 93], edge_index=[2, 20], edge_attr=[20, 57], pos=[8, 6], parallel_node_index=[8], circle_index=[8], ptree=[8], initial_map=[28], layer0_order_matrix=[1], layer0_type_mask=[1], layer0_pooling=[1], num_layer=2, layer1_order_matrix=[1], layer1_type_mask=[1], layer1_pooling=[1])\n",
      "['{\"S\": [0, 1]}', '{\"S\": [1, 0, {\"Z\": [3, 5, 7]}]}', '{\"S\": [2, 3, {\"Z\": [0, 7, 5]}]}', '{\"S\": [3, 2]}', '{\"S\": [4, 5, {\"Z\": [0, 3, 7]}]}', '{\"S\": [5, 4]}', '{\"S\": [6, 7, {\"Z\": [0, 5, 3]}]}', '{\"S\": [7, 6]}']\n"
     ]
    }
   ],
   "source": [
    "for data in data_list:\n",
    "    print(data)\n",
    "    print(data.ptree)"
   ],
   "metadata": {
    "collapsed": false,
    "ExecuteTime": {
     "start_time": "2024-03-21T19:51:05.995723Z",
     "end_time": "2024-03-21T19:51:06.020724Z"
    }
   }
  },
  {
   "cell_type": "markdown",
   "id": "c4c65150-2907-4220-baf9-2d95f5a44656",
   "metadata": {},
   "source": [
    "## Create Model"
   ]
  },
  {
   "cell_type": "code",
   "execution_count": 10,
   "outputs": [],
   "source": [
    "from ptgnn.model.modules.ptree.advanced_tree_layer import AdvancedPermutationTreeLayer\n",
    "\n",
    "k = 3\n",
    "\n",
    "model = AdvancedPermutationTreeLayer(\n",
    "    hidden_dim=93,\n",
    "    k=k\n",
    ")"
   ],
   "metadata": {
    "collapsed": false,
    "ExecuteTime": {
     "start_time": "2024-03-21T19:51:06.012727Z",
     "end_time": "2024-03-21T19:51:06.027724Z"
    }
   }
  },
  {
   "cell_type": "markdown",
   "id": "8d7bb4a1-a7fd-47b8-ae93-b12fe24ee239",
   "metadata": {},
   "source": [
    "## Create batches"
   ]
  },
  {
   "cell_type": "code",
   "execution_count": 11,
   "outputs": [],
   "source": [
    "from ptgnn.loading.collate import permutation_tree_collation\n",
    "\n",
    "batch_list = [\n",
    "    permutation_tree_collation([data])\n",
    "    for data in data_list\n",
    "]"
   ],
   "metadata": {
    "collapsed": false,
    "ExecuteTime": {
     "start_time": "2024-03-21T19:51:06.027724Z",
     "end_time": "2024-03-21T19:51:06.086725Z"
    }
   }
  },
  {
   "cell_type": "code",
   "execution_count": 12,
   "outputs": [
    {
     "data": {
      "text/plain": "'Batch: 0'"
     },
     "metadata": {},
     "output_type": "display_data"
    },
    {
     "data": {
      "text/plain": "['{\"S\": [0, 1]}',\n '{\"S\": [1, 0, {\"P\": [3, 7, 5]}]}',\n '{\"S\": [2, 3, {\"P\": [0, 5, 7]}]}',\n '{\"S\": [3, 2]}',\n '{\"S\": [4, 5, {\"P\": [0, 7, 3]}]}',\n '{\"S\": [5, 4]}',\n '{\"S\": [6, 7, {\"P\": [0, 3, 5]}]}',\n '{\"S\": [7, 6]}']"
     },
     "metadata": {},
     "output_type": "display_data"
    },
    {
     "data": {
      "text/plain": "tensor([0, 1, 1, 0, 3, 7, 5, 2, 3, 0, 5, 7, 3, 2, 4, 5, 0, 7, 3, 5, 4, 6, 7, 0,\n        3, 5, 7, 6])"
     },
     "metadata": {},
     "output_type": "display_data"
    },
    {
     "data": {
      "text/plain": "'Layer: 0'"
     },
     "metadata": {},
     "output_type": "display_data"
    },
    {
     "data": {
      "text/plain": "tensor([[ 0,  1,  2,  3,  4,  5,  6,  7,  8,  9, 10, 11, 12, 13, 14, 15, 16, 17,\n         18, 19, 20, 21, 22, 23, 24, 25, 26, 27],\n        [-1, -1, -1, -1, -1, -1, -1, -1, -1, -1, -1, -1, -1, -1, -1, -1, -1, -1,\n         -1, -1, -1, -1, -1, -1, -1, -1, -1, -1],\n        [-1, -1, -1, -1, -1, -1, -1, -1, -1, -1, -1, -1, -1, -1, -1, -1, -1, -1,\n         -1, -1, -1, -1, -1, -1, -1, -1, -1, -1]], dtype=torch.int32)"
     },
     "metadata": {},
     "output_type": "display_data"
    },
    {
     "data": {
      "text/plain": "tensor([0, 0, 0, 0, 1, 1, 1, 0, 0, 1, 1, 1, 0, 0, 0, 0, 1, 1, 1, 0, 0, 0, 0, 1,\n        1, 1, 0, 0])"
     },
     "metadata": {},
     "output_type": "display_data"
    },
    {
     "data": {
      "text/plain": "tensor([ 0,  1,  2,  3,  4,  4,  4,  5,  6,  7,  7,  7,  8,  9, 10, 11, 12, 12,\n        12, 13, 14, 15, 16, 17, 17, 17, 18, 19])"
     },
     "metadata": {},
     "output_type": "display_data"
    },
    {
     "data": {
      "text/plain": "'Layer: 1'"
     },
     "metadata": {},
     "output_type": "display_data"
    },
    {
     "data": {
      "text/plain": "tensor([[ 0, -1,  2, -1, -1,  5, -1, -1,  8, -1, 10, -1, -1, 13, -1, 15, -1, -1,\n         18, -1],\n        [ 1, -1,  3, -1, -1,  6, -1, -1,  9, -1, 11, -1, -1, 14, -1, 16, -1, -1,\n         19, -1],\n        [-1, -1,  4, -1, -1,  7, -1, -1, -1, -1, 12, -1, -1, -1, -1, 17, -1, -1,\n         -1, -1]], dtype=torch.int32)"
     },
     "metadata": {},
     "output_type": "display_data"
    },
    {
     "data": {
      "text/plain": "tensor([3, 3, 3, 3, 3, 3, 3, 3, 3, 3, 3, 3, 3, 3, 3, 3, 3, 3, 3, 3])"
     },
     "metadata": {},
     "output_type": "display_data"
    },
    {
     "data": {
      "text/plain": "tensor([0, 0, 1, 1, 1, 2, 2, 2, 3, 3, 4, 4, 4, 5, 5, 6, 6, 6, 7, 7])"
     },
     "metadata": {},
     "output_type": "display_data"
    },
    {
     "data": {
      "text/plain": "'Batch: 1'"
     },
     "metadata": {},
     "output_type": "display_data"
    },
    {
     "data": {
      "text/plain": "['{\"S\": [0, 1]}',\n '{\"S\": [1, 0, {\"Z\": [3, 7, 5]}]}',\n '{\"S\": [2, 3, {\"Z\": [0, 5, 7]}]}',\n '{\"S\": [3, 2]}',\n '{\"S\": [4, 5, {\"Z\": [0, 7, 3]}]}',\n '{\"S\": [5, 4]}',\n '{\"S\": [6, 7, {\"Z\": [0, 3, 5]}]}',\n '{\"S\": [7, 6]}']"
     },
     "metadata": {},
     "output_type": "display_data"
    },
    {
     "data": {
      "text/plain": "tensor([0, 1, 1, 0, 3, 7, 5, 2, 3, 0, 5, 7, 3, 2, 4, 5, 0, 7, 3, 5, 4, 6, 7, 0,\n        3, 5, 7, 6])"
     },
     "metadata": {},
     "output_type": "display_data"
    },
    {
     "data": {
      "text/plain": "'Layer: 0'"
     },
     "metadata": {},
     "output_type": "display_data"
    },
    {
     "data": {
      "text/plain": "tensor([[ 0,  1,  2,  3,  4,  5,  6,  7,  8,  9, 10, 11, 12, 13, 14, 15, 16, 17,\n         18, 19, 20, 21, 22, 23, 24, 25, 26, 27],\n        [-1, -1, -1, -1,  5,  6,  4, -1, -1, 10, 11,  9, -1, -1, -1, -1, 17, 18,\n         16, -1, -1, -1, -1, 24, 25, 23, -1, -1],\n        [-1, -1, -1, -1,  6,  4,  5, -1, -1, 11,  9, 10, -1, -1, -1, -1, 18, 16,\n         17, -1, -1, -1, -1, 25, 23, 24, -1, -1]], dtype=torch.int32)"
     },
     "metadata": {},
     "output_type": "display_data"
    },
    {
     "data": {
      "text/plain": "tensor([0, 0, 0, 0, 2, 2, 2, 0, 0, 2, 2, 2, 0, 0, 0, 0, 2, 2, 2, 0, 0, 0, 0, 2,\n        2, 2, 0, 0])"
     },
     "metadata": {},
     "output_type": "display_data"
    },
    {
     "data": {
      "text/plain": "tensor([ 0,  1,  2,  3,  4,  4,  4,  5,  6,  7,  7,  7,  8,  9, 10, 11, 12, 12,\n        12, 13, 14, 15, 16, 17, 17, 17, 18, 19])"
     },
     "metadata": {},
     "output_type": "display_data"
    },
    {
     "data": {
      "text/plain": "'Layer: 1'"
     },
     "metadata": {},
     "output_type": "display_data"
    },
    {
     "data": {
      "text/plain": "tensor([[ 0, -1,  2, -1, -1,  5, -1, -1,  8, -1, 10, -1, -1, 13, -1, 15, -1, -1,\n         18, -1],\n        [ 1, -1,  3, -1, -1,  6, -1, -1,  9, -1, 11, -1, -1, 14, -1, 16, -1, -1,\n         19, -1],\n        [-1, -1,  4, -1, -1,  7, -1, -1, -1, -1, 12, -1, -1, -1, -1, 17, -1, -1,\n         -1, -1]], dtype=torch.int32)"
     },
     "metadata": {},
     "output_type": "display_data"
    },
    {
     "data": {
      "text/plain": "tensor([3, 3, 3, 3, 3, 3, 3, 3, 3, 3, 3, 3, 3, 3, 3, 3, 3, 3, 3, 3])"
     },
     "metadata": {},
     "output_type": "display_data"
    },
    {
     "data": {
      "text/plain": "tensor([0, 0, 1, 1, 1, 2, 2, 2, 3, 3, 4, 4, 4, 5, 5, 6, 6, 6, 7, 7])"
     },
     "metadata": {},
     "output_type": "display_data"
    },
    {
     "data": {
      "text/plain": "'Batch: 2'"
     },
     "metadata": {},
     "output_type": "display_data"
    },
    {
     "data": {
      "text/plain": "['{\"S\": [0, 1]}',\n '{\"S\": [1, 0, {\"Z\": [3, 7, 5]}]}',\n '{\"S\": [2, 3, {\"Z\": [0, 5, 7]}]}',\n '{\"S\": [3, 2]}',\n '{\"S\": [4, 5, {\"Z\": [0, 7, 3]}]}',\n '{\"S\": [5, 4]}',\n '{\"S\": [6, 7, {\"Z\": [0, 3, 5]}]}',\n '{\"S\": [7, 6]}']"
     },
     "metadata": {},
     "output_type": "display_data"
    },
    {
     "data": {
      "text/plain": "tensor([0, 1, 1, 0, 3, 7, 5, 2, 3, 0, 5, 7, 3, 2, 4, 5, 0, 7, 3, 5, 4, 6, 7, 0,\n        3, 5, 7, 6])"
     },
     "metadata": {},
     "output_type": "display_data"
    },
    {
     "data": {
      "text/plain": "'Layer: 0'"
     },
     "metadata": {},
     "output_type": "display_data"
    },
    {
     "data": {
      "text/plain": "tensor([[ 0,  1,  2,  3,  4,  5,  6,  7,  8,  9, 10, 11, 12, 13, 14, 15, 16, 17,\n         18, 19, 20, 21, 22, 23, 24, 25, 26, 27],\n        [-1, -1, -1, -1,  5,  6,  4, -1, -1, 10, 11,  9, -1, -1, -1, -1, 17, 18,\n         16, -1, -1, -1, -1, 24, 25, 23, -1, -1],\n        [-1, -1, -1, -1,  6,  4,  5, -1, -1, 11,  9, 10, -1, -1, -1, -1, 18, 16,\n         17, -1, -1, -1, -1, 25, 23, 24, -1, -1]], dtype=torch.int32)"
     },
     "metadata": {},
     "output_type": "display_data"
    },
    {
     "data": {
      "text/plain": "tensor([0, 0, 0, 0, 2, 2, 2, 0, 0, 2, 2, 2, 0, 0, 0, 0, 2, 2, 2, 0, 0, 0, 0, 2,\n        2, 2, 0, 0])"
     },
     "metadata": {},
     "output_type": "display_data"
    },
    {
     "data": {
      "text/plain": "tensor([ 0,  1,  2,  3,  4,  4,  4,  5,  6,  7,  7,  7,  8,  9, 10, 11, 12, 12,\n        12, 13, 14, 15, 16, 17, 17, 17, 18, 19])"
     },
     "metadata": {},
     "output_type": "display_data"
    },
    {
     "data": {
      "text/plain": "'Layer: 1'"
     },
     "metadata": {},
     "output_type": "display_data"
    },
    {
     "data": {
      "text/plain": "tensor([[ 0, -1,  2, -1, -1,  5, -1, -1,  8, -1, 10, -1, -1, 13, -1, 15, -1, -1,\n         18, -1],\n        [ 1, -1,  3, -1, -1,  6, -1, -1,  9, -1, 11, -1, -1, 14, -1, 16, -1, -1,\n         19, -1],\n        [-1, -1,  4, -1, -1,  7, -1, -1, -1, -1, 12, -1, -1, -1, -1, 17, -1, -1,\n         -1, -1]], dtype=torch.int32)"
     },
     "metadata": {},
     "output_type": "display_data"
    },
    {
     "data": {
      "text/plain": "tensor([3, 3, 3, 3, 3, 3, 3, 3, 3, 3, 3, 3, 3, 3, 3, 3, 3, 3, 3, 3])"
     },
     "metadata": {},
     "output_type": "display_data"
    },
    {
     "data": {
      "text/plain": "tensor([0, 0, 1, 1, 1, 2, 2, 2, 3, 3, 4, 4, 4, 5, 5, 6, 6, 6, 7, 7])"
     },
     "metadata": {},
     "output_type": "display_data"
    },
    {
     "data": {
      "text/plain": "'Batch: 3'"
     },
     "metadata": {},
     "output_type": "display_data"
    },
    {
     "data": {
      "text/plain": "['{\"S\": [0, 1]}',\n '{\"S\": [1, 0, {\"Z\": [3, 5, 7]}]}',\n '{\"S\": [2, 3, {\"Z\": [0, 7, 5]}]}',\n '{\"S\": [3, 2]}',\n '{\"S\": [4, 5, {\"Z\": [0, 3, 7]}]}',\n '{\"S\": [5, 4]}',\n '{\"S\": [6, 7, {\"Z\": [0, 5, 3]}]}',\n '{\"S\": [7, 6]}']"
     },
     "metadata": {},
     "output_type": "display_data"
    },
    {
     "data": {
      "text/plain": "tensor([0, 1, 1, 0, 3, 5, 7, 2, 3, 0, 7, 5, 3, 2, 4, 5, 0, 3, 7, 5, 4, 6, 7, 0,\n        5, 3, 7, 6])"
     },
     "metadata": {},
     "output_type": "display_data"
    },
    {
     "data": {
      "text/plain": "'Layer: 0'"
     },
     "metadata": {},
     "output_type": "display_data"
    },
    {
     "data": {
      "text/plain": "tensor([[ 0,  1,  2,  3,  4,  5,  6,  7,  8,  9, 10, 11, 12, 13, 14, 15, 16, 17,\n         18, 19, 20, 21, 22, 23, 24, 25, 26, 27],\n        [-1, -1, -1, -1,  5,  6,  4, -1, -1, 10, 11,  9, -1, -1, -1, -1, 17, 18,\n         16, -1, -1, -1, -1, 24, 25, 23, -1, -1],\n        [-1, -1, -1, -1,  6,  4,  5, -1, -1, 11,  9, 10, -1, -1, -1, -1, 18, 16,\n         17, -1, -1, -1, -1, 25, 23, 24, -1, -1]], dtype=torch.int32)"
     },
     "metadata": {},
     "output_type": "display_data"
    },
    {
     "data": {
      "text/plain": "tensor([0, 0, 0, 0, 2, 2, 2, 0, 0, 2, 2, 2, 0, 0, 0, 0, 2, 2, 2, 0, 0, 0, 0, 2,\n        2, 2, 0, 0])"
     },
     "metadata": {},
     "output_type": "display_data"
    },
    {
     "data": {
      "text/plain": "tensor([ 0,  1,  2,  3,  4,  4,  4,  5,  6,  7,  7,  7,  8,  9, 10, 11, 12, 12,\n        12, 13, 14, 15, 16, 17, 17, 17, 18, 19])"
     },
     "metadata": {},
     "output_type": "display_data"
    },
    {
     "data": {
      "text/plain": "'Layer: 1'"
     },
     "metadata": {},
     "output_type": "display_data"
    },
    {
     "data": {
      "text/plain": "tensor([[ 0, -1,  2, -1, -1,  5, -1, -1,  8, -1, 10, -1, -1, 13, -1, 15, -1, -1,\n         18, -1],\n        [ 1, -1,  3, -1, -1,  6, -1, -1,  9, -1, 11, -1, -1, 14, -1, 16, -1, -1,\n         19, -1],\n        [-1, -1,  4, -1, -1,  7, -1, -1, -1, -1, 12, -1, -1, -1, -1, 17, -1, -1,\n         -1, -1]], dtype=torch.int32)"
     },
     "metadata": {},
     "output_type": "display_data"
    },
    {
     "data": {
      "text/plain": "tensor([3, 3, 3, 3, 3, 3, 3, 3, 3, 3, 3, 3, 3, 3, 3, 3, 3, 3, 3, 3])"
     },
     "metadata": {},
     "output_type": "display_data"
    },
    {
     "data": {
      "text/plain": "tensor([0, 0, 1, 1, 1, 2, 2, 2, 3, 3, 4, 4, 4, 5, 5, 6, 6, 6, 7, 7])"
     },
     "metadata": {},
     "output_type": "display_data"
    }
   ],
   "source": [
    "for idx, batch in enumerate(batch_list):\n",
    "    display(f\"Batch: {idx}\")\n",
    "    display(batch.ptree)\n",
    "    display(batch.initial_map)\n",
    "    for layer_idx in range(batch.num_layer):\n",
    "        display(f\"Layer: {layer_idx}\")\n",
    "        display(\n",
    "            batch[f\"layer{layer_idx}_order_matrix\"],\n",
    "            batch[f\"layer{layer_idx}_type_mask\"],\n",
    "            batch[f\"layer{layer_idx}_pooling\"]\n",
    "        )"
   ],
   "metadata": {
    "collapsed": false,
    "ExecuteTime": {
     "start_time": "2024-03-21T19:51:06.041722Z",
     "end_time": "2024-03-21T19:51:06.119726Z"
    }
   }
  },
  {
   "cell_type": "code",
   "execution_count": 13,
   "outputs": [
    {
     "data": {
      "text/plain": "array([[ True,  True,  True,  True],\n       [ True,  True,  True,  True],\n       [ True,  True,  True,  True],\n       [ True,  True,  True,  True]])"
     },
     "metadata": {},
     "output_type": "display_data"
    }
   ],
   "source": [
    "# compare output\n",
    "display(np.array(\n",
    "    [\n",
    "        [\n",
    "            (batch_list[i].x == batch_list[j].x).all()\n",
    "            for j in range(len(batch_list))\n",
    "        ]\n",
    "        for i in range(len(batch_list))\n",
    "    ]\n",
    "))"
   ],
   "metadata": {
    "collapsed": false,
    "ExecuteTime": {
     "start_time": "2024-03-21T19:51:06.088726Z",
     "end_time": "2024-03-21T19:51:06.119726Z"
    }
   }
  },
  {
   "cell_type": "markdown",
   "id": "b86ffd2b-ec5f-49bf-8ab7-86f384b6e0c6",
   "metadata": {},
   "source": [
    "## Put batches through model"
   ]
  },
  {
   "cell_type": "code",
   "execution_count": 14,
   "id": "ca6a5499-e4a0-43a8-8a09-9bfc1f9eb67d",
   "metadata": {
    "tags": [],
    "ExecuteTime": {
     "start_time": "2024-03-21T19:51:06.105724Z",
     "end_time": "2024-03-21T19:51:06.273617Z"
    }
   },
   "outputs": [],
   "source": [
    "out_list = [\n",
    "    model(batch)\n",
    "    for batch in batch_list\n",
    "]"
   ]
  },
  {
   "cell_type": "code",
   "execution_count": 15,
   "outputs": [
    {
     "data": {
      "text/plain": "[tensor([[ 2.7440e-01, -1.2946e-01, -4.3505e-02, -5.5627e-02,  1.7508e-01,\n           1.1411e-01,  2.6857e-01, -4.9428e-02,  1.3861e-02,  6.6328e-02,\n           6.8950e-02, -3.7031e-02,  4.7839e-02, -9.1075e-02, -1.7589e-03,\n          -3.4580e-03,  3.4356e-03,  1.9196e-02, -7.3885e-02, -2.6100e-01,\n           2.4887e-01,  2.4029e-01,  1.6990e-01,  1.6264e-01, -1.5248e-01,\n          -1.3643e-02, -1.4979e-01, -1.3834e-01,  1.2074e-01,  5.4560e-03,\n          -7.8808e-02,  1.2968e-01,  3.4786e-02,  9.1218e-02,  1.9803e-02,\n           1.3331e-01, -5.5900e-02, -7.5729e-02, -1.2959e-01, -2.9440e-02,\n          -9.2062e-02, -1.1979e-01,  6.0882e-02,  2.7615e-01, -5.8699e-02,\n           1.7437e-01, -9.0318e-03,  1.4238e-01,  1.3897e-01,  2.2119e-01,\n          -1.2710e-01,  6.6568e-02, -2.9088e-02,  1.0537e-01, -2.9583e-01,\n          -2.4283e-02, -1.7257e-02,  1.2868e-01,  1.9428e-01, -1.7053e-01,\n           9.5739e-02,  8.4496e-02, -1.4396e-01, -5.9220e-02,  1.0408e-01,\n           1.3499e-01, -3.9028e-02, -3.4389e-02, -1.0443e-01,  1.0023e-01,\n           1.1554e-01, -1.5330e-01,  3.6265e-03,  1.6420e-01, -3.3588e-02,\n          -7.7619e-02, -1.3096e-01, -5.5056e-02, -3.6371e-02,  3.0144e-01,\n           7.9332e-02, -7.7976e-02,  5.6259e-03, -3.1158e-02, -3.5569e-02,\n           4.2912e-02,  1.0239e-01,  4.2438e-02,  1.3698e-01, -1.8183e-01,\n           3.3981e-02, -5.7563e-03,  1.5931e-01],\n         [ 1.8954e-01, -3.3853e-02, -3.2792e-02, -2.9881e-01, -2.6206e-02,\n           1.8336e-01,  3.6080e-01, -2.3943e-02, -1.5091e-01, -1.0072e-01,\n          -8.9299e-02, -8.7112e-02,  3.3329e-01,  4.6077e-02,  3.6164e-01,\n          -1.1775e-01, -8.3831e-02,  6.5158e-02,  3.4139e-02, -7.8519e-02,\n          -8.3026e-02,  1.8416e-01,  2.8479e-01,  1.4637e-01,  9.7194e-02,\n           1.2148e-01, -1.8172e-01, -2.4198e-01,  1.7543e-01,  1.0402e-01,\n           2.7399e-01, -7.7089e-02, -4.7517e-03,  2.2611e-01,  2.6972e-01,\n           1.9100e-02, -2.0106e-01,  3.0010e-02, -1.6687e-01, -8.3782e-02,\n           5.6505e-02, -2.2258e-01, -1.5146e-01, -1.8541e-01, -6.3968e-02,\n           9.4259e-02, -4.5477e-02,  1.5934e-01,  1.0297e-01,  9.3342e-02,\n          -1.1492e-01, -2.0662e-02,  3.0364e-01, -2.3325e-02, -1.6061e-01,\n          -2.4136e-01, -1.5815e-01,  3.0615e-01,  4.0512e-01, -1.5189e-01,\n           1.3231e-01,  9.1609e-02, -2.5388e-01, -2.3015e-01,  2.6715e-01,\n           2.0769e-01,  2.7136e-01, -1.6269e-01, -9.3244e-02,  3.9049e-01,\n           3.2783e-01,  2.1706e-01,  2.2417e-02, -4.0900e-02, -4.1580e-02,\n          -6.0500e-02,  7.8984e-02,  5.4173e-02, -9.5207e-02,  3.0793e-01,\n           3.0875e-01, -2.8822e-02,  2.8132e-01, -4.7718e-02,  1.0437e-02,\n           6.1891e-02, -1.8202e-01, -8.5203e-03, -1.2412e-01, -2.9216e-01,\n          -5.5490e-02,  1.8891e-01,  1.5234e-01],\n         [ 2.0478e-01,  7.7294e-03, -1.3005e-01, -2.7265e-01, -5.7243e-03,\n           1.2628e-01,  2.4072e-01,  1.8312e-02, -1.4576e-01, -1.1093e-01,\n          -1.0606e-01, -1.3645e-01,  1.9197e-01, -3.7192e-02,  3.5692e-01,\n          -9.4436e-02, -1.1360e-01,  2.4810e-02,  1.6896e-03, -1.4481e-01,\n          -1.3132e-01,  1.9162e-01,  2.5202e-01,  1.2620e-01,  1.4241e-01,\n           1.7767e-01, -1.4379e-01, -2.4111e-01,  1.4260e-01,  1.2353e-01,\n           2.4623e-01, -1.7305e-02,  7.8999e-02,  1.4471e-01,  2.4841e-01,\n           1.0173e-02, -1.1877e-01,  3.8556e-02, -2.0294e-01, -1.8333e-01,\n           3.3957e-03, -2.4673e-01, -1.3022e-01, -2.4022e-01, -7.4547e-02,\n           5.4971e-03, -6.8869e-02,  2.4079e-02,  1.2277e-01, -2.5998e-02,\n          -1.1767e-01,  1.0163e-01,  3.0939e-01,  9.5486e-02, -2.3571e-01,\n          -9.6375e-02, -1.2328e-01,  2.8002e-01,  2.8734e-01, -1.0715e-01,\n           1.3636e-01, -1.1451e-02, -3.0231e-01, -2.0988e-01,  2.1648e-01,\n           1.3252e-01,  2.2607e-01, -2.1095e-01, -1.1895e-01,  2.4465e-01,\n           2.4053e-01,  6.6174e-02, -9.4830e-02, -1.0726e-01,  1.6105e-02,\n          -5.9646e-02,  1.2280e-01, -1.1596e-02, -1.0477e-01,  2.6671e-01,\n           3.3687e-01, -5.0781e-02,  2.7627e-01, -7.5176e-02, -6.4360e-02,\n           1.8674e-01, -1.3362e-01, -8.6787e-02, -1.2710e-01, -2.9532e-01,\n          -1.0012e-01,  1.1663e-01,  1.8291e-01],\n         [ 2.3896e-01, -2.0304e-01,  6.0900e-02,  6.8361e-03,  6.6171e-02,\n           1.7988e-01,  2.4796e-01,  3.7849e-03, -6.4809e-02,  1.7943e-01,\n           1.0662e-01,  3.4038e-02,  2.9548e-02, -1.7822e-01,  1.0765e-03,\n          -1.3134e-01,  8.7153e-02,  7.4527e-02,  2.1142e-02, -2.8136e-01,\n           2.4647e-01,  1.3536e-01,  5.6098e-02,  2.3133e-01, -2.2289e-01,\n          -9.6793e-03, -2.1048e-01, -1.0839e-01,  1.2540e-01,  1.0209e-01,\n          -1.0224e-02,  1.9240e-01, -1.0315e-02,  3.5427e-02,  2.1418e-02,\n           1.3753e-01, -1.8644e-01, -1.3289e-01, -1.3159e-01, -8.5037e-02,\n          -5.8542e-02, -8.8969e-02, -4.4289e-03,  2.4030e-01,  5.1452e-02,\n           1.4485e-01, -2.2627e-02,  4.3190e-02,  8.6693e-02,  1.0239e-01,\n          -5.8198e-02,  7.3826e-02, -6.5725e-02,  1.0639e-01, -2.9934e-01,\n           1.0204e-02,  2.4580e-02,  1.5140e-01,  2.1622e-01, -1.0955e-01,\n           7.4775e-02, -5.4955e-02, -1.6087e-01, -1.2850e-01,  1.7060e-01,\n           1.1774e-01,  4.4654e-02,  1.4980e-03, -4.0204e-02,  6.7598e-02,\n           1.1601e-01, -1.2404e-01, -6.0149e-02,  2.1615e-01, -8.4826e-02,\n          -1.1198e-01, -1.6167e-01,  8.7420e-02, -2.1796e-02,  2.6217e-01,\n           1.6699e-01,  4.3231e-02,  5.9890e-02,  4.8855e-02,  2.6199e-02,\n           6.4332e-02, -1.6903e-02, -1.0956e-01,  5.5698e-02, -1.7584e-01,\n          -4.8292e-02, -9.7686e-02,  1.2160e-01],\n         [ 1.8202e-01,  7.5085e-02, -3.8517e-02, -2.0178e-01,  1.4190e-02,\n           7.4969e-02,  3.1167e-01, -5.2452e-05, -1.4739e-01, -1.1184e-01,\n           2.2914e-02, -6.3123e-02,  2.8047e-01, -1.0815e-01,  2.9509e-01,\n          -7.4015e-02, -1.5423e-01,  6.3608e-02, -1.2549e-02, -1.1094e-01,\n          -6.5892e-02,  2.4329e-01,  2.6603e-01,  2.0864e-01,  9.6751e-02,\n           1.9927e-01, -2.0157e-01, -3.3468e-01,  2.4084e-01,  1.3915e-01,\n           2.5101e-01,  7.9281e-02,  4.2128e-02,  1.8180e-01,  1.7195e-01,\n           1.1874e-01, -2.2187e-01,  1.1725e-01, -1.8182e-01, -1.0880e-01,\n          -1.5051e-02, -2.2675e-01, -9.6072e-02, -1.2747e-01, -5.8497e-02,\n           6.8179e-02, -6.8614e-02,  1.7981e-01,  5.2267e-02,  1.9731e-02,\n          -5.0022e-02,  1.1669e-01,  2.7307e-01,  2.1402e-01, -3.5917e-01,\n          -3.6710e-02, -1.5808e-01,  3.4907e-01,  3.5050e-01, -8.7461e-02,\n           1.3219e-01, -6.5886e-02, -2.8242e-01, -2.0631e-01,  3.3015e-01,\n           7.1432e-02,  1.7880e-01, -2.0287e-01, -6.0304e-02,  1.5659e-01,\n           3.1958e-01,  1.7432e-01, -8.8327e-02, -8.4406e-02,  4.3530e-02,\n          -7.5803e-02,  1.0032e-01,  6.2295e-02, -1.4015e-01,  2.4209e-01,\n           2.8820e-01, -9.6354e-02,  2.7687e-01, -1.5446e-02,  1.1227e-02,\n           6.0194e-02, -1.4559e-01, -9.0663e-02, -1.8008e-01, -1.8020e-01,\n          -1.3136e-01,  1.2485e-01,  1.2562e-01],\n         [ 1.0392e-01, -1.4572e-01,  1.3003e-01, -1.0239e-02,  1.0056e-01,\n           1.5538e-01,  2.5386e-01,  6.7048e-02, -3.5431e-02,  2.5028e-01,\n           2.0406e-01, -4.6665e-02,  3.8839e-02, -1.7527e-01, -3.3045e-02,\n          -1.1269e-02,  3.7113e-02,  1.5972e-02, -1.9476e-02, -2.3899e-01,\n           1.3470e-01,  2.0632e-01,  1.3021e-01,  1.0104e-01, -1.2449e-01,\n           6.4921e-02, -1.7832e-01, -6.3397e-02,  1.7691e-01, -5.3006e-03,\n          -7.2550e-02,  1.7823e-01,  1.1065e-01,  7.6942e-02,  3.1881e-02,\n           2.2042e-01, -1.6589e-01, -7.8187e-02, -7.9799e-02, -1.2273e-01,\n          -8.3785e-03, -6.5297e-02,  1.0071e-01,  1.6443e-01,  5.0866e-02,\n           1.8696e-01,  8.1002e-02,  7.9867e-02,  6.8758e-02,  1.5648e-01,\n          -2.3197e-02, -2.5781e-02, -6.4565e-02,  1.1502e-01, -2.5240e-01,\n           3.3820e-02, -7.6902e-02,  2.2183e-01,  1.3700e-01, -1.7782e-01,\n           8.6132e-02,  2.4812e-02, -1.6885e-01, -1.2308e-01,  6.8498e-02,\n           1.2593e-01, -4.6585e-02,  9.1194e-02,  1.5859e-02,  5.5505e-02,\n           6.1579e-02, -7.7335e-02,  4.2763e-02,  1.5779e-01, -1.1410e-01,\n          -1.0078e-01, -1.8661e-01,  4.7120e-02, -3.1476e-02,  2.7076e-01,\n           7.7619e-02,  2.0772e-02,  3.0762e-02,  2.2603e-02, -8.6991e-02,\n           4.7475e-02,  8.5736e-02, -3.8102e-02, -2.4113e-03, -1.6929e-01,\n          -4.5608e-02, -3.8212e-02,  3.1173e-01],\n         [ 2.4429e-01,  1.5642e-01, -9.8336e-02, -2.9988e-01,  1.8221e-02,\n           1.5371e-01,  3.2021e-01,  2.9556e-02, -1.4395e-01, -1.8978e-01,\n          -8.5279e-02, -1.6518e-01,  2.8800e-01,  1.9937e-02,  3.2784e-01,\n          -2.4342e-02, -4.4345e-02,  1.3411e-01,  1.5865e-02, -3.8144e-02,\n          -1.2126e-01,  1.6385e-01,  3.1068e-01,  2.0050e-01,  5.1103e-02,\n          -8.7926e-03, -1.0684e-01, -2.6030e-01,  2.2337e-01,  2.1935e-01,\n           3.1500e-01,  1.3041e-01,  1.5536e-01,  1.6474e-01,  2.7655e-01,\n           1.3280e-01, -3.0595e-01, -8.1977e-02, -2.5750e-01, -9.8814e-02,\n          -7.2686e-02, -2.0951e-01, -1.5787e-01, -2.3994e-01, -1.1090e-01,\n          -3.3089e-02, -9.5188e-02,  1.0708e-01,  7.7171e-04,  1.1082e-01,\n          -1.5886e-02,  5.1614e-02,  2.0142e-01, -6.5205e-02, -2.1052e-01,\n          -5.3660e-02, -1.2759e-01,  3.1748e-01,  4.0670e-01, -2.3607e-01,\n           1.5976e-01, -1.3183e-02, -1.9360e-01, -1.7011e-01,  2.5604e-01,\n           1.0669e-01,  1.6754e-01, -2.1902e-01, -1.2004e-02,  3.2177e-01,\n           3.1872e-01,  2.3501e-01,  6.6065e-02,  1.4541e-02, -3.4646e-02,\n          -8.2191e-02,  5.7978e-02,  2.5005e-01,  2.7660e-02,  4.0841e-01,\n           3.4930e-01, -1.1019e-01,  2.8845e-01, -5.6239e-02, -4.9510e-02,\n           1.2441e-01, -2.0752e-01,  3.5898e-02, -1.5057e-01, -2.9462e-01,\n           1.1703e-03,  1.4169e-01,  1.1672e-01],\n         [ 1.8225e-01, -1.1110e-01,  1.9419e-02, -6.1379e-02,  7.6585e-02,\n           8.9755e-02,  2.4032e-01, -7.5430e-02, -4.1686e-02,  1.6475e-01,\n           1.5110e-01,  1.2470e-02,  3.3125e-03, -1.3194e-01, -2.6118e-02,\n          -5.1000e-02,  1.5505e-01,  5.4991e-02, -1.0994e-01, -2.5704e-01,\n           3.0104e-01,  2.0329e-01,  1.0891e-01,  1.0507e-01, -1.4159e-01,\n          -1.6081e-02, -1.6300e-01, -6.8961e-02,  1.5756e-01, -3.9769e-02,\n          -1.1997e-02,  1.1763e-01,  9.1825e-03,  1.8927e-03,  2.1618e-02,\n           1.3079e-01, -7.6501e-02, -8.5553e-02, -6.6722e-02, -7.5087e-02,\n          -9.8251e-02, -2.6293e-02,  1.2455e-01,  2.1870e-01,  8.5111e-02,\n           9.1467e-02,  1.1587e-01,  1.8041e-02,  1.0756e-02,  1.9073e-01,\n           7.1631e-03,  6.2263e-02, -2.0985e-02,  1.3328e-02, -2.4508e-01,\n           6.9965e-02, -1.0654e-01,  2.3089e-01,  1.0537e-01, -1.8431e-01,\n           1.2331e-01,  2.6306e-02, -1.3717e-01, -6.2207e-02,  1.0344e-01,\n           1.7137e-01, -5.2674e-03, -1.1315e-01,  6.2338e-02, -3.7155e-03,\n           1.6807e-01, -7.2020e-02, -1.2606e-01,  2.2490e-01, -1.5193e-01,\n           2.3883e-02, -1.6126e-01,  1.0439e-01, -1.3777e-01,  2.0000e-01,\n           8.7407e-03, -1.1273e-01,  2.4444e-02,  2.6542e-02,  3.8728e-02,\n           2.4291e-02, -6.4840e-02, -1.3670e-01, -4.4578e-03, -1.7568e-01,\n           1.3450e-01, -1.1154e-01,  1.8601e-01]], grad_fn=<IndexPutBackward0>),\n tensor([[ 0.2744, -0.1295, -0.0435, -0.0556,  0.1751,  0.1141,  0.2686, -0.0494,\n           0.0139,  0.0663,  0.0690, -0.0370,  0.0478, -0.0911, -0.0018, -0.0035,\n           0.0034,  0.0192, -0.0739, -0.2610,  0.2489,  0.2403,  0.1699,  0.1626,\n          -0.1525, -0.0136, -0.1498, -0.1383,  0.1207,  0.0055, -0.0788,  0.1297,\n           0.0348,  0.0912,  0.0198,  0.1333, -0.0559, -0.0757, -0.1296, -0.0294,\n          -0.0921, -0.1198,  0.0609,  0.2762, -0.0587,  0.1744, -0.0090,  0.1424,\n           0.1390,  0.2212, -0.1271,  0.0666, -0.0291,  0.1054, -0.2958, -0.0243,\n          -0.0173,  0.1287,  0.1943, -0.1705,  0.0957,  0.0845, -0.1440, -0.0592,\n           0.1041,  0.1350, -0.0390, -0.0344, -0.1044,  0.1002,  0.1155, -0.1533,\n           0.0036,  0.1642, -0.0336, -0.0776, -0.1310, -0.0551, -0.0364,  0.3014,\n           0.0793, -0.0780,  0.0056, -0.0312, -0.0356,  0.0429,  0.1024,  0.0424,\n           0.1370, -0.1818,  0.0340, -0.0058,  0.1593],\n         [ 0.2522, -0.2101, -0.1159,  0.1341, -0.0184, -0.0141,  0.3090,  0.2126,\n          -0.1415,  0.2826, -0.1007, -0.2721,  0.3777,  0.0749,  0.5108,  0.0926,\n          -0.0834, -0.0439, -0.0011, -0.2199,  0.1334,  0.2286,  0.0282,  0.0184,\n          -0.1668,  0.4077, -0.2446, -0.0475,  0.3266, -0.2571,  0.3477, -0.1338,\n          -0.1895, -0.0120,  0.1534, -0.0082, -0.2476,  0.1915,  0.0587, -0.2171,\n          -0.0308, -0.0537, -0.0687, -0.2324, -0.0103, -0.0346,  0.1467,  0.0802,\n           0.1005,  0.1779,  0.2064,  0.0324,  0.2501, -0.0252, -0.2573, -0.1229,\n          -0.2056,  0.2811,  0.2195, -0.1903,  0.0096,  0.1602, -0.2153, -0.0584,\n          -0.0637,  0.0432,  0.3990, -0.2227,  0.2638,  0.3087,  0.3541,  0.1700,\n           0.1566,  0.0020,  0.0306, -0.0015, -0.0918, -0.2218, -0.4853,  0.1604,\n           0.1839,  0.0605,  0.0519, -0.2164, -0.0075, -0.0290, -0.2714, -0.0864,\n          -0.1424, -0.3538, -0.0838, -0.2595,  0.2811],\n         [ 0.2912, -0.1866, -0.1965,  0.1719,  0.0365, -0.0268,  0.2151,  0.2372,\n          -0.2011,  0.2400, -0.1476, -0.2765,  0.2469, -0.0235,  0.4858,  0.0600,\n          -0.1339, -0.0406, -0.0721, -0.3040,  0.0844,  0.2053,  0.0416,  0.0445,\n          -0.1021,  0.4417, -0.2085, -0.0980,  0.2955, -0.2363,  0.3249, -0.0895,\n          -0.1261, -0.0913,  0.1240, -0.0172, -0.1901,  0.1622, -0.0115, -0.3168,\n          -0.0688, -0.0812, -0.0875, -0.3002, -0.0122, -0.1090,  0.0773, -0.1059,\n           0.0794, -0.0040,  0.1614,  0.1563,  0.2886,  0.0532, -0.3151,  0.0499,\n          -0.1702,  0.2286,  0.1489, -0.1589,  0.0408,  0.0753, -0.2436, -0.0112,\n          -0.0922, -0.0313,  0.3267, -0.2955,  0.2394,  0.1991,  0.3038,  0.0084,\n           0.0813, -0.0799,  0.0648,  0.0057, -0.0247, -0.2762, -0.4621,  0.1140,\n           0.2722,  0.0681,  0.0196, -0.2677, -0.0925,  0.1338, -0.2582, -0.1524,\n          -0.1259, -0.3749, -0.1649, -0.2833,  0.2542],\n         [ 0.2390, -0.2030,  0.0609,  0.0068,  0.0662,  0.1799,  0.2480,  0.0038,\n          -0.0648,  0.1794,  0.1066,  0.0340,  0.0295, -0.1782,  0.0011, -0.1313,\n           0.0872,  0.0745,  0.0211, -0.2814,  0.2465,  0.1354,  0.0561,  0.2313,\n          -0.2229, -0.0097, -0.2105, -0.1084,  0.1254,  0.1021, -0.0102,  0.1924,\n          -0.0103,  0.0354,  0.0214,  0.1375, -0.1864, -0.1329, -0.1316, -0.0850,\n          -0.0585, -0.0890, -0.0044,  0.2403,  0.0515,  0.1448, -0.0226,  0.0432,\n           0.0867,  0.1024, -0.0582,  0.0738, -0.0657,  0.1064, -0.2993,  0.0102,\n           0.0246,  0.1514,  0.2162, -0.1096,  0.0748, -0.0550, -0.1609, -0.1285,\n           0.1706,  0.1177,  0.0447,  0.0015, -0.0402,  0.0676,  0.1160, -0.1240,\n          -0.0601,  0.2162, -0.0848, -0.1120, -0.1617,  0.0874, -0.0218,  0.2622,\n           0.1670,  0.0432,  0.0599,  0.0489,  0.0262,  0.0643, -0.0169, -0.1096,\n           0.0557, -0.1758, -0.0483, -0.0977,  0.1216],\n         [ 0.2894, -0.1187, -0.1360,  0.2717,  0.0424, -0.0565,  0.2768,  0.1872,\n          -0.2072,  0.2562, -0.0199, -0.2312,  0.3090, -0.0363,  0.4126,  0.0871,\n          -0.1364, -0.0141, -0.1118, -0.2886,  0.1411,  0.2507,  0.0590,  0.1334,\n          -0.1516,  0.4377, -0.2876, -0.1735,  0.4235, -0.2465,  0.3044, -0.0378,\n          -0.1756, -0.0894,  0.0416,  0.0688, -0.2626,  0.2042,  0.0019, -0.2514,\n          -0.0874, -0.0810, -0.0414, -0.2320, -0.0149, -0.0599,  0.0637,  0.0288,\n          -0.0028,  0.0255,  0.2407,  0.1731,  0.2349,  0.1238, -0.3987,  0.0658,\n          -0.2146,  0.3322,  0.2296, -0.1982,  0.0249,  0.0399, -0.2281, -0.0102,\n          -0.0164, -0.0438,  0.3065, -0.2613,  0.3111,  0.1206,  0.3897,  0.1245,\n           0.1037, -0.0832,  0.0859, -0.0083, -0.0407, -0.2433, -0.4746,  0.1246,\n           0.2599,  0.0330,  0.0306, -0.1840, -0.0027,  0.0116, -0.2725, -0.1826,\n          -0.1742, -0.2705, -0.1645, -0.2523,  0.1451],\n         [ 0.1039, -0.1457,  0.1300, -0.0102,  0.1006,  0.1554,  0.2539,  0.0670,\n          -0.0354,  0.2503,  0.2041, -0.0467,  0.0388, -0.1753, -0.0330, -0.0113,\n           0.0371,  0.0160, -0.0195, -0.2390,  0.1347,  0.2063,  0.1302,  0.1010,\n          -0.1245,  0.0649, -0.1783, -0.0634,  0.1769, -0.0053, -0.0725,  0.1782,\n           0.1107,  0.0769,  0.0319,  0.2204, -0.1659, -0.0782, -0.0798, -0.1227,\n          -0.0084, -0.0653,  0.1007,  0.1644,  0.0509,  0.1870,  0.0810,  0.0799,\n           0.0688,  0.1565, -0.0232, -0.0258, -0.0646,  0.1150, -0.2524,  0.0338,\n          -0.0769,  0.2218,  0.1370, -0.1778,  0.0861,  0.0248, -0.1688, -0.1231,\n           0.0685,  0.1259, -0.0466,  0.0912,  0.0159,  0.0555,  0.0616, -0.0773,\n           0.0428,  0.1578, -0.1141, -0.1008, -0.1866,  0.0471, -0.0315,  0.2708,\n           0.0776,  0.0208,  0.0308,  0.0226, -0.0870,  0.0475,  0.0857, -0.0381,\n          -0.0024, -0.1693, -0.0456, -0.0382,  0.3117],\n         [ 0.3143, -0.0773, -0.1711,  0.1252,  0.0565, -0.0667,  0.2436,  0.2931,\n          -0.1470,  0.1308, -0.1252, -0.3330,  0.3482,  0.0850,  0.4664,  0.1835,\n          -0.0727,  0.0271, -0.0861, -0.2222,  0.0666,  0.1863,  0.0314,  0.1346,\n          -0.1529,  0.2478, -0.1456, -0.0834,  0.3852, -0.1722,  0.4083,  0.0258,\n          -0.0798, -0.0901,  0.0918,  0.0968, -0.3593,  0.0596, -0.0687, -0.2275,\n          -0.1704, -0.0730, -0.1115, -0.3247, -0.0459, -0.1846,  0.0576,  0.0117,\n          -0.0109,  0.1085,  0.2953,  0.0847,  0.2044, -0.0710, -0.2936,  0.1234,\n          -0.1332,  0.2961,  0.2719, -0.2806,  0.0221,  0.0799, -0.1137,  0.0278,\n          -0.1232, -0.0720,  0.2795, -0.2943,  0.3578,  0.2497,  0.3377,  0.1706,\n           0.1838,  0.0387,  0.0457, -0.0057, -0.0485, -0.0915, -0.4097,  0.2412,\n           0.2790,  0.0314,  0.0962, -0.2232, -0.0436,  0.0777, -0.3081, -0.1115,\n          -0.1694, -0.3820, -0.0543, -0.2851,  0.1457],\n         [ 0.1822, -0.1111,  0.0194, -0.0614,  0.0766,  0.0898,  0.2403, -0.0754,\n          -0.0417,  0.1647,  0.1511,  0.0125,  0.0033, -0.1319, -0.0261, -0.0510,\n           0.1550,  0.0550, -0.1099, -0.2570,  0.3010,  0.2033,  0.1089,  0.1051,\n          -0.1416, -0.0161, -0.1630, -0.0690,  0.1576, -0.0398, -0.0120,  0.1176,\n           0.0092,  0.0019,  0.0216,  0.1308, -0.0765, -0.0856, -0.0667, -0.0751,\n          -0.0983, -0.0263,  0.1246,  0.2187,  0.0851,  0.0915,  0.1159,  0.0180,\n           0.0108,  0.1907,  0.0072,  0.0623, -0.0210,  0.0133, -0.2451,  0.0700,\n          -0.1065,  0.2309,  0.1054, -0.1843,  0.1233,  0.0263, -0.1372, -0.0622,\n           0.1034,  0.1714, -0.0053, -0.1131,  0.0623, -0.0037,  0.1681, -0.0720,\n          -0.1261,  0.2249, -0.1519,  0.0239, -0.1613,  0.1044, -0.1378,  0.2000,\n           0.0087, -0.1127,  0.0244,  0.0265,  0.0387,  0.0243, -0.0648, -0.1367,\n          -0.0045, -0.1757,  0.1345, -0.1115,  0.1860]],\n        grad_fn=<IndexPutBackward0>),\n tensor([[ 0.2744, -0.1295, -0.0435, -0.0556,  0.1751,  0.1141,  0.2686, -0.0494,\n           0.0139,  0.0663,  0.0690, -0.0370,  0.0478, -0.0911, -0.0018, -0.0035,\n           0.0034,  0.0192, -0.0739, -0.2610,  0.2489,  0.2403,  0.1699,  0.1626,\n          -0.1525, -0.0136, -0.1498, -0.1383,  0.1207,  0.0055, -0.0788,  0.1297,\n           0.0348,  0.0912,  0.0198,  0.1333, -0.0559, -0.0757, -0.1296, -0.0294,\n          -0.0921, -0.1198,  0.0609,  0.2762, -0.0587,  0.1744, -0.0090,  0.1424,\n           0.1390,  0.2212, -0.1271,  0.0666, -0.0291,  0.1054, -0.2958, -0.0243,\n          -0.0173,  0.1287,  0.1943, -0.1705,  0.0957,  0.0845, -0.1440, -0.0592,\n           0.1041,  0.1350, -0.0390, -0.0344, -0.1044,  0.1002,  0.1155, -0.1533,\n           0.0036,  0.1642, -0.0336, -0.0776, -0.1310, -0.0551, -0.0364,  0.3014,\n           0.0793, -0.0780,  0.0056, -0.0312, -0.0356,  0.0429,  0.1024,  0.0424,\n           0.1370, -0.1818,  0.0340, -0.0058,  0.1593],\n         [ 0.2522, -0.2101, -0.1159,  0.1341, -0.0184, -0.0141,  0.3090,  0.2126,\n          -0.1415,  0.2826, -0.1007, -0.2721,  0.3777,  0.0749,  0.5108,  0.0926,\n          -0.0834, -0.0439, -0.0011, -0.2199,  0.1334,  0.2286,  0.0282,  0.0184,\n          -0.1668,  0.4077, -0.2446, -0.0475,  0.3266, -0.2571,  0.3477, -0.1338,\n          -0.1895, -0.0120,  0.1534, -0.0082, -0.2476,  0.1915,  0.0587, -0.2171,\n          -0.0308, -0.0537, -0.0687, -0.2324, -0.0103, -0.0346,  0.1467,  0.0802,\n           0.1005,  0.1779,  0.2064,  0.0324,  0.2501, -0.0252, -0.2573, -0.1229,\n          -0.2056,  0.2811,  0.2195, -0.1903,  0.0096,  0.1602, -0.2153, -0.0584,\n          -0.0637,  0.0432,  0.3990, -0.2227,  0.2638,  0.3087,  0.3541,  0.1700,\n           0.1566,  0.0020,  0.0306, -0.0015, -0.0918, -0.2218, -0.4853,  0.1604,\n           0.1839,  0.0605,  0.0519, -0.2164, -0.0075, -0.0290, -0.2714, -0.0864,\n          -0.1424, -0.3538, -0.0838, -0.2595,  0.2811],\n         [ 0.2912, -0.1866, -0.1965,  0.1719,  0.0365, -0.0268,  0.2151,  0.2372,\n          -0.2011,  0.2400, -0.1476, -0.2765,  0.2469, -0.0235,  0.4858,  0.0600,\n          -0.1339, -0.0406, -0.0721, -0.3040,  0.0844,  0.2053,  0.0416,  0.0445,\n          -0.1021,  0.4417, -0.2085, -0.0980,  0.2955, -0.2363,  0.3249, -0.0895,\n          -0.1261, -0.0913,  0.1240, -0.0172, -0.1901,  0.1622, -0.0115, -0.3168,\n          -0.0688, -0.0812, -0.0875, -0.3002, -0.0122, -0.1090,  0.0773, -0.1059,\n           0.0794, -0.0040,  0.1614,  0.1563,  0.2886,  0.0532, -0.3151,  0.0499,\n          -0.1702,  0.2286,  0.1489, -0.1589,  0.0408,  0.0753, -0.2436, -0.0112,\n          -0.0922, -0.0313,  0.3267, -0.2955,  0.2394,  0.1991,  0.3038,  0.0084,\n           0.0813, -0.0799,  0.0648,  0.0057, -0.0247, -0.2762, -0.4621,  0.1140,\n           0.2722,  0.0681,  0.0196, -0.2677, -0.0925,  0.1338, -0.2582, -0.1524,\n          -0.1259, -0.3749, -0.1649, -0.2833,  0.2542],\n         [ 0.2390, -0.2030,  0.0609,  0.0068,  0.0662,  0.1799,  0.2480,  0.0038,\n          -0.0648,  0.1794,  0.1066,  0.0340,  0.0295, -0.1782,  0.0011, -0.1313,\n           0.0872,  0.0745,  0.0211, -0.2814,  0.2465,  0.1354,  0.0561,  0.2313,\n          -0.2229, -0.0097, -0.2105, -0.1084,  0.1254,  0.1021, -0.0102,  0.1924,\n          -0.0103,  0.0354,  0.0214,  0.1375, -0.1864, -0.1329, -0.1316, -0.0850,\n          -0.0585, -0.0890, -0.0044,  0.2403,  0.0515,  0.1448, -0.0226,  0.0432,\n           0.0867,  0.1024, -0.0582,  0.0738, -0.0657,  0.1064, -0.2993,  0.0102,\n           0.0246,  0.1514,  0.2162, -0.1096,  0.0748, -0.0550, -0.1609, -0.1285,\n           0.1706,  0.1177,  0.0447,  0.0015, -0.0402,  0.0676,  0.1160, -0.1240,\n          -0.0601,  0.2162, -0.0848, -0.1120, -0.1617,  0.0874, -0.0218,  0.2622,\n           0.1670,  0.0432,  0.0599,  0.0489,  0.0262,  0.0643, -0.0169, -0.1096,\n           0.0557, -0.1758, -0.0483, -0.0977,  0.1216],\n         [ 0.2894, -0.1187, -0.1360,  0.2717,  0.0424, -0.0565,  0.2768,  0.1872,\n          -0.2072,  0.2562, -0.0199, -0.2312,  0.3090, -0.0363,  0.4126,  0.0871,\n          -0.1364, -0.0141, -0.1118, -0.2886,  0.1411,  0.2507,  0.0590,  0.1334,\n          -0.1516,  0.4377, -0.2876, -0.1735,  0.4235, -0.2465,  0.3044, -0.0378,\n          -0.1756, -0.0894,  0.0416,  0.0688, -0.2626,  0.2042,  0.0019, -0.2514,\n          -0.0874, -0.0810, -0.0414, -0.2320, -0.0149, -0.0599,  0.0637,  0.0288,\n          -0.0028,  0.0255,  0.2407,  0.1731,  0.2349,  0.1238, -0.3987,  0.0658,\n          -0.2146,  0.3322,  0.2296, -0.1982,  0.0249,  0.0399, -0.2281, -0.0102,\n          -0.0164, -0.0438,  0.3065, -0.2613,  0.3111,  0.1206,  0.3897,  0.1245,\n           0.1037, -0.0832,  0.0859, -0.0083, -0.0407, -0.2433, -0.4746,  0.1246,\n           0.2599,  0.0330,  0.0306, -0.1840, -0.0027,  0.0116, -0.2725, -0.1826,\n          -0.1742, -0.2705, -0.1645, -0.2523,  0.1451],\n         [ 0.1039, -0.1457,  0.1300, -0.0102,  0.1006,  0.1554,  0.2539,  0.0670,\n          -0.0354,  0.2503,  0.2041, -0.0467,  0.0388, -0.1753, -0.0330, -0.0113,\n           0.0371,  0.0160, -0.0195, -0.2390,  0.1347,  0.2063,  0.1302,  0.1010,\n          -0.1245,  0.0649, -0.1783, -0.0634,  0.1769, -0.0053, -0.0725,  0.1782,\n           0.1107,  0.0769,  0.0319,  0.2204, -0.1659, -0.0782, -0.0798, -0.1227,\n          -0.0084, -0.0653,  0.1007,  0.1644,  0.0509,  0.1870,  0.0810,  0.0799,\n           0.0688,  0.1565, -0.0232, -0.0258, -0.0646,  0.1150, -0.2524,  0.0338,\n          -0.0769,  0.2218,  0.1370, -0.1778,  0.0861,  0.0248, -0.1688, -0.1231,\n           0.0685,  0.1259, -0.0466,  0.0912,  0.0159,  0.0555,  0.0616, -0.0773,\n           0.0428,  0.1578, -0.1141, -0.1008, -0.1866,  0.0471, -0.0315,  0.2708,\n           0.0776,  0.0208,  0.0308,  0.0226, -0.0870,  0.0475,  0.0857, -0.0381,\n          -0.0024, -0.1693, -0.0456, -0.0382,  0.3117],\n         [ 0.3143, -0.0773, -0.1711,  0.1252,  0.0565, -0.0667,  0.2436,  0.2931,\n          -0.1470,  0.1308, -0.1252, -0.3330,  0.3482,  0.0850,  0.4664,  0.1835,\n          -0.0727,  0.0271, -0.0861, -0.2222,  0.0666,  0.1863,  0.0314,  0.1346,\n          -0.1529,  0.2478, -0.1456, -0.0834,  0.3852, -0.1722,  0.4083,  0.0258,\n          -0.0798, -0.0901,  0.0918,  0.0968, -0.3593,  0.0596, -0.0687, -0.2275,\n          -0.1704, -0.0730, -0.1115, -0.3247, -0.0459, -0.1846,  0.0576,  0.0117,\n          -0.0109,  0.1085,  0.2953,  0.0847,  0.2044, -0.0710, -0.2936,  0.1234,\n          -0.1332,  0.2961,  0.2719, -0.2806,  0.0221,  0.0799, -0.1137,  0.0278,\n          -0.1232, -0.0720,  0.2795, -0.2943,  0.3578,  0.2497,  0.3377,  0.1706,\n           0.1838,  0.0387,  0.0457, -0.0057, -0.0485, -0.0915, -0.4097,  0.2412,\n           0.2790,  0.0314,  0.0962, -0.2232, -0.0436,  0.0777, -0.3081, -0.1115,\n          -0.1694, -0.3820, -0.0543, -0.2851,  0.1457],\n         [ 0.1822, -0.1111,  0.0194, -0.0614,  0.0766,  0.0898,  0.2403, -0.0754,\n          -0.0417,  0.1647,  0.1511,  0.0125,  0.0033, -0.1319, -0.0261, -0.0510,\n           0.1550,  0.0550, -0.1099, -0.2570,  0.3010,  0.2033,  0.1089,  0.1051,\n          -0.1416, -0.0161, -0.1630, -0.0690,  0.1576, -0.0398, -0.0120,  0.1176,\n           0.0092,  0.0019,  0.0216,  0.1308, -0.0765, -0.0856, -0.0667, -0.0751,\n          -0.0983, -0.0263,  0.1246,  0.2187,  0.0851,  0.0915,  0.1159,  0.0180,\n           0.0108,  0.1907,  0.0072,  0.0623, -0.0210,  0.0133, -0.2451,  0.0700,\n          -0.1065,  0.2309,  0.1054, -0.1843,  0.1233,  0.0263, -0.1372, -0.0622,\n           0.1034,  0.1714, -0.0053, -0.1131,  0.0623, -0.0037,  0.1681, -0.0720,\n          -0.1261,  0.2249, -0.1519,  0.0239, -0.1613,  0.1044, -0.1378,  0.2000,\n           0.0087, -0.1127,  0.0244,  0.0265,  0.0387,  0.0243, -0.0648, -0.1367,\n          -0.0045, -0.1757,  0.1345, -0.1115,  0.1860]],\n        grad_fn=<IndexPutBackward0>),\n tensor([[ 0.2744, -0.1295, -0.0435, -0.0556,  0.1751,  0.1141,  0.2686, -0.0494,\n           0.0139,  0.0663,  0.0690, -0.0370,  0.0478, -0.0911, -0.0018, -0.0035,\n           0.0034,  0.0192, -0.0739, -0.2610,  0.2489,  0.2403,  0.1699,  0.1626,\n          -0.1525, -0.0136, -0.1498, -0.1383,  0.1207,  0.0055, -0.0788,  0.1297,\n           0.0348,  0.0912,  0.0198,  0.1333, -0.0559, -0.0757, -0.1296, -0.0294,\n          -0.0921, -0.1198,  0.0609,  0.2762, -0.0587,  0.1744, -0.0090,  0.1424,\n           0.1390,  0.2212, -0.1271,  0.0666, -0.0291,  0.1054, -0.2958, -0.0243,\n          -0.0173,  0.1287,  0.1943, -0.1705,  0.0957,  0.0845, -0.1440, -0.0592,\n           0.1041,  0.1350, -0.0390, -0.0344, -0.1044,  0.1002,  0.1155, -0.1533,\n           0.0036,  0.1642, -0.0336, -0.0776, -0.1310, -0.0551, -0.0364,  0.3014,\n           0.0793, -0.0780,  0.0056, -0.0312, -0.0356,  0.0429,  0.1024,  0.0424,\n           0.1370, -0.1818,  0.0340, -0.0058,  0.1593],\n         [ 0.2539, -0.2105, -0.1167,  0.1351, -0.0197, -0.0107,  0.3082,  0.2098,\n          -0.1405,  0.2821, -0.1002, -0.2708,  0.3753,  0.0786,  0.5118,  0.0922,\n          -0.0781, -0.0441, -0.0026, -0.2223,  0.1367,  0.2310,  0.0282,  0.0226,\n          -0.1680,  0.4031, -0.2433, -0.0478,  0.3262, -0.2543,  0.3482, -0.1318,\n          -0.1869, -0.0127,  0.1521, -0.0078, -0.2495,  0.1886,  0.0570, -0.2174,\n          -0.0320, -0.0533, -0.0674, -0.2328, -0.0081, -0.0311,  0.1457,  0.0797,\n           0.0969,  0.1762,  0.2050,  0.0311,  0.2494, -0.0238, -0.2590, -0.1227,\n          -0.2050,  0.2848,  0.2201, -0.1917,  0.0089,  0.1587, -0.2166, -0.0607,\n          -0.0618,  0.0426,  0.3961, -0.2228,  0.2632,  0.3085,  0.3557,  0.1703,\n           0.1560,  0.0051,  0.0326, -0.0040, -0.0942, -0.2232, -0.4855,  0.1589,\n           0.1861,  0.0612,  0.0522, -0.2155, -0.0086, -0.0298, -0.2721, -0.0857,\n          -0.1397, -0.3551, -0.0810, -0.2589,  0.2807],\n         [ 0.2896, -0.1849, -0.1960,  0.1722,  0.0383, -0.0278,  0.2151,  0.2372,\n          -0.1995,  0.2416, -0.1471, -0.2785,  0.2476, -0.0247,  0.4881,  0.0609,\n          -0.1346, -0.0405, -0.0736, -0.3033,  0.0832,  0.2060,  0.0408,  0.0442,\n          -0.1021,  0.4425, -0.2085, -0.0968,  0.2975, -0.2374,  0.3259, -0.0898,\n          -0.1281, -0.0889,  0.1241, -0.0168, -0.1895,  0.1647, -0.0105, -0.3161,\n          -0.0684, -0.0810, -0.0893, -0.2987, -0.0128, -0.1083,  0.0781, -0.1061,\n           0.0810, -0.0032,  0.1639,  0.1564,  0.2859,  0.0496, -0.3139,  0.0470,\n          -0.1713,  0.2275,  0.1495, -0.1594,  0.0399,  0.0777, -0.2412, -0.0116,\n          -0.0933, -0.0303,  0.3294, -0.2947,  0.2393,  0.1990,  0.3022,  0.0093,\n           0.0808, -0.0793,  0.0631,  0.0067, -0.0244, -0.2766, -0.4621,  0.1146,\n           0.2706,  0.0708,  0.0197, -0.2674, -0.0907,  0.1345, -0.2584, -0.1536,\n          -0.1272, -0.3735, -0.1653, -0.2840,  0.2537],\n         [ 0.2390, -0.2030,  0.0609,  0.0068,  0.0662,  0.1799,  0.2480,  0.0038,\n          -0.0648,  0.1794,  0.1066,  0.0340,  0.0295, -0.1782,  0.0011, -0.1313,\n           0.0872,  0.0745,  0.0211, -0.2814,  0.2465,  0.1354,  0.0561,  0.2313,\n          -0.2229, -0.0097, -0.2105, -0.1084,  0.1254,  0.1021, -0.0102,  0.1924,\n          -0.0103,  0.0354,  0.0214,  0.1375, -0.1864, -0.1329, -0.1316, -0.0850,\n          -0.0585, -0.0890, -0.0044,  0.2403,  0.0515,  0.1448, -0.0226,  0.0432,\n           0.0867,  0.1024, -0.0582,  0.0738, -0.0657,  0.1064, -0.2993,  0.0102,\n           0.0246,  0.1514,  0.2162, -0.1096,  0.0748, -0.0550, -0.1609, -0.1285,\n           0.1706,  0.1177,  0.0447,  0.0015, -0.0402,  0.0676,  0.1160, -0.1240,\n          -0.0601,  0.2162, -0.0848, -0.1120, -0.1617,  0.0874, -0.0218,  0.2622,\n           0.1670,  0.0432,  0.0599,  0.0489,  0.0262,  0.0643, -0.0169, -0.1096,\n           0.0557, -0.1758, -0.0483, -0.0977,  0.1216],\n         [ 0.2892, -0.1197, -0.1359,  0.2708,  0.0409, -0.0584,  0.2781,  0.1870,\n          -0.2078,  0.2540, -0.0210, -0.2301,  0.3107, -0.0370,  0.4124,  0.0867,\n          -0.1378, -0.0138, -0.1096, -0.2873,  0.1399,  0.2486,  0.0595,  0.1308,\n          -0.1512,  0.4381, -0.2878, -0.1738,  0.4248, -0.2469,  0.3033, -0.0390,\n          -0.1749, -0.0898,  0.0424,  0.0687, -0.2625,  0.2028,  0.0018, -0.2502,\n          -0.0878, -0.0820, -0.0410, -0.2338, -0.0151, -0.0609,  0.0617,  0.0288,\n          -0.0021,  0.0249,  0.2392,  0.1752,  0.2376,  0.1252, -0.3988,  0.0681,\n          -0.2138,  0.3314,  0.2275, -0.1979,  0.0278,  0.0382, -0.2302, -0.0092,\n          -0.0155, -0.0452,  0.3076, -0.2627,  0.3112,  0.1212,  0.3899,  0.1245,\n           0.1036, -0.0860,  0.0874, -0.0051, -0.0379, -0.2420, -0.4749,  0.1252,\n           0.2600,  0.0309,  0.0318, -0.1843, -0.0027,  0.0131, -0.2730, -0.1825,\n          -0.1761, -0.2703, -0.1645, -0.2508,  0.1434],\n         [ 0.1039, -0.1457,  0.1300, -0.0102,  0.1006,  0.1554,  0.2539,  0.0670,\n          -0.0354,  0.2503,  0.2041, -0.0467,  0.0388, -0.1753, -0.0330, -0.0113,\n           0.0371,  0.0160, -0.0195, -0.2390,  0.1347,  0.2063,  0.1302,  0.1010,\n          -0.1245,  0.0649, -0.1783, -0.0634,  0.1769, -0.0053, -0.0725,  0.1782,\n           0.1107,  0.0769,  0.0319,  0.2204, -0.1659, -0.0782, -0.0798, -0.1227,\n          -0.0084, -0.0653,  0.1007,  0.1644,  0.0509,  0.1870,  0.0810,  0.0799,\n           0.0688,  0.1565, -0.0232, -0.0258, -0.0646,  0.1150, -0.2524,  0.0338,\n          -0.0769,  0.2218,  0.1370, -0.1778,  0.0861,  0.0248, -0.1688, -0.1231,\n           0.0685,  0.1259, -0.0466,  0.0912,  0.0159,  0.0555,  0.0616, -0.0773,\n           0.0428,  0.1578, -0.1141, -0.1008, -0.1866,  0.0471, -0.0315,  0.2708,\n           0.0776,  0.0208,  0.0308,  0.0226, -0.0870,  0.0475,  0.0857, -0.0381,\n          -0.0024, -0.1693, -0.0456, -0.0382,  0.3117],\n         [ 0.3146, -0.0780, -0.1715,  0.1251,  0.0575, -0.0662,  0.2436,  0.2954,\n          -0.1492,  0.1313, -0.1258, -0.3324,  0.3476,  0.0832,  0.4628,  0.1820,\n          -0.0744,  0.0278, -0.0860, -0.2224,  0.0670,  0.1857,  0.0322,  0.1337,\n          -0.1526,  0.2504, -0.1463, -0.0834,  0.3825, -0.1726,  0.4075,  0.0254,\n          -0.0811, -0.0914,  0.0917,  0.0966, -0.3584,  0.0606, -0.0680, -0.2290,\n          -0.1695, -0.0722, -0.1119, -0.3240, -0.0460, -0.1870,  0.0585,  0.0131,\n          -0.0098,  0.1093,  0.2946,  0.0828,  0.2058, -0.0692, -0.2943,  0.1243,\n          -0.1330,  0.2944,  0.2722, -0.2793,  0.0213,  0.0796, -0.1125,  0.0297,\n          -0.1239, -0.0718,  0.2776, -0.2936,  0.3585,  0.2496,  0.3378,  0.1697,\n           0.1848,  0.0392,  0.0439, -0.0066, -0.0498, -0.0910, -0.4093,  0.2408,\n           0.2793,  0.0297,  0.0948, -0.2241, -0.0448,  0.0763, -0.3066, -0.1117,\n          -0.1689, -0.3826, -0.0563, -0.2864,  0.1479],\n         [ 0.1822, -0.1111,  0.0194, -0.0614,  0.0766,  0.0898,  0.2403, -0.0754,\n          -0.0417,  0.1647,  0.1511,  0.0125,  0.0033, -0.1319, -0.0261, -0.0510,\n           0.1550,  0.0550, -0.1099, -0.2570,  0.3010,  0.2033,  0.1089,  0.1051,\n          -0.1416, -0.0161, -0.1630, -0.0690,  0.1576, -0.0398, -0.0120,  0.1176,\n           0.0092,  0.0019,  0.0216,  0.1308, -0.0765, -0.0856, -0.0667, -0.0751,\n          -0.0983, -0.0263,  0.1246,  0.2187,  0.0851,  0.0915,  0.1159,  0.0180,\n           0.0108,  0.1907,  0.0072,  0.0623, -0.0210,  0.0133, -0.2451,  0.0700,\n          -0.1065,  0.2309,  0.1054, -0.1843,  0.1233,  0.0263, -0.1372, -0.0622,\n           0.1034,  0.1714, -0.0053, -0.1131,  0.0623, -0.0037,  0.1681, -0.0720,\n          -0.1261,  0.2249, -0.1519,  0.0239, -0.1613,  0.1044, -0.1378,  0.2000,\n           0.0087, -0.1127,  0.0244,  0.0265,  0.0387,  0.0243, -0.0648, -0.1367,\n          -0.0045, -0.1757,  0.1345, -0.1115,  0.1860]],\n        grad_fn=<IndexPutBackward0>)]"
     },
     "execution_count": 15,
     "metadata": {},
     "output_type": "execute_result"
    }
   ],
   "source": [
    "out_list"
   ],
   "metadata": {
    "collapsed": false,
    "ExecuteTime": {
     "start_time": "2024-03-21T19:51:06.120725Z",
     "end_time": "2024-03-21T19:51:06.305344Z"
    }
   }
  },
  {
   "cell_type": "markdown",
   "id": "4e024847-717f-4fac-bace-f9ee10ccf416",
   "metadata": {},
   "source": [
    "## Compare batches"
   ]
  },
  {
   "cell_type": "code",
   "execution_count": 16,
   "outputs": [
    {
     "data": {
      "text/plain": "array([[ True, False, False, False],\n       [False,  True,  True, False],\n       [False,  True,  True, False],\n       [False, False, False,  True]])"
     },
     "metadata": {},
     "output_type": "display_data"
    }
   ],
   "source": [
    "# compare output\n",
    "display(np.array(\n",
    "    [\n",
    "        [\n",
    "            (out_list[i] == out_list[j]).all()\n",
    "            for j in range(len(out_list))\n",
    "        ]\n",
    "        for i in range(len(out_list))\n",
    "    ]\n",
    "))"
   ],
   "metadata": {
    "collapsed": false,
    "ExecuteTime": {
     "start_time": "2024-03-21T19:51:06.135725Z",
     "end_time": "2024-03-21T19:51:06.320869Z"
    }
   }
  },
  {
   "cell_type": "code",
   "execution_count": 17,
   "outputs": [
    {
     "data": {
      "text/plain": "array([[ True, False, False, False],\n       [False,  True,  True, False],\n       [False,  True,  True, False],\n       [False, False, False,  True]])"
     },
     "metadata": {},
     "output_type": "display_data"
    }
   ],
   "source": [
    "# compare sum pooled version itself\n",
    "display(np.array(\n",
    "    [\n",
    "        [\n",
    "            out_list[i].sum().item() - out_list[j].sum().item()\n",
    "            for j in range(len(out_list))\n",
    "        ]\n",
    "        for i in range(len(out_list))\n",
    "    ]\n",
    ") == 0)"
   ],
   "metadata": {
    "collapsed": false,
    "ExecuteTime": {
     "start_time": "2024-03-21T19:51:06.153725Z",
     "end_time": "2024-03-21T19:51:06.320869Z"
    }
   }
  },
  {
   "cell_type": "code",
   "execution_count": 18,
   "outputs": [
    {
     "data": {
      "text/plain": "array([[ 0.        , 47.859818  , 47.859818  , 47.856377  ],\n       [47.859818  ,  0.        ,  0.        ,  0.42052308],\n       [47.859818  ,  0.        ,  0.        ,  0.42052308],\n       [47.856377  ,  0.42052308,  0.42052308,  0.        ]],\n      dtype=float32)"
     },
     "metadata": {},
     "output_type": "display_data"
    }
   ],
   "source": [
    "# compare output\n",
    "display(np.array(\n",
    "    [\n",
    "        [\n",
    "            (out_list[i] - out_list[j]).detach().abs().sum()\n",
    "            for j in range(len(out_list))\n",
    "        ]\n",
    "        for i in range(len(out_list))\n",
    "    ]\n",
    "))"
   ],
   "metadata": {
    "collapsed": false,
    "ExecuteTime": {
     "start_time": "2024-03-21T19:51:06.168725Z",
     "end_time": "2024-03-21T19:51:06.321869Z"
    }
   }
  }
 ],
 "metadata": {
  "kernelspec": {
   "display_name": "Python 3 (ipykernel)",
   "language": "python",
   "name": "python3"
  },
  "language_info": {
   "codemirror_mode": {
    "name": "ipython",
    "version": 3
   },
   "file_extension": ".py",
   "mimetype": "text/x-python",
   "name": "python",
   "nbconvert_exporter": "python",
   "pygments_lexer": "ipython3",
   "version": "3.9.16"
  }
 },
 "nbformat": 4,
 "nbformat_minor": 5
}
