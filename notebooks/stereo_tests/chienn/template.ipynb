{
 "cells": [
  {
   "cell_type": "markdown",
   "id": "cce7ba2e-6183-4900-9e1c-608c46435893",
   "metadata": {},
   "source": [
    "# Stereoisomer testing on ChiENN"
   ]
  },
  {
   "cell_type": "markdown",
   "id": "cd5b739d-220a-4c13-9ce0-a3933e034d4d",
   "metadata": {},
   "source": [
    "## Importing section"
   ]
  },
  {
   "cell_type": "code",
   "execution_count": 1,
   "outputs": [],
   "source": [
    "import numpy as np\n",
    "from rdkit import Chem\n",
    "from rdkit.Chem import AllChem\n",
    "import sys\n",
    "sys.path.append(\"../../../\")\n",
    "\n",
    "from ptgnn.features.chienn.molecule3d import smiles_to_data_with_circle_index\n",
    "from ptgnn.model.chienn.chienn_layer import ChiENNLayer\n",
    "from ptgnn.loading.chienn_collate import collate_with_circle_index"
   ],
   "metadata": {
    "collapsed": false,
    "ExecuteTime": {
     "start_time": "2024-03-11T20:08:00.384545Z",
     "end_time": "2024-03-11T20:08:02.254453Z"
    }
   }
  },
  {
   "cell_type": "markdown",
   "id": "4ce50022-5637-4a30-b409-1e45a433f047",
   "metadata": {},
   "source": [
    "## Define SMILES strings"
   ]
  },
  {
   "cell_type": "code",
   "execution_count": 2,
   "id": "fe716171-6aec-40ab-a31a-1fb0bd635c46",
   "metadata": {
    "tags": [],
    "ExecuteTime": {
     "start_time": "2024-03-11T20:08:02.255453Z",
     "end_time": "2024-03-11T20:08:02.269969Z"
    }
   },
   "outputs": [],
   "source": [
    "smiles_list = [\n",
    "    \"C\"\n",
    "]"
   ]
  },
  {
   "cell_type": "markdown",
   "id": "1663655e-0dd3-492e-b007-344f18fffb87",
   "metadata": {},
   "source": [
    "## Visualize and confirm stereomer classification (E/Z)"
   ]
  },
  {
   "cell_type": "code",
   "execution_count": 3,
   "id": "13fe0401-cc1a-424a-80c2-df1760e4df84",
   "metadata": {
    "tags": [],
    "ExecuteTime": {
     "start_time": "2024-03-11T20:08:02.270968Z",
     "end_time": "2024-03-11T20:08:02.288967Z"
    }
   },
   "outputs": [],
   "source": [
    "def showAndChiral(smiles):\n",
    "    mol = Chem.MolFromSmiles(smiles)\n",
    "    display(mol)\n",
    "    print(AllChem.FindMolChiralCenters(mol))\n",
    "    for bond in mol.GetBonds():\n",
    "        if bond.GetBondType() == Chem.rdchem.BondType.DOUBLE:\n",
    "            print(\"Bond\", bond.GetIdx(), \"stereo:\", bond.GetStereo())"
   ]
  },
  {
   "cell_type": "code",
   "execution_count": 4,
   "id": "f54309f1-465b-4834-aeda-cdc857767776",
   "metadata": {
    "tags": [],
    "ExecuteTime": {
     "start_time": "2024-03-11T20:08:02.284968Z",
     "end_time": "2024-03-11T20:08:02.330036Z"
    }
   },
   "outputs": [
    {
     "data": {
      "text/plain": "<rdkit.Chem.rdchem.Mol at 0x281387eeb30>",
      "image/png": "[encoded data removed]"
     },
     "metadata": {},
     "output_type": "display_data"
    },
    {
     "name": "stdout",
     "output_type": "stream",
     "text": [
      "[]\n"
     ]
    }
   ],
   "source": [
    "for smile in smiles_list:\n",
    "    showAndChiral(smile)"
   ]
  },
  {
   "cell_type": "markdown",
   "id": "910c1424-4c1d-4421-ad82-628ccf16464e",
   "metadata": {},
   "source": [
    "##  Convert to (edge) graph"
   ]
  },
  {
   "cell_type": "code",
   "execution_count": 5,
   "outputs": [],
   "source": [
    "data_list = [\n",
    "    smiles_to_data_with_circle_index(smiles)\n",
    "    for smiles in smiles_list\n",
    "]"
   ],
   "metadata": {
    "collapsed": false,
    "ExecuteTime": {
     "start_time": "2024-03-11T20:08:10.677006Z",
     "end_time": "2024-03-11T20:08:10.701048Z"
    }
   }
  },
  {
   "cell_type": "code",
   "execution_count": 6,
   "id": "6ccede64-7dc3-40d1-a75a-1701625f2bd9",
   "metadata": {
    "tags": [],
    "ExecuteTime": {
     "start_time": "2024-03-11T20:08:11.050805Z",
     "end_time": "2024-03-11T20:08:11.077312Z"
    }
   },
   "outputs": [
    {
     "name": "stdout",
     "output_type": "stream",
     "text": [
      "Data(x=[8, 93], edge_index=[2, 20], edge_attr=[20, 57], parallel_node_index=[8], circle_index=[8])\n",
      "[[3, 7, 5], [], [1, 5, 7], [], [1, 7, 3], [], [1, 3, 5], []]\n"
     ]
    }
   ],
   "source": [
    "for data in data_list:\n",
    "    print(data)\n",
    "    print(data.circle_index)"
   ]
  },
  {
   "cell_type": "markdown",
   "id": "c4c65150-2907-4220-baf9-2d95f5a44656",
   "metadata": {},
   "source": [
    "## Create Model"
   ]
  },
  {
   "cell_type": "code",
   "execution_count": 7,
   "outputs": [
    {
     "data": {
      "text/plain": "ChiENNLayer(\n  (message): ChiENNMessage(\n    (embeddings_list): ModuleList(\n      (0-2): 3 x Linear(in_features=93, out_features=93, bias=False)\n    )\n    (final_embedding): Sequential(\n      (0): ELU(alpha=1.0)\n      (1): Linear(in_features=93, out_features=93, bias=False)\n    )\n  )\n  (aggregate): ChiENNAggregate(\n    (self_embedding): Linear(in_features=93, out_features=93, bias=False)\n    (parallel_embedding): Linear(in_features=93, out_features=93, bias=False)\n    (post_aggregation_embedding): ELU(alpha=1.0)\n  )\n  (dropout): Dropout(p=0.0, inplace=False)\n)"
     },
     "execution_count": 7,
     "metadata": {},
     "output_type": "execute_result"
    }
   ],
   "source": [
    "k = 3\n",
    "model = ChiENNLayer(\n",
    "    hidden_dim=93,\n",
    "    k_neighbors_embeddings_names=['linear']*k\n",
    ")\n",
    "model"
   ],
   "metadata": {
    "collapsed": false,
    "ExecuteTime": {
     "start_time": "2024-03-11T20:08:20.814941Z",
     "end_time": "2024-03-11T20:08:20.840940Z"
    }
   }
  },
  {
   "cell_type": "markdown",
   "id": "8d7bb4a1-a7fd-47b8-ae93-b12fe24ee239",
   "metadata": {},
   "source": [
    "## Create batches"
   ]
  },
  {
   "cell_type": "code",
   "execution_count": 8,
   "outputs": [],
   "source": [
    "batch_list = [\n",
    "    collate_with_circle_index([data], k)\n",
    "    for data in data_list\n",
    "]"
   ],
   "metadata": {
    "collapsed": false,
    "ExecuteTime": {
     "start_time": "2024-03-11T20:08:30.723001Z",
     "end_time": "2024-03-11T20:08:30.751001Z"
    }
   }
  },
  {
   "cell_type": "markdown",
   "id": "b86ffd2b-ec5f-49bf-8ab7-86f384b6e0c6",
   "metadata": {},
   "source": [
    "## Put batches through model"
   ]
  },
  {
   "cell_type": "code",
   "execution_count": 9,
   "id": "ca6a5499-e4a0-43a8-8a09-9bfc1f9eb67d",
   "metadata": {
    "tags": [],
    "ExecuteTime": {
     "start_time": "2024-03-11T20:08:31.546714Z",
     "end_time": "2024-03-11T20:08:31.567720Z"
    }
   },
   "outputs": [],
   "source": [
    "out_list = [\n",
    "    model(batch)\n",
    "    for batch in batch_list\n",
    "]"
   ]
  },
  {
   "cell_type": "markdown",
   "id": "4e024847-717f-4fac-bace-f9ee10ccf416",
   "metadata": {},
   "source": [
    "## Compare batches"
   ]
  },
  {
   "cell_type": "code",
   "execution_count": 10,
   "id": "6d25e298-a314-4f26-8085-6599266d7305",
   "metadata": {
    "tags": [],
    "ExecuteTime": {
     "start_time": "2024-03-11T20:08:39.947502Z",
     "end_time": "2024-03-11T20:08:39.972700Z"
    }
   },
   "outputs": [
    {
     "data": {
      "text/plain": "array([[ True]])"
     },
     "metadata": {},
     "output_type": "display_data"
    }
   ],
   "source": [
    "# compare output\n",
    "display(np.array(\n",
    "    [\n",
    "        [\n",
    "            (out_list[i] == out_list[j]).all() if out_list[i].shape==out_list[j].shape else False\n",
    "            for j in range(len(out_list))\n",
    "        ]\n",
    "        for i in range(len(out_list))\n",
    "    ]\n",
    "))"
   ]
  },
  {
   "cell_type": "code",
   "execution_count": 11,
   "id": "e3177a99-89f5-4554-babd-f609a565f6c8",
   "metadata": {
    "tags": [],
    "ExecuteTime": {
     "start_time": "2024-03-11T20:08:46.679385Z",
     "end_time": "2024-03-11T20:08:46.690892Z"
    }
   },
   "outputs": [
    {
     "data": {
      "text/plain": "array([[ True]])"
     },
     "metadata": {},
     "output_type": "display_data"
    }
   ],
   "source": [
    "# compare sum pooled version itself\n",
    "display(np.array(\n",
    "    [\n",
    "        [\n",
    "            out_list[i].sum().item() - out_list[j].sum().item()\n",
    "            for j in range(len(out_list))\n",
    "        ]\n",
    "        for i in range(len(out_list))\n",
    "    ]\n",
    ") == 0)"
   ]
  }
 ],
 "metadata": {
  "kernelspec": {
   "display_name": "Python 3 (ipykernel)",
   "language": "python",
   "name": "python3"
  },
  "language_info": {
   "codemirror_mode": {
    "name": "ipython",
    "version": 3
   },
   "file_extension": ".py",
   "mimetype": "text/x-python",
   "name": "python",
   "nbconvert_exporter": "python",
   "pygments_lexer": "ipython3",
   "version": "3.9.16"
  }
 },
 "nbformat": 4,
 "nbformat_minor": 5
}
