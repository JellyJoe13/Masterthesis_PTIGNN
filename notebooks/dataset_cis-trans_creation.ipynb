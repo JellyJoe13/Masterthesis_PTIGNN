{
 "cells": [
  {
   "cell_type": "markdown",
   "source": [
    "# Creation of E/Z dataset"
   ],
   "metadata": {
    "collapsed": false
   }
  },
  {
   "cell_type": "markdown",
   "source": [
    "## Import section"
   ],
   "metadata": {
    "collapsed": false
   }
  },
  {
   "cell_type": "code",
   "execution_count": 2,
   "outputs": [],
   "source": [
    "import os\n",
    "import pickle"
   ],
   "metadata": {
    "collapsed": false,
    "ExecuteTime": {
     "start_time": "2024-04-04T20:36:15.298046Z",
     "end_time": "2024-04-04T20:36:15.315049Z"
    }
   }
  },
  {
   "cell_type": "markdown",
   "source": [
    "## Loading of dataset.\n",
    "\n",
    "choice: rs dataset as most datasets with only one double bond with e/z label"
   ],
   "metadata": {
    "collapsed": false
   }
  },
  {
   "cell_type": "code",
   "execution_count": 4,
   "outputs": [],
   "source": [
    "mode = 'val'\n",
    "with open(os.path.join(\"hyperoptimization/src/rs/raw/\", f\"{mode}.pickle\"), 'rb') as f:\n",
    "    df = pickle.load(f)"
   ],
   "metadata": {
    "collapsed": false,
    "ExecuteTime": {
     "start_time": "2024-04-04T20:38:07.700034Z",
     "end_time": "2024-04-04T20:38:09.694221Z"
    }
   }
  },
  {
   "cell_type": "code",
   "execution_count": 5,
   "outputs": [
    {
     "data": {
      "text/plain": "                                          ID  \\\n0      Br[C@@]1(c2cccc(-c3ccccc3)c2)C=CC=CC1   \n1      Br[C@@]1(c2cccc(-c3ccccc3)c2)C=CC=CC1   \n2      Br[C@@]1(c2cccc(-c3ccccc3)c2)C=CC=CC1   \n3      Br[C@@]1(c2cccc(-c3ccccc3)c2)C=CC=CC1   \n4      Br[C@@]1(c2cccc(-c3ccccc3)c2)C=CC=CC1   \n...                                      ...   \n70094              c1csc(CNCC[C@H]2CCCNC2)n1   \n70095              c1csc(CNCC[C@H]2CCCNC2)n1   \n70096              c1csc(CNCC[C@H]2CCCNC2)n1   \n70097              c1csc(CNCC[C@H]2CCCNC2)n1   \n70098              c1csc(CNCC[C@H]2CCCNC2)n1   \n\n                         SMILES_nostereo  \\\n0      BrC1(c2cccc(-c3ccccc3)c2)C=CC=CC1   \n1      BrC1(c2cccc(-c3ccccc3)c2)C=CC=CC1   \n2      BrC1(c2cccc(-c3ccccc3)c2)C=CC=CC1   \n3      BrC1(c2cccc(-c3ccccc3)c2)C=CC=CC1   \n4      BrC1(c2cccc(-c3ccccc3)c2)C=CC=CC1   \n...                                  ...   \n70094              c1csc(CNCCC2CCCNC2)n1   \n70095              c1csc(CNCCC2CCCNC2)n1   \n70096              c1csc(CNCCC2CCCNC2)n1   \n70097              c1csc(CNCCC2CCCNC2)n1   \n70098              c1csc(CNCCC2CCCNC2)n1   \n\n                               rdkit_mol_cistrans_stereo RS_label  \\\n0      <rdkit.Chem.rdchem.Mol object at 0x000001BF0C6...        R   \n1      <rdkit.Chem.rdchem.Mol object at 0x000001BF0B8...        R   \n2      <rdkit.Chem.rdchem.Mol object at 0x000001BF0B8...        R   \n3      <rdkit.Chem.rdchem.Mol object at 0x000001BF0B8...        R   \n4      <rdkit.Chem.rdchem.Mol object at 0x000001BF0B8...        R   \n...                                                  ...      ...   \n70094  <rdkit.Chem.rdchem.Mol object at 0x000001BF433...        R   \n70095  <rdkit.Chem.rdchem.Mol object at 0x000001BF433...        R   \n70096  <rdkit.Chem.rdchem.Mol object at 0x000001BF433...        R   \n70097  <rdkit.Chem.rdchem.Mol object at 0x000001BF433...        R   \n70098  <rdkit.Chem.rdchem.Mol object at 0x000001BF433...        R   \n\n       RS_label_binary  \n0                    0  \n1                    0  \n2                    0  \n3                    0  \n4                    0  \n...                ...  \n70094                0  \n70095                0  \n70096                0  \n70097                0  \n70098                0  \n\n[70099 rows x 5 columns]",
      "text/html": "<div>\n<style scoped>\n    .dataframe tbody tr th:only-of-type {\n        vertical-align: middle;\n    }\n\n    .dataframe tbody tr th {\n        vertical-align: top;\n    }\n\n    .dataframe thead th {\n        text-align: right;\n    }\n</style>\n<table border=\"1\" class=\"dataframe\">\n  <thead>\n    <tr style=\"text-align: right;\">\n      <th></th>\n      <th>ID</th>\n      <th>SMILES_nostereo</th>\n      <th>rdkit_mol_cistrans_stereo</th>\n      <th>RS_label</th>\n      <th>RS_label_binary</th>\n    </tr>\n  </thead>\n  <tbody>\n    <tr>\n      <th>0</th>\n      <td>Br[C@@]1(c2cccc(-c3ccccc3)c2)C=CC=CC1</td>\n      <td>BrC1(c2cccc(-c3ccccc3)c2)C=CC=CC1</td>\n      <td>&lt;rdkit.Chem.rdchem.Mol object at 0x000001BF0C6...</td>\n      <td>R</td>\n      <td>0</td>\n    </tr>\n    <tr>\n      <th>1</th>\n      <td>Br[C@@]1(c2cccc(-c3ccccc3)c2)C=CC=CC1</td>\n      <td>BrC1(c2cccc(-c3ccccc3)c2)C=CC=CC1</td>\n      <td>&lt;rdkit.Chem.rdchem.Mol object at 0x000001BF0B8...</td>\n      <td>R</td>\n      <td>0</td>\n    </tr>\n    <tr>\n      <th>2</th>\n      <td>Br[C@@]1(c2cccc(-c3ccccc3)c2)C=CC=CC1</td>\n      <td>BrC1(c2cccc(-c3ccccc3)c2)C=CC=CC1</td>\n      <td>&lt;rdkit.Chem.rdchem.Mol object at 0x000001BF0B8...</td>\n      <td>R</td>\n      <td>0</td>\n    </tr>\n    <tr>\n      <th>3</th>\n      <td>Br[C@@]1(c2cccc(-c3ccccc3)c2)C=CC=CC1</td>\n      <td>BrC1(c2cccc(-c3ccccc3)c2)C=CC=CC1</td>\n      <td>&lt;rdkit.Chem.rdchem.Mol object at 0x000001BF0B8...</td>\n      <td>R</td>\n      <td>0</td>\n    </tr>\n    <tr>\n      <th>4</th>\n      <td>Br[C@@]1(c2cccc(-c3ccccc3)c2)C=CC=CC1</td>\n      <td>BrC1(c2cccc(-c3ccccc3)c2)C=CC=CC1</td>\n      <td>&lt;rdkit.Chem.rdchem.Mol object at 0x000001BF0B8...</td>\n      <td>R</td>\n      <td>0</td>\n    </tr>\n    <tr>\n      <th>...</th>\n      <td>...</td>\n      <td>...</td>\n      <td>...</td>\n      <td>...</td>\n      <td>...</td>\n    </tr>\n    <tr>\n      <th>70094</th>\n      <td>c1csc(CNCC[C@H]2CCCNC2)n1</td>\n      <td>c1csc(CNCCC2CCCNC2)n1</td>\n      <td>&lt;rdkit.Chem.rdchem.Mol object at 0x000001BF433...</td>\n      <td>R</td>\n      <td>0</td>\n    </tr>\n    <tr>\n      <th>70095</th>\n      <td>c1csc(CNCC[C@H]2CCCNC2)n1</td>\n      <td>c1csc(CNCCC2CCCNC2)n1</td>\n      <td>&lt;rdkit.Chem.rdchem.Mol object at 0x000001BF433...</td>\n      <td>R</td>\n      <td>0</td>\n    </tr>\n    <tr>\n      <th>70096</th>\n      <td>c1csc(CNCC[C@H]2CCCNC2)n1</td>\n      <td>c1csc(CNCCC2CCCNC2)n1</td>\n      <td>&lt;rdkit.Chem.rdchem.Mol object at 0x000001BF433...</td>\n      <td>R</td>\n      <td>0</td>\n    </tr>\n    <tr>\n      <th>70097</th>\n      <td>c1csc(CNCC[C@H]2CCCNC2)n1</td>\n      <td>c1csc(CNCCC2CCCNC2)n1</td>\n      <td>&lt;rdkit.Chem.rdchem.Mol object at 0x000001BF433...</td>\n      <td>R</td>\n      <td>0</td>\n    </tr>\n    <tr>\n      <th>70098</th>\n      <td>c1csc(CNCC[C@H]2CCCNC2)n1</td>\n      <td>c1csc(CNCCC2CCCNC2)n1</td>\n      <td>&lt;rdkit.Chem.rdchem.Mol object at 0x000001BF433...</td>\n      <td>R</td>\n      <td>0</td>\n    </tr>\n  </tbody>\n</table>\n<p>70099 rows × 5 columns</p>\n</div>"
     },
     "execution_count": 5,
     "metadata": {},
     "output_type": "execute_result"
    }
   ],
   "source": [
    "df"
   ],
   "metadata": {
    "collapsed": false,
    "ExecuteTime": {
     "start_time": "2024-04-04T20:43:09.568980Z",
     "end_time": "2024-04-04T20:43:09.600980Z"
    }
   }
  },
  {
   "cell_type": "markdown",
   "source": [
    "## Filtering only molecules with one double bond that is a stereocenter (and has 4 constituents)"
   ],
   "metadata": {
    "collapsed": false
   }
  },
  {
   "cell_type": "code",
   "execution_count": null,
   "outputs": [],
   "source": [
    "def filter_has_one_marked_stereo(df_entry, smiles_name: str = 'ID') -> bool:\n",
    "    from ptgnn.features.chienn.molecule3d import smiles_to_3d_mol\n",
    "    from rdkit import Chem\n",
    "\n",
    "    # define allowed stereo types\n",
    "    allowed_stereo = [\n",
    "        Chem.rdchem.BondStereo.STEREOZ,\n",
    "        Chem.rdchem.BondStereo.STEREOE\n",
    "    ]\n",
    "\n",
    "    # extract smiles string\n",
    "    smiles = df_entry[smiles_name]\n",
    "\n",
    "    # get molecule\n",
    "    molecule = smiles_to_3d_mol(\n",
    "        smiles=smiles,\n",
    "        max_number_of_atoms=100,\n",
    "        max_number_of_attempts=100\n",
    "    )\n",
    "\n",
    "    # determine whether molecule has exactly one double bond with marked E/Z\n",
    "    from rdkit import Chem\n",
    "    bonds = [\n",
    "        (bond.GetBeginAtom().GetIdx(), bond.getEndAtom)\n",
    "        for bond in molecule.GetBonds()\n",
    "        if (bond.GetBondType() == Chem.rdchem.BondType.DOUBLE) and\n",
    "           (bond.GetStereo() in allowed_stereo) and\n",
    "           (bond.GetBeginAtom().GetDegree() == 3) and\n",
    "           (bond.GetEndAtom().GetDegree() == 3) # reduces to 1/6th of items with previous ones\n",
    "    ]"
   ],
   "metadata": {
    "collapsed": false
   }
  }
 ],
 "metadata": {
  "kernelspec": {
   "display_name": "Python 3",
   "language": "python",
   "name": "python3"
  },
  "language_info": {
   "codemirror_mode": {
    "name": "ipython",
    "version": 2
   },
   "file_extension": ".py",
   "mimetype": "text/x-python",
   "name": "python",
   "nbconvert_exporter": "python",
   "pygments_lexer": "ipython2",
   "version": "2.7.6"
  }
 },
 "nbformat": 4,
 "nbformat_minor": 0
}
