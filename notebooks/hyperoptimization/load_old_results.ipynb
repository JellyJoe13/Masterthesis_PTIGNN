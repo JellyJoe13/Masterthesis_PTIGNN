{
 "cells": [
  {
   "cell_type": "code",
   "execution_count": 1,
   "metadata": {
    "collapsed": true,
    "ExecuteTime": {
     "start_time": "2024-03-27T14:00:16.502665Z",
     "end_time": "2024-03-27T14:00:16.823547Z"
    }
   },
   "outputs": [],
   "source": [
    "import os\n",
    "\n",
    "from ray import tune\n",
    "\n",
    "from ptgnn.runtime_config.config import import_as, export_as\n",
    "from ptgnn.runtime_config.config_helpers import run_config_adapter, load_and_merge_default_configs"
   ]
  },
  {
   "cell_type": "code",
   "execution_count": 2,
   "outputs": [],
   "source": [
    "storage_path = \"C:/Users/johan/ray_results/\"\n",
    "exp_name = \"trainable_function_2024-03-27_15-37-53\""
   ],
   "metadata": {
    "collapsed": false,
    "ExecuteTime": {
     "start_time": "2024-03-27T18:06:29.141787Z",
     "end_time": "2024-03-27T18:06:29.145787Z"
    }
   }
  },
  {
   "cell_type": "code",
   "execution_count": 3,
   "outputs": [
    {
     "name": "stdout",
     "output_type": "stream",
     "text": [
      "Loading results from C:/Users/johan/ray_results/trainable_function_2024-03-27_15-37-53...\n"
     ]
    }
   ],
   "source": [
    "experiment_path = os.path.join(storage_path, exp_name)\n",
    "print(f\"Loading results from {experiment_path}...\")"
   ],
   "metadata": {
    "collapsed": false,
    "ExecuteTime": {
     "start_time": "2024-03-27T18:06:30.933987Z",
     "end_time": "2024-03-27T18:06:30.957986Z"
    }
   }
  },
  {
   "cell_type": "code",
   "execution_count": 4,
   "outputs": [],
   "source": [
    "def trainable_function(config):\n",
    "    run_config_adapter(\n",
    "        config,\n",
    "        default_config={},\n",
    "        report=True,\n",
    "        verbose=False,\n",
    "        device=None\n",
    "    )"
   ],
   "metadata": {
    "collapsed": false,
    "ExecuteTime": {
     "start_time": "2024-03-27T18:06:31.740442Z",
     "end_time": "2024-03-27T18:06:31.753442Z"
    }
   }
  },
  {
   "cell_type": "code",
   "execution_count": 22,
   "outputs": [],
   "source": [
    "restored_tuner = tune.Tuner.restore(experiment_path, trainable=trainable_function)\n",
    "results = restored_tuner.get_results()"
   ],
   "metadata": {
    "collapsed": false,
    "ExecuteTime": {
     "start_time": "2024-03-27T14:00:16.568174Z",
     "end_time": "2024-03-27T14:00:16.823547Z"
    }
   }
  },
  {
   "cell_type": "code",
   "execution_count": 23,
   "outputs": [
    {
     "data": {
      "text/plain": "ResultGrid<[\n  Result(\n    metrics={'train_accuracy': 1.0, 'train_precision': 1.0, 'train_recall': 1.0, 'train_f1': 1.0, 'train_auc': 1.0, 'train_mean_loss': 1.571663354090957e-05, 'train_sum_loss': 0.0049035896647637855, 'val_accuracy': 1.0, 'val_precision': 1.0, 'val_recall': 1.0, 'val_f1': 1.0, 'val_auc': 1.0, 'val_mean_loss': 1.052817188260938e-05, 'val_sum_loss': 0.003295317799256736},\n    path='C:/Users/johan/ray_results/trainable_function_2024-03-27_13-07-44/trainable_function_8c786585_1_times=1_2024-03-27_13-07-48',\n    filesystem='local',\n    checkpoint=None\n  ),\n  Result(\n    metrics={'train_accuracy': 1.0, 'train_precision': 1.0, 'train_recall': 1.0, 'train_f1': 1.0, 'train_auc': 1.0, 'train_mean_loss': 5.149602006399735e-06, 'train_sum_loss': 0.0016066758259967173, 'val_accuracy': 1.0, 'val_precision': 1.0, 'val_recall': 1.0, 'val_f1': 1.0, 'val_auc': 1.0, 'val_mean_loss': 4.991494208955958e-06, 'val_sum_loss': 0.0015623376874032147},\n    path='C:/Users/johan/ray_results/trainable_function_2024-03-27_13-07-44/trainable_function_59dfdd29_2_times=3_2024-03-27_13-07-53',\n    filesystem='local',\n    checkpoint=None\n  ),\n  Result(\n    metrics={'train_accuracy': 1.0, 'train_precision': 1.0, 'train_recall': 1.0, 'train_f1': 1.0, 'train_auc': 1.0, 'train_mean_loss': 1.571671678882525e-05, 'train_sum_loss': 0.004903615638113479, 'val_accuracy': 1.0, 'val_precision': 1.0, 'val_recall': 1.0, 'val_f1': 1.0, 'val_auc': 1.0, 'val_mean_loss': 1.0528076654446077e-05, 'val_sum_loss': 0.0032952879928416223},\n    path='C:/Users/johan/ray_results/trainable_function_2024-03-27_13-07-44/trainable_function_57516cc1_3_times=1_2024-03-27_13-13-51',\n    filesystem='local',\n    checkpoint=None\n  ),\n  Result(\n    metrics={'train_accuracy': 1.0, 'train_precision': 1.0, 'train_recall': 1.0, 'train_f1': 1.0, 'train_auc': 1.0, 'train_mean_loss': 6.61737378566275e-06, 'train_sum_loss': 0.002064620621126778, 'val_accuracy': 1.0, 'val_precision': 1.0, 'val_recall': 1.0, 'val_f1': 1.0, 'val_auc': 1.0, 'val_mean_loss': 2.933785253072854e-06, 'val_sum_loss': 0.0009182747842118033},\n    path='C:/Users/johan/ray_results/trainable_function_2024-03-27_13-07-44/trainable_function_b0bb4e23_4_times=3_2024-03-27_13-17-31',\n    filesystem='local',\n    checkpoint=None\n  ),\n  Result(\n    metrics={'train_accuracy': 1.0, 'train_precision': 1.0, 'train_recall': 1.0, 'train_f1': 1.0, 'train_auc': 1.0, 'train_mean_loss': 1.5001178095184141e-05, 'train_sum_loss': 0.004680367565697452, 'val_accuracy': 1.0, 'val_precision': 1.0, 'val_recall': 1.0, 'val_f1': 1.0, 'val_auc': 1.0, 'val_mean_loss': 1.0087869446933634e-05, 'val_sum_loss': 0.0031575031368902273},\n    path='C:/Users/johan/ray_results/trainable_function_2024-03-27_13-07-44/trainable_function_ffa93e89_5_times=2_2024-03-27_13-19-44',\n    filesystem='local',\n    checkpoint=None\n  ),\n  Result(\n    metrics={'train_accuracy': 1.0, 'train_precision': 1.0, 'train_recall': 1.0, 'train_f1': 1.0, 'train_auc': 1.0, 'train_mean_loss': 1.5001029072145218e-05, 'train_sum_loss': 0.004680321070509308, 'val_accuracy': 1.0, 'val_precision': 1.0, 'val_recall': 1.0, 'val_f1': 1.0, 'val_auc': 1.0, 'val_mean_loss': 1.0087845715805106e-05, 'val_sum_loss': 0.003157495709046998},\n    path='C:/Users/johan/ray_results/trainable_function_2024-03-27_13-07-44/trainable_function_90721da4_6_times=2_2024-03-27_13-28-25',\n    filesystem='local',\n    checkpoint=None\n  ),\n  Result(\n    metrics={'train_accuracy': 1.0, 'train_precision': 1.0, 'train_recall': 1.0, 'train_f1': 1.0, 'train_auc': 1.0, 'train_mean_loss': 8.43275521024458e-06, 'train_sum_loss': 0.002631019625596309, 'val_accuracy': 1.0, 'val_precision': 1.0, 'val_recall': 1.0, 'val_f1': 1.0, 'val_auc': 1.0, 'val_mean_loss': 5.711194817035249e-06, 'val_sum_loss': 0.001787603977732033},\n    path='C:/Users/johan/ray_results/trainable_function_2024-03-27_13-07-44/trainable_function_4cd9ac54_7_times=4_2024-03-27_13-28-48',\n    filesystem='local',\n    checkpoint=None\n  ),\n  Result(\n    metrics={'train_accuracy': 1.0, 'train_precision': 1.0, 'train_recall': 1.0, 'train_f1': 1.0, 'train_auc': 1.0, 'train_mean_loss': 8.430383304541396e-06, 'train_sum_loss': 0.0026302795910169152, 'val_accuracy': 1.0, 'val_precision': 1.0, 'val_recall': 1.0, 'val_f1': 1.0, 'val_auc': 1.0, 'val_mean_loss': 5.712966729554693e-06, 'val_sum_loss': 0.0017881585863506189},\n    path='C:/Users/johan/ray_results/trainable_function_2024-03-27_13-07-44/trainable_function_4b6eb48b_8_times=4_2024-03-27_13-37-42',\n    filesystem='local',\n    checkpoint=None\n  )\n]>"
     },
     "execution_count": 23,
     "metadata": {},
     "output_type": "execute_result"
    }
   ],
   "source": [
    "results"
   ],
   "metadata": {
    "collapsed": false,
    "ExecuteTime": {
     "start_time": "2024-03-27T14:00:16.582443Z",
     "end_time": "2024-03-27T14:00:16.823547Z"
    }
   }
  },
  {
   "cell_type": "code",
   "execution_count": 24,
   "outputs": [
    {
     "data": {
      "text/plain": "   train_accuracy  train_precision  train_recall  train_f1  train_auc  \\\n0             1.0              1.0           1.0       1.0        1.0   \n1             1.0              1.0           1.0       1.0        1.0   \n2             1.0              1.0           1.0       1.0        1.0   \n3             1.0              1.0           1.0       1.0        1.0   \n4             1.0              1.0           1.0       1.0        1.0   \n5             1.0              1.0           1.0       1.0        1.0   \n6             1.0              1.0           1.0       1.0        1.0   \n7             1.0              1.0           1.0       1.0        1.0   \n\n   train_mean_loss  train_sum_loss  val_accuracy  val_precision  val_recall  \\\n0         0.000016        0.004904           1.0            1.0         1.0   \n1         0.000005        0.001607           1.0            1.0         1.0   \n2         0.000016        0.004904           1.0            1.0         1.0   \n3         0.000007        0.002065           1.0            1.0         1.0   \n4         0.000015        0.004680           1.0            1.0         1.0   \n5         0.000015        0.004680           1.0            1.0         1.0   \n6         0.000008        0.002631           1.0            1.0         1.0   \n7         0.000008        0.002630           1.0            1.0         1.0   \n\n   ...                 date  time_this_iter_s  time_total_s    pid  \\\n0  ...  2024-03-27_13-13-51         77.716031    358.005894  72652   \n1  ...  2024-03-27_13-17-31        136.835203    572.685076  33296   \n2  ...  2024-03-27_13-19-44         80.343259    352.335147  72652   \n3  ...  2024-03-27_13-28-25        162.061533    654.097617  33296   \n4  ...  2024-03-27_13-28-48        125.257540    543.576355  72652   \n5  ...  2024-03-27_13-37-42        126.576709    555.806898  33296   \n6  ...  2024-03-27_13-43-11        212.295372    861.316045  72652   \n7  ...  2024-03-27_13-49-16        139.040389    693.272027  33296   \n\n       hostname    node_ip  time_since_restore  iterations_since_restore  \\\n0  AT-MB-PC-E13  127.0.0.1          358.005894                         4   \n1  AT-MB-PC-E13  127.0.0.1          572.685076                         4   \n2  AT-MB-PC-E13  127.0.0.1          352.335147                         4   \n3  AT-MB-PC-E13  127.0.0.1          654.097617                         4   \n4  AT-MB-PC-E13  127.0.0.1          543.576355                         4   \n5  AT-MB-PC-E13  127.0.0.1          555.806898                         4   \n6  AT-MB-PC-E13  127.0.0.1          861.316045                         4   \n7  AT-MB-PC-E13  127.0.0.1          693.272027                         4   \n\n  config/model/modules/1/times    logdir  \n0                            1  8c786585  \n1                            3  59dfdd29  \n2                            1  57516cc1  \n3                            3  b0bb4e23  \n4                            2  ffa93e89  \n5                            2  90721da4  \n6                            4  4cd9ac54  \n7                            4  4b6eb48b  \n\n[8 rows x 29 columns]",
      "text/html": "<div>\n<style scoped>\n    .dataframe tbody tr th:only-of-type {\n        vertical-align: middle;\n    }\n\n    .dataframe tbody tr th {\n        vertical-align: top;\n    }\n\n    .dataframe thead th {\n        text-align: right;\n    }\n</style>\n<table border=\"1\" class=\"dataframe\">\n  <thead>\n    <tr style=\"text-align: right;\">\n      <th></th>\n      <th>train_accuracy</th>\n      <th>train_precision</th>\n      <th>train_recall</th>\n      <th>train_f1</th>\n      <th>train_auc</th>\n      <th>train_mean_loss</th>\n      <th>train_sum_loss</th>\n      <th>val_accuracy</th>\n      <th>val_precision</th>\n      <th>val_recall</th>\n      <th>...</th>\n      <th>date</th>\n      <th>time_this_iter_s</th>\n      <th>time_total_s</th>\n      <th>pid</th>\n      <th>hostname</th>\n      <th>node_ip</th>\n      <th>time_since_restore</th>\n      <th>iterations_since_restore</th>\n      <th>config/model/modules/1/times</th>\n      <th>logdir</th>\n    </tr>\n  </thead>\n  <tbody>\n    <tr>\n      <th>0</th>\n      <td>1.0</td>\n      <td>1.0</td>\n      <td>1.0</td>\n      <td>1.0</td>\n      <td>1.0</td>\n      <td>0.000016</td>\n      <td>0.004904</td>\n      <td>1.0</td>\n      <td>1.0</td>\n      <td>1.0</td>\n      <td>...</td>\n      <td>2024-03-27_13-13-51</td>\n      <td>77.716031</td>\n      <td>358.005894</td>\n      <td>72652</td>\n      <td>AT-MB-PC-E13</td>\n      <td>127.0.0.1</td>\n      <td>358.005894</td>\n      <td>4</td>\n      <td>1</td>\n      <td>8c786585</td>\n    </tr>\n    <tr>\n      <th>1</th>\n      <td>1.0</td>\n      <td>1.0</td>\n      <td>1.0</td>\n      <td>1.0</td>\n      <td>1.0</td>\n      <td>0.000005</td>\n      <td>0.001607</td>\n      <td>1.0</td>\n      <td>1.0</td>\n      <td>1.0</td>\n      <td>...</td>\n      <td>2024-03-27_13-17-31</td>\n      <td>136.835203</td>\n      <td>572.685076</td>\n      <td>33296</td>\n      <td>AT-MB-PC-E13</td>\n      <td>127.0.0.1</td>\n      <td>572.685076</td>\n      <td>4</td>\n      <td>3</td>\n      <td>59dfdd29</td>\n    </tr>\n    <tr>\n      <th>2</th>\n      <td>1.0</td>\n      <td>1.0</td>\n      <td>1.0</td>\n      <td>1.0</td>\n      <td>1.0</td>\n      <td>0.000016</td>\n      <td>0.004904</td>\n      <td>1.0</td>\n      <td>1.0</td>\n      <td>1.0</td>\n      <td>...</td>\n      <td>2024-03-27_13-19-44</td>\n      <td>80.343259</td>\n      <td>352.335147</td>\n      <td>72652</td>\n      <td>AT-MB-PC-E13</td>\n      <td>127.0.0.1</td>\n      <td>352.335147</td>\n      <td>4</td>\n      <td>1</td>\n      <td>57516cc1</td>\n    </tr>\n    <tr>\n      <th>3</th>\n      <td>1.0</td>\n      <td>1.0</td>\n      <td>1.0</td>\n      <td>1.0</td>\n      <td>1.0</td>\n      <td>0.000007</td>\n      <td>0.002065</td>\n      <td>1.0</td>\n      <td>1.0</td>\n      <td>1.0</td>\n      <td>...</td>\n      <td>2024-03-27_13-28-25</td>\n      <td>162.061533</td>\n      <td>654.097617</td>\n      <td>33296</td>\n      <td>AT-MB-PC-E13</td>\n      <td>127.0.0.1</td>\n      <td>654.097617</td>\n      <td>4</td>\n      <td>3</td>\n      <td>b0bb4e23</td>\n    </tr>\n    <tr>\n      <th>4</th>\n      <td>1.0</td>\n      <td>1.0</td>\n      <td>1.0</td>\n      <td>1.0</td>\n      <td>1.0</td>\n      <td>0.000015</td>\n      <td>0.004680</td>\n      <td>1.0</td>\n      <td>1.0</td>\n      <td>1.0</td>\n      <td>...</td>\n      <td>2024-03-27_13-28-48</td>\n      <td>125.257540</td>\n      <td>543.576355</td>\n      <td>72652</td>\n      <td>AT-MB-PC-E13</td>\n      <td>127.0.0.1</td>\n      <td>543.576355</td>\n      <td>4</td>\n      <td>2</td>\n      <td>ffa93e89</td>\n    </tr>\n    <tr>\n      <th>5</th>\n      <td>1.0</td>\n      <td>1.0</td>\n      <td>1.0</td>\n      <td>1.0</td>\n      <td>1.0</td>\n      <td>0.000015</td>\n      <td>0.004680</td>\n      <td>1.0</td>\n      <td>1.0</td>\n      <td>1.0</td>\n      <td>...</td>\n      <td>2024-03-27_13-37-42</td>\n      <td>126.576709</td>\n      <td>555.806898</td>\n      <td>33296</td>\n      <td>AT-MB-PC-E13</td>\n      <td>127.0.0.1</td>\n      <td>555.806898</td>\n      <td>4</td>\n      <td>2</td>\n      <td>90721da4</td>\n    </tr>\n    <tr>\n      <th>6</th>\n      <td>1.0</td>\n      <td>1.0</td>\n      <td>1.0</td>\n      <td>1.0</td>\n      <td>1.0</td>\n      <td>0.000008</td>\n      <td>0.002631</td>\n      <td>1.0</td>\n      <td>1.0</td>\n      <td>1.0</td>\n      <td>...</td>\n      <td>2024-03-27_13-43-11</td>\n      <td>212.295372</td>\n      <td>861.316045</td>\n      <td>72652</td>\n      <td>AT-MB-PC-E13</td>\n      <td>127.0.0.1</td>\n      <td>861.316045</td>\n      <td>4</td>\n      <td>4</td>\n      <td>4cd9ac54</td>\n    </tr>\n    <tr>\n      <th>7</th>\n      <td>1.0</td>\n      <td>1.0</td>\n      <td>1.0</td>\n      <td>1.0</td>\n      <td>1.0</td>\n      <td>0.000008</td>\n      <td>0.002630</td>\n      <td>1.0</td>\n      <td>1.0</td>\n      <td>1.0</td>\n      <td>...</td>\n      <td>2024-03-27_13-49-16</td>\n      <td>139.040389</td>\n      <td>693.272027</td>\n      <td>33296</td>\n      <td>AT-MB-PC-E13</td>\n      <td>127.0.0.1</td>\n      <td>693.272027</td>\n      <td>4</td>\n      <td>4</td>\n      <td>4b6eb48b</td>\n    </tr>\n  </tbody>\n</table>\n<p>8 rows × 29 columns</p>\n</div>"
     },
     "execution_count": 24,
     "metadata": {},
     "output_type": "execute_result"
    }
   ],
   "source": [
    "results.get_dataframe()"
   ],
   "metadata": {
    "collapsed": false,
    "ExecuteTime": {
     "start_time": "2024-03-27T14:00:16.599442Z",
     "end_time": "2024-03-27T14:00:16.823547Z"
    }
   }
  },
  {
   "cell_type": "code",
   "execution_count": 25,
   "outputs": [
    {
     "data": {
      "text/plain": "<Figure size 640x480 with 1 Axes>",
      "image/png": "[encoded data removed]"
     },
     "metadata": {},
     "output_type": "display_data"
    }
   ],
   "source": [
    "dfs = {result.path: result.metrics_dataframe for result in results}\n",
    "# Plot by epoch\n",
    "ax = None  # This plots everything on the same plot\n",
    "for d in dfs.values():\n",
    "    ax = d.val_accuracy.plot(ax=ax, legend=False)"
   ],
   "metadata": {
    "collapsed": false,
    "ExecuteTime": {
     "start_time": "2024-03-27T14:00:16.615441Z",
     "end_time": "2024-03-27T14:00:16.824548Z"
    }
   }
  },
  {
   "cell_type": "markdown",
   "source": [
    "## Storing results"
   ],
   "metadata": {
    "collapsed": false
   }
  },
  {
   "cell_type": "code",
   "execution_count": 26,
   "outputs": [
    {
     "data": {
      "text/plain": "{'output_dir': 'results/ptree/default',\n 'config_files': ['configs/hyper_param_opt/subsetting.yaml',\n  'configs/hyper_param_opt/epoch_reduction.yaml',\n  'configs/datasets/rs_dataset.yaml',\n  'configs/models/ptree_default.yaml',\n  'configs/general.yaml'],\n 'search_space': {'model': {'modules': {1: {'times': 'tune.randint(1,6)'}}}},\n 'hyper_settings': {'scheduler': {'grace_period': 2,\n   'reduction_factor': 3,\n   'brackets': 1},\n  'max_concurrent_trials': 2,\n  'num_samples': 8,\n  'stopper': {'num_results': 3, 'metric_threshold': 0.98}}}"
     },
     "metadata": {},
     "output_type": "display_data"
    }
   ],
   "source": [
    "# fetching config file\n",
    "benchmark_config = import_as(\"configs/hyper_param_opt/benchmark_instructions_rs_ptree_default.yaml\")\n",
    "display(benchmark_config)"
   ],
   "metadata": {
    "collapsed": false,
    "ExecuteTime": {
     "start_time": "2024-03-27T14:00:16.706908Z",
     "end_time": "2024-03-27T14:00:16.824548Z"
    }
   }
  },
  {
   "cell_type": "code",
   "execution_count": 27,
   "outputs": [],
   "source": [
    "output_path = benchmark_config['output_dir']\n",
    "\n",
    "# make sure that output_dir exists\n",
    "if not os.path.exists(output_path):\n",
    "    os.mkdir(output_path)"
   ],
   "metadata": {
    "collapsed": false,
    "ExecuteTime": {
     "start_time": "2024-03-27T14:00:16.722908Z",
     "end_time": "2024-03-27T14:00:16.824548Z"
    }
   }
  },
  {
   "cell_type": "code",
   "execution_count": 28,
   "outputs": [
    {
     "data": {
      "text/plain": "{'data': {'subset_size': 10000,\n  'dataset': {'type': 'rs',\n   'mask_chiral_tasks': True,\n   'graph_mode': 'edge',\n   'transformation_mode': 'permutation_tree',\n   'transformation_parameters': {'k': 3}},\n  'loader': {'general': {'n_neighbors_in_circle': 3,\n    'batch_size': 32,\n    'num_workers': 0},\n   'train': {'sampler': 'single_conformer_sampler'},\n   'val': {'sampler': 'full_batch'},\n   'test': {'sampler': 'full_batch'}}},\n 'training': {'n_max_epochs': 10,\n  'loss_function': 'cross_entropy',\n  'optimization_metric': 'accuracy',\n  'optimization_metric_mode': 'max',\n  'task_type': 'classification',\n  'clip_grad_norm': True},\n 'model': {'out_dim': 1,\n  'mode': 'custom',\n  'hidden_dim': 128,\n  'modules': {0: {'type': 'graph_embedding',\n    'parameter': {'node_type': 'linear', 'edge_type': 'linear'}},\n   1: {'type': 'gps_layer',\n    'parameter': {'local_model': 'permutation_tree',\n     'local_model_params': {'k': 3}},\n    'times': 5}},\n  'head': {'type': 'san_head', 'n_layer': 3, 'pool_function': 'add'}},\n 'optimizer': {'type': 'adam_w',\n  'base_learning_rate': 0.001,\n  'weight_decay': 1e-05},\n 'scheduler': {'type': 'cosine_with_warmup',\n  'num_warmup_epochs': 10,\n  'max_epochs': 100}}"
     },
     "metadata": {},
     "output_type": "display_data"
    }
   ],
   "source": [
    "default_config = load_and_merge_default_configs(\n",
    "    benchmark_config['config_files']\n",
    ")\n",
    "display(default_config)"
   ],
   "metadata": {
    "collapsed": false,
    "ExecuteTime": {
     "start_time": "2024-03-27T14:00:16.738667Z",
     "end_time": "2024-03-27T14:00:16.824548Z"
    }
   }
  },
  {
   "cell_type": "code",
   "execution_count": 29,
   "outputs": [],
   "source": [
    "# create absolute path to root dict that is not hyper-opt-run specific\n",
    "default_config['data']['dataset']['root'] = os.path.abspath(\n",
    "    os.path.join(\"src\", default_config['data']['dataset']['type'])\n",
    ")"
   ],
   "metadata": {
    "collapsed": false,
    "ExecuteTime": {
     "start_time": "2024-03-27T14:00:16.754670Z",
     "end_time": "2024-03-27T14:00:16.824548Z"
    }
   }
  },
  {
   "cell_type": "code",
   "execution_count": 30,
   "outputs": [],
   "source": [
    "# currently limit number of epochs\n",
    "default_config['training']['n_max_epochs'] = 3"
   ],
   "metadata": {
    "collapsed": false,
    "ExecuteTime": {
     "start_time": "2024-03-27T14:00:16.769176Z",
     "end_time": "2024-03-27T14:00:16.824548Z"
    }
   }
  },
  {
   "cell_type": "code",
   "execution_count": 31,
   "outputs": [
    {
     "data": {
      "text/plain": "{'data': {'subset_size': 10000,\n  'dataset': {'type': 'rs',\n   'mask_chiral_tasks': True,\n   'graph_mode': 'edge',\n   'transformation_mode': 'permutation_tree',\n   'transformation_parameters': {'k': 3},\n   'root': 'D:\\\\DATEN\\\\Masterarbeit_PTGNN\\\\notebooks\\\\hyperoptimization\\\\src\\\\rs'},\n  'loader': {'general': {'n_neighbors_in_circle': 3,\n    'batch_size': 32,\n    'num_workers': 0},\n   'train': {'sampler': 'single_conformer_sampler'},\n   'val': {'sampler': 'full_batch'},\n   'test': {'sampler': 'full_batch'}}},\n 'training': {'n_max_epochs': 3,\n  'loss_function': 'cross_entropy',\n  'optimization_metric': 'accuracy',\n  'optimization_metric_mode': 'max',\n  'task_type': 'classification',\n  'clip_grad_norm': True},\n 'model': {'out_dim': 1,\n  'mode': 'custom',\n  'hidden_dim': 128,\n  'modules': {0: {'type': 'graph_embedding',\n    'parameter': {'node_type': 'linear', 'edge_type': 'linear'}},\n   1: {'type': 'gps_layer',\n    'parameter': {'local_model': 'permutation_tree',\n     'local_model_params': {'k': 3}},\n    'times': 5}},\n  'head': {'type': 'san_head', 'n_layer': 3, 'pool_function': 'add'}},\n 'optimizer': {'type': 'adam_w',\n  'base_learning_rate': 0.001,\n  'weight_decay': 1e-05},\n 'scheduler': {'type': 'cosine_with_warmup',\n  'num_warmup_epochs': 10,\n  'max_epochs': 100}}"
     },
     "metadata": {},
     "output_type": "display_data"
    }
   ],
   "source": [
    "display(default_config)"
   ],
   "metadata": {
    "collapsed": false,
    "ExecuteTime": {
     "start_time": "2024-03-27T14:00:16.784550Z",
     "end_time": "2024-03-27T14:00:16.824548Z"
    }
   }
  },
  {
   "cell_type": "code",
   "execution_count": 32,
   "outputs": [],
   "source": [
    "# save general configs\n",
    "export_as(default_config, os.path.join(output_path, \"general_config.yaml\"), save_type='yaml')"
   ],
   "metadata": {
    "collapsed": false,
    "ExecuteTime": {
     "start_time": "2024-03-27T14:00:16.800549Z",
     "end_time": "2024-03-27T14:00:16.824548Z"
    }
   }
  },
  {
   "cell_type": "code",
   "execution_count": 33,
   "outputs": [],
   "source": [
    "# save results dataframe\n",
    "results.get_dataframe().to_csv(os.path.join(output_path, \"results.csv\"), index=None)"
   ],
   "metadata": {
    "collapsed": false,
    "ExecuteTime": {
     "start_time": "2024-03-27T14:00:16.829549Z",
     "end_time": "2024-03-27T14:00:16.845031Z"
    }
   }
  },
  {
   "cell_type": "code",
   "execution_count": 34,
   "outputs": [],
   "source": [
    "# for each trial save results\n",
    "for result in results:\n",
    "    # get metrics\n",
    "    trial_metrics = result.metrics_dataframe\n",
    "\n",
    "    # get trial id\n",
    "    trial_id = trial_metrics.trial_id[0]\n",
    "\n",
    "    # get config\n",
    "    trial_config = result.config\n",
    "\n",
    "    # saving\n",
    "    trial_metrics.to_csv(os.path.join(output_path, f\"{trial_id}.csv\"), index=None)\n",
    "    export_as(trial_config, os.path.join(output_path, f\"{trial_id}.yaml\"), save_type='yaml')"
   ],
   "metadata": {
    "collapsed": false,
    "ExecuteTime": {
     "start_time": "2024-03-27T14:00:16.831549Z",
     "end_time": "2024-03-27T14:00:16.928081Z"
    }
   }
  }
 ],
 "metadata": {
  "kernelspec": {
   "display_name": "Python 3",
   "language": "python",
   "name": "python3"
  },
  "language_info": {
   "codemirror_mode": {
    "name": "ipython",
    "version": 2
   },
   "file_extension": ".py",
   "mimetype": "text/x-python",
   "name": "python",
   "nbconvert_exporter": "python",
   "pygments_lexer": "ipython2",
   "version": "2.7.6"
  }
 },
 "nbformat": 4,
 "nbformat_minor": 0
}
