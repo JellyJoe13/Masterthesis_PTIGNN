{
 "cells": [
  {
   "cell_type": "markdown",
   "source": [
    "# Hyperoptimization"
   ],
   "metadata": {
    "collapsed": false
   }
  },
  {
   "cell_type": "markdown",
   "source": [
    "## Import section"
   ],
   "metadata": {
    "collapsed": false
   }
  },
  {
   "cell_type": "code",
   "execution_count": 1,
   "outputs": [],
   "source": [
    "import sys\n",
    "import os\n",
    "from functools import partial\n",
    "\n",
    "import pandas as pd\n",
    "from ray.tune import CLIReporter, JupyterNotebookReporter\n",
    "from ray.tune.schedulers import ASHAScheduler\n",
    "from ray.tune.search.hyperopt import HyperOptSearch\n",
    "\n",
    "sys.path.append(\"../../\")\n",
    "\n",
    "from ptgnn.runtime_config.config_helpers import run_config_adapter, load_and_merge_default_configs\n",
    "from ptgnn.runtime_config.config import import_as, export_as"
   ],
   "metadata": {
    "collapsed": false,
    "ExecuteTime": {
     "start_time": "2024-03-27T18:15:48.108946Z",
     "end_time": "2024-03-27T18:15:52.766315Z"
    }
   }
  },
  {
   "cell_type": "code",
   "execution_count": 2,
   "outputs": [],
   "source": [
    "from ray import tune, train\n",
    "import os"
   ],
   "metadata": {
    "collapsed": false,
    "ExecuteTime": {
     "start_time": "2024-03-27T18:15:52.766315Z",
     "end_time": "2024-03-27T18:15:52.772317Z"
    }
   }
  },
  {
   "cell_type": "markdown",
   "source": [
    "## Load default config"
   ],
   "metadata": {
    "collapsed": false
   }
  },
  {
   "cell_type": "code",
   "execution_count": 3,
   "outputs": [
    {
     "data": {
      "text/plain": "{'output_dir': 'results/ba_chienn',\n 'config_files': ['configs/hyper_param_opt/subsetting.yaml',\n  'configs/add_rwse.yaml',\n  'configs/datasets/binding_affinity.yaml',\n  'configs/models/chienn.yaml',\n  'configs/general.yaml'],\n 'search_space': {'model': {'hidden_dimension': 'tune.choice([64, 128, 256])',\n   'modules': {1: {'times': 'tune.choice([3, 6, 10])',\n     'parameter': {'dropout': 'tune.choice([0.0, 0.2, 0.5])'}}}},\n  'optimizer': {'base_learning_rate': 'tune.choice([0.001, 0.0001, 0.00001])'}},\n 'hyper_settings': {'scheduler': {'grace_period': 5,\n   'reduction_factor': 3,\n   'brackets': 1},\n  'max_concurrent_trials': 5,\n  'num_samples': 50}}"
     },
     "metadata": {},
     "output_type": "display_data"
    }
   ],
   "source": [
    "# fetching config file\n",
    "benchmark_config = import_as(\"configs/hyper_param_opt/benchmark_instructions_bindingaffinity_chienn_rwse.yaml\")\n",
    "display(benchmark_config)"
   ],
   "metadata": {
    "collapsed": false,
    "ExecuteTime": {
     "start_time": "2024-03-27T18:16:03.595192Z",
     "end_time": "2024-03-27T18:16:03.616702Z"
    }
   }
  },
  {
   "cell_type": "code",
   "execution_count": 4,
   "outputs": [
    {
     "data": {
      "text/plain": "{'data': {'subset_size': 10000,\n  'loader': {'general': {'precompute_pos_enc': ['RWSE'],\n    'n_neighbors_in_circle': 3,\n    'batch_size': 32,\n    'num_workers': 0},\n   'train': {'sampler': 'full_batch'},\n   'val': {'sampler': 'full_batch'},\n   'test': {'sampler': 'full_batch'}},\n  'dataset': {'type': 'ba',\n   'mask_chiral_tasks': True,\n   'single_conformer': True,\n   'single_enantiomer': False}},\n 'model': {'modules': {0: {'parameter': {'node_type': 'linear+RWSE',\n     'rwse_params': {'dim_pos_enc': 28, 'norm_type': 'batchnorm'},\n     'edge_type': 'linear'},\n    'type': 'graph_embedding'},\n   1: {'type': 'gps_layer',\n    'parameter': {'local_model': 'chienn', 'local_model_params': {}},\n    'times': 5}},\n  'out_dim': 1,\n  'mode': 'custom',\n  'hidden_dim': 128,\n  'head': {'type': 'san_head', 'n_layer': 3, 'pool_function': 'add'}},\n 'training': {'loss_function': 'l1',\n  'optimization_metric': 'mae',\n  'optimization_metric_mode': 'min',\n  'task_type': 'regression',\n  'n_max_epochs': 100,\n  'clip_grad_norm': True},\n 'optimizer': {'type': 'adam_w',\n  'base_learning_rate': 0.001,\n  'weight_decay': 1e-05},\n 'scheduler': {'type': 'cosine_with_warmup',\n  'num_warmup_epochs': 10,\n  'max_epochs': 100}}"
     },
     "metadata": {},
     "output_type": "display_data"
    }
   ],
   "source": [
    "default_config = load_and_merge_default_configs(\n",
    "    benchmark_config['config_files']\n",
    ")\n",
    "display(default_config)"
   ],
   "metadata": {
    "collapsed": false,
    "ExecuteTime": {
     "start_time": "2024-03-27T18:16:07.860782Z",
     "end_time": "2024-03-27T18:16:07.911636Z"
    }
   }
  },
  {
   "cell_type": "code",
   "execution_count": 5,
   "outputs": [],
   "source": [
    "# create absolute path to root dict that is not hyper-opt-run specific\n",
    "default_config['data']['dataset']['root'] = os.path.abspath(\n",
    "    os.path.join(\"src\", default_config['data']['dataset']['type'])\n",
    ")"
   ],
   "metadata": {
    "collapsed": false,
    "ExecuteTime": {
     "start_time": "2024-03-27T15:06:34.161852Z",
     "end_time": "2024-03-27T15:06:34.191957Z"
    }
   }
  },
  {
   "cell_type": "code",
   "execution_count": 6,
   "outputs": [],
   "source": [
    "# currently limit number of epochs\n",
    "default_config['training']['n_max_epochs'] = 3"
   ],
   "metadata": {
    "collapsed": false,
    "ExecuteTime": {
     "start_time": "2024-03-27T15:06:34.177650Z",
     "end_time": "2024-03-27T15:06:34.202960Z"
    }
   }
  },
  {
   "cell_type": "code",
   "execution_count": 7,
   "outputs": [
    {
     "data": {
      "text/plain": "{'data': {'subset_size': 10000,\n  'dataset': {'type': 'ba',\n   'mask_chiral_tasks': True,\n   'single_conformer': True,\n   'single_enantiomer': False,\n   'root': 'D:\\\\DATEN\\\\Masterarbeit_PTGNN\\\\notebooks\\\\hyperoptimization\\\\src\\\\ba'},\n  'loader': {'general': {'n_neighbors_in_circle': 3,\n    'batch_size': 32,\n    'num_workers': 0},\n   'train': {'sampler': 'full_batch'},\n   'val': {'sampler': 'full_batch'},\n   'test': {'sampler': 'full_batch'}}},\n 'training': {'loss_function': 'l1',\n  'optimization_metric': 'mae',\n  'optimization_metric_mode': 'min',\n  'task_type': 'regression',\n  'n_max_epochs': 3,\n  'clip_grad_norm': True},\n 'model': {'out_dim': 1,\n  'mode': 'custom',\n  'hidden_dim': 128,\n  'modules': {0: {'type': 'graph_embedding',\n    'parameter': {'node_type': 'linear', 'edge_type': 'linear'}},\n   1: {'type': 'gps_layer',\n    'parameter': {'local_model': 'chienn', 'local_model_params': {}},\n    'times': 5}},\n  'head': {'type': 'san_head', 'n_layer': 3, 'pool_function': 'add'}},\n 'optimizer': {'type': 'adam_w',\n  'base_learning_rate': 0.001,\n  'weight_decay': 1e-05},\n 'scheduler': {'type': 'cosine_with_warmup',\n  'num_warmup_epochs': 10,\n  'max_epochs': 100}}"
     },
     "metadata": {},
     "output_type": "display_data"
    }
   ],
   "source": [
    "display(default_config)"
   ],
   "metadata": {
    "collapsed": false,
    "ExecuteTime": {
     "start_time": "2024-03-27T15:06:34.194961Z",
     "end_time": "2024-03-27T15:06:34.210961Z"
    }
   }
  },
  {
   "cell_type": "markdown",
   "source": [
    "## Define search space"
   ],
   "metadata": {
    "collapsed": false
   }
  },
  {
   "cell_type": "code",
   "execution_count": 8,
   "outputs": [],
   "source": [
    "def eval_search_space(d):\n",
    "    for key in d.keys():\n",
    "        temp = d[key]\n",
    "\n",
    "        if isinstance(temp, dict):\n",
    "            eval_search_space(temp)\n",
    "        elif isinstance(temp, str):\n",
    "            d[key] = eval(temp)\n",
    "        else:\n",
    "            raise Exception(\"unknown type in search space, only use str as values\")\n",
    "    return d"
   ],
   "metadata": {
    "collapsed": false,
    "ExecuteTime": {
     "start_time": "2024-03-27T15:06:34.209961Z",
     "end_time": "2024-03-27T15:06:34.240210Z"
    }
   }
  },
  {
   "cell_type": "code",
   "execution_count": 9,
   "outputs": [],
   "source": [
    "search_space = eval_search_space(benchmark_config['search_space'])"
   ],
   "metadata": {
    "collapsed": false,
    "ExecuteTime": {
     "start_time": "2024-03-27T15:06:34.614125Z",
     "end_time": "2024-03-27T15:06:34.629125Z"
    }
   }
  },
  {
   "cell_type": "markdown",
   "source": [
    "## Define trainable function"
   ],
   "metadata": {
    "collapsed": false
   }
  },
  {
   "cell_type": "code",
   "execution_count": 10,
   "outputs": [],
   "source": [
    "#trainable_function = partial(\n",
    "#    run_config_adapter,\n",
    "#    default_config=default_config,\n",
    "#    report=True,\n",
    "#    verbose=False\n",
    "#)"
   ],
   "metadata": {
    "collapsed": false,
    "ExecuteTime": {
     "start_time": "2024-03-27T15:06:36.036157Z",
     "end_time": "2024-03-27T15:06:36.047155Z"
    }
   }
  },
  {
   "cell_type": "code",
   "execution_count": 11,
   "outputs": [],
   "source": [
    "def trainable_function(config):\n",
    "    run_config_adapter(\n",
    "        config,\n",
    "        default_config=default_config,\n",
    "        report=True,\n",
    "        verbose=False,\n",
    "        device=None\n",
    "    )"
   ],
   "metadata": {
    "collapsed": false,
    "ExecuteTime": {
     "start_time": "2024-03-27T15:06:36.627500Z",
     "end_time": "2024-03-27T15:06:36.639499Z"
    }
   }
  },
  {
   "cell_type": "markdown",
   "source": [
    "## Short test"
   ],
   "metadata": {
    "collapsed": false
   }
  },
  {
   "cell_type": "code",
   "execution_count": 12,
   "outputs": [],
   "source": [
    "test_config = {\n",
    "    'training': {\n",
    "        'n_max_epochs': 10\n",
    "    },\n",
    "    'model': {\n",
    "        'modules': {\n",
    "            1: {\n",
    "                'times': 10,\n",
    "                'parameter': {\n",
    "                    'dropout': 0.0\n",
    "                }\n",
    "            }\n",
    "        }\n",
    "    }\n",
    "}"
   ],
   "metadata": {
    "collapsed": false,
    "ExecuteTime": {
     "start_time": "2024-03-27T15:06:37.556638Z",
     "end_time": "2024-03-27T15:06:37.569638Z"
    }
   }
  },
  {
   "cell_type": "code",
   "execution_count": 13,
   "outputs": [
    {
     "name": "stderr",
     "output_type": "stream",
     "text": [
      "100%|██████████| 313/313 [00:45<00:00,  6.92it/s]\n",
      "100%|██████████| 313/313 [00:15<00:00, 19.63it/s]\n",
      "100%|██████████| 313/313 [00:43<00:00,  7.11it/s]\n",
      "100%|██████████| 313/313 [00:12<00:00, 24.32it/s]\n",
      "100%|██████████| 313/313 [00:41<00:00,  7.60it/s]\n",
      "100%|██████████| 313/313 [00:13<00:00, 22.74it/s]\n",
      "100%|██████████| 313/313 [00:40<00:00,  7.79it/s]\n",
      "100%|██████████| 313/313 [00:10<00:00, 29.20it/s]\n",
      "100%|██████████| 313/313 [00:40<00:00,  7.78it/s]\n",
      "100%|██████████| 313/313 [00:11<00:00, 28.07it/s]\n",
      "100%|██████████| 313/313 [00:39<00:00,  7.87it/s]\n",
      "100%|██████████| 313/313 [00:11<00:00, 28.03it/s]\n",
      "100%|██████████| 313/313 [00:39<00:00,  7.88it/s]\n",
      "100%|██████████| 313/313 [00:11<00:00, 28.36it/s]\n",
      "100%|██████████| 313/313 [00:43<00:00,  7.24it/s]\n",
      "100%|██████████| 313/313 [00:14<00:00, 22.12it/s]\n",
      "100%|██████████| 313/313 [00:43<00:00,  7.21it/s]\n",
      "100%|██████████| 313/313 [00:13<00:00, 22.97it/s]\n",
      "100%|██████████| 313/313 [00:46<00:00,  6.77it/s]\n",
      "100%|██████████| 313/313 [00:15<00:00, 20.50it/s]\n"
     ]
    },
    {
     "data": {
      "text/plain": "   train_mae  train_r2  train_spearmanr  train_mse  train_rmse  \\\n0       6.32    -46.78             0.01  41.450001        6.44   \n1       1.00     -1.54             0.45   2.210000        1.48   \n2       0.65      0.15             0.62   0.740000        0.86   \n3       0.62      0.23             0.65   0.670000        0.82   \n4       0.59      0.32             0.68   0.590000        0.77   \n5       0.58      0.33             0.68   0.580000        0.76   \n6       0.56      0.38             0.70   0.540000        0.73   \n7       0.56      0.37             0.68   0.550000        0.74   \n8       0.54      0.42             0.71   0.500000        0.71   \n9       0.63      0.20             0.63   0.690000        0.83   \n\n   train_mean_loss  train_sum_loss  val_mae  val_r2  val_spearmanr  val_mse  \\\n0         6.323124     1979.137805     6.34  -44.41          -0.00    41.68   \n1         0.997718      312.285861     0.61    0.21           0.68     0.72   \n2         0.652221      204.145314     0.53    0.43           0.71     0.52   \n3         0.622831      194.945962     0.71    0.09           0.70     0.84   \n4         0.587877      184.005352     0.88   -0.34           0.67     1.23   \n5         0.581071      181.875252     0.52    0.41           0.77     0.54   \n6         0.559767      175.207074     0.58    0.33           0.78     0.62   \n7         0.563156      176.267884     0.49    0.49           0.79     0.47   \n8         0.539071      168.729372     0.56    0.37           0.71     0.58   \n9         0.631095      197.532643     0.58    0.35           0.66     0.60   \n\n   val_rmse  val_mean_loss  val_sum_loss  \n0      6.46       6.337263   1983.563350  \n1      0.85       0.608687    190.519153  \n2      0.72       0.533190    166.888334  \n3      0.91       0.714616    223.674756  \n4      1.11       0.880165    275.491736  \n5      0.74       0.517844    162.085132  \n6      0.79       0.583751    182.714195  \n7      0.68       0.486559    152.292899  \n8      0.76       0.560216    175.347750  \n9      0.77       0.577578    180.781977  ",
      "text/html": "<div>\n<style scoped>\n    .dataframe tbody tr th:only-of-type {\n        vertical-align: middle;\n    }\n\n    .dataframe tbody tr th {\n        vertical-align: top;\n    }\n\n    .dataframe thead th {\n        text-align: right;\n    }\n</style>\n<table border=\"1\" class=\"dataframe\">\n  <thead>\n    <tr style=\"text-align: right;\">\n      <th></th>\n      <th>train_mae</th>\n      <th>train_r2</th>\n      <th>train_spearmanr</th>\n      <th>train_mse</th>\n      <th>train_rmse</th>\n      <th>train_mean_loss</th>\n      <th>train_sum_loss</th>\n      <th>val_mae</th>\n      <th>val_r2</th>\n      <th>val_spearmanr</th>\n      <th>val_mse</th>\n      <th>val_rmse</th>\n      <th>val_mean_loss</th>\n      <th>val_sum_loss</th>\n    </tr>\n  </thead>\n  <tbody>\n    <tr>\n      <th>0</th>\n      <td>6.32</td>\n      <td>-46.78</td>\n      <td>0.01</td>\n      <td>41.450001</td>\n      <td>6.44</td>\n      <td>6.323124</td>\n      <td>1979.137805</td>\n      <td>6.34</td>\n      <td>-44.41</td>\n      <td>-0.00</td>\n      <td>41.68</td>\n      <td>6.46</td>\n      <td>6.337263</td>\n      <td>1983.563350</td>\n    </tr>\n    <tr>\n      <th>1</th>\n      <td>1.00</td>\n      <td>-1.54</td>\n      <td>0.45</td>\n      <td>2.210000</td>\n      <td>1.48</td>\n      <td>0.997718</td>\n      <td>312.285861</td>\n      <td>0.61</td>\n      <td>0.21</td>\n      <td>0.68</td>\n      <td>0.72</td>\n      <td>0.85</td>\n      <td>0.608687</td>\n      <td>190.519153</td>\n    </tr>\n    <tr>\n      <th>2</th>\n      <td>0.65</td>\n      <td>0.15</td>\n      <td>0.62</td>\n      <td>0.740000</td>\n      <td>0.86</td>\n      <td>0.652221</td>\n      <td>204.145314</td>\n      <td>0.53</td>\n      <td>0.43</td>\n      <td>0.71</td>\n      <td>0.52</td>\n      <td>0.72</td>\n      <td>0.533190</td>\n      <td>166.888334</td>\n    </tr>\n    <tr>\n      <th>3</th>\n      <td>0.62</td>\n      <td>0.23</td>\n      <td>0.65</td>\n      <td>0.670000</td>\n      <td>0.82</td>\n      <td>0.622831</td>\n      <td>194.945962</td>\n      <td>0.71</td>\n      <td>0.09</td>\n      <td>0.70</td>\n      <td>0.84</td>\n      <td>0.91</td>\n      <td>0.714616</td>\n      <td>223.674756</td>\n    </tr>\n    <tr>\n      <th>4</th>\n      <td>0.59</td>\n      <td>0.32</td>\n      <td>0.68</td>\n      <td>0.590000</td>\n      <td>0.77</td>\n      <td>0.587877</td>\n      <td>184.005352</td>\n      <td>0.88</td>\n      <td>-0.34</td>\n      <td>0.67</td>\n      <td>1.23</td>\n      <td>1.11</td>\n      <td>0.880165</td>\n      <td>275.491736</td>\n    </tr>\n    <tr>\n      <th>5</th>\n      <td>0.58</td>\n      <td>0.33</td>\n      <td>0.68</td>\n      <td>0.580000</td>\n      <td>0.76</td>\n      <td>0.581071</td>\n      <td>181.875252</td>\n      <td>0.52</td>\n      <td>0.41</td>\n      <td>0.77</td>\n      <td>0.54</td>\n      <td>0.74</td>\n      <td>0.517844</td>\n      <td>162.085132</td>\n    </tr>\n    <tr>\n      <th>6</th>\n      <td>0.56</td>\n      <td>0.38</td>\n      <td>0.70</td>\n      <td>0.540000</td>\n      <td>0.73</td>\n      <td>0.559767</td>\n      <td>175.207074</td>\n      <td>0.58</td>\n      <td>0.33</td>\n      <td>0.78</td>\n      <td>0.62</td>\n      <td>0.79</td>\n      <td>0.583751</td>\n      <td>182.714195</td>\n    </tr>\n    <tr>\n      <th>7</th>\n      <td>0.56</td>\n      <td>0.37</td>\n      <td>0.68</td>\n      <td>0.550000</td>\n      <td>0.74</td>\n      <td>0.563156</td>\n      <td>176.267884</td>\n      <td>0.49</td>\n      <td>0.49</td>\n      <td>0.79</td>\n      <td>0.47</td>\n      <td>0.68</td>\n      <td>0.486559</td>\n      <td>152.292899</td>\n    </tr>\n    <tr>\n      <th>8</th>\n      <td>0.54</td>\n      <td>0.42</td>\n      <td>0.71</td>\n      <td>0.500000</td>\n      <td>0.71</td>\n      <td>0.539071</td>\n      <td>168.729372</td>\n      <td>0.56</td>\n      <td>0.37</td>\n      <td>0.71</td>\n      <td>0.58</td>\n      <td>0.76</td>\n      <td>0.560216</td>\n      <td>175.347750</td>\n    </tr>\n    <tr>\n      <th>9</th>\n      <td>0.63</td>\n      <td>0.20</td>\n      <td>0.63</td>\n      <td>0.690000</td>\n      <td>0.83</td>\n      <td>0.631095</td>\n      <td>197.532643</td>\n      <td>0.58</td>\n      <td>0.35</td>\n      <td>0.66</td>\n      <td>0.60</td>\n      <td>0.77</td>\n      <td>0.577578</td>\n      <td>180.781977</td>\n    </tr>\n  </tbody>\n</table>\n</div>"
     },
     "execution_count": 13,
     "metadata": {},
     "output_type": "execute_result"
    }
   ],
   "source": [
    "test_fn = partial(\n",
    "    run_config_adapter,\n",
    "    default_config=default_config,\n",
    "    report=False,\n",
    "    verbose=True,\n",
    "    device='cuda'\n",
    ")\n",
    "test_fn(test_config)"
   ],
   "metadata": {
    "collapsed": false,
    "ExecuteTime": {
     "start_time": "2024-03-27T15:06:43.727288Z",
     "end_time": "2024-03-27T15:16:04.481361Z"
    }
   }
  },
  {
   "cell_type": "code",
   "execution_count": 31,
   "outputs": [
    {
     "name": "stderr",
     "output_type": "stream",
     "text": [
      "312it [02:49,  1.84it/s]\n",
      "100%|██████████| 313/313 [00:32<00:00,  9.75it/s]\n",
      "312it [02:22,  2.20it/s]\n",
      "100%|██████████| 313/313 [00:28<00:00, 11.15it/s]\n"
     ]
    },
    {
     "data": {
      "text/plain": "   train_accuracy  train_precision  train_recall  train_f1  train_auc  \\\n0            0.51             0.67          0.05      0.10       0.55   \n1            0.99             1.00          0.99      0.99       1.00   \n\n   train_mean_loss  train_sum_loss  val_accuracy  val_precision  val_recall  \\\n0         0.981054      306.089000          0.51           0.67        0.05   \n1         0.017814        5.557829          1.00           1.00        1.00   \n\n   val_f1  val_auc  val_mean_loss  val_sum_loss  \n0    0.09     0.55       0.976364    305.601873  \n1    1.00     1.00       0.000069      0.021534  ",
      "text/html": "<div>\n<style scoped>\n    .dataframe tbody tr th:only-of-type {\n        vertical-align: middle;\n    }\n\n    .dataframe tbody tr th {\n        vertical-align: top;\n    }\n\n    .dataframe thead th {\n        text-align: right;\n    }\n</style>\n<table border=\"1\" class=\"dataframe\">\n  <thead>\n    <tr style=\"text-align: right;\">\n      <th></th>\n      <th>train_accuracy</th>\n      <th>train_precision</th>\n      <th>train_recall</th>\n      <th>train_f1</th>\n      <th>train_auc</th>\n      <th>train_mean_loss</th>\n      <th>train_sum_loss</th>\n      <th>val_accuracy</th>\n      <th>val_precision</th>\n      <th>val_recall</th>\n      <th>val_f1</th>\n      <th>val_auc</th>\n      <th>val_mean_loss</th>\n      <th>val_sum_loss</th>\n    </tr>\n  </thead>\n  <tbody>\n    <tr>\n      <th>0</th>\n      <td>0.51</td>\n      <td>0.67</td>\n      <td>0.05</td>\n      <td>0.10</td>\n      <td>0.55</td>\n      <td>0.981054</td>\n      <td>306.089000</td>\n      <td>0.51</td>\n      <td>0.67</td>\n      <td>0.05</td>\n      <td>0.09</td>\n      <td>0.55</td>\n      <td>0.976364</td>\n      <td>305.601873</td>\n    </tr>\n    <tr>\n      <th>1</th>\n      <td>0.99</td>\n      <td>1.00</td>\n      <td>0.99</td>\n      <td>0.99</td>\n      <td>1.00</td>\n      <td>0.017814</td>\n      <td>5.557829</td>\n      <td>1.00</td>\n      <td>1.00</td>\n      <td>1.00</td>\n      <td>1.00</td>\n      <td>1.00</td>\n      <td>0.000069</td>\n      <td>0.021534</td>\n    </tr>\n  </tbody>\n</table>\n</div>"
     },
     "execution_count": 31,
     "metadata": {},
     "output_type": "execute_result"
    }
   ],
   "source": [
    "test_fn = partial(\n",
    "    run_config_adapter,\n",
    "    default_config=default_config,\n",
    "    report=False,\n",
    "    verbose=True,\n",
    "    device='cpu'\n",
    ")\n",
    "test_fn(test_config)"
   ],
   "metadata": {
    "collapsed": false,
    "ExecuteTime": {
     "start_time": "2024-03-26T19:21:04.632345Z",
     "end_time": "2024-03-26T19:27:41.313372Z"
    }
   }
  },
  {
   "cell_type": "markdown",
   "source": [
    "## Set up tuner"
   ],
   "metadata": {
    "collapsed": false
   }
  },
  {
   "cell_type": "code",
   "execution_count": 12,
   "outputs": [],
   "source": [
    "# fetch score to optimize\n",
    "optimization_score = \"val_\" + default_config['training']['optimization_metric']\n",
    "score_mode = default_config['training']['optimization_metric_mode']"
   ],
   "metadata": {
    "collapsed": false,
    "ExecuteTime": {
     "start_time": "2024-03-27T10:48:39.662347Z",
     "end_time": "2024-03-27T10:48:39.677348Z"
    }
   }
  },
  {
   "cell_type": "code",
   "execution_count": null,
   "outputs": [],
   "source": [
    "# fetch hyperopt settings\n",
    "hyper_settings = benchmark_config['hyper_settings']"
   ],
   "metadata": {
    "collapsed": false
   }
  },
  {
   "cell_type": "code",
   "execution_count": 13,
   "outputs": [
    {
     "name": "stderr",
     "output_type": "stream",
     "text": [
      "2024-03-27 10:48:54,163\tINFO worker.py:1724 -- Started a local Ray instance.\n",
      "2024-03-27 10:48:55,338\tINFO tune.py:220 -- Initializing Ray automatically. For cluster usage or custom Ray initialization, call `ray.init(...)` before `Tuner(...)`.\n",
      "2024-03-27 10:48:55,340\tINFO tune.py:583 -- [output] This uses the legacy output and progress reporter, as Jupyter notebooks are not supported by the new engine, yet. For more information, please see https://github.com/ray-project/ray/issues/36949\n"
     ]
    },
    {
     "name": "stdout",
     "output_type": "stream",
     "text": [
      "== Status ==\n",
      "Current time: 2024-03-27 10:48:55 (running for 00:00:00.11)\n",
      "Using AsyncHyperBand: num_stopped=0\n",
      "Bracket: Iter 81.000: None | Iter 27.000: None | Iter 9.000: None | Iter 3.000: None | Iter 1.000: None\n",
      "Logical resource usage: 5.0/20 CPUs, 0.5/1 GPUs (0.0/1.0 accelerator_type:G)\n",
      "Result logdir: C:/Users/johan/ray_results/trainable_function_2024-03-27_10-48-51\n",
      "Number of trials: 1/2 (1 PENDING)\n",
      "+-----------------------------+----------+-------+------------------------+\n",
      "| Trial name                  | status   | loc   | model/modules/1/time   |\n",
      "|                             |          |       | s                      |\n",
      "|-----------------------------+----------+-------+------------------------|\n",
      "| trainable_function_eef38c8f | PENDING  |       |                        |\n",
      "+-----------------------------+----------+-------+------------------------+\n",
      "\n",
      "\n",
      "== Status ==\n",
      "Current time: 2024-03-27 10:49:00 (running for 00:00:05.18)\n",
      "Using AsyncHyperBand: num_stopped=0\n",
      "Bracket: Iter 81.000: None | Iter 27.000: None | Iter 9.000: None | Iter 3.000: None | Iter 1.000: None\n",
      "Logical resource usage: 10.0/20 CPUs, 1.0/1 GPUs (0.0/1.0 accelerator_type:G)\n",
      "Result logdir: C:/Users/johan/ray_results/trainable_function_2024-03-27_10-48-51\n",
      "Number of trials: 2/2 (1 PENDING, 1 RUNNING)\n",
      "+-----------------------------+----------+-----------------+------------------------+\n",
      "| Trial name                  | status   | loc             | model/modules/1/time   |\n",
      "|                             |          |                 | s                      |\n",
      "|-----------------------------+----------+-----------------+------------------------|\n",
      "| trainable_function_eef38c8f | RUNNING  | 127.0.0.1:65460 |                        |\n",
      "| trainable_function_f66869a0 | PENDING  |                 |                        |\n",
      "+-----------------------------+----------+-----------------+------------------------+\n",
      "\n",
      "\n",
      "== Status ==\n",
      "Current time: 2024-03-27 10:49:05 (running for 00:00:10.20)\n",
      "Using AsyncHyperBand: num_stopped=0\n",
      "Bracket: Iter 81.000: None | Iter 27.000: None | Iter 9.000: None | Iter 3.000: None | Iter 1.000: None\n",
      "Logical resource usage: 10.0/20 CPUs, 1.0/1 GPUs (0.0/1.0 accelerator_type:G)\n",
      "Result logdir: C:/Users/johan/ray_results/trainable_function_2024-03-27_10-48-51\n",
      "Number of trials: 2/2 (1 PENDING, 1 RUNNING)\n",
      "+-----------------------------+----------+-----------------+------------------------+\n",
      "| Trial name                  | status   | loc             | model/modules/1/time   |\n",
      "|                             |          |                 | s                      |\n",
      "|-----------------------------+----------+-----------------+------------------------|\n",
      "| trainable_function_eef38c8f | RUNNING  | 127.0.0.1:65460 |                        |\n",
      "| trainable_function_f66869a0 | PENDING  |                 |                        |\n",
      "+-----------------------------+----------+-----------------+------------------------+\n",
      "\n",
      "\n",
      "== Status ==\n",
      "Current time: 2024-03-27 10:49:10 (running for 00:00:15.25)\n",
      "Using AsyncHyperBand: num_stopped=0\n",
      "Bracket: Iter 81.000: None | Iter 27.000: None | Iter 9.000: None | Iter 3.000: None | Iter 1.000: None\n",
      "Logical resource usage: 10.0/20 CPUs, 1.0/1 GPUs (0.0/1.0 accelerator_type:G)\n",
      "Result logdir: C:/Users/johan/ray_results/trainable_function_2024-03-27_10-48-51\n",
      "Number of trials: 2/2 (2 RUNNING)\n",
      "+-----------------------------+----------+-----------------+------------------------+\n",
      "| Trial name                  | status   | loc             | model/modules/1/time   |\n",
      "|                             |          |                 | s                      |\n",
      "|-----------------------------+----------+-----------------+------------------------|\n",
      "| trainable_function_eef38c8f | RUNNING  | 127.0.0.1:65460 |                        |\n",
      "| trainable_function_f66869a0 | RUNNING  | 127.0.0.1:37364 |                        |\n",
      "+-----------------------------+----------+-----------------+------------------------+\n",
      "\n",
      "\n",
      "== Status ==\n",
      "Current time: 2024-03-27 10:49:15 (running for 00:00:20.27)\n",
      "Using AsyncHyperBand: num_stopped=0\n",
      "Bracket: Iter 81.000: None | Iter 27.000: None | Iter 9.000: None | Iter 3.000: None | Iter 1.000: None\n",
      "Logical resource usage: 10.0/20 CPUs, 1.0/1 GPUs (0.0/1.0 accelerator_type:G)\n",
      "Result logdir: C:/Users/johan/ray_results/trainable_function_2024-03-27_10-48-51\n",
      "Number of trials: 2/2 (2 RUNNING)\n",
      "+-----------------------------+----------+-----------------+------------------------+\n",
      "| Trial name                  | status   | loc             | model/modules/1/time   |\n",
      "|                             |          |                 | s                      |\n",
      "|-----------------------------+----------+-----------------+------------------------|\n",
      "| trainable_function_eef38c8f | RUNNING  | 127.0.0.1:65460 |                        |\n",
      "| trainable_function_f66869a0 | RUNNING  | 127.0.0.1:37364 |                        |\n",
      "+-----------------------------+----------+-----------------+------------------------+\n",
      "\n",
      "\n",
      "== Status ==\n",
      "Current time: 2024-03-27 10:49:20 (running for 00:00:25.31)\n",
      "Using AsyncHyperBand: num_stopped=0\n",
      "Bracket: Iter 81.000: None | Iter 27.000: None | Iter 9.000: None | Iter 3.000: None | Iter 1.000: None\n",
      "Logical resource usage: 10.0/20 CPUs, 1.0/1 GPUs (0.0/1.0 accelerator_type:G)\n",
      "Result logdir: C:/Users/johan/ray_results/trainable_function_2024-03-27_10-48-51\n",
      "Number of trials: 2/2 (2 RUNNING)\n",
      "+-----------------------------+----------+-----------------+------------------------+\n",
      "| Trial name                  | status   | loc             | model/modules/1/time   |\n",
      "|                             |          |                 | s                      |\n",
      "|-----------------------------+----------+-----------------+------------------------|\n",
      "| trainable_function_eef38c8f | RUNNING  | 127.0.0.1:65460 |                        |\n",
      "| trainable_function_f66869a0 | RUNNING  | 127.0.0.1:37364 |                        |\n",
      "+-----------------------------+----------+-----------------+------------------------+\n",
      "\n",
      "\n",
      "== Status ==\n",
      "Current time: 2024-03-27 10:49:25 (running for 00:00:30.35)\n",
      "Using AsyncHyperBand: num_stopped=0\n",
      "Bracket: Iter 81.000: None | Iter 27.000: None | Iter 9.000: None | Iter 3.000: None | Iter 1.000: None\n",
      "Logical resource usage: 10.0/20 CPUs, 1.0/1 GPUs (0.0/1.0 accelerator_type:G)\n",
      "Result logdir: C:/Users/johan/ray_results/trainable_function_2024-03-27_10-48-51\n",
      "Number of trials: 2/2 (2 RUNNING)\n",
      "+-----------------------------+----------+-----------------+------------------------+\n",
      "| Trial name                  | status   | loc             | model/modules/1/time   |\n",
      "|                             |          |                 | s                      |\n",
      "|-----------------------------+----------+-----------------+------------------------|\n",
      "| trainable_function_eef38c8f | RUNNING  | 127.0.0.1:65460 |                        |\n",
      "| trainable_function_f66869a0 | RUNNING  | 127.0.0.1:37364 |                        |\n",
      "+-----------------------------+----------+-----------------+------------------------+\n",
      "\n",
      "\n",
      "== Status ==\n",
      "Current time: 2024-03-27 10:49:30 (running for 00:00:35.39)\n",
      "Using AsyncHyperBand: num_stopped=0\n",
      "Bracket: Iter 81.000: None | Iter 27.000: None | Iter 9.000: None | Iter 3.000: None | Iter 1.000: None\n",
      "Logical resource usage: 10.0/20 CPUs, 1.0/1 GPUs (0.0/1.0 accelerator_type:G)\n",
      "Result logdir: C:/Users/johan/ray_results/trainable_function_2024-03-27_10-48-51\n",
      "Number of trials: 2/2 (2 RUNNING)\n",
      "+-----------------------------+----------+-----------------+------------------------+\n",
      "| Trial name                  | status   | loc             | model/modules/1/time   |\n",
      "|                             |          |                 | s                      |\n",
      "|-----------------------------+----------+-----------------+------------------------|\n",
      "| trainable_function_eef38c8f | RUNNING  | 127.0.0.1:65460 |                        |\n",
      "| trainable_function_f66869a0 | RUNNING  | 127.0.0.1:37364 |                        |\n",
      "+-----------------------------+----------+-----------------+------------------------+\n",
      "\n",
      "\n",
      "== Status ==\n",
      "Current time: 2024-03-27 10:49:35 (running for 00:00:40.41)\n",
      "Using AsyncHyperBand: num_stopped=0\n",
      "Bracket: Iter 81.000: None | Iter 27.000: None | Iter 9.000: None | Iter 3.000: None | Iter 1.000: None\n",
      "Logical resource usage: 10.0/20 CPUs, 1.0/1 GPUs (0.0/1.0 accelerator_type:G)\n",
      "Result logdir: C:/Users/johan/ray_results/trainable_function_2024-03-27_10-48-51\n",
      "Number of trials: 2/2 (2 RUNNING)\n",
      "+-----------------------------+----------+-----------------+------------------------+\n",
      "| Trial name                  | status   | loc             | model/modules/1/time   |\n",
      "|                             |          |                 | s                      |\n",
      "|-----------------------------+----------+-----------------+------------------------|\n",
      "| trainable_function_eef38c8f | RUNNING  | 127.0.0.1:65460 |                        |\n",
      "| trainable_function_f66869a0 | RUNNING  | 127.0.0.1:37364 |                        |\n",
      "+-----------------------------+----------+-----------------+------------------------+\n",
      "\n",
      "\n",
      "== Status ==\n",
      "Current time: 2024-03-27 10:49:40 (running for 00:00:45.41)\n",
      "Using AsyncHyperBand: num_stopped=0\n",
      "Bracket: Iter 81.000: None | Iter 27.000: None | Iter 9.000: None | Iter 3.000: None | Iter 1.000: None\n",
      "Logical resource usage: 10.0/20 CPUs, 1.0/1 GPUs (0.0/1.0 accelerator_type:G)\n",
      "Result logdir: C:/Users/johan/ray_results/trainable_function_2024-03-27_10-48-51\n",
      "Number of trials: 2/2 (2 RUNNING)\n",
      "+-----------------------------+----------+-----------------+------------------------+\n",
      "| Trial name                  | status   | loc             | model/modules/1/time   |\n",
      "|                             |          |                 | s                      |\n",
      "|-----------------------------+----------+-----------------+------------------------|\n",
      "| trainable_function_eef38c8f | RUNNING  | 127.0.0.1:65460 |                        |\n",
      "| trainable_function_f66869a0 | RUNNING  | 127.0.0.1:37364 |                        |\n",
      "+-----------------------------+----------+-----------------+------------------------+\n",
      "\n",
      "\n",
      "== Status ==\n",
      "Current time: 2024-03-27 10:49:45 (running for 00:00:50.43)\n",
      "Using AsyncHyperBand: num_stopped=0\n",
      "Bracket: Iter 81.000: None | Iter 27.000: None | Iter 9.000: None | Iter 3.000: None | Iter 1.000: None\n",
      "Logical resource usage: 10.0/20 CPUs, 1.0/1 GPUs (0.0/1.0 accelerator_type:G)\n",
      "Result logdir: C:/Users/johan/ray_results/trainable_function_2024-03-27_10-48-51\n",
      "Number of trials: 2/2 (2 RUNNING)\n",
      "+-----------------------------+----------+-----------------+------------------------+\n",
      "| Trial name                  | status   | loc             | model/modules/1/time   |\n",
      "|                             |          |                 | s                      |\n",
      "|-----------------------------+----------+-----------------+------------------------|\n",
      "| trainable_function_eef38c8f | RUNNING  | 127.0.0.1:65460 |                        |\n",
      "| trainable_function_f66869a0 | RUNNING  | 127.0.0.1:37364 |                        |\n",
      "+-----------------------------+----------+-----------------+------------------------+\n",
      "\n",
      "\n",
      "== Status ==\n",
      "Current time: 2024-03-27 10:49:50 (running for 00:00:55.44)\n",
      "Using AsyncHyperBand: num_stopped=0\n",
      "Bracket: Iter 81.000: None | Iter 27.000: None | Iter 9.000: None | Iter 3.000: None | Iter 1.000: None\n",
      "Logical resource usage: 10.0/20 CPUs, 1.0/1 GPUs (0.0/1.0 accelerator_type:G)\n",
      "Result logdir: C:/Users/johan/ray_results/trainable_function_2024-03-27_10-48-51\n",
      "Number of trials: 2/2 (2 RUNNING)\n",
      "+-----------------------------+----------+-----------------+------------------------+\n",
      "| Trial name                  | status   | loc             | model/modules/1/time   |\n",
      "|                             |          |                 | s                      |\n",
      "|-----------------------------+----------+-----------------+------------------------|\n",
      "| trainable_function_eef38c8f | RUNNING  | 127.0.0.1:65460 |                        |\n",
      "| trainable_function_f66869a0 | RUNNING  | 127.0.0.1:37364 |                        |\n",
      "+-----------------------------+----------+-----------------+------------------------+\n",
      "\n",
      "\n",
      "== Status ==\n",
      "Current time: 2024-03-27 10:49:55 (running for 00:01:00.45)\n",
      "Using AsyncHyperBand: num_stopped=0\n",
      "Bracket: Iter 81.000: None | Iter 27.000: None | Iter 9.000: None | Iter 3.000: None | Iter 1.000: None\n",
      "Logical resource usage: 10.0/20 CPUs, 1.0/1 GPUs (0.0/1.0 accelerator_type:G)\n",
      "Result logdir: C:/Users/johan/ray_results/trainable_function_2024-03-27_10-48-51\n",
      "Number of trials: 2/2 (2 RUNNING)\n",
      "+-----------------------------+----------+-----------------+------------------------+\n",
      "| Trial name                  | status   | loc             | model/modules/1/time   |\n",
      "|                             |          |                 | s                      |\n",
      "|-----------------------------+----------+-----------------+------------------------|\n",
      "| trainable_function_eef38c8f | RUNNING  | 127.0.0.1:65460 |                        |\n",
      "| trainable_function_f66869a0 | RUNNING  | 127.0.0.1:37364 |                        |\n",
      "+-----------------------------+----------+-----------------+------------------------+\n",
      "\n",
      "\n",
      "== Status ==\n",
      "Current time: 2024-03-27 10:50:00 (running for 00:01:05.46)\n",
      "Using AsyncHyperBand: num_stopped=0\n",
      "Bracket: Iter 81.000: None | Iter 27.000: None | Iter 9.000: None | Iter 3.000: None | Iter 1.000: None\n",
      "Logical resource usage: 10.0/20 CPUs, 1.0/1 GPUs (0.0/1.0 accelerator_type:G)\n",
      "Result logdir: C:/Users/johan/ray_results/trainable_function_2024-03-27_10-48-51\n",
      "Number of trials: 2/2 (2 RUNNING)\n",
      "+-----------------------------+----------+-----------------+------------------------+\n",
      "| Trial name                  | status   | loc             | model/modules/1/time   |\n",
      "|                             |          |                 | s                      |\n",
      "|-----------------------------+----------+-----------------+------------------------|\n",
      "| trainable_function_eef38c8f | RUNNING  | 127.0.0.1:65460 |                        |\n",
      "| trainable_function_f66869a0 | RUNNING  | 127.0.0.1:37364 |                        |\n",
      "+-----------------------------+----------+-----------------+------------------------+\n",
      "\n",
      "\n",
      "== Status ==\n",
      "Current time: 2024-03-27 10:50:05 (running for 00:01:10.48)\n",
      "Using AsyncHyperBand: num_stopped=0\n",
      "Bracket: Iter 81.000: None | Iter 27.000: None | Iter 9.000: None | Iter 3.000: None | Iter 1.000: None\n",
      "Logical resource usage: 10.0/20 CPUs, 1.0/1 GPUs (0.0/1.0 accelerator_type:G)\n",
      "Result logdir: C:/Users/johan/ray_results/trainable_function_2024-03-27_10-48-51\n",
      "Number of trials: 2/2 (2 RUNNING)\n",
      "+-----------------------------+----------+-----------------+------------------------+\n",
      "| Trial name                  | status   | loc             | model/modules/1/time   |\n",
      "|                             |          |                 | s                      |\n",
      "|-----------------------------+----------+-----------------+------------------------|\n",
      "| trainable_function_eef38c8f | RUNNING  | 127.0.0.1:65460 |                        |\n",
      "| trainable_function_f66869a0 | RUNNING  | 127.0.0.1:37364 |                        |\n",
      "+-----------------------------+----------+-----------------+------------------------+\n",
      "\n",
      "\n",
      "== Status ==\n",
      "Current time: 2024-03-27 10:50:10 (running for 00:01:15.49)\n",
      "Using AsyncHyperBand: num_stopped=0\n",
      "Bracket: Iter 81.000: None | Iter 27.000: None | Iter 9.000: None | Iter 3.000: None | Iter 1.000: None\n",
      "Logical resource usage: 10.0/20 CPUs, 1.0/1 GPUs (0.0/1.0 accelerator_type:G)\n",
      "Result logdir: C:/Users/johan/ray_results/trainable_function_2024-03-27_10-48-51\n",
      "Number of trials: 2/2 (2 RUNNING)\n",
      "+-----------------------------+----------+-----------------+------------------------+\n",
      "| Trial name                  | status   | loc             | model/modules/1/time   |\n",
      "|                             |          |                 | s                      |\n",
      "|-----------------------------+----------+-----------------+------------------------|\n",
      "| trainable_function_eef38c8f | RUNNING  | 127.0.0.1:65460 |                        |\n",
      "| trainable_function_f66869a0 | RUNNING  | 127.0.0.1:37364 |                        |\n",
      "+-----------------------------+----------+-----------------+------------------------+\n",
      "\n",
      "\n",
      "== Status ==\n",
      "Current time: 2024-03-27 10:50:15 (running for 00:01:20.52)\n",
      "Using AsyncHyperBand: num_stopped=0\n",
      "Bracket: Iter 81.000: None | Iter 27.000: None | Iter 9.000: None | Iter 3.000: None | Iter 1.000: None\n",
      "Logical resource usage: 10.0/20 CPUs, 1.0/1 GPUs (0.0/1.0 accelerator_type:G)\n",
      "Result logdir: C:/Users/johan/ray_results/trainable_function_2024-03-27_10-48-51\n",
      "Number of trials: 2/2 (2 RUNNING)\n",
      "+-----------------------------+----------+-----------------+------------------------+\n",
      "| Trial name                  | status   | loc             | model/modules/1/time   |\n",
      "|                             |          |                 | s                      |\n",
      "|-----------------------------+----------+-----------------+------------------------|\n",
      "| trainable_function_eef38c8f | RUNNING  | 127.0.0.1:65460 |                        |\n",
      "| trainable_function_f66869a0 | RUNNING  | 127.0.0.1:37364 |                        |\n",
      "+-----------------------------+----------+-----------------+------------------------+\n",
      "\n",
      "\n",
      "== Status ==\n",
      "Current time: 2024-03-27 10:50:20 (running for 00:01:25.53)\n",
      "Using AsyncHyperBand: num_stopped=0\n",
      "Bracket: Iter 81.000: None | Iter 27.000: None | Iter 9.000: None | Iter 3.000: None | Iter 1.000: None\n",
      "Logical resource usage: 10.0/20 CPUs, 1.0/1 GPUs (0.0/1.0 accelerator_type:G)\n",
      "Result logdir: C:/Users/johan/ray_results/trainable_function_2024-03-27_10-48-51\n",
      "Number of trials: 2/2 (2 RUNNING)\n",
      "+-----------------------------+----------+-----------------+------------------------+\n",
      "| Trial name                  | status   | loc             | model/modules/1/time   |\n",
      "|                             |          |                 | s                      |\n",
      "|-----------------------------+----------+-----------------+------------------------|\n",
      "| trainable_function_eef38c8f | RUNNING  | 127.0.0.1:65460 |                        |\n",
      "| trainable_function_f66869a0 | RUNNING  | 127.0.0.1:37364 |                        |\n",
      "+-----------------------------+----------+-----------------+------------------------+\n",
      "\n",
      "\n",
      "== Status ==\n",
      "Current time: 2024-03-27 10:50:25 (running for 00:01:30.56)\n",
      "Using AsyncHyperBand: num_stopped=0\n",
      "Bracket: Iter 81.000: None | Iter 27.000: None | Iter 9.000: None | Iter 3.000: None | Iter 1.000: None\n",
      "Logical resource usage: 10.0/20 CPUs, 1.0/1 GPUs (0.0/1.0 accelerator_type:G)\n",
      "Result logdir: C:/Users/johan/ray_results/trainable_function_2024-03-27_10-48-51\n",
      "Number of trials: 2/2 (2 RUNNING)\n",
      "+-----------------------------+----------+-----------------+------------------------+\n",
      "| Trial name                  | status   | loc             | model/modules/1/time   |\n",
      "|                             |          |                 | s                      |\n",
      "|-----------------------------+----------+-----------------+------------------------|\n",
      "| trainable_function_eef38c8f | RUNNING  | 127.0.0.1:65460 |                        |\n",
      "| trainable_function_f66869a0 | RUNNING  | 127.0.0.1:37364 |                        |\n",
      "+-----------------------------+----------+-----------------+------------------------+\n",
      "\n",
      "\n",
      "== Status ==\n",
      "Current time: 2024-03-27 10:50:30 (running for 00:01:35.57)\n",
      "Using AsyncHyperBand: num_stopped=0\n",
      "Bracket: Iter 81.000: None | Iter 27.000: None | Iter 9.000: None | Iter 3.000: None | Iter 1.000: 0.49\n",
      "Logical resource usage: 10.0/20 CPUs, 1.0/1 GPUs (0.0/1.0 accelerator_type:G)\n",
      "Current best trial: eef38c8f with val_accuracy=0.49 and parameters={'model': {'modules': {1: {'times': 2}}}}\n",
      "Result logdir: C:/Users/johan/ray_results/trainable_function_2024-03-27_10-48-51\n",
      "Number of trials: 2/2 (2 RUNNING)\n",
      "+-----------------------------+----------+-----------------+------------------------+\n",
      "| Trial name                  | status   | loc             | model/modules/1/time   |\n",
      "|                             |          |                 | s                      |\n",
      "|-----------------------------+----------+-----------------+------------------------|\n",
      "| trainable_function_eef38c8f | RUNNING  | 127.0.0.1:65460 |                        |\n",
      "| trainable_function_f66869a0 | RUNNING  | 127.0.0.1:37364 |                        |\n",
      "+-----------------------------+----------+-----------------+------------------------+\n",
      "\n",
      "\n",
      "== Status ==\n",
      "Current time: 2024-03-27 10:50:35 (running for 00:01:40.60)\n",
      "Using AsyncHyperBand: num_stopped=0\n",
      "Bracket: Iter 81.000: None | Iter 27.000: None | Iter 9.000: None | Iter 3.000: None | Iter 1.000: 0.49\n",
      "Logical resource usage: 10.0/20 CPUs, 1.0/1 GPUs (0.0/1.0 accelerator_type:G)\n",
      "Current best trial: eef38c8f with val_accuracy=0.49 and parameters={'model': {'modules': {1: {'times': 2}}}}\n",
      "Result logdir: C:/Users/johan/ray_results/trainable_function_2024-03-27_10-48-51\n",
      "Number of trials: 2/2 (2 RUNNING)\n",
      "+-----------------------------+----------+-----------------+------------------------+\n",
      "| Trial name                  | status   | loc             | model/modules/1/time   |\n",
      "|                             |          |                 | s                      |\n",
      "|-----------------------------+----------+-----------------+------------------------|\n",
      "| trainable_function_eef38c8f | RUNNING  | 127.0.0.1:65460 |                        |\n",
      "| trainable_function_f66869a0 | RUNNING  | 127.0.0.1:37364 |                        |\n",
      "+-----------------------------+----------+-----------------+------------------------+\n",
      "\n",
      "\n",
      "== Status ==\n",
      "Current time: 2024-03-27 10:50:41 (running for 00:01:45.66)\n",
      "Using AsyncHyperBand: num_stopped=0\n",
      "Bracket: Iter 81.000: None | Iter 27.000: None | Iter 9.000: None | Iter 3.000: None | Iter 1.000: 0.49\n",
      "Logical resource usage: 10.0/20 CPUs, 1.0/1 GPUs (0.0/1.0 accelerator_type:G)\n",
      "Current best trial: eef38c8f with val_accuracy=0.49 and parameters={'model': {'modules': {1: {'times': 2}}}}\n",
      "Result logdir: C:/Users/johan/ray_results/trainable_function_2024-03-27_10-48-51\n",
      "Number of trials: 2/2 (2 RUNNING)\n",
      "+-----------------------------+----------+-----------------+------------------------+\n",
      "| Trial name                  | status   | loc             | model/modules/1/time   |\n",
      "|                             |          |                 | s                      |\n",
      "|-----------------------------+----------+-----------------+------------------------|\n",
      "| trainable_function_eef38c8f | RUNNING  | 127.0.0.1:65460 |                        |\n",
      "| trainable_function_f66869a0 | RUNNING  | 127.0.0.1:37364 |                        |\n",
      "+-----------------------------+----------+-----------------+------------------------+\n",
      "\n",
      "\n",
      "== Status ==\n",
      "Current time: 2024-03-27 10:50:46 (running for 00:01:50.69)\n",
      "Using AsyncHyperBand: num_stopped=0\n",
      "Bracket: Iter 81.000: None | Iter 27.000: None | Iter 9.000: None | Iter 3.000: None | Iter 1.000: 0.49\n",
      "Logical resource usage: 10.0/20 CPUs, 1.0/1 GPUs (0.0/1.0 accelerator_type:G)\n",
      "Current best trial: eef38c8f with val_accuracy=0.49 and parameters={'model': {'modules': {1: {'times': 2}}}}\n",
      "Result logdir: C:/Users/johan/ray_results/trainable_function_2024-03-27_10-48-51\n",
      "Number of trials: 2/2 (2 RUNNING)\n",
      "+-----------------------------+----------+-----------------+------------------------+\n",
      "| Trial name                  | status   | loc             | model/modules/1/time   |\n",
      "|                             |          |                 | s                      |\n",
      "|-----------------------------+----------+-----------------+------------------------|\n",
      "| trainable_function_eef38c8f | RUNNING  | 127.0.0.1:65460 |                        |\n",
      "| trainable_function_f66869a0 | RUNNING  | 127.0.0.1:37364 |                        |\n",
      "+-----------------------------+----------+-----------------+------------------------+\n",
      "\n",
      "\n",
      "== Status ==\n",
      "Current time: 2024-03-27 10:50:51 (running for 00:01:55.72)\n",
      "Using AsyncHyperBand: num_stopped=0\n",
      "Bracket: Iter 81.000: None | Iter 27.000: None | Iter 9.000: None | Iter 3.000: None | Iter 1.000: 0.49\n",
      "Logical resource usage: 10.0/20 CPUs, 1.0/1 GPUs (0.0/1.0 accelerator_type:G)\n",
      "Current best trial: eef38c8f with val_accuracy=0.49 and parameters={'model': {'modules': {1: {'times': 2}}}}\n",
      "Result logdir: C:/Users/johan/ray_results/trainable_function_2024-03-27_10-48-51\n",
      "Number of trials: 2/2 (2 RUNNING)\n",
      "+-----------------------------+----------+-----------------+------------------------+\n",
      "| Trial name                  | status   | loc             | model/modules/1/time   |\n",
      "|                             |          |                 | s                      |\n",
      "|-----------------------------+----------+-----------------+------------------------|\n",
      "| trainable_function_eef38c8f | RUNNING  | 127.0.0.1:65460 |                        |\n",
      "| trainable_function_f66869a0 | RUNNING  | 127.0.0.1:37364 |                        |\n",
      "+-----------------------------+----------+-----------------+------------------------+\n",
      "\n",
      "\n",
      "== Status ==\n",
      "Current time: 2024-03-27 10:50:56 (running for 00:02:00.77)\n",
      "Using AsyncHyperBand: num_stopped=0\n",
      "Bracket: Iter 81.000: None | Iter 27.000: None | Iter 9.000: None | Iter 3.000: None | Iter 1.000: 0.49\n",
      "Logical resource usage: 10.0/20 CPUs, 1.0/1 GPUs (0.0/1.0 accelerator_type:G)\n",
      "Current best trial: eef38c8f with val_accuracy=0.49 and parameters={'model': {'modules': {1: {'times': 2}}}}\n",
      "Result logdir: C:/Users/johan/ray_results/trainable_function_2024-03-27_10-48-51\n",
      "Number of trials: 2/2 (2 RUNNING)\n",
      "+-----------------------------+----------+-----------------+------------------------+\n",
      "| Trial name                  | status   | loc             | model/modules/1/time   |\n",
      "|                             |          |                 | s                      |\n",
      "|-----------------------------+----------+-----------------+------------------------|\n",
      "| trainable_function_eef38c8f | RUNNING  | 127.0.0.1:65460 |                        |\n",
      "| trainable_function_f66869a0 | RUNNING  | 127.0.0.1:37364 |                        |\n",
      "+-----------------------------+----------+-----------------+------------------------+\n",
      "\n",
      "\n",
      "== Status ==\n",
      "Current time: 2024-03-27 10:51:01 (running for 00:02:05.79)\n",
      "Using AsyncHyperBand: num_stopped=0\n",
      "Bracket: Iter 81.000: None | Iter 27.000: None | Iter 9.000: None | Iter 3.000: None | Iter 1.000: 0.49\n",
      "Logical resource usage: 10.0/20 CPUs, 1.0/1 GPUs (0.0/1.0 accelerator_type:G)\n",
      "Current best trial: eef38c8f with val_accuracy=0.49 and parameters={'model': {'modules': {1: {'times': 2}}}}\n",
      "Result logdir: C:/Users/johan/ray_results/trainable_function_2024-03-27_10-48-51\n",
      "Number of trials: 2/2 (2 RUNNING)\n",
      "+-----------------------------+----------+-----------------+------------------------+\n",
      "| Trial name                  | status   | loc             | model/modules/1/time   |\n",
      "|                             |          |                 | s                      |\n",
      "|-----------------------------+----------+-----------------+------------------------|\n",
      "| trainable_function_eef38c8f | RUNNING  | 127.0.0.1:65460 |                        |\n",
      "| trainable_function_f66869a0 | RUNNING  | 127.0.0.1:37364 |                        |\n",
      "+-----------------------------+----------+-----------------+------------------------+\n",
      "\n",
      "\n",
      "== Status ==\n",
      "Current time: 2024-03-27 10:51:06 (running for 00:02:10.81)\n",
      "Using AsyncHyperBand: num_stopped=0\n",
      "Bracket: Iter 81.000: None | Iter 27.000: None | Iter 9.000: None | Iter 3.000: None | Iter 1.000: 0.49\n",
      "Logical resource usage: 10.0/20 CPUs, 1.0/1 GPUs (0.0/1.0 accelerator_type:G)\n",
      "Current best trial: eef38c8f with val_accuracy=0.49 and parameters={'model': {'modules': {1: {'times': 2}}}}\n",
      "Result logdir: C:/Users/johan/ray_results/trainable_function_2024-03-27_10-48-51\n",
      "Number of trials: 2/2 (2 RUNNING)\n",
      "+-----------------------------+----------+-----------------+------------------------+\n",
      "| Trial name                  | status   | loc             | model/modules/1/time   |\n",
      "|                             |          |                 | s                      |\n",
      "|-----------------------------+----------+-----------------+------------------------|\n",
      "| trainable_function_eef38c8f | RUNNING  | 127.0.0.1:65460 |                        |\n",
      "| trainable_function_f66869a0 | RUNNING  | 127.0.0.1:37364 |                        |\n",
      "+-----------------------------+----------+-----------------+------------------------+\n",
      "\n",
      "\n",
      "== Status ==\n",
      "Current time: 2024-03-27 10:51:11 (running for 00:02:15.82)\n",
      "Using AsyncHyperBand: num_stopped=0\n",
      "Bracket: Iter 81.000: None | Iter 27.000: None | Iter 9.000: None | Iter 3.000: None | Iter 1.000: 0.49\n",
      "Logical resource usage: 10.0/20 CPUs, 1.0/1 GPUs (0.0/1.0 accelerator_type:G)\n",
      "Current best trial: eef38c8f with val_accuracy=0.49 and parameters={'model': {'modules': {1: {'times': 2}}}}\n",
      "Result logdir: C:/Users/johan/ray_results/trainable_function_2024-03-27_10-48-51\n",
      "Number of trials: 2/2 (2 RUNNING)\n",
      "+-----------------------------+----------+-----------------+------------------------+\n",
      "| Trial name                  | status   | loc             | model/modules/1/time   |\n",
      "|                             |          |                 | s                      |\n",
      "|-----------------------------+----------+-----------------+------------------------|\n",
      "| trainable_function_eef38c8f | RUNNING  | 127.0.0.1:65460 |                        |\n",
      "| trainable_function_f66869a0 | RUNNING  | 127.0.0.1:37364 |                        |\n",
      "+-----------------------------+----------+-----------------+------------------------+\n",
      "\n",
      "\n",
      "== Status ==\n",
      "Current time: 2024-03-27 10:51:16 (running for 00:02:20.85)\n",
      "Using AsyncHyperBand: num_stopped=0\n",
      "Bracket: Iter 81.000: None | Iter 27.000: None | Iter 9.000: None | Iter 3.000: None | Iter 1.000: 0.49\n",
      "Logical resource usage: 10.0/20 CPUs, 1.0/1 GPUs (0.0/1.0 accelerator_type:G)\n",
      "Current best trial: eef38c8f with val_accuracy=0.49 and parameters={'model': {'modules': {1: {'times': 2}}}}\n",
      "Result logdir: C:/Users/johan/ray_results/trainable_function_2024-03-27_10-48-51\n",
      "Number of trials: 2/2 (2 RUNNING)\n",
      "+-----------------------------+----------+-----------------+------------------------+\n",
      "| Trial name                  | status   | loc             | model/modules/1/time   |\n",
      "|                             |          |                 | s                      |\n",
      "|-----------------------------+----------+-----------------+------------------------|\n",
      "| trainable_function_eef38c8f | RUNNING  | 127.0.0.1:65460 |                        |\n",
      "| trainable_function_f66869a0 | RUNNING  | 127.0.0.1:37364 |                        |\n",
      "+-----------------------------+----------+-----------------+------------------------+\n",
      "\n",
      "\n",
      "== Status ==\n",
      "Current time: 2024-03-27 10:51:21 (running for 00:02:25.88)\n",
      "Using AsyncHyperBand: num_stopped=0\n",
      "Bracket: Iter 81.000: None | Iter 27.000: None | Iter 9.000: None | Iter 3.000: None | Iter 1.000: 0.49\n",
      "Logical resource usage: 10.0/20 CPUs, 1.0/1 GPUs (0.0/1.0 accelerator_type:G)\n",
      "Current best trial: eef38c8f with val_accuracy=0.49 and parameters={'model': {'modules': {1: {'times': 2}}}}\n",
      "Result logdir: C:/Users/johan/ray_results/trainable_function_2024-03-27_10-48-51\n",
      "Number of trials: 2/2 (2 RUNNING)\n",
      "+-----------------------------+----------+-----------------+------------------------+\n",
      "| Trial name                  | status   | loc             | model/modules/1/time   |\n",
      "|                             |          |                 | s                      |\n",
      "|-----------------------------+----------+-----------------+------------------------|\n",
      "| trainable_function_eef38c8f | RUNNING  | 127.0.0.1:65460 |                        |\n",
      "| trainable_function_f66869a0 | RUNNING  | 127.0.0.1:37364 |                        |\n",
      "+-----------------------------+----------+-----------------+------------------------+\n",
      "\n",
      "\n",
      "== Status ==\n",
      "Current time: 2024-03-27 10:51:26 (running for 00:02:30.93)\n",
      "Using AsyncHyperBand: num_stopped=0\n",
      "Bracket: Iter 81.000: None | Iter 27.000: None | Iter 9.000: None | Iter 3.000: None | Iter 1.000: 0.49\n",
      "Logical resource usage: 10.0/20 CPUs, 1.0/1 GPUs (0.0/1.0 accelerator_type:G)\n",
      "Current best trial: eef38c8f with val_accuracy=0.49 and parameters={'model': {'modules': {1: {'times': 2}}}}\n",
      "Result logdir: C:/Users/johan/ray_results/trainable_function_2024-03-27_10-48-51\n",
      "Number of trials: 2/2 (2 RUNNING)\n",
      "+-----------------------------+----------+-----------------+------------------------+\n",
      "| Trial name                  | status   | loc             | model/modules/1/time   |\n",
      "|                             |          |                 | s                      |\n",
      "|-----------------------------+----------+-----------------+------------------------|\n",
      "| trainable_function_eef38c8f | RUNNING  | 127.0.0.1:65460 |                        |\n",
      "| trainable_function_f66869a0 | RUNNING  | 127.0.0.1:37364 |                        |\n",
      "+-----------------------------+----------+-----------------+------------------------+\n",
      "\n",
      "\n",
      "== Status ==\n",
      "Current time: 2024-03-27 10:51:31 (running for 00:02:35.95)\n",
      "Using AsyncHyperBand: num_stopped=0\n",
      "Bracket: Iter 81.000: None | Iter 27.000: None | Iter 9.000: None | Iter 3.000: None | Iter 1.000: 0.49\n",
      "Logical resource usage: 10.0/20 CPUs, 1.0/1 GPUs (0.0/1.0 accelerator_type:G)\n",
      "Current best trial: eef38c8f with val_accuracy=0.49 and parameters={'model': {'modules': {1: {'times': 2}}}}\n",
      "Result logdir: C:/Users/johan/ray_results/trainable_function_2024-03-27_10-48-51\n",
      "Number of trials: 2/2 (2 RUNNING)\n",
      "+-----------------------------+----------+-----------------+------------------------+\n",
      "| Trial name                  | status   | loc             | model/modules/1/time   |\n",
      "|                             |          |                 | s                      |\n",
      "|-----------------------------+----------+-----------------+------------------------|\n",
      "| trainable_function_eef38c8f | RUNNING  | 127.0.0.1:65460 |                        |\n",
      "| trainable_function_f66869a0 | RUNNING  | 127.0.0.1:37364 |                        |\n",
      "+-----------------------------+----------+-----------------+------------------------+\n",
      "\n",
      "\n",
      "== Status ==\n",
      "Current time: 2024-03-27 10:51:36 (running for 00:02:40.97)\n",
      "Using AsyncHyperBand: num_stopped=0\n",
      "Bracket: Iter 81.000: None | Iter 27.000: None | Iter 9.000: None | Iter 3.000: None | Iter 1.000: 0.49\n",
      "Logical resource usage: 10.0/20 CPUs, 1.0/1 GPUs (0.0/1.0 accelerator_type:G)\n",
      "Current best trial: eef38c8f with val_accuracy=0.49 and parameters={'model': {'modules': {1: {'times': 2}}}}\n",
      "Result logdir: C:/Users/johan/ray_results/trainable_function_2024-03-27_10-48-51\n",
      "Number of trials: 2/2 (2 RUNNING)\n",
      "+-----------------------------+----------+-----------------+------------------------+\n",
      "| Trial name                  | status   | loc             | model/modules/1/time   |\n",
      "|                             |          |                 | s                      |\n",
      "|-----------------------------+----------+-----------------+------------------------|\n",
      "| trainable_function_eef38c8f | RUNNING  | 127.0.0.1:65460 |                        |\n",
      "| trainable_function_f66869a0 | RUNNING  | 127.0.0.1:37364 |                        |\n",
      "+-----------------------------+----------+-----------------+------------------------+\n",
      "\n",
      "\n",
      "== Status ==\n",
      "Current time: 2024-03-27 10:51:41 (running for 00:02:45.99)\n",
      "Using AsyncHyperBand: num_stopped=0\n",
      "Bracket: Iter 81.000: None | Iter 27.000: None | Iter 9.000: None | Iter 3.000: None | Iter 1.000: 0.49\n",
      "Logical resource usage: 10.0/20 CPUs, 1.0/1 GPUs (0.0/1.0 accelerator_type:G)\n",
      "Current best trial: eef38c8f with val_accuracy=0.49 and parameters={'model': {'modules': {1: {'times': 2}}}}\n",
      "Result logdir: C:/Users/johan/ray_results/trainable_function_2024-03-27_10-48-51\n",
      "Number of trials: 2/2 (2 RUNNING)\n",
      "+-----------------------------+----------+-----------------+------------------------+\n",
      "| Trial name                  | status   | loc             | model/modules/1/time   |\n",
      "|                             |          |                 | s                      |\n",
      "|-----------------------------+----------+-----------------+------------------------|\n",
      "| trainable_function_eef38c8f | RUNNING  | 127.0.0.1:65460 |                        |\n",
      "| trainable_function_f66869a0 | RUNNING  | 127.0.0.1:37364 |                        |\n",
      "+-----------------------------+----------+-----------------+------------------------+\n",
      "\n",
      "\n",
      "== Status ==\n",
      "Current time: 2024-03-27 10:51:46 (running for 00:02:51.07)\n",
      "Using AsyncHyperBand: num_stopped=0\n",
      "Bracket: Iter 81.000: None | Iter 27.000: None | Iter 9.000: None | Iter 3.000: None | Iter 1.000: 0.49\n",
      "Logical resource usage: 10.0/20 CPUs, 1.0/1 GPUs (0.0/1.0 accelerator_type:G)\n",
      "Current best trial: eef38c8f with val_accuracy=1.0 and parameters={'model': {'modules': {1: {'times': 2}}}}\n",
      "Result logdir: C:/Users/johan/ray_results/trainable_function_2024-03-27_10-48-51\n",
      "Number of trials: 2/2 (2 RUNNING)\n",
      "+-----------------------------+----------+-----------------+------------------------+\n",
      "| Trial name                  | status   | loc             | model/modules/1/time   |\n",
      "|                             |          |                 | s                      |\n",
      "|-----------------------------+----------+-----------------+------------------------|\n",
      "| trainable_function_eef38c8f | RUNNING  | 127.0.0.1:65460 |                        |\n",
      "| trainable_function_f66869a0 | RUNNING  | 127.0.0.1:37364 |                        |\n",
      "+-----------------------------+----------+-----------------+------------------------+\n",
      "\n",
      "\n",
      "== Status ==\n",
      "Current time: 2024-03-27 10:51:51 (running for 00:02:56.09)\n",
      "Using AsyncHyperBand: num_stopped=0\n",
      "Bracket: Iter 81.000: None | Iter 27.000: None | Iter 9.000: None | Iter 3.000: None | Iter 1.000: 0.49\n",
      "Logical resource usage: 10.0/20 CPUs, 1.0/1 GPUs (0.0/1.0 accelerator_type:G)\n",
      "Current best trial: eef38c8f with val_accuracy=1.0 and parameters={'model': {'modules': {1: {'times': 2}}}}\n",
      "Result logdir: C:/Users/johan/ray_results/trainable_function_2024-03-27_10-48-51\n",
      "Number of trials: 2/2 (2 RUNNING)\n",
      "+-----------------------------+----------+-----------------+------------------------+\n",
      "| Trial name                  | status   | loc             | model/modules/1/time   |\n",
      "|                             |          |                 | s                      |\n",
      "|-----------------------------+----------+-----------------+------------------------|\n",
      "| trainable_function_eef38c8f | RUNNING  | 127.0.0.1:65460 |                        |\n",
      "| trainable_function_f66869a0 | RUNNING  | 127.0.0.1:37364 |                        |\n",
      "+-----------------------------+----------+-----------------+------------------------+\n",
      "\n",
      "\n",
      "== Status ==\n",
      "Current time: 2024-03-27 10:51:56 (running for 00:03:01.19)\n",
      "Using AsyncHyperBand: num_stopped=0\n",
      "Bracket: Iter 81.000: None | Iter 27.000: None | Iter 9.000: None | Iter 3.000: None | Iter 1.000: 0.49\n",
      "Logical resource usage: 10.0/20 CPUs, 1.0/1 GPUs (0.0/1.0 accelerator_type:G)\n",
      "Current best trial: eef38c8f with val_accuracy=1.0 and parameters={'model': {'modules': {1: {'times': 2}}}}\n",
      "Result logdir: C:/Users/johan/ray_results/trainable_function_2024-03-27_10-48-51\n",
      "Number of trials: 2/2 (2 RUNNING)\n",
      "+-----------------------------+----------+-----------------+------------------------+\n",
      "| Trial name                  | status   | loc             | model/modules/1/time   |\n",
      "|                             |          |                 | s                      |\n",
      "|-----------------------------+----------+-----------------+------------------------|\n",
      "| trainable_function_eef38c8f | RUNNING  | 127.0.0.1:65460 |                        |\n",
      "| trainable_function_f66869a0 | RUNNING  | 127.0.0.1:37364 |                        |\n",
      "+-----------------------------+----------+-----------------+------------------------+\n",
      "\n",
      "\n",
      "== Status ==\n",
      "Current time: 2024-03-27 10:52:01 (running for 00:03:06.21)\n",
      "Using AsyncHyperBand: num_stopped=0\n",
      "Bracket: Iter 81.000: None | Iter 27.000: None | Iter 9.000: None | Iter 3.000: None | Iter 1.000: 0.49\n",
      "Logical resource usage: 10.0/20 CPUs, 1.0/1 GPUs (0.0/1.0 accelerator_type:G)\n",
      "Current best trial: eef38c8f with val_accuracy=1.0 and parameters={'model': {'modules': {1: {'times': 2}}}}\n",
      "Result logdir: C:/Users/johan/ray_results/trainable_function_2024-03-27_10-48-51\n",
      "Number of trials: 2/2 (2 RUNNING)\n",
      "+-----------------------------+----------+-----------------+------------------------+\n",
      "| Trial name                  | status   | loc             | model/modules/1/time   |\n",
      "|                             |          |                 | s                      |\n",
      "|-----------------------------+----------+-----------------+------------------------|\n",
      "| trainable_function_eef38c8f | RUNNING  | 127.0.0.1:65460 |                        |\n",
      "| trainable_function_f66869a0 | RUNNING  | 127.0.0.1:37364 |                        |\n",
      "+-----------------------------+----------+-----------------+------------------------+\n",
      "\n",
      "\n",
      "== Status ==\n",
      "Current time: 2024-03-27 10:52:06 (running for 00:03:11.24)\n",
      "Using AsyncHyperBand: num_stopped=0\n",
      "Bracket: Iter 81.000: None | Iter 27.000: None | Iter 9.000: None | Iter 3.000: None | Iter 1.000: 0.49\n",
      "Logical resource usage: 10.0/20 CPUs, 1.0/1 GPUs (0.0/1.0 accelerator_type:G)\n",
      "Current best trial: eef38c8f with val_accuracy=1.0 and parameters={'model': {'modules': {1: {'times': 2}}}}\n",
      "Result logdir: C:/Users/johan/ray_results/trainable_function_2024-03-27_10-48-51\n",
      "Number of trials: 2/2 (2 RUNNING)\n",
      "+-----------------------------+----------+-----------------+------------------------+\n",
      "| Trial name                  | status   | loc             | model/modules/1/time   |\n",
      "|                             |          |                 | s                      |\n",
      "|-----------------------------+----------+-----------------+------------------------|\n",
      "| trainable_function_eef38c8f | RUNNING  | 127.0.0.1:65460 |                        |\n",
      "| trainable_function_f66869a0 | RUNNING  | 127.0.0.1:37364 |                        |\n",
      "+-----------------------------+----------+-----------------+------------------------+\n",
      "\n",
      "\n",
      "== Status ==\n",
      "Current time: 2024-03-27 10:52:11 (running for 00:03:16.26)\n",
      "Using AsyncHyperBand: num_stopped=0\n",
      "Bracket: Iter 81.000: None | Iter 27.000: None | Iter 9.000: None | Iter 3.000: None | Iter 1.000: 0.49\n",
      "Logical resource usage: 10.0/20 CPUs, 1.0/1 GPUs (0.0/1.0 accelerator_type:G)\n",
      "Current best trial: eef38c8f with val_accuracy=1.0 and parameters={'model': {'modules': {1: {'times': 2}}}}\n",
      "Result logdir: C:/Users/johan/ray_results/trainable_function_2024-03-27_10-48-51\n",
      "Number of trials: 2/2 (2 RUNNING)\n",
      "+-----------------------------+----------+-----------------+------------------------+\n",
      "| Trial name                  | status   | loc             | model/modules/1/time   |\n",
      "|                             |          |                 | s                      |\n",
      "|-----------------------------+----------+-----------------+------------------------|\n",
      "| trainable_function_eef38c8f | RUNNING  | 127.0.0.1:65460 |                        |\n",
      "| trainable_function_f66869a0 | RUNNING  | 127.0.0.1:37364 |                        |\n",
      "+-----------------------------+----------+-----------------+------------------------+\n",
      "\n",
      "\n",
      "== Status ==\n",
      "Current time: 2024-03-27 10:52:16 (running for 00:03:21.27)\n",
      "Using AsyncHyperBand: num_stopped=0\n",
      "Bracket: Iter 81.000: None | Iter 27.000: None | Iter 9.000: None | Iter 3.000: None | Iter 1.000: 0.49\n",
      "Logical resource usage: 10.0/20 CPUs, 1.0/1 GPUs (0.0/1.0 accelerator_type:G)\n",
      "Current best trial: eef38c8f with val_accuracy=1.0 and parameters={'model': {'modules': {1: {'times': 2}}}}\n",
      "Result logdir: C:/Users/johan/ray_results/trainable_function_2024-03-27_10-48-51\n",
      "Number of trials: 2/2 (2 RUNNING)\n",
      "+-----------------------------+----------+-----------------+------------------------+\n",
      "| Trial name                  | status   | loc             | model/modules/1/time   |\n",
      "|                             |          |                 | s                      |\n",
      "|-----------------------------+----------+-----------------+------------------------|\n",
      "| trainable_function_eef38c8f | RUNNING  | 127.0.0.1:65460 |                        |\n",
      "| trainable_function_f66869a0 | RUNNING  | 127.0.0.1:37364 |                        |\n",
      "+-----------------------------+----------+-----------------+------------------------+\n",
      "\n",
      "\n",
      "== Status ==\n",
      "Current time: 2024-03-27 10:52:21 (running for 00:03:26.28)\n",
      "Using AsyncHyperBand: num_stopped=0\n",
      "Bracket: Iter 81.000: None | Iter 27.000: None | Iter 9.000: None | Iter 3.000: None | Iter 1.000: 0.49\n",
      "Logical resource usage: 10.0/20 CPUs, 1.0/1 GPUs (0.0/1.0 accelerator_type:G)\n",
      "Current best trial: eef38c8f with val_accuracy=1.0 and parameters={'model': {'modules': {1: {'times': 2}}}}\n",
      "Result logdir: C:/Users/johan/ray_results/trainable_function_2024-03-27_10-48-51\n",
      "Number of trials: 2/2 (2 RUNNING)\n",
      "+-----------------------------+----------+-----------------+------------------------+\n",
      "| Trial name                  | status   | loc             | model/modules/1/time   |\n",
      "|                             |          |                 | s                      |\n",
      "|-----------------------------+----------+-----------------+------------------------|\n",
      "| trainable_function_eef38c8f | RUNNING  | 127.0.0.1:65460 |                        |\n",
      "| trainable_function_f66869a0 | RUNNING  | 127.0.0.1:37364 |                        |\n",
      "+-----------------------------+----------+-----------------+------------------------+\n",
      "\n",
      "\n",
      "== Status ==\n",
      "Current time: 2024-03-27 10:52:26 (running for 00:03:31.29)\n",
      "Using AsyncHyperBand: num_stopped=0\n",
      "Bracket: Iter 81.000: None | Iter 27.000: None | Iter 9.000: None | Iter 3.000: None | Iter 1.000: 0.49\n",
      "Logical resource usage: 10.0/20 CPUs, 1.0/1 GPUs (0.0/1.0 accelerator_type:G)\n",
      "Current best trial: eef38c8f with val_accuracy=1.0 and parameters={'model': {'modules': {1: {'times': 2}}}}\n",
      "Result logdir: C:/Users/johan/ray_results/trainable_function_2024-03-27_10-48-51\n",
      "Number of trials: 2/2 (2 RUNNING)\n",
      "+-----------------------------+----------+-----------------+------------------------+\n",
      "| Trial name                  | status   | loc             | model/modules/1/time   |\n",
      "|                             |          |                 | s                      |\n",
      "|-----------------------------+----------+-----------------+------------------------|\n",
      "| trainable_function_eef38c8f | RUNNING  | 127.0.0.1:65460 |                        |\n",
      "| trainable_function_f66869a0 | RUNNING  | 127.0.0.1:37364 |                        |\n",
      "+-----------------------------+----------+-----------------+------------------------+\n",
      "\n",
      "\n",
      "== Status ==\n",
      "Current time: 2024-03-27 10:52:31 (running for 00:03:36.31)\n",
      "Using AsyncHyperBand: num_stopped=0\n",
      "Bracket: Iter 81.000: None | Iter 27.000: None | Iter 9.000: None | Iter 3.000: None | Iter 1.000: 0.49\n",
      "Logical resource usage: 10.0/20 CPUs, 1.0/1 GPUs (0.0/1.0 accelerator_type:G)\n",
      "Current best trial: eef38c8f with val_accuracy=1.0 and parameters={'model': {'modules': {1: {'times': 2}}}}\n",
      "Result logdir: C:/Users/johan/ray_results/trainable_function_2024-03-27_10-48-51\n",
      "Number of trials: 2/2 (2 RUNNING)\n",
      "+-----------------------------+----------+-----------------+------------------------+\n",
      "| Trial name                  | status   | loc             | model/modules/1/time   |\n",
      "|                             |          |                 | s                      |\n",
      "|-----------------------------+----------+-----------------+------------------------|\n",
      "| trainable_function_eef38c8f | RUNNING  | 127.0.0.1:65460 |                        |\n",
      "| trainable_function_f66869a0 | RUNNING  | 127.0.0.1:37364 |                        |\n",
      "+-----------------------------+----------+-----------------+------------------------+\n",
      "\n",
      "\n",
      "== Status ==\n",
      "Current time: 2024-03-27 10:52:36 (running for 00:03:41.32)\n",
      "Using AsyncHyperBand: num_stopped=0\n",
      "Bracket: Iter 81.000: None | Iter 27.000: None | Iter 9.000: None | Iter 3.000: None | Iter 1.000: 0.49\n",
      "Logical resource usage: 10.0/20 CPUs, 1.0/1 GPUs (0.0/1.0 accelerator_type:G)\n",
      "Current best trial: eef38c8f with val_accuracy=1.0 and parameters={'model': {'modules': {1: {'times': 2}}}}\n",
      "Result logdir: C:/Users/johan/ray_results/trainable_function_2024-03-27_10-48-51\n",
      "Number of trials: 2/2 (2 RUNNING)\n",
      "+-----------------------------+----------+-----------------+------------------------+\n",
      "| Trial name                  | status   | loc             | model/modules/1/time   |\n",
      "|                             |          |                 | s                      |\n",
      "|-----------------------------+----------+-----------------+------------------------|\n",
      "| trainable_function_eef38c8f | RUNNING  | 127.0.0.1:65460 |                        |\n",
      "| trainable_function_f66869a0 | RUNNING  | 127.0.0.1:37364 |                        |\n",
      "+-----------------------------+----------+-----------------+------------------------+\n",
      "\n",
      "\n",
      "== Status ==\n",
      "Current time: 2024-03-27 10:52:41 (running for 00:03:46.33)\n",
      "Using AsyncHyperBand: num_stopped=0\n",
      "Bracket: Iter 81.000: None | Iter 27.000: None | Iter 9.000: None | Iter 3.000: None | Iter 1.000: 0.49\n",
      "Logical resource usage: 10.0/20 CPUs, 1.0/1 GPUs (0.0/1.0 accelerator_type:G)\n",
      "Current best trial: eef38c8f with val_accuracy=1.0 and parameters={'model': {'modules': {1: {'times': 2}}}}\n",
      "Result logdir: C:/Users/johan/ray_results/trainable_function_2024-03-27_10-48-51\n",
      "Number of trials: 2/2 (2 RUNNING)\n",
      "+-----------------------------+----------+-----------------+------------------------+\n",
      "| Trial name                  | status   | loc             | model/modules/1/time   |\n",
      "|                             |          |                 | s                      |\n",
      "|-----------------------------+----------+-----------------+------------------------|\n",
      "| trainable_function_eef38c8f | RUNNING  | 127.0.0.1:65460 |                        |\n",
      "| trainable_function_f66869a0 | RUNNING  | 127.0.0.1:37364 |                        |\n",
      "+-----------------------------+----------+-----------------+------------------------+\n",
      "\n",
      "\n",
      "== Status ==\n",
      "Current time: 2024-03-27 10:52:46 (running for 00:03:51.36)\n",
      "Using AsyncHyperBand: num_stopped=0\n",
      "Bracket: Iter 81.000: None | Iter 27.000: None | Iter 9.000: None | Iter 3.000: 1.0 | Iter 1.000: 0.49\n",
      "Logical resource usage: 5.0/20 CPUs, 0.5/1 GPUs (0.0/1.0 accelerator_type:G)\n",
      "Current best trial: eef38c8f with val_accuracy=1.0 and parameters={'model': {'modules': {1: {'times': 2}}}}\n",
      "Result logdir: C:/Users/johan/ray_results/trainable_function_2024-03-27_10-48-51\n",
      "Number of trials: 2/2 (1 RUNNING, 1 TERMINATED)\n",
      "+-----------------------------+------------+-----------------+------------------------+\n",
      "| Trial name                  | status     | loc             | model/modules/1/time   |\n",
      "|                             |            |                 | s                      |\n",
      "|-----------------------------+------------+-----------------+------------------------|\n",
      "| trainable_function_f66869a0 | RUNNING    | 127.0.0.1:37364 |                        |\n",
      "| trainable_function_eef38c8f | TERMINATED | 127.0.0.1:65460 |                        |\n",
      "+-----------------------------+------------+-----------------+------------------------+\n",
      "\n",
      "\n",
      "== Status ==\n",
      "Current time: 2024-03-27 10:52:51 (running for 00:03:56.43)\n",
      "Using AsyncHyperBand: num_stopped=0\n",
      "Bracket: Iter 81.000: None | Iter 27.000: None | Iter 9.000: None | Iter 3.000: 1.0 | Iter 1.000: 0.49\n",
      "Logical resource usage: 5.0/20 CPUs, 0.5/1 GPUs (0.0/1.0 accelerator_type:G)\n",
      "Current best trial: eef38c8f with val_accuracy=1.0 and parameters={'model': {'modules': {1: {'times': 2}}}}\n",
      "Result logdir: C:/Users/johan/ray_results/trainable_function_2024-03-27_10-48-51\n",
      "Number of trials: 2/2 (1 RUNNING, 1 TERMINATED)\n",
      "+-----------------------------+------------+-----------------+------------------------+\n",
      "| Trial name                  | status     | loc             | model/modules/1/time   |\n",
      "|                             |            |                 | s                      |\n",
      "|-----------------------------+------------+-----------------+------------------------|\n",
      "| trainable_function_f66869a0 | RUNNING    | 127.0.0.1:37364 |                        |\n",
      "| trainable_function_eef38c8f | TERMINATED | 127.0.0.1:65460 |                        |\n",
      "+-----------------------------+------------+-----------------+------------------------+\n",
      "\n",
      "\n"
     ]
    },
    {
     "name": "stderr",
     "output_type": "stream",
     "text": [
      "2024-03-27 10:52:52,353\tINFO tune.py:1042 -- Total run time: 237.01 seconds (236.99 seconds for the tuning loop).\n"
     ]
    },
    {
     "name": "stdout",
     "output_type": "stream",
     "text": [
      "== Status ==\n",
      "Current time: 2024-03-27 10:52:52 (running for 00:03:56.99)\n",
      "Using AsyncHyperBand: num_stopped=0\n",
      "Bracket: Iter 81.000: None | Iter 27.000: None | Iter 9.000: None | Iter 3.000: 1.0 | Iter 1.000: 0.49\n",
      "Logical resource usage: 5.0/20 CPUs, 0.5/1 GPUs (0.0/1.0 accelerator_type:G)\n",
      "Current best trial: eef38c8f with val_accuracy=1.0 and parameters={'model': {'modules': {1: {'times': 2}}}}\n",
      "Result logdir: C:/Users/johan/ray_results/trainable_function_2024-03-27_10-48-51\n",
      "Number of trials: 2/2 (2 TERMINATED)\n",
      "+-----------------------------+------------+-----------------+------------------------+\n",
      "| Trial name                  | status     | loc             | model/modules/1/time   |\n",
      "|                             |            |                 | s                      |\n",
      "|-----------------------------+------------+-----------------+------------------------|\n",
      "| trainable_function_eef38c8f | TERMINATED | 127.0.0.1:65460 |                        |\n",
      "| trainable_function_f66869a0 | TERMINATED | 127.0.0.1:37364 |                        |\n",
      "+-----------------------------+------------+-----------------+------------------------+\n",
      "\n",
      "\n"
     ]
    }
   ],
   "source": [
    "# define tuner and execute\n",
    "tuner = tune.Tuner(\n",
    "    tune.with_resources(trainable_function, {\"cpu\": 4, \"gpu\": 0.5}),\n",
    "    # trainable=trainable_function,\n",
    "    param_space=search_space,\n",
    "    tune_config=tune.TuneConfig(\n",
    "        metric=optimization_score,\n",
    "        mode=score_mode,\n",
    "        search_alg=HyperOptSearch(\n",
    "            metric=optimization_score,\n",
    "            mode=score_mode,\n",
    "            random_state_seed=13\n",
    "        ),\n",
    "        scheduler=ASHAScheduler(\n",
    "            max_t=default_config['training']['n_max_epochs'],\n",
    "            grace_period=hyper_settings['scheduler']['grace_period'],\n",
    "            reduction_factor=hyper_settings['scheduler']['reduction_factor'],\n",
    "            brackets=hyper_settings['scheduler']['brackets']\n",
    "        ),\n",
    "        num_samples=hyper_settings['num_samples'],\n",
    "        max_concurrent_trials=hyper_settings['max_concurrent_trials'],\n",
    "    ),\n",
    "    run_config=train.RunConfig(\n",
    "        progress_reporter=CLIReporter(\n",
    "            metric_columns=[optimization_score],\n",
    "        )\n",
    "    )\n",
    ")\n",
    "results = tuner.fit()"
   ],
   "metadata": {
    "collapsed": false,
    "ExecuteTime": {
     "start_time": "2024-03-27T10:48:51.768705Z",
     "end_time": "2024-03-27T10:52:52.361601Z"
    }
   }
  },
  {
   "cell_type": "code",
   "execution_count": 14,
   "outputs": [
    {
     "data": {
      "text/plain": "ResultGrid<[\n  Result(\n    metrics={'train_accuracy': 1.0, 'train_precision': 1.0, 'train_recall': 1.0, 'train_f1': 1.0, 'train_auc': 1.0, 'train_mean_loss': 5.028552823642503e-05, 'train_sum_loss': 0.01568908480976461, 'val_accuracy': 1.0, 'val_precision': 1.0, 'val_recall': 1.0, 'val_f1': 1.0, 'val_auc': 1.0, 'val_mean_loss': 2.8138710704500812e-05, 'val_sum_loss': 0.008807416450508754},\n    path='C:/Users/johan/ray_results/trainable_function_2024-03-27_10-48-51/trainable_function_eef38c8f_1_times=2_2024-03-27_10-48-55',\n    filesystem='local',\n    checkpoint=None\n  ),\n  Result(\n    metrics={'train_accuracy': 1.0, 'train_precision': 1.0, 'train_recall': 1.0, 'train_f1': 1.0, 'train_auc': 1.0, 'train_mean_loss': 5.028493413233147e-05, 'train_sum_loss': 0.01568889944928742, 'val_accuracy': 1.0, 'val_precision': 1.0, 'val_recall': 1.0, 'val_f1': 1.0, 'val_auc': 1.0, 'val_mean_loss': 2.813844909837463e-05, 'val_sum_loss': 0.008807334567791258},\n    path='C:/Users/johan/ray_results/trainable_function_2024-03-27_10-48-51/trainable_function_f66869a0_2_times=2_2024-03-27_10-49-00',\n    filesystem='local',\n    checkpoint=None\n  )\n]>"
     },
     "execution_count": 14,
     "metadata": {},
     "output_type": "execute_result"
    }
   ],
   "source": [
    "results"
   ],
   "metadata": {
    "collapsed": false,
    "ExecuteTime": {
     "start_time": "2024-03-27T10:52:52.363599Z",
     "end_time": "2024-03-27T10:52:52.408112Z"
    }
   }
  },
  {
   "cell_type": "code",
   "execution_count": 15,
   "outputs": [
    {
     "data": {
      "text/plain": "   train_accuracy  train_precision  train_recall  train_f1  train_auc  \\\n0             1.0              1.0           1.0       1.0        1.0   \n1             1.0              1.0           1.0       1.0        1.0   \n\n   train_mean_loss  train_sum_loss  val_accuracy  val_precision  val_recall  \\\n0          0.00005        0.015689           1.0            1.0         1.0   \n1          0.00005        0.015689           1.0            1.0         1.0   \n\n   ...                 date  time_this_iter_s  time_total_s    pid  \\\n0  ...  2024-03-27_10-52-45         62.352674    225.050371  65460   \n1  ...  2024-03-27_10-52-52         59.828861    226.479436  37364   \n\n       hostname    node_ip  time_since_restore  iterations_since_restore  \\\n0  AT-MB-PC-E13  127.0.0.1          225.050371                         3   \n1  AT-MB-PC-E13  127.0.0.1          226.479436                         3   \n\n  config/model/modules/1/times    logdir  \n0                            2  eef38c8f  \n1                            2  f66869a0  \n\n[2 rows x 29 columns]",
      "text/html": "<div>\n<style scoped>\n    .dataframe tbody tr th:only-of-type {\n        vertical-align: middle;\n    }\n\n    .dataframe tbody tr th {\n        vertical-align: top;\n    }\n\n    .dataframe thead th {\n        text-align: right;\n    }\n</style>\n<table border=\"1\" class=\"dataframe\">\n  <thead>\n    <tr style=\"text-align: right;\">\n      <th></th>\n      <th>train_accuracy</th>\n      <th>train_precision</th>\n      <th>train_recall</th>\n      <th>train_f1</th>\n      <th>train_auc</th>\n      <th>train_mean_loss</th>\n      <th>train_sum_loss</th>\n      <th>val_accuracy</th>\n      <th>val_precision</th>\n      <th>val_recall</th>\n      <th>...</th>\n      <th>date</th>\n      <th>time_this_iter_s</th>\n      <th>time_total_s</th>\n      <th>pid</th>\n      <th>hostname</th>\n      <th>node_ip</th>\n      <th>time_since_restore</th>\n      <th>iterations_since_restore</th>\n      <th>config/model/modules/1/times</th>\n      <th>logdir</th>\n    </tr>\n  </thead>\n  <tbody>\n    <tr>\n      <th>0</th>\n      <td>1.0</td>\n      <td>1.0</td>\n      <td>1.0</td>\n      <td>1.0</td>\n      <td>1.0</td>\n      <td>0.00005</td>\n      <td>0.015689</td>\n      <td>1.0</td>\n      <td>1.0</td>\n      <td>1.0</td>\n      <td>...</td>\n      <td>2024-03-27_10-52-45</td>\n      <td>62.352674</td>\n      <td>225.050371</td>\n      <td>65460</td>\n      <td>AT-MB-PC-E13</td>\n      <td>127.0.0.1</td>\n      <td>225.050371</td>\n      <td>3</td>\n      <td>2</td>\n      <td>eef38c8f</td>\n    </tr>\n    <tr>\n      <th>1</th>\n      <td>1.0</td>\n      <td>1.0</td>\n      <td>1.0</td>\n      <td>1.0</td>\n      <td>1.0</td>\n      <td>0.00005</td>\n      <td>0.015689</td>\n      <td>1.0</td>\n      <td>1.0</td>\n      <td>1.0</td>\n      <td>...</td>\n      <td>2024-03-27_10-52-52</td>\n      <td>59.828861</td>\n      <td>226.479436</td>\n      <td>37364</td>\n      <td>AT-MB-PC-E13</td>\n      <td>127.0.0.1</td>\n      <td>226.479436</td>\n      <td>3</td>\n      <td>2</td>\n      <td>f66869a0</td>\n    </tr>\n  </tbody>\n</table>\n<p>2 rows × 29 columns</p>\n</div>"
     },
     "execution_count": 15,
     "metadata": {},
     "output_type": "execute_result"
    }
   ],
   "source": [
    "results.get_dataframe()"
   ],
   "metadata": {
    "collapsed": false,
    "ExecuteTime": {
     "start_time": "2024-03-27T10:52:52.378603Z",
     "end_time": "2024-03-27T10:52:52.419112Z"
    }
   }
  },
  {
   "cell_type": "code",
   "execution_count": 16,
   "outputs": [
    {
     "data": {
      "text/plain": "<Figure size 640x480 with 1 Axes>",
      "image/png": "[encoded data removed]"
     },
     "metadata": {},
     "output_type": "display_data"
    }
   ],
   "source": [
    "dfs = {result.path: result.metrics_dataframe for result in results}\n",
    "# Plot by epoch\n",
    "ax = None  # This plots everything on the same plot\n",
    "for d in dfs.values():\n",
    "    ax = d.val_accuracy.plot(ax=ax, legend=False)"
   ],
   "metadata": {
    "collapsed": false,
    "ExecuteTime": {
     "start_time": "2024-03-27T10:52:52.411112Z",
     "end_time": "2024-03-27T10:52:52.640297Z"
    }
   }
  },
  {
   "cell_type": "markdown",
   "source": [
    "## Storing results"
   ],
   "metadata": {
    "collapsed": false
   }
  },
  {
   "cell_type": "code",
   "execution_count": 17,
   "outputs": [],
   "source": [
    "output_path = benchmark_config['output_dir']\n",
    "\n",
    "# make sure that output_dir exists\n",
    "if not os.path.exists(output_path):\n",
    "    os.mkdir(output_path)"
   ],
   "metadata": {
    "collapsed": false,
    "ExecuteTime": {
     "start_time": "2024-03-27T10:52:52.643297Z",
     "end_time": "2024-03-27T10:52:52.686333Z"
    }
   }
  },
  {
   "cell_type": "code",
   "execution_count": 18,
   "outputs": [],
   "source": [
    "# save general configs\n",
    "export_as(default_config, os.path.join(output_path, \"general_config.yaml\"), save_type='yaml')"
   ],
   "metadata": {
    "collapsed": false,
    "ExecuteTime": {
     "start_time": "2024-03-27T10:52:52.656297Z",
     "end_time": "2024-03-27T10:52:52.686877Z"
    }
   }
  },
  {
   "cell_type": "code",
   "execution_count": 19,
   "outputs": [],
   "source": [
    "# save results dataframe\n",
    "results.get_dataframe().to_csv(os.path.join(output_path, \"results.csv\"), index=None)"
   ],
   "metadata": {
    "collapsed": false,
    "ExecuteTime": {
     "start_time": "2024-03-27T10:52:52.670298Z",
     "end_time": "2024-03-27T10:52:52.686877Z"
    }
   }
  },
  {
   "cell_type": "code",
   "execution_count": 20,
   "outputs": [],
   "source": [
    "# for each trial save results\n",
    "for result in results:\n",
    "    # get metrics\n",
    "    trial_metrics = result.metrics_dataframe\n",
    "\n",
    "    # get trial id\n",
    "    trial_id = trial_metrics.trial_id[0]\n",
    "\n",
    "    # get config\n",
    "    trial_config = result.config\n",
    "\n",
    "    # saving\n",
    "    trial_metrics.to_csv(os.path.join(output_path, f\"{trial_id}.csv\"), index=None)\n",
    "    export_as(trial_config, os.path.join(output_path, f\"{trial_id}.yaml\"), save_type='yaml')"
   ],
   "metadata": {
    "collapsed": false,
    "ExecuteTime": {
     "start_time": "2024-03-27T10:52:52.689919Z",
     "end_time": "2024-03-27T10:52:52.701882Z"
    }
   }
  },
  {
   "cell_type": "code",
   "execution_count": null,
   "outputs": [],
   "source": [],
   "metadata": {
    "collapsed": false
   }
  }
 ],
 "metadata": {
  "kernelspec": {
   "display_name": "Python 3",
   "language": "python",
   "name": "python3"
  },
  "language_info": {
   "codemirror_mode": {
    "name": "ipython",
    "version": 2
   },
   "file_extension": ".py",
   "mimetype": "text/x-python",
   "name": "python",
   "nbconvert_exporter": "python",
   "pygments_lexer": "ipython2",
   "version": "2.7.6"
  }
 },
 "nbformat": 4,
 "nbformat_minor": 0
}
