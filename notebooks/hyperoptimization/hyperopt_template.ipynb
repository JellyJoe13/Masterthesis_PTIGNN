{
 "cells": [
  {
   "cell_type": "markdown",
   "source": [
    "# Hyperoptimization"
   ],
   "metadata": {
    "collapsed": false
   }
  },
  {
   "cell_type": "markdown",
   "source": [
    "## Import section"
   ],
   "metadata": {
    "collapsed": false
   }
  },
  {
   "cell_type": "code",
   "execution_count": 1,
   "outputs": [],
   "source": [
    "import sys\n",
    "import os\n",
    "from functools import partial\n",
    "\n",
    "import pandas as pd\n",
    "from ray.tune import CLIReporter, JupyterNotebookReporter\n",
    "from ray.tune.schedulers import ASHAScheduler\n",
    "from ray.tune.search.hyperopt import HyperOptSearch\n",
    "\n",
    "sys.path.append(\"../../\")\n",
    "\n",
    "from ptgnn.runtime_config.config_helpers import run_config_adapter, load_and_merge_default_configs\n",
    "from ptgnn.runtime_config.config import import_as, export_as"
   ],
   "metadata": {
    "collapsed": false,
    "ExecuteTime": {
     "start_time": "2024-03-27T13:52:48.014123Z",
     "end_time": "2024-03-27T13:52:54.717806Z"
    }
   }
  },
  {
   "cell_type": "code",
   "execution_count": 2,
   "outputs": [],
   "source": [
    "from ray import tune, train\n",
    "import os"
   ],
   "metadata": {
    "collapsed": false,
    "ExecuteTime": {
     "start_time": "2024-03-27T13:52:54.717806Z",
     "end_time": "2024-03-27T13:52:54.729807Z"
    }
   }
  },
  {
   "cell_type": "markdown",
   "source": [
    "## Load default config"
   ],
   "metadata": {
    "collapsed": false
   }
  },
  {
   "cell_type": "code",
   "execution_count": 3,
   "outputs": [
    {
     "data": {
      "text/plain": "{'output_dir': 'results/ptree/default',\n 'config_files': ['configs/hyper_param_opt/subsetting.yaml',\n  'configs/hyper_param_opt/epoch_reduction.yaml',\n  'configs/datasets/rs_dataset.yaml',\n  'configs/models/ptree_default.yaml',\n  'configs/general.yaml'],\n 'search_space': {'model': {'modules': {1: {'times': 'tune.randint(1,6)'}}}},\n 'hyper_settings': {'scheduler': {'grace_period': 2,\n   'reduction_factor': 3,\n   'brackets': 1},\n  'max_concurrent_trials': 2,\n  'num_samples': 8,\n  'stopper': {'num_results': 3, 'metric_threshold': 0.98}}}"
     },
     "metadata": {},
     "output_type": "display_data"
    }
   ],
   "source": [
    "# fetching config file\n",
    "benchmark_config = import_as(\"configs/hyper_param_opt/benchmark_instructions_rs_ptree_default.yaml\")\n",
    "display(benchmark_config)"
   ],
   "metadata": {
    "collapsed": false,
    "ExecuteTime": {
     "start_time": "2024-03-27T13:52:54.731805Z",
     "end_time": "2024-03-27T13:52:54.760319Z"
    }
   }
  },
  {
   "cell_type": "code",
   "execution_count": 4,
   "outputs": [
    {
     "data": {
      "text/plain": "{'data': {'subset_size': 10000,\n  'dataset': {'type': 'rs',\n   'mask_chiral_tasks': True,\n   'graph_mode': 'edge',\n   'transformation_mode': 'permutation_tree',\n   'transformation_parameters': {'k': 3}},\n  'loader': {'general': {'n_neighbors_in_circle': 3,\n    'batch_size': 32,\n    'num_workers': 0},\n   'train': {'sampler': 'single_conformer_sampler'},\n   'val': {'sampler': 'full_batch'},\n   'test': {'sampler': 'full_batch'}}},\n 'training': {'n_max_epochs': 10,\n  'loss_function': 'cross_entropy',\n  'optimization_metric': 'accuracy',\n  'optimization_metric_mode': 'max',\n  'task_type': 'classification',\n  'clip_grad_norm': True},\n 'model': {'out_dim': 1,\n  'mode': 'custom',\n  'hidden_dim': 128,\n  'modules': {0: {'type': 'graph_embedding',\n    'parameter': {'node_type': 'linear', 'edge_type': 'linear'}},\n   1: {'type': 'gps_layer',\n    'parameter': {'local_model': 'permutation_tree',\n     'local_model_params': {'k': 3}},\n    'times': 5}},\n  'head': {'type': 'san_head', 'n_layer': 3, 'pool_function': 'add'}},\n 'optimizer': {'type': 'adam_w',\n  'base_learning_rate': 0.001,\n  'weight_decay': 1e-05},\n 'scheduler': {'type': 'cosine_with_warmup',\n  'num_warmup_epochs': 10,\n  'max_epochs': 100}}"
     },
     "metadata": {},
     "output_type": "display_data"
    }
   ],
   "source": [
    "default_config = load_and_merge_default_configs(\n",
    "    benchmark_config['config_files']\n",
    ")\n",
    "display(default_config)"
   ],
   "metadata": {
    "collapsed": false,
    "ExecuteTime": {
     "start_time": "2024-03-27T13:52:54.746811Z",
     "end_time": "2024-03-27T13:52:54.772318Z"
    }
   }
  },
  {
   "cell_type": "code",
   "execution_count": 5,
   "outputs": [],
   "source": [
    "# create absolute path to root dict that is not hyper-opt-run specific\n",
    "default_config['data']['dataset']['root'] = os.path.abspath(\n",
    "    os.path.join(\"src\", default_config['data']['dataset']['type'])\n",
    ")"
   ],
   "metadata": {
    "collapsed": false,
    "ExecuteTime": {
     "start_time": "2024-03-27T13:52:54.762318Z",
     "end_time": "2024-03-27T13:52:54.782552Z"
    }
   }
  },
  {
   "cell_type": "code",
   "execution_count": 6,
   "outputs": [],
   "source": [
    "# currently limit number of epochs\n",
    "default_config['training']['n_max_epochs'] = 3"
   ],
   "metadata": {
    "collapsed": false,
    "ExecuteTime": {
     "start_time": "2024-03-27T13:52:55.296200Z",
     "end_time": "2024-03-27T13:52:55.312198Z"
    }
   }
  },
  {
   "cell_type": "code",
   "execution_count": 7,
   "outputs": [
    {
     "data": {
      "text/plain": "{'data': {'subset_size': 10000,\n  'dataset': {'type': 'rs',\n   'mask_chiral_tasks': True,\n   'graph_mode': 'edge',\n   'transformation_mode': 'permutation_tree',\n   'transformation_parameters': {'k': 3},\n   'root': 'D:\\\\DATEN\\\\Masterarbeit_PTGNN\\\\notebooks\\\\hyperoptimization\\\\src\\\\rs'},\n  'loader': {'general': {'n_neighbors_in_circle': 3,\n    'batch_size': 32,\n    'num_workers': 0},\n   'train': {'sampler': 'single_conformer_sampler'},\n   'val': {'sampler': 'full_batch'},\n   'test': {'sampler': 'full_batch'}}},\n 'training': {'n_max_epochs': 3,\n  'loss_function': 'cross_entropy',\n  'optimization_metric': 'accuracy',\n  'optimization_metric_mode': 'max',\n  'task_type': 'classification',\n  'clip_grad_norm': True},\n 'model': {'out_dim': 1,\n  'mode': 'custom',\n  'hidden_dim': 128,\n  'modules': {0: {'type': 'graph_embedding',\n    'parameter': {'node_type': 'linear', 'edge_type': 'linear'}},\n   1: {'type': 'gps_layer',\n    'parameter': {'local_model': 'permutation_tree',\n     'local_model_params': {'k': 3}},\n    'times': 5}},\n  'head': {'type': 'san_head', 'n_layer': 3, 'pool_function': 'add'}},\n 'optimizer': {'type': 'adam_w',\n  'base_learning_rate': 0.001,\n  'weight_decay': 1e-05},\n 'scheduler': {'type': 'cosine_with_warmup',\n  'num_warmup_epochs': 10,\n  'max_epochs': 100}}"
     },
     "metadata": {},
     "output_type": "display_data"
    }
   ],
   "source": [
    "display(default_config)"
   ],
   "metadata": {
    "collapsed": false,
    "ExecuteTime": {
     "start_time": "2024-03-27T13:52:56.431103Z",
     "end_time": "2024-03-27T13:52:56.449104Z"
    }
   }
  },
  {
   "cell_type": "markdown",
   "source": [
    "## Define search space"
   ],
   "metadata": {
    "collapsed": false
   }
  },
  {
   "cell_type": "code",
   "execution_count": 8,
   "outputs": [],
   "source": [
    "def eval_search_space(d):\n",
    "    for key in d.keys():\n",
    "        temp = d[key]\n",
    "\n",
    "        if isinstance(temp, dict):\n",
    "            eval_search_space(temp)\n",
    "        elif isinstance(temp, str):\n",
    "            d[key] = eval(temp)\n",
    "        else:\n",
    "            raise Exception(\"unknown type in search space, only use str as values\")\n",
    "    return d"
   ],
   "metadata": {
    "collapsed": false,
    "ExecuteTime": {
     "start_time": "2024-03-27T13:52:57.422853Z",
     "end_time": "2024-03-27T13:52:57.432850Z"
    }
   }
  },
  {
   "cell_type": "code",
   "execution_count": 9,
   "outputs": [],
   "source": [
    "search_space = eval_search_space(benchmark_config['search_space'])"
   ],
   "metadata": {
    "collapsed": false,
    "ExecuteTime": {
     "start_time": "2024-03-27T13:52:57.966636Z",
     "end_time": "2024-03-27T13:52:57.979634Z"
    }
   }
  },
  {
   "cell_type": "markdown",
   "source": [
    "## Define trainable function"
   ],
   "metadata": {
    "collapsed": false
   }
  },
  {
   "cell_type": "code",
   "execution_count": 10,
   "outputs": [],
   "source": [
    "#trainable_function = partial(\n",
    "#    run_config_adapter,\n",
    "#    default_config=default_config,\n",
    "#    report=True,\n",
    "#    verbose=False\n",
    "#)"
   ],
   "metadata": {
    "collapsed": false,
    "ExecuteTime": {
     "start_time": "2024-03-27T13:52:59.481108Z",
     "end_time": "2024-03-27T13:52:59.496106Z"
    }
   }
  },
  {
   "cell_type": "code",
   "execution_count": 11,
   "outputs": [],
   "source": [
    "def trainable_function(config):\n",
    "    run_config_adapter(\n",
    "        config,\n",
    "        default_config=default_config,\n",
    "        report=True,\n",
    "        verbose=False,\n",
    "        device=None\n",
    "    )"
   ],
   "metadata": {
    "collapsed": false,
    "ExecuteTime": {
     "start_time": "2024-03-27T13:52:59.904394Z",
     "end_time": "2024-03-27T13:52:59.916393Z"
    }
   }
  },
  {
   "cell_type": "markdown",
   "source": [
    "## Short test"
   ],
   "metadata": {
    "collapsed": false
   }
  },
  {
   "cell_type": "code",
   "execution_count": 12,
   "outputs": [],
   "source": [
    "os.makedirs(benchmark_config['output_dir'])"
   ],
   "metadata": {
    "collapsed": false,
    "ExecuteTime": {
     "start_time": "2024-03-27T13:53:02.087750Z",
     "end_time": "2024-03-27T13:53:02.093750Z"
    }
   }
  },
  {
   "cell_type": "code",
   "execution_count": 12,
   "outputs": [],
   "source": [
    "test_config = {\n",
    "    'training': {\n",
    "        'n_max_epochs': 2\n",
    "    }\n",
    "}"
   ],
   "metadata": {
    "collapsed": false,
    "ExecuteTime": {
     "start_time": "2024-03-27T12:52:47.473527Z",
     "end_time": "2024-03-27T12:52:47.493947Z"
    }
   }
  },
  {
   "cell_type": "code",
   "execution_count": 13,
   "outputs": [
    {
     "name": "stderr",
     "output_type": "stream",
     "text": [
      "Processing...\n",
      "Split: train: 100%|██████████| 55084/55084 [08:35<00:00, 106.82it/s]\n",
      "Postprocessing matrices: 100%|██████████| 55068/55068 [00:00<00:00, 844180.23it/s]\n",
      "Done!\n",
      "Processing...\n",
      "Split: test: 100%|██████████| 11680/11680 [01:51<00:00, 105.20it/s]\n",
      "Postprocessing matrices: 100%|██████████| 11676/11676 [00:00<00:00, 729759.40it/s]\n",
      "Done!\n",
      "Processing...\n",
      "Split: val: 100%|██████████| 11748/11748 [01:58<00:00, 99.37it/s] \n",
      "Postprocessing matrices: 100%|██████████| 11740/11740 [00:00<00:00, 558885.08it/s]\n",
      "Done!\n",
      "71it [00:29,  2.43it/s]\n"
     ]
    },
    {
     "ename": "KeyboardInterrupt",
     "evalue": "",
     "output_type": "error",
     "traceback": [
      "\u001B[1;31m---------------------------------------------------------------------------\u001B[0m",
      "\u001B[1;31mKeyboardInterrupt\u001B[0m                         Traceback (most recent call last)",
      "Cell \u001B[1;32mIn[13], line 8\u001B[0m\n\u001B[0;32m      1\u001B[0m test_fn \u001B[38;5;241m=\u001B[39m partial(\n\u001B[0;32m      2\u001B[0m     run_config_adapter,\n\u001B[0;32m      3\u001B[0m     default_config\u001B[38;5;241m=\u001B[39mdefault_config,\n\u001B[1;32m   (...)\u001B[0m\n\u001B[0;32m      6\u001B[0m     device\u001B[38;5;241m=\u001B[39m\u001B[38;5;124m'\u001B[39m\u001B[38;5;124mcuda\u001B[39m\u001B[38;5;124m'\u001B[39m\n\u001B[0;32m      7\u001B[0m )\n\u001B[1;32m----> 8\u001B[0m \u001B[43mtest_fn\u001B[49m\u001B[43m(\u001B[49m\u001B[43mtest_config\u001B[49m\u001B[43m)\u001B[49m\n",
      "File \u001B[1;32mD:\\DATEN\\Masterarbeit_PTGNN\\ptgnn\\runtime_config\\config_helpers.py:38\u001B[0m, in \u001B[0;36mrun_config_adapter\u001B[1;34m(hyper_opt_config, default_config, report, verbose, device)\u001B[0m\n\u001B[0;32m     35\u001B[0m \u001B[38;5;66;03m# merge configs with priority to hyperopt config\u001B[39;00m\n\u001B[0;32m     36\u001B[0m merged_config \u001B[38;5;241m=\u001B[39m priority_merge_config(hyper_opt_config, default_config, in_place\u001B[38;5;241m=\u001B[39m\u001B[38;5;28;01mFalse\u001B[39;00m)\n\u001B[1;32m---> 38\u001B[0m \u001B[38;5;28;01mreturn\u001B[39;00m \u001B[43mrun_config\u001B[49m\u001B[43m(\u001B[49m\u001B[43mconfig_dict\u001B[49m\u001B[38;5;241;43m=\u001B[39;49m\u001B[43mmerged_config\u001B[49m\u001B[43m,\u001B[49m\u001B[43m \u001B[49m\u001B[43mreport\u001B[49m\u001B[38;5;241;43m=\u001B[39;49m\u001B[43mreport\u001B[49m\u001B[43m,\u001B[49m\u001B[43m \u001B[49m\u001B[43mverbose\u001B[49m\u001B[38;5;241;43m=\u001B[39;49m\u001B[43mverbose\u001B[49m\u001B[43m,\u001B[49m\u001B[43m \u001B[49m\u001B[43mdevice\u001B[49m\u001B[38;5;241;43m=\u001B[39;49m\u001B[43mdevice\u001B[49m\u001B[43m)\u001B[49m\n",
      "File \u001B[1;32mD:\\DATEN\\Masterarbeit_PTGNN\\ptgnn\\runtime_config\\run_config.py:379\u001B[0m, in \u001B[0;36mrun_config\u001B[1;34m(config_dict, report, verbose, device)\u001B[0m\n\u001B[0;32m    373\u001B[0m scheduler \u001B[38;5;241m=\u001B[39m fetch_scheduler(\n\u001B[0;32m    374\u001B[0m     optimizer,\n\u001B[0;32m    375\u001B[0m     config_dict[\u001B[38;5;124m'\u001B[39m\u001B[38;5;124mscheduler\u001B[39m\u001B[38;5;124m'\u001B[39m]\n\u001B[0;32m    376\u001B[0m )\n\u001B[0;32m    378\u001B[0m \u001B[38;5;66;03m# start training\u001B[39;00m\n\u001B[1;32m--> 379\u001B[0m metric_dict \u001B[38;5;241m=\u001B[39m training_procedure(\n\u001B[0;32m    380\u001B[0m     model\u001B[38;5;241m=\u001B[39mmodel,\n\u001B[0;32m    381\u001B[0m     optimizer\u001B[38;5;241m=\u001B[39moptimizer,\n\u001B[0;32m    382\u001B[0m     scheduler\u001B[38;5;241m=\u001B[39mscheduler,\n\u001B[0;32m    383\u001B[0m     train_loader\u001B[38;5;241m=\u001B[39mtrain_loader,\n\u001B[0;32m    384\u001B[0m     val_loader\u001B[38;5;241m=\u001B[39mval_loader,\n\u001B[0;32m    385\u001B[0m     test_loader\u001B[38;5;241m=\u001B[39mtest_loader,\n\u001B[0;32m    386\u001B[0m     device\u001B[38;5;241m=\u001B[39mdevice,\n\u001B[0;32m    387\u001B[0m     out_dim\u001B[38;5;241m=\u001B[39mconfig_dict[\u001B[38;5;124m'\u001B[39m\u001B[38;5;124mmodel\u001B[39m\u001B[38;5;124m'\u001B[39m][\u001B[38;5;124m'\u001B[39m\u001B[38;5;124mout_dim\u001B[39m\u001B[38;5;124m'\u001B[39m] \u001B[38;5;28;01mif\u001B[39;00m \u001B[38;5;124m'\u001B[39m\u001B[38;5;124mout_dim\u001B[39m\u001B[38;5;124m'\u001B[39m \u001B[38;5;129;01min\u001B[39;00m config_dict[\u001B[38;5;124m'\u001B[39m\u001B[38;5;124mmodel\u001B[39m\u001B[38;5;124m'\u001B[39m] \u001B[38;5;28;01melse\u001B[39;00m \u001B[38;5;241m1\u001B[39m,\n\u001B[0;32m    388\u001B[0m     report\u001B[38;5;241m=\u001B[39mreport,\n\u001B[0;32m    389\u001B[0m     verbose\u001B[38;5;241m=\u001B[39mverbose,\n\u001B[0;32m    390\u001B[0m     \u001B[38;5;241m*\u001B[39m\u001B[38;5;241m*\u001B[39mconfig_dict[\u001B[38;5;124m'\u001B[39m\u001B[38;5;124mtraining\u001B[39m\u001B[38;5;124m'\u001B[39m]\n\u001B[0;32m    391\u001B[0m )\n\u001B[0;32m    393\u001B[0m \u001B[38;5;66;03m# todo: check functions\u001B[39;00m\n\u001B[0;32m    394\u001B[0m \u001B[38;5;28;01mreturn\u001B[39;00m metric_dict\n",
      "File \u001B[1;32mD:\\DATEN\\Masterarbeit_PTGNN\\ptgnn\\runtime_config\\run_config.py:185\u001B[0m, in \u001B[0;36mtraining_procedure\u001B[1;34m(model, optimizer, scheduler, train_loader, val_loader, test_loader, task_type, device, n_max_epochs, loss_function, clip_grad_norm, out_dim, use_test_set, report, verbose, **kwargs)\u001B[0m\n\u001B[0;32m    182\u001B[0m \u001B[38;5;28;01mfor\u001B[39;00m epoch \u001B[38;5;129;01min\u001B[39;00m \u001B[38;5;28mrange\u001B[39m(n_max_epochs):\n\u001B[0;32m    183\u001B[0m     metric_dict \u001B[38;5;241m=\u001B[39m {}\n\u001B[1;32m--> 185\u001B[0m     metric_dict \u001B[38;5;241m=\u001B[39m \u001B[43mtrain_epoch\u001B[49m\u001B[43m(\u001B[49m\n\u001B[0;32m    186\u001B[0m \u001B[43m        \u001B[49m\u001B[43mmetric_dict\u001B[49m\u001B[43m,\u001B[49m\n\u001B[0;32m    187\u001B[0m \u001B[43m        \u001B[49m\u001B[43mclip_grad_norm\u001B[49m\u001B[43m,\u001B[49m\n\u001B[0;32m    188\u001B[0m \u001B[43m        \u001B[49m\u001B[43mdevice\u001B[49m\u001B[43m,\u001B[49m\n\u001B[0;32m    189\u001B[0m \u001B[43m        \u001B[49m\u001B[43mdf_dict\u001B[49m\u001B[43m,\u001B[49m\n\u001B[0;32m    190\u001B[0m \u001B[43m        \u001B[49m\u001B[43mloss_function\u001B[49m\u001B[43m,\u001B[49m\n\u001B[0;32m    191\u001B[0m \u001B[43m        \u001B[49m\u001B[43mmodel\u001B[49m\u001B[43m,\u001B[49m\n\u001B[0;32m    192\u001B[0m \u001B[43m        \u001B[49m\u001B[43moptimizer\u001B[49m\u001B[43m,\u001B[49m\n\u001B[0;32m    193\u001B[0m \u001B[43m        \u001B[49m\u001B[43mout_dim\u001B[49m\u001B[43m,\u001B[49m\n\u001B[0;32m    194\u001B[0m \u001B[43m        \u001B[49m\u001B[43mscheduler\u001B[49m\u001B[43m,\u001B[49m\n\u001B[0;32m    195\u001B[0m \u001B[43m        \u001B[49m\u001B[43mtask_type\u001B[49m\u001B[43m,\u001B[49m\n\u001B[0;32m    196\u001B[0m \u001B[43m        \u001B[49m\u001B[43mtrain_loader\u001B[49m\u001B[43m,\u001B[49m\n\u001B[0;32m    197\u001B[0m \u001B[43m        \u001B[49m\u001B[43mverbose\u001B[49m\u001B[38;5;241;43m=\u001B[39;49m\u001B[43mverbose\u001B[49m\n\u001B[0;32m    198\u001B[0m \u001B[43m    \u001B[49m\u001B[43m)\u001B[49m\n\u001B[0;32m    200\u001B[0m     \u001B[38;5;66;03m# val\u001B[39;00m\n\u001B[0;32m    201\u001B[0m     metric_dict \u001B[38;5;241m=\u001B[39m eval_epoch(metric_dict, device, df_dict, loss_function, model, out_dim, task_type, val_loader, \u001B[38;5;124m'\u001B[39m\u001B[38;5;124mval\u001B[39m\u001B[38;5;124m'\u001B[39m, verbose\u001B[38;5;241m=\u001B[39mverbose)\n",
      "File \u001B[1;32mD:\\DATEN\\Masterarbeit_PTGNN\\ptgnn\\runtime_config\\run_config.py:255\u001B[0m, in \u001B[0;36mtrain_epoch\u001B[1;34m(metric_dict, clip_grad_norm, device, df_dict, loss_function, model, optimizer, out_dim, scheduler, task_type, train_loader, verbose)\u001B[0m\n\u001B[0;32m    252\u001B[0m batch \u001B[38;5;241m=\u001B[39m batch\u001B[38;5;241m.\u001B[39mto(device)\n\u001B[0;32m    254\u001B[0m \u001B[38;5;66;03m# generate prediction\u001B[39;00m\n\u001B[1;32m--> 255\u001B[0m pred, true \u001B[38;5;241m=\u001B[39m \u001B[43mmodel\u001B[49m\u001B[43m(\u001B[49m\u001B[43mbatch\u001B[49m\u001B[43m)\u001B[49m\n\u001B[0;32m    257\u001B[0m \u001B[38;5;66;03m# calculate loss\u001B[39;00m\n\u001B[0;32m    258\u001B[0m loss, pred \u001B[38;5;241m=\u001B[39m loss_function(pred, true)\n",
      "File \u001B[1;32m~\\.conda\\envs\\Masterarbeit_PTGNN\\lib\\site-packages\\torch\\nn\\modules\\module.py:1511\u001B[0m, in \u001B[0;36mModule._wrapped_call_impl\u001B[1;34m(self, *args, **kwargs)\u001B[0m\n\u001B[0;32m   1509\u001B[0m     \u001B[38;5;28;01mreturn\u001B[39;00m \u001B[38;5;28mself\u001B[39m\u001B[38;5;241m.\u001B[39m_compiled_call_impl(\u001B[38;5;241m*\u001B[39margs, \u001B[38;5;241m*\u001B[39m\u001B[38;5;241m*\u001B[39mkwargs)  \u001B[38;5;66;03m# type: ignore[misc]\u001B[39;00m\n\u001B[0;32m   1510\u001B[0m \u001B[38;5;28;01melse\u001B[39;00m:\n\u001B[1;32m-> 1511\u001B[0m     \u001B[38;5;28;01mreturn\u001B[39;00m \u001B[38;5;28mself\u001B[39m\u001B[38;5;241m.\u001B[39m_call_impl(\u001B[38;5;241m*\u001B[39margs, \u001B[38;5;241m*\u001B[39m\u001B[38;5;241m*\u001B[39mkwargs)\n",
      "File \u001B[1;32m~\\.conda\\envs\\Masterarbeit_PTGNN\\lib\\site-packages\\torch\\nn\\modules\\module.py:1520\u001B[0m, in \u001B[0;36mModule._call_impl\u001B[1;34m(self, *args, **kwargs)\u001B[0m\n\u001B[0;32m   1515\u001B[0m \u001B[38;5;66;03m# If we don't have any hooks, we want to skip the rest of the logic in\u001B[39;00m\n\u001B[0;32m   1516\u001B[0m \u001B[38;5;66;03m# this function, and just call forward.\u001B[39;00m\n\u001B[0;32m   1517\u001B[0m \u001B[38;5;28;01mif\u001B[39;00m \u001B[38;5;129;01mnot\u001B[39;00m (\u001B[38;5;28mself\u001B[39m\u001B[38;5;241m.\u001B[39m_backward_hooks \u001B[38;5;129;01mor\u001B[39;00m \u001B[38;5;28mself\u001B[39m\u001B[38;5;241m.\u001B[39m_backward_pre_hooks \u001B[38;5;129;01mor\u001B[39;00m \u001B[38;5;28mself\u001B[39m\u001B[38;5;241m.\u001B[39m_forward_hooks \u001B[38;5;129;01mor\u001B[39;00m \u001B[38;5;28mself\u001B[39m\u001B[38;5;241m.\u001B[39m_forward_pre_hooks\n\u001B[0;32m   1518\u001B[0m         \u001B[38;5;129;01mor\u001B[39;00m _global_backward_pre_hooks \u001B[38;5;129;01mor\u001B[39;00m _global_backward_hooks\n\u001B[0;32m   1519\u001B[0m         \u001B[38;5;129;01mor\u001B[39;00m _global_forward_hooks \u001B[38;5;129;01mor\u001B[39;00m _global_forward_pre_hooks):\n\u001B[1;32m-> 1520\u001B[0m     \u001B[38;5;28;01mreturn\u001B[39;00m forward_call(\u001B[38;5;241m*\u001B[39margs, \u001B[38;5;241m*\u001B[39m\u001B[38;5;241m*\u001B[39mkwargs)\n\u001B[0;32m   1522\u001B[0m \u001B[38;5;28;01mtry\u001B[39;00m:\n\u001B[0;32m   1523\u001B[0m     result \u001B[38;5;241m=\u001B[39m \u001B[38;5;28;01mNone\u001B[39;00m\n",
      "File \u001B[1;32mD:\\DATEN\\Masterarbeit_PTGNN\\ptgnn\\model\\framework\\custom_model.py:141\u001B[0m, in \u001B[0;36mCustomModel.forward\u001B[1;34m(self, batch)\u001B[0m\n\u001B[0;32m    132\u001B[0m \u001B[38;5;250m\u001B[39m\u001B[38;5;124;03m\"\"\"\u001B[39;00m\n\u001B[0;32m    133\u001B[0m \u001B[38;5;124;03mForward function of ``CustomModel``\u001B[39;00m\n\u001B[0;32m    134\u001B[0m \n\u001B[1;32m   (...)\u001B[0m\n\u001B[0;32m    138\u001B[0m \u001B[38;5;124;03m:rtype: torch.Tensor\u001B[39;00m\n\u001B[0;32m    139\u001B[0m \u001B[38;5;124;03m\"\"\"\u001B[39;00m\n\u001B[0;32m    140\u001B[0m \u001B[38;5;28;01mfor\u001B[39;00m layer \u001B[38;5;129;01min\u001B[39;00m \u001B[38;5;28mself\u001B[39m\u001B[38;5;241m.\u001B[39mlayers:\n\u001B[1;32m--> 141\u001B[0m     batch \u001B[38;5;241m=\u001B[39m \u001B[43mlayer\u001B[49m\u001B[43m(\u001B[49m\u001B[43mbatch\u001B[49m\u001B[43m)\u001B[49m\n\u001B[0;32m    143\u001B[0m \u001B[38;5;28;01mreturn\u001B[39;00m \u001B[38;5;28mself\u001B[39m\u001B[38;5;241m.\u001B[39mhead(batch)\n",
      "File \u001B[1;32m~\\.conda\\envs\\Masterarbeit_PTGNN\\lib\\site-packages\\torch\\nn\\modules\\module.py:1511\u001B[0m, in \u001B[0;36mModule._wrapped_call_impl\u001B[1;34m(self, *args, **kwargs)\u001B[0m\n\u001B[0;32m   1509\u001B[0m     \u001B[38;5;28;01mreturn\u001B[39;00m \u001B[38;5;28mself\u001B[39m\u001B[38;5;241m.\u001B[39m_compiled_call_impl(\u001B[38;5;241m*\u001B[39margs, \u001B[38;5;241m*\u001B[39m\u001B[38;5;241m*\u001B[39mkwargs)  \u001B[38;5;66;03m# type: ignore[misc]\u001B[39;00m\n\u001B[0;32m   1510\u001B[0m \u001B[38;5;28;01melse\u001B[39;00m:\n\u001B[1;32m-> 1511\u001B[0m     \u001B[38;5;28;01mreturn\u001B[39;00m \u001B[38;5;28mself\u001B[39m\u001B[38;5;241m.\u001B[39m_call_impl(\u001B[38;5;241m*\u001B[39margs, \u001B[38;5;241m*\u001B[39m\u001B[38;5;241m*\u001B[39mkwargs)\n",
      "File \u001B[1;32m~\\.conda\\envs\\Masterarbeit_PTGNN\\lib\\site-packages\\torch\\nn\\modules\\module.py:1520\u001B[0m, in \u001B[0;36mModule._call_impl\u001B[1;34m(self, *args, **kwargs)\u001B[0m\n\u001B[0;32m   1515\u001B[0m \u001B[38;5;66;03m# If we don't have any hooks, we want to skip the rest of the logic in\u001B[39;00m\n\u001B[0;32m   1516\u001B[0m \u001B[38;5;66;03m# this function, and just call forward.\u001B[39;00m\n\u001B[0;32m   1517\u001B[0m \u001B[38;5;28;01mif\u001B[39;00m \u001B[38;5;129;01mnot\u001B[39;00m (\u001B[38;5;28mself\u001B[39m\u001B[38;5;241m.\u001B[39m_backward_hooks \u001B[38;5;129;01mor\u001B[39;00m \u001B[38;5;28mself\u001B[39m\u001B[38;5;241m.\u001B[39m_backward_pre_hooks \u001B[38;5;129;01mor\u001B[39;00m \u001B[38;5;28mself\u001B[39m\u001B[38;5;241m.\u001B[39m_forward_hooks \u001B[38;5;129;01mor\u001B[39;00m \u001B[38;5;28mself\u001B[39m\u001B[38;5;241m.\u001B[39m_forward_pre_hooks\n\u001B[0;32m   1518\u001B[0m         \u001B[38;5;129;01mor\u001B[39;00m _global_backward_pre_hooks \u001B[38;5;129;01mor\u001B[39;00m _global_backward_hooks\n\u001B[0;32m   1519\u001B[0m         \u001B[38;5;129;01mor\u001B[39;00m _global_forward_hooks \u001B[38;5;129;01mor\u001B[39;00m _global_forward_pre_hooks):\n\u001B[1;32m-> 1520\u001B[0m     \u001B[38;5;28;01mreturn\u001B[39;00m forward_call(\u001B[38;5;241m*\u001B[39margs, \u001B[38;5;241m*\u001B[39m\u001B[38;5;241m*\u001B[39mkwargs)\n\u001B[0;32m   1522\u001B[0m \u001B[38;5;28;01mtry\u001B[39;00m:\n\u001B[0;32m   1523\u001B[0m     result \u001B[38;5;241m=\u001B[39m \u001B[38;5;28;01mNone\u001B[39;00m\n",
      "File \u001B[1;32mD:\\DATEN\\Masterarbeit_PTGNN\\ptgnn\\model\\modules\\gps_layer.py:79\u001B[0m, in \u001B[0;36mCustomGPSLayer.forward\u001B[1;34m(self, batch)\u001B[0m\n\u001B[0;32m     76\u001B[0m initial_embedding \u001B[38;5;241m=\u001B[39m batch\u001B[38;5;241m.\u001B[39mx\n\u001B[0;32m     78\u001B[0m \u001B[38;5;66;03m# put through local model\u001B[39;00m\n\u001B[1;32m---> 79\u001B[0m local_node_embedding \u001B[38;5;241m=\u001B[39m \u001B[38;5;28;43mself\u001B[39;49m\u001B[38;5;241;43m.\u001B[39;49m\u001B[43mlocal_model\u001B[49m\u001B[43m(\u001B[49m\u001B[43mbatch\u001B[49m\u001B[43m)\u001B[49m\n\u001B[0;32m     80\u001B[0m \u001B[38;5;28;01mif\u001B[39;00m \u001B[38;5;28misinstance\u001B[39m(local_node_embedding, torch_geometric\u001B[38;5;241m.\u001B[39mdata\u001B[38;5;241m.\u001B[39mdata\u001B[38;5;241m.\u001B[39mBaseData):\n\u001B[0;32m     81\u001B[0m     local_node_embedding \u001B[38;5;241m=\u001B[39m local_node_embedding\u001B[38;5;241m.\u001B[39mx\n",
      "File \u001B[1;32m~\\.conda\\envs\\Masterarbeit_PTGNN\\lib\\site-packages\\torch\\nn\\modules\\module.py:1511\u001B[0m, in \u001B[0;36mModule._wrapped_call_impl\u001B[1;34m(self, *args, **kwargs)\u001B[0m\n\u001B[0;32m   1509\u001B[0m     \u001B[38;5;28;01mreturn\u001B[39;00m \u001B[38;5;28mself\u001B[39m\u001B[38;5;241m.\u001B[39m_compiled_call_impl(\u001B[38;5;241m*\u001B[39margs, \u001B[38;5;241m*\u001B[39m\u001B[38;5;241m*\u001B[39mkwargs)  \u001B[38;5;66;03m# type: ignore[misc]\u001B[39;00m\n\u001B[0;32m   1510\u001B[0m \u001B[38;5;28;01melse\u001B[39;00m:\n\u001B[1;32m-> 1511\u001B[0m     \u001B[38;5;28;01mreturn\u001B[39;00m \u001B[38;5;28mself\u001B[39m\u001B[38;5;241m.\u001B[39m_call_impl(\u001B[38;5;241m*\u001B[39margs, \u001B[38;5;241m*\u001B[39m\u001B[38;5;241m*\u001B[39mkwargs)\n",
      "File \u001B[1;32m~\\.conda\\envs\\Masterarbeit_PTGNN\\lib\\site-packages\\torch\\nn\\modules\\module.py:1520\u001B[0m, in \u001B[0;36mModule._call_impl\u001B[1;34m(self, *args, **kwargs)\u001B[0m\n\u001B[0;32m   1515\u001B[0m \u001B[38;5;66;03m# If we don't have any hooks, we want to skip the rest of the logic in\u001B[39;00m\n\u001B[0;32m   1516\u001B[0m \u001B[38;5;66;03m# this function, and just call forward.\u001B[39;00m\n\u001B[0;32m   1517\u001B[0m \u001B[38;5;28;01mif\u001B[39;00m \u001B[38;5;129;01mnot\u001B[39;00m (\u001B[38;5;28mself\u001B[39m\u001B[38;5;241m.\u001B[39m_backward_hooks \u001B[38;5;129;01mor\u001B[39;00m \u001B[38;5;28mself\u001B[39m\u001B[38;5;241m.\u001B[39m_backward_pre_hooks \u001B[38;5;129;01mor\u001B[39;00m \u001B[38;5;28mself\u001B[39m\u001B[38;5;241m.\u001B[39m_forward_hooks \u001B[38;5;129;01mor\u001B[39;00m \u001B[38;5;28mself\u001B[39m\u001B[38;5;241m.\u001B[39m_forward_pre_hooks\n\u001B[0;32m   1518\u001B[0m         \u001B[38;5;129;01mor\u001B[39;00m _global_backward_pre_hooks \u001B[38;5;129;01mor\u001B[39;00m _global_backward_hooks\n\u001B[0;32m   1519\u001B[0m         \u001B[38;5;129;01mor\u001B[39;00m _global_forward_hooks \u001B[38;5;129;01mor\u001B[39;00m _global_forward_pre_hooks):\n\u001B[1;32m-> 1520\u001B[0m     \u001B[38;5;28;01mreturn\u001B[39;00m forward_call(\u001B[38;5;241m*\u001B[39margs, \u001B[38;5;241m*\u001B[39m\u001B[38;5;241m*\u001B[39mkwargs)\n\u001B[0;32m   1522\u001B[0m \u001B[38;5;28;01mtry\u001B[39;00m:\n\u001B[0;32m   1523\u001B[0m     result \u001B[38;5;241m=\u001B[39m \u001B[38;5;28;01mNone\u001B[39;00m\n",
      "File \u001B[1;32mD:\\DATEN\\Masterarbeit_PTGNN\\ptgnn\\model\\modules\\ptree\\advanced_tree_layer.py:168\u001B[0m, in \u001B[0;36mAdvancedPermutationTreeLayer.forward\u001B[1;34m(self, batch)\u001B[0m\n\u001B[0;32m    162\u001B[0m after_s \u001B[38;5;241m=\u001B[39m torch\u001B[38;5;241m.\u001B[39mstack([\n\u001B[0;32m    163\u001B[0m     \u001B[38;5;28mself\u001B[39m\u001B[38;5;241m.\u001B[39ms_layer[i](data_array[i, node_type_mask])\n\u001B[0;32m    164\u001B[0m     \u001B[38;5;28;01mfor\u001B[39;00m i \u001B[38;5;129;01min\u001B[39;00m \u001B[38;5;28mrange\u001B[39m(\u001B[38;5;28mself\u001B[39m\u001B[38;5;241m.\u001B[39mk)\n\u001B[0;32m    165\u001B[0m ], dim\u001B[38;5;241m=\u001B[39m\u001B[38;5;241m0\u001B[39m)\n\u001B[0;32m    167\u001B[0m \u001B[38;5;66;03m# masked cleaning empty entries\u001B[39;00m\n\u001B[1;32m--> 168\u001B[0m after_s \u001B[38;5;241m=\u001B[39m \u001B[43mtorch\u001B[49m\u001B[38;5;241;43m.\u001B[39;49m\u001B[43mmasked_fill\u001B[49m\u001B[43m(\u001B[49m\n\u001B[0;32m    169\u001B[0m \u001B[43m    \u001B[49m\u001B[43mafter_s\u001B[49m\u001B[43m,\u001B[49m\n\u001B[0;32m    170\u001B[0m \u001B[43m    \u001B[49m\u001B[43mmask_order_matrix_empty_extended\u001B[49m\u001B[43m[\u001B[49m\u001B[43m:\u001B[49m\u001B[43m,\u001B[49m\u001B[43m \u001B[49m\u001B[43mnode_type_mask\u001B[49m\u001B[43m]\u001B[49m\u001B[43m,\u001B[49m\n\u001B[0;32m    171\u001B[0m \u001B[43m    \u001B[49m\u001B[38;5;241;43m0.0\u001B[39;49m\n\u001B[0;32m    172\u001B[0m \u001B[43m\u001B[49m\u001B[43m)\u001B[49m\n\u001B[0;32m    174\u001B[0m \u001B[38;5;66;03m# sum\u001B[39;00m\n\u001B[0;32m    175\u001B[0m after_s \u001B[38;5;241m=\u001B[39m torch\u001B[38;5;241m.\u001B[39msum(after_s, dim\u001B[38;5;241m=\u001B[39m\u001B[38;5;241m0\u001B[39m)\n",
      "\u001B[1;31mKeyboardInterrupt\u001B[0m: "
     ]
    }
   ],
   "source": [
    "test_fn = partial(\n",
    "    run_config_adapter,\n",
    "    default_config=default_config,\n",
    "    report=False,\n",
    "    verbose=True,\n",
    "    device='cuda'\n",
    ")\n",
    "test_fn(test_config)"
   ],
   "metadata": {
    "collapsed": false,
    "ExecuteTime": {
     "start_time": "2024-03-26T20:32:11.287744Z",
     "end_time": "2024-03-26T20:35:01.748561Z"
    }
   }
  },
  {
   "cell_type": "code",
   "execution_count": 31,
   "outputs": [
    {
     "name": "stderr",
     "output_type": "stream",
     "text": [
      "312it [02:49,  1.84it/s]\n",
      "100%|██████████| 313/313 [00:32<00:00,  9.75it/s]\n",
      "312it [02:22,  2.20it/s]\n",
      "100%|██████████| 313/313 [00:28<00:00, 11.15it/s]\n"
     ]
    },
    {
     "data": {
      "text/plain": "   train_accuracy  train_precision  train_recall  train_f1  train_auc  \\\n0            0.51             0.67          0.05      0.10       0.55   \n1            0.99             1.00          0.99      0.99       1.00   \n\n   train_mean_loss  train_sum_loss  val_accuracy  val_precision  val_recall  \\\n0         0.981054      306.089000          0.51           0.67        0.05   \n1         0.017814        5.557829          1.00           1.00        1.00   \n\n   val_f1  val_auc  val_mean_loss  val_sum_loss  \n0    0.09     0.55       0.976364    305.601873  \n1    1.00     1.00       0.000069      0.021534  ",
      "text/html": "<div>\n<style scoped>\n    .dataframe tbody tr th:only-of-type {\n        vertical-align: middle;\n    }\n\n    .dataframe tbody tr th {\n        vertical-align: top;\n    }\n\n    .dataframe thead th {\n        text-align: right;\n    }\n</style>\n<table border=\"1\" class=\"dataframe\">\n  <thead>\n    <tr style=\"text-align: right;\">\n      <th></th>\n      <th>train_accuracy</th>\n      <th>train_precision</th>\n      <th>train_recall</th>\n      <th>train_f1</th>\n      <th>train_auc</th>\n      <th>train_mean_loss</th>\n      <th>train_sum_loss</th>\n      <th>val_accuracy</th>\n      <th>val_precision</th>\n      <th>val_recall</th>\n      <th>val_f1</th>\n      <th>val_auc</th>\n      <th>val_mean_loss</th>\n      <th>val_sum_loss</th>\n    </tr>\n  </thead>\n  <tbody>\n    <tr>\n      <th>0</th>\n      <td>0.51</td>\n      <td>0.67</td>\n      <td>0.05</td>\n      <td>0.10</td>\n      <td>0.55</td>\n      <td>0.981054</td>\n      <td>306.089000</td>\n      <td>0.51</td>\n      <td>0.67</td>\n      <td>0.05</td>\n      <td>0.09</td>\n      <td>0.55</td>\n      <td>0.976364</td>\n      <td>305.601873</td>\n    </tr>\n    <tr>\n      <th>1</th>\n      <td>0.99</td>\n      <td>1.00</td>\n      <td>0.99</td>\n      <td>0.99</td>\n      <td>1.00</td>\n      <td>0.017814</td>\n      <td>5.557829</td>\n      <td>1.00</td>\n      <td>1.00</td>\n      <td>1.00</td>\n      <td>1.00</td>\n      <td>1.00</td>\n      <td>0.000069</td>\n      <td>0.021534</td>\n    </tr>\n  </tbody>\n</table>\n</div>"
     },
     "execution_count": 31,
     "metadata": {},
     "output_type": "execute_result"
    }
   ],
   "source": [
    "test_fn = partial(\n",
    "    run_config_adapter,\n",
    "    default_config=default_config,\n",
    "    report=False,\n",
    "    verbose=True,\n",
    "    device='cpu'\n",
    ")\n",
    "test_fn(test_config)"
   ],
   "metadata": {
    "collapsed": false,
    "ExecuteTime": {
     "start_time": "2024-03-26T19:21:04.632345Z",
     "end_time": "2024-03-26T19:27:41.313372Z"
    }
   }
  },
  {
   "cell_type": "markdown",
   "source": [
    "## Set up tuner"
   ],
   "metadata": {
    "collapsed": false
   }
  },
  {
   "cell_type": "code",
   "execution_count": 12,
   "outputs": [],
   "source": [
    "# fetch score to optimize\n",
    "optimization_score = \"val_\" + default_config['training']['optimization_metric']\n",
    "score_mode = default_config['training']['optimization_metric_mode']"
   ],
   "metadata": {
    "collapsed": false,
    "ExecuteTime": {
     "start_time": "2024-03-27T10:48:39.662347Z",
     "end_time": "2024-03-27T10:48:39.677348Z"
    }
   }
  },
  {
   "cell_type": "code",
   "execution_count": null,
   "outputs": [],
   "source": [
    "# fetch hyperopt settings\n",
    "hyper_settings = benchmark_config['hyper_settings']"
   ],
   "metadata": {
    "collapsed": false
   }
  },
  {
   "cell_type": "code",
   "execution_count": 13,
   "outputs": [
    {
     "name": "stderr",
     "output_type": "stream",
     "text": [
      "2024-03-27 10:48:54,163\tINFO worker.py:1724 -- Started a local Ray instance.\n",
      "2024-03-27 10:48:55,338\tINFO tune.py:220 -- Initializing Ray automatically. For cluster usage or custom Ray initialization, call `ray.init(...)` before `Tuner(...)`.\n",
      "2024-03-27 10:48:55,340\tINFO tune.py:583 -- [output] This uses the legacy output and progress reporter, as Jupyter notebooks are not supported by the new engine, yet. For more information, please see https://github.com/ray-project/ray/issues/36949\n"
     ]
    },
    {
     "name": "stdout",
     "output_type": "stream",
     "text": [
      "== Status ==\n",
      "Current time: 2024-03-27 10:48:55 (running for 00:00:00.11)\n",
      "Using AsyncHyperBand: num_stopped=0\n",
      "Bracket: Iter 81.000: None | Iter 27.000: None | Iter 9.000: None | Iter 3.000: None | Iter 1.000: None\n",
      "Logical resource usage: 5.0/20 CPUs, 0.5/1 GPUs (0.0/1.0 accelerator_type:G)\n",
      "Result logdir: C:/Users/johan/ray_results/trainable_function_2024-03-27_10-48-51\n",
      "Number of trials: 1/2 (1 PENDING)\n",
      "+-----------------------------+----------+-------+------------------------+\n",
      "| Trial name                  | status   | loc   | model/modules/1/time   |\n",
      "|                             |          |       | s                      |\n",
      "|-----------------------------+----------+-------+------------------------|\n",
      "| trainable_function_eef38c8f | PENDING  |       |                        |\n",
      "+-----------------------------+----------+-------+------------------------+\n",
      "\n",
      "\n",
      "== Status ==\n",
      "Current time: 2024-03-27 10:49:00 (running for 00:00:05.18)\n",
      "Using AsyncHyperBand: num_stopped=0\n",
      "Bracket: Iter 81.000: None | Iter 27.000: None | Iter 9.000: None | Iter 3.000: None | Iter 1.000: None\n",
      "Logical resource usage: 10.0/20 CPUs, 1.0/1 GPUs (0.0/1.0 accelerator_type:G)\n",
      "Result logdir: C:/Users/johan/ray_results/trainable_function_2024-03-27_10-48-51\n",
      "Number of trials: 2/2 (1 PENDING, 1 RUNNING)\n",
      "+-----------------------------+----------+-----------------+------------------------+\n",
      "| Trial name                  | status   | loc             | model/modules/1/time   |\n",
      "|                             |          |                 | s                      |\n",
      "|-----------------------------+----------+-----------------+------------------------|\n",
      "| trainable_function_eef38c8f | RUNNING  | 127.0.0.1:65460 |                        |\n",
      "| trainable_function_f66869a0 | PENDING  |                 |                        |\n",
      "+-----------------------------+----------+-----------------+------------------------+\n",
      "\n",
      "\n",
      "== Status ==\n",
      "Current time: 2024-03-27 10:49:05 (running for 00:00:10.20)\n",
      "Using AsyncHyperBand: num_stopped=0\n",
      "Bracket: Iter 81.000: None | Iter 27.000: None | Iter 9.000: None | Iter 3.000: None | Iter 1.000: None\n",
      "Logical resource usage: 10.0/20 CPUs, 1.0/1 GPUs (0.0/1.0 accelerator_type:G)\n",
      "Result logdir: C:/Users/johan/ray_results/trainable_function_2024-03-27_10-48-51\n",
      "Number of trials: 2/2 (1 PENDING, 1 RUNNING)\n",
      "+-----------------------------+----------+-----------------+------------------------+\n",
      "| Trial name                  | status   | loc             | model/modules/1/time   |\n",
      "|                             |          |                 | s                      |\n",
      "|-----------------------------+----------+-----------------+------------------------|\n",
      "| trainable_function_eef38c8f | RUNNING  | 127.0.0.1:65460 |                        |\n",
      "| trainable_function_f66869a0 | PENDING  |                 |                        |\n",
      "+-----------------------------+----------+-----------------+------------------------+\n",
      "\n",
      "\n",
      "== Status ==\n",
      "Current time: 2024-03-27 10:49:10 (running for 00:00:15.25)\n",
      "Using AsyncHyperBand: num_stopped=0\n",
      "Bracket: Iter 81.000: None | Iter 27.000: None | Iter 9.000: None | Iter 3.000: None | Iter 1.000: None\n",
      "Logical resource usage: 10.0/20 CPUs, 1.0/1 GPUs (0.0/1.0 accelerator_type:G)\n",
      "Result logdir: C:/Users/johan/ray_results/trainable_function_2024-03-27_10-48-51\n",
      "Number of trials: 2/2 (2 RUNNING)\n",
      "+-----------------------------+----------+-----------------+------------------------+\n",
      "| Trial name                  | status   | loc             | model/modules/1/time   |\n",
      "|                             |          |                 | s                      |\n",
      "|-----------------------------+----------+-----------------+------------------------|\n",
      "| trainable_function_eef38c8f | RUNNING  | 127.0.0.1:65460 |                        |\n",
      "| trainable_function_f66869a0 | RUNNING  | 127.0.0.1:37364 |                        |\n",
      "+-----------------------------+----------+-----------------+------------------------+\n",
      "\n",
      "\n",
      "== Status ==\n",
      "Current time: 2024-03-27 10:49:15 (running for 00:00:20.27)\n",
      "Using AsyncHyperBand: num_stopped=0\n",
      "Bracket: Iter 81.000: None | Iter 27.000: None | Iter 9.000: None | Iter 3.000: None | Iter 1.000: None\n",
      "Logical resource usage: 10.0/20 CPUs, 1.0/1 GPUs (0.0/1.0 accelerator_type:G)\n",
      "Result logdir: C:/Users/johan/ray_results/trainable_function_2024-03-27_10-48-51\n",
      "Number of trials: 2/2 (2 RUNNING)\n",
      "+-----------------------------+----------+-----------------+------------------------+\n",
      "| Trial name                  | status   | loc             | model/modules/1/time   |\n",
      "|                             |          |                 | s                      |\n",
      "|-----------------------------+----------+-----------------+------------------------|\n",
      "| trainable_function_eef38c8f | RUNNING  | 127.0.0.1:65460 |                        |\n",
      "| trainable_function_f66869a0 | RUNNING  | 127.0.0.1:37364 |                        |\n",
      "+-----------------------------+----------+-----------------+------------------------+\n",
      "\n",
      "\n",
      "== Status ==\n",
      "Current time: 2024-03-27 10:49:20 (running for 00:00:25.31)\n",
      "Using AsyncHyperBand: num_stopped=0\n",
      "Bracket: Iter 81.000: None | Iter 27.000: None | Iter 9.000: None | Iter 3.000: None | Iter 1.000: None\n",
      "Logical resource usage: 10.0/20 CPUs, 1.0/1 GPUs (0.0/1.0 accelerator_type:G)\n",
      "Result logdir: C:/Users/johan/ray_results/trainable_function_2024-03-27_10-48-51\n",
      "Number of trials: 2/2 (2 RUNNING)\n",
      "+-----------------------------+----------+-----------------+------------------------+\n",
      "| Trial name                  | status   | loc             | model/modules/1/time   |\n",
      "|                             |          |                 | s                      |\n",
      "|-----------------------------+----------+-----------------+------------------------|\n",
      "| trainable_function_eef38c8f | RUNNING  | 127.0.0.1:65460 |                        |\n",
      "| trainable_function_f66869a0 | RUNNING  | 127.0.0.1:37364 |                        |\n",
      "+-----------------------------+----------+-----------------+------------------------+\n",
      "\n",
      "\n",
      "== Status ==\n",
      "Current time: 2024-03-27 10:49:25 (running for 00:00:30.35)\n",
      "Using AsyncHyperBand: num_stopped=0\n",
      "Bracket: Iter 81.000: None | Iter 27.000: None | Iter 9.000: None | Iter 3.000: None | Iter 1.000: None\n",
      "Logical resource usage: 10.0/20 CPUs, 1.0/1 GPUs (0.0/1.0 accelerator_type:G)\n",
      "Result logdir: C:/Users/johan/ray_results/trainable_function_2024-03-27_10-48-51\n",
      "Number of trials: 2/2 (2 RUNNING)\n",
      "+-----------------------------+----------+-----------------+------------------------+\n",
      "| Trial name                  | status   | loc             | model/modules/1/time   |\n",
      "|                             |          |                 | s                      |\n",
      "|-----------------------------+----------+-----------------+------------------------|\n",
      "| trainable_function_eef38c8f | RUNNING  | 127.0.0.1:65460 |                        |\n",
      "| trainable_function_f66869a0 | RUNNING  | 127.0.0.1:37364 |                        |\n",
      "+-----------------------------+----------+-----------------+------------------------+\n",
      "\n",
      "\n",
      "== Status ==\n",
      "Current time: 2024-03-27 10:49:30 (running for 00:00:35.39)\n",
      "Using AsyncHyperBand: num_stopped=0\n",
      "Bracket: Iter 81.000: None | Iter 27.000: None | Iter 9.000: None | Iter 3.000: None | Iter 1.000: None\n",
      "Logical resource usage: 10.0/20 CPUs, 1.0/1 GPUs (0.0/1.0 accelerator_type:G)\n",
      "Result logdir: C:/Users/johan/ray_results/trainable_function_2024-03-27_10-48-51\n",
      "Number of trials: 2/2 (2 RUNNING)\n",
      "+-----------------------------+----------+-----------------+------------------------+\n",
      "| Trial name                  | status   | loc             | model/modules/1/time   |\n",
      "|                             |          |                 | s                      |\n",
      "|-----------------------------+----------+-----------------+------------------------|\n",
      "| trainable_function_eef38c8f | RUNNING  | 127.0.0.1:65460 |                        |\n",
      "| trainable_function_f66869a0 | RUNNING  | 127.0.0.1:37364 |                        |\n",
      "+-----------------------------+----------+-----------------+------------------------+\n",
      "\n",
      "\n",
      "== Status ==\n",
      "Current time: 2024-03-27 10:49:35 (running for 00:00:40.41)\n",
      "Using AsyncHyperBand: num_stopped=0\n",
      "Bracket: Iter 81.000: None | Iter 27.000: None | Iter 9.000: None | Iter 3.000: None | Iter 1.000: None\n",
      "Logical resource usage: 10.0/20 CPUs, 1.0/1 GPUs (0.0/1.0 accelerator_type:G)\n",
      "Result logdir: C:/Users/johan/ray_results/trainable_function_2024-03-27_10-48-51\n",
      "Number of trials: 2/2 (2 RUNNING)\n",
      "+-----------------------------+----------+-----------------+------------------------+\n",
      "| Trial name                  | status   | loc             | model/modules/1/time   |\n",
      "|                             |          |                 | s                      |\n",
      "|-----------------------------+----------+-----------------+------------------------|\n",
      "| trainable_function_eef38c8f | RUNNING  | 127.0.0.1:65460 |                        |\n",
      "| trainable_function_f66869a0 | RUNNING  | 127.0.0.1:37364 |                        |\n",
      "+-----------------------------+----------+-----------------+------------------------+\n",
      "\n",
      "\n",
      "== Status ==\n",
      "Current time: 2024-03-27 10:49:40 (running for 00:00:45.41)\n",
      "Using AsyncHyperBand: num_stopped=0\n",
      "Bracket: Iter 81.000: None | Iter 27.000: None | Iter 9.000: None | Iter 3.000: None | Iter 1.000: None\n",
      "Logical resource usage: 10.0/20 CPUs, 1.0/1 GPUs (0.0/1.0 accelerator_type:G)\n",
      "Result logdir: C:/Users/johan/ray_results/trainable_function_2024-03-27_10-48-51\n",
      "Number of trials: 2/2 (2 RUNNING)\n",
      "+-----------------------------+----------+-----------------+------------------------+\n",
      "| Trial name                  | status   | loc             | model/modules/1/time   |\n",
      "|                             |          |                 | s                      |\n",
      "|-----------------------------+----------+-----------------+------------------------|\n",
      "| trainable_function_eef38c8f | RUNNING  | 127.0.0.1:65460 |                        |\n",
      "| trainable_function_f66869a0 | RUNNING  | 127.0.0.1:37364 |                        |\n",
      "+-----------------------------+----------+-----------------+------------------------+\n",
      "\n",
      "\n",
      "== Status ==\n",
      "Current time: 2024-03-27 10:49:45 (running for 00:00:50.43)\n",
      "Using AsyncHyperBand: num_stopped=0\n",
      "Bracket: Iter 81.000: None | Iter 27.000: None | Iter 9.000: None | Iter 3.000: None | Iter 1.000: None\n",
      "Logical resource usage: 10.0/20 CPUs, 1.0/1 GPUs (0.0/1.0 accelerator_type:G)\n",
      "Result logdir: C:/Users/johan/ray_results/trainable_function_2024-03-27_10-48-51\n",
      "Number of trials: 2/2 (2 RUNNING)\n",
      "+-----------------------------+----------+-----------------+------------------------+\n",
      "| Trial name                  | status   | loc             | model/modules/1/time   |\n",
      "|                             |          |                 | s                      |\n",
      "|-----------------------------+----------+-----------------+------------------------|\n",
      "| trainable_function_eef38c8f | RUNNING  | 127.0.0.1:65460 |                        |\n",
      "| trainable_function_f66869a0 | RUNNING  | 127.0.0.1:37364 |                        |\n",
      "+-----------------------------+----------+-----------------+------------------------+\n",
      "\n",
      "\n",
      "== Status ==\n",
      "Current time: 2024-03-27 10:49:50 (running for 00:00:55.44)\n",
      "Using AsyncHyperBand: num_stopped=0\n",
      "Bracket: Iter 81.000: None | Iter 27.000: None | Iter 9.000: None | Iter 3.000: None | Iter 1.000: None\n",
      "Logical resource usage: 10.0/20 CPUs, 1.0/1 GPUs (0.0/1.0 accelerator_type:G)\n",
      "Result logdir: C:/Users/johan/ray_results/trainable_function_2024-03-27_10-48-51\n",
      "Number of trials: 2/2 (2 RUNNING)\n",
      "+-----------------------------+----------+-----------------+------------------------+\n",
      "| Trial name                  | status   | loc             | model/modules/1/time   |\n",
      "|                             |          |                 | s                      |\n",
      "|-----------------------------+----------+-----------------+------------------------|\n",
      "| trainable_function_eef38c8f | RUNNING  | 127.0.0.1:65460 |                        |\n",
      "| trainable_function_f66869a0 | RUNNING  | 127.0.0.1:37364 |                        |\n",
      "+-----------------------------+----------+-----------------+------------------------+\n",
      "\n",
      "\n",
      "== Status ==\n",
      "Current time: 2024-03-27 10:49:55 (running for 00:01:00.45)\n",
      "Using AsyncHyperBand: num_stopped=0\n",
      "Bracket: Iter 81.000: None | Iter 27.000: None | Iter 9.000: None | Iter 3.000: None | Iter 1.000: None\n",
      "Logical resource usage: 10.0/20 CPUs, 1.0/1 GPUs (0.0/1.0 accelerator_type:G)\n",
      "Result logdir: C:/Users/johan/ray_results/trainable_function_2024-03-27_10-48-51\n",
      "Number of trials: 2/2 (2 RUNNING)\n",
      "+-----------------------------+----------+-----------------+------------------------+\n",
      "| Trial name                  | status   | loc             | model/modules/1/time   |\n",
      "|                             |          |                 | s                      |\n",
      "|-----------------------------+----------+-----------------+------------------------|\n",
      "| trainable_function_eef38c8f | RUNNING  | 127.0.0.1:65460 |                        |\n",
      "| trainable_function_f66869a0 | RUNNING  | 127.0.0.1:37364 |                        |\n",
      "+-----------------------------+----------+-----------------+------------------------+\n",
      "\n",
      "\n",
      "== Status ==\n",
      "Current time: 2024-03-27 10:50:00 (running for 00:01:05.46)\n",
      "Using AsyncHyperBand: num_stopped=0\n",
      "Bracket: Iter 81.000: None | Iter 27.000: None | Iter 9.000: None | Iter 3.000: None | Iter 1.000: None\n",
      "Logical resource usage: 10.0/20 CPUs, 1.0/1 GPUs (0.0/1.0 accelerator_type:G)\n",
      "Result logdir: C:/Users/johan/ray_results/trainable_function_2024-03-27_10-48-51\n",
      "Number of trials: 2/2 (2 RUNNING)\n",
      "+-----------------------------+----------+-----------------+------------------------+\n",
      "| Trial name                  | status   | loc             | model/modules/1/time   |\n",
      "|                             |          |                 | s                      |\n",
      "|-----------------------------+----------+-----------------+------------------------|\n",
      "| trainable_function_eef38c8f | RUNNING  | 127.0.0.1:65460 |                        |\n",
      "| trainable_function_f66869a0 | RUNNING  | 127.0.0.1:37364 |                        |\n",
      "+-----------------------------+----------+-----------------+------------------------+\n",
      "\n",
      "\n",
      "== Status ==\n",
      "Current time: 2024-03-27 10:50:05 (running for 00:01:10.48)\n",
      "Using AsyncHyperBand: num_stopped=0\n",
      "Bracket: Iter 81.000: None | Iter 27.000: None | Iter 9.000: None | Iter 3.000: None | Iter 1.000: None\n",
      "Logical resource usage: 10.0/20 CPUs, 1.0/1 GPUs (0.0/1.0 accelerator_type:G)\n",
      "Result logdir: C:/Users/johan/ray_results/trainable_function_2024-03-27_10-48-51\n",
      "Number of trials: 2/2 (2 RUNNING)\n",
      "+-----------------------------+----------+-----------------+------------------------+\n",
      "| Trial name                  | status   | loc             | model/modules/1/time   |\n",
      "|                             |          |                 | s                      |\n",
      "|-----------------------------+----------+-----------------+------------------------|\n",
      "| trainable_function_eef38c8f | RUNNING  | 127.0.0.1:65460 |                        |\n",
      "| trainable_function_f66869a0 | RUNNING  | 127.0.0.1:37364 |                        |\n",
      "+-----------------------------+----------+-----------------+------------------------+\n",
      "\n",
      "\n",
      "== Status ==\n",
      "Current time: 2024-03-27 10:50:10 (running for 00:01:15.49)\n",
      "Using AsyncHyperBand: num_stopped=0\n",
      "Bracket: Iter 81.000: None | Iter 27.000: None | Iter 9.000: None | Iter 3.000: None | Iter 1.000: None\n",
      "Logical resource usage: 10.0/20 CPUs, 1.0/1 GPUs (0.0/1.0 accelerator_type:G)\n",
      "Result logdir: C:/Users/johan/ray_results/trainable_function_2024-03-27_10-48-51\n",
      "Number of trials: 2/2 (2 RUNNING)\n",
      "+-----------------------------+----------+-----------------+------------------------+\n",
      "| Trial name                  | status   | loc             | model/modules/1/time   |\n",
      "|                             |          |                 | s                      |\n",
      "|-----------------------------+----------+-----------------+------------------------|\n",
      "| trainable_function_eef38c8f | RUNNING  | 127.0.0.1:65460 |                        |\n",
      "| trainable_function_f66869a0 | RUNNING  | 127.0.0.1:37364 |                        |\n",
      "+-----------------------------+----------+-----------------+------------------------+\n",
      "\n",
      "\n",
      "== Status ==\n",
      "Current time: 2024-03-27 10:50:15 (running for 00:01:20.52)\n",
      "Using AsyncHyperBand: num_stopped=0\n",
      "Bracket: Iter 81.000: None | Iter 27.000: None | Iter 9.000: None | Iter 3.000: None | Iter 1.000: None\n",
      "Logical resource usage: 10.0/20 CPUs, 1.0/1 GPUs (0.0/1.0 accelerator_type:G)\n",
      "Result logdir: C:/Users/johan/ray_results/trainable_function_2024-03-27_10-48-51\n",
      "Number of trials: 2/2 (2 RUNNING)\n",
      "+-----------------------------+----------+-----------------+------------------------+\n",
      "| Trial name                  | status   | loc             | model/modules/1/time   |\n",
      "|                             |          |                 | s                      |\n",
      "|-----------------------------+----------+-----------------+------------------------|\n",
      "| trainable_function_eef38c8f | RUNNING  | 127.0.0.1:65460 |                        |\n",
      "| trainable_function_f66869a0 | RUNNING  | 127.0.0.1:37364 |                        |\n",
      "+-----------------------------+----------+-----------------+------------------------+\n",
      "\n",
      "\n",
      "== Status ==\n",
      "Current time: 2024-03-27 10:50:20 (running for 00:01:25.53)\n",
      "Using AsyncHyperBand: num_stopped=0\n",
      "Bracket: Iter 81.000: None | Iter 27.000: None | Iter 9.000: None | Iter 3.000: None | Iter 1.000: None\n",
      "Logical resource usage: 10.0/20 CPUs, 1.0/1 GPUs (0.0/1.0 accelerator_type:G)\n",
      "Result logdir: C:/Users/johan/ray_results/trainable_function_2024-03-27_10-48-51\n",
      "Number of trials: 2/2 (2 RUNNING)\n",
      "+-----------------------------+----------+-----------------+------------------------+\n",
      "| Trial name                  | status   | loc             | model/modules/1/time   |\n",
      "|                             |          |                 | s                      |\n",
      "|-----------------------------+----------+-----------------+------------------------|\n",
      "| trainable_function_eef38c8f | RUNNING  | 127.0.0.1:65460 |                        |\n",
      "| trainable_function_f66869a0 | RUNNING  | 127.0.0.1:37364 |                        |\n",
      "+-----------------------------+----------+-----------------+------------------------+\n",
      "\n",
      "\n",
      "== Status ==\n",
      "Current time: 2024-03-27 10:50:25 (running for 00:01:30.56)\n",
      "Using AsyncHyperBand: num_stopped=0\n",
      "Bracket: Iter 81.000: None | Iter 27.000: None | Iter 9.000: None | Iter 3.000: None | Iter 1.000: None\n",
      "Logical resource usage: 10.0/20 CPUs, 1.0/1 GPUs (0.0/1.0 accelerator_type:G)\n",
      "Result logdir: C:/Users/johan/ray_results/trainable_function_2024-03-27_10-48-51\n",
      "Number of trials: 2/2 (2 RUNNING)\n",
      "+-----------------------------+----------+-----------------+------------------------+\n",
      "| Trial name                  | status   | loc             | model/modules/1/time   |\n",
      "|                             |          |                 | s                      |\n",
      "|-----------------------------+----------+-----------------+------------------------|\n",
      "| trainable_function_eef38c8f | RUNNING  | 127.0.0.1:65460 |                        |\n",
      "| trainable_function_f66869a0 | RUNNING  | 127.0.0.1:37364 |                        |\n",
      "+-----------------------------+----------+-----------------+------------------------+\n",
      "\n",
      "\n",
      "== Status ==\n",
      "Current time: 2024-03-27 10:50:30 (running for 00:01:35.57)\n",
      "Using AsyncHyperBand: num_stopped=0\n",
      "Bracket: Iter 81.000: None | Iter 27.000: None | Iter 9.000: None | Iter 3.000: None | Iter 1.000: 0.49\n",
      "Logical resource usage: 10.0/20 CPUs, 1.0/1 GPUs (0.0/1.0 accelerator_type:G)\n",
      "Current best trial: eef38c8f with val_accuracy=0.49 and parameters={'model': {'modules': {1: {'times': 2}}}}\n",
      "Result logdir: C:/Users/johan/ray_results/trainable_function_2024-03-27_10-48-51\n",
      "Number of trials: 2/2 (2 RUNNING)\n",
      "+-----------------------------+----------+-----------------+------------------------+\n",
      "| Trial name                  | status   | loc             | model/modules/1/time   |\n",
      "|                             |          |                 | s                      |\n",
      "|-----------------------------+----------+-----------------+------------------------|\n",
      "| trainable_function_eef38c8f | RUNNING  | 127.0.0.1:65460 |                        |\n",
      "| trainable_function_f66869a0 | RUNNING  | 127.0.0.1:37364 |                        |\n",
      "+-----------------------------+----------+-----------------+------------------------+\n",
      "\n",
      "\n",
      "== Status ==\n",
      "Current time: 2024-03-27 10:50:35 (running for 00:01:40.60)\n",
      "Using AsyncHyperBand: num_stopped=0\n",
      "Bracket: Iter 81.000: None | Iter 27.000: None | Iter 9.000: None | Iter 3.000: None | Iter 1.000: 0.49\n",
      "Logical resource usage: 10.0/20 CPUs, 1.0/1 GPUs (0.0/1.0 accelerator_type:G)\n",
      "Current best trial: eef38c8f with val_accuracy=0.49 and parameters={'model': {'modules': {1: {'times': 2}}}}\n",
      "Result logdir: C:/Users/johan/ray_results/trainable_function_2024-03-27_10-48-51\n",
      "Number of trials: 2/2 (2 RUNNING)\n",
      "+-----------------------------+----------+-----------------+------------------------+\n",
      "| Trial name                  | status   | loc             | model/modules/1/time   |\n",
      "|                             |          |                 | s                      |\n",
      "|-----------------------------+----------+-----------------+------------------------|\n",
      "| trainable_function_eef38c8f | RUNNING  | 127.0.0.1:65460 |                        |\n",
      "| trainable_function_f66869a0 | RUNNING  | 127.0.0.1:37364 |                        |\n",
      "+-----------------------------+----------+-----------------+------------------------+\n",
      "\n",
      "\n",
      "== Status ==\n",
      "Current time: 2024-03-27 10:50:41 (running for 00:01:45.66)\n",
      "Using AsyncHyperBand: num_stopped=0\n",
      "Bracket: Iter 81.000: None | Iter 27.000: None | Iter 9.000: None | Iter 3.000: None | Iter 1.000: 0.49\n",
      "Logical resource usage: 10.0/20 CPUs, 1.0/1 GPUs (0.0/1.0 accelerator_type:G)\n",
      "Current best trial: eef38c8f with val_accuracy=0.49 and parameters={'model': {'modules': {1: {'times': 2}}}}\n",
      "Result logdir: C:/Users/johan/ray_results/trainable_function_2024-03-27_10-48-51\n",
      "Number of trials: 2/2 (2 RUNNING)\n",
      "+-----------------------------+----------+-----------------+------------------------+\n",
      "| Trial name                  | status   | loc             | model/modules/1/time   |\n",
      "|                             |          |                 | s                      |\n",
      "|-----------------------------+----------+-----------------+------------------------|\n",
      "| trainable_function_eef38c8f | RUNNING  | 127.0.0.1:65460 |                        |\n",
      "| trainable_function_f66869a0 | RUNNING  | 127.0.0.1:37364 |                        |\n",
      "+-----------------------------+----------+-----------------+------------------------+\n",
      "\n",
      "\n",
      "== Status ==\n",
      "Current time: 2024-03-27 10:50:46 (running for 00:01:50.69)\n",
      "Using AsyncHyperBand: num_stopped=0\n",
      "Bracket: Iter 81.000: None | Iter 27.000: None | Iter 9.000: None | Iter 3.000: None | Iter 1.000: 0.49\n",
      "Logical resource usage: 10.0/20 CPUs, 1.0/1 GPUs (0.0/1.0 accelerator_type:G)\n",
      "Current best trial: eef38c8f with val_accuracy=0.49 and parameters={'model': {'modules': {1: {'times': 2}}}}\n",
      "Result logdir: C:/Users/johan/ray_results/trainable_function_2024-03-27_10-48-51\n",
      "Number of trials: 2/2 (2 RUNNING)\n",
      "+-----------------------------+----------+-----------------+------------------------+\n",
      "| Trial name                  | status   | loc             | model/modules/1/time   |\n",
      "|                             |          |                 | s                      |\n",
      "|-----------------------------+----------+-----------------+------------------------|\n",
      "| trainable_function_eef38c8f | RUNNING  | 127.0.0.1:65460 |                        |\n",
      "| trainable_function_f66869a0 | RUNNING  | 127.0.0.1:37364 |                        |\n",
      "+-----------------------------+----------+-----------------+------------------------+\n",
      "\n",
      "\n",
      "== Status ==\n",
      "Current time: 2024-03-27 10:50:51 (running for 00:01:55.72)\n",
      "Using AsyncHyperBand: num_stopped=0\n",
      "Bracket: Iter 81.000: None | Iter 27.000: None | Iter 9.000: None | Iter 3.000: None | Iter 1.000: 0.49\n",
      "Logical resource usage: 10.0/20 CPUs, 1.0/1 GPUs (0.0/1.0 accelerator_type:G)\n",
      "Current best trial: eef38c8f with val_accuracy=0.49 and parameters={'model': {'modules': {1: {'times': 2}}}}\n",
      "Result logdir: C:/Users/johan/ray_results/trainable_function_2024-03-27_10-48-51\n",
      "Number of trials: 2/2 (2 RUNNING)\n",
      "+-----------------------------+----------+-----------------+------------------------+\n",
      "| Trial name                  | status   | loc             | model/modules/1/time   |\n",
      "|                             |          |                 | s                      |\n",
      "|-----------------------------+----------+-----------------+------------------------|\n",
      "| trainable_function_eef38c8f | RUNNING  | 127.0.0.1:65460 |                        |\n",
      "| trainable_function_f66869a0 | RUNNING  | 127.0.0.1:37364 |                        |\n",
      "+-----------------------------+----------+-----------------+------------------------+\n",
      "\n",
      "\n",
      "== Status ==\n",
      "Current time: 2024-03-27 10:50:56 (running for 00:02:00.77)\n",
      "Using AsyncHyperBand: num_stopped=0\n",
      "Bracket: Iter 81.000: None | Iter 27.000: None | Iter 9.000: None | Iter 3.000: None | Iter 1.000: 0.49\n",
      "Logical resource usage: 10.0/20 CPUs, 1.0/1 GPUs (0.0/1.0 accelerator_type:G)\n",
      "Current best trial: eef38c8f with val_accuracy=0.49 and parameters={'model': {'modules': {1: {'times': 2}}}}\n",
      "Result logdir: C:/Users/johan/ray_results/trainable_function_2024-03-27_10-48-51\n",
      "Number of trials: 2/2 (2 RUNNING)\n",
      "+-----------------------------+----------+-----------------+------------------------+\n",
      "| Trial name                  | status   | loc             | model/modules/1/time   |\n",
      "|                             |          |                 | s                      |\n",
      "|-----------------------------+----------+-----------------+------------------------|\n",
      "| trainable_function_eef38c8f | RUNNING  | 127.0.0.1:65460 |                        |\n",
      "| trainable_function_f66869a0 | RUNNING  | 127.0.0.1:37364 |                        |\n",
      "+-----------------------------+----------+-----------------+------------------------+\n",
      "\n",
      "\n",
      "== Status ==\n",
      "Current time: 2024-03-27 10:51:01 (running for 00:02:05.79)\n",
      "Using AsyncHyperBand: num_stopped=0\n",
      "Bracket: Iter 81.000: None | Iter 27.000: None | Iter 9.000: None | Iter 3.000: None | Iter 1.000: 0.49\n",
      "Logical resource usage: 10.0/20 CPUs, 1.0/1 GPUs (0.0/1.0 accelerator_type:G)\n",
      "Current best trial: eef38c8f with val_accuracy=0.49 and parameters={'model': {'modules': {1: {'times': 2}}}}\n",
      "Result logdir: C:/Users/johan/ray_results/trainable_function_2024-03-27_10-48-51\n",
      "Number of trials: 2/2 (2 RUNNING)\n",
      "+-----------------------------+----------+-----------------+------------------------+\n",
      "| Trial name                  | status   | loc             | model/modules/1/time   |\n",
      "|                             |          |                 | s                      |\n",
      "|-----------------------------+----------+-----------------+------------------------|\n",
      "| trainable_function_eef38c8f | RUNNING  | 127.0.0.1:65460 |                        |\n",
      "| trainable_function_f66869a0 | RUNNING  | 127.0.0.1:37364 |                        |\n",
      "+-----------------------------+----------+-----------------+------------------------+\n",
      "\n",
      "\n",
      "== Status ==\n",
      "Current time: 2024-03-27 10:51:06 (running for 00:02:10.81)\n",
      "Using AsyncHyperBand: num_stopped=0\n",
      "Bracket: Iter 81.000: None | Iter 27.000: None | Iter 9.000: None | Iter 3.000: None | Iter 1.000: 0.49\n",
      "Logical resource usage: 10.0/20 CPUs, 1.0/1 GPUs (0.0/1.0 accelerator_type:G)\n",
      "Current best trial: eef38c8f with val_accuracy=0.49 and parameters={'model': {'modules': {1: {'times': 2}}}}\n",
      "Result logdir: C:/Users/johan/ray_results/trainable_function_2024-03-27_10-48-51\n",
      "Number of trials: 2/2 (2 RUNNING)\n",
      "+-----------------------------+----------+-----------------+------------------------+\n",
      "| Trial name                  | status   | loc             | model/modules/1/time   |\n",
      "|                             |          |                 | s                      |\n",
      "|-----------------------------+----------+-----------------+------------------------|\n",
      "| trainable_function_eef38c8f | RUNNING  | 127.0.0.1:65460 |                        |\n",
      "| trainable_function_f66869a0 | RUNNING  | 127.0.0.1:37364 |                        |\n",
      "+-----------------------------+----------+-----------------+------------------------+\n",
      "\n",
      "\n",
      "== Status ==\n",
      "Current time: 2024-03-27 10:51:11 (running for 00:02:15.82)\n",
      "Using AsyncHyperBand: num_stopped=0\n",
      "Bracket: Iter 81.000: None | Iter 27.000: None | Iter 9.000: None | Iter 3.000: None | Iter 1.000: 0.49\n",
      "Logical resource usage: 10.0/20 CPUs, 1.0/1 GPUs (0.0/1.0 accelerator_type:G)\n",
      "Current best trial: eef38c8f with val_accuracy=0.49 and parameters={'model': {'modules': {1: {'times': 2}}}}\n",
      "Result logdir: C:/Users/johan/ray_results/trainable_function_2024-03-27_10-48-51\n",
      "Number of trials: 2/2 (2 RUNNING)\n",
      "+-----------------------------+----------+-----------------+------------------------+\n",
      "| Trial name                  | status   | loc             | model/modules/1/time   |\n",
      "|                             |          |                 | s                      |\n",
      "|-----------------------------+----------+-----------------+------------------------|\n",
      "| trainable_function_eef38c8f | RUNNING  | 127.0.0.1:65460 |                        |\n",
      "| trainable_function_f66869a0 | RUNNING  | 127.0.0.1:37364 |                        |\n",
      "+-----------------------------+----------+-----------------+------------------------+\n",
      "\n",
      "\n",
      "== Status ==\n",
      "Current time: 2024-03-27 10:51:16 (running for 00:02:20.85)\n",
      "Using AsyncHyperBand: num_stopped=0\n",
      "Bracket: Iter 81.000: None | Iter 27.000: None | Iter 9.000: None | Iter 3.000: None | Iter 1.000: 0.49\n",
      "Logical resource usage: 10.0/20 CPUs, 1.0/1 GPUs (0.0/1.0 accelerator_type:G)\n",
      "Current best trial: eef38c8f with val_accuracy=0.49 and parameters={'model': {'modules': {1: {'times': 2}}}}\n",
      "Result logdir: C:/Users/johan/ray_results/trainable_function_2024-03-27_10-48-51\n",
      "Number of trials: 2/2 (2 RUNNING)\n",
      "+-----------------------------+----------+-----------------+------------------------+\n",
      "| Trial name                  | status   | loc             | model/modules/1/time   |\n",
      "|                             |          |                 | s                      |\n",
      "|-----------------------------+----------+-----------------+------------------------|\n",
      "| trainable_function_eef38c8f | RUNNING  | 127.0.0.1:65460 |                        |\n",
      "| trainable_function_f66869a0 | RUNNING  | 127.0.0.1:37364 |                        |\n",
      "+-----------------------------+----------+-----------------+------------------------+\n",
      "\n",
      "\n",
      "== Status ==\n",
      "Current time: 2024-03-27 10:51:21 (running for 00:02:25.88)\n",
      "Using AsyncHyperBand: num_stopped=0\n",
      "Bracket: Iter 81.000: None | Iter 27.000: None | Iter 9.000: None | Iter 3.000: None | Iter 1.000: 0.49\n",
      "Logical resource usage: 10.0/20 CPUs, 1.0/1 GPUs (0.0/1.0 accelerator_type:G)\n",
      "Current best trial: eef38c8f with val_accuracy=0.49 and parameters={'model': {'modules': {1: {'times': 2}}}}\n",
      "Result logdir: C:/Users/johan/ray_results/trainable_function_2024-03-27_10-48-51\n",
      "Number of trials: 2/2 (2 RUNNING)\n",
      "+-----------------------------+----------+-----------------+------------------------+\n",
      "| Trial name                  | status   | loc             | model/modules/1/time   |\n",
      "|                             |          |                 | s                      |\n",
      "|-----------------------------+----------+-----------------+------------------------|\n",
      "| trainable_function_eef38c8f | RUNNING  | 127.0.0.1:65460 |                        |\n",
      "| trainable_function_f66869a0 | RUNNING  | 127.0.0.1:37364 |                        |\n",
      "+-----------------------------+----------+-----------------+------------------------+\n",
      "\n",
      "\n",
      "== Status ==\n",
      "Current time: 2024-03-27 10:51:26 (running for 00:02:30.93)\n",
      "Using AsyncHyperBand: num_stopped=0\n",
      "Bracket: Iter 81.000: None | Iter 27.000: None | Iter 9.000: None | Iter 3.000: None | Iter 1.000: 0.49\n",
      "Logical resource usage: 10.0/20 CPUs, 1.0/1 GPUs (0.0/1.0 accelerator_type:G)\n",
      "Current best trial: eef38c8f with val_accuracy=0.49 and parameters={'model': {'modules': {1: {'times': 2}}}}\n",
      "Result logdir: C:/Users/johan/ray_results/trainable_function_2024-03-27_10-48-51\n",
      "Number of trials: 2/2 (2 RUNNING)\n",
      "+-----------------------------+----------+-----------------+------------------------+\n",
      "| Trial name                  | status   | loc             | model/modules/1/time   |\n",
      "|                             |          |                 | s                      |\n",
      "|-----------------------------+----------+-----------------+------------------------|\n",
      "| trainable_function_eef38c8f | RUNNING  | 127.0.0.1:65460 |                        |\n",
      "| trainable_function_f66869a0 | RUNNING  | 127.0.0.1:37364 |                        |\n",
      "+-----------------------------+----------+-----------------+------------------------+\n",
      "\n",
      "\n",
      "== Status ==\n",
      "Current time: 2024-03-27 10:51:31 (running for 00:02:35.95)\n",
      "Using AsyncHyperBand: num_stopped=0\n",
      "Bracket: Iter 81.000: None | Iter 27.000: None | Iter 9.000: None | Iter 3.000: None | Iter 1.000: 0.49\n",
      "Logical resource usage: 10.0/20 CPUs, 1.0/1 GPUs (0.0/1.0 accelerator_type:G)\n",
      "Current best trial: eef38c8f with val_accuracy=0.49 and parameters={'model': {'modules': {1: {'times': 2}}}}\n",
      "Result logdir: C:/Users/johan/ray_results/trainable_function_2024-03-27_10-48-51\n",
      "Number of trials: 2/2 (2 RUNNING)\n",
      "+-----------------------------+----------+-----------------+------------------------+\n",
      "| Trial name                  | status   | loc             | model/modules/1/time   |\n",
      "|                             |          |                 | s                      |\n",
      "|-----------------------------+----------+-----------------+------------------------|\n",
      "| trainable_function_eef38c8f | RUNNING  | 127.0.0.1:65460 |                        |\n",
      "| trainable_function_f66869a0 | RUNNING  | 127.0.0.1:37364 |                        |\n",
      "+-----------------------------+----------+-----------------+------------------------+\n",
      "\n",
      "\n",
      "== Status ==\n",
      "Current time: 2024-03-27 10:51:36 (running for 00:02:40.97)\n",
      "Using AsyncHyperBand: num_stopped=0\n",
      "Bracket: Iter 81.000: None | Iter 27.000: None | Iter 9.000: None | Iter 3.000: None | Iter 1.000: 0.49\n",
      "Logical resource usage: 10.0/20 CPUs, 1.0/1 GPUs (0.0/1.0 accelerator_type:G)\n",
      "Current best trial: eef38c8f with val_accuracy=0.49 and parameters={'model': {'modules': {1: {'times': 2}}}}\n",
      "Result logdir: C:/Users/johan/ray_results/trainable_function_2024-03-27_10-48-51\n",
      "Number of trials: 2/2 (2 RUNNING)\n",
      "+-----------------------------+----------+-----------------+------------------------+\n",
      "| Trial name                  | status   | loc             | model/modules/1/time   |\n",
      "|                             |          |                 | s                      |\n",
      "|-----------------------------+----------+-----------------+------------------------|\n",
      "| trainable_function_eef38c8f | RUNNING  | 127.0.0.1:65460 |                        |\n",
      "| trainable_function_f66869a0 | RUNNING  | 127.0.0.1:37364 |                        |\n",
      "+-----------------------------+----------+-----------------+------------------------+\n",
      "\n",
      "\n",
      "== Status ==\n",
      "Current time: 2024-03-27 10:51:41 (running for 00:02:45.99)\n",
      "Using AsyncHyperBand: num_stopped=0\n",
      "Bracket: Iter 81.000: None | Iter 27.000: None | Iter 9.000: None | Iter 3.000: None | Iter 1.000: 0.49\n",
      "Logical resource usage: 10.0/20 CPUs, 1.0/1 GPUs (0.0/1.0 accelerator_type:G)\n",
      "Current best trial: eef38c8f with val_accuracy=0.49 and parameters={'model': {'modules': {1: {'times': 2}}}}\n",
      "Result logdir: C:/Users/johan/ray_results/trainable_function_2024-03-27_10-48-51\n",
      "Number of trials: 2/2 (2 RUNNING)\n",
      "+-----------------------------+----------+-----------------+------------------------+\n",
      "| Trial name                  | status   | loc             | model/modules/1/time   |\n",
      "|                             |          |                 | s                      |\n",
      "|-----------------------------+----------+-----------------+------------------------|\n",
      "| trainable_function_eef38c8f | RUNNING  | 127.0.0.1:65460 |                        |\n",
      "| trainable_function_f66869a0 | RUNNING  | 127.0.0.1:37364 |                        |\n",
      "+-----------------------------+----------+-----------------+------------------------+\n",
      "\n",
      "\n",
      "== Status ==\n",
      "Current time: 2024-03-27 10:51:46 (running for 00:02:51.07)\n",
      "Using AsyncHyperBand: num_stopped=0\n",
      "Bracket: Iter 81.000: None | Iter 27.000: None | Iter 9.000: None | Iter 3.000: None | Iter 1.000: 0.49\n",
      "Logical resource usage: 10.0/20 CPUs, 1.0/1 GPUs (0.0/1.0 accelerator_type:G)\n",
      "Current best trial: eef38c8f with val_accuracy=1.0 and parameters={'model': {'modules': {1: {'times': 2}}}}\n",
      "Result logdir: C:/Users/johan/ray_results/trainable_function_2024-03-27_10-48-51\n",
      "Number of trials: 2/2 (2 RUNNING)\n",
      "+-----------------------------+----------+-----------------+------------------------+\n",
      "| Trial name                  | status   | loc             | model/modules/1/time   |\n",
      "|                             |          |                 | s                      |\n",
      "|-----------------------------+----------+-----------------+------------------------|\n",
      "| trainable_function_eef38c8f | RUNNING  | 127.0.0.1:65460 |                        |\n",
      "| trainable_function_f66869a0 | RUNNING  | 127.0.0.1:37364 |                        |\n",
      "+-----------------------------+----------+-----------------+------------------------+\n",
      "\n",
      "\n",
      "== Status ==\n",
      "Current time: 2024-03-27 10:51:51 (running for 00:02:56.09)\n",
      "Using AsyncHyperBand: num_stopped=0\n",
      "Bracket: Iter 81.000: None | Iter 27.000: None | Iter 9.000: None | Iter 3.000: None | Iter 1.000: 0.49\n",
      "Logical resource usage: 10.0/20 CPUs, 1.0/1 GPUs (0.0/1.0 accelerator_type:G)\n",
      "Current best trial: eef38c8f with val_accuracy=1.0 and parameters={'model': {'modules': {1: {'times': 2}}}}\n",
      "Result logdir: C:/Users/johan/ray_results/trainable_function_2024-03-27_10-48-51\n",
      "Number of trials: 2/2 (2 RUNNING)\n",
      "+-----------------------------+----------+-----------------+------------------------+\n",
      "| Trial name                  | status   | loc             | model/modules/1/time   |\n",
      "|                             |          |                 | s                      |\n",
      "|-----------------------------+----------+-----------------+------------------------|\n",
      "| trainable_function_eef38c8f | RUNNING  | 127.0.0.1:65460 |                        |\n",
      "| trainable_function_f66869a0 | RUNNING  | 127.0.0.1:37364 |                        |\n",
      "+-----------------------------+----------+-----------------+------------------------+\n",
      "\n",
      "\n",
      "== Status ==\n",
      "Current time: 2024-03-27 10:51:56 (running for 00:03:01.19)\n",
      "Using AsyncHyperBand: num_stopped=0\n",
      "Bracket: Iter 81.000: None | Iter 27.000: None | Iter 9.000: None | Iter 3.000: None | Iter 1.000: 0.49\n",
      "Logical resource usage: 10.0/20 CPUs, 1.0/1 GPUs (0.0/1.0 accelerator_type:G)\n",
      "Current best trial: eef38c8f with val_accuracy=1.0 and parameters={'model': {'modules': {1: {'times': 2}}}}\n",
      "Result logdir: C:/Users/johan/ray_results/trainable_function_2024-03-27_10-48-51\n",
      "Number of trials: 2/2 (2 RUNNING)\n",
      "+-----------------------------+----------+-----------------+------------------------+\n",
      "| Trial name                  | status   | loc             | model/modules/1/time   |\n",
      "|                             |          |                 | s                      |\n",
      "|-----------------------------+----------+-----------------+------------------------|\n",
      "| trainable_function_eef38c8f | RUNNING  | 127.0.0.1:65460 |                        |\n",
      "| trainable_function_f66869a0 | RUNNING  | 127.0.0.1:37364 |                        |\n",
      "+-----------------------------+----------+-----------------+------------------------+\n",
      "\n",
      "\n",
      "== Status ==\n",
      "Current time: 2024-03-27 10:52:01 (running for 00:03:06.21)\n",
      "Using AsyncHyperBand: num_stopped=0\n",
      "Bracket: Iter 81.000: None | Iter 27.000: None | Iter 9.000: None | Iter 3.000: None | Iter 1.000: 0.49\n",
      "Logical resource usage: 10.0/20 CPUs, 1.0/1 GPUs (0.0/1.0 accelerator_type:G)\n",
      "Current best trial: eef38c8f with val_accuracy=1.0 and parameters={'model': {'modules': {1: {'times': 2}}}}\n",
      "Result logdir: C:/Users/johan/ray_results/trainable_function_2024-03-27_10-48-51\n",
      "Number of trials: 2/2 (2 RUNNING)\n",
      "+-----------------------------+----------+-----------------+------------------------+\n",
      "| Trial name                  | status   | loc             | model/modules/1/time   |\n",
      "|                             |          |                 | s                      |\n",
      "|-----------------------------+----------+-----------------+------------------------|\n",
      "| trainable_function_eef38c8f | RUNNING  | 127.0.0.1:65460 |                        |\n",
      "| trainable_function_f66869a0 | RUNNING  | 127.0.0.1:37364 |                        |\n",
      "+-----------------------------+----------+-----------------+------------------------+\n",
      "\n",
      "\n",
      "== Status ==\n",
      "Current time: 2024-03-27 10:52:06 (running for 00:03:11.24)\n",
      "Using AsyncHyperBand: num_stopped=0\n",
      "Bracket: Iter 81.000: None | Iter 27.000: None | Iter 9.000: None | Iter 3.000: None | Iter 1.000: 0.49\n",
      "Logical resource usage: 10.0/20 CPUs, 1.0/1 GPUs (0.0/1.0 accelerator_type:G)\n",
      "Current best trial: eef38c8f with val_accuracy=1.0 and parameters={'model': {'modules': {1: {'times': 2}}}}\n",
      "Result logdir: C:/Users/johan/ray_results/trainable_function_2024-03-27_10-48-51\n",
      "Number of trials: 2/2 (2 RUNNING)\n",
      "+-----------------------------+----------+-----------------+------------------------+\n",
      "| Trial name                  | status   | loc             | model/modules/1/time   |\n",
      "|                             |          |                 | s                      |\n",
      "|-----------------------------+----------+-----------------+------------------------|\n",
      "| trainable_function_eef38c8f | RUNNING  | 127.0.0.1:65460 |                        |\n",
      "| trainable_function_f66869a0 | RUNNING  | 127.0.0.1:37364 |                        |\n",
      "+-----------------------------+----------+-----------------+------------------------+\n",
      "\n",
      "\n",
      "== Status ==\n",
      "Current time: 2024-03-27 10:52:11 (running for 00:03:16.26)\n",
      "Using AsyncHyperBand: num_stopped=0\n",
      "Bracket: Iter 81.000: None | Iter 27.000: None | Iter 9.000: None | Iter 3.000: None | Iter 1.000: 0.49\n",
      "Logical resource usage: 10.0/20 CPUs, 1.0/1 GPUs (0.0/1.0 accelerator_type:G)\n",
      "Current best trial: eef38c8f with val_accuracy=1.0 and parameters={'model': {'modules': {1: {'times': 2}}}}\n",
      "Result logdir: C:/Users/johan/ray_results/trainable_function_2024-03-27_10-48-51\n",
      "Number of trials: 2/2 (2 RUNNING)\n",
      "+-----------------------------+----------+-----------------+------------------------+\n",
      "| Trial name                  | status   | loc             | model/modules/1/time   |\n",
      "|                             |          |                 | s                      |\n",
      "|-----------------------------+----------+-----------------+------------------------|\n",
      "| trainable_function_eef38c8f | RUNNING  | 127.0.0.1:65460 |                        |\n",
      "| trainable_function_f66869a0 | RUNNING  | 127.0.0.1:37364 |                        |\n",
      "+-----------------------------+----------+-----------------+------------------------+\n",
      "\n",
      "\n",
      "== Status ==\n",
      "Current time: 2024-03-27 10:52:16 (running for 00:03:21.27)\n",
      "Using AsyncHyperBand: num_stopped=0\n",
      "Bracket: Iter 81.000: None | Iter 27.000: None | Iter 9.000: None | Iter 3.000: None | Iter 1.000: 0.49\n",
      "Logical resource usage: 10.0/20 CPUs, 1.0/1 GPUs (0.0/1.0 accelerator_type:G)\n",
      "Current best trial: eef38c8f with val_accuracy=1.0 and parameters={'model': {'modules': {1: {'times': 2}}}}\n",
      "Result logdir: C:/Users/johan/ray_results/trainable_function_2024-03-27_10-48-51\n",
      "Number of trials: 2/2 (2 RUNNING)\n",
      "+-----------------------------+----------+-----------------+------------------------+\n",
      "| Trial name                  | status   | loc             | model/modules/1/time   |\n",
      "|                             |          |                 | s                      |\n",
      "|-----------------------------+----------+-----------------+------------------------|\n",
      "| trainable_function_eef38c8f | RUNNING  | 127.0.0.1:65460 |                        |\n",
      "| trainable_function_f66869a0 | RUNNING  | 127.0.0.1:37364 |                        |\n",
      "+-----------------------------+----------+-----------------+------------------------+\n",
      "\n",
      "\n",
      "== Status ==\n",
      "Current time: 2024-03-27 10:52:21 (running for 00:03:26.28)\n",
      "Using AsyncHyperBand: num_stopped=0\n",
      "Bracket: Iter 81.000: None | Iter 27.000: None | Iter 9.000: None | Iter 3.000: None | Iter 1.000: 0.49\n",
      "Logical resource usage: 10.0/20 CPUs, 1.0/1 GPUs (0.0/1.0 accelerator_type:G)\n",
      "Current best trial: eef38c8f with val_accuracy=1.0 and parameters={'model': {'modules': {1: {'times': 2}}}}\n",
      "Result logdir: C:/Users/johan/ray_results/trainable_function_2024-03-27_10-48-51\n",
      "Number of trials: 2/2 (2 RUNNING)\n",
      "+-----------------------------+----------+-----------------+------------------------+\n",
      "| Trial name                  | status   | loc             | model/modules/1/time   |\n",
      "|                             |          |                 | s                      |\n",
      "|-----------------------------+----------+-----------------+------------------------|\n",
      "| trainable_function_eef38c8f | RUNNING  | 127.0.0.1:65460 |                        |\n",
      "| trainable_function_f66869a0 | RUNNING  | 127.0.0.1:37364 |                        |\n",
      "+-----------------------------+----------+-----------------+------------------------+\n",
      "\n",
      "\n",
      "== Status ==\n",
      "Current time: 2024-03-27 10:52:26 (running for 00:03:31.29)\n",
      "Using AsyncHyperBand: num_stopped=0\n",
      "Bracket: Iter 81.000: None | Iter 27.000: None | Iter 9.000: None | Iter 3.000: None | Iter 1.000: 0.49\n",
      "Logical resource usage: 10.0/20 CPUs, 1.0/1 GPUs (0.0/1.0 accelerator_type:G)\n",
      "Current best trial: eef38c8f with val_accuracy=1.0 and parameters={'model': {'modules': {1: {'times': 2}}}}\n",
      "Result logdir: C:/Users/johan/ray_results/trainable_function_2024-03-27_10-48-51\n",
      "Number of trials: 2/2 (2 RUNNING)\n",
      "+-----------------------------+----------+-----------------+------------------------+\n",
      "| Trial name                  | status   | loc             | model/modules/1/time   |\n",
      "|                             |          |                 | s                      |\n",
      "|-----------------------------+----------+-----------------+------------------------|\n",
      "| trainable_function_eef38c8f | RUNNING  | 127.0.0.1:65460 |                        |\n",
      "| trainable_function_f66869a0 | RUNNING  | 127.0.0.1:37364 |                        |\n",
      "+-----------------------------+----------+-----------------+------------------------+\n",
      "\n",
      "\n",
      "== Status ==\n",
      "Current time: 2024-03-27 10:52:31 (running for 00:03:36.31)\n",
      "Using AsyncHyperBand: num_stopped=0\n",
      "Bracket: Iter 81.000: None | Iter 27.000: None | Iter 9.000: None | Iter 3.000: None | Iter 1.000: 0.49\n",
      "Logical resource usage: 10.0/20 CPUs, 1.0/1 GPUs (0.0/1.0 accelerator_type:G)\n",
      "Current best trial: eef38c8f with val_accuracy=1.0 and parameters={'model': {'modules': {1: {'times': 2}}}}\n",
      "Result logdir: C:/Users/johan/ray_results/trainable_function_2024-03-27_10-48-51\n",
      "Number of trials: 2/2 (2 RUNNING)\n",
      "+-----------------------------+----------+-----------------+------------------------+\n",
      "| Trial name                  | status   | loc             | model/modules/1/time   |\n",
      "|                             |          |                 | s                      |\n",
      "|-----------------------------+----------+-----------------+------------------------|\n",
      "| trainable_function_eef38c8f | RUNNING  | 127.0.0.1:65460 |                        |\n",
      "| trainable_function_f66869a0 | RUNNING  | 127.0.0.1:37364 |                        |\n",
      "+-----------------------------+----------+-----------------+------------------------+\n",
      "\n",
      "\n",
      "== Status ==\n",
      "Current time: 2024-03-27 10:52:36 (running for 00:03:41.32)\n",
      "Using AsyncHyperBand: num_stopped=0\n",
      "Bracket: Iter 81.000: None | Iter 27.000: None | Iter 9.000: None | Iter 3.000: None | Iter 1.000: 0.49\n",
      "Logical resource usage: 10.0/20 CPUs, 1.0/1 GPUs (0.0/1.0 accelerator_type:G)\n",
      "Current best trial: eef38c8f with val_accuracy=1.0 and parameters={'model': {'modules': {1: {'times': 2}}}}\n",
      "Result logdir: C:/Users/johan/ray_results/trainable_function_2024-03-27_10-48-51\n",
      "Number of trials: 2/2 (2 RUNNING)\n",
      "+-----------------------------+----------+-----------------+------------------------+\n",
      "| Trial name                  | status   | loc             | model/modules/1/time   |\n",
      "|                             |          |                 | s                      |\n",
      "|-----------------------------+----------+-----------------+------------------------|\n",
      "| trainable_function_eef38c8f | RUNNING  | 127.0.0.1:65460 |                        |\n",
      "| trainable_function_f66869a0 | RUNNING  | 127.0.0.1:37364 |                        |\n",
      "+-----------------------------+----------+-----------------+------------------------+\n",
      "\n",
      "\n",
      "== Status ==\n",
      "Current time: 2024-03-27 10:52:41 (running for 00:03:46.33)\n",
      "Using AsyncHyperBand: num_stopped=0\n",
      "Bracket: Iter 81.000: None | Iter 27.000: None | Iter 9.000: None | Iter 3.000: None | Iter 1.000: 0.49\n",
      "Logical resource usage: 10.0/20 CPUs, 1.0/1 GPUs (0.0/1.0 accelerator_type:G)\n",
      "Current best trial: eef38c8f with val_accuracy=1.0 and parameters={'model': {'modules': {1: {'times': 2}}}}\n",
      "Result logdir: C:/Users/johan/ray_results/trainable_function_2024-03-27_10-48-51\n",
      "Number of trials: 2/2 (2 RUNNING)\n",
      "+-----------------------------+----------+-----------------+------------------------+\n",
      "| Trial name                  | status   | loc             | model/modules/1/time   |\n",
      "|                             |          |                 | s                      |\n",
      "|-----------------------------+----------+-----------------+------------------------|\n",
      "| trainable_function_eef38c8f | RUNNING  | 127.0.0.1:65460 |                        |\n",
      "| trainable_function_f66869a0 | RUNNING  | 127.0.0.1:37364 |                        |\n",
      "+-----------------------------+----------+-----------------+------------------------+\n",
      "\n",
      "\n",
      "== Status ==\n",
      "Current time: 2024-03-27 10:52:46 (running for 00:03:51.36)\n",
      "Using AsyncHyperBand: num_stopped=0\n",
      "Bracket: Iter 81.000: None | Iter 27.000: None | Iter 9.000: None | Iter 3.000: 1.0 | Iter 1.000: 0.49\n",
      "Logical resource usage: 5.0/20 CPUs, 0.5/1 GPUs (0.0/1.0 accelerator_type:G)\n",
      "Current best trial: eef38c8f with val_accuracy=1.0 and parameters={'model': {'modules': {1: {'times': 2}}}}\n",
      "Result logdir: C:/Users/johan/ray_results/trainable_function_2024-03-27_10-48-51\n",
      "Number of trials: 2/2 (1 RUNNING, 1 TERMINATED)\n",
      "+-----------------------------+------------+-----------------+------------------------+\n",
      "| Trial name                  | status     | loc             | model/modules/1/time   |\n",
      "|                             |            |                 | s                      |\n",
      "|-----------------------------+------------+-----------------+------------------------|\n",
      "| trainable_function_f66869a0 | RUNNING    | 127.0.0.1:37364 |                        |\n",
      "| trainable_function_eef38c8f | TERMINATED | 127.0.0.1:65460 |                        |\n",
      "+-----------------------------+------------+-----------------+------------------------+\n",
      "\n",
      "\n",
      "== Status ==\n",
      "Current time: 2024-03-27 10:52:51 (running for 00:03:56.43)\n",
      "Using AsyncHyperBand: num_stopped=0\n",
      "Bracket: Iter 81.000: None | Iter 27.000: None | Iter 9.000: None | Iter 3.000: 1.0 | Iter 1.000: 0.49\n",
      "Logical resource usage: 5.0/20 CPUs, 0.5/1 GPUs (0.0/1.0 accelerator_type:G)\n",
      "Current best trial: eef38c8f with val_accuracy=1.0 and parameters={'model': {'modules': {1: {'times': 2}}}}\n",
      "Result logdir: C:/Users/johan/ray_results/trainable_function_2024-03-27_10-48-51\n",
      "Number of trials: 2/2 (1 RUNNING, 1 TERMINATED)\n",
      "+-----------------------------+------------+-----------------+------------------------+\n",
      "| Trial name                  | status     | loc             | model/modules/1/time   |\n",
      "|                             |            |                 | s                      |\n",
      "|-----------------------------+------------+-----------------+------------------------|\n",
      "| trainable_function_f66869a0 | RUNNING    | 127.0.0.1:37364 |                        |\n",
      "| trainable_function_eef38c8f | TERMINATED | 127.0.0.1:65460 |                        |\n",
      "+-----------------------------+------------+-----------------+------------------------+\n",
      "\n",
      "\n"
     ]
    },
    {
     "name": "stderr",
     "output_type": "stream",
     "text": [
      "2024-03-27 10:52:52,353\tINFO tune.py:1042 -- Total run time: 237.01 seconds (236.99 seconds for the tuning loop).\n"
     ]
    },
    {
     "name": "stdout",
     "output_type": "stream",
     "text": [
      "== Status ==\n",
      "Current time: 2024-03-27 10:52:52 (running for 00:03:56.99)\n",
      "Using AsyncHyperBand: num_stopped=0\n",
      "Bracket: Iter 81.000: None | Iter 27.000: None | Iter 9.000: None | Iter 3.000: 1.0 | Iter 1.000: 0.49\n",
      "Logical resource usage: 5.0/20 CPUs, 0.5/1 GPUs (0.0/1.0 accelerator_type:G)\n",
      "Current best trial: eef38c8f with val_accuracy=1.0 and parameters={'model': {'modules': {1: {'times': 2}}}}\n",
      "Result logdir: C:/Users/johan/ray_results/trainable_function_2024-03-27_10-48-51\n",
      "Number of trials: 2/2 (2 TERMINATED)\n",
      "+-----------------------------+------------+-----------------+------------------------+\n",
      "| Trial name                  | status     | loc             | model/modules/1/time   |\n",
      "|                             |            |                 | s                      |\n",
      "|-----------------------------+------------+-----------------+------------------------|\n",
      "| trainable_function_eef38c8f | TERMINATED | 127.0.0.1:65460 |                        |\n",
      "| trainable_function_f66869a0 | TERMINATED | 127.0.0.1:37364 |                        |\n",
      "+-----------------------------+------------+-----------------+------------------------+\n",
      "\n",
      "\n"
     ]
    }
   ],
   "source": [
    "# define tuner and execute\n",
    "tuner = tune.Tuner(\n",
    "    tune.with_resources(trainable_function, {\"cpu\": 4, \"gpu\": 0.5}),\n",
    "    # trainable=trainable_function,\n",
    "    param_space=search_space,\n",
    "    tune_config=tune.TuneConfig(\n",
    "        metric=optimization_score,\n",
    "        mode=score_mode,\n",
    "        search_alg=HyperOptSearch(\n",
    "            metric=optimization_score,\n",
    "            mode=score_mode,\n",
    "            random_state_seed=13\n",
    "        ),\n",
    "        scheduler=ASHAScheduler(\n",
    "            max_t=default_config['training']['n_max_epochs'],\n",
    "            grace_period=hyper_settings['scheduler']['grace_period'],\n",
    "            reduction_factor=hyper_settings['scheduler']['reduction_factor'],\n",
    "            brackets=hyper_settings['scheduler']['brackets']\n",
    "        ),\n",
    "        num_samples=hyper_settings['num_samples'],\n",
    "        max_concurrent_trials=hyper_settings['max_concurrent_trials'],\n",
    "    ),\n",
    "    run_config=train.RunConfig(\n",
    "        progress_reporter=CLIReporter(\n",
    "            metric_columns=[optimization_score],\n",
    "        )\n",
    "    )\n",
    ")\n",
    "results = tuner.fit()"
   ],
   "metadata": {
    "collapsed": false,
    "ExecuteTime": {
     "start_time": "2024-03-27T10:48:51.768705Z",
     "end_time": "2024-03-27T10:52:52.361601Z"
    }
   }
  },
  {
   "cell_type": "code",
   "execution_count": 14,
   "outputs": [
    {
     "data": {
      "text/plain": "ResultGrid<[\n  Result(\n    metrics={'train_accuracy': 1.0, 'train_precision': 1.0, 'train_recall': 1.0, 'train_f1': 1.0, 'train_auc': 1.0, 'train_mean_loss': 5.028552823642503e-05, 'train_sum_loss': 0.01568908480976461, 'val_accuracy': 1.0, 'val_precision': 1.0, 'val_recall': 1.0, 'val_f1': 1.0, 'val_auc': 1.0, 'val_mean_loss': 2.8138710704500812e-05, 'val_sum_loss': 0.008807416450508754},\n    path='C:/Users/johan/ray_results/trainable_function_2024-03-27_10-48-51/trainable_function_eef38c8f_1_times=2_2024-03-27_10-48-55',\n    filesystem='local',\n    checkpoint=None\n  ),\n  Result(\n    metrics={'train_accuracy': 1.0, 'train_precision': 1.0, 'train_recall': 1.0, 'train_f1': 1.0, 'train_auc': 1.0, 'train_mean_loss': 5.028493413233147e-05, 'train_sum_loss': 0.01568889944928742, 'val_accuracy': 1.0, 'val_precision': 1.0, 'val_recall': 1.0, 'val_f1': 1.0, 'val_auc': 1.0, 'val_mean_loss': 2.813844909837463e-05, 'val_sum_loss': 0.008807334567791258},\n    path='C:/Users/johan/ray_results/trainable_function_2024-03-27_10-48-51/trainable_function_f66869a0_2_times=2_2024-03-27_10-49-00',\n    filesystem='local',\n    checkpoint=None\n  )\n]>"
     },
     "execution_count": 14,
     "metadata": {},
     "output_type": "execute_result"
    }
   ],
   "source": [
    "results"
   ],
   "metadata": {
    "collapsed": false,
    "ExecuteTime": {
     "start_time": "2024-03-27T10:52:52.363599Z",
     "end_time": "2024-03-27T10:52:52.408112Z"
    }
   }
  },
  {
   "cell_type": "code",
   "execution_count": 15,
   "outputs": [
    {
     "data": {
      "text/plain": "   train_accuracy  train_precision  train_recall  train_f1  train_auc  \\\n0             1.0              1.0           1.0       1.0        1.0   \n1             1.0              1.0           1.0       1.0        1.0   \n\n   train_mean_loss  train_sum_loss  val_accuracy  val_precision  val_recall  \\\n0          0.00005        0.015689           1.0            1.0         1.0   \n1          0.00005        0.015689           1.0            1.0         1.0   \n\n   ...                 date  time_this_iter_s  time_total_s    pid  \\\n0  ...  2024-03-27_10-52-45         62.352674    225.050371  65460   \n1  ...  2024-03-27_10-52-52         59.828861    226.479436  37364   \n\n       hostname    node_ip  time_since_restore  iterations_since_restore  \\\n0  AT-MB-PC-E13  127.0.0.1          225.050371                         3   \n1  AT-MB-PC-E13  127.0.0.1          226.479436                         3   \n\n  config/model/modules/1/times    logdir  \n0                            2  eef38c8f  \n1                            2  f66869a0  \n\n[2 rows x 29 columns]",
      "text/html": "<div>\n<style scoped>\n    .dataframe tbody tr th:only-of-type {\n        vertical-align: middle;\n    }\n\n    .dataframe tbody tr th {\n        vertical-align: top;\n    }\n\n    .dataframe thead th {\n        text-align: right;\n    }\n</style>\n<table border=\"1\" class=\"dataframe\">\n  <thead>\n    <tr style=\"text-align: right;\">\n      <th></th>\n      <th>train_accuracy</th>\n      <th>train_precision</th>\n      <th>train_recall</th>\n      <th>train_f1</th>\n      <th>train_auc</th>\n      <th>train_mean_loss</th>\n      <th>train_sum_loss</th>\n      <th>val_accuracy</th>\n      <th>val_precision</th>\n      <th>val_recall</th>\n      <th>...</th>\n      <th>date</th>\n      <th>time_this_iter_s</th>\n      <th>time_total_s</th>\n      <th>pid</th>\n      <th>hostname</th>\n      <th>node_ip</th>\n      <th>time_since_restore</th>\n      <th>iterations_since_restore</th>\n      <th>config/model/modules/1/times</th>\n      <th>logdir</th>\n    </tr>\n  </thead>\n  <tbody>\n    <tr>\n      <th>0</th>\n      <td>1.0</td>\n      <td>1.0</td>\n      <td>1.0</td>\n      <td>1.0</td>\n      <td>1.0</td>\n      <td>0.00005</td>\n      <td>0.015689</td>\n      <td>1.0</td>\n      <td>1.0</td>\n      <td>1.0</td>\n      <td>...</td>\n      <td>2024-03-27_10-52-45</td>\n      <td>62.352674</td>\n      <td>225.050371</td>\n      <td>65460</td>\n      <td>AT-MB-PC-E13</td>\n      <td>127.0.0.1</td>\n      <td>225.050371</td>\n      <td>3</td>\n      <td>2</td>\n      <td>eef38c8f</td>\n    </tr>\n    <tr>\n      <th>1</th>\n      <td>1.0</td>\n      <td>1.0</td>\n      <td>1.0</td>\n      <td>1.0</td>\n      <td>1.0</td>\n      <td>0.00005</td>\n      <td>0.015689</td>\n      <td>1.0</td>\n      <td>1.0</td>\n      <td>1.0</td>\n      <td>...</td>\n      <td>2024-03-27_10-52-52</td>\n      <td>59.828861</td>\n      <td>226.479436</td>\n      <td>37364</td>\n      <td>AT-MB-PC-E13</td>\n      <td>127.0.0.1</td>\n      <td>226.479436</td>\n      <td>3</td>\n      <td>2</td>\n      <td>f66869a0</td>\n    </tr>\n  </tbody>\n</table>\n<p>2 rows × 29 columns</p>\n</div>"
     },
     "execution_count": 15,
     "metadata": {},
     "output_type": "execute_result"
    }
   ],
   "source": [
    "results.get_dataframe()"
   ],
   "metadata": {
    "collapsed": false,
    "ExecuteTime": {
     "start_time": "2024-03-27T10:52:52.378603Z",
     "end_time": "2024-03-27T10:52:52.419112Z"
    }
   }
  },
  {
   "cell_type": "code",
   "execution_count": 16,
   "outputs": [
    {
     "data": {
      "text/plain": "<Figure size 640x480 with 1 Axes>",
      "image/png": "[encoded data removed]"
     },
     "metadata": {},
     "output_type": "display_data"
    }
   ],
   "source": [
    "dfs = {result.path: result.metrics_dataframe for result in results}\n",
    "# Plot by epoch\n",
    "ax = None  # This plots everything on the same plot\n",
    "for d in dfs.values():\n",
    "    ax = d.val_accuracy.plot(ax=ax, legend=False)"
   ],
   "metadata": {
    "collapsed": false,
    "ExecuteTime": {
     "start_time": "2024-03-27T10:52:52.411112Z",
     "end_time": "2024-03-27T10:52:52.640297Z"
    }
   }
  },
  {
   "cell_type": "markdown",
   "source": [
    "## Storing results"
   ],
   "metadata": {
    "collapsed": false
   }
  },
  {
   "cell_type": "code",
   "execution_count": 17,
   "outputs": [],
   "source": [
    "output_path = benchmark_config['output_dir']\n",
    "\n",
    "# make sure that output_dir exists\n",
    "if not os.path.exists(output_path):\n",
    "    os.mkdir(output_path)"
   ],
   "metadata": {
    "collapsed": false,
    "ExecuteTime": {
     "start_time": "2024-03-27T10:52:52.643297Z",
     "end_time": "2024-03-27T10:52:52.686333Z"
    }
   }
  },
  {
   "cell_type": "code",
   "execution_count": 18,
   "outputs": [],
   "source": [
    "# save general configs\n",
    "export_as(default_config, os.path.join(output_path, \"general_config.yaml\"), save_type='yaml')"
   ],
   "metadata": {
    "collapsed": false,
    "ExecuteTime": {
     "start_time": "2024-03-27T10:52:52.656297Z",
     "end_time": "2024-03-27T10:52:52.686877Z"
    }
   }
  },
  {
   "cell_type": "code",
   "execution_count": 19,
   "outputs": [],
   "source": [
    "# save results dataframe\n",
    "results.get_dataframe().to_csv(os.path.join(output_path, \"results.csv\"), index=None)"
   ],
   "metadata": {
    "collapsed": false,
    "ExecuteTime": {
     "start_time": "2024-03-27T10:52:52.670298Z",
     "end_time": "2024-03-27T10:52:52.686877Z"
    }
   }
  },
  {
   "cell_type": "code",
   "execution_count": 20,
   "outputs": [],
   "source": [
    "# for each trial save results\n",
    "for result in results:\n",
    "    # get metrics\n",
    "    trial_metrics = result.metrics_dataframe\n",
    "\n",
    "    # get trial id\n",
    "    trial_id = trial_metrics.trial_id[0]\n",
    "\n",
    "    # get config\n",
    "    trial_config = result.config\n",
    "\n",
    "    # saving\n",
    "    trial_metrics.to_csv(os.path.join(output_path, f\"{trial_id}.csv\"), index=None)\n",
    "    export_as(trial_config, os.path.join(output_path, f\"{trial_id}.yaml\"), save_type='yaml')"
   ],
   "metadata": {
    "collapsed": false,
    "ExecuteTime": {
     "start_time": "2024-03-27T10:52:52.689919Z",
     "end_time": "2024-03-27T10:52:52.701882Z"
    }
   }
  },
  {
   "cell_type": "code",
   "execution_count": null,
   "outputs": [],
   "source": [],
   "metadata": {
    "collapsed": false
   }
  }
 ],
 "metadata": {
  "kernelspec": {
   "display_name": "Python 3",
   "language": "python",
   "name": "python3"
  },
  "language_info": {
   "codemirror_mode": {
    "name": "ipython",
    "version": 2
   },
   "file_extension": ".py",
   "mimetype": "text/x-python",
   "name": "python",
   "nbconvert_exporter": "python",
   "pygments_lexer": "ipython2",
   "version": "2.7.6"
  }
 },
 "nbformat": 4,
 "nbformat_minor": 0
}
