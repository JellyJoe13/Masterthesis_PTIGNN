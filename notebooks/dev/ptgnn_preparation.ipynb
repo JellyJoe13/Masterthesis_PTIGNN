{
 "cells": [
  {
   "cell_type": "code",
   "execution_count": 1,
   "outputs": [],
   "source": [
    "import torch\n",
    "\n",
    "from ptgnn.transform.ptree_matrix import permutation_tree_to_matrix"
   ],
   "metadata": {
    "collapsed": false,
    "ExecuteTime": {
     "start_time": "2024-03-13T16:22:26.339480Z",
     "end_time": "2024-03-13T16:22:28.204785Z"
    }
   }
  },
  {
   "cell_type": "code",
   "execution_count": 2,
   "outputs": [],
   "source": [
    "from ptgnn.runtime_config.run_config import fetch_loaders"
   ],
   "metadata": {
    "collapsed": false,
    "ExecuteTime": {
     "start_time": "2024-03-13T16:22:28.203785Z",
     "end_time": "2024-03-13T16:22:30.094141Z"
    }
   }
  },
  {
   "cell_type": "code",
   "execution_count": 3,
   "outputs": [],
   "source": [
    "data_config = {\n",
    "    'dataset' : {\n",
    "        'type' : \"rs\",\n",
    "        'mask_chiral_tags': True,\n",
    "        'transformation_mode': 'chienn_tree_basic',\n",
    "    },\n",
    "    'loader': {\n",
    "        'general': {\n",
    "            'n_neighbors_in_circle': 3,\n",
    "            'batch_size': 32,\n",
    "            'num_workers': 0,\n",
    "        },\n",
    "        'train': {},\n",
    "        'test': {},\n",
    "        'val': {}\n",
    "    }\n",
    "}"
   ],
   "metadata": {
    "collapsed": false,
    "ExecuteTime": {
     "start_time": "2024-03-13T16:22:30.096139Z",
     "end_time": "2024-03-13T16:22:30.125143Z"
    }
   }
  },
  {
   "cell_type": "code",
   "execution_count": 4,
   "outputs": [],
   "source": [
    "train_loader, _, val_loader = fetch_loaders(data_config=data_config)"
   ],
   "metadata": {
    "collapsed": false,
    "ExecuteTime": {
     "start_time": "2024-03-13T16:22:30.112140Z",
     "end_time": "2024-03-13T16:22:34.004698Z"
    }
   }
  },
  {
   "cell_type": "code",
   "execution_count": 5,
   "outputs": [
    {
     "data": {
      "text/plain": "DataBatch(x=[2356, 118], edge_index=[2, 6416], edge_attr=[6416, 80], pos=[2356, 6], y=[32], batch=[2356], ptr=[33], ptree=[2356])"
     },
     "metadata": {},
     "output_type": "display_data"
    }
   ],
   "source": [
    "for batch in val_loader:\n",
    "    display(batch)\n",
    "    break"
   ],
   "metadata": {
    "collapsed": false,
    "ExecuteTime": {
     "start_time": "2024-03-13T16:22:34.003699Z",
     "end_time": "2024-03-13T16:22:34.048243Z"
    }
   }
  },
  {
   "cell_type": "markdown",
   "source": [
    "# part in collation and part possible in preprocessing"
   ],
   "metadata": {
    "collapsed": false
   }
  },
  {
   "cell_type": "code",
   "execution_count": 6,
   "outputs": [],
   "source": [
    "k = 3"
   ],
   "metadata": {
    "collapsed": false,
    "ExecuteTime": {
     "start_time": "2024-03-13T16:22:56.125283Z",
     "end_time": "2024-03-13T16:22:56.132293Z"
    }
   }
  },
  {
   "cell_type": "code",
   "execution_count": 7,
   "outputs": [
    {
     "data": {
      "text/plain": "tensor([[   0,    0,    1,    1],\n        [   1,    0,    0,    0],\n        [   1,    1,    0,    3],\n        ...,\n        [2354,    1,    1, 2351],\n        [2354,    1,    2, 2353],\n        [2355,    0, 2354, 2354]])"
     },
     "metadata": {},
     "output_type": "display_data"
    },
    {
     "data": {
      "text/plain": "tensor([[1, 0],\n        [1, 0],\n        [1, 2],\n        ...,\n        [1, 2],\n        [1, 2],\n        [1, 0]])"
     },
     "metadata": {},
     "output_type": "display_data"
    }
   ],
   "source": [
    "idx_matrix, type_matrix = permutation_tree_to_matrix(batch.ptree, k)\n",
    "display(idx_matrix)\n",
    "display(type_matrix)"
   ],
   "metadata": {
    "collapsed": false,
    "ExecuteTime": {
     "start_time": "2024-03-13T16:22:56.619243Z",
     "end_time": "2024-03-13T16:22:56.896397Z"
    }
   }
  },
  {
   "cell_type": "markdown",
   "source": [
    "## From here second part that is either in the model or in preprocessing"
   ],
   "metadata": {
    "collapsed": false
   }
  },
  {
   "cell_type": "code",
   "execution_count": 8,
   "outputs": [],
   "source": [
    "# load first index range of elements\n",
    "data_array = batch.x[idx_matrix[:, -1]]"
   ],
   "metadata": {
    "collapsed": false,
    "ExecuteTime": {
     "start_time": "2024-03-13T16:23:00.630332Z",
     "end_time": "2024-03-13T16:23:00.644336Z"
    }
   }
  },
  {
   "cell_type": "code",
   "execution_count": 9,
   "outputs": [],
   "source": [
    "# get structure to orient to\n",
    "idx_structure = idx_matrix[:, :-1]"
   ],
   "metadata": {
    "collapsed": false,
    "ExecuteTime": {
     "start_time": "2024-03-13T16:23:01.638294Z",
     "end_time": "2024-03-13T16:23:01.645291Z"
    }
   }
  },
  {
   "cell_type": "markdown",
   "source": [
    "### for loop starts here"
   ],
   "metadata": {
    "collapsed": false
   }
  },
  {
   "cell_type": "code",
   "execution_count": 10,
   "outputs": [
    {
     "data": {
      "text/plain": "tensor([[   0,    0],\n        [   1,    0],\n        [   1,    1],\n        ...,\n        [2354,    0],\n        [2354,    1],\n        [2355,    0]])"
     },
     "metadata": {},
     "output_type": "display_data"
    },
    {
     "data": {
      "text/plain": "tensor([1, 1, 3,  ..., 1, 3, 1])"
     },
     "metadata": {},
     "output_type": "display_data"
    }
   ],
   "source": [
    "# get indexes for graph pooling\n",
    "idx_structure, current_layer_pooling_counts = torch.unique(idx_structure[:, :-1], dim=0, return_counts=True)\n",
    "display(idx_structure)\n",
    "display(current_layer_pooling_counts)"
   ],
   "metadata": {
    "collapsed": false,
    "ExecuteTime": {
     "start_time": "2024-03-13T16:23:03.109609Z",
     "end_time": "2024-03-13T16:23:03.139608Z"
    }
   }
  },
  {
   "cell_type": "code",
   "execution_count": 11,
   "outputs": [
    {
     "data": {
      "text/plain": "tensor([0, 1, 2, 2, 2, 3, 4, 4, 4, 5])"
     },
     "metadata": {},
     "output_type": "display_data"
    }
   ],
   "source": [
    "# get indexes for graph pooling\n",
    "current_layer_pooling = torch.repeat_interleave(current_layer_pooling_counts)\n",
    "display(current_layer_pooling[:10])"
   ],
   "metadata": {
    "collapsed": false,
    "ExecuteTime": {
     "start_time": "2024-03-13T16:23:25.314971Z",
     "end_time": "2024-03-13T16:23:25.328972Z"
    }
   }
  },
  {
   "cell_type": "code",
   "execution_count": 12,
   "outputs": [],
   "source": [
    "# init circling\n",
    "# todo: rework for other types\n",
    "order_matrix = torch.zeros(k, len(current_layer_pooling), dtype=torch.int) - 1"
   ],
   "metadata": {
    "collapsed": false,
    "ExecuteTime": {
     "start_time": "2024-03-13T16:23:27.219155Z",
     "end_time": "2024-03-13T16:23:27.231277Z"
    }
   }
  },
  {
   "cell_type": "code",
   "execution_count": 13,
   "outputs": [],
   "source": [
    "cur_pos = 0\n",
    "for i in current_layer_pooling_counts:#[:5]:\n",
    "    current_k = min(k, i)\n",
    "    r = torch.arange(cur_pos, cur_pos+i)\n",
    "    for j in range(current_k):\n",
    "        order_matrix[:current_k, cur_pos+j] = torch.roll(r, shifts=-j)\n",
    "    cur_pos += i"
   ],
   "metadata": {
    "collapsed": false,
    "ExecuteTime": {
     "start_time": "2024-03-13T16:23:27.456992Z",
     "end_time": "2024-03-13T16:23:27.574027Z"
    }
   }
  },
  {
   "cell_type": "code",
   "execution_count": 14,
   "outputs": [
    {
     "data": {
      "text/plain": "tensor([[   0,    1,    2,  ..., 6413, 6414, 6415],\n        [  -1,   -1,    3,  ..., 6414, 6412,   -1],\n        [  -1,   -1,    4,  ..., 6412, 6413,   -1]], dtype=torch.int32)"
     },
     "execution_count": 14,
     "metadata": {},
     "output_type": "execute_result"
    }
   ],
   "source": [
    "order_matrix"
   ],
   "metadata": {
    "collapsed": false,
    "ExecuteTime": {
     "start_time": "2024-03-13T16:23:27.688161Z",
     "end_time": "2024-03-13T16:23:27.702159Z"
    }
   }
  },
  {
   "cell_type": "code",
   "execution_count": 15,
   "outputs": [],
   "source": [
    "# add zero padding to data list\n",
    "data_array = torch.cat([torch.zeros(1, data_array.shape[-1]), data_array], dim=0)\n",
    "order_matrix += 1"
   ],
   "metadata": {
    "collapsed": false,
    "ExecuteTime": {
     "start_time": "2024-03-13T16:23:28.132139Z",
     "end_time": "2024-03-13T16:23:28.157143Z"
    }
   }
  },
  {
   "cell_type": "code",
   "execution_count": 16,
   "outputs": [],
   "source": [
    "temp = data_array[order_matrix]"
   ],
   "metadata": {
    "collapsed": false,
    "ExecuteTime": {
     "start_time": "2024-03-13T16:23:28.337684Z",
     "end_time": "2024-03-13T16:23:28.345066Z"
    }
   }
  },
  {
   "cell_type": "code",
   "execution_count": 17,
   "outputs": [
    {
     "data": {
      "text/plain": "torch.Size([3, 6416, 118])"
     },
     "execution_count": 17,
     "metadata": {},
     "output_type": "execute_result"
    }
   ],
   "source": [
    "temp.shape"
   ],
   "metadata": {
    "collapsed": false,
    "ExecuteTime": {
     "start_time": "2024-03-13T16:23:28.488285Z",
     "end_time": "2024-03-13T16:23:28.497287Z"
    }
   }
  },
  {
   "cell_type": "code",
   "execution_count": 18,
   "outputs": [],
   "source": [
    "# apply z layer"
   ],
   "metadata": {
    "collapsed": false,
    "ExecuteTime": {
     "start_time": "2024-03-13T16:23:28.660147Z",
     "end_time": "2024-03-13T16:23:28.669234Z"
    }
   }
  },
  {
   "cell_type": "code",
   "execution_count": 19,
   "outputs": [],
   "source": [
    "mask_z = type_matrix[:, -1] == 2"
   ],
   "metadata": {
    "collapsed": false,
    "ExecuteTime": {
     "start_time": "2024-03-13T16:23:28.808791Z",
     "end_time": "2024-03-13T16:23:28.828124Z"
    }
   }
  },
  {
   "cell_type": "code",
   "execution_count": 20,
   "outputs": [],
   "source": [
    "z_layer = torch.nn.ModuleList([\n",
    "    torch.nn.Linear(118, 118)\n",
    "    for _ in range(k)\n",
    "])\n",
    "z_final_layer = torch.nn.Linear(118, 118)\n",
    "z_elu = torch.nn.ELU()"
   ],
   "metadata": {
    "collapsed": false,
    "ExecuteTime": {
     "start_time": "2024-03-13T16:23:28.969569Z",
     "end_time": "2024-03-13T16:23:28.980568Z"
    }
   }
  },
  {
   "cell_type": "code",
   "execution_count": 21,
   "outputs": [],
   "source": [
    "# todo: take care of duplicate elements that are sent through linear layer"
   ],
   "metadata": {
    "collapsed": false,
    "ExecuteTime": {
     "start_time": "2024-03-13T16:23:29.154868Z",
     "end_time": "2024-03-13T16:23:29.184374Z"
    }
   }
  },
  {
   "cell_type": "code",
   "execution_count": 22,
   "outputs": [
    {
     "data": {
      "text/plain": "torch.Size([6417, 118])"
     },
     "execution_count": 22,
     "metadata": {},
     "output_type": "execute_result"
    }
   ],
   "source": [
    "data_array.shape"
   ],
   "metadata": {
    "collapsed": false,
    "ExecuteTime": {
     "start_time": "2024-03-13T16:23:29.594720Z",
     "end_time": "2024-03-13T16:23:29.603719Z"
    }
   }
  },
  {
   "cell_type": "code",
   "execution_count": 23,
   "outputs": [
    {
     "data": {
      "text/plain": "torch.Size([6416, 3, 118])"
     },
     "metadata": {},
     "output_type": "display_data"
    }
   ],
   "source": [
    "embedding = torch.stack([\n",
    "    emb(t)\n",
    "    for emb, t in zip(z_layer,temp)\n",
    "], dim=1)\n",
    "display(embedding.shape)"
   ],
   "metadata": {
    "collapsed": false,
    "ExecuteTime": {
     "start_time": "2024-03-13T16:23:29.786682Z",
     "end_time": "2024-03-13T16:23:29.807681Z"
    }
   }
  },
  {
   "cell_type": "code",
   "execution_count": 24,
   "outputs": [
    {
     "data": {
      "text/plain": "torch.Size([6416, 118])"
     },
     "metadata": {},
     "output_type": "display_data"
    }
   ],
   "source": [
    "temp3 = embedding.sum(dim=1)\n",
    "display(temp3.shape)"
   ],
   "metadata": {
    "collapsed": false,
    "ExecuteTime": {
     "start_time": "2024-03-13T16:23:30.050740Z",
     "end_time": "2024-03-13T16:23:30.059738Z"
    }
   }
  },
  {
   "cell_type": "code",
   "execution_count": 25,
   "outputs": [
    {
     "data": {
      "text/plain": "torch.Size([6416, 118])"
     },
     "metadata": {},
     "output_type": "display_data"
    }
   ],
   "source": [
    "temp4 = z_final_layer(temp3)\n",
    "display(temp4.shape)"
   ],
   "metadata": {
    "collapsed": false,
    "ExecuteTime": {
     "start_time": "2024-03-13T16:23:30.275889Z",
     "end_time": "2024-03-13T16:23:30.289889Z"
    }
   }
  },
  {
   "cell_type": "code",
   "execution_count": 26,
   "outputs": [],
   "source": [
    "import torch_geometric\n",
    "data_array = torch_geometric.nn.global_add_pool(temp4, current_layer_pooling)"
   ],
   "metadata": {
    "collapsed": false,
    "ExecuteTime": {
     "start_time": "2024-03-13T16:23:30.466053Z",
     "end_time": "2024-03-13T16:23:30.475052Z"
    }
   }
  },
  {
   "cell_type": "code",
   "execution_count": 27,
   "outputs": [
    {
     "data": {
      "text/plain": "torch.Size([4124, 118])"
     },
     "execution_count": 27,
     "metadata": {},
     "output_type": "execute_result"
    }
   ],
   "source": [
    "data_array.shape"
   ],
   "metadata": {
    "collapsed": false,
    "ExecuteTime": {
     "start_time": "2024-03-13T16:23:30.666534Z",
     "end_time": "2024-03-13T16:23:30.686533Z"
    }
   }
  },
  {
   "cell_type": "code",
   "execution_count": 27,
   "outputs": [],
   "source": [],
   "metadata": {
    "collapsed": false,
    "ExecuteTime": {
     "start_time": "2024-03-13T16:23:31.116239Z",
     "end_time": "2024-03-13T16:23:31.134239Z"
    }
   }
  },
  {
   "cell_type": "code",
   "execution_count": null,
   "outputs": [],
   "source": [],
   "metadata": {
    "collapsed": false
   }
  },
  {
   "cell_type": "code",
   "execution_count": null,
   "outputs": [],
   "source": [],
   "metadata": {
    "collapsed": false
   }
  },
  {
   "cell_type": "code",
   "execution_count": null,
   "outputs": [],
   "source": [],
   "metadata": {
    "collapsed": false
   }
  },
  {
   "cell_type": "code",
   "execution_count": 53,
   "outputs": [],
   "source": [
    "batch.idx_matrix, batch.type_matrix = permutation_tree_to_matrix(batch.ptree, 3)"
   ],
   "metadata": {
    "collapsed": false,
    "ExecuteTime": {
     "start_time": "2024-03-13T16:39:23.701349Z",
     "end_time": "2024-03-13T16:39:23.775624Z"
    }
   }
  },
  {
   "cell_type": "code",
   "execution_count": 54,
   "outputs": [],
   "source": [
    "device = 'cuda'\n",
    "batch = batch.to(device)\n",
    "z_elu = z_elu.to(device)\n",
    "z_layer = z_layer.to(device)\n",
    "z_final_layer = z_final_layer.to(device)"
   ],
   "metadata": {
    "collapsed": false,
    "ExecuteTime": {
     "start_time": "2024-03-13T16:39:25.621218Z",
     "end_time": "2024-03-13T16:39:25.632217Z"
    }
   }
  },
  {
   "cell_type": "code",
   "execution_count": 55,
   "outputs": [],
   "source": [
    "# make link to batch idx_matrix\n",
    "idx_matrix = batch.idx_matrix\n",
    "\n",
    "# load first index range of elements\n",
    "data_array = batch.x[idx_matrix[:, -1]]\n",
    "\n",
    "# get structure to orient to\n",
    "idx_structure = idx_matrix[:, :-1]"
   ],
   "metadata": {
    "collapsed": false,
    "ExecuteTime": {
     "start_time": "2024-03-13T16:39:28.853395Z",
     "end_time": "2024-03-13T16:39:28.858395Z"
    }
   }
  },
  {
   "cell_type": "code",
   "execution_count": 55,
   "outputs": [],
   "source": [],
   "metadata": {
    "collapsed": false,
    "ExecuteTime": {
     "start_time": "2024-03-13T16:39:30.043926Z",
     "end_time": "2024-03-13T16:39:30.051926Z"
    }
   }
  },
  {
   "cell_type": "code",
   "execution_count": 56,
   "outputs": [],
   "source": [
    "# get indexes for graph pooling\n",
    "idx_structure, current_layer_pooling_counts = torch.unique(idx_structure[:, :-1], dim=0, return_counts=True)\n",
    "\n",
    "# get indexes for graph pooling\n",
    "current_layer_pooling = torch.repeat_interleave(current_layer_pooling_counts)\n",
    "\n",
    "# init circling\n",
    "# todo: rework for other types - treat everything as Z\n",
    "order_matrix = torch.zeros(k, len(current_layer_pooling), dtype=torch.int) - 1"
   ],
   "metadata": {
    "collapsed": false,
    "ExecuteTime": {
     "start_time": "2024-03-13T16:39:30.516181Z",
     "end_time": "2024-03-13T16:39:30.532179Z"
    }
   }
  },
  {
   "cell_type": "code",
   "execution_count": 57,
   "outputs": [],
   "source": [
    "cur_pos = 0\n",
    "for i in current_layer_pooling_counts:\n",
    "    current_k = min(k, i)\n",
    "    r = torch.arange(cur_pos, cur_pos+i)\n",
    "    for j in range(current_k):\n",
    "        order_matrix[:current_k, cur_pos+j] = torch.roll(r, shifts=-j)\n",
    "    cur_pos += i"
   ],
   "metadata": {
    "collapsed": false,
    "ExecuteTime": {
     "start_time": "2024-03-13T16:39:31.249786Z",
     "end_time": "2024-03-13T16:39:33.079422Z"
    }
   }
  },
  {
   "cell_type": "code",
   "execution_count": 58,
   "outputs": [],
   "source": [
    "# add zero padding to data list\n",
    "data_array = torch.cat([torch.zeros(1, data_array.shape[-1], device=data_array.device), data_array], dim=0)\n",
    "order_matrix += 1\n",
    "\n",
    "embedding = data_array[order_matrix]\n",
    "# mask_z = batch.type_matrix\n",
    "\n",
    "embedding = torch.stack([\n",
    "    emb(t)\n",
    "    for emb, t in zip(z_layer, embedding)\n",
    "], dim=1)"
   ],
   "metadata": {
    "collapsed": false,
    "ExecuteTime": {
     "start_time": "2024-03-13T16:39:33.081424Z",
     "end_time": "2024-03-13T16:39:33.094675Z"
    }
   }
  },
  {
   "cell_type": "code",
   "execution_count": 59,
   "outputs": [],
   "source": [
    "embedding = embedding.sum(dim=1)\n",
    "embedding = z_final_layer(embedding)\n",
    "\n",
    "# global pooling\n",
    "data_array = torch_geometric.nn.global_add_pool(embedding, current_layer_pooling)"
   ],
   "metadata": {
    "collapsed": false,
    "ExecuteTime": {
     "start_time": "2024-03-13T16:39:33.707599Z",
     "end_time": "2024-03-13T16:39:33.722598Z"
    }
   }
  },
  {
   "cell_type": "code",
   "execution_count": null,
   "outputs": [],
   "source": [],
   "metadata": {
    "collapsed": false
   }
  }
 ],
 "metadata": {
  "kernelspec": {
   "display_name": "Python 3",
   "language": "python",
   "name": "python3"
  },
  "language_info": {
   "codemirror_mode": {
    "name": "ipython",
    "version": 2
   },
   "file_extension": ".py",
   "mimetype": "text/x-python",
   "name": "python",
   "nbconvert_exporter": "python",
   "pygments_lexer": "ipython2",
   "version": "2.7.6"
  }
 },
 "nbformat": 4,
 "nbformat_minor": 0
}
