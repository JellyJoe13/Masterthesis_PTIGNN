{
 "cells": [
  {
   "cell_type": "code",
   "execution_count": 1,
   "outputs": [],
   "source": [
    "import torch\n",
    "\n",
    "from ptgnn.transform.ptree_matrix import permutation_tree_to_matrix"
   ],
   "metadata": {
    "collapsed": false,
    "ExecuteTime": {
     "start_time": "2024-03-14T18:52:56.315512Z",
     "end_time": "2024-03-14T18:52:58.226765Z"
    }
   }
  },
  {
   "cell_type": "code",
   "execution_count": 2,
   "outputs": [],
   "source": [
    "from ptgnn.runtime_config.run_config import fetch_loaders"
   ],
   "metadata": {
    "collapsed": false,
    "ExecuteTime": {
     "start_time": "2024-03-14T18:52:58.226765Z",
     "end_time": "2024-03-14T18:53:00.158637Z"
    }
   }
  },
  {
   "cell_type": "code",
   "execution_count": 3,
   "outputs": [],
   "source": [
    "data_config = {\n",
    "    'dataset' : {\n",
    "        'type' : \"rs\",\n",
    "        'mask_chiral_tags': True,\n",
    "        'transformation_mode': 'chienn_tree_basic',\n",
    "    },\n",
    "    'loader': {\n",
    "        'general': {\n",
    "            'n_neighbors_in_circle': 3,\n",
    "            'batch_size': 32,\n",
    "            'num_workers': 0,\n",
    "        },\n",
    "        'train': {},\n",
    "        'test': {},\n",
    "        'val': {}\n",
    "    }\n",
    "}"
   ],
   "metadata": {
    "collapsed": false,
    "ExecuteTime": {
     "start_time": "2024-03-14T18:53:00.160624Z",
     "end_time": "2024-03-14T18:53:00.173730Z"
    }
   }
  },
  {
   "cell_type": "code",
   "execution_count": 4,
   "outputs": [],
   "source": [
    "train_loader, _, val_loader = fetch_loaders(data_config=data_config)"
   ],
   "metadata": {
    "collapsed": false,
    "ExecuteTime": {
     "start_time": "2024-03-14T18:53:00.174728Z",
     "end_time": "2024-03-14T18:53:04.251929Z"
    }
   }
  },
  {
   "cell_type": "code",
   "execution_count": 5,
   "outputs": [
    {
     "data": {
      "text/plain": "DataBatch(x=[2356, 118], edge_index=[2, 6416], edge_attr=[6416, 80], pos=[2356, 6], y=[32], batch=[2356], ptr=[33], ptree=[2356])"
     },
     "metadata": {},
     "output_type": "display_data"
    }
   ],
   "source": [
    "for batch in val_loader:\n",
    "    display(batch)\n",
    "    break"
   ],
   "metadata": {
    "collapsed": false,
    "ExecuteTime": {
     "start_time": "2024-03-14T18:53:04.254929Z",
     "end_time": "2024-03-14T18:53:04.314100Z"
    }
   }
  },
  {
   "cell_type": "markdown",
   "source": [
    "# part in collation and part possible in preprocessing"
   ],
   "metadata": {
    "collapsed": false
   }
  },
  {
   "cell_type": "code",
   "execution_count": 6,
   "outputs": [],
   "source": [
    "k = 3"
   ],
   "metadata": {
    "collapsed": false,
    "ExecuteTime": {
     "start_time": "2024-03-14T18:53:04.285930Z",
     "end_time": "2024-03-14T18:53:04.323659Z"
    }
   }
  },
  {
   "cell_type": "code",
   "execution_count": 7,
   "outputs": [
    {
     "data": {
      "text/plain": "['{\"P\": [1, {\"Z\": [3, 4, 5]}]}']"
     },
     "metadata": {},
     "output_type": "display_data"
    },
    {
     "data": {
      "text/plain": "tensor([[   0,    0,    1,    1],\n        [   1,    0,    0,    0],\n        [   1,    1,    0,    3],\n        ...,\n        [2354,    1,    1, 2351],\n        [2354,    1,    2, 2353],\n        [2355,    0, 2354, 2354]])"
     },
     "metadata": {},
     "output_type": "display_data"
    },
    {
     "data": {
      "text/plain": "tensor([[1, 0],\n        [1, 0],\n        [1, 2],\n        ...,\n        [1, 2],\n        [1, 2],\n        [1, 0]])"
     },
     "metadata": {},
     "output_type": "display_data"
    }
   ],
   "source": [
    "# pt = [batch.ptree[0]]\n",
    "pt = ['{\"P\": [1, {\"Z\": [3, 4, 5]}]}']\n",
    "k = 2\n",
    "display(pt)\n",
    "idx_matrix, type_matrix = permutation_tree_to_matrix(batch.ptree, k)\n",
    "display(idx_matrix)\n",
    "display(type_matrix)"
   ],
   "metadata": {
    "collapsed": false,
    "ExecuteTime": {
     "start_time": "2024-03-14T18:53:04.301929Z",
     "end_time": "2024-03-14T18:53:04.547906Z"
    }
   }
  },
  {
   "cell_type": "code",
   "execution_count": 11,
   "outputs": [
    {
     "data": {
      "text/plain": "DataBatch(x=[2356, 118], edge_index=[2, 6416], edge_attr=[6416, 80], pos=[2356, 6], y=[32], batch=[2356], ptr=[33], ptree=[2356], initial_map=[6416], layer0_order_matrix=[1], layer0_type_mask=[1], layer0_pooling=[1], num_layer=2, layer1_order_matrix=[1], layer1_type_mask=[1], layer1_pooling=[1])"
     },
     "metadata": {},
     "output_type": "display_data"
    },
    {
     "data": {
      "text/plain": "tensor([   1,    0,    3,  ..., 2351, 2353, 2354])"
     },
     "metadata": {},
     "output_type": "display_data"
    },
    {
     "data": {
      "text/plain": "tensor([[6406, 6407, 6408, 6409, 6410, 6411, 6412, 6413, 6414, 6415]],\n       dtype=torch.int32)"
     },
     "metadata": {},
     "output_type": "display_data"
    },
    {
     "data": {
      "text/plain": "tensor([0, 2, 2, 2, 0, 0, 2, 2, 2, 0])"
     },
     "metadata": {},
     "output_type": "display_data"
    }
   ],
   "source": [
    "from ptgnn.transform.ptree_matrix import permutation_tree_to_order_matrix\n",
    "b = permutation_tree_to_order_matrix(batch, 1)\n",
    "display(b)\n",
    "display(b.initial_map)\n",
    "display(b.layer0_order_matrix[0][0][:, -10:])\n",
    "display(b.layer0_type_mask[0][0][-10:])"
   ],
   "metadata": {
    "collapsed": false,
    "ExecuteTime": {
     "start_time": "2024-03-14T18:53:43.964017Z",
     "end_time": "2024-03-14T18:53:44.240479Z"
    }
   }
  },
  {
   "cell_type": "code",
   "execution_count": null,
   "outputs": [],
   "source": [],
   "metadata": {
    "collapsed": false
   }
  },
  {
   "cell_type": "markdown",
   "source": [
    "## From here second part that is either in the model or in preprocessing"
   ],
   "metadata": {
    "collapsed": false
   }
  },
  {
   "cell_type": "code",
   "execution_count": 16,
   "outputs": [],
   "source": [
    "# load first index range of elements\n",
    "data_array = batch.x[idx_matrix[:, -1]]"
   ],
   "metadata": {
    "collapsed": false,
    "ExecuteTime": {
     "start_time": "2024-03-13T20:04:08.207324Z",
     "end_time": "2024-03-13T20:04:08.229326Z"
    }
   }
  },
  {
   "cell_type": "code",
   "execution_count": 17,
   "outputs": [],
   "source": [
    "# get structure to orient to\n",
    "idx_structure = idx_matrix[:, :-1]"
   ],
   "metadata": {
    "collapsed": false,
    "ExecuteTime": {
     "start_time": "2024-03-13T20:04:08.670384Z",
     "end_time": "2024-03-13T20:04:08.680383Z"
    }
   }
  },
  {
   "cell_type": "markdown",
   "source": [
    "### for loop starts here"
   ],
   "metadata": {
    "collapsed": false
   }
  },
  {
   "cell_type": "code",
   "execution_count": 18,
   "outputs": [
    {
     "data": {
      "text/plain": "tensor([[   0,    0],\n        [   1,    0],\n        [   1,    1],\n        ...,\n        [2354,    0],\n        [2354,    1],\n        [2355,    0]])"
     },
     "metadata": {},
     "output_type": "display_data"
    },
    {
     "data": {
      "text/plain": "tensor([1, 1, 3,  ..., 1, 3, 1])"
     },
     "metadata": {},
     "output_type": "display_data"
    }
   ],
   "source": [
    "# get indexes for graph pooling\n",
    "idx_structure, current_layer_pooling_counts = torch.unique(idx_structure[:, :-1], dim=0, return_counts=True)\n",
    "display(idx_structure)\n",
    "display(current_layer_pooling_counts)"
   ],
   "metadata": {
    "collapsed": false,
    "ExecuteTime": {
     "start_time": "2024-03-13T20:04:10.786096Z",
     "end_time": "2024-03-13T20:04:10.814092Z"
    }
   }
  },
  {
   "cell_type": "code",
   "execution_count": 19,
   "outputs": [
    {
     "data": {
      "text/plain": "tensor([0, 1, 2, 2, 2, 3, 4, 4, 4, 5])"
     },
     "metadata": {},
     "output_type": "display_data"
    }
   ],
   "source": [
    "# get indexes for graph pooling\n",
    "current_layer_pooling = torch.repeat_interleave(current_layer_pooling_counts)\n",
    "display(current_layer_pooling[:10])"
   ],
   "metadata": {
    "collapsed": false,
    "ExecuteTime": {
     "start_time": "2024-03-13T20:04:15.358460Z",
     "end_time": "2024-03-13T20:04:15.368458Z"
    }
   }
  },
  {
   "cell_type": "code",
   "execution_count": 12,
   "outputs": [],
   "source": [
    "# init circling\n",
    "# todo: rework for other types\n",
    "order_matrix = torch.zeros(k, len(current_layer_pooling), dtype=torch.int) - 1"
   ],
   "metadata": {
    "collapsed": false,
    "ExecuteTime": {
     "start_time": "2024-03-13T16:23:27.219155Z",
     "end_time": "2024-03-13T16:23:27.231277Z"
    }
   }
  },
  {
   "cell_type": "code",
   "execution_count": 13,
   "outputs": [],
   "source": [
    "cur_pos = 0\n",
    "for i in current_layer_pooling_counts:#[:5]:\n",
    "    current_k = min(k, i)\n",
    "    r = torch.arange(cur_pos, cur_pos+i)\n",
    "    for j in range(current_k):\n",
    "        order_matrix[:current_k, cur_pos+j] = torch.roll(r, shifts=-j)\n",
    "    cur_pos += i"
   ],
   "metadata": {
    "collapsed": false,
    "ExecuteTime": {
     "start_time": "2024-03-13T16:23:27.456992Z",
     "end_time": "2024-03-13T16:23:27.574027Z"
    }
   }
  },
  {
   "cell_type": "code",
   "execution_count": 14,
   "outputs": [
    {
     "data": {
      "text/plain": "tensor([[   0,    1,    2,  ..., 6413, 6414, 6415],\n        [  -1,   -1,    3,  ..., 6414, 6412,   -1],\n        [  -1,   -1,    4,  ..., 6412, 6413,   -1]], dtype=torch.int32)"
     },
     "execution_count": 14,
     "metadata": {},
     "output_type": "execute_result"
    }
   ],
   "source": [
    "order_matrix"
   ],
   "metadata": {
    "collapsed": false,
    "ExecuteTime": {
     "start_time": "2024-03-13T16:23:27.688161Z",
     "end_time": "2024-03-13T16:23:27.702159Z"
    }
   }
  },
  {
   "cell_type": "code",
   "execution_count": 15,
   "outputs": [],
   "source": [
    "# add zero padding to data list\n",
    "data_array = torch.cat([torch.zeros(1, data_array.shape[-1]), data_array], dim=0)\n",
    "order_matrix += 1"
   ],
   "metadata": {
    "collapsed": false,
    "ExecuteTime": {
     "start_time": "2024-03-13T16:23:28.132139Z",
     "end_time": "2024-03-13T16:23:28.157143Z"
    }
   }
  },
  {
   "cell_type": "code",
   "execution_count": 16,
   "outputs": [],
   "source": [
    "temp = data_array[order_matrix]"
   ],
   "metadata": {
    "collapsed": false,
    "ExecuteTime": {
     "start_time": "2024-03-13T16:23:28.337684Z",
     "end_time": "2024-03-13T16:23:28.345066Z"
    }
   }
  },
  {
   "cell_type": "code",
   "execution_count": 17,
   "outputs": [
    {
     "data": {
      "text/plain": "torch.Size([3, 6416, 118])"
     },
     "execution_count": 17,
     "metadata": {},
     "output_type": "execute_result"
    }
   ],
   "source": [
    "temp.shape"
   ],
   "metadata": {
    "collapsed": false,
    "ExecuteTime": {
     "start_time": "2024-03-13T16:23:28.488285Z",
     "end_time": "2024-03-13T16:23:28.497287Z"
    }
   }
  },
  {
   "cell_type": "code",
   "execution_count": 18,
   "outputs": [],
   "source": [
    "# apply z layer"
   ],
   "metadata": {
    "collapsed": false,
    "ExecuteTime": {
     "start_time": "2024-03-13T16:23:28.660147Z",
     "end_time": "2024-03-13T16:23:28.669234Z"
    }
   }
  },
  {
   "cell_type": "code",
   "execution_count": 19,
   "outputs": [],
   "source": [
    "mask_z = type_matrix[:, -1] == 2"
   ],
   "metadata": {
    "collapsed": false,
    "ExecuteTime": {
     "start_time": "2024-03-13T16:23:28.808791Z",
     "end_time": "2024-03-13T16:23:28.828124Z"
    }
   }
  },
  {
   "cell_type": "code",
   "execution_count": 23,
   "outputs": [],
   "source": [
    "z_layer = torch.nn.ModuleList([\n",
    "    torch.nn.Linear(118, 118)\n",
    "    for _ in range(k)\n",
    "])\n",
    "z_final_layer = torch.nn.Linear(118, 118)\n",
    "z_elu = torch.nn.ELU()"
   ],
   "metadata": {
    "collapsed": false,
    "ExecuteTime": {
     "start_time": "2024-03-13T20:05:48.342263Z",
     "end_time": "2024-03-13T20:05:48.367261Z"
    }
   }
  },
  {
   "cell_type": "code",
   "execution_count": 21,
   "outputs": [],
   "source": [
    "# todo: take care of duplicate elements that are sent through linear layer"
   ],
   "metadata": {
    "collapsed": false,
    "ExecuteTime": {
     "start_time": "2024-03-13T16:23:29.154868Z",
     "end_time": "2024-03-13T16:23:29.184374Z"
    }
   }
  },
  {
   "cell_type": "code",
   "execution_count": 22,
   "outputs": [
    {
     "data": {
      "text/plain": "torch.Size([6417, 118])"
     },
     "execution_count": 22,
     "metadata": {},
     "output_type": "execute_result"
    }
   ],
   "source": [
    "data_array.shape"
   ],
   "metadata": {
    "collapsed": false,
    "ExecuteTime": {
     "start_time": "2024-03-13T16:23:29.594720Z",
     "end_time": "2024-03-13T16:23:29.603719Z"
    }
   }
  },
  {
   "cell_type": "code",
   "execution_count": 23,
   "outputs": [
    {
     "data": {
      "text/plain": "torch.Size([6416, 3, 118])"
     },
     "metadata": {},
     "output_type": "display_data"
    }
   ],
   "source": [
    "embedding = torch.stack([\n",
    "    emb(t)\n",
    "    for emb, t in zip(z_layer,temp)\n",
    "], dim=1)\n",
    "display(embedding.shape)"
   ],
   "metadata": {
    "collapsed": false,
    "ExecuteTime": {
     "start_time": "2024-03-13T16:23:29.786682Z",
     "end_time": "2024-03-13T16:23:29.807681Z"
    }
   }
  },
  {
   "cell_type": "code",
   "execution_count": 24,
   "outputs": [
    {
     "data": {
      "text/plain": "torch.Size([6416, 118])"
     },
     "metadata": {},
     "output_type": "display_data"
    }
   ],
   "source": [
    "temp3 = embedding.sum(dim=1)\n",
    "display(temp3.shape)"
   ],
   "metadata": {
    "collapsed": false,
    "ExecuteTime": {
     "start_time": "2024-03-13T16:23:30.050740Z",
     "end_time": "2024-03-13T16:23:30.059738Z"
    }
   }
  },
  {
   "cell_type": "code",
   "execution_count": 25,
   "outputs": [
    {
     "data": {
      "text/plain": "torch.Size([6416, 118])"
     },
     "metadata": {},
     "output_type": "display_data"
    }
   ],
   "source": [
    "temp4 = z_final_layer(temp3)\n",
    "display(temp4.shape)"
   ],
   "metadata": {
    "collapsed": false,
    "ExecuteTime": {
     "start_time": "2024-03-13T16:23:30.275889Z",
     "end_time": "2024-03-13T16:23:30.289889Z"
    }
   }
  },
  {
   "cell_type": "code",
   "execution_count": 7,
   "outputs": [
    {
     "ename": "NameError",
     "evalue": "name 'temp4' is not defined",
     "output_type": "error",
     "traceback": [
      "\u001B[1;31m---------------------------------------------------------------------------\u001B[0m",
      "\u001B[1;31mNameError\u001B[0m                                 Traceback (most recent call last)",
      "Cell \u001B[1;32mIn[7], line 2\u001B[0m\n\u001B[0;32m      1\u001B[0m \u001B[38;5;28;01mimport\u001B[39;00m \u001B[38;5;21;01mtorch_geometric\u001B[39;00m\n\u001B[1;32m----> 2\u001B[0m data_array \u001B[38;5;241m=\u001B[39m torch_geometric\u001B[38;5;241m.\u001B[39mnn\u001B[38;5;241m.\u001B[39mglobal_add_pool(\u001B[43mtemp4\u001B[49m, current_layer_pooling)\n",
      "\u001B[1;31mNameError\u001B[0m: name 'temp4' is not defined"
     ]
    }
   ],
   "source": [
    "import torch_geometric\n",
    "data_array = torch_geometric.nn.global_add_pool(temp4, current_layer_pooling)"
   ],
   "metadata": {
    "collapsed": false,
    "ExecuteTime": {
     "start_time": "2024-03-13T16:23:30.466053Z",
     "end_time": "2024-03-13T16:23:30.475052Z"
    }
   }
  },
  {
   "cell_type": "code",
   "execution_count": 27,
   "outputs": [
    {
     "data": {
      "text/plain": "torch.Size([4124, 118])"
     },
     "execution_count": 27,
     "metadata": {},
     "output_type": "execute_result"
    }
   ],
   "source": [
    "data_array.shape"
   ],
   "metadata": {
    "collapsed": false,
    "ExecuteTime": {
     "start_time": "2024-03-13T16:23:30.666534Z",
     "end_time": "2024-03-13T16:23:30.686533Z"
    }
   }
  },
  {
   "cell_type": "code",
   "execution_count": 27,
   "outputs": [],
   "source": [],
   "metadata": {
    "collapsed": false,
    "ExecuteTime": {
     "start_time": "2024-03-13T16:23:31.116239Z",
     "end_time": "2024-03-13T16:23:31.134239Z"
    }
   }
  },
  {
   "cell_type": "code",
   "execution_count": null,
   "outputs": [],
   "source": [],
   "metadata": {
    "collapsed": false
   }
  },
  {
   "cell_type": "code",
   "execution_count": null,
   "outputs": [],
   "source": [],
   "metadata": {
    "collapsed": false
   }
  },
  {
   "cell_type": "code",
   "execution_count": 20,
   "outputs": [],
   "source": [
    "k = 3"
   ],
   "metadata": {
    "collapsed": false,
    "ExecuteTime": {
     "start_time": "2024-03-13T20:05:38.690911Z",
     "end_time": "2024-03-13T20:05:38.702426Z"
    }
   }
  },
  {
   "cell_type": "code",
   "execution_count": 21,
   "outputs": [],
   "source": [
    "batch.idx_matrix, batch.type_matrix = permutation_tree_to_matrix(batch.ptree, 3)"
   ],
   "metadata": {
    "collapsed": false,
    "ExecuteTime": {
     "start_time": "2024-03-13T20:05:38.908428Z",
     "end_time": "2024-03-13T20:05:39.113705Z"
    }
   }
  },
  {
   "cell_type": "code",
   "execution_count": 24,
   "outputs": [],
   "source": [
    "device = 'cpu'\n",
    "batch = batch.to(device)\n",
    "z_elu = z_elu.to(device)\n",
    "z_layer = z_layer.to(device)\n",
    "z_final_layer = z_final_layer.to(device)"
   ],
   "metadata": {
    "collapsed": false,
    "ExecuteTime": {
     "start_time": "2024-03-13T20:05:59.904964Z",
     "end_time": "2024-03-13T20:05:59.926473Z"
    }
   }
  },
  {
   "cell_type": "code",
   "execution_count": 25,
   "outputs": [],
   "source": [
    "# make link to batch idx_matrix\n",
    "idx_matrix = batch.idx_matrix\n",
    "\n",
    "# load first index range of elements\n",
    "data_array = batch.x[idx_matrix[:, -1]]\n",
    "\n",
    "# get structure to orient to\n",
    "idx_structure = idx_matrix[:, :-1]"
   ],
   "metadata": {
    "collapsed": false,
    "ExecuteTime": {
     "start_time": "2024-03-13T20:06:00.814903Z",
     "end_time": "2024-03-13T20:06:00.826902Z"
    }
   }
  },
  {
   "cell_type": "code",
   "execution_count": 25,
   "outputs": [],
   "source": [],
   "metadata": {
    "collapsed": false,
    "ExecuteTime": {
     "start_time": "2024-03-13T20:06:02.860727Z",
     "end_time": "2024-03-13T20:06:02.873728Z"
    }
   }
  },
  {
   "cell_type": "code",
   "execution_count": 26,
   "outputs": [],
   "source": [
    "# get indexes for graph pooling\n",
    "idx_structure, current_layer_pooling_counts = torch.unique(idx_structure[:, :-1], dim=0, return_counts=True)\n",
    "\n",
    "# get indexes for graph pooling\n",
    "current_layer_pooling = torch.repeat_interleave(current_layer_pooling_counts)\n",
    "\n",
    "# init circling\n",
    "# todo: rework for other types - treat everything as Z\n",
    "order_matrix = torch.zeros(k, len(current_layer_pooling), dtype=torch.int) - 1"
   ],
   "metadata": {
    "collapsed": false,
    "ExecuteTime": {
     "start_time": "2024-03-13T20:06:04.767100Z",
     "end_time": "2024-03-13T20:06:04.799238Z"
    }
   }
  },
  {
   "cell_type": "code",
   "execution_count": 27,
   "outputs": [],
   "source": [
    "cur_pos = 0\n",
    "for i in current_layer_pooling_counts:\n",
    "    current_k = min(k, i)\n",
    "    r = torch.arange(cur_pos, cur_pos+current_k)\n",
    "    for j in range(i):\n",
    "        order_matrix[:current_k, cur_pos+j] = torch.roll(r, shifts=-j)\n",
    "    cur_pos += i"
   ],
   "metadata": {
    "collapsed": false,
    "ExecuteTime": {
     "start_time": "2024-03-13T20:06:05.286452Z",
     "end_time": "2024-03-13T20:06:05.379967Z"
    }
   }
  },
  {
   "cell_type": "code",
   "execution_count": 28,
   "outputs": [
    {
     "data": {
      "text/plain": "tensor([[ 0,  1,  2,  3,  4,  5,  6,  7,  8,  9],\n        [-1, -1,  3,  4,  2, -1,  7,  8,  6, -1],\n        [-1, -1,  4,  2,  3, -1,  8,  6,  7, -1]], dtype=torch.int32)"
     },
     "execution_count": 28,
     "metadata": {},
     "output_type": "execute_result"
    }
   ],
   "source": [
    "order_matrix[:, :10]"
   ],
   "metadata": {
    "collapsed": false,
    "ExecuteTime": {
     "start_time": "2024-03-13T20:06:14.046827Z",
     "end_time": "2024-03-13T20:06:14.056826Z"
    }
   }
  },
  {
   "cell_type": "code",
   "execution_count": 29,
   "outputs": [
    {
     "ename": "NameError",
     "evalue": "name 'torch_geometric' is not defined",
     "output_type": "error",
     "traceback": [
      "\u001B[1;31m---------------------------------------------------------------------------\u001B[0m",
      "\u001B[1;31mNameError\u001B[0m                                 Traceback (most recent call last)",
      "Cell \u001B[1;32mIn[29], line 19\u001B[0m\n\u001B[0;32m     16\u001B[0m embedding \u001B[38;5;241m=\u001B[39m z_final_layer(embedding)\n\u001B[0;32m     18\u001B[0m \u001B[38;5;66;03m# global pooling\u001B[39;00m\n\u001B[1;32m---> 19\u001B[0m data_array \u001B[38;5;241m=\u001B[39m \u001B[43mtorch_geometric\u001B[49m\u001B[38;5;241m.\u001B[39mnn\u001B[38;5;241m.\u001B[39mglobal_add_pool(embedding, current_layer_pooling)\n",
      "\u001B[1;31mNameError\u001B[0m: name 'torch_geometric' is not defined"
     ]
    }
   ],
   "source": [
    "# add zero padding to data list\n",
    "data_array = torch.cat([torch.zeros(1, data_array.shape[-1], device=data_array.device), data_array], dim=0)\n",
    "order_matrix += 1\n",
    "\n",
    "embedding = data_array[order_matrix]\n",
    "# mask_z = batch.type_matrix\n",
    "\n",
    "embedding = torch.stack([\n",
    "    emb(t)\n",
    "    for emb, t in zip(z_layer, embedding)\n",
    "], dim=1)\n",
    "\n",
    "embedding[(order_matrix.T == 0).unsqueeze(-1).expand_as(embedding)] = 0.\n",
    "\n",
    "embedding = embedding.sum(dim=1)\n",
    "embedding = z_final_layer(embedding)\n",
    "\n",
    "# global pooling\n",
    "data_array = torch_geometric.nn.global_add_pool(embedding, current_layer_pooling)"
   ],
   "metadata": {
    "collapsed": false,
    "ExecuteTime": {
     "start_time": "2024-03-13T18:25:41.654148Z",
     "end_time": "2024-03-13T18:25:41.689467Z"
    }
   }
  },
  {
   "cell_type": "code",
   "execution_count": null,
   "outputs": [],
   "source": [],
   "metadata": {
    "collapsed": false
   }
  },
  {
   "cell_type": "code",
   "execution_count": null,
   "outputs": [],
   "source": [],
   "metadata": {
    "collapsed": false
   }
  },
  {
   "cell_type": "code",
   "execution_count": null,
   "outputs": [],
   "source": [],
   "metadata": {
    "collapsed": false
   }
  },
  {
   "cell_type": "code",
   "execution_count": 9,
   "outputs": [
    {
     "data": {
      "text/plain": "DataBatch(x=[2104, 118], edge_index=[2, 5960], edge_attr=[5960, 80], pos=[2104, 6], y=[28], batch=[2104], ptr=[29], ptree=[2104], num_layer=[1], initial_map=[5960], layer0_order_matrix=[3, 5960], layer0_type_mask=[5960], layer0_pooling=[5960], layer1_order_matrix=[3, 3736], layer1_type_mask=[3736], layer1_pooling=[3736])"
     },
     "execution_count": 9,
     "metadata": {},
     "output_type": "execute_result"
    }
   ],
   "source": [
    "batch"
   ],
   "metadata": {
    "collapsed": false,
    "ExecuteTime": {
     "start_time": "2024-03-14T18:27:42.214910Z",
     "end_time": "2024-03-14T18:27:42.230909Z"
    }
   }
  },
  {
   "cell_type": "code",
   "execution_count": 10,
   "outputs": [],
   "source": [
    "import json\n",
    "ptree = json.loads(batch.ptree[0])"
   ],
   "metadata": {
    "collapsed": false,
    "ExecuteTime": {
     "start_time": "2024-03-14T18:27:43.354833Z",
     "end_time": "2024-03-14T18:27:43.370344Z"
    }
   }
  },
  {
   "cell_type": "code",
   "execution_count": 11,
   "outputs": [],
   "source": [
    "from ptgnn.transform.ptree_matrix import permutation_tree_depth\n",
    "\n",
    "# get depth of tree\n",
    "tree_depth = permutation_tree_depth(ptree)"
   ],
   "metadata": {
    "collapsed": false,
    "ExecuteTime": {
     "start_time": "2024-03-14T18:27:43.770589Z",
     "end_time": "2024-03-14T18:27:43.800588Z"
    }
   }
  },
  {
   "cell_type": "code",
   "execution_count": 12,
   "outputs": [
    {
     "data": {
      "text/plain": "'{\"P\": [0, {\"Z\": [7, 9]}]}'"
     },
     "execution_count": 12,
     "metadata": {},
     "output_type": "execute_result"
    }
   ],
   "source": [
    "batch.ptree[1]"
   ],
   "metadata": {
    "collapsed": false,
    "ExecuteTime": {
     "start_time": "2024-03-14T18:27:44.699278Z",
     "end_time": "2024-03-14T18:27:44.714277Z"
    }
   }
  },
  {
   "cell_type": "code",
   "execution_count": 14,
   "outputs": [
    {
     "ename": "NameError",
     "evalue": "name 'permutation_tree_to_matrix' is not defined",
     "output_type": "error",
     "traceback": [
      "\u001B[1;31m---------------------------------------------------------------------------\u001B[0m",
      "\u001B[1;31mNameError\u001B[0m                                 Traceback (most recent call last)",
      "Cell \u001B[1;32mIn[14], line 1\u001B[0m\n\u001B[1;32m----> 1\u001B[0m \u001B[43mpermutation_tree_to_matrix\u001B[49m([batch\u001B[38;5;241m.\u001B[39mptree[\u001B[38;5;241m1\u001B[39m]])\n",
      "\u001B[1;31mNameError\u001B[0m: name 'permutation_tree_to_matrix' is not defined"
     ]
    }
   ],
   "source": [
    "permutation_tree_to_matrix([batch.ptree[1]])"
   ],
   "metadata": {
    "collapsed": false,
    "ExecuteTime": {
     "start_time": "2024-03-13T17:21:31.766860Z",
     "end_time": "2024-03-13T17:21:31.781860Z"
    }
   }
  },
  {
   "cell_type": "code",
   "execution_count": 1,
   "outputs": [
    {
     "ename": "NameError",
     "evalue": "name 'batch' is not defined",
     "output_type": "error",
     "traceback": [
      "\u001B[1;31m---------------------------------------------------------------------------\u001B[0m",
      "\u001B[1;31mNameError\u001B[0m                                 Traceback (most recent call last)",
      "Cell \u001B[1;32mIn[1], line 3\u001B[0m\n\u001B[0;32m      1\u001B[0m \u001B[38;5;28;01mfrom\u001B[39;00m \u001B[38;5;21;01mptgnn\u001B[39;00m\u001B[38;5;21;01m.\u001B[39;00m\u001B[38;5;21;01mtransform\u001B[39;00m\u001B[38;5;21;01m.\u001B[39;00m\u001B[38;5;21;01mptree_matrix\u001B[39;00m \u001B[38;5;28;01mimport\u001B[39;00m permutation_tree_to_order_matrix\n\u001B[1;32m----> 3\u001B[0m permutation_tree_to_order_matrix(\u001B[43mbatch\u001B[49m, \u001B[38;5;241m3\u001B[39m)\n",
      "\u001B[1;31mNameError\u001B[0m: name 'batch' is not defined"
     ]
    }
   ],
   "source": [
    "from ptgnn.transform.ptree_matrix import permutation_tree_to_order_matrix\n",
    "\n",
    "permutation_tree_to_order_matrix(batch, 3)"
   ],
   "metadata": {
    "collapsed": false,
    "ExecuteTime": {
     "start_time": "2024-03-13T18:55:19.945880Z",
     "end_time": "2024-03-13T18:55:20.350977Z"
    }
   }
  },
  {
   "cell_type": "code",
   "execution_count": 1,
   "outputs": [],
   "source": [
    "from ptgnn.runtime_config.run_config import fetch_loaders"
   ],
   "metadata": {
    "collapsed": false,
    "ExecuteTime": {
     "start_time": "2024-03-14T19:32:39.862627Z",
     "end_time": "2024-03-14T19:32:44.014040Z"
    }
   }
  },
  {
   "cell_type": "code",
   "execution_count": 2,
   "outputs": [],
   "source": [
    "data_config = {\n",
    "    'dataset' : {\n",
    "        'type' : \"rs\",\n",
    "        'mask_chiral_tags': True,\n",
    "        'transformation_mode': 'chienn_tree_order_matrix',\n",
    "        'transformation_parameters': {\n",
    "            'k': 3\n",
    "        }\n",
    "    },\n",
    "    'loader': {\n",
    "        'general': {\n",
    "            'n_neighbors_in_circle': 3,\n",
    "            'batch_size': 32,\n",
    "            'num_workers': 0,\n",
    "        },\n",
    "        'train': {},\n",
    "        'test': {},\n",
    "        'val': {}\n",
    "    }\n",
    "}"
   ],
   "metadata": {
    "collapsed": false,
    "ExecuteTime": {
     "start_time": "2024-03-14T19:32:44.014040Z",
     "end_time": "2024-03-14T19:32:44.026543Z"
    }
   }
  },
  {
   "cell_type": "code",
   "execution_count": 3,
   "outputs": [],
   "source": [
    "train_loader, _, val_loader = fetch_loaders(data_config=data_config)"
   ],
   "metadata": {
    "collapsed": false,
    "ExecuteTime": {
     "start_time": "2024-03-14T19:32:44.027544Z",
     "end_time": "2024-03-14T19:32:57.138737Z"
    }
   }
  },
  {
   "cell_type": "code",
   "execution_count": 4,
   "outputs": [
    {
     "data": {
      "text/plain": "DataBatch(x=[2804, 118], edge_index=[2, 7684], edge_attr=[7684, 80], pos=[2804, 6], y=[32], batch=[2804], ptr=[33], ptree=[2804], num_layer=[1], initial_map=[7684], layer0_order_matrix=[3, 7684], layer0_type_mask=[7684], layer0_pooling=[7684], layer1_order_matrix=[3, 4978], layer1_type_mask=[4978], layer1_pooling=[4978])"
     },
     "metadata": {},
     "output_type": "display_data"
    }
   ],
   "source": [
    "for batch in train_loader:\n",
    "    display(batch)\n",
    "    break"
   ],
   "metadata": {
    "collapsed": false,
    "ExecuteTime": {
     "start_time": "2024-03-14T19:32:57.139738Z",
     "end_time": "2024-03-14T19:32:57.201785Z"
    }
   }
  },
  {
   "cell_type": "code",
   "execution_count": 5,
   "outputs": [],
   "source": [
    "from ptgnn.model.modules.ptree.complex_ptree_layer import ComplexPtreeLayer\n",
    "from tqdm import tqdm\n",
    "k=3\n",
    "device = 'cuda'  # 'cpu'\n",
    "model = ComplexPtreeLayer(k, 118).to(device)"
   ],
   "metadata": {
    "collapsed": false,
    "ExecuteTime": {
     "start_time": "2024-03-14T19:32:57.172738Z",
     "end_time": "2024-03-14T19:32:57.266004Z"
    }
   }
  },
  {
   "cell_type": "code",
   "execution_count": 10,
   "outputs": [
    {
     "name": "stderr",
     "output_type": "stream",
     "text": [
      "100%|██████████| 1721/1721 [00:54<00:00, 31.62it/s]\n"
     ]
    }
   ],
   "source": [
    "for batch in tqdm(train_loader):\n",
    "    batch = batch.to(device)\n",
    "    model(batch)"
   ],
   "metadata": {
    "collapsed": false,
    "ExecuteTime": {
     "start_time": "2024-03-14T19:36:59.865556Z",
     "end_time": "2024-03-14T19:37:54.293168Z"
    }
   }
  },
  {
   "cell_type": "code",
   "execution_count": 5,
   "outputs": [
    {
     "name": "stdout",
     "output_type": "stream",
     "text": [
      "tensor(4977, dtype=torch.int32)\n",
      "tensor(4977)\n",
      "tensor(2)\n",
      "tensor(2803)\n"
     ]
    }
   ],
   "source": [
    "print(batch.layer1_order_matrix.max())\n",
    "print(batch.layer0_pooling.max())\n",
    "print(batch.layer0_type_mask.max())\n",
    "print(batch.initial_map.max())"
   ],
   "metadata": {
    "collapsed": false,
    "ExecuteTime": {
     "start_time": "2024-03-14T16:34:21.987473Z",
     "end_time": "2024-03-14T16:34:22.007732Z"
    }
   }
  },
  {
   "cell_type": "code",
   "execution_count": 21,
   "outputs": [
    {
     "data": {
      "text/plain": "tensor([[ 0,  1,  2,  3,  4,  5,  6,  7,  8,  9],\n        [-1, -1, -1, -1, -1, -1, -1, -1, -1, -1],\n        [-1, -1, -1, -1, -1, -1, -1, -1, -1, -1]], device='cuda:0',\n       dtype=torch.int32)"
     },
     "execution_count": 21,
     "metadata": {},
     "output_type": "execute_result"
    }
   ],
   "source": [
    "batch.layer1_order_matrix[:, :10]"
   ],
   "metadata": {
    "collapsed": false,
    "ExecuteTime": {
     "start_time": "2024-03-14T16:46:34.959346Z",
     "end_time": "2024-03-14T16:46:34.978345Z"
    }
   }
  },
  {
   "cell_type": "code",
   "execution_count": 22,
   "outputs": [
    {
     "data": {
      "text/plain": "tensor([0, 1, 1, 2, 2, 3, 3, 4, 4, 5], device='cuda:0')"
     },
     "execution_count": 22,
     "metadata": {},
     "output_type": "execute_result"
    }
   ],
   "source": [
    "batch.layer1_pooling[:10]"
   ],
   "metadata": {
    "collapsed": false,
    "ExecuteTime": {
     "start_time": "2024-03-14T16:47:19.657758Z",
     "end_time": "2024-03-14T16:47:19.666758Z"
    }
   }
  },
  {
   "cell_type": "code",
   "execution_count": 5,
   "outputs": [],
   "source": [
    "k=3"
   ],
   "metadata": {
    "collapsed": false,
    "ExecuteTime": {
     "start_time": "2024-03-14T17:21:54.631338Z",
     "end_time": "2024-03-14T17:21:54.666337Z"
    }
   }
  },
  {
   "cell_type": "code",
   "execution_count": 6,
   "outputs": [],
   "source": [
    "import torch\n",
    "import torch_geometric\n",
    "from tqdm import tqdm"
   ],
   "metadata": {
    "collapsed": false,
    "ExecuteTime": {
     "start_time": "2024-03-14T17:21:54.647337Z",
     "end_time": "2024-03-14T17:21:54.666337Z"
    }
   }
  },
  {
   "cell_type": "code",
   "execution_count": 7,
   "outputs": [],
   "source": [
    "z_layer = torch.nn.ModuleList([\n",
    "    torch.nn.Linear(118, 118)\n",
    "    for _ in range(k)\n",
    "])\n",
    "z_final_layer = torch.nn.Linear(118, 118)\n",
    "z_elu = torch.nn.ELU()"
   ],
   "metadata": {
    "collapsed": false,
    "ExecuteTime": {
     "start_time": "2024-03-14T17:21:54.662337Z",
     "end_time": "2024-03-14T17:21:54.681347Z"
    }
   }
  },
  {
   "cell_type": "code",
   "execution_count": 8,
   "outputs": [],
   "source": [
    "# device = 'cpu'\n",
    "device = 'cuda'\n",
    "\n",
    "z_elu = z_elu.to(device)\n",
    "z_layer = z_layer.to(device)\n",
    "z_final_layer = z_final_layer.to(device)"
   ],
   "metadata": {
    "collapsed": false,
    "ExecuteTime": {
     "start_time": "2024-03-14T17:21:54.678348Z",
     "end_time": "2024-03-14T17:21:54.754636Z"
    }
   }
  },
  {
   "cell_type": "code",
   "execution_count": 4,
   "outputs": [
    {
     "ename": "NameError",
     "evalue": "name 'tqdm' is not defined",
     "output_type": "error",
     "traceback": [
      "\u001B[1;31m---------------------------------------------------------------------------\u001B[0m",
      "\u001B[1;31mNameError\u001B[0m                                 Traceback (most recent call last)",
      "Cell \u001B[1;32mIn[4], line 1\u001B[0m\n\u001B[1;32m----> 1\u001B[0m \u001B[38;5;28;01mfor\u001B[39;00m batch \u001B[38;5;129;01min\u001B[39;00m \u001B[43mtqdm\u001B[49m(train_loader):\n\u001B[0;32m      2\u001B[0m     batch \u001B[38;5;241m=\u001B[39m batch\u001B[38;5;241m.\u001B[39mto(device)\n\u001B[0;32m      4\u001B[0m     \u001B[38;5;66;03m# load first index range of elements\u001B[39;00m\n",
      "\u001B[1;31mNameError\u001B[0m: name 'tqdm' is not defined"
     ]
    }
   ],
   "source": [
    "for batch in tqdm(train_loader):\n",
    "    batch = batch.to(device)\n",
    "\n",
    "    # load first index range of elements\n",
    "    data_array = batch.x[batch.initial_map]\n",
    "\n",
    "    for layer_idx in range(batch.num_layer):\n",
    "        # fetch data\n",
    "        order_matrix = batch[f\"layer{layer_idx}_order_matrix\"]\n",
    "        current_layer_pooling = batch[f\"layer{layer_idx}_pooling\"]\n",
    "        type_mask = batch[f\"layer{layer_idx}_type_mask\"] # todo: actually use for different types\n",
    "\n",
    "        # add zero padding to data list\n",
    "        data_array = torch.cat([torch.zeros(1, data_array.shape[-1], device=data_array.device), data_array], dim=0)\n",
    "        order_matrix += 1\n",
    "\n",
    "        embedding = data_array[order_matrix]\n",
    "        # mask_z = batch.type_matrix\n",
    "\n",
    "        embedding = torch.stack([\n",
    "            emb(t)\n",
    "            for emb, t in zip(z_layer, embedding)\n",
    "        ], dim=1)\n",
    "\n",
    "        embedding[(order_matrix.T == 0).unsqueeze(-1).expand_as(embedding)] = 0.\n",
    "\n",
    "        embedding = embedding.sum(dim=1)\n",
    "        embedding = z_final_layer(embedding)\n",
    "\n",
    "        # global pooling\n",
    "        data_array = torch_geometric.nn.global_add_pool(embedding, current_layer_pooling)\n",
    "\n",
    "    assert data_array.shape == batch.x.shape"
   ],
   "metadata": {
    "collapsed": false,
    "ExecuteTime": {
     "start_time": "2024-03-14T14:32:28.240826Z",
     "end_time": "2024-03-14T14:33:17.364281Z"
    }
   }
  },
  {
   "cell_type": "code",
   "execution_count": 9,
   "outputs": [],
   "source": [
    "batch = batch.to(device)\n",
    "\n",
    "# load first index range of elements\n",
    "data_array = batch.x[batch.initial_map]"
   ],
   "metadata": {
    "collapsed": false,
    "ExecuteTime": {
     "start_time": "2024-03-14T17:21:54.755642Z",
     "end_time": "2024-03-14T17:21:54.791245Z"
    }
   }
  },
  {
   "cell_type": "code",
   "execution_count": 10,
   "outputs": [],
   "source": [
    "layer_idx = 0"
   ],
   "metadata": {
    "collapsed": false,
    "ExecuteTime": {
     "start_time": "2024-03-14T17:21:54.787246Z",
     "end_time": "2024-03-14T17:21:54.803245Z"
    }
   }
  },
  {
   "cell_type": "code",
   "execution_count": 11,
   "outputs": [],
   "source": [
    "# fetch instructions for this layer\n",
    "order_matrix = batch[f\"layer{layer_idx}_order_matrix\"]\n",
    "current_layer_pooling = batch[f\"layer{layer_idx}_pooling\"]\n",
    "type_mask = batch[f\"layer{layer_idx}_type_mask\"]"
   ],
   "metadata": {
    "collapsed": false,
    "ExecuteTime": {
     "start_time": "2024-03-14T17:21:54.804245Z",
     "end_time": "2024-03-14T17:21:54.825866Z"
    }
   }
  },
  {
   "cell_type": "code",
   "execution_count": 12,
   "outputs": [],
   "source": [
    "# order matrix contains -1. This is due to not all permutations requiring k elements to connect.\n",
    "# solve this with creating new index zero that is full of zeros and increasing order_matrix index\n",
    "data_array = torch.cat(\n",
    "    [\n",
    "        torch.zeros(1, data_array.shape[-1], device=data_array.device),\n",
    "        data_array\n",
    "    ],\n",
    "    dim=0\n",
    ")\n",
    "order_matrix += 1"
   ],
   "metadata": {
    "collapsed": false,
    "ExecuteTime": {
     "start_time": "2024-03-14T17:21:54.818865Z",
     "end_time": "2024-03-14T17:21:54.833865Z"
    }
   }
  },
  {
   "cell_type": "code",
   "execution_count": 13,
   "outputs": [],
   "source": [
    "# create order mask (required later to remove elements that were -1 -> 0 but after linear layer they\n",
    "# are no longer 0)\n",
    "mask_order_matrix = order_matrix == 0"
   ],
   "metadata": {
    "collapsed": false,
    "ExecuteTime": {
     "start_time": "2024-03-14T17:21:54.835866Z",
     "end_time": "2024-03-14T17:21:54.858864Z"
    }
   }
  },
  {
   "cell_type": "code",
   "execution_count": 14,
   "outputs": [],
   "source": [
    "# change indices from order list to real data (technically this inflates the matrix, but all are references\n",
    "# so no actual space should be required.\n",
    "data_array = data_array[order_matrix]"
   ],
   "metadata": {
    "collapsed": false,
    "ExecuteTime": {
     "start_time": "2024-03-14T17:21:54.850866Z",
     "end_time": "2024-03-14T17:21:54.865941Z"
    }
   }
  },
  {
   "cell_type": "code",
   "execution_count": 15,
   "outputs": [],
   "source": [
    "# do operation for each layer and put result into a temporary array\n",
    "# array initialized with the first column to cover the case of doing nothing (tree extension for uniform\n",
    "# layer count)\n",
    "temporary_data_array = data_array[0].clone()"
   ],
   "metadata": {
    "collapsed": false,
    "ExecuteTime": {
     "start_time": "2024-03-14T17:21:54.867945Z",
     "end_time": "2024-03-14T17:21:54.889455Z"
    }
   }
  },
  {
   "cell_type": "code",
   "execution_count": 16,
   "outputs": [],
   "source": [
    "# for loop\n",
    "node_value = 2"
   ],
   "metadata": {
    "collapsed": false,
    "ExecuteTime": {
     "start_time": "2024-03-14T17:21:54.883452Z",
     "end_time": "2024-03-14T17:21:54.901700Z"
    }
   }
  },
  {
   "cell_type": "code",
   "execution_count": 17,
   "outputs": [
    {
     "data": {
      "text/plain": "tensor([False, False,  True,  ...,  True, False,  True], device='cuda:0')"
     },
     "metadata": {},
     "output_type": "display_data"
    },
    {
     "data": {
      "text/plain": "torch.Size([7684])"
     },
     "metadata": {},
     "output_type": "display_data"
    }
   ],
   "source": [
    "# create mask for this type:\n",
    "# - create mask\n",
    "# - extend the mask to match\n",
    "mask = type_mask == node_value\n",
    "display(mask)\n",
    "display(mask.shape)"
   ],
   "metadata": {
    "collapsed": false,
    "ExecuteTime": {
     "start_time": "2024-03-14T17:21:54.899700Z",
     "end_time": "2024-03-14T17:21:54.942535Z"
    }
   }
  },
  {
   "cell_type": "code",
   "execution_count": 18,
   "outputs": [],
   "source": [
    "# iterate over k and get embeddings\n",
    "temp = torch.stack([\n",
    "    emb(t)\n",
    "    for emb, t in zip(z_layer, data_array[:, mask])\n",
    "], dim=0)\n",
    "# set entries that were previously only the -1's to zero\n",
    "temp[mask_order_matrix[:, mask]] = 0.\n",
    "# sum k (shifted [in order_matrix] embeddings)\n",
    "temp = temp.sum(dim=0)\n",
    "# run through final layer\n",
    "temp = z_final_layer(temp)\n",
    "# put into temporary_array\n",
    "temporary_data_array[mask] = temp"
   ],
   "metadata": {
    "collapsed": false,
    "ExecuteTime": {
     "start_time": "2024-03-14T17:21:54.915508Z",
     "end_time": "2024-03-14T17:21:55.004291Z"
    }
   }
  },
  {
   "cell_type": "code",
   "execution_count": 19,
   "outputs": [],
   "source": [
    "# end of for loop"
   ],
   "metadata": {
    "collapsed": false,
    "ExecuteTime": {
     "start_time": "2024-03-14T17:21:55.067778Z",
     "end_time": "2024-03-14T17:21:55.084800Z"
    }
   }
  },
  {
   "cell_type": "code",
   "execution_count": 20,
   "outputs": [],
   "source": [
    "# global pooling\n",
    "data_array = torch_geometric.nn.global_add_pool(temporary_data_array, current_layer_pooling)"
   ],
   "metadata": {
    "collapsed": false,
    "ExecuteTime": {
     "start_time": "2024-03-14T17:21:56.468913Z",
     "end_time": "2024-03-14T17:21:56.480919Z"
    }
   }
  },
  {
   "cell_type": "code",
   "execution_count": 21,
   "outputs": [],
   "source": [
    "data_array = z_elu(data_array)"
   ],
   "metadata": {
    "collapsed": false,
    "ExecuteTime": {
     "start_time": "2024-03-14T17:21:58.684172Z",
     "end_time": "2024-03-14T17:21:58.706680Z"
    }
   }
  },
  {
   "cell_type": "code",
   "execution_count": 22,
   "outputs": [],
   "source": [
    "type_mask2 = type_mask[torch.unique(current_layer_pooling)]"
   ],
   "metadata": {
    "collapsed": false,
    "ExecuteTime": {
     "start_time": "2024-03-14T17:22:06.423265Z",
     "end_time": "2024-03-14T17:22:06.450266Z"
    }
   }
  },
  {
   "cell_type": "markdown",
   "source": [
    "# Convert trees from C to Z, from Q to S"
   ],
   "metadata": {
    "collapsed": false
   }
  },
  {
   "cell_type": "code",
   "execution_count": 12,
   "outputs": [
    {
     "data": {
      "text/plain": "['{\"P\": [1, {\"Z\": [3, 5]}]}',\n '{\"P\": [0, {\"Z\": [7, 9]}]}',\n '{\"P\": [3, {\"Z\": [1, 5]}]}',\n '{\"P\": [2, {\"Z\": [14, 93]}]}',\n '{\"P\": [5, {\"Z\": [1, 3]}]}',\n '{\"P\": [4]}',\n '{\"P\": [7, {\"Z\": [0, 9]}]}',\n '{\"P\": [6, {\"Z\": [11]}]}',\n '{\"P\": [9, {\"Z\": [0, 7]}]}',\n '{\"P\": [8]}',\n '{\"P\": [11, {\"Z\": [6]}]}',\n '{\"P\": [10, {\"Z\": [13, 15]}]}',\n '{\"P\": [13, {\"Z\": [10, 15]}]}',\n '{\"P\": [12, {\"Z\": [17, 19, 21]}]}',\n '{\"P\": [15, {\"Z\": [10, 13]}]}',\n '{\"P\": [14, {\"Z\": [2, 93]}]}',\n '{\"P\": [17, {\"Z\": [12, 21, 19]}]}',\n '{\"P\": [16, {\"Z\": [23, 25]}]}',\n '{\"P\": [19, {\"Z\": [12, 17, 21]}]}',\n '{\"P\": [18]}',\n '{\"P\": [21, {\"Z\": [12, 19, 17]}]}',\n '{\"P\": [20]}',\n '{\"P\": [23, {\"Z\": [16, 25]}]}',\n '{\"P\": [22, {\"Z\": [27, 31, 29]}]}',\n '{\"P\": [25, {\"Z\": [16, 23]}]}',\n '{\"P\": [24, {\"Z\": [46, 89, 91]}]}',\n '{\"P\": [27, {\"Z\": [22, 29, 31]}]}',\n '{\"P\": [26, {\"Z\": [33, 35, 37]}]}',\n '{\"P\": [29, {\"Z\": [22, 31, 27]}]}',\n '{\"P\": [28]}',\n '{\"P\": [31, {\"Z\": [22, 27, 29]}]}',\n '{\"P\": [30]}',\n '{\"P\": [33, {\"Z\": [26, 37, 35]}]}',\n '{\"P\": [32, {\"Z\": [39, 41, 43]}]}',\n '{\"P\": [35, {\"Z\": [26, 33, 37]}]}',\n '{\"P\": [34]}',\n '{\"P\": [37, {\"Z\": [26, 35, 33]}]}',\n '{\"P\": [36]}',\n '{\"P\": [39, {\"Z\": [32, 43, 41]}]}',\n '{\"P\": [38, {\"Z\": [45, 47, 49]}]}',\n '{\"P\": [41, {\"Z\": [32, 39, 43]}]}',\n '{\"P\": [40]}',\n '{\"P\": [43, {\"Z\": [32, 41, 39]}]}',\n '{\"P\": [42]}',\n '{\"P\": [45, {\"Z\": [38, 49, 47]}]}',\n '{\"P\": [44, {\"Z\": [51, 55, 53]}]}',\n '{\"P\": [47, {\"Z\": [38, 45, 49]}]}',\n '{\"P\": [46, {\"Z\": [24, 91, 89]}]}',\n '{\"P\": [49, {\"Z\": [38, 47, 45]}]}',\n '{\"P\": [48]}',\n '{\"P\": [51, {\"Z\": [44, 53, 55]}]}',\n '{\"P\": [50, {\"Z\": [57, 59]}]}',\n '{\"P\": [53, {\"Z\": [44, 55, 51]}]}',\n '{\"P\": [52]}',\n '{\"P\": [55, {\"Z\": [44, 51, 53]}]}',\n '{\"P\": [54]}',\n '{\"P\": [57, {\"Z\": [50, 59]}]}',\n '{\"P\": [56, {\"Z\": [61]}]}',\n '{\"P\": [59, {\"Z\": [50, 57]}]}',\n '{\"P\": [58, {\"Z\": [66]}]}',\n '{\"P\": [61, {\"Z\": [56]}]}',\n '{\"P\": [60, {\"Z\": [63]}]}',\n '{\"P\": [63, {\"Z\": [60]}]}',\n '{\"P\": [62, {\"Z\": [65, 67]}]}',\n '{\"P\": [65, {\"Z\": [62, 67]}]}',\n '{\"P\": [64, {\"Z\": [69, 71]}]}',\n '{\"P\": [67, {\"Z\": [62, 65]}]}',\n '{\"P\": [66, {\"Z\": [58]}]}',\n '{\"P\": [69, {\"Z\": [64, 71]}]}',\n '{\"P\": [68, {\"Z\": [73, 75]}]}',\n '{\"P\": [71, {\"Z\": [64, 69]}]}',\n '{\"P\": [70, {\"Z\": [82, 87]}]}',\n '{\"P\": [73, {\"Z\": [68, 75]}]}',\n '{\"P\": [72, {\"Z\": [77, 79]}]}',\n '{\"P\": [75, {\"Z\": [68, 73]}]}',\n '{\"P\": [74]}',\n '{\"P\": [77, {\"Z\": [72, 79]}]}',\n '{\"P\": [76, {\"Z\": [81]}]}',\n '{\"P\": [79, {\"Z\": [72, 77]}]}',\n '{\"P\": [78]}',\n '{\"P\": [81, {\"Z\": [76]}]}',\n '{\"P\": [80, {\"Z\": [83, 85]}]}',\n '{\"P\": [83, {\"Z\": [80, 85]}]}',\n '{\"P\": [82, {\"Z\": [70, 87]}]}',\n '{\"P\": [85, {\"Z\": [80, 83]}]}',\n '{\"P\": [84]}',\n '{\"P\": [87, {\"Z\": [70, 82]}]}',\n '{\"P\": [86]}',\n '{\"P\": [89, {\"Z\": [24, 46, 91]}]}',\n '{\"P\": [88]}',\n '{\"P\": [91, {\"Z\": [24, 89, 46]}]}',\n '{\"P\": [90]}',\n '{\"P\": [93, {\"Z\": [2, 14]}]}',\n '{\"P\": [92]}',\n '{\"P\": [95, {\"Z\": [97, 99]}]}',\n '{\"P\": [94, {\"Z\": [101, 103]}]}',\n '{\"P\": [97, {\"Z\": [95, 99]}]}',\n '{\"P\": [96, {\"Z\": [108, 187]}]}',\n '{\"P\": [99, {\"Z\": [95, 97]}]}',\n '{\"P\": [98]}',\n '{\"P\": [101, {\"Z\": [94, 103]}]}',\n '{\"P\": [100, {\"Z\": [105]}]}',\n '{\"P\": [103, {\"Z\": [94, 101]}]}',\n '{\"P\": [102]}',\n '{\"P\": [105, {\"Z\": [100]}]}',\n '{\"P\": [104, {\"Z\": [107, 109]}]}',\n '{\"P\": [107, {\"Z\": [104, 109]}]}',\n '{\"P\": [106, {\"Z\": [111, 113, 115]}]}',\n '{\"P\": [109, {\"Z\": [104, 107]}]}',\n '{\"P\": [108, {\"Z\": [96, 187]}]}',\n '{\"P\": [111, {\"Z\": [106, 115, 113]}]}',\n '{\"P\": [110, {\"Z\": [117, 119]}]}',\n '{\"P\": [113, {\"Z\": [106, 111, 115]}]}',\n '{\"P\": [112]}',\n '{\"P\": [115, {\"Z\": [106, 113, 111]}]}',\n '{\"P\": [114]}',\n '{\"P\": [117, {\"Z\": [110, 119]}]}',\n '{\"P\": [116, {\"Z\": [121, 125, 123]}]}',\n '{\"P\": [119, {\"Z\": [110, 117]}]}',\n '{\"P\": [118, {\"Z\": [140, 185, 183]}]}',\n '{\"P\": [121, {\"Z\": [116, 123, 125]}]}',\n '{\"P\": [120, {\"Z\": [127, 129, 131]}]}',\n '{\"P\": [123, {\"Z\": [116, 125, 121]}]}',\n '{\"P\": [122]}',\n '{\"P\": [125, {\"Z\": [116, 121, 123]}]}',\n '{\"P\": [124]}',\n '{\"P\": [127, {\"Z\": [120, 131, 129]}]}',\n '{\"P\": [126, {\"Z\": [133, 135, 137]}]}',\n '{\"P\": [129, {\"Z\": [120, 127, 131]}]}',\n '{\"P\": [128]}',\n '{\"P\": [131, {\"Z\": [120, 129, 127]}]}',\n '{\"P\": [130]}',\n '{\"P\": [133, {\"Z\": [126, 137, 135]}]}',\n '{\"P\": [132, {\"Z\": [139, 143, 141]}]}',\n '{\"P\": [135, {\"Z\": [126, 133, 137]}]}',\n '{\"P\": [134]}',\n '{\"P\": [137, {\"Z\": [126, 135, 133]}]}',\n '{\"P\": [136]}',\n '{\"P\": [139, {\"Z\": [132, 141, 143]}]}',\n '{\"P\": [138, {\"Z\": [145, 147, 149]}]}',\n '{\"P\": [141, {\"Z\": [132, 143, 139]}]}',\n '{\"P\": [140, {\"Z\": [118, 183, 185]}]}',\n '{\"P\": [143, {\"Z\": [132, 139, 141]}]}',\n '{\"P\": [142]}',\n '{\"P\": [145, {\"Z\": [138, 149, 147]}]}',\n '{\"P\": [144, {\"Z\": [151, 153]}]}',\n '{\"P\": [147, {\"Z\": [138, 145, 149]}]}',\n '{\"P\": [146]}',\n '{\"P\": [149, {\"Z\": [138, 147, 145]}]}',\n '{\"P\": [148]}',\n '{\"P\": [151, {\"Z\": [144, 153]}]}',\n '{\"P\": [150, {\"Z\": [155]}]}',\n '{\"P\": [153, {\"Z\": [144, 151]}]}',\n '{\"P\": [152, {\"Z\": [160]}]}',\n '{\"P\": [155, {\"Z\": [150]}]}',\n '{\"P\": [154, {\"Z\": [157]}]}',\n '{\"P\": [157, {\"Z\": [154]}]}',\n '{\"P\": [156, {\"Z\": [159, 161]}]}',\n '{\"P\": [159, {\"Z\": [156, 161]}]}',\n '{\"P\": [158, {\"Z\": [163, 165]}]}',\n '{\"P\": [161, {\"Z\": [156, 159]}]}',\n '{\"P\": [160, {\"Z\": [152]}]}',\n '{\"P\": [163, {\"Z\": [158, 165]}]}',\n '{\"P\": [162, {\"Z\": [167, 169]}]}',\n '{\"P\": [165, {\"Z\": [158, 163]}]}',\n '{\"P\": [164, {\"Z\": [176, 181]}]}',\n '{\"P\": [167, {\"Z\": [162, 169]}]}',\n '{\"P\": [166, {\"Z\": [171, 173]}]}',\n '{\"P\": [169, {\"Z\": [162, 167]}]}',\n '{\"P\": [168]}',\n '{\"P\": [171, {\"Z\": [166, 173]}]}',\n '{\"P\": [170, {\"Z\": [175]}]}',\n '{\"P\": [173, {\"Z\": [166, 171]}]}',\n '{\"P\": [172]}',\n '{\"P\": [175, {\"Z\": [170]}]}',\n '{\"P\": [174, {\"Z\": [177, 179]}]}',\n '{\"P\": [177, {\"Z\": [174, 179]}]}',\n '{\"P\": [176, {\"Z\": [164, 181]}]}',\n '{\"P\": [179, {\"Z\": [174, 177]}]}',\n '{\"P\": [178]}',\n '{\"P\": [181, {\"Z\": [164, 176]}]}',\n '{\"P\": [180]}',\n '{\"P\": [183, {\"Z\": [118, 185, 140]}]}',\n '{\"P\": [182]}',\n '{\"P\": [185, {\"Z\": [118, 140, 183]}]}',\n '{\"P\": [184]}',\n '{\"P\": [187, {\"Z\": [96, 108]}]}',\n '{\"P\": [186]}',\n '{\"P\": [189, {\"Z\": [191, 193]}]}',\n '{\"P\": [188, {\"Z\": [195, 197]}]}',\n '{\"P\": [191, {\"Z\": [189, 193]}]}',\n '{\"P\": [190, {\"Z\": [202, 269]}]}',\n '{\"P\": [193, {\"Z\": [189, 191]}]}',\n '{\"P\": [192]}',\n '{\"P\": [195, {\"Z\": [188, 197]}]}',\n '{\"P\": [194, {\"Z\": [199]}]}',\n '{\"P\": [197, {\"Z\": [188, 195]}]}',\n '{\"P\": [196]}',\n '{\"P\": [199, {\"Z\": [194]}]}',\n '{\"P\": [198, {\"Z\": [201, 203]}]}',\n '{\"P\": [201, {\"Z\": [198, 203]}]}',\n '{\"P\": [200, {\"Z\": [205, 207, 209]}]}',\n '{\"P\": [203, {\"Z\": [198, 201]}]}',\n '{\"P\": [202, {\"Z\": [190, 269]}]}',\n '{\"P\": [205, {\"Z\": [200, 209, 207]}]}',\n '{\"P\": [204, {\"Z\": [211, 213]}]}',\n '{\"P\": [207, {\"Z\": [200, 205, 209]}]}',\n '{\"P\": [206]}',\n '{\"P\": [209, {\"Z\": [200, 207, 205]}]}',\n '{\"P\": [208]}',\n '{\"P\": [211, {\"Z\": [204, 213]}]}',\n '{\"P\": [210, {\"Z\": [215, 219, 217]}]}',\n '{\"P\": [213, {\"Z\": [204, 211]}]}',\n '{\"P\": [212]}',\n '{\"P\": [215, {\"Z\": [210, 217, 219]}]}',\n '{\"P\": [214, {\"Z\": [221, 223, 225]}]}',\n '{\"P\": [217, {\"Z\": [210, 219, 215]}]}',\n '{\"P\": [216, {\"Z\": [238, 243]}]}',\n '{\"P\": [219, {\"Z\": [210, 215, 217]}]}',\n '{\"P\": [218]}',\n '{\"P\": [221, {\"Z\": [214, 225, 223]}]}',\n '{\"P\": [220, {\"Z\": [227, 231, 229]}]}',\n '{\"P\": [223, {\"Z\": [214, 221, 225]}]}',\n '{\"P\": [222]}',\n '{\"P\": [225, {\"Z\": [214, 223, 221]}]}',\n '{\"P\": [224]}',\n '{\"P\": [227, {\"Z\": [220, 229, 231]}]}',\n '{\"P\": [226, {\"Z\": [233, 237, 235]}]}',\n '{\"P\": [229, {\"Z\": [220, 231, 227]}]}',\n '{\"P\": [228]}',\n '{\"P\": [231, {\"Z\": [220, 227, 229]}]}',\n '{\"P\": [230]}',\n '{\"P\": [233, {\"Z\": [226, 235, 237]}]}',\n '{\"P\": [232, {\"Z\": [239, 241]}]}',\n '{\"P\": [235, {\"Z\": [226, 237, 233]}]}',\n '{\"P\": [234]}',\n '{\"P\": [237, {\"Z\": [226, 233, 235]}]}',\n '{\"P\": [236]}',\n '{\"P\": [239, {\"Z\": [232, 241]}]}',\n '{\"P\": [238, {\"Z\": [216, 243]}]}',\n '{\"P\": [241, {\"Z\": [232, 239]}]}',\n '{\"P\": [240, {\"Z\": [250, 264]}]}',\n '{\"P\": [243, {\"Z\": [216, 238]}]}',\n '{\"P\": [242, {\"Z\": [245, 247]}]}',\n '{\"P\": [245, {\"Z\": [242, 247]}]}',\n '{\"P\": [244, {\"Z\": [249, 251]}]}',\n '{\"P\": [247, {\"Z\": [242, 245]}]}',\n '{\"P\": [246]}',\n '{\"P\": [249, {\"Z\": [244, 251]}]}',\n '{\"P\": [248, {\"Z\": [253, 255]}]}',\n '{\"P\": [251, {\"Z\": [244, 249]}]}',\n '{\"P\": [250, {\"Z\": [240, 264]}]}',\n '{\"P\": [253, {\"Z\": [248, 255]}]}',\n '{\"P\": [252, {\"Z\": [257, 259]}]}',\n '{\"P\": [255, {\"Z\": [248, 253]}]}',\n '{\"P\": [254]}',\n '{\"P\": [257, {\"Z\": [252, 259]}]}',\n '{\"P\": [256, {\"Z\": [261, 263]}]}',\n '{\"P\": [259, {\"Z\": [252, 257]}]}',\n '{\"P\": [258]}',\n '{\"P\": [261, {\"Z\": [256, 263]}]}',\n '{\"P\": [260, {\"Z\": [265, 267]}]}',\n '{\"P\": [263, {\"Z\": [256, 261]}]}',\n '{\"P\": [262]}',\n '{\"P\": [265, {\"Z\": [260, 267]}]}',\n '{\"P\": [264, {\"Z\": [240, 250]}]}',\n '{\"P\": [267, {\"Z\": [260, 265]}]}',\n '{\"P\": [266]}',\n '{\"P\": [269, {\"Z\": [190, 202]}]}',\n '{\"P\": [268]}',\n '{\"P\": [271, {\"Z\": [273, 275]}]}',\n '{\"P\": [270, {\"Z\": [277, 279]}]}',\n '{\"P\": [273, {\"Z\": [271, 275]}]}',\n '{\"P\": [272, {\"Z\": [284, 351]}]}',\n '{\"P\": [275, {\"Z\": [271, 273]}]}',\n '{\"P\": [274]}',\n '{\"P\": [277, {\"Z\": [270, 279]}]}',\n '{\"P\": [276, {\"Z\": [281]}]}',\n '{\"P\": [279, {\"Z\": [270, 277]}]}',\n '{\"P\": [278]}',\n '{\"P\": [281, {\"Z\": [276]}]}',\n '{\"P\": [280, {\"Z\": [283, 285]}]}',\n '{\"P\": [283, {\"Z\": [280, 285]}]}',\n '{\"P\": [282, {\"Z\": [287, 289, 291]}]}',\n '{\"P\": [285, {\"Z\": [280, 283]}]}',\n '{\"P\": [284, {\"Z\": [272, 351]}]}',\n '{\"P\": [287, {\"Z\": [282, 291, 289]}]}',\n '{\"P\": [286, {\"Z\": [293, 295]}]}',\n '{\"P\": [289, {\"Z\": [282, 287, 291]}]}',\n '{\"P\": [288]}',\n '{\"P\": [291, {\"Z\": [282, 289, 287]}]}',\n '{\"P\": [290]}',\n '{\"P\": [293, {\"Z\": [286, 295]}]}',\n '{\"P\": [292, {\"Z\": [297, 299, 301]}]}',\n '{\"P\": [295, {\"Z\": [286, 293]}]}',\n '{\"P\": [294]}',\n '{\"P\": [297, {\"Z\": [292, 301, 299]}]}',\n '{\"P\": [296, {\"Z\": [303, 305, 307]}]}',\n '{\"P\": [299, {\"Z\": [292, 297, 301]}]}',\n '{\"P\": [298, {\"Z\": [320, 325]}]}',\n '{\"P\": [301, {\"Z\": [292, 299, 297]}]}',\n '{\"P\": [300]}',\n '{\"P\": [303, {\"Z\": [296, 307, 305]}]}',\n '{\"P\": [302, {\"Z\": [309, 313, 311]}]}',\n '{\"P\": [305, {\"Z\": [296, 303, 307]}]}',\n '{\"P\": [304]}',\n '{\"P\": [307, {\"Z\": [296, 305, 303]}]}',\n '{\"P\": [306]}',\n '{\"P\": [309, {\"Z\": [302, 311, 313]}]}',\n '{\"P\": [308, {\"Z\": [315, 319, 317]}]}',\n '{\"P\": [311, {\"Z\": [302, 313, 309]}]}',\n '{\"P\": [310]}',\n '{\"P\": [313, {\"Z\": [302, 309, 311]}]}',\n '{\"P\": [312]}',\n '{\"P\": [315, {\"Z\": [308, 317, 319]}]}',\n '{\"P\": [314, {\"Z\": [321, 323]}]}',\n '{\"P\": [317, {\"Z\": [308, 319, 315]}]}',\n '{\"P\": [316]}',\n '{\"P\": [319, {\"Z\": [308, 315, 317]}]}',\n '{\"P\": [318]}',\n '{\"P\": [321, {\"Z\": [314, 323]}]}',\n '{\"P\": [320, {\"Z\": [298, 325]}]}',\n '{\"P\": [323, {\"Z\": [314, 321]}]}',\n '{\"P\": [322, {\"Z\": [332, 346]}]}',\n '{\"P\": [325, {\"Z\": [298, 320]}]}',\n '{\"P\": [324, {\"Z\": [327, 329]}]}',\n '{\"P\": [327, {\"Z\": [324, 329]}]}',\n '{\"P\": [326, {\"Z\": [331, 333]}]}',\n '{\"P\": [329, {\"Z\": [324, 327]}]}',\n '{\"P\": [328]}',\n '{\"P\": [331, {\"Z\": [326, 333]}]}',\n '{\"P\": [330, {\"Z\": [335, 337]}]}',\n '{\"P\": [333, {\"Z\": [326, 331]}]}',\n '{\"P\": [332, {\"Z\": [322, 346]}]}',\n '{\"P\": [335, {\"Z\": [330, 337]}]}',\n '{\"P\": [334, {\"Z\": [339, 341]}]}',\n '{\"P\": [337, {\"Z\": [330, 335]}]}',\n '{\"P\": [336]}',\n '{\"P\": [339, {\"Z\": [334, 341]}]}',\n '{\"P\": [338, {\"Z\": [343, 345]}]}',\n '{\"P\": [341, {\"Z\": [334, 339]}]}',\n '{\"P\": [340]}',\n '{\"P\": [343, {\"Z\": [338, 345]}]}',\n '{\"P\": [342, {\"Z\": [347, 349]}]}',\n '{\"P\": [345, {\"Z\": [338, 343]}]}',\n '{\"P\": [344]}',\n '{\"P\": [347, {\"Z\": [342, 349]}]}',\n '{\"P\": [346, {\"Z\": [322, 332]}]}',\n '{\"P\": [349, {\"Z\": [342, 347]}]}',\n '{\"P\": [348]}',\n '{\"P\": [351, {\"Z\": [272, 284]}]}',\n '{\"P\": [350]}',\n '{\"P\": [353, {\"Z\": [355, 357]}]}',\n '{\"P\": [352, {\"Z\": [359]}]}',\n '{\"P\": [355, {\"Z\": [353, 357]}]}',\n '{\"P\": [354, {\"Z\": [388, 393]}]}',\n '{\"P\": [357, {\"Z\": [353, 355]}]}',\n '{\"P\": [356]}',\n '{\"P\": [359, {\"Z\": [352]}]}',\n '{\"P\": [358, {\"Z\": [361, 363]}]}',\n '{\"P\": [361, {\"Z\": [358, 363]}]}',\n '{\"P\": [360, {\"Z\": [365, 369, 367]}]}',\n '{\"P\": [363, {\"Z\": [358, 361]}]}',\n '{\"P\": [362, {\"Z\": [389, 391]}]}',\n '{\"P\": [365, {\"Z\": [360, 367, 369]}]}',\n '{\"P\": [364, {\"Z\": [371, 375, 373]}]}',\n '{\"P\": [367, {\"Z\": [360, 369, 365]}]}',\n '{\"P\": [366, {\"Z\": [382]}]}',\n '{\"P\": [369, {\"Z\": [360, 365, 367]}]}',\n '{\"P\": [368]}',\n '{\"P\": [371, {\"Z\": [364, 373, 375]}]}',\n '{\"P\": [370, {\"Z\": [377, 379, 381]}]}',\n '{\"P\": [373, {\"Z\": [364, 375, 371]}]}',\n '{\"P\": [372]}',\n '{\"P\": [375, {\"Z\": [364, 371, 373]}]}',\n '{\"P\": [374]}',\n '{\"P\": [377, {\"Z\": [370, 381, 379]}]}',\n '{\"P\": [376, {\"Z\": [383, 385, 387]}]}',\n '{\"P\": [379, {\"Z\": [370, 377, 381]}]}',\n '{\"P\": [378]}',\n '{\"P\": [381, {\"Z\": [370, 379, 377]}]}',\n '{\"P\": [380]}',\n '{\"P\": [383, {\"Z\": [376, 387, 385]}]}',\n '{\"P\": [382, {\"Z\": [366]}]}',\n '{\"P\": [385, {\"Z\": [376, 383, 387]}]}',\n '{\"P\": [384]}',\n '{\"P\": [387, {\"Z\": [376, 385, 383]}]}',\n '{\"P\": [386]}',\n '{\"P\": [389, {\"Z\": [362, 391]}]}',\n '{\"P\": [388, {\"Z\": [354, 393]}]}',\n '{\"P\": [391, {\"Z\": [362, 389]}]}',\n '{\"P\": [390]}',\n '{\"P\": [393, {\"Z\": [354, 388]}]}',\n '{\"P\": [392, {\"Z\": [395, 399, 397]}]}',\n '{\"P\": [395, {\"Z\": [392, 397, 399]}]}',\n '{\"P\": [394, {\"Z\": [401, 403]}]}',\n '{\"P\": [397, {\"Z\": [392, 399, 395]}]}',\n '{\"P\": [396]}',\n '{\"P\": [399, {\"Z\": [392, 395, 397]}]}',\n '{\"P\": [398]}',\n '{\"P\": [401, {\"Z\": [394, 403]}]}',\n '{\"P\": [400, {\"Z\": [405, 409, 407]}]}',\n '{\"P\": [403, {\"Z\": [394, 401]}]}',\n '{\"P\": [402]}',\n '{\"P\": [405, {\"Z\": [400, 407, 409]}]}',\n '{\"P\": [404, {\"Z\": [411, 415, 413]}]}',\n '{\"P\": [407, {\"Z\": [400, 409, 405]}]}',\n '{\"P\": [406, {\"Z\": [410, 419, 417]}]}',\n '{\"P\": [409, {\"Z\": [400, 405, 407]}]}',\n '{\"P\": [408]}',\n '{\"P\": [411, {\"Z\": [404, 413, 415]}]}',\n '{\"P\": [410, {\"Z\": [406, 417, 419]}]}',\n '{\"P\": [413, {\"Z\": [404, 415, 411]}]}',\n '{\"P\": [412]}',\n '{\"P\": [415, {\"Z\": [404, 411, 413]}]}',\n '{\"P\": [414]}',\n '{\"P\": [417, {\"Z\": [406, 419, 410]}]}',\n '{\"P\": [416]}',\n '{\"P\": [419, {\"Z\": [406, 410, 417]}]}',\n '{\"P\": [418]}',\n '{\"P\": [421, {\"Z\": [423, 425]}]}',\n '{\"P\": [420, {\"Z\": [427]}]}',\n '{\"P\": [423, {\"Z\": [421, 425]}]}',\n '{\"P\": [422, {\"Z\": [456, 461]}]}',\n '{\"P\": [425, {\"Z\": [421, 423]}]}',\n '{\"P\": [424]}',\n '{\"P\": [427, {\"Z\": [420]}]}',\n '{\"P\": [426, {\"Z\": [429, 431]}]}',\n '{\"P\": [429, {\"Z\": [426, 431]}]}',\n '{\"P\": [428, {\"Z\": [433, 435, 437]}]}',\n '{\"P\": [431, {\"Z\": [426, 429]}]}',\n '{\"P\": [430, {\"Z\": [457, 459]}]}',\n '{\"P\": [433, {\"Z\": [428, 437, 435]}]}',\n '{\"P\": [432, {\"Z\": [439, 443, 441]}]}',\n '{\"P\": [435, {\"Z\": [428, 433, 437]}]}',\n '{\"P\": [434, {\"Z\": [450]}]}',\n '{\"P\": [437, {\"Z\": [428, 435, 433]}]}',\n '{\"P\": [436]}',\n '{\"P\": [439, {\"Z\": [432, 441, 443]}]}',\n '{\"P\": [438, {\"Z\": [445, 447, 449]}]}',\n '{\"P\": [441, {\"Z\": [432, 443, 439]}]}',\n '{\"P\": [440]}',\n '{\"P\": [443, {\"Z\": [432, 439, 441]}]}',\n '{\"P\": [442]}',\n '{\"P\": [445, {\"Z\": [438, 449, 447]}]}',\n '{\"P\": [444, {\"Z\": [451, 453, 455]}]}',\n '{\"P\": [447, {\"Z\": [438, 445, 449]}]}',\n '{\"P\": [446]}',\n '{\"P\": [449, {\"Z\": [438, 447, 445]}]}',\n '{\"P\": [448]}',\n '{\"P\": [451, {\"Z\": [444, 455, 453]}]}',\n '{\"P\": [450, {\"Z\": [434]}]}',\n '{\"P\": [453, {\"Z\": [444, 451, 455]}]}',\n '{\"P\": [452]}',\n '{\"P\": [455, {\"Z\": [444, 453, 451]}]}',\n '{\"P\": [454]}',\n '{\"P\": [457, {\"Z\": [430, 459]}]}',\n '{\"P\": [456, {\"Z\": [422, 461]}]}',\n '{\"P\": [459, {\"Z\": [430, 457]}]}',\n '{\"P\": [458]}',\n '{\"P\": [461, {\"Z\": [422, 456]}]}',\n '{\"P\": [460, {\"Z\": [463, 467, 465]}]}',\n '{\"P\": [463, {\"Z\": [460, 465, 467]}]}',\n '{\"P\": [462, {\"Z\": [469, 471]}]}',\n '{\"P\": [465, {\"Z\": [460, 467, 463]}]}',\n '{\"P\": [464]}',\n '{\"P\": [467, {\"Z\": [460, 463, 465]}]}',\n '{\"P\": [466]}',\n '{\"P\": [469, {\"Z\": [462, 471]}]}',\n '{\"P\": [468, {\"Z\": [473, 477, 475]}]}',\n '{\"P\": [471, {\"Z\": [462, 469]}]}',\n '{\"P\": [470]}',\n '{\"P\": [473, {\"Z\": [468, 475, 477]}]}',\n '{\"P\": [472, {\"Z\": [479, 483, 481]}]}',\n '{\"P\": [475, {\"Z\": [468, 477, 473]}]}',\n '{\"P\": [474, {\"Z\": [478, 487, 485]}]}',\n '{\"P\": [477, {\"Z\": [468, 473, 475]}]}',\n '{\"P\": [476]}',\n '{\"P\": [479, {\"Z\": [472, 481, 483]}]}',\n '{\"P\": [478, {\"Z\": [474, 485, 487]}]}',\n '{\"P\": [481, {\"Z\": [472, 483, 479]}]}',\n '{\"P\": [480]}',\n '{\"P\": [483, {\"Z\": [472, 479, 481]}]}',\n '{\"P\": [482]}',\n '{\"P\": [485, {\"Z\": [474, 487, 478]}]}',\n '{\"P\": [484]}',\n '{\"P\": [487, {\"Z\": [474, 478, 485]}]}',\n '{\"P\": [486]}',\n '{\"P\": [489, {\"Z\": [491, 493]}]}',\n '{\"P\": [488, {\"Z\": [495]}]}',\n '{\"P\": [491, {\"Z\": [489, 493]}]}',\n '{\"P\": [490, {\"Z\": [526, 531]}]}',\n '{\"P\": [493, {\"Z\": [489, 491]}]}',\n '{\"P\": [492]}',\n '{\"P\": [495, {\"Z\": [488]}]}',\n '{\"P\": [494, {\"Z\": [497, 499]}]}',\n '{\"P\": [497, {\"Z\": [494, 499]}]}',\n '{\"P\": [496, {\"Z\": [501, 505, 503]}]}',\n '{\"P\": [499, {\"Z\": [494, 497]}]}',\n '{\"P\": [498, {\"Z\": [525]}]}',\n '{\"P\": [501, {\"Z\": [496, 503, 505]}]}',\n '{\"P\": [500, {\"Z\": [507, 509, 511]}]}',\n '{\"P\": [503, {\"Z\": [496, 505, 501]}]}',\n '{\"P\": [502, {\"Z\": [518, 521, 523]}]}',\n '{\"P\": [505, {\"Z\": [496, 501, 503]}]}',\n '{\"P\": [504]}',\n '{\"P\": [507, {\"Z\": [500, 511, 509]}]}',\n '{\"P\": [506, {\"Z\": [513, 515, 517]}]}',\n '{\"P\": [509, {\"Z\": [500, 507, 511]}]}',\n '{\"P\": [508]}',\n '{\"P\": [511, {\"Z\": [500, 509, 507]}]}',\n '{\"P\": [510]}',\n '{\"P\": [513, {\"Z\": [506, 517, 515]}]}',\n '{\"P\": [512, {\"Z\": [519]}]}',\n '{\"P\": [515, {\"Z\": [506, 513, 517]}]}',\n '{\"P\": [514]}',\n '{\"P\": [517, {\"Z\": [506, 515, 513]}]}',\n '{\"P\": [516]}',\n '{\"P\": [519, {\"Z\": [512]}]}',\n '{\"P\": [518, {\"Z\": [502, 523, 521]}]}',\n '{\"P\": [521, {\"Z\": [502, 518, 523]}]}',\n '{\"P\": [520]}',\n '{\"P\": [523, {\"Z\": [502, 521, 518]}]}',\n '{\"P\": [522]}',\n '{\"P\": [525, {\"Z\": [498]}]}',\n '{\"P\": [524, {\"Z\": [527, 529]}]}',\n '{\"P\": [527, {\"Z\": [524, 529]}]}',\n '{\"P\": [526, {\"Z\": [490, 531]}]}',\n '{\"P\": [529, {\"Z\": [524, 527]}]}',\n '{\"P\": [528]}',\n '{\"P\": [531, {\"Z\": [490, 526]}]}',\n '{\"P\": [530, {\"Z\": [533, 537, 535]}]}',\n '{\"P\": [533, {\"Z\": [530, 535, 537]}]}',\n '{\"P\": [532, {\"Z\": [539, 541]}]}',\n '{\"P\": [535, {\"Z\": [530, 537, 533]}]}',\n '{\"P\": [534]}',\n '{\"P\": [537, {\"Z\": [530, 533, 535]}]}',\n '{\"P\": [536]}',\n '{\"P\": [539, {\"Z\": [532, 541]}]}',\n '{\"P\": [538, {\"Z\": [543, 547, 545]}]}',\n '{\"P\": [541, {\"Z\": [532, 539]}]}',\n '{\"P\": [540]}',\n '{\"P\": [543, {\"Z\": [538, 545, 547]}]}',\n '{\"P\": [542, {\"Z\": [549, 553, 551]}]}',\n '{\"P\": [545, {\"Z\": [538, 547, 543]}]}',\n '{\"P\": [544, {\"Z\": [548, 557, 555]}]}',\n '{\"P\": [547, {\"Z\": [538, 543, 545]}]}',\n '{\"P\": [546]}',\n '{\"P\": [549, {\"Z\": [542, 551, 553]}]}',\n '{\"P\": [548, {\"Z\": [544, 555, 557]}]}',\n '{\"P\": [551, {\"Z\": [542, 553, 549]}]}',\n '{\"P\": [550]}',\n '{\"P\": [553, {\"Z\": [542, 549, 551]}]}',\n '{\"P\": [552]}',\n '{\"P\": [555, {\"Z\": [544, 557, 548]}]}',\n '{\"P\": [554]}',\n '{\"P\": [557, {\"Z\": [544, 548, 555]}]}',\n '{\"P\": [556]}',\n '{\"P\": [559, {\"Z\": [561, 563]}]}',\n '{\"P\": [558, {\"Z\": [565]}]}',\n '{\"P\": [561, {\"Z\": [559, 563]}]}',\n '{\"P\": [560, {\"Z\": [596, 601]}]}',\n '{\"P\": [563, {\"Z\": [559, 561]}]}',\n '{\"P\": [562]}',\n '{\"P\": [565, {\"Z\": [558]}]}',\n '{\"P\": [564, {\"Z\": [567, 569]}]}',\n '{\"P\": [567, {\"Z\": [564, 569]}]}',\n '{\"P\": [566, {\"Z\": [571, 573, 575]}]}',\n '{\"P\": [569, {\"Z\": [564, 567]}]}',\n '{\"P\": [568, {\"Z\": [595]}]}',\n '{\"P\": [571, {\"Z\": [566, 575, 573]}]}',\n '{\"P\": [570, {\"Z\": [577, 579, 581]}]}',\n '{\"P\": [573, {\"Z\": [566, 571, 575]}]}',\n '{\"P\": [572, {\"Z\": [588, 591, 593]}]}',\n '{\"P\": [575, {\"Z\": [566, 573, 571]}]}',\n '{\"P\": [574]}',\n '{\"P\": [577, {\"Z\": [570, 581, 579]}]}',\n '{\"P\": [576, {\"Z\": [583, 585, 587]}]}',\n '{\"P\": [579, {\"Z\": [570, 577, 581]}]}',\n '{\"P\": [578]}',\n '{\"P\": [581, {\"Z\": [570, 579, 577]}]}',\n '{\"P\": [580]}',\n '{\"P\": [583, {\"Z\": [576, 587, 585]}]}',\n '{\"P\": [582, {\"Z\": [589]}]}',\n '{\"P\": [585, {\"Z\": [576, 583, 587]}]}',\n '{\"P\": [584]}',\n '{\"P\": [587, {\"Z\": [576, 585, 583]}]}',\n '{\"P\": [586]}',\n '{\"P\": [589, {\"Z\": [582]}]}',\n '{\"P\": [588, {\"Z\": [572, 593, 591]}]}',\n '{\"P\": [591, {\"Z\": [572, 588, 593]}]}',\n '{\"P\": [590]}',\n '{\"P\": [593, {\"Z\": [572, 591, 588]}]}',\n '{\"P\": [592]}',\n '{\"P\": [595, {\"Z\": [568]}]}',\n '{\"P\": [594, {\"Z\": [597, 599]}]}',\n '{\"P\": [597, {\"Z\": [594, 599]}]}',\n '{\"P\": [596, {\"Z\": [560, 601]}]}',\n '{\"P\": [599, {\"Z\": [594, 597]}]}',\n '{\"P\": [598]}',\n '{\"P\": [601, {\"Z\": [560, 596]}]}',\n '{\"P\": [600, {\"Z\": [603, 607, 605]}]}',\n '{\"P\": [603, {\"Z\": [600, 605, 607]}]}',\n '{\"P\": [602, {\"Z\": [609, 611]}]}',\n '{\"P\": [605, {\"Z\": [600, 607, 603]}]}',\n '{\"P\": [604]}',\n '{\"P\": [607, {\"Z\": [600, 603, 605]}]}',\n '{\"P\": [606]}',\n '{\"P\": [609, {\"Z\": [602, 611]}]}',\n '{\"P\": [608, {\"Z\": [613, 617, 615]}]}',\n '{\"P\": [611, {\"Z\": [602, 609]}]}',\n '{\"P\": [610]}',\n '{\"P\": [613, {\"Z\": [608, 615, 617]}]}',\n '{\"P\": [612, {\"Z\": [619, 621, 623]}]}',\n '{\"P\": [615, {\"Z\": [608, 617, 613]}]}',\n '{\"P\": [614, {\"Z\": [618, 627, 625]}]}',\n '{\"P\": [617, {\"Z\": [608, 613, 615]}]}',\n '{\"P\": [616]}',\n '{\"P\": [619, {\"Z\": [612, 623, 621]}]}',\n '{\"P\": [618, {\"Z\": [614, 625, 627]}]}',\n '{\"P\": [621, {\"Z\": [612, 619, 623]}]}',\n '{\"P\": [620]}',\n '{\"P\": [623, {\"Z\": [612, 621, 619]}]}',\n '{\"P\": [622]}',\n '{\"P\": [625, {\"Z\": [614, 627, 618]}]}',\n '{\"P\": [624]}',\n '{\"P\": [627, {\"Z\": [614, 618, 625]}]}',\n '{\"P\": [626]}',\n '{\"P\": [629, {\"Z\": [631, 633]}]}',\n '{\"P\": [628, {\"Z\": [635]}]}',\n '{\"P\": [631, {\"Z\": [629, 633]}]}',\n '{\"P\": [630, {\"Z\": [702]}]}',\n '{\"P\": [633, {\"Z\": [629, 631]}]}',\n '{\"P\": [632]}',\n '{\"P\": [635, {\"Z\": [628]}]}',\n '{\"P\": [634, {\"Z\": [637, 639]}]}',\n '{\"P\": [637, {\"Z\": [634, 639]}]}',\n '{\"P\": [636, {\"Z\": [641, 643]}]}',\n '{\"P\": [639, {\"Z\": [634, 637]}]}',\n '{\"P\": [638, {\"Z\": [687, 689]}]}',\n '{\"P\": [641, {\"Z\": [636, 643]}]}',\n '{\"P\": [640, {\"Z\": [645, 649, 647]}]}',\n '{\"P\": [643, {\"Z\": [636, 641]}]}',\n '{\"P\": [642, {\"Z\": [660, 685, 683]}]}',\n '{\"P\": [645, {\"Z\": [640, 647, 649]}]}',\n '{\"P\": [644, {\"Z\": [651, 655, 653]}]}',\n '{\"P\": [647, {\"Z\": [640, 649, 645]}]}',\n '{\"P\": [646]}',\n '{\"P\": [649, {\"Z\": [640, 645, 647]}]}',\n '{\"P\": [648]}',\n '{\"P\": [651, {\"Z\": [644, 653, 655]}]}',\n '{\"P\": [650, {\"Z\": [657, 661, 659]}]}',\n '{\"P\": [653, {\"Z\": [644, 655, 651]}]}',\n '{\"P\": [652]}',\n '{\"P\": [655, {\"Z\": [644, 651, 653]}]}',\n '{\"P\": [654]}',\n '{\"P\": [657, {\"Z\": [650, 659, 661]}]}',\n '{\"P\": [656, {\"Z\": [663, 665, 667]}]}',\n '{\"P\": [659, {\"Z\": [650, 661, 657]}]}',\n '{\"P\": [658, {\"Z\": [674, 681]}]}',\n '{\"P\": [661, {\"Z\": [650, 657, 659]}]}',\n '{\"P\": [660, {\"Z\": [642, 683, 685]}]}',\n '{\"P\": [663, {\"Z\": [656, 667, 665]}]}',\n '{\"P\": [662, {\"Z\": [669, 673, 671]}]}',\n '{\"P\": [665, {\"Z\": [656, 663, 667]}]}',\n '{\"P\": [664]}',\n '{\"P\": [667, {\"Z\": [656, 665, 663]}]}',\n '{\"P\": [666]}',\n '{\"P\": [669, {\"Z\": [662, 671, 673]}]}',\n '{\"P\": [668, {\"Z\": [675, 677, 679]}]}',\n '{\"P\": [671, {\"Z\": [662, 673, 669]}]}',\n '{\"P\": [670]}',\n '{\"P\": [673, {\"Z\": [662, 669, 671]}]}',\n '{\"P\": [672]}',\n '{\"P\": [675, {\"Z\": [668, 679, 677]}]}',\n '{\"P\": [674, {\"Z\": [658, 681]}]}',\n '{\"P\": [677, {\"Z\": [668, 675, 679]}]}',\n '{\"P\": [676]}',\n '{\"P\": [679, {\"Z\": [668, 677, 675]}]}',\n '{\"P\": [678]}',\n '{\"P\": [681, {\"Z\": [658, 674]}]}',\n '{\"P\": [680]}',\n '{\"P\": [683, {\"Z\": [642, 685, 660]}]}',\n '{\"P\": [682]}',\n '{\"P\": [685, {\"Z\": [642, 660, 683]}]}',\n '{\"P\": [684]}',\n '{\"P\": [687, {\"Z\": [638, 689]}]}',\n '{\"P\": [686, {\"Z\": [691, 693]}]}',\n '{\"P\": [689, {\"Z\": [638, 687]}]}',\n '{\"P\": [688, {\"Z\": [698, 703]}]}',\n '{\"P\": [691, {\"Z\": [686, 693]}]}',\n '{\"P\": [690, {\"Z\": [695, 697]}]}',\n '{\"P\": [693, {\"Z\": [686, 691]}]}',\n '{\"P\": [692]}',\n '{\"P\": [695, {\"Z\": [690, 697]}]}',\n '{\"P\": [694, {\"Z\": [699, 701]}]}',\n '{\"P\": [697, {\"Z\": [690, 695]}]}',\n '{\"P\": [696]}',\n '{\"P\": [699, {\"Z\": [694, 701]}]}',\n '{\"P\": [698, {\"Z\": [688, 703]}]}',\n '{\"P\": [701, {\"Z\": [694, 699]}]}',\n '{\"P\": [700]}',\n '{\"P\": [703, {\"Z\": [688, 698]}]}',\n '{\"P\": [702, {\"Z\": [630]}]}',\n '{\"P\": [705, {\"Z\": [707, 709]}]}',\n '{\"P\": [704, {\"Z\": [711]}]}',\n '{\"P\": [707, {\"Z\": [705, 709]}]}',\n '{\"P\": [706, {\"Z\": [778]}]}',\n '{\"P\": [709, {\"Z\": [705, 707]}]}',\n '{\"P\": [708]}',\n '{\"P\": [711, {\"Z\": [704]}]}',\n '{\"P\": [710, {\"Z\": [713, 715]}]}',\n '{\"P\": [713, {\"Z\": [710, 715]}]}',\n '{\"P\": [712, {\"Z\": [717, 719]}]}',\n '{\"P\": [715, {\"Z\": [710, 713]}]}',\n '{\"P\": [714, {\"Z\": [763, 765]}]}',\n '{\"P\": [717, {\"Z\": [712, 719]}]}',\n '{\"P\": [716, {\"Z\": [721, 725, 723]}]}',\n '{\"P\": [719, {\"Z\": [712, 717]}]}',\n '{\"P\": [718, {\"Z\": [736, 761, 759]}]}',\n '{\"P\": [721, {\"Z\": [716, 723, 725]}]}',\n '{\"P\": [720, {\"Z\": [727, 731, 729]}]}',\n '{\"P\": [723, {\"Z\": [716, 725, 721]}]}',\n '{\"P\": [722]}',\n '{\"P\": [725, {\"Z\": [716, 721, 723]}]}',\n '{\"P\": [724]}',\n '{\"P\": [727, {\"Z\": [720, 729, 731]}]}',\n '{\"P\": [726, {\"Z\": [733, 735, 737]}]}',\n '{\"P\": [729, {\"Z\": [720, 731, 727]}]}',\n '{\"P\": [728]}',\n '{\"P\": [731, {\"Z\": [720, 727, 729]}]}',\n '{\"P\": [730]}',\n '{\"P\": [733, {\"Z\": [726, 737, 735]}]}',\n '{\"P\": [732, {\"Z\": [739, 743, 741]}]}',\n '{\"P\": [735, {\"Z\": [726, 733, 737]}]}',\n '{\"P\": [734, {\"Z\": [750, 757]}]}',\n '{\"P\": [737, {\"Z\": [726, 735, 733]}]}',\n '{\"P\": [736, {\"Z\": [718, 759, 761]}]}',\n '{\"P\": [739, {\"Z\": [732, 741, 743]}]}',\n '{\"P\": [738, {\"Z\": [745, 749, 747]}]}',\n '{\"P\": [741, {\"Z\": [732, 743, 739]}]}',\n '{\"P\": [740]}',\n '{\"P\": [743, {\"Z\": [732, 739, 741]}]}',\n '{\"P\": [742]}',\n '{\"P\": [745, {\"Z\": [738, 747, 749]}]}',\n '{\"P\": [744, {\"Z\": [751, 753, 755]}]}',\n '{\"P\": [747, {\"Z\": [738, 749, 745]}]}',\n '{\"P\": [746]}',\n '{\"P\": [749, {\"Z\": [738, 745, 747]}]}',\n '{\"P\": [748]}',\n '{\"P\": [751, {\"Z\": [744, 755, 753]}]}',\n '{\"P\": [750, {\"Z\": [734, 757]}]}',\n '{\"P\": [753, {\"Z\": [744, 751, 755]}]}',\n '{\"P\": [752]}',\n '{\"P\": [755, {\"Z\": [744, 753, 751]}]}',\n '{\"P\": [754]}',\n '{\"P\": [757, {\"Z\": [734, 750]}]}',\n '{\"P\": [756]}',\n '{\"P\": [759, {\"Z\": [718, 761, 736]}]}',\n '{\"P\": [758]}',\n '{\"P\": [761, {\"Z\": [718, 736, 759]}]}',\n '{\"P\": [760]}',\n '{\"P\": [763, {\"Z\": [714, 765]}]}',\n '{\"P\": [762, {\"Z\": [767, 769]}]}',\n '{\"P\": [765, {\"Z\": [714, 763]}]}',\n '{\"P\": [764, {\"Z\": [774, 779]}]}',\n '{\"P\": [767, {\"Z\": [762, 769]}]}',\n '{\"P\": [766, {\"Z\": [771, 773]}]}',\n '{\"P\": [769, {\"Z\": [762, 767]}]}',\n '{\"P\": [768]}',\n '{\"P\": [771, {\"Z\": [766, 773]}]}',\n '{\"P\": [770, {\"Z\": [775, 777]}]}',\n '{\"P\": [773, {\"Z\": [766, 771]}]}',\n '{\"P\": [772]}',\n '{\"P\": [775, {\"Z\": [770, 777]}]}',\n '{\"P\": [774, {\"Z\": [764, 779]}]}',\n '{\"P\": [777, {\"Z\": [770, 775]}]}',\n '{\"P\": [776]}',\n '{\"P\": [779, {\"Z\": [764, 774]}]}',\n '{\"P\": [778, {\"Z\": [706]}]}',\n '{\"P\": [781, {\"Z\": [783, 785]}]}',\n '{\"P\": [780, {\"Z\": [787]}]}',\n '{\"P\": [783, {\"Z\": [781, 785]}]}',\n '{\"P\": [782, {\"Z\": [854]}]}',\n '{\"P\": [785, {\"Z\": [781, 783]}]}',\n '{\"P\": [784]}',\n '{\"P\": [787, {\"Z\": [780]}]}',\n '{\"P\": [786, {\"Z\": [789, 791]}]}',\n '{\"P\": [789, {\"Z\": [786, 791]}]}',\n '{\"P\": [788, {\"Z\": [793, 795]}]}',\n '{\"P\": [791, {\"Z\": [786, 789]}]}',\n '{\"P\": [790, {\"Z\": [839, 841]}]}',\n '{\"P\": [793, {\"Z\": [788, 795]}]}',\n '{\"P\": [792, {\"Z\": [797, 799, 801]}]}',\n '{\"P\": [795, {\"Z\": [788, 793]}]}',\n '{\"P\": [794, {\"Z\": [808, 817, 815]}]}',\n '{\"P\": [797, {\"Z\": [792, 801, 799]}]}',\n '{\"P\": [796, {\"Z\": [803, 807, 805]}]}',\n '{\"P\": [799, {\"Z\": [792, 797, 801]}]}',\n '{\"P\": [798]}',\n '{\"P\": [801, {\"Z\": [792, 799, 797]}]}',\n '{\"P\": [800]}',\n '{\"P\": [803, {\"Z\": [796, 805, 807]}]}',\n '{\"P\": [802, {\"Z\": [809, 811, 813]}]}',\n '{\"P\": [805, {\"Z\": [796, 807, 803]}]}',\n '{\"P\": [804]}',\n '{\"P\": [807, {\"Z\": [796, 803, 805]}]}',\n '{\"P\": [806]}',\n '{\"P\": [809, {\"Z\": [802, 813, 811]}]}',\n '{\"P\": [808, {\"Z\": [794, 815, 817]}]}',\n '{\"P\": [811, {\"Z\": [802, 809, 813]}]}',\n '{\"P\": [810]}',\n '{\"P\": [813, {\"Z\": [802, 811, 809]}]}',\n '{\"P\": [812]}',\n '{\"P\": [815, {\"Z\": [794, 817, 808]}]}',\n '{\"P\": [814, {\"Z\": [819, 823, 821]}]}',\n '{\"P\": [817, {\"Z\": [794, 808, 815]}]}',\n '{\"P\": [816]}',\n '{\"P\": [819, {\"Z\": [814, 821, 823]}]}',\n '{\"P\": [818, {\"Z\": [825, 827]}]}',\n '{\"P\": [821, {\"Z\": [814, 823, 819]}]}',\n '{\"P\": [820]}',\n '{\"P\": [823, {\"Z\": [814, 819, 821]}]}',\n '{\"P\": [822]}',\n '{\"P\": [825, {\"Z\": [818, 827]}]}',\n '{\"P\": [824, {\"Z\": [829, 831]}]}',\n '{\"P\": [827, {\"Z\": [818, 825]}]}',\n '{\"P\": [826, {\"Z\": [834]}]}',\n '{\"P\": [829, {\"Z\": [824, 831]}]}',\n '{\"P\": [828, {\"Z\": [833]}]}',\n '{\"P\": [831, {\"Z\": [824, 829]}]}',\n '{\"P\": [830]}',\n '{\"P\": [833, {\"Z\": [828]}]}',\n '{\"P\": [832, {\"Z\": [835, 837]}]}',\n '{\"P\": [835, {\"Z\": [832, 837]}]}',\n '{\"P\": [834, {\"Z\": [826]}]}',\n '{\"P\": [837, {\"Z\": [832, 835]}]}',\n '{\"P\": [836]}',\n '{\"P\": [839, {\"Z\": [790, 841]}]}',\n '{\"P\": [838, {\"Z\": [843, 845]}]}',\n '{\"P\": [841, {\"Z\": [790, 839]}]}',\n '{\"P\": [840, {\"Z\": [850, 855]}]}',\n '{\"P\": [843, {\"Z\": [838, 845]}]}',\n '{\"P\": [842, {\"Z\": [847, 849]}]}',\n '{\"P\": [845, {\"Z\": [838, 843]}]}',\n '{\"P\": [844]}',\n '{\"P\": [847, {\"Z\": [842, 849]}]}',\n '{\"P\": [846, {\"Z\": [851, 853]}]}',\n '{\"P\": [849, {\"Z\": [842, 847]}]}',\n '{\"P\": [848]}',\n '{\"P\": [851, {\"Z\": [846, 853]}]}',\n '{\"P\": [850, {\"Z\": [840, 855]}]}',\n '{\"P\": [853, {\"Z\": [846, 851]}]}',\n '{\"P\": [852]}',\n '{\"P\": [855, {\"Z\": [840, 850]}]}',\n '{\"P\": [854, {\"Z\": [782]}]}',\n '{\"P\": [857, {\"Z\": [859, 861]}]}',\n '{\"P\": [856, {\"Z\": [863]}]}',\n '{\"P\": [859, {\"Z\": [857, 861]}]}',\n '{\"P\": [858, {\"Z\": [930]}]}',\n '{\"P\": [861, {\"Z\": [857, 859]}]}',\n '{\"P\": [860]}',\n '{\"P\": [863, {\"Z\": [856]}]}',\n '{\"P\": [862, {\"Z\": [865, 867]}]}',\n '{\"P\": [865, {\"Z\": [862, 867]}]}',\n '{\"P\": [864, {\"Z\": [869, 871]}]}',\n '{\"P\": [867, {\"Z\": [862, 865]}]}',\n '{\"P\": [866, {\"Z\": [915, 917]}]}',\n '{\"P\": [869, {\"Z\": [864, 871]}]}',\n '{\"P\": [868, {\"Z\": [873, 875, 877]}]}',\n '{\"P\": [871, {\"Z\": [864, 869]}]}',\n '{\"P\": [870, {\"Z\": [884, 891, 893]}]}',\n '{\"P\": [873, {\"Z\": [868, 877, 875]}]}',\n '{\"P\": [872, {\"Z\": [879, 883, 881]}]}',\n '{\"P\": [875, {\"Z\": [868, 873, 877]}]}',\n '{\"P\": [874]}',\n '{\"P\": [877, {\"Z\": [868, 875, 873]}]}',\n '{\"P\": [876]}',\n '{\"P\": [879, {\"Z\": [872, 881, 883]}]}',\n '{\"P\": [878, {\"Z\": [885, 889, 887]}]}',\n '{\"P\": [881, {\"Z\": [872, 883, 879]}]}',\n '{\"P\": [880]}',\n '{\"P\": [883, {\"Z\": [872, 879, 881]}]}',\n '{\"P\": [882]}',\n '{\"P\": [885, {\"Z\": [878, 887, 889]}]}',\n '{\"P\": [884, {\"Z\": [870, 893, 891]}]}',\n '{\"P\": [887, {\"Z\": [878, 889, 885]}]}',\n '{\"P\": [886]}',\n '{\"P\": [889, {\"Z\": [878, 885, 887]}]}',\n '{\"P\": [888]}',\n '{\"P\": [891, {\"Z\": [870, 884, 893]}]}',\n '{\"P\": [890, {\"Z\": [895, 899, 897]}]}',\n '{\"P\": [893, {\"Z\": [870, 891, 884]}]}',\n '{\"P\": [892]}',\n '{\"P\": [895, {\"Z\": [890, 897, 899]}]}',\n '{\"P\": [894, {\"Z\": [901, 903]}]}',\n '{\"P\": [897, {\"Z\": [890, 899, 895]}]}',\n '{\"P\": [896]}',\n '{\"P\": [899, {\"Z\": [890, 895, 897]}]}',\n '{\"P\": [898]}',\n '{\"P\": [901, {\"Z\": [894, 903]}]}',\n '{\"P\": [900, {\"Z\": [905, 907]}]}',\n '{\"P\": [903, {\"Z\": [894, 901]}]}',\n '{\"P\": [902, {\"Z\": [910]}]}',\n '{\"P\": [905, {\"Z\": [900, 907]}]}',\n '{\"P\": [904, {\"Z\": [909]}]}',\n '{\"P\": [907, {\"Z\": [900, 905]}]}',\n '{\"P\": [906]}',\n '{\"P\": [909, {\"Z\": [904]}]}',\n '{\"P\": [908, {\"Z\": [911, 913]}]}',\n '{\"P\": [911, {\"Z\": [908, 913]}]}',\n '{\"P\": [910, {\"Z\": [902]}]}',\n '{\"P\": [913, {\"Z\": [908, 911]}]}',\n '{\"P\": [912]}',\n '{\"P\": [915, {\"Z\": [866, 917]}]}',\n '{\"P\": [914, {\"Z\": [919, 921]}]}',\n '{\"P\": [917, {\"Z\": [866, 915]}]}',\n '{\"P\": [916, {\"Z\": [926, 931]}]}',\n '{\"P\": [919, {\"Z\": [914, 921]}]}',\n '{\"P\": [918, {\"Z\": [923, 925]}]}',\n '{\"P\": [921, {\"Z\": [914, 919]}]}',\n '{\"P\": [920]}',\n '{\"P\": [923, {\"Z\": [918, 925]}]}',\n '{\"P\": [922, {\"Z\": [927, 929]}]}',\n '{\"P\": [925, {\"Z\": [918, 923]}]}',\n '{\"P\": [924]}',\n '{\"P\": [927, {\"Z\": [922, 929]}]}',\n '{\"P\": [926, {\"Z\": [916, 931]}]}',\n '{\"P\": [929, {\"Z\": [922, 927]}]}',\n '{\"P\": [928]}',\n '{\"P\": [931, {\"Z\": [916, 926]}]}',\n '{\"P\": [930, {\"Z\": [858]}]}',\n '{\"P\": [933, {\"Z\": [935, 937]}]}',\n '{\"P\": [932, {\"Z\": [939]}]}',\n '{\"P\": [935, {\"Z\": [933, 937]}]}',\n '{\"P\": [934, {\"Z\": [1024]}]}',\n '{\"P\": [937, {\"Z\": [933, 935]}]}',\n '{\"P\": [936]}',\n '{\"P\": [939, {\"Z\": [932]}]}',\n '{\"P\": [938, {\"Z\": [941, 943]}]}',\n '{\"P\": [941, {\"Z\": [938, 943]}]}',\n '{\"P\": [940, {\"Z\": [945, 947]}]}',\n '{\"P\": [943, {\"Z\": [938, 941]}]}',\n '{\"P\": [942, {\"Z\": [1009, 1011]}]}',\n '{\"P\": [945, {\"Z\": [940, 947]}]}',\n '{\"P\": [944, {\"Z\": [949, 951, 953]}]}',\n '{\"P\": [947, {\"Z\": [940, 945]}]}',\n '{\"P\": [946, {\"Z\": [970, 1007, 1005]}]}',\n '{\"P\": [949, {\"Z\": [944, 953, 951]}]}',\n '{\"P\": [948, {\"Z\": [955, 957, 959]}]}',\n '{\"P\": [951, {\"Z\": [944, 949, 953]}]}',\n '{\"P\": [950]}',\n '{\"P\": [953, {\"Z\": [944, 951, 949]}]}',\n '{\"P\": [952]}',\n '{\"P\": [955, {\"Z\": [948, 959, 957]}]}',\n '{\"P\": [954, {\"Z\": [961, 963, 965]}]}',\n '{\"P\": [957, {\"Z\": [948, 955, 959]}]}',\n '{\"P\": [956]}',\n '{\"P\": [959, {\"Z\": [948, 957, 955]}]}',\n '{\"P\": [958]}',\n '{\"P\": [961, {\"Z\": [954, 965, 963]}]}',\n '{\"P\": [960, {\"Z\": [967, 971, 969]}]}',\n '{\"P\": [963, {\"Z\": [954, 961, 965]}]}',\n '{\"P\": [962]}',\n '{\"P\": [965, {\"Z\": [954, 963, 961]}]}',\n '{\"P\": [964]}',\n '{\"P\": [967, {\"Z\": [960, 969, 971]}]}',\n '{\"P\": [966, {\"Z\": [973, 977, 975]}]}',\n '{\"P\": [969, {\"Z\": [960, 971, 967]}]}',\n '{\"P\": [968, {\"Z\": [996, 1003]}]}',\n '{\"P\": [971, {\"Z\": [960, 967, 969]}]}',\n '{\"P\": [970, {\"Z\": [946, 1005, 1007]}]}',\n '{\"P\": [973, {\"Z\": [966, 975, 977]}]}',\n '{\"P\": [972, {\"Z\": [979, 983, 981]}]}',\n '{\"P\": [975, {\"Z\": [966, 977, 973]}]}',\n '{\"P\": [974]}',\n '{\"P\": [977, {\"Z\": [966, 973, 975]}]}',\n '{\"P\": [976]}',\n '{\"P\": [979, {\"Z\": [972, 981, 983]}]}',\n '{\"P\": [978, {\"Z\": [985, 987, 989]}]}',\n '{\"P\": [981, {\"Z\": [972, 983, 979]}]}',\n '{\"P\": [980]}',\n '{\"P\": [983, {\"Z\": [972, 979, 981]}]}',\n '{\"P\": [982]}',\n '{\"P\": [985, {\"Z\": [978, 989, 987]}]}',\n '{\"P\": [984, {\"Z\": [991, 993, 995]}]}',\n '{\"P\": [987, {\"Z\": [978, 985, 989]}]}',\n '{\"P\": [986]}',\n '{\"P\": [989, {\"Z\": [978, 987, 985]}]}',\n '{\"P\": [988]}',\n '{\"P\": [991, {\"Z\": [984, 995, 993]}]}',\n '{\"P\": [990, {\"Z\": [997, 999, 1001]}]}',\n '{\"P\": [993, {\"Z\": [984, 991, 995]}]}',\n '{\"P\": [992]}',\n '{\"P\": [995, {\"Z\": [984, 993, 991]}]}',\n '{\"P\": [994]}',\n '{\"P\": [997, {\"Z\": [990, 1001, 999]}]}',\n '{\"P\": [996, {\"Z\": [968, 1003]}]}',\n '{\"P\": [999, {\"Z\": [990, 997, 1001]}]}',\n '{\"P\": [998]}',\n ...]"
     },
     "metadata": {},
     "output_type": "display_data"
    }
   ],
   "source": [
    "permutation_trees = batch.ptree\n",
    "display(permutation_trees)"
   ],
   "metadata": {
    "collapsed": false,
    "ExecuteTime": {
     "start_time": "2024-03-14T19:47:04.932032Z",
     "end_time": "2024-03-14T19:47:04.972165Z"
    }
   }
  },
  {
   "cell_type": "code",
   "execution_count": 13,
   "outputs": [],
   "source": [
    "ptree = permutation_trees[0]"
   ],
   "metadata": {
    "collapsed": false,
    "ExecuteTime": {
     "start_time": "2024-03-14T19:49:14.336339Z",
     "end_time": "2024-03-14T19:49:14.371845Z"
    }
   }
  },
  {
   "cell_type": "code",
   "execution_count": 14,
   "outputs": [
    {
     "data": {
      "text/plain": "{'P': [1, {'Z': [3, 5]}]}"
     },
     "metadata": {},
     "output_type": "display_data"
    }
   ],
   "source": [
    "import json\n",
    "display(json.loads(ptree))"
   ],
   "metadata": {
    "collapsed": false,
    "ExecuteTime": {
     "start_time": "2024-03-14T19:49:46.384899Z",
     "end_time": "2024-03-14T19:49:46.402896Z"
    }
   }
  },
  {
   "cell_type": "code",
   "execution_count": 15,
   "outputs": [],
   "source": [
    "ptree = {\n",
    "    'Q': [\n",
    "        1,\n",
    "        {\n",
    "            'C': [\n",
    "                2,\n",
    "                3,\n",
    "                4,\n",
    "                5,\n",
    "            ]\n",
    "        }\n",
    "    ]\n",
    "}"
   ],
   "metadata": {
    "collapsed": false,
    "ExecuteTime": {
     "start_time": "2024-03-14T20:01:27.760886Z",
     "end_time": "2024-03-14T20:01:27.799884Z"
    }
   }
  },
  {
   "cell_type": "code",
   "execution_count": 16,
   "outputs": [],
   "source": [
    "def invert_ptree(perm_tree: dict):\n",
    "    key = next(iter(perm_tree.keys()))\n",
    "    return {\n",
    "        key: perm_tree[key][::-1]\n",
    "    }"
   ],
   "metadata": {
    "collapsed": false,
    "ExecuteTime": {
     "start_time": "2024-03-14T20:07:48.081192Z",
     "end_time": "2024-03-14T20:07:48.124702Z"
    }
   }
  },
  {
   "cell_type": "code",
   "execution_count": 23,
   "outputs": [],
   "source": [
    "def remove_inverted_through_p(perm_tree: dict):\n",
    "    if isinstance(perm_tree, int):\n",
    "        return perm_tree\n",
    "\n",
    "    key = next(iter(perm_tree.keys()))\n",
    "    if key == \"Q\":\n",
    "        return {\n",
    "            \"P\": [\n",
    "                {\n",
    "                    \"S\": [\n",
    "                        remove_inverted_through_p(subtree)\n",
    "                        for subtree in perm_tree[key]\n",
    "                    ]\n",
    "                },\n",
    "                {\n",
    "                    \"S\": [\n",
    "                        remove_inverted_through_p(subtree)\n",
    "                        for subtree in perm_tree[key]\n",
    "                    ][::-1]\n",
    "                }\n",
    "            ]\n",
    "        }\n",
    "    elif key == \"C\":\n",
    "        return {\n",
    "            \"P\": [\n",
    "                {\n",
    "                    \"Z\": perm_tree[key]\n",
    "                },\n",
    "                {\n",
    "                    \"Z\": [\n",
    "                             remove_inverted_through_p(subtree)\n",
    "                             for subtree in perm_tree[key]\n",
    "                         ][::-1]\n",
    "                }\n",
    "            ]\n",
    "        }\n",
    "    else:\n",
    "        return perm_tree"
   ],
   "metadata": {
    "collapsed": false,
    "ExecuteTime": {
     "start_time": "2024-03-14T21:04:00.046847Z",
     "end_time": "2024-03-14T21:04:00.061852Z"
    }
   }
  },
  {
   "cell_type": "code",
   "execution_count": 26,
   "outputs": [
    {
     "data": {
      "text/plain": "{'P': [{'S': [1, {'P': [{'Z': [2, 3, 4, 5]}, {'Z': [5, 4, 3, 2]}]}]},\n  {'S': [{'P': [{'Z': [2, 3, 4, 5]}, {'Z': [5, 4, 3, 2]}]}, 1]}]}"
     },
     "execution_count": 26,
     "metadata": {},
     "output_type": "execute_result"
    }
   ],
   "source": [
    "remove_inverted_through_p(ptree)"
   ],
   "metadata": {
    "collapsed": false,
    "ExecuteTime": {
     "start_time": "2024-03-14T21:04:39.270914Z",
     "end_time": "2024-03-14T21:04:39.287918Z"
    }
   }
  },
  {
   "cell_type": "code",
   "execution_count": null,
   "outputs": [],
   "source": [
    "transformed = {\n",
    "    'P': [\n",
    "        {\n",
    "            'S': [\n",
    "                1,\n",
    "                {\n",
    "                    'P': [\n",
    "                        {\n",
    "                            'Z': [2, 3, 4, 5]\n",
    "                        },\n",
    "                        {\n",
    "                            'Z': [5, 4, 3, 2]\n",
    "                        }\n",
    "                    ]\n",
    "                }\n",
    "            ]\n",
    "        },\n",
    "        {\n",
    "            'S': [\n",
    "                {\n",
    "                    'P': [\n",
    "                        {\n",
    "                            'Z': [2, 3, 4, 5]\n",
    "                        },\n",
    "                        {\n",
    "                            'Z': [5, 4, 3, 2]\n",
    "                        }\n",
    "                    ]\n",
    "                },\n",
    "                1\n",
    "            ]\n",
    "        }\n",
    "    ]\n",
    "}"
   ],
   "metadata": {
    "collapsed": false
   }
  },
  {
   "cell_type": "markdown",
   "source": [
    "## Testing dataset config for permutation tree generation"
   ],
   "metadata": {
    "collapsed": false
   }
  },
  {
   "cell_type": "code",
   "execution_count": 1,
   "outputs": [],
   "source": [
    "from ptgnn.runtime_config.run_config import fetch_loaders"
   ],
   "metadata": {
    "collapsed": false,
    "ExecuteTime": {
     "start_time": "2024-03-18T19:11:21.249238Z",
     "end_time": "2024-03-18T19:11:24.734505Z"
    }
   }
  },
  {
   "cell_type": "code",
   "execution_count": 2,
   "outputs": [],
   "source": [
    "data_config = {\n",
    "    'dataset' : {\n",
    "        'type' : \"rs\",\n",
    "        'mask_chiral_tags': True,\n",
    "        'graph_mode': 'edge',\n",
    "        'transformation_mode': 'permutation_tree',\n",
    "        'transformation_parameters': {\n",
    "            'k': 3\n",
    "        }\n",
    "    },\n",
    "    'loader': {\n",
    "        'general': {\n",
    "            'n_neighbors_in_circle': 3,\n",
    "            'batch_size': 32,\n",
    "            'num_workers': 0,\n",
    "        },\n",
    "        'train': {},\n",
    "        'test': {},\n",
    "        'val': {}\n",
    "    }\n",
    "}"
   ],
   "metadata": {
    "collapsed": false,
    "ExecuteTime": {
     "start_time": "2024-03-18T19:11:24.736505Z",
     "end_time": "2024-03-18T19:11:24.747506Z"
    }
   }
  },
  {
   "cell_type": "code",
   "execution_count": 3,
   "outputs": [],
   "source": [
    "train_loader, _, val_loader = fetch_loaders(data_config=data_config)"
   ],
   "metadata": {
    "collapsed": false,
    "ExecuteTime": {
     "start_time": "2024-03-18T19:11:24.748506Z",
     "end_time": "2024-03-18T19:11:40.523656Z"
    }
   }
  },
  {
   "cell_type": "code",
   "execution_count": 6,
   "outputs": [],
   "source": [
    "from tqdm import tqdm"
   ],
   "metadata": {
    "collapsed": false,
    "ExecuteTime": {
     "start_time": "2024-03-18T19:12:08.149680Z",
     "end_time": "2024-03-18T19:12:08.164680Z"
    }
   }
  },
  {
   "cell_type": "code",
   "execution_count": 7,
   "outputs": [
    {
     "name": "stderr",
     "output_type": "stream",
     "text": [
      "100%|██████████| 365/365 [00:08<00:00, 45.56it/s]\n"
     ]
    }
   ],
   "source": [
    "for batch in tqdm(val_loader):\n",
    "    # display(batch)\n",
    "    # break\n",
    "    continue"
   ],
   "metadata": {
    "collapsed": false,
    "ExecuteTime": {
     "start_time": "2024-03-18T19:12:08.743172Z",
     "end_time": "2024-03-18T19:12:16.763716Z"
    }
   }
  },
  {
   "cell_type": "code",
   "execution_count": null,
   "outputs": [],
   "source": [],
   "metadata": {
    "collapsed": false
   }
  },
  {
   "cell_type": "code",
   "execution_count": null,
   "outputs": [],
   "source": [],
   "metadata": {
    "collapsed": false
   }
  },
  {
   "cell_type": "code",
   "execution_count": null,
   "outputs": [],
   "source": [],
   "metadata": {
    "collapsed": false
   }
  },
  {
   "cell_type": "code",
   "execution_count": null,
   "outputs": [],
   "source": [],
   "metadata": {
    "collapsed": false
   }
  }
 ],
 "metadata": {
  "kernelspec": {
   "display_name": "Python 3",
   "language": "python",
   "name": "python3"
  },
  "language_info": {
   "codemirror_mode": {
    "name": "ipython",
    "version": 2
   },
   "file_extension": ".py",
   "mimetype": "text/x-python",
   "name": "python",
   "nbconvert_exporter": "python",
   "pygments_lexer": "ipython2",
   "version": "2.7.6"
  }
 },
 "nbformat": 4,
 "nbformat_minor": 0
}
