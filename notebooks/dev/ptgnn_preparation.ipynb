{
 "cells": [
  {
   "cell_type": "code",
   "execution_count": 1,
   "outputs": [],
   "source": [
    "import torch\n",
    "\n",
    "from ptgnn.transform.ptree_matrix import permutation_tree_to_matrix"
   ],
   "metadata": {
    "collapsed": false,
    "ExecuteTime": {
     "start_time": "2024-03-14T18:52:56.315512Z",
     "end_time": "2024-03-14T18:52:58.226765Z"
    }
   }
  },
  {
   "cell_type": "code",
   "execution_count": 2,
   "outputs": [],
   "source": [
    "from ptgnn.runtime_config.run_config import fetch_loaders"
   ],
   "metadata": {
    "collapsed": false,
    "ExecuteTime": {
     "start_time": "2024-03-14T18:52:58.226765Z",
     "end_time": "2024-03-14T18:53:00.158637Z"
    }
   }
  },
  {
   "cell_type": "code",
   "execution_count": 3,
   "outputs": [],
   "source": [
    "data_config = {\n",
    "    'dataset' : {\n",
    "        'type' : \"rs\",\n",
    "        'mask_chiral_tags': True,\n",
    "        'transformation_mode': 'chienn_tree_basic',\n",
    "    },\n",
    "    'loader': {\n",
    "        'general': {\n",
    "            'n_neighbors_in_circle': 3,\n",
    "            'batch_size': 32,\n",
    "            'num_workers': 0,\n",
    "        },\n",
    "        'train': {},\n",
    "        'test': {},\n",
    "        'val': {}\n",
    "    }\n",
    "}"
   ],
   "metadata": {
    "collapsed": false,
    "ExecuteTime": {
     "start_time": "2024-03-14T18:53:00.160624Z",
     "end_time": "2024-03-14T18:53:00.173730Z"
    }
   }
  },
  {
   "cell_type": "code",
   "execution_count": 4,
   "outputs": [],
   "source": [
    "train_loader, _, val_loader = fetch_loaders(data_config=data_config)"
   ],
   "metadata": {
    "collapsed": false,
    "ExecuteTime": {
     "start_time": "2024-03-14T18:53:00.174728Z",
     "end_time": "2024-03-14T18:53:04.251929Z"
    }
   }
  },
  {
   "cell_type": "code",
   "execution_count": 5,
   "outputs": [
    {
     "data": {
      "text/plain": "DataBatch(x=[2356, 118], edge_index=[2, 6416], edge_attr=[6416, 80], pos=[2356, 6], y=[32], batch=[2356], ptr=[33], ptree=[2356])"
     },
     "metadata": {},
     "output_type": "display_data"
    }
   ],
   "source": [
    "for batch in val_loader:\n",
    "    display(batch)\n",
    "    break"
   ],
   "metadata": {
    "collapsed": false,
    "ExecuteTime": {
     "start_time": "2024-03-14T18:53:04.254929Z",
     "end_time": "2024-03-14T18:53:04.314100Z"
    }
   }
  },
  {
   "cell_type": "markdown",
   "source": [
    "# part in collation and part possible in preprocessing"
   ],
   "metadata": {
    "collapsed": false
   }
  },
  {
   "cell_type": "code",
   "execution_count": 6,
   "outputs": [],
   "source": [
    "k = 3"
   ],
   "metadata": {
    "collapsed": false,
    "ExecuteTime": {
     "start_time": "2024-03-14T18:53:04.285930Z",
     "end_time": "2024-03-14T18:53:04.323659Z"
    }
   }
  },
  {
   "cell_type": "code",
   "execution_count": 7,
   "outputs": [
    {
     "data": {
      "text/plain": "['{\"P\": [1, {\"Z\": [3, 4, 5]}]}']"
     },
     "metadata": {},
     "output_type": "display_data"
    },
    {
     "data": {
      "text/plain": "tensor([[   0,    0,    1,    1],\n        [   1,    0,    0,    0],\n        [   1,    1,    0,    3],\n        ...,\n        [2354,    1,    1, 2351],\n        [2354,    1,    2, 2353],\n        [2355,    0, 2354, 2354]])"
     },
     "metadata": {},
     "output_type": "display_data"
    },
    {
     "data": {
      "text/plain": "tensor([[1, 0],\n        [1, 0],\n        [1, 2],\n        ...,\n        [1, 2],\n        [1, 2],\n        [1, 0]])"
     },
     "metadata": {},
     "output_type": "display_data"
    }
   ],
   "source": [
    "# pt = [batch.ptree[0]]\n",
    "pt = ['{\"P\": [1, {\"Z\": [3, 4, 5]}]}']\n",
    "k = 2\n",
    "display(pt)\n",
    "idx_matrix, type_matrix = permutation_tree_to_matrix(batch.ptree, k)\n",
    "display(idx_matrix)\n",
    "display(type_matrix)"
   ],
   "metadata": {
    "collapsed": false,
    "ExecuteTime": {
     "start_time": "2024-03-14T18:53:04.301929Z",
     "end_time": "2024-03-14T18:53:04.547906Z"
    }
   }
  },
  {
   "cell_type": "code",
   "execution_count": 11,
   "outputs": [
    {
     "data": {
      "text/plain": "DataBatch(x=[2356, 118], edge_index=[2, 6416], edge_attr=[6416, 80], pos=[2356, 6], y=[32], batch=[2356], ptr=[33], ptree=[2356], initial_map=[6416], layer0_order_matrix=[1], layer0_type_mask=[1], layer0_pooling=[1], num_layer=2, layer1_order_matrix=[1], layer1_type_mask=[1], layer1_pooling=[1])"
     },
     "metadata": {},
     "output_type": "display_data"
    },
    {
     "data": {
      "text/plain": "tensor([   1,    0,    3,  ..., 2351, 2353, 2354])"
     },
     "metadata": {},
     "output_type": "display_data"
    },
    {
     "data": {
      "text/plain": "tensor([[6406, 6407, 6408, 6409, 6410, 6411, 6412, 6413, 6414, 6415]],\n       dtype=torch.int32)"
     },
     "metadata": {},
     "output_type": "display_data"
    },
    {
     "data": {
      "text/plain": "tensor([0, 2, 2, 2, 0, 0, 2, 2, 2, 0])"
     },
     "metadata": {},
     "output_type": "display_data"
    }
   ],
   "source": [
    "from ptgnn.transform.ptree_matrix import permutation_tree_to_order_matrix\n",
    "b = permutation_tree_to_order_matrix(batch, 1)\n",
    "display(b)\n",
    "display(b.initial_map)\n",
    "display(b.layer0_order_matrix[0][0][:, -10:])\n",
    "display(b.layer0_type_mask[0][0][-10:])"
   ],
   "metadata": {
    "collapsed": false,
    "ExecuteTime": {
     "start_time": "2024-03-14T18:53:43.964017Z",
     "end_time": "2024-03-14T18:53:44.240479Z"
    }
   }
  },
  {
   "cell_type": "code",
   "execution_count": null,
   "outputs": [],
   "source": [],
   "metadata": {
    "collapsed": false
   }
  },
  {
   "cell_type": "markdown",
   "source": [
    "## From here second part that is either in the model or in preprocessing"
   ],
   "metadata": {
    "collapsed": false
   }
  },
  {
   "cell_type": "code",
   "execution_count": 16,
   "outputs": [],
   "source": [
    "# load first index range of elements\n",
    "data_array = batch.x[idx_matrix[:, -1]]"
   ],
   "metadata": {
    "collapsed": false,
    "ExecuteTime": {
     "start_time": "2024-03-13T20:04:08.207324Z",
     "end_time": "2024-03-13T20:04:08.229326Z"
    }
   }
  },
  {
   "cell_type": "code",
   "execution_count": 17,
   "outputs": [],
   "source": [
    "# get structure to orient to\n",
    "idx_structure = idx_matrix[:, :-1]"
   ],
   "metadata": {
    "collapsed": false,
    "ExecuteTime": {
     "start_time": "2024-03-13T20:04:08.670384Z",
     "end_time": "2024-03-13T20:04:08.680383Z"
    }
   }
  },
  {
   "cell_type": "markdown",
   "source": [
    "### for loop starts here"
   ],
   "metadata": {
    "collapsed": false
   }
  },
  {
   "cell_type": "code",
   "execution_count": 18,
   "outputs": [
    {
     "data": {
      "text/plain": "tensor([[   0,    0],\n        [   1,    0],\n        [   1,    1],\n        ...,\n        [2354,    0],\n        [2354,    1],\n        [2355,    0]])"
     },
     "metadata": {},
     "output_type": "display_data"
    },
    {
     "data": {
      "text/plain": "tensor([1, 1, 3,  ..., 1, 3, 1])"
     },
     "metadata": {},
     "output_type": "display_data"
    }
   ],
   "source": [
    "# get indexes for graph pooling\n",
    "idx_structure, current_layer_pooling_counts = torch.unique(idx_structure[:, :-1], dim=0, return_counts=True)\n",
    "display(idx_structure)\n",
    "display(current_layer_pooling_counts)"
   ],
   "metadata": {
    "collapsed": false,
    "ExecuteTime": {
     "start_time": "2024-03-13T20:04:10.786096Z",
     "end_time": "2024-03-13T20:04:10.814092Z"
    }
   }
  },
  {
   "cell_type": "code",
   "execution_count": 19,
   "outputs": [
    {
     "data": {
      "text/plain": "tensor([0, 1, 2, 2, 2, 3, 4, 4, 4, 5])"
     },
     "metadata": {},
     "output_type": "display_data"
    }
   ],
   "source": [
    "# get indexes for graph pooling\n",
    "current_layer_pooling = torch.repeat_interleave(current_layer_pooling_counts)\n",
    "display(current_layer_pooling[:10])"
   ],
   "metadata": {
    "collapsed": false,
    "ExecuteTime": {
     "start_time": "2024-03-13T20:04:15.358460Z",
     "end_time": "2024-03-13T20:04:15.368458Z"
    }
   }
  },
  {
   "cell_type": "code",
   "execution_count": 12,
   "outputs": [],
   "source": [
    "# init circling\n",
    "# todo: rework for other types\n",
    "order_matrix = torch.zeros(k, len(current_layer_pooling), dtype=torch.int) - 1"
   ],
   "metadata": {
    "collapsed": false,
    "ExecuteTime": {
     "start_time": "2024-03-13T16:23:27.219155Z",
     "end_time": "2024-03-13T16:23:27.231277Z"
    }
   }
  },
  {
   "cell_type": "code",
   "execution_count": 13,
   "outputs": [],
   "source": [
    "cur_pos = 0\n",
    "for i in current_layer_pooling_counts:#[:5]:\n",
    "    current_k = min(k, i)\n",
    "    r = torch.arange(cur_pos, cur_pos+i)\n",
    "    for j in range(current_k):\n",
    "        order_matrix[:current_k, cur_pos+j] = torch.roll(r, shifts=-j)\n",
    "    cur_pos += i"
   ],
   "metadata": {
    "collapsed": false,
    "ExecuteTime": {
     "start_time": "2024-03-13T16:23:27.456992Z",
     "end_time": "2024-03-13T16:23:27.574027Z"
    }
   }
  },
  {
   "cell_type": "code",
   "execution_count": 14,
   "outputs": [
    {
     "data": {
      "text/plain": "tensor([[   0,    1,    2,  ..., 6413, 6414, 6415],\n        [  -1,   -1,    3,  ..., 6414, 6412,   -1],\n        [  -1,   -1,    4,  ..., 6412, 6413,   -1]], dtype=torch.int32)"
     },
     "execution_count": 14,
     "metadata": {},
     "output_type": "execute_result"
    }
   ],
   "source": [
    "order_matrix"
   ],
   "metadata": {
    "collapsed": false,
    "ExecuteTime": {
     "start_time": "2024-03-13T16:23:27.688161Z",
     "end_time": "2024-03-13T16:23:27.702159Z"
    }
   }
  },
  {
   "cell_type": "code",
   "execution_count": 15,
   "outputs": [],
   "source": [
    "# add zero padding to data list\n",
    "data_array = torch.cat([torch.zeros(1, data_array.shape[-1]), data_array], dim=0)\n",
    "order_matrix += 1"
   ],
   "metadata": {
    "collapsed": false,
    "ExecuteTime": {
     "start_time": "2024-03-13T16:23:28.132139Z",
     "end_time": "2024-03-13T16:23:28.157143Z"
    }
   }
  },
  {
   "cell_type": "code",
   "execution_count": 16,
   "outputs": [],
   "source": [
    "temp = data_array[order_matrix]"
   ],
   "metadata": {
    "collapsed": false,
    "ExecuteTime": {
     "start_time": "2024-03-13T16:23:28.337684Z",
     "end_time": "2024-03-13T16:23:28.345066Z"
    }
   }
  },
  {
   "cell_type": "code",
   "execution_count": 17,
   "outputs": [
    {
     "data": {
      "text/plain": "torch.Size([3, 6416, 118])"
     },
     "execution_count": 17,
     "metadata": {},
     "output_type": "execute_result"
    }
   ],
   "source": [
    "temp.shape"
   ],
   "metadata": {
    "collapsed": false,
    "ExecuteTime": {
     "start_time": "2024-03-13T16:23:28.488285Z",
     "end_time": "2024-03-13T16:23:28.497287Z"
    }
   }
  },
  {
   "cell_type": "code",
   "execution_count": 18,
   "outputs": [],
   "source": [
    "# apply z layer"
   ],
   "metadata": {
    "collapsed": false,
    "ExecuteTime": {
     "start_time": "2024-03-13T16:23:28.660147Z",
     "end_time": "2024-03-13T16:23:28.669234Z"
    }
   }
  },
  {
   "cell_type": "code",
   "execution_count": 19,
   "outputs": [],
   "source": [
    "mask_z = type_matrix[:, -1] == 2"
   ],
   "metadata": {
    "collapsed": false,
    "ExecuteTime": {
     "start_time": "2024-03-13T16:23:28.808791Z",
     "end_time": "2024-03-13T16:23:28.828124Z"
    }
   }
  },
  {
   "cell_type": "code",
   "execution_count": 23,
   "outputs": [],
   "source": [
    "z_layer = torch.nn.ModuleList([\n",
    "    torch.nn.Linear(118, 118)\n",
    "    for _ in range(k)\n",
    "])\n",
    "z_final_layer = torch.nn.Linear(118, 118)\n",
    "z_elu = torch.nn.ELU()"
   ],
   "metadata": {
    "collapsed": false,
    "ExecuteTime": {
     "start_time": "2024-03-13T20:05:48.342263Z",
     "end_time": "2024-03-13T20:05:48.367261Z"
    }
   }
  },
  {
   "cell_type": "code",
   "execution_count": 21,
   "outputs": [],
   "source": [
    "# todo: take care of duplicate elements that are sent through linear layer"
   ],
   "metadata": {
    "collapsed": false,
    "ExecuteTime": {
     "start_time": "2024-03-13T16:23:29.154868Z",
     "end_time": "2024-03-13T16:23:29.184374Z"
    }
   }
  },
  {
   "cell_type": "code",
   "execution_count": 22,
   "outputs": [
    {
     "data": {
      "text/plain": "torch.Size([6417, 118])"
     },
     "execution_count": 22,
     "metadata": {},
     "output_type": "execute_result"
    }
   ],
   "source": [
    "data_array.shape"
   ],
   "metadata": {
    "collapsed": false,
    "ExecuteTime": {
     "start_time": "2024-03-13T16:23:29.594720Z",
     "end_time": "2024-03-13T16:23:29.603719Z"
    }
   }
  },
  {
   "cell_type": "code",
   "execution_count": 23,
   "outputs": [
    {
     "data": {
      "text/plain": "torch.Size([6416, 3, 118])"
     },
     "metadata": {},
     "output_type": "display_data"
    }
   ],
   "source": [
    "embedding = torch.stack([\n",
    "    emb(t)\n",
    "    for emb, t in zip(z_layer,temp)\n",
    "], dim=1)\n",
    "display(embedding.shape)"
   ],
   "metadata": {
    "collapsed": false,
    "ExecuteTime": {
     "start_time": "2024-03-13T16:23:29.786682Z",
     "end_time": "2024-03-13T16:23:29.807681Z"
    }
   }
  },
  {
   "cell_type": "code",
   "execution_count": 24,
   "outputs": [
    {
     "data": {
      "text/plain": "torch.Size([6416, 118])"
     },
     "metadata": {},
     "output_type": "display_data"
    }
   ],
   "source": [
    "temp3 = embedding.sum(dim=1)\n",
    "display(temp3.shape)"
   ],
   "metadata": {
    "collapsed": false,
    "ExecuteTime": {
     "start_time": "2024-03-13T16:23:30.050740Z",
     "end_time": "2024-03-13T16:23:30.059738Z"
    }
   }
  },
  {
   "cell_type": "code",
   "execution_count": 25,
   "outputs": [
    {
     "data": {
      "text/plain": "torch.Size([6416, 118])"
     },
     "metadata": {},
     "output_type": "display_data"
    }
   ],
   "source": [
    "temp4 = z_final_layer(temp3)\n",
    "display(temp4.shape)"
   ],
   "metadata": {
    "collapsed": false,
    "ExecuteTime": {
     "start_time": "2024-03-13T16:23:30.275889Z",
     "end_time": "2024-03-13T16:23:30.289889Z"
    }
   }
  },
  {
   "cell_type": "code",
   "execution_count": 7,
   "outputs": [
    {
     "ename": "NameError",
     "evalue": "name 'temp4' is not defined",
     "output_type": "error",
     "traceback": [
      "\u001B[1;31m---------------------------------------------------------------------------\u001B[0m",
      "\u001B[1;31mNameError\u001B[0m                                 Traceback (most recent call last)",
      "Cell \u001B[1;32mIn[7], line 2\u001B[0m\n\u001B[0;32m      1\u001B[0m \u001B[38;5;28;01mimport\u001B[39;00m \u001B[38;5;21;01mtorch_geometric\u001B[39;00m\n\u001B[1;32m----> 2\u001B[0m data_array \u001B[38;5;241m=\u001B[39m torch_geometric\u001B[38;5;241m.\u001B[39mnn\u001B[38;5;241m.\u001B[39mglobal_add_pool(\u001B[43mtemp4\u001B[49m, current_layer_pooling)\n",
      "\u001B[1;31mNameError\u001B[0m: name 'temp4' is not defined"
     ]
    }
   ],
   "source": [
    "import torch_geometric\n",
    "data_array = torch_geometric.nn.global_add_pool(temp4, current_layer_pooling)"
   ],
   "metadata": {
    "collapsed": false,
    "ExecuteTime": {
     "start_time": "2024-03-13T16:23:30.466053Z",
     "end_time": "2024-03-13T16:23:30.475052Z"
    }
   }
  },
  {
   "cell_type": "code",
   "execution_count": 27,
   "outputs": [
    {
     "data": {
      "text/plain": "torch.Size([4124, 118])"
     },
     "execution_count": 27,
     "metadata": {},
     "output_type": "execute_result"
    }
   ],
   "source": [
    "data_array.shape"
   ],
   "metadata": {
    "collapsed": false,
    "ExecuteTime": {
     "start_time": "2024-03-13T16:23:30.666534Z",
     "end_time": "2024-03-13T16:23:30.686533Z"
    }
   }
  },
  {
   "cell_type": "code",
   "execution_count": 27,
   "outputs": [],
   "source": [],
   "metadata": {
    "collapsed": false,
    "ExecuteTime": {
     "start_time": "2024-03-13T16:23:31.116239Z",
     "end_time": "2024-03-13T16:23:31.134239Z"
    }
   }
  },
  {
   "cell_type": "code",
   "execution_count": null,
   "outputs": [],
   "source": [],
   "metadata": {
    "collapsed": false
   }
  },
  {
   "cell_type": "code",
   "execution_count": null,
   "outputs": [],
   "source": [],
   "metadata": {
    "collapsed": false
   }
  },
  {
   "cell_type": "code",
   "execution_count": 20,
   "outputs": [],
   "source": [
    "k = 3"
   ],
   "metadata": {
    "collapsed": false,
    "ExecuteTime": {
     "start_time": "2024-03-13T20:05:38.690911Z",
     "end_time": "2024-03-13T20:05:38.702426Z"
    }
   }
  },
  {
   "cell_type": "code",
   "execution_count": 21,
   "outputs": [],
   "source": [
    "batch.idx_matrix, batch.type_matrix = permutation_tree_to_matrix(batch.ptree, 3)"
   ],
   "metadata": {
    "collapsed": false,
    "ExecuteTime": {
     "start_time": "2024-03-13T20:05:38.908428Z",
     "end_time": "2024-03-13T20:05:39.113705Z"
    }
   }
  },
  {
   "cell_type": "code",
   "execution_count": 24,
   "outputs": [],
   "source": [
    "device = 'cpu'\n",
    "batch = batch.to(device)\n",
    "z_elu = z_elu.to(device)\n",
    "z_layer = z_layer.to(device)\n",
    "z_final_layer = z_final_layer.to(device)"
   ],
   "metadata": {
    "collapsed": false,
    "ExecuteTime": {
     "start_time": "2024-03-13T20:05:59.904964Z",
     "end_time": "2024-03-13T20:05:59.926473Z"
    }
   }
  },
  {
   "cell_type": "code",
   "execution_count": 25,
   "outputs": [],
   "source": [
    "# make link to batch idx_matrix\n",
    "idx_matrix = batch.idx_matrix\n",
    "\n",
    "# load first index range of elements\n",
    "data_array = batch.x[idx_matrix[:, -1]]\n",
    "\n",
    "# get structure to orient to\n",
    "idx_structure = idx_matrix[:, :-1]"
   ],
   "metadata": {
    "collapsed": false,
    "ExecuteTime": {
     "start_time": "2024-03-13T20:06:00.814903Z",
     "end_time": "2024-03-13T20:06:00.826902Z"
    }
   }
  },
  {
   "cell_type": "code",
   "execution_count": 25,
   "outputs": [],
   "source": [],
   "metadata": {
    "collapsed": false,
    "ExecuteTime": {
     "start_time": "2024-03-13T20:06:02.860727Z",
     "end_time": "2024-03-13T20:06:02.873728Z"
    }
   }
  },
  {
   "cell_type": "code",
   "execution_count": 26,
   "outputs": [],
   "source": [
    "# get indexes for graph pooling\n",
    "idx_structure, current_layer_pooling_counts = torch.unique(idx_structure[:, :-1], dim=0, return_counts=True)\n",
    "\n",
    "# get indexes for graph pooling\n",
    "current_layer_pooling = torch.repeat_interleave(current_layer_pooling_counts)\n",
    "\n",
    "# init circling\n",
    "# todo: rework for other types - treat everything as Z\n",
    "order_matrix = torch.zeros(k, len(current_layer_pooling), dtype=torch.int) - 1"
   ],
   "metadata": {
    "collapsed": false,
    "ExecuteTime": {
     "start_time": "2024-03-13T20:06:04.767100Z",
     "end_time": "2024-03-13T20:06:04.799238Z"
    }
   }
  },
  {
   "cell_type": "code",
   "execution_count": 27,
   "outputs": [],
   "source": [
    "cur_pos = 0\n",
    "for i in current_layer_pooling_counts:\n",
    "    current_k = min(k, i)\n",
    "    r = torch.arange(cur_pos, cur_pos+current_k)\n",
    "    for j in range(i):\n",
    "        order_matrix[:current_k, cur_pos+j] = torch.roll(r, shifts=-j)\n",
    "    cur_pos += i"
   ],
   "metadata": {
    "collapsed": false,
    "ExecuteTime": {
     "start_time": "2024-03-13T20:06:05.286452Z",
     "end_time": "2024-03-13T20:06:05.379967Z"
    }
   }
  },
  {
   "cell_type": "code",
   "execution_count": 28,
   "outputs": [
    {
     "data": {
      "text/plain": "tensor([[ 0,  1,  2,  3,  4,  5,  6,  7,  8,  9],\n        [-1, -1,  3,  4,  2, -1,  7,  8,  6, -1],\n        [-1, -1,  4,  2,  3, -1,  8,  6,  7, -1]], dtype=torch.int32)"
     },
     "execution_count": 28,
     "metadata": {},
     "output_type": "execute_result"
    }
   ],
   "source": [
    "order_matrix[:, :10]"
   ],
   "metadata": {
    "collapsed": false,
    "ExecuteTime": {
     "start_time": "2024-03-13T20:06:14.046827Z",
     "end_time": "2024-03-13T20:06:14.056826Z"
    }
   }
  },
  {
   "cell_type": "code",
   "execution_count": 29,
   "outputs": [
    {
     "ename": "NameError",
     "evalue": "name 'torch_geometric' is not defined",
     "output_type": "error",
     "traceback": [
      "\u001B[1;31m---------------------------------------------------------------------------\u001B[0m",
      "\u001B[1;31mNameError\u001B[0m                                 Traceback (most recent call last)",
      "Cell \u001B[1;32mIn[29], line 19\u001B[0m\n\u001B[0;32m     16\u001B[0m embedding \u001B[38;5;241m=\u001B[39m z_final_layer(embedding)\n\u001B[0;32m     18\u001B[0m \u001B[38;5;66;03m# global pooling\u001B[39;00m\n\u001B[1;32m---> 19\u001B[0m data_array \u001B[38;5;241m=\u001B[39m \u001B[43mtorch_geometric\u001B[49m\u001B[38;5;241m.\u001B[39mnn\u001B[38;5;241m.\u001B[39mglobal_add_pool(embedding, current_layer_pooling)\n",
      "\u001B[1;31mNameError\u001B[0m: name 'torch_geometric' is not defined"
     ]
    }
   ],
   "source": [
    "# add zero padding to data list\n",
    "data_array = torch.cat([torch.zeros(1, data_array.shape[-1], device=data_array.device), data_array], dim=0)\n",
    "order_matrix += 1\n",
    "\n",
    "embedding = data_array[order_matrix]\n",
    "# mask_z = batch.type_matrix\n",
    "\n",
    "embedding = torch.stack([\n",
    "    emb(t)\n",
    "    for emb, t in zip(z_layer, embedding)\n",
    "], dim=1)\n",
    "\n",
    "embedding[(order_matrix.T == 0).unsqueeze(-1).expand_as(embedding)] = 0.\n",
    "\n",
    "embedding = embedding.sum(dim=1)\n",
    "embedding = z_final_layer(embedding)\n",
    "\n",
    "# global pooling\n",
    "data_array = torch_geometric.nn.global_add_pool(embedding, current_layer_pooling)"
   ],
   "metadata": {
    "collapsed": false,
    "ExecuteTime": {
     "start_time": "2024-03-13T18:25:41.654148Z",
     "end_time": "2024-03-13T18:25:41.689467Z"
    }
   }
  },
  {
   "cell_type": "code",
   "execution_count": null,
   "outputs": [],
   "source": [],
   "metadata": {
    "collapsed": false
   }
  },
  {
   "cell_type": "code",
   "execution_count": null,
   "outputs": [],
   "source": [],
   "metadata": {
    "collapsed": false
   }
  },
  {
   "cell_type": "code",
   "execution_count": null,
   "outputs": [],
   "source": [],
   "metadata": {
    "collapsed": false
   }
  },
  {
   "cell_type": "code",
   "execution_count": 9,
   "outputs": [
    {
     "data": {
      "text/plain": "DataBatch(x=[2104, 118], edge_index=[2, 5960], edge_attr=[5960, 80], pos=[2104, 6], y=[28], batch=[2104], ptr=[29], ptree=[2104], num_layer=[1], initial_map=[5960], layer0_order_matrix=[3, 5960], layer0_type_mask=[5960], layer0_pooling=[5960], layer1_order_matrix=[3, 3736], layer1_type_mask=[3736], layer1_pooling=[3736])"
     },
     "execution_count": 9,
     "metadata": {},
     "output_type": "execute_result"
    }
   ],
   "source": [
    "batch"
   ],
   "metadata": {
    "collapsed": false,
    "ExecuteTime": {
     "start_time": "2024-03-14T18:27:42.214910Z",
     "end_time": "2024-03-14T18:27:42.230909Z"
    }
   }
  },
  {
   "cell_type": "code",
   "execution_count": 10,
   "outputs": [],
   "source": [
    "import json\n",
    "ptree = json.loads(batch.ptree[0])"
   ],
   "metadata": {
    "collapsed": false,
    "ExecuteTime": {
     "start_time": "2024-03-14T18:27:43.354833Z",
     "end_time": "2024-03-14T18:27:43.370344Z"
    }
   }
  },
  {
   "cell_type": "code",
   "execution_count": 11,
   "outputs": [],
   "source": [
    "from ptgnn.transform.ptree_matrix import permutation_tree_depth\n",
    "\n",
    "# get depth of tree\n",
    "tree_depth = permutation_tree_depth(ptree)"
   ],
   "metadata": {
    "collapsed": false,
    "ExecuteTime": {
     "start_time": "2024-03-14T18:27:43.770589Z",
     "end_time": "2024-03-14T18:27:43.800588Z"
    }
   }
  },
  {
   "cell_type": "code",
   "execution_count": 12,
   "outputs": [
    {
     "data": {
      "text/plain": "'{\"P\": [0, {\"Z\": [7, 9]}]}'"
     },
     "execution_count": 12,
     "metadata": {},
     "output_type": "execute_result"
    }
   ],
   "source": [
    "batch.ptree[1]"
   ],
   "metadata": {
    "collapsed": false,
    "ExecuteTime": {
     "start_time": "2024-03-14T18:27:44.699278Z",
     "end_time": "2024-03-14T18:27:44.714277Z"
    }
   }
  },
  {
   "cell_type": "code",
   "execution_count": 14,
   "outputs": [
    {
     "ename": "NameError",
     "evalue": "name 'permutation_tree_to_matrix' is not defined",
     "output_type": "error",
     "traceback": [
      "\u001B[1;31m---------------------------------------------------------------------------\u001B[0m",
      "\u001B[1;31mNameError\u001B[0m                                 Traceback (most recent call last)",
      "Cell \u001B[1;32mIn[14], line 1\u001B[0m\n\u001B[1;32m----> 1\u001B[0m \u001B[43mpermutation_tree_to_matrix\u001B[49m([batch\u001B[38;5;241m.\u001B[39mptree[\u001B[38;5;241m1\u001B[39m]])\n",
      "\u001B[1;31mNameError\u001B[0m: name 'permutation_tree_to_matrix' is not defined"
     ]
    }
   ],
   "source": [
    "permutation_tree_to_matrix([batch.ptree[1]])"
   ],
   "metadata": {
    "collapsed": false,
    "ExecuteTime": {
     "start_time": "2024-03-13T17:21:31.766860Z",
     "end_time": "2024-03-13T17:21:31.781860Z"
    }
   }
  },
  {
   "cell_type": "code",
   "execution_count": 1,
   "outputs": [
    {
     "ename": "NameError",
     "evalue": "name 'batch' is not defined",
     "output_type": "error",
     "traceback": [
      "\u001B[1;31m---------------------------------------------------------------------------\u001B[0m",
      "\u001B[1;31mNameError\u001B[0m                                 Traceback (most recent call last)",
      "Cell \u001B[1;32mIn[1], line 3\u001B[0m\n\u001B[0;32m      1\u001B[0m \u001B[38;5;28;01mfrom\u001B[39;00m \u001B[38;5;21;01mptgnn\u001B[39;00m\u001B[38;5;21;01m.\u001B[39;00m\u001B[38;5;21;01mtransform\u001B[39;00m\u001B[38;5;21;01m.\u001B[39;00m\u001B[38;5;21;01mptree_matrix\u001B[39;00m \u001B[38;5;28;01mimport\u001B[39;00m permutation_tree_to_order_matrix\n\u001B[1;32m----> 3\u001B[0m permutation_tree_to_order_matrix(\u001B[43mbatch\u001B[49m, \u001B[38;5;241m3\u001B[39m)\n",
      "\u001B[1;31mNameError\u001B[0m: name 'batch' is not defined"
     ]
    }
   ],
   "source": [
    "from ptgnn.transform.ptree_matrix import permutation_tree_to_order_matrix\n",
    "\n",
    "permutation_tree_to_order_matrix(batch, 3)"
   ],
   "metadata": {
    "collapsed": false,
    "ExecuteTime": {
     "start_time": "2024-03-13T18:55:19.945880Z",
     "end_time": "2024-03-13T18:55:20.350977Z"
    }
   }
  },
  {
   "cell_type": "code",
   "execution_count": 1,
   "outputs": [],
   "source": [
    "from ptgnn.runtime_config.run_config import fetch_loaders"
   ],
   "metadata": {
    "collapsed": false,
    "ExecuteTime": {
     "start_time": "2024-03-14T19:32:39.862627Z",
     "end_time": "2024-03-14T19:32:44.014040Z"
    }
   }
  },
  {
   "cell_type": "code",
   "execution_count": 2,
   "outputs": [],
   "source": [
    "data_config = {\n",
    "    'dataset' : {\n",
    "        'type' : \"rs\",\n",
    "        'mask_chiral_tags': True,\n",
    "        'transformation_mode': 'chienn_tree_order_matrix',\n",
    "        'transformation_parameters': {\n",
    "            'k': 3\n",
    "        }\n",
    "    },\n",
    "    'loader': {\n",
    "        'general': {\n",
    "            'n_neighbors_in_circle': 3,\n",
    "            'batch_size': 32,\n",
    "            'num_workers': 0,\n",
    "        },\n",
    "        'train': {},\n",
    "        'test': {},\n",
    "        'val': {}\n",
    "    }\n",
    "}"
   ],
   "metadata": {
    "collapsed": false,
    "ExecuteTime": {
     "start_time": "2024-03-14T19:32:44.014040Z",
     "end_time": "2024-03-14T19:32:44.026543Z"
    }
   }
  },
  {
   "cell_type": "code",
   "execution_count": 3,
   "outputs": [],
   "source": [
    "train_loader, _, val_loader = fetch_loaders(data_config=data_config)"
   ],
   "metadata": {
    "collapsed": false,
    "ExecuteTime": {
     "start_time": "2024-03-14T19:32:44.027544Z",
     "end_time": "2024-03-14T19:32:57.138737Z"
    }
   }
  },
  {
   "cell_type": "code",
   "execution_count": 4,
   "outputs": [
    {
     "data": {
      "text/plain": "DataBatch(x=[2804, 118], edge_index=[2, 7684], edge_attr=[7684, 80], pos=[2804, 6], y=[32], batch=[2804], ptr=[33], ptree=[2804], num_layer=[1], initial_map=[7684], layer0_order_matrix=[3, 7684], layer0_type_mask=[7684], layer0_pooling=[7684], layer1_order_matrix=[3, 4978], layer1_type_mask=[4978], layer1_pooling=[4978])"
     },
     "metadata": {},
     "output_type": "display_data"
    }
   ],
   "source": [
    "for batch in train_loader:\n",
    "    display(batch)\n",
    "    break"
   ],
   "metadata": {
    "collapsed": false,
    "ExecuteTime": {
     "start_time": "2024-03-14T19:32:57.139738Z",
     "end_time": "2024-03-14T19:32:57.201785Z"
    }
   }
  },
  {
   "cell_type": "code",
   "execution_count": 5,
   "outputs": [],
   "source": [
    "from ptgnn.model.modules.ptree.complex_ptree_layer import ComplexPtreeLayer\n",
    "from tqdm import tqdm\n",
    "k=3\n",
    "device = 'cuda'  # 'cpu'\n",
    "model = ComplexPtreeLayer(k, 118).to(device)"
   ],
   "metadata": {
    "collapsed": false,
    "ExecuteTime": {
     "start_time": "2024-03-14T19:32:57.172738Z",
     "end_time": "2024-03-14T19:32:57.266004Z"
    }
   }
  },
  {
   "cell_type": "code",
   "execution_count": 10,
   "outputs": [
    {
     "name": "stderr",
     "output_type": "stream",
     "text": [
      "100%|██████████| 1721/1721 [00:54<00:00, 31.62it/s]\n"
     ]
    }
   ],
   "source": [
    "for batch in tqdm(train_loader):\n",
    "    batch = batch.to(device)\n",
    "    model(batch)"
   ],
   "metadata": {
    "collapsed": false,
    "ExecuteTime": {
     "start_time": "2024-03-14T19:36:59.865556Z",
     "end_time": "2024-03-14T19:37:54.293168Z"
    }
   }
  },
  {
   "cell_type": "code",
   "execution_count": 5,
   "outputs": [
    {
     "name": "stdout",
     "output_type": "stream",
     "text": [
      "tensor(4977, dtype=torch.int32)\n",
      "tensor(4977)\n",
      "tensor(2)\n",
      "tensor(2803)\n"
     ]
    }
   ],
   "source": [
    "print(batch.layer1_order_matrix.max())\n",
    "print(batch.layer0_pooling.max())\n",
    "print(batch.layer0_type_mask.max())\n",
    "print(batch.initial_map.max())"
   ],
   "metadata": {
    "collapsed": false,
    "ExecuteTime": {
     "start_time": "2024-03-14T16:34:21.987473Z",
     "end_time": "2024-03-14T16:34:22.007732Z"
    }
   }
  },
  {
   "cell_type": "code",
   "execution_count": 21,
   "outputs": [
    {
     "data": {
      "text/plain": "tensor([[ 0,  1,  2,  3,  4,  5,  6,  7,  8,  9],\n        [-1, -1, -1, -1, -1, -1, -1, -1, -1, -1],\n        [-1, -1, -1, -1, -1, -1, -1, -1, -1, -1]], device='cuda:0',\n       dtype=torch.int32)"
     },
     "execution_count": 21,
     "metadata": {},
     "output_type": "execute_result"
    }
   ],
   "source": [
    "batch.layer1_order_matrix[:, :10]"
   ],
   "metadata": {
    "collapsed": false,
    "ExecuteTime": {
     "start_time": "2024-03-14T16:46:34.959346Z",
     "end_time": "2024-03-14T16:46:34.978345Z"
    }
   }
  },
  {
   "cell_type": "code",
   "execution_count": 22,
   "outputs": [
    {
     "data": {
      "text/plain": "tensor([0, 1, 1, 2, 2, 3, 3, 4, 4, 5], device='cuda:0')"
     },
     "execution_count": 22,
     "metadata": {},
     "output_type": "execute_result"
    }
   ],
   "source": [
    "batch.layer1_pooling[:10]"
   ],
   "metadata": {
    "collapsed": false,
    "ExecuteTime": {
     "start_time": "2024-03-14T16:47:19.657758Z",
     "end_time": "2024-03-14T16:47:19.666758Z"
    }
   }
  },
  {
   "cell_type": "code",
   "execution_count": 5,
   "outputs": [],
   "source": [
    "k=3"
   ],
   "metadata": {
    "collapsed": false,
    "ExecuteTime": {
     "start_time": "2024-03-14T17:21:54.631338Z",
     "end_time": "2024-03-14T17:21:54.666337Z"
    }
   }
  },
  {
   "cell_type": "code",
   "execution_count": 6,
   "outputs": [],
   "source": [
    "import torch\n",
    "import torch_geometric\n",
    "from tqdm import tqdm"
   ],
   "metadata": {
    "collapsed": false,
    "ExecuteTime": {
     "start_time": "2024-03-14T17:21:54.647337Z",
     "end_time": "2024-03-14T17:21:54.666337Z"
    }
   }
  },
  {
   "cell_type": "code",
   "execution_count": 7,
   "outputs": [],
   "source": [
    "z_layer = torch.nn.ModuleList([\n",
    "    torch.nn.Linear(118, 118)\n",
    "    for _ in range(k)\n",
    "])\n",
    "z_final_layer = torch.nn.Linear(118, 118)\n",
    "z_elu = torch.nn.ELU()"
   ],
   "metadata": {
    "collapsed": false,
    "ExecuteTime": {
     "start_time": "2024-03-14T17:21:54.662337Z",
     "end_time": "2024-03-14T17:21:54.681347Z"
    }
   }
  },
  {
   "cell_type": "code",
   "execution_count": 8,
   "outputs": [],
   "source": [
    "# device = 'cpu'\n",
    "device = 'cuda'\n",
    "\n",
    "z_elu = z_elu.to(device)\n",
    "z_layer = z_layer.to(device)\n",
    "z_final_layer = z_final_layer.to(device)"
   ],
   "metadata": {
    "collapsed": false,
    "ExecuteTime": {
     "start_time": "2024-03-14T17:21:54.678348Z",
     "end_time": "2024-03-14T17:21:54.754636Z"
    }
   }
  },
  {
   "cell_type": "code",
   "execution_count": 4,
   "outputs": [
    {
     "ename": "NameError",
     "evalue": "name 'tqdm' is not defined",
     "output_type": "error",
     "traceback": [
      "\u001B[1;31m---------------------------------------------------------------------------\u001B[0m",
      "\u001B[1;31mNameError\u001B[0m                                 Traceback (most recent call last)",
      "Cell \u001B[1;32mIn[4], line 1\u001B[0m\n\u001B[1;32m----> 1\u001B[0m \u001B[38;5;28;01mfor\u001B[39;00m batch \u001B[38;5;129;01min\u001B[39;00m \u001B[43mtqdm\u001B[49m(train_loader):\n\u001B[0;32m      2\u001B[0m     batch \u001B[38;5;241m=\u001B[39m batch\u001B[38;5;241m.\u001B[39mto(device)\n\u001B[0;32m      4\u001B[0m     \u001B[38;5;66;03m# load first index range of elements\u001B[39;00m\n",
      "\u001B[1;31mNameError\u001B[0m: name 'tqdm' is not defined"
     ]
    }
   ],
   "source": [
    "for batch in tqdm(train_loader):\n",
    "    batch = batch.to(device)\n",
    "\n",
    "    # load first index range of elements\n",
    "    data_array = batch.x[batch.initial_map]\n",
    "\n",
    "    for layer_idx in range(batch.num_layer):\n",
    "        # fetch data\n",
    "        order_matrix = batch[f\"layer{layer_idx}_order_matrix\"]\n",
    "        current_layer_pooling = batch[f\"layer{layer_idx}_pooling\"]\n",
    "        type_mask = batch[f\"layer{layer_idx}_type_mask\"] # todo: actually use for different types\n",
    "\n",
    "        # add zero padding to data list\n",
    "        data_array = torch.cat([torch.zeros(1, data_array.shape[-1], device=data_array.device), data_array], dim=0)\n",
    "        order_matrix += 1\n",
    "\n",
    "        embedding = data_array[order_matrix]\n",
    "        # mask_z = batch.type_matrix\n",
    "\n",
    "        embedding = torch.stack([\n",
    "            emb(t)\n",
    "            for emb, t in zip(z_layer, embedding)\n",
    "        ], dim=1)\n",
    "\n",
    "        embedding[(order_matrix.T == 0).unsqueeze(-1).expand_as(embedding)] = 0.\n",
    "\n",
    "        embedding = embedding.sum(dim=1)\n",
    "        embedding = z_final_layer(embedding)\n",
    "\n",
    "        # global pooling\n",
    "        data_array = torch_geometric.nn.global_add_pool(embedding, current_layer_pooling)\n",
    "\n",
    "    assert data_array.shape == batch.x.shape"
   ],
   "metadata": {
    "collapsed": false,
    "ExecuteTime": {
     "start_time": "2024-03-14T14:32:28.240826Z",
     "end_time": "2024-03-14T14:33:17.364281Z"
    }
   }
  },
  {
   "cell_type": "code",
   "execution_count": 9,
   "outputs": [],
   "source": [
    "batch = batch.to(device)\n",
    "\n",
    "# load first index range of elements\n",
    "data_array = batch.x[batch.initial_map]"
   ],
   "metadata": {
    "collapsed": false,
    "ExecuteTime": {
     "start_time": "2024-03-14T17:21:54.755642Z",
     "end_time": "2024-03-14T17:21:54.791245Z"
    }
   }
  },
  {
   "cell_type": "code",
   "execution_count": 10,
   "outputs": [],
   "source": [
    "layer_idx = 0"
   ],
   "metadata": {
    "collapsed": false,
    "ExecuteTime": {
     "start_time": "2024-03-14T17:21:54.787246Z",
     "end_time": "2024-03-14T17:21:54.803245Z"
    }
   }
  },
  {
   "cell_type": "code",
   "execution_count": 11,
   "outputs": [],
   "source": [
    "# fetch instructions for this layer\n",
    "order_matrix = batch[f\"layer{layer_idx}_order_matrix\"]\n",
    "current_layer_pooling = batch[f\"layer{layer_idx}_pooling\"]\n",
    "type_mask = batch[f\"layer{layer_idx}_type_mask\"]"
   ],
   "metadata": {
    "collapsed": false,
    "ExecuteTime": {
     "start_time": "2024-03-14T17:21:54.804245Z",
     "end_time": "2024-03-14T17:21:54.825866Z"
    }
   }
  },
  {
   "cell_type": "code",
   "execution_count": 12,
   "outputs": [],
   "source": [
    "# order matrix contains -1. This is due to not all permutations requiring k elements to connect.\n",
    "# solve this with creating new index zero that is full of zeros and increasing order_matrix index\n",
    "data_array = torch.cat(\n",
    "    [\n",
    "        torch.zeros(1, data_array.shape[-1], device=data_array.device),\n",
    "        data_array\n",
    "    ],\n",
    "    dim=0\n",
    ")\n",
    "order_matrix += 1"
   ],
   "metadata": {
    "collapsed": false,
    "ExecuteTime": {
     "start_time": "2024-03-14T17:21:54.818865Z",
     "end_time": "2024-03-14T17:21:54.833865Z"
    }
   }
  },
  {
   "cell_type": "code",
   "execution_count": 13,
   "outputs": [],
   "source": [
    "# create order mask (required later to remove elements that were -1 -> 0 but after linear layer they\n",
    "# are no longer 0)\n",
    "mask_order_matrix = order_matrix == 0"
   ],
   "metadata": {
    "collapsed": false,
    "ExecuteTime": {
     "start_time": "2024-03-14T17:21:54.835866Z",
     "end_time": "2024-03-14T17:21:54.858864Z"
    }
   }
  },
  {
   "cell_type": "code",
   "execution_count": 14,
   "outputs": [],
   "source": [
    "# change indices from order list to real data (technically this inflates the matrix, but all are references\n",
    "# so no actual space should be required.\n",
    "data_array = data_array[order_matrix]"
   ],
   "metadata": {
    "collapsed": false,
    "ExecuteTime": {
     "start_time": "2024-03-14T17:21:54.850866Z",
     "end_time": "2024-03-14T17:21:54.865941Z"
    }
   }
  },
  {
   "cell_type": "code",
   "execution_count": 15,
   "outputs": [],
   "source": [
    "# do operation for each layer and put result into a temporary array\n",
    "# array initialized with the first column to cover the case of doing nothing (tree extension for uniform\n",
    "# layer count)\n",
    "temporary_data_array = data_array[0].clone()"
   ],
   "metadata": {
    "collapsed": false,
    "ExecuteTime": {
     "start_time": "2024-03-14T17:21:54.867945Z",
     "end_time": "2024-03-14T17:21:54.889455Z"
    }
   }
  },
  {
   "cell_type": "code",
   "execution_count": 16,
   "outputs": [],
   "source": [
    "# for loop\n",
    "node_value = 2"
   ],
   "metadata": {
    "collapsed": false,
    "ExecuteTime": {
     "start_time": "2024-03-14T17:21:54.883452Z",
     "end_time": "2024-03-14T17:21:54.901700Z"
    }
   }
  },
  {
   "cell_type": "code",
   "execution_count": 17,
   "outputs": [
    {
     "data": {
      "text/plain": "tensor([False, False,  True,  ...,  True, False,  True], device='cuda:0')"
     },
     "metadata": {},
     "output_type": "display_data"
    },
    {
     "data": {
      "text/plain": "torch.Size([7684])"
     },
     "metadata": {},
     "output_type": "display_data"
    }
   ],
   "source": [
    "# create mask for this type:\n",
    "# - create mask\n",
    "# - extend the mask to match\n",
    "mask = type_mask == node_value\n",
    "display(mask)\n",
    "display(mask.shape)"
   ],
   "metadata": {
    "collapsed": false,
    "ExecuteTime": {
     "start_time": "2024-03-14T17:21:54.899700Z",
     "end_time": "2024-03-14T17:21:54.942535Z"
    }
   }
  },
  {
   "cell_type": "code",
   "execution_count": 18,
   "outputs": [],
   "source": [
    "# iterate over k and get embeddings\n",
    "temp = torch.stack([\n",
    "    emb(t)\n",
    "    for emb, t in zip(z_layer, data_array[:, mask])\n",
    "], dim=0)\n",
    "# set entries that were previously only the -1's to zero\n",
    "temp[mask_order_matrix[:, mask]] = 0.\n",
    "# sum k (shifted [in order_matrix] embeddings)\n",
    "temp = temp.sum(dim=0)\n",
    "# run through final layer\n",
    "temp = z_final_layer(temp)\n",
    "# put into temporary_array\n",
    "temporary_data_array[mask] = temp"
   ],
   "metadata": {
    "collapsed": false,
    "ExecuteTime": {
     "start_time": "2024-03-14T17:21:54.915508Z",
     "end_time": "2024-03-14T17:21:55.004291Z"
    }
   }
  },
  {
   "cell_type": "code",
   "execution_count": 19,
   "outputs": [],
   "source": [
    "# end of for loop"
   ],
   "metadata": {
    "collapsed": false,
    "ExecuteTime": {
     "start_time": "2024-03-14T17:21:55.067778Z",
     "end_time": "2024-03-14T17:21:55.084800Z"
    }
   }
  },
  {
   "cell_type": "code",
   "execution_count": 20,
   "outputs": [],
   "source": [
    "# global pooling\n",
    "data_array = torch_geometric.nn.global_add_pool(temporary_data_array, current_layer_pooling)"
   ],
   "metadata": {
    "collapsed": false,
    "ExecuteTime": {
     "start_time": "2024-03-14T17:21:56.468913Z",
     "end_time": "2024-03-14T17:21:56.480919Z"
    }
   }
  },
  {
   "cell_type": "code",
   "execution_count": 21,
   "outputs": [],
   "source": [
    "data_array = z_elu(data_array)"
   ],
   "metadata": {
    "collapsed": false,
    "ExecuteTime": {
     "start_time": "2024-03-14T17:21:58.684172Z",
     "end_time": "2024-03-14T17:21:58.706680Z"
    }
   }
  },
  {
   "cell_type": "code",
   "execution_count": 22,
   "outputs": [],
   "source": [
    "type_mask2 = type_mask[torch.unique(current_layer_pooling)]"
   ],
   "metadata": {
    "collapsed": false,
    "ExecuteTime": {
     "start_time": "2024-03-14T17:22:06.423265Z",
     "end_time": "2024-03-14T17:22:06.450266Z"
    }
   }
  }
 ],
 "metadata": {
  "kernelspec": {
   "display_name": "Python 3",
   "language": "python",
   "name": "python3"
  },
  "language_info": {
   "codemirror_mode": {
    "name": "ipython",
    "version": 2
   },
   "file_extension": ".py",
   "mimetype": "text/x-python",
   "name": "python",
   "nbconvert_exporter": "python",
   "pygments_lexer": "ipython2",
   "version": "2.7.6"
  }
 },
 "nbformat": 4,
 "nbformat_minor": 0
}
