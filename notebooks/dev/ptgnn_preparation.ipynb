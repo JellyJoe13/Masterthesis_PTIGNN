{
 "cells": [
  {
   "cell_type": "code",
   "execution_count": 9,
   "outputs": [],
   "source": [
    "import torch\n",
    "\n",
    "from ptgnn.transform.ptree_matrix import permutation_tree_to_matrix"
   ],
   "metadata": {
    "collapsed": false,
    "ExecuteTime": {
     "start_time": "2024-03-13T20:03:51.023916Z",
     "end_time": "2024-03-13T20:03:51.028918Z"
    }
   }
  },
  {
   "cell_type": "code",
   "execution_count": 10,
   "outputs": [],
   "source": [
    "from ptgnn.runtime_config.run_config import fetch_loaders"
   ],
   "metadata": {
    "collapsed": false,
    "ExecuteTime": {
     "start_time": "2024-03-13T20:03:51.163762Z",
     "end_time": "2024-03-13T20:03:51.181762Z"
    }
   }
  },
  {
   "cell_type": "code",
   "execution_count": 11,
   "outputs": [],
   "source": [
    "data_config = {\n",
    "    'dataset' : {\n",
    "        'type' : \"rs\",\n",
    "        'mask_chiral_tags': True,\n",
    "        'transformation_mode': 'chienn_tree_basic',\n",
    "    },\n",
    "    'loader': {\n",
    "        'general': {\n",
    "            'n_neighbors_in_circle': 3,\n",
    "            'batch_size': 32,\n",
    "            'num_workers': 0,\n",
    "        },\n",
    "        'train': {},\n",
    "        'test': {},\n",
    "        'val': {}\n",
    "    }\n",
    "}"
   ],
   "metadata": {
    "collapsed": false,
    "ExecuteTime": {
     "start_time": "2024-03-13T20:03:51.306926Z",
     "end_time": "2024-03-13T20:03:51.358434Z"
    }
   }
  },
  {
   "cell_type": "code",
   "execution_count": 12,
   "outputs": [],
   "source": [
    "train_loader, _, val_loader = fetch_loaders(data_config=data_config)"
   ],
   "metadata": {
    "collapsed": false,
    "ExecuteTime": {
     "start_time": "2024-03-13T20:03:51.437950Z",
     "end_time": "2024-03-13T20:03:56.988271Z"
    }
   }
  },
  {
   "cell_type": "code",
   "execution_count": 13,
   "outputs": [
    {
     "data": {
      "text/plain": "DataBatch(x=[2356, 118], edge_index=[2, 6416], edge_attr=[6416, 80], pos=[2356, 6], y=[32], batch=[2356], ptr=[33], ptree=[2356])"
     },
     "metadata": {},
     "output_type": "display_data"
    }
   ],
   "source": [
    "for batch in val_loader:\n",
    "    display(batch)\n",
    "    break"
   ],
   "metadata": {
    "collapsed": false,
    "ExecuteTime": {
     "start_time": "2024-03-13T20:03:56.989270Z",
     "end_time": "2024-03-13T20:03:57.050786Z"
    }
   }
  },
  {
   "cell_type": "markdown",
   "source": [
    "# part in collation and part possible in preprocessing"
   ],
   "metadata": {
    "collapsed": false
   }
  },
  {
   "cell_type": "code",
   "execution_count": 14,
   "outputs": [],
   "source": [
    "k = 3"
   ],
   "metadata": {
    "collapsed": false,
    "ExecuteTime": {
     "start_time": "2024-03-13T20:03:57.455345Z",
     "end_time": "2024-03-13T20:03:57.473347Z"
    }
   }
  },
  {
   "cell_type": "code",
   "execution_count": 15,
   "outputs": [
    {
     "data": {
      "text/plain": "tensor([[   0,    0,    1,    1],\n        [   1,    0,    0,    0],\n        [   1,    1,    0,    3],\n        ...,\n        [2354,    1,    1, 2351],\n        [2354,    1,    2, 2353],\n        [2355,    0, 2354, 2354]])"
     },
     "metadata": {},
     "output_type": "display_data"
    },
    {
     "data": {
      "text/plain": "tensor([[1, 0],\n        [1, 0],\n        [1, 2],\n        ...,\n        [1, 2],\n        [1, 2],\n        [1, 0]])"
     },
     "metadata": {},
     "output_type": "display_data"
    }
   ],
   "source": [
    "idx_matrix, type_matrix = permutation_tree_to_matrix(batch.ptree, k)\n",
    "display(idx_matrix)\n",
    "display(type_matrix)"
   ],
   "metadata": {
    "collapsed": false,
    "ExecuteTime": {
     "start_time": "2024-03-13T20:04:03.261921Z",
     "end_time": "2024-03-13T20:04:03.366031Z"
    }
   }
  },
  {
   "cell_type": "markdown",
   "source": [
    "## From here second part that is either in the model or in preprocessing"
   ],
   "metadata": {
    "collapsed": false
   }
  },
  {
   "cell_type": "code",
   "execution_count": 16,
   "outputs": [],
   "source": [
    "# load first index range of elements\n",
    "data_array = batch.x[idx_matrix[:, -1]]"
   ],
   "metadata": {
    "collapsed": false,
    "ExecuteTime": {
     "start_time": "2024-03-13T20:04:08.207324Z",
     "end_time": "2024-03-13T20:04:08.229326Z"
    }
   }
  },
  {
   "cell_type": "code",
   "execution_count": 17,
   "outputs": [],
   "source": [
    "# get structure to orient to\n",
    "idx_structure = idx_matrix[:, :-1]"
   ],
   "metadata": {
    "collapsed": false,
    "ExecuteTime": {
     "start_time": "2024-03-13T20:04:08.670384Z",
     "end_time": "2024-03-13T20:04:08.680383Z"
    }
   }
  },
  {
   "cell_type": "markdown",
   "source": [
    "### for loop starts here"
   ],
   "metadata": {
    "collapsed": false
   }
  },
  {
   "cell_type": "code",
   "execution_count": 18,
   "outputs": [
    {
     "data": {
      "text/plain": "tensor([[   0,    0],\n        [   1,    0],\n        [   1,    1],\n        ...,\n        [2354,    0],\n        [2354,    1],\n        [2355,    0]])"
     },
     "metadata": {},
     "output_type": "display_data"
    },
    {
     "data": {
      "text/plain": "tensor([1, 1, 3,  ..., 1, 3, 1])"
     },
     "metadata": {},
     "output_type": "display_data"
    }
   ],
   "source": [
    "# get indexes for graph pooling\n",
    "idx_structure, current_layer_pooling_counts = torch.unique(idx_structure[:, :-1], dim=0, return_counts=True)\n",
    "display(idx_structure)\n",
    "display(current_layer_pooling_counts)"
   ],
   "metadata": {
    "collapsed": false,
    "ExecuteTime": {
     "start_time": "2024-03-13T20:04:10.786096Z",
     "end_time": "2024-03-13T20:04:10.814092Z"
    }
   }
  },
  {
   "cell_type": "code",
   "execution_count": 19,
   "outputs": [
    {
     "data": {
      "text/plain": "tensor([0, 1, 2, 2, 2, 3, 4, 4, 4, 5])"
     },
     "metadata": {},
     "output_type": "display_data"
    }
   ],
   "source": [
    "# get indexes for graph pooling\n",
    "current_layer_pooling = torch.repeat_interleave(current_layer_pooling_counts)\n",
    "display(current_layer_pooling[:10])"
   ],
   "metadata": {
    "collapsed": false,
    "ExecuteTime": {
     "start_time": "2024-03-13T20:04:15.358460Z",
     "end_time": "2024-03-13T20:04:15.368458Z"
    }
   }
  },
  {
   "cell_type": "code",
   "execution_count": 12,
   "outputs": [],
   "source": [
    "# init circling\n",
    "# todo: rework for other types\n",
    "order_matrix = torch.zeros(k, len(current_layer_pooling), dtype=torch.int) - 1"
   ],
   "metadata": {
    "collapsed": false,
    "ExecuteTime": {
     "start_time": "2024-03-13T16:23:27.219155Z",
     "end_time": "2024-03-13T16:23:27.231277Z"
    }
   }
  },
  {
   "cell_type": "code",
   "execution_count": 13,
   "outputs": [],
   "source": [
    "cur_pos = 0\n",
    "for i in current_layer_pooling_counts:#[:5]:\n",
    "    current_k = min(k, i)\n",
    "    r = torch.arange(cur_pos, cur_pos+i)\n",
    "    for j in range(current_k):\n",
    "        order_matrix[:current_k, cur_pos+j] = torch.roll(r, shifts=-j)\n",
    "    cur_pos += i"
   ],
   "metadata": {
    "collapsed": false,
    "ExecuteTime": {
     "start_time": "2024-03-13T16:23:27.456992Z",
     "end_time": "2024-03-13T16:23:27.574027Z"
    }
   }
  },
  {
   "cell_type": "code",
   "execution_count": 14,
   "outputs": [
    {
     "data": {
      "text/plain": "tensor([[   0,    1,    2,  ..., 6413, 6414, 6415],\n        [  -1,   -1,    3,  ..., 6414, 6412,   -1],\n        [  -1,   -1,    4,  ..., 6412, 6413,   -1]], dtype=torch.int32)"
     },
     "execution_count": 14,
     "metadata": {},
     "output_type": "execute_result"
    }
   ],
   "source": [
    "order_matrix"
   ],
   "metadata": {
    "collapsed": false,
    "ExecuteTime": {
     "start_time": "2024-03-13T16:23:27.688161Z",
     "end_time": "2024-03-13T16:23:27.702159Z"
    }
   }
  },
  {
   "cell_type": "code",
   "execution_count": 15,
   "outputs": [],
   "source": [
    "# add zero padding to data list\n",
    "data_array = torch.cat([torch.zeros(1, data_array.shape[-1]), data_array], dim=0)\n",
    "order_matrix += 1"
   ],
   "metadata": {
    "collapsed": false,
    "ExecuteTime": {
     "start_time": "2024-03-13T16:23:28.132139Z",
     "end_time": "2024-03-13T16:23:28.157143Z"
    }
   }
  },
  {
   "cell_type": "code",
   "execution_count": 16,
   "outputs": [],
   "source": [
    "temp = data_array[order_matrix]"
   ],
   "metadata": {
    "collapsed": false,
    "ExecuteTime": {
     "start_time": "2024-03-13T16:23:28.337684Z",
     "end_time": "2024-03-13T16:23:28.345066Z"
    }
   }
  },
  {
   "cell_type": "code",
   "execution_count": 17,
   "outputs": [
    {
     "data": {
      "text/plain": "torch.Size([3, 6416, 118])"
     },
     "execution_count": 17,
     "metadata": {},
     "output_type": "execute_result"
    }
   ],
   "source": [
    "temp.shape"
   ],
   "metadata": {
    "collapsed": false,
    "ExecuteTime": {
     "start_time": "2024-03-13T16:23:28.488285Z",
     "end_time": "2024-03-13T16:23:28.497287Z"
    }
   }
  },
  {
   "cell_type": "code",
   "execution_count": 18,
   "outputs": [],
   "source": [
    "# apply z layer"
   ],
   "metadata": {
    "collapsed": false,
    "ExecuteTime": {
     "start_time": "2024-03-13T16:23:28.660147Z",
     "end_time": "2024-03-13T16:23:28.669234Z"
    }
   }
  },
  {
   "cell_type": "code",
   "execution_count": 19,
   "outputs": [],
   "source": [
    "mask_z = type_matrix[:, -1] == 2"
   ],
   "metadata": {
    "collapsed": false,
    "ExecuteTime": {
     "start_time": "2024-03-13T16:23:28.808791Z",
     "end_time": "2024-03-13T16:23:28.828124Z"
    }
   }
  },
  {
   "cell_type": "code",
   "execution_count": 23,
   "outputs": [],
   "source": [
    "z_layer = torch.nn.ModuleList([\n",
    "    torch.nn.Linear(118, 118)\n",
    "    for _ in range(k)\n",
    "])\n",
    "z_final_layer = torch.nn.Linear(118, 118)\n",
    "z_elu = torch.nn.ELU()"
   ],
   "metadata": {
    "collapsed": false,
    "ExecuteTime": {
     "start_time": "2024-03-13T20:05:48.342263Z",
     "end_time": "2024-03-13T20:05:48.367261Z"
    }
   }
  },
  {
   "cell_type": "code",
   "execution_count": 21,
   "outputs": [],
   "source": [
    "# todo: take care of duplicate elements that are sent through linear layer"
   ],
   "metadata": {
    "collapsed": false,
    "ExecuteTime": {
     "start_time": "2024-03-13T16:23:29.154868Z",
     "end_time": "2024-03-13T16:23:29.184374Z"
    }
   }
  },
  {
   "cell_type": "code",
   "execution_count": 22,
   "outputs": [
    {
     "data": {
      "text/plain": "torch.Size([6417, 118])"
     },
     "execution_count": 22,
     "metadata": {},
     "output_type": "execute_result"
    }
   ],
   "source": [
    "data_array.shape"
   ],
   "metadata": {
    "collapsed": false,
    "ExecuteTime": {
     "start_time": "2024-03-13T16:23:29.594720Z",
     "end_time": "2024-03-13T16:23:29.603719Z"
    }
   }
  },
  {
   "cell_type": "code",
   "execution_count": 23,
   "outputs": [
    {
     "data": {
      "text/plain": "torch.Size([6416, 3, 118])"
     },
     "metadata": {},
     "output_type": "display_data"
    }
   ],
   "source": [
    "embedding = torch.stack([\n",
    "    emb(t)\n",
    "    for emb, t in zip(z_layer,temp)\n",
    "], dim=1)\n",
    "display(embedding.shape)"
   ],
   "metadata": {
    "collapsed": false,
    "ExecuteTime": {
     "start_time": "2024-03-13T16:23:29.786682Z",
     "end_time": "2024-03-13T16:23:29.807681Z"
    }
   }
  },
  {
   "cell_type": "code",
   "execution_count": 24,
   "outputs": [
    {
     "data": {
      "text/plain": "torch.Size([6416, 118])"
     },
     "metadata": {},
     "output_type": "display_data"
    }
   ],
   "source": [
    "temp3 = embedding.sum(dim=1)\n",
    "display(temp3.shape)"
   ],
   "metadata": {
    "collapsed": false,
    "ExecuteTime": {
     "start_time": "2024-03-13T16:23:30.050740Z",
     "end_time": "2024-03-13T16:23:30.059738Z"
    }
   }
  },
  {
   "cell_type": "code",
   "execution_count": 25,
   "outputs": [
    {
     "data": {
      "text/plain": "torch.Size([6416, 118])"
     },
     "metadata": {},
     "output_type": "display_data"
    }
   ],
   "source": [
    "temp4 = z_final_layer(temp3)\n",
    "display(temp4.shape)"
   ],
   "metadata": {
    "collapsed": false,
    "ExecuteTime": {
     "start_time": "2024-03-13T16:23:30.275889Z",
     "end_time": "2024-03-13T16:23:30.289889Z"
    }
   }
  },
  {
   "cell_type": "code",
   "execution_count": 7,
   "outputs": [
    {
     "ename": "NameError",
     "evalue": "name 'temp4' is not defined",
     "output_type": "error",
     "traceback": [
      "\u001B[1;31m---------------------------------------------------------------------------\u001B[0m",
      "\u001B[1;31mNameError\u001B[0m                                 Traceback (most recent call last)",
      "Cell \u001B[1;32mIn[7], line 2\u001B[0m\n\u001B[0;32m      1\u001B[0m \u001B[38;5;28;01mimport\u001B[39;00m \u001B[38;5;21;01mtorch_geometric\u001B[39;00m\n\u001B[1;32m----> 2\u001B[0m data_array \u001B[38;5;241m=\u001B[39m torch_geometric\u001B[38;5;241m.\u001B[39mnn\u001B[38;5;241m.\u001B[39mglobal_add_pool(\u001B[43mtemp4\u001B[49m, current_layer_pooling)\n",
      "\u001B[1;31mNameError\u001B[0m: name 'temp4' is not defined"
     ]
    }
   ],
   "source": [
    "import torch_geometric\n",
    "data_array = torch_geometric.nn.global_add_pool(temp4, current_layer_pooling)"
   ],
   "metadata": {
    "collapsed": false,
    "ExecuteTime": {
     "start_time": "2024-03-13T16:23:30.466053Z",
     "end_time": "2024-03-13T16:23:30.475052Z"
    }
   }
  },
  {
   "cell_type": "code",
   "execution_count": 27,
   "outputs": [
    {
     "data": {
      "text/plain": "torch.Size([4124, 118])"
     },
     "execution_count": 27,
     "metadata": {},
     "output_type": "execute_result"
    }
   ],
   "source": [
    "data_array.shape"
   ],
   "metadata": {
    "collapsed": false,
    "ExecuteTime": {
     "start_time": "2024-03-13T16:23:30.666534Z",
     "end_time": "2024-03-13T16:23:30.686533Z"
    }
   }
  },
  {
   "cell_type": "code",
   "execution_count": 27,
   "outputs": [],
   "source": [],
   "metadata": {
    "collapsed": false,
    "ExecuteTime": {
     "start_time": "2024-03-13T16:23:31.116239Z",
     "end_time": "2024-03-13T16:23:31.134239Z"
    }
   }
  },
  {
   "cell_type": "code",
   "execution_count": null,
   "outputs": [],
   "source": [],
   "metadata": {
    "collapsed": false
   }
  },
  {
   "cell_type": "code",
   "execution_count": null,
   "outputs": [],
   "source": [],
   "metadata": {
    "collapsed": false
   }
  },
  {
   "cell_type": "code",
   "execution_count": 20,
   "outputs": [],
   "source": [
    "k = 3"
   ],
   "metadata": {
    "collapsed": false,
    "ExecuteTime": {
     "start_time": "2024-03-13T20:05:38.690911Z",
     "end_time": "2024-03-13T20:05:38.702426Z"
    }
   }
  },
  {
   "cell_type": "code",
   "execution_count": 21,
   "outputs": [],
   "source": [
    "batch.idx_matrix, batch.type_matrix = permutation_tree_to_matrix(batch.ptree, 3)"
   ],
   "metadata": {
    "collapsed": false,
    "ExecuteTime": {
     "start_time": "2024-03-13T20:05:38.908428Z",
     "end_time": "2024-03-13T20:05:39.113705Z"
    }
   }
  },
  {
   "cell_type": "code",
   "execution_count": 24,
   "outputs": [],
   "source": [
    "device = 'cpu'\n",
    "batch = batch.to(device)\n",
    "z_elu = z_elu.to(device)\n",
    "z_layer = z_layer.to(device)\n",
    "z_final_layer = z_final_layer.to(device)"
   ],
   "metadata": {
    "collapsed": false,
    "ExecuteTime": {
     "start_time": "2024-03-13T20:05:59.904964Z",
     "end_time": "2024-03-13T20:05:59.926473Z"
    }
   }
  },
  {
   "cell_type": "code",
   "execution_count": 25,
   "outputs": [],
   "source": [
    "# make link to batch idx_matrix\n",
    "idx_matrix = batch.idx_matrix\n",
    "\n",
    "# load first index range of elements\n",
    "data_array = batch.x[idx_matrix[:, -1]]\n",
    "\n",
    "# get structure to orient to\n",
    "idx_structure = idx_matrix[:, :-1]"
   ],
   "metadata": {
    "collapsed": false,
    "ExecuteTime": {
     "start_time": "2024-03-13T20:06:00.814903Z",
     "end_time": "2024-03-13T20:06:00.826902Z"
    }
   }
  },
  {
   "cell_type": "code",
   "execution_count": 25,
   "outputs": [],
   "source": [],
   "metadata": {
    "collapsed": false,
    "ExecuteTime": {
     "start_time": "2024-03-13T20:06:02.860727Z",
     "end_time": "2024-03-13T20:06:02.873728Z"
    }
   }
  },
  {
   "cell_type": "code",
   "execution_count": 26,
   "outputs": [],
   "source": [
    "# get indexes for graph pooling\n",
    "idx_structure, current_layer_pooling_counts = torch.unique(idx_structure[:, :-1], dim=0, return_counts=True)\n",
    "\n",
    "# get indexes for graph pooling\n",
    "current_layer_pooling = torch.repeat_interleave(current_layer_pooling_counts)\n",
    "\n",
    "# init circling\n",
    "# todo: rework for other types - treat everything as Z\n",
    "order_matrix = torch.zeros(k, len(current_layer_pooling), dtype=torch.int) - 1"
   ],
   "metadata": {
    "collapsed": false,
    "ExecuteTime": {
     "start_time": "2024-03-13T20:06:04.767100Z",
     "end_time": "2024-03-13T20:06:04.799238Z"
    }
   }
  },
  {
   "cell_type": "code",
   "execution_count": 27,
   "outputs": [],
   "source": [
    "cur_pos = 0\n",
    "for i in current_layer_pooling_counts:\n",
    "    current_k = min(k, i)\n",
    "    r = torch.arange(cur_pos, cur_pos+current_k)\n",
    "    for j in range(i):\n",
    "        order_matrix[:current_k, cur_pos+j] = torch.roll(r, shifts=-j)\n",
    "    cur_pos += i"
   ],
   "metadata": {
    "collapsed": false,
    "ExecuteTime": {
     "start_time": "2024-03-13T20:06:05.286452Z",
     "end_time": "2024-03-13T20:06:05.379967Z"
    }
   }
  },
  {
   "cell_type": "code",
   "execution_count": 28,
   "outputs": [
    {
     "data": {
      "text/plain": "tensor([[ 0,  1,  2,  3,  4,  5,  6,  7,  8,  9],\n        [-1, -1,  3,  4,  2, -1,  7,  8,  6, -1],\n        [-1, -1,  4,  2,  3, -1,  8,  6,  7, -1]], dtype=torch.int32)"
     },
     "execution_count": 28,
     "metadata": {},
     "output_type": "execute_result"
    }
   ],
   "source": [
    "order_matrix[:, :10]"
   ],
   "metadata": {
    "collapsed": false,
    "ExecuteTime": {
     "start_time": "2024-03-13T20:06:14.046827Z",
     "end_time": "2024-03-13T20:06:14.056826Z"
    }
   }
  },
  {
   "cell_type": "code",
   "execution_count": 29,
   "outputs": [
    {
     "ename": "NameError",
     "evalue": "name 'torch_geometric' is not defined",
     "output_type": "error",
     "traceback": [
      "\u001B[1;31m---------------------------------------------------------------------------\u001B[0m",
      "\u001B[1;31mNameError\u001B[0m                                 Traceback (most recent call last)",
      "Cell \u001B[1;32mIn[29], line 19\u001B[0m\n\u001B[0;32m     16\u001B[0m embedding \u001B[38;5;241m=\u001B[39m z_final_layer(embedding)\n\u001B[0;32m     18\u001B[0m \u001B[38;5;66;03m# global pooling\u001B[39;00m\n\u001B[1;32m---> 19\u001B[0m data_array \u001B[38;5;241m=\u001B[39m \u001B[43mtorch_geometric\u001B[49m\u001B[38;5;241m.\u001B[39mnn\u001B[38;5;241m.\u001B[39mglobal_add_pool(embedding, current_layer_pooling)\n",
      "\u001B[1;31mNameError\u001B[0m: name 'torch_geometric' is not defined"
     ]
    }
   ],
   "source": [
    "# add zero padding to data list\n",
    "data_array = torch.cat([torch.zeros(1, data_array.shape[-1], device=data_array.device), data_array], dim=0)\n",
    "order_matrix += 1\n",
    "\n",
    "embedding = data_array[order_matrix]\n",
    "# mask_z = batch.type_matrix\n",
    "\n",
    "embedding = torch.stack([\n",
    "    emb(t)\n",
    "    for emb, t in zip(z_layer, embedding)\n",
    "], dim=1)\n",
    "\n",
    "embedding[(order_matrix.T == 0).unsqueeze(-1).expand_as(embedding)] = 0.\n",
    "\n",
    "embedding = embedding.sum(dim=1)\n",
    "embedding = z_final_layer(embedding)\n",
    "\n",
    "# global pooling\n",
    "data_array = torch_geometric.nn.global_add_pool(embedding, current_layer_pooling)"
   ],
   "metadata": {
    "collapsed": false,
    "ExecuteTime": {
     "start_time": "2024-03-13T18:25:41.654148Z",
     "end_time": "2024-03-13T18:25:41.689467Z"
    }
   }
  },
  {
   "cell_type": "code",
   "execution_count": null,
   "outputs": [],
   "source": [],
   "metadata": {
    "collapsed": false
   }
  },
  {
   "cell_type": "code",
   "execution_count": null,
   "outputs": [],
   "source": [],
   "metadata": {
    "collapsed": false
   }
  },
  {
   "cell_type": "code",
   "execution_count": null,
   "outputs": [],
   "source": [],
   "metadata": {
    "collapsed": false
   }
  },
  {
   "cell_type": "code",
   "execution_count": 55,
   "outputs": [
    {
     "data": {
      "text/plain": "DataBatch(x=[2356, 118], edge_index=[2, 6416], edge_attr=[6416, 80], pos=[2356, 6], y=[32], batch=[2356], ptr=[33], ptree=[2356], idx_matrix=[6416, 4], type_matrix=[6416, 2])"
     },
     "execution_count": 55,
     "metadata": {},
     "output_type": "execute_result"
    }
   ],
   "source": [
    "batch"
   ],
   "metadata": {
    "collapsed": false,
    "ExecuteTime": {
     "start_time": "2024-03-13T17:16:56.099546Z",
     "end_time": "2024-03-13T17:16:56.154187Z"
    }
   }
  },
  {
   "cell_type": "code",
   "execution_count": 56,
   "outputs": [],
   "source": [
    "import json\n",
    "ptree = json.loads(batch.ptree[0])"
   ],
   "metadata": {
    "collapsed": false,
    "ExecuteTime": {
     "start_time": "2024-03-13T17:19:13.674836Z",
     "end_time": "2024-03-13T17:19:13.700840Z"
    }
   }
  },
  {
   "cell_type": "code",
   "execution_count": 58,
   "outputs": [],
   "source": [
    "from ptgnn.transform.ptree_matrix import permutation_tree_depth\n",
    "\n",
    "# get depth of tree\n",
    "tree_depth = permutation_tree_depth(ptree)"
   ],
   "metadata": {
    "collapsed": false,
    "ExecuteTime": {
     "start_time": "2024-03-13T17:19:24.744122Z",
     "end_time": "2024-03-13T17:19:24.748123Z"
    }
   }
  },
  {
   "cell_type": "code",
   "execution_count": 61,
   "outputs": [
    {
     "data": {
      "text/plain": "'{\"P\": [0, {\"Z\": [3, 7, 5]}]}'"
     },
     "execution_count": 61,
     "metadata": {},
     "output_type": "execute_result"
    }
   ],
   "source": [
    "batch.ptree[1]"
   ],
   "metadata": {
    "collapsed": false,
    "ExecuteTime": {
     "start_time": "2024-03-13T17:23:50.776657Z",
     "end_time": "2024-03-13T17:23:50.806168Z"
    }
   }
  },
  {
   "cell_type": "code",
   "execution_count": 60,
   "outputs": [
    {
     "data": {
      "text/plain": "(tensor([[0, 0, 0, 0],\n         [0, 1, 0, 3],\n         [0, 1, 1, 7],\n         [0, 1, 2, 5]]),\n tensor([[1, 0],\n         [1, 2],\n         [1, 2],\n         [1, 2]]))"
     },
     "execution_count": 60,
     "metadata": {},
     "output_type": "execute_result"
    }
   ],
   "source": [
    "permutation_tree_to_matrix([batch.ptree[1]])"
   ],
   "metadata": {
    "collapsed": false,
    "ExecuteTime": {
     "start_time": "2024-03-13T17:21:31.766860Z",
     "end_time": "2024-03-13T17:21:31.781860Z"
    }
   }
  },
  {
   "cell_type": "code",
   "execution_count": 1,
   "outputs": [
    {
     "ename": "NameError",
     "evalue": "name 'batch' is not defined",
     "output_type": "error",
     "traceback": [
      "\u001B[1;31m---------------------------------------------------------------------------\u001B[0m",
      "\u001B[1;31mNameError\u001B[0m                                 Traceback (most recent call last)",
      "Cell \u001B[1;32mIn[1], line 3\u001B[0m\n\u001B[0;32m      1\u001B[0m \u001B[38;5;28;01mfrom\u001B[39;00m \u001B[38;5;21;01mptgnn\u001B[39;00m\u001B[38;5;21;01m.\u001B[39;00m\u001B[38;5;21;01mtransform\u001B[39;00m\u001B[38;5;21;01m.\u001B[39;00m\u001B[38;5;21;01mptree_matrix\u001B[39;00m \u001B[38;5;28;01mimport\u001B[39;00m permutation_tree_to_order_matrix\n\u001B[1;32m----> 3\u001B[0m permutation_tree_to_order_matrix(\u001B[43mbatch\u001B[49m, \u001B[38;5;241m3\u001B[39m)\n",
      "\u001B[1;31mNameError\u001B[0m: name 'batch' is not defined"
     ]
    }
   ],
   "source": [
    "from ptgnn.transform.ptree_matrix import permutation_tree_to_order_matrix\n",
    "\n",
    "permutation_tree_to_order_matrix(batch, 3)"
   ],
   "metadata": {
    "collapsed": false,
    "ExecuteTime": {
     "start_time": "2024-03-13T18:55:19.945880Z",
     "end_time": "2024-03-13T18:55:20.350977Z"
    }
   }
  },
  {
   "cell_type": "code",
   "execution_count": 1,
   "outputs": [],
   "source": [
    "from ptgnn.runtime_config.run_config import fetch_loaders"
   ],
   "metadata": {
    "collapsed": false,
    "ExecuteTime": {
     "start_time": "2024-03-14T14:28:32.675233Z",
     "end_time": "2024-03-14T14:28:36.345047Z"
    }
   }
  },
  {
   "cell_type": "code",
   "execution_count": 2,
   "outputs": [],
   "source": [
    "data_config = {\n",
    "    'dataset' : {\n",
    "        'type' : \"rs\",\n",
    "        'mask_chiral_tags': True,\n",
    "        'transformation_mode': 'chienn_tree_order_matrix',\n",
    "        'transformation_parameters': {\n",
    "            'k': 3\n",
    "        }\n",
    "    },\n",
    "    'loader': {\n",
    "        'general': {\n",
    "            'n_neighbors_in_circle': 3,\n",
    "            'batch_size': 32,\n",
    "            'num_workers': 0,\n",
    "        },\n",
    "        'train': {},\n",
    "        'test': {},\n",
    "        'val': {}\n",
    "    }\n",
    "}"
   ],
   "metadata": {
    "collapsed": false,
    "ExecuteTime": {
     "start_time": "2024-03-14T14:28:36.351043Z",
     "end_time": "2024-03-14T14:28:36.361048Z"
    }
   }
  },
  {
   "cell_type": "code",
   "execution_count": 3,
   "outputs": [],
   "source": [
    "train_loader, _, val_loader = fetch_loaders(data_config=data_config)"
   ],
   "metadata": {
    "collapsed": false,
    "ExecuteTime": {
     "start_time": "2024-03-14T14:28:36.361048Z",
     "end_time": "2024-03-14T14:28:50.333128Z"
    }
   }
  },
  {
   "cell_type": "code",
   "execution_count": 8,
   "outputs": [
    {
     "data": {
      "text/plain": "DataBatch(x=[2804, 118], edge_index=[2, 7684], edge_attr=[7684, 80], pos=[2804, 6], y=[32], batch=[2804], ptr=[33], ptree=[2804], num_layer=[1], initial_map=[7684], layer0_order_matrix=[3, 7684], layer0_type_mask=[7684], layer0_pooling=[7684], layer1_order_matrix=[3, 4978], layer1_type_mask=[4978], layer1_pooling=[4978])"
     },
     "metadata": {},
     "output_type": "display_data"
    }
   ],
   "source": [
    "for t in train_loader:\n",
    "    display(t)\n",
    "    break"
   ],
   "metadata": {
    "collapsed": false,
    "ExecuteTime": {
     "start_time": "2024-03-14T14:28:57.228432Z",
     "end_time": "2024-03-14T14:28:57.253943Z"
    }
   }
  },
  {
   "cell_type": "code",
   "execution_count": 9,
   "outputs": [
    {
     "name": "stdout",
     "output_type": "stream",
     "text": [
      "tensor(4977, dtype=torch.int32)\n",
      "tensor(4977)\n",
      "tensor(2)\n",
      "tensor(2803)\n"
     ]
    }
   ],
   "source": [
    "print(t.layer1_order_matrix.max())\n",
    "print(t.layer0_pooling.max())\n",
    "print(t.layer0_type_mask.max())\n",
    "print(t.initial_map.max())"
   ],
   "metadata": {
    "collapsed": false,
    "ExecuteTime": {
     "start_time": "2024-03-14T14:28:57.611542Z",
     "end_time": "2024-03-14T14:28:57.633542Z"
    }
   }
  },
  {
   "cell_type": "code",
   "execution_count": 6,
   "outputs": [
    {
     "data": {
      "text/plain": "tensor([0, 0, 2,  ..., 2, 0, 2])"
     },
     "execution_count": 6,
     "metadata": {},
     "output_type": "execute_result"
    }
   ],
   "source": [
    "t.layer0_type_mask"
   ],
   "metadata": {
    "collapsed": false,
    "ExecuteTime": {
     "start_time": "2024-03-13T20:18:30.890877Z",
     "end_time": "2024-03-13T20:18:30.909880Z"
    }
   }
  },
  {
   "cell_type": "code",
   "execution_count": 11,
   "outputs": [
    {
     "data": {
      "text/plain": "tensor([  0,   1,   2,   2,   3,   4,   4,   5,   6,   6,   7,   8,   8,   9,\n         10,  10,  11,  12,  12,  13,  14,  14,  14,  15,  16,  16,  17,  18,\n         19,  19,  19,  20,  21,  21,  22,  23,  23,  23,  24,  25,  25,  25,\n         26,  27,  27,  27,  28,  29,  30,  30,  31,  32,  32,  33,  34,  34,\n         35,  36,  36,  37,  38,  38,  39,  40,  40,  41,  42,  42,  43,  44,\n         45,  45,  46,  47,  47,  48,  49,  49,  50,  51,  52,  52,  53,  54,\n         54,  55,  56,  56,  57,  58,  58,  59,  60,  60,  61,  62,  62,  63,\n         64,  64,  65,  66,  66,  67,  68,  68,  69,  70,  70,  71,  72,  72,\n         73,  74,  75,  75,  76,  77,  77,  78,  79,  79,  80,  81,  82,  82,\n         83,  84,  84,  85,  86,  86,  87,  88,  89,  89,  90,  91,  91,  92,\n         93,  93,  94,  95,  96,  96,  97,  98,  99,  99, 100, 101, 101, 102,\n        103, 103, 104, 105, 106, 106, 107, 108, 109, 109, 109, 110, 111, 111,\n        112, 113, 113, 113, 114, 115, 116, 116, 116, 117, 118, 119, 119, 120,\n        121, 121, 122, 123, 123, 124, 125, 125, 126, 127, 127, 128, 129, 130,\n        131, 131, 132, 133, 134, 135, 136, 137, 137, 138, 139, 139, 140, 141,\n        141, 142, 143, 143, 144, 145, 146, 147, 147, 148, 149, 149, 150, 151,\n        151, 152, 153, 153, 154, 155, 155, 156, 157, 157, 158, 159, 159, 160,\n        161, 162, 162, 163, 164, 164, 165, 166, 166, 167, 168, 169, 169, 170,\n        171, 171, 172, 173, 173, 174, 175, 176, 176, 177, 178, 178, 179, 180,\n        180, 181, 182, 183, 183, 184, 185, 186, 187, 188, 188, 189, 190, 190,\n        191, 192, 192, 193, 194, 194, 195, 196, 197, 198, 198, 199, 200, 200,\n        201, 202, 202, 203, 204, 204, 205, 206, 206, 207, 208, 208, 209, 210,\n        210, 211, 212, 213, 213, 214, 215, 215, 216, 217, 217, 218, 219, 220,\n        220, 221, 222, 222, 223, 224, 224, 225, 226, 227, 227, 228, 229, 229,\n        230, 231, 231, 232, 233, 234, 234, 235, 236, 237, 237, 238])"
     },
     "execution_count": 11,
     "metadata": {},
     "output_type": "execute_result"
    }
   ],
   "source": [
    "t.layer0_pooling[0][0][0]"
   ],
   "metadata": {
    "collapsed": false,
    "ExecuteTime": {
     "start_time": "2024-03-13T20:22:16.002180Z",
     "end_time": "2024-03-13T20:22:16.015180Z"
    }
   }
  },
  {
   "cell_type": "code",
   "execution_count": 10,
   "outputs": [],
   "source": [
    "k=3"
   ],
   "metadata": {
    "collapsed": false,
    "ExecuteTime": {
     "start_time": "2024-03-14T14:29:10.541130Z",
     "end_time": "2024-03-14T14:29:10.555135Z"
    }
   }
  },
  {
   "cell_type": "code",
   "execution_count": 19,
   "outputs": [],
   "source": [
    "import torch\n",
    "import torch_geometric\n",
    "from tqdm import tqdm"
   ],
   "metadata": {
    "collapsed": false,
    "ExecuteTime": {
     "start_time": "2024-03-14T14:29:44.053087Z",
     "end_time": "2024-03-14T14:29:44.060088Z"
    }
   }
  },
  {
   "cell_type": "code",
   "execution_count": 20,
   "outputs": [],
   "source": [
    "z_layer = torch.nn.ModuleList([\n",
    "    torch.nn.Linear(118, 118)\n",
    "    for _ in range(k)\n",
    "])\n",
    "z_final_layer = torch.nn.Linear(118, 118)\n",
    "z_elu = torch.nn.ELU()"
   ],
   "metadata": {
    "collapsed": false,
    "ExecuteTime": {
     "start_time": "2024-03-14T14:29:45.019163Z",
     "end_time": "2024-03-14T14:29:45.024162Z"
    }
   }
  },
  {
   "cell_type": "code",
   "execution_count": 23,
   "outputs": [],
   "source": [
    "# device = 'cpu'\n",
    "device = 'cuda'\n",
    "\n",
    "z_elu = z_elu.to(device)\n",
    "z_layer = z_layer.to(device)\n",
    "z_final_layer = z_final_layer.to(device)"
   ],
   "metadata": {
    "collapsed": false,
    "ExecuteTime": {
     "start_time": "2024-03-14T14:31:06.857538Z",
     "end_time": "2024-03-14T14:31:06.948696Z"
    }
   }
  },
  {
   "cell_type": "code",
   "execution_count": 25,
   "outputs": [
    {
     "name": "stderr",
     "output_type": "stream",
     "text": [
      "100%|██████████| 1721/1721 [00:49<00:00, 35.04it/s]\n"
     ]
    }
   ],
   "source": [
    "for batch in tqdm(train_loader):\n",
    "    batch = batch.to(device)\n",
    "\n",
    "    # load first index range of elements\n",
    "    data_array = batch.x[batch.initial_map]\n",
    "\n",
    "    for layer_idx in range(batch.num_layer):\n",
    "        # fetch data\n",
    "        order_matrix = batch[f\"layer{layer_idx}_order_matrix\"]\n",
    "        current_layer_pooling = batch[f\"layer{layer_idx}_pooling\"]\n",
    "        type_mask = batch[f\"layer{layer_idx}_type_mask\"] # todo: actually use for different types\n",
    "\n",
    "        # add zero padding to data list\n",
    "        data_array = torch.cat([torch.zeros(1, data_array.shape[-1], device=data_array.device), data_array], dim=0)\n",
    "        order_matrix += 1\n",
    "\n",
    "        embedding = data_array[order_matrix]\n",
    "        # mask_z = batch.type_matrix\n",
    "\n",
    "        embedding = torch.stack([\n",
    "            emb(t)\n",
    "            for emb, t in zip(z_layer, embedding)\n",
    "        ], dim=1)\n",
    "\n",
    "        embedding[(order_matrix.T == 0).unsqueeze(-1).expand_as(embedding)] = 0.\n",
    "\n",
    "        embedding = embedding.sum(dim=1)\n",
    "        embedding = z_final_layer(embedding)\n",
    "\n",
    "        # global pooling\n",
    "        data_array = torch_geometric.nn.global_add_pool(embedding, current_layer_pooling)\n",
    "\n",
    "    assert data_array.shape == batch.x.shape"
   ],
   "metadata": {
    "collapsed": false,
    "ExecuteTime": {
     "start_time": "2024-03-14T14:32:28.240826Z",
     "end_time": "2024-03-14T14:33:17.364281Z"
    }
   }
  },
  {
   "cell_type": "code",
   "execution_count": null,
   "outputs": [],
   "source": [],
   "metadata": {
    "collapsed": false
   }
  }
 ],
 "metadata": {
  "kernelspec": {
   "display_name": "Python 3",
   "language": "python",
   "name": "python3"
  },
  "language_info": {
   "codemirror_mode": {
    "name": "ipython",
    "version": 2
   },
   "file_extension": ".py",
   "mimetype": "text/x-python",
   "name": "python",
   "nbconvert_exporter": "python",
   "pygments_lexer": "ipython2",
   "version": "2.7.6"
  }
 },
 "nbformat": 4,
 "nbformat_minor": 0
}
