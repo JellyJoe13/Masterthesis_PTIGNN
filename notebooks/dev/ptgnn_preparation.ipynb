{
 "cells": [
  {
   "cell_type": "code",
   "execution_count": 1,
   "outputs": [],
   "source": [
    "import torch"
   ],
   "metadata": {
    "collapsed": false,
    "ExecuteTime": {
     "start_time": "2024-03-13T14:50:26.338253Z",
     "end_time": "2024-03-13T14:50:27.452810Z"
    }
   }
  },
  {
   "cell_type": "code",
   "execution_count": 2,
   "outputs": [],
   "source": [
    "from ptgnn.runtime_config.run_config import fetch_loaders"
   ],
   "metadata": {
    "collapsed": false,
    "ExecuteTime": {
     "start_time": "2024-03-13T14:50:27.444810Z",
     "end_time": "2024-03-13T14:50:30.114556Z"
    }
   }
  },
  {
   "cell_type": "code",
   "execution_count": 3,
   "outputs": [],
   "source": [
    "data_config = {\n",
    "    'dataset' : {\n",
    "        'type' : \"rs\",\n",
    "        'mask_chiral_tags': True,\n",
    "        'transformation_mode': 'chienn_tree_basic',\n",
    "    },\n",
    "    'loader': {\n",
    "        'general': {\n",
    "            'n_neighbors_in_circle': 3,\n",
    "            'batch_size': 32,\n",
    "            'num_workers': 0,\n",
    "        },\n",
    "        'train': {},\n",
    "        'test': {},\n",
    "        'val': {}\n",
    "    }\n",
    "}"
   ],
   "metadata": {
    "collapsed": false,
    "ExecuteTime": {
     "start_time": "2024-03-13T14:50:30.116556Z",
     "end_time": "2024-03-13T14:50:30.130558Z"
    }
   }
  },
  {
   "cell_type": "code",
   "execution_count": 4,
   "outputs": [],
   "source": [
    "train_loader, _, val_loader = fetch_loaders(data_config=data_config)"
   ],
   "metadata": {
    "collapsed": false,
    "ExecuteTime": {
     "start_time": "2024-03-13T14:50:30.131559Z",
     "end_time": "2024-03-13T14:50:34.519936Z"
    }
   }
  },
  {
   "cell_type": "code",
   "execution_count": 5,
   "outputs": [
    {
     "data": {
      "text/plain": "DataBatch(x=[2356, 118], edge_index=[2, 6416], edge_attr=[6416, 80], pos=[2356, 6], y=[32], batch=[2356], ptr=[33], ptree=[2356])"
     },
     "metadata": {},
     "output_type": "display_data"
    }
   ],
   "source": [
    "for batch in val_loader:\n",
    "    display(batch)\n",
    "    break"
   ],
   "metadata": {
    "collapsed": false,
    "ExecuteTime": {
     "start_time": "2024-03-13T14:50:34.522938Z",
     "end_time": "2024-03-13T14:50:34.581456Z"
    }
   }
  },
  {
   "cell_type": "code",
   "execution_count": 6,
   "outputs": [],
   "source": [
    "import json\n",
    "\n",
    "# extract permutation trees from string\n",
    "permutation_trees = [\n",
    "    json.loads(p_string)\n",
    "    for p_string in batch.ptree\n",
    "]"
   ],
   "metadata": {
    "collapsed": false,
    "ExecuteTime": {
     "start_time": "2024-03-13T14:50:34.553459Z",
     "end_time": "2024-03-13T14:50:34.598457Z"
    }
   }
  },
  {
   "cell_type": "code",
   "execution_count": 7,
   "outputs": [],
   "source": [
    "k = 3"
   ],
   "metadata": {
    "collapsed": false,
    "ExecuteTime": {
     "start_time": "2024-03-13T14:50:34.569457Z",
     "end_time": "2024-03-13T14:50:34.598457Z"
    }
   }
  },
  {
   "cell_type": "code",
   "execution_count": 8,
   "outputs": [],
   "source": [
    "def depth(d):\n",
    "    if isinstance(d, list):\n",
    "        return max(map(depth, d))\n",
    "    if isinstance(d, dict):\n",
    "        return 1 + (max(map(depth, d.values())) if d else 0)\n",
    "    return 0"
   ],
   "metadata": {
    "collapsed": false,
    "ExecuteTime": {
     "start_time": "2024-03-13T14:50:34.583457Z",
     "end_time": "2024-03-13T14:50:34.609456Z"
    }
   }
  },
  {
   "cell_type": "code",
   "execution_count": 9,
   "outputs": [
    {
     "data": {
      "text/plain": "2"
     },
     "execution_count": 9,
     "metadata": {},
     "output_type": "execute_result"
    }
   ],
   "source": [
    "# get number of layers\n",
    "num_layers = depth(permutation_trees)\n",
    "num_layers"
   ],
   "metadata": {
    "collapsed": false,
    "ExecuteTime": {
     "start_time": "2024-03-13T14:50:34.600457Z",
     "end_time": "2024-03-13T14:50:34.660974Z"
    }
   }
  },
  {
   "cell_type": "code",
   "execution_count": 10,
   "outputs": [],
   "source": [
    "type_dict = {\n",
    "    \"P\": 1,\n",
    "    \"Z\": 2\n",
    "}"
   ],
   "metadata": {
    "collapsed": false,
    "ExecuteTime": {
     "start_time": "2024-03-13T14:50:34.784143Z",
     "end_time": "2024-03-13T14:50:34.788142Z"
    }
   }
  },
  {
   "cell_type": "code",
   "execution_count": 11,
   "outputs": [],
   "source": [
    "# get matrix of permutation tree"
   ],
   "metadata": {
    "collapsed": false,
    "ExecuteTime": {
     "start_time": "2024-03-13T14:50:36.170086Z",
     "end_time": "2024-03-13T14:50:36.188085Z"
    }
   }
  },
  {
   "cell_type": "code",
   "execution_count": 12,
   "outputs": [],
   "source": [
    "def get_matrix(tree, depth, idx_prefix: list = [], type_prefix: list = []) -> list:\n",
    "    if isinstance(tree, list):\n",
    "        idx_matrix, type_matrix = zip(*[\n",
    "            get_matrix(child, depth, idx_prefix + [idx], type_prefix)\n",
    "            for idx, child in enumerate(tree)\n",
    "        ])\n",
    "        return torch.cat(idx_matrix, dim=0), torch.cat(type_matrix, dim=0)\n",
    "\n",
    "    elif isinstance(tree, dict):\n",
    "        key = next(iter(tree.keys()))\n",
    "        return get_matrix(tree[key], depth - 1, idx_prefix, type_prefix=type_prefix + [type_dict[key]])\n",
    "\n",
    "    elif isinstance(tree, int):\n",
    "\n",
    "        return torch.tensor(idx_prefix + [tree] + [-1] * depth).reshape(1, -1), torch.tensor(type_prefix + [0]*depth).reshape(1, -1)\n",
    "\n",
    "    else:\n",
    "        return [-1]"
   ],
   "metadata": {
    "collapsed": false,
    "ExecuteTime": {
     "start_time": "2024-03-13T14:50:41.846400Z",
     "end_time": "2024-03-13T14:50:41.864399Z"
    }
   }
  },
  {
   "cell_type": "code",
   "execution_count": 13,
   "outputs": [
    {
     "data": {
      "text/plain": "tensor([[   0,    0,    1,   -1],\n        [   1,    0,    0,   -1],\n        [   1,    1,    0,    3],\n        ...,\n        [2354,    1,    1, 2351],\n        [2354,    1,    2, 2353],\n        [2355,    0, 2354,   -1]])"
     },
     "metadata": {},
     "output_type": "display_data"
    },
    {
     "data": {
      "text/plain": "tensor([[1, 0],\n        [1, 0],\n        [1, 2],\n        ...,\n        [1, 2],\n        [1, 2],\n        [1, 0]])"
     },
     "metadata": {},
     "output_type": "display_data"
    }
   ],
   "source": [
    "idx_matrix, type_matrix = get_matrix(permutation_trees, depth=num_layers)\n",
    "display(idx_matrix)\n",
    "display(type_matrix)"
   ],
   "metadata": {
    "collapsed": false,
    "ExecuteTime": {
     "start_time": "2024-03-13T14:50:44.752918Z",
     "end_time": "2024-03-13T14:50:44.993975Z"
    }
   }
  },
  {
   "cell_type": "code",
   "execution_count": 14,
   "outputs": [
    {
     "data": {
      "text/plain": "tensor([[   0,    0,    1,    1],\n        [   1,    0,    0,    0],\n        [   1,    1,    0,    3],\n        ...,\n        [2354,    1,    1, 2351],\n        [2354,    1,    2, 2353],\n        [2355,    0, 2354, 2354]])"
     },
     "metadata": {},
     "output_type": "display_data"
    }
   ],
   "source": [
    "# fill -1 in matrix with last values\n",
    "for i in range(1,idx_matrix.shape[1]):\n",
    "    # get the -1 entry mask\n",
    "    mask = idx_matrix[:, i] == -1\n",
    "    idx_matrix[mask, i] = idx_matrix[mask, i-1]\n",
    "\n",
    "display(idx_matrix)"
   ],
   "metadata": {
    "collapsed": false,
    "ExecuteTime": {
     "start_time": "2024-03-13T14:50:52.589457Z",
     "end_time": "2024-03-13T14:50:52.597456Z"
    }
   }
  },
  {
   "cell_type": "code",
   "execution_count": 15,
   "outputs": [
    {
     "data": {
      "text/plain": "tensor([[0., 1., 0.,  ..., 0., 0., 0.],\n        [0., 0., 0.,  ..., 0., 0., 0.],\n        [0., 0., 0.,  ..., 0., 0., 0.],\n        ...,\n        [1., 0., 0.,  ..., 0., 0., 0.],\n        [1., 0., 0.,  ..., 0., 0., 0.],\n        [0., 1., 0.,  ..., 0., 0., 0.]])"
     },
     "metadata": {},
     "output_type": "display_data"
    },
    {
     "data": {
      "text/plain": "torch.Size([6416, 118])"
     },
     "metadata": {},
     "output_type": "display_data"
    }
   ],
   "source": [
    "# load first index range of elements\n",
    "data_array = batch.x[idx_matrix[:, -1]]\n",
    "display(data_array)\n",
    "display(data_array.shape)"
   ],
   "metadata": {
    "collapsed": false,
    "ExecuteTime": {
     "start_time": "2024-03-13T14:50:53.843021Z",
     "end_time": "2024-03-13T14:50:53.864533Z"
    }
   }
  },
  {
   "cell_type": "code",
   "execution_count": 16,
   "outputs": [],
   "source": [
    "# get structure to orient to\n",
    "idx_structure = idx_matrix[:, :-1]"
   ],
   "metadata": {
    "collapsed": false,
    "ExecuteTime": {
     "start_time": "2024-03-13T14:50:56.340725Z",
     "end_time": "2024-03-13T14:50:56.364234Z"
    }
   }
  },
  {
   "cell_type": "code",
   "execution_count": 34,
   "outputs": [
    {
     "data": {
      "text/plain": "tensor([[   0],\n        [   1],\n        [   2],\n        ...,\n        [2353],\n        [2354],\n        [2355]])"
     },
     "metadata": {},
     "output_type": "display_data"
    },
    {
     "data": {
      "text/plain": "tensor([1, 2, 2,  ..., 1, 2, 1])"
     },
     "metadata": {},
     "output_type": "display_data"
    }
   ],
   "source": [
    "# get indexes for graph pooling\n",
    "idx_structure, current_layer_pooling_counts = torch.unique(idx_structure[:, :-1], dim=0, return_counts=True)\n",
    "display(idx_structure)\n",
    "display(current_layer_pooling_counts)"
   ],
   "metadata": {
    "collapsed": false,
    "ExecuteTime": {
     "start_time": "2024-03-13T14:51:16.412740Z",
     "end_time": "2024-03-13T14:51:16.478305Z"
    }
   }
  },
  {
   "cell_type": "code",
   "execution_count": 35,
   "outputs": [
    {
     "data": {
      "text/plain": "tensor([0, 1, 1, 2, 2, 3, 3, 4, 4, 5])"
     },
     "metadata": {},
     "output_type": "display_data"
    }
   ],
   "source": [
    "# get indexes for graph pooling\n",
    "current_layer_pooling = torch.repeat_interleave(current_layer_pooling_counts)\n",
    "display(current_layer_pooling[:10])"
   ],
   "metadata": {
    "collapsed": false,
    "ExecuteTime": {
     "start_time": "2024-03-13T14:51:17.981759Z",
     "end_time": "2024-03-13T14:51:18.021133Z"
    }
   }
  },
  {
   "cell_type": "code",
   "execution_count": 36,
   "outputs": [],
   "source": [
    "# init circling\n",
    "# todo: rework for other types\n",
    "order_matrix = torch.zeros(k, len(current_layer_pooling), dtype=torch.int) - 1"
   ],
   "metadata": {
    "collapsed": false,
    "ExecuteTime": {
     "start_time": "2024-03-13T14:51:22.220532Z",
     "end_time": "2024-03-13T14:51:22.229529Z"
    }
   }
  },
  {
   "cell_type": "code",
   "execution_count": 37,
   "outputs": [],
   "source": [
    "cur_pos = 0\n",
    "for i in current_layer_pooling_counts:#[:5]:\n",
    "    current_k = min(k, i)\n",
    "    r = torch.arange(cur_pos, cur_pos+i)\n",
    "    for j in range(current_k):\n",
    "        order_matrix[:current_k, cur_pos+j] = torch.roll(r, shifts=-j)\n",
    "    cur_pos += i"
   ],
   "metadata": {
    "collapsed": false,
    "ExecuteTime": {
     "start_time": "2024-03-13T14:51:25.875155Z",
     "end_time": "2024-03-13T14:51:25.954403Z"
    }
   }
  },
  {
   "cell_type": "code",
   "execution_count": 38,
   "outputs": [
    {
     "data": {
      "text/plain": "tensor([[   0,    1,    2,  ..., 4121, 4122, 4123],\n        [  -1,    2,    1,  ..., 4122, 4121,   -1],\n        [  -1,   -1,   -1,  ...,   -1,   -1,   -1]], dtype=torch.int32)"
     },
     "execution_count": 38,
     "metadata": {},
     "output_type": "execute_result"
    }
   ],
   "source": [
    "order_matrix"
   ],
   "metadata": {
    "collapsed": false,
    "ExecuteTime": {
     "start_time": "2024-03-13T14:51:26.579721Z",
     "end_time": "2024-03-13T14:51:26.596108Z"
    }
   }
  },
  {
   "cell_type": "code",
   "execution_count": 39,
   "outputs": [],
   "source": [
    "# add zero padding to data list\n",
    "data_array = torch.cat([torch.zeros(1, data_array.shape[-1]), data_array], dim=0)\n",
    "order_matrix += 1"
   ],
   "metadata": {
    "collapsed": false,
    "ExecuteTime": {
     "start_time": "2024-03-13T14:51:29.365085Z",
     "end_time": "2024-03-13T14:51:29.392592Z"
    }
   }
  },
  {
   "cell_type": "code",
   "execution_count": 40,
   "outputs": [],
   "source": [
    "temp = data_array[order_matrix]"
   ],
   "metadata": {
    "collapsed": false,
    "ExecuteTime": {
     "start_time": "2024-03-13T14:51:30.625073Z",
     "end_time": "2024-03-13T14:51:30.643580Z"
    }
   }
  },
  {
   "cell_type": "code",
   "execution_count": 41,
   "outputs": [
    {
     "data": {
      "text/plain": "torch.Size([3, 4124, 118])"
     },
     "execution_count": 41,
     "metadata": {},
     "output_type": "execute_result"
    }
   ],
   "source": [
    "temp.shape"
   ],
   "metadata": {
    "collapsed": false,
    "ExecuteTime": {
     "start_time": "2024-03-13T14:51:31.260008Z",
     "end_time": "2024-03-13T14:51:31.280011Z"
    }
   }
  },
  {
   "cell_type": "code",
   "execution_count": 42,
   "outputs": [],
   "source": [
    "# apply z layer"
   ],
   "metadata": {
    "collapsed": false,
    "ExecuteTime": {
     "start_time": "2024-03-13T14:51:39.668331Z",
     "end_time": "2024-03-13T14:51:39.693839Z"
    }
   }
  },
  {
   "cell_type": "code",
   "execution_count": 43,
   "outputs": [],
   "source": [
    "mask_z = type_matrix[:, -1] == 2"
   ],
   "metadata": {
    "collapsed": false,
    "ExecuteTime": {
     "start_time": "2024-03-13T14:51:41.172870Z",
     "end_time": "2024-03-13T14:51:41.176865Z"
    }
   }
  },
  {
   "cell_type": "code",
   "execution_count": 44,
   "outputs": [],
   "source": [
    "z_layer = torch.nn.ModuleList([\n",
    "    torch.nn.Linear(118, 118)\n",
    "    for _ in range(k)\n",
    "])\n",
    "z_final_layer = torch.nn.Linear(118, 118)\n",
    "z_elu = torch.nn.ELU()"
   ],
   "metadata": {
    "collapsed": false,
    "ExecuteTime": {
     "start_time": "2024-03-13T14:51:41.981074Z",
     "end_time": "2024-03-13T14:51:42.007580Z"
    }
   }
  },
  {
   "cell_type": "code",
   "execution_count": 45,
   "outputs": [],
   "source": [
    "# todo: take care of duplicate elements that are sent through linear layer"
   ],
   "metadata": {
    "collapsed": false,
    "ExecuteTime": {
     "start_time": "2024-03-13T14:51:42.707833Z",
     "end_time": "2024-03-13T14:51:42.724831Z"
    }
   }
  },
  {
   "cell_type": "code",
   "execution_count": 46,
   "outputs": [
    {
     "data": {
      "text/plain": "torch.Size([4125, 118])"
     },
     "execution_count": 46,
     "metadata": {},
     "output_type": "execute_result"
    }
   ],
   "source": [
    "data_array.shape"
   ],
   "metadata": {
    "collapsed": false,
    "ExecuteTime": {
     "start_time": "2024-03-13T14:51:43.100238Z",
     "end_time": "2024-03-13T14:51:43.116237Z"
    }
   }
  },
  {
   "cell_type": "code",
   "execution_count": 47,
   "outputs": [
    {
     "data": {
      "text/plain": "torch.Size([4124, 3, 118])"
     },
     "metadata": {},
     "output_type": "display_data"
    }
   ],
   "source": [
    "embedding = torch.stack([\n",
    "    emb(t)\n",
    "    for emb, t in zip(z_layer,temp)\n",
    "], dim=1)\n",
    "display(embedding.shape)"
   ],
   "metadata": {
    "collapsed": false,
    "ExecuteTime": {
     "start_time": "2024-03-13T14:51:43.922679Z",
     "end_time": "2024-03-13T14:51:43.950678Z"
    }
   }
  },
  {
   "cell_type": "code",
   "execution_count": 48,
   "outputs": [
    {
     "data": {
      "text/plain": "torch.Size([4124, 118])"
     },
     "metadata": {},
     "output_type": "display_data"
    }
   ],
   "source": [
    "temp3 = embedding.sum(dim=1)\n",
    "display(temp3.shape)"
   ],
   "metadata": {
    "collapsed": false,
    "ExecuteTime": {
     "start_time": "2024-03-13T14:51:46.419816Z",
     "end_time": "2024-03-13T14:51:46.438816Z"
    }
   }
  },
  {
   "cell_type": "code",
   "execution_count": 49,
   "outputs": [
    {
     "data": {
      "text/plain": "torch.Size([4124, 118])"
     },
     "metadata": {},
     "output_type": "display_data"
    }
   ],
   "source": [
    "temp4 = z_final_layer(temp3)\n",
    "display(temp4.shape)"
   ],
   "metadata": {
    "collapsed": false,
    "ExecuteTime": {
     "start_time": "2024-03-13T14:51:47.794865Z",
     "end_time": "2024-03-13T14:51:47.825862Z"
    }
   }
  },
  {
   "cell_type": "code",
   "execution_count": 50,
   "outputs": [],
   "source": [
    "import torch_geometric\n",
    "data_array = torch_geometric.nn.global_add_pool(temp4, current_layer_pooling)"
   ],
   "metadata": {
    "collapsed": false,
    "ExecuteTime": {
     "start_time": "2024-03-13T14:51:49.794517Z",
     "end_time": "2024-03-13T14:51:49.818516Z"
    }
   }
  },
  {
   "cell_type": "code",
   "execution_count": 51,
   "outputs": [
    {
     "data": {
      "text/plain": "torch.Size([2356, 118])"
     },
     "execution_count": 51,
     "metadata": {},
     "output_type": "execute_result"
    }
   ],
   "source": [
    "data_array.shape"
   ],
   "metadata": {
    "collapsed": false,
    "ExecuteTime": {
     "start_time": "2024-03-13T14:51:55.173710Z",
     "end_time": "2024-03-13T14:51:55.199217Z"
    }
   }
  }
 ],
 "metadata": {
  "kernelspec": {
   "display_name": "Python 3",
   "language": "python",
   "name": "python3"
  },
  "language_info": {
   "codemirror_mode": {
    "name": "ipython",
    "version": 2
   },
   "file_extension": ".py",
   "mimetype": "text/x-python",
   "name": "python",
   "nbconvert_exporter": "python",
   "pygments_lexer": "ipython2",
   "version": "2.7.6"
  }
 },
 "nbformat": 4,
 "nbformat_minor": 0
}
