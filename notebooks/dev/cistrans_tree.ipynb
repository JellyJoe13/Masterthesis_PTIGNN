{
 "cells": [
  {
   "cell_type": "code",
   "execution_count": 1,
   "metadata": {
    "collapsed": true,
    "ExecuteTime": {
     "start_time": "2024-03-16T20:42:25.241898Z",
     "end_time": "2024-03-16T20:42:25.383492Z"
    }
   },
   "outputs": [],
   "source": [
    "from rdkit import Chem\n",
    "from rdkit.Chem import AllChem"
   ]
  },
  {
   "cell_type": "markdown",
   "source": [
    "## cis molecule"
   ],
   "metadata": {
    "collapsed": false
   }
  },
  {
   "cell_type": "code",
   "execution_count": 2,
   "outputs": [],
   "source": [
    "# define cis/trans molecule\n",
    "mol_smiles = \"OC(=O)/C=C\\C(=O)O\""
   ],
   "metadata": {
    "collapsed": false,
    "ExecuteTime": {
     "start_time": "2024-03-16T20:42:25.997313Z",
     "end_time": "2024-03-16T20:42:26.006313Z"
    }
   }
  },
  {
   "cell_type": "code",
   "execution_count": 3,
   "outputs": [
    {
     "data": {
      "text/plain": "<rdkit.Chem.rdchem.Mol at 0x1a3223492e0>",
      "image/png": "[encoded data removed]"
     },
     "metadata": {},
     "output_type": "display_data"
    }
   ],
   "source": [
    "from ptgnn.features.chienn.molecule3d import smiles_to_3d_mol\n",
    "\n",
    "# generate Molecule\n",
    "mol = smiles_to_3d_mol(\n",
    "    mol_smiles,\n",
    "    max_number_of_attempts=100,\n",
    "    max_number_of_atoms=100\n",
    ")\n",
    "display(mol)"
   ],
   "metadata": {
    "collapsed": false,
    "ExecuteTime": {
     "start_time": "2024-03-16T20:42:26.372785Z",
     "end_time": "2024-03-16T20:42:28.202805Z"
    }
   }
  },
  {
   "cell_type": "code",
   "execution_count": 4,
   "outputs": [],
   "source": [
    "def show_atom_number(mol, label):\n",
    "    for atom in mol.GetAtoms():\n",
    "        atom.SetProp(label, str(atom.GetIdx()))\n",
    "    return mol"
   ],
   "metadata": {
    "collapsed": false,
    "ExecuteTime": {
     "start_time": "2024-03-16T20:42:30.085129Z",
     "end_time": "2024-03-16T20:42:30.104129Z"
    }
   }
  },
  {
   "cell_type": "code",
   "execution_count": 5,
   "outputs": [
    {
     "data": {
      "text/plain": "<rdkit.Chem.rdchem.Mol at 0x1a3223492e0>",
      "image/png": "[encoded data removed]"
     },
     "execution_count": 5,
     "metadata": {},
     "output_type": "execute_result"
    }
   ],
   "source": [
    "show_atom_number(mol, \"atomLabel\")"
   ],
   "metadata": {
    "collapsed": false,
    "ExecuteTime": {
     "start_time": "2024-03-16T20:42:30.638395Z",
     "end_time": "2024-03-16T20:42:30.649399Z"
    }
   }
  },
  {
   "cell_type": "code",
   "execution_count": 6,
   "outputs": [
    {
     "data": {
      "text/plain": "Data(x=[12, 52], edge_index=[2, 22], edge_attr=[22, 14], pos=[12, 3], bond_distances=[11], bond_distance_index=[2, 11], bond_angles=[14], bond_angle_index=[3, 14], dihedral_angles=[16], dihedral_angle_index=[4, 16])"
     },
     "metadata": {},
     "output_type": "display_data"
    }
   ],
   "source": [
    "from ptgnn.dataset.utils_chienn import get_chiro_data_from_mol\n",
    "\n",
    "# get data element of this molecule\n",
    "data = get_chiro_data_from_mol(mol)\n",
    "display(data)"
   ],
   "metadata": {
    "collapsed": false,
    "ExecuteTime": {
     "start_time": "2024-03-16T20:42:31.214349Z",
     "end_time": "2024-03-16T20:42:32.370275Z"
    }
   }
  },
  {
   "cell_type": "code",
   "execution_count": 7,
   "outputs": [
    {
     "data": {
      "text/plain": "Data(x=[22, 118], edge_index=[2, 50], edge_attr=[50, 80], pos=[22, 6], parallel_node_index=[22], circle_index=[22])"
     },
     "metadata": {},
     "output_type": "display_data"
    },
    {
     "data": {
      "text/plain": "{(0, 1): 0,\n (1, 0): 1,\n (1, 2): 2,\n (2, 1): 3,\n (1, 3): 4,\n (3, 1): 5,\n (2, 8): 6,\n (8, 2): 7,\n (3, 4): 8,\n (4, 3): 9,\n (3, 9): 10,\n (9, 3): 11,\n (4, 5): 12,\n (5, 4): 13,\n (4, 10): 14,\n (10, 4): 15,\n (5, 6): 16,\n (6, 5): 17,\n (5, 7): 18,\n (7, 5): 19,\n (7, 11): 20,\n (11, 7): 21}"
     },
     "metadata": {},
     "output_type": "display_data"
    }
   ],
   "source": [
    "from ptgnn.transform.edge_graph.permutation_tree_selective import custom_to_edge_graph\n",
    "\n",
    "# transform to edge graph using custom function\n",
    "edge_graph, node_mapping = custom_to_edge_graph(\n",
    "    data=data,\n",
    ")\n",
    "display(edge_graph, node_mapping)"
   ],
   "metadata": {
    "collapsed": false,
    "ExecuteTime": {
     "start_time": "2024-03-16T20:42:33.117935Z",
     "end_time": "2024-03-16T20:42:33.136336Z"
    }
   }
  },
  {
   "cell_type": "code",
   "execution_count": 8,
   "outputs": [
    {
     "name": "stdout",
     "output_type": "stream",
     "text": [
      "Bond 0 stereo: STEREONONE\n",
      "0 1\n",
      "Bond 3 stereo: STEREOCIS\n",
      "3 4\n",
      "Bond 5 stereo: STEREONONE\n",
      "5 6\n"
     ]
    }
   ],
   "source": [
    "# detect double edge (with or without stereobond)\n",
    "for bond in mol.GetBonds():\n",
    "    if bond.GetBondType() == Chem.rdchem.BondType.DOUBLE:\n",
    "        print(\"Bond\", bond.GetIdx(), \"stereo:\", bond.GetStereo())\n",
    "        print(bond.GetBeginAtom().GetIdx(), bond.GetEndAtom().GetIdx())"
   ],
   "metadata": {
    "collapsed": false,
    "ExecuteTime": {
     "start_time": "2024-03-16T20:42:34.264510Z",
     "end_time": "2024-03-16T20:42:34.272514Z"
    }
   }
  },
  {
   "cell_type": "code",
   "execution_count": 9,
   "outputs": [],
   "source": [
    "bond_start = 3\n",
    "bond_end = 4"
   ],
   "metadata": {
    "collapsed": false,
    "ExecuteTime": {
     "start_time": "2024-03-16T20:42:34.716190Z",
     "end_time": "2024-03-16T20:42:34.750439Z"
    }
   }
  },
  {
   "cell_type": "code",
   "execution_count": 10,
   "outputs": [
    {
     "data": {
      "text/plain": "8"
     },
     "metadata": {},
     "output_type": "display_data"
    },
    {
     "data": {
      "text/plain": "9"
     },
     "metadata": {},
     "output_type": "display_data"
    }
   ],
   "source": [
    "display(node_mapping[(bond_start, bond_end)])\n",
    "display(node_mapping[(bond_end, bond_start)])"
   ],
   "metadata": {
    "collapsed": false,
    "ExecuteTime": {
     "start_time": "2024-03-16T20:42:35.178408Z",
     "end_time": "2024-03-16T20:42:35.222863Z"
    }
   }
  },
  {
   "cell_type": "code",
   "execution_count": 11,
   "outputs": [
    {
     "data": {
      "text/plain": "tensor([ 1,  5,  9, 10])"
     },
     "metadata": {},
     "output_type": "display_data"
    }
   ],
   "source": [
    "import torch\n",
    "# get neighbors\n",
    "neighbors = data.edge_index[1, data.edge_index[0]==3]\n",
    "neighbors = neighbors[neighbors != 4]\n",
    "\n",
    "neighbors = torch.cat([neighbors, data.edge_index[1, data.edge_index[0]==4]])\n",
    "neighbors = neighbors[neighbors != 3].sort().values\n",
    "neighbors\n",
    "display(neighbors)"
   ],
   "metadata": {
    "collapsed": false,
    "ExecuteTime": {
     "start_time": "2024-03-16T20:42:35.956728Z",
     "end_time": "2024-03-16T20:42:35.964931Z"
    }
   }
  },
  {
   "cell_type": "code",
   "execution_count": 12,
   "outputs": [],
   "source": [
    "assert len(neighbors) == 4"
   ],
   "metadata": {
    "collapsed": false,
    "ExecuteTime": {
     "start_time": "2024-03-16T20:42:38.718139Z",
     "end_time": "2024-03-16T20:42:38.732138Z"
    }
   }
  },
  {
   "cell_type": "code",
   "execution_count": 13,
   "outputs": [
    {
     "data": {
      "text/plain": "tensor([[-1.2816,  0.2306, -0.5107],\n        [ 1.6822, -0.0627,  0.2656],\n        [-1.3551, -1.6898,  0.5270],\n        [ 0.9359, -2.0202,  0.8934]])"
     },
     "metadata": {},
     "output_type": "display_data"
    }
   ],
   "source": [
    "pos = data.pos[neighbors]\n",
    "display(pos)"
   ],
   "metadata": {
    "collapsed": false,
    "ExecuteTime": {
     "start_time": "2024-03-16T20:42:39.317799Z",
     "end_time": "2024-03-16T20:42:39.324799Z"
    }
   }
  },
  {
   "cell_type": "code",
   "execution_count": 14,
   "outputs": [
    {
     "data": {
      "text/plain": "tensor([[0.0000, 3.0778, 2.1840, 3.4576],\n        [3.0778, 0.0000, 3.4556, 2.1869],\n        [2.1840, 3.4556, 0.0000, 2.3435],\n        [3.4576, 2.1869, 2.3435, 0.0000]])"
     },
     "metadata": {},
     "output_type": "display_data"
    }
   ],
   "source": [
    "distances = torch.zeros(4,4)\n",
    "for i in range(4):\n",
    "    for j in range(4):\n",
    "        distances[i,j] = ((pos[i] - pos[j]) ** 2).sum().sqrt()\n",
    "display(distances)"
   ],
   "metadata": {
    "collapsed": false,
    "ExecuteTime": {
     "start_time": "2024-03-16T20:42:40.100760Z",
     "end_time": "2024-03-16T20:42:40.121796Z"
    }
   }
  },
  {
   "cell_type": "code",
   "execution_count": 15,
   "outputs": [],
   "source": [
    "def calc_order(distances):\n",
    "    order = [0]\n",
    "    while len(distances):\n",
    "        rel_order = distances[order[-1]].argsort()\n",
    "        for i in range(4):\n",
    "            if not rel_order[i] in order:\n",
    "                order.append(int(rel_order[i]))\n",
    "                break\n",
    "        else:\n",
    "            return torch.tensor(order)"
   ],
   "metadata": {
    "collapsed": false,
    "ExecuteTime": {
     "start_time": "2024-03-16T20:42:40.899282Z",
     "end_time": "2024-03-16T20:42:40.929279Z"
    }
   }
  },
  {
   "cell_type": "code",
   "execution_count": 16,
   "outputs": [
    {
     "data": {
      "text/plain": "tensor([0, 2, 3, 1])"
     },
     "metadata": {},
     "output_type": "display_data"
    }
   ],
   "source": [
    "order = calc_order(distances)\n",
    "display(order)"
   ],
   "metadata": {
    "collapsed": false,
    "ExecuteTime": {
     "start_time": "2024-03-16T20:42:41.621174Z",
     "end_time": "2024-03-16T20:42:41.638172Z"
    }
   }
  },
  {
   "cell_type": "code",
   "execution_count": 17,
   "outputs": [
    {
     "data": {
      "text/plain": "tensor([ 1,  9, 10,  5])"
     },
     "metadata": {},
     "output_type": "display_data"
    }
   ],
   "source": [
    "# get elements\n",
    "neighbor_order = neighbors[order]\n",
    "display(neighbor_order)"
   ],
   "metadata": {
    "collapsed": false,
    "ExecuteTime": {
     "start_time": "2024-03-16T20:42:42.276161Z",
     "end_time": "2024-03-16T20:42:42.287162Z"
    }
   }
  },
  {
   "cell_type": "code",
   "execution_count": null,
   "outputs": [],
   "source": [],
   "metadata": {
    "collapsed": false
   }
  },
  {
   "cell_type": "markdown",
   "source": [
    "## trans molecule"
   ],
   "metadata": {
    "collapsed": false
   }
  },
  {
   "cell_type": "code",
   "execution_count": 18,
   "outputs": [],
   "source": [
    "# define cis/trans molecule\n",
    "mol_smiles = \"OC(=O)/C=C/C(=O)O\""
   ],
   "metadata": {
    "collapsed": false,
    "ExecuteTime": {
     "start_time": "2024-03-16T20:42:49.708630Z",
     "end_time": "2024-03-16T20:42:49.725692Z"
    }
   }
  },
  {
   "cell_type": "code",
   "execution_count": 19,
   "outputs": [
    {
     "data": {
      "text/plain": "<rdkit.Chem.rdchem.Mol at 0x1a31614a120>",
      "image/png": "[encoded data removed]"
     },
     "metadata": {},
     "output_type": "display_data"
    }
   ],
   "source": [
    "from ptgnn.features.chienn.molecule3d import smiles_to_3d_mol\n",
    "\n",
    "# generate Molecule\n",
    "mol = smiles_to_3d_mol(\n",
    "    mol_smiles,\n",
    "    max_number_of_attempts=100,\n",
    "    max_number_of_atoms=100\n",
    ")\n",
    "display(mol)"
   ],
   "metadata": {
    "collapsed": false,
    "ExecuteTime": {
     "start_time": "2024-03-16T20:42:49.902410Z",
     "end_time": "2024-03-16T20:42:49.912410Z"
    }
   }
  },
  {
   "cell_type": "code",
   "execution_count": 20,
   "outputs": [],
   "source": [
    "def show_atom_number(mol, label):\n",
    "    for atom in mol.GetAtoms():\n",
    "        atom.SetProp(label, str(atom.GetIdx()))\n",
    "    return mol"
   ],
   "metadata": {
    "collapsed": false,
    "ExecuteTime": {
     "start_time": "2024-03-16T20:42:50.207903Z",
     "end_time": "2024-03-16T20:42:50.217903Z"
    }
   }
  },
  {
   "cell_type": "code",
   "execution_count": 21,
   "outputs": [
    {
     "data": {
      "text/plain": "<rdkit.Chem.rdchem.Mol at 0x1a31614a120>",
      "image/png": "[encoded data removed]"
     },
     "execution_count": 21,
     "metadata": {},
     "output_type": "execute_result"
    }
   ],
   "source": [
    "show_atom_number(mol, \"atomLabel\")"
   ],
   "metadata": {
    "collapsed": false,
    "ExecuteTime": {
     "start_time": "2024-03-16T20:42:50.410232Z",
     "end_time": "2024-03-16T20:42:50.441316Z"
    }
   }
  },
  {
   "cell_type": "code",
   "execution_count": 22,
   "outputs": [
    {
     "data": {
      "text/plain": "Data(x=[12, 52], edge_index=[2, 22], edge_attr=[22, 14], pos=[12, 3], bond_distances=[11], bond_distance_index=[2, 11], bond_angles=[14], bond_angle_index=[3, 14], dihedral_angles=[16], dihedral_angle_index=[4, 16])"
     },
     "metadata": {},
     "output_type": "display_data"
    }
   ],
   "source": [
    "from ptgnn.dataset.utils_chienn import get_chiro_data_from_mol\n",
    "\n",
    "# get data element of this molecule\n",
    "data = get_chiro_data_from_mol(mol)\n",
    "display(data)"
   ],
   "metadata": {
    "collapsed": false,
    "ExecuteTime": {
     "start_time": "2024-03-16T20:42:50.580436Z",
     "end_time": "2024-03-16T20:42:50.588436Z"
    }
   }
  },
  {
   "cell_type": "code",
   "execution_count": 23,
   "outputs": [
    {
     "data": {
      "text/plain": "Data(x=[22, 118], edge_index=[2, 50], edge_attr=[50, 80], pos=[22, 6], parallel_node_index=[22], circle_index=[22])"
     },
     "metadata": {},
     "output_type": "display_data"
    },
    {
     "data": {
      "text/plain": "{(0, 1): 0,\n (1, 0): 1,\n (1, 2): 2,\n (2, 1): 3,\n (1, 3): 4,\n (3, 1): 5,\n (2, 8): 6,\n (8, 2): 7,\n (3, 4): 8,\n (4, 3): 9,\n (3, 9): 10,\n (9, 3): 11,\n (4, 5): 12,\n (5, 4): 13,\n (4, 10): 14,\n (10, 4): 15,\n (5, 6): 16,\n (6, 5): 17,\n (5, 7): 18,\n (7, 5): 19,\n (7, 11): 20,\n (11, 7): 21}"
     },
     "metadata": {},
     "output_type": "display_data"
    }
   ],
   "source": [
    "from ptgnn.transform.edge_graph.permutation_tree_selective import custom_to_edge_graph\n",
    "\n",
    "# transform to edge graph using custom function\n",
    "edge_graph, node_mapping = custom_to_edge_graph(\n",
    "    data=data,\n",
    ")\n",
    "display(edge_graph, node_mapping)"
   ],
   "metadata": {
    "collapsed": false,
    "ExecuteTime": {
     "start_time": "2024-03-16T20:42:50.703997Z",
     "end_time": "2024-03-16T20:42:50.713996Z"
    }
   }
  },
  {
   "cell_type": "code",
   "execution_count": 24,
   "outputs": [
    {
     "name": "stdout",
     "output_type": "stream",
     "text": [
      "Bond 0 stereo: STEREONONE\n",
      "0 1\n",
      "Bond 3 stereo: STEREOTRANS\n",
      "3 4\n",
      "Bond 5 stereo: STEREONONE\n",
      "5 6\n"
     ]
    }
   ],
   "source": [
    "# detect double edge (with or without stereobond)\n",
    "for bond in mol.GetBonds():\n",
    "    if bond.GetBondType() == Chem.rdchem.BondType.DOUBLE:\n",
    "        print(\"Bond\", bond.GetIdx(), \"stereo:\", bond.GetStereo())\n",
    "        print(bond.GetBeginAtom().GetIdx(), bond.GetEndAtom().GetIdx())"
   ],
   "metadata": {
    "collapsed": false,
    "ExecuteTime": {
     "start_time": "2024-03-16T20:42:51.124010Z",
     "end_time": "2024-03-16T20:42:51.138006Z"
    }
   }
  },
  {
   "cell_type": "code",
   "execution_count": 25,
   "outputs": [],
   "source": [
    "bond_start = 3\n",
    "bond_end = 4"
   ],
   "metadata": {
    "collapsed": false,
    "ExecuteTime": {
     "start_time": "2024-03-16T20:42:51.290104Z",
     "end_time": "2024-03-16T20:42:51.305103Z"
    }
   }
  },
  {
   "cell_type": "code",
   "execution_count": 26,
   "outputs": [
    {
     "data": {
      "text/plain": "8"
     },
     "metadata": {},
     "output_type": "display_data"
    },
    {
     "data": {
      "text/plain": "9"
     },
     "metadata": {},
     "output_type": "display_data"
    }
   ],
   "source": [
    "display(node_mapping[(bond_start, bond_end)])\n",
    "display(node_mapping[(bond_end, bond_start)])"
   ],
   "metadata": {
    "collapsed": false,
    "ExecuteTime": {
     "start_time": "2024-03-16T20:42:51.669038Z",
     "end_time": "2024-03-16T20:42:51.684547Z"
    }
   }
  },
  {
   "cell_type": "code",
   "execution_count": 27,
   "outputs": [
    {
     "data": {
      "text/plain": "tensor([ 1,  5,  9, 10])"
     },
     "metadata": {},
     "output_type": "display_data"
    }
   ],
   "source": [
    "import torch\n",
    "# get neighbors\n",
    "neighbors = data.edge_index[1, data.edge_index[0]==3]\n",
    "neighbors = neighbors[neighbors != 4]\n",
    "\n",
    "neighbors = torch.cat([neighbors, data.edge_index[1, data.edge_index[0]==4]])\n",
    "neighbors = neighbors[neighbors != 3].sort().values\n",
    "neighbors\n",
    "display(neighbors)"
   ],
   "metadata": {
    "collapsed": false,
    "ExecuteTime": {
     "start_time": "2024-03-16T20:42:51.989534Z",
     "end_time": "2024-03-16T20:42:51.999535Z"
    }
   }
  },
  {
   "cell_type": "code",
   "execution_count": 28,
   "outputs": [],
   "source": [
    "assert len(neighbors) == 4"
   ],
   "metadata": {
    "collapsed": false,
    "ExecuteTime": {
     "start_time": "2024-03-16T20:42:52.483031Z",
     "end_time": "2024-03-16T20:42:52.492030Z"
    }
   }
  },
  {
   "cell_type": "code",
   "execution_count": 29,
   "outputs": [
    {
     "data": {
      "text/plain": "tensor([[-1.8509, -0.4835, -0.0967],\n        [ 1.8509,  0.4835,  0.0967],\n        [-0.4121,  0.0421,  1.4753],\n        [ 0.4121, -0.0421, -1.4753]])"
     },
     "metadata": {},
     "output_type": "display_data"
    }
   ],
   "source": [
    "pos = data.pos[neighbors]\n",
    "display(pos)"
   ],
   "metadata": {
    "collapsed": false,
    "ExecuteTime": {
     "start_time": "2024-03-16T20:42:52.689542Z",
     "end_time": "2024-03-16T20:42:52.697884Z"
    }
   }
  },
  {
   "cell_type": "code",
   "execution_count": 30,
   "outputs": [
    {
     "data": {
      "text/plain": "tensor([[0.0000, 3.8309, 2.1949, 2.6864],\n        [3.8309, 0.0000, 2.6864, 2.1949],\n        [2.1949, 2.6864, 0.0000, 3.0647],\n        [2.6864, 2.1949, 3.0647, 0.0000]])"
     },
     "metadata": {},
     "output_type": "display_data"
    }
   ],
   "source": [
    "distances = torch.zeros(4,4)\n",
    "for i in range(4):\n",
    "    for j in range(4):\n",
    "        distances[i,j] = ((pos[i] - pos[j]) ** 2).sum().sqrt()\n",
    "display(distances)"
   ],
   "metadata": {
    "collapsed": false,
    "ExecuteTime": {
     "start_time": "2024-03-16T20:42:52.892653Z",
     "end_time": "2024-03-16T20:42:52.914651Z"
    }
   }
  },
  {
   "cell_type": "code",
   "execution_count": 31,
   "outputs": [],
   "source": [
    "def calc_order(distances):\n",
    "    order = [0]\n",
    "    while len(distances):\n",
    "        rel_order = distances[order[-1]].argsort()\n",
    "        for i in range(4):\n",
    "            if not rel_order[i] in order:\n",
    "                order.append(int(rel_order[i]))\n",
    "                break\n",
    "        else:\n",
    "            return torch.tensor(order)"
   ],
   "metadata": {
    "collapsed": false,
    "ExecuteTime": {
     "start_time": "2024-03-16T20:42:53.059876Z",
     "end_time": "2024-03-16T20:42:53.078969Z"
    }
   }
  },
  {
   "cell_type": "code",
   "execution_count": 32,
   "outputs": [
    {
     "data": {
      "text/plain": "tensor([0, 2, 1, 3])"
     },
     "metadata": {},
     "output_type": "display_data"
    }
   ],
   "source": [
    "order = calc_order(distances)\n",
    "display(order)"
   ],
   "metadata": {
    "collapsed": false,
    "ExecuteTime": {
     "start_time": "2024-03-16T20:42:53.935013Z",
     "end_time": "2024-03-16T20:42:53.949012Z"
    }
   }
  },
  {
   "cell_type": "code",
   "execution_count": 33,
   "outputs": [
    {
     "data": {
      "text/plain": "tensor([ 1,  9,  5, 10])"
     },
     "metadata": {},
     "output_type": "display_data"
    }
   ],
   "source": [
    "# get elements\n",
    "neighbor_order = neighbors[order]\n",
    "display(neighbor_order)"
   ],
   "metadata": {
    "collapsed": false,
    "ExecuteTime": {
     "start_time": "2024-03-16T20:42:55.253828Z",
     "end_time": "2024-03-16T20:42:55.282599Z"
    }
   }
  },
  {
   "cell_type": "code",
   "execution_count": 38,
   "outputs": [
    {
     "name": "stdout",
     "output_type": "stream",
     "text": [
      "1\n",
      "2\n",
      "3\n"
     ]
    }
   ],
   "source": [
    "for i in set([1,2,3]):\n",
    "    print(i)"
   ],
   "metadata": {
    "collapsed": false,
    "ExecuteTime": {
     "start_time": "2024-03-16T20:57:08.987366Z",
     "end_time": "2024-03-16T20:57:09.006031Z"
    }
   }
  }
 ],
 "metadata": {
  "kernelspec": {
   "display_name": "Python 3",
   "language": "python",
   "name": "python3"
  },
  "language_info": {
   "codemirror_mode": {
    "name": "ipython",
    "version": 2
   },
   "file_extension": ".py",
   "mimetype": "text/x-python",
   "name": "python",
   "nbconvert_exporter": "python",
   "pygments_lexer": "ipython2",
   "version": "2.7.6"
  }
 },
 "nbformat": 4,
 "nbformat_minor": 0
}
