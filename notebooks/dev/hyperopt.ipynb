{
 "cells": [
  {
   "cell_type": "code",
   "execution_count": 1,
   "metadata": {
    "collapsed": true,
    "ExecuteTime": {
     "start_time": "2024-03-26T16:03:14.510192Z",
     "end_time": "2024-03-26T16:03:15.517259Z"
    }
   },
   "outputs": [],
   "source": [
    "from ray import train, tune\n",
    "from ray.tune import CLIReporter\n",
    "from ray.tune.schedulers import ASHAScheduler\n",
    "from ray.tune.search.hyperopt import HyperOptSearch"
   ]
  },
  {
   "cell_type": "code",
   "execution_count": 2,
   "outputs": [],
   "source": [
    "def objective(config):\n",
    "    score = config['x'] ** 2 + config['y']\n",
    "    for epoch in range(config['epochs']):\n",
    "        score *= 1.1\n",
    "        train.report({'score': score})\n",
    "    # return {'score': score}"
   ],
   "metadata": {
    "collapsed": false,
    "ExecuteTime": {
     "start_time": "2024-03-26T16:03:15.517259Z",
     "end_time": "2024-03-26T16:03:15.528259Z"
    }
   }
  },
  {
   "cell_type": "code",
   "execution_count": 3,
   "outputs": [],
   "source": [
    "search_space = {\n",
    "    'x': tune.grid_search([0.001, 0.01, 0.1, 1.]),\n",
    "    'y': tune.choice([1,2,3]),\n",
    "    'epochs': 100\n",
    "}"
   ],
   "metadata": {
    "collapsed": false,
    "ExecuteTime": {
     "start_time": "2024-03-26T16:03:15.529258Z",
     "end_time": "2024-03-26T16:03:15.547258Z"
    }
   }
  },
  {
   "cell_type": "code",
   "execution_count": 4,
   "outputs": [
    {
     "data": {
      "text/plain": "<IPython.core.display.HTML object>",
      "text/html": ""
     },
     "metadata": {},
     "output_type": "display_data"
    },
    {
     "name": "stderr",
     "output_type": "stream",
     "text": [
      "2024-03-26 16:03:22,385\tINFO tune.py:1042 -- Total run time: 3.31 seconds (2.06 seconds for the tuning loop).\n"
     ]
    },
    {
     "name": "stdout",
     "output_type": "stream",
     "text": [
      "{'x': 0.001, 'y': 1, 'epochs': 100}\n"
     ]
    }
   ],
   "source": [
    "tuner = tune.Tuner(objective, param_space=search_space)\n",
    "results = tuner.fit()\n",
    "print(results.get_best_result(metric=\"score\", mode=\"min\").config)"
   ],
   "metadata": {
    "collapsed": false,
    "ExecuteTime": {
     "start_time": "2024-03-26T16:03:15.545259Z",
     "end_time": "2024-03-26T16:03:22.409230Z"
    }
   }
  },
  {
   "cell_type": "code",
   "execution_count": 5,
   "outputs": [
    {
     "data": {
      "text/plain": "<IPython.core.display.HTML object>",
      "text/html": ""
     },
     "metadata": {},
     "output_type": "display_data"
    },
    {
     "name": "stderr",
     "output_type": "stream",
     "text": [
      "\u001B[36m(bundle_reservation_check_func pid=63208)\u001B[0m Traceback (most recent call last):\n",
      "\u001B[36m(bundle_reservation_check_func pid=63208)\u001B[0m   File \"python\\ray\\_raylet.pyx\", line 2102, in ray._raylet.execute_task_with_cancellation_handler\n",
      "\u001B[36m(bundle_reservation_check_func pid=63208)\u001B[0m   File \"python\\ray\\_raylet.pyx\", line 1756, in ray._raylet.execute_task\n",
      "\u001B[36m(bundle_reservation_check_func pid=63208)\u001B[0m   File \"python\\ray\\_raylet.pyx\", line 1757, in ray._raylet.execute_task\n",
      "\u001B[36m(bundle_reservation_check_func pid=63208)\u001B[0m   File \"python\\ray\\_raylet.pyx\", line 1760, in ray._raylet.execute_task\n",
      "\u001B[36m(bundle_reservation_check_func pid=63208)\u001B[0m   File \"python\\ray\\_raylet.pyx\", line 1788, in ray._raylet.execute_task\n",
      "\u001B[36m(bundle_reservation_check_func pid=63208)\u001B[0m   File \"C:\\Users\\johan\\.conda\\envs\\Masterarbeit_PTGNN\\lib\\site-packages\\ray\\_private\\utils.py\", line 1852, in __exit__\n",
      "\u001B[36m(bundle_reservation_check_func pid=63208)\u001B[0m     raise KeyboardInterrupt\n",
      "\u001B[36m(bundle_reservation_check_func pid=63208)\u001B[0m KeyboardInterrupt\n",
      "\u001B[36m(bundle_reservation_check_func pid=63208)\u001B[0m \n",
      "\u001B[36m(bundle_reservation_check_func pid=63208)\u001B[0m During handling of the above exception, another exception occurred:\n",
      "\u001B[36m(bundle_reservation_check_func pid=63208)\u001B[0m \n",
      "\u001B[36m(bundle_reservation_check_func pid=63208)\u001B[0m Traceback (most recent call last):\n",
      "\u001B[36m(bundle_reservation_check_func pid=63208)\u001B[0m   File \"python\\ray\\_raylet.pyx\", line 2206, in ray._raylet.task_execution_handler\n",
      "\u001B[36m(bundle_reservation_check_func pid=63208)\u001B[0m   File \"python\\ray\\_raylet.pyx\", line 2137, in ray._raylet.execute_task_with_cancellation_handler\n",
      "\u001B[36m(bundle_reservation_check_func pid=63208)\u001B[0m   File \"python\\ray\\_raylet.pyx\", line 1090, in ray._raylet.store_task_errors\n",
      "\u001B[36m(bundle_reservation_check_func pid=63208)\u001B[0m   File \"C:\\Users\\johan\\.conda\\envs\\Masterarbeit_PTGNN\\lib\\site-packages\\ray\\_private\\utils.py\", line 178, in push_error_to_driver\n",
      "\u001B[36m(bundle_reservation_check_func pid=63208)\u001B[0m     worker.core_worker.push_error(job_id, error_type, message, time.time())\n",
      "\u001B[36m(bundle_reservation_check_func pid=63208)\u001B[0m   File \"python\\ray\\_raylet.pyx\", line 4701, in ray._raylet.CoreWorker.push_error\n",
      "\u001B[36m(bundle_reservation_check_func pid=63208)\u001B[0m   File \"python\\ray\\_raylet.pyx\", line 589, in ray._raylet.check_status\n",
      "\u001B[36m(bundle_reservation_check_func pid=63208)\u001B[0m ray.exceptions.RaySystemError: System error: Unknown error\n",
      "\u001B[36m(bundle_reservation_check_func pid=63208)\u001B[0m \n",
      "\u001B[36m(bundle_reservation_check_func pid=63208)\u001B[0m During handling of the above exception, another exception occurred:\n",
      "\u001B[36m(bundle_reservation_check_func pid=63208)\u001B[0m \n",
      "\u001B[36m(bundle_reservation_check_func pid=63208)\u001B[0m Traceback (most recent call last):\n",
      "\u001B[36m(bundle_reservation_check_func pid=63208)\u001B[0m   File \"python\\ray\\_raylet.pyx\", line 2245, in ray._raylet.task_execution_handler\n",
      "\u001B[36m(bundle_reservation_check_func pid=63208)\u001B[0m   File \"C:\\Users\\johan\\.conda\\envs\\Masterarbeit_PTGNN\\lib\\site-packages\\ray\\_private\\utils.py\", line 178, in push_error_to_driver\n",
      "\u001B[36m(bundle_reservation_check_func pid=63208)\u001B[0m     worker.core_worker.push_error(job_id, error_type, message, time.time())\n",
      "\u001B[36m(bundle_reservation_check_func pid=63208)\u001B[0m   File \"python\\ray\\_raylet.pyx\", line 4701, in ray._raylet.CoreWorker.push_error\n",
      "\u001B[36m(bundle_reservation_check_func pid=63208)\u001B[0m   File \"python\\ray\\_raylet.pyx\", line 589, in ray._raylet.check_status\n",
      "\u001B[36m(bundle_reservation_check_func pid=63208)\u001B[0m ray.exceptions.RaySystemError: System error: Unknown error\n",
      "\u001B[36m(bundle_reservation_check_func pid=63208)\u001B[0m Exception ignored in: 'ray._raylet.task_execution_handler'\n",
      "\u001B[36m(bundle_reservation_check_func pid=63208)\u001B[0m Traceback (most recent call last):\n",
      "\u001B[36m(bundle_reservation_check_func pid=63208)\u001B[0m   File \"python\\ray\\_raylet.pyx\", line 2245, in ray._raylet.task_execution_handler\n",
      "\u001B[36m(bundle_reservation_check_func pid=63208)\u001B[0m   File \"C:\\Users\\johan\\.conda\\envs\\Masterarbeit_PTGNN\\lib\\site-packages\\ray\\_private\\utils.py\", line 178, in push_error_to_driver\n",
      "\u001B[36m(bundle_reservation_check_func pid=63208)\u001B[0m     worker.core_worker.push_error(job_id, error_type, message, time.time())\n",
      "\u001B[36m(bundle_reservation_check_func pid=63208)\u001B[0m   File \"python\\ray\\_raylet.pyx\", line 4701, in ray._raylet.CoreWorker.push_error\n",
      "\u001B[36m(bundle_reservation_check_func pid=63208)\u001B[0m   File \"python\\ray\\_raylet.pyx\", line 589, in ray._raylet.check_status\n",
      "\u001B[36m(bundle_reservation_check_func pid=63208)\u001B[0m ray.exceptions.RaySystemError: System error: Unknown error\n",
      "2024-03-26 16:03:29,192\tINFO tune.py:1042 -- Total run time: 6.78 seconds (6.73 seconds for the tuning loop).\n"
     ]
    }
   ],
   "source": [
    "tuner = tune.Tuner(\n",
    "    objective,\n",
    "    tune_config=tune.TuneConfig(\n",
    "        num_samples=20,\n",
    "        scheduler=ASHAScheduler(metric='score', mode='max')\n",
    "    ),\n",
    "    param_space=search_space\n",
    ")\n",
    "results = tuner.fit()"
   ],
   "metadata": {
    "collapsed": false,
    "ExecuteTime": {
     "start_time": "2024-03-26T16:03:22.411231Z",
     "end_time": "2024-03-26T16:03:29.264653Z"
    }
   }
  },
  {
   "cell_type": "code",
   "execution_count": 6,
   "outputs": [
    {
     "data": {
      "text/plain": "ResultGrid<[\n  Result(\n    metrics={'score': 891.5835826967541},\n    path='C:/Users/johan/ray_results/objective_2024-03-26_16-03-22/objective_fd119_00000_0_x=0.0010,y=2_2024-03-26_16-03-22',\n    filesystem='local',\n    checkpoint=None\n  ),\n  Result(\n    metrics={'score': 1337.4192845146217},\n    path='C:/Users/johan/ray_results/objective_2024-03-26_16-03-22/objective_fd119_00001_1_x=0.0100,y=3_2024-03-26_16-03-22',\n    filesystem='local',\n    checkpoint=None\n  ),\n  Result(\n    metrics={'score': 1.1110000000000002},\n    path='C:/Users/johan/ray_results/objective_2024-03-26_16-03-22/objective_fd119_00002_2_x=0.1000,y=1_2024-03-26_16-03-22',\n    filesystem='local',\n    checkpoint=None\n  ),\n  Result(\n    metrics={'score': 4.392300000000001},\n    path='C:/Users/johan/ray_results/objective_2024-03-26_16-03-22/objective_fd119_00003_3_x=1.0000,y=2_2024-03-26_16-03-22',\n    filesystem='local',\n    checkpoint=None\n  ),\n  Result(\n    metrics={'score': 2.2000011},\n    path='C:/Users/johan/ray_results/objective_2024-03-26_16-03-22/objective_fd119_00004_4_x=0.0010,y=2_2024-03-26_16-03-22',\n    filesystem='local',\n    checkpoint=None\n  ),\n  Result(\n    metrics={'score': 1.1001100000000001},\n    path='C:/Users/johan/ray_results/objective_2024-03-26_16-03-22/objective_fd119_00005_5_x=0.0100,y=1_2024-03-26_16-03-22',\n    filesystem='local',\n    checkpoint=None\n  ),\n  Result(\n    metrics={'score': 1.1110000000000002},\n    path='C:/Users/johan/ray_results/objective_2024-03-26_16-03-22/objective_fd119_00006_6_x=0.1000,y=1_2024-03-26_16-03-22',\n    filesystem='local',\n    checkpoint=None\n  ),\n  Result(\n    metrics={'score': 2.2},\n    path='C:/Users/johan/ray_results/objective_2024-03-26_16-03-22/objective_fd119_00007_7_x=1.0000,y=1_2024-03-26_16-03-22',\n    filesystem='local',\n    checkpoint=None\n  ),\n  Result(\n    metrics={'score': 4.392301464100001},\n    path='C:/Users/johan/ray_results/objective_2024-03-26_16-03-22/objective_fd119_00008_8_x=0.0010,y=3_2024-03-26_16-03-22',\n    filesystem='local',\n    checkpoint=None\n  ),\n  Result(\n    metrics={'score': 1.1001100000000001},\n    path='C:/Users/johan/ray_results/objective_2024-03-26_16-03-22/objective_fd119_00009_9_x=0.0100,y=1_2024-03-26_16-03-22',\n    filesystem='local',\n    checkpoint=None\n  ),\n  Result(\n    metrics={'score': 41479.64314286536},\n    path='C:/Users/johan/ray_results/objective_2024-03-26_16-03-22/objective_fd119_00010_10_x=0.1000,y=3_2024-03-26_16-03-22',\n    filesystem='local',\n    checkpoint=None\n  ),\n  Result(\n    metrics={'score': 4.392300000000001},\n    path='C:/Users/johan/ray_results/objective_2024-03-26_16-03-22/objective_fd119_00011_11_x=1.0000,y=2_2024-03-26_16-03-22',\n    filesystem='local',\n    checkpoint=None\n  ),\n  Result(\n    metrics={'score': 4.392301464100001},\n    path='C:/Users/johan/ray_results/objective_2024-03-26_16-03-22/objective_fd119_00012_12_x=0.0010,y=3_2024-03-26_16-03-22',\n    filesystem='local',\n    checkpoint=None\n  ),\n  Result(\n    metrics={'score': 1.1001100000000001},\n    path='C:/Users/johan/ray_results/objective_2024-03-26_16-03-22/objective_fd119_00013_13_x=0.0100,y=1_2024-03-26_16-03-22',\n    filesystem='local',\n    checkpoint=None\n  ),\n  Result(\n    metrics={'score': 1.1110000000000002},\n    path='C:/Users/johan/ray_results/objective_2024-03-26_16-03-22/objective_fd119_00014_14_x=0.1000,y=1_2024-03-26_16-03-22',\n    filesystem='local',\n    checkpoint=None\n  ),\n  Result(\n    metrics={'score': 2.2},\n    path='C:/Users/johan/ray_results/objective_2024-03-26_16-03-22/objective_fd119_00015_15_x=1.0000,y=1_2024-03-26_16-03-22',\n    filesystem='local',\n    checkpoint=None\n  ),\n  Result(\n    metrics={'score': 1.1000011},\n    path='C:/Users/johan/ray_results/objective_2024-03-26_16-03-22/objective_fd119_00016_16_x=0.0010,y=1_2024-03-26_16-03-22',\n    filesystem='local',\n    checkpoint=None\n  ),\n  Result(\n    metrics={'score': 2.2001100000000005},\n    path='C:/Users/johan/ray_results/objective_2024-03-26_16-03-22/objective_fd119_00017_17_x=0.0100,y=2_2024-03-26_16-03-22',\n    filesystem='local',\n    checkpoint=None\n  ),\n  Result(\n    metrics={'score': 2.942841000000001},\n    path='C:/Users/johan/ray_results/objective_2024-03-26_16-03-22/objective_fd119_00018_18_x=0.1000,y=2_2024-03-26_16-03-22',\n    filesystem='local',\n    checkpoint=None\n  ),\n  Result(\n    metrics={'score': 4.392300000000001},\n    path='C:/Users/johan/ray_results/objective_2024-03-26_16-03-22/objective_fd119_00019_19_x=1.0000,y=2_2024-03-26_16-03-22',\n    filesystem='local',\n    checkpoint=None\n  ),\n  Result(\n    metrics={'score': 1.1000011},\n    path='C:/Users/johan/ray_results/objective_2024-03-26_16-03-22/objective_fd119_00020_20_x=0.0010,y=1_2024-03-26_16-03-22',\n    filesystem='local',\n    checkpoint=None\n  ),\n  Result(\n    metrics={'score': 1.1001100000000001},\n    path='C:/Users/johan/ray_results/objective_2024-03-26_16-03-22/objective_fd119_00021_21_x=0.0100,y=1_2024-03-26_16-03-22',\n    filesystem='local',\n    checkpoint=None\n  ),\n  Result(\n    metrics={'score': 1.1110000000000002},\n    path='C:/Users/johan/ray_results/objective_2024-03-26_16-03-22/objective_fd119_00022_22_x=0.1000,y=1_2024-03-26_16-03-25',\n    filesystem='local',\n    checkpoint=None\n  ),\n  Result(\n    metrics={'score': 2.2},\n    path='C:/Users/johan/ray_results/objective_2024-03-26_16-03-22/objective_fd119_00023_23_x=1.0000,y=1_2024-03-26_16-03-25',\n    filesystem='local',\n    checkpoint=None\n  ),\n  Result(\n    metrics={'score': 1.1000011},\n    path='C:/Users/johan/ray_results/objective_2024-03-26_16-03-22/objective_fd119_00024_24_x=0.0010,y=1_2024-03-26_16-03-25',\n    filesystem='local',\n    checkpoint=None\n  ),\n  Result(\n    metrics={'score': 1.1001100000000001},\n    path='C:/Users/johan/ray_results/objective_2024-03-26_16-03-22/objective_fd119_00025_25_x=0.0100,y=1_2024-03-26_16-03-25',\n    filesystem='local',\n    checkpoint=None\n  ),\n  Result(\n    metrics={'score': 1.1110000000000002},\n    path='C:/Users/johan/ray_results/objective_2024-03-26_16-03-22/objective_fd119_00026_26_x=0.1000,y=1_2024-03-26_16-03-26',\n    filesystem='local',\n    checkpoint=None\n  ),\n  Result(\n    metrics={'score': 3.3000000000000003},\n    path='C:/Users/johan/ray_results/objective_2024-03-26_16-03-22/objective_fd119_00027_27_x=1.0000,y=2_2024-03-26_16-03-26',\n    filesystem='local',\n    checkpoint=None\n  ),\n  Result(\n    metrics={'score': 13.784923554044653},\n    path='C:/Users/johan/ray_results/objective_2024-03-26_16-03-22/objective_fd119_00028_28_x=0.0010,y=3_2024-03-26_16-03-26',\n    filesystem='local',\n    checkpoint=None\n  ),\n  Result(\n    metrics={'score': 1.1001100000000001},\n    path='C:/Users/johan/ray_results/objective_2024-03-26_16-03-22/objective_fd119_00029_29_x=0.0100,y=1_2024-03-26_16-03-26',\n    filesystem='local',\n    checkpoint=None\n  ),\n  Result(\n    metrics={'score': 2.211},\n    path='C:/Users/johan/ray_results/objective_2024-03-26_16-03-22/objective_fd119_00030_30_x=0.1000,y=2_2024-03-26_16-03-26',\n    filesystem='local',\n    checkpoint=None\n  ),\n  Result(\n    metrics={'score': 3.3000000000000003},\n    path='C:/Users/johan/ray_results/objective_2024-03-26_16-03-22/objective_fd119_00031_31_x=1.0000,y=2_2024-03-26_16-03-26',\n    filesystem='local',\n    checkpoint=None\n  ),\n  Result(\n    metrics={'score': 4.392301464100001},\n    path='C:/Users/johan/ray_results/objective_2024-03-26_16-03-22/objective_fd119_00032_32_x=0.0010,y=3_2024-03-26_16-03-26',\n    filesystem='local',\n    checkpoint=None\n  ),\n  Result(\n    metrics={'score': 13.7853784563703},\n    path='C:/Users/johan/ray_results/objective_2024-03-26_16-03-22/objective_fd119_00033_33_x=0.0100,y=3_2024-03-26_16-03-26',\n    filesystem='local',\n    checkpoint=None\n  ),\n  Result(\n    metrics={'score': 2.942841000000001},\n    path='C:/Users/johan/ray_results/objective_2024-03-26_16-03-22/objective_fd119_00034_34_x=0.1000,y=2_2024-03-26_16-03-26',\n    filesystem='local',\n    checkpoint=None\n  ),\n  Result(\n    metrics={'score': 3.3000000000000003},\n    path='C:/Users/johan/ray_results/objective_2024-03-26_16-03-22/objective_fd119_00035_35_x=1.0000,y=2_2024-03-26_16-03-26',\n    filesystem='local',\n    checkpoint=None\n  ),\n  Result(\n    metrics={'score': 1337.3751511493458},\n    path='C:/Users/johan/ray_results/objective_2024-03-26_16-03-22/objective_fd119_00036_36_x=0.0010,y=3_2024-03-26_16-03-26',\n    filesystem='local',\n    checkpoint=None\n  ),\n  Result(\n    metrics={'score': 13.7853784563703},\n    path='C:/Users/johan/ray_results/objective_2024-03-26_16-03-22/objective_fd119_00037_37_x=0.0100,y=3_2024-03-26_16-03-26',\n    filesystem='local',\n    checkpoint=None\n  ),\n  Result(\n    metrics={'score': 1.1110000000000002},\n    path='C:/Users/johan/ray_results/objective_2024-03-26_16-03-22/objective_fd119_00038_38_x=0.1000,y=1_2024-03-26_16-03-26',\n    filesystem='local',\n    checkpoint=None\n  ),\n  Result(\n    metrics={'score': 55122.449359289516},\n    path='C:/Users/johan/ray_results/objective_2024-03-26_16-03-22/objective_fd119_00039_39_x=1.0000,y=3_2024-03-26_16-03-26',\n    filesystem='local',\n    checkpoint=None\n  ),\n  Result(\n    metrics={'score': 2.2000011},\n    path='C:/Users/johan/ray_results/objective_2024-03-26_16-03-22/objective_fd119_00040_40_x=0.0010,y=2_2024-03-26_16-03-26',\n    filesystem='local',\n    checkpoint=None\n  ),\n  Result(\n    metrics={'score': 2.2001100000000005},\n    path='C:/Users/johan/ray_results/objective_2024-03-26_16-03-22/objective_fd119_00041_41_x=0.0100,y=2_2024-03-26_16-03-26',\n    filesystem='local',\n    checkpoint=None\n  ),\n  Result(\n    metrics={'score': 41479.64314286536},\n    path='C:/Users/johan/ray_results/objective_2024-03-26_16-03-22/objective_fd119_00042_42_x=0.1000,y=3_2024-03-26_16-03-26',\n    filesystem='local',\n    checkpoint=None\n  ),\n  Result(\n    metrics={'score': 2.2},\n    path='C:/Users/johan/ray_results/objective_2024-03-26_16-03-22/objective_fd119_00043_43_x=1.0000,y=1_2024-03-26_16-03-26',\n    filesystem='local',\n    checkpoint=None\n  ),\n  Result(\n    metrics={'score': 1.1000011},\n    path='C:/Users/johan/ray_results/objective_2024-03-26_16-03-22/objective_fd119_00044_44_x=0.0010,y=1_2024-03-26_16-03-26',\n    filesystem='local',\n    checkpoint=None\n  ),\n  Result(\n    metrics={'score': 2.2001100000000005},\n    path='C:/Users/johan/ray_results/objective_2024-03-26_16-03-22/objective_fd119_00045_45_x=0.0100,y=2_2024-03-26_16-03-26',\n    filesystem='local',\n    checkpoint=None\n  ),\n  Result(\n    metrics={'score': 41479.64314286536},\n    path='C:/Users/johan/ray_results/objective_2024-03-26_16-03-22/objective_fd119_00046_46_x=0.1000,y=3_2024-03-26_16-03-26',\n    filesystem='local',\n    checkpoint=None\n  ),\n  Result(\n    metrics={'score': 3.3000000000000003},\n    path='C:/Users/johan/ray_results/objective_2024-03-26_16-03-22/objective_fd119_00047_47_x=1.0000,y=2_2024-03-26_16-03-26',\n    filesystem='local',\n    checkpoint=None\n  ),\n  Result(\n    metrics={'score': 4.392301464100001},\n    path='C:/Users/johan/ray_results/objective_2024-03-26_16-03-22/objective_fd119_00048_48_x=0.0010,y=3_2024-03-26_16-03-26',\n    filesystem='local',\n    checkpoint=None\n  ),\n  Result(\n    metrics={'score': 13.7853784563703},\n    path='C:/Users/johan/ray_results/objective_2024-03-26_16-03-22/objective_fd119_00049_49_x=0.0100,y=3_2024-03-26_16-03-26',\n    filesystem='local',\n    checkpoint=None\n  ),\n  Result(\n    metrics={'score': 2.211},\n    path='C:/Users/johan/ray_results/objective_2024-03-26_16-03-22/objective_fd119_00050_50_x=0.1000,y=2_2024-03-26_16-03-26',\n    filesystem='local',\n    checkpoint=None\n  ),\n  Result(\n    metrics={'score': 3.3000000000000003},\n    path='C:/Users/johan/ray_results/objective_2024-03-26_16-03-22/objective_fd119_00051_51_x=1.0000,y=2_2024-03-26_16-03-26',\n    filesystem='local',\n    checkpoint=None\n  ),\n  Result(\n    metrics={'score': 13.784923554044653},\n    path='C:/Users/johan/ray_results/objective_2024-03-26_16-03-22/objective_fd119_00052_52_x=0.0010,y=3_2024-03-26_16-03-26',\n    filesystem='local',\n    checkpoint=None\n  ),\n  Result(\n    metrics={'score': 1.1001100000000001},\n    path='C:/Users/johan/ray_results/objective_2024-03-26_16-03-22/objective_fd119_00053_53_x=0.0100,y=1_2024-03-26_16-03-26',\n    filesystem='local',\n    checkpoint=None\n  ),\n  Result(\n    metrics={'score': 41479.64314286536},\n    path='C:/Users/johan/ray_results/objective_2024-03-26_16-03-22/objective_fd119_00054_54_x=0.1000,y=3_2024-03-26_16-03-26',\n    filesystem='local',\n    checkpoint=None\n  ),\n  Result(\n    metrics={'score': 55122.449359289516},\n    path='C:/Users/johan/ray_results/objective_2024-03-26_16-03-22/objective_fd119_00055_55_x=1.0000,y=3_2024-03-26_16-03-26',\n    filesystem='local',\n    checkpoint=None\n  ),\n  Result(\n    metrics={'score': 1.1000011},\n    path='C:/Users/johan/ray_results/objective_2024-03-26_16-03-22/objective_fd119_00056_56_x=0.0010,y=1_2024-03-26_16-03-26',\n    filesystem='local',\n    checkpoint=None\n  ),\n  Result(\n    metrics={'score': 2.2001100000000005},\n    path='C:/Users/johan/ray_results/objective_2024-03-26_16-03-22/objective_fd119_00057_57_x=0.0100,y=2_2024-03-26_16-03-26',\n    filesystem='local',\n    checkpoint=None\n  ),\n  Result(\n    metrics={'score': 1.1110000000000002},\n    path='C:/Users/johan/ray_results/objective_2024-03-26_16-03-22/objective_fd119_00058_58_x=0.1000,y=1_2024-03-26_16-03-26',\n    filesystem='local',\n    checkpoint=None\n  ),\n  Result(\n    metrics={'score': 55122.449359289516},\n    path='C:/Users/johan/ray_results/objective_2024-03-26_16-03-22/objective_fd119_00059_59_x=1.0000,y=3_2024-03-26_16-03-26',\n    filesystem='local',\n    checkpoint=None\n  ),\n  Result(\n    metrics={'score': 1.1000011},\n    path='C:/Users/johan/ray_results/objective_2024-03-26_16-03-22/objective_fd119_00060_60_x=0.0010,y=1_2024-03-26_16-03-26',\n    filesystem='local',\n    checkpoint=None\n  ),\n  Result(\n    metrics={'score': 2.2001100000000005},\n    path='C:/Users/johan/ray_results/objective_2024-03-26_16-03-22/objective_fd119_00061_61_x=0.0100,y=2_2024-03-26_16-03-26',\n    filesystem='local',\n    checkpoint=None\n  ),\n  Result(\n    metrics={'score': 1.1110000000000002},\n    path='C:/Users/johan/ray_results/objective_2024-03-26_16-03-22/objective_fd119_00062_62_x=0.1000,y=1_2024-03-26_16-03-26',\n    filesystem='local',\n    checkpoint=None\n  ),\n  Result(\n    metrics={'score': 2.2},\n    path='C:/Users/johan/ray_results/objective_2024-03-26_16-03-22/objective_fd119_00063_63_x=1.0000,y=1_2024-03-26_16-03-26',\n    filesystem='local',\n    checkpoint=None\n  ),\n  Result(\n    metrics={'score': 4.392301464100001},\n    path='C:/Users/johan/ray_results/objective_2024-03-26_16-03-22/objective_fd119_00064_64_x=0.0010,y=3_2024-03-26_16-03-26',\n    filesystem='local',\n    checkpoint=None\n  ),\n  Result(\n    metrics={'score': 1.1001100000000001},\n    path='C:/Users/johan/ray_results/objective_2024-03-26_16-03-22/objective_fd119_00065_65_x=0.0100,y=1_2024-03-26_16-03-26',\n    filesystem='local',\n    checkpoint=None\n  ),\n  Result(\n    metrics={'score': 1341.832621042304},\n    path='C:/Users/johan/ray_results/objective_2024-03-26_16-03-22/objective_fd119_00066_66_x=0.1000,y=3_2024-03-26_16-03-26',\n    filesystem='local',\n    checkpoint=None\n  ),\n  Result(\n    metrics={'score': 3.3000000000000003},\n    path='C:/Users/johan/ray_results/objective_2024-03-26_16-03-22/objective_fd119_00067_67_x=1.0000,y=2_2024-03-26_16-03-26',\n    filesystem='local',\n    checkpoint=None\n  ),\n  Result(\n    metrics={'score': 2.2000011},\n    path='C:/Users/johan/ray_results/objective_2024-03-26_16-03-22/objective_fd119_00068_68_x=0.0010,y=2_2024-03-26_16-03-26',\n    filesystem='local',\n    checkpoint=None\n  ),\n  Result(\n    metrics={'score': 2.2001100000000005},\n    path='C:/Users/johan/ray_results/objective_2024-03-26_16-03-22/objective_fd119_00069_69_x=0.0100,y=2_2024-03-26_16-03-26',\n    filesystem='local',\n    checkpoint=None\n  ),\n  Result(\n    metrics={'score': 1341.832621042304},\n    path='C:/Users/johan/ray_results/objective_2024-03-26_16-03-22/objective_fd119_00070_70_x=0.1000,y=3_2024-03-26_16-03-26',\n    filesystem='local',\n    checkpoint=None\n  ),\n  Result(\n    metrics={'score': 2.2},\n    path='C:/Users/johan/ray_results/objective_2024-03-26_16-03-22/objective_fd119_00071_71_x=1.0000,y=1_2024-03-26_16-03-26',\n    filesystem='local',\n    checkpoint=None\n  ),\n  Result(\n    metrics={'score': 4.392301464100001},\n    path='C:/Users/johan/ray_results/objective_2024-03-26_16-03-22/objective_fd119_00072_72_x=0.0010,y=3_2024-03-26_16-03-26',\n    filesystem='local',\n    checkpoint=None\n  ),\n  Result(\n    metrics={'score': 4.392446410000002},\n    path='C:/Users/johan/ray_results/objective_2024-03-26_16-03-22/objective_fd119_00073_73_x=0.0100,y=3_2024-03-26_16-03-27',\n    filesystem='local',\n    checkpoint=None\n  ),\n  Result(\n    metrics={'score': 1341.832621042304},\n    path='C:/Users/johan/ray_results/objective_2024-03-26_16-03-22/objective_fd119_00074_74_x=0.1000,y=3_2024-03-26_16-03-27',\n    filesystem='local',\n    checkpoint=None\n  ),\n  Result(\n    metrics={'score': 3.3000000000000003},\n    path='C:/Users/johan/ray_results/objective_2024-03-26_16-03-22/objective_fd119_00075_75_x=1.0000,y=2_2024-03-26_16-03-27',\n    filesystem='local',\n    checkpoint=None\n  ),\n  Result(\n    metrics={'score': 2.2000011},\n    path='C:/Users/johan/ray_results/objective_2024-03-26_16-03-22/objective_fd119_00076_76_x=0.0010,y=2_2024-03-26_16-03-27',\n    filesystem='local',\n    checkpoint=None\n  ),\n  Result(\n    metrics={'score': 2.2001100000000005},\n    path='C:/Users/johan/ray_results/objective_2024-03-26_16-03-22/objective_fd119_00077_77_x=0.0100,y=2_2024-03-26_16-03-27',\n    filesystem='local',\n    checkpoint=None\n  ),\n  Result(\n    metrics={'score': 41479.64314286536},\n    path='C:/Users/johan/ray_results/objective_2024-03-26_16-03-22/objective_fd119_00078_78_x=0.1000,y=3_2024-03-26_16-03-27',\n    filesystem='local',\n    checkpoint=None\n  ),\n  Result(\n    metrics={'score': 55122.449359289516},\n    path='C:/Users/johan/ray_results/objective_2024-03-26_16-03-22/objective_fd119_00079_79_x=1.0000,y=3_2024-03-26_16-03-27',\n    filesystem='local',\n    checkpoint=None\n  )\n]>"
     },
     "execution_count": 6,
     "metadata": {},
     "output_type": "execute_result"
    }
   ],
   "source": [
    "results"
   ],
   "metadata": {
    "collapsed": false,
    "ExecuteTime": {
     "start_time": "2024-03-26T16:03:29.268689Z",
     "end_time": "2024-03-26T16:03:29.281194Z"
    }
   }
  },
  {
   "cell_type": "code",
   "execution_count": 7,
   "outputs": [
    {
     "data": {
      "text/plain": "80"
     },
     "execution_count": 7,
     "metadata": {},
     "output_type": "execute_result"
    }
   ],
   "source": [
    "len(results)"
   ],
   "metadata": {
    "collapsed": false,
    "ExecuteTime": {
     "start_time": "2024-03-26T16:03:29.282194Z",
     "end_time": "2024-03-26T16:03:29.327193Z"
    }
   }
  },
  {
   "cell_type": "code",
   "execution_count": 8,
   "outputs": [],
   "source": [
    "dfs = {result.path: result.metrics_dataframe for result in results}"
   ],
   "metadata": {
    "collapsed": false,
    "ExecuteTime": {
     "start_time": "2024-03-26T16:03:29.298194Z",
     "end_time": "2024-03-26T16:03:29.340718Z"
    }
   }
  },
  {
   "cell_type": "code",
   "execution_count": 9,
   "outputs": [
    {
     "data": {
      "text/plain": "<Figure size 640x480 with 1 Axes>",
      "image/png": "[encoded data removed]"
     },
     "metadata": {},
     "output_type": "display_data"
    }
   ],
   "source": [
    "# Plot by epoch\n",
    "ax = None  # This plots everything on the same plot\n",
    "for d in dfs.values():\n",
    "    ax = d.score.plot(ax=ax, legend=False)"
   ],
   "metadata": {
    "collapsed": false,
    "ExecuteTime": {
     "start_time": "2024-03-26T16:03:29.315194Z",
     "end_time": "2024-03-26T16:03:29.794892Z"
    }
   }
  },
  {
   "cell_type": "code",
   "execution_count": 10,
   "outputs": [],
   "source": [
    "from ray import train, tune\n",
    "from ray.tune import CLIReporter\n",
    "from ray.tune.schedulers import ASHAScheduler\n",
    "from ray.tune.search.hyperopt import HyperOptSearch\n",
    "from hyperopt import hp"
   ],
   "metadata": {
    "collapsed": false,
    "ExecuteTime": {
     "start_time": "2024-03-26T16:18:33.797879Z",
     "end_time": "2024-03-26T16:18:33.815881Z"
    }
   }
  },
  {
   "cell_type": "code",
   "execution_count": 11,
   "outputs": [],
   "source": [
    "def objective(config):\n",
    "    score = config['x'] ** 2 + config['y']\n",
    "    for epoch in range(config['epochs']):\n",
    "        score *= 1.1\n",
    "        train.report({'score': score})\n",
    "    # return {'score': score}"
   ],
   "metadata": {
    "collapsed": false,
    "ExecuteTime": {
     "start_time": "2024-03-26T16:18:33.986755Z",
     "end_time": "2024-03-26T16:18:34.001753Z"
    }
   }
  },
  {
   "cell_type": "code",
   "execution_count": 12,
   "outputs": [],
   "source": [
    "search_space = {\n",
    "    \"x\": hp.choice(\"x\", [0.001, 0.01, 0.1, 1.]),\n",
    "    \"y\": hp.choice(\"y\", [1,2,3]),\n",
    "}"
   ],
   "metadata": {
    "collapsed": false,
    "ExecuteTime": {
     "start_time": "2024-03-26T16:18:34.212186Z",
     "end_time": "2024-03-26T16:18:34.243703Z"
    }
   }
  },
  {
   "cell_type": "code",
   "execution_count": 13,
   "outputs": [],
   "source": [
    "search_space = {\n",
    "    'x': tune.choice([0.001, 0.01, 0.1, 1.]),\n",
    "    'y': tune.choice([1,2,3]),\n",
    "    'epochs': 5\n",
    "}"
   ],
   "metadata": {
    "collapsed": false,
    "ExecuteTime": {
     "start_time": "2024-03-26T16:18:34.845750Z",
     "end_time": "2024-03-26T16:18:34.862757Z"
    }
   }
  },
  {
   "cell_type": "code",
   "execution_count": 14,
   "outputs": [
    {
     "name": "stderr",
     "output_type": "stream",
     "text": [
      "2024-03-26 16:18:36,187\tINFO tune.py:583 -- [output] This uses the legacy output and progress reporter, as Jupyter notebooks are not supported by the new engine, yet. For more information, please see https://github.com/ray-project/ray/issues/36949\n"
     ]
    },
    {
     "name": "stdout",
     "output_type": "stream",
     "text": [
      "== Status ==\n",
      "Current time: 2024-03-26 16:18:36 (running for 00:00:00.12)\n",
      "Using AsyncHyperBand: num_stopped=0\n",
      "Bracket: Iter 405.000: None | Iter 135.000: None | Iter 45.000: None | Iter 15.000: None | Iter 5.000: None\n",
      "Logical resource usage: 1.0/20 CPUs, 0/1 GPUs (0.0/1.0 accelerator_type:G)\n",
      "Result logdir: C:/Users/johan/ray_results/objective_2024-03-26_16-18-36\n",
      "Number of trials: 1/1 (1 PENDING)\n",
      "\n",
      "\n"
     ]
    },
    {
     "name": "stderr",
     "output_type": "stream",
     "text": [
      "2024-03-26 16:18:37,665\tINFO tune.py:1042 -- Total run time: 1.48 seconds (1.47 seconds for the tuning loop).\n"
     ]
    },
    {
     "name": "stdout",
     "output_type": "stream",
     "text": [
      "== Status ==\n",
      "Current time: 2024-03-26 16:18:37 (running for 00:00:01.47)\n",
      "Using AsyncHyperBand: num_stopped=0\n",
      "Bracket: Iter 405.000: None | Iter 135.000: None | Iter 45.000: None | Iter 15.000: None | Iter 5.000: 1.6105116105100004\n",
      "Logical resource usage: 1.0/20 CPUs, 0/1 GPUs (0.0/1.0 accelerator_type:G)\n",
      "Current best trial: 51d4f768 with score=1.6105116105100004 and parameters={'x': 0.001, 'y': 1, 'epochs': 5}\n",
      "Result logdir: C:/Users/johan/ray_results/objective_2024-03-26_16-18-36\n",
      "Number of trials: 1/1 (1 TERMINATED)\n",
      "\n",
      "\n"
     ]
    }
   ],
   "source": [
    "tuner = tune.Tuner(\n",
    "    trainable=objective,\n",
    "    param_space=search_space,\n",
    "    tune_config=tune.TuneConfig(\n",
    "        metric='score',\n",
    "        mode='max',\n",
    "        search_alg=HyperOptSearch(\n",
    "            # space=search_space,\n",
    "            metric='score',\n",
    "            mode='max'\n",
    "        ),\n",
    "        scheduler=ASHAScheduler(\n",
    "            #metric=\"score\",\n",
    "            #mode=\"max\",\n",
    "            max_t=1000,\n",
    "            grace_period=5,\n",
    "            reduction_factor=3,\n",
    "            brackets = 1\n",
    "        ),\n",
    "        num_samples=1,\n",
    "        max_concurrent_trials=3,\n",
    "    ),\n",
    "    run_config=train.RunConfig(\n",
    "        progress_reporter=CLIReporter(\n",
    "            metric_columns=[\"score\"]\n",
    "        )\n",
    "    )\n",
    ")\n",
    "results = tuner.fit()"
   ],
   "metadata": {
    "collapsed": false,
    "ExecuteTime": {
     "start_time": "2024-03-26T16:18:36.187134Z",
     "end_time": "2024-03-26T16:18:37.680892Z"
    }
   }
  },
  {
   "cell_type": "code",
   "execution_count": 15,
   "outputs": [
    {
     "data": {
      "text/plain": "      score   timestamp checkpoint_dir_name   done  training_iteration  \\\n0  1.610512  1711466317                None  False                   5   \n\n   trial_id                 date  time_this_iter_s  time_total_s    pid  \\\n0  51d4f768  2024-03-26_16-18-37               0.0           0.0  16496   \n\n       hostname    node_ip  time_since_restore  iterations_since_restore  \\\n0  AT-MB-PC-E13  127.0.0.1                 0.0                         5   \n\n   config/x  config/y  config/epochs    logdir  \n0     0.001         1              5  51d4f768  ",
      "text/html": "<div>\n<style scoped>\n    .dataframe tbody tr th:only-of-type {\n        vertical-align: middle;\n    }\n\n    .dataframe tbody tr th {\n        vertical-align: top;\n    }\n\n    .dataframe thead th {\n        text-align: right;\n    }\n</style>\n<table border=\"1\" class=\"dataframe\">\n  <thead>\n    <tr style=\"text-align: right;\">\n      <th></th>\n      <th>score</th>\n      <th>timestamp</th>\n      <th>checkpoint_dir_name</th>\n      <th>done</th>\n      <th>training_iteration</th>\n      <th>trial_id</th>\n      <th>date</th>\n      <th>time_this_iter_s</th>\n      <th>time_total_s</th>\n      <th>pid</th>\n      <th>hostname</th>\n      <th>node_ip</th>\n      <th>time_since_restore</th>\n      <th>iterations_since_restore</th>\n      <th>config/x</th>\n      <th>config/y</th>\n      <th>config/epochs</th>\n      <th>logdir</th>\n    </tr>\n  </thead>\n  <tbody>\n    <tr>\n      <th>0</th>\n      <td>1.610512</td>\n      <td>1711466317</td>\n      <td>None</td>\n      <td>False</td>\n      <td>5</td>\n      <td>51d4f768</td>\n      <td>2024-03-26_16-18-37</td>\n      <td>0.0</td>\n      <td>0.0</td>\n      <td>16496</td>\n      <td>AT-MB-PC-E13</td>\n      <td>127.0.0.1</td>\n      <td>0.0</td>\n      <td>5</td>\n      <td>0.001</td>\n      <td>1</td>\n      <td>5</td>\n      <td>51d4f768</td>\n    </tr>\n  </tbody>\n</table>\n</div>"
     },
     "execution_count": 15,
     "metadata": {},
     "output_type": "execute_result"
    }
   ],
   "source": [
    "results.get_dataframe()"
   ],
   "metadata": {
    "collapsed": false,
    "ExecuteTime": {
     "start_time": "2024-03-26T16:18:42.404296Z",
     "end_time": "2024-03-26T16:18:42.430299Z"
    }
   }
  },
  {
   "cell_type": "code",
   "execution_count": 7,
   "outputs": [],
   "source": [
    "dfs = {result.path: result.metrics_dataframe for result in results}"
   ],
   "metadata": {
    "collapsed": false,
    "ExecuteTime": {
     "start_time": "2024-03-26T16:13:18.604569Z",
     "end_time": "2024-03-26T16:13:18.630581Z"
    }
   }
  },
  {
   "cell_type": "code",
   "execution_count": 8,
   "outputs": [
    {
     "data": {
      "text/plain": "<Figure size 640x480 with 1 Axes>",
      "image/png": "[encoded data removed]"
     },
     "metadata": {},
     "output_type": "display_data"
    }
   ],
   "source": [
    "# Plot by epoch\n",
    "ax = None  # This plots everything on the same plot\n",
    "for d in dfs.values():\n",
    "    ax = d.score.plot(ax=ax, legend=False)"
   ],
   "metadata": {
    "collapsed": false,
    "ExecuteTime": {
     "start_time": "2024-03-26T16:13:19.187993Z",
     "end_time": "2024-03-26T16:13:19.520777Z"
    }
   }
  },
  {
   "cell_type": "code",
   "execution_count": 9,
   "outputs": [
    {
     "data": {
      "text/plain": "            score   timestamp checkpoint_dir_name   done  training_iteration  \\\n0    2.200001e+00  1711465989                None  False                   1   \n1    2.420001e+00  1711465989                None  False                   2   \n2    2.662001e+00  1711465989                None  False                   3   \n3    2.928201e+00  1711465989                None  False                   4   \n4    3.221022e+00  1711465989                None  False                   5   \n..            ...         ...                 ...    ...                 ...   \n995  3.373997e+41  1711465990                None  False                 996   \n996  3.711396e+41  1711465990                None  False                 997   \n997  4.082536e+41  1711465990                None  False                 998   \n998  4.490789e+41  1711465990                None  False                 999   \n999  4.939868e+41  1711465990                None   True                1000   \n\n     trial_id                 date  time_this_iter_s  time_total_s    pid  \\\n0    555484d8  2024-03-26_16-13-09               0.0      0.000000  51388   \n1    555484d8  2024-03-26_16-13-09               0.0      0.000000  51388   \n2    555484d8  2024-03-26_16-13-09               0.0      0.000000  51388   \n3    555484d8  2024-03-26_16-13-09               0.0      0.000000  51388   \n4    555484d8  2024-03-26_16-13-09               0.0      0.000000  51388   \n..        ...                  ...               ...           ...    ...   \n995  555484d8  2024-03-26_16-13-10               0.0      0.069868  51388   \n996  555484d8  2024-03-26_16-13-10               0.0      0.069868  51388   \n997  555484d8  2024-03-26_16-13-10               0.0      0.069868  51388   \n998  555484d8  2024-03-26_16-13-10               0.0      0.069868  51388   \n999  555484d8  2024-03-26_16-13-10               0.0      0.069868  51388   \n\n         hostname    node_ip  time_since_restore  iterations_since_restore  \\\n0    AT-MB-PC-E13  127.0.0.1            0.000000                         1   \n1    AT-MB-PC-E13  127.0.0.1            0.000000                         2   \n2    AT-MB-PC-E13  127.0.0.1            0.000000                         3   \n3    AT-MB-PC-E13  127.0.0.1            0.000000                         4   \n4    AT-MB-PC-E13  127.0.0.1            0.000000                         5   \n..            ...        ...                 ...                       ...   \n995  AT-MB-PC-E13  127.0.0.1            0.069868                       996   \n996  AT-MB-PC-E13  127.0.0.1            0.069868                       997   \n997  AT-MB-PC-E13  127.0.0.1            0.069868                       998   \n998  AT-MB-PC-E13  127.0.0.1            0.069868                       999   \n999  AT-MB-PC-E13  127.0.0.1            0.069868                      1000   \n\n     config/x  config/y  config/epochs  \n0       0.001         2           5000  \n1       0.001         2           5000  \n2       0.001         2           5000  \n3       0.001         2           5000  \n4       0.001         2           5000  \n..        ...       ...            ...  \n995     0.001         2           5000  \n996     0.001         2           5000  \n997     0.001         2           5000  \n998     0.001         2           5000  \n999     0.001         2           5000  \n\n[1000 rows x 17 columns]",
      "text/html": "<div>\n<style scoped>\n    .dataframe tbody tr th:only-of-type {\n        vertical-align: middle;\n    }\n\n    .dataframe tbody tr th {\n        vertical-align: top;\n    }\n\n    .dataframe thead th {\n        text-align: right;\n    }\n</style>\n<table border=\"1\" class=\"dataframe\">\n  <thead>\n    <tr style=\"text-align: right;\">\n      <th></th>\n      <th>score</th>\n      <th>timestamp</th>\n      <th>checkpoint_dir_name</th>\n      <th>done</th>\n      <th>training_iteration</th>\n      <th>trial_id</th>\n      <th>date</th>\n      <th>time_this_iter_s</th>\n      <th>time_total_s</th>\n      <th>pid</th>\n      <th>hostname</th>\n      <th>node_ip</th>\n      <th>time_since_restore</th>\n      <th>iterations_since_restore</th>\n      <th>config/x</th>\n      <th>config/y</th>\n      <th>config/epochs</th>\n    </tr>\n  </thead>\n  <tbody>\n    <tr>\n      <th>0</th>\n      <td>2.200001e+00</td>\n      <td>1711465989</td>\n      <td>None</td>\n      <td>False</td>\n      <td>1</td>\n      <td>555484d8</td>\n      <td>2024-03-26_16-13-09</td>\n      <td>0.0</td>\n      <td>0.000000</td>\n      <td>51388</td>\n      <td>AT-MB-PC-E13</td>\n      <td>127.0.0.1</td>\n      <td>0.000000</td>\n      <td>1</td>\n      <td>0.001</td>\n      <td>2</td>\n      <td>5000</td>\n    </tr>\n    <tr>\n      <th>1</th>\n      <td>2.420001e+00</td>\n      <td>1711465989</td>\n      <td>None</td>\n      <td>False</td>\n      <td>2</td>\n      <td>555484d8</td>\n      <td>2024-03-26_16-13-09</td>\n      <td>0.0</td>\n      <td>0.000000</td>\n      <td>51388</td>\n      <td>AT-MB-PC-E13</td>\n      <td>127.0.0.1</td>\n      <td>0.000000</td>\n      <td>2</td>\n      <td>0.001</td>\n      <td>2</td>\n      <td>5000</td>\n    </tr>\n    <tr>\n      <th>2</th>\n      <td>2.662001e+00</td>\n      <td>1711465989</td>\n      <td>None</td>\n      <td>False</td>\n      <td>3</td>\n      <td>555484d8</td>\n      <td>2024-03-26_16-13-09</td>\n      <td>0.0</td>\n      <td>0.000000</td>\n      <td>51388</td>\n      <td>AT-MB-PC-E13</td>\n      <td>127.0.0.1</td>\n      <td>0.000000</td>\n      <td>3</td>\n      <td>0.001</td>\n      <td>2</td>\n      <td>5000</td>\n    </tr>\n    <tr>\n      <th>3</th>\n      <td>2.928201e+00</td>\n      <td>1711465989</td>\n      <td>None</td>\n      <td>False</td>\n      <td>4</td>\n      <td>555484d8</td>\n      <td>2024-03-26_16-13-09</td>\n      <td>0.0</td>\n      <td>0.000000</td>\n      <td>51388</td>\n      <td>AT-MB-PC-E13</td>\n      <td>127.0.0.1</td>\n      <td>0.000000</td>\n      <td>4</td>\n      <td>0.001</td>\n      <td>2</td>\n      <td>5000</td>\n    </tr>\n    <tr>\n      <th>4</th>\n      <td>3.221022e+00</td>\n      <td>1711465989</td>\n      <td>None</td>\n      <td>False</td>\n      <td>5</td>\n      <td>555484d8</td>\n      <td>2024-03-26_16-13-09</td>\n      <td>0.0</td>\n      <td>0.000000</td>\n      <td>51388</td>\n      <td>AT-MB-PC-E13</td>\n      <td>127.0.0.1</td>\n      <td>0.000000</td>\n      <td>5</td>\n      <td>0.001</td>\n      <td>2</td>\n      <td>5000</td>\n    </tr>\n    <tr>\n      <th>...</th>\n      <td>...</td>\n      <td>...</td>\n      <td>...</td>\n      <td>...</td>\n      <td>...</td>\n      <td>...</td>\n      <td>...</td>\n      <td>...</td>\n      <td>...</td>\n      <td>...</td>\n      <td>...</td>\n      <td>...</td>\n      <td>...</td>\n      <td>...</td>\n      <td>...</td>\n      <td>...</td>\n      <td>...</td>\n    </tr>\n    <tr>\n      <th>995</th>\n      <td>3.373997e+41</td>\n      <td>1711465990</td>\n      <td>None</td>\n      <td>False</td>\n      <td>996</td>\n      <td>555484d8</td>\n      <td>2024-03-26_16-13-10</td>\n      <td>0.0</td>\n      <td>0.069868</td>\n      <td>51388</td>\n      <td>AT-MB-PC-E13</td>\n      <td>127.0.0.1</td>\n      <td>0.069868</td>\n      <td>996</td>\n      <td>0.001</td>\n      <td>2</td>\n      <td>5000</td>\n    </tr>\n    <tr>\n      <th>996</th>\n      <td>3.711396e+41</td>\n      <td>1711465990</td>\n      <td>None</td>\n      <td>False</td>\n      <td>997</td>\n      <td>555484d8</td>\n      <td>2024-03-26_16-13-10</td>\n      <td>0.0</td>\n      <td>0.069868</td>\n      <td>51388</td>\n      <td>AT-MB-PC-E13</td>\n      <td>127.0.0.1</td>\n      <td>0.069868</td>\n      <td>997</td>\n      <td>0.001</td>\n      <td>2</td>\n      <td>5000</td>\n    </tr>\n    <tr>\n      <th>997</th>\n      <td>4.082536e+41</td>\n      <td>1711465990</td>\n      <td>None</td>\n      <td>False</td>\n      <td>998</td>\n      <td>555484d8</td>\n      <td>2024-03-26_16-13-10</td>\n      <td>0.0</td>\n      <td>0.069868</td>\n      <td>51388</td>\n      <td>AT-MB-PC-E13</td>\n      <td>127.0.0.1</td>\n      <td>0.069868</td>\n      <td>998</td>\n      <td>0.001</td>\n      <td>2</td>\n      <td>5000</td>\n    </tr>\n    <tr>\n      <th>998</th>\n      <td>4.490789e+41</td>\n      <td>1711465990</td>\n      <td>None</td>\n      <td>False</td>\n      <td>999</td>\n      <td>555484d8</td>\n      <td>2024-03-26_16-13-10</td>\n      <td>0.0</td>\n      <td>0.069868</td>\n      <td>51388</td>\n      <td>AT-MB-PC-E13</td>\n      <td>127.0.0.1</td>\n      <td>0.069868</td>\n      <td>999</td>\n      <td>0.001</td>\n      <td>2</td>\n      <td>5000</td>\n    </tr>\n    <tr>\n      <th>999</th>\n      <td>4.939868e+41</td>\n      <td>1711465990</td>\n      <td>None</td>\n      <td>True</td>\n      <td>1000</td>\n      <td>555484d8</td>\n      <td>2024-03-26_16-13-10</td>\n      <td>0.0</td>\n      <td>0.069868</td>\n      <td>51388</td>\n      <td>AT-MB-PC-E13</td>\n      <td>127.0.0.1</td>\n      <td>0.069868</td>\n      <td>1000</td>\n      <td>0.001</td>\n      <td>2</td>\n      <td>5000</td>\n    </tr>\n  </tbody>\n</table>\n<p>1000 rows × 17 columns</p>\n</div>"
     },
     "execution_count": 9,
     "metadata": {},
     "output_type": "execute_result"
    }
   ],
   "source": [
    "d"
   ],
   "metadata": {
    "collapsed": false,
    "ExecuteTime": {
     "start_time": "2024-03-26T16:13:23.126987Z",
     "end_time": "2024-03-26T16:13:23.144495Z"
    }
   }
  },
  {
   "cell_type": "code",
   "execution_count": null,
   "outputs": [],
   "source": [],
   "metadata": {
    "collapsed": false
   }
  }
 ],
 "metadata": {
  "kernelspec": {
   "display_name": "Python 3",
   "language": "python",
   "name": "python3"
  },
  "language_info": {
   "codemirror_mode": {
    "name": "ipython",
    "version": 2
   },
   "file_extension": ".py",
   "mimetype": "text/x-python",
   "name": "python",
   "nbconvert_exporter": "python",
   "pygments_lexer": "ipython2",
   "version": "2.7.6"
  }
 },
 "nbformat": 4,
 "nbformat_minor": 0
}
