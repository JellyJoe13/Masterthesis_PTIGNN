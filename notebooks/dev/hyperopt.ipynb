{
 "cells": [
  {
   "cell_type": "code",
   "execution_count": 1,
   "metadata": {
    "collapsed": true,
    "ExecuteTime": {
     "start_time": "2024-03-12T12:34:33.564320Z",
     "end_time": "2024-03-12T12:34:34.465643Z"
    }
   },
   "outputs": [],
   "source": [
    "from ray import train, tune\n",
    "from ray.tune import CLIReporter\n",
    "from ray.tune.schedulers import ASHAScheduler\n",
    "from ray.tune.search.hyperopt import HyperOptSearch"
   ]
  },
  {
   "cell_type": "code",
   "execution_count": 2,
   "outputs": [],
   "source": [
    "def objective(config):\n",
    "    score = config['x'] ** 2 + config['y']\n",
    "    for epoch in range(config['epochs']):\n",
    "        score *= 1.1\n",
    "        train.report({'score': score})\n",
    "    # return {'score': score}"
   ],
   "metadata": {
    "collapsed": false,
    "ExecuteTime": {
     "start_time": "2024-03-12T12:34:34.467646Z",
     "end_time": "2024-03-12T12:34:34.478645Z"
    }
   }
  },
  {
   "cell_type": "code",
   "execution_count": 3,
   "outputs": [],
   "source": [
    "search_space = {\n",
    "    'x': tune.grid_search([0.001, 0.01, 0.1, 1.]),\n",
    "    'y': tune.choice([1,2,3]),\n",
    "    'epochs': 100\n",
    "}"
   ],
   "metadata": {
    "collapsed": false,
    "ExecuteTime": {
     "start_time": "2024-03-12T12:34:34.479646Z",
     "end_time": "2024-03-12T12:34:34.495644Z"
    }
   }
  },
  {
   "cell_type": "code",
   "execution_count": 5,
   "outputs": [
    {
     "data": {
      "text/plain": "<IPython.core.display.HTML object>",
      "text/html": ""
     },
     "metadata": {},
     "output_type": "display_data"
    },
    {
     "name": "stderr",
     "output_type": "stream",
     "text": [
      "2024-03-12 12:19:41,164\tINFO tune.py:1042 -- Total run time: 2.90 seconds (1.86 seconds for the tuning loop).\n"
     ]
    },
    {
     "name": "stdout",
     "output_type": "stream",
     "text": [
      "{'x': 1.0, 'y': 1, 'epochs': 100}\n"
     ]
    }
   ],
   "source": [
    "tuner = tune.Tuner(objective, param_space=search_space)\n",
    "results = tuner.fit()\n",
    "print(results.get_best_result(metric=\"score\", mode=\"min\").config)"
   ],
   "metadata": {
    "collapsed": false,
    "ExecuteTime": {
     "start_time": "2024-03-12T12:19:35.589056Z",
     "end_time": "2024-03-12T12:19:41.182018Z"
    }
   }
  },
  {
   "cell_type": "code",
   "execution_count": 6,
   "outputs": [
    {
     "data": {
      "text/plain": "<IPython.core.display.HTML object>",
      "text/html": ""
     },
     "metadata": {},
     "output_type": "display_data"
    },
    {
     "name": "stderr",
     "output_type": "stream",
     "text": [
      "2024-03-12 12:19:51,292\tINFO tune.py:1042 -- Total run time: 7.02 seconds (5.99 seconds for the tuning loop).\n"
     ]
    }
   ],
   "source": [
    "tuner = tune.Tuner(\n",
    "    objective,\n",
    "    tune_config=tune.TuneConfig(\n",
    "        num_samples=20,\n",
    "        scheduler=ASHAScheduler(metric='score', mode='max')\n",
    "    ),\n",
    "    param_space=search_space\n",
    ")\n",
    "results = tuner.fit()"
   ],
   "metadata": {
    "collapsed": false,
    "ExecuteTime": {
     "start_time": "2024-03-12T12:19:44.276022Z",
     "end_time": "2024-03-12T12:19:51.368878Z"
    }
   }
  },
  {
   "cell_type": "code",
   "execution_count": 7,
   "outputs": [
    {
     "data": {
      "text/plain": "ResultGrid<[\n  Result(\n    metrics={'score': 1337.3751511493458},\n    path='C:/Users/johan/ray_results/objective_2024-03-12_12-19-44/objective_6d73c_00000_0_x=0.0010,y=3_2024-03-12_12-19-44',\n    filesystem='local',\n    checkpoint=None\n  ),\n  Result(\n    metrics={'score': 2.2001100000000005},\n    path='C:/Users/johan/ray_results/objective_2024-03-12_12-19-44/objective_6d73c_00001_1_x=0.0100,y=2_2024-03-12_12-19-44',\n    filesystem='local',\n    checkpoint=None\n  ),\n  Result(\n    metrics={'score': 2.211},\n    path='C:/Users/johan/ray_results/objective_2024-03-12_12-19-44/objective_6d73c_00002_2_x=0.1000,y=2_2024-03-12_12-19-44',\n    filesystem='local',\n    checkpoint=None\n  ),\n  Result(\n    metrics={'score': 2.2},\n    path='C:/Users/johan/ray_results/objective_2024-03-12_12-19-44/objective_6d73c_00003_3_x=1.0000,y=1_2024-03-12_12-19-44',\n    filesystem='local',\n    checkpoint=None\n  ),\n  Result(\n    metrics={'score': 1.1000011},\n    path='C:/Users/johan/ray_results/objective_2024-03-12_12-19-44/objective_6d73c_00004_4_x=0.0010,y=1_2024-03-12_12-19-44',\n    filesystem='local',\n    checkpoint=None\n  ),\n  Result(\n    metrics={'score': 1.1001100000000001},\n    path='C:/Users/johan/ray_results/objective_2024-03-12_12-19-44/objective_6d73c_00005_5_x=0.0100,y=1_2024-03-12_12-19-44',\n    filesystem='local',\n    checkpoint=None\n  ),\n  Result(\n    metrics={'score': 13.830868688935238},\n    path='C:/Users/johan/ray_results/objective_2024-03-12_12-19-44/objective_6d73c_00006_6_x=0.1000,y=3_2024-03-12_12-19-44',\n    filesystem='local',\n    checkpoint=None\n  ),\n  Result(\n    metrics={'score': 55122.449359289516},\n    path='C:/Users/johan/ray_results/objective_2024-03-12_12-19-44/objective_6d73c_00007_7_x=1.0000,y=3_2024-03-12_12-19-44',\n    filesystem='local',\n    checkpoint=None\n  ),\n  Result(\n    metrics={'score': 1.1000011},\n    path='C:/Users/johan/ray_results/objective_2024-03-12_12-19-44/objective_6d73c_00008_8_x=0.0010,y=1_2024-03-12_12-19-44',\n    filesystem='local',\n    checkpoint=None\n  ),\n  Result(\n    metrics={'score': 1.1001100000000001},\n    path='C:/Users/johan/ray_results/objective_2024-03-12_12-19-44/objective_6d73c_00009_9_x=0.0100,y=1_2024-03-12_12-19-44',\n    filesystem='local',\n    checkpoint=None\n  ),\n  Result(\n    metrics={'score': 1.1110000000000002},\n    path='C:/Users/johan/ray_results/objective_2024-03-12_12-19-44/objective_6d73c_00010_10_x=0.1000,y=1_2024-03-12_12-19-44',\n    filesystem='local',\n    checkpoint=None\n  ),\n  Result(\n    metrics={'score': 2.2},\n    path='C:/Users/johan/ray_results/objective_2024-03-12_12-19-44/objective_6d73c_00011_11_x=1.0000,y=1_2024-03-12_12-19-44',\n    filesystem='local',\n    checkpoint=None\n  ),\n  Result(\n    metrics={'score': 4.392301464100001},\n    path='C:/Users/johan/ray_results/objective_2024-03-12_12-19-44/objective_6d73c_00012_12_x=0.0010,y=3_2024-03-12_12-19-44',\n    filesystem='local',\n    checkpoint=None\n  ),\n  Result(\n    metrics={'score': 2.2001100000000005},\n    path='C:/Users/johan/ray_results/objective_2024-03-12_12-19-44/objective_6d73c_00013_13_x=0.0100,y=2_2024-03-12_12-19-44',\n    filesystem='local',\n    checkpoint=None\n  ),\n  Result(\n    metrics={'score': 2.211},\n    path='C:/Users/johan/ray_results/objective_2024-03-12_12-19-44/objective_6d73c_00014_14_x=0.1000,y=2_2024-03-12_12-19-44',\n    filesystem='local',\n    checkpoint=None\n  ),\n  Result(\n    metrics={'score': 55122.449359289516},\n    path='C:/Users/johan/ray_results/objective_2024-03-12_12-19-44/objective_6d73c_00015_15_x=1.0000,y=3_2024-03-12_12-19-44',\n    filesystem='local',\n    checkpoint=None\n  ),\n  Result(\n    metrics={'score': 4.392301464100001},\n    path='C:/Users/johan/ray_results/objective_2024-03-12_12-19-44/objective_6d73c_00016_16_x=0.0010,y=3_2024-03-12_12-19-44',\n    filesystem='local',\n    checkpoint=None\n  ),\n  Result(\n    metrics={'score': 2.2001100000000005},\n    path='C:/Users/johan/ray_results/objective_2024-03-12_12-19-44/objective_6d73c_00017_17_x=0.0100,y=2_2024-03-12_12-19-44',\n    filesystem='local',\n    checkpoint=None\n  ),\n  Result(\n    metrics={'score': 1.1110000000000002},\n    path='C:/Users/johan/ray_results/objective_2024-03-12_12-19-44/objective_6d73c_00018_18_x=0.1000,y=1_2024-03-12_12-19-44',\n    filesystem='local',\n    checkpoint=None\n  ),\n  Result(\n    metrics={'score': 2.2},\n    path='C:/Users/johan/ray_results/objective_2024-03-12_12-19-44/objective_6d73c_00019_19_x=1.0000,y=1_2024-03-12_12-19-44',\n    filesystem='local',\n    checkpoint=None\n  ),\n  Result(\n    metrics={'score': 1.1000011},\n    path='C:/Users/johan/ray_results/objective_2024-03-12_12-19-44/objective_6d73c_00020_20_x=0.0010,y=1_2024-03-12_12-19-44',\n    filesystem='local',\n    checkpoint=None\n  ),\n  Result(\n    metrics={'score': 1.1001100000000001},\n    path='C:/Users/johan/ray_results/objective_2024-03-12_12-19-44/objective_6d73c_00021_21_x=0.0100,y=1_2024-03-12_12-19-44',\n    filesystem='local',\n    checkpoint=None\n  ),\n  Result(\n    metrics={'score': 2.211},\n    path='C:/Users/johan/ray_results/objective_2024-03-12_12-19-44/objective_6d73c_00022_22_x=0.1000,y=2_2024-03-12_12-19-47',\n    filesystem='local',\n    checkpoint=None\n  ),\n  Result(\n    metrics={'score': 55122.449359289516},\n    path='C:/Users/johan/ray_results/objective_2024-03-12_12-19-44/objective_6d73c_00023_23_x=1.0000,y=3_2024-03-12_12-19-47',\n    filesystem='local',\n    checkpoint=None\n  ),\n  Result(\n    metrics={'score': 1.1000011},\n    path='C:/Users/johan/ray_results/objective_2024-03-12_12-19-44/objective_6d73c_00024_24_x=0.0010,y=1_2024-03-12_12-19-47',\n    filesystem='local',\n    checkpoint=None\n  ),\n  Result(\n    metrics={'score': 4.392446410000002},\n    path='C:/Users/johan/ray_results/objective_2024-03-12_12-19-44/objective_6d73c_00025_25_x=0.0100,y=3_2024-03-12_12-19-47',\n    filesystem='local',\n    checkpoint=None\n  ),\n  Result(\n    metrics={'score': 4.406941000000001},\n    path='C:/Users/johan/ray_results/objective_2024-03-12_12-19-44/objective_6d73c_00026_26_x=0.1000,y=3_2024-03-12_12-19-47',\n    filesystem='local',\n    checkpoint=None\n  ),\n  Result(\n    metrics={'score': 2.2},\n    path='C:/Users/johan/ray_results/objective_2024-03-12_12-19-44/objective_6d73c_00027_27_x=1.0000,y=1_2024-03-12_12-19-47',\n    filesystem='local',\n    checkpoint=None\n  ),\n  Result(\n    metrics={'score': 1.1000011},\n    path='C:/Users/johan/ray_results/objective_2024-03-12_12-19-44/objective_6d73c_00028_28_x=0.0010,y=1_2024-03-12_12-19-47',\n    filesystem='local',\n    checkpoint=None\n  ),\n  Result(\n    metrics={'score': 1.1001100000000001},\n    path='C:/Users/johan/ray_results/objective_2024-03-12_12-19-44/objective_6d73c_00029_29_x=0.0100,y=1_2024-03-12_12-19-47',\n    filesystem='local',\n    checkpoint=None\n  ),\n  Result(\n    metrics={'score': 1.1110000000000002},\n    path='C:/Users/johan/ray_results/objective_2024-03-12_12-19-44/objective_6d73c_00030_30_x=0.1000,y=1_2024-03-12_12-19-47',\n    filesystem='local',\n    checkpoint=None\n  ),\n  Result(\n    metrics={'score': 2.2},\n    path='C:/Users/johan/ray_results/objective_2024-03-12_12-19-44/objective_6d73c_00031_31_x=1.0000,y=1_2024-03-12_12-19-47',\n    filesystem='local',\n    checkpoint=None\n  ),\n  Result(\n    metrics={'score': 2.2000011},\n    path='C:/Users/johan/ray_results/objective_2024-03-12_12-19-44/objective_6d73c_00032_32_x=0.0010,y=2_2024-03-12_12-19-47',\n    filesystem='local',\n    checkpoint=None\n  ),\n  Result(\n    metrics={'score': 1.1001100000000001},\n    path='C:/Users/johan/ray_results/objective_2024-03-12_12-19-44/objective_6d73c_00033_33_x=0.0100,y=1_2024-03-12_12-19-47',\n    filesystem='local',\n    checkpoint=None\n  ),\n  Result(\n    metrics={'score': 1.1110000000000002},\n    path='C:/Users/johan/ray_results/objective_2024-03-12_12-19-44/objective_6d73c_00034_34_x=0.1000,y=1_2024-03-12_12-19-47',\n    filesystem='local',\n    checkpoint=None\n  ),\n  Result(\n    metrics={'score': 55122.449359289516},\n    path='C:/Users/johan/ray_results/objective_2024-03-12_12-19-44/objective_6d73c_00035_35_x=1.0000,y=3_2024-03-12_12-19-47',\n    filesystem='local',\n    checkpoint=None\n  ),\n  Result(\n    metrics={'score': 1.1000011},\n    path='C:/Users/johan/ray_results/objective_2024-03-12_12-19-44/objective_6d73c_00036_36_x=0.0010,y=1_2024-03-12_12-19-47',\n    filesystem='local',\n    checkpoint=None\n  ),\n  Result(\n    metrics={'score': 1.1001100000000001},\n    path='C:/Users/johan/ray_results/objective_2024-03-12_12-19-44/objective_6d73c_00037_37_x=0.0100,y=1_2024-03-12_12-19-47',\n    filesystem='local',\n    checkpoint=None\n  ),\n  Result(\n    metrics={'score': 2.211},\n    path='C:/Users/johan/ray_results/objective_2024-03-12_12-19-44/objective_6d73c_00038_38_x=0.1000,y=2_2024-03-12_12-19-47',\n    filesystem='local',\n    checkpoint=None\n  ),\n  Result(\n    metrics={'score': 55122.449359289516},\n    path='C:/Users/johan/ray_results/objective_2024-03-12_12-19-44/objective_6d73c_00039_39_x=1.0000,y=3_2024-03-12_12-19-47',\n    filesystem='local',\n    checkpoint=None\n  ),\n  Result(\n    metrics={'score': 1.1000011},\n    path='C:/Users/johan/ray_results/objective_2024-03-12_12-19-44/objective_6d73c_00040_40_x=0.0010,y=1_2024-03-12_12-19-47',\n    filesystem='local',\n    checkpoint=None\n  ),\n  Result(\n    metrics={'score': 4.392446410000002},\n    path='C:/Users/johan/ray_results/objective_2024-03-12_12-19-44/objective_6d73c_00041_41_x=0.0100,y=3_2024-03-12_12-19-47',\n    filesystem='local',\n    checkpoint=None\n  ),\n  Result(\n    metrics={'score': 1.1110000000000002},\n    path='C:/Users/johan/ray_results/objective_2024-03-12_12-19-44/objective_6d73c_00042_42_x=0.1000,y=1_2024-03-12_12-19-47',\n    filesystem='local',\n    checkpoint=None\n  ),\n  Result(\n    metrics={'score': 4.392300000000001},\n    path='C:/Users/johan/ray_results/objective_2024-03-12_12-19-44/objective_6d73c_00043_43_x=1.0000,y=2_2024-03-12_12-19-47',\n    filesystem='local',\n    checkpoint=None\n  ),\n  Result(\n    metrics={'score': 2.2000011},\n    path='C:/Users/johan/ray_results/objective_2024-03-12_12-19-44/objective_6d73c_00044_44_x=0.0010,y=2_2024-03-12_12-19-47',\n    filesystem='local',\n    checkpoint=None\n  ),\n  Result(\n    metrics={'score': 1.1001100000000001},\n    path='C:/Users/johan/ray_results/objective_2024-03-12_12-19-44/objective_6d73c_00045_45_x=0.0100,y=1_2024-03-12_12-19-47',\n    filesystem='local',\n    checkpoint=None\n  ),\n  Result(\n    metrics={'score': 1.1110000000000002},\n    path='C:/Users/johan/ray_results/objective_2024-03-12_12-19-44/objective_6d73c_00046_46_x=0.1000,y=1_2024-03-12_12-19-47',\n    filesystem='local',\n    checkpoint=None\n  ),\n  Result(\n    metrics={'score': 3.3000000000000003},\n    path='C:/Users/johan/ray_results/objective_2024-03-12_12-19-44/objective_6d73c_00047_47_x=1.0000,y=2_2024-03-12_12-19-47',\n    filesystem='local',\n    checkpoint=None\n  ),\n  Result(\n    metrics={'score': 2.2000011},\n    path='C:/Users/johan/ray_results/objective_2024-03-12_12-19-44/objective_6d73c_00048_48_x=0.0010,y=2_2024-03-12_12-19-47',\n    filesystem='local',\n    checkpoint=None\n  ),\n  Result(\n    metrics={'score': 1.1001100000000001},\n    path='C:/Users/johan/ray_results/objective_2024-03-12_12-19-44/objective_6d73c_00049_49_x=0.0100,y=1_2024-03-12_12-19-47',\n    filesystem='local',\n    checkpoint=None\n  ),\n  Result(\n    metrics={'score': 2.211},\n    path='C:/Users/johan/ray_results/objective_2024-03-12_12-19-44/objective_6d73c_00050_50_x=0.1000,y=2_2024-03-12_12-19-47',\n    filesystem='local',\n    checkpoint=None\n  ),\n  Result(\n    metrics={'score': 55122.449359289516},\n    path='C:/Users/johan/ray_results/objective_2024-03-12_12-19-44/objective_6d73c_00051_51_x=1.0000,y=3_2024-03-12_12-19-47',\n    filesystem='local',\n    checkpoint=None\n  ),\n  Result(\n    metrics={'score': 1.1000011},\n    path='C:/Users/johan/ray_results/objective_2024-03-12_12-19-44/objective_6d73c_00052_52_x=0.0010,y=1_2024-03-12_12-19-47',\n    filesystem='local',\n    checkpoint=None\n  ),\n  Result(\n    metrics={'score': 1.1001100000000001},\n    path='C:/Users/johan/ray_results/objective_2024-03-12_12-19-44/objective_6d73c_00053_53_x=0.0100,y=1_2024-03-12_12-19-47',\n    filesystem='local',\n    checkpoint=None\n  ),\n  Result(\n    metrics={'score': 4.406941000000001},\n    path='C:/Users/johan/ray_results/objective_2024-03-12_12-19-44/objective_6d73c_00054_54_x=0.1000,y=3_2024-03-12_12-19-47',\n    filesystem='local',\n    checkpoint=None\n  ),\n  Result(\n    metrics={'score': 3.3000000000000003},\n    path='C:/Users/johan/ray_results/objective_2024-03-12_12-19-44/objective_6d73c_00055_55_x=1.0000,y=2_2024-03-12_12-19-47',\n    filesystem='local',\n    checkpoint=None\n  ),\n  Result(\n    metrics={'score': 4.392301464100001},\n    path='C:/Users/johan/ray_results/objective_2024-03-12_12-19-44/objective_6d73c_00056_56_x=0.0010,y=3_2024-03-12_12-19-47',\n    filesystem='local',\n    checkpoint=None\n  ),\n  Result(\n    metrics={'score': 4.392446410000002},\n    path='C:/Users/johan/ray_results/objective_2024-03-12_12-19-44/objective_6d73c_00057_57_x=0.0100,y=3_2024-03-12_12-19-47',\n    filesystem='local',\n    checkpoint=None\n  ),\n  Result(\n    metrics={'score': 2.211},\n    path='C:/Users/johan/ray_results/objective_2024-03-12_12-19-44/objective_6d73c_00058_58_x=0.1000,y=2_2024-03-12_12-19-47',\n    filesystem='local',\n    checkpoint=None\n  ),\n  Result(\n    metrics={'score': 3.3000000000000003},\n    path='C:/Users/johan/ray_results/objective_2024-03-12_12-19-44/objective_6d73c_00059_59_x=1.0000,y=2_2024-03-12_12-19-48',\n    filesystem='local',\n    checkpoint=None\n  ),\n  Result(\n    metrics={'score': 1.1000011},\n    path='C:/Users/johan/ray_results/objective_2024-03-12_12-19-44/objective_6d73c_00060_60_x=0.0010,y=1_2024-03-12_12-19-48',\n    filesystem='local',\n    checkpoint=None\n  ),\n  Result(\n    metrics={'score': 2.2001100000000005},\n    path='C:/Users/johan/ray_results/objective_2024-03-12_12-19-44/objective_6d73c_00061_61_x=0.0100,y=2_2024-03-12_12-19-48',\n    filesystem='local',\n    checkpoint=None\n  ),\n  Result(\n    metrics={'score': 2.211},\n    path='C:/Users/johan/ray_results/objective_2024-03-12_12-19-44/objective_6d73c_00062_62_x=0.1000,y=2_2024-03-12_12-19-48',\n    filesystem='local',\n    checkpoint=None\n  ),\n  Result(\n    metrics={'score': 2.2},\n    path='C:/Users/johan/ray_results/objective_2024-03-12_12-19-44/objective_6d73c_00063_63_x=1.0000,y=1_2024-03-12_12-19-48',\n    filesystem='local',\n    checkpoint=None\n  ),\n  Result(\n    metrics={'score': 2.2000011},\n    path='C:/Users/johan/ray_results/objective_2024-03-12_12-19-44/objective_6d73c_00064_64_x=0.0010,y=2_2024-03-12_12-19-48',\n    filesystem='local',\n    checkpoint=None\n  ),\n  Result(\n    metrics={'score': 1.1001100000000001},\n    path='C:/Users/johan/ray_results/objective_2024-03-12_12-19-44/objective_6d73c_00065_65_x=0.0100,y=1_2024-03-12_12-19-48',\n    filesystem='local',\n    checkpoint=None\n  ),\n  Result(\n    metrics={'score': 1.1110000000000002},\n    path='C:/Users/johan/ray_results/objective_2024-03-12_12-19-44/objective_6d73c_00066_66_x=0.1000,y=1_2024-03-12_12-19-48',\n    filesystem='local',\n    checkpoint=None\n  ),\n  Result(\n    metrics={'score': 55122.449359289516},\n    path='C:/Users/johan/ray_results/objective_2024-03-12_12-19-44/objective_6d73c_00067_67_x=1.0000,y=3_2024-03-12_12-19-48',\n    filesystem='local',\n    checkpoint=None\n  ),\n  Result(\n    metrics={'score': 2.2000011},\n    path='C:/Users/johan/ray_results/objective_2024-03-12_12-19-44/objective_6d73c_00068_68_x=0.0010,y=2_2024-03-12_12-19-48',\n    filesystem='local',\n    checkpoint=None\n  ),\n  Result(\n    metrics={'score': 4.392446410000002},\n    path='C:/Users/johan/ray_results/objective_2024-03-12_12-19-44/objective_6d73c_00069_69_x=0.0100,y=3_2024-03-12_12-19-48',\n    filesystem='local',\n    checkpoint=None\n  ),\n  Result(\n    metrics={'score': 2.211},\n    path='C:/Users/johan/ray_results/objective_2024-03-12_12-19-44/objective_6d73c_00070_70_x=0.1000,y=2_2024-03-12_12-19-48',\n    filesystem='local',\n    checkpoint=None\n  ),\n  Result(\n    metrics={'score': 4.392300000000001},\n    path='C:/Users/johan/ray_results/objective_2024-03-12_12-19-44/objective_6d73c_00071_71_x=1.0000,y=2_2024-03-12_12-19-48',\n    filesystem='local',\n    checkpoint=None\n  ),\n  Result(\n    metrics={'score': 1.1000011},\n    path='C:/Users/johan/ray_results/objective_2024-03-12_12-19-44/objective_6d73c_00072_72_x=0.0010,y=1_2024-03-12_12-19-48',\n    filesystem='local',\n    checkpoint=None\n  ),\n  Result(\n    metrics={'score': 1.1001100000000001},\n    path='C:/Users/johan/ray_results/objective_2024-03-12_12-19-44/objective_6d73c_00073_73_x=0.0100,y=1_2024-03-12_12-19-48',\n    filesystem='local',\n    checkpoint=None\n  ),\n  Result(\n    metrics={'score': 2.211},\n    path='C:/Users/johan/ray_results/objective_2024-03-12_12-19-44/objective_6d73c_00074_74_x=0.1000,y=2_2024-03-12_12-19-48',\n    filesystem='local',\n    checkpoint=None\n  ),\n  Result(\n    metrics={'score': 2.2},\n    path='C:/Users/johan/ray_results/objective_2024-03-12_12-19-44/objective_6d73c_00075_75_x=1.0000,y=1_2024-03-12_12-19-48',\n    filesystem='local',\n    checkpoint=None\n  ),\n  Result(\n    metrics={'score': 1.1000011},\n    path='C:/Users/johan/ray_results/objective_2024-03-12_12-19-44/objective_6d73c_00076_76_x=0.0010,y=1_2024-03-12_12-19-48',\n    filesystem='local',\n    checkpoint=None\n  ),\n  Result(\n    metrics={'score': 2.2001100000000005},\n    path='C:/Users/johan/ray_results/objective_2024-03-12_12-19-44/objective_6d73c_00077_77_x=0.0100,y=2_2024-03-12_12-19-48',\n    filesystem='local',\n    checkpoint=None\n  ),\n  Result(\n    metrics={'score': 2.211},\n    path='C:/Users/johan/ray_results/objective_2024-03-12_12-19-44/objective_6d73c_00078_78_x=0.1000,y=2_2024-03-12_12-19-48',\n    filesystem='local',\n    checkpoint=None\n  ),\n  Result(\n    metrics={'score': 4.392300000000001},\n    path='C:/Users/johan/ray_results/objective_2024-03-12_12-19-44/objective_6d73c_00079_79_x=1.0000,y=2_2024-03-12_12-19-48',\n    filesystem='local',\n    checkpoint=None\n  )\n]>"
     },
     "execution_count": 7,
     "metadata": {},
     "output_type": "execute_result"
    }
   ],
   "source": [
    "results"
   ],
   "metadata": {
    "collapsed": false,
    "ExecuteTime": {
     "start_time": "2024-03-12T12:19:57.275035Z",
     "end_time": "2024-03-12T12:19:57.286540Z"
    }
   }
  },
  {
   "cell_type": "code",
   "execution_count": 8,
   "outputs": [
    {
     "data": {
      "text/plain": "80"
     },
     "execution_count": 8,
     "metadata": {},
     "output_type": "execute_result"
    }
   ],
   "source": [
    "len(results)"
   ],
   "metadata": {
    "collapsed": false,
    "ExecuteTime": {
     "start_time": "2024-03-12T12:19:58.821321Z",
     "end_time": "2024-03-12T12:19:58.826321Z"
    }
   }
  },
  {
   "cell_type": "code",
   "execution_count": 9,
   "outputs": [],
   "source": [
    "dfs = {result.path: result.metrics_dataframe for result in results}"
   ],
   "metadata": {
    "collapsed": false,
    "ExecuteTime": {
     "start_time": "2024-03-12T12:20:00.028397Z",
     "end_time": "2024-03-12T12:20:00.042397Z"
    }
   }
  },
  {
   "cell_type": "code",
   "execution_count": 10,
   "outputs": [
    {
     "data": {
      "text/plain": "<Figure size 640x480 with 1 Axes>",
      "image/png": "[encoded data removed]"
     },
     "metadata": {},
     "output_type": "display_data"
    }
   ],
   "source": [
    "# Plot by epoch\n",
    "ax = None  # This plots everything on the same plot\n",
    "for d in dfs.values():\n",
    "    ax = d.score.plot(ax=ax, legend=False)"
   ],
   "metadata": {
    "collapsed": false,
    "ExecuteTime": {
     "start_time": "2024-03-12T12:20:00.481077Z",
     "end_time": "2024-03-12T12:20:01.012179Z"
    }
   }
  },
  {
   "cell_type": "code",
   "execution_count": 1,
   "outputs": [],
   "source": [
    "from ray import train, tune\n",
    "from ray.tune import CLIReporter\n",
    "from ray.tune.schedulers import ASHAScheduler\n",
    "from ray.tune.search.hyperopt import HyperOptSearch\n",
    "from hyperopt import hp"
   ],
   "metadata": {
    "collapsed": false,
    "ExecuteTime": {
     "start_time": "2024-03-12T14:42:15.151417Z",
     "end_time": "2024-03-12T14:42:17.296587Z"
    }
   }
  },
  {
   "cell_type": "code",
   "execution_count": 22,
   "outputs": [],
   "source": [
    "def objective(config):\n",
    "    score = config['x'] ** 2 + config['y']\n",
    "    for epoch in range(config['epochs']):\n",
    "        score *= 1.1\n",
    "        train.report({'score': score})\n",
    "    # return {'score': score}"
   ],
   "metadata": {
    "collapsed": false,
    "ExecuteTime": {
     "start_time": "2024-03-12T14:52:56.249639Z",
     "end_time": "2024-03-12T14:52:56.274636Z"
    }
   }
  },
  {
   "cell_type": "code",
   "execution_count": 3,
   "outputs": [],
   "source": [
    "search_space = {\n",
    "    \"x\": hp.choice(\"x\", [0.001, 0.01, 0.1, 1.]),\n",
    "    \"y\": hp.choice(\"y\", [1,2,3]),\n",
    "}"
   ],
   "metadata": {
    "collapsed": false,
    "ExecuteTime": {
     "start_time": "2024-03-12T14:42:18.557083Z",
     "end_time": "2024-03-12T14:42:18.567085Z"
    }
   }
  },
  {
   "cell_type": "code",
   "execution_count": 28,
   "outputs": [],
   "source": [
    "search_space = {\n",
    "    'x': tune.choice([0.001, 0.01, 0.1, 1.]),\n",
    "    'y': tune.choice([1,2,3]),\n",
    "    'epochs': 5000\n",
    "}"
   ],
   "metadata": {
    "collapsed": false,
    "ExecuteTime": {
     "start_time": "2024-03-12T14:53:39.096145Z",
     "end_time": "2024-03-12T14:53:39.120144Z"
    }
   }
  },
  {
   "cell_type": "code",
   "execution_count": 38,
   "outputs": [
    {
     "name": "stderr",
     "output_type": "stream",
     "text": [
      "2024-03-12 14:56:29,212\tINFO tune.py:583 -- [output] This uses the legacy output and progress reporter, as Jupyter notebooks are not supported by the new engine, yet. For more information, please see https://github.com/ray-project/ray/issues/36949\n"
     ]
    },
    {
     "name": "stdout",
     "output_type": "stream",
     "text": [
      "== Status ==\n",
      "Current time: 2024-03-12 14:56:29 (running for 00:00:00.11)\n",
      "Using AsyncHyperBand: num_stopped=0\n",
      "Bracket: Iter 405.000: None | Iter 135.000: None | Iter 45.000: None | Iter 15.000: None | Iter 5.000: None\n",
      "Logical resource usage: 1.0/20 CPUs, 0/1 GPUs (0.0/1.0 accelerator_type:G)\n",
      "Result logdir: C:/Users/johan/ray_results/objective_2024-03-12_14-56-29\n",
      "Number of trials: 1/20 (1 PENDING)\n",
      "\n",
      "\n",
      "== Status ==\n",
      "Current time: 2024-03-12 14:56:34 (running for 00:00:05.11)\n",
      "Using AsyncHyperBand: num_stopped=4\n",
      "Bracket: Iter 405.000: 1.7482518024672534e+17 | Iter 135.000: 1165679.0519026185 | Iter 45.000: 219.40035589216106 | Iter 15.000: 12.573516989941124 | Iter 5.000: 4.305483750333336\n",
      "Logical resource usage: 3.0/20 CPUs, 0/1 GPUs (0.0/1.0 accelerator_type:G)\n",
      "Current best trial: 930bb62e with score=9.87973167202411e+41 and parameters={'x': 1.0, 'y': 3, 'epochs': 5000}\n",
      "Result logdir: C:/Users/johan/ray_results/objective_2024-03-12_14-56-29\n",
      "Number of trials: 6/20 (1 PENDING, 1 RUNNING, 4 TERMINATED)\n",
      "\n",
      "\n",
      "== Status ==\n",
      "Current time: 2024-03-12 14:56:37 (running for 00:00:08.50)\n",
      "Using AsyncHyperBand: num_stopped=20\n",
      "Bracket: Iter 405.000: 1.939920604731106e+17 | Iter 135.000: 1293477.7519450986 | Iter 45.000: 243.4542155082451 | Iter 15.000: 12.573516989941124 | Iter 5.000: 4.300062773673337\n",
      "Logical resource usage: 8.0/20 CPUs, 0/1 GPUs (0.0/1.0 accelerator_type:G)\n",
      "Current best trial: 930bb62e with score=9.87973167202411e+41 and parameters={'x': 1.0, 'y': 3, 'epochs': 5000}\n",
      "Result logdir: C:/Users/johan/ray_results/objective_2024-03-12_14-56-29\n",
      "Number of trials: 20/20 (20 TERMINATED)\n",
      "\n",
      "\n"
     ]
    },
    {
     "name": "stderr",
     "output_type": "stream",
     "text": [
      "2024-03-12 14:56:39,328\tINFO tune.py:1042 -- Total run time: 10.12 seconds (8.49 seconds for the tuning loop).\n"
     ]
    }
   ],
   "source": [
    "tuner = tune.Tuner(\n",
    "    trainable=objective,\n",
    "    param_space=search_space,\n",
    "    tune_config=tune.TuneConfig(\n",
    "        metric='score',\n",
    "        mode='max',\n",
    "        search_alg=HyperOptSearch(\n",
    "            # space=search_space,\n",
    "            metric='score',\n",
    "            mode='max'\n",
    "        ),\n",
    "        scheduler=ASHAScheduler(\n",
    "            #metric=\"score\",\n",
    "            #mode=\"max\",\n",
    "            max_t=1000,\n",
    "            grace_period=5,\n",
    "            reduction_factor=3,\n",
    "            brackets = 1\n",
    "        ),\n",
    "        num_samples=20,\n",
    "        max_concurrent_trials=3,\n",
    "    ),\n",
    "    run_config=train.RunConfig(\n",
    "        progress_reporter=CLIReporter(\n",
    "            metric_columns=[\"score\"]\n",
    "        )\n",
    "    )\n",
    ")\n",
    "results = tuner.fit()"
   ],
   "metadata": {
    "collapsed": false,
    "ExecuteTime": {
     "start_time": "2024-03-12T14:56:29.212617Z",
     "end_time": "2024-03-12T14:56:39.420616Z"
    }
   }
  },
  {
   "cell_type": "code",
   "execution_count": 39,
   "outputs": [
    {
     "data": {
      "text/plain": "           score   timestamp checkpoint_dir_name  done  training_iteration  \\\n0   2.470180e+41  1710251791                None  True                1000   \n1   4.939866e+41  1710251792                None  True                1000   \n2   9.879732e+41  1710251793                None  True                1000   \n3   3.221181e+00  1710251793                None  True                   5   \n4   7.434498e+41  1710251794                None  True                1000   \n5   7.434498e+41  1710251795                None  True                1000   \n6   4.831532e+00  1710251796                None  True                   5   \n7   3.221022e+00  1710251796                None  True                   5   \n8   3.221181e+00  1710251796                None  True                   5   \n9   1.610671e+00  1710251796                None  True                   5   \n10  9.879732e+41  1710251797                None  True                1000   \n11  1.626615e+00  1710251797                None  True                   5   \n12  3.237125e+00  1710251797                None  True                   5   \n13  3.221020e+00  1710251797                None  True                   5   \n14  1.610671e+00  1710251797                None  True                   5   \n15  3.221022e+00  1710251797                None  True                   5   \n16  1.253175e+01  1710251797                None  True                  15   \n17  1.253175e+01  1710251797                None  True                  15   \n18  3.221020e+00  1710251797                None  True                   5   \n19  3.221181e+00  1710251797                None  True                   5   \n\n    trial_id                 date  time_this_iter_s  time_total_s    pid  \\\n0   eeb350d8  2024-03-12_14-56-31          0.000000      0.060789  38236   \n1   b569125c  2024-03-12_14-56-32          0.000000      0.070720  38236   \n2   930bb62e  2024-03-12_14-56-33          0.000000      0.060118  38236   \n3   eb0bac2d  2024-03-12_14-56-33          0.000000      0.000000  38236   \n4   096d3267  2024-03-12_14-56-34          0.000000      0.063516  38236   \n5   b277597a  2024-03-12_14-56-35          0.000000      0.057053  38236   \n6   e0035571  2024-03-12_14-56-36          0.000000      0.000000  38236   \n7   693f2328  2024-03-12_14-56-36          0.000000      0.000000  38236   \n8   389de415  2024-03-12_14-56-36          0.000000      0.000999  38236   \n9   9ee1565c  2024-03-12_14-56-36          0.000000      0.000000  38236   \n10  b1ef7be6  2024-03-12_14-56-37          0.000000      0.087126  38236   \n11  f1b86aa1  2024-03-12_14-56-37          0.000000      0.000000  38236   \n12  315643a0  2024-03-12_14-56-37          0.000000      0.000999  38236   \n13  49872a89  2024-03-12_14-56-37          0.000000      0.000000  38236   \n14  13fc2e93  2024-03-12_14-56-37          0.000000      0.000000  38236   \n15  2d489136  2024-03-12_14-56-37          0.000000      0.000000  38236   \n16  055b7ad4  2024-03-12_14-56-37          0.000000      0.002001  38236   \n17  c6c5a8df  2024-03-12_14-56-37          0.000999      0.004002  38236   \n18  8bcc61fb  2024-03-12_14-56-37          0.000000      0.001000  38236   \n19  88e3998e  2024-03-12_14-56-37          0.000000      0.000000  38236   \n\n        hostname    node_ip  time_since_restore  iterations_since_restore  \\\n0   AT-MB-PC-E13  127.0.0.1            0.060789                      1000   \n1   AT-MB-PC-E13  127.0.0.1            0.070720                      1000   \n2   AT-MB-PC-E13  127.0.0.1            0.060118                      1000   \n3   AT-MB-PC-E13  127.0.0.1            0.000000                         5   \n4   AT-MB-PC-E13  127.0.0.1            0.063516                      1000   \n5   AT-MB-PC-E13  127.0.0.1            0.057053                      1000   \n6   AT-MB-PC-E13  127.0.0.1            0.000000                         5   \n7   AT-MB-PC-E13  127.0.0.1            0.000000                         5   \n8   AT-MB-PC-E13  127.0.0.1            0.000999                         5   \n9   AT-MB-PC-E13  127.0.0.1            0.000000                         5   \n10  AT-MB-PC-E13  127.0.0.1            0.087126                      1000   \n11  AT-MB-PC-E13  127.0.0.1            0.000000                         5   \n12  AT-MB-PC-E13  127.0.0.1            0.000999                         5   \n13  AT-MB-PC-E13  127.0.0.1            0.000000                         5   \n14  AT-MB-PC-E13  127.0.0.1            0.000000                         5   \n15  AT-MB-PC-E13  127.0.0.1            0.000000                         5   \n16  AT-MB-PC-E13  127.0.0.1            0.002001                        15   \n17  AT-MB-PC-E13  127.0.0.1            0.004002                        15   \n18  AT-MB-PC-E13  127.0.0.1            0.001000                         5   \n19  AT-MB-PC-E13  127.0.0.1            0.000000                         5   \n\n    config/x  config/y  config/epochs    logdir  \n0      0.010         1           5000  eeb350d8  \n1      1.000         1           5000  b569125c  \n2      1.000         3           5000  930bb62e  \n3      0.010         2           5000  eb0bac2d  \n4      0.100         3           5000  096d3267  \n5      0.100         3           5000  b277597a  \n6      0.001         3           5000  e0035571  \n7      0.001         2           5000  693f2328  \n8      0.010         2           5000  389de415  \n9      0.010         1           5000  9ee1565c  \n10     1.000         3           5000  b1ef7be6  \n11     0.100         1           5000  f1b86aa1  \n12     0.100         2           5000  315643a0  \n13     1.000         1           5000  49872a89  \n14     0.010         1           5000  13fc2e93  \n15     0.001         2           5000  2d489136  \n16     0.001         3           5000  055b7ad4  \n17     0.001         3           5000  c6c5a8df  \n18     1.000         1           5000  8bcc61fb  \n19     0.010         2           5000  88e3998e  ",
      "text/html": "<div>\n<style scoped>\n    .dataframe tbody tr th:only-of-type {\n        vertical-align: middle;\n    }\n\n    .dataframe tbody tr th {\n        vertical-align: top;\n    }\n\n    .dataframe thead th {\n        text-align: right;\n    }\n</style>\n<table border=\"1\" class=\"dataframe\">\n  <thead>\n    <tr style=\"text-align: right;\">\n      <th></th>\n      <th>score</th>\n      <th>timestamp</th>\n      <th>checkpoint_dir_name</th>\n      <th>done</th>\n      <th>training_iteration</th>\n      <th>trial_id</th>\n      <th>date</th>\n      <th>time_this_iter_s</th>\n      <th>time_total_s</th>\n      <th>pid</th>\n      <th>hostname</th>\n      <th>node_ip</th>\n      <th>time_since_restore</th>\n      <th>iterations_since_restore</th>\n      <th>config/x</th>\n      <th>config/y</th>\n      <th>config/epochs</th>\n      <th>logdir</th>\n    </tr>\n  </thead>\n  <tbody>\n    <tr>\n      <th>0</th>\n      <td>2.470180e+41</td>\n      <td>1710251791</td>\n      <td>None</td>\n      <td>True</td>\n      <td>1000</td>\n      <td>eeb350d8</td>\n      <td>2024-03-12_14-56-31</td>\n      <td>0.000000</td>\n      <td>0.060789</td>\n      <td>38236</td>\n      <td>AT-MB-PC-E13</td>\n      <td>127.0.0.1</td>\n      <td>0.060789</td>\n      <td>1000</td>\n      <td>0.010</td>\n      <td>1</td>\n      <td>5000</td>\n      <td>eeb350d8</td>\n    </tr>\n    <tr>\n      <th>1</th>\n      <td>4.939866e+41</td>\n      <td>1710251792</td>\n      <td>None</td>\n      <td>True</td>\n      <td>1000</td>\n      <td>b569125c</td>\n      <td>2024-03-12_14-56-32</td>\n      <td>0.000000</td>\n      <td>0.070720</td>\n      <td>38236</td>\n      <td>AT-MB-PC-E13</td>\n      <td>127.0.0.1</td>\n      <td>0.070720</td>\n      <td>1000</td>\n      <td>1.000</td>\n      <td>1</td>\n      <td>5000</td>\n      <td>b569125c</td>\n    </tr>\n    <tr>\n      <th>2</th>\n      <td>9.879732e+41</td>\n      <td>1710251793</td>\n      <td>None</td>\n      <td>True</td>\n      <td>1000</td>\n      <td>930bb62e</td>\n      <td>2024-03-12_14-56-33</td>\n      <td>0.000000</td>\n      <td>0.060118</td>\n      <td>38236</td>\n      <td>AT-MB-PC-E13</td>\n      <td>127.0.0.1</td>\n      <td>0.060118</td>\n      <td>1000</td>\n      <td>1.000</td>\n      <td>3</td>\n      <td>5000</td>\n      <td>930bb62e</td>\n    </tr>\n    <tr>\n      <th>3</th>\n      <td>3.221181e+00</td>\n      <td>1710251793</td>\n      <td>None</td>\n      <td>True</td>\n      <td>5</td>\n      <td>eb0bac2d</td>\n      <td>2024-03-12_14-56-33</td>\n      <td>0.000000</td>\n      <td>0.000000</td>\n      <td>38236</td>\n      <td>AT-MB-PC-E13</td>\n      <td>127.0.0.1</td>\n      <td>0.000000</td>\n      <td>5</td>\n      <td>0.010</td>\n      <td>2</td>\n      <td>5000</td>\n      <td>eb0bac2d</td>\n    </tr>\n    <tr>\n      <th>4</th>\n      <td>7.434498e+41</td>\n      <td>1710251794</td>\n      <td>None</td>\n      <td>True</td>\n      <td>1000</td>\n      <td>096d3267</td>\n      <td>2024-03-12_14-56-34</td>\n      <td>0.000000</td>\n      <td>0.063516</td>\n      <td>38236</td>\n      <td>AT-MB-PC-E13</td>\n      <td>127.0.0.1</td>\n      <td>0.063516</td>\n      <td>1000</td>\n      <td>0.100</td>\n      <td>3</td>\n      <td>5000</td>\n      <td>096d3267</td>\n    </tr>\n    <tr>\n      <th>5</th>\n      <td>7.434498e+41</td>\n      <td>1710251795</td>\n      <td>None</td>\n      <td>True</td>\n      <td>1000</td>\n      <td>b277597a</td>\n      <td>2024-03-12_14-56-35</td>\n      <td>0.000000</td>\n      <td>0.057053</td>\n      <td>38236</td>\n      <td>AT-MB-PC-E13</td>\n      <td>127.0.0.1</td>\n      <td>0.057053</td>\n      <td>1000</td>\n      <td>0.100</td>\n      <td>3</td>\n      <td>5000</td>\n      <td>b277597a</td>\n    </tr>\n    <tr>\n      <th>6</th>\n      <td>4.831532e+00</td>\n      <td>1710251796</td>\n      <td>None</td>\n      <td>True</td>\n      <td>5</td>\n      <td>e0035571</td>\n      <td>2024-03-12_14-56-36</td>\n      <td>0.000000</td>\n      <td>0.000000</td>\n      <td>38236</td>\n      <td>AT-MB-PC-E13</td>\n      <td>127.0.0.1</td>\n      <td>0.000000</td>\n      <td>5</td>\n      <td>0.001</td>\n      <td>3</td>\n      <td>5000</td>\n      <td>e0035571</td>\n    </tr>\n    <tr>\n      <th>7</th>\n      <td>3.221022e+00</td>\n      <td>1710251796</td>\n      <td>None</td>\n      <td>True</td>\n      <td>5</td>\n      <td>693f2328</td>\n      <td>2024-03-12_14-56-36</td>\n      <td>0.000000</td>\n      <td>0.000000</td>\n      <td>38236</td>\n      <td>AT-MB-PC-E13</td>\n      <td>127.0.0.1</td>\n      <td>0.000000</td>\n      <td>5</td>\n      <td>0.001</td>\n      <td>2</td>\n      <td>5000</td>\n      <td>693f2328</td>\n    </tr>\n    <tr>\n      <th>8</th>\n      <td>3.221181e+00</td>\n      <td>1710251796</td>\n      <td>None</td>\n      <td>True</td>\n      <td>5</td>\n      <td>389de415</td>\n      <td>2024-03-12_14-56-36</td>\n      <td>0.000000</td>\n      <td>0.000999</td>\n      <td>38236</td>\n      <td>AT-MB-PC-E13</td>\n      <td>127.0.0.1</td>\n      <td>0.000999</td>\n      <td>5</td>\n      <td>0.010</td>\n      <td>2</td>\n      <td>5000</td>\n      <td>389de415</td>\n    </tr>\n    <tr>\n      <th>9</th>\n      <td>1.610671e+00</td>\n      <td>1710251796</td>\n      <td>None</td>\n      <td>True</td>\n      <td>5</td>\n      <td>9ee1565c</td>\n      <td>2024-03-12_14-56-36</td>\n      <td>0.000000</td>\n      <td>0.000000</td>\n      <td>38236</td>\n      <td>AT-MB-PC-E13</td>\n      <td>127.0.0.1</td>\n      <td>0.000000</td>\n      <td>5</td>\n      <td>0.010</td>\n      <td>1</td>\n      <td>5000</td>\n      <td>9ee1565c</td>\n    </tr>\n    <tr>\n      <th>10</th>\n      <td>9.879732e+41</td>\n      <td>1710251797</td>\n      <td>None</td>\n      <td>True</td>\n      <td>1000</td>\n      <td>b1ef7be6</td>\n      <td>2024-03-12_14-56-37</td>\n      <td>0.000000</td>\n      <td>0.087126</td>\n      <td>38236</td>\n      <td>AT-MB-PC-E13</td>\n      <td>127.0.0.1</td>\n      <td>0.087126</td>\n      <td>1000</td>\n      <td>1.000</td>\n      <td>3</td>\n      <td>5000</td>\n      <td>b1ef7be6</td>\n    </tr>\n    <tr>\n      <th>11</th>\n      <td>1.626615e+00</td>\n      <td>1710251797</td>\n      <td>None</td>\n      <td>True</td>\n      <td>5</td>\n      <td>f1b86aa1</td>\n      <td>2024-03-12_14-56-37</td>\n      <td>0.000000</td>\n      <td>0.000000</td>\n      <td>38236</td>\n      <td>AT-MB-PC-E13</td>\n      <td>127.0.0.1</td>\n      <td>0.000000</td>\n      <td>5</td>\n      <td>0.100</td>\n      <td>1</td>\n      <td>5000</td>\n      <td>f1b86aa1</td>\n    </tr>\n    <tr>\n      <th>12</th>\n      <td>3.237125e+00</td>\n      <td>1710251797</td>\n      <td>None</td>\n      <td>True</td>\n      <td>5</td>\n      <td>315643a0</td>\n      <td>2024-03-12_14-56-37</td>\n      <td>0.000000</td>\n      <td>0.000999</td>\n      <td>38236</td>\n      <td>AT-MB-PC-E13</td>\n      <td>127.0.0.1</td>\n      <td>0.000999</td>\n      <td>5</td>\n      <td>0.100</td>\n      <td>2</td>\n      <td>5000</td>\n      <td>315643a0</td>\n    </tr>\n    <tr>\n      <th>13</th>\n      <td>3.221020e+00</td>\n      <td>1710251797</td>\n      <td>None</td>\n      <td>True</td>\n      <td>5</td>\n      <td>49872a89</td>\n      <td>2024-03-12_14-56-37</td>\n      <td>0.000000</td>\n      <td>0.000000</td>\n      <td>38236</td>\n      <td>AT-MB-PC-E13</td>\n      <td>127.0.0.1</td>\n      <td>0.000000</td>\n      <td>5</td>\n      <td>1.000</td>\n      <td>1</td>\n      <td>5000</td>\n      <td>49872a89</td>\n    </tr>\n    <tr>\n      <th>14</th>\n      <td>1.610671e+00</td>\n      <td>1710251797</td>\n      <td>None</td>\n      <td>True</td>\n      <td>5</td>\n      <td>13fc2e93</td>\n      <td>2024-03-12_14-56-37</td>\n      <td>0.000000</td>\n      <td>0.000000</td>\n      <td>38236</td>\n      <td>AT-MB-PC-E13</td>\n      <td>127.0.0.1</td>\n      <td>0.000000</td>\n      <td>5</td>\n      <td>0.010</td>\n      <td>1</td>\n      <td>5000</td>\n      <td>13fc2e93</td>\n    </tr>\n    <tr>\n      <th>15</th>\n      <td>3.221022e+00</td>\n      <td>1710251797</td>\n      <td>None</td>\n      <td>True</td>\n      <td>5</td>\n      <td>2d489136</td>\n      <td>2024-03-12_14-56-37</td>\n      <td>0.000000</td>\n      <td>0.000000</td>\n      <td>38236</td>\n      <td>AT-MB-PC-E13</td>\n      <td>127.0.0.1</td>\n      <td>0.000000</td>\n      <td>5</td>\n      <td>0.001</td>\n      <td>2</td>\n      <td>5000</td>\n      <td>2d489136</td>\n    </tr>\n    <tr>\n      <th>16</th>\n      <td>1.253175e+01</td>\n      <td>1710251797</td>\n      <td>None</td>\n      <td>True</td>\n      <td>15</td>\n      <td>055b7ad4</td>\n      <td>2024-03-12_14-56-37</td>\n      <td>0.000000</td>\n      <td>0.002001</td>\n      <td>38236</td>\n      <td>AT-MB-PC-E13</td>\n      <td>127.0.0.1</td>\n      <td>0.002001</td>\n      <td>15</td>\n      <td>0.001</td>\n      <td>3</td>\n      <td>5000</td>\n      <td>055b7ad4</td>\n    </tr>\n    <tr>\n      <th>17</th>\n      <td>1.253175e+01</td>\n      <td>1710251797</td>\n      <td>None</td>\n      <td>True</td>\n      <td>15</td>\n      <td>c6c5a8df</td>\n      <td>2024-03-12_14-56-37</td>\n      <td>0.000999</td>\n      <td>0.004002</td>\n      <td>38236</td>\n      <td>AT-MB-PC-E13</td>\n      <td>127.0.0.1</td>\n      <td>0.004002</td>\n      <td>15</td>\n      <td>0.001</td>\n      <td>3</td>\n      <td>5000</td>\n      <td>c6c5a8df</td>\n    </tr>\n    <tr>\n      <th>18</th>\n      <td>3.221020e+00</td>\n      <td>1710251797</td>\n      <td>None</td>\n      <td>True</td>\n      <td>5</td>\n      <td>8bcc61fb</td>\n      <td>2024-03-12_14-56-37</td>\n      <td>0.000000</td>\n      <td>0.001000</td>\n      <td>38236</td>\n      <td>AT-MB-PC-E13</td>\n      <td>127.0.0.1</td>\n      <td>0.001000</td>\n      <td>5</td>\n      <td>1.000</td>\n      <td>1</td>\n      <td>5000</td>\n      <td>8bcc61fb</td>\n    </tr>\n    <tr>\n      <th>19</th>\n      <td>3.221181e+00</td>\n      <td>1710251797</td>\n      <td>None</td>\n      <td>True</td>\n      <td>5</td>\n      <td>88e3998e</td>\n      <td>2024-03-12_14-56-37</td>\n      <td>0.000000</td>\n      <td>0.000000</td>\n      <td>38236</td>\n      <td>AT-MB-PC-E13</td>\n      <td>127.0.0.1</td>\n      <td>0.000000</td>\n      <td>5</td>\n      <td>0.010</td>\n      <td>2</td>\n      <td>5000</td>\n      <td>88e3998e</td>\n    </tr>\n  </tbody>\n</table>\n</div>"
     },
     "execution_count": 39,
     "metadata": {},
     "output_type": "execute_result"
    }
   ],
   "source": [
    "results.get_dataframe()"
   ],
   "metadata": {
    "collapsed": false,
    "ExecuteTime": {
     "start_time": "2024-03-12T14:56:44.036167Z",
     "end_time": "2024-03-12T14:56:44.068169Z"
    }
   }
  },
  {
   "cell_type": "code",
   "execution_count": 40,
   "outputs": [],
   "source": [
    "dfs = {result.path: result.metrics_dataframe for result in results}"
   ],
   "metadata": {
    "collapsed": false,
    "ExecuteTime": {
     "start_time": "2024-03-12T14:56:44.770906Z",
     "end_time": "2024-03-12T14:56:44.783410Z"
    }
   }
  },
  {
   "cell_type": "code",
   "execution_count": 41,
   "outputs": [
    {
     "data": {
      "text/plain": "<Figure size 640x480 with 1 Axes>",
      "image/png": "[encoded data removed]"
     },
     "metadata": {},
     "output_type": "display_data"
    }
   ],
   "source": [
    "# Plot by epoch\n",
    "ax = None  # This plots everything on the same plot\n",
    "for d in dfs.values():\n",
    "    ax = d.score.plot(ax=ax, legend=False)"
   ],
   "metadata": {
    "collapsed": false,
    "ExecuteTime": {
     "start_time": "2024-03-12T14:56:45.695188Z",
     "end_time": "2024-03-12T14:56:45.800292Z"
    }
   }
  }
 ],
 "metadata": {
  "kernelspec": {
   "display_name": "Python 3",
   "language": "python",
   "name": "python3"
  },
  "language_info": {
   "codemirror_mode": {
    "name": "ipython",
    "version": 2
   },
   "file_extension": ".py",
   "mimetype": "text/x-python",
   "name": "python",
   "nbconvert_exporter": "python",
   "pygments_lexer": "ipython2",
   "version": "2.7.6"
  }
 },
 "nbformat": 4,
 "nbformat_minor": 0
}
