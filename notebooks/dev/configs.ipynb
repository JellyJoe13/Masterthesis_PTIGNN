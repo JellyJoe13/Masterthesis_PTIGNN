{
 "cells": [
  {
   "cell_type": "code",
   "execution_count": 1,
   "metadata": {
    "collapsed": true,
    "ExecuteTime": {
     "start_time": "2024-03-08T13:29:37.971038Z",
     "end_time": "2024-03-08T13:29:37.995039Z"
    }
   },
   "outputs": [],
   "source": [
    "from ptgnn.runtime_config.config import *"
   ]
  },
  {
   "cell_type": "code",
   "execution_count": 7,
   "outputs": [],
   "source": [
    "sample_config = {\n",
    "    'data' : {\n",
    "        'dataset' : {\n",
    "            'type' : \"rs\",\n",
    "            'toast': 'browne'\n",
    "        },\n",
    "        'loader': {\n",
    "            'general': {\n",
    "                'n_neighbors_in_circle': 3,\n",
    "                'batch_size': 3,\n",
    "            },\n",
    "            'train': {},\n",
    "            'test': {},\n",
    "            'val': {}\n",
    "        }\n",
    "    },\n",
    "    'model': {\n",
    "        'mode': 'custom',\n",
    "        'hidden_dim': 128,\n",
    "        'modules': {\n",
    "            0: {\n",
    "                'type': 'graph_embedding',\n",
    "                'node_type': 'linear',\n",
    "                'edge_type': 'linear',\n",
    "            }\n",
    "        }\n",
    "    },\n",
    "    'optimizer': {\n",
    "        'type': 'adam_w',\n",
    "        'base_learning_rate': 1e-3,\n",
    "        'weight_decay': 1e-5\n",
    "    },\n",
    "    'scheduler': {\n",
    "        'type': 'cosine_with_warmup',\n",
    "        'num_warmup_epochs': 10,\n",
    "        'max_epochs': 100,\n",
    "    }\n",
    "}"
   ],
   "metadata": {
    "collapsed": false,
    "ExecuteTime": {
     "start_time": "2024-03-08T15:04:15.619983Z",
     "end_time": "2024-03-08T15:04:15.637490Z"
    }
   }
  },
  {
   "cell_type": "code",
   "execution_count": 8,
   "outputs": [],
   "source": [
    "from ptgnn.runtime_config.run_config import run_config"
   ],
   "metadata": {
    "collapsed": false,
    "ExecuteTime": {
     "start_time": "2024-03-08T15:04:16.250678Z",
     "end_time": "2024-03-08T15:04:16.263676Z"
    }
   }
  },
  {
   "cell_type": "code",
   "execution_count": null,
   "outputs": [],
   "source": [
    "run_config(sample_config)"
   ],
   "metadata": {
    "collapsed": false,
    "ExecuteTime": {
     "start_time": "2024-03-08T15:01:21.805237Z",
     "end_time": "2024-03-08T15:04:17.267128Z"
    },
    "pycharm": {
     "is_executing": true
    }
   }
  },
  {
   "cell_type": "code",
   "execution_count": 4,
   "outputs": [
    {
     "name": "stdout",
     "output_type": "stream",
     "text": [
      "DataBatch(x=[338, 118], edge_index=[2, 916], edge_attr=[916, 80], pos=[338, 6], parallel_node_index=[338], y=[3], batch=[338], ptr=[4], circle_index=[338, 5])\n"
     ]
    }
   ],
   "source": [
    "for batch in loader:\n",
    "    print(batch)\n",
    "    break"
   ],
   "metadata": {
    "collapsed": false,
    "ExecuteTime": {
     "start_time": "2024-03-08T13:38:26.803223Z",
     "end_time": "2024-03-08T13:38:26.844730Z"
    }
   }
  },
  {
   "cell_type": "code",
   "execution_count": 6,
   "outputs": [
    {
     "data": {
      "text/plain": "<ptgnn.loading.load.UniversalLoader at 0x2b090649e20>"
     },
     "execution_count": 6,
     "metadata": {},
     "output_type": "execute_result"
    }
   ],
   "source": [
    "batch"
   ],
   "metadata": {
    "collapsed": false,
    "ExecuteTime": {
     "start_time": "2024-03-08T13:30:04.952255Z",
     "end_time": "2024-03-08T13:30:04.965252Z"
    }
   }
  },
  {
   "cell_type": "code",
   "execution_count": 4,
   "outputs": [
    {
     "ename": "NameError",
     "evalue": "name 'loader' is not defined",
     "output_type": "error",
     "traceback": [
      "\u001B[1;31m---------------------------------------------------------------------------\u001B[0m",
      "\u001B[1;31mNameError\u001B[0m                                 Traceback (most recent call last)",
      "Cell \u001B[1;32mIn[4], line 1\u001B[0m\n\u001B[1;32m----> 1\u001B[0m \u001B[43mloader\u001B[49m\n",
      "\u001B[1;31mNameError\u001B[0m: name 'loader' is not defined"
     ]
    }
   ],
   "source": [
    "loader"
   ],
   "metadata": {
    "collapsed": false
   }
  }
 ],
 "metadata": {
  "kernelspec": {
   "display_name": "Python 3",
   "language": "python",
   "name": "python3"
  },
  "language_info": {
   "codemirror_mode": {
    "name": "ipython",
    "version": 2
   },
   "file_extension": ".py",
   "mimetype": "text/x-python",
   "name": "python",
   "nbconvert_exporter": "python",
   "pygments_lexer": "ipython2",
   "version": "2.7.6"
  }
 },
 "nbformat": 4,
 "nbformat_minor": 0
}
