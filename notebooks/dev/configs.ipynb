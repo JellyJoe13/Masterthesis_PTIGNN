{
 "cells": [
  {
   "cell_type": "code",
   "execution_count": 1,
   "metadata": {
    "collapsed": true,
    "ExecuteTime": {
     "start_time": "2024-03-08T19:04:27.827658Z",
     "end_time": "2024-03-08T19:04:27.861634Z"
    }
   },
   "outputs": [],
   "source": [
    "from ptgnn.runtime_config.config import *"
   ]
  },
  {
   "cell_type": "code",
   "execution_count": 1,
   "outputs": [],
   "source": [
    "sample_config = {\n",
    "    'data' : {\n",
    "        'dataset' : {\n",
    "            'type' : \"rs\",\n",
    "            'toast': 'browne'\n",
    "        },\n",
    "        'loader': {\n",
    "            'general': {\n",
    "                'n_neighbors_in_circle': 3,\n",
    "                'batch_size': 32,\n",
    "                'num_workers': 0,\n",
    "            },\n",
    "            'train': {},\n",
    "            'test': {},\n",
    "            'val': {}\n",
    "        }\n",
    "    },\n",
    "    'model': {\n",
    "        'mode': 'custom',\n",
    "        'hidden_dim': 128,\n",
    "        'out_dim': 1,\n",
    "        'modules': {\n",
    "            0: {\n",
    "                'type': 'graph_embedding',\n",
    "                'node_type': 'linear',\n",
    "                'edge_type': 'linear',\n",
    "            }\n",
    "        },\n",
    "        'head': {\n",
    "            'type': 'san_head',\n",
    "            'n_layer': 3,\n",
    "            'pool_function': 'add',\n",
    "        }\n",
    "    },\n",
    "    'optimizer': {\n",
    "        'type': 'adam_w',\n",
    "        'base_learning_rate': 1e-3,\n",
    "        'weight_decay': 1e-5\n",
    "    },\n",
    "    'scheduler': {\n",
    "        'type': 'cosine_with_warmup',\n",
    "        'num_warmup_epochs': 10,\n",
    "        'max_epochs': 100,\n",
    "    },\n",
    "    'training': {\n",
    "        'n_max_epochs': 10,\n",
    "        'loss_function': \"cross_entropy\",\n",
    "        'clip_grad_norm': True,\n",
    "    }\n",
    "}"
   ],
   "metadata": {
    "collapsed": false,
    "ExecuteTime": {
     "start_time": "2024-03-09T10:16:45.791520Z",
     "end_time": "2024-03-09T10:16:45.804520Z"
    }
   }
  },
  {
   "cell_type": "code",
   "execution_count": 2,
   "outputs": [],
   "source": [
    "from ptgnn.runtime_config.run_config import run_config"
   ],
   "metadata": {
    "collapsed": false,
    "ExecuteTime": {
     "start_time": "2024-03-09T10:16:46.667395Z",
     "end_time": "2024-03-09T10:16:49.642856Z"
    }
   }
  },
  {
   "cell_type": "code",
   "execution_count": null,
   "outputs": [
    {
     "name": "stderr",
     "output_type": "stream",
     "text": [
      " 31%|███       | 536/1721 [00:59<00:54, 21.87it/s] "
     ]
    }
   ],
   "source": [
    "run_config(sample_config)"
   ],
   "metadata": {
    "collapsed": false,
    "ExecuteTime": {
     "start_time": "2024-03-09T10:04:31.174094Z",
     "end_time": "2024-03-09T10:04:34.573699Z"
    },
    "pycharm": {
     "is_executing": true
    }
   }
  },
  {
   "cell_type": "code",
   "execution_count": 3,
   "outputs": [],
   "source": [
    "sample_config2 = {\n",
    "    'data' : {\n",
    "        'dataset' : {\n",
    "            'type' : \"rs\",\n",
    "        },\n",
    "        'loader': {\n",
    "            'general': {\n",
    "                'n_neighbors_in_circle': 3,\n",
    "                'batch_size': 3,\n",
    "            },\n",
    "        }\n",
    "    },\n",
    "    'model': {\n",
    "        'mode': 'custom',\n",
    "        'hidden_dim': 128,\n",
    "        'out_dim': 1,\n",
    "        'modules': {\n",
    "            0: {\n",
    "                'type': 'graph_embedding',\n",
    "                'node_type': 'linear',\n",
    "                'edge_type': 'linear',\n",
    "            }\n",
    "        },\n",
    "        'head': {\n",
    "            'type': 'san_head',\n",
    "            'n_layer': 3,\n",
    "            'pool_function': 'add',\n",
    "        }\n",
    "    },\n",
    "    'optimizer': {\n",
    "        'type': 'adam_w',\n",
    "        'base_learning_rate': 1e-3,\n",
    "        'weight_decay': 1e-5\n",
    "    },\n",
    "    'scheduler': {\n",
    "        'type': 'cosine_with_warmup',\n",
    "        'num_warmup_epochs': 10,\n",
    "        'max_epochs': 100,\n",
    "    },\n",
    "}"
   ],
   "metadata": {
    "collapsed": false,
    "ExecuteTime": {
     "start_time": "2024-03-08T15:32:22.312652Z",
     "end_time": "2024-03-08T15:32:22.329661Z"
    }
   }
  },
  {
   "cell_type": "code",
   "execution_count": 2,
   "outputs": [],
   "source": [
    "from ptgnn.runtime_config.run_config import run_config"
   ],
   "metadata": {
    "collapsed": false,
    "ExecuteTime": {
     "start_time": "2024-03-08T15:28:01.823215Z",
     "end_time": "2024-03-08T15:28:04.755611Z"
    }
   }
  },
  {
   "cell_type": "code",
   "execution_count": 3,
   "outputs": [],
   "source": [
    "run_config(sample_config2)"
   ],
   "metadata": {
    "collapsed": false,
    "ExecuteTime": {
     "start_time": "2024-03-08T15:28:06.059648Z",
     "end_time": "2024-03-08T15:29:46.099032Z"
    }
   }
  },
  {
   "cell_type": "code",
   "execution_count": 7,
   "outputs": [
    {
     "data": {
      "text/plain": "{'data': {'dataset': {'type': 'rs', 'toast': 'browne'},\n  'loader': {'general': {'n_neighbors_in_circle': 3, 'batch_size': 3},\n   'train': {},\n   'test': {},\n   'val': {}}},\n 'model': {'mode': 'custom',\n  'hidden_dim': 128,\n  'modules': {0: {'type': 'graph_embedding',\n    'node_type': 'linear',\n    'edge_type': 'linear'}}},\n 'optimizer': {'type': 'adam_w',\n  'base_learning_rate': 0.001,\n  'weight_decay': 1e-05},\n 'scheduler': {'type': 'cosine_with_warmup',\n  'num_warmup_epochs': 10,\n  'max_epochs': 100}}"
     },
     "execution_count": 7,
     "metadata": {},
     "output_type": "execute_result"
    }
   ],
   "source": [
    "priority_merge_config(sample_config2, sample_config, in_place=False)"
   ],
   "metadata": {
    "collapsed": false,
    "ExecuteTime": {
     "start_time": "2024-03-08T15:38:44.183681Z",
     "end_time": "2024-03-08T15:39:23.766566Z"
    }
   }
  },
  {
   "cell_type": "code",
   "execution_count": 8,
   "outputs": [
    {
     "data": {
      "text/plain": "{'data': {'dataset': {'type': 'rs', 'toast': 'browne'},\n  'loader': {'general': {'n_neighbors_in_circle': 3, 'batch_size': 3},\n   'train': {},\n   'test': {},\n   'val': {}}},\n 'model': {'mode': 'custom',\n  'hidden_dim': 128,\n  'modules': {0: {'type': 'graph_embedding',\n    'node_type': 'linear',\n    'edge_type': 'linear'}}},\n 'optimizer': {'type': 'adam_w',\n  'base_learning_rate': 0.001,\n  'weight_decay': 1e-05},\n 'scheduler': {'type': 'cosine_with_warmup',\n  'num_warmup_epochs': 10,\n  'max_epochs': 100}}"
     },
     "execution_count": 8,
     "metadata": {},
     "output_type": "execute_result"
    }
   ],
   "source": [
    "sample_config"
   ],
   "metadata": {
    "collapsed": false,
    "ExecuteTime": {
     "start_time": "2024-03-08T15:39:36.546822Z",
     "end_time": "2024-03-08T15:39:36.564889Z"
    }
   }
  },
  {
   "cell_type": "code",
   "execution_count": 9,
   "outputs": [
    {
     "data": {
      "text/plain": "{'data': {'dataset': {'type': 'rs'},\n  'loader': {'general': {'n_neighbors_in_circle': 3, 'batch_size': 3}}},\n 'model': {'mode': 'custom',\n  'hidden_dim': 128,\n  'modules': {0: {'type': 'graph_embedding',\n    'node_type': 'linear',\n    'edge_type': 'linear'}}},\n 'optimizer': {'type': 'adam_w',\n  'base_learning_rate': 0.001,\n  'weight_decay': 1e-05},\n 'scheduler': {'type': 'cosine_with_warmup',\n  'num_warmup_epochs': 10,\n  'max_epochs': 100}}"
     },
     "execution_count": 9,
     "metadata": {},
     "output_type": "execute_result"
    }
   ],
   "source": [
    "sample_config2"
   ],
   "metadata": {
    "collapsed": false,
    "ExecuteTime": {
     "start_time": "2024-03-08T15:39:38.971500Z",
     "end_time": "2024-03-08T15:39:38.993499Z"
    }
   }
  },
  {
   "cell_type": "code",
   "execution_count": 10,
   "outputs": [],
   "source": [
    "export_as(sample_config, \"config1.json\", save_type='json')"
   ],
   "metadata": {
    "collapsed": false,
    "ExecuteTime": {
     "start_time": "2024-03-08T15:41:02.803091Z",
     "end_time": "2024-03-08T15:41:02.809090Z"
    }
   }
  },
  {
   "cell_type": "code",
   "execution_count": 11,
   "outputs": [],
   "source": [
    "export_as(sample_config, \"config1.yaml\", save_type='yaml')"
   ],
   "metadata": {
    "collapsed": false,
    "ExecuteTime": {
     "start_time": "2024-03-08T15:41:17.961670Z",
     "end_time": "2024-03-08T15:41:17.986154Z"
    }
   }
  },
  {
   "cell_type": "code",
   "execution_count": 12,
   "outputs": [],
   "source": [
    "export_as(sample_config2, \"config2.json\", save_type='json')"
   ],
   "metadata": {
    "collapsed": false,
    "ExecuteTime": {
     "start_time": "2024-03-08T15:41:28.195270Z",
     "end_time": "2024-03-08T15:41:28.203267Z"
    }
   }
  },
  {
   "cell_type": "code",
   "execution_count": 13,
   "outputs": [],
   "source": [
    "export_as(sample_config2, \"config2.yaml\", save_type='yaml')"
   ],
   "metadata": {
    "collapsed": false,
    "ExecuteTime": {
     "start_time": "2024-03-08T15:41:36.880537Z",
     "end_time": "2024-03-08T15:41:36.892537Z"
    }
   }
  },
  {
   "cell_type": "code",
   "execution_count": 14,
   "outputs": [
    {
     "data": {
      "text/plain": "{'data': {'dataset': {'type': 'rs', 'toast': 'browne'},\n  'loader': {'general': {'n_neighbors_in_circle': 3, 'batch_size': 3},\n   'train': {},\n   'test': {},\n   'val': {}}},\n 'model': {'mode': 'custom',\n  'hidden_dim': 128,\n  'modules': {'0': {'type': 'graph_embedding',\n    'node_type': 'linear',\n    'edge_type': 'linear'}}},\n 'optimizer': {'type': 'adam_w',\n  'base_learning_rate': 0.001,\n  'weight_decay': 1e-05},\n 'scheduler': {'type': 'cosine_with_warmup',\n  'num_warmup_epochs': 10,\n  'max_epochs': 100}}"
     },
     "execution_count": 14,
     "metadata": {},
     "output_type": "execute_result"
    }
   ],
   "source": [
    "import_as(\"config1.json\")"
   ],
   "metadata": {
    "collapsed": false,
    "ExecuteTime": {
     "start_time": "2024-03-08T15:43:18.226452Z",
     "end_time": "2024-03-08T15:43:18.241452Z"
    }
   }
  },
  {
   "cell_type": "code",
   "execution_count": 15,
   "outputs": [
    {
     "data": {
      "text/plain": "{'data': {'dataset': {'toast': 'browne', 'type': 'rs'},\n  'loader': {'general': {'batch_size': 3, 'n_neighbors_in_circle': 3},\n   'test': {},\n   'train': {},\n   'val': {}}},\n 'model': {'hidden_dim': 128,\n  'mode': 'custom',\n  'modules': {0: {'edge_type': 'linear',\n    'node_type': 'linear',\n    'type': 'graph_embedding'}}},\n 'optimizer': {'base_learning_rate': 0.001,\n  'type': 'adam_w',\n  'weight_decay': 1e-05},\n 'scheduler': {'max_epochs': 100,\n  'num_warmup_epochs': 10,\n  'type': 'cosine_with_warmup'}}"
     },
     "execution_count": 15,
     "metadata": {},
     "output_type": "execute_result"
    }
   ],
   "source": [
    "import_as(\"config1.yaml\")"
   ],
   "metadata": {
    "collapsed": false,
    "ExecuteTime": {
     "start_time": "2024-03-08T15:43:35.731329Z",
     "end_time": "2024-03-08T15:43:35.748325Z"
    }
   }
  },
  {
   "cell_type": "code",
   "execution_count": 16,
   "outputs": [
    {
     "data": {
      "text/plain": "{'data': {'dataset': {'type': 'rs'},\n  'loader': {'general': {'n_neighbors_in_circle': 3, 'batch_size': 3}}},\n 'model': {'mode': 'custom',\n  'hidden_dim': 128,\n  'modules': {'0': {'type': 'graph_embedding',\n    'node_type': 'linear',\n    'edge_type': 'linear'}}},\n 'optimizer': {'type': 'adam_w',\n  'base_learning_rate': 0.001,\n  'weight_decay': 1e-05},\n 'scheduler': {'type': 'cosine_with_warmup',\n  'num_warmup_epochs': 10,\n  'max_epochs': 100}}"
     },
     "execution_count": 16,
     "metadata": {},
     "output_type": "execute_result"
    }
   ],
   "source": [
    "import_as(\"config2.json\")"
   ],
   "metadata": {
    "collapsed": false,
    "ExecuteTime": {
     "start_time": "2024-03-08T15:43:54.299225Z",
     "end_time": "2024-03-08T15:43:54.307224Z"
    }
   }
  },
  {
   "cell_type": "code",
   "execution_count": 17,
   "outputs": [
    {
     "data": {
      "text/plain": "{'data': {'dataset': {'type': 'rs'},\n  'loader': {'general': {'batch_size': 3, 'n_neighbors_in_circle': 3}}},\n 'model': {'hidden_dim': 128,\n  'mode': 'custom',\n  'modules': {0: {'edge_type': 'linear',\n    'node_type': 'linear',\n    'type': 'graph_embedding'}}},\n 'optimizer': {'base_learning_rate': 0.001,\n  'type': 'adam_w',\n  'weight_decay': 1e-05},\n 'scheduler': {'max_epochs': 100,\n  'num_warmup_epochs': 10,\n  'type': 'cosine_with_warmup'}}"
     },
     "execution_count": 17,
     "metadata": {},
     "output_type": "execute_result"
    }
   ],
   "source": [
    "import_as(\"config2.yaml\")"
   ],
   "metadata": {
    "collapsed": false,
    "ExecuteTime": {
     "start_time": "2024-03-08T15:44:05.211664Z",
     "end_time": "2024-03-08T15:44:05.267185Z"
    }
   }
  },
  {
   "cell_type": "code",
   "execution_count": null,
   "outputs": [],
   "source": [],
   "metadata": {
    "collapsed": false
   }
  }
 ],
 "metadata": {
  "kernelspec": {
   "display_name": "Python 3",
   "language": "python",
   "name": "python3"
  },
  "language_info": {
   "codemirror_mode": {
    "name": "ipython",
    "version": 2
   },
   "file_extension": ".py",
   "mimetype": "text/x-python",
   "name": "python",
   "nbconvert_exporter": "python",
   "pygments_lexer": "ipython2",
   "version": "2.7.6"
  }
 },
 "nbformat": 4,
 "nbformat_minor": 0
}
