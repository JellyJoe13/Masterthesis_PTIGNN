{
 "cells": [
  {
   "cell_type": "code",
   "execution_count": 1,
   "metadata": {
    "collapsed": true,
    "ExecuteTime": {
     "start_time": "2024-03-08T19:04:27.827658Z",
     "end_time": "2024-03-08T19:04:27.861634Z"
    }
   },
   "outputs": [],
   "source": [
    "from ptgnn.runtime_config.config import *"
   ]
  },
  {
   "cell_type": "markdown",
   "source": [
    "## Chienn"
   ],
   "metadata": {
    "collapsed": false
   }
  },
  {
   "cell_type": "code",
   "execution_count": 1,
   "outputs": [],
   "source": [
    "sample_config = {\n",
    "    'data' : {\n",
    "        'dataset' : {\n",
    "            'type' : \"rs\",\n",
    "            'mask_chiral_tags': True,\n",
    "        },\n",
    "        'loader': {\n",
    "            'general': {\n",
    "                'n_neighbors_in_circle': 3,\n",
    "                'batch_size': 32,\n",
    "                'num_workers': 0,\n",
    "            },\n",
    "            'train': {},\n",
    "            'test': {},\n",
    "            'val': {}\n",
    "        }\n",
    "    },\n",
    "    'model': {\n",
    "        'mode': 'custom',\n",
    "        'hidden_dim': 128,\n",
    "        'out_dim': 1,\n",
    "        'modules': {\n",
    "            0: {\n",
    "                'type': 'graph_embedding',\n",
    "                'parameter': {\n",
    "                    'node_type': 'linear',\n",
    "                    'edge_type': 'linear',\n",
    "                }\n",
    "            },\n",
    "            1: {\n",
    "                'type': 'gps_layer',\n",
    "                'parameter': {\n",
    "                    'local_model': 'chienn',\n",
    "                    'local_model_params': {}\n",
    "                },\n",
    "                'times': 5\n",
    "            }\n",
    "        },\n",
    "        'head': {\n",
    "            'type': 'san_head',\n",
    "            'n_layer': 3,\n",
    "            'pool_function': 'add',\n",
    "        }\n",
    "    },\n",
    "    'optimizer': {\n",
    "        'type': 'adam_w',\n",
    "        'base_learning_rate': 1e-3,\n",
    "        'weight_decay': 1e-5\n",
    "    },\n",
    "    'scheduler': {\n",
    "        'type': 'cosine_with_warmup',\n",
    "        'num_warmup_epochs': 10,\n",
    "        'max_epochs': 100,\n",
    "    },\n",
    "    'training': {\n",
    "        'n_max_epochs': 2,\n",
    "        'loss_function': \"cross_entropy\",\n",
    "        'clip_grad_norm': True,\n",
    "        'optimization_metric': 'accuracy',\n",
    "        'task_type': \"classification\",\n",
    "    }\n",
    "}"
   ],
   "metadata": {
    "collapsed": false,
    "ExecuteTime": {
     "start_time": "2024-03-19T14:48:09.759228Z",
     "end_time": "2024-03-19T14:48:09.762228Z"
    }
   }
  },
  {
   "cell_type": "code",
   "execution_count": 2,
   "outputs": [],
   "source": [
    "from ptgnn.runtime_config.run_config import run_config"
   ],
   "metadata": {
    "collapsed": false,
    "ExecuteTime": {
     "start_time": "2024-03-19T14:48:09.904905Z",
     "end_time": "2024-03-19T14:48:13.390016Z"
    }
   }
  },
  {
   "cell_type": "markdown",
   "source": [
    "With chiral masking 0.5 on basic linear model without masking 100%"
   ],
   "metadata": {
    "collapsed": false
   }
  },
  {
   "cell_type": "code",
   "execution_count": 3,
   "outputs": [
    {
     "name": "stderr",
     "output_type": "stream",
     "text": [
      "100%|██████████| 1721/1721 [03:16<00:00,  8.75it/s]\n",
      "100%|██████████| 367/367 [00:14<00:00, 24.85it/s]\n",
      "100%|██████████| 1721/1721 [03:13<00:00,  8.92it/s]\n",
      "100%|██████████| 367/367 [00:19<00:00, 18.92it/s]\n"
     ]
    },
    {
     "data": {
      "text/plain": "   train_accuracy  train_precision  train_recall  train_f1  train_auc  \\\n0            0.50             0.50          0.02      0.04       0.50   \n1            0.85             0.85          0.85      0.85       0.94   \n\n   train_mean_loss  train_sum_loss  val_accuracy  val_precision  val_recall  \\\n0         0.943067     1623.017753          0.50           0.50        0.04   \n1         0.308238      530.477510          0.91           0.92        0.90   \n\n   val_f1  val_auc  val_mean_loss  val_sum_loss  \n0    0.07     0.50       1.082454    397.260695  \n1    0.91     0.98       0.200032     73.411847  ",
      "text/html": "<div>\n<style scoped>\n    .dataframe tbody tr th:only-of-type {\n        vertical-align: middle;\n    }\n\n    .dataframe tbody tr th {\n        vertical-align: top;\n    }\n\n    .dataframe thead th {\n        text-align: right;\n    }\n</style>\n<table border=\"1\" class=\"dataframe\">\n  <thead>\n    <tr style=\"text-align: right;\">\n      <th></th>\n      <th>train_accuracy</th>\n      <th>train_precision</th>\n      <th>train_recall</th>\n      <th>train_f1</th>\n      <th>train_auc</th>\n      <th>train_mean_loss</th>\n      <th>train_sum_loss</th>\n      <th>val_accuracy</th>\n      <th>val_precision</th>\n      <th>val_recall</th>\n      <th>val_f1</th>\n      <th>val_auc</th>\n      <th>val_mean_loss</th>\n      <th>val_sum_loss</th>\n    </tr>\n  </thead>\n  <tbody>\n    <tr>\n      <th>0</th>\n      <td>0.50</td>\n      <td>0.50</td>\n      <td>0.02</td>\n      <td>0.04</td>\n      <td>0.50</td>\n      <td>0.943067</td>\n      <td>1623.017753</td>\n      <td>0.50</td>\n      <td>0.50</td>\n      <td>0.04</td>\n      <td>0.07</td>\n      <td>0.50</td>\n      <td>1.082454</td>\n      <td>397.260695</td>\n    </tr>\n    <tr>\n      <th>1</th>\n      <td>0.85</td>\n      <td>0.85</td>\n      <td>0.85</td>\n      <td>0.85</td>\n      <td>0.94</td>\n      <td>0.308238</td>\n      <td>530.477510</td>\n      <td>0.91</td>\n      <td>0.92</td>\n      <td>0.90</td>\n      <td>0.91</td>\n      <td>0.98</td>\n      <td>0.200032</td>\n      <td>73.411847</td>\n    </tr>\n  </tbody>\n</table>\n</div>"
     },
     "metadata": {},
     "output_type": "display_data"
    }
   ],
   "source": [
    "run_config(sample_config)"
   ],
   "metadata": {
    "collapsed": false,
    "ExecuteTime": {
     "start_time": "2024-03-19T14:48:13.390016Z",
     "end_time": "2024-03-19T14:55:24.669471Z"
    }
   }
  },
  {
   "cell_type": "code",
   "execution_count": 1,
   "outputs": [],
   "source": [
    "sample_config = {\n",
    "    'data' : {\n",
    "        'dataset' : {\n",
    "            'type' : \"rs\",\n",
    "            'mask_chiral_tags': True,\n",
    "        },\n",
    "        'loader': {\n",
    "            'general': {\n",
    "                'n_neighbors_in_circle': 3,\n",
    "                'batch_size': 32,\n",
    "                'num_workers': 0,\n",
    "            },\n",
    "            'train': {},\n",
    "            'test': {},\n",
    "            'val': {}\n",
    "        }\n",
    "    },\n",
    "    'model': {\n",
    "        'mode': 'custom',\n",
    "        'hidden_dim': 128,\n",
    "        'out_dim': 1,\n",
    "        'modules': {\n",
    "            0: {\n",
    "                'type': 'graph_embedding',\n",
    "                'parameter': {\n",
    "                    'node_type': 'linear',\n",
    "                    'edge_type': 'linear',\n",
    "                }\n",
    "            },\n",
    "            1: {\n",
    "                'type': 'chienn',\n",
    "                'times': 5\n",
    "            }\n",
    "        },\n",
    "        'head': {\n",
    "            'type': 'san_head',\n",
    "            'n_layer': 3,\n",
    "            'pool_function': 'add',\n",
    "        }\n",
    "    },\n",
    "    'optimizer': {\n",
    "        'type': 'adam_w',\n",
    "        'base_learning_rate': 1e-3,\n",
    "        'weight_decay': 1e-5\n",
    "    },\n",
    "    'scheduler': {\n",
    "        'type': 'cosine_with_warmup',\n",
    "        'num_warmup_epochs': 10,\n",
    "        'max_epochs': 100,\n",
    "    },\n",
    "    'training': {\n",
    "        'n_max_epochs': 3,\n",
    "        'loss_function': \"cross_entropy\",\n",
    "        'clip_grad_norm': False,\n",
    "        'optimization_metric': 'accuracy',\n",
    "        'task_type': \"classification\",\n",
    "    }\n",
    "}"
   ],
   "metadata": {
    "collapsed": false,
    "ExecuteTime": {
     "start_time": "2024-03-20T17:17:11.183592Z",
     "end_time": "2024-03-20T17:17:11.195600Z"
    }
   }
  },
  {
   "cell_type": "code",
   "execution_count": 2,
   "outputs": [],
   "source": [
    "from ptgnn.runtime_config.run_config import run_config"
   ],
   "metadata": {
    "collapsed": false,
    "ExecuteTime": {
     "start_time": "2024-03-20T17:17:11.700539Z",
     "end_time": "2024-03-20T17:17:15.187506Z"
    }
   }
  },
  {
   "cell_type": "markdown",
   "source": [
    "With chiral masking 0.5 on basic linear model without masking 100%"
   ],
   "metadata": {
    "collapsed": false
   }
  },
  {
   "cell_type": "code",
   "execution_count": 3,
   "outputs": [
    {
     "name": "stderr",
     "output_type": "stream",
     "text": [
      "100%|██████████| 1721/1721 [02:57<00:00,  9.68it/s]\n",
      "100%|██████████| 367/367 [00:14<00:00, 25.23it/s]\n",
      "100%|██████████| 1721/1721 [02:55<00:00,  9.83it/s]\n",
      "100%|██████████| 367/367 [00:14<00:00, 24.70it/s]\n",
      "100%|██████████| 1721/1721 [02:54<00:00,  9.84it/s]\n",
      "100%|██████████| 367/367 [00:14<00:00, 26.16it/s]\n"
     ]
    },
    {
     "data": {
      "text/plain": "   train_accuracy  train_precision  train_recall  train_f1  train_auc  \\\n0            0.50             0.50          1.00      0.67       0.50   \n1            0.50             0.50          0.56      0.53       0.50   \n2            0.51             0.51          0.54      0.52       0.51   \n\n   train_mean_loss  train_sum_loss  val_accuracy  val_precision  val_recall  \\\n0         0.919056     1581.694931          0.50            0.5        1.00   \n1         0.694102     1194.549013          0.50            0.5        0.50   \n2         0.693137     1192.888357          0.51            0.5        0.91   \n\n   val_f1  val_auc  val_mean_loss  val_sum_loss  \n0    0.67     0.50       0.917236    336.625526  \n1    0.50     0.51       0.693098    254.367114  \n2    0.65     0.52       0.692929    254.304916  ",
      "text/html": "<div>\n<style scoped>\n    .dataframe tbody tr th:only-of-type {\n        vertical-align: middle;\n    }\n\n    .dataframe tbody tr th {\n        vertical-align: top;\n    }\n\n    .dataframe thead th {\n        text-align: right;\n    }\n</style>\n<table border=\"1\" class=\"dataframe\">\n  <thead>\n    <tr style=\"text-align: right;\">\n      <th></th>\n      <th>train_accuracy</th>\n      <th>train_precision</th>\n      <th>train_recall</th>\n      <th>train_f1</th>\n      <th>train_auc</th>\n      <th>train_mean_loss</th>\n      <th>train_sum_loss</th>\n      <th>val_accuracy</th>\n      <th>val_precision</th>\n      <th>val_recall</th>\n      <th>val_f1</th>\n      <th>val_auc</th>\n      <th>val_mean_loss</th>\n      <th>val_sum_loss</th>\n    </tr>\n  </thead>\n  <tbody>\n    <tr>\n      <th>0</th>\n      <td>0.50</td>\n      <td>0.50</td>\n      <td>1.00</td>\n      <td>0.67</td>\n      <td>0.50</td>\n      <td>0.919056</td>\n      <td>1581.694931</td>\n      <td>0.50</td>\n      <td>0.5</td>\n      <td>1.00</td>\n      <td>0.67</td>\n      <td>0.50</td>\n      <td>0.917236</td>\n      <td>336.625526</td>\n    </tr>\n    <tr>\n      <th>1</th>\n      <td>0.50</td>\n      <td>0.50</td>\n      <td>0.56</td>\n      <td>0.53</td>\n      <td>0.50</td>\n      <td>0.694102</td>\n      <td>1194.549013</td>\n      <td>0.50</td>\n      <td>0.5</td>\n      <td>0.50</td>\n      <td>0.50</td>\n      <td>0.51</td>\n      <td>0.693098</td>\n      <td>254.367114</td>\n    </tr>\n    <tr>\n      <th>2</th>\n      <td>0.51</td>\n      <td>0.51</td>\n      <td>0.54</td>\n      <td>0.52</td>\n      <td>0.51</td>\n      <td>0.693137</td>\n      <td>1192.888357</td>\n      <td>0.51</td>\n      <td>0.5</td>\n      <td>0.91</td>\n      <td>0.65</td>\n      <td>0.52</td>\n      <td>0.692929</td>\n      <td>254.304916</td>\n    </tr>\n  </tbody>\n</table>\n</div>"
     },
     "metadata": {},
     "output_type": "display_data"
    }
   ],
   "source": [
    "run_config(sample_config)"
   ],
   "metadata": {
    "collapsed": false,
    "ExecuteTime": {
     "start_time": "2024-03-20T17:17:20.710323Z",
     "end_time": "2024-03-20T17:26:59.042088Z"
    }
   }
  },
  {
   "cell_type": "markdown",
   "source": [
    "## Permutation tree"
   ],
   "metadata": {
    "collapsed": false
   }
  },
  {
   "cell_type": "code",
   "execution_count": 1,
   "outputs": [],
   "source": [
    "sample_config = {\n",
    "    'data' : {\n",
    "        'dataset' : {\n",
    "            'type' : \"rs\",\n",
    "            'mask_chiral_tags': True,\n",
    "            'graph_mode': 'edge',\n",
    "            'transformation_mode': 'permutation_tree',\n",
    "            'transformation_parameters': {\n",
    "                'k': 3\n",
    "            }\n",
    "        },\n",
    "        'loader': {\n",
    "            'general': {\n",
    "                'n_neighbors_in_circle': 3,\n",
    "                'batch_size': 32,\n",
    "                'num_workers': 0,\n",
    "            },\n",
    "            'train': {},\n",
    "            'test': {},\n",
    "            'val': {}\n",
    "        }\n",
    "    },\n",
    "    'model': {\n",
    "        'mode': 'custom',\n",
    "        'hidden_dim': 128,\n",
    "        'out_dim': 1,\n",
    "        'modules': {\n",
    "            0: {\n",
    "                'type': 'graph_embedding',\n",
    "                'parameter': {\n",
    "                    'node_type': 'linear',\n",
    "                    'edge_type': 'linear',\n",
    "                }\n",
    "            },\n",
    "            1: {\n",
    "                'type': 'permutation_tree',\n",
    "                'parameter': {\n",
    "                    'k': 3\n",
    "                },\n",
    "                'times': 1\n",
    "            }\n",
    "        },\n",
    "        'head': {\n",
    "            'type': 'san_head',\n",
    "            'n_layer': 3,\n",
    "            'pool_function': 'add',\n",
    "        }\n",
    "    },\n",
    "    'optimizer': {\n",
    "        'type': 'adam_w',\n",
    "        'base_learning_rate': 1e-3,\n",
    "        'weight_decay': 1e-5\n",
    "    },\n",
    "    'scheduler': {\n",
    "        'type': 'cosine_with_warmup',\n",
    "        'num_warmup_epochs': 10,\n",
    "        'max_epochs': 100,\n",
    "    },\n",
    "    'training': {\n",
    "        'n_max_epochs': 3,\n",
    "        'loss_function': \"cross_entropy\",\n",
    "        'clip_grad_norm': False,\n",
    "        'optimization_metric': 'accuracy',\n",
    "        'task_type': \"classification\",\n",
    "    }\n",
    "}"
   ],
   "metadata": {
    "collapsed": false,
    "ExecuteTime": {
     "start_time": "2024-03-20T09:24:41.511427Z",
     "end_time": "2024-03-20T09:24:41.521425Z"
    }
   }
  },
  {
   "cell_type": "code",
   "execution_count": 2,
   "outputs": [],
   "source": [
    "from ptgnn.runtime_config.run_config import run_config"
   ],
   "metadata": {
    "collapsed": false
   }
  },
  {
   "cell_type": "code",
   "execution_count": 3,
   "outputs": [
    {
     "name": "stderr",
     "output_type": "stream",
     "text": [
      "100%|██████████| 1721/1721 [06:03<00:00,  4.73it/s]\n",
      "100%|██████████| 367/367 [00:22<00:00, 16.06it/s]\n",
      "100%|██████████| 1721/1721 [05:56<00:00,  4.83it/s]\n",
      "100%|██████████| 367/367 [00:21<00:00, 17.06it/s]\n",
      "100%|██████████| 1721/1721 [05:55<00:00,  4.84it/s]\n",
      "100%|██████████| 367/367 [00:21<00:00, 17.12it/s]\n"
     ]
    },
    {
     "data": {
      "text/plain": "   train_accuracy  train_precision  train_recall  train_f1  train_auc  \\\n0            0.50             0.50          0.39      0.44       0.50   \n1            0.60             0.58          0.68      0.63       0.66   \n2            0.94             0.94          0.94      0.94       0.99   \n\n   train_mean_loss  train_sum_loss  val_accuracy  val_precision  val_recall  \\\n0         0.839880     1445.432675          0.50           0.50        0.46   \n1         0.615139     1058.654231          0.80           0.73        0.94   \n2         0.142644      245.490851          0.92           0.92        0.92   \n\n   val_f1  val_auc  val_mean_loss  val_sum_loss  \n0    0.48     0.50       0.938860    344.561785  \n1    0.82     0.92       0.424158    155.666108  \n2    0.92     0.98       0.179137     65.743420  ",
      "text/html": "<div>\n<style scoped>\n    .dataframe tbody tr th:only-of-type {\n        vertical-align: middle;\n    }\n\n    .dataframe tbody tr th {\n        vertical-align: top;\n    }\n\n    .dataframe thead th {\n        text-align: right;\n    }\n</style>\n<table border=\"1\" class=\"dataframe\">\n  <thead>\n    <tr style=\"text-align: right;\">\n      <th></th>\n      <th>train_accuracy</th>\n      <th>train_precision</th>\n      <th>train_recall</th>\n      <th>train_f1</th>\n      <th>train_auc</th>\n      <th>train_mean_loss</th>\n      <th>train_sum_loss</th>\n      <th>val_accuracy</th>\n      <th>val_precision</th>\n      <th>val_recall</th>\n      <th>val_f1</th>\n      <th>val_auc</th>\n      <th>val_mean_loss</th>\n      <th>val_sum_loss</th>\n    </tr>\n  </thead>\n  <tbody>\n    <tr>\n      <th>0</th>\n      <td>0.50</td>\n      <td>0.50</td>\n      <td>0.39</td>\n      <td>0.44</td>\n      <td>0.50</td>\n      <td>0.839880</td>\n      <td>1445.432675</td>\n      <td>0.50</td>\n      <td>0.50</td>\n      <td>0.46</td>\n      <td>0.48</td>\n      <td>0.50</td>\n      <td>0.938860</td>\n      <td>344.561785</td>\n    </tr>\n    <tr>\n      <th>1</th>\n      <td>0.60</td>\n      <td>0.58</td>\n      <td>0.68</td>\n      <td>0.63</td>\n      <td>0.66</td>\n      <td>0.615139</td>\n      <td>1058.654231</td>\n      <td>0.80</td>\n      <td>0.73</td>\n      <td>0.94</td>\n      <td>0.82</td>\n      <td>0.92</td>\n      <td>0.424158</td>\n      <td>155.666108</td>\n    </tr>\n    <tr>\n      <th>2</th>\n      <td>0.94</td>\n      <td>0.94</td>\n      <td>0.94</td>\n      <td>0.94</td>\n      <td>0.99</td>\n      <td>0.142644</td>\n      <td>245.490851</td>\n      <td>0.92</td>\n      <td>0.92</td>\n      <td>0.92</td>\n      <td>0.92</td>\n      <td>0.98</td>\n      <td>0.179137</td>\n      <td>65.743420</td>\n    </tr>\n  </tbody>\n</table>\n</div>"
     },
     "metadata": {},
     "output_type": "display_data"
    }
   ],
   "source": [
    "run_config(sample_config)"
   ],
   "metadata": {
    "collapsed": false
   }
  },
  {
   "cell_type": "code",
   "execution_count": 1,
   "outputs": [],
   "source": [
    "sample_config = {\n",
    "    'data' : {\n",
    "        'dataset' : {\n",
    "            'type' : \"rs\",\n",
    "            'mask_chiral_tags': True,\n",
    "            'graph_mode': 'edge',\n",
    "            'transformation_mode': 'permutation_tree',\n",
    "            'transformation_parameters': {\n",
    "                'k': 3\n",
    "            }\n",
    "        },\n",
    "        'loader': {\n",
    "            'general': {\n",
    "                'n_neighbors_in_circle': 3,\n",
    "                'batch_size': 32,\n",
    "                'num_workers': 0,\n",
    "            },\n",
    "            'train': {},\n",
    "            'test': {},\n",
    "            'val': {}\n",
    "        }\n",
    "    },\n",
    "    'model': {\n",
    "        'mode': 'custom',\n",
    "        'hidden_dim': 128,\n",
    "        'out_dim': 1,\n",
    "        'modules': {\n",
    "            0: {\n",
    "                'type': 'graph_embedding',\n",
    "                'parameter': {\n",
    "                    'node_type': 'linear',\n",
    "                    'edge_type': 'linear',\n",
    "                }\n",
    "            },\n",
    "            1: {\n",
    "                'type': 'permutation_tree',\n",
    "                'parameter': {\n",
    "                    'k': 3\n",
    "                },\n",
    "                'times': 5\n",
    "            }\n",
    "        },\n",
    "        'head': {\n",
    "            'type': 'san_head',\n",
    "            'n_layer': 3,\n",
    "            'pool_function': 'add',\n",
    "        }\n",
    "    },\n",
    "    'optimizer': {\n",
    "        'type': 'adam_w',\n",
    "        'base_learning_rate': 1e-3,\n",
    "        'weight_decay': 1e-5\n",
    "    },\n",
    "    'scheduler': {\n",
    "        'type': 'cosine_with_warmup',\n",
    "        'num_warmup_epochs': 10,\n",
    "        'max_epochs': 100,\n",
    "    },\n",
    "    'training': {\n",
    "        'n_max_epochs': 3,\n",
    "        'loss_function': \"cross_entropy\",\n",
    "        'clip_grad_norm': False,\n",
    "        'optimization_metric': 'accuracy',\n",
    "        'task_type': \"classification\",\n",
    "    }\n",
    "}"
   ],
   "metadata": {
    "collapsed": false,
    "ExecuteTime": {
     "start_time": "2024-03-20T16:53:01.153646Z",
     "end_time": "2024-03-20T16:53:01.161647Z"
    }
   }
  },
  {
   "cell_type": "code",
   "execution_count": 2,
   "outputs": [],
   "source": [
    "from ptgnn.runtime_config.run_config import run_config"
   ],
   "metadata": {
    "collapsed": false,
    "ExecuteTime": {
     "start_time": "2024-03-20T16:53:01.893295Z",
     "end_time": "2024-03-20T16:53:05.433651Z"
    }
   }
  },
  {
   "cell_type": "code",
   "execution_count": 3,
   "outputs": [
    {
     "name": "stderr",
     "output_type": "stream",
     "text": [
      "100%|██████████| 1721/1721 [06:21<00:00,  4.51it/s]\n",
      "C:\\Users\\johan\\.conda\\envs\\Masterarbeit_PTGNN\\lib\\site-packages\\sklearn\\metrics\\_classification.py:1469: UndefinedMetricWarning: Precision is ill-defined and being set to 0.0 due to no predicted samples. Use `zero_division` parameter to control this behavior.\n",
      "  _warn_prf(average, modifier, msg_start, len(result))\n",
      "100%|██████████| 367/367 [00:29<00:00, 12.48it/s]\n",
      "C:\\Users\\johan\\.conda\\envs\\Masterarbeit_PTGNN\\lib\\site-packages\\sklearn\\metrics\\_classification.py:1469: UndefinedMetricWarning: Precision is ill-defined and being set to 0.0 due to no predicted samples. Use `zero_division` parameter to control this behavior.\n",
      "  _warn_prf(average, modifier, msg_start, len(result))\n",
      "100%|██████████| 1721/1721 [06:05<00:00,  4.71it/s]\n",
      "100%|██████████| 367/367 [00:21<00:00, 17.46it/s]\n",
      "100%|██████████| 1721/1721 [05:57<00:00,  4.82it/s]\n",
      "100%|██████████| 367/367 [00:26<00:00, 14.00it/s]\n"
     ]
    },
    {
     "data": {
      "text/plain": "   train_accuracy  train_precision  train_recall  train_f1  train_auc  \\\n0             0.5              0.0          0.00      0.00        0.5   \n1             0.5              0.5          0.35      0.41        0.5   \n2             0.5              0.5          0.41      0.45        0.5   \n\n   train_mean_loss  train_sum_loss  val_accuracy  val_precision  val_recall  \\\n0         0.709376     1220.836668           0.5            0.0        0.00   \n1         0.693245     1193.073927           0.5            0.5        0.59   \n2         0.693154     1192.917322           0.5            0.5        0.47   \n\n   val_f1  val_auc  val_mean_loss  val_sum_loss  \n0    0.00     0.50       0.709279    260.305530  \n1    0.54     0.50       0.693181    254.397484  \n2    0.49     0.51       0.693136    254.380885  ",
      "text/html": "<div>\n<style scoped>\n    .dataframe tbody tr th:only-of-type {\n        vertical-align: middle;\n    }\n\n    .dataframe tbody tr th {\n        vertical-align: top;\n    }\n\n    .dataframe thead th {\n        text-align: right;\n    }\n</style>\n<table border=\"1\" class=\"dataframe\">\n  <thead>\n    <tr style=\"text-align: right;\">\n      <th></th>\n      <th>train_accuracy</th>\n      <th>train_precision</th>\n      <th>train_recall</th>\n      <th>train_f1</th>\n      <th>train_auc</th>\n      <th>train_mean_loss</th>\n      <th>train_sum_loss</th>\n      <th>val_accuracy</th>\n      <th>val_precision</th>\n      <th>val_recall</th>\n      <th>val_f1</th>\n      <th>val_auc</th>\n      <th>val_mean_loss</th>\n      <th>val_sum_loss</th>\n    </tr>\n  </thead>\n  <tbody>\n    <tr>\n      <th>0</th>\n      <td>0.5</td>\n      <td>0.0</td>\n      <td>0.00</td>\n      <td>0.00</td>\n      <td>0.5</td>\n      <td>0.709376</td>\n      <td>1220.836668</td>\n      <td>0.5</td>\n      <td>0.0</td>\n      <td>0.00</td>\n      <td>0.00</td>\n      <td>0.50</td>\n      <td>0.709279</td>\n      <td>260.305530</td>\n    </tr>\n    <tr>\n      <th>1</th>\n      <td>0.5</td>\n      <td>0.5</td>\n      <td>0.35</td>\n      <td>0.41</td>\n      <td>0.5</td>\n      <td>0.693245</td>\n      <td>1193.073927</td>\n      <td>0.5</td>\n      <td>0.5</td>\n      <td>0.59</td>\n      <td>0.54</td>\n      <td>0.50</td>\n      <td>0.693181</td>\n      <td>254.397484</td>\n    </tr>\n    <tr>\n      <th>2</th>\n      <td>0.5</td>\n      <td>0.5</td>\n      <td>0.41</td>\n      <td>0.45</td>\n      <td>0.5</td>\n      <td>0.693154</td>\n      <td>1192.917322</td>\n      <td>0.5</td>\n      <td>0.5</td>\n      <td>0.47</td>\n      <td>0.49</td>\n      <td>0.51</td>\n      <td>0.693136</td>\n      <td>254.380885</td>\n    </tr>\n  </tbody>\n</table>\n</div>"
     },
     "metadata": {},
     "output_type": "display_data"
    }
   ],
   "source": [
    "run_config(sample_config)"
   ],
   "metadata": {
    "collapsed": false,
    "ExecuteTime": {
     "start_time": "2024-03-20T16:53:05.435735Z",
     "end_time": "2024-03-20T17:13:04.210899Z"
    }
   }
  },
  {
   "cell_type": "markdown",
   "source": [
    "# Importing and exporting configs"
   ],
   "metadata": {
    "collapsed": false
   }
  },
  {
   "cell_type": "code",
   "execution_count": 10,
   "outputs": [],
   "source": [
    "export_as(sample_config, \"config1.json\", save_type='json')"
   ],
   "metadata": {
    "collapsed": false,
    "ExecuteTime": {
     "start_time": "2024-03-08T15:41:02.803091Z",
     "end_time": "2024-03-08T15:41:02.809090Z"
    }
   }
  },
  {
   "cell_type": "code",
   "execution_count": 11,
   "outputs": [],
   "source": [
    "export_as(sample_config, \"config1.yaml\", save_type='yaml')"
   ],
   "metadata": {
    "collapsed": false,
    "ExecuteTime": {
     "start_time": "2024-03-08T15:41:17.961670Z",
     "end_time": "2024-03-08T15:41:17.986154Z"
    }
   }
  },
  {
   "cell_type": "code",
   "execution_count": 12,
   "outputs": [],
   "source": [
    "export_as(sample_config2, \"config2.json\", save_type='json')"
   ],
   "metadata": {
    "collapsed": false,
    "ExecuteTime": {
     "start_time": "2024-03-08T15:41:28.195270Z",
     "end_time": "2024-03-08T15:41:28.203267Z"
    }
   }
  },
  {
   "cell_type": "code",
   "execution_count": 13,
   "outputs": [],
   "source": [
    "export_as(sample_config2, \"config2.yaml\", save_type='yaml')"
   ],
   "metadata": {
    "collapsed": false,
    "ExecuteTime": {
     "start_time": "2024-03-08T15:41:36.880537Z",
     "end_time": "2024-03-08T15:41:36.892537Z"
    }
   }
  },
  {
   "cell_type": "code",
   "execution_count": 14,
   "outputs": [
    {
     "data": {
      "text/plain": "{'data': {'dataset': {'type': 'rs', 'toast': 'browne'},\n  'loader': {'general': {'n_neighbors_in_circle': 3, 'batch_size': 3},\n   'train': {},\n   'test': {},\n   'val': {}}},\n 'model': {'mode': 'custom',\n  'hidden_dim': 128,\n  'modules': {'0': {'type': 'graph_embedding',\n    'node_type': 'linear',\n    'edge_type': 'linear'}}},\n 'optimizer': {'type': 'adam_w',\n  'base_learning_rate': 0.001,\n  'weight_decay': 1e-05},\n 'scheduler': {'type': 'cosine_with_warmup',\n  'num_warmup_epochs': 10,\n  'max_epochs': 100}}"
     },
     "execution_count": 14,
     "metadata": {},
     "output_type": "execute_result"
    }
   ],
   "source": [
    "import_as(\"config1.json\")"
   ],
   "metadata": {
    "collapsed": false,
    "ExecuteTime": {
     "start_time": "2024-03-08T15:43:18.226452Z",
     "end_time": "2024-03-08T15:43:18.241452Z"
    }
   }
  },
  {
   "cell_type": "code",
   "execution_count": 15,
   "outputs": [
    {
     "data": {
      "text/plain": "{'data': {'dataset': {'toast': 'browne', 'type': 'rs'},\n  'loader': {'general': {'batch_size': 3, 'n_neighbors_in_circle': 3},\n   'test': {},\n   'train': {},\n   'val': {}}},\n 'model': {'hidden_dim': 128,\n  'mode': 'custom',\n  'modules': {0: {'edge_type': 'linear',\n    'node_type': 'linear',\n    'type': 'graph_embedding'}}},\n 'optimizer': {'base_learning_rate': 0.001,\n  'type': 'adam_w',\n  'weight_decay': 1e-05},\n 'scheduler': {'max_epochs': 100,\n  'num_warmup_epochs': 10,\n  'type': 'cosine_with_warmup'}}"
     },
     "execution_count": 15,
     "metadata": {},
     "output_type": "execute_result"
    }
   ],
   "source": [
    "import_as(\"config1.yaml\")"
   ],
   "metadata": {
    "collapsed": false,
    "ExecuteTime": {
     "start_time": "2024-03-08T15:43:35.731329Z",
     "end_time": "2024-03-08T15:43:35.748325Z"
    }
   }
  },
  {
   "cell_type": "code",
   "execution_count": 16,
   "outputs": [
    {
     "data": {
      "text/plain": "{'data': {'dataset': {'type': 'rs'},\n  'loader': {'general': {'n_neighbors_in_circle': 3, 'batch_size': 3}}},\n 'model': {'mode': 'custom',\n  'hidden_dim': 128,\n  'modules': {'0': {'type': 'graph_embedding',\n    'node_type': 'linear',\n    'edge_type': 'linear'}}},\n 'optimizer': {'type': 'adam_w',\n  'base_learning_rate': 0.001,\n  'weight_decay': 1e-05},\n 'scheduler': {'type': 'cosine_with_warmup',\n  'num_warmup_epochs': 10,\n  'max_epochs': 100}}"
     },
     "execution_count": 16,
     "metadata": {},
     "output_type": "execute_result"
    }
   ],
   "source": [
    "import_as(\"config2.json\")"
   ],
   "metadata": {
    "collapsed": false,
    "ExecuteTime": {
     "start_time": "2024-03-08T15:43:54.299225Z",
     "end_time": "2024-03-08T15:43:54.307224Z"
    }
   }
  },
  {
   "cell_type": "code",
   "execution_count": 17,
   "outputs": [
    {
     "data": {
      "text/plain": "{'data': {'dataset': {'type': 'rs'},\n  'loader': {'general': {'batch_size': 3, 'n_neighbors_in_circle': 3}}},\n 'model': {'hidden_dim': 128,\n  'mode': 'custom',\n  'modules': {0: {'edge_type': 'linear',\n    'node_type': 'linear',\n    'type': 'graph_embedding'}}},\n 'optimizer': {'base_learning_rate': 0.001,\n  'type': 'adam_w',\n  'weight_decay': 1e-05},\n 'scheduler': {'max_epochs': 100,\n  'num_warmup_epochs': 10,\n  'type': 'cosine_with_warmup'}}"
     },
     "execution_count": 17,
     "metadata": {},
     "output_type": "execute_result"
    }
   ],
   "source": [
    "import_as(\"config2.yaml\")"
   ],
   "metadata": {
    "collapsed": false,
    "ExecuteTime": {
     "start_time": "2024-03-08T15:44:05.211664Z",
     "end_time": "2024-03-08T15:44:05.267185Z"
    }
   }
  },
  {
   "cell_type": "code",
   "execution_count": null,
   "outputs": [],
   "source": [],
   "metadata": {
    "collapsed": false
   }
  }
 ],
 "metadata": {
  "kernelspec": {
   "display_name": "Python 3",
   "language": "python",
   "name": "python3"
  },
  "language_info": {
   "codemirror_mode": {
    "name": "ipython",
    "version": 2
   },
   "file_extension": ".py",
   "mimetype": "text/x-python",
   "name": "python",
   "nbconvert_exporter": "python",
   "pygments_lexer": "ipython2",
   "version": "2.7.6"
  }
 },
 "nbformat": 4,
 "nbformat_minor": 0
}
