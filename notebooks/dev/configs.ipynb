{
 "cells": [
  {
   "cell_type": "code",
   "execution_count": 1,
   "metadata": {
    "collapsed": true,
    "ExecuteTime": {
     "start_time": "2024-03-08T19:04:27.827658Z",
     "end_time": "2024-03-08T19:04:27.861634Z"
    }
   },
   "outputs": [],
   "source": [
    "from ptgnn.runtime_config.config import *"
   ]
  },
  {
   "cell_type": "markdown",
   "source": [
    "## Chienn"
   ],
   "metadata": {
    "collapsed": false
   }
  },
  {
   "cell_type": "code",
   "execution_count": 1,
   "outputs": [],
   "source": [
    "sample_config = {\n",
    "    'data' : {\n",
    "        'dataset' : {\n",
    "            'type' : \"rs\",\n",
    "            'mask_chiral_tags': True,\n",
    "        },\n",
    "        'loader': {\n",
    "            'general': {\n",
    "                'n_neighbors_in_circle': 3,\n",
    "                'batch_size': 32,\n",
    "                'num_workers': 0,\n",
    "            },\n",
    "            'train': {},\n",
    "            'test': {},\n",
    "            'val': {}\n",
    "        }\n",
    "    },\n",
    "    'model': {\n",
    "        'mode': 'custom',\n",
    "        'hidden_dim': 128,\n",
    "        'out_dim': 1,\n",
    "        'modules': {\n",
    "            0: {\n",
    "                'type': 'graph_embedding',\n",
    "                'parameter': {\n",
    "                    'node_type': 'linear',\n",
    "                    'edge_type': 'linear',\n",
    "                }\n",
    "            },\n",
    "            1: {\n",
    "                'type': 'gps_layer',\n",
    "                'parameter': {\n",
    "                    'local_model': 'chienn',\n",
    "                    'local_model_params': {}\n",
    "                },\n",
    "                'times': 5\n",
    "            }\n",
    "        },\n",
    "        'head': {\n",
    "            'type': 'san_head',\n",
    "            'n_layer': 3,\n",
    "            'pool_function': 'add',\n",
    "        }\n",
    "    },\n",
    "    'optimizer': {\n",
    "        'type': 'adam_w',\n",
    "        'base_learning_rate': 1e-3,\n",
    "        'weight_decay': 1e-5\n",
    "    },\n",
    "    'scheduler': {\n",
    "        'type': 'cosine_with_warmup',\n",
    "        'num_warmup_epochs': 10,\n",
    "        'max_epochs': 100,\n",
    "    },\n",
    "    'training': {\n",
    "        'n_max_epochs': 2,\n",
    "        'loss_function': \"cross_entropy\",\n",
    "        'clip_grad_norm': True,\n",
    "        'optimization_metric': 'accuracy',\n",
    "        'task_type': \"classification\",\n",
    "    }\n",
    "}"
   ],
   "metadata": {
    "collapsed": false,
    "ExecuteTime": {
     "start_time": "2024-03-19T14:48:09.759228Z",
     "end_time": "2024-03-19T14:48:09.762228Z"
    }
   }
  },
  {
   "cell_type": "code",
   "execution_count": 2,
   "outputs": [],
   "source": [
    "from ptgnn.runtime_config.run_config import run_config"
   ],
   "metadata": {
    "collapsed": false,
    "ExecuteTime": {
     "start_time": "2024-03-19T14:48:09.904905Z",
     "end_time": "2024-03-19T14:48:13.390016Z"
    }
   }
  },
  {
   "cell_type": "markdown",
   "source": [
    "With chiral masking 0.5 on basic linear model without masking 100%"
   ],
   "metadata": {
    "collapsed": false
   }
  },
  {
   "cell_type": "code",
   "execution_count": 3,
   "outputs": [
    {
     "name": "stderr",
     "output_type": "stream",
     "text": [
      "100%|██████████| 1721/1721 [03:16<00:00,  8.75it/s]\n",
      "100%|██████████| 367/367 [00:14<00:00, 24.85it/s]\n",
      "100%|██████████| 1721/1721 [03:13<00:00,  8.92it/s]\n",
      "100%|██████████| 367/367 [00:19<00:00, 18.92it/s]\n"
     ]
    },
    {
     "data": {
      "text/plain": "   train_accuracy  train_precision  train_recall  train_f1  train_auc  \\\n0            0.50             0.50          0.02      0.04       0.50   \n1            0.85             0.85          0.85      0.85       0.94   \n\n   train_mean_loss  train_sum_loss  val_accuracy  val_precision  val_recall  \\\n0         0.943067     1623.017753          0.50           0.50        0.04   \n1         0.308238      530.477510          0.91           0.92        0.90   \n\n   val_f1  val_auc  val_mean_loss  val_sum_loss  \n0    0.07     0.50       1.082454    397.260695  \n1    0.91     0.98       0.200032     73.411847  ",
      "text/html": "<div>\n<style scoped>\n    .dataframe tbody tr th:only-of-type {\n        vertical-align: middle;\n    }\n\n    .dataframe tbody tr th {\n        vertical-align: top;\n    }\n\n    .dataframe thead th {\n        text-align: right;\n    }\n</style>\n<table border=\"1\" class=\"dataframe\">\n  <thead>\n    <tr style=\"text-align: right;\">\n      <th></th>\n      <th>train_accuracy</th>\n      <th>train_precision</th>\n      <th>train_recall</th>\n      <th>train_f1</th>\n      <th>train_auc</th>\n      <th>train_mean_loss</th>\n      <th>train_sum_loss</th>\n      <th>val_accuracy</th>\n      <th>val_precision</th>\n      <th>val_recall</th>\n      <th>val_f1</th>\n      <th>val_auc</th>\n      <th>val_mean_loss</th>\n      <th>val_sum_loss</th>\n    </tr>\n  </thead>\n  <tbody>\n    <tr>\n      <th>0</th>\n      <td>0.50</td>\n      <td>0.50</td>\n      <td>0.02</td>\n      <td>0.04</td>\n      <td>0.50</td>\n      <td>0.943067</td>\n      <td>1623.017753</td>\n      <td>0.50</td>\n      <td>0.50</td>\n      <td>0.04</td>\n      <td>0.07</td>\n      <td>0.50</td>\n      <td>1.082454</td>\n      <td>397.260695</td>\n    </tr>\n    <tr>\n      <th>1</th>\n      <td>0.85</td>\n      <td>0.85</td>\n      <td>0.85</td>\n      <td>0.85</td>\n      <td>0.94</td>\n      <td>0.308238</td>\n      <td>530.477510</td>\n      <td>0.91</td>\n      <td>0.92</td>\n      <td>0.90</td>\n      <td>0.91</td>\n      <td>0.98</td>\n      <td>0.200032</td>\n      <td>73.411847</td>\n    </tr>\n  </tbody>\n</table>\n</div>"
     },
     "metadata": {},
     "output_type": "display_data"
    }
   ],
   "source": [
    "run_config(sample_config)"
   ],
   "metadata": {
    "collapsed": false,
    "ExecuteTime": {
     "start_time": "2024-03-19T14:48:13.390016Z",
     "end_time": "2024-03-19T14:55:24.669471Z"
    }
   }
  },
  {
   "cell_type": "markdown",
   "source": [
    "## Permutation tree"
   ],
   "metadata": {
    "collapsed": false
   }
  },
  {
   "cell_type": "code",
   "execution_count": 1,
   "outputs": [],
   "source": [
    "sample_config = {\n",
    "    'data' : {\n",
    "        'dataset' : {\n",
    "            'type' : \"rs\",\n",
    "            'mask_chiral_tags': True,\n",
    "            'graph_mode': 'edge',\n",
    "            'transformation_mode': 'permutation_tree',\n",
    "            'transformation_parameters': {\n",
    "                'k': 3\n",
    "            }\n",
    "        },\n",
    "        'loader': {\n",
    "            'general': {\n",
    "                'n_neighbors_in_circle': 3,\n",
    "                'batch_size': 32,\n",
    "                'num_workers': 0,\n",
    "            },\n",
    "            'train': {},\n",
    "            'test': {},\n",
    "            'val': {}\n",
    "        }\n",
    "    },\n",
    "    'model': {\n",
    "        'mode': 'custom',\n",
    "        'hidden_dim': 128,\n",
    "        'out_dim': 1,\n",
    "        'modules': {\n",
    "            0: {\n",
    "                'type': 'graph_embedding',\n",
    "                'parameter': {\n",
    "                    'node_type': 'linear',\n",
    "                    'edge_type': 'linear',\n",
    "                }\n",
    "            },\n",
    "            1: {\n",
    "                'type': 'permutation_tree_advanced',\n",
    "                'parameter': {\n",
    "                    'k': 3\n",
    "                },\n",
    "                'times': 1\n",
    "            }\n",
    "        },\n",
    "        'head': {\n",
    "            'type': 'san_head',\n",
    "            'n_layer': 3,\n",
    "            'pool_function': 'add',\n",
    "        }\n",
    "    },\n",
    "    'optimizer': {\n",
    "        'type': 'adam_w',\n",
    "        'base_learning_rate': 1e-3,\n",
    "        'weight_decay': 1e-5\n",
    "    },\n",
    "    'scheduler': {\n",
    "        'type': 'cosine_with_warmup',\n",
    "        'num_warmup_epochs': 10,\n",
    "        'max_epochs': 100,\n",
    "    },\n",
    "    'training': {\n",
    "        'n_max_epochs': 2,\n",
    "        'loss_function': \"cross_entropy\",\n",
    "        'clip_grad_norm': False,\n",
    "        'optimization_metric': 'accuracy',\n",
    "        'task_type': \"classification\",\n",
    "    }\n",
    "}"
   ],
   "metadata": {
    "collapsed": false,
    "ExecuteTime": {
     "start_time": "2024-03-20T09:24:41.511427Z",
     "end_time": "2024-03-20T09:24:41.521425Z"
    }
   }
  },
  {
   "cell_type": "code",
   "execution_count": 1,
   "outputs": [],
   "source": [
    "sample_config = {\n",
    "    'data' : {\n",
    "        'dataset' : {\n",
    "            'type' : \"rs\",\n",
    "            'mask_chiral_tags': True,\n",
    "            'graph_mode': 'edge',\n",
    "            'transformation_mode': 'permutation_tree',\n",
    "            'transformation_parameters': {\n",
    "                'k': 3\n",
    "            }\n",
    "        },\n",
    "        'loader': {\n",
    "            'general': {\n",
    "                'n_neighbors_in_circle': 3,\n",
    "                'batch_size': 32,\n",
    "                'num_workers': 0,\n",
    "            },\n",
    "            'train': {},\n",
    "            'test': {},\n",
    "            'val': {}\n",
    "        }\n",
    "    },\n",
    "    'model': {\n",
    "        'mode': 'custom',\n",
    "        'hidden_dim': 128,\n",
    "        'out_dim': 1,\n",
    "        'modules': {\n",
    "            0: {\n",
    "                'type': 'graph_embedding',\n",
    "                'parameter': {\n",
    "                    'node_type': 'linear',\n",
    "                    'edge_type': 'linear',\n",
    "                }\n",
    "            },\n",
    "            1: {\n",
    "                'type': 'gps_layer',\n",
    "                'parameter': {\n",
    "                    'local_model': 'permutation_tree',\n",
    "                    'local_model_params': {\n",
    "                        'k': 3\n",
    "                    }\n",
    "                },\n",
    "                'times': 1\n",
    "            }\n",
    "        },\n",
    "        'head': {\n",
    "            'type': 'san_head',\n",
    "            'n_layer': 3,\n",
    "            'pool_function': 'add',\n",
    "        }\n",
    "    },\n",
    "    'optimizer': {\n",
    "        'type': 'adam_w',\n",
    "        'base_learning_rate': 1e-3,\n",
    "        'weight_decay': 1e-5\n",
    "    },\n",
    "    'scheduler': {\n",
    "        'type': 'cosine_with_warmup',\n",
    "        'num_warmup_epochs': 10,\n",
    "        'max_epochs': 100,\n",
    "    },\n",
    "    'training': {\n",
    "        'n_max_epochs': 5,\n",
    "        'loss_function': \"cross_entropy\",\n",
    "        'clip_grad_norm': False,\n",
    "        'optimization_metric': 'accuracy',\n",
    "        'task_type': \"classification\",\n",
    "    }\n",
    "}"
   ],
   "metadata": {
    "collapsed": false,
    "ExecuteTime": {
     "start_time": "2024-03-19T20:32:12.828494Z",
     "end_time": "2024-03-19T20:32:12.829497Z"
    }
   }
  },
  {
   "cell_type": "code",
   "execution_count": 2,
   "outputs": [],
   "source": [
    "from ptgnn.runtime_config.run_config import run_config"
   ],
   "metadata": {
    "collapsed": false,
    "ExecuteTime": {
     "start_time": "2024-03-20T09:24:45.636960Z",
     "end_time": "2024-03-20T09:24:50.802063Z"
    }
   }
  },
  {
   "cell_type": "code",
   "execution_count": 3,
   "outputs": [
    {
     "name": "stderr",
     "output_type": "stream",
     "text": [
      "  1%|          | 12/1721 [00:38<1:30:50,  3.19s/it]\n"
     ]
    },
    {
     "ename": "KeyboardInterrupt",
     "evalue": "",
     "output_type": "error",
     "traceback": [
      "\u001B[1;31m---------------------------------------------------------------------------\u001B[0m",
      "\u001B[1;31mKeyboardInterrupt\u001B[0m                         Traceback (most recent call last)",
      "Cell \u001B[1;32mIn[3], line 1\u001B[0m\n\u001B[1;32m----> 1\u001B[0m \u001B[43mrun_config\u001B[49m\u001B[43m(\u001B[49m\u001B[43msample_config\u001B[49m\u001B[43m)\u001B[49m\n",
      "File \u001B[1;32mD:\\DATEN\\Masterarbeit_PTGNN\\ptgnn\\runtime_config\\run_config.py:304\u001B[0m, in \u001B[0;36mrun_config\u001B[1;34m(config_dict)\u001B[0m\n\u001B[0;32m    298\u001B[0m scheduler \u001B[38;5;241m=\u001B[39m fetch_scheduler(\n\u001B[0;32m    299\u001B[0m     optimizer,\n\u001B[0;32m    300\u001B[0m     config_dict[\u001B[38;5;124m'\u001B[39m\u001B[38;5;124mscheduler\u001B[39m\u001B[38;5;124m'\u001B[39m]\n\u001B[0;32m    301\u001B[0m )\n\u001B[0;32m    303\u001B[0m \u001B[38;5;66;03m# start training\u001B[39;00m\n\u001B[1;32m--> 304\u001B[0m metric_dict \u001B[38;5;241m=\u001B[39m training_procedure(\n\u001B[0;32m    305\u001B[0m     model\u001B[38;5;241m=\u001B[39mmodel,\n\u001B[0;32m    306\u001B[0m     optimizer\u001B[38;5;241m=\u001B[39moptimizer,\n\u001B[0;32m    307\u001B[0m     scheduler\u001B[38;5;241m=\u001B[39mscheduler,\n\u001B[0;32m    308\u001B[0m     train_loader\u001B[38;5;241m=\u001B[39mtrain_loader,\n\u001B[0;32m    309\u001B[0m     val_loader\u001B[38;5;241m=\u001B[39mval_loader,\n\u001B[0;32m    310\u001B[0m     test_loader\u001B[38;5;241m=\u001B[39mtest_loader,\n\u001B[0;32m    311\u001B[0m     device\u001B[38;5;241m=\u001B[39mdevice,\n\u001B[0;32m    312\u001B[0m     out_dim\u001B[38;5;241m=\u001B[39mconfig_dict[\u001B[38;5;124m'\u001B[39m\u001B[38;5;124mmodel\u001B[39m\u001B[38;5;124m'\u001B[39m][\u001B[38;5;124m'\u001B[39m\u001B[38;5;124mout_dim\u001B[39m\u001B[38;5;124m'\u001B[39m] \u001B[38;5;28;01mif\u001B[39;00m \u001B[38;5;124m'\u001B[39m\u001B[38;5;124mout_dim\u001B[39m\u001B[38;5;124m'\u001B[39m \u001B[38;5;129;01min\u001B[39;00m config_dict[\u001B[38;5;124m'\u001B[39m\u001B[38;5;124mmodel\u001B[39m\u001B[38;5;124m'\u001B[39m] \u001B[38;5;28;01melse\u001B[39;00m \u001B[38;5;241m1\u001B[39m,\n\u001B[0;32m    313\u001B[0m     \u001B[38;5;241m*\u001B[39m\u001B[38;5;241m*\u001B[39mconfig_dict[\u001B[38;5;124m'\u001B[39m\u001B[38;5;124mtraining\u001B[39m\u001B[38;5;124m'\u001B[39m]\n\u001B[0;32m    314\u001B[0m )\n\u001B[0;32m    316\u001B[0m \u001B[38;5;66;03m# save/display metrics\u001B[39;00m\n\u001B[0;32m    317\u001B[0m display(metric_dict)\n",
      "File \u001B[1;32mD:\\DATEN\\Masterarbeit_PTGNN\\ptgnn\\runtime_config\\run_config.py:124\u001B[0m, in \u001B[0;36mtraining_procedure\u001B[1;34m(model, optimizer, scheduler, train_loader, val_loader, test_loader, task_type, device, n_max_epochs, loss_function, clip_grad_norm, out_dim, use_test_set, **kwargs)\u001B[0m\n\u001B[0;32m    121\u001B[0m \u001B[38;5;28;01mfor\u001B[39;00m epoch \u001B[38;5;129;01min\u001B[39;00m \u001B[38;5;28mrange\u001B[39m(n_max_epochs):\n\u001B[0;32m    122\u001B[0m     metric_dict \u001B[38;5;241m=\u001B[39m {}\n\u001B[1;32m--> 124\u001B[0m     metric_dict \u001B[38;5;241m=\u001B[39m \u001B[43mtrain_epoch\u001B[49m\u001B[43m(\u001B[49m\n\u001B[0;32m    125\u001B[0m \u001B[43m        \u001B[49m\u001B[43mmetric_dict\u001B[49m\u001B[43m,\u001B[49m\n\u001B[0;32m    126\u001B[0m \u001B[43m        \u001B[49m\u001B[43mclip_grad_norm\u001B[49m\u001B[43m,\u001B[49m\n\u001B[0;32m    127\u001B[0m \u001B[43m        \u001B[49m\u001B[43mdevice\u001B[49m\u001B[43m,\u001B[49m\n\u001B[0;32m    128\u001B[0m \u001B[43m        \u001B[49m\u001B[43mdf_dict\u001B[49m\u001B[43m,\u001B[49m\n\u001B[0;32m    129\u001B[0m \u001B[43m        \u001B[49m\u001B[43mloss_function\u001B[49m\u001B[43m,\u001B[49m\n\u001B[0;32m    130\u001B[0m \u001B[43m        \u001B[49m\u001B[43mmodel\u001B[49m\u001B[43m,\u001B[49m\n\u001B[0;32m    131\u001B[0m \u001B[43m        \u001B[49m\u001B[43moptimizer\u001B[49m\u001B[43m,\u001B[49m\n\u001B[0;32m    132\u001B[0m \u001B[43m        \u001B[49m\u001B[43mout_dim\u001B[49m\u001B[43m,\u001B[49m\n\u001B[0;32m    133\u001B[0m \u001B[43m        \u001B[49m\u001B[43mscheduler\u001B[49m\u001B[43m,\u001B[49m\n\u001B[0;32m    134\u001B[0m \u001B[43m        \u001B[49m\u001B[43mtask_type\u001B[49m\u001B[43m,\u001B[49m\n\u001B[0;32m    135\u001B[0m \u001B[43m        \u001B[49m\u001B[43mtrain_loader\u001B[49m\n\u001B[0;32m    136\u001B[0m \u001B[43m    \u001B[49m\u001B[43m)\u001B[49m\n\u001B[0;32m    138\u001B[0m     \u001B[38;5;66;03m# val\u001B[39;00m\n\u001B[0;32m    139\u001B[0m     metric_dict \u001B[38;5;241m=\u001B[39m eval_epoch(metric_dict, device, df_dict, loss_function, model, out_dim, task_type, val_loader, \u001B[38;5;124m'\u001B[39m\u001B[38;5;124mval\u001B[39m\u001B[38;5;124m'\u001B[39m)\n",
      "File \u001B[1;32mD:\\DATEN\\Masterarbeit_PTGNN\\ptgnn\\runtime_config\\run_config.py:194\u001B[0m, in \u001B[0;36mtrain_epoch\u001B[1;34m(metric_dict, clip_grad_norm, device, df_dict, loss_function, model, optimizer, out_dim, scheduler, task_type, train_loader)\u001B[0m\n\u001B[0;32m    191\u001B[0m loss, pred \u001B[38;5;241m=\u001B[39m loss_function(pred, true)\n\u001B[0;32m    193\u001B[0m \u001B[38;5;66;03m# train model\u001B[39;00m\n\u001B[1;32m--> 194\u001B[0m \u001B[43mloss\u001B[49m\u001B[38;5;241;43m.\u001B[39;49m\u001B[43mbackward\u001B[49m\u001B[43m(\u001B[49m\u001B[43m)\u001B[49m\n\u001B[0;32m    196\u001B[0m \u001B[38;5;66;03m# grad norm clipping\u001B[39;00m\n\u001B[0;32m    197\u001B[0m \u001B[38;5;28;01mif\u001B[39;00m clip_grad_norm:\n",
      "File \u001B[1;32m~\\.conda\\envs\\Masterarbeit_PTGNN\\lib\\site-packages\\torch\\_tensor.py:522\u001B[0m, in \u001B[0;36mTensor.backward\u001B[1;34m(self, gradient, retain_graph, create_graph, inputs)\u001B[0m\n\u001B[0;32m    512\u001B[0m \u001B[38;5;28;01mif\u001B[39;00m has_torch_function_unary(\u001B[38;5;28mself\u001B[39m):\n\u001B[0;32m    513\u001B[0m     \u001B[38;5;28;01mreturn\u001B[39;00m handle_torch_function(\n\u001B[0;32m    514\u001B[0m         Tensor\u001B[38;5;241m.\u001B[39mbackward,\n\u001B[0;32m    515\u001B[0m         (\u001B[38;5;28mself\u001B[39m,),\n\u001B[1;32m   (...)\u001B[0m\n\u001B[0;32m    520\u001B[0m         inputs\u001B[38;5;241m=\u001B[39minputs,\n\u001B[0;32m    521\u001B[0m     )\n\u001B[1;32m--> 522\u001B[0m \u001B[43mtorch\u001B[49m\u001B[38;5;241;43m.\u001B[39;49m\u001B[43mautograd\u001B[49m\u001B[38;5;241;43m.\u001B[39;49m\u001B[43mbackward\u001B[49m\u001B[43m(\u001B[49m\n\u001B[0;32m    523\u001B[0m \u001B[43m    \u001B[49m\u001B[38;5;28;43mself\u001B[39;49m\u001B[43m,\u001B[49m\u001B[43m \u001B[49m\u001B[43mgradient\u001B[49m\u001B[43m,\u001B[49m\u001B[43m \u001B[49m\u001B[43mretain_graph\u001B[49m\u001B[43m,\u001B[49m\u001B[43m \u001B[49m\u001B[43mcreate_graph\u001B[49m\u001B[43m,\u001B[49m\u001B[43m \u001B[49m\u001B[43minputs\u001B[49m\u001B[38;5;241;43m=\u001B[39;49m\u001B[43minputs\u001B[49m\n\u001B[0;32m    524\u001B[0m \u001B[43m\u001B[49m\u001B[43m)\u001B[49m\n",
      "File \u001B[1;32m~\\.conda\\envs\\Masterarbeit_PTGNN\\lib\\site-packages\\torch\\autograd\\__init__.py:266\u001B[0m, in \u001B[0;36mbackward\u001B[1;34m(tensors, grad_tensors, retain_graph, create_graph, grad_variables, inputs)\u001B[0m\n\u001B[0;32m    261\u001B[0m     retain_graph \u001B[38;5;241m=\u001B[39m create_graph\n\u001B[0;32m    263\u001B[0m \u001B[38;5;66;03m# The reason we repeat the same comment below is that\u001B[39;00m\n\u001B[0;32m    264\u001B[0m \u001B[38;5;66;03m# some Python versions print out the first line of a multi-line function\u001B[39;00m\n\u001B[0;32m    265\u001B[0m \u001B[38;5;66;03m# calls in the traceback and some print out the last line\u001B[39;00m\n\u001B[1;32m--> 266\u001B[0m \u001B[43mVariable\u001B[49m\u001B[38;5;241;43m.\u001B[39;49m\u001B[43m_execution_engine\u001B[49m\u001B[38;5;241;43m.\u001B[39;49m\u001B[43mrun_backward\u001B[49m\u001B[43m(\u001B[49m\u001B[43m  \u001B[49m\u001B[38;5;66;43;03m# Calls into the C++ engine to run the backward pass\u001B[39;49;00m\n\u001B[0;32m    267\u001B[0m \u001B[43m    \u001B[49m\u001B[43mtensors\u001B[49m\u001B[43m,\u001B[49m\n\u001B[0;32m    268\u001B[0m \u001B[43m    \u001B[49m\u001B[43mgrad_tensors_\u001B[49m\u001B[43m,\u001B[49m\n\u001B[0;32m    269\u001B[0m \u001B[43m    \u001B[49m\u001B[43mretain_graph\u001B[49m\u001B[43m,\u001B[49m\n\u001B[0;32m    270\u001B[0m \u001B[43m    \u001B[49m\u001B[43mcreate_graph\u001B[49m\u001B[43m,\u001B[49m\n\u001B[0;32m    271\u001B[0m \u001B[43m    \u001B[49m\u001B[43minputs\u001B[49m\u001B[43m,\u001B[49m\n\u001B[0;32m    272\u001B[0m \u001B[43m    \u001B[49m\u001B[43mallow_unreachable\u001B[49m\u001B[38;5;241;43m=\u001B[39;49m\u001B[38;5;28;43;01mTrue\u001B[39;49;00m\u001B[43m,\u001B[49m\n\u001B[0;32m    273\u001B[0m \u001B[43m    \u001B[49m\u001B[43maccumulate_grad\u001B[49m\u001B[38;5;241;43m=\u001B[39;49m\u001B[38;5;28;43;01mTrue\u001B[39;49;00m\u001B[43m,\u001B[49m\n\u001B[0;32m    274\u001B[0m \u001B[43m\u001B[49m\u001B[43m)\u001B[49m\n",
      "\u001B[1;31mKeyboardInterrupt\u001B[0m: "
     ]
    }
   ],
   "source": [
    "run_config(sample_config)"
   ],
   "metadata": {
    "collapsed": false,
    "ExecuteTime": {
     "start_time": "2024-03-19T20:43:12.433333Z",
     "end_time": "2024-03-19T20:44:21.993395Z"
    }
   }
  },
  {
   "cell_type": "markdown",
   "source": [
    "# Importing and exporting configs"
   ],
   "metadata": {
    "collapsed": false
   }
  },
  {
   "cell_type": "code",
   "execution_count": 10,
   "outputs": [],
   "source": [
    "export_as(sample_config, \"config1.json\", save_type='json')"
   ],
   "metadata": {
    "collapsed": false,
    "ExecuteTime": {
     "start_time": "2024-03-08T15:41:02.803091Z",
     "end_time": "2024-03-08T15:41:02.809090Z"
    }
   }
  },
  {
   "cell_type": "code",
   "execution_count": 11,
   "outputs": [],
   "source": [
    "export_as(sample_config, \"config1.yaml\", save_type='yaml')"
   ],
   "metadata": {
    "collapsed": false,
    "ExecuteTime": {
     "start_time": "2024-03-08T15:41:17.961670Z",
     "end_time": "2024-03-08T15:41:17.986154Z"
    }
   }
  },
  {
   "cell_type": "code",
   "execution_count": 12,
   "outputs": [],
   "source": [
    "export_as(sample_config2, \"config2.json\", save_type='json')"
   ],
   "metadata": {
    "collapsed": false,
    "ExecuteTime": {
     "start_time": "2024-03-08T15:41:28.195270Z",
     "end_time": "2024-03-08T15:41:28.203267Z"
    }
   }
  },
  {
   "cell_type": "code",
   "execution_count": 13,
   "outputs": [],
   "source": [
    "export_as(sample_config2, \"config2.yaml\", save_type='yaml')"
   ],
   "metadata": {
    "collapsed": false,
    "ExecuteTime": {
     "start_time": "2024-03-08T15:41:36.880537Z",
     "end_time": "2024-03-08T15:41:36.892537Z"
    }
   }
  },
  {
   "cell_type": "code",
   "execution_count": 14,
   "outputs": [
    {
     "data": {
      "text/plain": "{'data': {'dataset': {'type': 'rs', 'toast': 'browne'},\n  'loader': {'general': {'n_neighbors_in_circle': 3, 'batch_size': 3},\n   'train': {},\n   'test': {},\n   'val': {}}},\n 'model': {'mode': 'custom',\n  'hidden_dim': 128,\n  'modules': {'0': {'type': 'graph_embedding',\n    'node_type': 'linear',\n    'edge_type': 'linear'}}},\n 'optimizer': {'type': 'adam_w',\n  'base_learning_rate': 0.001,\n  'weight_decay': 1e-05},\n 'scheduler': {'type': 'cosine_with_warmup',\n  'num_warmup_epochs': 10,\n  'max_epochs': 100}}"
     },
     "execution_count": 14,
     "metadata": {},
     "output_type": "execute_result"
    }
   ],
   "source": [
    "import_as(\"config1.json\")"
   ],
   "metadata": {
    "collapsed": false,
    "ExecuteTime": {
     "start_time": "2024-03-08T15:43:18.226452Z",
     "end_time": "2024-03-08T15:43:18.241452Z"
    }
   }
  },
  {
   "cell_type": "code",
   "execution_count": 15,
   "outputs": [
    {
     "data": {
      "text/plain": "{'data': {'dataset': {'toast': 'browne', 'type': 'rs'},\n  'loader': {'general': {'batch_size': 3, 'n_neighbors_in_circle': 3},\n   'test': {},\n   'train': {},\n   'val': {}}},\n 'model': {'hidden_dim': 128,\n  'mode': 'custom',\n  'modules': {0: {'edge_type': 'linear',\n    'node_type': 'linear',\n    'type': 'graph_embedding'}}},\n 'optimizer': {'base_learning_rate': 0.001,\n  'type': 'adam_w',\n  'weight_decay': 1e-05},\n 'scheduler': {'max_epochs': 100,\n  'num_warmup_epochs': 10,\n  'type': 'cosine_with_warmup'}}"
     },
     "execution_count": 15,
     "metadata": {},
     "output_type": "execute_result"
    }
   ],
   "source": [
    "import_as(\"config1.yaml\")"
   ],
   "metadata": {
    "collapsed": false,
    "ExecuteTime": {
     "start_time": "2024-03-08T15:43:35.731329Z",
     "end_time": "2024-03-08T15:43:35.748325Z"
    }
   }
  },
  {
   "cell_type": "code",
   "execution_count": 16,
   "outputs": [
    {
     "data": {
      "text/plain": "{'data': {'dataset': {'type': 'rs'},\n  'loader': {'general': {'n_neighbors_in_circle': 3, 'batch_size': 3}}},\n 'model': {'mode': 'custom',\n  'hidden_dim': 128,\n  'modules': {'0': {'type': 'graph_embedding',\n    'node_type': 'linear',\n    'edge_type': 'linear'}}},\n 'optimizer': {'type': 'adam_w',\n  'base_learning_rate': 0.001,\n  'weight_decay': 1e-05},\n 'scheduler': {'type': 'cosine_with_warmup',\n  'num_warmup_epochs': 10,\n  'max_epochs': 100}}"
     },
     "execution_count": 16,
     "metadata": {},
     "output_type": "execute_result"
    }
   ],
   "source": [
    "import_as(\"config2.json\")"
   ],
   "metadata": {
    "collapsed": false,
    "ExecuteTime": {
     "start_time": "2024-03-08T15:43:54.299225Z",
     "end_time": "2024-03-08T15:43:54.307224Z"
    }
   }
  },
  {
   "cell_type": "code",
   "execution_count": 17,
   "outputs": [
    {
     "data": {
      "text/plain": "{'data': {'dataset': {'type': 'rs'},\n  'loader': {'general': {'batch_size': 3, 'n_neighbors_in_circle': 3}}},\n 'model': {'hidden_dim': 128,\n  'mode': 'custom',\n  'modules': {0: {'edge_type': 'linear',\n    'node_type': 'linear',\n    'type': 'graph_embedding'}}},\n 'optimizer': {'base_learning_rate': 0.001,\n  'type': 'adam_w',\n  'weight_decay': 1e-05},\n 'scheduler': {'max_epochs': 100,\n  'num_warmup_epochs': 10,\n  'type': 'cosine_with_warmup'}}"
     },
     "execution_count": 17,
     "metadata": {},
     "output_type": "execute_result"
    }
   ],
   "source": [
    "import_as(\"config2.yaml\")"
   ],
   "metadata": {
    "collapsed": false,
    "ExecuteTime": {
     "start_time": "2024-03-08T15:44:05.211664Z",
     "end_time": "2024-03-08T15:44:05.267185Z"
    }
   }
  },
  {
   "cell_type": "code",
   "execution_count": null,
   "outputs": [],
   "source": [],
   "metadata": {
    "collapsed": false
   }
  }
 ],
 "metadata": {
  "kernelspec": {
   "display_name": "Python 3",
   "language": "python",
   "name": "python3"
  },
  "language_info": {
   "codemirror_mode": {
    "name": "ipython",
    "version": 2
   },
   "file_extension": ".py",
   "mimetype": "text/x-python",
   "name": "python",
   "nbconvert_exporter": "python",
   "pygments_lexer": "ipython2",
   "version": "2.7.6"
  }
 },
 "nbformat": 4,
 "nbformat_minor": 0
}
