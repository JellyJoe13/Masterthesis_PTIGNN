{
 "cells": [
  {
   "cell_type": "markdown",
   "source": [
    "# Permutation trees"
   ],
   "metadata": {
    "collapsed": false
   }
  },
  {
   "cell_type": "markdown",
   "source": [
    "## Permutation tree representation v1"
   ],
   "metadata": {
    "collapsed": false
   }
  },
  {
   "cell_type": "code",
   "execution_count": 1,
   "metadata": {
    "collapsed": true,
    "ExecuteTime": {
     "start_time": "2024-03-15T13:11:44.353397Z",
     "end_time": "2024-03-15T13:11:48.351793Z"
    }
   },
   "outputs": [],
   "source": [
    "import torch\n",
    "import torch_geometric as pyg"
   ]
  },
  {
   "cell_type": "code",
   "execution_count": 2,
   "outputs": [
    {
     "data": {
      "text/plain": "tensor([1, 2, 3])"
     },
     "execution_count": 2,
     "metadata": {},
     "output_type": "execute_result"
    }
   ],
   "source": [
    "torch.tensor([1,2,3])"
   ],
   "metadata": {
    "collapsed": false,
    "ExecuteTime": {
     "start_time": "2024-03-15T13:11:48.355831Z",
     "end_time": "2024-03-15T13:11:48.363829Z"
    }
   }
  },
  {
   "cell_type": "code",
   "execution_count": 3,
   "outputs": [
    {
     "name": "stdout",
     "output_type": "stream",
     "text": [
      "Data(x=[2, 3], edge_index=[2, 1], tree='hello')\n",
      "tensor([[1, 2, 3],\n",
      "        [4, 5, 6]])\n",
      "hello\n",
      "Data(x=[2, 3], edge_index=[2, 1], tree='hello')\n",
      "tensor([[1, 2, 3],\n",
      "        [4, 5, 6]], device='cuda:0')\n",
      "hello\n"
     ]
    }
   ],
   "source": [
    "t1 = pyg.data.Data(x=torch.tensor([[1,2,3],[4,5,6]]), edge_index=torch.tensor([[0], [1]]), tree=\"hello\")\n",
    "print(t1)\n",
    "print(t1.x)\n",
    "print(t1.tree)\n",
    "t1 = t1.to('cuda')\n",
    "print(t1)\n",
    "print(t1.x)\n",
    "print(t1.tree)"
   ],
   "metadata": {
    "collapsed": false,
    "ExecuteTime": {
     "start_time": "2024-03-15T13:12:03.606052Z",
     "end_time": "2024-03-15T13:12:03.766179Z"
    }
   }
  },
  {
   "cell_type": "code",
   "execution_count": 4,
   "outputs": [
    {
     "data": {
      "text/plain": "DataBatch(x=[6, 3], edge_index=[2, 3], tree=[3], batch=[6], ptr=[4])"
     },
     "execution_count": 4,
     "metadata": {},
     "output_type": "execute_result"
    }
   ],
   "source": [
    "b1 = pyg.data.Batch.from_data_list([t1, t1, t1])\n",
    "b1"
   ],
   "metadata": {
    "collapsed": false,
    "ExecuteTime": {
     "start_time": "2024-03-15T13:12:04.650729Z",
     "end_time": "2024-03-15T13:12:04.715729Z"
    }
   }
  },
  {
   "cell_type": "code",
   "execution_count": 5,
   "outputs": [
    {
     "name": "stdout",
     "output_type": "stream",
     "text": [
      "['hello', 'hello', 'hello']\n",
      "tensor([[1, 2, 3],\n",
      "        [4, 5, 6],\n",
      "        [1, 2, 3],\n",
      "        [4, 5, 6],\n",
      "        [1, 2, 3],\n",
      "        [4, 5, 6]], device='cuda:0')\n"
     ]
    }
   ],
   "source": [
    "print(b1.tree)\n",
    "print(b1.x)"
   ],
   "metadata": {
    "collapsed": false,
    "ExecuteTime": {
     "start_time": "2024-03-15T13:12:05.345967Z",
     "end_time": "2024-03-15T13:12:05.377967Z"
    }
   }
  },
  {
   "cell_type": "markdown",
   "source": [
    "## Creation of custom permutation trees"
   ],
   "metadata": {
    "collapsed": false
   }
  },
  {
   "cell_type": "code",
   "execution_count": 11,
   "outputs": [],
   "source": [
    "from ptgnn.dataset import RSDataset\n",
    "ds_config = {\n",
    "    'type' : \"rs\",\n",
    "    'mask_chiral_tags': True,\n",
    "    'transformation_mode': 'default',\n",
    "}\n",
    "rs_val = RSDataset(\n",
    "    split='val',\n",
    "    **ds_config,\n",
    ")"
   ],
   "metadata": {
    "collapsed": false,
    "ExecuteTime": {
     "start_time": "2024-03-15T13:28:55.148462Z",
     "end_time": "2024-03-15T13:28:59.780240Z"
    }
   }
  },
  {
   "cell_type": "code",
   "execution_count": 13,
   "outputs": [
    {
     "data": {
      "text/plain": "Data(x=[72, 118], edge_index=[2, 192], edge_attr=[192, 80], pos=[72, 6], parallel_node_index=[72], circle_index=[72], y=[1])"
     },
     "metadata": {},
     "output_type": "display_data"
    }
   ],
   "source": [
    "for data in rs_val:\n",
    "    display(data)\n",
    "    break"
   ],
   "metadata": {
    "collapsed": false,
    "ExecuteTime": {
     "start_time": "2024-03-15T13:29:31.588734Z",
     "end_time": "2024-03-15T13:29:31.604855Z"
    }
   }
  },
  {
   "cell_type": "code",
   "execution_count": 28,
   "outputs": [],
   "source": [
    "from typing import List\n",
    "import json\n",
    "\n",
    "\n",
    "def _circle_index_to_primordial_tree(circle_index: List[int], parallel_node: int, self_node: int):\n",
    "    # if nothing in the circular index return empty string\n",
    "    if len(circle_index) == 0:\n",
    "        return json.dumps({\"P\": [int(parallel_node)]})\n",
    "    else:\n",
    "        # not including parallel node index\n",
    "        # return f\"Z{[i for i in circle_index]}\"\n",
    "\n",
    "        # including parallel node index\n",
    "        # return f\"P[{parallel_node}, Z{[i for i in circle_index]}]\"\n",
    "        return json.dumps({\n",
    "            \"S\": [\n",
    "                int(self_node),\n",
    "                int(parallel_node),\n",
    "                {\n",
    "                    \"Z\": [int(i) for i in circle_index]\n",
    "                }\n",
    "            ]\n",
    "        })"
   ],
   "metadata": {
    "collapsed": false,
    "ExecuteTime": {
     "start_time": "2024-03-15T13:38:56.756850Z",
     "end_time": "2024-03-15T13:38:56.762850Z"
    }
   }
  },
  {
   "cell_type": "code",
   "execution_count": 29,
   "outputs": [],
   "source": [
    "ptree = [\n",
    "    _circle_index_to_primordial_tree(circle_index, parallel_node, idx)\n",
    "    for idx, (circle_index, parallel_node) in enumerate(zip(data.circle_index, data.parallel_node_index))\n",
    "]"
   ],
   "metadata": {
    "collapsed": false,
    "ExecuteTime": {
     "start_time": "2024-03-15T13:38:57.194319Z",
     "end_time": "2024-03-15T13:38:57.202319Z"
    }
   }
  },
  {
   "cell_type": "code",
   "execution_count": 30,
   "outputs": [
    {
     "data": {
      "text/plain": "['{\"P\": [1]}',\n '{\"S\": [1, 0, {\"Z\": [3, 5, 7]}]}',\n '{\"S\": [2, 3, {\"Z\": [0, 7, 5]}]}',\n '{\"S\": [3, 2, {\"Z\": [9, 11]}]}',\n '{\"S\": [4, 5, {\"Z\": [0, 3, 7]}]}',\n '{\"S\": [5, 4, {\"Z\": [53, 55]}]}',\n '{\"S\": [6, 7, {\"Z\": [0, 5, 3]}]}',\n '{\"S\": [7, 6, {\"Z\": [64, 69, 71]}]}',\n '{\"S\": [8, 9, {\"Z\": [2, 11]}]}',\n '{\"S\": [9, 8, {\"Z\": [13, 15]}]}',\n '{\"S\": [10, 11, {\"Z\": [2, 9]}]}',\n '{\"S\": [11, 10, {\"Z\": [26, 51]}]}',\n '{\"S\": [12, 13, {\"Z\": [8, 15]}]}',\n '{\"S\": [13, 12, {\"Z\": [17, 19]}]}',\n '{\"S\": [14, 15, {\"Z\": [8, 13]}]}',\n '{\"P\": [14]}',\n '{\"S\": [16, 17, {\"Z\": [12, 19]}]}',\n '{\"S\": [17, 16, {\"Z\": [21, 23]}]}',\n '{\"S\": [18, 19, {\"Z\": [12, 17]}]}',\n '{\"P\": [18]}',\n '{\"S\": [20, 21, {\"Z\": [16, 23]}]}',\n '{\"S\": [21, 20, {\"Z\": [25, 27]}]}',\n '{\"S\": [22, 23, {\"Z\": [16, 21]}]}',\n '{\"P\": [22]}',\n '{\"S\": [24, 25, {\"Z\": [20, 27]}]}',\n '{\"S\": [25, 24, {\"Z\": [29, 31]}]}',\n '{\"S\": [26, 27, {\"Z\": [20, 25]}]}',\n '{\"S\": [27, 26, {\"Z\": [10, 51]}]}',\n '{\"S\": [28, 29, {\"Z\": [24, 31]}]}',\n '{\"S\": [29, 28, {\"Z\": [33, 35]}]}',\n '{\"S\": [30, 31, {\"Z\": [24, 29]}]}',\n '{\"S\": [31, 30, {\"Z\": [44, 49]}]}',\n '{\"S\": [32, 33, {\"Z\": [28, 35]}]}',\n '{\"S\": [33, 32, {\"Z\": [37, 39]}]}',\n '{\"S\": [34, 35, {\"Z\": [28, 33]}]}',\n '{\"P\": [34]}',\n '{\"S\": [36, 37, {\"Z\": [32, 39]}]}',\n '{\"S\": [37, 36, {\"Z\": [41, 43]}]}',\n '{\"S\": [38, 39, {\"Z\": [32, 37]}]}',\n '{\"P\": [38]}',\n '{\"S\": [40, 41, {\"Z\": [36, 43]}]}',\n '{\"S\": [41, 40, {\"Z\": [45, 47]}]}',\n '{\"S\": [42, 43, {\"Z\": [36, 41]}]}',\n '{\"P\": [42]}',\n '{\"S\": [44, 45, {\"Z\": [40, 47]}]}',\n '{\"S\": [45, 44, {\"Z\": [30, 49]}]}',\n '{\"S\": [46, 47, {\"Z\": [40, 45]}]}',\n '{\"P\": [46]}',\n '{\"S\": [48, 49, {\"Z\": [30, 44]}]}',\n '{\"P\": [48]}',\n '{\"S\": [50, 51, {\"Z\": [10, 26]}]}',\n '{\"P\": [50]}',\n '{\"S\": [52, 53, {\"Z\": [4, 55]}]}',\n '{\"S\": [53, 52, {\"Z\": [57, 59]}]}',\n '{\"S\": [54, 55, {\"Z\": [4, 53]}]}',\n '{\"P\": [54]}',\n '{\"S\": [56, 57, {\"Z\": [52, 59]}]}',\n '{\"S\": [57, 56, {\"Z\": [61, 63]}]}',\n '{\"S\": [58, 59, {\"Z\": [52, 57]}]}',\n '{\"P\": [58]}',\n '{\"S\": [60, 61, {\"Z\": [56, 63]}]}',\n '{\"S\": [61, 60, {\"Z\": [65, 67]}]}',\n '{\"S\": [62, 63, {\"Z\": [56, 61]}]}',\n '{\"P\": [62]}',\n '{\"S\": [64, 65, {\"Z\": [60, 67]}]}',\n '{\"S\": [65, 64, {\"Z\": [6, 71, 69]}]}',\n '{\"S\": [66, 67, {\"Z\": [60, 65]}]}',\n '{\"P\": [66]}',\n '{\"S\": [68, 69, {\"Z\": [6, 64, 71]}]}',\n '{\"P\": [68]}',\n '{\"S\": [70, 71, {\"Z\": [6, 69, 64]}]}',\n '{\"P\": [70]}']"
     },
     "metadata": {},
     "output_type": "display_data"
    }
   ],
   "source": [
    "display(ptree)"
   ],
   "metadata": {
    "collapsed": false,
    "ExecuteTime": {
     "start_time": "2024-03-15T13:38:57.535497Z",
     "end_time": "2024-03-15T13:38:57.551208Z"
    }
   }
  },
  {
   "cell_type": "markdown",
   "source": [
    "## write custom edge graph transformation"
   ],
   "metadata": {
    "collapsed": false
   }
  },
  {
   "cell_type": "code",
   "execution_count": 31,
   "outputs": [
    {
     "name": "stderr",
     "output_type": "stream",
     "text": [
      "Processing...\n",
      "11748it [01:20, 146.37it/s]\n",
      "Done!\n"
     ]
    }
   ],
   "source": [
    "# load vertex graph\n",
    "rs = RSDataset(\n",
    "    split='val',\n",
    "    graph_mode='vertex'\n",
    ")"
   ],
   "metadata": {
    "collapsed": false,
    "ExecuteTime": {
     "start_time": "2024-03-15T13:47:43.985880Z",
     "end_time": "2024-03-15T13:49:06.910362Z"
    }
   }
  },
  {
   "cell_type": "code",
   "execution_count": 58,
   "outputs": [
    {
     "data": {
      "text/plain": "Data(x=[34, 52], edge_index=[2, 72], edge_attr=[72, 14], pos=[34, 3], bond_distances=[36], bond_distance_index=[2, 36], bond_angles=[60], bond_angle_index=[3, 60], dihedral_angles=[91], dihedral_angle_index=[4, 91], y=[1])"
     },
     "metadata": {},
     "output_type": "display_data"
    }
   ],
   "source": [
    "for data in rs:\n",
    "    display(data)\n",
    "    break"
   ],
   "metadata": {
    "collapsed": false,
    "ExecuteTime": {
     "start_time": "2024-03-15T14:33:26.788843Z",
     "end_time": "2024-03-15T14:33:26.803350Z"
    }
   }
  },
  {
   "cell_type": "code",
   "execution_count": 67,
   "outputs": [],
   "source": [
    "import torch_geometric\n",
    "from collections import defaultdict\n",
    "from ptgnn.transform.edge_graph.chienn.get_circle_index import get_circle_index"
   ],
   "metadata": {
    "collapsed": false,
    "ExecuteTime": {
     "start_time": "2024-03-15T14:47:58.607069Z",
     "end_time": "2024-03-15T14:47:58.618069Z"
    }
   }
  },
  {
   "cell_type": "code",
   "execution_count": 60,
   "outputs": [],
   "source": [
    "# make sure that edges are undirected (in chemical context necessary)\n",
    "if torch_geometric.utils.is_undirected(data.edge_index):\n",
    "    edge_index, edge_attr = data.edge_index, data.edge_attr\n",
    "else:\n",
    "    edge_index, edge_attr = torch_geometric.utils.to_undirected(\n",
    "        edge_index=data.edge_index,\n",
    "        edge_attr=data.edge_attr\n",
    "    )"
   ],
   "metadata": {
    "collapsed": false,
    "ExecuteTime": {
     "start_time": "2024-03-15T14:33:27.780398Z",
     "end_time": "2024-03-15T14:33:27.800911Z"
    }
   }
  },
  {
   "cell_type": "code",
   "execution_count": 61,
   "outputs": [],
   "source": [
    "# create the new nodes\n",
    "node_storage = []\n",
    "node_mapping = {}\n",
    "for (a,b), edge_attr in zip(edge_index.T.tolist(), edge_attr):\n",
    "    # create the embedding for the new node\n",
    "    embedding_a2b = torch.cat([\n",
    "        data.x[a],\n",
    "        edge_attr,\n",
    "        data.x[b]\n",
    "    ])  # x_{i, j} = x'_i | e'_{i, j} | x'_j.\n",
    "\n",
    "    # create the new position\n",
    "    pos = torch.cat([data.pos[a], data.pos[b]])\n",
    "\n",
    "    # todo: add only one if duplicate edges/nodes are required\n",
    "    #   find solution for problem of embedding. either don't care and take one direction or sum up?\n",
    "    # add to the storages\n",
    "    node_mapping[(a, b)] = len(node_storage)\n",
    "    node_storage.append({\n",
    "        'a': a,\n",
    "        'b': b,\n",
    "        'a_attr': data.x[a],\n",
    "        'node_attr': embedding_a2b,\n",
    "        'old_edge_attr': edge_attr,\n",
    "        'pos': pos\n",
    "    })"
   ],
   "metadata": {
    "collapsed": false,
    "ExecuteTime": {
     "start_time": "2024-03-15T14:33:28.386486Z",
     "end_time": "2024-03-15T14:33:28.396486Z"
    }
   }
  },
  {
   "cell_type": "code",
   "execution_count": 63,
   "outputs": [],
   "source": [
    "# create dictionary for ingoing nodes (helper for later)\n",
    "in_nodes = defaultdict(list)\n",
    "\n",
    "# iterate over new nodes\n",
    "for i, node_dict in enumerate(node_storage):\n",
    "    # unpack edge source and target\n",
    "    a, b = node_dict['a'], node_dict['b']\n",
    "\n",
    "    # add source to each target\n",
    "    in_nodes[b].append({'node_idx': i, 'start_node_idx': a})"
   ],
   "metadata": {
    "collapsed": false,
    "ExecuteTime": {
     "start_time": "2024-03-15T14:34:31.850575Z",
     "end_time": "2024-03-15T14:34:31.864576Z"
    }
   }
  },
  {
   "cell_type": "code",
   "execution_count": 64,
   "outputs": [],
   "source": [
    "# create new edges\n",
    "new_edges = []\n",
    "\n",
    "# iterate over new nodes\n",
    "for i, node_dict in enumerate(node_storage):\n",
    "\n",
    "    # unpack source and target\n",
    "    a, b = node_dict['a'], node_dict['b']\n",
    "\n",
    "    # get the edge embeddings (former node embedding)\n",
    "    ab_old_edge_attr = node_dict['old_edge_attr']\n",
    "\n",
    "    # get the attributes of the source node\n",
    "    a_attr = node_dict['a_attr']\n",
    "\n",
    "    # get the indices ingoing to a\n",
    "    a_in_nodes_indices = [d['node_idx'] for d in in_nodes[a]]\n",
    "\n",
    "    # iterate over them\n",
    "    for in_node_c in a_in_nodes_indices:\n",
    "        # fetch the current ingoing node\n",
    "        in_node = node_storage[in_node_c]\n",
    "        # ... and extract the node embedding\n",
    "        ca_old_edge_attr = in_node['old_edge_attr']\n",
    "\n",
    "        # e_{(i, j), (j, k)} = e'_(i, j) | x'_j | e'_{k, j}:\n",
    "        edge_attr = torch.cat([ca_old_edge_attr, a_attr, ab_old_edge_attr])\n",
    "        new_edges.append({'edge': [in_node_c, i], 'edge_attr': edge_attr})"
   ],
   "metadata": {
    "collapsed": false,
    "ExecuteTime": {
     "start_time": "2024-03-15T14:47:37.986931Z",
     "end_time": "2024-03-15T14:47:38.006357Z"
    }
   }
  },
  {
   "cell_type": "code",
   "execution_count": 65,
   "outputs": [],
   "source": [
    "parallel_node_index = []\n",
    "for node_dict in node_storage:\n",
    "    a, b = node_dict['a'], node_dict['b']\n",
    "    parallel_idx = node_mapping[(b, a)]\n",
    "    parallel_node_index.append(parallel_idx)"
   ],
   "metadata": {
    "collapsed": false,
    "ExecuteTime": {
     "start_time": "2024-03-15T14:47:38.371878Z",
     "end_time": "2024-03-15T14:47:38.383878Z"
    }
   }
  },
  {
   "cell_type": "code",
   "execution_count": 66,
   "outputs": [],
   "source": [
    "new_x = [d['node_attr'] for d in node_storage]\n",
    "new_pos = [d['pos'] for d in node_storage]\n",
    "new_edge_index = [d['edge'] for d in new_edges]\n",
    "new_edge_attr = [d['edge_attr'] for d in new_edges]\n",
    "new_x = torch.stack(new_x)\n",
    "new_pos = torch.stack(new_pos)\n",
    "new_edge_index = torch.tensor(new_edge_index).T\n",
    "new_edge_attr = torch.stack(new_edge_attr)\n",
    "parallel_node_index = torch.tensor(parallel_node_index)"
   ],
   "metadata": {
    "collapsed": false,
    "ExecuteTime": {
     "start_time": "2024-03-15T14:47:41.687438Z",
     "end_time": "2024-03-15T14:47:41.710437Z"
    }
   }
  },
  {
   "cell_type": "code",
   "execution_count": 68,
   "outputs": [],
   "source": [
    "data = torch_geometric.data.Data(x=new_x, edge_index=new_edge_index, edge_attr=new_edge_attr, pos=new_pos)\n",
    "data.parallel_node_index = parallel_node_index\n",
    "data.circle_index = get_circle_index(data, clockwise=False)"
   ],
   "metadata": {
    "collapsed": false,
    "ExecuteTime": {
     "start_time": "2024-03-15T14:48:04.132282Z",
     "end_time": "2024-03-15T14:48:04.158280Z"
    }
   }
  },
  {
   "cell_type": "code",
   "execution_count": 69,
   "outputs": [
    {
     "data": {
      "text/plain": "{(0, 1): 0,\n (1, 0): 1,\n (1, 2): 2,\n (2, 1): 3,\n (1, 14): 4,\n (14, 1): 5,\n (1, 18): 6,\n (18, 1): 7,\n (2, 3): 8,\n (3, 2): 9,\n (2, 13): 10,\n (13, 2): 11,\n (3, 4): 12,\n (4, 3): 13,\n (3, 19): 14,\n (19, 3): 15,\n (4, 5): 16,\n (5, 4): 17,\n (4, 20): 18,\n (20, 4): 19,\n (5, 6): 20,\n (6, 5): 21,\n (5, 21): 22,\n (21, 5): 23,\n (6, 7): 24,\n (7, 6): 25,\n (6, 13): 26,\n (13, 6): 27,\n (7, 8): 28,\n (8, 7): 29,\n (7, 12): 30,\n (12, 7): 31,\n (8, 9): 32,\n (9, 8): 33,\n (8, 22): 34,\n (22, 8): 35,\n (9, 10): 36,\n (10, 9): 37,\n (9, 23): 38,\n (23, 9): 39,\n (10, 11): 40,\n (11, 10): 41,\n (10, 24): 42,\n (24, 10): 43,\n (11, 12): 44,\n (12, 11): 45,\n (11, 25): 46,\n (25, 11): 47,\n (12, 26): 48,\n (26, 12): 49,\n (13, 27): 50,\n (27, 13): 51,\n (14, 15): 52,\n (15, 14): 53,\n (14, 28): 54,\n (28, 14): 55,\n (15, 16): 56,\n (16, 15): 57,\n (15, 29): 58,\n (29, 15): 59,\n (16, 17): 60,\n (17, 16): 61,\n (16, 30): 62,\n (30, 16): 63,\n (17, 18): 64,\n (18, 17): 65,\n (17, 31): 66,\n (31, 17): 67,\n (18, 32): 68,\n (32, 18): 69,\n (18, 33): 70,\n (33, 18): 71}"
     },
     "metadata": {},
     "output_type": "display_data"
    }
   ],
   "source": [
    "display(node_mapping)"
   ],
   "metadata": {
    "collapsed": false,
    "ExecuteTime": {
     "start_time": "2024-03-15T14:48:33.877742Z",
     "end_time": "2024-03-15T14:48:33.891745Z"
    }
   }
  },
  {
   "cell_type": "code",
   "execution_count": null,
   "outputs": [],
   "source": [],
   "metadata": {
    "collapsed": false
   }
  }
 ],
 "metadata": {
  "kernelspec": {
   "display_name": "Python 3",
   "language": "python",
   "name": "python3"
  },
  "language_info": {
   "codemirror_mode": {
    "name": "ipython",
    "version": 2
   },
   "file_extension": ".py",
   "mimetype": "text/x-python",
   "name": "python",
   "nbconvert_exporter": "python",
   "pygments_lexer": "ipython2",
   "version": "2.7.6"
  }
 },
 "nbformat": 4,
 "nbformat_minor": 0
}
