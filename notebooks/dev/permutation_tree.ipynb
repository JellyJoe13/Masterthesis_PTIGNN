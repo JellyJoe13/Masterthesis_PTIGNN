{
 "cells": [
  {
   "cell_type": "markdown",
   "source": [
    "# Permutation trees"
   ],
   "metadata": {
    "collapsed": false
   }
  },
  {
   "cell_type": "markdown",
   "source": [
    "## Permutation tree representation v1"
   ],
   "metadata": {
    "collapsed": false
   }
  },
  {
   "cell_type": "code",
   "execution_count": 1,
   "metadata": {
    "collapsed": true,
    "ExecuteTime": {
     "start_time": "2024-03-15T13:11:44.353397Z",
     "end_time": "2024-03-15T13:11:48.351793Z"
    }
   },
   "outputs": [],
   "source": [
    "import torch\n",
    "import torch_geometric as pyg"
   ]
  },
  {
   "cell_type": "code",
   "execution_count": 2,
   "outputs": [
    {
     "data": {
      "text/plain": "tensor([1, 2, 3])"
     },
     "execution_count": 2,
     "metadata": {},
     "output_type": "execute_result"
    }
   ],
   "source": [
    "torch.tensor([1,2,3])"
   ],
   "metadata": {
    "collapsed": false,
    "ExecuteTime": {
     "start_time": "2024-03-15T13:11:48.355831Z",
     "end_time": "2024-03-15T13:11:48.363829Z"
    }
   }
  },
  {
   "cell_type": "code",
   "execution_count": 3,
   "outputs": [
    {
     "name": "stdout",
     "output_type": "stream",
     "text": [
      "Data(x=[2, 3], edge_index=[2, 1], tree='hello')\n",
      "tensor([[1, 2, 3],\n",
      "        [4, 5, 6]])\n",
      "hello\n",
      "Data(x=[2, 3], edge_index=[2, 1], tree='hello')\n",
      "tensor([[1, 2, 3],\n",
      "        [4, 5, 6]], device='cuda:0')\n",
      "hello\n"
     ]
    }
   ],
   "source": [
    "t1 = pyg.data.Data(x=torch.tensor([[1,2,3],[4,5,6]]), edge_index=torch.tensor([[0], [1]]), tree=\"hello\")\n",
    "print(t1)\n",
    "print(t1.x)\n",
    "print(t1.tree)\n",
    "t1 = t1.to('cuda')\n",
    "print(t1)\n",
    "print(t1.x)\n",
    "print(t1.tree)"
   ],
   "metadata": {
    "collapsed": false,
    "ExecuteTime": {
     "start_time": "2024-03-15T13:12:03.606052Z",
     "end_time": "2024-03-15T13:12:03.766179Z"
    }
   }
  },
  {
   "cell_type": "code",
   "execution_count": 4,
   "outputs": [
    {
     "data": {
      "text/plain": "DataBatch(x=[6, 3], edge_index=[2, 3], tree=[3], batch=[6], ptr=[4])"
     },
     "execution_count": 4,
     "metadata": {},
     "output_type": "execute_result"
    }
   ],
   "source": [
    "b1 = pyg.data.Batch.from_data_list([t1, t1, t1])\n",
    "b1"
   ],
   "metadata": {
    "collapsed": false,
    "ExecuteTime": {
     "start_time": "2024-03-15T13:12:04.650729Z",
     "end_time": "2024-03-15T13:12:04.715729Z"
    }
   }
  },
  {
   "cell_type": "code",
   "execution_count": 5,
   "outputs": [
    {
     "name": "stdout",
     "output_type": "stream",
     "text": [
      "['hello', 'hello', 'hello']\n",
      "tensor([[1, 2, 3],\n",
      "        [4, 5, 6],\n",
      "        [1, 2, 3],\n",
      "        [4, 5, 6],\n",
      "        [1, 2, 3],\n",
      "        [4, 5, 6]], device='cuda:0')\n"
     ]
    }
   ],
   "source": [
    "print(b1.tree)\n",
    "print(b1.x)"
   ],
   "metadata": {
    "collapsed": false,
    "ExecuteTime": {
     "start_time": "2024-03-15T13:12:05.345967Z",
     "end_time": "2024-03-15T13:12:05.377967Z"
    }
   }
  },
  {
   "cell_type": "markdown",
   "source": [
    "## Creation of custom permutation trees"
   ],
   "metadata": {
    "collapsed": false
   }
  },
  {
   "cell_type": "code",
   "execution_count": 11,
   "outputs": [],
   "source": [
    "from ptgnn.dataset import RSDataset\n",
    "ds_config = {\n",
    "    'type' : \"rs\",\n",
    "    'mask_chiral_tags': True,\n",
    "    'transformation_mode': 'default',\n",
    "}\n",
    "rs_val = RSDataset(\n",
    "    split='val',\n",
    "    **ds_config,\n",
    ")"
   ],
   "metadata": {
    "collapsed": false,
    "ExecuteTime": {
     "start_time": "2024-03-15T13:28:55.148462Z",
     "end_time": "2024-03-15T13:28:59.780240Z"
    }
   }
  },
  {
   "cell_type": "code",
   "execution_count": 13,
   "outputs": [
    {
     "data": {
      "text/plain": "Data(x=[72, 118], edge_index=[2, 192], edge_attr=[192, 80], pos=[72, 6], parallel_node_index=[72], circle_index=[72], y=[1])"
     },
     "metadata": {},
     "output_type": "display_data"
    }
   ],
   "source": [
    "for data in rs_val:\n",
    "    display(data)\n",
    "    break"
   ],
   "metadata": {
    "collapsed": false,
    "ExecuteTime": {
     "start_time": "2024-03-15T13:29:31.588734Z",
     "end_time": "2024-03-15T13:29:31.604855Z"
    }
   }
  },
  {
   "cell_type": "code",
   "execution_count": 28,
   "outputs": [],
   "source": [
    "from typing import List\n",
    "import json\n",
    "\n",
    "\n",
    "def _circle_index_to_primordial_tree(circle_index: List[int], parallel_node: int, self_node: int):\n",
    "    # if nothing in the circular index return empty string\n",
    "    if len(circle_index) == 0:\n",
    "        return json.dumps({\"P\": [int(parallel_node)]})\n",
    "    else:\n",
    "        # not including parallel node index\n",
    "        # return f\"Z{[i for i in circle_index]}\"\n",
    "\n",
    "        # including parallel node index\n",
    "        # return f\"P[{parallel_node}, Z{[i for i in circle_index]}]\"\n",
    "        return json.dumps({\n",
    "            \"S\": [\n",
    "                int(self_node),\n",
    "                int(parallel_node),\n",
    "                {\n",
    "                    \"Z\": [int(i) for i in circle_index]\n",
    "                }\n",
    "            ]\n",
    "        })"
   ],
   "metadata": {
    "collapsed": false,
    "ExecuteTime": {
     "start_time": "2024-03-15T13:38:56.756850Z",
     "end_time": "2024-03-15T13:38:56.762850Z"
    }
   }
  },
  {
   "cell_type": "code",
   "execution_count": 29,
   "outputs": [],
   "source": [
    "ptree = [\n",
    "    _circle_index_to_primordial_tree(circle_index, parallel_node, idx)\n",
    "    for idx, (circle_index, parallel_node) in enumerate(zip(data.circle_index, data.parallel_node_index))\n",
    "]"
   ],
   "metadata": {
    "collapsed": false,
    "ExecuteTime": {
     "start_time": "2024-03-15T13:38:57.194319Z",
     "end_time": "2024-03-15T13:38:57.202319Z"
    }
   }
  },
  {
   "cell_type": "code",
   "execution_count": 30,
   "outputs": [
    {
     "data": {
      "text/plain": "['{\"P\": [1]}',\n '{\"S\": [1, 0, {\"Z\": [3, 5, 7]}]}',\n '{\"S\": [2, 3, {\"Z\": [0, 7, 5]}]}',\n '{\"S\": [3, 2, {\"Z\": [9, 11]}]}',\n '{\"S\": [4, 5, {\"Z\": [0, 3, 7]}]}',\n '{\"S\": [5, 4, {\"Z\": [53, 55]}]}',\n '{\"S\": [6, 7, {\"Z\": [0, 5, 3]}]}',\n '{\"S\": [7, 6, {\"Z\": [64, 69, 71]}]}',\n '{\"S\": [8, 9, {\"Z\": [2, 11]}]}',\n '{\"S\": [9, 8, {\"Z\": [13, 15]}]}',\n '{\"S\": [10, 11, {\"Z\": [2, 9]}]}',\n '{\"S\": [11, 10, {\"Z\": [26, 51]}]}',\n '{\"S\": [12, 13, {\"Z\": [8, 15]}]}',\n '{\"S\": [13, 12, {\"Z\": [17, 19]}]}',\n '{\"S\": [14, 15, {\"Z\": [8, 13]}]}',\n '{\"P\": [14]}',\n '{\"S\": [16, 17, {\"Z\": [12, 19]}]}',\n '{\"S\": [17, 16, {\"Z\": [21, 23]}]}',\n '{\"S\": [18, 19, {\"Z\": [12, 17]}]}',\n '{\"P\": [18]}',\n '{\"S\": [20, 21, {\"Z\": [16, 23]}]}',\n '{\"S\": [21, 20, {\"Z\": [25, 27]}]}',\n '{\"S\": [22, 23, {\"Z\": [16, 21]}]}',\n '{\"P\": [22]}',\n '{\"S\": [24, 25, {\"Z\": [20, 27]}]}',\n '{\"S\": [25, 24, {\"Z\": [29, 31]}]}',\n '{\"S\": [26, 27, {\"Z\": [20, 25]}]}',\n '{\"S\": [27, 26, {\"Z\": [10, 51]}]}',\n '{\"S\": [28, 29, {\"Z\": [24, 31]}]}',\n '{\"S\": [29, 28, {\"Z\": [33, 35]}]}',\n '{\"S\": [30, 31, {\"Z\": [24, 29]}]}',\n '{\"S\": [31, 30, {\"Z\": [44, 49]}]}',\n '{\"S\": [32, 33, {\"Z\": [28, 35]}]}',\n '{\"S\": [33, 32, {\"Z\": [37, 39]}]}',\n '{\"S\": [34, 35, {\"Z\": [28, 33]}]}',\n '{\"P\": [34]}',\n '{\"S\": [36, 37, {\"Z\": [32, 39]}]}',\n '{\"S\": [37, 36, {\"Z\": [41, 43]}]}',\n '{\"S\": [38, 39, {\"Z\": [32, 37]}]}',\n '{\"P\": [38]}',\n '{\"S\": [40, 41, {\"Z\": [36, 43]}]}',\n '{\"S\": [41, 40, {\"Z\": [45, 47]}]}',\n '{\"S\": [42, 43, {\"Z\": [36, 41]}]}',\n '{\"P\": [42]}',\n '{\"S\": [44, 45, {\"Z\": [40, 47]}]}',\n '{\"S\": [45, 44, {\"Z\": [30, 49]}]}',\n '{\"S\": [46, 47, {\"Z\": [40, 45]}]}',\n '{\"P\": [46]}',\n '{\"S\": [48, 49, {\"Z\": [30, 44]}]}',\n '{\"P\": [48]}',\n '{\"S\": [50, 51, {\"Z\": [10, 26]}]}',\n '{\"P\": [50]}',\n '{\"S\": [52, 53, {\"Z\": [4, 55]}]}',\n '{\"S\": [53, 52, {\"Z\": [57, 59]}]}',\n '{\"S\": [54, 55, {\"Z\": [4, 53]}]}',\n '{\"P\": [54]}',\n '{\"S\": [56, 57, {\"Z\": [52, 59]}]}',\n '{\"S\": [57, 56, {\"Z\": [61, 63]}]}',\n '{\"S\": [58, 59, {\"Z\": [52, 57]}]}',\n '{\"P\": [58]}',\n '{\"S\": [60, 61, {\"Z\": [56, 63]}]}',\n '{\"S\": [61, 60, {\"Z\": [65, 67]}]}',\n '{\"S\": [62, 63, {\"Z\": [56, 61]}]}',\n '{\"P\": [62]}',\n '{\"S\": [64, 65, {\"Z\": [60, 67]}]}',\n '{\"S\": [65, 64, {\"Z\": [6, 71, 69]}]}',\n '{\"S\": [66, 67, {\"Z\": [60, 65]}]}',\n '{\"P\": [66]}',\n '{\"S\": [68, 69, {\"Z\": [6, 64, 71]}]}',\n '{\"P\": [68]}',\n '{\"S\": [70, 71, {\"Z\": [6, 69, 64]}]}',\n '{\"P\": [70]}']"
     },
     "metadata": {},
     "output_type": "display_data"
    }
   ],
   "source": [
    "display(ptree)"
   ],
   "metadata": {
    "collapsed": false,
    "ExecuteTime": {
     "start_time": "2024-03-15T13:38:57.535497Z",
     "end_time": "2024-03-15T13:38:57.551208Z"
    }
   }
  },
  {
   "cell_type": "code",
   "execution_count": null,
   "outputs": [],
   "source": [],
   "metadata": {
    "collapsed": false
   }
  }
 ],
 "metadata": {
  "kernelspec": {
   "display_name": "Python 3",
   "language": "python",
   "name": "python3"
  },
  "language_info": {
   "codemirror_mode": {
    "name": "ipython",
    "version": 2
   },
   "file_extension": ".py",
   "mimetype": "text/x-python",
   "name": "python",
   "nbconvert_exporter": "python",
   "pygments_lexer": "ipython2",
   "version": "2.7.6"
  }
 },
 "nbformat": 4,
 "nbformat_minor": 0
}
