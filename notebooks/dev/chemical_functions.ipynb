{
 "cells": [
  {
   "cell_type": "code",
   "execution_count": 1,
   "metadata": {
    "collapsed": true,
    "ExecuteTime": {
     "start_time": "2024-03-16T18:33:22.238364Z",
     "end_time": "2024-03-16T18:33:25.538877Z"
    }
   },
   "outputs": [],
   "source": [
    "from ptgnn.dataset import RSDataset"
   ]
  },
  {
   "cell_type": "code",
   "execution_count": 2,
   "outputs": [],
   "source": [
    "rs = RSDataset(split='val')"
   ],
   "metadata": {
    "collapsed": false,
    "ExecuteTime": {
     "start_time": "2024-03-16T18:33:25.538877Z",
     "end_time": "2024-03-16T18:33:26.697517Z"
    }
   }
  },
  {
   "cell_type": "code",
   "execution_count": 3,
   "outputs": [],
   "source": [
    "import pandas as pd\n",
    "from ptgnn.dataset.utils_chienn import get_chiro_data_from_mol\n",
    "from ptgnn.features.chienn.molecule3d import smiles_to_3d_mol"
   ],
   "metadata": {
    "collapsed": false,
    "ExecuteTime": {
     "start_time": "2024-03-16T18:33:26.698517Z",
     "end_time": "2024-03-16T18:33:26.713517Z"
    }
   }
  },
  {
   "cell_type": "code",
   "execution_count": 4,
   "outputs": [],
   "source": [
    "df = pd.read_pickle(\"src/rs/raw/train.pickle\")"
   ],
   "metadata": {
    "collapsed": false,
    "ExecuteTime": {
     "start_time": "2024-03-16T18:33:26.714517Z",
     "end_time": "2024-03-16T18:33:33.822601Z"
    }
   }
  },
  {
   "cell_type": "code",
   "execution_count": 5,
   "outputs": [
    {
     "data": {
      "text/plain": "                                                       ID  \\\n0       BrC1=C[C@@H](c2ccc(-c3ccccc3)cc2)CC(c2nc(-c3cc...   \n1       BrC1=C[C@@H](c2ccc(-c3ccccc3)cc2)CC(c2nc(-c3cc...   \n2       BrC1=C[C@@H](c2ccc(-c3ccccc3)cc2)CC(c2nc(-c3cc...   \n3       BrC1=C[C@@H](c2ccc(-c3ccccc3)cc2)CC(c2nc(-c3cc...   \n4       BrC1=C[C@@H](c2ccc(-c3ccccc3)cc2)CC(c2nc(-c3cc...   \n...                                                   ...   \n326860                         c1nnc([C@H]2CNCCO2)n1C1CC1   \n326861                         c1nnc([C@H]2CNCCO2)n1C1CC1   \n326862                         c1nnc([C@H]2CNCCO2)n1C1CC1   \n326863                         c1nnc([C@H]2CNCCO2)n1C1CC1   \n326864                         c1nnc([C@H]2CNCCO2)n1C1CC1   \n\n                                          SMILES_nostereo  \\\n0       BrC1=CC(c2ccc(-c3ccccc3)cc2)CC(c2nc(-c3ccccc3)...   \n1       BrC1=CC(c2ccc(-c3ccccc3)cc2)CC(c2nc(-c3ccccc3)...   \n2       BrC1=CC(c2ccc(-c3ccccc3)cc2)CC(c2nc(-c3ccccc3)...   \n3       BrC1=CC(c2ccc(-c3ccccc3)cc2)CC(c2nc(-c3ccccc3)...   \n4       BrC1=CC(c2ccc(-c3ccccc3)cc2)CC(c2nc(-c3ccccc3)...   \n...                                                   ...   \n326860                             c1nnc(C2CNCCO2)n1C1CC1   \n326861                             c1nnc(C2CNCCO2)n1C1CC1   \n326862                             c1nnc(C2CNCCO2)n1C1CC1   \n326863                             c1nnc(C2CNCCO2)n1C1CC1   \n326864                             c1nnc(C2CNCCO2)n1C1CC1   \n\n                                rdkit_mol_cistrans_stereo RS_label  \\\n0       <rdkit.Chem.rdchem.Mol object at 0x000002491BE...        S   \n1       <rdkit.Chem.rdchem.Mol object at 0x000002491BE...        S   \n2       <rdkit.Chem.rdchem.Mol object at 0x000002491BE...        S   \n3       <rdkit.Chem.rdchem.Mol object at 0x000002491BE...        S   \n4       <rdkit.Chem.rdchem.Mol object at 0x000002491BE...        S   \n...                                                   ...      ...   \n326860  <rdkit.Chem.rdchem.Mol object at 0x0000024A206...        R   \n326861  <rdkit.Chem.rdchem.Mol object at 0x0000024A206...        R   \n326862  <rdkit.Chem.rdchem.Mol object at 0x0000024A206...        R   \n326863  <rdkit.Chem.rdchem.Mol object at 0x0000024A206...        R   \n326864  <rdkit.Chem.rdchem.Mol object at 0x0000024A206...        R   \n\n        RS_label_binary  \n0                     1  \n1                     1  \n2                     1  \n3                     1  \n4                     1  \n...                 ...  \n326860                0  \n326861                0  \n326862                0  \n326863                0  \n326864                0  \n\n[326865 rows x 5 columns]",
      "text/html": "<div>\n<style scoped>\n    .dataframe tbody tr th:only-of-type {\n        vertical-align: middle;\n    }\n\n    .dataframe tbody tr th {\n        vertical-align: top;\n    }\n\n    .dataframe thead th {\n        text-align: right;\n    }\n</style>\n<table border=\"1\" class=\"dataframe\">\n  <thead>\n    <tr style=\"text-align: right;\">\n      <th></th>\n      <th>ID</th>\n      <th>SMILES_nostereo</th>\n      <th>rdkit_mol_cistrans_stereo</th>\n      <th>RS_label</th>\n      <th>RS_label_binary</th>\n    </tr>\n  </thead>\n  <tbody>\n    <tr>\n      <th>0</th>\n      <td>BrC1=C[C@@H](c2ccc(-c3ccccc3)cc2)CC(c2nc(-c3cc...</td>\n      <td>BrC1=CC(c2ccc(-c3ccccc3)cc2)CC(c2nc(-c3ccccc3)...</td>\n      <td>&lt;rdkit.Chem.rdchem.Mol object at 0x000002491BE...</td>\n      <td>S</td>\n      <td>1</td>\n    </tr>\n    <tr>\n      <th>1</th>\n      <td>BrC1=C[C@@H](c2ccc(-c3ccccc3)cc2)CC(c2nc(-c3cc...</td>\n      <td>BrC1=CC(c2ccc(-c3ccccc3)cc2)CC(c2nc(-c3ccccc3)...</td>\n      <td>&lt;rdkit.Chem.rdchem.Mol object at 0x000002491BE...</td>\n      <td>S</td>\n      <td>1</td>\n    </tr>\n    <tr>\n      <th>2</th>\n      <td>BrC1=C[C@@H](c2ccc(-c3ccccc3)cc2)CC(c2nc(-c3cc...</td>\n      <td>BrC1=CC(c2ccc(-c3ccccc3)cc2)CC(c2nc(-c3ccccc3)...</td>\n      <td>&lt;rdkit.Chem.rdchem.Mol object at 0x000002491BE...</td>\n      <td>S</td>\n      <td>1</td>\n    </tr>\n    <tr>\n      <th>3</th>\n      <td>BrC1=C[C@@H](c2ccc(-c3ccccc3)cc2)CC(c2nc(-c3cc...</td>\n      <td>BrC1=CC(c2ccc(-c3ccccc3)cc2)CC(c2nc(-c3ccccc3)...</td>\n      <td>&lt;rdkit.Chem.rdchem.Mol object at 0x000002491BE...</td>\n      <td>S</td>\n      <td>1</td>\n    </tr>\n    <tr>\n      <th>4</th>\n      <td>BrC1=C[C@@H](c2ccc(-c3ccccc3)cc2)CC(c2nc(-c3cc...</td>\n      <td>BrC1=CC(c2ccc(-c3ccccc3)cc2)CC(c2nc(-c3ccccc3)...</td>\n      <td>&lt;rdkit.Chem.rdchem.Mol object at 0x000002491BE...</td>\n      <td>S</td>\n      <td>1</td>\n    </tr>\n    <tr>\n      <th>...</th>\n      <td>...</td>\n      <td>...</td>\n      <td>...</td>\n      <td>...</td>\n      <td>...</td>\n    </tr>\n    <tr>\n      <th>326860</th>\n      <td>c1nnc([C@H]2CNCCO2)n1C1CC1</td>\n      <td>c1nnc(C2CNCCO2)n1C1CC1</td>\n      <td>&lt;rdkit.Chem.rdchem.Mol object at 0x0000024A206...</td>\n      <td>R</td>\n      <td>0</td>\n    </tr>\n    <tr>\n      <th>326861</th>\n      <td>c1nnc([C@H]2CNCCO2)n1C1CC1</td>\n      <td>c1nnc(C2CNCCO2)n1C1CC1</td>\n      <td>&lt;rdkit.Chem.rdchem.Mol object at 0x0000024A206...</td>\n      <td>R</td>\n      <td>0</td>\n    </tr>\n    <tr>\n      <th>326862</th>\n      <td>c1nnc([C@H]2CNCCO2)n1C1CC1</td>\n      <td>c1nnc(C2CNCCO2)n1C1CC1</td>\n      <td>&lt;rdkit.Chem.rdchem.Mol object at 0x0000024A206...</td>\n      <td>R</td>\n      <td>0</td>\n    </tr>\n    <tr>\n      <th>326863</th>\n      <td>c1nnc([C@H]2CNCCO2)n1C1CC1</td>\n      <td>c1nnc(C2CNCCO2)n1C1CC1</td>\n      <td>&lt;rdkit.Chem.rdchem.Mol object at 0x0000024A206...</td>\n      <td>R</td>\n      <td>0</td>\n    </tr>\n    <tr>\n      <th>326864</th>\n      <td>c1nnc([C@H]2CNCCO2)n1C1CC1</td>\n      <td>c1nnc(C2CNCCO2)n1C1CC1</td>\n      <td>&lt;rdkit.Chem.rdchem.Mol object at 0x0000024A206...</td>\n      <td>R</td>\n      <td>0</td>\n    </tr>\n  </tbody>\n</table>\n<p>326865 rows × 5 columns</p>\n</div>"
     },
     "metadata": {},
     "output_type": "display_data"
    }
   ],
   "source": [
    "display(df)"
   ],
   "metadata": {
    "collapsed": false,
    "ExecuteTime": {
     "start_time": "2024-03-16T18:33:33.824602Z",
     "end_time": "2024-03-16T18:33:33.838064Z"
    }
   }
  },
  {
   "cell_type": "code",
   "execution_count": 6,
   "outputs": [
    {
     "data": {
      "text/plain": "<rdkit.Chem.rdchem.Mol at 0x2495141dd60>",
      "image/png": "[encoded data removed]"
     },
     "metadata": {},
     "output_type": "display_data"
    }
   ],
   "source": [
    "# mol_example = df.rdkit_mol_cistrans_stereo.iloc[6]# 0\n",
    "mol_example = smiles_to_3d_mol(\n",
    "    df.ID.iloc[80],\n",
    "    max_number_of_attempts=100,\n",
    "    max_number_of_atoms=100\n",
    ")\n",
    "display(mol_example)"
   ],
   "metadata": {
    "collapsed": false,
    "ExecuteTime": {
     "start_time": "2024-03-16T18:33:33.838064Z",
     "end_time": "2024-03-16T18:33:33.927225Z"
    }
   }
  },
  {
   "cell_type": "code",
   "execution_count": 7,
   "outputs": [
    {
     "data": {
      "text/plain": "Data(x=[18, 52], edge_index=[2, 34], edge_attr=[34, 14], pos=[18, 3], bond_distances=[17], bond_distance_index=[2, 17], bond_angles=[30], bond_angle_index=[3, 30], dihedral_angles=[34], dihedral_angle_index=[4, 34])"
     },
     "metadata": {},
     "output_type": "display_data"
    }
   ],
   "source": [
    "data = get_chiro_data_from_mol(mol_example)\n",
    "display(data)"
   ],
   "metadata": {
    "collapsed": false,
    "ExecuteTime": {
     "start_time": "2024-03-16T18:33:33.869371Z",
     "end_time": "2024-03-16T18:33:33.927225Z"
    }
   }
  },
  {
   "cell_type": "code",
   "execution_count": 8,
   "outputs": [],
   "source": [
    "from rdkit import Chem\n",
    "from rdkit.Chem import AllChem"
   ],
   "metadata": {
    "collapsed": false,
    "ExecuteTime": {
     "start_time": "2024-03-16T18:33:33.884878Z",
     "end_time": "2024-03-16T18:33:33.959876Z"
    }
   }
  },
  {
   "cell_type": "code",
   "execution_count": 53,
   "outputs": [
    {
     "data": {
      "text/plain": "array([[0, 1, 0, 0, 0, 0, 0, 0, 0, 0, 0, 0, 0, 0, 0, 0, 0, 0],\n       [1, 0, 1, 0, 0, 0, 0, 0, 0, 1, 1, 0, 0, 0, 0, 0, 0, 0],\n       [0, 1, 0, 1, 0, 0, 0, 0, 0, 0, 0, 1, 0, 0, 0, 0, 0, 0],\n       [0, 0, 1, 0, 1, 0, 0, 0, 0, 0, 0, 0, 1, 0, 0, 0, 0, 0],\n       [0, 0, 0, 1, 0, 1, 1, 0, 0, 0, 0, 0, 0, 1, 0, 0, 0, 0],\n       [0, 0, 0, 0, 1, 0, 0, 0, 0, 0, 0, 0, 0, 0, 0, 0, 0, 0],\n       [0, 0, 0, 0, 1, 0, 0, 1, 0, 0, 0, 0, 0, 0, 1, 1, 0, 0],\n       [0, 0, 0, 0, 0, 0, 1, 0, 1, 0, 0, 0, 0, 0, 0, 0, 1, 1],\n       [0, 0, 0, 0, 0, 0, 0, 1, 0, 0, 0, 0, 0, 0, 0, 0, 0, 0],\n       [0, 1, 0, 0, 0, 0, 0, 0, 0, 0, 0, 0, 0, 0, 0, 0, 0, 0],\n       [0, 1, 0, 0, 0, 0, 0, 0, 0, 0, 0, 0, 0, 0, 0, 0, 0, 0],\n       [0, 0, 1, 0, 0, 0, 0, 0, 0, 0, 0, 0, 0, 0, 0, 0, 0, 0],\n       [0, 0, 0, 1, 0, 0, 0, 0, 0, 0, 0, 0, 0, 0, 0, 0, 0, 0],\n       [0, 0, 0, 0, 1, 0, 0, 0, 0, 0, 0, 0, 0, 0, 0, 0, 0, 0],\n       [0, 0, 0, 0, 0, 0, 1, 0, 0, 0, 0, 0, 0, 0, 0, 0, 0, 0],\n       [0, 0, 0, 0, 0, 0, 1, 0, 0, 0, 0, 0, 0, 0, 0, 0, 0, 0],\n       [0, 0, 0, 0, 0, 0, 0, 1, 0, 0, 0, 0, 0, 0, 0, 0, 0, 0],\n       [0, 0, 0, 0, 0, 0, 0, 1, 0, 0, 0, 0, 0, 0, 0, 0, 0, 0]],\n      dtype=int32)"
     },
     "execution_count": 53,
     "metadata": {},
     "output_type": "execute_result"
    }
   ],
   "source": [
    "Chem.GetAdjacencyMatrix(mol_example)"
   ],
   "metadata": {
    "collapsed": false,
    "ExecuteTime": {
     "start_time": "2024-03-16T16:42:15.168698Z",
     "end_time": "2024-03-16T16:42:15.182698Z"
    }
   }
  },
  {
   "cell_type": "code",
   "execution_count": 54,
   "outputs": [
    {
     "data": {
      "text/plain": "tensor([[ 0,  1],\n        [ 1,  0],\n        [ 1,  2],\n        [ 2,  1],\n        [ 1,  9],\n        [ 9,  1],\n        [ 1, 10],\n        [10,  1],\n        [ 2,  3],\n        [ 3,  2],\n        [ 2, 11],\n        [11,  2],\n        [ 3,  4],\n        [ 4,  3],\n        [ 3, 12],\n        [12,  3],\n        [ 4,  5],\n        [ 5,  4],\n        [ 4,  6],\n        [ 6,  4],\n        [ 4, 13],\n        [13,  4],\n        [ 6,  7],\n        [ 7,  6],\n        [ 6, 14],\n        [14,  6],\n        [ 6, 15],\n        [15,  6],\n        [ 7,  8],\n        [ 8,  7],\n        [ 7, 16],\n        [16,  7],\n        [ 7, 17],\n        [17,  7]])"
     },
     "execution_count": 54,
     "metadata": {},
     "output_type": "execute_result"
    }
   ],
   "source": [
    "data.edge_index.T"
   ],
   "metadata": {
    "collapsed": false,
    "ExecuteTime": {
     "start_time": "2024-03-16T16:42:16.014839Z",
     "end_time": "2024-03-16T16:42:16.025838Z"
    }
   }
  },
  {
   "cell_type": "code",
   "execution_count": 55,
   "outputs": [
    {
     "data": {
      "text/plain": "[(4, 'S')]"
     },
     "metadata": {},
     "output_type": "display_data"
    }
   ],
   "source": [
    "# determine stereocenters\n",
    "chiral_center_list = AllChem.FindMolChiralCenters(mol_example, includeUnassigned=True)\n",
    "display(chiral_center_list)"
   ],
   "metadata": {
    "collapsed": false,
    "ExecuteTime": {
     "start_time": "2024-03-16T16:42:22.303966Z",
     "end_time": "2024-03-16T16:42:22.326970Z"
    }
   }
  },
  {
   "cell_type": "code",
   "execution_count": 56,
   "outputs": [
    {
     "data": {
      "text/plain": "[4]"
     },
     "metadata": {},
     "output_type": "display_data"
    }
   ],
   "source": [
    "chiral_center_list = [c[0] for c in chiral_center_list]\n",
    "display(chiral_center_list)"
   ],
   "metadata": {
    "collapsed": false,
    "ExecuteTime": {
     "start_time": "2024-03-16T16:42:24.065004Z",
     "end_time": "2024-03-16T16:42:24.075003Z"
    }
   }
  },
  {
   "cell_type": "code",
   "execution_count": 57,
   "outputs": [],
   "source": [
    "node_mapping = {\n",
    "    (1,2): 0,\n",
    "    (2,3): 1,\n",
    "    (3,4): 2\n",
    "}"
   ],
   "metadata": {
    "collapsed": false,
    "ExecuteTime": {
     "start_time": "2024-03-16T16:42:24.978546Z",
     "end_time": "2024-03-16T16:42:25.005588Z"
    }
   }
  },
  {
   "cell_type": "code",
   "execution_count": 58,
   "outputs": [
    {
     "data": {
      "text/plain": "[]"
     },
     "execution_count": 58,
     "metadata": {},
     "output_type": "execute_result"
    }
   ],
   "source": [
    "[\n",
    "    idx\n",
    "    for idx, (key, value) in enumerate(node_mapping.items())\n",
    "    if key[0] in chiral_center_list\n",
    "]"
   ],
   "metadata": {
    "collapsed": false,
    "ExecuteTime": {
     "start_time": "2024-03-16T16:42:26.049527Z",
     "end_time": "2024-03-16T16:42:26.059526Z"
    }
   }
  },
  {
   "cell_type": "code",
   "execution_count": 59,
   "outputs": [
    {
     "data": {
      "text/plain": "False"
     },
     "execution_count": 59,
     "metadata": {},
     "output_type": "execute_result"
    }
   ],
   "source": [
    "(1,2) in [1,2,3,4,5]"
   ],
   "metadata": {
    "collapsed": false,
    "ExecuteTime": {
     "start_time": "2024-03-16T16:42:29.184947Z",
     "end_time": "2024-03-16T16:42:29.203947Z"
    }
   }
  },
  {
   "cell_type": "code",
   "execution_count": 60,
   "outputs": [
    {
     "data": {
      "text/plain": "Data(x=[18, 52], edge_index=[2, 34], edge_attr=[34, 14], pos=[18, 3], bond_distances=[17], bond_distance_index=[2, 17], bond_angles=[30], bond_angle_index=[3, 30], dihedral_angles=[34], dihedral_angle_index=[4, 34])"
     },
     "execution_count": 60,
     "metadata": {},
     "output_type": "execute_result"
    }
   ],
   "source": [
    "data"
   ],
   "metadata": {
    "collapsed": false,
    "ExecuteTime": {
     "start_time": "2024-03-16T16:42:29.919980Z",
     "end_time": "2024-03-16T16:42:29.938669Z"
    }
   }
  },
  {
   "cell_type": "code",
   "execution_count": 14,
   "outputs": [],
   "source": [
    "from ptgnn.transform.edge_graph.permutation_tree_selective import custom_to_edge_graph\n",
    "\n",
    "# transform to edge graph using custom function\n",
    "edge_graph, node_mapping = custom_to_edge_graph(\n",
    "    data=data,\n",
    ")"
   ],
   "metadata": {
    "collapsed": false,
    "ExecuteTime": {
     "start_time": "2024-03-16T18:33:57.202704Z",
     "end_time": "2024-03-16T18:33:57.216704Z"
    }
   }
  },
  {
   "cell_type": "code",
   "execution_count": 15,
   "outputs": [
    {
     "data": {
      "text/plain": "{(0, 1): 0,\n (1, 0): 1,\n (1, 2): 2,\n (2, 1): 3,\n (1, 9): 4,\n (9, 1): 5,\n (1, 10): 6,\n (10, 1): 7,\n (2, 3): 8,\n (3, 2): 9,\n (2, 11): 10,\n (11, 2): 11,\n (3, 4): 12,\n (4, 3): 13,\n (3, 12): 14,\n (12, 3): 15,\n (4, 5): 16,\n (5, 4): 17,\n (4, 6): 18,\n (6, 4): 19,\n (4, 13): 20,\n (13, 4): 21,\n (6, 7): 22,\n (7, 6): 23,\n (6, 14): 24,\n (14, 6): 25,\n (6, 15): 26,\n (15, 6): 27,\n (7, 8): 28,\n (8, 7): 29,\n (7, 16): 30,\n (16, 7): 31,\n (7, 17): 32,\n (17, 7): 33}"
     },
     "metadata": {},
     "output_type": "display_data"
    },
    {
     "data": {
      "text/plain": "Data(x=[34, 118], edge_index=[2, 94], edge_attr=[94, 80], pos=[34, 6], parallel_node_index=[34], circle_index=[34])"
     },
     "metadata": {},
     "output_type": "display_data"
    }
   ],
   "source": [
    "display(node_mapping)\n",
    "display(edge_graph)"
   ],
   "metadata": {
    "collapsed": false,
    "ExecuteTime": {
     "start_time": "2024-03-16T18:33:57.681786Z",
     "end_time": "2024-03-16T18:33:57.716294Z"
    }
   }
  },
  {
   "cell_type": "code",
   "execution_count": 16,
   "outputs": [],
   "source": [
    "import json\n",
    "def _circle_index_to_primordial_tree(\n",
    "        circle_index: int,\n",
    "        parallel_node: int,\n",
    "        self_node: int,\n",
    "        inner_type: str = \"Z\"\n",
    "):\n",
    "    # if nothing in the circular index return empty string\n",
    "    if len(circle_index) == 0:\n",
    "        return json.dumps({\"S\": [\n",
    "            int(self_node),\n",
    "            int(parallel_node)\n",
    "        ]})\n",
    "    else:\n",
    "        # not including parallel node index\n",
    "        # return f\"Z{[i for i in circle_index]}\"\n",
    "\n",
    "        # including parallel node index\n",
    "        # return f\"P[{parallel_node}, Z{[i for i in circle_index]}]\"\n",
    "        return json.dumps({\n",
    "            \"S\": [\n",
    "                int(self_node),\n",
    "                int(parallel_node),\n",
    "                {\n",
    "                    inner_type: [int(i) for i in circle_index]\n",
    "                }\n",
    "            ]\n",
    "        })\n",
    "\n",
    "# produce default trees for each node\n",
    "permutation_trees = [\n",
    "    _circle_index_to_primordial_tree(circle_index, parallel_node, idx, inner_type=\"P\")\n",
    "    for idx, (circle_index, parallel_node) in enumerate(\n",
    "        zip(\n",
    "            edge_graph.circle_index,\n",
    "            edge_graph.parallel_node_index\n",
    "        )\n",
    "    )\n",
    "]\n",
    "# register permutation trees in data object\n",
    "edge_graph.ptree = permutation_trees"
   ],
   "metadata": {
    "collapsed": false,
    "ExecuteTime": {
     "start_time": "2024-03-16T18:33:58.106487Z",
     "end_time": "2024-03-16T18:33:58.112489Z"
    }
   }
  },
  {
   "cell_type": "code",
   "execution_count": 19,
   "outputs": [
    {
     "data": {
      "text/plain": "Data(x=[34, 118], edge_index=[2, 94], edge_attr=[94, 80], pos=[34, 6], parallel_node_index=[34], circle_index=[34], ptree=[34])"
     },
     "metadata": {},
     "output_type": "display_data"
    },
    {
     "data": {
      "text/plain": "['{\"S\": [0, 1]}',\n '{\"S\": [1, 0, {\"P\": [3, 5, 7]}]}',\n '{\"S\": [2, 3, {\"P\": [0, 7, 5]}]}',\n '{\"S\": [3, 2, {\"P\": [9, 11]}]}',\n '{\"S\": [4, 5, {\"P\": [0, 3, 7]}]}',\n '{\"S\": [5, 4]}',\n '{\"S\": [6, 7, {\"P\": [0, 5, 3]}]}',\n '{\"S\": [7, 6]}',\n '{\"S\": [8, 9, {\"P\": [2, 11]}]}',\n '{\"S\": [9, 8, {\"P\": [13, 15]}]}',\n '{\"S\": [10, 11, {\"P\": [2, 9]}]}',\n '{\"S\": [11, 10]}',\n '{\"S\": [12, 13, {\"P\": [8, 15]}]}',\n '{\"S\": [13, 12, {\"P\": [17, 19, 21]}]}',\n '{\"S\": [14, 15, {\"P\": [8, 13]}]}',\n '{\"S\": [15, 14]}',\n '{\"S\": [16, 17, {\"P\": [12, 21, 19]}]}',\n '{\"S\": [17, 16]}',\n '{\"S\": [18, 19, {\"P\": [12, 17, 21]}]}',\n '{\"S\": [19, 18, {\"P\": [23, 27, 25]}]}',\n '{\"S\": [20, 21, {\"P\": [12, 19, 17]}]}',\n '{\"S\": [21, 20]}',\n '{\"S\": [22, 23, {\"P\": [18, 25, 27]}]}',\n '{\"S\": [23, 22, {\"P\": [29, 33, 31]}]}',\n '{\"S\": [24, 25, {\"P\": [18, 27, 23]}]}',\n '{\"S\": [25, 24]}',\n '{\"S\": [26, 27, {\"P\": [18, 23, 25]}]}',\n '{\"S\": [27, 26]}',\n '{\"S\": [28, 29, {\"P\": [22, 31, 33]}]}',\n '{\"S\": [29, 28]}',\n '{\"S\": [30, 31, {\"P\": [22, 33, 29]}]}',\n '{\"S\": [31, 30]}',\n '{\"S\": [32, 33, {\"P\": [22, 29, 31]}]}',\n '{\"S\": [33, 32]}']"
     },
     "metadata": {},
     "output_type": "display_data"
    }
   ],
   "source": [
    "display(edge_graph, edge_graph.ptree)"
   ],
   "metadata": {
    "collapsed": false,
    "ExecuteTime": {
     "start_time": "2024-03-16T18:34:25.308116Z",
     "end_time": "2024-03-16T18:34:25.325631Z"
    }
   }
  },
  {
   "cell_type": "code",
   "execution_count": 18,
   "outputs": [
    {
     "data": {
      "text/plain": "Data(x=[17, 118], edge_index=[2, 60], edge_attr=[60, 80], ptree=[17])"
     },
     "metadata": {},
     "output_type": "display_data"
    },
    {
     "data": {
      "text/plain": "{(0, 1): 0,\n (1, 2): 1,\n (1, 9): 2,\n (1, 10): 3,\n (2, 3): 4,\n (2, 11): 5,\n (3, 4): 6,\n (3, 12): 7,\n (4, 5): 8,\n (4, 6): 9,\n (4, 13): 10,\n (6, 7): 11,\n (6, 14): 12,\n (6, 15): 13,\n (7, 8): 14,\n (7, 16): 15,\n (7, 17): 16}"
     },
     "metadata": {},
     "output_type": "display_data"
    }
   ],
   "source": [
    "from ptgnn.transform.edge_graph.permutation_tree_selective import remove_duplicate_edges_function\n",
    "\n",
    "result_graph, result_node_mapping = remove_duplicate_edges_function(edge_graph, node_mapping)\n",
    "display(result_graph, result_node_mapping)"
   ],
   "metadata": {
    "collapsed": false,
    "ExecuteTime": {
     "start_time": "2024-03-16T18:33:59.564052Z",
     "end_time": "2024-03-16T18:33:59.586052Z"
    }
   }
  },
  {
   "cell_type": "markdown",
   "source": [
    "# Removal of duplicate edge testing"
   ],
   "metadata": {
    "collapsed": false
   }
  },
  {
   "cell_type": "code",
   "execution_count": 63,
   "outputs": [
    {
     "data": {
      "text/plain": "[(0, 1),\n (1, 2),\n (1, 9),\n (1, 10),\n (2, 3),\n (2, 11),\n (3, 4),\n (3, 12),\n (4, 5),\n (4, 6),\n (4, 13),\n (6, 7),\n (6, 14),\n (6, 15),\n (7, 8),\n (7, 16),\n (7, 17)]"
     },
     "metadata": {},
     "output_type": "display_data"
    },
    {
     "data": {
      "text/plain": "[(1, 0),\n (2, 1),\n (9, 1),\n (10, 1),\n (3, 2),\n (11, 2),\n (4, 3),\n (12, 3),\n (5, 4),\n (6, 4),\n (13, 4),\n (7, 6),\n (14, 6),\n (15, 6),\n (8, 7),\n (16, 7),\n (17, 7)]"
     },
     "metadata": {},
     "output_type": "display_data"
    }
   ],
   "source": [
    "# determine which nodes to keep and which to discard\n",
    "keep_nodes = []\n",
    "discard_nodes = []\n",
    "\n",
    "for source, target in node_mapping.keys():\n",
    "    if (target, source) in keep_nodes:\n",
    "        discard_nodes.append((source, target))\n",
    "    else:\n",
    "        keep_nodes.append((source, target))\n",
    "\n",
    "display(keep_nodes)\n",
    "display(discard_nodes)"
   ],
   "metadata": {
    "collapsed": false,
    "ExecuteTime": {
     "start_time": "2024-03-16T16:43:11.161969Z",
     "end_time": "2024-03-16T16:43:11.180968Z"
    }
   }
  },
  {
   "cell_type": "code",
   "execution_count": 64,
   "outputs": [
    {
     "data": {
      "text/plain": "tensor([ 0,  2,  4,  6,  8, 10, 12, 14, 16, 18, 20, 22, 24, 26, 28, 30, 32])"
     },
     "metadata": {},
     "output_type": "display_data"
    },
    {
     "data": {
      "text/plain": "tensor([ 1,  3,  5,  7,  9, 11, 13, 15, 17, 19, 21, 23, 25, 27, 29, 31, 33])"
     },
     "metadata": {},
     "output_type": "display_data"
    }
   ],
   "source": [
    "import torch\n",
    "\n",
    "# get indices of keep and discard\n",
    "keep_idx = torch.tensor([\n",
    "    node_mapping[node]\n",
    "    for node in keep_nodes\n",
    "])\n",
    "discard_idx = torch.tensor([\n",
    "    node_mapping[node]\n",
    "    for node in discard_nodes\n",
    "])\n",
    "display(keep_idx)\n",
    "display(discard_idx)"
   ],
   "metadata": {
    "collapsed": false,
    "ExecuteTime": {
     "start_time": "2024-03-16T16:44:35.778690Z",
     "end_time": "2024-03-16T16:44:35.802700Z"
    }
   }
  },
  {
   "cell_type": "code",
   "execution_count": 27,
   "outputs": [],
   "source": [
    "def _replace(i: int):\n",
    "    if i in keep_idx:\n",
    "        return i\n",
    "    else:\n",
    "        return edge_graph.parallel_node_index[i]"
   ],
   "metadata": {
    "collapsed": false,
    "ExecuteTime": {
     "start_time": "2024-03-16T16:15:11.505761Z",
     "end_time": "2024-03-16T16:15:11.509761Z"
    }
   }
  },
  {
   "cell_type": "code",
   "execution_count": 74,
   "outputs": [
    {
     "data": {
      "text/plain": "torch.Size([2, 94])"
     },
     "metadata": {},
     "output_type": "display_data"
    },
    {
     "data": {
      "text/plain": "torch.Size([2, 60])"
     },
     "metadata": {},
     "output_type": "display_data"
    }
   ],
   "source": [
    "edge_index = torch.tensor([\n",
    "    [\n",
    "        _replace(source),\n",
    "        _replace(target)\n",
    "    ]\n",
    "    for source, target in edge_graph.edge_index.T.tolist()\n",
    "]).T\n",
    "display(edge_index.shape)\n",
    "mask = edge_index[0] != edge_index[1]\n",
    "edge_index = edge_index[:, mask]\n",
    "edge_attr = edge_graph.edge_attr[mask]\n",
    "display(edge_index.shape)"
   ],
   "metadata": {
    "collapsed": false,
    "ExecuteTime": {
     "start_time": "2024-03-16T16:50:43.393223Z",
     "end_time": "2024-03-16T16:50:43.414224Z"
    }
   }
  },
  {
   "cell_type": "code",
   "execution_count": 75,
   "outputs": [],
   "source": [
    "key, value = keep_idx.sort()"
   ],
   "metadata": {
    "collapsed": false,
    "ExecuteTime": {
     "start_time": "2024-03-16T16:50:45.001946Z",
     "end_time": "2024-03-16T16:50:45.011945Z"
    }
   }
  },
  {
   "cell_type": "code",
   "execution_count": 76,
   "outputs": [
    {
     "data": {
      "text/plain": "tensor([ 0,  2,  4,  6,  8, 10, 12, 14, 16, 18, 20, 22, 24, 26, 28, 30, 32])"
     },
     "metadata": {},
     "output_type": "display_data"
    },
    {
     "data": {
      "text/plain": "tensor([ 0,  1,  2,  3,  4,  5,  6,  7,  8,  9, 10, 11, 12, 13, 14, 15, 16])"
     },
     "metadata": {},
     "output_type": "display_data"
    }
   ],
   "source": [
    "display(key, value)"
   ],
   "metadata": {
    "collapsed": false,
    "ExecuteTime": {
     "start_time": "2024-03-16T16:50:46.195202Z",
     "end_time": "2024-03-16T16:50:46.218523Z"
    }
   }
  },
  {
   "cell_type": "code",
   "execution_count": 77,
   "outputs": [],
   "source": [
    "d = dict(zip(key.tolist(), value.tolist()))\n",
    "edge_index = torch.tensor([[d[a], d[b]] for a,b in edge_index.T.tolist()]).T"
   ],
   "metadata": {
    "collapsed": false,
    "ExecuteTime": {
     "start_time": "2024-03-16T16:50:50.992384Z",
     "end_time": "2024-03-16T16:50:51.015383Z"
    }
   }
  },
  {
   "cell_type": "code",
   "execution_count": 78,
   "outputs": [
    {
     "data": {
      "text/plain": "tensor([[ 1,  0],\n        [ 2,  0],\n        [ 3,  0],\n        [ 0,  1],\n        [ 2,  1],\n        [ 3,  1],\n        [ 4,  1],\n        [ 5,  1],\n        [ 0,  2],\n        [ 1,  2],\n        [ 3,  2],\n        [ 0,  3],\n        [ 1,  3],\n        [ 2,  3],\n        [ 1,  4],\n        [ 5,  4],\n        [ 6,  4],\n        [ 7,  4],\n        [ 1,  5],\n        [ 4,  5],\n        [ 4,  6],\n        [ 7,  6],\n        [ 8,  6],\n        [ 9,  6],\n        [10,  6],\n        [ 4,  7],\n        [ 6,  7],\n        [ 6,  8],\n        [ 9,  8],\n        [10,  8],\n        [ 6,  9],\n        [ 8,  9],\n        [10,  9],\n        [11,  9],\n        [12,  9],\n        [13,  9],\n        [ 6, 10],\n        [ 8, 10],\n        [ 9, 10],\n        [ 9, 11],\n        [12, 11],\n        [13, 11],\n        [14, 11],\n        [15, 11],\n        [16, 11],\n        [ 9, 12],\n        [11, 12],\n        [13, 12],\n        [ 9, 13],\n        [11, 13],\n        [12, 13],\n        [11, 14],\n        [15, 14],\n        [16, 14],\n        [11, 15],\n        [14, 15],\n        [16, 15],\n        [11, 16],\n        [14, 16],\n        [15, 16]])"
     },
     "metadata": {},
     "output_type": "display_data"
    }
   ],
   "source": [
    "display(edge_index.T)"
   ],
   "metadata": {
    "collapsed": false,
    "ExecuteTime": {
     "start_time": "2024-03-16T16:50:51.649953Z",
     "end_time": "2024-03-16T16:50:51.661971Z"
    }
   }
  },
  {
   "cell_type": "code",
   "execution_count": 79,
   "outputs": [],
   "source": [
    "from ptgnn.transform.edge_graph.basic_permutation_tree import _circle_index_to_primordial_tree\n",
    "\n",
    "permutation_trees = [\n",
    "    _circle_index_to_primordial_tree(circle_index, parallel_node, idx, inner_type=\"P\")\n",
    "    for idx, (circle_index, parallel_node) in enumerate(\n",
    "        zip(\n",
    "            edge_graph.circle_index,\n",
    "            edge_graph.parallel_node_index\n",
    "        )\n",
    "    )\n",
    "]\n",
    "# register permutation trees in data object\n",
    "edge_graph.ptree = permutation_trees"
   ],
   "metadata": {
    "collapsed": false,
    "ExecuteTime": {
     "start_time": "2024-03-16T16:50:58.572257Z",
     "end_time": "2024-03-16T16:50:58.590744Z"
    }
   }
  },
  {
   "cell_type": "code",
   "execution_count": 80,
   "outputs": [],
   "source": [
    "import json\n",
    "def _map_tree(tree):\n",
    "    if isinstance(tree, dict):\n",
    "        _map_tree(next(iter(tree.values())))\n",
    "    elif isinstance(tree, list):\n",
    "        for i in range(len(tree)):\n",
    "            if isinstance(tree[i], int):\n",
    "                tree[i] = d[int(_replace(tree[i]))]\n",
    "            else:\n",
    "                _map_tree(tree[i])\n",
    "    return tree\n",
    "\n",
    "def _merge_map_ptrees(tree_a, tree_b, idx):\n",
    "    # get s node rooted list\n",
    "    tree_a = json.loads(tree_a)['S']\n",
    "    tree_b = json.loads(tree_b)['S']\n",
    "\n",
    "    # catch cases where tree is just nonsensical\n",
    "    if len(tree_a) < 3 and len(tree_b) < 3:\n",
    "        return json.dumps(_map_tree({\"S\": [idx]}))\n",
    "    elif len(tree_a) < 3:\n",
    "        return json.dumps(_map_tree({\n",
    "            \"S\": [\n",
    "                idx,\n",
    "                tree_b[-1]\n",
    "            ]\n",
    "        }))\n",
    "    elif len(tree_b) < 3:\n",
    "        return json.dumps(_map_tree({\n",
    "            \"S\": [\n",
    "                idx,\n",
    "                tree_a[-1]\n",
    "            ]\n",
    "        }))\n",
    "    # create tree\n",
    "    tree_a = tree_a[-1]\n",
    "    tree_b = tree_b[-1]\n",
    "    # map with _replace, then map with d dict\n",
    "    return json.dumps(_map_tree({\n",
    "        \"S\": [\n",
    "            idx,\n",
    "            {\n",
    "                \"P\": [\n",
    "                    tree_a,\n",
    "                    tree_b\n",
    "                ]\n",
    "            }\n",
    "        ]\n",
    "    }))"
   ],
   "metadata": {
    "collapsed": false,
    "ExecuteTime": {
     "start_time": "2024-03-16T16:50:59.034503Z",
     "end_time": "2024-03-16T16:50:59.041505Z"
    }
   }
  },
  {
   "cell_type": "code",
   "execution_count": 81,
   "outputs": [],
   "source": [
    "ptrees = [\n",
    "    _merge_map_ptrees(edge_graph.ptree[idx], edge_graph.ptree[edge_graph.parallel_node_index[idx]], idx)\n",
    "    for idx in keep_idx.tolist()\n",
    "]"
   ],
   "metadata": {
    "collapsed": false,
    "ExecuteTime": {
     "start_time": "2024-03-16T16:50:59.808208Z",
     "end_time": "2024-03-16T16:50:59.820208Z"
    }
   }
  },
  {
   "cell_type": "code",
   "execution_count": 40,
   "outputs": [
    {
     "data": {
      "text/plain": "['{\"S\": [0, 1]}',\n '{\"S\": [1, 0, {\"P\": [3, 5, 7]}]}',\n '{\"S\": [2, 3, {\"P\": [0, 7, 5]}]}',\n '{\"S\": [3, 2, {\"P\": [9, 11]}]}',\n '{\"S\": [4, 5, {\"P\": [0, 3, 7]}]}',\n '{\"S\": [5, 4]}',\n '{\"S\": [6, 7, {\"P\": [0, 5, 3]}]}',\n '{\"S\": [7, 6]}',\n '{\"S\": [8, 9, {\"P\": [2, 11]}]}',\n '{\"S\": [9, 8, {\"P\": [13, 15]}]}',\n '{\"S\": [10, 11, {\"P\": [2, 9]}]}',\n '{\"S\": [11, 10]}',\n '{\"S\": [12, 13, {\"P\": [8, 15]}]}',\n '{\"S\": [13, 12, {\"P\": [17, 19, 21]}]}',\n '{\"S\": [14, 15, {\"P\": [8, 13]}]}',\n '{\"S\": [15, 14]}',\n '{\"S\": [16, 17, {\"P\": [12, 21, 19]}]}',\n '{\"S\": [17, 16]}',\n '{\"S\": [18, 19, {\"P\": [12, 17, 21]}]}',\n '{\"S\": [19, 18, {\"P\": [23, 27, 25]}]}',\n '{\"S\": [20, 21, {\"P\": [12, 19, 17]}]}',\n '{\"S\": [21, 20]}',\n '{\"S\": [22, 23, {\"P\": [18, 25, 27]}]}',\n '{\"S\": [23, 22, {\"P\": [29, 33, 31]}]}',\n '{\"S\": [24, 25, {\"P\": [18, 27, 23]}]}',\n '{\"S\": [25, 24]}',\n '{\"S\": [26, 27, {\"P\": [18, 23, 25]}]}',\n '{\"S\": [27, 26]}',\n '{\"S\": [28, 29, {\"P\": [22, 31, 33]}]}',\n '{\"S\": [29, 28]}',\n '{\"S\": [30, 31, {\"P\": [22, 33, 29]}]}',\n '{\"S\": [31, 30]}',\n '{\"S\": [32, 33, {\"P\": [22, 29, 31]}]}',\n '{\"S\": [33, 32]}']"
     },
     "execution_count": 40,
     "metadata": {},
     "output_type": "execute_result"
    }
   ],
   "source": [
    "edge_graph.ptree"
   ],
   "metadata": {
    "collapsed": false,
    "ExecuteTime": {
     "start_time": "2024-03-16T16:17:41.295917Z",
     "end_time": "2024-03-16T16:17:41.317917Z"
    }
   }
  },
  {
   "cell_type": "code",
   "execution_count": 41,
   "outputs": [
    {
     "data": {
      "text/plain": "['{\"S\": [0, {\"P\": [1, 2, 3]}]}',\n '{\"S\": [1, {\"P\": [{\"P\": [0, 3, 2]}, {\"P\": [4, 5]}]}]}',\n '{\"S\": [2, {\"P\": [0, 1, 3]}]}',\n '{\"S\": [3, {\"P\": [0, 2, 1]}]}',\n '{\"S\": [4, {\"P\": [{\"P\": [1, 5]}, {\"P\": [6, 7]}]}]}',\n '{\"S\": [5, {\"P\": [1, 4]}]}',\n '{\"S\": [6, {\"P\": [{\"P\": [4, 7]}, {\"P\": [8, 9, 10]}]}]}',\n '{\"S\": [7, {\"P\": [4, 6]}]}',\n '{\"S\": [8, {\"P\": [6, 10, 9]}]}',\n '{\"S\": [9, {\"P\": [{\"P\": [6, 8, 10]}, {\"P\": [11, 13, 12]}]}]}',\n '{\"S\": [10, {\"P\": [6, 9, 8]}]}',\n '{\"S\": [11, {\"P\": [{\"P\": [9, 12, 13]}, {\"P\": [14, 16, 15]}]}]}',\n '{\"S\": [12, {\"P\": [9, 13, 11]}]}',\n '{\"S\": [13, {\"P\": [9, 11, 12]}]}',\n '{\"S\": [14, {\"P\": [11, 15, 16]}]}',\n '{\"S\": [15, {\"P\": [11, 16, 14]}]}',\n '{\"S\": [16, {\"P\": [11, 14, 15]}]}']"
     },
     "execution_count": 41,
     "metadata": {},
     "output_type": "execute_result"
    }
   ],
   "source": [
    "ptrees"
   ],
   "metadata": {
    "collapsed": false,
    "ExecuteTime": {
     "start_time": "2024-03-16T16:17:48.242024Z",
     "end_time": "2024-03-16T16:17:48.252025Z"
    }
   }
  },
  {
   "cell_type": "code",
   "execution_count": 83,
   "outputs": [
    {
     "data": {
      "text/plain": "17"
     },
     "metadata": {},
     "output_type": "display_data"
    },
    {
     "data": {
      "text/plain": "Data(x=[34, 118], edge_index=[2, 94], edge_attr=[94, 80], pos=[34, 6], parallel_node_index=[34], circle_index=[34], ptree=[34])"
     },
     "metadata": {},
     "output_type": "display_data"
    },
    {
     "data": {
      "text/plain": "torch.Size([17, 118])"
     },
     "metadata": {},
     "output_type": "display_data"
    },
    {
     "data": {
      "text/plain": "torch.Size([2, 60])"
     },
     "metadata": {},
     "output_type": "display_data"
    },
    {
     "data": {
      "text/plain": "torch.Size([60, 80])"
     },
     "metadata": {},
     "output_type": "display_data"
    }
   ],
   "source": [
    "display(len(ptrees), edge_graph, nodes.shape, edge_index.shape, edge_attr.shape)"
   ],
   "metadata": {
    "collapsed": false,
    "ExecuteTime": {
     "start_time": "2024-03-16T16:51:33.823460Z",
     "end_time": "2024-03-16T16:51:33.832643Z"
    }
   }
  },
  {
   "cell_type": "code",
   "execution_count": null,
   "outputs": [],
   "source": [],
   "metadata": {
    "collapsed": false
   }
  },
  {
   "cell_type": "code",
   "execution_count": 84,
   "outputs": [
    {
     "data": {
      "text/plain": "tensor([0.0000, 0.0000, 0.0000, 0.0000, 0.0000, 0.0000, 0.0000, 0.0000, 0.0000,\n        0.0000, 1.0000, 0.0000, 0.0000, 0.0000, 1.0000, 0.0000, 0.0000, 0.0000,\n        0.0000, 0.0000, 0.0000, 0.0000, 0.0000, 0.0000, 0.0000, 1.0000, 0.0000,\n        1.0000, 0.0000, 0.0000, 0.0000, 0.0000, 0.0000, 0.0000, 0.0000, 0.0000,\n        1.0000, 0.0000, 0.0000, 0.0000, 0.0000, 0.0000, 0.7990, 1.0000, 0.0000,\n        0.0000, 0.0000, 1.0000, 0.0000, 0.0000, 0.0000, 0.0000, 1.0000, 0.0000,\n        0.0000, 0.0000, 0.0000, 0.0000, 0.0000, 1.0000, 0.0000, 0.0000, 0.0000,\n        0.0000, 0.0000, 0.0000, 0.0000, 1.0000, 0.0000, 0.0000, 0.0000, 0.0000,\n        0.0000, 0.0000, 0.0000, 0.0000, 0.0000, 0.0000, 0.0000, 0.0000, 0.0000,\n        0.0000, 0.0000, 1.0000, 0.0000, 0.0000, 0.0000, 0.0000, 0.0000, 0.0000,\n        0.0000, 1.0000, 0.0000, 1.0000, 0.0000, 0.0000, 0.0000, 0.0000, 0.0000,\n        0.0000, 0.0000, 0.0000, 1.0000, 0.0000, 0.0000, 0.0000, 0.0000, 0.0000,\n        0.1201, 1.0000, 0.0000, 0.0000, 0.0000, 1.0000, 0.0000, 0.0000, 0.0000,\n        0.0000])"
     },
     "metadata": {},
     "output_type": "display_data"
    }
   ],
   "source": [
    "x = nodes[0]\n",
    "display(x)"
   ],
   "metadata": {
    "collapsed": false,
    "ExecuteTime": {
     "start_time": "2024-03-16T16:52:04.024507Z",
     "end_time": "2024-03-16T16:52:04.049506Z"
    }
   }
  },
  {
   "cell_type": "code",
   "execution_count": 85,
   "outputs": [
    {
     "data": {
      "text/plain": "tensor([0.0000, 1.0000, 0.0000, 0.0000, 0.0000, 0.0000, 0.0000, 0.0000, 0.0000,\n        0.0000, 0.0000, 0.0000, 0.0000, 0.0000, 0.0000, 0.0000, 0.0000, 1.0000,\n        0.0000, 0.0000, 0.0000, 0.0000, 0.0000, 0.0000, 0.0000, 1.0000, 0.0000,\n        1.0000, 0.0000, 0.0000, 0.0000, 0.0000, 0.0000, 0.0000, 0.0000, 0.0000,\n        1.0000, 0.0000, 0.0000, 0.0000, 0.0000, 0.0000, 0.1201, 1.0000, 0.0000,\n        0.0000, 0.0000, 1.0000, 0.0000, 0.0000, 0.0000, 0.0000, 1.0000, 0.0000,\n        0.0000, 0.0000, 0.0000, 0.0000, 0.0000, 1.0000, 0.0000, 0.0000, 0.0000,\n        0.0000, 0.0000, 0.0000, 0.0000, 0.0000, 0.0000, 0.0000, 0.0000, 0.0000,\n        0.0000, 0.0000, 0.0000, 0.0000, 1.0000, 0.0000, 0.0000, 0.0000, 1.0000,\n        0.0000, 0.0000, 0.0000, 0.0000, 0.0000, 0.0000, 0.0000, 0.0000, 0.0000,\n        0.0000, 1.0000, 0.0000, 1.0000, 0.0000, 0.0000, 0.0000, 0.0000, 0.0000,\n        0.0000, 0.0000, 0.0000, 1.0000, 0.0000, 0.0000, 0.0000, 0.0000, 0.0000,\n        0.7990, 1.0000, 0.0000, 0.0000, 0.0000, 1.0000, 0.0000, 0.0000, 0.0000,\n        0.0000])"
     },
     "metadata": {},
     "output_type": "display_data"
    }
   ],
   "source": [
    "y = edge_graph.x[discard_idx][0]\n",
    "display(y)"
   ],
   "metadata": {
    "collapsed": false,
    "ExecuteTime": {
     "start_time": "2024-03-16T16:52:05.203189Z",
     "end_time": "2024-03-16T16:52:05.230188Z"
    }
   }
  },
  {
   "cell_type": "code",
   "execution_count": 86,
   "outputs": [
    {
     "data": {
      "text/plain": "tensor([False,  True, False, False, False, False, False, False, False, False,\n        False, False, False, False, False, False, False,  True, False, False,\n        False, False, False, False, False, False, False, False, False, False,\n        False, False, False, False, False, False, False, False, False, False,\n        False, False, False, False, False, False, False, False, False, False,\n        False, False, False, False, False, False, False, False, False, False,\n        False, False, False, False, False, False, False, False, False, False,\n        False, False, False, False, False, False,  True, False, False, False,\n         True, False, False, False, False, False, False, False, False, False,\n        False, False, False, False, False, False, False, False, False, False,\n        False, False, False, False, False, False, False, False,  True, False,\n        False, False, False, False, False, False, False, False])"
     },
     "metadata": {},
     "output_type": "display_data"
    },
    {
     "data": {
      "text/plain": "tensor([False, False, False, False, False, False, False, False, False, False,\n         True, False, False, False,  True, False, False, False, False, False,\n        False, False, False, False, False, False, False, False, False, False,\n        False, False, False, False, False, False, False, False, False, False,\n        False, False,  True, False, False, False, False, False, False, False,\n        False, False, False, False, False, False, False, False, False, False,\n        False, False, False, False, False, False, False,  True, False, False,\n        False, False, False, False, False, False, False, False, False, False,\n        False, False, False,  True, False, False, False, False, False, False,\n        False, False, False, False, False, False, False, False, False, False,\n        False, False, False, False, False, False, False, False, False, False,\n        False, False, False, False, False, False, False, False])"
     },
     "metadata": {},
     "output_type": "display_data"
    }
   ],
   "source": [
    "one = x < y\n",
    "two = x > y\n",
    "display(one, two)"
   ],
   "metadata": {
    "collapsed": false,
    "ExecuteTime": {
     "start_time": "2024-03-16T16:52:37.140575Z",
     "end_time": "2024-03-16T16:52:37.175573Z"
    }
   }
  },
  {
   "cell_type": "code",
   "execution_count": 88,
   "outputs": [
    {
     "data": {
      "text/plain": "(tensor([  1,  17,  76,  80, 108]),)"
     },
     "execution_count": 88,
     "metadata": {},
     "output_type": "execute_result"
    }
   ],
   "source": [
    "torch.where(one)"
   ],
   "metadata": {
    "collapsed": false,
    "ExecuteTime": {
     "start_time": "2024-03-16T16:53:52.523211Z",
     "end_time": "2024-03-16T16:53:52.539213Z"
    }
   }
  },
  {
   "cell_type": "code",
   "execution_count": 92,
   "outputs": [
    {
     "data": {
      "text/plain": "{(0, 1): 0,\n (1, 2): 1,\n (1, 9): 2,\n (1, 10): 3,\n (2, 3): 4,\n (2, 11): 5,\n (3, 4): 6,\n (3, 12): 7,\n (4, 5): 8,\n (4, 6): 9,\n (4, 13): 10,\n (6, 7): 11,\n (6, 14): 12,\n (6, 15): 13,\n (7, 8): 14,\n (7, 16): 15,\n (7, 17): 16}"
     },
     "execution_count": 92,
     "metadata": {},
     "output_type": "execute_result"
    }
   ],
   "source": [
    "dict(zip(keep_nodes, range(len(keep_nodes))))"
   ],
   "metadata": {
    "collapsed": false,
    "ExecuteTime": {
     "start_time": "2024-03-16T17:09:57.399646Z",
     "end_time": "2024-03-16T17:09:57.414647Z"
    }
   }
  },
  {
   "cell_type": "code",
   "execution_count": 96,
   "outputs": [
    {
     "data": {
      "text/plain": "torch.Size([17, 118])"
     },
     "metadata": {},
     "output_type": "display_data"
    }
   ],
   "source": [
    "nodes = []\n",
    "# create absolute choice of which node embedding to choose\n",
    "for idx in keep_idx:\n",
    "    # get elements to compare\n",
    "    x = edge_graph.x[idx]\n",
    "    y = edge_graph.x[edge_graph.parallel_node_index[idx]]\n",
    "\n",
    "    # compare\n",
    "    one = x <= y\n",
    "    two = x >= y\n",
    "\n",
    "    # absolute comparison\n",
    "    if torch.where(one)[0][0] < torch.where(two)[0][0]:\n",
    "        nodes.append(x)\n",
    "    else:\n",
    "        nodes.append(y)\n",
    "nodes = torch.stack(nodes)\n",
    "display(nodes.shape)"
   ],
   "metadata": {
    "collapsed": false,
    "ExecuteTime": {
     "start_time": "2024-03-16T17:10:46.885372Z",
     "end_time": "2024-03-16T17:10:46.908373Z"
    }
   }
  },
  {
   "cell_type": "markdown",
   "source": [
    "# Further testing on edge graph and ring"
   ],
   "metadata": {
    "collapsed": false
   }
  },
  {
   "cell_type": "code",
   "execution_count": 69,
   "outputs": [
    {
     "name": "stdout",
     "output_type": "stream",
     "text": [
      "tensor(2) tensor(3)\n",
      "tensor(3) tensor(2)\n",
      "tensor(3) tensor(4)\n",
      "tensor(4) tensor(3)\n",
      "tensor(3) tensor(16)\n",
      "tensor(16) tensor(3)\n",
      "tensor(3) tensor(38)\n",
      "tensor(38) tensor(3)\n"
     ]
    }
   ],
   "source": [
    "for a, b in data.edge_index.T:\n",
    "    if a == 3 or b == 3:\n",
    "        print(a,b)"
   ],
   "metadata": {
    "collapsed": false,
    "ExecuteTime": {
     "start_time": "2024-03-10T15:36:32.998174Z",
     "end_time": "2024-03-10T15:36:33.024173Z"
    }
   }
  },
  {
   "cell_type": "code",
   "execution_count": 70,
   "outputs": [
    {
     "name": "stdout",
     "output_type": "stream",
     "text": [
      "Bond 1 stereo: STEREONONE\n",
      "1 2\n",
      "Bond 35 stereo: STEREONONE\n",
      "17 36\n"
     ]
    }
   ],
   "source": [
    "for bond in mol_example.GetBonds():\n",
    "    if bond.GetBondType() == Chem.rdchem.BondType.DOUBLE:\n",
    "        print(\"Bond\", bond.GetIdx(), \"stereo:\", bond.GetStereo())\n",
    "        print(bond.GetBeginAtom().GetIdx(), bond.GetEndAtom().GetIdx())"
   ],
   "metadata": {
    "collapsed": false,
    "ExecuteTime": {
     "start_time": "2024-03-10T15:36:56.070308Z",
     "end_time": "2024-03-10T15:36:56.080309Z"
    }
   }
  },
  {
   "cell_type": "code",
   "execution_count": 72,
   "outputs": [
    {
     "data": {
      "text/plain": "False"
     },
     "execution_count": 72,
     "metadata": {},
     "output_type": "execute_result"
    }
   ],
   "source": [
    "data.edge_index =="
   ],
   "metadata": {
    "collapsed": false,
    "ExecuteTime": {
     "start_time": "2024-03-10T15:39:10.565590Z",
     "end_time": "2024-03-10T15:39:10.630433Z"
    }
   }
  },
  {
   "cell_type": "code",
   "execution_count": 57,
   "outputs": [
    {
     "data": {
      "text/plain": "rdkit.Chem.rdchem.Mol"
     },
     "execution_count": 57,
     "metadata": {},
     "output_type": "execute_result"
    }
   ],
   "source": [
    "type(mol_example)"
   ],
   "metadata": {
    "collapsed": false,
    "ExecuteTime": {
     "start_time": "2024-03-10T15:32:44.585876Z",
     "end_time": "2024-03-10T15:32:44.614943Z"
    }
   }
  },
  {
   "cell_type": "code",
   "execution_count": 74,
   "outputs": [
    {
     "data": {
      "text/plain": "array([[0, 1, 0, ..., 0, 0, 0],\n       [1, 0, 1, ..., 0, 0, 0],\n       [0, 1, 0, ..., 0, 0, 0],\n       ...,\n       [0, 0, 0, ..., 0, 0, 0],\n       [0, 0, 0, ..., 0, 0, 0],\n       [0, 0, 0, ..., 0, 0, 0]], dtype=int32)"
     },
     "metadata": {},
     "output_type": "display_data"
    }
   ],
   "source": [
    "display(Chem.GetAdjacencyMatrix(mol_example))"
   ],
   "metadata": {
    "collapsed": false,
    "ExecuteTime": {
     "start_time": "2024-03-10T15:43:37.710187Z",
     "end_time": "2024-03-10T15:43:37.729186Z"
    }
   }
  },
  {
   "cell_type": "markdown",
   "source": [
    "## own version of to_edge_graph"
   ],
   "metadata": {
    "collapsed": false
   }
  },
  {
   "cell_type": "code",
   "execution_count": 10,
   "outputs": [],
   "source": [
    "import torch\n",
    "import torch_geometric\n",
    "from ptgnn.dataset.utils_chienn import get_chiro_data_from_mol\n",
    "from ptgnn.features.chienn.molecule3d import smiles_to_3d_mol\n",
    "import pandas as pd\n",
    "from rdkit import Chem\n",
    "from rdkit.Chem import AllChem"
   ],
   "metadata": {
    "collapsed": false,
    "ExecuteTime": {
     "start_time": "2024-03-10T16:51:50.326159Z",
     "end_time": "2024-03-10T16:51:50.353317Z"
    }
   }
  },
  {
   "cell_type": "markdown",
   "source": [
    "### Fetch input for function"
   ],
   "metadata": {
    "collapsed": false
   }
  },
  {
   "cell_type": "code",
   "execution_count": 2,
   "outputs": [],
   "source": [
    "df = pd.read_pickle(\"src/rs/raw/train.pickle\")"
   ],
   "metadata": {
    "collapsed": false,
    "ExecuteTime": {
     "start_time": "2024-03-10T16:47:43.121433Z",
     "end_time": "2024-03-10T16:47:48.328803Z"
    }
   }
  },
  {
   "cell_type": "code",
   "execution_count": 4,
   "outputs": [
    {
     "data": {
      "text/plain": "                                                       ID  \\\n0       BrC1=C[C@@H](c2ccc(-c3ccccc3)cc2)CC(c2nc(-c3cc...   \n1       BrC1=C[C@@H](c2ccc(-c3ccccc3)cc2)CC(c2nc(-c3cc...   \n2       BrC1=C[C@@H](c2ccc(-c3ccccc3)cc2)CC(c2nc(-c3cc...   \n3       BrC1=C[C@@H](c2ccc(-c3ccccc3)cc2)CC(c2nc(-c3cc...   \n4       BrC1=C[C@@H](c2ccc(-c3ccccc3)cc2)CC(c2nc(-c3cc...   \n...                                                   ...   \n326860                         c1nnc([C@H]2CNCCO2)n1C1CC1   \n326861                         c1nnc([C@H]2CNCCO2)n1C1CC1   \n326862                         c1nnc([C@H]2CNCCO2)n1C1CC1   \n326863                         c1nnc([C@H]2CNCCO2)n1C1CC1   \n326864                         c1nnc([C@H]2CNCCO2)n1C1CC1   \n\n                                          SMILES_nostereo  \\\n0       BrC1=CC(c2ccc(-c3ccccc3)cc2)CC(c2nc(-c3ccccc3)...   \n1       BrC1=CC(c2ccc(-c3ccccc3)cc2)CC(c2nc(-c3ccccc3)...   \n2       BrC1=CC(c2ccc(-c3ccccc3)cc2)CC(c2nc(-c3ccccc3)...   \n3       BrC1=CC(c2ccc(-c3ccccc3)cc2)CC(c2nc(-c3ccccc3)...   \n4       BrC1=CC(c2ccc(-c3ccccc3)cc2)CC(c2nc(-c3ccccc3)...   \n...                                                   ...   \n326860                             c1nnc(C2CNCCO2)n1C1CC1   \n326861                             c1nnc(C2CNCCO2)n1C1CC1   \n326862                             c1nnc(C2CNCCO2)n1C1CC1   \n326863                             c1nnc(C2CNCCO2)n1C1CC1   \n326864                             c1nnc(C2CNCCO2)n1C1CC1   \n\n                                rdkit_mol_cistrans_stereo RS_label  \\\n0       <rdkit.Chem.rdchem.Mol object at 0x0000024FE4D...        S   \n1       <rdkit.Chem.rdchem.Mol object at 0x0000024FE4D...        S   \n2       <rdkit.Chem.rdchem.Mol object at 0x0000024FE4D...        S   \n3       <rdkit.Chem.rdchem.Mol object at 0x0000024FE4D...        S   \n4       <rdkit.Chem.rdchem.Mol object at 0x0000024FE4D...        S   \n...                                                   ...      ...   \n326860  <rdkit.Chem.rdchem.Mol object at 0x0000025098C...        R   \n326861  <rdkit.Chem.rdchem.Mol object at 0x0000025098C...        R   \n326862  <rdkit.Chem.rdchem.Mol object at 0x0000025098C...        R   \n326863  <rdkit.Chem.rdchem.Mol object at 0x0000025098C...        R   \n326864  <rdkit.Chem.rdchem.Mol object at 0x0000025098C...        R   \n\n        RS_label_binary  \n0                     1  \n1                     1  \n2                     1  \n3                     1  \n4                     1  \n...                 ...  \n326860                0  \n326861                0  \n326862                0  \n326863                0  \n326864                0  \n\n[326865 rows x 5 columns]",
      "text/html": "<div>\n<style scoped>\n    .dataframe tbody tr th:only-of-type {\n        vertical-align: middle;\n    }\n\n    .dataframe tbody tr th {\n        vertical-align: top;\n    }\n\n    .dataframe thead th {\n        text-align: right;\n    }\n</style>\n<table border=\"1\" class=\"dataframe\">\n  <thead>\n    <tr style=\"text-align: right;\">\n      <th></th>\n      <th>ID</th>\n      <th>SMILES_nostereo</th>\n      <th>rdkit_mol_cistrans_stereo</th>\n      <th>RS_label</th>\n      <th>RS_label_binary</th>\n    </tr>\n  </thead>\n  <tbody>\n    <tr>\n      <th>0</th>\n      <td>BrC1=C[C@@H](c2ccc(-c3ccccc3)cc2)CC(c2nc(-c3cc...</td>\n      <td>BrC1=CC(c2ccc(-c3ccccc3)cc2)CC(c2nc(-c3ccccc3)...</td>\n      <td>&lt;rdkit.Chem.rdchem.Mol object at 0x0000024FE4D...</td>\n      <td>S</td>\n      <td>1</td>\n    </tr>\n    <tr>\n      <th>1</th>\n      <td>BrC1=C[C@@H](c2ccc(-c3ccccc3)cc2)CC(c2nc(-c3cc...</td>\n      <td>BrC1=CC(c2ccc(-c3ccccc3)cc2)CC(c2nc(-c3ccccc3)...</td>\n      <td>&lt;rdkit.Chem.rdchem.Mol object at 0x0000024FE4D...</td>\n      <td>S</td>\n      <td>1</td>\n    </tr>\n    <tr>\n      <th>2</th>\n      <td>BrC1=C[C@@H](c2ccc(-c3ccccc3)cc2)CC(c2nc(-c3cc...</td>\n      <td>BrC1=CC(c2ccc(-c3ccccc3)cc2)CC(c2nc(-c3ccccc3)...</td>\n      <td>&lt;rdkit.Chem.rdchem.Mol object at 0x0000024FE4D...</td>\n      <td>S</td>\n      <td>1</td>\n    </tr>\n    <tr>\n      <th>3</th>\n      <td>BrC1=C[C@@H](c2ccc(-c3ccccc3)cc2)CC(c2nc(-c3cc...</td>\n      <td>BrC1=CC(c2ccc(-c3ccccc3)cc2)CC(c2nc(-c3ccccc3)...</td>\n      <td>&lt;rdkit.Chem.rdchem.Mol object at 0x0000024FE4D...</td>\n      <td>S</td>\n      <td>1</td>\n    </tr>\n    <tr>\n      <th>4</th>\n      <td>BrC1=C[C@@H](c2ccc(-c3ccccc3)cc2)CC(c2nc(-c3cc...</td>\n      <td>BrC1=CC(c2ccc(-c3ccccc3)cc2)CC(c2nc(-c3ccccc3)...</td>\n      <td>&lt;rdkit.Chem.rdchem.Mol object at 0x0000024FE4D...</td>\n      <td>S</td>\n      <td>1</td>\n    </tr>\n    <tr>\n      <th>...</th>\n      <td>...</td>\n      <td>...</td>\n      <td>...</td>\n      <td>...</td>\n      <td>...</td>\n    </tr>\n    <tr>\n      <th>326860</th>\n      <td>c1nnc([C@H]2CNCCO2)n1C1CC1</td>\n      <td>c1nnc(C2CNCCO2)n1C1CC1</td>\n      <td>&lt;rdkit.Chem.rdchem.Mol object at 0x0000025098C...</td>\n      <td>R</td>\n      <td>0</td>\n    </tr>\n    <tr>\n      <th>326861</th>\n      <td>c1nnc([C@H]2CNCCO2)n1C1CC1</td>\n      <td>c1nnc(C2CNCCO2)n1C1CC1</td>\n      <td>&lt;rdkit.Chem.rdchem.Mol object at 0x0000025098C...</td>\n      <td>R</td>\n      <td>0</td>\n    </tr>\n    <tr>\n      <th>326862</th>\n      <td>c1nnc([C@H]2CNCCO2)n1C1CC1</td>\n      <td>c1nnc(C2CNCCO2)n1C1CC1</td>\n      <td>&lt;rdkit.Chem.rdchem.Mol object at 0x0000025098C...</td>\n      <td>R</td>\n      <td>0</td>\n    </tr>\n    <tr>\n      <th>326863</th>\n      <td>c1nnc([C@H]2CNCCO2)n1C1CC1</td>\n      <td>c1nnc(C2CNCCO2)n1C1CC1</td>\n      <td>&lt;rdkit.Chem.rdchem.Mol object at 0x0000025098C...</td>\n      <td>R</td>\n      <td>0</td>\n    </tr>\n    <tr>\n      <th>326864</th>\n      <td>c1nnc([C@H]2CNCCO2)n1C1CC1</td>\n      <td>c1nnc(C2CNCCO2)n1C1CC1</td>\n      <td>&lt;rdkit.Chem.rdchem.Mol object at 0x0000025098C...</td>\n      <td>R</td>\n      <td>0</td>\n    </tr>\n  </tbody>\n</table>\n<p>326865 rows × 5 columns</p>\n</div>"
     },
     "metadata": {},
     "output_type": "display_data"
    }
   ],
   "source": [
    "display(df)"
   ],
   "metadata": {
    "collapsed": false,
    "ExecuteTime": {
     "start_time": "2024-03-10T16:48:06.987741Z",
     "end_time": "2024-03-10T16:48:07.019736Z"
    }
   }
  },
  {
   "cell_type": "code",
   "execution_count": 42,
   "outputs": [
    {
     "data": {
      "text/plain": "<rdkit.Chem.rdchem.Mol at 0x24fffc15c80>",
      "image/png": "[encoded data removed]"
     },
     "metadata": {},
     "output_type": "display_data"
    }
   ],
   "source": [
    "# mol_example = df.rdkit_mol_cistrans_stereo.iloc[6]# 0\n",
    "mol_example = smiles_to_3d_mol(\n",
    "    df.ID.iloc[6],\n",
    "    max_number_of_attempts=100,\n",
    "    max_number_of_atoms=100\n",
    ")\n",
    "display(mol_example)"
   ],
   "metadata": {
    "collapsed": false,
    "ExecuteTime": {
     "start_time": "2024-03-10T17:35:21.286907Z",
     "end_time": "2024-03-10T17:35:21.376424Z"
    }
   }
  },
  {
   "cell_type": "code",
   "execution_count": 43,
   "outputs": [
    {
     "data": {
      "text/plain": "Data(x=[61, 52], edge_index=[2, 132], edge_attr=[132, 14], pos=[61, 3], bond_distances=[66], bond_distance_index=[2, 66], bond_angles=[108], bond_angle_index=[3, 108], dihedral_angles=[163], dihedral_angle_index=[4, 163])"
     },
     "metadata": {},
     "output_type": "display_data"
    }
   ],
   "source": [
    "data = get_chiro_data_from_mol(mol_example)\n",
    "display(data)"
   ],
   "metadata": {
    "collapsed": false,
    "ExecuteTime": {
     "start_time": "2024-03-10T17:35:21.814735Z",
     "end_time": "2024-03-10T17:35:21.849244Z"
    }
   }
  },
  {
   "cell_type": "markdown",
   "source": [
    "### Do chemical transformation and information gathering"
   ],
   "metadata": {
    "collapsed": false
   }
  },
  {
   "cell_type": "code",
   "execution_count": 44,
   "outputs": [],
   "source": [
    "# make sure it is undirected\n",
    "if not torch_geometric.utils.is_undirected(data.edge_index):\n",
    "    edge_index, edge_attr = torch_geometric.utils.to_undirected(edge_index=data.edge_index, edge_attr=data.edge_attr)\n",
    "else:\n",
    "    edge_index, edge_attr = data.edge_index, data.edge_attr"
   ],
   "metadata": {
    "collapsed": false,
    "ExecuteTime": {
     "start_time": "2024-03-10T17:35:22.796495Z",
     "end_time": "2024-03-10T17:35:22.805499Z"
    }
   }
  },
  {
   "cell_type": "code",
   "execution_count": 45,
   "outputs": [
    {
     "data": {
      "text/plain": "[(3, 'R')]"
     },
     "metadata": {},
     "output_type": "display_data"
    }
   ],
   "source": [
    "# get chiralic centers\n",
    "chiral_centers = Chem.FindMolChiralCenters(mol_example, includeUnassigned=True)\n",
    "display(chiral_centers)"
   ],
   "metadata": {
    "collapsed": false,
    "ExecuteTime": {
     "start_time": "2024-03-10T17:35:23.199516Z",
     "end_time": "2024-03-10T17:35:23.226027Z"
    }
   }
  },
  {
   "cell_type": "code",
   "execution_count": 46,
   "outputs": [
    {
     "name": "stdout",
     "output_type": "stream",
     "text": [
      "0 1 SINGLE STEREONONE\n",
      "1 2 DOUBLE STEREONONE\n",
      "2 3 SINGLE STEREONONE\n",
      "3 4 SINGLE STEREONONE\n",
      "4 5 AROMATIC STEREONONE\n",
      "5 6 AROMATIC STEREONONE\n",
      "6 7 AROMATIC STEREONONE\n",
      "7 8 SINGLE STEREONONE\n",
      "8 9 AROMATIC STEREONONE\n",
      "9 10 AROMATIC STEREONONE\n",
      "10 11 AROMATIC STEREONONE\n",
      "11 12 AROMATIC STEREONONE\n",
      "12 13 AROMATIC STEREONONE\n",
      "7 14 AROMATIC STEREONONE\n",
      "14 15 AROMATIC STEREONONE\n",
      "3 16 SINGLE STEREONONE\n",
      "16 17 SINGLE STEREONONE\n",
      "17 18 SINGLE STEREONONE\n",
      "18 19 AROMATIC STEREONONE\n",
      "19 20 AROMATIC STEREONONE\n",
      "20 21 SINGLE STEREONONE\n",
      "21 22 AROMATIC STEREONONE\n",
      "22 23 AROMATIC STEREONONE\n",
      "23 24 AROMATIC STEREONONE\n",
      "24 25 AROMATIC STEREONONE\n",
      "25 26 AROMATIC STEREONONE\n",
      "20 27 AROMATIC STEREONONE\n",
      "27 28 AROMATIC STEREONONE\n",
      "28 29 SINGLE STEREONONE\n",
      "29 30 AROMATIC STEREONONE\n",
      "30 31 AROMATIC STEREONONE\n",
      "31 32 AROMATIC STEREONONE\n",
      "32 33 AROMATIC STEREONONE\n",
      "33 34 AROMATIC STEREONONE\n",
      "28 35 AROMATIC STEREONONE\n",
      "17 36 DOUBLE STEREONONE\n",
      "36 1 SINGLE STEREONONE\n",
      "15 4 AROMATIC STEREONONE\n",
      "35 18 AROMATIC STEREONONE\n",
      "13 8 AROMATIC STEREONONE\n",
      "26 21 AROMATIC STEREONONE\n",
      "34 29 AROMATIC STEREONONE\n",
      "2 37 SINGLE STEREONONE\n",
      "3 38 SINGLE STEREONONE\n",
      "5 39 SINGLE STEREONONE\n",
      "6 40 SINGLE STEREONONE\n",
      "9 41 SINGLE STEREONONE\n",
      "10 42 SINGLE STEREONONE\n",
      "11 43 SINGLE STEREONONE\n",
      "12 44 SINGLE STEREONONE\n",
      "13 45 SINGLE STEREONONE\n",
      "14 46 SINGLE STEREONONE\n",
      "15 47 SINGLE STEREONONE\n",
      "16 48 SINGLE STEREONONE\n",
      "16 49 SINGLE STEREONONE\n",
      "22 50 SINGLE STEREONONE\n",
      "23 51 SINGLE STEREONONE\n",
      "24 52 SINGLE STEREONONE\n",
      "25 53 SINGLE STEREONONE\n",
      "26 54 SINGLE STEREONONE\n",
      "30 55 SINGLE STEREONONE\n",
      "31 56 SINGLE STEREONONE\n",
      "32 57 SINGLE STEREONONE\n",
      "33 58 SINGLE STEREONONE\n",
      "34 59 SINGLE STEREONONE\n",
      "36 60 SINGLE STEREONONE\n"
     ]
    }
   ],
   "source": [
    "# Using GetStereo()\n",
    "for b in mol_example.GetBonds():\n",
    "    print(b.GetBeginAtomIdx(),b.GetEndAtomIdx(),\n",
    "          b.GetBondType(),b.GetStereo())"
   ],
   "metadata": {
    "collapsed": false,
    "ExecuteTime": {
     "start_time": "2024-03-10T17:35:23.730396Z",
     "end_time": "2024-03-10T17:35:23.746397Z"
    }
   }
  },
  {
   "cell_type": "code",
   "execution_count": 47,
   "outputs": [
    {
     "name": "stdout",
     "output_type": "stream",
     "text": [
      "Type: Atom_Tetrahedral, which: 3, specified: Specified, descriptor: Tet_CCW, controllingAtoms: <rdkit.rdBase._vectunsigned int object at 0x0000024FC4F8ED60>, permutation: 0\n"
     ]
    }
   ],
   "source": [
    "for element in Chem.FindPotentialStereo(mol_example):\n",
    "    print(f\"Type: {element.type}, which: {element.centeredOn}, specified: {element.specified}, descriptor: {element.descriptor}, controllingAtoms: {element.controllingAtoms}, permutation: {element.permutation}\")"
   ],
   "metadata": {
    "collapsed": false,
    "ExecuteTime": {
     "start_time": "2024-03-10T17:35:24.368177Z",
     "end_time": "2024-03-10T17:35:24.376175Z"
    }
   }
  },
  {
   "cell_type": "code",
   "execution_count": 57,
   "outputs": [
    {
     "name": "stdout",
     "output_type": "stream",
     "text": [
      "(13, 12, 11, 10, 9, 8)\n",
      "(15, 14, 7, 6, 5, 4)\n",
      "(26, 25, 24, 23, 22, 21)\n",
      "(34, 33, 32, 31, 30, 29)\n",
      "(35, 28, 27, 20, 19, 18)\n",
      "(36, 17, 16, 3, 2, 1)\n"
     ]
    }
   ],
   "source": [
    "rings = mol_example.GetRingInfo()\n",
    "\n",
    "for ring in rings.AtomRings():\n",
    "    print(ring)"
   ],
   "metadata": {
    "collapsed": false,
    "ExecuteTime": {
     "start_time": "2024-03-10T17:44:04.751894Z",
     "end_time": "2024-03-10T17:44:04.759895Z"
    }
   }
  },
  {
   "cell_type": "code",
   "execution_count": 59,
   "outputs": [
    {
     "name": "stdout",
     "output_type": "stream",
     "text": [
      "(12, 11, 10, 9, 8, 39)\n",
      "(14, 13, 6, 5, 4, 37)\n",
      "(25, 24, 23, 22, 21, 40)\n",
      "(33, 32, 31, 30, 29, 41)\n",
      "(34, 27, 26, 19, 18, 38)\n",
      "(35, 16, 15, 2, 1, 36)\n"
     ]
    }
   ],
   "source": [
    "rings = mol_example.GetRingInfo()\n",
    "\n",
    "for ring in rings.BondRings():\n",
    "    print(ring)"
   ],
   "metadata": {
    "collapsed": false,
    "ExecuteTime": {
     "start_time": "2024-03-10T17:56:03.040069Z",
     "end_time": "2024-03-10T17:56:03.047573Z"
    }
   }
  },
  {
   "cell_type": "code",
   "execution_count": null,
   "outputs": [],
   "source": [
    "# transformation to edges and keep track of indices aka how to map index of current center to edge/new nodes"
   ],
   "metadata": {
    "collapsed": false
   }
  },
  {
   "cell_type": "code",
   "execution_count": null,
   "outputs": [],
   "source": [
    "# so... different modes\n",
    "# 1: normally C but do something special for stereocenters aka Z (chienn but sometimes allow more stereoisomers)\n",
    "# 2: not two nodes for each edge but make more complex permutation tree with P(Z,Z) or P(C,C)\n",
    "# 3: enantiomer: on double edge (or specific stereo candidate) fuze two edges not to P(Z,Z), but make Z/C(1,2,3,4)\n",
    "# 4: ext of 3: do so for normal edges too in case of rotamer. ==> catch condition that atoms not on one axis\n",
    "# 5:      or: map both sides at once and if equal mapped then Z(P, P, P)"
   ],
   "metadata": {
    "collapsed": false
   }
  }
 ],
 "metadata": {
  "kernelspec": {
   "display_name": "Python 3",
   "language": "python",
   "name": "python3"
  },
  "language_info": {
   "codemirror_mode": {
    "name": "ipython",
    "version": 2
   },
   "file_extension": ".py",
   "mimetype": "text/x-python",
   "name": "python",
   "nbconvert_exporter": "python",
   "pygments_lexer": "ipython2",
   "version": "2.7.6"
  }
 },
 "nbformat": 4,
 "nbformat_minor": 0
}
