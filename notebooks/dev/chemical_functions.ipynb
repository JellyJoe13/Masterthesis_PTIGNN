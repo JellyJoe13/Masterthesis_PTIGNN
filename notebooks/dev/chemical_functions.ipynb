{
 "cells": [
  {
   "cell_type": "code",
   "execution_count": 1,
   "metadata": {
    "collapsed": true,
    "ExecuteTime": {
     "start_time": "2024-03-10T15:04:12.517199Z",
     "end_time": "2024-03-10T15:04:16.818808Z"
    }
   },
   "outputs": [],
   "source": [
    "from ptgnn.dataset import RSDataset"
   ]
  },
  {
   "cell_type": "code",
   "execution_count": null,
   "outputs": [],
   "source": [
    "rs = RSDataset(split='val')"
   ],
   "metadata": {
    "collapsed": false
   }
  },
  {
   "cell_type": "code",
   "execution_count": 61,
   "outputs": [],
   "source": [
    "import pandas as pd\n",
    "from ptgnn.dataset.utils_chienn import get_chiro_data_from_mol\n",
    "from ptgnn.features.chienn.molecule3d import smiles_to_3d_mol"
   ],
   "metadata": {
    "collapsed": false,
    "ExecuteTime": {
     "start_time": "2024-03-10T15:35:22.213195Z",
     "end_time": "2024-03-10T15:35:22.229194Z"
    }
   }
  },
  {
   "cell_type": "code",
   "execution_count": 9,
   "outputs": [],
   "source": [
    "df = pd.read_pickle(\"src/rs/raw/train.pickle\")"
   ],
   "metadata": {
    "collapsed": false,
    "ExecuteTime": {
     "start_time": "2024-03-10T15:10:30.658909Z",
     "end_time": "2024-03-10T15:10:35.804093Z"
    }
   }
  },
  {
   "cell_type": "code",
   "execution_count": 10,
   "outputs": [
    {
     "data": {
      "text/plain": "                                                       ID  \\\n0       BrC1=C[C@@H](c2ccc(-c3ccccc3)cc2)CC(c2nc(-c3cc...   \n1       BrC1=C[C@@H](c2ccc(-c3ccccc3)cc2)CC(c2nc(-c3cc...   \n2       BrC1=C[C@@H](c2ccc(-c3ccccc3)cc2)CC(c2nc(-c3cc...   \n3       BrC1=C[C@@H](c2ccc(-c3ccccc3)cc2)CC(c2nc(-c3cc...   \n4       BrC1=C[C@@H](c2ccc(-c3ccccc3)cc2)CC(c2nc(-c3cc...   \n...                                                   ...   \n326860                         c1nnc([C@H]2CNCCO2)n1C1CC1   \n326861                         c1nnc([C@H]2CNCCO2)n1C1CC1   \n326862                         c1nnc([C@H]2CNCCO2)n1C1CC1   \n326863                         c1nnc([C@H]2CNCCO2)n1C1CC1   \n326864                         c1nnc([C@H]2CNCCO2)n1C1CC1   \n\n                                          SMILES_nostereo  \\\n0       BrC1=CC(c2ccc(-c3ccccc3)cc2)CC(c2nc(-c3ccccc3)...   \n1       BrC1=CC(c2ccc(-c3ccccc3)cc2)CC(c2nc(-c3ccccc3)...   \n2       BrC1=CC(c2ccc(-c3ccccc3)cc2)CC(c2nc(-c3ccccc3)...   \n3       BrC1=CC(c2ccc(-c3ccccc3)cc2)CC(c2nc(-c3ccccc3)...   \n4       BrC1=CC(c2ccc(-c3ccccc3)cc2)CC(c2nc(-c3ccccc3)...   \n...                                                   ...   \n326860                             c1nnc(C2CNCCO2)n1C1CC1   \n326861                             c1nnc(C2CNCCO2)n1C1CC1   \n326862                             c1nnc(C2CNCCO2)n1C1CC1   \n326863                             c1nnc(C2CNCCO2)n1C1CC1   \n326864                             c1nnc(C2CNCCO2)n1C1CC1   \n\n                                rdkit_mol_cistrans_stereo RS_label  \\\n0       <rdkit.Chem.rdchem.Mol object at 0x000001EBC21...        S   \n1       <rdkit.Chem.rdchem.Mol object at 0x000001EBC21...        S   \n2       <rdkit.Chem.rdchem.Mol object at 0x000001EBC21...        S   \n3       <rdkit.Chem.rdchem.Mol object at 0x000001EBC21...        S   \n4       <rdkit.Chem.rdchem.Mol object at 0x000001EBC21...        S   \n...                                                   ...      ...   \n326860  <rdkit.Chem.rdchem.Mol object at 0x000001EC89A...        R   \n326861  <rdkit.Chem.rdchem.Mol object at 0x000001EC89A...        R   \n326862  <rdkit.Chem.rdchem.Mol object at 0x000001EC89A...        R   \n326863  <rdkit.Chem.rdchem.Mol object at 0x000001EC89A...        R   \n326864  <rdkit.Chem.rdchem.Mol object at 0x000001EC89A...        R   \n\n        RS_label_binary  \n0                     1  \n1                     1  \n2                     1  \n3                     1  \n4                     1  \n...                 ...  \n326860                0  \n326861                0  \n326862                0  \n326863                0  \n326864                0  \n\n[326865 rows x 5 columns]",
      "text/html": "<div>\n<style scoped>\n    .dataframe tbody tr th:only-of-type {\n        vertical-align: middle;\n    }\n\n    .dataframe tbody tr th {\n        vertical-align: top;\n    }\n\n    .dataframe thead th {\n        text-align: right;\n    }\n</style>\n<table border=\"1\" class=\"dataframe\">\n  <thead>\n    <tr style=\"text-align: right;\">\n      <th></th>\n      <th>ID</th>\n      <th>SMILES_nostereo</th>\n      <th>rdkit_mol_cistrans_stereo</th>\n      <th>RS_label</th>\n      <th>RS_label_binary</th>\n    </tr>\n  </thead>\n  <tbody>\n    <tr>\n      <th>0</th>\n      <td>BrC1=C[C@@H](c2ccc(-c3ccccc3)cc2)CC(c2nc(-c3cc...</td>\n      <td>BrC1=CC(c2ccc(-c3ccccc3)cc2)CC(c2nc(-c3ccccc3)...</td>\n      <td>&lt;rdkit.Chem.rdchem.Mol object at 0x000001EBC21...</td>\n      <td>S</td>\n      <td>1</td>\n    </tr>\n    <tr>\n      <th>1</th>\n      <td>BrC1=C[C@@H](c2ccc(-c3ccccc3)cc2)CC(c2nc(-c3cc...</td>\n      <td>BrC1=CC(c2ccc(-c3ccccc3)cc2)CC(c2nc(-c3ccccc3)...</td>\n      <td>&lt;rdkit.Chem.rdchem.Mol object at 0x000001EBC21...</td>\n      <td>S</td>\n      <td>1</td>\n    </tr>\n    <tr>\n      <th>2</th>\n      <td>BrC1=C[C@@H](c2ccc(-c3ccccc3)cc2)CC(c2nc(-c3cc...</td>\n      <td>BrC1=CC(c2ccc(-c3ccccc3)cc2)CC(c2nc(-c3ccccc3)...</td>\n      <td>&lt;rdkit.Chem.rdchem.Mol object at 0x000001EBC21...</td>\n      <td>S</td>\n      <td>1</td>\n    </tr>\n    <tr>\n      <th>3</th>\n      <td>BrC1=C[C@@H](c2ccc(-c3ccccc3)cc2)CC(c2nc(-c3cc...</td>\n      <td>BrC1=CC(c2ccc(-c3ccccc3)cc2)CC(c2nc(-c3ccccc3)...</td>\n      <td>&lt;rdkit.Chem.rdchem.Mol object at 0x000001EBC21...</td>\n      <td>S</td>\n      <td>1</td>\n    </tr>\n    <tr>\n      <th>4</th>\n      <td>BrC1=C[C@@H](c2ccc(-c3ccccc3)cc2)CC(c2nc(-c3cc...</td>\n      <td>BrC1=CC(c2ccc(-c3ccccc3)cc2)CC(c2nc(-c3ccccc3)...</td>\n      <td>&lt;rdkit.Chem.rdchem.Mol object at 0x000001EBC21...</td>\n      <td>S</td>\n      <td>1</td>\n    </tr>\n    <tr>\n      <th>...</th>\n      <td>...</td>\n      <td>...</td>\n      <td>...</td>\n      <td>...</td>\n      <td>...</td>\n    </tr>\n    <tr>\n      <th>326860</th>\n      <td>c1nnc([C@H]2CNCCO2)n1C1CC1</td>\n      <td>c1nnc(C2CNCCO2)n1C1CC1</td>\n      <td>&lt;rdkit.Chem.rdchem.Mol object at 0x000001EC89A...</td>\n      <td>R</td>\n      <td>0</td>\n    </tr>\n    <tr>\n      <th>326861</th>\n      <td>c1nnc([C@H]2CNCCO2)n1C1CC1</td>\n      <td>c1nnc(C2CNCCO2)n1C1CC1</td>\n      <td>&lt;rdkit.Chem.rdchem.Mol object at 0x000001EC89A...</td>\n      <td>R</td>\n      <td>0</td>\n    </tr>\n    <tr>\n      <th>326862</th>\n      <td>c1nnc([C@H]2CNCCO2)n1C1CC1</td>\n      <td>c1nnc(C2CNCCO2)n1C1CC1</td>\n      <td>&lt;rdkit.Chem.rdchem.Mol object at 0x000001EC89A...</td>\n      <td>R</td>\n      <td>0</td>\n    </tr>\n    <tr>\n      <th>326863</th>\n      <td>c1nnc([C@H]2CNCCO2)n1C1CC1</td>\n      <td>c1nnc(C2CNCCO2)n1C1CC1</td>\n      <td>&lt;rdkit.Chem.rdchem.Mol object at 0x000001EC89A...</td>\n      <td>R</td>\n      <td>0</td>\n    </tr>\n    <tr>\n      <th>326864</th>\n      <td>c1nnc([C@H]2CNCCO2)n1C1CC1</td>\n      <td>c1nnc(C2CNCCO2)n1C1CC1</td>\n      <td>&lt;rdkit.Chem.rdchem.Mol object at 0x000001EC89A...</td>\n      <td>R</td>\n      <td>0</td>\n    </tr>\n  </tbody>\n</table>\n<p>326865 rows × 5 columns</p>\n</div>"
     },
     "metadata": {},
     "output_type": "display_data"
    }
   ],
   "source": [
    "display(df)"
   ],
   "metadata": {
    "collapsed": false,
    "ExecuteTime": {
     "start_time": "2024-03-10T15:10:40.888293Z",
     "end_time": "2024-03-10T15:10:40.898667Z"
    }
   }
  },
  {
   "cell_type": "code",
   "execution_count": 62,
   "outputs": [
    {
     "data": {
      "text/plain": "<rdkit.Chem.rdchem.Mol at 0x1ec9465de40>",
      "image/png": "[encoded data removed]"
     },
     "metadata": {},
     "output_type": "display_data"
    }
   ],
   "source": [
    "# mol_example = df.rdkit_mol_cistrans_stereo.iloc[6]# 0\n",
    "mol_example = smiles_to_3d_mol(\n",
    "    df.ID.iloc[6],\n",
    "    max_number_of_attempts=100,\n",
    "    max_number_of_atoms=100\n",
    ")\n",
    "display(mol_example)"
   ],
   "metadata": {
    "collapsed": false,
    "ExecuteTime": {
     "start_time": "2024-03-10T15:36:04.302005Z",
     "end_time": "2024-03-10T15:36:04.406755Z"
    }
   }
  },
  {
   "cell_type": "code",
   "execution_count": 63,
   "outputs": [
    {
     "data": {
      "text/plain": "Data(x=[61, 52], edge_index=[2, 132], edge_attr=[132, 14], pos=[61, 3], bond_distances=[66], bond_distance_index=[2, 66], bond_angles=[108], bond_angle_index=[3, 108], dihedral_angles=[163], dihedral_angle_index=[4, 163])"
     },
     "metadata": {},
     "output_type": "display_data"
    }
   ],
   "source": [
    "data = get_chiro_data_from_mol(mol_example)\n",
    "display(data)"
   ],
   "metadata": {
    "collapsed": false,
    "ExecuteTime": {
     "start_time": "2024-03-10T15:36:09.812728Z",
     "end_time": "2024-03-10T15:36:09.823209Z"
    }
   }
  },
  {
   "cell_type": "code",
   "execution_count": 64,
   "outputs": [],
   "source": [
    "from rdkit import Chem\n",
    "from rdkit.Chem import AllChem"
   ],
   "metadata": {
    "collapsed": false,
    "ExecuteTime": {
     "start_time": "2024-03-10T15:36:13.645728Z",
     "end_time": "2024-03-10T15:36:13.654727Z"
    }
   }
  },
  {
   "cell_type": "code",
   "execution_count": 65,
   "outputs": [
    {
     "data": {
      "text/plain": "[(3, 'R')]"
     },
     "execution_count": 65,
     "metadata": {},
     "output_type": "execute_result"
    }
   ],
   "source": [
    "# determine stereocenters\n",
    "AllChem.FindMolChiralCenters(mol_example)"
   ],
   "metadata": {
    "collapsed": false,
    "ExecuteTime": {
     "start_time": "2024-03-10T15:36:14.026673Z",
     "end_time": "2024-03-10T15:36:14.058098Z"
    }
   }
  },
  {
   "cell_type": "code",
   "execution_count": 69,
   "outputs": [
    {
     "name": "stdout",
     "output_type": "stream",
     "text": [
      "tensor(2) tensor(3)\n",
      "tensor(3) tensor(2)\n",
      "tensor(3) tensor(4)\n",
      "tensor(4) tensor(3)\n",
      "tensor(3) tensor(16)\n",
      "tensor(16) tensor(3)\n",
      "tensor(3) tensor(38)\n",
      "tensor(38) tensor(3)\n"
     ]
    }
   ],
   "source": [
    "for a, b in data.edge_index.T:\n",
    "    if a == 3 or b == 3:\n",
    "        print(a,b)"
   ],
   "metadata": {
    "collapsed": false,
    "ExecuteTime": {
     "start_time": "2024-03-10T15:36:32.998174Z",
     "end_time": "2024-03-10T15:36:33.024173Z"
    }
   }
  },
  {
   "cell_type": "code",
   "execution_count": 70,
   "outputs": [
    {
     "name": "stdout",
     "output_type": "stream",
     "text": [
      "Bond 1 stereo: STEREONONE\n",
      "1 2\n",
      "Bond 35 stereo: STEREONONE\n",
      "17 36\n"
     ]
    }
   ],
   "source": [
    "for bond in mol_example.GetBonds():\n",
    "    if bond.GetBondType() == Chem.rdchem.BondType.DOUBLE:\n",
    "        print(\"Bond\", bond.GetIdx(), \"stereo:\", bond.GetStereo())\n",
    "        print(bond.GetBeginAtom().GetIdx(), bond.GetEndAtom().GetIdx())"
   ],
   "metadata": {
    "collapsed": false,
    "ExecuteTime": {
     "start_time": "2024-03-10T15:36:56.070308Z",
     "end_time": "2024-03-10T15:36:56.080309Z"
    }
   }
  },
  {
   "cell_type": "code",
   "execution_count": 72,
   "outputs": [
    {
     "data": {
      "text/plain": "False"
     },
     "execution_count": 72,
     "metadata": {},
     "output_type": "execute_result"
    }
   ],
   "source": [
    "data.edge_index =="
   ],
   "metadata": {
    "collapsed": false,
    "ExecuteTime": {
     "start_time": "2024-03-10T15:39:10.565590Z",
     "end_time": "2024-03-10T15:39:10.630433Z"
    }
   }
  },
  {
   "cell_type": "code",
   "execution_count": 57,
   "outputs": [
    {
     "data": {
      "text/plain": "rdkit.Chem.rdchem.Mol"
     },
     "execution_count": 57,
     "metadata": {},
     "output_type": "execute_result"
    }
   ],
   "source": [
    "type(mol_example)"
   ],
   "metadata": {
    "collapsed": false,
    "ExecuteTime": {
     "start_time": "2024-03-10T15:32:44.585876Z",
     "end_time": "2024-03-10T15:32:44.614943Z"
    }
   }
  },
  {
   "cell_type": "code",
   "execution_count": 74,
   "outputs": [
    {
     "data": {
      "text/plain": "array([[0, 1, 0, ..., 0, 0, 0],\n       [1, 0, 1, ..., 0, 0, 0],\n       [0, 1, 0, ..., 0, 0, 0],\n       ...,\n       [0, 0, 0, ..., 0, 0, 0],\n       [0, 0, 0, ..., 0, 0, 0],\n       [0, 0, 0, ..., 0, 0, 0]], dtype=int32)"
     },
     "metadata": {},
     "output_type": "display_data"
    }
   ],
   "source": [
    "display(Chem.GetAdjacencyMatrix(mol_example))"
   ],
   "metadata": {
    "collapsed": false,
    "ExecuteTime": {
     "start_time": "2024-03-10T15:43:37.710187Z",
     "end_time": "2024-03-10T15:43:37.729186Z"
    }
   }
  },
  {
   "cell_type": "markdown",
   "source": [
    "## own version of to_edge_graph"
   ],
   "metadata": {
    "collapsed": false
   }
  },
  {
   "cell_type": "code",
   "execution_count": 10,
   "outputs": [],
   "source": [
    "import torch\n",
    "import torch_geometric\n",
    "from ptgnn.dataset.utils_chienn import get_chiro_data_from_mol\n",
    "from ptgnn.features.chienn.molecule3d import smiles_to_3d_mol\n",
    "import pandas as pd\n",
    "from rdkit import Chem\n",
    "from rdkit.Chem import AllChem"
   ],
   "metadata": {
    "collapsed": false,
    "ExecuteTime": {
     "start_time": "2024-03-10T16:51:50.326159Z",
     "end_time": "2024-03-10T16:51:50.353317Z"
    }
   }
  },
  {
   "cell_type": "markdown",
   "source": [
    "### Fetch input for function"
   ],
   "metadata": {
    "collapsed": false
   }
  },
  {
   "cell_type": "code",
   "execution_count": 2,
   "outputs": [],
   "source": [
    "df = pd.read_pickle(\"src/rs/raw/train.pickle\")"
   ],
   "metadata": {
    "collapsed": false,
    "ExecuteTime": {
     "start_time": "2024-03-10T16:47:43.121433Z",
     "end_time": "2024-03-10T16:47:48.328803Z"
    }
   }
  },
  {
   "cell_type": "code",
   "execution_count": 4,
   "outputs": [
    {
     "data": {
      "text/plain": "                                                       ID  \\\n0       BrC1=C[C@@H](c2ccc(-c3ccccc3)cc2)CC(c2nc(-c3cc...   \n1       BrC1=C[C@@H](c2ccc(-c3ccccc3)cc2)CC(c2nc(-c3cc...   \n2       BrC1=C[C@@H](c2ccc(-c3ccccc3)cc2)CC(c2nc(-c3cc...   \n3       BrC1=C[C@@H](c2ccc(-c3ccccc3)cc2)CC(c2nc(-c3cc...   \n4       BrC1=C[C@@H](c2ccc(-c3ccccc3)cc2)CC(c2nc(-c3cc...   \n...                                                   ...   \n326860                         c1nnc([C@H]2CNCCO2)n1C1CC1   \n326861                         c1nnc([C@H]2CNCCO2)n1C1CC1   \n326862                         c1nnc([C@H]2CNCCO2)n1C1CC1   \n326863                         c1nnc([C@H]2CNCCO2)n1C1CC1   \n326864                         c1nnc([C@H]2CNCCO2)n1C1CC1   \n\n                                          SMILES_nostereo  \\\n0       BrC1=CC(c2ccc(-c3ccccc3)cc2)CC(c2nc(-c3ccccc3)...   \n1       BrC1=CC(c2ccc(-c3ccccc3)cc2)CC(c2nc(-c3ccccc3)...   \n2       BrC1=CC(c2ccc(-c3ccccc3)cc2)CC(c2nc(-c3ccccc3)...   \n3       BrC1=CC(c2ccc(-c3ccccc3)cc2)CC(c2nc(-c3ccccc3)...   \n4       BrC1=CC(c2ccc(-c3ccccc3)cc2)CC(c2nc(-c3ccccc3)...   \n...                                                   ...   \n326860                             c1nnc(C2CNCCO2)n1C1CC1   \n326861                             c1nnc(C2CNCCO2)n1C1CC1   \n326862                             c1nnc(C2CNCCO2)n1C1CC1   \n326863                             c1nnc(C2CNCCO2)n1C1CC1   \n326864                             c1nnc(C2CNCCO2)n1C1CC1   \n\n                                rdkit_mol_cistrans_stereo RS_label  \\\n0       <rdkit.Chem.rdchem.Mol object at 0x0000024FE4D...        S   \n1       <rdkit.Chem.rdchem.Mol object at 0x0000024FE4D...        S   \n2       <rdkit.Chem.rdchem.Mol object at 0x0000024FE4D...        S   \n3       <rdkit.Chem.rdchem.Mol object at 0x0000024FE4D...        S   \n4       <rdkit.Chem.rdchem.Mol object at 0x0000024FE4D...        S   \n...                                                   ...      ...   \n326860  <rdkit.Chem.rdchem.Mol object at 0x0000025098C...        R   \n326861  <rdkit.Chem.rdchem.Mol object at 0x0000025098C...        R   \n326862  <rdkit.Chem.rdchem.Mol object at 0x0000025098C...        R   \n326863  <rdkit.Chem.rdchem.Mol object at 0x0000025098C...        R   \n326864  <rdkit.Chem.rdchem.Mol object at 0x0000025098C...        R   \n\n        RS_label_binary  \n0                     1  \n1                     1  \n2                     1  \n3                     1  \n4                     1  \n...                 ...  \n326860                0  \n326861                0  \n326862                0  \n326863                0  \n326864                0  \n\n[326865 rows x 5 columns]",
      "text/html": "<div>\n<style scoped>\n    .dataframe tbody tr th:only-of-type {\n        vertical-align: middle;\n    }\n\n    .dataframe tbody tr th {\n        vertical-align: top;\n    }\n\n    .dataframe thead th {\n        text-align: right;\n    }\n</style>\n<table border=\"1\" class=\"dataframe\">\n  <thead>\n    <tr style=\"text-align: right;\">\n      <th></th>\n      <th>ID</th>\n      <th>SMILES_nostereo</th>\n      <th>rdkit_mol_cistrans_stereo</th>\n      <th>RS_label</th>\n      <th>RS_label_binary</th>\n    </tr>\n  </thead>\n  <tbody>\n    <tr>\n      <th>0</th>\n      <td>BrC1=C[C@@H](c2ccc(-c3ccccc3)cc2)CC(c2nc(-c3cc...</td>\n      <td>BrC1=CC(c2ccc(-c3ccccc3)cc2)CC(c2nc(-c3ccccc3)...</td>\n      <td>&lt;rdkit.Chem.rdchem.Mol object at 0x0000024FE4D...</td>\n      <td>S</td>\n      <td>1</td>\n    </tr>\n    <tr>\n      <th>1</th>\n      <td>BrC1=C[C@@H](c2ccc(-c3ccccc3)cc2)CC(c2nc(-c3cc...</td>\n      <td>BrC1=CC(c2ccc(-c3ccccc3)cc2)CC(c2nc(-c3ccccc3)...</td>\n      <td>&lt;rdkit.Chem.rdchem.Mol object at 0x0000024FE4D...</td>\n      <td>S</td>\n      <td>1</td>\n    </tr>\n    <tr>\n      <th>2</th>\n      <td>BrC1=C[C@@H](c2ccc(-c3ccccc3)cc2)CC(c2nc(-c3cc...</td>\n      <td>BrC1=CC(c2ccc(-c3ccccc3)cc2)CC(c2nc(-c3ccccc3)...</td>\n      <td>&lt;rdkit.Chem.rdchem.Mol object at 0x0000024FE4D...</td>\n      <td>S</td>\n      <td>1</td>\n    </tr>\n    <tr>\n      <th>3</th>\n      <td>BrC1=C[C@@H](c2ccc(-c3ccccc3)cc2)CC(c2nc(-c3cc...</td>\n      <td>BrC1=CC(c2ccc(-c3ccccc3)cc2)CC(c2nc(-c3ccccc3)...</td>\n      <td>&lt;rdkit.Chem.rdchem.Mol object at 0x0000024FE4D...</td>\n      <td>S</td>\n      <td>1</td>\n    </tr>\n    <tr>\n      <th>4</th>\n      <td>BrC1=C[C@@H](c2ccc(-c3ccccc3)cc2)CC(c2nc(-c3cc...</td>\n      <td>BrC1=CC(c2ccc(-c3ccccc3)cc2)CC(c2nc(-c3ccccc3)...</td>\n      <td>&lt;rdkit.Chem.rdchem.Mol object at 0x0000024FE4D...</td>\n      <td>S</td>\n      <td>1</td>\n    </tr>\n    <tr>\n      <th>...</th>\n      <td>...</td>\n      <td>...</td>\n      <td>...</td>\n      <td>...</td>\n      <td>...</td>\n    </tr>\n    <tr>\n      <th>326860</th>\n      <td>c1nnc([C@H]2CNCCO2)n1C1CC1</td>\n      <td>c1nnc(C2CNCCO2)n1C1CC1</td>\n      <td>&lt;rdkit.Chem.rdchem.Mol object at 0x0000025098C...</td>\n      <td>R</td>\n      <td>0</td>\n    </tr>\n    <tr>\n      <th>326861</th>\n      <td>c1nnc([C@H]2CNCCO2)n1C1CC1</td>\n      <td>c1nnc(C2CNCCO2)n1C1CC1</td>\n      <td>&lt;rdkit.Chem.rdchem.Mol object at 0x0000025098C...</td>\n      <td>R</td>\n      <td>0</td>\n    </tr>\n    <tr>\n      <th>326862</th>\n      <td>c1nnc([C@H]2CNCCO2)n1C1CC1</td>\n      <td>c1nnc(C2CNCCO2)n1C1CC1</td>\n      <td>&lt;rdkit.Chem.rdchem.Mol object at 0x0000025098C...</td>\n      <td>R</td>\n      <td>0</td>\n    </tr>\n    <tr>\n      <th>326863</th>\n      <td>c1nnc([C@H]2CNCCO2)n1C1CC1</td>\n      <td>c1nnc(C2CNCCO2)n1C1CC1</td>\n      <td>&lt;rdkit.Chem.rdchem.Mol object at 0x0000025098C...</td>\n      <td>R</td>\n      <td>0</td>\n    </tr>\n    <tr>\n      <th>326864</th>\n      <td>c1nnc([C@H]2CNCCO2)n1C1CC1</td>\n      <td>c1nnc(C2CNCCO2)n1C1CC1</td>\n      <td>&lt;rdkit.Chem.rdchem.Mol object at 0x0000025098C...</td>\n      <td>R</td>\n      <td>0</td>\n    </tr>\n  </tbody>\n</table>\n<p>326865 rows × 5 columns</p>\n</div>"
     },
     "metadata": {},
     "output_type": "display_data"
    }
   ],
   "source": [
    "display(df)"
   ],
   "metadata": {
    "collapsed": false,
    "ExecuteTime": {
     "start_time": "2024-03-10T16:48:06.987741Z",
     "end_time": "2024-03-10T16:48:07.019736Z"
    }
   }
  },
  {
   "cell_type": "code",
   "execution_count": 42,
   "outputs": [
    {
     "data": {
      "text/plain": "<rdkit.Chem.rdchem.Mol at 0x24fffc15c80>",
      "image/png": "[encoded data removed]"
     },
     "metadata": {},
     "output_type": "display_data"
    }
   ],
   "source": [
    "# mol_example = df.rdkit_mol_cistrans_stereo.iloc[6]# 0\n",
    "mol_example = smiles_to_3d_mol(\n",
    "    df.ID.iloc[6],\n",
    "    max_number_of_attempts=100,\n",
    "    max_number_of_atoms=100\n",
    ")\n",
    "display(mol_example)"
   ],
   "metadata": {
    "collapsed": false,
    "ExecuteTime": {
     "start_time": "2024-03-10T17:35:21.286907Z",
     "end_time": "2024-03-10T17:35:21.376424Z"
    }
   }
  },
  {
   "cell_type": "code",
   "execution_count": 43,
   "outputs": [
    {
     "data": {
      "text/plain": "Data(x=[61, 52], edge_index=[2, 132], edge_attr=[132, 14], pos=[61, 3], bond_distances=[66], bond_distance_index=[2, 66], bond_angles=[108], bond_angle_index=[3, 108], dihedral_angles=[163], dihedral_angle_index=[4, 163])"
     },
     "metadata": {},
     "output_type": "display_data"
    }
   ],
   "source": [
    "data = get_chiro_data_from_mol(mol_example)\n",
    "display(data)"
   ],
   "metadata": {
    "collapsed": false,
    "ExecuteTime": {
     "start_time": "2024-03-10T17:35:21.814735Z",
     "end_time": "2024-03-10T17:35:21.849244Z"
    }
   }
  },
  {
   "cell_type": "markdown",
   "source": [
    "### Do chemical transformation and information gathering"
   ],
   "metadata": {
    "collapsed": false
   }
  },
  {
   "cell_type": "code",
   "execution_count": 44,
   "outputs": [],
   "source": [
    "# make sure it is undirected\n",
    "if not torch_geometric.utils.is_undirected(data.edge_index):\n",
    "    edge_index, edge_attr = torch_geometric.utils.to_undirected(edge_index=data.edge_index, edge_attr=data.edge_attr)\n",
    "else:\n",
    "    edge_index, edge_attr = data.edge_index, data.edge_attr"
   ],
   "metadata": {
    "collapsed": false,
    "ExecuteTime": {
     "start_time": "2024-03-10T17:35:22.796495Z",
     "end_time": "2024-03-10T17:35:22.805499Z"
    }
   }
  },
  {
   "cell_type": "code",
   "execution_count": 45,
   "outputs": [
    {
     "data": {
      "text/plain": "[(3, 'R')]"
     },
     "metadata": {},
     "output_type": "display_data"
    }
   ],
   "source": [
    "# get chiralic centers\n",
    "chiral_centers = Chem.FindMolChiralCenters(mol_example, includeUnassigned=True)\n",
    "display(chiral_centers)"
   ],
   "metadata": {
    "collapsed": false,
    "ExecuteTime": {
     "start_time": "2024-03-10T17:35:23.199516Z",
     "end_time": "2024-03-10T17:35:23.226027Z"
    }
   }
  },
  {
   "cell_type": "code",
   "execution_count": 46,
   "outputs": [
    {
     "name": "stdout",
     "output_type": "stream",
     "text": [
      "0 1 SINGLE STEREONONE\n",
      "1 2 DOUBLE STEREONONE\n",
      "2 3 SINGLE STEREONONE\n",
      "3 4 SINGLE STEREONONE\n",
      "4 5 AROMATIC STEREONONE\n",
      "5 6 AROMATIC STEREONONE\n",
      "6 7 AROMATIC STEREONONE\n",
      "7 8 SINGLE STEREONONE\n",
      "8 9 AROMATIC STEREONONE\n",
      "9 10 AROMATIC STEREONONE\n",
      "10 11 AROMATIC STEREONONE\n",
      "11 12 AROMATIC STEREONONE\n",
      "12 13 AROMATIC STEREONONE\n",
      "7 14 AROMATIC STEREONONE\n",
      "14 15 AROMATIC STEREONONE\n",
      "3 16 SINGLE STEREONONE\n",
      "16 17 SINGLE STEREONONE\n",
      "17 18 SINGLE STEREONONE\n",
      "18 19 AROMATIC STEREONONE\n",
      "19 20 AROMATIC STEREONONE\n",
      "20 21 SINGLE STEREONONE\n",
      "21 22 AROMATIC STEREONONE\n",
      "22 23 AROMATIC STEREONONE\n",
      "23 24 AROMATIC STEREONONE\n",
      "24 25 AROMATIC STEREONONE\n",
      "25 26 AROMATIC STEREONONE\n",
      "20 27 AROMATIC STEREONONE\n",
      "27 28 AROMATIC STEREONONE\n",
      "28 29 SINGLE STEREONONE\n",
      "29 30 AROMATIC STEREONONE\n",
      "30 31 AROMATIC STEREONONE\n",
      "31 32 AROMATIC STEREONONE\n",
      "32 33 AROMATIC STEREONONE\n",
      "33 34 AROMATIC STEREONONE\n",
      "28 35 AROMATIC STEREONONE\n",
      "17 36 DOUBLE STEREONONE\n",
      "36 1 SINGLE STEREONONE\n",
      "15 4 AROMATIC STEREONONE\n",
      "35 18 AROMATIC STEREONONE\n",
      "13 8 AROMATIC STEREONONE\n",
      "26 21 AROMATIC STEREONONE\n",
      "34 29 AROMATIC STEREONONE\n",
      "2 37 SINGLE STEREONONE\n",
      "3 38 SINGLE STEREONONE\n",
      "5 39 SINGLE STEREONONE\n",
      "6 40 SINGLE STEREONONE\n",
      "9 41 SINGLE STEREONONE\n",
      "10 42 SINGLE STEREONONE\n",
      "11 43 SINGLE STEREONONE\n",
      "12 44 SINGLE STEREONONE\n",
      "13 45 SINGLE STEREONONE\n",
      "14 46 SINGLE STEREONONE\n",
      "15 47 SINGLE STEREONONE\n",
      "16 48 SINGLE STEREONONE\n",
      "16 49 SINGLE STEREONONE\n",
      "22 50 SINGLE STEREONONE\n",
      "23 51 SINGLE STEREONONE\n",
      "24 52 SINGLE STEREONONE\n",
      "25 53 SINGLE STEREONONE\n",
      "26 54 SINGLE STEREONONE\n",
      "30 55 SINGLE STEREONONE\n",
      "31 56 SINGLE STEREONONE\n",
      "32 57 SINGLE STEREONONE\n",
      "33 58 SINGLE STEREONONE\n",
      "34 59 SINGLE STEREONONE\n",
      "36 60 SINGLE STEREONONE\n"
     ]
    }
   ],
   "source": [
    "# Using GetStereo()\n",
    "for b in mol_example.GetBonds():\n",
    "    print(b.GetBeginAtomIdx(),b.GetEndAtomIdx(),\n",
    "          b.GetBondType(),b.GetStereo())"
   ],
   "metadata": {
    "collapsed": false,
    "ExecuteTime": {
     "start_time": "2024-03-10T17:35:23.730396Z",
     "end_time": "2024-03-10T17:35:23.746397Z"
    }
   }
  },
  {
   "cell_type": "code",
   "execution_count": 47,
   "outputs": [
    {
     "name": "stdout",
     "output_type": "stream",
     "text": [
      "Type: Atom_Tetrahedral, which: 3, specified: Specified, descriptor: Tet_CCW, controllingAtoms: <rdkit.rdBase._vectunsigned int object at 0x0000024FC4F8ED60>, permutation: 0\n"
     ]
    }
   ],
   "source": [
    "for element in Chem.FindPotentialStereo(mol_example):\n",
    "    print(f\"Type: {element.type}, which: {element.centeredOn}, specified: {element.specified}, descriptor: {element.descriptor}, controllingAtoms: {element.controllingAtoms}, permutation: {element.permutation}\")"
   ],
   "metadata": {
    "collapsed": false,
    "ExecuteTime": {
     "start_time": "2024-03-10T17:35:24.368177Z",
     "end_time": "2024-03-10T17:35:24.376175Z"
    }
   }
  },
  {
   "cell_type": "code",
   "execution_count": 57,
   "outputs": [
    {
     "name": "stdout",
     "output_type": "stream",
     "text": [
      "(13, 12, 11, 10, 9, 8)\n",
      "(15, 14, 7, 6, 5, 4)\n",
      "(26, 25, 24, 23, 22, 21)\n",
      "(34, 33, 32, 31, 30, 29)\n",
      "(35, 28, 27, 20, 19, 18)\n",
      "(36, 17, 16, 3, 2, 1)\n"
     ]
    }
   ],
   "source": [
    "rings = mol_example.GetRingInfo()\n",
    "\n",
    "for ring in rings.AtomRings():\n",
    "    print(ring)"
   ],
   "metadata": {
    "collapsed": false,
    "ExecuteTime": {
     "start_time": "2024-03-10T17:44:04.751894Z",
     "end_time": "2024-03-10T17:44:04.759895Z"
    }
   }
  },
  {
   "cell_type": "code",
   "execution_count": 59,
   "outputs": [
    {
     "name": "stdout",
     "output_type": "stream",
     "text": [
      "(12, 11, 10, 9, 8, 39)\n",
      "(14, 13, 6, 5, 4, 37)\n",
      "(25, 24, 23, 22, 21, 40)\n",
      "(33, 32, 31, 30, 29, 41)\n",
      "(34, 27, 26, 19, 18, 38)\n",
      "(35, 16, 15, 2, 1, 36)\n"
     ]
    }
   ],
   "source": [
    "rings = mol_example.GetRingInfo()\n",
    "\n",
    "for ring in rings.BondRings():\n",
    "    print(ring)"
   ],
   "metadata": {
    "collapsed": false,
    "ExecuteTime": {
     "start_time": "2024-03-10T17:56:03.040069Z",
     "end_time": "2024-03-10T17:56:03.047573Z"
    }
   }
  },
  {
   "cell_type": "code",
   "execution_count": null,
   "outputs": [],
   "source": [
    "# transformation to edges and keep track of indices aka how to map index of current center to edge/new nodes"
   ],
   "metadata": {
    "collapsed": false
   }
  },
  {
   "cell_type": "code",
   "execution_count": null,
   "outputs": [],
   "source": [
    "# so... different modes\n",
    "# 1: normally C but do something special for stereocenters aka Z (chienn but sometimes allow more stereoisomers)\n",
    "# 2: not two nodes for each edge but make more complex permutation tree with P(Z,Z) or P(C,C)\n",
    "# 3: enantiomer: on double edge (or specific stereo candidate) fuze two edges not to P(Z,Z), but make Z/C(1,2,3,4)\n",
    "# 4: ext of 3: do so for normal edges too in case of rotamer. ==> catch condition that atoms not on one axis\n",
    "# 5:      or: map both sides at once and if equal mapped then Z(P, P, P)"
   ],
   "metadata": {
    "collapsed": false
   }
  }
 ],
 "metadata": {
  "kernelspec": {
   "display_name": "Python 3",
   "language": "python",
   "name": "python3"
  },
  "language_info": {
   "codemirror_mode": {
    "name": "ipython",
    "version": 2
   },
   "file_extension": ".py",
   "mimetype": "text/x-python",
   "name": "python",
   "nbconvert_exporter": "python",
   "pygments_lexer": "ipython2",
   "version": "2.7.6"
  }
 },
 "nbformat": 4,
 "nbformat_minor": 0
}
