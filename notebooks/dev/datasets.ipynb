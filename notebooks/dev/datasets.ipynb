{
 "cells": [
  {
   "cell_type": "code",
   "execution_count": 1,
   "metadata": {
    "ExecuteTime": {
     "start_time": "2024-03-05T14:11:39.669093Z",
     "end_time": "2024-03-05T14:11:39.676093Z"
    }
   },
   "outputs": [],
   "source": [
    "import sys\n",
    "sys.path.append(\"../../\")"
   ]
  },
  {
   "cell_type": "code",
   "execution_count": 2,
   "outputs": [],
   "source": [
    "from ptgnn.dataset import RSDataset, BindingAffinityDataset, BaceDataset, Tox21Dataset"
   ],
   "metadata": {
    "collapsed": false,
    "ExecuteTime": {
     "start_time": "2024-03-05T14:11:40.111018Z",
     "end_time": "2024-03-05T14:11:43.057300Z"
    }
   }
  },
  {
   "cell_type": "code",
   "execution_count": 6,
   "outputs": [],
   "source": [
    "bac1 = BaceDataset(split='val')"
   ],
   "metadata": {
    "collapsed": false,
    "ExecuteTime": {
     "start_time": "2024-03-05T14:12:35.566023Z",
     "end_time": "2024-03-05T14:12:35.599281Z"
    }
   }
  },
  {
   "cell_type": "code",
   "execution_count": 7,
   "outputs": [
    {
     "data": {
      "text/plain": "BaceDataset(151)"
     },
     "execution_count": 7,
     "metadata": {},
     "output_type": "execute_result"
    }
   ],
   "source": [
    "bac1"
   ],
   "metadata": {
    "collapsed": false,
    "ExecuteTime": {
     "start_time": "2024-03-05T14:12:36.644313Z",
     "end_time": "2024-03-05T14:12:36.653309Z"
    }
   }
  },
  {
   "cell_type": "code",
   "execution_count": 8,
   "outputs": [
    {
     "data": {
      "text/plain": "Data(x=[202, 118], edge_index=[2, 578], edge_attr=[578, 80], pos=[202, 6], parallel_node_index=[202], circle_index=[202], y=[1])"
     },
     "execution_count": 8,
     "metadata": {},
     "output_type": "execute_result"
    }
   ],
   "source": [
    "bac1[0]"
   ],
   "metadata": {
    "collapsed": false,
    "ExecuteTime": {
     "start_time": "2024-03-05T14:12:37.935494Z",
     "end_time": "2024-03-05T14:12:37.959494Z"
    }
   }
  },
  {
   "cell_type": "code",
   "execution_count": 11,
   "outputs": [],
   "source": [
    "tox1 = Tox21Dataset(split='val')"
   ],
   "metadata": {
    "collapsed": false,
    "ExecuteTime": {
     "start_time": "2024-03-05T14:14:47.691577Z",
     "end_time": "2024-03-05T14:14:47.816694Z"
    }
   }
  },
  {
   "cell_type": "code",
   "execution_count": 12,
   "outputs": [
    {
     "data": {
      "text/plain": "Data(x=[40, 118], edge_index=[2, 104], edge_attr=[104, 80], pos=[40, 6], parallel_node_index=[40], circle_index=[40], y=[12])"
     },
     "execution_count": 12,
     "metadata": {},
     "output_type": "execute_result"
    }
   ],
   "source": [
    "tox1[0]"
   ],
   "metadata": {
    "collapsed": false,
    "ExecuteTime": {
     "start_time": "2024-03-05T14:14:48.572546Z",
     "end_time": "2024-03-05T14:14:48.587545Z"
    }
   }
  },
  {
   "cell_type": "code",
   "execution_count": 3,
   "outputs": [],
   "source": [
    "t1 = RSDataset(split='val')"
   ],
   "metadata": {
    "collapsed": false,
    "ExecuteTime": {
     "start_time": "2024-03-05T11:13:24.896783Z",
     "end_time": "2024-03-05T11:13:25.005796Z"
    }
   }
  },
  {
   "cell_type": "code",
   "execution_count": 4,
   "outputs": [
    {
     "data": {
      "text/plain": "Data(x=[34, 52], edge_index=[2, 72], edge_attr=[72, 14], pos=[34, 3], bond_distances=[36], bond_distance_index=[2, 36], bond_angles=[60], bond_angle_index=[3, 60], dihedral_angles=[91], dihedral_angle_index=[4, 91], y=[1])"
     },
     "execution_count": 4,
     "metadata": {},
     "output_type": "execute_result"
    }
   ],
   "source": [
    "t1[0]"
   ],
   "metadata": {
    "collapsed": false,
    "ExecuteTime": {
     "start_time": "2024-03-05T11:13:25.006796Z",
     "end_time": "2024-03-05T11:13:25.021875Z"
    }
   }
  },
  {
   "cell_type": "code",
   "execution_count": 5,
   "outputs": [
    {
     "data": {
      "text/plain": "RSDataset(11740)"
     },
     "execution_count": 5,
     "metadata": {},
     "output_type": "execute_result"
    }
   ],
   "source": [
    "t1"
   ],
   "metadata": {
    "collapsed": false,
    "ExecuteTime": {
     "start_time": "2024-03-05T11:13:25.023877Z",
     "end_time": "2024-03-05T11:13:25.068874Z"
    }
   }
  },
  {
   "cell_type": "code",
   "execution_count": 6,
   "outputs": [
    {
     "data": {
      "text/plain": "11740"
     },
     "execution_count": 6,
     "metadata": {},
     "output_type": "execute_result"
    }
   ],
   "source": [
    "len(t1)"
   ],
   "metadata": {
    "collapsed": false,
    "ExecuteTime": {
     "start_time": "2024-03-05T11:13:26.440803Z",
     "end_time": "2024-03-05T11:13:26.470804Z"
    }
   }
  },
  {
   "cell_type": "code",
   "execution_count": 7,
   "outputs": [
    {
     "name": "stderr",
     "output_type": "stream",
     "text": [
      "Processing...\n",
      "11680it [01:14, 156.32it/s]\n",
      "Done!\n"
     ]
    }
   ],
   "source": [
    "t2 = RSDataset(split=\"test\")"
   ],
   "metadata": {
    "collapsed": false,
    "ExecuteTime": {
     "start_time": "2024-03-05T11:13:27.907135Z",
     "end_time": "2024-03-05T11:14:50.475291Z"
    }
   }
  },
  {
   "cell_type": "code",
   "execution_count": 8,
   "outputs": [
    {
     "data": {
      "text/plain": "Data(x=[36, 118], edge_index=[2, 104], edge_attr=[104, 80], pos=[36, 6], parallel_node_index=[36], circle_index=[36], y=[1])"
     },
     "execution_count": 8,
     "metadata": {},
     "output_type": "execute_result"
    }
   ],
   "source": [
    "t2[0]"
   ],
   "metadata": {
    "collapsed": false,
    "ExecuteTime": {
     "start_time": "2024-03-05T11:14:53.742976Z",
     "end_time": "2024-03-05T11:14:53.751054Z"
    }
   }
  },
  {
   "cell_type": "code",
   "execution_count": 9,
   "outputs": [
    {
     "data": {
      "text/plain": "11676"
     },
     "execution_count": 9,
     "metadata": {},
     "output_type": "execute_result"
    }
   ],
   "source": [
    "len(t2)"
   ],
   "metadata": {
    "collapsed": false,
    "ExecuteTime": {
     "start_time": "2024-03-05T11:14:58.099253Z",
     "end_time": "2024-03-05T11:14:58.116854Z"
    }
   }
  },
  {
   "cell_type": "code",
   "execution_count": 10,
   "outputs": [
    {
     "name": "stderr",
     "output_type": "stream",
     "text": [
      "Processing...\n"
     ]
    },
    {
     "ename": "KeyboardInterrupt",
     "evalue": "",
     "output_type": "error",
     "traceback": [
      "\u001B[1;31m---------------------------------------------------------------------------\u001B[0m",
      "\u001B[1;31mKeyboardInterrupt\u001B[0m                         Traceback (most recent call last)",
      "Cell \u001B[1;32mIn[10], line 1\u001B[0m\n\u001B[1;32m----> 1\u001B[0m t3 \u001B[38;5;241m=\u001B[39m \u001B[43mRSDataset\u001B[49m\u001B[43m(\u001B[49m\u001B[43msplit\u001B[49m\u001B[38;5;241;43m=\u001B[39;49m\u001B[38;5;124;43m\"\u001B[39;49m\u001B[38;5;124;43mtrain\u001B[39;49m\u001B[38;5;124;43m\"\u001B[39;49m\u001B[43m)\u001B[49m\n",
      "File \u001B[1;32mD:\\DATEN\\Masterarbeit_PTGNN\\ptgnn\\dataset\\rs_dataset.py:68\u001B[0m, in \u001B[0;36mRSDataset.__init__\u001B[1;34m(self, root, single_conformer, mask_chiral_tags, split, graph_mode, transformation_mode, transformation_parameters, max_atoms, max_attempts)\u001B[0m\n\u001B[0;32m     65\u001B[0m \u001B[38;5;28mself\u001B[39m\u001B[38;5;241m.\u001B[39mmax_attempts \u001B[38;5;241m=\u001B[39m max_attempts\n\u001B[0;32m     67\u001B[0m \u001B[38;5;66;03m# starts procedure of downloading and processing\u001B[39;00m\n\u001B[1;32m---> 68\u001B[0m \u001B[38;5;28;43msuper\u001B[39;49m\u001B[43m(\u001B[49m\u001B[43m)\u001B[49m\u001B[38;5;241;43m.\u001B[39;49m\u001B[38;5;21;43m__init__\u001B[39;49m\u001B[43m(\u001B[49m\n\u001B[0;32m     69\u001B[0m \u001B[43m    \u001B[49m\u001B[43mroot\u001B[49m\u001B[38;5;241;43m=\u001B[39;49m\u001B[43mroot\u001B[49m\u001B[43m,\u001B[49m\n\u001B[0;32m     70\u001B[0m \u001B[43m    \u001B[49m\u001B[43mtransform\u001B[49m\u001B[38;5;241;43m=\u001B[39;49m\u001B[38;5;28;43;01mNone\u001B[39;49;00m\u001B[43m,\u001B[49m\n\u001B[0;32m     71\u001B[0m \u001B[43m    \u001B[49m\u001B[43mpre_transform\u001B[49m\u001B[38;5;241;43m=\u001B[39;49m\u001B[38;5;28;43mself\u001B[39;49m\u001B[38;5;241;43m.\u001B[39;49m\u001B[43mpre_transform\u001B[49m\u001B[43m,\u001B[49m\n\u001B[0;32m     72\u001B[0m \u001B[43m    \u001B[49m\u001B[43mpre_filter\u001B[49m\u001B[38;5;241;43m=\u001B[39;49m\u001B[38;5;28;43;01mNone\u001B[39;49;00m\n\u001B[0;32m     73\u001B[0m \u001B[43m\u001B[49m\u001B[43m)\u001B[49m\n\u001B[0;32m     75\u001B[0m \u001B[38;5;66;03m# part that actually loads the data into the class\u001B[39;00m\n\u001B[0;32m     76\u001B[0m \u001B[38;5;28mself\u001B[39m\u001B[38;5;241m.\u001B[39mdata, \u001B[38;5;28mself\u001B[39m\u001B[38;5;241m.\u001B[39mslices \u001B[38;5;241m=\u001B[39m torch\u001B[38;5;241m.\u001B[39mload(os\u001B[38;5;241m.\u001B[39mpath\u001B[38;5;241m.\u001B[39mjoin(\u001B[38;5;28mself\u001B[39m\u001B[38;5;241m.\u001B[39mprocessed_dir, \u001B[38;5;124mf\u001B[39m\u001B[38;5;124m\"\u001B[39m\u001B[38;5;132;01m{\u001B[39;00msplit\u001B[38;5;132;01m}\u001B[39;00m\u001B[38;5;124m.pt\u001B[39m\u001B[38;5;124m\"\u001B[39m))\n",
      "File \u001B[1;32m~\\.conda\\envs\\Masterarbeit_PTGNN\\lib\\site-packages\\torch_geometric\\data\\in_memory_dataset.py:82\u001B[0m, in \u001B[0;36mInMemoryDataset.__init__\u001B[1;34m(self, root, transform, pre_transform, pre_filter, log, force_reload)\u001B[0m\n\u001B[0;32m     73\u001B[0m \u001B[38;5;28;01mdef\u001B[39;00m \u001B[38;5;21m__init__\u001B[39m(\n\u001B[0;32m     74\u001B[0m     \u001B[38;5;28mself\u001B[39m,\n\u001B[0;32m     75\u001B[0m     root: Optional[\u001B[38;5;28mstr\u001B[39m] \u001B[38;5;241m=\u001B[39m \u001B[38;5;28;01mNone\u001B[39;00m,\n\u001B[1;32m   (...)\u001B[0m\n\u001B[0;32m     80\u001B[0m     force_reload: \u001B[38;5;28mbool\u001B[39m \u001B[38;5;241m=\u001B[39m \u001B[38;5;28;01mFalse\u001B[39;00m,\n\u001B[0;32m     81\u001B[0m ) \u001B[38;5;241m-\u001B[39m\u001B[38;5;241m>\u001B[39m \u001B[38;5;28;01mNone\u001B[39;00m:\n\u001B[1;32m---> 82\u001B[0m     \u001B[38;5;28;43msuper\u001B[39;49m\u001B[43m(\u001B[49m\u001B[43m)\u001B[49m\u001B[38;5;241;43m.\u001B[39;49m\u001B[38;5;21;43m__init__\u001B[39;49m\u001B[43m(\u001B[49m\u001B[43mroot\u001B[49m\u001B[43m,\u001B[49m\u001B[43m \u001B[49m\u001B[43mtransform\u001B[49m\u001B[43m,\u001B[49m\u001B[43m \u001B[49m\u001B[43mpre_transform\u001B[49m\u001B[43m,\u001B[49m\u001B[43m \u001B[49m\u001B[43mpre_filter\u001B[49m\u001B[43m,\u001B[49m\u001B[43m \u001B[49m\u001B[43mlog\u001B[49m\u001B[43m,\u001B[49m\n\u001B[0;32m     83\u001B[0m \u001B[43m                     \u001B[49m\u001B[43mforce_reload\u001B[49m\u001B[43m)\u001B[49m\n\u001B[0;32m     85\u001B[0m     \u001B[38;5;28mself\u001B[39m\u001B[38;5;241m.\u001B[39m_data: Optional[BaseData] \u001B[38;5;241m=\u001B[39m \u001B[38;5;28;01mNone\u001B[39;00m\n\u001B[0;32m     86\u001B[0m     \u001B[38;5;28mself\u001B[39m\u001B[38;5;241m.\u001B[39mslices: Optional[Dict[\u001B[38;5;28mstr\u001B[39m, Tensor]] \u001B[38;5;241m=\u001B[39m \u001B[38;5;28;01mNone\u001B[39;00m\n",
      "File \u001B[1;32m~\\.conda\\envs\\Masterarbeit_PTGNN\\lib\\site-packages\\torch_geometric\\data\\dataset.py:118\u001B[0m, in \u001B[0;36mDataset.__init__\u001B[1;34m(self, root, transform, pre_transform, pre_filter, log, force_reload)\u001B[0m\n\u001B[0;32m    115\u001B[0m     \u001B[38;5;28mself\u001B[39m\u001B[38;5;241m.\u001B[39m_download()\n\u001B[0;32m    117\u001B[0m \u001B[38;5;28;01mif\u001B[39;00m \u001B[38;5;28mself\u001B[39m\u001B[38;5;241m.\u001B[39mhas_process:\n\u001B[1;32m--> 118\u001B[0m     \u001B[38;5;28;43mself\u001B[39;49m\u001B[38;5;241;43m.\u001B[39;49m\u001B[43m_process\u001B[49m\u001B[43m(\u001B[49m\u001B[43m)\u001B[49m\n",
      "File \u001B[1;32m~\\.conda\\envs\\Masterarbeit_PTGNN\\lib\\site-packages\\torch_geometric\\data\\dataset.py:263\u001B[0m, in \u001B[0;36mDataset._process\u001B[1;34m(self)\u001B[0m\n\u001B[0;32m    260\u001B[0m     \u001B[38;5;28mprint\u001B[39m(\u001B[38;5;124m'\u001B[39m\u001B[38;5;124mProcessing...\u001B[39m\u001B[38;5;124m'\u001B[39m, file\u001B[38;5;241m=\u001B[39msys\u001B[38;5;241m.\u001B[39mstderr)\n\u001B[0;32m    262\u001B[0m fs\u001B[38;5;241m.\u001B[39mmakedirs(\u001B[38;5;28mself\u001B[39m\u001B[38;5;241m.\u001B[39mprocessed_dir, exist_ok\u001B[38;5;241m=\u001B[39m\u001B[38;5;28;01mTrue\u001B[39;00m)\n\u001B[1;32m--> 263\u001B[0m \u001B[38;5;28;43mself\u001B[39;49m\u001B[38;5;241;43m.\u001B[39;49m\u001B[43mprocess\u001B[49m\u001B[43m(\u001B[49m\u001B[43m)\u001B[49m\n\u001B[0;32m    265\u001B[0m path \u001B[38;5;241m=\u001B[39m osp\u001B[38;5;241m.\u001B[39mjoin(\u001B[38;5;28mself\u001B[39m\u001B[38;5;241m.\u001B[39mprocessed_dir, \u001B[38;5;124m'\u001B[39m\u001B[38;5;124mpre_transform.pt\u001B[39m\u001B[38;5;124m'\u001B[39m)\n\u001B[0;32m    266\u001B[0m fs\u001B[38;5;241m.\u001B[39mtorch_save(_repr(\u001B[38;5;28mself\u001B[39m\u001B[38;5;241m.\u001B[39mpre_transform), path)\n",
      "File \u001B[1;32mD:\\DATEN\\Masterarbeit_PTGNN\\ptgnn\\dataset\\rs_dataset.py:100\u001B[0m, in \u001B[0;36mRSDataset.process\u001B[1;34m(self)\u001B[0m\n\u001B[0;32m     97\u001B[0m \u001B[38;5;28;01mdef\u001B[39;00m \u001B[38;5;21mprocess\u001B[39m(\u001B[38;5;28mself\u001B[39m):\n\u001B[0;32m     98\u001B[0m     \u001B[38;5;66;03m# load downloaded data\u001B[39;00m\n\u001B[0;32m     99\u001B[0m     \u001B[38;5;28;01mwith\u001B[39;00m \u001B[38;5;28mopen\u001B[39m(os\u001B[38;5;241m.\u001B[39mpath\u001B[38;5;241m.\u001B[39mjoin(\u001B[38;5;28mself\u001B[39m\u001B[38;5;241m.\u001B[39mraw_dir, \u001B[38;5;124mf\u001B[39m\u001B[38;5;124m'\u001B[39m\u001B[38;5;132;01m{\u001B[39;00m\u001B[38;5;28mself\u001B[39m\u001B[38;5;241m.\u001B[39msplit\u001B[38;5;132;01m}\u001B[39;00m\u001B[38;5;124m.pickle\u001B[39m\u001B[38;5;124m'\u001B[39m), \u001B[38;5;124m'\u001B[39m\u001B[38;5;124mrb\u001B[39m\u001B[38;5;124m'\u001B[39m) \u001B[38;5;28;01mas\u001B[39;00m f:\n\u001B[1;32m--> 100\u001B[0m         split_df \u001B[38;5;241m=\u001B[39m \u001B[43mpickle\u001B[49m\u001B[38;5;241;43m.\u001B[39;49m\u001B[43mload\u001B[49m\u001B[43m(\u001B[49m\u001B[43mf\u001B[49m\u001B[43m)\u001B[49m\n\u001B[0;32m    102\u001B[0m     \u001B[38;5;28;01mif\u001B[39;00m \u001B[38;5;28mself\u001B[39m\u001B[38;5;241m.\u001B[39msingle_conformer:\n\u001B[0;32m    103\u001B[0m         split_df \u001B[38;5;241m=\u001B[39m split_df\u001B[38;5;241m.\u001B[39mdrop_duplicates(subset\u001B[38;5;241m=\u001B[39m\u001B[38;5;124m\"\u001B[39m\u001B[38;5;124mID\u001B[39m\u001B[38;5;124m\"\u001B[39m)\n",
      "File \u001B[1;32m~\\.conda\\envs\\Masterarbeit_PTGNN\\lib\\site-packages\\numpy\\core\\numeric.py:1851\u001B[0m, in \u001B[0;36m_frombuffer\u001B[1;34m(buf, dtype, shape, order)\u001B[0m\n\u001B[0;32m   1845\u001B[0m     \u001B[38;5;28;01mreturn\u001B[39;00m function(\u001B[38;5;241m*\u001B[39margs, \u001B[38;5;241m*\u001B[39m\u001B[38;5;241m*\u001B[39mkwargs)\n\u001B[0;32m   1848\u001B[0m _fromfunction_with_like \u001B[38;5;241m=\u001B[39m array_function_dispatch()(fromfunction)\n\u001B[1;32m-> 1851\u001B[0m \u001B[38;5;28;01mdef\u001B[39;00m \u001B[38;5;21m_frombuffer\u001B[39m(buf, dtype, shape, order):\n\u001B[0;32m   1852\u001B[0m     \u001B[38;5;28;01mreturn\u001B[39;00m frombuffer(buf, dtype\u001B[38;5;241m=\u001B[39mdtype)\u001B[38;5;241m.\u001B[39mreshape(shape, order\u001B[38;5;241m=\u001B[39morder)\n\u001B[0;32m   1855\u001B[0m \u001B[38;5;129m@set_module\u001B[39m(\u001B[38;5;124m'\u001B[39m\u001B[38;5;124mnumpy\u001B[39m\u001B[38;5;124m'\u001B[39m)\n\u001B[0;32m   1856\u001B[0m \u001B[38;5;28;01mdef\u001B[39;00m \u001B[38;5;21misscalar\u001B[39m(element):\n",
      "\u001B[1;31mKeyboardInterrupt\u001B[0m: "
     ]
    }
   ],
   "source": [
    "t3 = RSDataset(split=\"train\")"
   ],
   "metadata": {
    "collapsed": false,
    "ExecuteTime": {
     "start_time": "2024-03-04T20:48:10.988322Z",
     "end_time": "2024-03-04T20:48:11.547863Z"
    }
   }
  },
  {
   "cell_type": "code",
   "execution_count": null,
   "outputs": [],
   "source": [
    "t3[0]"
   ],
   "metadata": {
    "collapsed": false
   }
  },
  {
   "cell_type": "code",
   "execution_count": null,
   "outputs": [],
   "source": [
    "len(t3)"
   ],
   "metadata": {
    "collapsed": false
   }
  },
  {
   "cell_type": "code",
   "execution_count": 3,
   "outputs": [
    {
     "name": "stderr",
     "output_type": "stream",
     "text": [
      "Processing...\n",
      "10368it [00:34, 297.81it/s]\n",
      "Done!\n"
     ]
    }
   ],
   "source": [
    "ba1 = BindingAffinityDataset(split=\"val\")"
   ],
   "metadata": {
    "collapsed": false,
    "ExecuteTime": {
     "start_time": "2024-03-05T11:49:03.418334Z",
     "end_time": "2024-03-05T11:50:02.083496Z"
    }
   }
  },
  {
   "cell_type": "code",
   "execution_count": 4,
   "outputs": [
    {
     "data": {
      "text/plain": "BindingAffinityDataset(10354)"
     },
     "execution_count": 4,
     "metadata": {},
     "output_type": "execute_result"
    }
   ],
   "source": [
    "ba1"
   ],
   "metadata": {
    "collapsed": false,
    "ExecuteTime": {
     "start_time": "2024-03-05T11:50:02.085496Z",
     "end_time": "2024-03-05T11:50:02.113498Z"
    }
   }
  },
  {
   "cell_type": "code",
   "execution_count": 5,
   "outputs": [
    {
     "data": {
      "text/plain": "Data(x=[46, 118], edge_index=[2, 136], edge_attr=[136, 80], pos=[46, 6], parallel_node_index=[46], circle_index=[46], y=[1])"
     },
     "execution_count": 5,
     "metadata": {},
     "output_type": "execute_result"
    }
   ],
   "source": [
    "ba1[0]"
   ],
   "metadata": {
    "collapsed": false,
    "ExecuteTime": {
     "start_time": "2024-03-05T11:50:02.100496Z",
     "end_time": "2024-03-05T11:50:02.130055Z"
    }
   }
  },
  {
   "cell_type": "code",
   "execution_count": 6,
   "outputs": [
    {
     "data": {
      "text/plain": "10354"
     },
     "execution_count": 6,
     "metadata": {},
     "output_type": "execute_result"
    }
   ],
   "source": [
    "len(ba1)"
   ],
   "metadata": {
    "collapsed": false,
    "ExecuteTime": {
     "start_time": "2024-03-05T11:50:02.115585Z",
     "end_time": "2024-03-05T11:50:02.130055Z"
    }
   }
  },
  {
   "cell_type": "code",
   "execution_count": 16,
   "outputs": [],
   "source": [
    "import pandas as pd\n",
    "from chainer_chemistry.dataset.splitters.scaffold_splitter import ScaffoldSplitter\n",
    "from chainer_chemistry.dataset.splitters.random_splitter import RandomSplitter"
   ],
   "metadata": {
    "collapsed": false,
    "ExecuteTime": {
     "start_time": "2024-03-05T13:33:27.821344Z",
     "end_time": "2024-03-05T13:33:27.843343Z"
    }
   }
  },
  {
   "cell_type": "code",
   "execution_count": 7,
   "outputs": [],
   "source": [
    "df = pd.read_csv(\"src/bace/raw/bace.csv\")"
   ],
   "metadata": {
    "collapsed": false,
    "ExecuteTime": {
     "start_time": "2024-03-05T13:28:20.241923Z",
     "end_time": "2024-03-05T13:28:20.302770Z"
    }
   }
  },
  {
   "cell_type": "code",
   "execution_count": 11,
   "outputs": [
    {
     "data": {
      "text/plain": "                                                 mol     CID  Class  Model  \\\n0  O1CC[C@@H](NC(=O)[C@@H](Cc2cc3cc(ccc3nc2N)-c2c...  BACE_1      1  Train   \n1  Fc1cc(cc(F)c1)C[C@H](NC(=O)[C@@H](N1CC[C@](NC(...  BACE_2      1  Train   \n2  S1(=O)(=O)N(c2cc(cc3c2n(cc3CC)CC1)C(=O)N[C@H](...  BACE_3      1  Train   \n3  S1(=O)(=O)C[C@@H](Cc2cc(O[C@H](COCC)C(F)(F)F)c...  BACE_4      1  Train   \n4  S1(=O)(=O)N(c2cc(cc3c2n(cc3CC)CC1)C(=O)N[C@H](...  BACE_5      1  Train   \n\n      pIC50         MW   AlogP  HBA  HBD  RB  ...  PEOE6 (PEOE6)  \\\n0  9.154901  431.56979  4.4014    3    2   5  ...      53.205711   \n1  8.853872  657.81073  2.6412    5    4  16  ...      73.817162   \n2  8.698970  591.74091  2.5499    4    3  11  ...      70.365707   \n3  8.698970  591.67828  3.1680    4    3  12  ...      56.657166   \n4  8.698970  629.71283  3.5086    3    3  11  ...      78.945702   \n\n   PEOE7 (PEOE7)  PEOE8 (PEOE8)  PEOE9 (PEOE9)  PEOE10 (PEOE10)  \\\n0      78.640335      226.85541      107.43491        37.133846   \n1      47.171600      365.67694      174.07675        34.923889   \n2      47.941147      192.40652      255.75255        23.654478   \n3      37.954151      194.35304      202.76335        36.498634   \n4      39.361153      179.71288      220.46130        23.654478   \n\n   PEOE11 (PEOE11)  PEOE12 (PEOE12)  PEOE13 (PEOE13)  PEOE14 (PEOE14)  \\\n0         0.000000         7.980170              0.0         0.000000   \n1         7.980170        24.148668              0.0        24.663788   \n2         0.230159        15.879790              0.0        24.663788   \n3         0.980913         8.188327              0.0        26.385181   \n4         0.230159        15.879790              0.0        26.100143   \n\n   canvasUID  \n0          1  \n1          2  \n2          3  \n3          4  \n4          5  \n\n[5 rows x 595 columns]",
      "text/html": "<div>\n<style scoped>\n    .dataframe tbody tr th:only-of-type {\n        vertical-align: middle;\n    }\n\n    .dataframe tbody tr th {\n        vertical-align: top;\n    }\n\n    .dataframe thead th {\n        text-align: right;\n    }\n</style>\n<table border=\"1\" class=\"dataframe\">\n  <thead>\n    <tr style=\"text-align: right;\">\n      <th></th>\n      <th>mol</th>\n      <th>CID</th>\n      <th>Class</th>\n      <th>Model</th>\n      <th>pIC50</th>\n      <th>MW</th>\n      <th>AlogP</th>\n      <th>HBA</th>\n      <th>HBD</th>\n      <th>RB</th>\n      <th>...</th>\n      <th>PEOE6 (PEOE6)</th>\n      <th>PEOE7 (PEOE7)</th>\n      <th>PEOE8 (PEOE8)</th>\n      <th>PEOE9 (PEOE9)</th>\n      <th>PEOE10 (PEOE10)</th>\n      <th>PEOE11 (PEOE11)</th>\n      <th>PEOE12 (PEOE12)</th>\n      <th>PEOE13 (PEOE13)</th>\n      <th>PEOE14 (PEOE14)</th>\n      <th>canvasUID</th>\n    </tr>\n  </thead>\n  <tbody>\n    <tr>\n      <th>0</th>\n      <td>O1CC[C@@H](NC(=O)[C@@H](Cc2cc3cc(ccc3nc2N)-c2c...</td>\n      <td>BACE_1</td>\n      <td>1</td>\n      <td>Train</td>\n      <td>9.154901</td>\n      <td>431.56979</td>\n      <td>4.4014</td>\n      <td>3</td>\n      <td>2</td>\n      <td>5</td>\n      <td>...</td>\n      <td>53.205711</td>\n      <td>78.640335</td>\n      <td>226.85541</td>\n      <td>107.43491</td>\n      <td>37.133846</td>\n      <td>0.000000</td>\n      <td>7.980170</td>\n      <td>0.0</td>\n      <td>0.000000</td>\n      <td>1</td>\n    </tr>\n    <tr>\n      <th>1</th>\n      <td>Fc1cc(cc(F)c1)C[C@H](NC(=O)[C@@H](N1CC[C@](NC(...</td>\n      <td>BACE_2</td>\n      <td>1</td>\n      <td>Train</td>\n      <td>8.853872</td>\n      <td>657.81073</td>\n      <td>2.6412</td>\n      <td>5</td>\n      <td>4</td>\n      <td>16</td>\n      <td>...</td>\n      <td>73.817162</td>\n      <td>47.171600</td>\n      <td>365.67694</td>\n      <td>174.07675</td>\n      <td>34.923889</td>\n      <td>7.980170</td>\n      <td>24.148668</td>\n      <td>0.0</td>\n      <td>24.663788</td>\n      <td>2</td>\n    </tr>\n    <tr>\n      <th>2</th>\n      <td>S1(=O)(=O)N(c2cc(cc3c2n(cc3CC)CC1)C(=O)N[C@H](...</td>\n      <td>BACE_3</td>\n      <td>1</td>\n      <td>Train</td>\n      <td>8.698970</td>\n      <td>591.74091</td>\n      <td>2.5499</td>\n      <td>4</td>\n      <td>3</td>\n      <td>11</td>\n      <td>...</td>\n      <td>70.365707</td>\n      <td>47.941147</td>\n      <td>192.40652</td>\n      <td>255.75255</td>\n      <td>23.654478</td>\n      <td>0.230159</td>\n      <td>15.879790</td>\n      <td>0.0</td>\n      <td>24.663788</td>\n      <td>3</td>\n    </tr>\n    <tr>\n      <th>3</th>\n      <td>S1(=O)(=O)C[C@@H](Cc2cc(O[C@H](COCC)C(F)(F)F)c...</td>\n      <td>BACE_4</td>\n      <td>1</td>\n      <td>Train</td>\n      <td>8.698970</td>\n      <td>591.67828</td>\n      <td>3.1680</td>\n      <td>4</td>\n      <td>3</td>\n      <td>12</td>\n      <td>...</td>\n      <td>56.657166</td>\n      <td>37.954151</td>\n      <td>194.35304</td>\n      <td>202.76335</td>\n      <td>36.498634</td>\n      <td>0.980913</td>\n      <td>8.188327</td>\n      <td>0.0</td>\n      <td>26.385181</td>\n      <td>4</td>\n    </tr>\n    <tr>\n      <th>4</th>\n      <td>S1(=O)(=O)N(c2cc(cc3c2n(cc3CC)CC1)C(=O)N[C@H](...</td>\n      <td>BACE_5</td>\n      <td>1</td>\n      <td>Train</td>\n      <td>8.698970</td>\n      <td>629.71283</td>\n      <td>3.5086</td>\n      <td>3</td>\n      <td>3</td>\n      <td>11</td>\n      <td>...</td>\n      <td>78.945702</td>\n      <td>39.361153</td>\n      <td>179.71288</td>\n      <td>220.46130</td>\n      <td>23.654478</td>\n      <td>0.230159</td>\n      <td>15.879790</td>\n      <td>0.0</td>\n      <td>26.100143</td>\n      <td>5</td>\n    </tr>\n  </tbody>\n</table>\n<p>5 rows × 595 columns</p>\n</div>"
     },
     "execution_count": 11,
     "metadata": {},
     "output_type": "execute_result"
    }
   ],
   "source": [
    "df.head()"
   ],
   "metadata": {
    "collapsed": false,
    "ExecuteTime": {
     "start_time": "2024-03-05T13:28:40.704364Z",
     "end_time": "2024-03-05T13:28:40.729473Z"
    }
   }
  },
  {
   "cell_type": "code",
   "execution_count": 22,
   "outputs": [],
   "source": [
    "splitter = ScaffoldSplitter()\n",
    "# splitter = RandomSplitter()"
   ],
   "metadata": {
    "collapsed": false,
    "ExecuteTime": {
     "start_time": "2024-03-05T13:38:14.649507Z",
     "end_time": "2024-03-05T13:38:14.667510Z"
    }
   }
  },
  {
   "cell_type": "code",
   "execution_count": 23,
   "outputs": [
    {
     "data": {
      "text/plain": "0       O1CC[C@@H](NC(=O)[C@@H](Cc2cc3cc(ccc3nc2N)-c2c...\n1       Fc1cc(cc(F)c1)C[C@H](NC(=O)[C@@H](N1CC[C@](NC(...\n2       S1(=O)(=O)N(c2cc(cc3c2n(cc3CC)CC1)C(=O)N[C@H](...\n3       S1(=O)(=O)C[C@@H](Cc2cc(O[C@H](COCC)C(F)(F)F)c...\n4       S1(=O)(=O)N(c2cc(cc3c2n(cc3CC)CC1)C(=O)N[C@H](...\n                              ...                        \n1508            Clc1cc2nc(n(c2cc1)C(CC(=O)NCC1CCOCC1)CC)N\n1509            Clc1cc2nc(n(c2cc1)C(CC(=O)NCc1ncccc1)CC)N\n1510               Brc1cc(ccc1)C1CC1C=1N=C(N)N(C)C(=O)C=1\n1511         O=C1N(C)C(=NC(=C1)C1CC1c1cc(ccc1)-c1ccccc1)N\n1512                  Clc1cc2nc(n(c2cc1)CCCC(=O)NCC1CC1)N\nName: mol, Length: 1513, dtype: object"
     },
     "execution_count": 23,
     "metadata": {},
     "output_type": "execute_result"
    }
   ],
   "source": [
    "df['mol']"
   ],
   "metadata": {
    "collapsed": false,
    "ExecuteTime": {
     "start_time": "2024-03-05T13:38:15.358675Z",
     "end_time": "2024-03-05T13:38:15.376186Z"
    }
   }
  },
  {
   "cell_type": "code",
   "execution_count": 27,
   "outputs": [
    {
     "data": {
      "text/plain": "(array([1305, 1312, 1316, ..., 1393, 1426, 1489]),\n array([ 240,  230,   16,   35, 1384, 1375,  465,  596,  613,  657,  658,\n         659,  660,  686,  687,  766,  825,  848, 1003, 1009, 1026, 1071,\n        1465,  944,  972, 1116,   30,   47,   96,  645,   65,  190,  206,\n         210,  245,  246,  247, 1192,  237,  205, 1261,  743, 1145, 1477,\n          97,  381, 1281,  361,  197, 1457, 1460, 1461, 1482, 1492, 1505,\n        1506,  738,  497,  252,  260,  279,  294,  363,  364,  430,  458,\n         459,  571,  673,  681,  682,  818, 1175,  338, 1284, 1336,  889,\n           9, 1439, 1319,  212,  772, 1021, 1435, 1130,   91,  178, 1135,\n        1200, 1376, 1381, 1414,  539,  425,  722,  750,  751,  842,  873,\n         963,  990,    1,  404, 1001, 1214, 1286,  677,  680, 1230,  651,\n        1473,  103, 1047, 1352, 1472,  995, 1068, 1353, 1425, 1438,  536,\n         850, 1014, 1252, 1341,  874,  785,  463,  589, 1497,  590,  906,\n         351, 1043,  783,  923, 1143, 1185, 1368,  644,  400, 1018, 1271,\n        1292, 1177,  123,  232, 1456, 1011,  391,  401]),\n array([1209, 1273, 1401,  574,  593,  621,  720,  759,  780,  859,  271,\n        1380,  221,  301,   59,  395,  432,  782,  970, 1078,  650, 1000,\n         466,  172,   11,   83,  535,  275, 1029, 1503,  468, 1186, 1242,\n         276,  282,  382,  318,  721, 1118, 1391, 1405, 1417, 1420,  715,\n        1006, 1124, 1351,  502,  774, 1201,  626,  932, 1412, 1413,  137,\n         755,  353,  390,  438,  530,  908,   58,  936, 1203,  189,  975,\n         150,  870,  928,   44,  208,   57,  875,  451, 1306,   21, 1056,\n         817,   92,   78,  130,  810,  960, 1243, 1194,   62, 1227, 1402,\n        1485, 1100, 1326,  269,  961, 1053, 1013,  992, 1180, 1322, 1323,\n         143,  298,  440,  672, 1069, 1087, 1432, 1050, 1051,  334,  117,\n        1115, 1036,  740, 1027,  345,  483,  563,  564,  622,  749,  791,\n         814, 1170, 1331,  352,   20, 1246, 1039,  537,  525,  561, 1173,\n        1374, 1480, 1481, 1498, 1348, 1197,   54,   95,  481,   73,  638,\n         679,  741,  795,  897,  985, 1062, 1089, 1159, 1310, 1229,  371,\n         551,  170, 1222, 1238, 1330, 1055,  155,  254,  611, 1217,  174,\n         350,  505,  538,  579,  585,  728, 1287,   24,   40, 1193,  712,\n         920,  925,  945,  989, 1067,   41,  374,  375,  376,  377,  378,\n         379,  402,  410,  469,  470,  471,  472,  474,  475,  476,  480,\n         554,  555,  556,  557,  558,  559,  560,  617,  618,  619,  620,\n         627,  662,  663,  664,  690,  717,  718,  746,  747,  748,  768,\n         769,  790,  803,  812,  863,  882,  883,  916, 1072, 1111, 1134,\n        1188, 1199, 1220, 1231, 1233, 1183, 1075,  450,   93, 1153,  315,\n         386,  455,  701,  805,  823,  846,  131,  501, 1423,  121,  136,\n        1396, 1397, 1400, 1406, 1415, 1138, 1139,  333, 1090,  419,  427,\n         921,  998, 1335,  955,  509,  792,  576, 1496,  918,  337,  411,\n         562,  639,  703,  719,  813,  858,  879,  905, 1097, 1141, 1221,\n        1427,  200,  231,  508,  699,   38,  134, 1079, 1083, 1129, 1300,\n         490, 1508,  910,  188,  546]))"
     },
     "execution_count": 27,
     "metadata": {},
     "output_type": "execute_result"
    }
   ],
   "source": [
    "splitter.train_valid_test_split(\n",
    "    df,\n",
    "    smiles_list=df['mol'].tolist(),\n",
    "    frac_train=0.7,\n",
    "    frac_valid=0.1,\n",
    "    frac_test=0.2,\n",
    "    seed=0,\n",
    "    include_chirality=True,\n",
    "    return_index=True\n",
    ")"
   ],
   "metadata": {
    "collapsed": false,
    "ExecuteTime": {
     "start_time": "2024-03-05T13:43:44.945371Z",
     "end_time": "2024-03-05T14:04:08.305794Z"
    }
   }
  },
  {
   "cell_type": "code",
   "execution_count": null,
   "outputs": [],
   "source": [],
   "metadata": {
    "collapsed": false
   }
  }
 ],
 "metadata": {
  "kernelspec": {
   "display_name": "Python 3 (ipykernel)",
   "language": "python",
   "name": "python3"
  },
  "language_info": {
   "codemirror_mode": {
    "name": "ipython",
    "version": 3
   },
   "file_extension": ".py",
   "mimetype": "text/x-python",
   "name": "python",
   "nbconvert_exporter": "python",
   "pygments_lexer": "ipython3",
   "version": "3.9.18"
  }
 },
 "nbformat": 4,
 "nbformat_minor": 4
}
