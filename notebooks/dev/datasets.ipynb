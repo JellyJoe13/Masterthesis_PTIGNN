{
 "cells": [
  {
   "cell_type": "markdown",
   "source": [
    "# Data related dev"
   ],
   "metadata": {
    "collapsed": false
   }
  },
  {
   "cell_type": "markdown",
   "source": [
    "## Dataset"
   ],
   "metadata": {
    "collapsed": false
   }
  },
  {
   "cell_type": "code",
   "execution_count": 1,
   "metadata": {
    "ExecuteTime": {
     "start_time": "2024-03-05T17:50:20.613737Z",
     "end_time": "2024-03-05T17:50:20.620737Z"
    }
   },
   "outputs": [],
   "source": [
    "import sys\n",
    "sys.path.append(\"../../\")"
   ]
  },
  {
   "cell_type": "code",
   "execution_count": 2,
   "outputs": [],
   "source": [
    "from ptgnn.dataset import RSDataset, BindingAffinityDataset, BaceDataset, Tox21Dataset, OGBDataset"
   ],
   "metadata": {
    "collapsed": false,
    "ExecuteTime": {
     "start_time": "2024-03-05T17:50:21.358284Z",
     "end_time": "2024-03-05T17:50:29.511559Z"
    }
   }
  },
  {
   "cell_type": "code",
   "execution_count": 3,
   "outputs": [
    {
     "data": {
      "text/plain": "Data(x=[88, 118], edge_index=[2, 252], edge_attr=[252, 80], pos=[88, 6], parallel_node_index=[88], circle_index=[88], y=[1])"
     },
     "execution_count": 3,
     "metadata": {},
     "output_type": "execute_result"
    }
   ],
   "source": [
    "ogb = OGBDataset(split=\"test\", ds_name=\"hiv\")\n",
    "ogb[0]"
   ],
   "metadata": {
    "collapsed": false,
    "ExecuteTime": {
     "start_time": "2024-03-05T17:50:32.771289Z",
     "end_time": "2024-03-05T17:50:33.265012Z"
    }
   }
  },
  {
   "cell_type": "code",
   "execution_count": 4,
   "outputs": [
    {
     "name": "stderr",
     "output_type": "stream",
     "text": [
      "Processing...\n",
      "1060it [00:17, 60.26it/s] \n",
      "151it [00:07, 18.94it/s]\n",
      "302it [00:09, 32.33it/s] \n",
      "Done!\n"
     ]
    }
   ],
   "source": [
    "bac1 = BaceDataset(split='val')"
   ],
   "metadata": {
    "collapsed": false,
    "ExecuteTime": {
     "start_time": "2024-03-05T16:02:18.835805Z",
     "end_time": "2024-03-05T16:02:56.470758Z"
    }
   }
  },
  {
   "cell_type": "code",
   "execution_count": 5,
   "outputs": [
    {
     "data": {
      "text/plain": "BaceDataset(151)"
     },
     "execution_count": 5,
     "metadata": {},
     "output_type": "execute_result"
    }
   ],
   "source": [
    "bac1"
   ],
   "metadata": {
    "collapsed": false,
    "ExecuteTime": {
     "start_time": "2024-03-05T16:02:56.471759Z",
     "end_time": "2024-03-05T16:02:56.486763Z"
    }
   }
  },
  {
   "cell_type": "code",
   "execution_count": 6,
   "outputs": [
    {
     "data": {
      "text/plain": "Data(x=[202, 118], edge_index=[2, 578], edge_attr=[578, 80], pos=[202, 6], parallel_node_index=[202], circle_index=[202], y=[1])"
     },
     "execution_count": 6,
     "metadata": {},
     "output_type": "execute_result"
    }
   ],
   "source": [
    "bac1[0]"
   ],
   "metadata": {
    "collapsed": false,
    "ExecuteTime": {
     "start_time": "2024-03-05T16:02:56.488763Z",
     "end_time": "2024-03-05T16:02:56.532270Z"
    }
   }
  },
  {
   "cell_type": "code",
   "execution_count": 7,
   "outputs": [],
   "source": [
    "tox1 = Tox21Dataset(split='val')"
   ],
   "metadata": {
    "collapsed": false,
    "ExecuteTime": {
     "start_time": "2024-03-05T16:02:56.503271Z",
     "end_time": "2024-03-05T16:02:56.552270Z"
    }
   }
  },
  {
   "cell_type": "code",
   "execution_count": 8,
   "outputs": [
    {
     "data": {
      "text/plain": "Data(x=[40, 118], edge_index=[2, 104], edge_attr=[104, 80], pos=[40, 6], parallel_node_index=[40], circle_index=[40], y=[12])"
     },
     "execution_count": 8,
     "metadata": {},
     "output_type": "execute_result"
    }
   ],
   "source": [
    "tox1[0]"
   ],
   "metadata": {
    "collapsed": false,
    "ExecuteTime": {
     "start_time": "2024-03-05T16:02:56.550273Z",
     "end_time": "2024-03-05T16:02:56.580270Z"
    }
   }
  },
  {
   "cell_type": "code",
   "execution_count": 9,
   "outputs": [
    {
     "name": "stderr",
     "output_type": "stream",
     "text": [
      "Processing...\n",
      "11748it [01:25, 138.09it/s]\n",
      "Done!\n"
     ]
    }
   ],
   "source": [
    "t1 = RSDataset(split='val')"
   ],
   "metadata": {
    "collapsed": false,
    "ExecuteTime": {
     "start_time": "2024-03-05T16:03:01.273523Z",
     "end_time": "2024-03-05T16:04:35.089024Z"
    }
   }
  },
  {
   "cell_type": "code",
   "execution_count": 10,
   "outputs": [
    {
     "data": {
      "text/plain": "Data(x=[72, 118], edge_index=[2, 192], edge_attr=[192, 80], pos=[72, 6], parallel_node_index=[72], circle_index=[72], y=[1])"
     },
     "execution_count": 10,
     "metadata": {},
     "output_type": "execute_result"
    }
   ],
   "source": [
    "t1[0]"
   ],
   "metadata": {
    "collapsed": false,
    "ExecuteTime": {
     "start_time": "2024-03-05T16:04:35.091023Z",
     "end_time": "2024-03-05T16:04:35.104024Z"
    }
   }
  },
  {
   "cell_type": "code",
   "execution_count": 11,
   "outputs": [
    {
     "data": {
      "text/plain": "RSDataset(11740)"
     },
     "execution_count": 11,
     "metadata": {},
     "output_type": "execute_result"
    }
   ],
   "source": [
    "t1"
   ],
   "metadata": {
    "collapsed": false,
    "ExecuteTime": {
     "start_time": "2024-03-05T16:04:35.105024Z",
     "end_time": "2024-03-05T16:04:35.150537Z"
    }
   }
  },
  {
   "cell_type": "code",
   "execution_count": 12,
   "outputs": [
    {
     "data": {
      "text/plain": "11740"
     },
     "execution_count": 12,
     "metadata": {},
     "output_type": "execute_result"
    }
   ],
   "source": [
    "len(t1)"
   ],
   "metadata": {
    "collapsed": false,
    "ExecuteTime": {
     "start_time": "2024-03-05T16:04:35.121024Z",
     "end_time": "2024-03-05T16:04:35.159537Z"
    }
   }
  },
  {
   "cell_type": "code",
   "execution_count": 13,
   "outputs": [
    {
     "name": "stderr",
     "output_type": "stream",
     "text": [
      "Processing...\n",
      "11680it [01:24, 138.78it/s]\n",
      "Done!\n"
     ]
    }
   ],
   "source": [
    "t2 = RSDataset(split=\"test\")"
   ],
   "metadata": {
    "collapsed": false,
    "ExecuteTime": {
     "start_time": "2024-03-05T16:04:35.138028Z",
     "end_time": "2024-03-05T16:06:07.587881Z"
    }
   }
  },
  {
   "cell_type": "code",
   "execution_count": 14,
   "outputs": [
    {
     "data": {
      "text/plain": "Data(x=[36, 118], edge_index=[2, 104], edge_attr=[104, 80], pos=[36, 6], parallel_node_index=[36], circle_index=[36], y=[1])"
     },
     "execution_count": 14,
     "metadata": {},
     "output_type": "execute_result"
    }
   ],
   "source": [
    "t2[0]"
   ],
   "metadata": {
    "collapsed": false,
    "ExecuteTime": {
     "start_time": "2024-03-05T16:06:07.587881Z",
     "end_time": "2024-03-05T16:06:07.603386Z"
    }
   }
  },
  {
   "cell_type": "code",
   "execution_count": 15,
   "outputs": [
    {
     "data": {
      "text/plain": "11676"
     },
     "execution_count": 15,
     "metadata": {},
     "output_type": "execute_result"
    }
   ],
   "source": [
    "len(t2)"
   ],
   "metadata": {
    "collapsed": false,
    "ExecuteTime": {
     "start_time": "2024-03-05T16:06:07.604387Z",
     "end_time": "2024-03-05T16:06:07.648747Z"
    }
   }
  },
  {
   "cell_type": "code",
   "execution_count": 16,
   "outputs": [
    {
     "name": "stderr",
     "output_type": "stream",
     "text": [
      "Processing...\n",
      "55084it [06:16, 146.38it/s]\n",
      "Done!\n"
     ]
    }
   ],
   "source": [
    "t3 = RSDataset(split=\"train\")"
   ],
   "metadata": {
    "collapsed": false,
    "ExecuteTime": {
     "start_time": "2024-03-05T16:06:07.620234Z",
     "end_time": "2024-03-05T16:13:03.398122Z"
    }
   }
  },
  {
   "cell_type": "code",
   "execution_count": 17,
   "outputs": [
    {
     "data": {
      "text/plain": "Data(x=[132, 118], edge_index=[2, 348], edge_attr=[348, 80], pos=[132, 6], parallel_node_index=[132], circle_index=[132], y=[1])"
     },
     "execution_count": 17,
     "metadata": {},
     "output_type": "execute_result"
    }
   ],
   "source": [
    "t3[0]"
   ],
   "metadata": {
    "collapsed": false,
    "ExecuteTime": {
     "start_time": "2024-03-05T16:13:03.400119Z",
     "end_time": "2024-03-05T16:13:03.413119Z"
    }
   }
  },
  {
   "cell_type": "code",
   "execution_count": 18,
   "outputs": [
    {
     "data": {
      "text/plain": "55068"
     },
     "execution_count": 18,
     "metadata": {},
     "output_type": "execute_result"
    }
   ],
   "source": [
    "len(t3)"
   ],
   "metadata": {
    "collapsed": false,
    "ExecuteTime": {
     "start_time": "2024-03-05T16:13:03.415120Z",
     "end_time": "2024-03-05T16:13:03.459261Z"
    }
   }
  },
  {
   "cell_type": "code",
   "execution_count": 19,
   "outputs": [
    {
     "name": "stderr",
     "output_type": "stream",
     "text": [
      "Processing...\n",
      "10368it [00:38, 266.38it/s]\n",
      "Done!\n"
     ]
    }
   ],
   "source": [
    "ba1 = BindingAffinityDataset(split=\"val\")"
   ],
   "metadata": {
    "collapsed": false,
    "ExecuteTime": {
     "start_time": "2024-03-05T16:13:03.429259Z",
     "end_time": "2024-03-05T16:13:47.743723Z"
    }
   }
  },
  {
   "cell_type": "code",
   "execution_count": 20,
   "outputs": [
    {
     "data": {
      "text/plain": "BindingAffinityDataset(10354)"
     },
     "execution_count": 20,
     "metadata": {},
     "output_type": "execute_result"
    }
   ],
   "source": [
    "ba1"
   ],
   "metadata": {
    "collapsed": false,
    "ExecuteTime": {
     "start_time": "2024-03-05T16:13:47.744723Z",
     "end_time": "2024-03-05T16:13:47.774725Z"
    }
   }
  },
  {
   "cell_type": "code",
   "execution_count": 21,
   "outputs": [
    {
     "data": {
      "text/plain": "Data(x=[46, 118], edge_index=[2, 136], edge_attr=[136, 80], pos=[46, 6], parallel_node_index=[46], circle_index=[46], y=[1])"
     },
     "execution_count": 21,
     "metadata": {},
     "output_type": "execute_result"
    }
   ],
   "source": [
    "ba1[0]"
   ],
   "metadata": {
    "collapsed": false,
    "ExecuteTime": {
     "start_time": "2024-03-05T16:13:47.760724Z",
     "end_time": "2024-03-05T16:13:47.788727Z"
    }
   }
  },
  {
   "cell_type": "code",
   "execution_count": 22,
   "outputs": [
    {
     "data": {
      "text/plain": "10354"
     },
     "execution_count": 22,
     "metadata": {},
     "output_type": "execute_result"
    }
   ],
   "source": [
    "len(ba1)"
   ],
   "metadata": {
    "collapsed": false,
    "ExecuteTime": {
     "start_time": "2024-03-05T16:13:47.777727Z",
     "end_time": "2024-03-05T16:13:47.792887Z"
    }
   }
  },
  {
   "cell_type": "markdown",
   "source": [
    "## Loader"
   ],
   "metadata": {
    "collapsed": false
   }
  },
  {
   "cell_type": "code",
   "execution_count": 23,
   "outputs": [],
   "source": [
    "import torch\n",
    "from torch_geometric.data import Dataset\n",
    "from torch_geometric.data.data import BaseData\n",
    "from torch_geometric.loader.dataloader import Collater\n",
    "from typing import Union, List, Optional, Any\n",
    "from ptgnn.loading.chienn_collate import collate_with_circle_index"
   ],
   "metadata": {
    "collapsed": false,
    "ExecuteTime": {
     "start_time": "2024-03-05T16:36:00.085357Z",
     "end_time": "2024-03-05T16:36:00.103915Z"
    }
   }
  },
  {
   "cell_type": "code",
   "execution_count": 24,
   "outputs": [],
   "source": [
    "class CustomCollater:\n",
    "    def __init__(self, follow_batch=None, exclude_keys=None, n_neighbors_in_circle=None):\n",
    "        self.collator = Collater(follow_batch, exclude_keys)\n",
    "        self.follow_batch = follow_batch\n",
    "        exclude_keys = exclude_keys if exclude_keys else []\n",
    "        self.exclude_keys = exclude_keys + ['circle_index']\n",
    "        self.n_neighbors_in_circle = n_neighbors_in_circle\n",
    "\n",
    "    def __call__(self, batch: List[Any]):\n",
    "        elem = batch[0]\n",
    "        if isinstance(elem, BaseData) and hasattr(elem, 'circle_index'):\n",
    "            return collate_with_circle_index(batch, self.n_neighbors_in_circle)\n",
    "        else:\n",
    "            return self.collator(batch)"
   ],
   "metadata": {
    "collapsed": false,
    "ExecuteTime": {
     "start_time": "2024-03-05T16:36:00.735423Z",
     "end_time": "2024-03-05T16:36:00.745424Z"
    }
   }
  },
  {
   "cell_type": "code",
   "execution_count": 25,
   "outputs": [],
   "source": [
    "class CustomDataLoader(torch.utils.data.DataLoader):\n",
    "    r\"\"\"A data loader which merges data objects from a\n",
    "    :class:`torch_geometric.data.Dataset` to a mini-batch.\n",
    "    Data objects can be either of type :class:`~torch_geometric.data.Data` or\n",
    "    :class:`~torch_geometric.data.HeteroData`.\n",
    "\n",
    "    Args:\n",
    "        dataset (Dataset): The dataset from which to load the data.\n",
    "        batch_size (int, optional): How many samples per batch to load.\n",
    "            (default: :obj:`1`)\n",
    "        shuffle (bool, optional): If set to :obj:`True`, the data will be\n",
    "            reshuffled at every epoch. (default: :obj:`False`)\n",
    "        follow_batch (List[str], optional): Creates assignment batch\n",
    "            vectors for each key in the list. (default: :obj:`None`)\n",
    "        exclude_keys (List[str], optional): Will exclude each key in the\n",
    "            list. (default: :obj:`None`)\n",
    "        **kwargs (optional): Additional arguments of\n",
    "            :class:`torch.utils.data.DataLoader`.\n",
    "    \"\"\"\n",
    "    def __init__(\n",
    "            self,\n",
    "            dataset: Union[Dataset, List[BaseData]],\n",
    "            batch_size: int = 1,\n",
    "            shuffle: bool = False,\n",
    "            follow_batch: Optional[List[str]] = None,\n",
    "            exclude_keys: Optional[List[str]] = None,\n",
    "            n_neighbors_in_circle: Optional[int] = None,\n",
    "            **kwargs,\n",
    "    ):\n",
    "\n",
    "        if 'collate_fn' in kwargs:\n",
    "            del kwargs['collate_fn']\n",
    "\n",
    "        # Save for PyTorch Lightning:\n",
    "        self.follow_batch = follow_batch\n",
    "        self.exclude_keys = exclude_keys\n",
    "\n",
    "        super().__init__(\n",
    "            dataset,\n",
    "            batch_size,\n",
    "            shuffle,\n",
    "            collate_fn=CustomCollater(follow_batch, exclude_keys, n_neighbors_in_circle),\n",
    "            **kwargs,\n",
    "        )"
   ],
   "metadata": {
    "collapsed": false,
    "ExecuteTime": {
     "start_time": "2024-03-05T16:36:01.313178Z",
     "end_time": "2024-03-05T16:36:01.323180Z"
    }
   }
  },
  {
   "cell_type": "code",
   "execution_count": 43,
   "outputs": [],
   "source": [
    "ba1 = BindingAffinityDataset(split=\"val\")\n",
    "loader = CustomDataLoader(ba1, n_neighbors_in_circle=3, batch_size=3)"
   ],
   "metadata": {
    "collapsed": false,
    "ExecuteTime": {
     "start_time": "2024-03-05T16:46:45.948916Z",
     "end_time": "2024-03-05T16:46:46.403957Z"
    }
   }
  },
  {
   "cell_type": "code",
   "execution_count": 44,
   "outputs": [
    {
     "name": "stdout",
     "output_type": "stream",
     "text": [
      "DataBatch(x=[130, 118], edge_index=[2, 378], edge_attr=[378, 80], pos=[130, 6], parallel_node_index=[130], y=[3], batch=[130], ptr=[4], circle_index=[130, 5])\n"
     ]
    }
   ],
   "source": [
    "for batch in loader:\n",
    "    print(batch)\n",
    "    break"
   ],
   "metadata": {
    "collapsed": false,
    "ExecuteTime": {
     "start_time": "2024-03-05T16:46:47.323358Z",
     "end_time": "2024-03-05T16:46:47.333330Z"
    }
   }
  },
  {
   "cell_type": "code",
   "execution_count": 45,
   "outputs": [
    {
     "data": {
      "text/plain": "tensor([0, 0, 0, 0, 0, 0, 0, 0, 0, 0, 0, 0, 0, 0, 0, 0, 0, 0, 0, 0, 0, 0, 0, 0,\n        0, 0, 0, 0, 0, 0, 0, 0, 0, 0, 0, 0, 0, 0, 0, 0, 0, 0, 0, 0, 0, 0, 1, 1,\n        1, 1, 1, 1, 1, 1, 1, 1, 1, 1, 1, 1, 1, 1, 1, 1, 1, 1, 1, 1, 1, 1, 1, 1,\n        1, 1, 1, 1, 1, 1, 1, 1, 1, 1, 1, 1, 1, 1, 1, 1, 1, 1, 1, 1, 2, 2, 2, 2,\n        2, 2, 2, 2, 2, 2, 2, 2, 2, 2, 2, 2, 2, 2, 2, 2, 2, 2, 2, 2, 2, 2, 2, 2,\n        2, 2, 2, 2, 2, 2, 2, 2, 2, 2])"
     },
     "execution_count": 45,
     "metadata": {},
     "output_type": "execute_result"
    }
   ],
   "source": [
    "batch.batch"
   ],
   "metadata": {
    "collapsed": false,
    "ExecuteTime": {
     "start_time": "2024-03-05T16:46:49.929823Z",
     "end_time": "2024-03-05T16:46:49.946554Z"
    }
   }
  },
  {
   "cell_type": "code",
   "execution_count": 46,
   "outputs": [
    {
     "data": {
      "text/plain": "tensor([[ -1,  -1,  -1,  -1,  -1],\n        [  3,   7,   5,   3,   7],\n        [  0,   5,   7,   0,   5],\n        [  9,  11,  13,   9,  11],\n        [  0,   7,   3,   0,   7],\n        [ 38,  45,  43,  38,  45],\n        [  0,   3,   5,   0,   3],\n        [ -1,  -1,  -1,  -1,  -1],\n        [  2,  13,  11,   2,  13],\n        [ 15,  19,  17,  15,  19],\n        [  2,   9,  13,   2,   9],\n        [ -1,  -1,  -1,  -1,  -1],\n        [  2,  11,   9,   2,  11],\n        [ -1,  -1,  -1,  -1,  -1],\n        [  8,  17,  19,   8,  17],\n        [ 21,  25,  23,  21,  25],\n        [  8,  19,  15,   8,  19],\n        [ -1,  -1,  -1,  -1,  -1],\n        [  8,  15,  17,   8,  15],\n        [ -1,  -1,  -1,  -1,  -1],\n        [ 14,  23,  25,  14,  23],\n        [ 27,  29,  31,  27,  29],\n        [ 14,  25,  21,  14,  25],\n        [ -1,  -1,  -1,  -1,  -1],\n        [ 14,  21,  23,  14,  21],\n        [ -1,  -1,  -1,  -1,  -1],\n        [ 20,  31,  29,  20,  31],\n        [ 33,  37,  35,  33,  37],\n        [ 20,  27,  31,  20,  27],\n        [ -1,  -1,  -1,  -1,  -1],\n        [ 20,  29,  27,  20,  29],\n        [ -1,  -1,  -1,  -1,  -1],\n        [ 26,  35,  37,  26,  35],\n        [ 39,  41,  39,  41,  -1],\n        [ 26,  37,  33,  26,  37],\n        [ -1,  -1,  -1,  -1,  -1],\n        [ 26,  33,  35,  26,  33],\n        [ -1,  -1,  -1,  -1,  -1],\n        [ 32,  41,  32,  41,  -1],\n        [  4,  43,  45,   4,  43],\n        [ 32,  39,  32,  39,  -1],\n        [ -1,  -1,  -1,  -1,  -1],\n        [  4,  45,  38,   4,  45],\n        [ -1,  -1,  -1,  -1,  -1],\n        [  4,  38,  43,   4,  38],\n        [ -1,  -1,  -1,  -1,  -1],\n        [ -1,  -1,  -1,  -1,  -1],\n        [ 49,  51,  53,  49,  51],\n        [ 46,  53,  51,  46,  53],\n        [ 55,  59,  57,  55,  59],\n        [ 46,  49,  53,  46,  49],\n        [ 84,  91,  89,  84,  91],\n        [ 46,  51,  49,  46,  51],\n        [ -1,  -1,  -1,  -1,  -1],\n        [ 48,  57,  59,  48,  57],\n        [ 61,  65,  63,  61,  65],\n        [ 48,  59,  55,  48,  59],\n        [ -1,  -1,  -1,  -1,  -1],\n        [ 48,  55,  57,  48,  55],\n        [ -1,  -1,  -1,  -1,  -1],\n        [ 54,  63,  65,  54,  63],\n        [ 67,  71,  69,  67,  71],\n        [ 54,  65,  61,  54,  65],\n        [ -1,  -1,  -1,  -1,  -1],\n        [ 54,  61,  63,  54,  61],\n        [ -1,  -1,  -1,  -1,  -1],\n        [ 60,  69,  71,  60,  69],\n        [ 73,  75,  77,  73,  75],\n        [ 60,  71,  67,  60,  71],\n        [ -1,  -1,  -1,  -1,  -1],\n        [ 60,  67,  69,  60,  67],\n        [ -1,  -1,  -1,  -1,  -1],\n        [ 66,  77,  75,  66,  77],\n        [ 79,  83,  81,  79,  83],\n        [ 66,  73,  77,  66,  73],\n        [ -1,  -1,  -1,  -1,  -1],\n        [ 66,  75,  73,  66,  75],\n        [ -1,  -1,  -1,  -1,  -1],\n        [ 72,  81,  83,  72,  81],\n        [ 85,  87,  85,  87,  -1],\n        [ 72,  83,  79,  72,  83],\n        [ -1,  -1,  -1,  -1,  -1],\n        [ 72,  79,  81,  72,  79],\n        [ -1,  -1,  -1,  -1,  -1],\n        [ 78,  87,  78,  87,  -1],\n        [ 50,  89,  91,  50,  89],\n        [ 78,  85,  78,  85,  -1],\n        [ -1,  -1,  -1,  -1,  -1],\n        [ 50,  91,  84,  50,  91],\n        [ -1,  -1,  -1,  -1,  -1],\n        [ 50,  84,  89,  50,  84],\n        [ -1,  -1,  -1,  -1,  -1],\n        [ -1,  -1,  -1,  -1,  -1],\n        [ 95,  97,  95,  97,  -1],\n        [ 92,  97,  92,  97,  -1],\n        [ 99,  99,  99,  -1,  -1],\n        [ 92,  95,  92,  95,  -1],\n        [104, 104, 104,  -1,  -1],\n        [ 94,  94,  94,  -1,  -1],\n        [101, 101, 101,  -1,  -1],\n        [ 98,  98,  98,  -1,  -1],\n        [103, 105, 103, 105,  -1],\n        [100, 105, 100, 105,  -1],\n        [107, 111, 109, 107, 111],\n        [100, 103, 100, 103,  -1],\n        [ 96,  96,  96,  -1,  -1],\n        [102, 109, 111, 102, 109],\n        [113, 117, 115, 113, 117],\n        [102, 111, 107, 102, 111],\n        [124, 124, 124,  -1,  -1],\n        [102, 107, 109, 102, 107],\n        [ -1,  -1,  -1,  -1,  -1],\n        [106, 115, 117, 106, 115],\n        [119, 123, 121, 119, 123],\n        [106, 117, 113, 106, 117],\n        [ -1,  -1,  -1,  -1,  -1],\n        [106, 113, 115, 106, 113],\n        [ -1,  -1,  -1,  -1,  -1],\n        [112, 121, 123, 112, 121],\n        [125, 127, 129, 125, 127],\n        [112, 123, 119, 112, 123],\n        [ -1,  -1,  -1,  -1,  -1],\n        [112, 119, 121, 112, 119],\n        [ -1,  -1,  -1,  -1,  -1],\n        [118, 129, 127, 118, 129],\n        [108, 108, 108,  -1,  -1],\n        [118, 125, 129, 118, 125],\n        [ -1,  -1,  -1,  -1,  -1],\n        [118, 127, 125, 118, 127],\n        [ -1,  -1,  -1,  -1,  -1]])"
     },
     "execution_count": 46,
     "metadata": {},
     "output_type": "execute_result"
    }
   ],
   "source": [
    "batch.circle_index"
   ],
   "metadata": {
    "collapsed": false,
    "ExecuteTime": {
     "start_time": "2024-03-05T16:47:01.422494Z",
     "end_time": "2024-03-05T16:47:01.433997Z"
    }
   }
  },
  {
   "cell_type": "code",
   "execution_count": 47,
   "outputs": [
    {
     "data": {
      "text/plain": "Data(x=[46, 118], edge_index=[2, 136], edge_attr=[136, 80], pos=[46, 6], parallel_node_index=[46], y=[1])"
     },
     "execution_count": 47,
     "metadata": {},
     "output_type": "execute_result"
    }
   ],
   "source": [
    "batch[0]"
   ],
   "metadata": {
    "collapsed": false,
    "ExecuteTime": {
     "start_time": "2024-03-05T17:09:28.917437Z",
     "end_time": "2024-03-05T17:09:28.943077Z"
    }
   }
  },
  {
   "cell_type": "code",
   "execution_count": 48,
   "outputs": [
    {
     "data": {
      "text/plain": "[[],\n [3, 7, 5],\n [0, 5, 7],\n [9, 11, 13],\n [0, 7, 3],\n [38, 45, 43],\n [0, 3, 5],\n [],\n [2, 13, 11],\n [15, 19, 17],\n [2, 9, 13],\n [],\n [2, 11, 9],\n [],\n [8, 17, 19],\n [21, 25, 23],\n [8, 19, 15],\n [],\n [8, 15, 17],\n [],\n [14, 23, 25],\n [27, 29, 31],\n [14, 25, 21],\n [],\n [14, 21, 23],\n [],\n [20, 31, 29],\n [33, 37, 35],\n [20, 27, 31],\n [],\n [20, 29, 27],\n [],\n [26, 35, 37],\n [39, 41],\n [26, 37, 33],\n [],\n [26, 33, 35],\n [],\n [32, 41],\n [4, 43, 45],\n [32, 39],\n [],\n [4, 45, 38],\n [],\n [4, 38, 43],\n []]"
     },
     "execution_count": 48,
     "metadata": {},
     "output_type": "execute_result"
    }
   ],
   "source": [
    "ba1[0].circle_index"
   ],
   "metadata": {
    "collapsed": false,
    "ExecuteTime": {
     "start_time": "2024-03-05T17:24:51.779500Z",
     "end_time": "2024-03-05T17:24:51.798009Z"
    }
   }
  },
  {
   "cell_type": "code",
   "execution_count": 49,
   "outputs": [
    {
     "data": {
      "text/plain": "list"
     },
     "execution_count": 49,
     "metadata": {},
     "output_type": "execute_result"
    }
   ],
   "source": [
    "type(ba1[0].circle_index)"
   ],
   "metadata": {
    "collapsed": false,
    "ExecuteTime": {
     "start_time": "2024-03-05T17:26:42.665396Z",
     "end_time": "2024-03-05T17:26:42.679904Z"
    }
   }
  },
  {
   "cell_type": "code",
   "execution_count": null,
   "outputs": [],
   "source": [],
   "metadata": {
    "collapsed": false
   }
  },
  {
   "cell_type": "code",
   "execution_count": 8,
   "outputs": [
    {
     "name": "stderr",
     "output_type": "stream",
     "text": [
      "Processing...\n",
      "1060it [00:26, 40.64it/s]\n",
      "151it [00:08, 17.14it/s]\n",
      "302it [00:11, 25.66it/s]\n",
      "Done!\n"
     ]
    }
   ],
   "source": [
    "# test for ptree transformation\n",
    "bac1 = BaceDataset(split='val', graph_mode=\"edge\", transformation_mode=\"chienn_tree_basic\")"
   ],
   "metadata": {
    "collapsed": false,
    "ExecuteTime": {
     "start_time": "2024-03-05T17:56:17.266449Z",
     "end_time": "2024-03-05T17:59:46.315764Z"
    }
   }
  },
  {
   "cell_type": "code",
   "execution_count": 9,
   "outputs": [
    {
     "data": {
      "text/plain": "Data(x=[202, 118], edge_index=[2, 578], edge_attr=[578, 80], pos=[202, 6], ptree=[202], y=[1])"
     },
     "execution_count": 9,
     "metadata": {},
     "output_type": "execute_result"
    }
   ],
   "source": [
    "bac1[0]"
   ],
   "metadata": {
    "collapsed": false,
    "ExecuteTime": {
     "start_time": "2024-03-05T17:59:51.821386Z",
     "end_time": "2024-03-05T17:59:51.839894Z"
    }
   }
  },
  {
   "cell_type": "code",
   "execution_count": 11,
   "outputs": [
    {
     "data": {
      "text/plain": "['P[1, Z[3, 7, 5]]',\n 'P[0, Z[9, 13, 11]]',\n 'P[3, Z[1, 5, 7]]',\n 'P[2]',\n 'P[5, Z[1, 7, 3]]',\n 'P[4]',\n 'P[7, Z[1, 3, 5]]',\n 'P[6]',\n 'P[9, Z[0, 11, 13]]',\n 'P[8, Z[15, 19, 17]]',\n 'P[11, Z[0, 13, 9]]',\n 'P[10]',\n 'P[13, Z[0, 9, 11]]',\n 'P[12]',\n 'P[15, Z[8, 17, 19]]',\n 'P[14, Z[21]]',\n 'P[17, Z[8, 19, 15]]',\n 'P[16]',\n 'P[19, Z[8, 15, 17]]',\n 'P[18]',\n 'P[21, Z[14]]',\n 'P[20, Z[23, 25, 27]]',\n 'P[23, Z[20, 27, 25]]',\n 'P[22, Z[29, 33, 31]]',\n 'P[25, Z[20, 23, 27]]',\n 'P[24, Z[42, 201, 199]]',\n 'P[27, Z[20, 25, 23]]',\n 'P[26]',\n 'P[29, Z[22, 31, 33]]',\n 'P[28, Z[35, 37, 39]]',\n 'P[31, Z[22, 33, 29]]',\n 'P[30]',\n 'P[33, Z[22, 29, 31]]',\n 'P[32]',\n 'P[35, Z[28, 39, 37]]',\n 'P[34, Z[41, 43, 45]]',\n 'P[37, Z[28, 35, 39]]',\n 'P[36]',\n 'P[39, Z[28, 37, 35]]',\n 'P[38]',\n 'P[41, Z[34, 45, 43]]',\n 'P[40, Z[47, 49, 51]]',\n 'P[43, Z[34, 41, 45]]',\n 'P[42, Z[24, 199, 201]]',\n 'P[45, Z[34, 43, 41]]',\n 'P[44]',\n 'P[47, Z[40, 51, 49]]',\n 'P[46, Z[53]]',\n 'P[49, Z[40, 47, 51]]',\n 'P[48, Z[55, 59, 57]]',\n 'P[51, Z[40, 49, 47]]',\n 'P[50]',\n 'P[53, Z[46]]',\n 'P[52]',\n 'P[55, Z[48, 57, 59]]',\n 'P[54, Z[61, 65, 63]]',\n 'P[57, Z[48, 59, 55]]',\n 'P[56, Z[89, 91]]',\n 'P[59, Z[48, 55, 57]]',\n 'P[58]',\n 'P[61, Z[54, 63, 65]]',\n 'P[60, Z[67, 69]]',\n 'P[63, Z[54, 65, 61]]',\n 'P[62]',\n 'P[65, Z[54, 61, 63]]',\n 'P[64]',\n 'P[67, Z[60, 69]]',\n 'P[66, Z[71, 73]]',\n 'P[69, Z[60, 67]]',\n 'P[68, Z[84, 87]]',\n 'P[71, Z[66, 73]]',\n 'P[70, Z[75, 77]]',\n 'P[73, Z[66, 71]]',\n 'P[72]',\n 'P[75, Z[70, 77]]',\n 'P[74]',\n 'P[77, Z[70, 75]]',\n 'P[76, Z[79, 81]]',\n 'P[79, Z[76, 81]]',\n 'P[78, Z[83, 85]]',\n 'P[81, Z[76, 79]]',\n 'P[80]',\n 'P[83, Z[78, 85]]',\n 'P[82]',\n 'P[85, Z[78, 83]]',\n 'P[84, Z[68, 87]]',\n 'P[87, Z[68, 84]]',\n 'P[86]',\n 'P[89, Z[56, 91]]',\n 'P[88, Z[93, 95]]',\n 'P[91, Z[56, 89]]',\n 'P[90]',\n 'P[93, Z[88, 95]]',\n 'P[92]',\n 'P[95, Z[88, 93]]',\n 'P[94, Z[97, 101, 99]]',\n 'P[97, Z[94, 99, 101]]',\n 'P[96, Z[103, 107, 105]]',\n 'P[99, Z[94, 101, 97]]',\n 'P[98, Z[137, 139]]',\n 'P[101, Z[94, 97, 99]]',\n 'P[100]',\n 'P[103, Z[96, 105, 107]]',\n 'P[102, Z[109, 113, 111]]',\n 'P[105, Z[96, 107, 103]]',\n 'P[104]',\n 'P[107, Z[96, 103, 105]]',\n 'P[106]',\n 'P[109, Z[102, 111, 113]]',\n 'P[108, Z[115, 117]]',\n 'P[111, Z[102, 113, 109]]',\n 'P[110]',\n 'P[113, Z[102, 109, 111]]',\n 'P[112]',\n 'P[115, Z[108, 117]]',\n 'P[114, Z[119, 121]]',\n 'P[117, Z[108, 115]]',\n 'P[116, Z[130, 135]]',\n 'P[119, Z[114, 121]]',\n 'P[118, Z[123, 125]]',\n 'P[121, Z[114, 119]]',\n 'P[120]',\n 'P[123, Z[118, 125]]',\n 'P[122, Z[127, 129]]',\n 'P[125, Z[118, 123]]',\n 'P[124]',\n 'P[127, Z[122, 129]]',\n 'P[126, Z[131, 133]]',\n 'P[129, Z[122, 127]]',\n 'P[128]',\n 'P[131, Z[126, 133]]',\n 'P[130, Z[116, 135]]',\n 'P[133, Z[126, 131]]',\n 'P[132]',\n 'P[135, Z[116, 130]]',\n 'P[134]',\n 'P[137, Z[98, 139]]',\n 'P[136, Z[141, 145, 143]]',\n 'P[139, Z[98, 137]]',\n 'P[138, Z[156, 197]]',\n 'P[141, Z[136, 143, 145]]',\n 'P[140, Z[147, 149, 151]]',\n 'P[143, Z[136, 145, 141]]',\n 'P[142]',\n 'P[145, Z[136, 141, 143]]',\n 'P[144]',\n 'P[147, Z[140, 151, 149]]',\n 'P[146, Z[153, 155, 157]]',\n 'P[149, Z[140, 147, 151]]',\n 'P[148]',\n 'P[151, Z[140, 149, 147]]',\n 'P[150]',\n 'P[153, Z[146, 157, 155]]',\n 'P[152, Z[159, 163, 161]]',\n 'P[155, Z[146, 153, 157]]',\n 'P[154, Z[183, 185]]',\n 'P[157, Z[146, 155, 153]]',\n 'P[156, Z[138, 197]]',\n 'P[159, Z[152, 161, 163]]',\n 'P[158, Z[165, 167, 169]]',\n 'P[161, Z[152, 163, 159]]',\n 'P[160]',\n 'P[163, Z[152, 159, 161]]',\n 'P[162]',\n 'P[165, Z[158, 169, 167]]',\n 'P[164, Z[171, 175, 173]]',\n 'P[167, Z[158, 165, 169]]',\n 'P[166, Z[177, 181, 179]]',\n 'P[169, Z[158, 167, 165]]',\n 'P[168]',\n 'P[171, Z[164, 173, 175]]',\n 'P[170]',\n 'P[173, Z[164, 175, 171]]',\n 'P[172]',\n 'P[175, Z[164, 171, 173]]',\n 'P[174]',\n 'P[177, Z[166, 179, 181]]',\n 'P[176]',\n 'P[179, Z[166, 181, 177]]',\n 'P[178]',\n 'P[181, Z[166, 177, 179]]',\n 'P[180]',\n 'P[183, Z[154, 185]]',\n 'P[182, Z[187, 189]]',\n 'P[185, Z[154, 183]]',\n 'P[184]',\n 'P[187, Z[182, 189]]',\n 'P[186, Z[191, 195, 193]]',\n 'P[189, Z[182, 187]]',\n 'P[188]',\n 'P[191, Z[186, 193, 195]]',\n 'P[190]',\n 'P[193, Z[186, 195, 191]]',\n 'P[192]',\n 'P[195, Z[186, 191, 193]]',\n 'P[194]',\n 'P[197, Z[138, 156]]',\n 'P[196]',\n 'P[199, Z[24, 201, 42]]',\n 'P[198]',\n 'P[201, Z[24, 42, 199]]',\n 'P[200]']"
     },
     "execution_count": 11,
     "metadata": {},
     "output_type": "execute_result"
    }
   ],
   "source": [
    "bac1[0].ptree"
   ],
   "metadata": {
    "collapsed": false,
    "ExecuteTime": {
     "start_time": "2024-03-05T18:00:05.897934Z",
     "end_time": "2024-03-05T18:00:05.911934Z"
    }
   }
  }
 ],
 "metadata": {
  "kernelspec": {
   "display_name": "Python 3 (ipykernel)",
   "language": "python",
   "name": "python3"
  },
  "language_info": {
   "codemirror_mode": {
    "name": "ipython",
    "version": 3
   },
   "file_extension": ".py",
   "mimetype": "text/x-python",
   "name": "python",
   "nbconvert_exporter": "python",
   "pygments_lexer": "ipython3",
   "version": "3.9.18"
  }
 },
 "nbformat": 4,
 "nbformat_minor": 4
}
