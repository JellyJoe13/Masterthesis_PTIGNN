{
 "cells": [
  {
   "cell_type": "markdown",
   "source": [
    "# Tree separation"
   ],
   "metadata": {
    "collapsed": false
   }
  },
  {
   "cell_type": "code",
   "execution_count": 1,
   "outputs": [],
   "source": [
    "import json\n",
    "\n",
    "import torch\n",
    "\n",
    "from ptgnn.dataset import RSDataset"
   ],
   "metadata": {
    "collapsed": false,
    "ExecuteTime": {
     "start_time": "2024-04-01T10:15:04.204860Z",
     "end_time": "2024-04-01T10:15:07.327804Z"
    }
   }
  },
  {
   "cell_type": "markdown",
   "source": [
    "## Fetch sample"
   ],
   "metadata": {
    "collapsed": false
   }
  },
  {
   "cell_type": "code",
   "execution_count": 2,
   "outputs": [],
   "source": [
    "rs = RSDataset(split='val', transformation_mode=\"permutation_tree\", transformation_parameters={'k': 3})"
   ],
   "metadata": {
    "collapsed": false,
    "ExecuteTime": {
     "start_time": "2024-04-01T10:15:07.327804Z",
     "end_time": "2024-04-01T10:15:09.965397Z"
    }
   }
  },
  {
   "cell_type": "code",
   "execution_count": 3,
   "outputs": [
    {
     "data": {
      "text/plain": "Data(x=[72, 118], edge_index=[2, 192], edge_attr=[192, 80], pos=[72, 6], parallel_node_index=[72], circle_index=[72], ptree=[72], initial_map=[264], layer0_order_matrix=[1], layer0_type_mask=[1], layer0_pooling=[1], num_layer=[1], layer1_order_matrix=[1], layer1_type_mask=[1], layer1_pooling=[1], y=[1])"
     },
     "execution_count": 3,
     "metadata": {},
     "output_type": "execute_result"
    }
   ],
   "source": [
    "test_elem = rs[0]\n",
    "test_elem"
   ],
   "metadata": {
    "collapsed": false,
    "ExecuteTime": {
     "start_time": "2024-04-01T10:15:09.966393Z",
     "end_time": "2024-04-01T10:15:09.981988Z"
    }
   }
  },
  {
   "cell_type": "markdown",
   "source": [
    "## Logic part:\n",
    "- each leaf node of tree has node index.\n",
    "- every internal node needs index - with this create new node\n",
    "- new node is probably empty at beginning (e.g. zero)\n",
    "- trim tree of each node to one layer and create ones for new nodes (subtrees that were trimmed off)"
   ],
   "metadata": {
    "collapsed": false
   }
  },
  {
   "cell_type": "code",
   "execution_count": 4,
   "outputs": [],
   "source": [
    "current_idx = 0\n",
    "\n",
    "while current_idx < test_elem.x.shape[0]:\n",
    "    # get tree\n",
    "    ptree = test_elem.ptree[current_idx]\n",
    "\n",
    "    # convert tree into dict\n",
    "    ptree = json.loads(ptree)\n",
    "\n",
    "    # iterate over subtrees\n",
    "    key = next(iter(ptree.keys()))\n",
    "    for idx, subtree in enumerate(ptree[key]):\n",
    "        if isinstance(subtree, int):\n",
    "            # this means that element is already a leaf node\n",
    "            continue\n",
    "\n",
    "        elif isinstance(subtree, dict):\n",
    "            # element is a tree\n",
    "            # replace tree with new_idx\n",
    "            ptree[key][idx] = test_elem.x.shape[0]\n",
    "\n",
    "            # append zeros to x\n",
    "            test_elem.x = torch.cat([test_elem.x, torch.zeros(1, test_elem.x.shape[1])], dim=0)\n",
    "\n",
    "            # append new ptree\n",
    "            test_elem.ptree.append(json.dumps(subtree))\n",
    "\n",
    "        else:\n",
    "            raise Exception(f\"Something went wrong, {subtree} is neither int nor dict.\")\n",
    "\n",
    "    # save ptree\n",
    "    test_elem.ptree[current_idx] = json.dumps(ptree)\n",
    "\n",
    "    # increase current idx\n",
    "    current_idx += 1"
   ],
   "metadata": {
    "collapsed": false,
    "ExecuteTime": {
     "start_time": "2024-04-01T10:15:09.983989Z",
     "end_time": "2024-04-01T10:15:10.008781Z"
    }
   }
  },
  {
   "cell_type": "code",
   "execution_count": 5,
   "outputs": [
    {
     "data": {
      "text/plain": "Data(x=[128, 118], edge_index=[2, 192], edge_attr=[192, 80], pos=[72, 6], parallel_node_index=[72], circle_index=[72], ptree=[128], initial_map=[264], layer0_order_matrix=[1], layer0_type_mask=[1], layer0_pooling=[1], num_layer=[1], layer1_order_matrix=[1], layer1_type_mask=[1], layer1_pooling=[1], y=[1])"
     },
     "metadata": {},
     "output_type": "display_data"
    },
    {
     "data": {
      "text/plain": "['{\"S\": [0, 1]}',\n '{\"S\": [1, 0, 72]}',\n '{\"S\": [2, 3, 73]}',\n '{\"S\": [3, 2, 74]}',\n '{\"S\": [4, 5, 75]}',\n '{\"S\": [5, 4, 76]}',\n '{\"S\": [6, 7, 77]}',\n '{\"S\": [7, 6, 78]}',\n '{\"S\": [8, 9, 79]}',\n '{\"S\": [9, 8, 80]}',\n '{\"S\": [10, 11, 81]}',\n '{\"S\": [11, 10, 82]}',\n '{\"S\": [12, 13, 83]}',\n '{\"S\": [13, 12, 84]}',\n '{\"S\": [14, 15, 85]}',\n '{\"S\": [15, 14]}',\n '{\"S\": [16, 17, 86]}',\n '{\"S\": [17, 16, 87]}',\n '{\"S\": [18, 19, 88]}',\n '{\"S\": [19, 18]}',\n '{\"S\": [20, 21, 89]}',\n '{\"S\": [21, 20, 90]}',\n '{\"S\": [22, 23, 91]}',\n '{\"S\": [23, 22]}',\n '{\"S\": [24, 25, 92]}',\n '{\"S\": [25, 24, 93]}',\n '{\"S\": [26, 27, 94]}',\n '{\"S\": [27, 26, 95]}',\n '{\"S\": [28, 29, 96]}',\n '{\"S\": [29, 28, 97]}',\n '{\"S\": [30, 31, 98]}',\n '{\"S\": [31, 30, 99]}',\n '{\"S\": [32, 33, 100]}',\n '{\"S\": [33, 32, 101]}',\n '{\"S\": [34, 35, 102]}',\n '{\"S\": [35, 34]}',\n '{\"S\": [36, 37, 103]}',\n '{\"S\": [37, 36, 104]}',\n '{\"S\": [38, 39, 105]}',\n '{\"S\": [39, 38]}',\n '{\"S\": [40, 41, 106]}',\n '{\"S\": [41, 40, 107]}',\n '{\"S\": [42, 43, 108]}',\n '{\"S\": [43, 42]}',\n '{\"S\": [44, 45, 109]}',\n '{\"S\": [45, 44, 110]}',\n '{\"S\": [46, 47, 111]}',\n '{\"S\": [47, 46]}',\n '{\"S\": [48, 49, 112]}',\n '{\"S\": [49, 48]}',\n '{\"S\": [50, 51, 113]}',\n '{\"S\": [51, 50]}',\n '{\"S\": [52, 53, 114]}',\n '{\"S\": [53, 52, 115]}',\n '{\"S\": [54, 55, 116]}',\n '{\"S\": [55, 54]}',\n '{\"S\": [56, 57, 117]}',\n '{\"S\": [57, 56, 118]}',\n '{\"S\": [58, 59, 119]}',\n '{\"S\": [59, 58]}',\n '{\"S\": [60, 61, 120]}',\n '{\"S\": [61, 60, 121]}',\n '{\"S\": [62, 63, 122]}',\n '{\"S\": [63, 62]}',\n '{\"S\": [64, 65, 123]}',\n '{\"S\": [65, 64, 124]}',\n '{\"S\": [66, 67, 125]}',\n '{\"S\": [67, 66]}',\n '{\"S\": [68, 69, 126]}',\n '{\"S\": [69, 68]}',\n '{\"S\": [70, 71, 127]}',\n '{\"S\": [71, 70]}',\n '{\"Z\": [3, 5, 7]}',\n '{\"Z\": [0, 7, 5]}',\n '{\"Z\": [9, 11]}',\n '{\"Z\": [0, 3, 7]}',\n '{\"Z\": [53, 55]}',\n '{\"Z\": [0, 5, 3]}',\n '{\"Z\": [64, 69, 71]}',\n '{\"Z\": [2, 11]}',\n '{\"Z\": [13, 15]}',\n '{\"Z\": [2, 9]}',\n '{\"Z\": [26, 51]}',\n '{\"Z\": [8, 15]}',\n '{\"Z\": [17, 19]}',\n '{\"Z\": [8, 13]}',\n '{\"Z\": [12, 19]}',\n '{\"Z\": [21, 23]}',\n '{\"Z\": [12, 17]}',\n '{\"Z\": [16, 23]}',\n '{\"Z\": [25, 27]}',\n '{\"Z\": [16, 21]}',\n '{\"Z\": [20, 27]}',\n '{\"Z\": [29, 31]}',\n '{\"Z\": [20, 25]}',\n '{\"Z\": [10, 51]}',\n '{\"Z\": [24, 31]}',\n '{\"Z\": [33, 35]}',\n '{\"Z\": [24, 29]}',\n '{\"Z\": [44, 49]}',\n '{\"Z\": [28, 35]}',\n '{\"Z\": [37, 39]}',\n '{\"Z\": [28, 33]}',\n '{\"Z\": [32, 39]}',\n '{\"Z\": [41, 43]}',\n '{\"Z\": [32, 37]}',\n '{\"Z\": [36, 43]}',\n '{\"Z\": [45, 47]}',\n '{\"Z\": [36, 41]}',\n '{\"Z\": [40, 47]}',\n '{\"Z\": [30, 49]}',\n '{\"Z\": [40, 45]}',\n '{\"Z\": [30, 44]}',\n '{\"Z\": [10, 26]}',\n '{\"Z\": [4, 55]}',\n '{\"Z\": [57, 59]}',\n '{\"Z\": [4, 53]}',\n '{\"Z\": [52, 59]}',\n '{\"Z\": [61, 63]}',\n '{\"Z\": [52, 57]}',\n '{\"Z\": [56, 63]}',\n '{\"Z\": [65, 67]}',\n '{\"Z\": [56, 61]}',\n '{\"Z\": [60, 67]}',\n '{\"Z\": [6, 71, 69]}',\n '{\"Z\": [60, 65]}',\n '{\"Z\": [6, 64, 71]}',\n '{\"Z\": [6, 69, 64]}']"
     },
     "metadata": {},
     "output_type": "display_data"
    }
   ],
   "source": [
    "display(test_elem, test_elem.ptree)"
   ],
   "metadata": {
    "collapsed": false,
    "ExecuteTime": {
     "start_time": "2024-04-01T10:15:12.210152Z",
     "end_time": "2024-04-01T10:15:12.227431Z"
    }
   }
  },
  {
   "cell_type": "code",
   "execution_count": null,
   "outputs": [],
   "source": [],
   "metadata": {
    "collapsed": false
   }
  }
 ],
 "metadata": {
  "kernelspec": {
   "display_name": "Python 3",
   "language": "python",
   "name": "python3"
  },
  "language_info": {
   "codemirror_mode": {
    "name": "ipython",
    "version": 2
   },
   "file_extension": ".py",
   "mimetype": "text/x-python",
   "name": "python",
   "nbconvert_exporter": "python",
   "pygments_lexer": "ipython2",
   "version": "2.7.6"
  }
 },
 "nbformat": 4,
 "nbformat_minor": 0
}
