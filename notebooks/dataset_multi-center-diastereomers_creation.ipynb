{
 "cells": [
  {
   "cell_type": "markdown",
   "source": [
    "# Creation of test dataset for Multi-center tetrahedral prediction"
   ],
   "metadata": {
    "collapsed": false
   }
  },
  {
   "cell_type": "markdown",
   "source": [
    "## Import section"
   ],
   "metadata": {
    "collapsed": false
   }
  },
  {
   "cell_type": "code",
   "execution_count": 1,
   "outputs": [],
   "source": [
    "import os\n",
    "\n",
    "import pandas as pd\n",
    "from tqdm import tqdm\n",
    "from multiprocess.pool import Pool"
   ],
   "metadata": {
    "collapsed": false,
    "ExecuteTime": {
     "start_time": "2024-04-23T21:43:36.292047Z",
     "end_time": "2024-04-23T21:43:37.342854Z"
    }
   }
  },
  {
   "cell_type": "markdown",
   "source": [
    "## Load initial datset\n",
    "\n",
    "Which dataset to choose: tox, has most such elements. (could also fuze datasets but should be enough for miniature dataset, merging datasets create other problems)"
   ],
   "metadata": {
    "collapsed": false
   }
  },
  {
   "cell_type": "code",
   "execution_count": 2,
   "outputs": [],
   "source": [
    "df = pd.read_csv(\"hyperoptimization/src/tox21/raw/tox21.csv.gz\")"
   ],
   "metadata": {
    "collapsed": false,
    "ExecuteTime": {
     "start_time": "2024-04-23T21:43:37.345856Z",
     "end_time": "2024-04-23T21:43:37.369857Z"
    }
   }
  },
  {
   "cell_type": "code",
   "execution_count": 3,
   "outputs": [
    {
     "data": {
      "text/plain": "   NR-AR  NR-AR-LBD  NR-AhR  NR-Aromatase  NR-ER  NR-ER-LBD  NR-PPAR-gamma  \\\n0    0.0        0.0     1.0           NaN    NaN        0.0            0.0   \n1    0.0        0.0     0.0           0.0    0.0        0.0            0.0   \n2    NaN        NaN     NaN           NaN    NaN        NaN            NaN   \n3    0.0        0.0     0.0           0.0    0.0        0.0            0.0   \n4    0.0        0.0     0.0           0.0    0.0        0.0            0.0   \n\n   SR-ARE  SR-ATAD5  SR-HSE  SR-MMP  SR-p53    mol_id  \\\n0     1.0       0.0     0.0     0.0     0.0   TOX3021   \n1     NaN       0.0     NaN     0.0     0.0   TOX3020   \n2     0.0       NaN     0.0     NaN     NaN   TOX3024   \n3     NaN       0.0     NaN     0.0     0.0   TOX3027   \n4     0.0       0.0     0.0     0.0     0.0  TOX20800   \n\n                                              smiles  \n0                       CCOc1ccc2nc(S(N)(=O)=O)sc2c1  \n1                          CCN1C(=O)NC(c2ccccc2)C1=O  \n2  CC[C@]1(O)CC[C@H]2[C@@H]3CCC4=CCCC[C@@H]4[C@H]...  \n3                    CCCN(CC)C(CC)C(=O)Nc1c(C)cccc1C  \n4                          CC(O)(P(=O)(O)O)P(=O)(O)O  ",
      "text/html": "<div>\n<style scoped>\n    .dataframe tbody tr th:only-of-type {\n        vertical-align: middle;\n    }\n\n    .dataframe tbody tr th {\n        vertical-align: top;\n    }\n\n    .dataframe thead th {\n        text-align: right;\n    }\n</style>\n<table border=\"1\" class=\"dataframe\">\n  <thead>\n    <tr style=\"text-align: right;\">\n      <th></th>\n      <th>NR-AR</th>\n      <th>NR-AR-LBD</th>\n      <th>NR-AhR</th>\n      <th>NR-Aromatase</th>\n      <th>NR-ER</th>\n      <th>NR-ER-LBD</th>\n      <th>NR-PPAR-gamma</th>\n      <th>SR-ARE</th>\n      <th>SR-ATAD5</th>\n      <th>SR-HSE</th>\n      <th>SR-MMP</th>\n      <th>SR-p53</th>\n      <th>mol_id</th>\n      <th>smiles</th>\n    </tr>\n  </thead>\n  <tbody>\n    <tr>\n      <th>0</th>\n      <td>0.0</td>\n      <td>0.0</td>\n      <td>1.0</td>\n      <td>NaN</td>\n      <td>NaN</td>\n      <td>0.0</td>\n      <td>0.0</td>\n      <td>1.0</td>\n      <td>0.0</td>\n      <td>0.0</td>\n      <td>0.0</td>\n      <td>0.0</td>\n      <td>TOX3021</td>\n      <td>CCOc1ccc2nc(S(N)(=O)=O)sc2c1</td>\n    </tr>\n    <tr>\n      <th>1</th>\n      <td>0.0</td>\n      <td>0.0</td>\n      <td>0.0</td>\n      <td>0.0</td>\n      <td>0.0</td>\n      <td>0.0</td>\n      <td>0.0</td>\n      <td>NaN</td>\n      <td>0.0</td>\n      <td>NaN</td>\n      <td>0.0</td>\n      <td>0.0</td>\n      <td>TOX3020</td>\n      <td>CCN1C(=O)NC(c2ccccc2)C1=O</td>\n    </tr>\n    <tr>\n      <th>2</th>\n      <td>NaN</td>\n      <td>NaN</td>\n      <td>NaN</td>\n      <td>NaN</td>\n      <td>NaN</td>\n      <td>NaN</td>\n      <td>NaN</td>\n      <td>0.0</td>\n      <td>NaN</td>\n      <td>0.0</td>\n      <td>NaN</td>\n      <td>NaN</td>\n      <td>TOX3024</td>\n      <td>CC[C@]1(O)CC[C@H]2[C@@H]3CCC4=CCCC[C@@H]4[C@H]...</td>\n    </tr>\n    <tr>\n      <th>3</th>\n      <td>0.0</td>\n      <td>0.0</td>\n      <td>0.0</td>\n      <td>0.0</td>\n      <td>0.0</td>\n      <td>0.0</td>\n      <td>0.0</td>\n      <td>NaN</td>\n      <td>0.0</td>\n      <td>NaN</td>\n      <td>0.0</td>\n      <td>0.0</td>\n      <td>TOX3027</td>\n      <td>CCCN(CC)C(CC)C(=O)Nc1c(C)cccc1C</td>\n    </tr>\n    <tr>\n      <th>4</th>\n      <td>0.0</td>\n      <td>0.0</td>\n      <td>0.0</td>\n      <td>0.0</td>\n      <td>0.0</td>\n      <td>0.0</td>\n      <td>0.0</td>\n      <td>0.0</td>\n      <td>0.0</td>\n      <td>0.0</td>\n      <td>0.0</td>\n      <td>0.0</td>\n      <td>TOX20800</td>\n      <td>CC(O)(P(=O)(O)O)P(=O)(O)O</td>\n    </tr>\n  </tbody>\n</table>\n</div>"
     },
     "execution_count": 3,
     "metadata": {},
     "output_type": "execute_result"
    }
   ],
   "source": [
    "df.head()"
   ],
   "metadata": {
    "collapsed": false,
    "ExecuteTime": {
     "start_time": "2024-04-23T21:43:37.372859Z",
     "end_time": "2024-04-23T21:43:37.415364Z"
    }
   }
  },
  {
   "cell_type": "markdown",
   "source": [
    "## Filter out less than 2 stereo center molecules"
   ],
   "metadata": {
    "collapsed": false
   }
  },
  {
   "cell_type": "code",
   "execution_count": 4,
   "outputs": [],
   "source": [
    "def filter_mc_tetra_mol(\n",
    "        df_entry,\n",
    "        smiles_name: str = \"smiles\"\n",
    "):\n",
    "    \"\"\"\n",
    "    Returns true if molecule has multiple chiral centers.\n",
    "\n",
    "    :param df_entry: pandas row object\n",
    "    :param smiles_name: name of the columns under which the stereochemical SMILES can be queried from the\n",
    "        df_entry\n",
    "    :return: whether or not the molecule has multiple chiral centers (plus the idx and the entry before that)\n",
    "    \"\"\"\n",
    "    from ptgnn.features.chienn.molecule3d import smiles_to_3d_mol\n",
    "    from rdkit.Chem import AllChem\n",
    "\n",
    "    # unpack passed object\n",
    "    idx, entry = df_entry\n",
    "\n",
    "    # extract smiles string\n",
    "    smiles = entry[smiles_name]\n",
    "\n",
    "    # get molecule\n",
    "    molecule = smiles_to_3d_mol(\n",
    "        smiles=smiles,\n",
    "        max_number_of_atoms=100,\n",
    "        max_number_of_attempts=100\n",
    "    )\n",
    "\n",
    "    # if molecule cannot be rendered (i.e. is None) return appropriate information\n",
    "    if molecule is None:\n",
    "        return idx, df_entry, False\n",
    "\n",
    "    # does molecule have multiple marked chiral centers\n",
    "    return idx, entry, len(AllChem.FindMolChiralCenters(molecule)) == 2"
   ],
   "metadata": {
    "collapsed": false,
    "ExecuteTime": {
     "start_time": "2024-04-23T21:43:37.459365Z",
     "end_time": "2024-04-23T21:43:37.481880Z"
    }
   }
  },
  {
   "cell_type": "code",
   "execution_count": 5,
   "outputs": [
    {
     "name": "stderr",
     "output_type": "stream",
     "text": [
      "100%|██████████| 7831/7831 [00:36<00:00, 216.50it/s] \n"
     ]
    }
   ],
   "source": [
    "with Pool(processes=os.cpu_count()) as p:\n",
    "    df_collection = list(p.map(\n",
    "        filter_mc_tetra_mol,\n",
    "        tqdm(df.iterrows(), total=len(df))\n",
    "    ))"
   ],
   "metadata": {
    "collapsed": false,
    "ExecuteTime": {
     "start_time": "2024-04-23T21:43:37.701251Z",
     "end_time": "2024-04-23T21:44:45.222547Z"
    }
   }
  },
  {
   "cell_type": "code",
   "execution_count": 6,
   "outputs": [],
   "source": [
    "df_collection = pd.DataFrame([\n",
    "    elem[1]\n",
    "    for elem in df_collection\n",
    "    if elem[2] == 1\n",
    "]).reset_index(drop='index')"
   ],
   "metadata": {
    "collapsed": false,
    "ExecuteTime": {
     "start_time": "2024-04-23T21:44:45.244546Z",
     "end_time": "2024-04-23T21:44:45.284549Z"
    }
   }
  },
  {
   "cell_type": "markdown",
   "source": [
    "## Produce all possible combinations of @ or @@"
   ],
   "metadata": {
    "collapsed": false
   }
  },
  {
   "cell_type": "code",
   "execution_count": 7,
   "outputs": [],
   "source": [
    "def worker_create_all_combinations(\n",
    "        df_entry,\n",
    "        smiles_name: str = 'smiles'\n",
    "):\n",
    "    # unpack passed object\n",
    "    idx, entry = df_entry\n",
    "\n",
    "    # extract smiles string\n",
    "    smiles = entry[smiles_name]\n",
    "\n",
    "    # replace all double @ with normal @... wait but different forms? urgh the smiles may be different...\n",
    "    # what in the first place is the label?\n",
    "    # if I make it such that EXACTLY 2, then u/l prediction is possible. or distribution of max(|R|, |S|) in general\n",
    "\n",
    "    # get clearned smiles version with only one @\n",
    "    cleaned_smiles = smiles.replace(\"@@\", \"@\")\n",
    "\n",
    "    # split it\n",
    "    split_smiles = cleaned_smiles.split(\"@\")\n",
    "\n",
    "    # it is basically guaranteed that this results in 3 parts as there must be 2 centers in there\n",
    "    return pd.DataFrame({\n",
    "        \"smiles\": [\n",
    "            split_smiles[0] + \"@\" + split_smiles[1] + \"@\" + split_smiles[2],\n",
    "            split_smiles[0] + \"@\" + split_smiles[1] + \"@@\" + split_smiles[2],\n",
    "            split_smiles[0] + \"@@\" + split_smiles[1] + \"@\" + split_smiles[2],\n",
    "            split_smiles[0] + \"@@\" + split_smiles[1] + \"@@\" + split_smiles[2],\n",
    "        ],\n",
    "    })"
   ],
   "metadata": {
    "collapsed": false,
    "ExecuteTime": {
     "start_time": "2024-04-23T21:50:15.167254Z",
     "end_time": "2024-04-23T21:50:15.202763Z"
    }
   }
  },
  {
   "cell_type": "code",
   "execution_count": 8,
   "outputs": [
    {
     "data": {
      "text/plain": "     NR-AR  NR-AR-LBD  NR-AhR  NR-Aromatase  NR-ER  NR-ER-LBD  NR-PPAR-gamma  \\\n0      0.0        0.0     1.0           NaN    0.0        0.0            0.0   \n1      0.0        0.0     0.0           0.0    0.0        0.0            0.0   \n2      0.0        0.0     0.0           0.0    0.0        0.0            0.0   \n3      0.0        0.0     0.0           0.0    0.0        0.0            0.0   \n4      0.0        0.0     1.0           NaN    1.0        0.0            0.0   \n..     ...        ...     ...           ...    ...        ...            ...   \n222    0.0        0.0     0.0           0.0    0.0        0.0            NaN   \n223    0.0        0.0     0.0           0.0    0.0        0.0            0.0   \n224    0.0        0.0     0.0           0.0    0.0        0.0            0.0   \n225    0.0        0.0     NaN           NaN    0.0        0.0            0.0   \n226    1.0        0.0     0.0           0.0    0.0        0.0            NaN   \n\n     SR-ARE  SR-ATAD5  SR-HSE  SR-MMP  SR-p53    mol_id  \\\n0       NaN       0.0     NaN     NaN     NaN  TOX22631   \n1       NaN       0.0     0.0     0.0     0.0  TOX25538   \n2       0.0       0.0     0.0     0.0     0.0  TOX25530   \n3       NaN       0.0     NaN     0.0     0.0  TOX28633   \n4       0.0       1.0     0.0     NaN     0.0  TOX27264   \n..      ...       ...     ...     ...     ...       ...   \n222     NaN       0.0     NaN     1.0     0.0  TOX28548   \n223     0.0       0.0     0.0     0.0     0.0  TOX25342   \n224     0.0       0.0     0.0     0.0     0.0   TOX4721   \n225     0.0       0.0     NaN     NaN     NaN  TOX27852   \n226     0.0       0.0     0.0     0.0     0.0    TOX567   \n\n                                                smiles  \n0          CN[C@@H]1C[C@@H](c2ccc(Cl)c(Cl)c2)c2ccccc21  \n1    CN(C)CCn1nnnc1SCC1=C(C(=O)O)N2C(=O)[C@@H](NC(=...  \n2      CCN[C@H]1C[C@H](C)S(=O)(=O)c2sc(S(N)(=O)=O)cc21  \n3    CCCCCCCCCCCCCCCC(=O)O[C@@H]1CC(C)=C(/C=C/C(C)=...  \n4    Oc1ccc2c(c1)OC[C@@H](N1CCC(O)(c3ccc(F)cc3)CC1)...  \n..                                                 ...  \n222  CCC[C@@]1(CCc2ccccc2)CC(O)=C([C@H](CC)c2cccc(N...  \n223      CC(=O)OCC1=C(C(=O)O)N2C(=O)[C@@H](N)[C@H]2SC1  \n224                    CC1(C)[C@@H]2CC[C@@]1(C)C(=O)C2  \n225         OC[C@H](Cc1cccc(O)c1)[C@H](CO)Cc1cccc(O)c1  \n226  O=C(O[C@@H]1Cc2c(O)cc(O)cc2O[C@@H]1c1cc(O)c(O)...  \n\n[227 rows x 14 columns]",
      "text/html": "<div>\n<style scoped>\n    .dataframe tbody tr th:only-of-type {\n        vertical-align: middle;\n    }\n\n    .dataframe tbody tr th {\n        vertical-align: top;\n    }\n\n    .dataframe thead th {\n        text-align: right;\n    }\n</style>\n<table border=\"1\" class=\"dataframe\">\n  <thead>\n    <tr style=\"text-align: right;\">\n      <th></th>\n      <th>NR-AR</th>\n      <th>NR-AR-LBD</th>\n      <th>NR-AhR</th>\n      <th>NR-Aromatase</th>\n      <th>NR-ER</th>\n      <th>NR-ER-LBD</th>\n      <th>NR-PPAR-gamma</th>\n      <th>SR-ARE</th>\n      <th>SR-ATAD5</th>\n      <th>SR-HSE</th>\n      <th>SR-MMP</th>\n      <th>SR-p53</th>\n      <th>mol_id</th>\n      <th>smiles</th>\n    </tr>\n  </thead>\n  <tbody>\n    <tr>\n      <th>0</th>\n      <td>0.0</td>\n      <td>0.0</td>\n      <td>1.0</td>\n      <td>NaN</td>\n      <td>0.0</td>\n      <td>0.0</td>\n      <td>0.0</td>\n      <td>NaN</td>\n      <td>0.0</td>\n      <td>NaN</td>\n      <td>NaN</td>\n      <td>NaN</td>\n      <td>TOX22631</td>\n      <td>CN[C@@H]1C[C@@H](c2ccc(Cl)c(Cl)c2)c2ccccc21</td>\n    </tr>\n    <tr>\n      <th>1</th>\n      <td>0.0</td>\n      <td>0.0</td>\n      <td>0.0</td>\n      <td>0.0</td>\n      <td>0.0</td>\n      <td>0.0</td>\n      <td>0.0</td>\n      <td>NaN</td>\n      <td>0.0</td>\n      <td>0.0</td>\n      <td>0.0</td>\n      <td>0.0</td>\n      <td>TOX25538</td>\n      <td>CN(C)CCn1nnnc1SCC1=C(C(=O)O)N2C(=O)[C@@H](NC(=...</td>\n    </tr>\n    <tr>\n      <th>2</th>\n      <td>0.0</td>\n      <td>0.0</td>\n      <td>0.0</td>\n      <td>0.0</td>\n      <td>0.0</td>\n      <td>0.0</td>\n      <td>0.0</td>\n      <td>0.0</td>\n      <td>0.0</td>\n      <td>0.0</td>\n      <td>0.0</td>\n      <td>0.0</td>\n      <td>TOX25530</td>\n      <td>CCN[C@H]1C[C@H](C)S(=O)(=O)c2sc(S(N)(=O)=O)cc21</td>\n    </tr>\n    <tr>\n      <th>3</th>\n      <td>0.0</td>\n      <td>0.0</td>\n      <td>0.0</td>\n      <td>0.0</td>\n      <td>0.0</td>\n      <td>0.0</td>\n      <td>0.0</td>\n      <td>NaN</td>\n      <td>0.0</td>\n      <td>NaN</td>\n      <td>0.0</td>\n      <td>0.0</td>\n      <td>TOX28633</td>\n      <td>CCCCCCCCCCCCCCCC(=O)O[C@@H]1CC(C)=C(/C=C/C(C)=...</td>\n    </tr>\n    <tr>\n      <th>4</th>\n      <td>0.0</td>\n      <td>0.0</td>\n      <td>1.0</td>\n      <td>NaN</td>\n      <td>1.0</td>\n      <td>0.0</td>\n      <td>0.0</td>\n      <td>0.0</td>\n      <td>1.0</td>\n      <td>0.0</td>\n      <td>NaN</td>\n      <td>0.0</td>\n      <td>TOX27264</td>\n      <td>Oc1ccc2c(c1)OC[C@@H](N1CCC(O)(c3ccc(F)cc3)CC1)...</td>\n    </tr>\n    <tr>\n      <th>...</th>\n      <td>...</td>\n      <td>...</td>\n      <td>...</td>\n      <td>...</td>\n      <td>...</td>\n      <td>...</td>\n      <td>...</td>\n      <td>...</td>\n      <td>...</td>\n      <td>...</td>\n      <td>...</td>\n      <td>...</td>\n      <td>...</td>\n      <td>...</td>\n    </tr>\n    <tr>\n      <th>222</th>\n      <td>0.0</td>\n      <td>0.0</td>\n      <td>0.0</td>\n      <td>0.0</td>\n      <td>0.0</td>\n      <td>0.0</td>\n      <td>NaN</td>\n      <td>NaN</td>\n      <td>0.0</td>\n      <td>NaN</td>\n      <td>1.0</td>\n      <td>0.0</td>\n      <td>TOX28548</td>\n      <td>CCC[C@@]1(CCc2ccccc2)CC(O)=C([C@H](CC)c2cccc(N...</td>\n    </tr>\n    <tr>\n      <th>223</th>\n      <td>0.0</td>\n      <td>0.0</td>\n      <td>0.0</td>\n      <td>0.0</td>\n      <td>0.0</td>\n      <td>0.0</td>\n      <td>0.0</td>\n      <td>0.0</td>\n      <td>0.0</td>\n      <td>0.0</td>\n      <td>0.0</td>\n      <td>0.0</td>\n      <td>TOX25342</td>\n      <td>CC(=O)OCC1=C(C(=O)O)N2C(=O)[C@@H](N)[C@H]2SC1</td>\n    </tr>\n    <tr>\n      <th>224</th>\n      <td>0.0</td>\n      <td>0.0</td>\n      <td>0.0</td>\n      <td>0.0</td>\n      <td>0.0</td>\n      <td>0.0</td>\n      <td>0.0</td>\n      <td>0.0</td>\n      <td>0.0</td>\n      <td>0.0</td>\n      <td>0.0</td>\n      <td>0.0</td>\n      <td>TOX4721</td>\n      <td>CC1(C)[C@@H]2CC[C@@]1(C)C(=O)C2</td>\n    </tr>\n    <tr>\n      <th>225</th>\n      <td>0.0</td>\n      <td>0.0</td>\n      <td>NaN</td>\n      <td>NaN</td>\n      <td>0.0</td>\n      <td>0.0</td>\n      <td>0.0</td>\n      <td>0.0</td>\n      <td>0.0</td>\n      <td>NaN</td>\n      <td>NaN</td>\n      <td>NaN</td>\n      <td>TOX27852</td>\n      <td>OC[C@H](Cc1cccc(O)c1)[C@H](CO)Cc1cccc(O)c1</td>\n    </tr>\n    <tr>\n      <th>226</th>\n      <td>1.0</td>\n      <td>0.0</td>\n      <td>0.0</td>\n      <td>0.0</td>\n      <td>0.0</td>\n      <td>0.0</td>\n      <td>NaN</td>\n      <td>0.0</td>\n      <td>0.0</td>\n      <td>0.0</td>\n      <td>0.0</td>\n      <td>0.0</td>\n      <td>TOX567</td>\n      <td>O=C(O[C@@H]1Cc2c(O)cc(O)cc2O[C@@H]1c1cc(O)c(O)...</td>\n    </tr>\n  </tbody>\n</table>\n<p>227 rows × 14 columns</p>\n</div>"
     },
     "execution_count": 8,
     "metadata": {},
     "output_type": "execute_result"
    }
   ],
   "source": [
    "df_collection"
   ],
   "metadata": {
    "collapsed": false,
    "ExecuteTime": {
     "start_time": "2024-04-23T21:51:28.406606Z",
     "end_time": "2024-04-23T21:51:28.433111Z"
    }
   }
  },
  {
   "cell_type": "code",
   "execution_count": 9,
   "outputs": [
    {
     "name": "stderr",
     "output_type": "stream",
     "text": [
      "100%|██████████| 227/227 [00:00<00:00, 11947.93it/s]\n"
     ]
    }
   ],
   "source": [
    "df_collection = pd.concat(\n",
    "    list(map(\n",
    "        worker_create_all_combinations,\n",
    "        tqdm(df_collection.iterrows(), total=len(df_collection))\n",
    "    ))\n",
    ")"
   ],
   "metadata": {
    "collapsed": false,
    "ExecuteTime": {
     "start_time": "2024-04-23T21:52:04.551451Z",
     "end_time": "2024-04-23T21:52:04.614451Z"
    }
   }
  },
  {
   "cell_type": "code",
   "execution_count": 10,
   "outputs": [
    {
     "data": {
      "text/plain": "                                               smiles\n0           CN[C@H]1C[C@H](c2ccc(Cl)c(Cl)c2)c2ccccc21\n1          CN[C@H]1C[C@@H](c2ccc(Cl)c(Cl)c2)c2ccccc21\n2          CN[C@@H]1C[C@H](c2ccc(Cl)c(Cl)c2)c2ccccc21\n3         CN[C@@H]1C[C@@H](c2ccc(Cl)c(Cl)c2)c2ccccc21\n0   CN(C)CCn1nnnc1SCC1=C(C(=O)O)N2C(=O)[C@H](NC(=O...\n..                                                ...\n3        OC[C@@H](Cc1cccc(O)c1)[C@@H](CO)Cc1cccc(O)c1\n0   O=C(O[C@H]1Cc2c(O)cc(O)cc2O[C@H]1c1cc(O)c(O)c(...\n1   O=C(O[C@H]1Cc2c(O)cc(O)cc2O[C@@H]1c1cc(O)c(O)c...\n2   O=C(O[C@@H]1Cc2c(O)cc(O)cc2O[C@H]1c1cc(O)c(O)c...\n3   O=C(O[C@@H]1Cc2c(O)cc(O)cc2O[C@@H]1c1cc(O)c(O)...\n\n[908 rows x 1 columns]",
      "text/html": "<div>\n<style scoped>\n    .dataframe tbody tr th:only-of-type {\n        vertical-align: middle;\n    }\n\n    .dataframe tbody tr th {\n        vertical-align: top;\n    }\n\n    .dataframe thead th {\n        text-align: right;\n    }\n</style>\n<table border=\"1\" class=\"dataframe\">\n  <thead>\n    <tr style=\"text-align: right;\">\n      <th></th>\n      <th>smiles</th>\n    </tr>\n  </thead>\n  <tbody>\n    <tr>\n      <th>0</th>\n      <td>CN[C@H]1C[C@H](c2ccc(Cl)c(Cl)c2)c2ccccc21</td>\n    </tr>\n    <tr>\n      <th>1</th>\n      <td>CN[C@H]1C[C@@H](c2ccc(Cl)c(Cl)c2)c2ccccc21</td>\n    </tr>\n    <tr>\n      <th>2</th>\n      <td>CN[C@@H]1C[C@H](c2ccc(Cl)c(Cl)c2)c2ccccc21</td>\n    </tr>\n    <tr>\n      <th>3</th>\n      <td>CN[C@@H]1C[C@@H](c2ccc(Cl)c(Cl)c2)c2ccccc21</td>\n    </tr>\n    <tr>\n      <th>0</th>\n      <td>CN(C)CCn1nnnc1SCC1=C(C(=O)O)N2C(=O)[C@H](NC(=O...</td>\n    </tr>\n    <tr>\n      <th>...</th>\n      <td>...</td>\n    </tr>\n    <tr>\n      <th>3</th>\n      <td>OC[C@@H](Cc1cccc(O)c1)[C@@H](CO)Cc1cccc(O)c1</td>\n    </tr>\n    <tr>\n      <th>0</th>\n      <td>O=C(O[C@H]1Cc2c(O)cc(O)cc2O[C@H]1c1cc(O)c(O)c(...</td>\n    </tr>\n    <tr>\n      <th>1</th>\n      <td>O=C(O[C@H]1Cc2c(O)cc(O)cc2O[C@@H]1c1cc(O)c(O)c...</td>\n    </tr>\n    <tr>\n      <th>2</th>\n      <td>O=C(O[C@@H]1Cc2c(O)cc(O)cc2O[C@H]1c1cc(O)c(O)c...</td>\n    </tr>\n    <tr>\n      <th>3</th>\n      <td>O=C(O[C@@H]1Cc2c(O)cc(O)cc2O[C@@H]1c1cc(O)c(O)...</td>\n    </tr>\n  </tbody>\n</table>\n<p>908 rows × 1 columns</p>\n</div>"
     },
     "execution_count": 10,
     "metadata": {},
     "output_type": "execute_result"
    }
   ],
   "source": [
    "df_collection"
   ],
   "metadata": {
    "collapsed": false,
    "ExecuteTime": {
     "start_time": "2024-04-23T21:52:08.839469Z",
     "end_time": "2024-04-23T21:52:08.863971Z"
    }
   }
  },
  {
   "cell_type": "code",
   "execution_count": 11,
   "outputs": [],
   "source": [
    "df_collection.drop_duplicates(subset=['smiles'], inplace=True)"
   ],
   "metadata": {
    "collapsed": false,
    "ExecuteTime": {
     "start_time": "2024-04-23T22:10:46.854910Z",
     "end_time": "2024-04-23T22:10:46.860910Z"
    }
   }
  },
  {
   "cell_type": "code",
   "execution_count": 12,
   "outputs": [
    {
     "data": {
      "text/plain": "                                               smiles\n0           CN[C@H]1C[C@H](c2ccc(Cl)c(Cl)c2)c2ccccc21\n1          CN[C@H]1C[C@@H](c2ccc(Cl)c(Cl)c2)c2ccccc21\n2          CN[C@@H]1C[C@H](c2ccc(Cl)c(Cl)c2)c2ccccc21\n3         CN[C@@H]1C[C@@H](c2ccc(Cl)c(Cl)c2)c2ccccc21\n0   CN(C)CCn1nnnc1SCC1=C(C(=O)O)N2C(=O)[C@H](NC(=O...\n..                                                ...\n3        OC[C@@H](Cc1cccc(O)c1)[C@@H](CO)Cc1cccc(O)c1\n0   O=C(O[C@H]1Cc2c(O)cc(O)cc2O[C@H]1c1cc(O)c(O)c(...\n1   O=C(O[C@H]1Cc2c(O)cc(O)cc2O[C@@H]1c1cc(O)c(O)c...\n2   O=C(O[C@@H]1Cc2c(O)cc(O)cc2O[C@H]1c1cc(O)c(O)c...\n3   O=C(O[C@@H]1Cc2c(O)cc(O)cc2O[C@@H]1c1cc(O)c(O)...\n\n[872 rows x 1 columns]",
      "text/html": "<div>\n<style scoped>\n    .dataframe tbody tr th:only-of-type {\n        vertical-align: middle;\n    }\n\n    .dataframe tbody tr th {\n        vertical-align: top;\n    }\n\n    .dataframe thead th {\n        text-align: right;\n    }\n</style>\n<table border=\"1\" class=\"dataframe\">\n  <thead>\n    <tr style=\"text-align: right;\">\n      <th></th>\n      <th>smiles</th>\n    </tr>\n  </thead>\n  <tbody>\n    <tr>\n      <th>0</th>\n      <td>CN[C@H]1C[C@H](c2ccc(Cl)c(Cl)c2)c2ccccc21</td>\n    </tr>\n    <tr>\n      <th>1</th>\n      <td>CN[C@H]1C[C@@H](c2ccc(Cl)c(Cl)c2)c2ccccc21</td>\n    </tr>\n    <tr>\n      <th>2</th>\n      <td>CN[C@@H]1C[C@H](c2ccc(Cl)c(Cl)c2)c2ccccc21</td>\n    </tr>\n    <tr>\n      <th>3</th>\n      <td>CN[C@@H]1C[C@@H](c2ccc(Cl)c(Cl)c2)c2ccccc21</td>\n    </tr>\n    <tr>\n      <th>0</th>\n      <td>CN(C)CCn1nnnc1SCC1=C(C(=O)O)N2C(=O)[C@H](NC(=O...</td>\n    </tr>\n    <tr>\n      <th>...</th>\n      <td>...</td>\n    </tr>\n    <tr>\n      <th>3</th>\n      <td>OC[C@@H](Cc1cccc(O)c1)[C@@H](CO)Cc1cccc(O)c1</td>\n    </tr>\n    <tr>\n      <th>0</th>\n      <td>O=C(O[C@H]1Cc2c(O)cc(O)cc2O[C@H]1c1cc(O)c(O)c(...</td>\n    </tr>\n    <tr>\n      <th>1</th>\n      <td>O=C(O[C@H]1Cc2c(O)cc(O)cc2O[C@@H]1c1cc(O)c(O)c...</td>\n    </tr>\n    <tr>\n      <th>2</th>\n      <td>O=C(O[C@@H]1Cc2c(O)cc(O)cc2O[C@H]1c1cc(O)c(O)c...</td>\n    </tr>\n    <tr>\n      <th>3</th>\n      <td>O=C(O[C@@H]1Cc2c(O)cc(O)cc2O[C@@H]1c1cc(O)c(O)...</td>\n    </tr>\n  </tbody>\n</table>\n<p>872 rows × 1 columns</p>\n</div>"
     },
     "execution_count": 12,
     "metadata": {},
     "output_type": "execute_result"
    }
   ],
   "source": [
    "df_collection"
   ],
   "metadata": {
    "collapsed": false,
    "ExecuteTime": {
     "start_time": "2024-04-23T22:10:51.632689Z",
     "end_time": "2024-04-23T22:10:51.656395Z"
    }
   }
  },
  {
   "cell_type": "code",
   "execution_count": null,
   "outputs": [],
   "source": [
    "def assign_lu_label(df_entry):\n",
    "    # unpack passed object\n",
    "    idx, entry = df_entry\n",
    "\n",
    "    # extract smiles string\n",
    "    smiles = entry['smiles']"
   ],
   "metadata": {
    "collapsed": false
   }
  }
 ],
 "metadata": {
  "kernelspec": {
   "display_name": "Python 3",
   "language": "python",
   "name": "python3"
  },
  "language_info": {
   "codemirror_mode": {
    "name": "ipython",
    "version": 2
   },
   "file_extension": ".py",
   "mimetype": "text/x-python",
   "name": "python",
   "nbconvert_exporter": "python",
   "pygments_lexer": "ipython2",
   "version": "2.7.6"
  }
 },
 "nbformat": 4,
 "nbformat_minor": 0
}
