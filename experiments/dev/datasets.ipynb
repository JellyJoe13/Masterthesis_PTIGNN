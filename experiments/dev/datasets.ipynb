{
 "cells": [
  {
   "cell_type": "markdown",
   "source": [
    "# Data related dev"
   ],
   "metadata": {
    "collapsed": false
   }
  },
  {
   "cell_type": "markdown",
   "source": [
    "## Dataset"
   ],
   "metadata": {
    "collapsed": false
   }
  },
  {
   "cell_type": "code",
   "execution_count": 1,
   "metadata": {
    "ExecuteTime": {
     "start_time": "2024-03-07T14:35:42.435868Z",
     "end_time": "2024-03-07T14:35:42.452865Z"
    }
   },
   "outputs": [],
   "source": [
    "import sys\n",
    "sys.path.append(\"../../\")"
   ]
  },
  {
   "cell_type": "code",
   "execution_count": 2,
   "outputs": [],
   "source": [
    "from ptgnn.dataset import RSDataset, BindingAffinityDataset, BaceDataset, Tox21Dataset, OGBDataset"
   ],
   "metadata": {
    "collapsed": false,
    "ExecuteTime": {
     "start_time": "2024-03-07T14:35:42.644554Z",
     "end_time": "2024-03-07T14:35:45.614617Z"
    }
   }
  },
  {
   "cell_type": "code",
   "execution_count": 3,
   "outputs": [
    {
     "name": "stdout",
     "output_type": "stream",
     "text": [
      "OGBDataset(32274)\n",
      "OGBDataset(4074)\n",
      "OGBDataset(3994)\n"
     ]
    }
   ],
   "source": [
    "ogb_train = OGBDataset(split=\"train\", ds_name=\"hiv\")\n",
    "ogb_test = OGBDataset(split=\"test\", ds_name=\"hiv\")\n",
    "ogb_val = OGBDataset(split=\"val\", ds_name=\"hiv\")\n",
    "print(ogb_train)\n",
    "print(ogb_test)\n",
    "print(ogb_val)"
   ],
   "metadata": {
    "collapsed": false,
    "ExecuteTime": {
     "start_time": "2024-03-07T14:35:08.172806Z",
     "end_time": "2024-03-07T14:35:22.145235Z"
    }
   }
  },
  {
   "cell_type": "code",
   "execution_count": 4,
   "outputs": [
    {
     "name": "stdout",
     "output_type": "stream",
     "text": [
      "BaceDataset(1060)\n",
      "BaceDataset(302)\n",
      "BaceDataset(151)\n"
     ]
    }
   ],
   "source": [
    "bace_train = BaceDataset(split='train')\n",
    "bace_test = BaceDataset(split='test')\n",
    "bace_val = BaceDataset(split='val')\n",
    "print(bace_train)\n",
    "print(bace_test)\n",
    "print(bace_val)"
   ],
   "metadata": {
    "collapsed": false,
    "ExecuteTime": {
     "start_time": "2024-03-07T14:35:22.146235Z",
     "end_time": "2024-03-07T14:35:22.923143Z"
    }
   }
  },
  {
   "cell_type": "code",
   "execution_count": 5,
   "outputs": [
    {
     "name": "stdout",
     "output_type": "stream",
     "text": [
      "Tox21Dataset(5413)\n",
      "Tox21Dataset(1544)\n",
      "Tox21Dataset(777)\n"
     ]
    }
   ],
   "source": [
    "tox_train = Tox21Dataset(split='train')\n",
    "tox_test = Tox21Dataset(split='test')\n",
    "tox_val = Tox21Dataset(split='val')\n",
    "print(tox_train)\n",
    "print(tox_test)\n",
    "print(tox_val)"
   ],
   "metadata": {
    "collapsed": false,
    "ExecuteTime": {
     "start_time": "2024-03-07T14:35:22.923143Z",
     "end_time": "2024-03-07T14:35:25.270944Z"
    }
   }
  },
  {
   "cell_type": "code",
   "execution_count": 3,
   "outputs": [
    {
     "name": "stderr",
     "output_type": "stream",
     "text": [
      "Processing...\n",
      "55084it [06:13, 147.59it/s]\n",
      "Done!\n",
      "Processing...\n",
      "11680it [01:21, 142.81it/s]\n",
      "Done!\n",
      "Processing...\n",
      "11748it [01:24, 139.38it/s]\n",
      "Done!\n"
     ]
    },
    {
     "name": "stdout",
     "output_type": "stream",
     "text": [
      "RSDataset(55068)\n",
      "RSDataset(11676)\n",
      "RSDataset(11740)\n"
     ]
    }
   ],
   "source": [
    "rs_train = RSDataset(split='train')\n",
    "rs_test = RSDataset(split='test')\n",
    "rs_val = RSDataset(split='val')\n",
    "print(rs_train)\n",
    "print(rs_test)\n",
    "print(rs_val)"
   ],
   "metadata": {
    "collapsed": false,
    "ExecuteTime": {
     "start_time": "2024-03-07T14:35:47.742421Z",
     "end_time": "2024-03-07T14:45:41.050171Z"
    }
   }
  },
  {
   "cell_type": "code",
   "execution_count": 4,
   "outputs": [
    {
     "name": "stderr",
     "output_type": "stream",
     "text": [
      "Processing...\n",
      "48384it [02:50, 283.26it/s]\n",
      "Done!\n",
      "Processing...\n",
      "10368it [00:39, 262.47it/s]\n",
      "Done!\n",
      "Processing...\n",
      "10368it [00:40, 254.84it/s]\n",
      "Done!\n"
     ]
    },
    {
     "name": "stdout",
     "output_type": "stream",
     "text": [
      "BindingAffinityDataset(48344)\n",
      "BindingAffinityDataset(10358)\n",
      "BindingAffinityDataset(10354)\n"
     ]
    }
   ],
   "source": [
    "bindingaffinity_train = BindingAffinityDataset(split=\"train\")\n",
    "bindingaffinity_test = BindingAffinityDataset(split=\"test\")\n",
    "bindingaffinity_val = BindingAffinityDataset(split=\"val\")\n",
    "print(bindingaffinity_train)\n",
    "print(bindingaffinity_test)\n",
    "print(bindingaffinity_val)"
   ],
   "metadata": {
    "collapsed": false,
    "ExecuteTime": {
     "start_time": "2024-03-07T14:45:41.052443Z",
     "end_time": "2024-03-07T14:50:28.263351Z"
    }
   }
  },
  {
   "cell_type": "markdown",
   "source": [
    "## Loader"
   ],
   "metadata": {
    "collapsed": false
   }
  },
  {
   "cell_type": "code",
   "execution_count": 4,
   "outputs": [],
   "source": [
    "from ptgnn.loading.load import UniversalLoader\n",
    "from ptgnn.dataset import BindingAffinityDataset, BaceDataset"
   ],
   "metadata": {
    "collapsed": false,
    "ExecuteTime": {
     "start_time": "2024-03-08T13:52:20.975517Z",
     "end_time": "2024-03-08T13:52:21.002029Z"
    }
   }
  },
  {
   "cell_type": "code",
   "execution_count": 5,
   "outputs": [],
   "source": [
    "ba1 = BindingAffinityDataset(split=\"val\")\n",
    "loader = UniversalLoader(dataset=ba1, n_neighbors_in_circle=3, batch_size=3)"
   ],
   "metadata": {
    "collapsed": false,
    "ExecuteTime": {
     "start_time": "2024-03-08T13:52:23.308645Z",
     "end_time": "2024-03-08T13:52:26.174784Z"
    }
   }
  },
  {
   "cell_type": "code",
   "execution_count": 7,
   "outputs": [
    {
     "data": {
      "text/plain": "['_DataLoader__initialized',\n '_DataLoader__multiprocessing_context',\n '_IterableDataset_len_called',\n '__annotations__',\n '__class__',\n '__class_getitem__',\n '__delattr__',\n '__dict__',\n '__dir__',\n '__doc__',\n '__eq__',\n '__format__',\n '__ge__',\n '__getattribute__',\n '__gt__',\n '__hash__',\n '__init__',\n '__init_subclass__',\n '__iter__',\n '__le__',\n '__len__',\n '__lt__',\n '__module__',\n '__ne__',\n '__new__',\n '__orig_bases__',\n '__parameters__',\n '__reduce__',\n '__reduce_ex__',\n '__repr__',\n '__setattr__',\n '__sizeof__',\n '__slots__',\n '__str__',\n '__subclasshook__',\n '__weakref__',\n '_auto_collation',\n '_dataset_kind',\n '_get_iterator',\n '_index_sampler',\n '_is_protocol',\n '_iterator',\n 'batch_sampler',\n 'batch_size',\n 'check_worker_number_rationality',\n 'collate_fn',\n 'dataset',\n 'drop_last',\n 'generator',\n 'multiprocessing_context',\n 'num_workers',\n 'persistent_workers',\n 'pin_memory',\n 'pin_memory_device',\n 'prefetch_factor',\n 'sampler',\n 'timeout',\n 'worker_init_fn']"
     },
     "execution_count": 7,
     "metadata": {},
     "output_type": "execute_result"
    }
   ],
   "source": [
    "dir(loader)"
   ],
   "metadata": {
    "collapsed": false,
    "ExecuteTime": {
     "start_time": "2024-03-08T13:52:32.392096Z",
     "end_time": "2024-03-08T13:52:32.408605Z"
    }
   }
  },
  {
   "cell_type": "code",
   "execution_count": 10,
   "outputs": [
    {
     "data": {
      "text/plain": "                                  ID           SMILES_nostereo  score0  \\\n0                  Br[C@@H]1CCCCCNC1              BrC1CCCCCNC1    -4.9   \n1                   Br[C@H]1CCCCCNC1              BrC1CCCCCNC1    -3.6   \n2            Brc1nnc([C@@H]2CCCO2)o1        Brc1nnc(C2CCCO2)o1    -5.6   \n3             Brc1nnc([C@H]2CCCO2)o1        Brc1nnc(C2CCCO2)o1    -5.2   \n4                C#CC#C[C@@H]1COCCO1            C#CC#CC1COCCO1    -4.5   \n...                              ...                       ...     ...   \n10363         c1nnoc1[C@H]1CCN2CC1C2        c1nnoc1C1CCN2CC1C2    -5.5   \n10364  c1oc([C@@H]2CCCN2)nc1C1CCCCC1  c1oc(C2CCCN2)nc1C1CCCCC1    -7.8   \n10365   c1oc([C@H]2CCCN2)nc1C1CCCCC1  c1oc(C2CCCN2)nc1C1CCCCC1    -7.3   \n10366     c1sc([C@@H]2CCCN2)cc1C1CC1     c1sc(C2CCCN2)cc1C1CC1    -6.5   \n10367      c1sc([C@H]2CCCN2)cc1C1CC1     c1sc(C2CCCN2)cc1C1CC1    -5.8   \n\n       score1  score2  top_score  range_scores  mean_score  \\\n0        -4.9    -4.9       -4.9           0.0   -4.900000   \n1        -3.6    -3.6       -3.6           0.0   -3.600000   \n2        -5.6    -5.5       -5.6           0.1   -5.566667   \n3        -5.2    -5.2       -5.2           0.0   -5.200000   \n4        -4.5    -4.5       -4.5           0.0   -4.500000   \n...       ...     ...        ...           ...         ...   \n10363    -5.5    -5.5       -5.5           0.0   -5.500000   \n10364    -7.8    -7.8       -7.8           0.0   -7.800000   \n10365    -7.3    -7.3       -7.3           0.0   -7.300000   \n10366    -6.5    -6.5       -6.5           0.0   -6.500000   \n10367    -5.8    -5.8       -5.8           0.0   -5.800000   \n\n       top_score_enantiomers_range  \n0                              1.3  \n1                              1.3  \n2                              0.4  \n3                              0.4  \n4                              0.4  \n...                            ...  \n10363                          0.4  \n10364                          0.5  \n10365                          0.5  \n10366                          0.7  \n10367                          0.7  \n\n[10368 rows x 9 columns]",
      "text/html": "<div>\n<style scoped>\n    .dataframe tbody tr th:only-of-type {\n        vertical-align: middle;\n    }\n\n    .dataframe tbody tr th {\n        vertical-align: top;\n    }\n\n    .dataframe thead th {\n        text-align: right;\n    }\n</style>\n<table border=\"1\" class=\"dataframe\">\n  <thead>\n    <tr style=\"text-align: right;\">\n      <th></th>\n      <th>ID</th>\n      <th>SMILES_nostereo</th>\n      <th>score0</th>\n      <th>score1</th>\n      <th>score2</th>\n      <th>top_score</th>\n      <th>range_scores</th>\n      <th>mean_score</th>\n      <th>top_score_enantiomers_range</th>\n    </tr>\n  </thead>\n  <tbody>\n    <tr>\n      <th>0</th>\n      <td>Br[C@@H]1CCCCCNC1</td>\n      <td>BrC1CCCCCNC1</td>\n      <td>-4.9</td>\n      <td>-4.9</td>\n      <td>-4.9</td>\n      <td>-4.9</td>\n      <td>0.0</td>\n      <td>-4.900000</td>\n      <td>1.3</td>\n    </tr>\n    <tr>\n      <th>1</th>\n      <td>Br[C@H]1CCCCCNC1</td>\n      <td>BrC1CCCCCNC1</td>\n      <td>-3.6</td>\n      <td>-3.6</td>\n      <td>-3.6</td>\n      <td>-3.6</td>\n      <td>0.0</td>\n      <td>-3.600000</td>\n      <td>1.3</td>\n    </tr>\n    <tr>\n      <th>2</th>\n      <td>Brc1nnc([C@@H]2CCCO2)o1</td>\n      <td>Brc1nnc(C2CCCO2)o1</td>\n      <td>-5.6</td>\n      <td>-5.6</td>\n      <td>-5.5</td>\n      <td>-5.6</td>\n      <td>0.1</td>\n      <td>-5.566667</td>\n      <td>0.4</td>\n    </tr>\n    <tr>\n      <th>3</th>\n      <td>Brc1nnc([C@H]2CCCO2)o1</td>\n      <td>Brc1nnc(C2CCCO2)o1</td>\n      <td>-5.2</td>\n      <td>-5.2</td>\n      <td>-5.2</td>\n      <td>-5.2</td>\n      <td>0.0</td>\n      <td>-5.200000</td>\n      <td>0.4</td>\n    </tr>\n    <tr>\n      <th>4</th>\n      <td>C#CC#C[C@@H]1COCCO1</td>\n      <td>C#CC#CC1COCCO1</td>\n      <td>-4.5</td>\n      <td>-4.5</td>\n      <td>-4.5</td>\n      <td>-4.5</td>\n      <td>0.0</td>\n      <td>-4.500000</td>\n      <td>0.4</td>\n    </tr>\n    <tr>\n      <th>...</th>\n      <td>...</td>\n      <td>...</td>\n      <td>...</td>\n      <td>...</td>\n      <td>...</td>\n      <td>...</td>\n      <td>...</td>\n      <td>...</td>\n      <td>...</td>\n    </tr>\n    <tr>\n      <th>10363</th>\n      <td>c1nnoc1[C@H]1CCN2CC1C2</td>\n      <td>c1nnoc1C1CCN2CC1C2</td>\n      <td>-5.5</td>\n      <td>-5.5</td>\n      <td>-5.5</td>\n      <td>-5.5</td>\n      <td>0.0</td>\n      <td>-5.500000</td>\n      <td>0.4</td>\n    </tr>\n    <tr>\n      <th>10364</th>\n      <td>c1oc([C@@H]2CCCN2)nc1C1CCCCC1</td>\n      <td>c1oc(C2CCCN2)nc1C1CCCCC1</td>\n      <td>-7.8</td>\n      <td>-7.8</td>\n      <td>-7.8</td>\n      <td>-7.8</td>\n      <td>0.0</td>\n      <td>-7.800000</td>\n      <td>0.5</td>\n    </tr>\n    <tr>\n      <th>10365</th>\n      <td>c1oc([C@H]2CCCN2)nc1C1CCCCC1</td>\n      <td>c1oc(C2CCCN2)nc1C1CCCCC1</td>\n      <td>-7.3</td>\n      <td>-7.3</td>\n      <td>-7.3</td>\n      <td>-7.3</td>\n      <td>0.0</td>\n      <td>-7.300000</td>\n      <td>0.5</td>\n    </tr>\n    <tr>\n      <th>10366</th>\n      <td>c1sc([C@@H]2CCCN2)cc1C1CC1</td>\n      <td>c1sc(C2CCCN2)cc1C1CC1</td>\n      <td>-6.5</td>\n      <td>-6.5</td>\n      <td>-6.5</td>\n      <td>-6.5</td>\n      <td>0.0</td>\n      <td>-6.500000</td>\n      <td>0.7</td>\n    </tr>\n    <tr>\n      <th>10367</th>\n      <td>c1sc([C@H]2CCCN2)cc1C1CC1</td>\n      <td>c1sc(C2CCCN2)cc1C1CC1</td>\n      <td>-5.8</td>\n      <td>-5.8</td>\n      <td>-5.8</td>\n      <td>-5.8</td>\n      <td>0.0</td>\n      <td>-5.800000</td>\n      <td>0.7</td>\n    </tr>\n  </tbody>\n</table>\n<p>10368 rows × 9 columns</p>\n</div>"
     },
     "execution_count": 10,
     "metadata": {},
     "output_type": "execute_result"
    }
   ],
   "source": [
    "loader.dataset.dataframe"
   ],
   "metadata": {
    "collapsed": false,
    "ExecuteTime": {
     "start_time": "2024-03-08T13:53:19.943612Z",
     "end_time": "2024-03-08T13:53:20.013606Z"
    }
   }
  },
  {
   "cell_type": "code",
   "execution_count": 3,
   "outputs": [
    {
     "name": "stdout",
     "output_type": "stream",
     "text": [
      "DataBatch(x=[130, 118], edge_index=[2, 378], edge_attr=[378, 80], pos=[130, 6], parallel_node_index=[130], y=[3], batch=[130], ptr=[4], circle_index=[130, 5])\n"
     ]
    }
   ],
   "source": [
    "for batch in loader:\n",
    "    print(batch)\n",
    "    break"
   ],
   "metadata": {
    "collapsed": false,
    "ExecuteTime": {
     "start_time": "2024-03-07T12:56:43.966146Z",
     "end_time": "2024-03-07T12:56:44.005098Z"
    }
   }
  },
  {
   "cell_type": "code",
   "execution_count": 4,
   "outputs": [
    {
     "data": {
      "text/plain": "tensor([0, 0, 0, 0, 0, 0, 0, 0, 0, 0, 0, 0, 0, 0, 0, 0, 0, 0, 0, 0, 0, 0, 0, 0,\n        0, 0, 0, 0, 0, 0, 0, 0, 0, 0, 0, 0, 0, 0, 0, 0, 0, 0, 0, 0, 0, 0, 1, 1,\n        1, 1, 1, 1, 1, 1, 1, 1, 1, 1, 1, 1, 1, 1, 1, 1, 1, 1, 1, 1, 1, 1, 1, 1,\n        1, 1, 1, 1, 1, 1, 1, 1, 1, 1, 1, 1, 1, 1, 1, 1, 1, 1, 1, 1, 2, 2, 2, 2,\n        2, 2, 2, 2, 2, 2, 2, 2, 2, 2, 2, 2, 2, 2, 2, 2, 2, 2, 2, 2, 2, 2, 2, 2,\n        2, 2, 2, 2, 2, 2, 2, 2, 2, 2])"
     },
     "execution_count": 4,
     "metadata": {},
     "output_type": "execute_result"
    }
   ],
   "source": [
    "batch.batch"
   ],
   "metadata": {
    "collapsed": false,
    "ExecuteTime": {
     "start_time": "2024-03-07T12:56:46.501901Z",
     "end_time": "2024-03-07T12:56:46.537900Z"
    }
   }
  },
  {
   "cell_type": "code",
   "execution_count": 5,
   "outputs": [
    {
     "data": {
      "text/plain": "tensor([[ -1,  -1,  -1,  -1,  -1],\n        [  3,   7,   5,   3,   7],\n        [  0,   5,   7,   0,   5],\n        [  9,  11,  13,   9,  11],\n        [  0,   7,   3,   0,   7],\n        [ 38,  45,  43,  38,  45],\n        [  0,   3,   5,   0,   3],\n        [ -1,  -1,  -1,  -1,  -1],\n        [  2,  13,  11,   2,  13],\n        [ 15,  19,  17,  15,  19],\n        [  2,   9,  13,   2,   9],\n        [ -1,  -1,  -1,  -1,  -1],\n        [  2,  11,   9,   2,  11],\n        [ -1,  -1,  -1,  -1,  -1],\n        [  8,  17,  19,   8,  17],\n        [ 21,  25,  23,  21,  25],\n        [  8,  19,  15,   8,  19],\n        [ -1,  -1,  -1,  -1,  -1],\n        [  8,  15,  17,   8,  15],\n        [ -1,  -1,  -1,  -1,  -1],\n        [ 14,  23,  25,  14,  23],\n        [ 27,  29,  31,  27,  29],\n        [ 14,  25,  21,  14,  25],\n        [ -1,  -1,  -1,  -1,  -1],\n        [ 14,  21,  23,  14,  21],\n        [ -1,  -1,  -1,  -1,  -1],\n        [ 20,  31,  29,  20,  31],\n        [ 33,  37,  35,  33,  37],\n        [ 20,  27,  31,  20,  27],\n        [ -1,  -1,  -1,  -1,  -1],\n        [ 20,  29,  27,  20,  29],\n        [ -1,  -1,  -1,  -1,  -1],\n        [ 26,  35,  37,  26,  35],\n        [ 39,  41,  39,  41,  -1],\n        [ 26,  37,  33,  26,  37],\n        [ -1,  -1,  -1,  -1,  -1],\n        [ 26,  33,  35,  26,  33],\n        [ -1,  -1,  -1,  -1,  -1],\n        [ 32,  41,  32,  41,  -1],\n        [  4,  43,  45,   4,  43],\n        [ 32,  39,  32,  39,  -1],\n        [ -1,  -1,  -1,  -1,  -1],\n        [  4,  45,  38,   4,  45],\n        [ -1,  -1,  -1,  -1,  -1],\n        [  4,  38,  43,   4,  38],\n        [ -1,  -1,  -1,  -1,  -1],\n        [ -1,  -1,  -1,  -1,  -1],\n        [ 49,  51,  53,  49,  51],\n        [ 46,  53,  51,  46,  53],\n        [ 55,  59,  57,  55,  59],\n        [ 46,  49,  53,  46,  49],\n        [ 84,  91,  89,  84,  91],\n        [ 46,  51,  49,  46,  51],\n        [ -1,  -1,  -1,  -1,  -1],\n        [ 48,  57,  59,  48,  57],\n        [ 61,  65,  63,  61,  65],\n        [ 48,  59,  55,  48,  59],\n        [ -1,  -1,  -1,  -1,  -1],\n        [ 48,  55,  57,  48,  55],\n        [ -1,  -1,  -1,  -1,  -1],\n        [ 54,  63,  65,  54,  63],\n        [ 67,  71,  69,  67,  71],\n        [ 54,  65,  61,  54,  65],\n        [ -1,  -1,  -1,  -1,  -1],\n        [ 54,  61,  63,  54,  61],\n        [ -1,  -1,  -1,  -1,  -1],\n        [ 60,  69,  71,  60,  69],\n        [ 73,  75,  77,  73,  75],\n        [ 60,  71,  67,  60,  71],\n        [ -1,  -1,  -1,  -1,  -1],\n        [ 60,  67,  69,  60,  67],\n        [ -1,  -1,  -1,  -1,  -1],\n        [ 66,  77,  75,  66,  77],\n        [ 79,  83,  81,  79,  83],\n        [ 66,  73,  77,  66,  73],\n        [ -1,  -1,  -1,  -1,  -1],\n        [ 66,  75,  73,  66,  75],\n        [ -1,  -1,  -1,  -1,  -1],\n        [ 72,  81,  83,  72,  81],\n        [ 85,  87,  85,  87,  -1],\n        [ 72,  83,  79,  72,  83],\n        [ -1,  -1,  -1,  -1,  -1],\n        [ 72,  79,  81,  72,  79],\n        [ -1,  -1,  -1,  -1,  -1],\n        [ 78,  87,  78,  87,  -1],\n        [ 50,  89,  91,  50,  89],\n        [ 78,  85,  78,  85,  -1],\n        [ -1,  -1,  -1,  -1,  -1],\n        [ 50,  91,  84,  50,  91],\n        [ -1,  -1,  -1,  -1,  -1],\n        [ 50,  84,  89,  50,  84],\n        [ -1,  -1,  -1,  -1,  -1],\n        [ -1,  -1,  -1,  -1,  -1],\n        [ 95,  97,  95,  97,  -1],\n        [ 92,  97,  92,  97,  -1],\n        [ 99,  99,  99,  -1,  -1],\n        [ 92,  95,  92,  95,  -1],\n        [104, 104, 104,  -1,  -1],\n        [ 94,  94,  94,  -1,  -1],\n        [101, 101, 101,  -1,  -1],\n        [ 98,  98,  98,  -1,  -1],\n        [103, 105, 103, 105,  -1],\n        [100, 105, 100, 105,  -1],\n        [107, 111, 109, 107, 111],\n        [100, 103, 100, 103,  -1],\n        [ 96,  96,  96,  -1,  -1],\n        [102, 109, 111, 102, 109],\n        [113, 117, 115, 113, 117],\n        [102, 111, 107, 102, 111],\n        [124, 124, 124,  -1,  -1],\n        [102, 107, 109, 102, 107],\n        [ -1,  -1,  -1,  -1,  -1],\n        [106, 115, 117, 106, 115],\n        [119, 123, 121, 119, 123],\n        [106, 117, 113, 106, 117],\n        [ -1,  -1,  -1,  -1,  -1],\n        [106, 113, 115, 106, 113],\n        [ -1,  -1,  -1,  -1,  -1],\n        [112, 121, 123, 112, 121],\n        [125, 127, 129, 125, 127],\n        [112, 123, 119, 112, 123],\n        [ -1,  -1,  -1,  -1,  -1],\n        [112, 119, 121, 112, 119],\n        [ -1,  -1,  -1,  -1,  -1],\n        [118, 129, 127, 118, 129],\n        [108, 108, 108,  -1,  -1],\n        [118, 125, 129, 118, 125],\n        [ -1,  -1,  -1,  -1,  -1],\n        [118, 127, 125, 118, 127],\n        [ -1,  -1,  -1,  -1,  -1]])"
     },
     "execution_count": 5,
     "metadata": {},
     "output_type": "execute_result"
    }
   ],
   "source": [
    "batch.circle_index"
   ],
   "metadata": {
    "collapsed": false,
    "ExecuteTime": {
     "start_time": "2024-03-07T12:56:46.922186Z",
     "end_time": "2024-03-07T12:56:46.933186Z"
    }
   }
  },
  {
   "cell_type": "code",
   "execution_count": 6,
   "outputs": [
    {
     "data": {
      "text/plain": "Data(x=[46, 118], edge_index=[2, 136], edge_attr=[136, 80], pos=[46, 6], parallel_node_index=[46], y=[1])"
     },
     "execution_count": 6,
     "metadata": {},
     "output_type": "execute_result"
    }
   ],
   "source": [
    "batch[0]"
   ],
   "metadata": {
    "collapsed": false,
    "ExecuteTime": {
     "start_time": "2024-03-07T12:56:47.573413Z",
     "end_time": "2024-03-07T12:56:47.585744Z"
    }
   }
  },
  {
   "cell_type": "code",
   "execution_count": 7,
   "outputs": [
    {
     "data": {
      "text/plain": "[[],\n [3, 7, 5],\n [0, 5, 7],\n [9, 11, 13],\n [0, 7, 3],\n [38, 45, 43],\n [0, 3, 5],\n [],\n [2, 13, 11],\n [15, 19, 17],\n [2, 9, 13],\n [],\n [2, 11, 9],\n [],\n [8, 17, 19],\n [21, 25, 23],\n [8, 19, 15],\n [],\n [8, 15, 17],\n [],\n [14, 23, 25],\n [27, 29, 31],\n [14, 25, 21],\n [],\n [14, 21, 23],\n [],\n [20, 31, 29],\n [33, 37, 35],\n [20, 27, 31],\n [],\n [20, 29, 27],\n [],\n [26, 35, 37],\n [39, 41],\n [26, 37, 33],\n [],\n [26, 33, 35],\n [],\n [32, 41],\n [4, 43, 45],\n [32, 39],\n [],\n [4, 45, 38],\n [],\n [4, 38, 43],\n []]"
     },
     "execution_count": 7,
     "metadata": {},
     "output_type": "execute_result"
    }
   ],
   "source": [
    "ba1[0].circle_index"
   ],
   "metadata": {
    "collapsed": false,
    "ExecuteTime": {
     "start_time": "2024-03-07T12:56:47.922970Z",
     "end_time": "2024-03-07T12:56:47.932970Z"
    }
   }
  },
  {
   "cell_type": "code",
   "execution_count": 49,
   "outputs": [
    {
     "data": {
      "text/plain": "list"
     },
     "execution_count": 49,
     "metadata": {},
     "output_type": "execute_result"
    }
   ],
   "source": [
    "type(ba1[0].circle_index)"
   ],
   "metadata": {
    "collapsed": false,
    "ExecuteTime": {
     "start_time": "2024-03-05T17:26:42.665396Z",
     "end_time": "2024-03-05T17:26:42.679904Z"
    }
   }
  },
  {
   "cell_type": "code",
   "execution_count": 4,
   "outputs": [],
   "source": [
    "from ptgnn.loading.custom_assembly import custom_loader"
   ],
   "metadata": {
    "collapsed": false,
    "ExecuteTime": {
     "start_time": "2024-03-07T12:59:53.993881Z",
     "end_time": "2024-03-07T12:59:54.008064Z"
    }
   }
  },
  {
   "cell_type": "code",
   "execution_count": 5,
   "outputs": [],
   "source": [
    "loader = custom_loader(ba1, n_neighbors_in_circle=3, sampler=\"single_conformer_sampler\", batch_size=3, dataframe=ba1.dataframe)"
   ],
   "metadata": {
    "collapsed": false,
    "ExecuteTime": {
     "start_time": "2024-03-07T12:59:54.235618Z",
     "end_time": "2024-03-07T13:00:00.360767Z"
    }
   }
  },
  {
   "cell_type": "code",
   "execution_count": 6,
   "outputs": [
    {
     "name": "stdout",
     "output_type": "stream",
     "text": [
      "DataBatch(x=[428, 118], edge_index=[2, 1252], edge_attr=[1252, 80], pos=[428, 6], parallel_node_index=[428], y=[6], batch=[428], ptr=[7], circle_index=[428, 5])\n"
     ]
    }
   ],
   "source": [
    "for batch in loader:\n",
    "    print(batch)\n",
    "    break"
   ],
   "metadata": {
    "collapsed": false,
    "ExecuteTime": {
     "start_time": "2024-03-07T13:00:00.362767Z",
     "end_time": "2024-03-07T13:00:00.455298Z"
    }
   }
  },
  {
   "cell_type": "code",
   "execution_count": 19,
   "outputs": [
    {
     "name": "stdout",
     "output_type": "stream",
     "text": [
      "(array([0, 1, 2, 3, 4, 5], dtype=int64), array([66, 66, 68, 68, 80, 80], dtype=int64))\n"
     ]
    }
   ],
   "source": [
    "import numpy as np\n",
    "print(np.unique(batch.batch.numpy(), return_counts=True))"
   ],
   "metadata": {
    "collapsed": false,
    "ExecuteTime": {
     "start_time": "2024-03-07T13:02:16.734609Z",
     "end_time": "2024-03-07T13:02:16.749609Z"
    }
   }
  },
  {
   "cell_type": "code",
   "execution_count": 10,
   "outputs": [],
   "source": [
    "# test for ptree transformation\n",
    "bac1 = BaceDataset(split='val', graph_mode=\"edge\", transformation_mode=\"chienn_tree_basic\")"
   ],
   "metadata": {
    "collapsed": false,
    "ExecuteTime": {
     "start_time": "2024-03-05T20:35:58.291973Z",
     "end_time": "2024-03-05T20:35:58.308980Z"
    }
   }
  },
  {
   "cell_type": "code",
   "execution_count": 34,
   "outputs": [
    {
     "name": "stderr",
     "output_type": "stream",
     "text": [
      "Processing...\n",
      "1060it [00:24, 43.07it/s] \n",
      "151it [00:07, 19.06it/s]\n",
      "302it [00:09, 32.24it/s] \n",
      "Done!\n"
     ]
    }
   ],
   "source": [
    "bac1 = BaceDataset(split='test', graph_mode=\"edge\", transformation_mode=\"chienn_tree_basic\")"
   ],
   "metadata": {
    "collapsed": false,
    "ExecuteTime": {
     "start_time": "2024-03-06T10:53:47.873685Z",
     "end_time": "2024-03-06T10:54:32.345997Z"
    }
   }
  },
  {
   "cell_type": "code",
   "execution_count": 11,
   "outputs": [
    {
     "data": {
      "text/plain": "Data(x=[202, 118], edge_index=[2, 578], edge_attr=[578, 80], pos=[202, 6], ptree=[202], y=[1])"
     },
     "execution_count": 11,
     "metadata": {},
     "output_type": "execute_result"
    }
   ],
   "source": [
    "bac1[0]"
   ],
   "metadata": {
    "collapsed": false,
    "ExecuteTime": {
     "start_time": "2024-03-05T20:36:00.012807Z",
     "end_time": "2024-03-05T20:36:00.031026Z"
    }
   }
  },
  {
   "cell_type": "code",
   "execution_count": 12,
   "outputs": [],
   "source": [
    "loader = UniversalLoader(dataset=bac1, n_neighbors_in_circle=3, batch_size=3)"
   ],
   "metadata": {
    "collapsed": false,
    "ExecuteTime": {
     "start_time": "2024-03-05T20:36:53.669517Z",
     "end_time": "2024-03-05T20:36:53.686516Z"
    }
   }
  },
  {
   "cell_type": "code",
   "execution_count": 32,
   "outputs": [
    {
     "name": "stdout",
     "output_type": "stream",
     "text": [
      "DataBatch(x=[576, 118], edge_index=[2, 1642], edge_attr=[1642, 80], pos=[576, 6], y=[3], batch=[576], ptr=[4], ptree=[576])\n"
     ]
    }
   ],
   "source": [
    "for batch in loader:\n",
    "    print(batch)\n",
    "    break"
   ],
   "metadata": {
    "collapsed": false,
    "ExecuteTime": {
     "start_time": "2024-03-05T20:38:10.154243Z",
     "end_time": "2024-03-05T20:38:10.170242Z"
    }
   }
  },
  {
   "cell_type": "code",
   "execution_count": 5,
   "outputs": [
    {
     "data": {
      "text/plain": "['{\"P\": [1, {\"Z\": [3, 7, 5]}]}',\n '{\"P\": [0, {\"Z\": [9, 13, 11]}]}',\n '{\"P\": [3, {\"Z\": [1, 5, 7]}]}',\n '{\"P\": [2]}',\n '{\"P\": [5, {\"Z\": [1, 7, 3]}]}',\n '{\"P\": [4]}',\n '{\"P\": [7, {\"Z\": [1, 3, 5]}]}',\n '{\"P\": [6]}',\n '{\"P\": [9, {\"Z\": [0, 11, 13]}]}',\n '{\"P\": [8, {\"Z\": [15, 19, 17]}]}',\n '{\"P\": [11, {\"Z\": [0, 13, 9]}]}',\n '{\"P\": [10]}',\n '{\"P\": [13, {\"Z\": [0, 9, 11]}]}',\n '{\"P\": [12]}',\n '{\"P\": [15, {\"Z\": [8, 17, 19]}]}',\n '{\"P\": [14, {\"Z\": [21]}]}',\n '{\"P\": [17, {\"Z\": [8, 19, 15]}]}',\n '{\"P\": [16]}',\n '{\"P\": [19, {\"Z\": [8, 15, 17]}]}',\n '{\"P\": [18]}',\n '{\"P\": [21, {\"Z\": [14]}]}',\n '{\"P\": [20, {\"Z\": [23, 25, 27]}]}',\n '{\"P\": [23, {\"Z\": [20, 27, 25]}]}',\n '{\"P\": [22, {\"Z\": [29, 33, 31]}]}',\n '{\"P\": [25, {\"Z\": [20, 23, 27]}]}',\n '{\"P\": [24, {\"Z\": [42, 201, 199]}]}',\n '{\"P\": [27, {\"Z\": [20, 25, 23]}]}',\n '{\"P\": [26]}',\n '{\"P\": [29, {\"Z\": [22, 31, 33]}]}',\n '{\"P\": [28, {\"Z\": [35, 37, 39]}]}',\n '{\"P\": [31, {\"Z\": [22, 33, 29]}]}',\n '{\"P\": [30]}',\n '{\"P\": [33, {\"Z\": [22, 29, 31]}]}',\n '{\"P\": [32]}',\n '{\"P\": [35, {\"Z\": [28, 39, 37]}]}',\n '{\"P\": [34, {\"Z\": [41, 43, 45]}]}',\n '{\"P\": [37, {\"Z\": [28, 35, 39]}]}',\n '{\"P\": [36]}',\n '{\"P\": [39, {\"Z\": [28, 37, 35]}]}',\n '{\"P\": [38]}',\n '{\"P\": [41, {\"Z\": [34, 45, 43]}]}',\n '{\"P\": [40, {\"Z\": [47, 49, 51]}]}',\n '{\"P\": [43, {\"Z\": [34, 41, 45]}]}',\n '{\"P\": [42, {\"Z\": [24, 199, 201]}]}',\n '{\"P\": [45, {\"Z\": [34, 43, 41]}]}',\n '{\"P\": [44]}',\n '{\"P\": [47, {\"Z\": [40, 51, 49]}]}',\n '{\"P\": [46, {\"Z\": [53]}]}',\n '{\"P\": [49, {\"Z\": [40, 47, 51]}]}',\n '{\"P\": [48, {\"Z\": [55, 59, 57]}]}',\n '{\"P\": [51, {\"Z\": [40, 49, 47]}]}',\n '{\"P\": [50]}',\n '{\"P\": [53, {\"Z\": [46]}]}',\n '{\"P\": [52]}',\n '{\"P\": [55, {\"Z\": [48, 57, 59]}]}',\n '{\"P\": [54, {\"Z\": [61, 65, 63]}]}',\n '{\"P\": [57, {\"Z\": [48, 59, 55]}]}',\n '{\"P\": [56, {\"Z\": [89, 91]}]}',\n '{\"P\": [59, {\"Z\": [48, 55, 57]}]}',\n '{\"P\": [58]}',\n '{\"P\": [61, {\"Z\": [54, 63, 65]}]}',\n '{\"P\": [60, {\"Z\": [67, 69]}]}',\n '{\"P\": [63, {\"Z\": [54, 65, 61]}]}',\n '{\"P\": [62]}',\n '{\"P\": [65, {\"Z\": [54, 61, 63]}]}',\n '{\"P\": [64]}',\n '{\"P\": [67, {\"Z\": [60, 69]}]}',\n '{\"P\": [66, {\"Z\": [71, 73]}]}',\n '{\"P\": [69, {\"Z\": [60, 67]}]}',\n '{\"P\": [68, {\"Z\": [84, 87]}]}',\n '{\"P\": [71, {\"Z\": [66, 73]}]}',\n '{\"P\": [70, {\"Z\": [75, 77]}]}',\n '{\"P\": [73, {\"Z\": [66, 71]}]}',\n '{\"P\": [72]}',\n '{\"P\": [75, {\"Z\": [70, 77]}]}',\n '{\"P\": [74]}',\n '{\"P\": [77, {\"Z\": [70, 75]}]}',\n '{\"P\": [76, {\"Z\": [79, 81]}]}',\n '{\"P\": [79, {\"Z\": [76, 81]}]}',\n '{\"P\": [78, {\"Z\": [83, 85]}]}',\n '{\"P\": [81, {\"Z\": [76, 79]}]}',\n '{\"P\": [80]}',\n '{\"P\": [83, {\"Z\": [78, 85]}]}',\n '{\"P\": [82]}',\n '{\"P\": [85, {\"Z\": [78, 83]}]}',\n '{\"P\": [84, {\"Z\": [68, 87]}]}',\n '{\"P\": [87, {\"Z\": [68, 84]}]}',\n '{\"P\": [86]}',\n '{\"P\": [89, {\"Z\": [56, 91]}]}',\n '{\"P\": [88, {\"Z\": [93, 95]}]}',\n '{\"P\": [91, {\"Z\": [56, 89]}]}',\n '{\"P\": [90]}',\n '{\"P\": [93, {\"Z\": [88, 95]}]}',\n '{\"P\": [92]}',\n '{\"P\": [95, {\"Z\": [88, 93]}]}',\n '{\"P\": [94, {\"Z\": [97, 101, 99]}]}',\n '{\"P\": [97, {\"Z\": [94, 99, 101]}]}',\n '{\"P\": [96, {\"Z\": [103, 107, 105]}]}',\n '{\"P\": [99, {\"Z\": [94, 101, 97]}]}',\n '{\"P\": [98, {\"Z\": [137, 139]}]}',\n '{\"P\": [101, {\"Z\": [94, 97, 99]}]}',\n '{\"P\": [100]}',\n '{\"P\": [103, {\"Z\": [96, 105, 107]}]}',\n '{\"P\": [102, {\"Z\": [109, 113, 111]}]}',\n '{\"P\": [105, {\"Z\": [96, 107, 103]}]}',\n '{\"P\": [104]}',\n '{\"P\": [107, {\"Z\": [96, 103, 105]}]}',\n '{\"P\": [106]}',\n '{\"P\": [109, {\"Z\": [102, 111, 113]}]}',\n '{\"P\": [108, {\"Z\": [115, 117]}]}',\n '{\"P\": [111, {\"Z\": [102, 113, 109]}]}',\n '{\"P\": [110]}',\n '{\"P\": [113, {\"Z\": [102, 109, 111]}]}',\n '{\"P\": [112]}',\n '{\"P\": [115, {\"Z\": [108, 117]}]}',\n '{\"P\": [114, {\"Z\": [119, 121]}]}',\n '{\"P\": [117, {\"Z\": [108, 115]}]}',\n '{\"P\": [116, {\"Z\": [130, 135]}]}',\n '{\"P\": [119, {\"Z\": [114, 121]}]}',\n '{\"P\": [118, {\"Z\": [123, 125]}]}',\n '{\"P\": [121, {\"Z\": [114, 119]}]}',\n '{\"P\": [120]}',\n '{\"P\": [123, {\"Z\": [118, 125]}]}',\n '{\"P\": [122, {\"Z\": [127, 129]}]}',\n '{\"P\": [125, {\"Z\": [118, 123]}]}',\n '{\"P\": [124]}',\n '{\"P\": [127, {\"Z\": [122, 129]}]}',\n '{\"P\": [126, {\"Z\": [131, 133]}]}',\n '{\"P\": [129, {\"Z\": [122, 127]}]}',\n '{\"P\": [128]}',\n '{\"P\": [131, {\"Z\": [126, 133]}]}',\n '{\"P\": [130, {\"Z\": [116, 135]}]}',\n '{\"P\": [133, {\"Z\": [126, 131]}]}',\n '{\"P\": [132]}',\n '{\"P\": [135, {\"Z\": [116, 130]}]}',\n '{\"P\": [134]}',\n '{\"P\": [137, {\"Z\": [98, 139]}]}',\n '{\"P\": [136, {\"Z\": [141, 145, 143]}]}',\n '{\"P\": [139, {\"Z\": [98, 137]}]}',\n '{\"P\": [138, {\"Z\": [156, 197]}]}',\n '{\"P\": [141, {\"Z\": [136, 143, 145]}]}',\n '{\"P\": [140, {\"Z\": [147, 149, 151]}]}',\n '{\"P\": [143, {\"Z\": [136, 145, 141]}]}',\n '{\"P\": [142]}',\n '{\"P\": [145, {\"Z\": [136, 141, 143]}]}',\n '{\"P\": [144]}',\n '{\"P\": [147, {\"Z\": [140, 151, 149]}]}',\n '{\"P\": [146, {\"Z\": [153, 155, 157]}]}',\n '{\"P\": [149, {\"Z\": [140, 147, 151]}]}',\n '{\"P\": [148]}',\n '{\"P\": [151, {\"Z\": [140, 149, 147]}]}',\n '{\"P\": [150]}',\n '{\"P\": [153, {\"Z\": [146, 157, 155]}]}',\n '{\"P\": [152, {\"Z\": [159, 163, 161]}]}',\n '{\"P\": [155, {\"Z\": [146, 153, 157]}]}',\n '{\"P\": [154, {\"Z\": [183, 185]}]}',\n '{\"P\": [157, {\"Z\": [146, 155, 153]}]}',\n '{\"P\": [156, {\"Z\": [138, 197]}]}',\n '{\"P\": [159, {\"Z\": [152, 161, 163]}]}',\n '{\"P\": [158, {\"Z\": [165, 167, 169]}]}',\n '{\"P\": [161, {\"Z\": [152, 163, 159]}]}',\n '{\"P\": [160]}',\n '{\"P\": [163, {\"Z\": [152, 159, 161]}]}',\n '{\"P\": [162]}',\n '{\"P\": [165, {\"Z\": [158, 169, 167]}]}',\n '{\"P\": [164, {\"Z\": [171, 175, 173]}]}',\n '{\"P\": [167, {\"Z\": [158, 165, 169]}]}',\n '{\"P\": [166, {\"Z\": [177, 181, 179]}]}',\n '{\"P\": [169, {\"Z\": [158, 167, 165]}]}',\n '{\"P\": [168]}',\n '{\"P\": [171, {\"Z\": [164, 173, 175]}]}',\n '{\"P\": [170]}',\n '{\"P\": [173, {\"Z\": [164, 175, 171]}]}',\n '{\"P\": [172]}',\n '{\"P\": [175, {\"Z\": [164, 171, 173]}]}',\n '{\"P\": [174]}',\n '{\"P\": [177, {\"Z\": [166, 179, 181]}]}',\n '{\"P\": [176]}',\n '{\"P\": [179, {\"Z\": [166, 181, 177]}]}',\n '{\"P\": [178]}',\n '{\"P\": [181, {\"Z\": [166, 177, 179]}]}',\n '{\"P\": [180]}',\n '{\"P\": [183, {\"Z\": [154, 185]}]}',\n '{\"P\": [182, {\"Z\": [187, 189]}]}',\n '{\"P\": [185, {\"Z\": [154, 183]}]}',\n '{\"P\": [184]}',\n '{\"P\": [187, {\"Z\": [182, 189]}]}',\n '{\"P\": [186, {\"Z\": [191, 195, 193]}]}',\n '{\"P\": [189, {\"Z\": [182, 187]}]}',\n '{\"P\": [188]}',\n '{\"P\": [191, {\"Z\": [186, 193, 195]}]}',\n '{\"P\": [190]}',\n '{\"P\": [193, {\"Z\": [186, 195, 191]}]}',\n '{\"P\": [192]}',\n '{\"P\": [195, {\"Z\": [186, 191, 193]}]}',\n '{\"P\": [194]}',\n '{\"P\": [197, {\"Z\": [138, 156]}]}',\n '{\"P\": [196]}',\n '{\"P\": [199, {\"Z\": [24, 201, 42]}]}',\n '{\"P\": [198]}',\n '{\"P\": [201, {\"Z\": [24, 42, 199]}]}',\n '{\"P\": [200]}']"
     },
     "execution_count": 5,
     "metadata": {},
     "output_type": "execute_result"
    }
   ],
   "source": [
    "bac1[0].ptree"
   ],
   "metadata": {
    "collapsed": false,
    "ExecuteTime": {
     "start_time": "2024-03-05T18:28:46.233586Z",
     "end_time": "2024-03-05T18:28:46.242592Z"
    }
   }
  },
  {
   "cell_type": "code",
   "execution_count": 14,
   "outputs": [
    {
     "data": {
      "text/plain": "['{\"P\": [1, {\"Z\": [3, 7, 5]}]}',\n '{\"P\": [0, {\"Z\": [9, 13, 11]}]}',\n '{\"P\": [3, {\"Z\": [1, 5, 7]}]}',\n '{\"P\": [2]}',\n '{\"P\": [5, {\"Z\": [1, 7, 3]}]}',\n '{\"P\": [4]}',\n '{\"P\": [7, {\"Z\": [1, 3, 5]}]}',\n '{\"P\": [6]}',\n '{\"P\": [9, {\"Z\": [0, 11, 13]}]}',\n '{\"P\": [8, {\"Z\": [15, 19, 17]}]}',\n '{\"P\": [11, {\"Z\": [0, 13, 9]}]}',\n '{\"P\": [10]}',\n '{\"P\": [13, {\"Z\": [0, 9, 11]}]}',\n '{\"P\": [12]}',\n '{\"P\": [15, {\"Z\": [8, 17, 19]}]}',\n '{\"P\": [14, {\"Z\": [21]}]}',\n '{\"P\": [17, {\"Z\": [8, 19, 15]}]}',\n '{\"P\": [16]}',\n '{\"P\": [19, {\"Z\": [8, 15, 17]}]}',\n '{\"P\": [18]}',\n '{\"P\": [21, {\"Z\": [14]}]}',\n '{\"P\": [20, {\"Z\": [23, 25, 27]}]}',\n '{\"P\": [23, {\"Z\": [20, 27, 25]}]}',\n '{\"P\": [22, {\"Z\": [29, 33, 31]}]}',\n '{\"P\": [25, {\"Z\": [20, 23, 27]}]}',\n '{\"P\": [24, {\"Z\": [42, 201, 199]}]}',\n '{\"P\": [27, {\"Z\": [20, 25, 23]}]}',\n '{\"P\": [26]}',\n '{\"P\": [29, {\"Z\": [22, 31, 33]}]}',\n '{\"P\": [28, {\"Z\": [35, 37, 39]}]}',\n '{\"P\": [31, {\"Z\": [22, 33, 29]}]}',\n '{\"P\": [30]}',\n '{\"P\": [33, {\"Z\": [22, 29, 31]}]}',\n '{\"P\": [32]}',\n '{\"P\": [35, {\"Z\": [28, 39, 37]}]}',\n '{\"P\": [34, {\"Z\": [41, 43, 45]}]}',\n '{\"P\": [37, {\"Z\": [28, 35, 39]}]}',\n '{\"P\": [36]}',\n '{\"P\": [39, {\"Z\": [28, 37, 35]}]}',\n '{\"P\": [38]}',\n '{\"P\": [41, {\"Z\": [34, 45, 43]}]}',\n '{\"P\": [40, {\"Z\": [47, 49, 51]}]}',\n '{\"P\": [43, {\"Z\": [34, 41, 45]}]}',\n '{\"P\": [42, {\"Z\": [24, 199, 201]}]}',\n '{\"P\": [45, {\"Z\": [34, 43, 41]}]}',\n '{\"P\": [44]}',\n '{\"P\": [47, {\"Z\": [40, 51, 49]}]}',\n '{\"P\": [46, {\"Z\": [53]}]}',\n '{\"P\": [49, {\"Z\": [40, 47, 51]}]}',\n '{\"P\": [48, {\"Z\": [55, 59, 57]}]}',\n '{\"P\": [51, {\"Z\": [40, 49, 47]}]}',\n '{\"P\": [50]}',\n '{\"P\": [53, {\"Z\": [46]}]}',\n '{\"P\": [52]}',\n '{\"P\": [55, {\"Z\": [48, 57, 59]}]}',\n '{\"P\": [54, {\"Z\": [61, 65, 63]}]}',\n '{\"P\": [57, {\"Z\": [48, 59, 55]}]}',\n '{\"P\": [56, {\"Z\": [89, 91]}]}',\n '{\"P\": [59, {\"Z\": [48, 55, 57]}]}',\n '{\"P\": [58]}',\n '{\"P\": [61, {\"Z\": [54, 63, 65]}]}',\n '{\"P\": [60, {\"Z\": [67, 69]}]}',\n '{\"P\": [63, {\"Z\": [54, 65, 61]}]}',\n '{\"P\": [62]}',\n '{\"P\": [65, {\"Z\": [54, 61, 63]}]}',\n '{\"P\": [64]}',\n '{\"P\": [67, {\"Z\": [60, 69]}]}',\n '{\"P\": [66, {\"Z\": [71, 73]}]}',\n '{\"P\": [69, {\"Z\": [60, 67]}]}',\n '{\"P\": [68, {\"Z\": [84, 87]}]}',\n '{\"P\": [71, {\"Z\": [66, 73]}]}',\n '{\"P\": [70, {\"Z\": [75, 77]}]}',\n '{\"P\": [73, {\"Z\": [66, 71]}]}',\n '{\"P\": [72]}',\n '{\"P\": [75, {\"Z\": [70, 77]}]}',\n '{\"P\": [74]}',\n '{\"P\": [77, {\"Z\": [70, 75]}]}',\n '{\"P\": [76, {\"Z\": [79, 81]}]}',\n '{\"P\": [79, {\"Z\": [76, 81]}]}',\n '{\"P\": [78, {\"Z\": [83, 85]}]}',\n '{\"P\": [81, {\"Z\": [76, 79]}]}',\n '{\"P\": [80]}',\n '{\"P\": [83, {\"Z\": [78, 85]}]}',\n '{\"P\": [82]}',\n '{\"P\": [85, {\"Z\": [78, 83]}]}',\n '{\"P\": [84, {\"Z\": [68, 87]}]}',\n '{\"P\": [87, {\"Z\": [68, 84]}]}',\n '{\"P\": [86]}',\n '{\"P\": [89, {\"Z\": [56, 91]}]}',\n '{\"P\": [88, {\"Z\": [93, 95]}]}',\n '{\"P\": [91, {\"Z\": [56, 89]}]}',\n '{\"P\": [90]}',\n '{\"P\": [93, {\"Z\": [88, 95]}]}',\n '{\"P\": [92]}',\n '{\"P\": [95, {\"Z\": [88, 93]}]}',\n '{\"P\": [94, {\"Z\": [97, 101, 99]}]}',\n '{\"P\": [97, {\"Z\": [94, 99, 101]}]}',\n '{\"P\": [96, {\"Z\": [103, 107, 105]}]}',\n '{\"P\": [99, {\"Z\": [94, 101, 97]}]}',\n '{\"P\": [98, {\"Z\": [137, 139]}]}',\n '{\"P\": [101, {\"Z\": [94, 97, 99]}]}',\n '{\"P\": [100]}',\n '{\"P\": [103, {\"Z\": [96, 105, 107]}]}',\n '{\"P\": [102, {\"Z\": [109, 113, 111]}]}',\n '{\"P\": [105, {\"Z\": [96, 107, 103]}]}',\n '{\"P\": [104]}',\n '{\"P\": [107, {\"Z\": [96, 103, 105]}]}',\n '{\"P\": [106]}',\n '{\"P\": [109, {\"Z\": [102, 111, 113]}]}',\n '{\"P\": [108, {\"Z\": [115, 117]}]}',\n '{\"P\": [111, {\"Z\": [102, 113, 109]}]}',\n '{\"P\": [110]}',\n '{\"P\": [113, {\"Z\": [102, 109, 111]}]}',\n '{\"P\": [112]}',\n '{\"P\": [115, {\"Z\": [108, 117]}]}',\n '{\"P\": [114, {\"Z\": [119, 121]}]}',\n '{\"P\": [117, {\"Z\": [108, 115]}]}',\n '{\"P\": [116, {\"Z\": [130, 135]}]}',\n '{\"P\": [119, {\"Z\": [114, 121]}]}',\n '{\"P\": [118, {\"Z\": [123, 125]}]}',\n '{\"P\": [121, {\"Z\": [114, 119]}]}',\n '{\"P\": [120]}',\n '{\"P\": [123, {\"Z\": [118, 125]}]}',\n '{\"P\": [122, {\"Z\": [127, 129]}]}',\n '{\"P\": [125, {\"Z\": [118, 123]}]}',\n '{\"P\": [124]}',\n '{\"P\": [127, {\"Z\": [122, 129]}]}',\n '{\"P\": [126, {\"Z\": [131, 133]}]}',\n '{\"P\": [129, {\"Z\": [122, 127]}]}',\n '{\"P\": [128]}',\n '{\"P\": [131, {\"Z\": [126, 133]}]}',\n '{\"P\": [130, {\"Z\": [116, 135]}]}',\n '{\"P\": [133, {\"Z\": [126, 131]}]}',\n '{\"P\": [132]}',\n '{\"P\": [135, {\"Z\": [116, 130]}]}',\n '{\"P\": [134]}',\n '{\"P\": [137, {\"Z\": [98, 139]}]}',\n '{\"P\": [136, {\"Z\": [141, 145, 143]}]}',\n '{\"P\": [139, {\"Z\": [98, 137]}]}',\n '{\"P\": [138, {\"Z\": [156, 197]}]}',\n '{\"P\": [141, {\"Z\": [136, 143, 145]}]}',\n '{\"P\": [140, {\"Z\": [147, 149, 151]}]}',\n '{\"P\": [143, {\"Z\": [136, 145, 141]}]}',\n '{\"P\": [142]}',\n '{\"P\": [145, {\"Z\": [136, 141, 143]}]}',\n '{\"P\": [144]}',\n '{\"P\": [147, {\"Z\": [140, 151, 149]}]}',\n '{\"P\": [146, {\"Z\": [153, 155, 157]}]}',\n '{\"P\": [149, {\"Z\": [140, 147, 151]}]}',\n '{\"P\": [148]}',\n '{\"P\": [151, {\"Z\": [140, 149, 147]}]}',\n '{\"P\": [150]}',\n '{\"P\": [153, {\"Z\": [146, 157, 155]}]}',\n '{\"P\": [152, {\"Z\": [159, 163, 161]}]}',\n '{\"P\": [155, {\"Z\": [146, 153, 157]}]}',\n '{\"P\": [154, {\"Z\": [183, 185]}]}',\n '{\"P\": [157, {\"Z\": [146, 155, 153]}]}',\n '{\"P\": [156, {\"Z\": [138, 197]}]}',\n '{\"P\": [159, {\"Z\": [152, 161, 163]}]}',\n '{\"P\": [158, {\"Z\": [165, 167, 169]}]}',\n '{\"P\": [161, {\"Z\": [152, 163, 159]}]}',\n '{\"P\": [160]}',\n '{\"P\": [163, {\"Z\": [152, 159, 161]}]}',\n '{\"P\": [162]}',\n '{\"P\": [165, {\"Z\": [158, 169, 167]}]}',\n '{\"P\": [164, {\"Z\": [171, 175, 173]}]}',\n '{\"P\": [167, {\"Z\": [158, 165, 169]}]}',\n '{\"P\": [166, {\"Z\": [177, 181, 179]}]}',\n '{\"P\": [169, {\"Z\": [158, 167, 165]}]}',\n '{\"P\": [168]}',\n '{\"P\": [171, {\"Z\": [164, 173, 175]}]}',\n '{\"P\": [170]}',\n '{\"P\": [173, {\"Z\": [164, 175, 171]}]}',\n '{\"P\": [172]}',\n '{\"P\": [175, {\"Z\": [164, 171, 173]}]}',\n '{\"P\": [174]}',\n '{\"P\": [177, {\"Z\": [166, 179, 181]}]}',\n '{\"P\": [176]}',\n '{\"P\": [179, {\"Z\": [166, 181, 177]}]}',\n '{\"P\": [178]}',\n '{\"P\": [181, {\"Z\": [166, 177, 179]}]}',\n '{\"P\": [180]}',\n '{\"P\": [183, {\"Z\": [154, 185]}]}',\n '{\"P\": [182, {\"Z\": [187, 189]}]}',\n '{\"P\": [185, {\"Z\": [154, 183]}]}',\n '{\"P\": [184]}',\n '{\"P\": [187, {\"Z\": [182, 189]}]}',\n '{\"P\": [186, {\"Z\": [191, 195, 193]}]}',\n '{\"P\": [189, {\"Z\": [182, 187]}]}',\n '{\"P\": [188]}',\n '{\"P\": [191, {\"Z\": [186, 193, 195]}]}',\n '{\"P\": [190]}',\n '{\"P\": [193, {\"Z\": [186, 195, 191]}]}',\n '{\"P\": [192]}',\n '{\"P\": [195, {\"Z\": [186, 191, 193]}]}',\n '{\"P\": [194]}',\n '{\"P\": [197, {\"Z\": [138, 156]}]}',\n '{\"P\": [196]}',\n '{\"P\": [199, {\"Z\": [24, 201, 42]}]}',\n '{\"P\": [198]}',\n '{\"P\": [201, {\"Z\": [24, 42, 199]}]}',\n '{\"P\": [200]}',\n '{\"P\": [203, {\"Z\": [205, 209, 207]}]}',\n '{\"P\": [202, {\"Z\": [211, 213, 215]}]}',\n '{\"P\": [205, {\"Z\": [203, 207, 209]}]}',\n '{\"P\": [204]}',\n '{\"P\": [207, {\"Z\": [203, 209, 205]}]}',\n '{\"P\": [206]}',\n '{\"P\": [209, {\"Z\": [203, 205, 207]}]}',\n '{\"P\": [208]}',\n '{\"P\": [211, {\"Z\": [202, 215, 213]}]}',\n '{\"P\": [210, {\"Z\": [217, 221, 219]}]}',\n '{\"P\": [213, {\"Z\": [202, 211, 215]}]}',\n '{\"P\": [212, {\"Z\": [223, 225]}]}',\n '{\"P\": [215, {\"Z\": [202, 213, 211]}]}',\n '{\"P\": [214]}',\n '{\"P\": [217, {\"Z\": [210, 219, 221]}]}',\n '{\"P\": [216]}',\n '{\"P\": [219, {\"Z\": [210, 221, 217]}]}',\n '{\"P\": [218]}',\n '{\"P\": [221, {\"Z\": [210, 217, 219]}]}',\n '{\"P\": [220]}',\n '{\"P\": [223, {\"Z\": [212, 225]}]}',\n '{\"P\": [222, {\"Z\": [227, 229]}]}',\n '{\"P\": [225, {\"Z\": [212, 223]}]}',\n '{\"P\": [224, {\"Z\": [240, 393]}]}',\n '{\"P\": [227, {\"Z\": [222, 229]}]}',\n '{\"P\": [226, {\"Z\": [231, 233]}]}',\n '{\"P\": [229, {\"Z\": [222, 227]}]}',\n '{\"P\": [228]}',\n '{\"P\": [231, {\"Z\": [226, 233]}]}',\n '{\"P\": [230, {\"Z\": [235, 237]}]}',\n '{\"P\": [233, {\"Z\": [226, 231]}]}',\n '{\"P\": [232]}',\n '{\"P\": [235, {\"Z\": [230, 237]}]}',\n '{\"P\": [234, {\"Z\": [239, 241]}]}',\n '{\"P\": [237, {\"Z\": [230, 235]}]}',\n '{\"P\": [236]}',\n '{\"P\": [239, {\"Z\": [234, 241]}]}',\n '{\"P\": [238, {\"Z\": [243, 247, 245]}]}',\n '{\"P\": [241, {\"Z\": [234, 239]}]}',\n '{\"P\": [240, {\"Z\": [224, 393]}]}',\n '{\"P\": [243, {\"Z\": [238, 245, 247]}]}',\n '{\"P\": [242, {\"Z\": [249, 253, 251]}]}',\n '{\"P\": [245, {\"Z\": [238, 247, 243]}]}',\n '{\"P\": [244]}',\n '{\"P\": [247, {\"Z\": [238, 243, 245]}]}',\n '{\"P\": [246]}',\n '{\"P\": [249, {\"Z\": [242, 251, 253]}]}',\n '{\"P\": [248, {\"Z\": [255, 259, 257]}]}',\n '{\"P\": [251, {\"Z\": [242, 253, 249]}]}',\n '{\"P\": [250]}',\n '{\"P\": [253, {\"Z\": [242, 249, 251]}]}',\n '{\"P\": [252]}',\n '{\"P\": [255, {\"Z\": [248, 257, 259]}]}',\n '{\"P\": [254, {\"Z\": [261, 263, 265]}]}',\n '{\"P\": [257, {\"Z\": [248, 259, 255]}]}',\n '{\"P\": [256]}',\n '{\"P\": [259, {\"Z\": [248, 255, 257]}]}',\n '{\"P\": [258]}',\n '{\"P\": [261, {\"Z\": [254, 265, 263]}]}',\n '{\"P\": [260, {\"Z\": [267]}]}',\n '{\"P\": [263, {\"Z\": [254, 261, 265]}]}',\n '{\"P\": [262, {\"Z\": [269, 273, 271]}]}',\n '{\"P\": [265, {\"Z\": [254, 263, 261]}]}',\n '{\"P\": [264]}',\n '{\"P\": [267, {\"Z\": [260]}]}',\n '{\"P\": [266]}',\n '{\"P\": [269, {\"Z\": [262, 271, 273]}]}',\n '{\"P\": [268, {\"Z\": [275, 277, 279]}]}',\n '{\"P\": [271, {\"Z\": [262, 273, 269]}]}',\n '{\"P\": [270, {\"Z\": [303, 305]}]}',\n '{\"P\": [273, {\"Z\": [262, 269, 271]}]}',\n '{\"P\": [272]}',\n '{\"P\": [275, {\"Z\": [268, 279, 277]}]}',\n '{\"P\": [274, {\"Z\": [281, 283]}]}',\n '{\"P\": [277, {\"Z\": [268, 275, 279]}]}',\n '{\"P\": [276]}',\n '{\"P\": [279, {\"Z\": [268, 277, 275]}]}',\n '{\"P\": [278]}',\n '{\"P\": [281, {\"Z\": [274, 283]}]}',\n '{\"P\": [280, {\"Z\": [285, 287]}]}',\n '{\"P\": [283, {\"Z\": [274, 281]}]}',\n '{\"P\": [282, {\"Z\": [296, 301]}]}',\n '{\"P\": [285, {\"Z\": [280, 287]}]}',\n '{\"P\": [284, {\"Z\": [289, 291]}]}',\n '{\"P\": [287, {\"Z\": [280, 285]}]}',\n '{\"P\": [286]}',\n '{\"P\": [289, {\"Z\": [284, 291]}]}',\n '{\"P\": [288, {\"Z\": [293, 295]}]}',\n '{\"P\": [291, {\"Z\": [284, 289]}]}',\n '{\"P\": [290]}',\n '{\"P\": [293, {\"Z\": [288, 295]}]}',\n '{\"P\": [292, {\"Z\": [297, 299]}]}',\n '{\"P\": [295, {\"Z\": [288, 293]}]}',\n '{\"P\": [294]}',\n '{\"P\": [297, {\"Z\": [292, 299]}]}',\n '{\"P\": [296, {\"Z\": [282, 301]}]}',\n '{\"P\": [299, {\"Z\": [292, 297]}]}',\n '{\"P\": [298]}',\n '{\"P\": [301, {\"Z\": [282, 296]}]}',\n '{\"P\": [300]}',\n '{\"P\": [303, {\"Z\": [270, 305]}]}',\n '{\"P\": [302, {\"Z\": [307, 309]}]}',\n '{\"P\": [305, {\"Z\": [270, 303]}]}',\n '{\"P\": [304]}',\n '{\"P\": [307, {\"Z\": [302, 309]}]}',\n '{\"P\": [306]}',\n '{\"P\": [309, {\"Z\": [302, 307]}]}',\n '{\"P\": [308, {\"Z\": [311, 315, 313]}]}',\n '{\"P\": [311, {\"Z\": [308, 313, 315]}]}',\n '{\"P\": [310, {\"Z\": [317, 321, 319]}]}',\n '{\"P\": [313, {\"Z\": [308, 315, 311]}]}',\n '{\"P\": [312, {\"Z\": [336, 389, 391]}]}',\n '{\"P\": [315, {\"Z\": [308, 311, 313]}]}',\n '{\"P\": [314]}',\n '{\"P\": [317, {\"Z\": [310, 319, 321]}]}',\n '{\"P\": [316, {\"Z\": [323, 327, 325]}]}',\n '{\"P\": [319, {\"Z\": [310, 321, 317]}]}',\n '{\"P\": [318]}',\n '{\"P\": [321, {\"Z\": [310, 317, 319]}]}',\n '{\"P\": [320]}',\n '{\"P\": [323, {\"Z\": [316, 325, 327]}]}',\n '{\"P\": [322, {\"Z\": [329, 331, 333]}]}',\n '{\"P\": [325, {\"Z\": [316, 327, 323]}]}',\n '{\"P\": [324]}',\n '{\"P\": [327, {\"Z\": [316, 323, 325]}]}',\n '{\"P\": [326]}',\n '{\"P\": [329, {\"Z\": [322, 333, 331]}]}',\n '{\"P\": [328, {\"Z\": [335, 339, 337]}]}',\n '{\"P\": [331, {\"Z\": [322, 329, 333]}]}',\n '{\"P\": [330]}',\n '{\"P\": [333, {\"Z\": [322, 331, 329]}]}',\n '{\"P\": [332]}',\n '{\"P\": [335, {\"Z\": [328, 337, 339]}]}',\n '{\"P\": [334, {\"Z\": [341, 343, 345]}]}',\n '{\"P\": [337, {\"Z\": [328, 339, 335]}]}',\n '{\"P\": [336, {\"Z\": [312, 391, 389]}]}',\n '{\"P\": [339, {\"Z\": [328, 335, 337]}]}',\n '{\"P\": [338]}',\n '{\"P\": [341, {\"Z\": [334, 345, 343]}]}',\n '{\"P\": [340, {\"Z\": [347, 349, 351]}]}',\n '{\"P\": [343, {\"Z\": [334, 341, 345]}]}',\n '{\"P\": [342, {\"Z\": [353, 355, 357]}]}',\n '{\"P\": [345, {\"Z\": [334, 343, 341]}]}',\n '{\"P\": [344, {\"Z\": [359, 361]}]}',\n '{\"P\": [347, {\"Z\": [340, 351, 349]}]}',\n '{\"P\": [346]}',\n '{\"P\": [349, {\"Z\": [340, 347, 351]}]}',\n '{\"P\": [348]}',\n '{\"P\": [351, {\"Z\": [340, 349, 347]}]}',\n '{\"P\": [350]}',\n '{\"P\": [353, {\"Z\": [342, 357, 355]}]}',\n '{\"P\": [352]}',\n '{\"P\": [355, {\"Z\": [342, 353, 357]}]}',\n '{\"P\": [354]}',\n '{\"P\": [357, {\"Z\": [342, 355, 353]}]}',\n '{\"P\": [356]}',\n '{\"P\": [359, {\"Z\": [344, 361]}]}',\n '{\"P\": [358, {\"Z\": [363, 367, 365]}]}',\n '{\"P\": [361, {\"Z\": [344, 359]}]}',\n '{\"P\": [360, {\"Z\": [380, 387]}]}',\n '{\"P\": [363, {\"Z\": [358, 365, 367]}]}',\n '{\"P\": [362, {\"Z\": [369, 371, 373]}]}',\n '{\"P\": [365, {\"Z\": [358, 367, 363]}]}',\n '{\"P\": [364]}',\n '{\"P\": [367, {\"Z\": [358, 363, 365]}]}',\n '{\"P\": [366]}',\n '{\"P\": [369, {\"Z\": [362, 373, 371]}]}',\n '{\"P\": [368, {\"Z\": [375, 379, 377]}]}',\n '{\"P\": [371, {\"Z\": [362, 369, 373]}]}',\n '{\"P\": [370]}',\n '{\"P\": [373, {\"Z\": [362, 371, 369]}]}',\n '{\"P\": [372]}',\n '{\"P\": [375, {\"Z\": [368, 377, 379]}]}',\n '{\"P\": [374, {\"Z\": [381, 383, 385]}]}',\n '{\"P\": [377, {\"Z\": [368, 379, 375]}]}',\n '{\"P\": [376]}',\n '{\"P\": [379, {\"Z\": [368, 375, 377]}]}',\n '{\"P\": [378]}',\n '{\"P\": [381, {\"Z\": [374, 385, 383]}]}',\n '{\"P\": [380, {\"Z\": [360, 387]}]}',\n '{\"P\": [383, {\"Z\": [374, 381, 385]}]}',\n '{\"P\": [382]}',\n '{\"P\": [385, {\"Z\": [374, 383, 381]}]}',\n '{\"P\": [384]}',\n '{\"P\": [387, {\"Z\": [360, 380]}]}',\n '{\"P\": [386]}',\n '{\"P\": [389, {\"Z\": [312, 336, 391]}]}',\n '{\"P\": [388]}',\n '{\"P\": [391, {\"Z\": [312, 389, 336]}]}',\n '{\"P\": [390]}',\n '{\"P\": [393, {\"Z\": [224, 240]}]}',\n '{\"P\": [392]}',\n '{\"P\": [395, {\"Z\": [397, 399, 401]}]}',\n '{\"P\": [394, {\"Z\": [403, 405, 407]}]}',\n '{\"P\": [397, {\"Z\": [395, 401, 399]}]}',\n '{\"P\": [396]}',\n '{\"P\": [399, {\"Z\": [395, 397, 401]}]}',\n '{\"P\": [398]}',\n '{\"P\": [401, {\"Z\": [395, 399, 397]}]}',\n '{\"P\": [400]}',\n '{\"P\": [403, {\"Z\": [394, 407, 405]}]}',\n '{\"P\": [402, {\"Z\": [409, 413, 411]}]}',\n '{\"P\": [405, {\"Z\": [394, 403, 407]}]}',\n '{\"P\": [404]}',\n '{\"P\": [407, {\"Z\": [394, 405, 403]}]}',\n '{\"P\": [406]}',\n '{\"P\": [409, {\"Z\": [402, 411, 413]}]}',\n '{\"P\": [408, {\"Z\": [415, 417]}]}',\n '{\"P\": [411, {\"Z\": [402, 413, 409]}]}',\n '{\"P\": [410]}',\n '{\"P\": [413, {\"Z\": [402, 409, 411]}]}',\n '{\"P\": [412]}',\n '{\"P\": [415, {\"Z\": [408, 417]}]}',\n '{\"P\": [414, {\"Z\": [419, 421, 423]}]}',\n '{\"P\": [417, {\"Z\": [408, 415]}]}',\n '{\"P\": [416, {\"Z\": [437, 439]}]}',\n '{\"P\": [419, {\"Z\": [414, 423, 421]}]}',\n '{\"P\": [418, {\"Z\": [425, 429, 427]}]}',\n '{\"P\": [421, {\"Z\": [414, 419, 423]}]}',\n '{\"P\": [420]}',\n '{\"P\": [423, {\"Z\": [414, 421, 419]}]}',\n '{\"P\": [422]}',\n '{\"P\": [425, {\"Z\": [418, 427, 429]}]}',\n '{\"P\": [424, {\"Z\": [431, 433, 435]}]}',\n '{\"P\": [427, {\"Z\": [418, 429, 425]}]}',\n '{\"P\": [426]}',\n '{\"P\": [429, {\"Z\": [418, 425, 427]}]}',\n '{\"P\": [428]}',\n '{\"P\": [431, {\"Z\": [424, 435, 433]}]}',\n '{\"P\": [430]}',\n '{\"P\": [433, {\"Z\": [424, 431, 435]}]}',\n '{\"P\": [432]}',\n '{\"P\": [435, {\"Z\": [424, 433, 431]}]}',\n '{\"P\": [434]}',\n '{\"P\": [437, {\"Z\": [416, 439]}]}',\n '{\"P\": [436]}',\n '{\"P\": [439, {\"Z\": [416, 437]}]}',\n '{\"P\": [438, {\"Z\": [441, 443]}]}',\n '{\"P\": [441, {\"Z\": [438, 443]}]}',\n '{\"P\": [440, {\"Z\": [445, 447]}]}',\n '{\"P\": [443, {\"Z\": [438, 441]}]}',\n '{\"P\": [442, {\"Z\": [464, 575]}]}',\n '{\"P\": [445, {\"Z\": [440, 447]}]}',\n '{\"P\": [444, {\"Z\": [449, 451]}]}',\n '{\"P\": [447, {\"Z\": [440, 445]}]}',\n '{\"P\": [446]}',\n '{\"P\": [449, {\"Z\": [444, 451]}]}',\n '{\"P\": [448, {\"Z\": [453, 455, 457]}]}',\n '{\"P\": [451, {\"Z\": [444, 449]}]}',\n '{\"P\": [450, {\"Z\": [459, 461]}]}',\n '{\"P\": [453, {\"Z\": [448, 457, 455]}]}',\n '{\"P\": [452]}',\n '{\"P\": [455, {\"Z\": [448, 453, 457]}]}',\n '{\"P\": [454]}',\n '{\"P\": [457, {\"Z\": [448, 455, 453]}]}',\n '{\"P\": [456]}',\n '{\"P\": [459, {\"Z\": [450, 461]}]}',\n '{\"P\": [458, {\"Z\": [463, 465]}]}',\n '{\"P\": [461, {\"Z\": [450, 459]}]}',\n '{\"P\": [460]}',\n '{\"P\": [463, {\"Z\": [458, 465]}]}',\n '{\"P\": [462, {\"Z\": [467, 469]}]}',\n '{\"P\": [465, {\"Z\": [458, 463]}]}',\n '{\"P\": [464, {\"Z\": [442, 575]}]}',\n '{\"P\": [467, {\"Z\": [462, 469]}]}',\n '{\"P\": [466]}',\n '{\"P\": [469, {\"Z\": [462, 467]}]}',\n '{\"P\": [468, {\"Z\": [471, 473]}]}',\n '{\"P\": [471, {\"Z\": [468, 473]}]}',\n '{\"P\": [470, {\"Z\": [475, 477, 479]}]}',\n '{\"P\": [473, {\"Z\": [468, 471]}]}',\n '{\"P\": [472]}',\n '{\"P\": [475, {\"Z\": [470, 479, 477]}]}',\n '{\"P\": [474, {\"Z\": [481, 483, 485]}]}',\n '{\"P\": [477, {\"Z\": [470, 475, 479]}]}',\n '{\"P\": [476, {\"Z\": [509, 513, 511]}]}',\n '{\"P\": [479, {\"Z\": [470, 477, 475]}]}',\n '{\"P\": [478]}',\n '{\"P\": [481, {\"Z\": [474, 485, 483]}]}',\n '{\"P\": [480, {\"Z\": [487, 489]}]}',\n '{\"P\": [483, {\"Z\": [474, 481, 485]}]}',\n '{\"P\": [482]}',\n '{\"P\": [485, {\"Z\": [474, 483, 481]}]}',\n '{\"P\": [484]}',\n '{\"P\": [487, {\"Z\": [480, 489]}]}',\n '{\"P\": [486, {\"Z\": [491, 493]}]}',\n '{\"P\": [489, {\"Z\": [480, 487]}]}',\n '{\"P\": [488, {\"Z\": [504, 507]}]}',\n '{\"P\": [491, {\"Z\": [486, 493]}]}',\n '{\"P\": [490, {\"Z\": [495, 497]}]}',\n '{\"P\": [493, {\"Z\": [486, 491]}]}',\n '{\"P\": [492]}',\n '{\"P\": [495, {\"Z\": [490, 497]}]}',\n '{\"P\": [494]}',\n '{\"P\": [497, {\"Z\": [490, 495]}]}',\n '{\"P\": [496, {\"Z\": [499, 501]}]}',\n '{\"P\": [499, {\"Z\": [496, 501]}]}',\n '{\"P\": [498, {\"Z\": [503, 505]}]}',\n '{\"P\": [501, {\"Z\": [496, 499]}]}',\n '{\"P\": [500]}',\n '{\"P\": [503, {\"Z\": [498, 505]}]}',\n '{\"P\": [502]}',\n '{\"P\": [505, {\"Z\": [498, 503]}]}',\n '{\"P\": [504, {\"Z\": [488, 507]}]}',\n '{\"P\": [507, {\"Z\": [488, 504]}]}',\n '{\"P\": [506]}',\n '{\"P\": [509, {\"Z\": [476, 511, 513]}]}',\n '{\"P\": [508, {\"Z\": [515]}]}',\n '{\"P\": [511, {\"Z\": [476, 513, 509]}]}',\n '{\"P\": [510, {\"Z\": [517, 519, 521]}]}',\n '{\"P\": [513, {\"Z\": [476, 509, 511]}]}',\n '{\"P\": [512]}',\n '{\"P\": [515, {\"Z\": [508]}]}',\n '{\"P\": [514]}',\n '{\"P\": [517, {\"Z\": [510, 521, 519]}]}',\n '{\"P\": [516, {\"Z\": [523, 525, 527]}]}',\n '{\"P\": [519, {\"Z\": [510, 517, 521]}]}',\n '{\"P\": [518, {\"Z\": [564, 573, 571]}]}',\n '{\"P\": [521, {\"Z\": [510, 519, 517]}]}',\n '{\"P\": [520]}',\n '{\"P\": [523, {\"Z\": [516, 527, 525]}]}',\n '{\"P\": [522, {\"Z\": [529, 531, 533]}]}',\n '{\"P\": [525, {\"Z\": [516, 523, 527]}]}',\n '{\"P\": [524]}',\n '{\"P\": [527, {\"Z\": [516, 525, 523]}]}',\n '{\"P\": [526]}',\n '{\"P\": [529, {\"Z\": [522, 533, 531]}]}',\n '{\"P\": [528, {\"Z\": [535]}]}',\n '{\"P\": [531, {\"Z\": [522, 529, 533]}]}',\n '{\"P\": [530, {\"Z\": [565, 569, 567]}]}',\n '{\"P\": [533, {\"Z\": [522, 531, 529]}]}',\n '{\"P\": [532]}',\n '{\"P\": [535, {\"Z\": [528]}]}',\n '{\"P\": [534, {\"Z\": [537, 541, 539]}]}',\n '{\"P\": [537, {\"Z\": [534, 539, 541]}]}',\n '{\"P\": [536, {\"Z\": [543, 545]}]}',\n '{\"P\": [539, {\"Z\": [534, 541, 537]}]}',\n '{\"P\": [538]}',\n '{\"P\": [541, {\"Z\": [534, 537, 539]}]}',\n '{\"P\": [540]}',\n '{\"P\": [543, {\"Z\": [536, 545]}]}',\n '{\"P\": [542, {\"Z\": [547, 549]}]}',\n '{\"P\": [545, {\"Z\": [536, 543]}]}',\n '{\"P\": [544, {\"Z\": [558, 563]}]}',\n '{\"P\": [547, {\"Z\": [542, 549]}]}',\n '{\"P\": [546, {\"Z\": [551, 553]}]}',\n '{\"P\": [549, {\"Z\": [542, 547]}]}',\n '{\"P\": [548]}',\n '{\"P\": [551, {\"Z\": [546, 553]}]}',\n '{\"P\": [550, {\"Z\": [555, 557]}]}',\n '{\"P\": [553, {\"Z\": [546, 551]}]}',\n '{\"P\": [552]}',\n '{\"P\": [555, {\"Z\": [550, 557]}]}',\n '{\"P\": [554, {\"Z\": [559, 561]}]}',\n '{\"P\": [557, {\"Z\": [550, 555]}]}',\n '{\"P\": [556]}',\n '{\"P\": [559, {\"Z\": [554, 561]}]}',\n '{\"P\": [558, {\"Z\": [544, 563]}]}',\n '{\"P\": [561, {\"Z\": [554, 559]}]}',\n '{\"P\": [560]}',\n '{\"P\": [563, {\"Z\": [544, 558]}]}',\n '{\"P\": [562]}',\n '{\"P\": [565, {\"Z\": [530, 567, 569]}]}',\n '{\"P\": [564, {\"Z\": [518, 571, 573]}]}',\n '{\"P\": [567, {\"Z\": [530, 569, 565]}]}',\n '{\"P\": [566]}',\n '{\"P\": [569, {\"Z\": [530, 565, 567]}]}',\n '{\"P\": [568]}',\n '{\"P\": [571, {\"Z\": [518, 573, 564]}]}',\n '{\"P\": [570]}',\n '{\"P\": [573, {\"Z\": [518, 564, 571]}]}',\n '{\"P\": [572]}',\n '{\"P\": [575, {\"Z\": [442, 464]}]}',\n '{\"P\": [574]}']"
     },
     "execution_count": 14,
     "metadata": {},
     "output_type": "execute_result"
    }
   ],
   "source": [
    "batch.ptree"
   ],
   "metadata": {
    "collapsed": false,
    "ExecuteTime": {
     "start_time": "2024-03-05T20:37:27.237243Z",
     "end_time": "2024-03-05T20:37:27.252242Z"
    }
   }
  },
  {
   "cell_type": "code",
   "execution_count": 12,
   "outputs": [],
   "source": [
    "s = 'P[186, Z[191, 195, 193]]'"
   ],
   "metadata": {
    "collapsed": false,
    "ExecuteTime": {
     "start_time": "2024-03-05T18:02:17.923543Z",
     "end_time": "2024-03-05T18:02:17.934543Z"
    }
   }
  },
  {
   "cell_type": "code",
   "execution_count": 11,
   "outputs": [],
   "source": [
    "d = {\n",
    "    \"P\": [\n",
    "        1,\n",
    "        {\n",
    "            \"Z\": [\n",
    "                2,\n",
    "                3,\n",
    "                4\n",
    "            ]\n",
    "        }\n",
    "    ]\n",
    "}"
   ],
   "metadata": {
    "collapsed": false,
    "ExecuteTime": {
     "start_time": "2024-03-05T20:23:15.548093Z",
     "end_time": "2024-03-05T20:23:15.563096Z"
    }
   }
  },
  {
   "cell_type": "code",
   "execution_count": 12,
   "outputs": [
    {
     "data": {
      "text/plain": "{'P': [1, {'Z': [2, 3, 4]}]}"
     },
     "execution_count": 12,
     "metadata": {},
     "output_type": "execute_result"
    }
   ],
   "source": [
    "d"
   ],
   "metadata": {
    "collapsed": false,
    "ExecuteTime": {
     "start_time": "2024-03-05T20:23:18.180387Z",
     "end_time": "2024-03-05T20:23:18.195296Z"
    }
   }
  },
  {
   "cell_type": "code",
   "execution_count": 18,
   "outputs": [],
   "source": [
    "import json"
   ],
   "metadata": {
    "collapsed": false,
    "ExecuteTime": {
     "start_time": "2024-03-05T18:07:46.652556Z",
     "end_time": "2024-03-05T18:07:46.666560Z"
    }
   }
  },
  {
   "cell_type": "code",
   "execution_count": 22,
   "outputs": [
    {
     "data": {
      "text/plain": "'{\"P\": [1, {\"Z\": [2, 3, 4]}]}'"
     },
     "execution_count": 22,
     "metadata": {},
     "output_type": "execute_result"
    }
   ],
   "source": [
    "json.dumps(d)"
   ],
   "metadata": {
    "collapsed": false,
    "ExecuteTime": {
     "start_time": "2024-03-05T18:12:56.858519Z",
     "end_time": "2024-03-05T18:12:56.876521Z"
    }
   }
  },
  {
   "cell_type": "code",
   "execution_count": 20,
   "outputs": [
    {
     "ename": "JSONDecodeError",
     "evalue": "Expecting property name enclosed in double quotes: line 1 column 2 (char 1)",
     "output_type": "error",
     "traceback": [
      "\u001B[1;31m---------------------------------------------------------------------------\u001B[0m",
      "\u001B[1;31mJSONDecodeError\u001B[0m                           Traceback (most recent call last)",
      "Cell \u001B[1;32mIn[20], line 1\u001B[0m\n\u001B[1;32m----> 1\u001B[0m \u001B[43mjson\u001B[49m\u001B[38;5;241;43m.\u001B[39;49m\u001B[43mloads\u001B[49m\u001B[43m(\u001B[49m\u001B[38;5;28;43mstr\u001B[39;49m\u001B[43m(\u001B[49m\u001B[43md\u001B[49m\u001B[43m)\u001B[49m\u001B[43m)\u001B[49m\n",
      "File \u001B[1;32m~\\.conda\\envs\\Masterarbeit_PTGNN\\lib\\json\\__init__.py:346\u001B[0m, in \u001B[0;36mloads\u001B[1;34m(s, cls, object_hook, parse_float, parse_int, parse_constant, object_pairs_hook, **kw)\u001B[0m\n\u001B[0;32m    341\u001B[0m     s \u001B[38;5;241m=\u001B[39m s\u001B[38;5;241m.\u001B[39mdecode(detect_encoding(s), \u001B[38;5;124m'\u001B[39m\u001B[38;5;124msurrogatepass\u001B[39m\u001B[38;5;124m'\u001B[39m)\n\u001B[0;32m    343\u001B[0m \u001B[38;5;28;01mif\u001B[39;00m (\u001B[38;5;28mcls\u001B[39m \u001B[38;5;129;01mis\u001B[39;00m \u001B[38;5;28;01mNone\u001B[39;00m \u001B[38;5;129;01mand\u001B[39;00m object_hook \u001B[38;5;129;01mis\u001B[39;00m \u001B[38;5;28;01mNone\u001B[39;00m \u001B[38;5;129;01mand\u001B[39;00m\n\u001B[0;32m    344\u001B[0m         parse_int \u001B[38;5;129;01mis\u001B[39;00m \u001B[38;5;28;01mNone\u001B[39;00m \u001B[38;5;129;01mand\u001B[39;00m parse_float \u001B[38;5;129;01mis\u001B[39;00m \u001B[38;5;28;01mNone\u001B[39;00m \u001B[38;5;129;01mand\u001B[39;00m\n\u001B[0;32m    345\u001B[0m         parse_constant \u001B[38;5;129;01mis\u001B[39;00m \u001B[38;5;28;01mNone\u001B[39;00m \u001B[38;5;129;01mand\u001B[39;00m object_pairs_hook \u001B[38;5;129;01mis\u001B[39;00m \u001B[38;5;28;01mNone\u001B[39;00m \u001B[38;5;129;01mand\u001B[39;00m \u001B[38;5;129;01mnot\u001B[39;00m kw):\n\u001B[1;32m--> 346\u001B[0m     \u001B[38;5;28;01mreturn\u001B[39;00m \u001B[43m_default_decoder\u001B[49m\u001B[38;5;241;43m.\u001B[39;49m\u001B[43mdecode\u001B[49m\u001B[43m(\u001B[49m\u001B[43ms\u001B[49m\u001B[43m)\u001B[49m\n\u001B[0;32m    347\u001B[0m \u001B[38;5;28;01mif\u001B[39;00m \u001B[38;5;28mcls\u001B[39m \u001B[38;5;129;01mis\u001B[39;00m \u001B[38;5;28;01mNone\u001B[39;00m:\n\u001B[0;32m    348\u001B[0m     \u001B[38;5;28mcls\u001B[39m \u001B[38;5;241m=\u001B[39m JSONDecoder\n",
      "File \u001B[1;32m~\\.conda\\envs\\Masterarbeit_PTGNN\\lib\\json\\decoder.py:337\u001B[0m, in \u001B[0;36mJSONDecoder.decode\u001B[1;34m(self, s, _w)\u001B[0m\n\u001B[0;32m    332\u001B[0m \u001B[38;5;28;01mdef\u001B[39;00m \u001B[38;5;21mdecode\u001B[39m(\u001B[38;5;28mself\u001B[39m, s, _w\u001B[38;5;241m=\u001B[39mWHITESPACE\u001B[38;5;241m.\u001B[39mmatch):\n\u001B[0;32m    333\u001B[0m \u001B[38;5;250m    \u001B[39m\u001B[38;5;124;03m\"\"\"Return the Python representation of ``s`` (a ``str`` instance\u001B[39;00m\n\u001B[0;32m    334\u001B[0m \u001B[38;5;124;03m    containing a JSON document).\u001B[39;00m\n\u001B[0;32m    335\u001B[0m \n\u001B[0;32m    336\u001B[0m \u001B[38;5;124;03m    \"\"\"\u001B[39;00m\n\u001B[1;32m--> 337\u001B[0m     obj, end \u001B[38;5;241m=\u001B[39m \u001B[38;5;28;43mself\u001B[39;49m\u001B[38;5;241;43m.\u001B[39;49m\u001B[43mraw_decode\u001B[49m\u001B[43m(\u001B[49m\u001B[43ms\u001B[49m\u001B[43m,\u001B[49m\u001B[43m \u001B[49m\u001B[43midx\u001B[49m\u001B[38;5;241;43m=\u001B[39;49m\u001B[43m_w\u001B[49m\u001B[43m(\u001B[49m\u001B[43ms\u001B[49m\u001B[43m,\u001B[49m\u001B[43m \u001B[49m\u001B[38;5;241;43m0\u001B[39;49m\u001B[43m)\u001B[49m\u001B[38;5;241;43m.\u001B[39;49m\u001B[43mend\u001B[49m\u001B[43m(\u001B[49m\u001B[43m)\u001B[49m\u001B[43m)\u001B[49m\n\u001B[0;32m    338\u001B[0m     end \u001B[38;5;241m=\u001B[39m _w(s, end)\u001B[38;5;241m.\u001B[39mend()\n\u001B[0;32m    339\u001B[0m     \u001B[38;5;28;01mif\u001B[39;00m end \u001B[38;5;241m!=\u001B[39m \u001B[38;5;28mlen\u001B[39m(s):\n",
      "File \u001B[1;32m~\\.conda\\envs\\Masterarbeit_PTGNN\\lib\\json\\decoder.py:353\u001B[0m, in \u001B[0;36mJSONDecoder.raw_decode\u001B[1;34m(self, s, idx)\u001B[0m\n\u001B[0;32m    344\u001B[0m \u001B[38;5;250m\u001B[39m\u001B[38;5;124;03m\"\"\"Decode a JSON document from ``s`` (a ``str`` beginning with\u001B[39;00m\n\u001B[0;32m    345\u001B[0m \u001B[38;5;124;03ma JSON document) and return a 2-tuple of the Python\u001B[39;00m\n\u001B[0;32m    346\u001B[0m \u001B[38;5;124;03mrepresentation and the index in ``s`` where the document ended.\u001B[39;00m\n\u001B[1;32m   (...)\u001B[0m\n\u001B[0;32m    350\u001B[0m \n\u001B[0;32m    351\u001B[0m \u001B[38;5;124;03m\"\"\"\u001B[39;00m\n\u001B[0;32m    352\u001B[0m \u001B[38;5;28;01mtry\u001B[39;00m:\n\u001B[1;32m--> 353\u001B[0m     obj, end \u001B[38;5;241m=\u001B[39m \u001B[38;5;28;43mself\u001B[39;49m\u001B[38;5;241;43m.\u001B[39;49m\u001B[43mscan_once\u001B[49m\u001B[43m(\u001B[49m\u001B[43ms\u001B[49m\u001B[43m,\u001B[49m\u001B[43m \u001B[49m\u001B[43midx\u001B[49m\u001B[43m)\u001B[49m\n\u001B[0;32m    354\u001B[0m \u001B[38;5;28;01mexcept\u001B[39;00m \u001B[38;5;167;01mStopIteration\u001B[39;00m \u001B[38;5;28;01mas\u001B[39;00m err:\n\u001B[0;32m    355\u001B[0m     \u001B[38;5;28;01mraise\u001B[39;00m JSONDecodeError(\u001B[38;5;124m\"\u001B[39m\u001B[38;5;124mExpecting value\u001B[39m\u001B[38;5;124m\"\u001B[39m, s, err\u001B[38;5;241m.\u001B[39mvalue) \u001B[38;5;28;01mfrom\u001B[39;00m \u001B[38;5;28;01mNone\u001B[39;00m\n",
      "\u001B[1;31mJSONDecodeError\u001B[0m: Expecting property name enclosed in double quotes: line 1 column 2 (char 1)"
     ]
    }
   ],
   "source": [
    "json.loads(str(d))"
   ],
   "metadata": {
    "collapsed": false
   }
  },
  {
   "cell_type": "code",
   "execution_count": 9,
   "outputs": [],
   "source": [
    "def increase_int(d, increase):\n",
    "    if isinstance(d, dict):\n",
    "        for key, value in d.items():\n",
    "            d[key] = increase_int(value, increase)\n",
    "        return d\n",
    "    elif isinstance(d, list):\n",
    "        return [\n",
    "            increase_int(elem, increase)\n",
    "            for elem in d\n",
    "        ]\n",
    "    else:\n",
    "        return d + increase"
   ],
   "metadata": {
    "collapsed": false,
    "ExecuteTime": {
     "start_time": "2024-03-05T20:22:56.090741Z",
     "end_time": "2024-03-05T20:22:56.099753Z"
    }
   }
  },
  {
   "cell_type": "code",
   "execution_count": 23,
   "outputs": [
    {
     "data": {
      "text/plain": "{'P': [64, {'Z': [65, 66, 67]}]}"
     },
     "execution_count": 23,
     "metadata": {},
     "output_type": "execute_result"
    }
   ],
   "source": [
    "increase_int(d, 6)"
   ],
   "metadata": {
    "collapsed": false,
    "ExecuteTime": {
     "start_time": "2024-03-05T20:23:35.652029Z",
     "end_time": "2024-03-05T20:23:35.658725Z"
    }
   }
  },
  {
   "cell_type": "markdown",
   "source": [
    "## Subset-test"
   ],
   "metadata": {
    "collapsed": false
   }
  },
  {
   "cell_type": "code",
   "execution_count": 1,
   "outputs": [],
   "source": [
    "from ptgnn.dataset import RSDataset, BaceDataset\n",
    "ds = RSDataset(split='val')\n",
    "# ds = BaceDataset(split='val')"
   ],
   "metadata": {
    "collapsed": false,
    "ExecuteTime": {
     "start_time": "2024-03-07T14:57:52.899944Z",
     "end_time": "2024-03-07T14:57:57.062560Z"
    }
   }
  },
  {
   "cell_type": "code",
   "execution_count": 2,
   "outputs": [],
   "source": [
    "from ptgnn.loading.subsetting import subset_dataset\n",
    "sub_ds = subset_dataset(ds, 100)"
   ],
   "metadata": {
    "collapsed": false,
    "ExecuteTime": {
     "start_time": "2024-03-07T14:57:59.487865Z",
     "end_time": "2024-03-07T14:57:59.560755Z"
    }
   }
  },
  {
   "cell_type": "code",
   "execution_count": 3,
   "outputs": [
    {
     "data": {
      "text/plain": "RSDataset(100)"
     },
     "execution_count": 3,
     "metadata": {},
     "output_type": "execute_result"
    }
   ],
   "source": [
    "sub_ds"
   ],
   "metadata": {
    "collapsed": false,
    "ExecuteTime": {
     "start_time": "2024-03-07T14:58:00.187917Z",
     "end_time": "2024-03-07T14:58:00.200918Z"
    }
   }
  }
 ],
 "metadata": {
  "kernelspec": {
   "display_name": "Python 3 (ipykernel)",
   "language": "python",
   "name": "python3"
  },
  "language_info": {
   "codemirror_mode": {
    "name": "ipython",
    "version": 3
   },
   "file_extension": ".py",
   "mimetype": "text/x-python",
   "name": "python",
   "nbconvert_exporter": "python",
   "pygments_lexer": "ipython3",
   "version": "3.9.18"
  }
 },
 "nbformat": 4,
 "nbformat_minor": 4
}
