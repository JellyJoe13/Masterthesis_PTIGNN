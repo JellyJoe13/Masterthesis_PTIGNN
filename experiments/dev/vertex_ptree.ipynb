{
 "cells": [
  {
   "cell_type": "code",
   "execution_count": 1,
   "outputs": [],
   "source": [
    "import pandas as pd\n",
    "from ptgnn.dataset.utils_chienn import get_chiro_data_from_mol\n",
    "from ptgnn.features.chienn.molecule3d import smiles_to_3d_mol"
   ],
   "metadata": {
    "collapsed": false,
    "ExecuteTime": {
     "start_time": "2024-03-18T16:55:03.868802Z",
     "end_time": "2024-03-18T16:55:06.942426Z"
    }
   }
  },
  {
   "cell_type": "code",
   "execution_count": 2,
   "metadata": {
    "collapsed": true,
    "ExecuteTime": {
     "start_time": "2024-03-18T16:55:06.930428Z",
     "end_time": "2024-03-18T16:55:14.669653Z"
    }
   },
   "outputs": [
    {
     "data": {
      "text/plain": "                                                       ID  \\\n0       BrC1=C[C@@H](c2ccc(-c3ccccc3)cc2)CC(c2nc(-c3cc...   \n1       BrC1=C[C@@H](c2ccc(-c3ccccc3)cc2)CC(c2nc(-c3cc...   \n2       BrC1=C[C@@H](c2ccc(-c3ccccc3)cc2)CC(c2nc(-c3cc...   \n3       BrC1=C[C@@H](c2ccc(-c3ccccc3)cc2)CC(c2nc(-c3cc...   \n4       BrC1=C[C@@H](c2ccc(-c3ccccc3)cc2)CC(c2nc(-c3cc...   \n...                                                   ...   \n326860                         c1nnc([C@H]2CNCCO2)n1C1CC1   \n326861                         c1nnc([C@H]2CNCCO2)n1C1CC1   \n326862                         c1nnc([C@H]2CNCCO2)n1C1CC1   \n326863                         c1nnc([C@H]2CNCCO2)n1C1CC1   \n326864                         c1nnc([C@H]2CNCCO2)n1C1CC1   \n\n                                          SMILES_nostereo  \\\n0       BrC1=CC(c2ccc(-c3ccccc3)cc2)CC(c2nc(-c3ccccc3)...   \n1       BrC1=CC(c2ccc(-c3ccccc3)cc2)CC(c2nc(-c3ccccc3)...   \n2       BrC1=CC(c2ccc(-c3ccccc3)cc2)CC(c2nc(-c3ccccc3)...   \n3       BrC1=CC(c2ccc(-c3ccccc3)cc2)CC(c2nc(-c3ccccc3)...   \n4       BrC1=CC(c2ccc(-c3ccccc3)cc2)CC(c2nc(-c3ccccc3)...   \n...                                                   ...   \n326860                             c1nnc(C2CNCCO2)n1C1CC1   \n326861                             c1nnc(C2CNCCO2)n1C1CC1   \n326862                             c1nnc(C2CNCCO2)n1C1CC1   \n326863                             c1nnc(C2CNCCO2)n1C1CC1   \n326864                             c1nnc(C2CNCCO2)n1C1CC1   \n\n                                rdkit_mol_cistrans_stereo RS_label  \\\n0       <rdkit.Chem.rdchem.Mol object at 0x00000219CD4...        S   \n1       <rdkit.Chem.rdchem.Mol object at 0x00000219CD4...        S   \n2       <rdkit.Chem.rdchem.Mol object at 0x00000219CD4...        S   \n3       <rdkit.Chem.rdchem.Mol object at 0x00000219CD4...        S   \n4       <rdkit.Chem.rdchem.Mol object at 0x00000219CD4...        S   \n...                                                   ...      ...   \n326860  <rdkit.Chem.rdchem.Mol object at 0x0000021A98B...        R   \n326861  <rdkit.Chem.rdchem.Mol object at 0x0000021A98B...        R   \n326862  <rdkit.Chem.rdchem.Mol object at 0x0000021A98B...        R   \n326863  <rdkit.Chem.rdchem.Mol object at 0x0000021A98B...        R   \n326864  <rdkit.Chem.rdchem.Mol object at 0x0000021A98B...        R   \n\n        RS_label_binary  \n0                     1  \n1                     1  \n2                     1  \n3                     1  \n4                     1  \n...                 ...  \n326860                0  \n326861                0  \n326862                0  \n326863                0  \n326864                0  \n\n[326865 rows x 5 columns]",
      "text/html": "<div>\n<style scoped>\n    .dataframe tbody tr th:only-of-type {\n        vertical-align: middle;\n    }\n\n    .dataframe tbody tr th {\n        vertical-align: top;\n    }\n\n    .dataframe thead th {\n        text-align: right;\n    }\n</style>\n<table border=\"1\" class=\"dataframe\">\n  <thead>\n    <tr style=\"text-align: right;\">\n      <th></th>\n      <th>ID</th>\n      <th>SMILES_nostereo</th>\n      <th>rdkit_mol_cistrans_stereo</th>\n      <th>RS_label</th>\n      <th>RS_label_binary</th>\n    </tr>\n  </thead>\n  <tbody>\n    <tr>\n      <th>0</th>\n      <td>BrC1=C[C@@H](c2ccc(-c3ccccc3)cc2)CC(c2nc(-c3cc...</td>\n      <td>BrC1=CC(c2ccc(-c3ccccc3)cc2)CC(c2nc(-c3ccccc3)...</td>\n      <td>&lt;rdkit.Chem.rdchem.Mol object at 0x00000219CD4...</td>\n      <td>S</td>\n      <td>1</td>\n    </tr>\n    <tr>\n      <th>1</th>\n      <td>BrC1=C[C@@H](c2ccc(-c3ccccc3)cc2)CC(c2nc(-c3cc...</td>\n      <td>BrC1=CC(c2ccc(-c3ccccc3)cc2)CC(c2nc(-c3ccccc3)...</td>\n      <td>&lt;rdkit.Chem.rdchem.Mol object at 0x00000219CD4...</td>\n      <td>S</td>\n      <td>1</td>\n    </tr>\n    <tr>\n      <th>2</th>\n      <td>BrC1=C[C@@H](c2ccc(-c3ccccc3)cc2)CC(c2nc(-c3cc...</td>\n      <td>BrC1=CC(c2ccc(-c3ccccc3)cc2)CC(c2nc(-c3ccccc3)...</td>\n      <td>&lt;rdkit.Chem.rdchem.Mol object at 0x00000219CD4...</td>\n      <td>S</td>\n      <td>1</td>\n    </tr>\n    <tr>\n      <th>3</th>\n      <td>BrC1=C[C@@H](c2ccc(-c3ccccc3)cc2)CC(c2nc(-c3cc...</td>\n      <td>BrC1=CC(c2ccc(-c3ccccc3)cc2)CC(c2nc(-c3ccccc3)...</td>\n      <td>&lt;rdkit.Chem.rdchem.Mol object at 0x00000219CD4...</td>\n      <td>S</td>\n      <td>1</td>\n    </tr>\n    <tr>\n      <th>4</th>\n      <td>BrC1=C[C@@H](c2ccc(-c3ccccc3)cc2)CC(c2nc(-c3cc...</td>\n      <td>BrC1=CC(c2ccc(-c3ccccc3)cc2)CC(c2nc(-c3ccccc3)...</td>\n      <td>&lt;rdkit.Chem.rdchem.Mol object at 0x00000219CD4...</td>\n      <td>S</td>\n      <td>1</td>\n    </tr>\n    <tr>\n      <th>...</th>\n      <td>...</td>\n      <td>...</td>\n      <td>...</td>\n      <td>...</td>\n      <td>...</td>\n    </tr>\n    <tr>\n      <th>326860</th>\n      <td>c1nnc([C@H]2CNCCO2)n1C1CC1</td>\n      <td>c1nnc(C2CNCCO2)n1C1CC1</td>\n      <td>&lt;rdkit.Chem.rdchem.Mol object at 0x0000021A98B...</td>\n      <td>R</td>\n      <td>0</td>\n    </tr>\n    <tr>\n      <th>326861</th>\n      <td>c1nnc([C@H]2CNCCO2)n1C1CC1</td>\n      <td>c1nnc(C2CNCCO2)n1C1CC1</td>\n      <td>&lt;rdkit.Chem.rdchem.Mol object at 0x0000021A98B...</td>\n      <td>R</td>\n      <td>0</td>\n    </tr>\n    <tr>\n      <th>326862</th>\n      <td>c1nnc([C@H]2CNCCO2)n1C1CC1</td>\n      <td>c1nnc(C2CNCCO2)n1C1CC1</td>\n      <td>&lt;rdkit.Chem.rdchem.Mol object at 0x0000021A98B...</td>\n      <td>R</td>\n      <td>0</td>\n    </tr>\n    <tr>\n      <th>326863</th>\n      <td>c1nnc([C@H]2CNCCO2)n1C1CC1</td>\n      <td>c1nnc(C2CNCCO2)n1C1CC1</td>\n      <td>&lt;rdkit.Chem.rdchem.Mol object at 0x0000021A98B...</td>\n      <td>R</td>\n      <td>0</td>\n    </tr>\n    <tr>\n      <th>326864</th>\n      <td>c1nnc([C@H]2CNCCO2)n1C1CC1</td>\n      <td>c1nnc(C2CNCCO2)n1C1CC1</td>\n      <td>&lt;rdkit.Chem.rdchem.Mol object at 0x0000021A98B...</td>\n      <td>R</td>\n      <td>0</td>\n    </tr>\n  </tbody>\n</table>\n<p>326865 rows × 5 columns</p>\n</div>"
     },
     "metadata": {},
     "output_type": "display_data"
    }
   ],
   "source": [
    "df = pd.read_pickle(\"src/rs/raw/train.pickle\")\n",
    "display(df)"
   ]
  },
  {
   "cell_type": "code",
   "execution_count": 3,
   "outputs": [
    {
     "data": {
      "text/plain": "'BrC/C=C/[C@@H](Br)CCBr'"
     },
     "execution_count": 3,
     "metadata": {},
     "output_type": "execute_result"
    }
   ],
   "source": [
    "df.ID.iloc[80]"
   ],
   "metadata": {
    "collapsed": false,
    "ExecuteTime": {
     "start_time": "2024-03-18T16:55:14.670653Z",
     "end_time": "2024-03-18T16:55:14.697660Z"
    }
   }
  },
  {
   "cell_type": "code",
   "execution_count": 4,
   "outputs": [
    {
     "data": {
      "text/plain": "<rdkit.Chem.rdchem.Mol at 0x21a828a4f20>",
      "image/png": "[encoded data removed]"
     },
     "metadata": {},
     "output_type": "display_data"
    }
   ],
   "source": [
    "# mol_example = df.rdkit_mol_cistrans_stereo.iloc[6]# 0\n",
    "mol_example = smiles_to_3d_mol(\n",
    "    df.ID.iloc[80],\n",
    "    max_number_of_attempts=100,\n",
    "    max_number_of_atoms=100\n",
    ")\n",
    "display(mol_example)"
   ],
   "metadata": {
    "collapsed": false,
    "ExecuteTime": {
     "start_time": "2024-03-18T16:55:14.686661Z",
     "end_time": "2024-03-18T16:55:14.761663Z"
    }
   }
  },
  {
   "cell_type": "code",
   "execution_count": 5,
   "outputs": [
    {
     "data": {
      "text/plain": "<rdkit.Chem.rdchem.Mol at 0x21a828a4f20>",
      "image/png": "[encoded data removed]"
     },
     "execution_count": 5,
     "metadata": {},
     "output_type": "execute_result"
    }
   ],
   "source": [
    "def show_atom_number(mol, label):\n",
    "    for atom in mol.GetAtoms():\n",
    "        atom.SetProp(label, str(atom.GetIdx()))\n",
    "    return mol\n",
    "show_atom_number(mol_example, \"atomLabel\")"
   ],
   "metadata": {
    "collapsed": false,
    "ExecuteTime": {
     "start_time": "2024-03-18T16:55:14.719662Z",
     "end_time": "2024-03-18T16:55:14.817930Z"
    }
   }
  },
  {
   "cell_type": "code",
   "execution_count": 6,
   "outputs": [
    {
     "data": {
      "text/plain": "Data(x=[18, 52], edge_index=[2, 34], edge_attr=[34, 14], pos=[18, 3], bond_distances=[17], bond_distance_index=[2, 17], bond_angles=[30], bond_angle_index=[3, 30], dihedral_angles=[34], dihedral_angle_index=[4, 34])"
     },
     "metadata": {},
     "output_type": "display_data"
    }
   ],
   "source": [
    "data = get_chiro_data_from_mol(mol_example)\n",
    "display(data)"
   ],
   "metadata": {
    "collapsed": false,
    "ExecuteTime": {
     "start_time": "2024-03-18T16:55:14.734661Z",
     "end_time": "2024-03-18T16:55:14.817930Z"
    }
   }
  },
  {
   "cell_type": "code",
   "execution_count": 9,
   "outputs": [
    {
     "data": {
      "text/plain": "Data(x=[18, 52], edge_index=[2, 34], edge_attr=[34, 14], pos=[18, 3], bond_distances=[17], bond_distance_index=[2, 17], bond_angles=[30], bond_angle_index=[3, 30], dihedral_angles=[34], dihedral_angle_index=[4, 34], ptree=[18], initial_map=[70], layer0_order_matrix=[1], layer0_type_mask=[1], layer0_pooling=[1], num_layer=3, layer1_order_matrix=[1], layer1_type_mask=[1], layer1_pooling=[1], layer2_order_matrix=[1], layer2_type_mask=[1], layer2_pooling=[1])"
     },
     "metadata": {},
     "output_type": "display_data"
    },
    {
     "data": {
      "text/plain": "['{\"S\": [0, {\"P\": [1]}]}',\n '{\"S\": [1, {\"P\": [0, 2, 9, 10]}]}',\n '{\"S\": [2, {\"C\": [1, 11, 4, 12]}]}',\n '{\"S\": [3, {\"C\": [4, 12, 1, 11]}]}',\n '{\"S\": [4, {\"P\": [{\"Z\": [17, 19, 21]}, {\"Z\": [12, 21, 19]}, {\"Z\": [12, 17, 21]}, {\"Z\": [12, 19, 17]}]}]}',\n '{\"S\": [5, {\"P\": [4]}]}',\n '{\"S\": [6, {\"P\": [4, 7, 14, 15]}]}',\n '{\"S\": [7, {\"P\": [6, 8, 16, 17]}]}',\n '{\"S\": [8, {\"P\": [7]}]}',\n '{\"S\": [9, {\"P\": [1]}]}',\n '{\"S\": [10, {\"P\": [1]}]}',\n '{\"S\": [11, {\"P\": [2]}]}',\n '{\"S\": [12, {\"P\": [3]}]}',\n '{\"S\": [13, {\"P\": [4]}]}',\n '{\"S\": [14, {\"P\": [6]}]}',\n '{\"S\": [15, {\"P\": [6]}]}',\n '{\"S\": [16, {\"P\": [7]}]}',\n '{\"S\": [17, {\"P\": [7]}]}']"
     },
     "metadata": {},
     "output_type": "display_data"
    }
   ],
   "source": [
    "from ptgnn.transform.vertex_graph.permutation_tree_selective import permutation_tree_vertex_transformation\n",
    "\n",
    "transformed_data = permutation_tree_vertex_transformation(\n",
    "    data,\n",
    "    mol_example,\n",
    "    3,\n",
    "    tetrahedral_chiral=True,\n",
    "    chiral_center_selective=True,\n",
    "    chiral_center_select_potential=True,\n",
    "    cis_trans_edges=True,\n",
    "    cis_trans_edges_select_potential=True,\n",
    "    create_order_matrix=True\n",
    ")\n",
    "display(transformed_data, transformed_data.ptree)"
   ],
   "metadata": {
    "collapsed": false,
    "ExecuteTime": {
     "start_time": "2024-03-18T16:55:33.622871Z",
     "end_time": "2024-03-18T16:55:33.666275Z"
    }
   }
  },
  {
   "cell_type": "markdown",
   "source": [
    "## Manual construction"
   ],
   "metadata": {
    "collapsed": false
   }
  },
  {
   "cell_type": "code",
   "execution_count": 7,
   "outputs": [],
   "source": [
    "from ptgnn.transform.edge_graph.permutation_tree_selective import custom_to_edge_graph\n",
    "\n",
    "edge_graph, node_mapping = custom_to_edge_graph(\n",
    "    data=data,\n",
    ")"
   ],
   "metadata": {
    "collapsed": false,
    "ExecuteTime": {
     "start_time": "2024-03-18T13:16:13.730105Z",
     "end_time": "2024-03-18T13:16:13.790519Z"
    }
   }
  },
  {
   "cell_type": "code",
   "execution_count": 28,
   "outputs": [
    {
     "data": {
      "text/plain": "[4]"
     },
     "metadata": {},
     "output_type": "display_data"
    }
   ],
   "source": [
    "from rdkit.Chem import AllChem\n",
    "chiral_center_selective = True\n",
    "chiral_center_select_potential = True\n",
    "only_out = True\n",
    "\n",
    "chiral_center_list = AllChem.FindMolChiralCenters(mol_example, includeUnassigned=chiral_center_select_potential)\n",
    "chiral_center_list = [c[0] for c in chiral_center_list]\n",
    "display(chiral_center_list)"
   ],
   "metadata": {
    "collapsed": false,
    "ExecuteTime": {
     "start_time": "2024-03-18T13:58:16.412365Z",
     "end_time": "2024-03-18T13:58:16.434365Z"
    }
   }
  },
  {
   "cell_type": "code",
   "execution_count": 29,
   "outputs": [],
   "source": [
    "import json\n",
    "ptrees = []\n",
    "\n",
    "# iterate over nodes\n",
    "for idx in range(data.x.shape[0]):\n",
    "\n",
    "    # todo: add chiral center filter - else P over all\n",
    "\n",
    "    # get outgoing nodes (has tree of this nodes neighbors\n",
    "    out_edges = data.edge_index[:, data.edge_index[0] == idx]\n",
    "\n",
    "    if out_edges.shape[1] < 4 or (not idx in chiral_center_list):\n",
    "        ptrees.append(json.dumps({\n",
    "            \"S\": [\n",
    "                int(idx),\n",
    "                {\"P\": out_edges[1].tolist()}\n",
    "            ]\n",
    "        }))\n",
    "        continue\n",
    "\n",
    "    # iterate over edges, get circle index and create permutation tree\n",
    "    circle_indices = [\n",
    "        edge_graph.circle_index[node_mapping[(x, y)]]\n",
    "        for x, y in out_edges.T.tolist()\n",
    "    ]\n",
    "\n",
    "    # merge tree and add to list\n",
    "    ptrees.append(json.dumps({\n",
    "        \"S\": [\n",
    "            int(idx),\n",
    "            {\n",
    "                \"P\": [\n",
    "                    {\n",
    "                        \"Z\": circle_index\n",
    "                    }\n",
    "                    for circle_index in circle_indices\n",
    "                ]\n",
    "            }\n",
    "        ]\n",
    "    }))"
   ],
   "metadata": {
    "collapsed": false,
    "ExecuteTime": {
     "start_time": "2024-03-18T13:58:21.880322Z",
     "end_time": "2024-03-18T13:58:21.900321Z"
    }
   }
  },
  {
   "cell_type": "code",
   "execution_count": 30,
   "outputs": [
    {
     "data": {
      "text/plain": "['{\"S\": [0, {\"P\": [1]}]}',\n '{\"S\": [1, {\"P\": [0, 2, 9, 10]}]}',\n '{\"S\": [2, {\"P\": [1, 3, 11]}]}',\n '{\"S\": [3, {\"P\": [2, 4, 12]}]}',\n '{\"S\": [4, {\"P\": [{\"Z\": [17, 19, 21]}, {\"Z\": [12, 21, 19]}, {\"Z\": [12, 17, 21]}, {\"Z\": [12, 19, 17]}]}]}',\n '{\"S\": [5, {\"P\": [4]}]}',\n '{\"S\": [6, {\"P\": [4, 7, 14, 15]}]}',\n '{\"S\": [7, {\"P\": [6, 8, 16, 17]}]}',\n '{\"S\": [8, {\"P\": [7]}]}',\n '{\"S\": [9, {\"P\": [1]}]}',\n '{\"S\": [10, {\"P\": [1]}]}',\n '{\"S\": [11, {\"P\": [2]}]}',\n '{\"S\": [12, {\"P\": [3]}]}',\n '{\"S\": [13, {\"P\": [4]}]}',\n '{\"S\": [14, {\"P\": [6]}]}',\n '{\"S\": [15, {\"P\": [6]}]}',\n '{\"S\": [16, {\"P\": [7]}]}',\n '{\"S\": [17, {\"P\": [7]}]}']"
     },
     "execution_count": 30,
     "metadata": {},
     "output_type": "execute_result"
    }
   ],
   "source": [
    "ptrees"
   ],
   "metadata": {
    "collapsed": false,
    "ExecuteTime": {
     "start_time": "2024-03-18T13:58:24.567837Z",
     "end_time": "2024-03-18T13:58:24.584833Z"
    }
   }
  },
  {
   "cell_type": "code",
   "execution_count": 13,
   "outputs": [
    {
     "data": {
      "text/plain": "tensor([[ 6,  6,  6,  6],\n        [ 4,  7, 14, 15]])"
     },
     "execution_count": 13,
     "metadata": {},
     "output_type": "execute_result"
    }
   ],
   "source": [
    "data.edge_index[:, data.edge_index[0] == 6]"
   ],
   "metadata": {
    "collapsed": false,
    "ExecuteTime": {
     "start_time": "2024-03-18T13:20:19.038378Z",
     "end_time": "2024-03-18T13:20:19.062377Z"
    }
   }
  },
  {
   "cell_type": "code",
   "execution_count": 33,
   "outputs": [
    {
     "data": {
      "text/plain": "[(2, 3), (3, 2)]"
     },
     "metadata": {},
     "output_type": "display_data"
    }
   ],
   "source": [
    "from ptgnn.transform.edge_graph.permutation_tree_special import fetch_cis_trans_edges\n",
    "\n",
    "cis_trans_edges_select_potential = False\n",
    "cis_trans_nodes_list = fetch_cis_trans_edges(\n",
    "    node_mapping,\n",
    "    mol_example,\n",
    "    cis_trans_edges_select_potential\n",
    ")\n",
    "display(cis_trans_nodes_list)"
   ],
   "metadata": {
    "collapsed": false,
    "ExecuteTime": {
     "start_time": "2024-03-18T16:09:47.031025Z",
     "end_time": "2024-03-18T16:09:47.047023Z"
    }
   }
  },
  {
   "cell_type": "code",
   "execution_count": 32,
   "outputs": [
    {
     "data": {
      "text/plain": "[(2, 3), (3, 2)]"
     },
     "metadata": {},
     "output_type": "display_data"
    }
   ],
   "source": [],
   "metadata": {
    "collapsed": false,
    "ExecuteTime": {
     "start_time": "2024-03-18T16:09:25.756554Z",
     "end_time": "2024-03-18T16:09:25.803553Z"
    }
   }
  }
 ],
 "metadata": {
  "kernelspec": {
   "display_name": "Python 3",
   "language": "python",
   "name": "python3"
  },
  "language_info": {
   "codemirror_mode": {
    "name": "ipython",
    "version": 2
   },
   "file_extension": ".py",
   "mimetype": "text/x-python",
   "name": "python",
   "nbconvert_exporter": "python",
   "pygments_lexer": "ipython2",
   "version": "2.7.6"
  }
 },
 "nbformat": 4,
 "nbformat_minor": 0
}
