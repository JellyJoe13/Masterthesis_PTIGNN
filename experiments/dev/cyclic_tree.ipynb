{
 "cells": [
  {
   "cell_type": "markdown",
   "source": [
    "# Cyclic trees"
   ],
   "metadata": {
    "collapsed": false
   }
  },
  {
   "cell_type": "code",
   "execution_count": 1,
   "outputs": [],
   "source": [
    "import json\n",
    "\n",
    "import pandas as pd\n",
    "import torch\n",
    "\n",
    "from ptgnn.dataset.utils_chienn import get_chiro_data_from_mol\n",
    "from ptgnn.features.chienn.molecule3d import smiles_to_3d_mol\n",
    "from ptgnn.transform import edge_graph_transform, vertex_graph_transform"
   ],
   "metadata": {
    "collapsed": false,
    "ExecuteTime": {
     "start_time": "2024-04-01T16:56:00.936832Z",
     "end_time": "2024-04-01T16:56:04.146210Z"
    }
   }
  },
  {
   "cell_type": "markdown",
   "source": [
    "## Vertex graph"
   ],
   "metadata": {
    "collapsed": false
   }
  },
  {
   "cell_type": "code",
   "execution_count": 2,
   "outputs": [],
   "source": [
    "df = pd.read_pickle(\"src/rs/raw/train.pickle\")"
   ],
   "metadata": {
    "collapsed": false,
    "ExecuteTime": {
     "start_time": "2024-04-01T16:49:34.159442Z",
     "end_time": "2024-04-01T16:49:39.516231Z"
    }
   }
  },
  {
   "cell_type": "code",
   "execution_count": 3,
   "outputs": [
    {
     "data": {
      "text/plain": "                                                       ID  \\\n0       BrC1=C[C@@H](c2ccc(-c3ccccc3)cc2)CC(c2nc(-c3cc...   \n1       BrC1=C[C@@H](c2ccc(-c3ccccc3)cc2)CC(c2nc(-c3cc...   \n2       BrC1=C[C@@H](c2ccc(-c3ccccc3)cc2)CC(c2nc(-c3cc...   \n3       BrC1=C[C@@H](c2ccc(-c3ccccc3)cc2)CC(c2nc(-c3cc...   \n4       BrC1=C[C@@H](c2ccc(-c3ccccc3)cc2)CC(c2nc(-c3cc...   \n...                                                   ...   \n326860                         c1nnc([C@H]2CNCCO2)n1C1CC1   \n326861                         c1nnc([C@H]2CNCCO2)n1C1CC1   \n326862                         c1nnc([C@H]2CNCCO2)n1C1CC1   \n326863                         c1nnc([C@H]2CNCCO2)n1C1CC1   \n326864                         c1nnc([C@H]2CNCCO2)n1C1CC1   \n\n                                          SMILES_nostereo  \\\n0       BrC1=CC(c2ccc(-c3ccccc3)cc2)CC(c2nc(-c3ccccc3)...   \n1       BrC1=CC(c2ccc(-c3ccccc3)cc2)CC(c2nc(-c3ccccc3)...   \n2       BrC1=CC(c2ccc(-c3ccccc3)cc2)CC(c2nc(-c3ccccc3)...   \n3       BrC1=CC(c2ccc(-c3ccccc3)cc2)CC(c2nc(-c3ccccc3)...   \n4       BrC1=CC(c2ccc(-c3ccccc3)cc2)CC(c2nc(-c3ccccc3)...   \n...                                                   ...   \n326860                             c1nnc(C2CNCCO2)n1C1CC1   \n326861                             c1nnc(C2CNCCO2)n1C1CC1   \n326862                             c1nnc(C2CNCCO2)n1C1CC1   \n326863                             c1nnc(C2CNCCO2)n1C1CC1   \n326864                             c1nnc(C2CNCCO2)n1C1CC1   \n\n                                rdkit_mol_cistrans_stereo RS_label  \\\n0       <rdkit.Chem.rdchem.Mol object at 0x000002CC264...        S   \n1       <rdkit.Chem.rdchem.Mol object at 0x000002CC264...        S   \n2       <rdkit.Chem.rdchem.Mol object at 0x000002CC264...        S   \n3       <rdkit.Chem.rdchem.Mol object at 0x000002CC264...        S   \n4       <rdkit.Chem.rdchem.Mol object at 0x000002CC264...        S   \n...                                                   ...      ...   \n326860  <rdkit.Chem.rdchem.Mol object at 0x000002CD18B...        R   \n326861  <rdkit.Chem.rdchem.Mol object at 0x000002CD18B...        R   \n326862  <rdkit.Chem.rdchem.Mol object at 0x000002CD18B...        R   \n326863  <rdkit.Chem.rdchem.Mol object at 0x000002CD18B...        R   \n326864  <rdkit.Chem.rdchem.Mol object at 0x000002CD18B...        R   \n\n        RS_label_binary  \n0                     1  \n1                     1  \n2                     1  \n3                     1  \n4                     1  \n...                 ...  \n326860                0  \n326861                0  \n326862                0  \n326863                0  \n326864                0  \n\n[326865 rows x 5 columns]",
      "text/html": "<div>\n<style scoped>\n    .dataframe tbody tr th:only-of-type {\n        vertical-align: middle;\n    }\n\n    .dataframe tbody tr th {\n        vertical-align: top;\n    }\n\n    .dataframe thead th {\n        text-align: right;\n    }\n</style>\n<table border=\"1\" class=\"dataframe\">\n  <thead>\n    <tr style=\"text-align: right;\">\n      <th></th>\n      <th>ID</th>\n      <th>SMILES_nostereo</th>\n      <th>rdkit_mol_cistrans_stereo</th>\n      <th>RS_label</th>\n      <th>RS_label_binary</th>\n    </tr>\n  </thead>\n  <tbody>\n    <tr>\n      <th>0</th>\n      <td>BrC1=C[C@@H](c2ccc(-c3ccccc3)cc2)CC(c2nc(-c3cc...</td>\n      <td>BrC1=CC(c2ccc(-c3ccccc3)cc2)CC(c2nc(-c3ccccc3)...</td>\n      <td>&lt;rdkit.Chem.rdchem.Mol object at 0x000002CC264...</td>\n      <td>S</td>\n      <td>1</td>\n    </tr>\n    <tr>\n      <th>1</th>\n      <td>BrC1=C[C@@H](c2ccc(-c3ccccc3)cc2)CC(c2nc(-c3cc...</td>\n      <td>BrC1=CC(c2ccc(-c3ccccc3)cc2)CC(c2nc(-c3ccccc3)...</td>\n      <td>&lt;rdkit.Chem.rdchem.Mol object at 0x000002CC264...</td>\n      <td>S</td>\n      <td>1</td>\n    </tr>\n    <tr>\n      <th>2</th>\n      <td>BrC1=C[C@@H](c2ccc(-c3ccccc3)cc2)CC(c2nc(-c3cc...</td>\n      <td>BrC1=CC(c2ccc(-c3ccccc3)cc2)CC(c2nc(-c3ccccc3)...</td>\n      <td>&lt;rdkit.Chem.rdchem.Mol object at 0x000002CC264...</td>\n      <td>S</td>\n      <td>1</td>\n    </tr>\n    <tr>\n      <th>3</th>\n      <td>BrC1=C[C@@H](c2ccc(-c3ccccc3)cc2)CC(c2nc(-c3cc...</td>\n      <td>BrC1=CC(c2ccc(-c3ccccc3)cc2)CC(c2nc(-c3ccccc3)...</td>\n      <td>&lt;rdkit.Chem.rdchem.Mol object at 0x000002CC264...</td>\n      <td>S</td>\n      <td>1</td>\n    </tr>\n    <tr>\n      <th>4</th>\n      <td>BrC1=C[C@@H](c2ccc(-c3ccccc3)cc2)CC(c2nc(-c3cc...</td>\n      <td>BrC1=CC(c2ccc(-c3ccccc3)cc2)CC(c2nc(-c3ccccc3)...</td>\n      <td>&lt;rdkit.Chem.rdchem.Mol object at 0x000002CC264...</td>\n      <td>S</td>\n      <td>1</td>\n    </tr>\n    <tr>\n      <th>...</th>\n      <td>...</td>\n      <td>...</td>\n      <td>...</td>\n      <td>...</td>\n      <td>...</td>\n    </tr>\n    <tr>\n      <th>326860</th>\n      <td>c1nnc([C@H]2CNCCO2)n1C1CC1</td>\n      <td>c1nnc(C2CNCCO2)n1C1CC1</td>\n      <td>&lt;rdkit.Chem.rdchem.Mol object at 0x000002CD18B...</td>\n      <td>R</td>\n      <td>0</td>\n    </tr>\n    <tr>\n      <th>326861</th>\n      <td>c1nnc([C@H]2CNCCO2)n1C1CC1</td>\n      <td>c1nnc(C2CNCCO2)n1C1CC1</td>\n      <td>&lt;rdkit.Chem.rdchem.Mol object at 0x000002CD18B...</td>\n      <td>R</td>\n      <td>0</td>\n    </tr>\n    <tr>\n      <th>326862</th>\n      <td>c1nnc([C@H]2CNCCO2)n1C1CC1</td>\n      <td>c1nnc(C2CNCCO2)n1C1CC1</td>\n      <td>&lt;rdkit.Chem.rdchem.Mol object at 0x000002CD18B...</td>\n      <td>R</td>\n      <td>0</td>\n    </tr>\n    <tr>\n      <th>326863</th>\n      <td>c1nnc([C@H]2CNCCO2)n1C1CC1</td>\n      <td>c1nnc(C2CNCCO2)n1C1CC1</td>\n      <td>&lt;rdkit.Chem.rdchem.Mol object at 0x000002CD18B...</td>\n      <td>R</td>\n      <td>0</td>\n    </tr>\n    <tr>\n      <th>326864</th>\n      <td>c1nnc([C@H]2CNCCO2)n1C1CC1</td>\n      <td>c1nnc(C2CNCCO2)n1C1CC1</td>\n      <td>&lt;rdkit.Chem.rdchem.Mol object at 0x000002CD18B...</td>\n      <td>R</td>\n      <td>0</td>\n    </tr>\n  </tbody>\n</table>\n<p>326865 rows × 5 columns</p>\n</div>"
     },
     "metadata": {},
     "output_type": "display_data"
    }
   ],
   "source": [
    "display(df)"
   ],
   "metadata": {
    "collapsed": false,
    "ExecuteTime": {
     "start_time": "2024-04-01T16:49:39.518232Z",
     "end_time": "2024-04-01T16:49:39.532262Z"
    }
   }
  },
  {
   "cell_type": "code",
   "execution_count": 4,
   "outputs": [
    {
     "data": {
      "text/plain": "<rdkit.Chem.rdchem.Mol at 0x2cc09176c80>",
      "image/png": "[encoded data removed]"
     },
     "metadata": {},
     "output_type": "display_data"
    }
   ],
   "source": [
    "# mol_example = df.rdkit_mol_cistrans_stereo.iloc[6]# 0\n",
    "mol_example = smiles_to_3d_mol(\n",
    "    df.ID.iloc[0],\n",
    "    max_number_of_attempts=100,\n",
    "    max_number_of_atoms=100\n",
    ")\n",
    "display(mol_example)"
   ],
   "metadata": {
    "collapsed": false,
    "ExecuteTime": {
     "start_time": "2024-04-01T16:49:39.533263Z",
     "end_time": "2024-04-01T16:49:39.642135Z"
    }
   }
  },
  {
   "cell_type": "code",
   "execution_count": 17,
   "outputs": [
    {
     "data": {
      "text/plain": "Data(x=[61, 52], edge_index=[2, 132], edge_attr=[132, 14], pos=[61, 3], bond_distances=[66], bond_distance_index=[2, 66], bond_angles=[108], bond_angle_index=[3, 108], dihedral_angles=[163], dihedral_angle_index=[4, 163], ptree=[61], initial_map=[209], layer0_order_matrix=[1], layer0_type_mask=[1], layer0_pooling=[1], num_layer=3, layer1_order_matrix=[1], layer1_type_mask=[1], layer1_pooling=[1], layer2_order_matrix=[1], layer2_type_mask=[1], layer2_pooling=[1])"
     },
     "metadata": {},
     "output_type": "display_data"
    }
   ],
   "source": [
    "data = get_chiro_data_from_mol(mol_example)\n",
    "data = vertex_graph_transform(\n",
    "    data,\n",
    "    mol=mol_example,\n",
    "    transformation_mode=\"permutation_tree\",\n",
    "    transformation_parameters={'k': 3}\n",
    ")\n",
    "display(data)"
   ],
   "metadata": {
    "collapsed": false,
    "ExecuteTime": {
     "start_time": "2024-04-01T14:30:40.304799Z",
     "end_time": "2024-04-01T14:30:40.349801Z"
    }
   }
  },
  {
   "cell_type": "markdown",
   "source": [
    "## Plan:\n",
    "- ring gets extra node with tree (c or z) connecting members of ring\n",
    "- interconnect such nodes which share nodes? include in c/z at position? (probably not a good idea) or use separate c/z to display surrounding cycles\n",
    "- include extra nodes in tree of participating nodes (extra position 4 in S ?)\n",
    "- or: remove edges between nodes of cycle, i.e. tree modification, may be bad for chirality"
   ],
   "metadata": {
    "collapsed": false
   }
  },
  {
   "cell_type": "code",
   "execution_count": 18,
   "outputs": [
    {
     "data": {
      "text/plain": "[(1, 36, 17, 16, 3, 2),\n (5, 6, 7, 14, 15, 4),\n (9, 10, 11, 12, 13, 8),\n (19, 20, 27, 28, 35, 18),\n (22, 23, 24, 25, 26, 21),\n (30, 31, 32, 33, 34, 29)]"
     },
     "execution_count": 18,
     "metadata": {},
     "output_type": "execute_result"
    }
   ],
   "source": [
    "# getting rings\n",
    "atom_rings = list(mol_example.GetRingInfo().AtomRings())\n",
    "atom_rings"
   ],
   "metadata": {
    "collapsed": false,
    "ExecuteTime": {
     "start_time": "2024-04-01T14:30:41.694596Z",
     "end_time": "2024-04-01T14:30:41.710595Z"
    }
   }
  },
  {
   "cell_type": "code",
   "execution_count": 19,
   "outputs": [],
   "source": [
    "offset = data.x.shape[0]"
   ],
   "metadata": {
    "collapsed": false,
    "ExecuteTime": {
     "start_time": "2024-04-01T14:30:42.302217Z",
     "end_time": "2024-04-01T14:30:42.317217Z"
    }
   }
  },
  {
   "cell_type": "code",
   "execution_count": 22,
   "outputs": [],
   "source": [
    "for idx, ring in enumerate(atom_rings):\n",
    "\n",
    "    # prepare tree\n",
    "    # todo: adapt to edge graph\n",
    "    ptree_ring = {\n",
    "        \"C\": [\n",
    "            list(ring)\n",
    "        ]\n",
    "    }\n",
    "\n",
    "    # add node\n",
    "    data.x = torch.cat([\n",
    "        data.x,\n",
    "        torch.zeros(1, data.x.shape[1])\n",
    "    ], dim=0)\n",
    "\n",
    "    ptree_neighbor_rings = []\n",
    "\n",
    "    # check with connection to other trees\n",
    "    for o_idx, other_rings in enumerate(atom_rings):\n",
    "        if idx == o_idx:\n",
    "            continue\n",
    "\n",
    "        # check if connected\n",
    "        intersection = list(set(ring) & set(other_rings))\n",
    "\n",
    "        if len(intersection):\n",
    "            ptree_neighbor_rings.append(offset + o_idx)\n",
    "\n",
    "    if len(ptree_neighbor_rings):\n",
    "        data.ptree.append(json.dumps({\n",
    "            \"S\": [\n",
    "                ptree_ring,\n",
    "                {\n",
    "                    \"P\": ptree_neighbor_rings\n",
    "                }\n",
    "            ]\n",
    "        }))\n",
    "    else:\n",
    "        data.ptree.append(json.dumps(ptree_ring))"
   ],
   "metadata": {
    "collapsed": false,
    "ExecuteTime": {
     "start_time": "2024-04-01T14:51:15.191603Z",
     "end_time": "2024-04-01T14:51:15.207609Z"
    }
   }
  },
  {
   "cell_type": "code",
   "execution_count": 25,
   "outputs": [],
   "source": [
    "for i in range(offset):\n",
    "\n",
    "    temp_tree = json.loads(data.ptree[i])\n",
    "    # todo: adapt for edge graph\n",
    "    if \"S\" in temp_tree:\n",
    "        # get rings it is in\n",
    "        in_rings = [\n",
    "            offset + idx\n",
    "            for idx, r in enumerate(atom_rings)\n",
    "            if i in r\n",
    "        ]\n",
    "\n",
    "        if len(in_rings):\n",
    "            temp_tree[\"S\"].append({\n",
    "                \"P\": in_rings\n",
    "            })\n",
    "    data.ptree[i] = json.dumps(temp_tree)"
   ],
   "metadata": {
    "collapsed": false,
    "ExecuteTime": {
     "start_time": "2024-04-01T14:57:01.555956Z",
     "end_time": "2024-04-01T14:57:01.567768Z"
    }
   }
  },
  {
   "cell_type": "code",
   "execution_count": 26,
   "outputs": [
    {
     "data": {
      "text/plain": "Data(x=[69, 52], edge_index=[2, 132], edge_attr=[132, 14], pos=[61, 3], bond_distances=[66], bond_distance_index=[2, 66], bond_angles=[108], bond_angle_index=[3, 108], dihedral_angles=[163], dihedral_angle_index=[4, 163], ptree=[69], initial_map=[209], layer0_order_matrix=[1], layer0_type_mask=[1], layer0_pooling=[1], num_layer=3, layer1_order_matrix=[1], layer1_type_mask=[1], layer1_pooling=[1], layer2_order_matrix=[1], layer2_type_mask=[1], layer2_pooling=[1])"
     },
     "metadata": {},
     "output_type": "display_data"
    },
    {
     "data": {
      "text/plain": "['{\"S\": [0, {\"P\": [1]}]}',\n '{\"S\": [1, {\"P\": [0, 2, 36]}, {\"P\": [61]}]}',\n '{\"S\": [2, {\"P\": [1, 3, 37]}, {\"P\": [61]}]}',\n '{\"S\": [3, {\"P\": [{\"Z\": [4, 16, 38]}, {\"Z\": [2, 38, 16]}, {\"Z\": [2, 4, 38]}, {\"Z\": [2, 16, 4]}]}, {\"P\": [61]}]}',\n '{\"S\": [4, {\"P\": [3, 5, 15]}, {\"P\": [62]}]}',\n '{\"S\": [5, {\"P\": [4, 6, 39]}, {\"P\": [62]}]}',\n '{\"S\": [6, {\"P\": [5, 7, 40]}, {\"P\": [62]}]}',\n '{\"S\": [7, {\"P\": [6, 8, 14]}, {\"P\": [62]}]}',\n '{\"S\": [8, {\"P\": [7, 9, 13]}, {\"P\": [63]}]}',\n '{\"S\": [9, {\"P\": [8, 10, 41]}, {\"P\": [63]}]}',\n '{\"S\": [10, {\"P\": [9, 11, 42]}, {\"P\": [63]}]}',\n '{\"S\": [11, {\"P\": [10, 12, 43]}, {\"P\": [63]}]}',\n '{\"S\": [12, {\"P\": [11, 13, 44]}, {\"P\": [63]}]}',\n '{\"S\": [13, {\"P\": [8, 12, 45]}, {\"P\": [63]}]}',\n '{\"S\": [14, {\"P\": [7, 15, 46]}, {\"P\": [62]}]}',\n '{\"S\": [15, {\"P\": [4, 14, 47]}, {\"P\": [62]}]}',\n '{\"S\": [16, {\"P\": [{\"Z\": [17, 48, 49]}, {\"Z\": [3, 49, 48]}, {\"Z\": [3, 17, 49]}, {\"Z\": [3, 48, 17]}]}, {\"P\": [61]}]}',\n '{\"S\": [17, {\"P\": [16, 18, 36]}, {\"P\": [61]}]}',\n '{\"S\": [18, {\"P\": [17, 19, 35]}, {\"P\": [64]}]}',\n '{\"S\": [19, {\"P\": [18, 20]}, {\"P\": [64]}]}',\n '{\"S\": [20, {\"P\": [19, 21, 27]}, {\"P\": [64]}]}',\n '{\"S\": [21, {\"P\": [20, 22, 26]}, {\"P\": [65]}]}',\n '{\"S\": [22, {\"P\": [21, 23, 50]}, {\"P\": [65]}]}',\n '{\"S\": [23, {\"P\": [22, 24, 51]}, {\"P\": [65]}]}',\n '{\"S\": [24, {\"P\": [23, 25, 52]}, {\"P\": [65]}]}',\n '{\"S\": [25, {\"P\": [24, 26, 53]}, {\"P\": [65]}]}',\n '{\"S\": [26, {\"P\": [21, 25, 54]}, {\"P\": [65]}]}',\n '{\"S\": [27, {\"P\": [20, 28]}, {\"P\": [64]}]}',\n '{\"S\": [28, {\"P\": [27, 29, 35]}, {\"P\": [64]}]}',\n '{\"S\": [29, {\"P\": [28, 30, 34]}, {\"P\": [66]}]}',\n '{\"S\": [30, {\"P\": [29, 31, 55]}, {\"P\": [66]}]}',\n '{\"S\": [31, {\"P\": [30, 32, 56]}, {\"P\": [66]}]}',\n '{\"S\": [32, {\"P\": [31, 33, 57]}, {\"P\": [66]}]}',\n '{\"S\": [33, {\"P\": [32, 34, 58]}, {\"P\": [66]}]}',\n '{\"S\": [34, {\"P\": [29, 33, 59]}, {\"P\": [66]}]}',\n '{\"S\": [35, {\"P\": [18, 28]}, {\"P\": [64]}]}',\n '{\"S\": [36, {\"P\": [1, 17, 60]}, {\"P\": [61]}]}',\n '{\"S\": [37, {\"P\": [2]}]}',\n '{\"S\": [38, {\"P\": [3]}]}',\n '{\"S\": [39, {\"P\": [5]}]}',\n '{\"S\": [40, {\"P\": [6]}]}',\n '{\"S\": [41, {\"P\": [9]}]}',\n '{\"S\": [42, {\"P\": [10]}]}',\n '{\"S\": [43, {\"P\": [11]}]}',\n '{\"S\": [44, {\"P\": [12]}]}',\n '{\"S\": [45, {\"P\": [13]}]}',\n '{\"S\": [46, {\"P\": [14]}]}',\n '{\"S\": [47, {\"P\": [15]}]}',\n '{\"S\": [48, {\"P\": [16]}]}',\n '{\"S\": [49, {\"P\": [16]}]}',\n '{\"S\": [50, {\"P\": [22]}]}',\n '{\"S\": [51, {\"P\": [23]}]}',\n '{\"S\": [52, {\"P\": [24]}]}',\n '{\"S\": [53, {\"P\": [25]}]}',\n '{\"S\": [54, {\"P\": [26]}]}',\n '{\"S\": [55, {\"P\": [30]}]}',\n '{\"S\": [56, {\"P\": [31]}]}',\n '{\"S\": [57, {\"P\": [32]}]}',\n '{\"S\": [58, {\"P\": [33]}]}',\n '{\"S\": [59, {\"P\": [34]}]}',\n '{\"S\": [60, {\"P\": [36]}]}',\n '{\"C\": [[1, 36, 17, 16, 3, 2]]}',\n '{\"C\": [[1, 36, 17, 16, 3, 2]]}',\n '{\"C\": [[1, 36, 17, 16, 3, 2]]}',\n '{\"C\": [[5, 6, 7, 14, 15, 4]]}',\n '{\"C\": [[9, 10, 11, 12, 13, 8]]}',\n '{\"C\": [[19, 20, 27, 28, 35, 18]]}',\n '{\"C\": [[22, 23, 24, 25, 26, 21]]}',\n '{\"C\": [[30, 31, 32, 33, 34, 29]]}']"
     },
     "metadata": {},
     "output_type": "display_data"
    }
   ],
   "source": [
    "display(data, data.ptree)"
   ],
   "metadata": {
    "collapsed": false,
    "ExecuteTime": {
     "start_time": "2024-04-01T14:57:03.720693Z",
     "end_time": "2024-04-01T14:57:03.745290Z"
    }
   }
  },
  {
   "cell_type": "code",
   "execution_count": 23,
   "outputs": [
    {
     "data": {
      "text/plain": "True"
     },
     "execution_count": 23,
     "metadata": {},
     "output_type": "execute_result"
    }
   ],
   "source": [
    "'S' in json.loads(data.ptree[0])"
   ],
   "metadata": {
    "collapsed": false,
    "ExecuteTime": {
     "start_time": "2024-04-01T14:55:15.020712Z",
     "end_time": "2024-04-01T14:55:15.033712Z"
    }
   }
  },
  {
   "cell_type": "code",
   "execution_count": 5,
   "outputs": [
    {
     "data": {
      "text/plain": "Data(x=[67, 52], edge_index=[2, 132], edge_attr=[132, 14], pos=[61, 3], bond_distances=[66], bond_distance_index=[2, 66], bond_angles=[108], bond_angle_index=[3, 108], dihedral_angles=[163], dihedral_angle_index=[4, 163], ptree=[67], initial_map=[317], layer0_order_matrix=[1], layer0_type_mask=[1], layer0_pooling=[1], num_layer=3, layer1_order_matrix=[1], layer1_type_mask=[1], layer1_pooling=[1], layer2_order_matrix=[1], layer2_type_mask=[1], layer2_pooling=[1])"
     },
     "metadata": {},
     "output_type": "display_data"
    }
   ],
   "source": [
    "data = get_chiro_data_from_mol(mol_example)\n",
    "data = vertex_graph_transform(\n",
    "    data,\n",
    "    mol=mol_example,\n",
    "    transformation_mode=\"permutation_tree\",\n",
    "    transformation_parameters={\n",
    "        'k': 3,\n",
    "        \"add_cyclic_trees\": True\n",
    "    }\n",
    ")\n",
    "display(data)"
   ],
   "metadata": {
    "collapsed": false,
    "ExecuteTime": {
     "start_time": "2024-04-01T16:49:39.892052Z",
     "end_time": "2024-04-01T16:53:57.917816Z"
    }
   }
  },
  {
   "cell_type": "code",
   "execution_count": 6,
   "outputs": [
    {
     "data": {
      "text/plain": "['{\"S\": [0, {\"P\": [1]}]}',\n '{\"S\": [1, {\"P\": [0, 2, 36]}, {\"P\": [61]}]}',\n '{\"S\": [2, {\"P\": [1, 3, 37]}, {\"P\": [61]}]}',\n '{\"S\": [3, {\"P\": [{\"Z\": [4, 16, 38]}, {\"Z\": [2, 38, 16]}, {\"Z\": [2, 4, 38]}, {\"Z\": [2, 16, 4]}]}, {\"P\": [61]}]}',\n '{\"S\": [4, {\"P\": [3, 5, 15]}, {\"P\": [62]}]}',\n '{\"S\": [5, {\"P\": [4, 6, 39]}, {\"P\": [62]}]}',\n '{\"S\": [6, {\"P\": [5, 7, 40]}, {\"P\": [62]}]}',\n '{\"S\": [7, {\"P\": [6, 8, 14]}, {\"P\": [62]}]}',\n '{\"S\": [8, {\"P\": [7, 9, 13]}, {\"P\": [63]}]}',\n '{\"S\": [9, {\"P\": [8, 10, 41]}, {\"P\": [63]}]}',\n '{\"S\": [10, {\"P\": [9, 11, 42]}, {\"P\": [63]}]}',\n '{\"S\": [11, {\"P\": [10, 12, 43]}, {\"P\": [63]}]}',\n '{\"S\": [12, {\"P\": [11, 13, 44]}, {\"P\": [63]}]}',\n '{\"S\": [13, {\"P\": [8, 12, 45]}, {\"P\": [63]}]}',\n '{\"S\": [14, {\"P\": [7, 15, 46]}, {\"P\": [62]}]}',\n '{\"S\": [15, {\"P\": [4, 14, 47]}, {\"P\": [62]}]}',\n '{\"S\": [16, {\"P\": [{\"Z\": [17, 48, 49]}, {\"Z\": [3, 49, 48]}, {\"Z\": [3, 17, 49]}, {\"Z\": [3, 48, 17]}]}, {\"P\": [61]}]}',\n '{\"S\": [17, {\"P\": [16, 18, 36]}, {\"P\": [61]}]}',\n '{\"S\": [18, {\"P\": [17, 19, 35]}, {\"P\": [64]}]}',\n '{\"S\": [19, {\"P\": [18, 20]}, {\"P\": [64]}]}',\n '{\"S\": [20, {\"P\": [19, 21, 27]}, {\"P\": [64]}]}',\n '{\"S\": [21, {\"P\": [20, 22, 26]}, {\"P\": [65]}]}',\n '{\"S\": [22, {\"P\": [21, 23, 50]}, {\"P\": [65]}]}',\n '{\"S\": [23, {\"P\": [22, 24, 51]}, {\"P\": [65]}]}',\n '{\"S\": [24, {\"P\": [23, 25, 52]}, {\"P\": [65]}]}',\n '{\"S\": [25, {\"P\": [24, 26, 53]}, {\"P\": [65]}]}',\n '{\"S\": [26, {\"P\": [21, 25, 54]}, {\"P\": [65]}]}',\n '{\"S\": [27, {\"P\": [20, 28]}, {\"P\": [64]}]}',\n '{\"S\": [28, {\"P\": [27, 29, 35]}, {\"P\": [64]}]}',\n '{\"S\": [29, {\"P\": [28, 30, 34]}, {\"P\": [66]}]}',\n '{\"S\": [30, {\"P\": [29, 31, 55]}, {\"P\": [66]}]}',\n '{\"S\": [31, {\"P\": [30, 32, 56]}, {\"P\": [66]}]}',\n '{\"S\": [32, {\"P\": [31, 33, 57]}, {\"P\": [66]}]}',\n '{\"S\": [33, {\"P\": [32, 34, 58]}, {\"P\": [66]}]}',\n '{\"S\": [34, {\"P\": [29, 33, 59]}, {\"P\": [66]}]}',\n '{\"S\": [35, {\"P\": [18, 28]}, {\"P\": [64]}]}',\n '{\"S\": [36, {\"P\": [1, 17, 60]}, {\"P\": [61]}]}',\n '{\"S\": [37, {\"P\": [2]}]}',\n '{\"S\": [38, {\"P\": [3]}]}',\n '{\"S\": [39, {\"P\": [5]}]}',\n '{\"S\": [40, {\"P\": [6]}]}',\n '{\"S\": [41, {\"P\": [9]}]}',\n '{\"S\": [42, {\"P\": [10]}]}',\n '{\"S\": [43, {\"P\": [11]}]}',\n '{\"S\": [44, {\"P\": [12]}]}',\n '{\"S\": [45, {\"P\": [13]}]}',\n '{\"S\": [46, {\"P\": [14]}]}',\n '{\"S\": [47, {\"P\": [15]}]}',\n '{\"S\": [48, {\"P\": [16]}]}',\n '{\"S\": [49, {\"P\": [16]}]}',\n '{\"S\": [50, {\"P\": [22]}]}',\n '{\"S\": [51, {\"P\": [23]}]}',\n '{\"S\": [52, {\"P\": [24]}]}',\n '{\"S\": [53, {\"P\": [25]}]}',\n '{\"S\": [54, {\"P\": [26]}]}',\n '{\"S\": [55, {\"P\": [30]}]}',\n '{\"S\": [56, {\"P\": [31]}]}',\n '{\"S\": [57, {\"P\": [32]}]}',\n '{\"S\": [58, {\"P\": [33]}]}',\n '{\"S\": [59, {\"P\": [34]}]}',\n '{\"S\": [60, {\"P\": [36]}]}',\n '{\"C\": [1, 36, 17, 16, 3, 2]}',\n '{\"C\": [5, 6, 7, 14, 15, 4]}',\n '{\"C\": [9, 10, 11, 12, 13, 8]}',\n '{\"C\": [19, 20, 27, 28, 35, 18]}',\n '{\"C\": [22, 23, 24, 25, 26, 21]}',\n '{\"C\": [30, 31, 32, 33, 34, 29]}']"
     },
     "metadata": {},
     "output_type": "display_data"
    }
   ],
   "source": [
    "display(data.ptree)"
   ],
   "metadata": {
    "collapsed": false,
    "ExecuteTime": {
     "start_time": "2024-04-01T16:54:13.056823Z",
     "end_time": "2024-04-01T16:54:13.089823Z"
    }
   }
  },
  {
   "cell_type": "markdown",
   "source": [
    "## Edge graph"
   ],
   "metadata": {
    "collapsed": false
   }
  },
  {
   "cell_type": "code",
   "execution_count": 2,
   "outputs": [],
   "source": [
    "df = pd.read_pickle(\"src/rs/raw/train.pickle\")"
   ],
   "metadata": {
    "collapsed": false,
    "ExecuteTime": {
     "start_time": "2024-04-01T16:56:06.217582Z",
     "end_time": "2024-04-01T16:56:11.868628Z"
    }
   }
  },
  {
   "cell_type": "code",
   "execution_count": 3,
   "outputs": [
    {
     "data": {
      "text/plain": "                                                       ID  \\\n0       BrC1=C[C@@H](c2ccc(-c3ccccc3)cc2)CC(c2nc(-c3cc...   \n1       BrC1=C[C@@H](c2ccc(-c3ccccc3)cc2)CC(c2nc(-c3cc...   \n2       BrC1=C[C@@H](c2ccc(-c3ccccc3)cc2)CC(c2nc(-c3cc...   \n3       BrC1=C[C@@H](c2ccc(-c3ccccc3)cc2)CC(c2nc(-c3cc...   \n4       BrC1=C[C@@H](c2ccc(-c3ccccc3)cc2)CC(c2nc(-c3cc...   \n...                                                   ...   \n326860                         c1nnc([C@H]2CNCCO2)n1C1CC1   \n326861                         c1nnc([C@H]2CNCCO2)n1C1CC1   \n326862                         c1nnc([C@H]2CNCCO2)n1C1CC1   \n326863                         c1nnc([C@H]2CNCCO2)n1C1CC1   \n326864                         c1nnc([C@H]2CNCCO2)n1C1CC1   \n\n                                          SMILES_nostereo  \\\n0       BrC1=CC(c2ccc(-c3ccccc3)cc2)CC(c2nc(-c3ccccc3)...   \n1       BrC1=CC(c2ccc(-c3ccccc3)cc2)CC(c2nc(-c3ccccc3)...   \n2       BrC1=CC(c2ccc(-c3ccccc3)cc2)CC(c2nc(-c3ccccc3)...   \n3       BrC1=CC(c2ccc(-c3ccccc3)cc2)CC(c2nc(-c3ccccc3)...   \n4       BrC1=CC(c2ccc(-c3ccccc3)cc2)CC(c2nc(-c3ccccc3)...   \n...                                                   ...   \n326860                             c1nnc(C2CNCCO2)n1C1CC1   \n326861                             c1nnc(C2CNCCO2)n1C1CC1   \n326862                             c1nnc(C2CNCCO2)n1C1CC1   \n326863                             c1nnc(C2CNCCO2)n1C1CC1   \n326864                             c1nnc(C2CNCCO2)n1C1CC1   \n\n                                rdkit_mol_cistrans_stereo RS_label  \\\n0       <rdkit.Chem.rdchem.Mol object at 0x000002E3230...        S   \n1       <rdkit.Chem.rdchem.Mol object at 0x000002E3230...        S   \n2       <rdkit.Chem.rdchem.Mol object at 0x000002E3230...        S   \n3       <rdkit.Chem.rdchem.Mol object at 0x000002E3230...        S   \n4       <rdkit.Chem.rdchem.Mol object at 0x000002E3230...        S   \n...                                                   ...      ...   \n326860  <rdkit.Chem.rdchem.Mol object at 0x000002E4189...        R   \n326861  <rdkit.Chem.rdchem.Mol object at 0x000002E4189...        R   \n326862  <rdkit.Chem.rdchem.Mol object at 0x000002E4189...        R   \n326863  <rdkit.Chem.rdchem.Mol object at 0x000002E4189...        R   \n326864  <rdkit.Chem.rdchem.Mol object at 0x000002E4189...        R   \n\n        RS_label_binary  \n0                     1  \n1                     1  \n2                     1  \n3                     1  \n4                     1  \n...                 ...  \n326860                0  \n326861                0  \n326862                0  \n326863                0  \n326864                0  \n\n[326865 rows x 5 columns]",
      "text/html": "<div>\n<style scoped>\n    .dataframe tbody tr th:only-of-type {\n        vertical-align: middle;\n    }\n\n    .dataframe tbody tr th {\n        vertical-align: top;\n    }\n\n    .dataframe thead th {\n        text-align: right;\n    }\n</style>\n<table border=\"1\" class=\"dataframe\">\n  <thead>\n    <tr style=\"text-align: right;\">\n      <th></th>\n      <th>ID</th>\n      <th>SMILES_nostereo</th>\n      <th>rdkit_mol_cistrans_stereo</th>\n      <th>RS_label</th>\n      <th>RS_label_binary</th>\n    </tr>\n  </thead>\n  <tbody>\n    <tr>\n      <th>0</th>\n      <td>BrC1=C[C@@H](c2ccc(-c3ccccc3)cc2)CC(c2nc(-c3cc...</td>\n      <td>BrC1=CC(c2ccc(-c3ccccc3)cc2)CC(c2nc(-c3ccccc3)...</td>\n      <td>&lt;rdkit.Chem.rdchem.Mol object at 0x000002E3230...</td>\n      <td>S</td>\n      <td>1</td>\n    </tr>\n    <tr>\n      <th>1</th>\n      <td>BrC1=C[C@@H](c2ccc(-c3ccccc3)cc2)CC(c2nc(-c3cc...</td>\n      <td>BrC1=CC(c2ccc(-c3ccccc3)cc2)CC(c2nc(-c3ccccc3)...</td>\n      <td>&lt;rdkit.Chem.rdchem.Mol object at 0x000002E3230...</td>\n      <td>S</td>\n      <td>1</td>\n    </tr>\n    <tr>\n      <th>2</th>\n      <td>BrC1=C[C@@H](c2ccc(-c3ccccc3)cc2)CC(c2nc(-c3cc...</td>\n      <td>BrC1=CC(c2ccc(-c3ccccc3)cc2)CC(c2nc(-c3ccccc3)...</td>\n      <td>&lt;rdkit.Chem.rdchem.Mol object at 0x000002E3230...</td>\n      <td>S</td>\n      <td>1</td>\n    </tr>\n    <tr>\n      <th>3</th>\n      <td>BrC1=C[C@@H](c2ccc(-c3ccccc3)cc2)CC(c2nc(-c3cc...</td>\n      <td>BrC1=CC(c2ccc(-c3ccccc3)cc2)CC(c2nc(-c3ccccc3)...</td>\n      <td>&lt;rdkit.Chem.rdchem.Mol object at 0x000002E3230...</td>\n      <td>S</td>\n      <td>1</td>\n    </tr>\n    <tr>\n      <th>4</th>\n      <td>BrC1=C[C@@H](c2ccc(-c3ccccc3)cc2)CC(c2nc(-c3cc...</td>\n      <td>BrC1=CC(c2ccc(-c3ccccc3)cc2)CC(c2nc(-c3ccccc3)...</td>\n      <td>&lt;rdkit.Chem.rdchem.Mol object at 0x000002E3230...</td>\n      <td>S</td>\n      <td>1</td>\n    </tr>\n    <tr>\n      <th>...</th>\n      <td>...</td>\n      <td>...</td>\n      <td>...</td>\n      <td>...</td>\n      <td>...</td>\n    </tr>\n    <tr>\n      <th>326860</th>\n      <td>c1nnc([C@H]2CNCCO2)n1C1CC1</td>\n      <td>c1nnc(C2CNCCO2)n1C1CC1</td>\n      <td>&lt;rdkit.Chem.rdchem.Mol object at 0x000002E4189...</td>\n      <td>R</td>\n      <td>0</td>\n    </tr>\n    <tr>\n      <th>326861</th>\n      <td>c1nnc([C@H]2CNCCO2)n1C1CC1</td>\n      <td>c1nnc(C2CNCCO2)n1C1CC1</td>\n      <td>&lt;rdkit.Chem.rdchem.Mol object at 0x000002E4189...</td>\n      <td>R</td>\n      <td>0</td>\n    </tr>\n    <tr>\n      <th>326862</th>\n      <td>c1nnc([C@H]2CNCCO2)n1C1CC1</td>\n      <td>c1nnc(C2CNCCO2)n1C1CC1</td>\n      <td>&lt;rdkit.Chem.rdchem.Mol object at 0x000002E4189...</td>\n      <td>R</td>\n      <td>0</td>\n    </tr>\n    <tr>\n      <th>326863</th>\n      <td>c1nnc([C@H]2CNCCO2)n1C1CC1</td>\n      <td>c1nnc(C2CNCCO2)n1C1CC1</td>\n      <td>&lt;rdkit.Chem.rdchem.Mol object at 0x000002E4189...</td>\n      <td>R</td>\n      <td>0</td>\n    </tr>\n    <tr>\n      <th>326864</th>\n      <td>c1nnc([C@H]2CNCCO2)n1C1CC1</td>\n      <td>c1nnc(C2CNCCO2)n1C1CC1</td>\n      <td>&lt;rdkit.Chem.rdchem.Mol object at 0x000002E4189...</td>\n      <td>R</td>\n      <td>0</td>\n    </tr>\n  </tbody>\n</table>\n<p>326865 rows × 5 columns</p>\n</div>"
     },
     "metadata": {},
     "output_type": "display_data"
    }
   ],
   "source": [
    "display(df)"
   ],
   "metadata": {
    "collapsed": false,
    "ExecuteTime": {
     "start_time": "2024-04-01T16:56:11.871628Z",
     "end_time": "2024-04-01T16:56:11.884662Z"
    }
   }
  },
  {
   "cell_type": "code",
   "execution_count": 4,
   "outputs": [
    {
     "data": {
      "text/plain": "<rdkit.Chem.rdchem.Mol at 0x2e322886c10>",
      "image/png": "[encoded data removed]"
     },
     "metadata": {},
     "output_type": "display_data"
    }
   ],
   "source": [
    "# mol_example = df.rdkit_mol_cistrans_stereo.iloc[6]# 0\n",
    "mol_example = smiles_to_3d_mol(\n",
    "    df.ID.iloc[0],\n",
    "    max_number_of_attempts=100,\n",
    "    max_number_of_atoms=100\n",
    ")\n",
    "display(mol_example)"
   ],
   "metadata": {
    "collapsed": false,
    "ExecuteTime": {
     "start_time": "2024-04-01T16:56:11.885662Z",
     "end_time": "2024-04-01T16:56:12.005691Z"
    }
   }
  },
  {
   "cell_type": "code",
   "execution_count": 30,
   "outputs": [
    {
     "data": {
      "text/plain": "Data(x=[132, 118], edge_index=[2, 348], edge_attr=[348, 80], pos=[132, 6], parallel_node_index=[132], circle_index=[132], ptree=[132], initial_map=[480], layer0_order_matrix=[1], layer0_type_mask=[1], layer0_pooling=[1], num_layer=2, layer1_order_matrix=[1], layer1_type_mask=[1], layer1_pooling=[1])"
     },
     "metadata": {},
     "output_type": "display_data"
    }
   ],
   "source": [
    "data = get_chiro_data_from_mol(mol_example)\n",
    "data = edge_graph_transform(\n",
    "    data,\n",
    "    mol=mol_example,\n",
    "    transformation_mode=\"permutation_tree\",\n",
    "    transformation_parameters={'k': 3}\n",
    ")\n",
    "display(data)"
   ],
   "metadata": {
    "collapsed": false,
    "ExecuteTime": {
     "start_time": "2024-04-01T15:10:31.494070Z",
     "end_time": "2024-04-01T15:10:31.554587Z"
    }
   }
  },
  {
   "cell_type": "markdown",
   "source": [
    "## Plan:\n",
    "- ring gets extra node with tree (c or z) connecting members of ring\n",
    "- interconnect such nodes which share nodes? include in c/z at position? (probably not a good idea) or use separate c/z to display surrounding cycles\n",
    "- include extra nodes in tree of participating nodes (extra position 4 in S ?)\n",
    "- or: remove edges between nodes of cycle, i.e. tree modification, may be bad for chirality"
   ],
   "metadata": {
    "collapsed": false
   }
  },
  {
   "cell_type": "code",
   "execution_count": 32,
   "outputs": [
    {
     "data": {
      "text/plain": "[(1, 36, 17, 16, 3, 2),\n (5, 6, 7, 14, 15, 4),\n (9, 10, 11, 12, 13, 8),\n (19, 20, 27, 28, 35, 18),\n (22, 23, 24, 25, 26, 21),\n (30, 31, 32, 33, 34, 29)]"
     },
     "execution_count": 32,
     "metadata": {},
     "output_type": "execute_result"
    }
   ],
   "source": [
    "# getting rings\n",
    "atom_rings = list(mol_example.GetRingInfo().AtomRings())\n",
    "atom_rings"
   ],
   "metadata": {
    "collapsed": false,
    "ExecuteTime": {
     "start_time": "2024-04-01T15:11:20.983586Z",
     "end_time": "2024-04-01T15:11:20.996585Z"
    }
   }
  },
  {
   "cell_type": "code",
   "execution_count": 33,
   "outputs": [],
   "source": [
    "offset = data.x.shape[0]"
   ],
   "metadata": {
    "collapsed": false,
    "ExecuteTime": {
     "start_time": "2024-04-01T15:11:23.410035Z",
     "end_time": "2024-04-01T15:11:23.430033Z"
    }
   }
  },
  {
   "cell_type": "code",
   "execution_count": 40,
   "outputs": [
    {
     "data": {
      "text/plain": "[(1, 2), (2, 3), (3, 1)]"
     },
     "execution_count": 40,
     "metadata": {},
     "output_type": "execute_result"
    }
   ],
   "source": [
    "list(zip([1,2,3], [1,2,3][1:] + [1,2,3][:1]))"
   ],
   "metadata": {
    "collapsed": false,
    "ExecuteTime": {
     "start_time": "2024-04-01T15:36:16.312422Z",
     "end_time": "2024-04-01T15:36:16.324556Z"
    }
   }
  },
  {
   "cell_type": "code",
   "execution_count": 22,
   "outputs": [],
   "source": [
    "for idx, ring in enumerate(atom_rings):\n",
    "    # convert ring into edge ring\n",
    "    edge_ring = list(zip(\n",
    "        ring,\n",
    "        ring[1:] + ring[:1]\n",
    "    ))\n",
    "    edge_idx_ring_a = [\n",
    "        node_mapping[(a,b)]\n",
    "        for a,b in edge_ring\n",
    "        if (a,b) in node_mapping\n",
    "    ]\n",
    "    edge_idx_ring_b = [\n",
    "        node_mapping[(b,a)]\n",
    "        for a,b in edge_ring\n",
    "        if (b,a) in node_mapping\n",
    "    ]\n",
    "\n",
    "    # prepare tree\n",
    "    # todo: adapt to edge graph\n",
    "    if len(edge_idx_ring_a) and len(edge_idx_ring_b):\n",
    "        ptree_ring = {\n",
    "            \"P\": [{\n",
    "                \"C\": [\n",
    "                    list(edge_idx_ring_a)\n",
    "                ]\n",
    "            }, {\n",
    "                \"C\": [\n",
    "                    list(edge_idx_ring_b)\n",
    "                ]\n",
    "            }]\n",
    "        }\n",
    "    elif len(edge_idx_ring_a):\n",
    "        ptree_ring = {\n",
    "            \"C\": [\n",
    "                edge_idx_ring_a\n",
    "            ]\n",
    "        }\n",
    "    elif len(edge_idx_ring_b):\n",
    "        ptree_ring = {\n",
    "            \"C\": [\n",
    "                edge_idx_ring_b\n",
    "            ]\n",
    "        }\n",
    "    else:\n",
    "        continue\n",
    "\n",
    "    # add node\n",
    "    data.x = torch.cat([\n",
    "        data.x,\n",
    "        torch.zeros(1, data.x.shape[1])\n",
    "    ], dim=0)\n",
    "\n",
    "    ptree_neighbor_rings = []\n",
    "\n",
    "    # check with connection to other trees\n",
    "    for o_idx, other_rings in enumerate(atom_rings):\n",
    "        if idx == o_idx:\n",
    "            continue\n",
    "\n",
    "        # check if connected\n",
    "        intersection = list(set(ring) & set(other_rings))\n",
    "\n",
    "        if len(intersection):\n",
    "            ptree_neighbor_rings.append(offset + o_idx)\n",
    "\n",
    "    if len(ptree_neighbor_rings):\n",
    "        data.ptree.append(json.dumps({\n",
    "            \"S\": [\n",
    "                ptree_ring,\n",
    "                {\n",
    "                    \"P\": ptree_neighbor_rings\n",
    "                }\n",
    "            ]\n",
    "        }))\n",
    "    else:\n",
    "        data.ptree.append(json.dumps(ptree_ring))"
   ],
   "metadata": {
    "collapsed": false
   }
  },
  {
   "cell_type": "code",
   "execution_count": null,
   "outputs": [],
   "source": [
    "reverse_dict = dict(zip(node_mapping.values(), node_mapping.keys()))"
   ],
   "metadata": {
    "collapsed": false
   }
  },
  {
   "cell_type": "code",
   "execution_count": 25,
   "outputs": [],
   "source": [
    "for i in range(offset):\n",
    "    source, target = reverse_dict[i]\n",
    "\n",
    "    temp_tree = json.loads(data.ptree[i])\n",
    "    # todo: adapt for edge graph\n",
    "    if \"S\" in temp_tree:\n",
    "        # get rings it is in\n",
    "        in_rings = [\n",
    "            offset + idx\n",
    "            for idx, r in enumerate(atom_rings)\n",
    "            if source in r and target in r\n",
    "        ]\n",
    "\n",
    "        if len(in_rings):\n",
    "            temp_tree[\"S\"].append({\n",
    "                \"P\": in_rings\n",
    "            })\n",
    "    data.ptree[i] = json.dumps(temp_tree)"
   ],
   "metadata": {
    "collapsed": false
   }
  },
  {
   "cell_type": "code",
   "execution_count": 26,
   "outputs": [
    {
     "data": {
      "text/plain": "Data(x=[69, 52], edge_index=[2, 132], edge_attr=[132, 14], pos=[61, 3], bond_distances=[66], bond_distance_index=[2, 66], bond_angles=[108], bond_angle_index=[3, 108], dihedral_angles=[163], dihedral_angle_index=[4, 163], ptree=[69], initial_map=[209], layer0_order_matrix=[1], layer0_type_mask=[1], layer0_pooling=[1], num_layer=3, layer1_order_matrix=[1], layer1_type_mask=[1], layer1_pooling=[1], layer2_order_matrix=[1], layer2_type_mask=[1], layer2_pooling=[1])"
     },
     "metadata": {},
     "output_type": "display_data"
    },
    {
     "data": {
      "text/plain": "['{\"S\": [0, {\"P\": [1]}]}',\n '{\"S\": [1, {\"P\": [0, 2, 36]}, {\"P\": [61]}]}',\n '{\"S\": [2, {\"P\": [1, 3, 37]}, {\"P\": [61]}]}',\n '{\"S\": [3, {\"P\": [{\"Z\": [4, 16, 38]}, {\"Z\": [2, 38, 16]}, {\"Z\": [2, 4, 38]}, {\"Z\": [2, 16, 4]}]}, {\"P\": [61]}]}',\n '{\"S\": [4, {\"P\": [3, 5, 15]}, {\"P\": [62]}]}',\n '{\"S\": [5, {\"P\": [4, 6, 39]}, {\"P\": [62]}]}',\n '{\"S\": [6, {\"P\": [5, 7, 40]}, {\"P\": [62]}]}',\n '{\"S\": [7, {\"P\": [6, 8, 14]}, {\"P\": [62]}]}',\n '{\"S\": [8, {\"P\": [7, 9, 13]}, {\"P\": [63]}]}',\n '{\"S\": [9, {\"P\": [8, 10, 41]}, {\"P\": [63]}]}',\n '{\"S\": [10, {\"P\": [9, 11, 42]}, {\"P\": [63]}]}',\n '{\"S\": [11, {\"P\": [10, 12, 43]}, {\"P\": [63]}]}',\n '{\"S\": [12, {\"P\": [11, 13, 44]}, {\"P\": [63]}]}',\n '{\"S\": [13, {\"P\": [8, 12, 45]}, {\"P\": [63]}]}',\n '{\"S\": [14, {\"P\": [7, 15, 46]}, {\"P\": [62]}]}',\n '{\"S\": [15, {\"P\": [4, 14, 47]}, {\"P\": [62]}]}',\n '{\"S\": [16, {\"P\": [{\"Z\": [17, 48, 49]}, {\"Z\": [3, 49, 48]}, {\"Z\": [3, 17, 49]}, {\"Z\": [3, 48, 17]}]}, {\"P\": [61]}]}',\n '{\"S\": [17, {\"P\": [16, 18, 36]}, {\"P\": [61]}]}',\n '{\"S\": [18, {\"P\": [17, 19, 35]}, {\"P\": [64]}]}',\n '{\"S\": [19, {\"P\": [18, 20]}, {\"P\": [64]}]}',\n '{\"S\": [20, {\"P\": [19, 21, 27]}, {\"P\": [64]}]}',\n '{\"S\": [21, {\"P\": [20, 22, 26]}, {\"P\": [65]}]}',\n '{\"S\": [22, {\"P\": [21, 23, 50]}, {\"P\": [65]}]}',\n '{\"S\": [23, {\"P\": [22, 24, 51]}, {\"P\": [65]}]}',\n '{\"S\": [24, {\"P\": [23, 25, 52]}, {\"P\": [65]}]}',\n '{\"S\": [25, {\"P\": [24, 26, 53]}, {\"P\": [65]}]}',\n '{\"S\": [26, {\"P\": [21, 25, 54]}, {\"P\": [65]}]}',\n '{\"S\": [27, {\"P\": [20, 28]}, {\"P\": [64]}]}',\n '{\"S\": [28, {\"P\": [27, 29, 35]}, {\"P\": [64]}]}',\n '{\"S\": [29, {\"P\": [28, 30, 34]}, {\"P\": [66]}]}',\n '{\"S\": [30, {\"P\": [29, 31, 55]}, {\"P\": [66]}]}',\n '{\"S\": [31, {\"P\": [30, 32, 56]}, {\"P\": [66]}]}',\n '{\"S\": [32, {\"P\": [31, 33, 57]}, {\"P\": [66]}]}',\n '{\"S\": [33, {\"P\": [32, 34, 58]}, {\"P\": [66]}]}',\n '{\"S\": [34, {\"P\": [29, 33, 59]}, {\"P\": [66]}]}',\n '{\"S\": [35, {\"P\": [18, 28]}, {\"P\": [64]}]}',\n '{\"S\": [36, {\"P\": [1, 17, 60]}, {\"P\": [61]}]}',\n '{\"S\": [37, {\"P\": [2]}]}',\n '{\"S\": [38, {\"P\": [3]}]}',\n '{\"S\": [39, {\"P\": [5]}]}',\n '{\"S\": [40, {\"P\": [6]}]}',\n '{\"S\": [41, {\"P\": [9]}]}',\n '{\"S\": [42, {\"P\": [10]}]}',\n '{\"S\": [43, {\"P\": [11]}]}',\n '{\"S\": [44, {\"P\": [12]}]}',\n '{\"S\": [45, {\"P\": [13]}]}',\n '{\"S\": [46, {\"P\": [14]}]}',\n '{\"S\": [47, {\"P\": [15]}]}',\n '{\"S\": [48, {\"P\": [16]}]}',\n '{\"S\": [49, {\"P\": [16]}]}',\n '{\"S\": [50, {\"P\": [22]}]}',\n '{\"S\": [51, {\"P\": [23]}]}',\n '{\"S\": [52, {\"P\": [24]}]}',\n '{\"S\": [53, {\"P\": [25]}]}',\n '{\"S\": [54, {\"P\": [26]}]}',\n '{\"S\": [55, {\"P\": [30]}]}',\n '{\"S\": [56, {\"P\": [31]}]}',\n '{\"S\": [57, {\"P\": [32]}]}',\n '{\"S\": [58, {\"P\": [33]}]}',\n '{\"S\": [59, {\"P\": [34]}]}',\n '{\"S\": [60, {\"P\": [36]}]}',\n '{\"C\": [[1, 36, 17, 16, 3, 2]]}',\n '{\"C\": [[1, 36, 17, 16, 3, 2]]}',\n '{\"C\": [[1, 36, 17, 16, 3, 2]]}',\n '{\"C\": [[5, 6, 7, 14, 15, 4]]}',\n '{\"C\": [[9, 10, 11, 12, 13, 8]]}',\n '{\"C\": [[19, 20, 27, 28, 35, 18]]}',\n '{\"C\": [[22, 23, 24, 25, 26, 21]]}',\n '{\"C\": [[30, 31, 32, 33, 34, 29]]}']"
     },
     "metadata": {},
     "output_type": "display_data"
    }
   ],
   "source": [
    "display(data, data.ptree)"
   ],
   "metadata": {
    "collapsed": false
   }
  },
  {
   "cell_type": "code",
   "execution_count": 23,
   "outputs": [
    {
     "data": {
      "text/plain": "True"
     },
     "execution_count": 23,
     "metadata": {},
     "output_type": "execute_result"
    }
   ],
   "source": [
    "'S' in json.loads(data.ptree[0])"
   ],
   "metadata": {
    "collapsed": false
   }
  },
  {
   "cell_type": "code",
   "execution_count": 7,
   "outputs": [
    {
     "data": {
      "text/plain": "Data(x=[329, 118], edge_index=[2, 348], edge_attr=[348, 80], pos=[132, 6], parallel_node_index=[132], circle_index=[132], ptree=[329], initial_map=[887], layer0_order_matrix=[1], layer0_type_mask=[1], layer0_pooling=[1], num_layer=2, layer1_order_matrix=[1], layer1_type_mask=[1], layer1_pooling=[1])"
     },
     "metadata": {},
     "output_type": "display_data"
    }
   ],
   "source": [
    "data = get_chiro_data_from_mol(mol_example)\n",
    "data = edge_graph_transform(\n",
    "    data,\n",
    "    mol=mol_example,\n",
    "    transformation_mode=\"permutation_tree\",\n",
    "    transformation_parameters={\n",
    "        'k': 3,\n",
    "        'add_cyclic_trees': True,\n",
    "        'separate_tree': True\n",
    "    }\n",
    ")\n",
    "display(data)"
   ],
   "metadata": {
    "collapsed": false,
    "ExecuteTime": {
     "start_time": "2024-04-01T16:57:54.008890Z",
     "end_time": "2024-04-01T16:57:54.099184Z"
    }
   }
  },
  {
   "cell_type": "code",
   "execution_count": 8,
   "outputs": [
    {
     "data": {
      "text/plain": "['{\"S\": [0, 1]}',\n '{\"S\": [1, 0, 138]}',\n '{\"S\": [2, 3, 139, 140]}',\n '{\"S\": [3, 2, 141, 142]}',\n '{\"S\": [4, 5, 143, 144]}',\n '{\"S\": [5, 4, 145, 146]}',\n '{\"S\": [6, 7, 147, 148]}',\n '{\"S\": [7, 6, 149, 150]}',\n '{\"S\": [8, 9, 151]}',\n '{\"S\": [9, 8]}',\n '{\"S\": [10, 11, 152]}',\n '{\"S\": [11, 10, 153]}',\n '{\"S\": [12, 13, 154, 155]}',\n '{\"S\": [13, 12, 156, 157]}',\n '{\"S\": [14, 15, 158]}',\n '{\"S\": [15, 14]}',\n '{\"S\": [16, 17, 159, 160]}',\n '{\"S\": [17, 16, 161, 162]}',\n '{\"S\": [18, 19, 163, 164]}',\n '{\"S\": [19, 18, 165, 166]}',\n '{\"S\": [20, 21, 167, 168]}',\n '{\"S\": [21, 20, 169, 170]}',\n '{\"S\": [22, 23, 171]}',\n '{\"S\": [23, 22]}',\n '{\"S\": [24, 25, 172, 173]}',\n '{\"S\": [25, 24, 174, 175]}',\n '{\"S\": [26, 27, 176]}',\n '{\"S\": [27, 26]}',\n '{\"S\": [28, 29, 177]}',\n '{\"S\": [29, 28, 178]}',\n '{\"S\": [30, 31, 179, 180]}',\n '{\"S\": [31, 30, 181, 182]}',\n '{\"S\": [32, 33, 183, 184]}',\n '{\"S\": [33, 32, 185, 186]}',\n '{\"S\": [34, 35, 187, 188]}',\n '{\"S\": [35, 34, 189, 190]}',\n '{\"S\": [36, 37, 191, 192]}',\n '{\"S\": [37, 36, 193, 194]}',\n '{\"S\": [38, 39, 195]}',\n '{\"S\": [39, 38]}',\n '{\"S\": [40, 41, 196, 197]}',\n '{\"S\": [41, 40, 198, 199]}',\n '{\"S\": [42, 43, 200]}',\n '{\"S\": [43, 42]}',\n '{\"S\": [44, 45, 201, 202]}',\n '{\"S\": [45, 44, 203, 204]}',\n '{\"S\": [46, 47, 205]}',\n '{\"S\": [47, 46]}',\n '{\"S\": [48, 49, 206, 207]}',\n '{\"S\": [49, 48, 208, 209]}',\n '{\"S\": [50, 51, 210]}',\n '{\"S\": [51, 50]}',\n '{\"S\": [52, 53, 211]}',\n '{\"S\": [53, 52]}',\n '{\"S\": [54, 55, 212, 213]}',\n '{\"S\": [55, 54, 214, 215]}',\n '{\"S\": [56, 57, 216]}',\n '{\"S\": [57, 56]}',\n '{\"S\": [58, 59, 217]}',\n '{\"S\": [59, 58]}',\n '{\"S\": [60, 61, 218, 219]}',\n '{\"S\": [61, 60, 220, 221]}',\n '{\"S\": [62, 63, 222]}',\n '{\"S\": [63, 62]}',\n '{\"S\": [64, 65, 223]}',\n '{\"S\": [65, 64]}',\n '{\"S\": [66, 67, 224]}',\n '{\"S\": [67, 66, 225]}',\n '{\"S\": [68, 69, 226, 227]}',\n '{\"S\": [69, 68, 228, 229]}',\n '{\"S\": [70, 71, 230, 231]}',\n '{\"S\": [71, 70, 232, 233]}',\n '{\"S\": [72, 73, 234, 235]}',\n '{\"S\": [73, 72, 236, 237]}',\n '{\"S\": [74, 75, 238, 239]}',\n '{\"S\": [75, 74, 240, 241]}',\n '{\"S\": [76, 77, 242]}',\n '{\"S\": [77, 76, 243]}',\n '{\"S\": [78, 79, 244, 245]}',\n '{\"S\": [79, 78, 246, 247]}',\n '{\"S\": [80, 81, 248, 249]}',\n '{\"S\": [81, 80, 250, 251]}',\n '{\"S\": [82, 83, 252, 253]}',\n '{\"S\": [83, 82, 254, 255]}',\n '{\"S\": [84, 85, 256, 257]}',\n '{\"S\": [85, 84, 258, 259]}',\n '{\"S\": [86, 87, 260]}',\n '{\"S\": [87, 86]}',\n '{\"S\": [88, 89, 261, 262]}',\n '{\"S\": [89, 88, 263, 264]}',\n '{\"S\": [90, 91, 265]}',\n '{\"S\": [91, 90]}',\n '{\"S\": [92, 93, 266, 267]}',\n '{\"S\": [93, 92, 268, 269]}',\n '{\"S\": [94, 95, 270]}',\n '{\"S\": [95, 94]}',\n '{\"S\": [96, 97, 271, 272]}',\n '{\"S\": [97, 96, 273, 274]}',\n '{\"S\": [98, 99, 275]}',\n '{\"S\": [99, 98]}',\n '{\"S\": [100, 101, 276]}',\n '{\"S\": [101, 100]}',\n '{\"S\": [102, 103, 277, 278]}',\n '{\"S\": [103, 102, 279, 280]}',\n '{\"S\": [104, 105, 281]}',\n '{\"S\": [105, 104, 282]}',\n '{\"S\": [106, 107, 283, 284]}',\n '{\"S\": [107, 106, 285, 286]}',\n '{\"S\": [108, 109, 287, 288]}',\n '{\"S\": [109, 108, 289, 290]}',\n '{\"S\": [110, 111, 291, 292]}',\n '{\"S\": [111, 110, 293, 294]}',\n '{\"S\": [112, 113, 295, 296]}',\n '{\"S\": [113, 112, 297, 298]}',\n '{\"S\": [114, 115, 299]}',\n '{\"S\": [115, 114]}',\n '{\"S\": [116, 117, 300, 301]}',\n '{\"S\": [117, 116, 302, 303]}',\n '{\"S\": [118, 119, 304]}',\n '{\"S\": [119, 118]}',\n '{\"S\": [120, 121, 305, 306]}',\n '{\"S\": [121, 120, 307, 308]}',\n '{\"S\": [122, 123, 309]}',\n '{\"S\": [123, 122]}',\n '{\"S\": [124, 125, 310, 311]}',\n '{\"S\": [125, 124, 312, 313]}',\n '{\"S\": [126, 127, 314]}',\n '{\"S\": [127, 126]}',\n '{\"S\": [128, 129, 315]}',\n '{\"S\": [129, 128]}',\n '{\"S\": [130, 131, 316]}',\n '{\"S\": [131, 130]}',\n '{\"P\": [317, 318]}',\n '{\"P\": [319, 320]}',\n '{\"P\": [321, 322]}',\n '{\"P\": [323, 324]}',\n '{\"P\": [325, 326]}',\n '{\"P\": [327, 328]}',\n '{\"Z\": [3, 5]}',\n '{\"Z\": [0, 5]}',\n '{\"P\": [132]}',\n '{\"Z\": [7, 9]}',\n '{\"P\": [132]}',\n '{\"Z\": [0, 3]}',\n '{\"P\": [132]}',\n '{\"Z\": [68, 131]}',\n '{\"P\": [132]}',\n '{\"Z\": [2, 9]}',\n '{\"P\": [132]}',\n '{\"Z\": [11, 13, 15]}',\n '{\"P\": [132]}',\n '{\"Z\": [2, 7]}',\n '{\"Z\": [6, 15, 13]}',\n '{\"Z\": [17, 19]}',\n '{\"Z\": [6, 11, 15]}',\n '{\"P\": [132]}',\n '{\"Z\": [61, 63, 65]}',\n '{\"P\": [132]}',\n '{\"Z\": [6, 13, 11]}',\n '{\"Z\": [10, 19]}',\n '{\"P\": [133]}',\n '{\"Z\": [21, 23]}',\n '{\"P\": [133]}',\n '{\"Z\": [10, 17]}',\n '{\"P\": [133]}',\n '{\"Z\": [54, 59]}',\n '{\"P\": [133]}',\n '{\"Z\": [16, 23]}',\n '{\"P\": [133]}',\n '{\"Z\": [25, 27]}',\n '{\"P\": [133]}',\n '{\"Z\": [16, 21]}',\n '{\"Z\": [20, 27]}',\n '{\"P\": [133]}',\n '{\"Z\": [29, 31]}',\n '{\"P\": [133]}',\n '{\"Z\": [20, 25]}',\n '{\"Z\": [24, 31]}',\n '{\"Z\": [33, 35]}',\n '{\"Z\": [24, 29]}',\n '{\"P\": [133]}',\n '{\"Z\": [55, 57]}',\n '{\"P\": [133]}',\n '{\"Z\": [28, 35]}',\n '{\"P\": [134]}',\n '{\"Z\": [37, 39]}',\n '{\"P\": [134]}',\n '{\"Z\": [28, 33]}',\n '{\"P\": [134]}',\n '{\"Z\": [48, 53]}',\n '{\"P\": [134]}',\n '{\"Z\": [32, 39]}',\n '{\"P\": [134]}',\n '{\"Z\": [41, 43]}',\n '{\"P\": [134]}',\n '{\"Z\": [32, 37]}',\n '{\"Z\": [36, 43]}',\n '{\"P\": [134]}',\n '{\"Z\": [45, 47]}',\n '{\"P\": [134]}',\n '{\"Z\": [36, 41]}',\n '{\"Z\": [40, 47]}',\n '{\"P\": [134]}',\n '{\"Z\": [49, 51]}',\n '{\"P\": [134]}',\n '{\"Z\": [40, 45]}',\n '{\"Z\": [44, 51]}',\n '{\"P\": [134]}',\n '{\"Z\": [34, 53]}',\n '{\"P\": [134]}',\n '{\"Z\": [44, 49]}',\n '{\"Z\": [34, 48]}',\n '{\"Z\": [30, 57]}',\n '{\"P\": [133]}',\n '{\"Z\": [18, 59]}',\n '{\"P\": [133]}',\n '{\"Z\": [30, 55]}',\n '{\"Z\": [18, 54]}',\n '{\"Z\": [12, 65, 63]}',\n '{\"P\": [132]}',\n '{\"Z\": [67, 69]}',\n '{\"P\": [132]}',\n '{\"Z\": [12, 61, 65]}',\n '{\"Z\": [12, 63, 61]}',\n '{\"Z\": [60, 69]}',\n '{\"Z\": [71, 73]}',\n '{\"Z\": [60, 67]}',\n '{\"P\": [132]}',\n '{\"Z\": [4, 131]}',\n '{\"P\": [132]}',\n '{\"Z\": [66, 73]}',\n '{\"P\": [135]}',\n '{\"Z\": [75]}',\n '{\"P\": [135]}',\n '{\"Z\": [66, 71]}',\n '{\"P\": [135]}',\n '{\"Z\": [106]}',\n '{\"P\": [135]}',\n '{\"Z\": [70]}',\n '{\"P\": [135]}',\n '{\"Z\": [77, 79]}',\n '{\"P\": [135]}',\n '{\"Z\": [74, 79]}',\n '{\"Z\": [81, 83]}',\n '{\"Z\": [74, 77]}',\n '{\"P\": [135]}',\n '{\"Z\": [103]}',\n '{\"P\": [135]}',\n '{\"Z\": [76, 83]}',\n '{\"P\": [136]}',\n '{\"Z\": [85, 87]}',\n '{\"P\": [136]}',\n '{\"Z\": [76, 81]}',\n '{\"P\": [136]}',\n '{\"Z\": [96, 101]}',\n '{\"P\": [136]}',\n '{\"Z\": [80, 87]}',\n '{\"P\": [136]}',\n '{\"Z\": [89, 91]}',\n '{\"P\": [136]}',\n '{\"Z\": [80, 85]}',\n '{\"Z\": [84, 91]}',\n '{\"P\": [136]}',\n '{\"Z\": [93, 95]}',\n '{\"P\": [136]}',\n '{\"Z\": [84, 89]}',\n '{\"Z\": [88, 95]}',\n '{\"P\": [136]}',\n '{\"Z\": [97, 99]}',\n '{\"P\": [136]}',\n '{\"Z\": [88, 93]}',\n '{\"Z\": [92, 99]}',\n '{\"P\": [136]}',\n '{\"Z\": [82, 101]}',\n '{\"P\": [136]}',\n '{\"Z\": [92, 97]}',\n '{\"Z\": [82, 96]}',\n '{\"Z\": [78]}',\n '{\"P\": [135]}',\n '{\"Z\": [105, 107]}',\n '{\"P\": [135]}',\n '{\"Z\": [102, 107]}',\n '{\"Z\": [109, 111]}',\n '{\"Z\": [102, 105]}',\n '{\"P\": [135]}',\n '{\"Z\": [72]}',\n '{\"P\": [135]}',\n '{\"Z\": [104, 111]}',\n '{\"P\": [137]}',\n '{\"Z\": [113, 115]}',\n '{\"P\": [137]}',\n '{\"Z\": [104, 109]}',\n '{\"P\": [137]}',\n '{\"Z\": [124, 129]}',\n '{\"P\": [137]}',\n '{\"Z\": [108, 115]}',\n '{\"P\": [137]}',\n '{\"Z\": [117, 119]}',\n '{\"P\": [137]}',\n '{\"Z\": [108, 113]}',\n '{\"Z\": [112, 119]}',\n '{\"P\": [137]}',\n '{\"Z\": [121, 123]}',\n '{\"P\": [137]}',\n '{\"Z\": [112, 117]}',\n '{\"Z\": [116, 123]}',\n '{\"P\": [137]}',\n '{\"Z\": [125, 127]}',\n '{\"P\": [137]}',\n '{\"Z\": [116, 121]}',\n '{\"Z\": [120, 127]}',\n '{\"P\": [137]}',\n '{\"Z\": [110, 129]}',\n '{\"P\": [137]}',\n '{\"Z\": [120, 125]}',\n '{\"Z\": [110, 124]}',\n '{\"Z\": [4, 68]}',\n '{\"C\": [4, 69, 61, 13, 7, 3]}',\n '{\"C\": [5, 68, 60, 12, 6, 2]}',\n '{\"C\": [20, 24, 30, 54, 19, 16]}',\n '{\"C\": [21, 25, 31, 55, 18, 17]}',\n '{\"C\": [36, 40, 44, 48, 35, 32]}',\n '{\"C\": [37, 41, 45, 49, 34, 33]}',\n '{\"C\": [74, 78, 102, 106, 73, 70]}',\n '{\"C\": [75, 79, 103, 107, 72, 71]}',\n '{\"C\": [84, 88, 92, 96, 83, 80]}',\n '{\"C\": [85, 89, 93, 97, 82, 81]}',\n '{\"C\": [112, 116, 120, 124, 111, 108]}',\n '{\"C\": [113, 117, 121, 125, 110, 109]}']"
     },
     "execution_count": 8,
     "metadata": {},
     "output_type": "execute_result"
    }
   ],
   "source": [
    "data.ptree"
   ],
   "metadata": {
    "collapsed": false,
    "ExecuteTime": {
     "start_time": "2024-04-01T16:57:55.821179Z",
     "end_time": "2024-04-01T16:57:55.853178Z"
    }
   }
  },
  {
   "cell_type": "code",
   "execution_count": null,
   "outputs": [],
   "source": [],
   "metadata": {
    "collapsed": false
   }
  }
 ],
 "metadata": {
  "kernelspec": {
   "display_name": "Python 3",
   "language": "python",
   "name": "python3"
  },
  "language_info": {
   "codemirror_mode": {
    "name": "ipython",
    "version": 2
   },
   "file_extension": ".py",
   "mimetype": "text/x-python",
   "name": "python",
   "nbconvert_exporter": "python",
   "pygments_lexer": "ipython2",
   "version": "2.7.6"
  }
 },
 "nbformat": 4,
 "nbformat_minor": 0
}
