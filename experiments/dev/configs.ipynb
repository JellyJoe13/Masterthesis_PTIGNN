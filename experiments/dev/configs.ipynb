{
 "cells": [
  {
   "cell_type": "code",
   "execution_count": 1,
   "metadata": {
    "collapsed": true,
    "ExecuteTime": {
     "start_time": "2024-03-26T19:08:06.471646Z",
     "end_time": "2024-03-26T19:08:06.495645Z"
    }
   },
   "outputs": [],
   "source": [
    "from ptgnn.runtime_config.config import *"
   ]
  },
  {
   "cell_type": "markdown",
   "source": [
    "## Chienn"
   ],
   "metadata": {
    "collapsed": false
   }
  },
  {
   "cell_type": "code",
   "execution_count": 2,
   "outputs": [],
   "source": [
    "sample_config = {\n",
    "    'data' : {\n",
    "        'dataset' : {\n",
    "            'type' : \"rs\",\n",
    "            'mask_chiral_tags': True,\n",
    "        },\n",
    "        'loader': {\n",
    "            'general': {\n",
    "                'n_neighbors_in_circle': 3,\n",
    "                'batch_size': 32,\n",
    "                'num_workers': 0,\n",
    "                'precompute_pos_enc': ['RWSE']\n",
    "            },\n",
    "            'train': {},\n",
    "            'test': {},\n",
    "            'val': {}\n",
    "        }\n",
    "    },\n",
    "    'model': {\n",
    "        'mode': 'custom',\n",
    "        'hidden_dim': 128,\n",
    "        'out_dim': 1,\n",
    "        'modules': {\n",
    "            0: {\n",
    "                'type': 'graph_embedding',\n",
    "                'parameter': {\n",
    "                    'node_type': 'linear+RWSE',\n",
    "                    'edge_type': 'linear',\n",
    "                    'rwse_params': {\n",
    "                        'dim_pos_enc': 28,\n",
    "                        'norm_type': 'batchnorm'\n",
    "                    }\n",
    "                }\n",
    "            },\n",
    "            1: {\n",
    "                'type': 'gps_layer',\n",
    "                'parameter': {\n",
    "                    'local_model': 'chienn',\n",
    "                    'local_model_params': {}\n",
    "                },\n",
    "                'times': 5\n",
    "            }\n",
    "        },\n",
    "        'head': {\n",
    "            'type': 'san_head',\n",
    "            'n_layer': 3,\n",
    "            'pool_function': 'add',\n",
    "        }\n",
    "    },\n",
    "    'optimizer': {\n",
    "        'type': 'adam_w',\n",
    "        'base_learning_rate': 1e-3,\n",
    "        'weight_decay': 1e-5\n",
    "    },\n",
    "    'scheduler': {\n",
    "        'type': 'cosine_with_warmup',\n",
    "        'num_warmup_epochs': 10,\n",
    "        'max_epochs': 100,\n",
    "    },\n",
    "    'training': {\n",
    "        'n_max_epochs': 2,\n",
    "        'loss_function': \"cross_entropy\",\n",
    "        'clip_grad_norm': True,\n",
    "        'optimization_metric': 'accuracy',\n",
    "        'task_type': \"classification\",\n",
    "    }\n",
    "}"
   ],
   "metadata": {
    "collapsed": false,
    "ExecuteTime": {
     "start_time": "2024-03-26T19:08:06.490647Z",
     "end_time": "2024-03-26T19:08:06.510645Z"
    }
   }
  },
  {
   "cell_type": "code",
   "execution_count": 1,
   "outputs": [],
   "source": [
    "sample_config = {\n",
    "    'data' : {\n",
    "        'dataset' : {\n",
    "            'type' : \"rs\",\n",
    "            'mask_chiral_tags': True,\n",
    "        },\n",
    "        'loader': {\n",
    "            'general': {\n",
    "                'n_neighbors_in_circle': 3,\n",
    "                'batch_size': 32,\n",
    "                'num_workers': 0,\n",
    "            },\n",
    "            'train': {},\n",
    "            'test': {},\n",
    "            'val': {}\n",
    "        }\n",
    "    },\n",
    "    'model': {\n",
    "        'mode': 'custom',\n",
    "        'hidden_dim': 128,\n",
    "        'out_dim': 1,\n",
    "        'modules': {\n",
    "            0: {\n",
    "                'type': 'graph_embedding',\n",
    "                'parameter': {\n",
    "                    'node_type': 'linear',\n",
    "                    'edge_type': 'linear',\n",
    "                }\n",
    "            },\n",
    "            1: {\n",
    "                'type': 'gps_layer',\n",
    "                'parameter': {\n",
    "                    'local_model': 'chienn',\n",
    "                    'local_model_params': {}\n",
    "                },\n",
    "                'times': 5\n",
    "            }\n",
    "        },\n",
    "        'head': {\n",
    "            'type': 'san_head',\n",
    "            'n_layer': 3,\n",
    "            'pool_function': 'add',\n",
    "        }\n",
    "    },\n",
    "    'optimizer': {\n",
    "        'type': 'adam_w',\n",
    "        'base_learning_rate': 1e-3,\n",
    "        'weight_decay': 1e-5\n",
    "    },\n",
    "    'scheduler': {\n",
    "        'type': 'cosine_with_warmup',\n",
    "        'num_warmup_epochs': 10,\n",
    "        'max_epochs': 100,\n",
    "    },\n",
    "    'training': {\n",
    "        'n_max_epochs': 2,\n",
    "        'loss_function': \"cross_entropy\",\n",
    "        'clip_grad_norm': True,\n",
    "        'optimization_metric': 'accuracy',\n",
    "        'task_type': \"classification\",\n",
    "    }\n",
    "}"
   ],
   "metadata": {
    "collapsed": false
   }
  },
  {
   "cell_type": "code",
   "execution_count": 2,
   "outputs": [],
   "source": [
    "from ptgnn.runtime_config.run_config import run_config"
   ],
   "metadata": {
    "collapsed": false,
    "ExecuteTime": {
     "start_time": "2024-03-22T20:49:53.797151Z",
     "end_time": "2024-03-22T20:49:57.428242Z"
    }
   }
  },
  {
   "cell_type": "markdown",
   "source": [
    "With chiral masking 0.5 on basic linear model without masking 100%"
   ],
   "metadata": {
    "collapsed": false
   }
  },
  {
   "cell_type": "code",
   "execution_count": 3,
   "outputs": [
    {
     "name": "stderr",
     "output_type": "stream",
     "text": [
      "generating positional encoding(s): 100%|██████████| 55068/55068 [05:09<00:00, 177.78it/s]\n",
      "generating positional encoding(s): 100%|██████████| 11740/11740 [01:06<00:00, 176.98it/s]\n",
      "generating positional encoding(s): 100%|██████████| 11676/11676 [01:05<00:00, 179.16it/s]\n",
      "  8%|▊         | 137/1721 [00:53<10:19,  2.56it/s] \n"
     ]
    },
    {
     "ename": "KeyboardInterrupt",
     "evalue": "",
     "output_type": "error",
     "traceback": [
      "\u001B[1;31m---------------------------------------------------------------------------\u001B[0m",
      "\u001B[1;31mKeyboardInterrupt\u001B[0m                         Traceback (most recent call last)",
      "Cell \u001B[1;32mIn[3], line 1\u001B[0m\n\u001B[1;32m----> 1\u001B[0m \u001B[43mrun_config\u001B[49m\u001B[43m(\u001B[49m\u001B[43msample_config\u001B[49m\u001B[43m)\u001B[49m\n",
      "File \u001B[1;32mD:\\DATEN\\Masterarbeit_PTGNN\\ptgnn\\runtime_config\\run_config.py:304\u001B[0m, in \u001B[0;36mrun_config\u001B[1;34m(config_dict)\u001B[0m\n\u001B[0;32m    298\u001B[0m scheduler \u001B[38;5;241m=\u001B[39m fetch_scheduler(\n\u001B[0;32m    299\u001B[0m     optimizer,\n\u001B[0;32m    300\u001B[0m     config_dict[\u001B[38;5;124m'\u001B[39m\u001B[38;5;124mscheduler\u001B[39m\u001B[38;5;124m'\u001B[39m]\n\u001B[0;32m    301\u001B[0m )\n\u001B[0;32m    303\u001B[0m \u001B[38;5;66;03m# start training\u001B[39;00m\n\u001B[1;32m--> 304\u001B[0m metric_dict \u001B[38;5;241m=\u001B[39m training_procedure(\n\u001B[0;32m    305\u001B[0m     model\u001B[38;5;241m=\u001B[39mmodel,\n\u001B[0;32m    306\u001B[0m     optimizer\u001B[38;5;241m=\u001B[39moptimizer,\n\u001B[0;32m    307\u001B[0m     scheduler\u001B[38;5;241m=\u001B[39mscheduler,\n\u001B[0;32m    308\u001B[0m     train_loader\u001B[38;5;241m=\u001B[39mtrain_loader,\n\u001B[0;32m    309\u001B[0m     val_loader\u001B[38;5;241m=\u001B[39mval_loader,\n\u001B[0;32m    310\u001B[0m     test_loader\u001B[38;5;241m=\u001B[39mtest_loader,\n\u001B[0;32m    311\u001B[0m     device\u001B[38;5;241m=\u001B[39mdevice,\n\u001B[0;32m    312\u001B[0m     out_dim\u001B[38;5;241m=\u001B[39mconfig_dict[\u001B[38;5;124m'\u001B[39m\u001B[38;5;124mmodel\u001B[39m\u001B[38;5;124m'\u001B[39m][\u001B[38;5;124m'\u001B[39m\u001B[38;5;124mout_dim\u001B[39m\u001B[38;5;124m'\u001B[39m] \u001B[38;5;28;01mif\u001B[39;00m \u001B[38;5;124m'\u001B[39m\u001B[38;5;124mout_dim\u001B[39m\u001B[38;5;124m'\u001B[39m \u001B[38;5;129;01min\u001B[39;00m config_dict[\u001B[38;5;124m'\u001B[39m\u001B[38;5;124mmodel\u001B[39m\u001B[38;5;124m'\u001B[39m] \u001B[38;5;28;01melse\u001B[39;00m \u001B[38;5;241m1\u001B[39m,\n\u001B[0;32m    313\u001B[0m     \u001B[38;5;241m*\u001B[39m\u001B[38;5;241m*\u001B[39mconfig_dict[\u001B[38;5;124m'\u001B[39m\u001B[38;5;124mtraining\u001B[39m\u001B[38;5;124m'\u001B[39m]\n\u001B[0;32m    314\u001B[0m )\n\u001B[0;32m    316\u001B[0m \u001B[38;5;66;03m# save/display metrics\u001B[39;00m\n\u001B[0;32m    317\u001B[0m display(metric_dict)\n",
      "File \u001B[1;32mD:\\DATEN\\Masterarbeit_PTGNN\\ptgnn\\runtime_config\\run_config.py:124\u001B[0m, in \u001B[0;36mtraining_procedure\u001B[1;34m(model, optimizer, scheduler, train_loader, val_loader, test_loader, task_type, device, n_max_epochs, loss_function, clip_grad_norm, out_dim, use_test_set, **kwargs)\u001B[0m\n\u001B[0;32m    121\u001B[0m \u001B[38;5;28;01mfor\u001B[39;00m epoch \u001B[38;5;129;01min\u001B[39;00m \u001B[38;5;28mrange\u001B[39m(n_max_epochs):\n\u001B[0;32m    122\u001B[0m     metric_dict \u001B[38;5;241m=\u001B[39m {}\n\u001B[1;32m--> 124\u001B[0m     metric_dict \u001B[38;5;241m=\u001B[39m \u001B[43mtrain_epoch\u001B[49m\u001B[43m(\u001B[49m\n\u001B[0;32m    125\u001B[0m \u001B[43m        \u001B[49m\u001B[43mmetric_dict\u001B[49m\u001B[43m,\u001B[49m\n\u001B[0;32m    126\u001B[0m \u001B[43m        \u001B[49m\u001B[43mclip_grad_norm\u001B[49m\u001B[43m,\u001B[49m\n\u001B[0;32m    127\u001B[0m \u001B[43m        \u001B[49m\u001B[43mdevice\u001B[49m\u001B[43m,\u001B[49m\n\u001B[0;32m    128\u001B[0m \u001B[43m        \u001B[49m\u001B[43mdf_dict\u001B[49m\u001B[43m,\u001B[49m\n\u001B[0;32m    129\u001B[0m \u001B[43m        \u001B[49m\u001B[43mloss_function\u001B[49m\u001B[43m,\u001B[49m\n\u001B[0;32m    130\u001B[0m \u001B[43m        \u001B[49m\u001B[43mmodel\u001B[49m\u001B[43m,\u001B[49m\n\u001B[0;32m    131\u001B[0m \u001B[43m        \u001B[49m\u001B[43moptimizer\u001B[49m\u001B[43m,\u001B[49m\n\u001B[0;32m    132\u001B[0m \u001B[43m        \u001B[49m\u001B[43mout_dim\u001B[49m\u001B[43m,\u001B[49m\n\u001B[0;32m    133\u001B[0m \u001B[43m        \u001B[49m\u001B[43mscheduler\u001B[49m\u001B[43m,\u001B[49m\n\u001B[0;32m    134\u001B[0m \u001B[43m        \u001B[49m\u001B[43mtask_type\u001B[49m\u001B[43m,\u001B[49m\n\u001B[0;32m    135\u001B[0m \u001B[43m        \u001B[49m\u001B[43mtrain_loader\u001B[49m\n\u001B[0;32m    136\u001B[0m \u001B[43m    \u001B[49m\u001B[43m)\u001B[49m\n\u001B[0;32m    138\u001B[0m     \u001B[38;5;66;03m# val\u001B[39;00m\n\u001B[0;32m    139\u001B[0m     metric_dict \u001B[38;5;241m=\u001B[39m eval_epoch(metric_dict, device, df_dict, loss_function, model, out_dim, task_type, val_loader, \u001B[38;5;124m'\u001B[39m\u001B[38;5;124mval\u001B[39m\u001B[38;5;124m'\u001B[39m)\n",
      "File \u001B[1;32mD:\\DATEN\\Masterarbeit_PTGNN\\ptgnn\\runtime_config\\run_config.py:180\u001B[0m, in \u001B[0;36mtrain_epoch\u001B[1;34m(metric_dict, clip_grad_norm, device, df_dict, loss_function, model, optimizer, out_dim, scheduler, task_type, train_loader)\u001B[0m\n\u001B[0;32m    177\u001B[0m true_storage \u001B[38;5;241m=\u001B[39m []\n\u001B[0;32m    179\u001B[0m \u001B[38;5;66;03m# train, val\u001B[39;00m\n\u001B[1;32m--> 180\u001B[0m \u001B[38;5;28;01mfor\u001B[39;00m batch \u001B[38;5;129;01min\u001B[39;00m tqdm(train_loader):\n\u001B[0;32m    181\u001B[0m     \u001B[38;5;66;03m# reset optimizer\u001B[39;00m\n\u001B[0;32m    182\u001B[0m     optimizer\u001B[38;5;241m.\u001B[39mzero_grad()\n\u001B[0;32m    184\u001B[0m     \u001B[38;5;66;03m# put batch to device\u001B[39;00m\n",
      "File \u001B[1;32m~\\.conda\\envs\\Masterarbeit_PTGNN\\lib\\site-packages\\tqdm\\std.py:1178\u001B[0m, in \u001B[0;36mtqdm.__iter__\u001B[1;34m(self)\u001B[0m\n\u001B[0;32m   1175\u001B[0m time \u001B[38;5;241m=\u001B[39m \u001B[38;5;28mself\u001B[39m\u001B[38;5;241m.\u001B[39m_time\n\u001B[0;32m   1177\u001B[0m \u001B[38;5;28;01mtry\u001B[39;00m:\n\u001B[1;32m-> 1178\u001B[0m     \u001B[38;5;28;01mfor\u001B[39;00m obj \u001B[38;5;129;01min\u001B[39;00m iterable:\n\u001B[0;32m   1179\u001B[0m         \u001B[38;5;28;01myield\u001B[39;00m obj\n\u001B[0;32m   1180\u001B[0m         \u001B[38;5;66;03m# Update and possibly print the progressbar.\u001B[39;00m\n\u001B[0;32m   1181\u001B[0m         \u001B[38;5;66;03m# Note: does not call self.update(1) for speed optimisation.\u001B[39;00m\n",
      "File \u001B[1;32m~\\.conda\\envs\\Masterarbeit_PTGNN\\lib\\site-packages\\torch\\utils\\data\\dataloader.py:631\u001B[0m, in \u001B[0;36m_BaseDataLoaderIter.__next__\u001B[1;34m(self)\u001B[0m\n\u001B[0;32m    628\u001B[0m \u001B[38;5;28;01mif\u001B[39;00m \u001B[38;5;28mself\u001B[39m\u001B[38;5;241m.\u001B[39m_sampler_iter \u001B[38;5;129;01mis\u001B[39;00m \u001B[38;5;28;01mNone\u001B[39;00m:\n\u001B[0;32m    629\u001B[0m     \u001B[38;5;66;03m# TODO(https://github.com/pytorch/pytorch/issues/76750)\u001B[39;00m\n\u001B[0;32m    630\u001B[0m     \u001B[38;5;28mself\u001B[39m\u001B[38;5;241m.\u001B[39m_reset()  \u001B[38;5;66;03m# type: ignore[call-arg]\u001B[39;00m\n\u001B[1;32m--> 631\u001B[0m data \u001B[38;5;241m=\u001B[39m \u001B[38;5;28;43mself\u001B[39;49m\u001B[38;5;241;43m.\u001B[39;49m\u001B[43m_next_data\u001B[49m\u001B[43m(\u001B[49m\u001B[43m)\u001B[49m\n\u001B[0;32m    632\u001B[0m \u001B[38;5;28mself\u001B[39m\u001B[38;5;241m.\u001B[39m_num_yielded \u001B[38;5;241m+\u001B[39m\u001B[38;5;241m=\u001B[39m \u001B[38;5;241m1\u001B[39m\n\u001B[0;32m    633\u001B[0m \u001B[38;5;28;01mif\u001B[39;00m \u001B[38;5;28mself\u001B[39m\u001B[38;5;241m.\u001B[39m_dataset_kind \u001B[38;5;241m==\u001B[39m _DatasetKind\u001B[38;5;241m.\u001B[39mIterable \u001B[38;5;129;01mand\u001B[39;00m \\\n\u001B[0;32m    634\u001B[0m         \u001B[38;5;28mself\u001B[39m\u001B[38;5;241m.\u001B[39m_IterableDataset_len_called \u001B[38;5;129;01mis\u001B[39;00m \u001B[38;5;129;01mnot\u001B[39;00m \u001B[38;5;28;01mNone\u001B[39;00m \u001B[38;5;129;01mand\u001B[39;00m \\\n\u001B[0;32m    635\u001B[0m         \u001B[38;5;28mself\u001B[39m\u001B[38;5;241m.\u001B[39m_num_yielded \u001B[38;5;241m>\u001B[39m \u001B[38;5;28mself\u001B[39m\u001B[38;5;241m.\u001B[39m_IterableDataset_len_called:\n",
      "File \u001B[1;32m~\\.conda\\envs\\Masterarbeit_PTGNN\\lib\\site-packages\\torch\\utils\\data\\dataloader.py:675\u001B[0m, in \u001B[0;36m_SingleProcessDataLoaderIter._next_data\u001B[1;34m(self)\u001B[0m\n\u001B[0;32m    673\u001B[0m \u001B[38;5;28;01mdef\u001B[39;00m \u001B[38;5;21m_next_data\u001B[39m(\u001B[38;5;28mself\u001B[39m):\n\u001B[0;32m    674\u001B[0m     index \u001B[38;5;241m=\u001B[39m \u001B[38;5;28mself\u001B[39m\u001B[38;5;241m.\u001B[39m_next_index()  \u001B[38;5;66;03m# may raise StopIteration\u001B[39;00m\n\u001B[1;32m--> 675\u001B[0m     data \u001B[38;5;241m=\u001B[39m \u001B[38;5;28;43mself\u001B[39;49m\u001B[38;5;241;43m.\u001B[39;49m\u001B[43m_dataset_fetcher\u001B[49m\u001B[38;5;241;43m.\u001B[39;49m\u001B[43mfetch\u001B[49m\u001B[43m(\u001B[49m\u001B[43mindex\u001B[49m\u001B[43m)\u001B[49m  \u001B[38;5;66;03m# may raise StopIteration\u001B[39;00m\n\u001B[0;32m    676\u001B[0m     \u001B[38;5;28;01mif\u001B[39;00m \u001B[38;5;28mself\u001B[39m\u001B[38;5;241m.\u001B[39m_pin_memory:\n\u001B[0;32m    677\u001B[0m         data \u001B[38;5;241m=\u001B[39m _utils\u001B[38;5;241m.\u001B[39mpin_memory\u001B[38;5;241m.\u001B[39mpin_memory(data, \u001B[38;5;28mself\u001B[39m\u001B[38;5;241m.\u001B[39m_pin_memory_device)\n",
      "File \u001B[1;32m~\\.conda\\envs\\Masterarbeit_PTGNN\\lib\\site-packages\\torch\\utils\\data\\_utils\\fetch.py:54\u001B[0m, in \u001B[0;36m_MapDatasetFetcher.fetch\u001B[1;34m(self, possibly_batched_index)\u001B[0m\n\u001B[0;32m     52\u001B[0m \u001B[38;5;28;01melse\u001B[39;00m:\n\u001B[0;32m     53\u001B[0m     data \u001B[38;5;241m=\u001B[39m \u001B[38;5;28mself\u001B[39m\u001B[38;5;241m.\u001B[39mdataset[possibly_batched_index]\n\u001B[1;32m---> 54\u001B[0m \u001B[38;5;28;01mreturn\u001B[39;00m \u001B[38;5;28;43mself\u001B[39;49m\u001B[38;5;241;43m.\u001B[39;49m\u001B[43mcollate_fn\u001B[49m\u001B[43m(\u001B[49m\u001B[43mdata\u001B[49m\u001B[43m)\u001B[49m\n",
      "File \u001B[1;32mD:\\DATEN\\Masterarbeit_PTGNN\\ptgnn\\loading\\collate.py:55\u001B[0m, in \u001B[0;36mUniversalCollater.__call__\u001B[1;34m(self, batch)\u001B[0m\n\u001B[0;32m     52\u001B[0m     \u001B[38;5;28;01mreturn\u001B[39;00m permutation_tree_collation(batch)\n\u001B[0;32m     54\u001B[0m \u001B[38;5;28;01melif\u001B[39;00m \u001B[38;5;28mhasattr\u001B[39m(sample, \u001B[38;5;124m'\u001B[39m\u001B[38;5;124mcircle_index\u001B[39m\u001B[38;5;124m'\u001B[39m):\n\u001B[1;32m---> 55\u001B[0m     \u001B[38;5;28;01mreturn\u001B[39;00m \u001B[43mcollate_with_circle_index\u001B[49m\u001B[43m(\u001B[49m\n\u001B[0;32m     56\u001B[0m \u001B[43m        \u001B[49m\u001B[43mdata_list\u001B[49m\u001B[38;5;241;43m=\u001B[39;49m\u001B[43mbatch\u001B[49m\u001B[43m,\u001B[49m\n\u001B[0;32m     57\u001B[0m \u001B[43m        \u001B[49m\u001B[43mk_neighbors\u001B[49m\u001B[38;5;241;43m=\u001B[39;49m\u001B[38;5;28;43mself\u001B[39;49m\u001B[38;5;241;43m.\u001B[39;49m\u001B[43mn_neighbors_in_circle\u001B[49m\n\u001B[0;32m     58\u001B[0m \u001B[43m    \u001B[49m\u001B[43m)\u001B[49m\n\u001B[0;32m     60\u001B[0m \u001B[38;5;66;03m# default treatment\u001B[39;00m\n\u001B[0;32m     61\u001B[0m \u001B[38;5;28;01melse\u001B[39;00m:\n\u001B[0;32m     62\u001B[0m     \u001B[38;5;28;01mreturn\u001B[39;00m \u001B[38;5;28mself\u001B[39m\u001B[38;5;241m.\u001B[39mdefault_collator(batch)\n",
      "File \u001B[1;32mD:\\DATEN\\Masterarbeit_PTGNN\\ptgnn\\loading\\chienn_collate.py:25\u001B[0m, in \u001B[0;36mcollate_with_circle_index\u001B[1;34m(data_list, k_neighbors)\u001B[0m\n\u001B[0;32m     13\u001B[0m \u001B[38;5;28;01mdef\u001B[39;00m \u001B[38;5;21mcollate_with_circle_index\u001B[39m(data_list: List[Data], k_neighbors: \u001B[38;5;28mint\u001B[39m) \u001B[38;5;241m-\u001B[39m\u001B[38;5;241m>\u001B[39m Batch:\n\u001B[0;32m     14\u001B[0m \u001B[38;5;250m    \u001B[39m\u001B[38;5;124;03m\"\"\"\u001B[39;00m\n\u001B[0;32m     15\u001B[0m \u001B[38;5;124;03m    Collates a list of Data objects into a Batch object.\u001B[39;00m\n\u001B[0;32m     16\u001B[0m \n\u001B[1;32m   (...)\u001B[0m\n\u001B[0;32m     23\u001B[0m \u001B[38;5;124;03m        to shape (total_num_nodes, max_circle_size).\u001B[39;00m\n\u001B[0;32m     24\u001B[0m \u001B[38;5;124;03m    \"\"\"\u001B[39;00m\n\u001B[1;32m---> 25\u001B[0m     batch \u001B[38;5;241m=\u001B[39m \u001B[43mBatch\u001B[49m\u001B[38;5;241;43m.\u001B[39;49m\u001B[43mfrom_data_list\u001B[49m\u001B[43m(\u001B[49m\u001B[43mdata_list\u001B[49m\u001B[43m,\u001B[49m\u001B[43m \u001B[49m\u001B[43mexclude_keys\u001B[49m\u001B[38;5;241;43m=\u001B[39;49m\u001B[43m[\u001B[49m\u001B[38;5;124;43m'\u001B[39;49m\u001B[38;5;124;43mcircle_index\u001B[39;49m\u001B[38;5;124;43m'\u001B[39;49m\u001B[43m]\u001B[49m\u001B[43m)\u001B[49m\n\u001B[0;32m     26\u001B[0m     batch\u001B[38;5;241m.\u001B[39mcircle_index \u001B[38;5;241m=\u001B[39m collate_circle_index(data_list, k_neighbors)\n\u001B[0;32m     27\u001B[0m     \u001B[38;5;28;01mreturn\u001B[39;00m batch\n",
      "File \u001B[1;32m~\\.conda\\envs\\Masterarbeit_PTGNN\\lib\\site-packages\\torch_geometric\\data\\batch.py:97\u001B[0m, in \u001B[0;36mBatch.from_data_list\u001B[1;34m(cls, data_list, follow_batch, exclude_keys)\u001B[0m\n\u001B[0;32m     82\u001B[0m \u001B[38;5;129m@classmethod\u001B[39m\n\u001B[0;32m     83\u001B[0m \u001B[38;5;28;01mdef\u001B[39;00m \u001B[38;5;21mfrom_data_list\u001B[39m(\n\u001B[0;32m     84\u001B[0m     \u001B[38;5;28mcls\u001B[39m,\n\u001B[1;32m   (...)\u001B[0m\n\u001B[0;32m     87\u001B[0m     exclude_keys: Optional[List[\u001B[38;5;28mstr\u001B[39m]] \u001B[38;5;241m=\u001B[39m \u001B[38;5;28;01mNone\u001B[39;00m,\n\u001B[0;32m     88\u001B[0m ) \u001B[38;5;241m-\u001B[39m\u001B[38;5;241m>\u001B[39m Self:\n\u001B[0;32m     89\u001B[0m \u001B[38;5;250m    \u001B[39m\u001B[38;5;124mr\u001B[39m\u001B[38;5;124;03m\"\"\"Constructs a :class:`~torch_geometric.data.Batch` object from a\u001B[39;00m\n\u001B[0;32m     90\u001B[0m \u001B[38;5;124;03m    list of :class:`~torch_geometric.data.Data` or\u001B[39;00m\n\u001B[0;32m     91\u001B[0m \u001B[38;5;124;03m    :class:`~torch_geometric.data.HeteroData` objects.\u001B[39;00m\n\u001B[1;32m   (...)\u001B[0m\n\u001B[0;32m     95\u001B[0m \u001B[38;5;124;03m    Will exclude any keys given in :obj:`exclude_keys`.\u001B[39;00m\n\u001B[0;32m     96\u001B[0m \u001B[38;5;124;03m    \"\"\"\u001B[39;00m\n\u001B[1;32m---> 97\u001B[0m     batch, slice_dict, inc_dict \u001B[38;5;241m=\u001B[39m \u001B[43mcollate\u001B[49m\u001B[43m(\u001B[49m\n\u001B[0;32m     98\u001B[0m \u001B[43m        \u001B[49m\u001B[38;5;28;43mcls\u001B[39;49m\u001B[43m,\u001B[49m\n\u001B[0;32m     99\u001B[0m \u001B[43m        \u001B[49m\u001B[43mdata_list\u001B[49m\u001B[38;5;241;43m=\u001B[39;49m\u001B[43mdata_list\u001B[49m\u001B[43m,\u001B[49m\n\u001B[0;32m    100\u001B[0m \u001B[43m        \u001B[49m\u001B[43mincrement\u001B[49m\u001B[38;5;241;43m=\u001B[39;49m\u001B[38;5;28;43;01mTrue\u001B[39;49;00m\u001B[43m,\u001B[49m\n\u001B[0;32m    101\u001B[0m \u001B[43m        \u001B[49m\u001B[43madd_batch\u001B[49m\u001B[38;5;241;43m=\u001B[39;49m\u001B[38;5;129;43;01mnot\u001B[39;49;00m\u001B[43m \u001B[49m\u001B[38;5;28;43misinstance\u001B[39;49m\u001B[43m(\u001B[49m\u001B[43mdata_list\u001B[49m\u001B[43m[\u001B[49m\u001B[38;5;241;43m0\u001B[39;49m\u001B[43m]\u001B[49m\u001B[43m,\u001B[49m\u001B[43m \u001B[49m\u001B[43mBatch\u001B[49m\u001B[43m)\u001B[49m\u001B[43m,\u001B[49m\n\u001B[0;32m    102\u001B[0m \u001B[43m        \u001B[49m\u001B[43mfollow_batch\u001B[49m\u001B[38;5;241;43m=\u001B[39;49m\u001B[43mfollow_batch\u001B[49m\u001B[43m,\u001B[49m\n\u001B[0;32m    103\u001B[0m \u001B[43m        \u001B[49m\u001B[43mexclude_keys\u001B[49m\u001B[38;5;241;43m=\u001B[39;49m\u001B[43mexclude_keys\u001B[49m\u001B[43m,\u001B[49m\n\u001B[0;32m    104\u001B[0m \u001B[43m    \u001B[49m\u001B[43m)\u001B[49m\n\u001B[0;32m    106\u001B[0m     batch\u001B[38;5;241m.\u001B[39m_num_graphs \u001B[38;5;241m=\u001B[39m \u001B[38;5;28mlen\u001B[39m(data_list)  \u001B[38;5;66;03m# type: ignore\u001B[39;00m\n\u001B[0;32m    107\u001B[0m     batch\u001B[38;5;241m.\u001B[39m_slice_dict \u001B[38;5;241m=\u001B[39m slice_dict  \u001B[38;5;66;03m# type: ignore\u001B[39;00m\n",
      "File \u001B[1;32m~\\.conda\\envs\\Masterarbeit_PTGNN\\lib\\site-packages\\torch_geometric\\data\\collate.py:109\u001B[0m, in \u001B[0;36mcollate\u001B[1;34m(cls, data_list, increment, add_batch, follow_batch, exclude_keys)\u001B[0m\n\u001B[0;32m    106\u001B[0m     \u001B[38;5;28;01mcontinue\u001B[39;00m\n\u001B[0;32m    108\u001B[0m \u001B[38;5;66;03m# Collate attributes into a unified representation:\u001B[39;00m\n\u001B[1;32m--> 109\u001B[0m value, slices, incs \u001B[38;5;241m=\u001B[39m \u001B[43m_collate\u001B[49m\u001B[43m(\u001B[49m\u001B[43mattr\u001B[49m\u001B[43m,\u001B[49m\u001B[43m \u001B[49m\u001B[43mvalues\u001B[49m\u001B[43m,\u001B[49m\u001B[43m \u001B[49m\u001B[43mdata_list\u001B[49m\u001B[43m,\u001B[49m\u001B[43m \u001B[49m\u001B[43mstores\u001B[49m\u001B[43m,\u001B[49m\n\u001B[0;32m    110\u001B[0m \u001B[43m                               \u001B[49m\u001B[43mincrement\u001B[49m\u001B[43m)\u001B[49m\n\u001B[0;32m    112\u001B[0m \u001B[38;5;66;03m# If parts of the data are already on GPU, make sure that auxiliary\u001B[39;00m\n\u001B[0;32m    113\u001B[0m \u001B[38;5;66;03m# data like `batch` or `ptr` are also created on GPU:\u001B[39;00m\n\u001B[0;32m    114\u001B[0m \u001B[38;5;28;01mif\u001B[39;00m \u001B[38;5;28misinstance\u001B[39m(value, Tensor) \u001B[38;5;129;01mand\u001B[39;00m value\u001B[38;5;241m.\u001B[39mis_cuda:\n",
      "File \u001B[1;32m~\\.conda\\envs\\Masterarbeit_PTGNN\\lib\\site-packages\\torch_geometric\\data\\collate.py:169\u001B[0m, in \u001B[0;36m_collate\u001B[1;34m(key, values, data_list, stores, increment)\u001B[0m\n\u001B[0;32m    167\u001B[0m slices \u001B[38;5;241m=\u001B[39m cumsum(sizes)\n\u001B[0;32m    168\u001B[0m \u001B[38;5;28;01mif\u001B[39;00m increment:\n\u001B[1;32m--> 169\u001B[0m     incs \u001B[38;5;241m=\u001B[39m \u001B[43mget_incs\u001B[49m\u001B[43m(\u001B[49m\u001B[43mkey\u001B[49m\u001B[43m,\u001B[49m\u001B[43m \u001B[49m\u001B[43mvalues\u001B[49m\u001B[43m,\u001B[49m\u001B[43m \u001B[49m\u001B[43mdata_list\u001B[49m\u001B[43m,\u001B[49m\u001B[43m \u001B[49m\u001B[43mstores\u001B[49m\u001B[43m)\u001B[49m\n\u001B[0;32m    170\u001B[0m     \u001B[38;5;28;01mif\u001B[39;00m incs\u001B[38;5;241m.\u001B[39mdim() \u001B[38;5;241m>\u001B[39m \u001B[38;5;241m1\u001B[39m \u001B[38;5;129;01mor\u001B[39;00m \u001B[38;5;28mint\u001B[39m(incs[\u001B[38;5;241m-\u001B[39m\u001B[38;5;241m1\u001B[39m]) \u001B[38;5;241m!=\u001B[39m \u001B[38;5;241m0\u001B[39m:\n\u001B[0;32m    171\u001B[0m         values \u001B[38;5;241m=\u001B[39m [\n\u001B[0;32m    172\u001B[0m             value \u001B[38;5;241m+\u001B[39m inc\u001B[38;5;241m.\u001B[39mto(value\u001B[38;5;241m.\u001B[39mdevice)\n\u001B[0;32m    173\u001B[0m             \u001B[38;5;28;01mfor\u001B[39;00m value, inc \u001B[38;5;129;01min\u001B[39;00m \u001B[38;5;28mzip\u001B[39m(values, incs)\n\u001B[0;32m    174\u001B[0m         ]\n",
      "File \u001B[1;32m~\\.conda\\envs\\Masterarbeit_PTGNN\\lib\\site-packages\\torch_geometric\\data\\collate.py:329\u001B[0m, in \u001B[0;36mget_incs\u001B[1;34m(key, values, data_list, stores)\u001B[0m\n\u001B[0;32m    327\u001B[0m \u001B[38;5;28;01melse\u001B[39;00m:\n\u001B[0;32m    328\u001B[0m     repeats \u001B[38;5;241m=\u001B[39m torch\u001B[38;5;241m.\u001B[39mtensor(repeats)\n\u001B[1;32m--> 329\u001B[0m \u001B[38;5;28;01mreturn\u001B[39;00m \u001B[43mcumsum\u001B[49m\u001B[43m(\u001B[49m\u001B[43mrepeats\u001B[49m\u001B[43m[\u001B[49m\u001B[43m:\u001B[49m\u001B[38;5;241;43m-\u001B[39;49m\u001B[38;5;241;43m1\u001B[39;49m\u001B[43m]\u001B[49m\u001B[43m)\u001B[49m\n",
      "File \u001B[1;32m~\\.conda\\envs\\Masterarbeit_PTGNN\\lib\\site-packages\\torch_geometric\\utils\\functions.py:23\u001B[0m, in \u001B[0;36mcumsum\u001B[1;34m(x, dim)\u001B[0m\n\u001B[0;32m     20\u001B[0m size \u001B[38;5;241m=\u001B[39m x\u001B[38;5;241m.\u001B[39msize()[:dim] \u001B[38;5;241m+\u001B[39m (x\u001B[38;5;241m.\u001B[39msize(dim) \u001B[38;5;241m+\u001B[39m \u001B[38;5;241m1\u001B[39m, ) \u001B[38;5;241m+\u001B[39m x\u001B[38;5;241m.\u001B[39msize()[dim \u001B[38;5;241m+\u001B[39m \u001B[38;5;241m1\u001B[39m:]\n\u001B[0;32m     21\u001B[0m out \u001B[38;5;241m=\u001B[39m x\u001B[38;5;241m.\u001B[39mnew_empty(size)\n\u001B[1;32m---> 23\u001B[0m \u001B[43mout\u001B[49m\u001B[38;5;241;43m.\u001B[39;49m\u001B[43mnarrow\u001B[49m\u001B[43m(\u001B[49m\u001B[43mdim\u001B[49m\u001B[43m,\u001B[49m\u001B[43m \u001B[49m\u001B[38;5;241;43m0\u001B[39;49m\u001B[43m,\u001B[49m\u001B[43m \u001B[49m\u001B[38;5;241;43m1\u001B[39;49m\u001B[43m)\u001B[49m\u001B[38;5;241m.\u001B[39mzero_()\n\u001B[0;32m     24\u001B[0m torch\u001B[38;5;241m.\u001B[39mcumsum(x, dim\u001B[38;5;241m=\u001B[39mdim, out\u001B[38;5;241m=\u001B[39mout\u001B[38;5;241m.\u001B[39mnarrow(dim, \u001B[38;5;241m1\u001B[39m, x\u001B[38;5;241m.\u001B[39msize(dim)))\n\u001B[0;32m     26\u001B[0m \u001B[38;5;28;01mreturn\u001B[39;00m out\n",
      "\u001B[1;31mKeyboardInterrupt\u001B[0m: "
     ]
    }
   ],
   "source": [
    "run_config(sample_config)"
   ],
   "metadata": {
    "collapsed": false,
    "ExecuteTime": {
     "start_time": "2024-03-22T19:06:52.902567Z",
     "end_time": "2024-03-22T19:07:58.495306Z"
    }
   }
  },
  {
   "cell_type": "code",
   "execution_count": 1,
   "outputs": [],
   "source": [
    "sample_config = {\n",
    "    'data' : {\n",
    "        'dataset' : {\n",
    "            'type' : \"rs\",\n",
    "            'mask_chiral_tags': True,\n",
    "        },\n",
    "        'loader': {\n",
    "            'general': {\n",
    "                'n_neighbors_in_circle': 3,\n",
    "                'batch_size': 32,\n",
    "                'num_workers': 0,\n",
    "            },\n",
    "            'train': {},\n",
    "            'test': {},\n",
    "            'val': {}\n",
    "        }\n",
    "    },\n",
    "    'model': {\n",
    "        'mode': 'custom',\n",
    "        'hidden_dim': 128,\n",
    "        'out_dim': 1,\n",
    "        'modules': {\n",
    "            0: {\n",
    "                'type': 'graph_embedding',\n",
    "                'parameter': {\n",
    "                    'node_type': 'linear',\n",
    "                    'edge_type': 'linear',\n",
    "                }\n",
    "            },\n",
    "            1: {\n",
    "                'type': 'chienn',\n",
    "                'times': 5\n",
    "            }\n",
    "        },\n",
    "        'head': {\n",
    "            'type': 'san_head',\n",
    "            'n_layer': 3,\n",
    "            'pool_function': 'add',\n",
    "        }\n",
    "    },\n",
    "    'optimizer': {\n",
    "        'type': 'adam_w',\n",
    "        'base_learning_rate': 1e-3,\n",
    "        'weight_decay': 1e-5\n",
    "    },\n",
    "    'scheduler': {\n",
    "        'type': 'cosine_with_warmup',\n",
    "        'num_warmup_epochs': 10,\n",
    "        'max_epochs': 100,\n",
    "    },\n",
    "    'training': {\n",
    "        'n_max_epochs': 3,\n",
    "        'loss_function': \"cross_entropy\",\n",
    "        'clip_grad_norm': False,\n",
    "        'optimization_metric': 'accuracy',\n",
    "        'task_type': \"classification\",\n",
    "    }\n",
    "}"
   ],
   "metadata": {
    "collapsed": false,
    "ExecuteTime": {
     "start_time": "2024-03-20T17:17:11.183592Z",
     "end_time": "2024-03-20T17:17:11.195600Z"
    }
   }
  },
  {
   "cell_type": "code",
   "execution_count": 2,
   "outputs": [],
   "source": [
    "from ptgnn.runtime_config.run_config import run_config"
   ],
   "metadata": {
    "collapsed": false,
    "ExecuteTime": {
     "start_time": "2024-03-20T17:17:11.700539Z",
     "end_time": "2024-03-20T17:17:15.187506Z"
    }
   }
  },
  {
   "cell_type": "markdown",
   "source": [
    "With chiral masking 0.5 on basic linear model without masking 100%"
   ],
   "metadata": {
    "collapsed": false
   }
  },
  {
   "cell_type": "code",
   "execution_count": 3,
   "outputs": [
    {
     "name": "stderr",
     "output_type": "stream",
     "text": [
      "100%|██████████| 1721/1721 [02:57<00:00,  9.68it/s]\n",
      "100%|██████████| 367/367 [00:14<00:00, 25.23it/s]\n",
      "100%|██████████| 1721/1721 [02:55<00:00,  9.83it/s]\n",
      "100%|██████████| 367/367 [00:14<00:00, 24.70it/s]\n",
      "100%|██████████| 1721/1721 [02:54<00:00,  9.84it/s]\n",
      "100%|██████████| 367/367 [00:14<00:00, 26.16it/s]\n"
     ]
    },
    {
     "data": {
      "text/plain": "   train_accuracy  train_precision  train_recall  train_f1  train_auc  \\\n0            0.50             0.50          1.00      0.67       0.50   \n1            0.50             0.50          0.56      0.53       0.50   \n2            0.51             0.51          0.54      0.52       0.51   \n\n   train_mean_loss  train_sum_loss  val_accuracy  val_precision  val_recall  \\\n0         0.919056     1581.694931          0.50            0.5        1.00   \n1         0.694102     1194.549013          0.50            0.5        0.50   \n2         0.693137     1192.888357          0.51            0.5        0.91   \n\n   val_f1  val_auc  val_mean_loss  val_sum_loss  \n0    0.67     0.50       0.917236    336.625526  \n1    0.50     0.51       0.693098    254.367114  \n2    0.65     0.52       0.692929    254.304916  ",
      "text/html": "<div>\n<style scoped>\n    .dataframe tbody tr th:only-of-type {\n        vertical-align: middle;\n    }\n\n    .dataframe tbody tr th {\n        vertical-align: top;\n    }\n\n    .dataframe thead th {\n        text-align: right;\n    }\n</style>\n<table border=\"1\" class=\"dataframe\">\n  <thead>\n    <tr style=\"text-align: right;\">\n      <th></th>\n      <th>train_accuracy</th>\n      <th>train_precision</th>\n      <th>train_recall</th>\n      <th>train_f1</th>\n      <th>train_auc</th>\n      <th>train_mean_loss</th>\n      <th>train_sum_loss</th>\n      <th>val_accuracy</th>\n      <th>val_precision</th>\n      <th>val_recall</th>\n      <th>val_f1</th>\n      <th>val_auc</th>\n      <th>val_mean_loss</th>\n      <th>val_sum_loss</th>\n    </tr>\n  </thead>\n  <tbody>\n    <tr>\n      <th>0</th>\n      <td>0.50</td>\n      <td>0.50</td>\n      <td>1.00</td>\n      <td>0.67</td>\n      <td>0.50</td>\n      <td>0.919056</td>\n      <td>1581.694931</td>\n      <td>0.50</td>\n      <td>0.5</td>\n      <td>1.00</td>\n      <td>0.67</td>\n      <td>0.50</td>\n      <td>0.917236</td>\n      <td>336.625526</td>\n    </tr>\n    <tr>\n      <th>1</th>\n      <td>0.50</td>\n      <td>0.50</td>\n      <td>0.56</td>\n      <td>0.53</td>\n      <td>0.50</td>\n      <td>0.694102</td>\n      <td>1194.549013</td>\n      <td>0.50</td>\n      <td>0.5</td>\n      <td>0.50</td>\n      <td>0.50</td>\n      <td>0.51</td>\n      <td>0.693098</td>\n      <td>254.367114</td>\n    </tr>\n    <tr>\n      <th>2</th>\n      <td>0.51</td>\n      <td>0.51</td>\n      <td>0.54</td>\n      <td>0.52</td>\n      <td>0.51</td>\n      <td>0.693137</td>\n      <td>1192.888357</td>\n      <td>0.51</td>\n      <td>0.5</td>\n      <td>0.91</td>\n      <td>0.65</td>\n      <td>0.52</td>\n      <td>0.692929</td>\n      <td>254.304916</td>\n    </tr>\n  </tbody>\n</table>\n</div>"
     },
     "metadata": {},
     "output_type": "display_data"
    }
   ],
   "source": [
    "run_config(sample_config)"
   ],
   "metadata": {
    "collapsed": false,
    "ExecuteTime": {
     "start_time": "2024-03-20T17:17:20.710323Z",
     "end_time": "2024-03-20T17:26:59.042088Z"
    }
   }
  },
  {
   "cell_type": "markdown",
   "source": [
    "## Permutation tree"
   ],
   "metadata": {
    "collapsed": false
   }
  },
  {
   "cell_type": "code",
   "execution_count": 1,
   "outputs": [],
   "source": [
    "sample_config = {\n",
    "    'data' : {\n",
    "        'dataset' : {\n",
    "            'type' : \"rs\",\n",
    "            'mask_chiral_tags': True,\n",
    "            'graph_mode': 'edge',\n",
    "            'transformation_mode': 'permutation_tree',\n",
    "            'transformation_parameters': {\n",
    "                'k': 3\n",
    "            }\n",
    "        },\n",
    "        'loader': {\n",
    "            'general': {\n",
    "                'n_neighbors_in_circle': 3,\n",
    "                'batch_size': 32,\n",
    "                'num_workers': 0,\n",
    "            },\n",
    "            'train': {},\n",
    "            'test': {},\n",
    "            'val': {}\n",
    "        }\n",
    "    },\n",
    "    'model': {\n",
    "        'mode': 'custom',\n",
    "        'hidden_dim': 128,\n",
    "        'out_dim': 1,\n",
    "        'modules': {\n",
    "            0: {\n",
    "                'type': 'graph_embedding',\n",
    "                'parameter': {\n",
    "                    'node_type': 'linear',\n",
    "                    'edge_type': 'linear',\n",
    "                }\n",
    "            },\n",
    "            1: {\n",
    "                'type': 'permutation_tree',\n",
    "                'parameter': {\n",
    "                    'k': 3\n",
    "                },\n",
    "                'times': 1\n",
    "            }\n",
    "        },\n",
    "        'head': {\n",
    "            'type': 'san_head',\n",
    "            'n_layer': 3,\n",
    "            'pool_function': 'add',\n",
    "        }\n",
    "    },\n",
    "    'optimizer': {\n",
    "        'type': 'adam_w',\n",
    "        'base_learning_rate': 1e-3,\n",
    "        'weight_decay': 1e-5\n",
    "    },\n",
    "    'scheduler': {\n",
    "        'type': 'cosine_with_warmup',\n",
    "        'num_warmup_epochs': 10,\n",
    "        'max_epochs': 100,\n",
    "    },\n",
    "    'training': {\n",
    "        'n_max_epochs': 3,\n",
    "        'loss_function': \"cross_entropy\",\n",
    "        'clip_grad_norm': False,\n",
    "        'optimization_metric': 'accuracy',\n",
    "        'task_type': \"classification\",\n",
    "    }\n",
    "}"
   ],
   "metadata": {
    "collapsed": false,
    "ExecuteTime": {
     "start_time": "2024-03-20T09:24:41.511427Z",
     "end_time": "2024-03-20T09:24:41.521425Z"
    }
   }
  },
  {
   "cell_type": "code",
   "execution_count": 2,
   "outputs": [],
   "source": [
    "from ptgnn.runtime_config.run_config import run_config"
   ],
   "metadata": {
    "collapsed": false
   }
  },
  {
   "cell_type": "code",
   "execution_count": 3,
   "outputs": [
    {
     "name": "stderr",
     "output_type": "stream",
     "text": [
      "100%|██████████| 1721/1721 [06:03<00:00,  4.73it/s]\n",
      "100%|██████████| 367/367 [00:22<00:00, 16.06it/s]\n",
      "100%|██████████| 1721/1721 [05:56<00:00,  4.83it/s]\n",
      "100%|██████████| 367/367 [00:21<00:00, 17.06it/s]\n",
      "100%|██████████| 1721/1721 [05:55<00:00,  4.84it/s]\n",
      "100%|██████████| 367/367 [00:21<00:00, 17.12it/s]\n"
     ]
    },
    {
     "data": {
      "text/plain": "   train_accuracy  train_precision  train_recall  train_f1  train_auc  \\\n0            0.50             0.50          0.39      0.44       0.50   \n1            0.60             0.58          0.68      0.63       0.66   \n2            0.94             0.94          0.94      0.94       0.99   \n\n   train_mean_loss  train_sum_loss  val_accuracy  val_precision  val_recall  \\\n0         0.839880     1445.432675          0.50           0.50        0.46   \n1         0.615139     1058.654231          0.80           0.73        0.94   \n2         0.142644      245.490851          0.92           0.92        0.92   \n\n   val_f1  val_auc  val_mean_loss  val_sum_loss  \n0    0.48     0.50       0.938860    344.561785  \n1    0.82     0.92       0.424158    155.666108  \n2    0.92     0.98       0.179137     65.743420  ",
      "text/html": "<div>\n<style scoped>\n    .dataframe tbody tr th:only-of-type {\n        vertical-align: middle;\n    }\n\n    .dataframe tbody tr th {\n        vertical-align: top;\n    }\n\n    .dataframe thead th {\n        text-align: right;\n    }\n</style>\n<table border=\"1\" class=\"dataframe\">\n  <thead>\n    <tr style=\"text-align: right;\">\n      <th></th>\n      <th>train_accuracy</th>\n      <th>train_precision</th>\n      <th>train_recall</th>\n      <th>train_f1</th>\n      <th>train_auc</th>\n      <th>train_mean_loss</th>\n      <th>train_sum_loss</th>\n      <th>val_accuracy</th>\n      <th>val_precision</th>\n      <th>val_recall</th>\n      <th>val_f1</th>\n      <th>val_auc</th>\n      <th>val_mean_loss</th>\n      <th>val_sum_loss</th>\n    </tr>\n  </thead>\n  <tbody>\n    <tr>\n      <th>0</th>\n      <td>0.50</td>\n      <td>0.50</td>\n      <td>0.39</td>\n      <td>0.44</td>\n      <td>0.50</td>\n      <td>0.839880</td>\n      <td>1445.432675</td>\n      <td>0.50</td>\n      <td>0.50</td>\n      <td>0.46</td>\n      <td>0.48</td>\n      <td>0.50</td>\n      <td>0.938860</td>\n      <td>344.561785</td>\n    </tr>\n    <tr>\n      <th>1</th>\n      <td>0.60</td>\n      <td>0.58</td>\n      <td>0.68</td>\n      <td>0.63</td>\n      <td>0.66</td>\n      <td>0.615139</td>\n      <td>1058.654231</td>\n      <td>0.80</td>\n      <td>0.73</td>\n      <td>0.94</td>\n      <td>0.82</td>\n      <td>0.92</td>\n      <td>0.424158</td>\n      <td>155.666108</td>\n    </tr>\n    <tr>\n      <th>2</th>\n      <td>0.94</td>\n      <td>0.94</td>\n      <td>0.94</td>\n      <td>0.94</td>\n      <td>0.99</td>\n      <td>0.142644</td>\n      <td>245.490851</td>\n      <td>0.92</td>\n      <td>0.92</td>\n      <td>0.92</td>\n      <td>0.92</td>\n      <td>0.98</td>\n      <td>0.179137</td>\n      <td>65.743420</td>\n    </tr>\n  </tbody>\n</table>\n</div>"
     },
     "metadata": {},
     "output_type": "display_data"
    }
   ],
   "source": [
    "run_config(sample_config)"
   ],
   "metadata": {
    "collapsed": false
   }
  },
  {
   "cell_type": "code",
   "execution_count": 1,
   "outputs": [],
   "source": [
    "sample_config = {\n",
    "    'data' : {\n",
    "        'dataset' : {\n",
    "            'type' : \"rs\",\n",
    "            'mask_chiral_tags': True,\n",
    "            'graph_mode': 'edge',\n",
    "            'transformation_mode': 'permutation_tree',\n",
    "            'transformation_parameters': {\n",
    "                'k': 3\n",
    "            }\n",
    "        },\n",
    "        'loader': {\n",
    "            'general': {\n",
    "                'n_neighbors_in_circle': 3,\n",
    "                'batch_size': 32,\n",
    "                'num_workers': 0,\n",
    "            },\n",
    "            'train': {},\n",
    "            'test': {},\n",
    "            'val': {}\n",
    "        }\n",
    "    },\n",
    "    'model': {\n",
    "        'mode': 'custom',\n",
    "        'hidden_dim': 128,\n",
    "        'out_dim': 1,\n",
    "        'modules': {\n",
    "            0: {\n",
    "                'type': 'graph_embedding',\n",
    "                'parameter': {\n",
    "                    'node_type': 'linear',\n",
    "                    'edge_type': 'linear',\n",
    "                }\n",
    "            },\n",
    "            1: {\n",
    "                'type': 'permutation_tree',\n",
    "                'parameter': {\n",
    "                    'k': 3\n",
    "                },\n",
    "                'times': 5\n",
    "            }\n",
    "        },\n",
    "        'head': {\n",
    "            'type': 'san_head',\n",
    "            'n_layer': 3,\n",
    "            'pool_function': 'add',\n",
    "        }\n",
    "    },\n",
    "    'optimizer': {\n",
    "        'type': 'adam_w',\n",
    "        'base_learning_rate': 1e-3,\n",
    "        'weight_decay': 1e-5\n",
    "    },\n",
    "    'scheduler': {\n",
    "        'type': 'cosine_with_warmup',\n",
    "        'num_warmup_epochs': 10,\n",
    "        'max_epochs': 100,\n",
    "    },\n",
    "    'training': {\n",
    "        'n_max_epochs': 3,\n",
    "        'loss_function': \"cross_entropy\",\n",
    "        'clip_grad_norm': False,\n",
    "        'optimization_metric': 'accuracy',\n",
    "        'task_type': \"classification\",\n",
    "    }\n",
    "}"
   ],
   "metadata": {
    "collapsed": false,
    "ExecuteTime": {
     "start_time": "2024-03-20T16:53:01.153646Z",
     "end_time": "2024-03-20T16:53:01.161647Z"
    }
   }
  },
  {
   "cell_type": "code",
   "execution_count": 2,
   "outputs": [],
   "source": [
    "from ptgnn.runtime_config.run_config import run_config"
   ],
   "metadata": {
    "collapsed": false,
    "ExecuteTime": {
     "start_time": "2024-03-20T16:53:01.893295Z",
     "end_time": "2024-03-20T16:53:05.433651Z"
    }
   }
  },
  {
   "cell_type": "code",
   "execution_count": 3,
   "outputs": [
    {
     "name": "stderr",
     "output_type": "stream",
     "text": [
      "100%|██████████| 1721/1721 [06:21<00:00,  4.51it/s]\n",
      "C:\\Users\\johan\\.conda\\envs\\Masterarbeit_PTGNN\\lib\\site-packages\\sklearn\\metrics\\_classification.py:1469: UndefinedMetricWarning: Precision is ill-defined and being set to 0.0 due to no predicted samples. Use `zero_division` parameter to control this behavior.\n",
      "  _warn_prf(average, modifier, msg_start, len(result))\n",
      "100%|██████████| 367/367 [00:29<00:00, 12.48it/s]\n",
      "C:\\Users\\johan\\.conda\\envs\\Masterarbeit_PTGNN\\lib\\site-packages\\sklearn\\metrics\\_classification.py:1469: UndefinedMetricWarning: Precision is ill-defined and being set to 0.0 due to no predicted samples. Use `zero_division` parameter to control this behavior.\n",
      "  _warn_prf(average, modifier, msg_start, len(result))\n",
      "100%|██████████| 1721/1721 [06:05<00:00,  4.71it/s]\n",
      "100%|██████████| 367/367 [00:21<00:00, 17.46it/s]\n",
      "100%|██████████| 1721/1721 [05:57<00:00,  4.82it/s]\n",
      "100%|██████████| 367/367 [00:26<00:00, 14.00it/s]\n"
     ]
    },
    {
     "data": {
      "text/plain": "   train_accuracy  train_precision  train_recall  train_f1  train_auc  \\\n0             0.5              0.0          0.00      0.00        0.5   \n1             0.5              0.5          0.35      0.41        0.5   \n2             0.5              0.5          0.41      0.45        0.5   \n\n   train_mean_loss  train_sum_loss  val_accuracy  val_precision  val_recall  \\\n0         0.709376     1220.836668           0.5            0.0        0.00   \n1         0.693245     1193.073927           0.5            0.5        0.59   \n2         0.693154     1192.917322           0.5            0.5        0.47   \n\n   val_f1  val_auc  val_mean_loss  val_sum_loss  \n0    0.00     0.50       0.709279    260.305530  \n1    0.54     0.50       0.693181    254.397484  \n2    0.49     0.51       0.693136    254.380885  ",
      "text/html": "<div>\n<style scoped>\n    .dataframe tbody tr th:only-of-type {\n        vertical-align: middle;\n    }\n\n    .dataframe tbody tr th {\n        vertical-align: top;\n    }\n\n    .dataframe thead th {\n        text-align: right;\n    }\n</style>\n<table border=\"1\" class=\"dataframe\">\n  <thead>\n    <tr style=\"text-align: right;\">\n      <th></th>\n      <th>train_accuracy</th>\n      <th>train_precision</th>\n      <th>train_recall</th>\n      <th>train_f1</th>\n      <th>train_auc</th>\n      <th>train_mean_loss</th>\n      <th>train_sum_loss</th>\n      <th>val_accuracy</th>\n      <th>val_precision</th>\n      <th>val_recall</th>\n      <th>val_f1</th>\n      <th>val_auc</th>\n      <th>val_mean_loss</th>\n      <th>val_sum_loss</th>\n    </tr>\n  </thead>\n  <tbody>\n    <tr>\n      <th>0</th>\n      <td>0.5</td>\n      <td>0.0</td>\n      <td>0.00</td>\n      <td>0.00</td>\n      <td>0.5</td>\n      <td>0.709376</td>\n      <td>1220.836668</td>\n      <td>0.5</td>\n      <td>0.0</td>\n      <td>0.00</td>\n      <td>0.00</td>\n      <td>0.50</td>\n      <td>0.709279</td>\n      <td>260.305530</td>\n    </tr>\n    <tr>\n      <th>1</th>\n      <td>0.5</td>\n      <td>0.5</td>\n      <td>0.35</td>\n      <td>0.41</td>\n      <td>0.5</td>\n      <td>0.693245</td>\n      <td>1193.073927</td>\n      <td>0.5</td>\n      <td>0.5</td>\n      <td>0.59</td>\n      <td>0.54</td>\n      <td>0.50</td>\n      <td>0.693181</td>\n      <td>254.397484</td>\n    </tr>\n    <tr>\n      <th>2</th>\n      <td>0.5</td>\n      <td>0.5</td>\n      <td>0.41</td>\n      <td>0.45</td>\n      <td>0.5</td>\n      <td>0.693154</td>\n      <td>1192.917322</td>\n      <td>0.5</td>\n      <td>0.5</td>\n      <td>0.47</td>\n      <td>0.49</td>\n      <td>0.51</td>\n      <td>0.693136</td>\n      <td>254.380885</td>\n    </tr>\n  </tbody>\n</table>\n</div>"
     },
     "metadata": {},
     "output_type": "display_data"
    }
   ],
   "source": [
    "run_config(sample_config)"
   ],
   "metadata": {
    "collapsed": false,
    "ExecuteTime": {
     "start_time": "2024-03-20T16:53:05.435735Z",
     "end_time": "2024-03-20T17:13:04.210899Z"
    }
   }
  },
  {
   "cell_type": "markdown",
   "source": [
    "# Importing and exporting configs"
   ],
   "metadata": {
    "collapsed": false
   }
  },
  {
   "cell_type": "code",
   "execution_count": 3,
   "outputs": [],
   "source": [
    "export_as(sample_config, \"config1.json\", save_type='json')"
   ],
   "metadata": {
    "collapsed": false,
    "ExecuteTime": {
     "start_time": "2024-03-26T19:08:17.861969Z",
     "end_time": "2024-03-26T19:08:17.882255Z"
    }
   }
  },
  {
   "cell_type": "code",
   "execution_count": 4,
   "outputs": [],
   "source": [
    "export_as(sample_config, \"config1.yaml\", save_type='yaml')"
   ],
   "metadata": {
    "collapsed": false,
    "ExecuteTime": {
     "start_time": "2024-03-26T19:08:18.285027Z",
     "end_time": "2024-03-26T19:08:18.311068Z"
    }
   }
  },
  {
   "cell_type": "code",
   "execution_count": 6,
   "outputs": [],
   "source": [
    "export_as({\n",
    "    'l': [\"test.xml\", \"test.json\"]\n",
    "}, \"test2.yaml\", save_type=\"yaml\")"
   ],
   "metadata": {
    "collapsed": false,
    "ExecuteTime": {
     "start_time": "2024-03-26T20:29:47.761529Z",
     "end_time": "2024-03-26T20:29:47.785962Z"
    }
   }
  },
  {
   "cell_type": "code",
   "execution_count": 12,
   "outputs": [],
   "source": [
    "export_as(sample_config2, \"config2.json\", save_type='json')"
   ],
   "metadata": {
    "collapsed": false,
    "ExecuteTime": {
     "start_time": "2024-03-08T15:41:28.195270Z",
     "end_time": "2024-03-08T15:41:28.203267Z"
    }
   }
  },
  {
   "cell_type": "code",
   "execution_count": 13,
   "outputs": [],
   "source": [
    "export_as(sample_config2, \"config2.yaml\", save_type='yaml')"
   ],
   "metadata": {
    "collapsed": false,
    "ExecuteTime": {
     "start_time": "2024-03-08T15:41:36.880537Z",
     "end_time": "2024-03-08T15:41:36.892537Z"
    }
   }
  },
  {
   "cell_type": "code",
   "execution_count": 14,
   "outputs": [
    {
     "data": {
      "text/plain": "{'data': {'dataset': {'type': 'rs', 'toast': 'browne'},\n  'loader': {'general': {'n_neighbors_in_circle': 3, 'batch_size': 3},\n   'train': {},\n   'test': {},\n   'val': {}}},\n 'model': {'mode': 'custom',\n  'hidden_dim': 128,\n  'modules': {'0': {'type': 'graph_embedding',\n    'node_type': 'linear',\n    'edge_type': 'linear'}}},\n 'optimizer': {'type': 'adam_w',\n  'base_learning_rate': 0.001,\n  'weight_decay': 1e-05},\n 'scheduler': {'type': 'cosine_with_warmup',\n  'num_warmup_epochs': 10,\n  'max_epochs': 100}}"
     },
     "execution_count": 14,
     "metadata": {},
     "output_type": "execute_result"
    }
   ],
   "source": [
    "import_as(\"config1.json\")"
   ],
   "metadata": {
    "collapsed": false,
    "ExecuteTime": {
     "start_time": "2024-03-08T15:43:18.226452Z",
     "end_time": "2024-03-08T15:43:18.241452Z"
    }
   }
  },
  {
   "cell_type": "code",
   "execution_count": 15,
   "outputs": [
    {
     "data": {
      "text/plain": "{'data': {'dataset': {'toast': 'browne', 'type': 'rs'},\n  'loader': {'general': {'batch_size': 3, 'n_neighbors_in_circle': 3},\n   'test': {},\n   'train': {},\n   'val': {}}},\n 'model': {'hidden_dim': 128,\n  'mode': 'custom',\n  'modules': {0: {'edge_type': 'linear',\n    'node_type': 'linear',\n    'type': 'graph_embedding'}}},\n 'optimizer': {'base_learning_rate': 0.001,\n  'type': 'adam_w',\n  'weight_decay': 1e-05},\n 'scheduler': {'max_epochs': 100,\n  'num_warmup_epochs': 10,\n  'type': 'cosine_with_warmup'}}"
     },
     "execution_count": 15,
     "metadata": {},
     "output_type": "execute_result"
    }
   ],
   "source": [
    "import_as(\"config1.yaml\")"
   ],
   "metadata": {
    "collapsed": false,
    "ExecuteTime": {
     "start_time": "2024-03-08T15:43:35.731329Z",
     "end_time": "2024-03-08T15:43:35.748325Z"
    }
   }
  },
  {
   "cell_type": "code",
   "execution_count": 16,
   "outputs": [
    {
     "data": {
      "text/plain": "{'data': {'dataset': {'type': 'rs'},\n  'loader': {'general': {'n_neighbors_in_circle': 3, 'batch_size': 3}}},\n 'model': {'mode': 'custom',\n  'hidden_dim': 128,\n  'modules': {'0': {'type': 'graph_embedding',\n    'node_type': 'linear',\n    'edge_type': 'linear'}}},\n 'optimizer': {'type': 'adam_w',\n  'base_learning_rate': 0.001,\n  'weight_decay': 1e-05},\n 'scheduler': {'type': 'cosine_with_warmup',\n  'num_warmup_epochs': 10,\n  'max_epochs': 100}}"
     },
     "execution_count": 16,
     "metadata": {},
     "output_type": "execute_result"
    }
   ],
   "source": [
    "import_as(\"config2.json\")"
   ],
   "metadata": {
    "collapsed": false,
    "ExecuteTime": {
     "start_time": "2024-03-08T15:43:54.299225Z",
     "end_time": "2024-03-08T15:43:54.307224Z"
    }
   }
  },
  {
   "cell_type": "code",
   "execution_count": 17,
   "outputs": [
    {
     "data": {
      "text/plain": "{'data': {'dataset': {'type': 'rs'},\n  'loader': {'general': {'batch_size': 3, 'n_neighbors_in_circle': 3}}},\n 'model': {'hidden_dim': 128,\n  'mode': 'custom',\n  'modules': {0: {'edge_type': 'linear',\n    'node_type': 'linear',\n    'type': 'graph_embedding'}}},\n 'optimizer': {'base_learning_rate': 0.001,\n  'type': 'adam_w',\n  'weight_decay': 1e-05},\n 'scheduler': {'max_epochs': 100,\n  'num_warmup_epochs': 10,\n  'type': 'cosine_with_warmup'}}"
     },
     "execution_count": 17,
     "metadata": {},
     "output_type": "execute_result"
    }
   ],
   "source": [
    "import_as(\"config2.yaml\")"
   ],
   "metadata": {
    "collapsed": false,
    "ExecuteTime": {
     "start_time": "2024-03-08T15:44:05.211664Z",
     "end_time": "2024-03-08T15:44:05.267185Z"
    }
   }
  },
  {
   "cell_type": "code",
   "execution_count": null,
   "outputs": [],
   "source": [],
   "metadata": {
    "collapsed": false
   }
  }
 ],
 "metadata": {
  "kernelspec": {
   "display_name": "Python 3",
   "language": "python",
   "name": "python3"
  },
  "language_info": {
   "codemirror_mode": {
    "name": "ipython",
    "version": 2
   },
   "file_extension": ".py",
   "mimetype": "text/x-python",
   "name": "python",
   "nbconvert_exporter": "python",
   "pygments_lexer": "ipython2",
   "version": "2.7.6"
  }
 },
 "nbformat": 4,
 "nbformat_minor": 0
}
