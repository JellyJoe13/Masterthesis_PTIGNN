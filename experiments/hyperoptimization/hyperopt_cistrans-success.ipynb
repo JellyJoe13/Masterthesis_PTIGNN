{
 "cells": [
  {
   "cell_type": "markdown",
   "metadata": {
    "collapsed": false,
    "jupyter": {
     "outputs_hidden": false
    }
   },
   "source": [
    "# Hyperoptimization"
   ]
  },
  {
   "cell_type": "markdown",
   "metadata": {
    "collapsed": false,
    "jupyter": {
     "outputs_hidden": false
    }
   },
   "source": [
    "## Import section"
   ]
  },
  {
   "cell_type": "code",
   "execution_count": 1,
   "metadata": {
    "ExecuteTime": {
     "start_time": "2024-04-06T14:25:13.280855Z",
     "end_time": "2024-04-06T14:25:17.791985Z"
    },
    "collapsed": false,
    "jupyter": {
     "outputs_hidden": false
    }
   },
   "outputs": [],
   "source": [
    "import sys\n",
    "import os\n",
    "from functools import partial\n",
    "\n",
    "import pandas as pd\n",
    "import ray\n",
    "from ray.tune import CLIReporter, JupyterNotebookReporter\n",
    "from ray.tune.schedulers import ASHAScheduler\n",
    "from ray.tune.search.hyperopt import HyperOptSearch\n",
    "\n",
    "sys.path.append(\"../../\")\n",
    "\n",
    "from ptgnn.runtime_config.config_helpers import run_config_adapter, load_and_merge_default_configs\n",
    "from ptgnn.runtime_config.config import import_as, export_as"
   ]
  },
  {
   "cell_type": "code",
   "execution_count": 2,
   "metadata": {
    "ExecuteTime": {
     "start_time": "2024-04-06T14:25:17.788985Z",
     "end_time": "2024-04-06T14:25:17.820985Z"
    },
    "collapsed": false,
    "jupyter": {
     "outputs_hidden": false
    }
   },
   "outputs": [],
   "source": [
    "from ray import tune, train\n",
    "import os"
   ]
  },
  {
   "cell_type": "markdown",
   "metadata": {
    "collapsed": false,
    "jupyter": {
     "outputs_hidden": false
    }
   },
   "source": [
    "## Load default config"
   ]
  },
  {
   "cell_type": "code",
   "execution_count": 6,
   "metadata": {
    "ExecuteTime": {
     "start_time": "2024-04-06T14:25:41.139407Z",
     "end_time": "2024-04-06T14:25:41.157030Z"
    },
    "collapsed": false,
    "jupyter": {
     "outputs_hidden": false
    }
   },
   "outputs": [
    {
     "data": {
      "text/plain": "{'output_dir': 'results/ez_ptree/edge/cistrans',\n 'config_files': ['configs/hyper_param_opt/epoch_reduction.yaml',\n  'configs/chem/cis_trans.yaml',\n  'configs/datasets/ez_dataset.yaml',\n  'configs/models/ptree_default.yaml',\n  'configs/general.yaml'],\n 'search_space': {'model': {'modules': {1: {'times': 'tune.randint(1,6)'}}}},\n 'hyper_settings': {'scheduler': {'grace_period': 2,\n   'reduction_factor': 3,\n   'brackets': 1},\n  'max_concurrent_trials': 2,\n  'num_samples': 4}}"
     },
     "metadata": {},
     "output_type": "display_data"
    }
   ],
   "source": [
    "# fetching config file\n",
    "benchmark_config = import_as(\"configs/benchmarking/ez/benchmark_instructions_ez_ptree_edge_cistrans.yaml\")\n",
    "display(benchmark_config)"
   ]
  },
  {
   "cell_type": "code",
   "execution_count": 7,
   "metadata": {
    "ExecuteTime": {
     "start_time": "2024-04-06T14:25:41.495584Z",
     "end_time": "2024-04-06T14:25:41.515582Z"
    },
    "collapsed": false,
    "jupyter": {
     "outputs_hidden": false
    }
   },
   "outputs": [
    {
     "data": {
      "text/plain": "{'training': {'n_max_epochs': 10,\n  'loss_function': 'cross_entropy',\n  'optimization_metric': 'accuracy',\n  'optimization_metric_mode': 'max',\n  'task_type': 'classification',\n  'clip_grad_norm': True},\n 'data': {'dataset': {'transformation_parameters': {'cis_trans_edges': True,\n    'k': 3},\n   'type': 'ez',\n   'mask_chiral_tags': True,\n   'graph_mode': 'edge',\n   'transformation_mode': 'permutation_tree'},\n  'loader': {'general': {'n_neighbors_in_circle': 3,\n    'batch_size': 32,\n    'num_workers': 0},\n   'train': {'sampler': 'full_batch'},\n   'val': {'sampler': 'full_batch'},\n   'test': {'sampler': 'full_batch'}}},\n 'model': {'out_dim': 1,\n  'mode': 'custom',\n  'hidden_dim': 128,\n  'modules': {0: {'type': 'graph_embedding',\n    'parameter': {'node_type': 'linear', 'edge_type': 'linear'}},\n   1: {'type': 'gps_layer',\n    'parameter': {'local_model': 'permutation_tree',\n     'local_model_params': {'k': 3}},\n    'times': 5}},\n  'head': {'type': 'san_head', 'n_layer': 3, 'pool_function': 'add'}},\n 'optimizer': {'type': 'adam_w',\n  'base_learning_rate': 0.001,\n  'weight_decay': 1e-05},\n 'scheduler': {'type': 'cosine_with_warmup',\n  'num_warmup_epochs': 10,\n  'max_epochs': 100}}"
     },
     "metadata": {},
     "output_type": "display_data"
    }
   ],
   "source": [
    "default_config = load_and_merge_default_configs(\n",
    "    benchmark_config['config_files']\n",
    ")\n",
    "display(default_config)"
   ]
  },
  {
   "cell_type": "code",
   "execution_count": 8,
   "metadata": {
    "ExecuteTime": {
     "start_time": "2024-04-06T14:25:41.967446Z",
     "end_time": "2024-04-06T14:25:41.983446Z"
    },
    "collapsed": false,
    "jupyter": {
     "outputs_hidden": false
    }
   },
   "outputs": [],
   "source": [
    "# create absolute path to root dict that is not hyper-opt-run specific\n",
    "default_config['data']['dataset']['root'] = os.path.abspath(\n",
    "    os.path.join(\"src\", default_config['data']['dataset']['type'])\n",
    ")"
   ]
  },
  {
   "cell_type": "code",
   "execution_count": 9,
   "metadata": {
    "ExecuteTime": {
     "start_time": "2024-04-06T14:25:42.315999Z",
     "end_time": "2024-04-06T14:25:42.341002Z"
    },
    "collapsed": false,
    "jupyter": {
     "outputs_hidden": false
    }
   },
   "outputs": [],
   "source": [
    "# currently limit number of epochs\n",
    "default_config['training']['n_max_epochs'] = 3"
   ]
  },
  {
   "cell_type": "code",
   "execution_count": 10,
   "metadata": {
    "ExecuteTime": {
     "start_time": "2024-04-06T14:25:42.759045Z",
     "end_time": "2024-04-06T14:25:42.775045Z"
    },
    "collapsed": false,
    "jupyter": {
     "outputs_hidden": false
    }
   },
   "outputs": [
    {
     "data": {
      "text/plain": "{'training': {'n_max_epochs': 3,\n  'loss_function': 'cross_entropy',\n  'optimization_metric': 'accuracy',\n  'optimization_metric_mode': 'max',\n  'task_type': 'classification',\n  'clip_grad_norm': True},\n 'data': {'dataset': {'transformation_parameters': {'cis_trans_edges': True,\n    'k': 3},\n   'type': 'ez',\n   'mask_chiral_tags': True,\n   'graph_mode': 'edge',\n   'transformation_mode': 'permutation_tree',\n   'root': 'D:\\\\DATEN\\\\Masterarbeit_PTGNN\\\\notebooks\\\\hyperoptimization\\\\src\\\\ez'},\n  'loader': {'general': {'n_neighbors_in_circle': 3,\n    'batch_size': 32,\n    'num_workers': 0},\n   'train': {'sampler': 'full_batch'},\n   'val': {'sampler': 'full_batch'},\n   'test': {'sampler': 'full_batch'}}},\n 'model': {'out_dim': 1,\n  'mode': 'custom',\n  'hidden_dim': 128,\n  'modules': {0: {'type': 'graph_embedding',\n    'parameter': {'node_type': 'linear', 'edge_type': 'linear'}},\n   1: {'type': 'gps_layer',\n    'parameter': {'local_model': 'permutation_tree',\n     'local_model_params': {'k': 3}},\n    'times': 5}},\n  'head': {'type': 'san_head', 'n_layer': 3, 'pool_function': 'add'}},\n 'optimizer': {'type': 'adam_w',\n  'base_learning_rate': 0.001,\n  'weight_decay': 1e-05},\n 'scheduler': {'type': 'cosine_with_warmup',\n  'num_warmup_epochs': 10,\n  'max_epochs': 100}}"
     },
     "metadata": {},
     "output_type": "display_data"
    }
   ],
   "source": [
    "display(default_config)"
   ]
  },
  {
   "cell_type": "markdown",
   "metadata": {
    "collapsed": false,
    "jupyter": {
     "outputs_hidden": false
    }
   },
   "source": [
    "## Define search space"
   ]
  },
  {
   "cell_type": "code",
   "execution_count": 11,
   "metadata": {
    "ExecuteTime": {
     "start_time": "2024-04-06T14:25:43.487665Z",
     "end_time": "2024-04-06T14:25:43.504664Z"
    },
    "collapsed": false,
    "jupyter": {
     "outputs_hidden": false
    }
   },
   "outputs": [],
   "source": [
    "def eval_search_space(d):\n",
    "    for key in d.keys():\n",
    "        temp = d[key]\n",
    "\n",
    "        if isinstance(temp, dict):\n",
    "            eval_search_space(temp)\n",
    "        elif isinstance(temp, str):\n",
    "            d[key] = eval(temp)\n",
    "        else:\n",
    "            raise Exception(\"unknown type in search space, only use str as values\")\n",
    "    return d"
   ]
  },
  {
   "cell_type": "code",
   "execution_count": 12,
   "metadata": {
    "ExecuteTime": {
     "start_time": "2024-04-06T14:25:43.871416Z",
     "end_time": "2024-04-06T14:25:43.882415Z"
    },
    "collapsed": false,
    "jupyter": {
     "outputs_hidden": false
    }
   },
   "outputs": [],
   "source": [
    "search_space = eval_search_space(benchmark_config['search_space'])"
   ]
  },
  {
   "cell_type": "markdown",
   "metadata": {
    "collapsed": false,
    "jupyter": {
     "outputs_hidden": false
    }
   },
   "source": [
    "## Define trainable function"
   ]
  },
  {
   "cell_type": "code",
   "execution_count": 13,
   "metadata": {
    "ExecuteTime": {
     "start_time": "2024-04-06T14:25:44.684744Z",
     "end_time": "2024-04-06T14:25:44.698744Z"
    },
    "collapsed": false,
    "jupyter": {
     "outputs_hidden": false
    }
   },
   "outputs": [],
   "source": [
    "#trainable_function = partial(\n",
    "#    run_config_adapter,\n",
    "#    default_config=default_config,\n",
    "#    report=True,\n",
    "#    verbose=False\n",
    "#)"
   ]
  },
  {
   "cell_type": "code",
   "execution_count": 14,
   "metadata": {
    "ExecuteTime": {
     "start_time": "2024-04-06T14:25:45.109605Z",
     "end_time": "2024-04-06T14:25:45.124605Z"
    },
    "collapsed": false,
    "jupyter": {
     "outputs_hidden": false
    }
   },
   "outputs": [],
   "source": [
    "def trainable_function(config):\n",
    "    run_config_adapter(\n",
    "        config,\n",
    "        default_config=default_config,\n",
    "        report=True,\n",
    "        verbose=False,\n",
    "        device=None\n",
    "    )"
   ]
  },
  {
   "cell_type": "markdown",
   "metadata": {
    "collapsed": false,
    "jupyter": {
     "outputs_hidden": false
    }
   },
   "source": [
    "## Short test"
   ]
  },
  {
   "cell_type": "code",
   "execution_count": 15,
   "metadata": {
    "ExecuteTime": {
     "start_time": "2024-04-06T14:25:46.020673Z",
     "end_time": "2024-04-06T14:25:46.032674Z"
    },
    "collapsed": false,
    "jupyter": {
     "outputs_hidden": false
    }
   },
   "outputs": [],
   "source": [
    "test_config = {\n",
    "    'training': {\n",
    "        'n_max_epochs': 2 # test 10\n",
    "    },\n",
    "    'model': {\n",
    "        'modules': {\n",
    "            1: {\n",
    "                'times': 10,\n",
    "                'parameter': {\n",
    "                    'dropout': 0.0\n",
    "                }\n",
    "            }\n",
    "        }\n",
    "    }\n",
    "}"
   ]
  },
  {
   "cell_type": "code",
   "execution_count": 16,
   "metadata": {
    "ExecuteTime": {
     "start_time": "2024-04-06T14:25:46.158188Z",
     "end_time": "2024-04-06T14:40:50.469932Z"
    },
    "collapsed": false,
    "jupyter": {
     "outputs_hidden": false
    }
   },
   "outputs": [
    {
     "name": "stderr",
     "output_type": "stream",
     "text": [
      "Processing...\n",
      "Split: train: 100%|██████████| 11784/11784 [02:54<00:00, 67.61it/s] \n",
      "Postprocessing matrices: 100%|██████████| 11784/11784 [00:00<00:00, 906627.01it/s]\n",
      "Done!\n",
      "Processing...\n",
      "Split: test: 100%|██████████| 2640/2640 [00:46<00:00, 56.30it/s] \n",
      "Postprocessing matrices: 100%|██████████| 2640/2640 [00:00<00:00, 879015.84it/s]\n",
      "Done!\n",
      "Processing...\n",
      "Split: val: 100%|██████████| 2374/2374 [00:48<00:00, 48.94it/s] \n",
      "Postprocessing matrices: 100%|██████████| 2374/2374 [00:00<00:00, 791453.60it/s]\n",
      "Done!\n"
     ]
    },
    {
     "name": "stdout",
     "output_type": "stream",
     "text": [
      "\n",
      "Epoch: 0\n"
     ]
    },
    {
     "name": "stderr",
     "output_type": "stream",
     "text": [
      "100%|██████████| 369/369 [05:00<00:00,  1.23it/s]\n",
      "100%|██████████| 75/75 [00:12<00:00,  5.89it/s]\n"
     ]
    },
    {
     "name": "stdout",
     "output_type": "stream",
     "text": [
      "\n",
      "Epoch: 1\n"
     ]
    },
    {
     "name": "stderr",
     "output_type": "stream",
     "text": [
      "100%|██████████| 369/369 [04:45<00:00,  1.29it/s]\n",
      "100%|██████████| 75/75 [00:11<00:00,  6.56it/s]\n"
     ]
    },
    {
     "data": {
      "text/plain": "   train_accuracy  train_precision  train_recall  train_f1  train_auc  \\\n0            0.50             0.50          0.09      0.15       0.50   \n1            0.64             0.64          0.64      0.64       0.73   \n\n   train_mean_loss  train_sum_loss  val_accuracy  val_precision  val_recall  \\\n0         0.907221      334.764431          0.50           0.50        0.08   \n1         0.575376      212.313731          0.93           0.87        1.00   \n\n   val_f1  val_auc  val_mean_loss  val_sum_loss  \n0    0.14     0.50       0.914335     68.575123  \n1    0.93     0.98       0.249908     18.743070  ",
      "text/html": "<div>\n<style scoped>\n    .dataframe tbody tr th:only-of-type {\n        vertical-align: middle;\n    }\n\n    .dataframe tbody tr th {\n        vertical-align: top;\n    }\n\n    .dataframe thead th {\n        text-align: right;\n    }\n</style>\n<table border=\"1\" class=\"dataframe\">\n  <thead>\n    <tr style=\"text-align: right;\">\n      <th></th>\n      <th>train_accuracy</th>\n      <th>train_precision</th>\n      <th>train_recall</th>\n      <th>train_f1</th>\n      <th>train_auc</th>\n      <th>train_mean_loss</th>\n      <th>train_sum_loss</th>\n      <th>val_accuracy</th>\n      <th>val_precision</th>\n      <th>val_recall</th>\n      <th>val_f1</th>\n      <th>val_auc</th>\n      <th>val_mean_loss</th>\n      <th>val_sum_loss</th>\n    </tr>\n  </thead>\n  <tbody>\n    <tr>\n      <th>0</th>\n      <td>0.50</td>\n      <td>0.50</td>\n      <td>0.09</td>\n      <td>0.15</td>\n      <td>0.50</td>\n      <td>0.907221</td>\n      <td>334.764431</td>\n      <td>0.50</td>\n      <td>0.50</td>\n      <td>0.08</td>\n      <td>0.14</td>\n      <td>0.50</td>\n      <td>0.914335</td>\n      <td>68.575123</td>\n    </tr>\n    <tr>\n      <th>1</th>\n      <td>0.64</td>\n      <td>0.64</td>\n      <td>0.64</td>\n      <td>0.64</td>\n      <td>0.73</td>\n      <td>0.575376</td>\n      <td>212.313731</td>\n      <td>0.93</td>\n      <td>0.87</td>\n      <td>1.00</td>\n      <td>0.93</td>\n      <td>0.98</td>\n      <td>0.249908</td>\n      <td>18.743070</td>\n    </tr>\n  </tbody>\n</table>\n</div>"
     },
     "execution_count": 16,
     "metadata": {},
     "output_type": "execute_result"
    }
   ],
   "source": [
    "test_fn = partial(\n",
    "    run_config_adapter,\n",
    "    default_config=default_config,\n",
    "    report=False,\n",
    "    verbose=True,\n",
    "    device='cuda'\n",
    ")\n",
    "test_fn(test_config)"
   ]
  },
  {
   "cell_type": "code",
   "execution_count": 16,
   "outputs": [
    {
     "name": "stderr",
     "output_type": "stream",
     "text": [
      "Processing...\n",
      "Split: train: 100%|██████████| 11784/11784 [02:54<00:00, 67.61it/s] \n",
      "Postprocessing matrices: 100%|██████████| 11784/11784 [00:00<00:00, 906627.01it/s]\n",
      "Done!\n",
      "Processing...\n",
      "Split: test: 100%|██████████| 2640/2640 [00:46<00:00, 56.30it/s] \n",
      "Postprocessing matrices: 100%|██████████| 2640/2640 [00:00<00:00, 879015.84it/s]\n",
      "Done!\n",
      "Processing...\n",
      "Split: val: 100%|██████████| 2374/2374 [00:48<00:00, 48.94it/s] \n",
      "Postprocessing matrices: 100%|██████████| 2374/2374 [00:00<00:00, 791453.60it/s]\n",
      "Done!\n"
     ]
    },
    {
     "name": "stdout",
     "output_type": "stream",
     "text": [
      "\n",
      "Epoch: 0\n"
     ]
    },
    {
     "name": "stderr",
     "output_type": "stream",
     "text": [
      "100%|██████████| 369/369 [05:00<00:00,  1.23it/s]\n",
      "100%|██████████| 75/75 [00:12<00:00,  5.89it/s]\n"
     ]
    },
    {
     "name": "stdout",
     "output_type": "stream",
     "text": [
      "\n",
      "Epoch: 1\n"
     ]
    },
    {
     "name": "stderr",
     "output_type": "stream",
     "text": [
      "100%|██████████| 369/369 [04:45<00:00,  1.29it/s]\n",
      "100%|██████████| 75/75 [00:11<00:00,  6.56it/s]\n"
     ]
    },
    {
     "data": {
      "text/plain": "   train_accuracy  train_precision  train_recall  train_f1  train_auc  \\\n0            0.50             0.50          0.09      0.15       0.50   \n1            0.64             0.64          0.64      0.64       0.73   \n\n   train_mean_loss  train_sum_loss  val_accuracy  val_precision  val_recall  \\\n0         0.907221      334.764431          0.50           0.50        0.08   \n1         0.575376      212.313731          0.93           0.87        1.00   \n\n   val_f1  val_auc  val_mean_loss  val_sum_loss  \n0    0.14     0.50       0.914335     68.575123  \n1    0.93     0.98       0.249908     18.743070  ",
      "text/html": "<div>\n<style scoped>\n    .dataframe tbody tr th:only-of-type {\n        vertical-align: middle;\n    }\n\n    .dataframe tbody tr th {\n        vertical-align: top;\n    }\n\n    .dataframe thead th {\n        text-align: right;\n    }\n</style>\n<table border=\"1\" class=\"dataframe\">\n  <thead>\n    <tr style=\"text-align: right;\">\n      <th></th>\n      <th>train_accuracy</th>\n      <th>train_precision</th>\n      <th>train_recall</th>\n      <th>train_f1</th>\n      <th>train_auc</th>\n      <th>train_mean_loss</th>\n      <th>train_sum_loss</th>\n      <th>val_accuracy</th>\n      <th>val_precision</th>\n      <th>val_recall</th>\n      <th>val_f1</th>\n      <th>val_auc</th>\n      <th>val_mean_loss</th>\n      <th>val_sum_loss</th>\n    </tr>\n  </thead>\n  <tbody>\n    <tr>\n      <th>0</th>\n      <td>0.50</td>\n      <td>0.50</td>\n      <td>0.09</td>\n      <td>0.15</td>\n      <td>0.50</td>\n      <td>0.907221</td>\n      <td>334.764431</td>\n      <td>0.50</td>\n      <td>0.50</td>\n      <td>0.08</td>\n      <td>0.14</td>\n      <td>0.50</td>\n      <td>0.914335</td>\n      <td>68.575123</td>\n    </tr>\n    <tr>\n      <th>1</th>\n      <td>0.64</td>\n      <td>0.64</td>\n      <td>0.64</td>\n      <td>0.64</td>\n      <td>0.73</td>\n      <td>0.575376</td>\n      <td>212.313731</td>\n      <td>0.93</td>\n      <td>0.87</td>\n      <td>1.00</td>\n      <td>0.93</td>\n      <td>0.98</td>\n      <td>0.249908</td>\n      <td>18.743070</td>\n    </tr>\n  </tbody>\n</table>\n</div>"
     },
     "execution_count": 16,
     "metadata": {},
     "output_type": "execute_result"
    }
   ],
   "source": [
    "test_fn = partial(\n",
    "    run_config_adapter,\n",
    "    default_config=default_config,\n",
    "    report=False,\n",
    "    verbose=True,\n",
    "    device='cuda'\n",
    ")\n",
    "test_fn(test_config)"
   ],
   "metadata": {
    "collapsed": false
   }
  },
  {
   "cell_type": "code",
   "execution_count": null,
   "outputs": [],
   "source": [
    "test_fn = partial(\n",
    "    run_config_adapter,\n",
    "    default_config=default_config,\n",
    "    report=False,\n",
    "    verbose=True,\n",
    "    device='cuda'\n",
    ")\n",
    "test_fn(test_config)"
   ],
   "metadata": {
    "collapsed": false,
    "pycharm": {
     "is_executing": true
    }
   }
  },
  {
   "cell_type": "code",
   "execution_count": 31,
   "metadata": {
    "ExecuteTime": {
     "end_time": "2024-03-26T19:27:41.313372Z",
     "start_time": "2024-03-26T19:21:04.632345Z"
    },
    "collapsed": false,
    "jupyter": {
     "outputs_hidden": false
    }
   },
   "outputs": [
    {
     "name": "stderr",
     "output_type": "stream",
     "text": [
      "312it [02:49,  1.84it/s]\n",
      "100%|██████████| 313/313 [00:32<00:00,  9.75it/s]\n",
      "312it [02:22,  2.20it/s]\n",
      "100%|██████████| 313/313 [00:28<00:00, 11.15it/s]\n"
     ]
    },
    {
     "data": {
      "text/html": [
       "<div>\n",
       "<style scoped>\n",
       "    .dataframe tbody tr th:only-of-type {\n",
       "        vertical-align: middle;\n",
       "    }\n",
       "\n",
       "    .dataframe tbody tr th {\n",
       "        vertical-align: top;\n",
       "    }\n",
       "\n",
       "    .dataframe thead th {\n",
       "        text-align: right;\n",
       "    }\n",
       "</style>\n",
       "<table border=\"1\" class=\"dataframe\">\n",
       "  <thead>\n",
       "    <tr style=\"text-align: right;\">\n",
       "      <th></th>\n",
       "      <th>train_accuracy</th>\n",
       "      <th>train_precision</th>\n",
       "      <th>train_recall</th>\n",
       "      <th>train_f1</th>\n",
       "      <th>train_auc</th>\n",
       "      <th>train_mean_loss</th>\n",
       "      <th>train_sum_loss</th>\n",
       "      <th>val_accuracy</th>\n",
       "      <th>val_precision</th>\n",
       "      <th>val_recall</th>\n",
       "      <th>val_f1</th>\n",
       "      <th>val_auc</th>\n",
       "      <th>val_mean_loss</th>\n",
       "      <th>val_sum_loss</th>\n",
       "    </tr>\n",
       "  </thead>\n",
       "  <tbody>\n",
       "    <tr>\n",
       "      <th>0</th>\n",
       "      <td>0.51</td>\n",
       "      <td>0.67</td>\n",
       "      <td>0.05</td>\n",
       "      <td>0.10</td>\n",
       "      <td>0.55</td>\n",
       "      <td>0.981054</td>\n",
       "      <td>306.089000</td>\n",
       "      <td>0.51</td>\n",
       "      <td>0.67</td>\n",
       "      <td>0.05</td>\n",
       "      <td>0.09</td>\n",
       "      <td>0.55</td>\n",
       "      <td>0.976364</td>\n",
       "      <td>305.601873</td>\n",
       "    </tr>\n",
       "    <tr>\n",
       "      <th>1</th>\n",
       "      <td>0.99</td>\n",
       "      <td>1.00</td>\n",
       "      <td>0.99</td>\n",
       "      <td>0.99</td>\n",
       "      <td>1.00</td>\n",
       "      <td>0.017814</td>\n",
       "      <td>5.557829</td>\n",
       "      <td>1.00</td>\n",
       "      <td>1.00</td>\n",
       "      <td>1.00</td>\n",
       "      <td>1.00</td>\n",
       "      <td>1.00</td>\n",
       "      <td>0.000069</td>\n",
       "      <td>0.021534</td>\n",
       "    </tr>\n",
       "  </tbody>\n",
       "</table>\n",
       "</div>"
      ],
      "text/plain": [
       "   train_accuracy  train_precision  train_recall  train_f1  train_auc  \\\n",
       "0            0.51             0.67          0.05      0.10       0.55   \n",
       "1            0.99             1.00          0.99      0.99       1.00   \n",
       "\n",
       "   train_mean_loss  train_sum_loss  val_accuracy  val_precision  val_recall  \\\n",
       "0         0.981054      306.089000          0.51           0.67        0.05   \n",
       "1         0.017814        5.557829          1.00           1.00        1.00   \n",
       "\n",
       "   val_f1  val_auc  val_mean_loss  val_sum_loss  \n",
       "0    0.09     0.55       0.976364    305.601873  \n",
       "1    1.00     1.00       0.000069      0.021534  "
      ]
     },
     "execution_count": 31,
     "metadata": {},
     "output_type": "execute_result"
    }
   ],
   "source": [
    "test_fn = partial(\n",
    "    run_config_adapter,\n",
    "    default_config=default_config,\n",
    "    report=False,\n",
    "    verbose=True,\n",
    "    device='cpu'\n",
    ")\n",
    "test_fn(test_config)"
   ]
  },
  {
   "cell_type": "markdown",
   "metadata": {
    "collapsed": false,
    "jupyter": {
     "outputs_hidden": false
    }
   },
   "source": [
    "## Set up tuner"
   ]
  },
  {
   "cell_type": "code",
   "execution_count": 12,
   "metadata": {
    "ExecuteTime": {
     "end_time": "2024-03-27T10:48:39.677348Z",
     "start_time": "2024-03-27T10:48:39.662347Z"
    },
    "collapsed": false,
    "jupyter": {
     "outputs_hidden": false
    }
   },
   "outputs": [],
   "source": [
    "# fetch score to optimize\n",
    "optimization_score = \"val_\" + default_config['training']['optimization_metric']\n",
    "score_mode = default_config['training']['optimization_metric_mode']"
   ]
  },
  {
   "cell_type": "code",
   "execution_count": null,
   "metadata": {
    "collapsed": false,
    "jupyter": {
     "outputs_hidden": false
    }
   },
   "outputs": [],
   "source": [
    "# fetch hyperopt settings\n",
    "hyper_settings = benchmark_config['hyper_settings']"
   ]
  },
  {
   "cell_type": "code",
   "execution_count": null,
   "outputs": [],
   "source": [
    "ray.init(runtime_env={\n",
    "    \"working_dir\": \"../../\"\n",
    "})"
   ],
   "metadata": {
    "collapsed": false
   }
  },
  {
   "cell_type": "code",
   "execution_count": 13,
   "metadata": {
    "ExecuteTime": {
     "end_time": "2024-03-27T10:52:52.361601Z",
     "start_time": "2024-03-27T10:48:51.768705Z"
    },
    "collapsed": false,
    "jupyter": {
     "outputs_hidden": false
    }
   },
   "outputs": [
    {
     "name": "stderr",
     "output_type": "stream",
     "text": [
      "2024-03-27 10:48:54,163\tINFO worker.py:1724 -- Started a local Ray instance.\n",
      "2024-03-27 10:48:55,338\tINFO tune.py:220 -- Initializing Ray automatically. For cluster usage or custom Ray initialization, call `ray.init(...)` before `Tuner(...)`.\n",
      "2024-03-27 10:48:55,340\tINFO tune.py:583 -- [output] This uses the legacy output and progress reporter, as Jupyter notebooks are not supported by the new engine, yet. For more information, please see https://github.com/ray-project/ray/issues/36949\n"
     ]
    },
    {
     "name": "stdout",
     "output_type": "stream",
     "text": [
      "== Status ==\n",
      "Current time: 2024-03-27 10:48:55 (running for 00:00:00.11)\n",
      "Using AsyncHyperBand: num_stopped=0\n",
      "Bracket: Iter 81.000: None | Iter 27.000: None | Iter 9.000: None | Iter 3.000: None | Iter 1.000: None\n",
      "Logical resource usage: 5.0/20 CPUs, 0.5/1 GPUs (0.0/1.0 accelerator_type:G)\n",
      "Result logdir: C:/Users/johan/ray_results/trainable_function_2024-03-27_10-48-51\n",
      "Number of trials: 1/2 (1 PENDING)\n",
      "+-----------------------------+----------+-------+------------------------+\n",
      "| Trial name                  | status   | loc   | model/modules/1/time   |\n",
      "|                             |          |       | s                      |\n",
      "|-----------------------------+----------+-------+------------------------|\n",
      "| trainable_function_eef38c8f | PENDING  |       |                        |\n",
      "+-----------------------------+----------+-------+------------------------+\n",
      "\n",
      "\n",
      "== Status ==\n",
      "Current time: 2024-03-27 10:49:00 (running for 00:00:05.18)\n",
      "Using AsyncHyperBand: num_stopped=0\n",
      "Bracket: Iter 81.000: None | Iter 27.000: None | Iter 9.000: None | Iter 3.000: None | Iter 1.000: None\n",
      "Logical resource usage: 10.0/20 CPUs, 1.0/1 GPUs (0.0/1.0 accelerator_type:G)\n",
      "Result logdir: C:/Users/johan/ray_results/trainable_function_2024-03-27_10-48-51\n",
      "Number of trials: 2/2 (1 PENDING, 1 RUNNING)\n",
      "+-----------------------------+----------+-----------------+------------------------+\n",
      "| Trial name                  | status   | loc             | model/modules/1/time   |\n",
      "|                             |          |                 | s                      |\n",
      "|-----------------------------+----------+-----------------+------------------------|\n",
      "| trainable_function_eef38c8f | RUNNING  | 127.0.0.1:65460 |                        |\n",
      "| trainable_function_f66869a0 | PENDING  |                 |                        |\n",
      "+-----------------------------+----------+-----------------+------------------------+\n",
      "\n",
      "\n",
      "== Status ==\n",
      "Current time: 2024-03-27 10:49:05 (running for 00:00:10.20)\n",
      "Using AsyncHyperBand: num_stopped=0\n",
      "Bracket: Iter 81.000: None | Iter 27.000: None | Iter 9.000: None | Iter 3.000: None | Iter 1.000: None\n",
      "Logical resource usage: 10.0/20 CPUs, 1.0/1 GPUs (0.0/1.0 accelerator_type:G)\n",
      "Result logdir: C:/Users/johan/ray_results/trainable_function_2024-03-27_10-48-51\n",
      "Number of trials: 2/2 (1 PENDING, 1 RUNNING)\n",
      "+-----------------------------+----------+-----------------+------------------------+\n",
      "| Trial name                  | status   | loc             | model/modules/1/time   |\n",
      "|                             |          |                 | s                      |\n",
      "|-----------------------------+----------+-----------------+------------------------|\n",
      "| trainable_function_eef38c8f | RUNNING  | 127.0.0.1:65460 |                        |\n",
      "| trainable_function_f66869a0 | PENDING  |                 |                        |\n",
      "+-----------------------------+----------+-----------------+------------------------+\n",
      "\n",
      "\n",
      "== Status ==\n",
      "Current time: 2024-03-27 10:49:10 (running for 00:00:15.25)\n",
      "Using AsyncHyperBand: num_stopped=0\n",
      "Bracket: Iter 81.000: None | Iter 27.000: None | Iter 9.000: None | Iter 3.000: None | Iter 1.000: None\n",
      "Logical resource usage: 10.0/20 CPUs, 1.0/1 GPUs (0.0/1.0 accelerator_type:G)\n",
      "Result logdir: C:/Users/johan/ray_results/trainable_function_2024-03-27_10-48-51\n",
      "Number of trials: 2/2 (2 RUNNING)\n",
      "+-----------------------------+----------+-----------------+------------------------+\n",
      "| Trial name                  | status   | loc             | model/modules/1/time   |\n",
      "|                             |          |                 | s                      |\n",
      "|-----------------------------+----------+-----------------+------------------------|\n",
      "| trainable_function_eef38c8f | RUNNING  | 127.0.0.1:65460 |                        |\n",
      "| trainable_function_f66869a0 | RUNNING  | 127.0.0.1:37364 |                        |\n",
      "+-----------------------------+----------+-----------------+------------------------+\n",
      "\n",
      "\n",
      "== Status ==\n",
      "Current time: 2024-03-27 10:49:15 (running for 00:00:20.27)\n",
      "Using AsyncHyperBand: num_stopped=0\n",
      "Bracket: Iter 81.000: None | Iter 27.000: None | Iter 9.000: None | Iter 3.000: None | Iter 1.000: None\n",
      "Logical resource usage: 10.0/20 CPUs, 1.0/1 GPUs (0.0/1.0 accelerator_type:G)\n",
      "Result logdir: C:/Users/johan/ray_results/trainable_function_2024-03-27_10-48-51\n",
      "Number of trials: 2/2 (2 RUNNING)\n",
      "+-----------------------------+----------+-----------------+------------------------+\n",
      "| Trial name                  | status   | loc             | model/modules/1/time   |\n",
      "|                             |          |                 | s                      |\n",
      "|-----------------------------+----------+-----------------+------------------------|\n",
      "| trainable_function_eef38c8f | RUNNING  | 127.0.0.1:65460 |                        |\n",
      "| trainable_function_f66869a0 | RUNNING  | 127.0.0.1:37364 |                        |\n",
      "+-----------------------------+----------+-----------------+------------------------+\n",
      "\n",
      "\n",
      "== Status ==\n",
      "Current time: 2024-03-27 10:49:20 (running for 00:00:25.31)\n",
      "Using AsyncHyperBand: num_stopped=0\n",
      "Bracket: Iter 81.000: None | Iter 27.000: None | Iter 9.000: None | Iter 3.000: None | Iter 1.000: None\n",
      "Logical resource usage: 10.0/20 CPUs, 1.0/1 GPUs (0.0/1.0 accelerator_type:G)\n",
      "Result logdir: C:/Users/johan/ray_results/trainable_function_2024-03-27_10-48-51\n",
      "Number of trials: 2/2 (2 RUNNING)\n",
      "+-----------------------------+----------+-----------------+------------------------+\n",
      "| Trial name                  | status   | loc             | model/modules/1/time   |\n",
      "|                             |          |                 | s                      |\n",
      "|-----------------------------+----------+-----------------+------------------------|\n",
      "| trainable_function_eef38c8f | RUNNING  | 127.0.0.1:65460 |                        |\n",
      "| trainable_function_f66869a0 | RUNNING  | 127.0.0.1:37364 |                        |\n",
      "+-----------------------------+----------+-----------------+------------------------+\n",
      "\n",
      "\n",
      "== Status ==\n",
      "Current time: 2024-03-27 10:49:25 (running for 00:00:30.35)\n",
      "Using AsyncHyperBand: num_stopped=0\n",
      "Bracket: Iter 81.000: None | Iter 27.000: None | Iter 9.000: None | Iter 3.000: None | Iter 1.000: None\n",
      "Logical resource usage: 10.0/20 CPUs, 1.0/1 GPUs (0.0/1.0 accelerator_type:G)\n",
      "Result logdir: C:/Users/johan/ray_results/trainable_function_2024-03-27_10-48-51\n",
      "Number of trials: 2/2 (2 RUNNING)\n",
      "+-----------------------------+----------+-----------------+------------------------+\n",
      "| Trial name                  | status   | loc             | model/modules/1/time   |\n",
      "|                             |          |                 | s                      |\n",
      "|-----------------------------+----------+-----------------+------------------------|\n",
      "| trainable_function_eef38c8f | RUNNING  | 127.0.0.1:65460 |                        |\n",
      "| trainable_function_f66869a0 | RUNNING  | 127.0.0.1:37364 |                        |\n",
      "+-----------------------------+----------+-----------------+------------------------+\n",
      "\n",
      "\n",
      "== Status ==\n",
      "Current time: 2024-03-27 10:49:30 (running for 00:00:35.39)\n",
      "Using AsyncHyperBand: num_stopped=0\n",
      "Bracket: Iter 81.000: None | Iter 27.000: None | Iter 9.000: None | Iter 3.000: None | Iter 1.000: None\n",
      "Logical resource usage: 10.0/20 CPUs, 1.0/1 GPUs (0.0/1.0 accelerator_type:G)\n",
      "Result logdir: C:/Users/johan/ray_results/trainable_function_2024-03-27_10-48-51\n",
      "Number of trials: 2/2 (2 RUNNING)\n",
      "+-----------------------------+----------+-----------------+------------------------+\n",
      "| Trial name                  | status   | loc             | model/modules/1/time   |\n",
      "|                             |          |                 | s                      |\n",
      "|-----------------------------+----------+-----------------+------------------------|\n",
      "| trainable_function_eef38c8f | RUNNING  | 127.0.0.1:65460 |                        |\n",
      "| trainable_function_f66869a0 | RUNNING  | 127.0.0.1:37364 |                        |\n",
      "+-----------------------------+----------+-----------------+------------------------+\n",
      "\n",
      "\n",
      "== Status ==\n",
      "Current time: 2024-03-27 10:49:35 (running for 00:00:40.41)\n",
      "Using AsyncHyperBand: num_stopped=0\n",
      "Bracket: Iter 81.000: None | Iter 27.000: None | Iter 9.000: None | Iter 3.000: None | Iter 1.000: None\n",
      "Logical resource usage: 10.0/20 CPUs, 1.0/1 GPUs (0.0/1.0 accelerator_type:G)\n",
      "Result logdir: C:/Users/johan/ray_results/trainable_function_2024-03-27_10-48-51\n",
      "Number of trials: 2/2 (2 RUNNING)\n",
      "+-----------------------------+----------+-----------------+------------------------+\n",
      "| Trial name                  | status   | loc             | model/modules/1/time   |\n",
      "|                             |          |                 | s                      |\n",
      "|-----------------------------+----------+-----------------+------------------------|\n",
      "| trainable_function_eef38c8f | RUNNING  | 127.0.0.1:65460 |                        |\n",
      "| trainable_function_f66869a0 | RUNNING  | 127.0.0.1:37364 |                        |\n",
      "+-----------------------------+----------+-----------------+------------------------+\n",
      "\n",
      "\n",
      "== Status ==\n",
      "Current time: 2024-03-27 10:49:40 (running for 00:00:45.41)\n",
      "Using AsyncHyperBand: num_stopped=0\n",
      "Bracket: Iter 81.000: None | Iter 27.000: None | Iter 9.000: None | Iter 3.000: None | Iter 1.000: None\n",
      "Logical resource usage: 10.0/20 CPUs, 1.0/1 GPUs (0.0/1.0 accelerator_type:G)\n",
      "Result logdir: C:/Users/johan/ray_results/trainable_function_2024-03-27_10-48-51\n",
      "Number of trials: 2/2 (2 RUNNING)\n",
      "+-----------------------------+----------+-----------------+------------------------+\n",
      "| Trial name                  | status   | loc             | model/modules/1/time   |\n",
      "|                             |          |                 | s                      |\n",
      "|-----------------------------+----------+-----------------+------------------------|\n",
      "| trainable_function_eef38c8f | RUNNING  | 127.0.0.1:65460 |                        |\n",
      "| trainable_function_f66869a0 | RUNNING  | 127.0.0.1:37364 |                        |\n",
      "+-----------------------------+----------+-----------------+------------------------+\n",
      "\n",
      "\n",
      "== Status ==\n",
      "Current time: 2024-03-27 10:49:45 (running for 00:00:50.43)\n",
      "Using AsyncHyperBand: num_stopped=0\n",
      "Bracket: Iter 81.000: None | Iter 27.000: None | Iter 9.000: None | Iter 3.000: None | Iter 1.000: None\n",
      "Logical resource usage: 10.0/20 CPUs, 1.0/1 GPUs (0.0/1.0 accelerator_type:G)\n",
      "Result logdir: C:/Users/johan/ray_results/trainable_function_2024-03-27_10-48-51\n",
      "Number of trials: 2/2 (2 RUNNING)\n",
      "+-----------------------------+----------+-----------------+------------------------+\n",
      "| Trial name                  | status   | loc             | model/modules/1/time   |\n",
      "|                             |          |                 | s                      |\n",
      "|-----------------------------+----------+-----------------+------------------------|\n",
      "| trainable_function_eef38c8f | RUNNING  | 127.0.0.1:65460 |                        |\n",
      "| trainable_function_f66869a0 | RUNNING  | 127.0.0.1:37364 |                        |\n",
      "+-----------------------------+----------+-----------------+------------------------+\n",
      "\n",
      "\n",
      "== Status ==\n",
      "Current time: 2024-03-27 10:49:50 (running for 00:00:55.44)\n",
      "Using AsyncHyperBand: num_stopped=0\n",
      "Bracket: Iter 81.000: None | Iter 27.000: None | Iter 9.000: None | Iter 3.000: None | Iter 1.000: None\n",
      "Logical resource usage: 10.0/20 CPUs, 1.0/1 GPUs (0.0/1.0 accelerator_type:G)\n",
      "Result logdir: C:/Users/johan/ray_results/trainable_function_2024-03-27_10-48-51\n",
      "Number of trials: 2/2 (2 RUNNING)\n",
      "+-----------------------------+----------+-----------------+------------------------+\n",
      "| Trial name                  | status   | loc             | model/modules/1/time   |\n",
      "|                             |          |                 | s                      |\n",
      "|-----------------------------+----------+-----------------+------------------------|\n",
      "| trainable_function_eef38c8f | RUNNING  | 127.0.0.1:65460 |                        |\n",
      "| trainable_function_f66869a0 | RUNNING  | 127.0.0.1:37364 |                        |\n",
      "+-----------------------------+----------+-----------------+------------------------+\n",
      "\n",
      "\n",
      "== Status ==\n",
      "Current time: 2024-03-27 10:49:55 (running for 00:01:00.45)\n",
      "Using AsyncHyperBand: num_stopped=0\n",
      "Bracket: Iter 81.000: None | Iter 27.000: None | Iter 9.000: None | Iter 3.000: None | Iter 1.000: None\n",
      "Logical resource usage: 10.0/20 CPUs, 1.0/1 GPUs (0.0/1.0 accelerator_type:G)\n",
      "Result logdir: C:/Users/johan/ray_results/trainable_function_2024-03-27_10-48-51\n",
      "Number of trials: 2/2 (2 RUNNING)\n",
      "+-----------------------------+----------+-----------------+------------------------+\n",
      "| Trial name                  | status   | loc             | model/modules/1/time   |\n",
      "|                             |          |                 | s                      |\n",
      "|-----------------------------+----------+-----------------+------------------------|\n",
      "| trainable_function_eef38c8f | RUNNING  | 127.0.0.1:65460 |                        |\n",
      "| trainable_function_f66869a0 | RUNNING  | 127.0.0.1:37364 |                        |\n",
      "+-----------------------------+----------+-----------------+------------------------+\n",
      "\n",
      "\n",
      "== Status ==\n",
      "Current time: 2024-03-27 10:50:00 (running for 00:01:05.46)\n",
      "Using AsyncHyperBand: num_stopped=0\n",
      "Bracket: Iter 81.000: None | Iter 27.000: None | Iter 9.000: None | Iter 3.000: None | Iter 1.000: None\n",
      "Logical resource usage: 10.0/20 CPUs, 1.0/1 GPUs (0.0/1.0 accelerator_type:G)\n",
      "Result logdir: C:/Users/johan/ray_results/trainable_function_2024-03-27_10-48-51\n",
      "Number of trials: 2/2 (2 RUNNING)\n",
      "+-----------------------------+----------+-----------------+------------------------+\n",
      "| Trial name                  | status   | loc             | model/modules/1/time   |\n",
      "|                             |          |                 | s                      |\n",
      "|-----------------------------+----------+-----------------+------------------------|\n",
      "| trainable_function_eef38c8f | RUNNING  | 127.0.0.1:65460 |                        |\n",
      "| trainable_function_f66869a0 | RUNNING  | 127.0.0.1:37364 |                        |\n",
      "+-----------------------------+----------+-----------------+------------------------+\n",
      "\n",
      "\n",
      "== Status ==\n",
      "Current time: 2024-03-27 10:50:05 (running for 00:01:10.48)\n",
      "Using AsyncHyperBand: num_stopped=0\n",
      "Bracket: Iter 81.000: None | Iter 27.000: None | Iter 9.000: None | Iter 3.000: None | Iter 1.000: None\n",
      "Logical resource usage: 10.0/20 CPUs, 1.0/1 GPUs (0.0/1.0 accelerator_type:G)\n",
      "Result logdir: C:/Users/johan/ray_results/trainable_function_2024-03-27_10-48-51\n",
      "Number of trials: 2/2 (2 RUNNING)\n",
      "+-----------------------------+----------+-----------------+------------------------+\n",
      "| Trial name                  | status   | loc             | model/modules/1/time   |\n",
      "|                             |          |                 | s                      |\n",
      "|-----------------------------+----------+-----------------+------------------------|\n",
      "| trainable_function_eef38c8f | RUNNING  | 127.0.0.1:65460 |                        |\n",
      "| trainable_function_f66869a0 | RUNNING  | 127.0.0.1:37364 |                        |\n",
      "+-----------------------------+----------+-----------------+------------------------+\n",
      "\n",
      "\n",
      "== Status ==\n",
      "Current time: 2024-03-27 10:50:10 (running for 00:01:15.49)\n",
      "Using AsyncHyperBand: num_stopped=0\n",
      "Bracket: Iter 81.000: None | Iter 27.000: None | Iter 9.000: None | Iter 3.000: None | Iter 1.000: None\n",
      "Logical resource usage: 10.0/20 CPUs, 1.0/1 GPUs (0.0/1.0 accelerator_type:G)\n",
      "Result logdir: C:/Users/johan/ray_results/trainable_function_2024-03-27_10-48-51\n",
      "Number of trials: 2/2 (2 RUNNING)\n",
      "+-----------------------------+----------+-----------------+------------------------+\n",
      "| Trial name                  | status   | loc             | model/modules/1/time   |\n",
      "|                             |          |                 | s                      |\n",
      "|-----------------------------+----------+-----------------+------------------------|\n",
      "| trainable_function_eef38c8f | RUNNING  | 127.0.0.1:65460 |                        |\n",
      "| trainable_function_f66869a0 | RUNNING  | 127.0.0.1:37364 |                        |\n",
      "+-----------------------------+----------+-----------------+------------------------+\n",
      "\n",
      "\n",
      "== Status ==\n",
      "Current time: 2024-03-27 10:50:15 (running for 00:01:20.52)\n",
      "Using AsyncHyperBand: num_stopped=0\n",
      "Bracket: Iter 81.000: None | Iter 27.000: None | Iter 9.000: None | Iter 3.000: None | Iter 1.000: None\n",
      "Logical resource usage: 10.0/20 CPUs, 1.0/1 GPUs (0.0/1.0 accelerator_type:G)\n",
      "Result logdir: C:/Users/johan/ray_results/trainable_function_2024-03-27_10-48-51\n",
      "Number of trials: 2/2 (2 RUNNING)\n",
      "+-----------------------------+----------+-----------------+------------------------+\n",
      "| Trial name                  | status   | loc             | model/modules/1/time   |\n",
      "|                             |          |                 | s                      |\n",
      "|-----------------------------+----------+-----------------+------------------------|\n",
      "| trainable_function_eef38c8f | RUNNING  | 127.0.0.1:65460 |                        |\n",
      "| trainable_function_f66869a0 | RUNNING  | 127.0.0.1:37364 |                        |\n",
      "+-----------------------------+----------+-----------------+------------------------+\n",
      "\n",
      "\n",
      "== Status ==\n",
      "Current time: 2024-03-27 10:50:20 (running for 00:01:25.53)\n",
      "Using AsyncHyperBand: num_stopped=0\n",
      "Bracket: Iter 81.000: None | Iter 27.000: None | Iter 9.000: None | Iter 3.000: None | Iter 1.000: None\n",
      "Logical resource usage: 10.0/20 CPUs, 1.0/1 GPUs (0.0/1.0 accelerator_type:G)\n",
      "Result logdir: C:/Users/johan/ray_results/trainable_function_2024-03-27_10-48-51\n",
      "Number of trials: 2/2 (2 RUNNING)\n",
      "+-----------------------------+----------+-----------------+------------------------+\n",
      "| Trial name                  | status   | loc             | model/modules/1/time   |\n",
      "|                             |          |                 | s                      |\n",
      "|-----------------------------+----------+-----------------+------------------------|\n",
      "| trainable_function_eef38c8f | RUNNING  | 127.0.0.1:65460 |                        |\n",
      "| trainable_function_f66869a0 | RUNNING  | 127.0.0.1:37364 |                        |\n",
      "+-----------------------------+----------+-----------------+------------------------+\n",
      "\n",
      "\n",
      "== Status ==\n",
      "Current time: 2024-03-27 10:50:25 (running for 00:01:30.56)\n",
      "Using AsyncHyperBand: num_stopped=0\n",
      "Bracket: Iter 81.000: None | Iter 27.000: None | Iter 9.000: None | Iter 3.000: None | Iter 1.000: None\n",
      "Logical resource usage: 10.0/20 CPUs, 1.0/1 GPUs (0.0/1.0 accelerator_type:G)\n",
      "Result logdir: C:/Users/johan/ray_results/trainable_function_2024-03-27_10-48-51\n",
      "Number of trials: 2/2 (2 RUNNING)\n",
      "+-----------------------------+----------+-----------------+------------------------+\n",
      "| Trial name                  | status   | loc             | model/modules/1/time   |\n",
      "|                             |          |                 | s                      |\n",
      "|-----------------------------+----------+-----------------+------------------------|\n",
      "| trainable_function_eef38c8f | RUNNING  | 127.0.0.1:65460 |                        |\n",
      "| trainable_function_f66869a0 | RUNNING  | 127.0.0.1:37364 |                        |\n",
      "+-----------------------------+----------+-----------------+------------------------+\n",
      "\n",
      "\n",
      "== Status ==\n",
      "Current time: 2024-03-27 10:50:30 (running for 00:01:35.57)\n",
      "Using AsyncHyperBand: num_stopped=0\n",
      "Bracket: Iter 81.000: None | Iter 27.000: None | Iter 9.000: None | Iter 3.000: None | Iter 1.000: 0.49\n",
      "Logical resource usage: 10.0/20 CPUs, 1.0/1 GPUs (0.0/1.0 accelerator_type:G)\n",
      "Current best trial: eef38c8f with val_accuracy=0.49 and parameters={'model': {'modules': {1: {'times': 2}}}}\n",
      "Result logdir: C:/Users/johan/ray_results/trainable_function_2024-03-27_10-48-51\n",
      "Number of trials: 2/2 (2 RUNNING)\n",
      "+-----------------------------+----------+-----------------+------------------------+\n",
      "| Trial name                  | status   | loc             | model/modules/1/time   |\n",
      "|                             |          |                 | s                      |\n",
      "|-----------------------------+----------+-----------------+------------------------|\n",
      "| trainable_function_eef38c8f | RUNNING  | 127.0.0.1:65460 |                        |\n",
      "| trainable_function_f66869a0 | RUNNING  | 127.0.0.1:37364 |                        |\n",
      "+-----------------------------+----------+-----------------+------------------------+\n",
      "\n",
      "\n",
      "== Status ==\n",
      "Current time: 2024-03-27 10:50:35 (running for 00:01:40.60)\n",
      "Using AsyncHyperBand: num_stopped=0\n",
      "Bracket: Iter 81.000: None | Iter 27.000: None | Iter 9.000: None | Iter 3.000: None | Iter 1.000: 0.49\n",
      "Logical resource usage: 10.0/20 CPUs, 1.0/1 GPUs (0.0/1.0 accelerator_type:G)\n",
      "Current best trial: eef38c8f with val_accuracy=0.49 and parameters={'model': {'modules': {1: {'times': 2}}}}\n",
      "Result logdir: C:/Users/johan/ray_results/trainable_function_2024-03-27_10-48-51\n",
      "Number of trials: 2/2 (2 RUNNING)\n",
      "+-----------------------------+----------+-----------------+------------------------+\n",
      "| Trial name                  | status   | loc             | model/modules/1/time   |\n",
      "|                             |          |                 | s                      |\n",
      "|-----------------------------+----------+-----------------+------------------------|\n",
      "| trainable_function_eef38c8f | RUNNING  | 127.0.0.1:65460 |                        |\n",
      "| trainable_function_f66869a0 | RUNNING  | 127.0.0.1:37364 |                        |\n",
      "+-----------------------------+----------+-----------------+------------------------+\n",
      "\n",
      "\n",
      "== Status ==\n",
      "Current time: 2024-03-27 10:50:41 (running for 00:01:45.66)\n",
      "Using AsyncHyperBand: num_stopped=0\n",
      "Bracket: Iter 81.000: None | Iter 27.000: None | Iter 9.000: None | Iter 3.000: None | Iter 1.000: 0.49\n",
      "Logical resource usage: 10.0/20 CPUs, 1.0/1 GPUs (0.0/1.0 accelerator_type:G)\n",
      "Current best trial: eef38c8f with val_accuracy=0.49 and parameters={'model': {'modules': {1: {'times': 2}}}}\n",
      "Result logdir: C:/Users/johan/ray_results/trainable_function_2024-03-27_10-48-51\n",
      "Number of trials: 2/2 (2 RUNNING)\n",
      "+-----------------------------+----------+-----------------+------------------------+\n",
      "| Trial name                  | status   | loc             | model/modules/1/time   |\n",
      "|                             |          |                 | s                      |\n",
      "|-----------------------------+----------+-----------------+------------------------|\n",
      "| trainable_function_eef38c8f | RUNNING  | 127.0.0.1:65460 |                        |\n",
      "| trainable_function_f66869a0 | RUNNING  | 127.0.0.1:37364 |                        |\n",
      "+-----------------------------+----------+-----------------+------------------------+\n",
      "\n",
      "\n",
      "== Status ==\n",
      "Current time: 2024-03-27 10:50:46 (running for 00:01:50.69)\n",
      "Using AsyncHyperBand: num_stopped=0\n",
      "Bracket: Iter 81.000: None | Iter 27.000: None | Iter 9.000: None | Iter 3.000: None | Iter 1.000: 0.49\n",
      "Logical resource usage: 10.0/20 CPUs, 1.0/1 GPUs (0.0/1.0 accelerator_type:G)\n",
      "Current best trial: eef38c8f with val_accuracy=0.49 and parameters={'model': {'modules': {1: {'times': 2}}}}\n",
      "Result logdir: C:/Users/johan/ray_results/trainable_function_2024-03-27_10-48-51\n",
      "Number of trials: 2/2 (2 RUNNING)\n",
      "+-----------------------------+----------+-----------------+------------------------+\n",
      "| Trial name                  | status   | loc             | model/modules/1/time   |\n",
      "|                             |          |                 | s                      |\n",
      "|-----------------------------+----------+-----------------+------------------------|\n",
      "| trainable_function_eef38c8f | RUNNING  | 127.0.0.1:65460 |                        |\n",
      "| trainable_function_f66869a0 | RUNNING  | 127.0.0.1:37364 |                        |\n",
      "+-----------------------------+----------+-----------------+------------------------+\n",
      "\n",
      "\n",
      "== Status ==\n",
      "Current time: 2024-03-27 10:50:51 (running for 00:01:55.72)\n",
      "Using AsyncHyperBand: num_stopped=0\n",
      "Bracket: Iter 81.000: None | Iter 27.000: None | Iter 9.000: None | Iter 3.000: None | Iter 1.000: 0.49\n",
      "Logical resource usage: 10.0/20 CPUs, 1.0/1 GPUs (0.0/1.0 accelerator_type:G)\n",
      "Current best trial: eef38c8f with val_accuracy=0.49 and parameters={'model': {'modules': {1: {'times': 2}}}}\n",
      "Result logdir: C:/Users/johan/ray_results/trainable_function_2024-03-27_10-48-51\n",
      "Number of trials: 2/2 (2 RUNNING)\n",
      "+-----------------------------+----------+-----------------+------------------------+\n",
      "| Trial name                  | status   | loc             | model/modules/1/time   |\n",
      "|                             |          |                 | s                      |\n",
      "|-----------------------------+----------+-----------------+------------------------|\n",
      "| trainable_function_eef38c8f | RUNNING  | 127.0.0.1:65460 |                        |\n",
      "| trainable_function_f66869a0 | RUNNING  | 127.0.0.1:37364 |                        |\n",
      "+-----------------------------+----------+-----------------+------------------------+\n",
      "\n",
      "\n",
      "== Status ==\n",
      "Current time: 2024-03-27 10:50:56 (running for 00:02:00.77)\n",
      "Using AsyncHyperBand: num_stopped=0\n",
      "Bracket: Iter 81.000: None | Iter 27.000: None | Iter 9.000: None | Iter 3.000: None | Iter 1.000: 0.49\n",
      "Logical resource usage: 10.0/20 CPUs, 1.0/1 GPUs (0.0/1.0 accelerator_type:G)\n",
      "Current best trial: eef38c8f with val_accuracy=0.49 and parameters={'model': {'modules': {1: {'times': 2}}}}\n",
      "Result logdir: C:/Users/johan/ray_results/trainable_function_2024-03-27_10-48-51\n",
      "Number of trials: 2/2 (2 RUNNING)\n",
      "+-----------------------------+----------+-----------------+------------------------+\n",
      "| Trial name                  | status   | loc             | model/modules/1/time   |\n",
      "|                             |          |                 | s                      |\n",
      "|-----------------------------+----------+-----------------+------------------------|\n",
      "| trainable_function_eef38c8f | RUNNING  | 127.0.0.1:65460 |                        |\n",
      "| trainable_function_f66869a0 | RUNNING  | 127.0.0.1:37364 |                        |\n",
      "+-----------------------------+----------+-----------------+------------------------+\n",
      "\n",
      "\n",
      "== Status ==\n",
      "Current time: 2024-03-27 10:51:01 (running for 00:02:05.79)\n",
      "Using AsyncHyperBand: num_stopped=0\n",
      "Bracket: Iter 81.000: None | Iter 27.000: None | Iter 9.000: None | Iter 3.000: None | Iter 1.000: 0.49\n",
      "Logical resource usage: 10.0/20 CPUs, 1.0/1 GPUs (0.0/1.0 accelerator_type:G)\n",
      "Current best trial: eef38c8f with val_accuracy=0.49 and parameters={'model': {'modules': {1: {'times': 2}}}}\n",
      "Result logdir: C:/Users/johan/ray_results/trainable_function_2024-03-27_10-48-51\n",
      "Number of trials: 2/2 (2 RUNNING)\n",
      "+-----------------------------+----------+-----------------+------------------------+\n",
      "| Trial name                  | status   | loc             | model/modules/1/time   |\n",
      "|                             |          |                 | s                      |\n",
      "|-----------------------------+----------+-----------------+------------------------|\n",
      "| trainable_function_eef38c8f | RUNNING  | 127.0.0.1:65460 |                        |\n",
      "| trainable_function_f66869a0 | RUNNING  | 127.0.0.1:37364 |                        |\n",
      "+-----------------------------+----------+-----------------+------------------------+\n",
      "\n",
      "\n",
      "== Status ==\n",
      "Current time: 2024-03-27 10:51:06 (running for 00:02:10.81)\n",
      "Using AsyncHyperBand: num_stopped=0\n",
      "Bracket: Iter 81.000: None | Iter 27.000: None | Iter 9.000: None | Iter 3.000: None | Iter 1.000: 0.49\n",
      "Logical resource usage: 10.0/20 CPUs, 1.0/1 GPUs (0.0/1.0 accelerator_type:G)\n",
      "Current best trial: eef38c8f with val_accuracy=0.49 and parameters={'model': {'modules': {1: {'times': 2}}}}\n",
      "Result logdir: C:/Users/johan/ray_results/trainable_function_2024-03-27_10-48-51\n",
      "Number of trials: 2/2 (2 RUNNING)\n",
      "+-----------------------------+----------+-----------------+------------------------+\n",
      "| Trial name                  | status   | loc             | model/modules/1/time   |\n",
      "|                             |          |                 | s                      |\n",
      "|-----------------------------+----------+-----------------+------------------------|\n",
      "| trainable_function_eef38c8f | RUNNING  | 127.0.0.1:65460 |                        |\n",
      "| trainable_function_f66869a0 | RUNNING  | 127.0.0.1:37364 |                        |\n",
      "+-----------------------------+----------+-----------------+------------------------+\n",
      "\n",
      "\n",
      "== Status ==\n",
      "Current time: 2024-03-27 10:51:11 (running for 00:02:15.82)\n",
      "Using AsyncHyperBand: num_stopped=0\n",
      "Bracket: Iter 81.000: None | Iter 27.000: None | Iter 9.000: None | Iter 3.000: None | Iter 1.000: 0.49\n",
      "Logical resource usage: 10.0/20 CPUs, 1.0/1 GPUs (0.0/1.0 accelerator_type:G)\n",
      "Current best trial: eef38c8f with val_accuracy=0.49 and parameters={'model': {'modules': {1: {'times': 2}}}}\n",
      "Result logdir: C:/Users/johan/ray_results/trainable_function_2024-03-27_10-48-51\n",
      "Number of trials: 2/2 (2 RUNNING)\n",
      "+-----------------------------+----------+-----------------+------------------------+\n",
      "| Trial name                  | status   | loc             | model/modules/1/time   |\n",
      "|                             |          |                 | s                      |\n",
      "|-----------------------------+----------+-----------------+------------------------|\n",
      "| trainable_function_eef38c8f | RUNNING  | 127.0.0.1:65460 |                        |\n",
      "| trainable_function_f66869a0 | RUNNING  | 127.0.0.1:37364 |                        |\n",
      "+-----------------------------+----------+-----------------+------------------------+\n",
      "\n",
      "\n",
      "== Status ==\n",
      "Current time: 2024-03-27 10:51:16 (running for 00:02:20.85)\n",
      "Using AsyncHyperBand: num_stopped=0\n",
      "Bracket: Iter 81.000: None | Iter 27.000: None | Iter 9.000: None | Iter 3.000: None | Iter 1.000: 0.49\n",
      "Logical resource usage: 10.0/20 CPUs, 1.0/1 GPUs (0.0/1.0 accelerator_type:G)\n",
      "Current best trial: eef38c8f with val_accuracy=0.49 and parameters={'model': {'modules': {1: {'times': 2}}}}\n",
      "Result logdir: C:/Users/johan/ray_results/trainable_function_2024-03-27_10-48-51\n",
      "Number of trials: 2/2 (2 RUNNING)\n",
      "+-----------------------------+----------+-----------------+------------------------+\n",
      "| Trial name                  | status   | loc             | model/modules/1/time   |\n",
      "|                             |          |                 | s                      |\n",
      "|-----------------------------+----------+-----------------+------------------------|\n",
      "| trainable_function_eef38c8f | RUNNING  | 127.0.0.1:65460 |                        |\n",
      "| trainable_function_f66869a0 | RUNNING  | 127.0.0.1:37364 |                        |\n",
      "+-----------------------------+----------+-----------------+------------------------+\n",
      "\n",
      "\n",
      "== Status ==\n",
      "Current time: 2024-03-27 10:51:21 (running for 00:02:25.88)\n",
      "Using AsyncHyperBand: num_stopped=0\n",
      "Bracket: Iter 81.000: None | Iter 27.000: None | Iter 9.000: None | Iter 3.000: None | Iter 1.000: 0.49\n",
      "Logical resource usage: 10.0/20 CPUs, 1.0/1 GPUs (0.0/1.0 accelerator_type:G)\n",
      "Current best trial: eef38c8f with val_accuracy=0.49 and parameters={'model': {'modules': {1: {'times': 2}}}}\n",
      "Result logdir: C:/Users/johan/ray_results/trainable_function_2024-03-27_10-48-51\n",
      "Number of trials: 2/2 (2 RUNNING)\n",
      "+-----------------------------+----------+-----------------+------------------------+\n",
      "| Trial name                  | status   | loc             | model/modules/1/time   |\n",
      "|                             |          |                 | s                      |\n",
      "|-----------------------------+----------+-----------------+------------------------|\n",
      "| trainable_function_eef38c8f | RUNNING  | 127.0.0.1:65460 |                        |\n",
      "| trainable_function_f66869a0 | RUNNING  | 127.0.0.1:37364 |                        |\n",
      "+-----------------------------+----------+-----------------+------------------------+\n",
      "\n",
      "\n",
      "== Status ==\n",
      "Current time: 2024-03-27 10:51:26 (running for 00:02:30.93)\n",
      "Using AsyncHyperBand: num_stopped=0\n",
      "Bracket: Iter 81.000: None | Iter 27.000: None | Iter 9.000: None | Iter 3.000: None | Iter 1.000: 0.49\n",
      "Logical resource usage: 10.0/20 CPUs, 1.0/1 GPUs (0.0/1.0 accelerator_type:G)\n",
      "Current best trial: eef38c8f with val_accuracy=0.49 and parameters={'model': {'modules': {1: {'times': 2}}}}\n",
      "Result logdir: C:/Users/johan/ray_results/trainable_function_2024-03-27_10-48-51\n",
      "Number of trials: 2/2 (2 RUNNING)\n",
      "+-----------------------------+----------+-----------------+------------------------+\n",
      "| Trial name                  | status   | loc             | model/modules/1/time   |\n",
      "|                             |          |                 | s                      |\n",
      "|-----------------------------+----------+-----------------+------------------------|\n",
      "| trainable_function_eef38c8f | RUNNING  | 127.0.0.1:65460 |                        |\n",
      "| trainable_function_f66869a0 | RUNNING  | 127.0.0.1:37364 |                        |\n",
      "+-----------------------------+----------+-----------------+------------------------+\n",
      "\n",
      "\n",
      "== Status ==\n",
      "Current time: 2024-03-27 10:51:31 (running for 00:02:35.95)\n",
      "Using AsyncHyperBand: num_stopped=0\n",
      "Bracket: Iter 81.000: None | Iter 27.000: None | Iter 9.000: None | Iter 3.000: None | Iter 1.000: 0.49\n",
      "Logical resource usage: 10.0/20 CPUs, 1.0/1 GPUs (0.0/1.0 accelerator_type:G)\n",
      "Current best trial: eef38c8f with val_accuracy=0.49 and parameters={'model': {'modules': {1: {'times': 2}}}}\n",
      "Result logdir: C:/Users/johan/ray_results/trainable_function_2024-03-27_10-48-51\n",
      "Number of trials: 2/2 (2 RUNNING)\n",
      "+-----------------------------+----------+-----------------+------------------------+\n",
      "| Trial name                  | status   | loc             | model/modules/1/time   |\n",
      "|                             |          |                 | s                      |\n",
      "|-----------------------------+----------+-----------------+------------------------|\n",
      "| trainable_function_eef38c8f | RUNNING  | 127.0.0.1:65460 |                        |\n",
      "| trainable_function_f66869a0 | RUNNING  | 127.0.0.1:37364 |                        |\n",
      "+-----------------------------+----------+-----------------+------------------------+\n",
      "\n",
      "\n",
      "== Status ==\n",
      "Current time: 2024-03-27 10:51:36 (running for 00:02:40.97)\n",
      "Using AsyncHyperBand: num_stopped=0\n",
      "Bracket: Iter 81.000: None | Iter 27.000: None | Iter 9.000: None | Iter 3.000: None | Iter 1.000: 0.49\n",
      "Logical resource usage: 10.0/20 CPUs, 1.0/1 GPUs (0.0/1.0 accelerator_type:G)\n",
      "Current best trial: eef38c8f with val_accuracy=0.49 and parameters={'model': {'modules': {1: {'times': 2}}}}\n",
      "Result logdir: C:/Users/johan/ray_results/trainable_function_2024-03-27_10-48-51\n",
      "Number of trials: 2/2 (2 RUNNING)\n",
      "+-----------------------------+----------+-----------------+------------------------+\n",
      "| Trial name                  | status   | loc             | model/modules/1/time   |\n",
      "|                             |          |                 | s                      |\n",
      "|-----------------------------+----------+-----------------+------------------------|\n",
      "| trainable_function_eef38c8f | RUNNING  | 127.0.0.1:65460 |                        |\n",
      "| trainable_function_f66869a0 | RUNNING  | 127.0.0.1:37364 |                        |\n",
      "+-----------------------------+----------+-----------------+------------------------+\n",
      "\n",
      "\n",
      "== Status ==\n",
      "Current time: 2024-03-27 10:51:41 (running for 00:02:45.99)\n",
      "Using AsyncHyperBand: num_stopped=0\n",
      "Bracket: Iter 81.000: None | Iter 27.000: None | Iter 9.000: None | Iter 3.000: None | Iter 1.000: 0.49\n",
      "Logical resource usage: 10.0/20 CPUs, 1.0/1 GPUs (0.0/1.0 accelerator_type:G)\n",
      "Current best trial: eef38c8f with val_accuracy=0.49 and parameters={'model': {'modules': {1: {'times': 2}}}}\n",
      "Result logdir: C:/Users/johan/ray_results/trainable_function_2024-03-27_10-48-51\n",
      "Number of trials: 2/2 (2 RUNNING)\n",
      "+-----------------------------+----------+-----------------+------------------------+\n",
      "| Trial name                  | status   | loc             | model/modules/1/time   |\n",
      "|                             |          |                 | s                      |\n",
      "|-----------------------------+----------+-----------------+------------------------|\n",
      "| trainable_function_eef38c8f | RUNNING  | 127.0.0.1:65460 |                        |\n",
      "| trainable_function_f66869a0 | RUNNING  | 127.0.0.1:37364 |                        |\n",
      "+-----------------------------+----------+-----------------+------------------------+\n",
      "\n",
      "\n",
      "== Status ==\n",
      "Current time: 2024-03-27 10:51:46 (running for 00:02:51.07)\n",
      "Using AsyncHyperBand: num_stopped=0\n",
      "Bracket: Iter 81.000: None | Iter 27.000: None | Iter 9.000: None | Iter 3.000: None | Iter 1.000: 0.49\n",
      "Logical resource usage: 10.0/20 CPUs, 1.0/1 GPUs (0.0/1.0 accelerator_type:G)\n",
      "Current best trial: eef38c8f with val_accuracy=1.0 and parameters={'model': {'modules': {1: {'times': 2}}}}\n",
      "Result logdir: C:/Users/johan/ray_results/trainable_function_2024-03-27_10-48-51\n",
      "Number of trials: 2/2 (2 RUNNING)\n",
      "+-----------------------------+----------+-----------------+------------------------+\n",
      "| Trial name                  | status   | loc             | model/modules/1/time   |\n",
      "|                             |          |                 | s                      |\n",
      "|-----------------------------+----------+-----------------+------------------------|\n",
      "| trainable_function_eef38c8f | RUNNING  | 127.0.0.1:65460 |                        |\n",
      "| trainable_function_f66869a0 | RUNNING  | 127.0.0.1:37364 |                        |\n",
      "+-----------------------------+----------+-----------------+------------------------+\n",
      "\n",
      "\n",
      "== Status ==\n",
      "Current time: 2024-03-27 10:51:51 (running for 00:02:56.09)\n",
      "Using AsyncHyperBand: num_stopped=0\n",
      "Bracket: Iter 81.000: None | Iter 27.000: None | Iter 9.000: None | Iter 3.000: None | Iter 1.000: 0.49\n",
      "Logical resource usage: 10.0/20 CPUs, 1.0/1 GPUs (0.0/1.0 accelerator_type:G)\n",
      "Current best trial: eef38c8f with val_accuracy=1.0 and parameters={'model': {'modules': {1: {'times': 2}}}}\n",
      "Result logdir: C:/Users/johan/ray_results/trainable_function_2024-03-27_10-48-51\n",
      "Number of trials: 2/2 (2 RUNNING)\n",
      "+-----------------------------+----------+-----------------+------------------------+\n",
      "| Trial name                  | status   | loc             | model/modules/1/time   |\n",
      "|                             |          |                 | s                      |\n",
      "|-----------------------------+----------+-----------------+------------------------|\n",
      "| trainable_function_eef38c8f | RUNNING  | 127.0.0.1:65460 |                        |\n",
      "| trainable_function_f66869a0 | RUNNING  | 127.0.0.1:37364 |                        |\n",
      "+-----------------------------+----------+-----------------+------------------------+\n",
      "\n",
      "\n",
      "== Status ==\n",
      "Current time: 2024-03-27 10:51:56 (running for 00:03:01.19)\n",
      "Using AsyncHyperBand: num_stopped=0\n",
      "Bracket: Iter 81.000: None | Iter 27.000: None | Iter 9.000: None | Iter 3.000: None | Iter 1.000: 0.49\n",
      "Logical resource usage: 10.0/20 CPUs, 1.0/1 GPUs (0.0/1.0 accelerator_type:G)\n",
      "Current best trial: eef38c8f with val_accuracy=1.0 and parameters={'model': {'modules': {1: {'times': 2}}}}\n",
      "Result logdir: C:/Users/johan/ray_results/trainable_function_2024-03-27_10-48-51\n",
      "Number of trials: 2/2 (2 RUNNING)\n",
      "+-----------------------------+----------+-----------------+------------------------+\n",
      "| Trial name                  | status   | loc             | model/modules/1/time   |\n",
      "|                             |          |                 | s                      |\n",
      "|-----------------------------+----------+-----------------+------------------------|\n",
      "| trainable_function_eef38c8f | RUNNING  | 127.0.0.1:65460 |                        |\n",
      "| trainable_function_f66869a0 | RUNNING  | 127.0.0.1:37364 |                        |\n",
      "+-----------------------------+----------+-----------------+------------------------+\n",
      "\n",
      "\n",
      "== Status ==\n",
      "Current time: 2024-03-27 10:52:01 (running for 00:03:06.21)\n",
      "Using AsyncHyperBand: num_stopped=0\n",
      "Bracket: Iter 81.000: None | Iter 27.000: None | Iter 9.000: None | Iter 3.000: None | Iter 1.000: 0.49\n",
      "Logical resource usage: 10.0/20 CPUs, 1.0/1 GPUs (0.0/1.0 accelerator_type:G)\n",
      "Current best trial: eef38c8f with val_accuracy=1.0 and parameters={'model': {'modules': {1: {'times': 2}}}}\n",
      "Result logdir: C:/Users/johan/ray_results/trainable_function_2024-03-27_10-48-51\n",
      "Number of trials: 2/2 (2 RUNNING)\n",
      "+-----------------------------+----------+-----------------+------------------------+\n",
      "| Trial name                  | status   | loc             | model/modules/1/time   |\n",
      "|                             |          |                 | s                      |\n",
      "|-----------------------------+----------+-----------------+------------------------|\n",
      "| trainable_function_eef38c8f | RUNNING  | 127.0.0.1:65460 |                        |\n",
      "| trainable_function_f66869a0 | RUNNING  | 127.0.0.1:37364 |                        |\n",
      "+-----------------------------+----------+-----------------+------------------------+\n",
      "\n",
      "\n",
      "== Status ==\n",
      "Current time: 2024-03-27 10:52:06 (running for 00:03:11.24)\n",
      "Using AsyncHyperBand: num_stopped=0\n",
      "Bracket: Iter 81.000: None | Iter 27.000: None | Iter 9.000: None | Iter 3.000: None | Iter 1.000: 0.49\n",
      "Logical resource usage: 10.0/20 CPUs, 1.0/1 GPUs (0.0/1.0 accelerator_type:G)\n",
      "Current best trial: eef38c8f with val_accuracy=1.0 and parameters={'model': {'modules': {1: {'times': 2}}}}\n",
      "Result logdir: C:/Users/johan/ray_results/trainable_function_2024-03-27_10-48-51\n",
      "Number of trials: 2/2 (2 RUNNING)\n",
      "+-----------------------------+----------+-----------------+------------------------+\n",
      "| Trial name                  | status   | loc             | model/modules/1/time   |\n",
      "|                             |          |                 | s                      |\n",
      "|-----------------------------+----------+-----------------+------------------------|\n",
      "| trainable_function_eef38c8f | RUNNING  | 127.0.0.1:65460 |                        |\n",
      "| trainable_function_f66869a0 | RUNNING  | 127.0.0.1:37364 |                        |\n",
      "+-----------------------------+----------+-----------------+------------------------+\n",
      "\n",
      "\n",
      "== Status ==\n",
      "Current time: 2024-03-27 10:52:11 (running for 00:03:16.26)\n",
      "Using AsyncHyperBand: num_stopped=0\n",
      "Bracket: Iter 81.000: None | Iter 27.000: None | Iter 9.000: None | Iter 3.000: None | Iter 1.000: 0.49\n",
      "Logical resource usage: 10.0/20 CPUs, 1.0/1 GPUs (0.0/1.0 accelerator_type:G)\n",
      "Current best trial: eef38c8f with val_accuracy=1.0 and parameters={'model': {'modules': {1: {'times': 2}}}}\n",
      "Result logdir: C:/Users/johan/ray_results/trainable_function_2024-03-27_10-48-51\n",
      "Number of trials: 2/2 (2 RUNNING)\n",
      "+-----------------------------+----------+-----------------+------------------------+\n",
      "| Trial name                  | status   | loc             | model/modules/1/time   |\n",
      "|                             |          |                 | s                      |\n",
      "|-----------------------------+----------+-----------------+------------------------|\n",
      "| trainable_function_eef38c8f | RUNNING  | 127.0.0.1:65460 |                        |\n",
      "| trainable_function_f66869a0 | RUNNING  | 127.0.0.1:37364 |                        |\n",
      "+-----------------------------+----------+-----------------+------------------------+\n",
      "\n",
      "\n",
      "== Status ==\n",
      "Current time: 2024-03-27 10:52:16 (running for 00:03:21.27)\n",
      "Using AsyncHyperBand: num_stopped=0\n",
      "Bracket: Iter 81.000: None | Iter 27.000: None | Iter 9.000: None | Iter 3.000: None | Iter 1.000: 0.49\n",
      "Logical resource usage: 10.0/20 CPUs, 1.0/1 GPUs (0.0/1.0 accelerator_type:G)\n",
      "Current best trial: eef38c8f with val_accuracy=1.0 and parameters={'model': {'modules': {1: {'times': 2}}}}\n",
      "Result logdir: C:/Users/johan/ray_results/trainable_function_2024-03-27_10-48-51\n",
      "Number of trials: 2/2 (2 RUNNING)\n",
      "+-----------------------------+----------+-----------------+------------------------+\n",
      "| Trial name                  | status   | loc             | model/modules/1/time   |\n",
      "|                             |          |                 | s                      |\n",
      "|-----------------------------+----------+-----------------+------------------------|\n",
      "| trainable_function_eef38c8f | RUNNING  | 127.0.0.1:65460 |                        |\n",
      "| trainable_function_f66869a0 | RUNNING  | 127.0.0.1:37364 |                        |\n",
      "+-----------------------------+----------+-----------------+------------------------+\n",
      "\n",
      "\n",
      "== Status ==\n",
      "Current time: 2024-03-27 10:52:21 (running for 00:03:26.28)\n",
      "Using AsyncHyperBand: num_stopped=0\n",
      "Bracket: Iter 81.000: None | Iter 27.000: None | Iter 9.000: None | Iter 3.000: None | Iter 1.000: 0.49\n",
      "Logical resource usage: 10.0/20 CPUs, 1.0/1 GPUs (0.0/1.0 accelerator_type:G)\n",
      "Current best trial: eef38c8f with val_accuracy=1.0 and parameters={'model': {'modules': {1: {'times': 2}}}}\n",
      "Result logdir: C:/Users/johan/ray_results/trainable_function_2024-03-27_10-48-51\n",
      "Number of trials: 2/2 (2 RUNNING)\n",
      "+-----------------------------+----------+-----------------+------------------------+\n",
      "| Trial name                  | status   | loc             | model/modules/1/time   |\n",
      "|                             |          |                 | s                      |\n",
      "|-----------------------------+----------+-----------------+------------------------|\n",
      "| trainable_function_eef38c8f | RUNNING  | 127.0.0.1:65460 |                        |\n",
      "| trainable_function_f66869a0 | RUNNING  | 127.0.0.1:37364 |                        |\n",
      "+-----------------------------+----------+-----------------+------------------------+\n",
      "\n",
      "\n",
      "== Status ==\n",
      "Current time: 2024-03-27 10:52:26 (running for 00:03:31.29)\n",
      "Using AsyncHyperBand: num_stopped=0\n",
      "Bracket: Iter 81.000: None | Iter 27.000: None | Iter 9.000: None | Iter 3.000: None | Iter 1.000: 0.49\n",
      "Logical resource usage: 10.0/20 CPUs, 1.0/1 GPUs (0.0/1.0 accelerator_type:G)\n",
      "Current best trial: eef38c8f with val_accuracy=1.0 and parameters={'model': {'modules': {1: {'times': 2}}}}\n",
      "Result logdir: C:/Users/johan/ray_results/trainable_function_2024-03-27_10-48-51\n",
      "Number of trials: 2/2 (2 RUNNING)\n",
      "+-----------------------------+----------+-----------------+------------------------+\n",
      "| Trial name                  | status   | loc             | model/modules/1/time   |\n",
      "|                             |          |                 | s                      |\n",
      "|-----------------------------+----------+-----------------+------------------------|\n",
      "| trainable_function_eef38c8f | RUNNING  | 127.0.0.1:65460 |                        |\n",
      "| trainable_function_f66869a0 | RUNNING  | 127.0.0.1:37364 |                        |\n",
      "+-----------------------------+----------+-----------------+------------------------+\n",
      "\n",
      "\n",
      "== Status ==\n",
      "Current time: 2024-03-27 10:52:31 (running for 00:03:36.31)\n",
      "Using AsyncHyperBand: num_stopped=0\n",
      "Bracket: Iter 81.000: None | Iter 27.000: None | Iter 9.000: None | Iter 3.000: None | Iter 1.000: 0.49\n",
      "Logical resource usage: 10.0/20 CPUs, 1.0/1 GPUs (0.0/1.0 accelerator_type:G)\n",
      "Current best trial: eef38c8f with val_accuracy=1.0 and parameters={'model': {'modules': {1: {'times': 2}}}}\n",
      "Result logdir: C:/Users/johan/ray_results/trainable_function_2024-03-27_10-48-51\n",
      "Number of trials: 2/2 (2 RUNNING)\n",
      "+-----------------------------+----------+-----------------+------------------------+\n",
      "| Trial name                  | status   | loc             | model/modules/1/time   |\n",
      "|                             |          |                 | s                      |\n",
      "|-----------------------------+----------+-----------------+------------------------|\n",
      "| trainable_function_eef38c8f | RUNNING  | 127.0.0.1:65460 |                        |\n",
      "| trainable_function_f66869a0 | RUNNING  | 127.0.0.1:37364 |                        |\n",
      "+-----------------------------+----------+-----------------+------------------------+\n",
      "\n",
      "\n",
      "== Status ==\n",
      "Current time: 2024-03-27 10:52:36 (running for 00:03:41.32)\n",
      "Using AsyncHyperBand: num_stopped=0\n",
      "Bracket: Iter 81.000: None | Iter 27.000: None | Iter 9.000: None | Iter 3.000: None | Iter 1.000: 0.49\n",
      "Logical resource usage: 10.0/20 CPUs, 1.0/1 GPUs (0.0/1.0 accelerator_type:G)\n",
      "Current best trial: eef38c8f with val_accuracy=1.0 and parameters={'model': {'modules': {1: {'times': 2}}}}\n",
      "Result logdir: C:/Users/johan/ray_results/trainable_function_2024-03-27_10-48-51\n",
      "Number of trials: 2/2 (2 RUNNING)\n",
      "+-----------------------------+----------+-----------------+------------------------+\n",
      "| Trial name                  | status   | loc             | model/modules/1/time   |\n",
      "|                             |          |                 | s                      |\n",
      "|-----------------------------+----------+-----------------+------------------------|\n",
      "| trainable_function_eef38c8f | RUNNING  | 127.0.0.1:65460 |                        |\n",
      "| trainable_function_f66869a0 | RUNNING  | 127.0.0.1:37364 |                        |\n",
      "+-----------------------------+----------+-----------------+------------------------+\n",
      "\n",
      "\n",
      "== Status ==\n",
      "Current time: 2024-03-27 10:52:41 (running for 00:03:46.33)\n",
      "Using AsyncHyperBand: num_stopped=0\n",
      "Bracket: Iter 81.000: None | Iter 27.000: None | Iter 9.000: None | Iter 3.000: None | Iter 1.000: 0.49\n",
      "Logical resource usage: 10.0/20 CPUs, 1.0/1 GPUs (0.0/1.0 accelerator_type:G)\n",
      "Current best trial: eef38c8f with val_accuracy=1.0 and parameters={'model': {'modules': {1: {'times': 2}}}}\n",
      "Result logdir: C:/Users/johan/ray_results/trainable_function_2024-03-27_10-48-51\n",
      "Number of trials: 2/2 (2 RUNNING)\n",
      "+-----------------------------+----------+-----------------+------------------------+\n",
      "| Trial name                  | status   | loc             | model/modules/1/time   |\n",
      "|                             |          |                 | s                      |\n",
      "|-----------------------------+----------+-----------------+------------------------|\n",
      "| trainable_function_eef38c8f | RUNNING  | 127.0.0.1:65460 |                        |\n",
      "| trainable_function_f66869a0 | RUNNING  | 127.0.0.1:37364 |                        |\n",
      "+-----------------------------+----------+-----------------+------------------------+\n",
      "\n",
      "\n",
      "== Status ==\n",
      "Current time: 2024-03-27 10:52:46 (running for 00:03:51.36)\n",
      "Using AsyncHyperBand: num_stopped=0\n",
      "Bracket: Iter 81.000: None | Iter 27.000: None | Iter 9.000: None | Iter 3.000: 1.0 | Iter 1.000: 0.49\n",
      "Logical resource usage: 5.0/20 CPUs, 0.5/1 GPUs (0.0/1.0 accelerator_type:G)\n",
      "Current best trial: eef38c8f with val_accuracy=1.0 and parameters={'model': {'modules': {1: {'times': 2}}}}\n",
      "Result logdir: C:/Users/johan/ray_results/trainable_function_2024-03-27_10-48-51\n",
      "Number of trials: 2/2 (1 RUNNING, 1 TERMINATED)\n",
      "+-----------------------------+------------+-----------------+------------------------+\n",
      "| Trial name                  | status     | loc             | model/modules/1/time   |\n",
      "|                             |            |                 | s                      |\n",
      "|-----------------------------+------------+-----------------+------------------------|\n",
      "| trainable_function_f66869a0 | RUNNING    | 127.0.0.1:37364 |                        |\n",
      "| trainable_function_eef38c8f | TERMINATED | 127.0.0.1:65460 |                        |\n",
      "+-----------------------------+------------+-----------------+------------------------+\n",
      "\n",
      "\n",
      "== Status ==\n",
      "Current time: 2024-03-27 10:52:51 (running for 00:03:56.43)\n",
      "Using AsyncHyperBand: num_stopped=0\n",
      "Bracket: Iter 81.000: None | Iter 27.000: None | Iter 9.000: None | Iter 3.000: 1.0 | Iter 1.000: 0.49\n",
      "Logical resource usage: 5.0/20 CPUs, 0.5/1 GPUs (0.0/1.0 accelerator_type:G)\n",
      "Current best trial: eef38c8f with val_accuracy=1.0 and parameters={'model': {'modules': {1: {'times': 2}}}}\n",
      "Result logdir: C:/Users/johan/ray_results/trainable_function_2024-03-27_10-48-51\n",
      "Number of trials: 2/2 (1 RUNNING, 1 TERMINATED)\n",
      "+-----------------------------+------------+-----------------+------------------------+\n",
      "| Trial name                  | status     | loc             | model/modules/1/time   |\n",
      "|                             |            |                 | s                      |\n",
      "|-----------------------------+------------+-----------------+------------------------|\n",
      "| trainable_function_f66869a0 | RUNNING    | 127.0.0.1:37364 |                        |\n",
      "| trainable_function_eef38c8f | TERMINATED | 127.0.0.1:65460 |                        |\n",
      "+-----------------------------+------------+-----------------+------------------------+\n",
      "\n",
      "\n"
     ]
    },
    {
     "name": "stderr",
     "output_type": "stream",
     "text": [
      "2024-03-27 10:52:52,353\tINFO tune.py:1042 -- Total run time: 237.01 seconds (236.99 seconds for the tuning loop).\n"
     ]
    },
    {
     "name": "stdout",
     "output_type": "stream",
     "text": [
      "== Status ==\n",
      "Current time: 2024-03-27 10:52:52 (running for 00:03:56.99)\n",
      "Using AsyncHyperBand: num_stopped=0\n",
      "Bracket: Iter 81.000: None | Iter 27.000: None | Iter 9.000: None | Iter 3.000: 1.0 | Iter 1.000: 0.49\n",
      "Logical resource usage: 5.0/20 CPUs, 0.5/1 GPUs (0.0/1.0 accelerator_type:G)\n",
      "Current best trial: eef38c8f with val_accuracy=1.0 and parameters={'model': {'modules': {1: {'times': 2}}}}\n",
      "Result logdir: C:/Users/johan/ray_results/trainable_function_2024-03-27_10-48-51\n",
      "Number of trials: 2/2 (2 TERMINATED)\n",
      "+-----------------------------+------------+-----------------+------------------------+\n",
      "| Trial name                  | status     | loc             | model/modules/1/time   |\n",
      "|                             |            |                 | s                      |\n",
      "|-----------------------------+------------+-----------------+------------------------|\n",
      "| trainable_function_eef38c8f | TERMINATED | 127.0.0.1:65460 |                        |\n",
      "| trainable_function_f66869a0 | TERMINATED | 127.0.0.1:37364 |                        |\n",
      "+-----------------------------+------------+-----------------+------------------------+\n",
      "\n",
      "\n"
     ]
    }
   ],
   "source": [
    "# define tuner and execute\n",
    "tuner = tune.Tuner(\n",
    "    tune.with_resources(trainable_function, {\"cpu\": 4, \"gpu\": 0.5}),\n",
    "    # trainable=trainable_function,\n",
    "    param_space=search_space,\n",
    "    tune_config=tune.TuneConfig(\n",
    "        metric=optimization_score,\n",
    "        mode=score_mode,\n",
    "        search_alg=HyperOptSearch(\n",
    "            metric=optimization_score,\n",
    "            mode=score_mode,\n",
    "            random_state_seed=13\n",
    "        ),\n",
    "        scheduler=ASHAScheduler(\n",
    "            max_t=default_config['training']['n_max_epochs'],\n",
    "            grace_period=hyper_settings['scheduler']['grace_period'],\n",
    "            reduction_factor=hyper_settings['scheduler']['reduction_factor'],\n",
    "            brackets=hyper_settings['scheduler']['brackets']\n",
    "        ),\n",
    "        num_samples=hyper_settings['num_samples'],\n",
    "        max_concurrent_trials=hyper_settings['max_concurrent_trials'],\n",
    "    ),\n",
    "    run_config=train.RunConfig(\n",
    "        progress_reporter=CLIReporter(\n",
    "            metric_columns=[optimization_score],\n",
    "        )\n",
    "    )\n",
    ")\n",
    "results = tuner.fit()"
   ]
  },
  {
   "cell_type": "code",
   "execution_count": 14,
   "metadata": {
    "ExecuteTime": {
     "end_time": "2024-03-27T10:52:52.408112Z",
     "start_time": "2024-03-27T10:52:52.363599Z"
    },
    "collapsed": false,
    "jupyter": {
     "outputs_hidden": false
    }
   },
   "outputs": [
    {
     "data": {
      "text/plain": [
       "ResultGrid<[\n",
       "  Result(\n",
       "    metrics={'train_accuracy': 1.0, 'train_precision': 1.0, 'train_recall': 1.0, 'train_f1': 1.0, 'train_auc': 1.0, 'train_mean_loss': 5.028552823642503e-05, 'train_sum_loss': 0.01568908480976461, 'val_accuracy': 1.0, 'val_precision': 1.0, 'val_recall': 1.0, 'val_f1': 1.0, 'val_auc': 1.0, 'val_mean_loss': 2.8138710704500812e-05, 'val_sum_loss': 0.008807416450508754},\n",
       "    path='C:/Users/johan/ray_results/trainable_function_2024-03-27_10-48-51/trainable_function_eef38c8f_1_times=2_2024-03-27_10-48-55',\n",
       "    filesystem='local',\n",
       "    checkpoint=None\n",
       "  ),\n",
       "  Result(\n",
       "    metrics={'train_accuracy': 1.0, 'train_precision': 1.0, 'train_recall': 1.0, 'train_f1': 1.0, 'train_auc': 1.0, 'train_mean_loss': 5.028493413233147e-05, 'train_sum_loss': 0.01568889944928742, 'val_accuracy': 1.0, 'val_precision': 1.0, 'val_recall': 1.0, 'val_f1': 1.0, 'val_auc': 1.0, 'val_mean_loss': 2.813844909837463e-05, 'val_sum_loss': 0.008807334567791258},\n",
       "    path='C:/Users/johan/ray_results/trainable_function_2024-03-27_10-48-51/trainable_function_f66869a0_2_times=2_2024-03-27_10-49-00',\n",
       "    filesystem='local',\n",
       "    checkpoint=None\n",
       "  )\n",
       "]>"
      ]
     },
     "execution_count": 14,
     "metadata": {},
     "output_type": "execute_result"
    }
   ],
   "source": [
    "results"
   ]
  },
  {
   "cell_type": "code",
   "execution_count": 15,
   "metadata": {
    "ExecuteTime": {
     "end_time": "2024-03-27T10:52:52.419112Z",
     "start_time": "2024-03-27T10:52:52.378603Z"
    },
    "collapsed": false,
    "jupyter": {
     "outputs_hidden": false
    }
   },
   "outputs": [
    {
     "data": {
      "text/html": [
       "<div>\n",
       "<style scoped>\n",
       "    .dataframe tbody tr th:only-of-type {\n",
       "        vertical-align: middle;\n",
       "    }\n",
       "\n",
       "    .dataframe tbody tr th {\n",
       "        vertical-align: top;\n",
       "    }\n",
       "\n",
       "    .dataframe thead th {\n",
       "        text-align: right;\n",
       "    }\n",
       "</style>\n",
       "<table border=\"1\" class=\"dataframe\">\n",
       "  <thead>\n",
       "    <tr style=\"text-align: right;\">\n",
       "      <th></th>\n",
       "      <th>train_accuracy</th>\n",
       "      <th>train_precision</th>\n",
       "      <th>train_recall</th>\n",
       "      <th>train_f1</th>\n",
       "      <th>train_auc</th>\n",
       "      <th>train_mean_loss</th>\n",
       "      <th>train_sum_loss</th>\n",
       "      <th>val_accuracy</th>\n",
       "      <th>val_precision</th>\n",
       "      <th>val_recall</th>\n",
       "      <th>...</th>\n",
       "      <th>date</th>\n",
       "      <th>time_this_iter_s</th>\n",
       "      <th>time_total_s</th>\n",
       "      <th>pid</th>\n",
       "      <th>hostname</th>\n",
       "      <th>node_ip</th>\n",
       "      <th>time_since_restore</th>\n",
       "      <th>iterations_since_restore</th>\n",
       "      <th>config/model/modules/1/times</th>\n",
       "      <th>logdir</th>\n",
       "    </tr>\n",
       "  </thead>\n",
       "  <tbody>\n",
       "    <tr>\n",
       "      <th>0</th>\n",
       "      <td>1.0</td>\n",
       "      <td>1.0</td>\n",
       "      <td>1.0</td>\n",
       "      <td>1.0</td>\n",
       "      <td>1.0</td>\n",
       "      <td>0.00005</td>\n",
       "      <td>0.015689</td>\n",
       "      <td>1.0</td>\n",
       "      <td>1.0</td>\n",
       "      <td>1.0</td>\n",
       "      <td>...</td>\n",
       "      <td>2024-03-27_10-52-45</td>\n",
       "      <td>62.352674</td>\n",
       "      <td>225.050371</td>\n",
       "      <td>65460</td>\n",
       "      <td>AT-MB-PC-E13</td>\n",
       "      <td>127.0.0.1</td>\n",
       "      <td>225.050371</td>\n",
       "      <td>3</td>\n",
       "      <td>2</td>\n",
       "      <td>eef38c8f</td>\n",
       "    </tr>\n",
       "    <tr>\n",
       "      <th>1</th>\n",
       "      <td>1.0</td>\n",
       "      <td>1.0</td>\n",
       "      <td>1.0</td>\n",
       "      <td>1.0</td>\n",
       "      <td>1.0</td>\n",
       "      <td>0.00005</td>\n",
       "      <td>0.015689</td>\n",
       "      <td>1.0</td>\n",
       "      <td>1.0</td>\n",
       "      <td>1.0</td>\n",
       "      <td>...</td>\n",
       "      <td>2024-03-27_10-52-52</td>\n",
       "      <td>59.828861</td>\n",
       "      <td>226.479436</td>\n",
       "      <td>37364</td>\n",
       "      <td>AT-MB-PC-E13</td>\n",
       "      <td>127.0.0.1</td>\n",
       "      <td>226.479436</td>\n",
       "      <td>3</td>\n",
       "      <td>2</td>\n",
       "      <td>f66869a0</td>\n",
       "    </tr>\n",
       "  </tbody>\n",
       "</table>\n",
       "<p>2 rows × 29 columns</p>\n",
       "</div>"
      ],
      "text/plain": [
       "   train_accuracy  train_precision  train_recall  train_f1  train_auc  \\\n",
       "0             1.0              1.0           1.0       1.0        1.0   \n",
       "1             1.0              1.0           1.0       1.0        1.0   \n",
       "\n",
       "   train_mean_loss  train_sum_loss  val_accuracy  val_precision  val_recall  \\\n",
       "0          0.00005        0.015689           1.0            1.0         1.0   \n",
       "1          0.00005        0.015689           1.0            1.0         1.0   \n",
       "\n",
       "   ...                 date  time_this_iter_s  time_total_s    pid  \\\n",
       "0  ...  2024-03-27_10-52-45         62.352674    225.050371  65460   \n",
       "1  ...  2024-03-27_10-52-52         59.828861    226.479436  37364   \n",
       "\n",
       "       hostname    node_ip  time_since_restore  iterations_since_restore  \\\n",
       "0  AT-MB-PC-E13  127.0.0.1          225.050371                         3   \n",
       "1  AT-MB-PC-E13  127.0.0.1          226.479436                         3   \n",
       "\n",
       "  config/model/modules/1/times    logdir  \n",
       "0                            2  eef38c8f  \n",
       "1                            2  f66869a0  \n",
       "\n",
       "[2 rows x 29 columns]"
      ]
     },
     "execution_count": 15,
     "metadata": {},
     "output_type": "execute_result"
    }
   ],
   "source": [
    "results.get_dataframe()"
   ]
  },
  {
   "cell_type": "code",
   "execution_count": 16,
   "metadata": {
    "ExecuteTime": {
     "end_time": "2024-03-27T10:52:52.640297Z",
     "start_time": "2024-03-27T10:52:52.411112Z"
    },
    "collapsed": false,
    "jupyter": {
     "outputs_hidden": false
    }
   },
   "outputs": [
    {
     "data": {
      "image/png": "[encoded data removed]",
      "text/plain": [
       "<Figure size 640x480 with 1 Axes>"
      ]
     },
     "metadata": {},
     "output_type": "display_data"
    }
   ],
   "source": [
    "dfs = {result.path: result.metrics_dataframe for result in results}\n",
    "# Plot by epoch\n",
    "ax = None  # This plots everything on the same plot\n",
    "for d in dfs.values():\n",
    "    ax = d.val_accuracy.plot(ax=ax, legend=False)"
   ]
  },
  {
   "cell_type": "markdown",
   "metadata": {
    "collapsed": false,
    "jupyter": {
     "outputs_hidden": false
    }
   },
   "source": [
    "## Storing results"
   ]
  },
  {
   "cell_type": "code",
   "execution_count": 17,
   "metadata": {
    "ExecuteTime": {
     "end_time": "2024-03-27T10:52:52.686333Z",
     "start_time": "2024-03-27T10:52:52.643297Z"
    },
    "collapsed": false,
    "jupyter": {
     "outputs_hidden": false
    }
   },
   "outputs": [],
   "source": [
    "output_path = benchmark_config['output_dir']\n",
    "\n",
    "# make sure that output_dir exists\n",
    "if not os.path.exists(output_path):\n",
    "    os.mkdir(output_path)"
   ]
  },
  {
   "cell_type": "code",
   "execution_count": 18,
   "metadata": {
    "ExecuteTime": {
     "end_time": "2024-03-27T10:52:52.686877Z",
     "start_time": "2024-03-27T10:52:52.656297Z"
    },
    "collapsed": false,
    "jupyter": {
     "outputs_hidden": false
    }
   },
   "outputs": [],
   "source": [
    "# save general configs\n",
    "export_as(default_config, os.path.join(output_path, \"general_config.yaml\"), save_type='yaml')"
   ]
  },
  {
   "cell_type": "code",
   "execution_count": 19,
   "metadata": {
    "ExecuteTime": {
     "end_time": "2024-03-27T10:52:52.686877Z",
     "start_time": "2024-03-27T10:52:52.670298Z"
    },
    "collapsed": false,
    "jupyter": {
     "outputs_hidden": false
    }
   },
   "outputs": [],
   "source": [
    "# save results dataframe\n",
    "results.get_dataframe().to_csv(os.path.join(output_path, \"results.csv\"), index=None)"
   ]
  },
  {
   "cell_type": "code",
   "execution_count": 20,
   "metadata": {
    "ExecuteTime": {
     "end_time": "2024-03-27T10:52:52.701882Z",
     "start_time": "2024-03-27T10:52:52.689919Z"
    },
    "collapsed": false,
    "jupyter": {
     "outputs_hidden": false
    }
   },
   "outputs": [],
   "source": [
    "# for each trial save results\n",
    "for result in results:\n",
    "    # get metrics\n",
    "    trial_metrics = result.metrics_dataframe\n",
    "\n",
    "    # get trial id\n",
    "    trial_id = trial_metrics.trial_id[0]\n",
    "\n",
    "    # get config\n",
    "    trial_config = result.config\n",
    "\n",
    "    # saving\n",
    "    trial_metrics.to_csv(os.path.join(output_path, f\"{trial_id}.csv\"), index=None)\n",
    "    export_as(trial_config, os.path.join(output_path, f\"{trial_id}.yaml\"), save_type='yaml')"
   ]
  },
  {
   "cell_type": "code",
   "execution_count": null,
   "metadata": {
    "collapsed": false,
    "jupyter": {
     "outputs_hidden": false
    }
   },
   "outputs": [],
   "source": []
  }
 ],
 "metadata": {
  "kernelspec": {
   "display_name": "Python 3 (ipykernel)",
   "language": "python",
   "name": "python3"
  },
  "language_info": {
   "codemirror_mode": {
    "name": "ipython",
    "version": 3
   },
   "file_extension": ".py",
   "mimetype": "text/x-python",
   "name": "python",
   "nbconvert_exporter": "python",
   "pygments_lexer": "ipython3",
   "version": "3.9.19"
  }
 },
 "nbformat": 4,
 "nbformat_minor": 4
}
